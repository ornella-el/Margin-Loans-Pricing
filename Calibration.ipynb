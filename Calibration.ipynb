{
 "cells": [
  {
   "cell_type": "markdown",
   "source": [
    "# Calibration of Black and Scholes, Merton, Kou, Variance Gamma parameters\n",
    "This notebook aims to find the optimal parameters of **Black-Scholes**, **Merton Jump Diffusion**, **Kou Jump Diffusion** and **Variance Gamma** models. To do so, we compute the european option prices using **closed formulas**, available for all the 4 models, and the **Fast Fourier Transform** for the VG model. Given these theoretical prices, the **implied volatilities** are computed comparing them with real market prices, minimizing their difference. Then we estimate the additional parameters of each model, using the python module `scipy.optimize`.\n"
   ],
   "metadata": {
    "collapsed": false
   }
  },
  {
   "cell_type": "code",
   "execution_count": 1,
   "metadata": {
    "collapsed": true
   },
   "outputs": [],
   "source": [
    "from functions.MERTONpricer import Merton_pricer\n",
    "from functions.BSpricer import BS_pricer\n",
    "from functions.KOUpricer import Kou_pricer\n",
    "from functions.VGpricer import VG_pricer\n",
    "\n",
    "import numpy as np\n",
    "import pandas as pd\n",
    "import matplotlib.pyplot as plt\n",
    "import random\n",
    "import scipy as scp\n",
    "import scipy.stats as ss\n",
    "import scipy.optimize as scpo\n",
    "\n",
    "random.seed(100)"
   ]
  },
  {
   "cell_type": "markdown",
   "source": [
    "Let's start retrieving historical prices for **european call** and **put** options starting from date **2016-01-20** and expiring **1 year** later. All the data have been collected from [OptionsDX](https://www.optionsdx.com/shop/) and preprocessed in `plainvanilla.py` module. Only options such that\n",
    "$$ K = S0 \\pm 1200 $$ have been selected."
   ],
   "metadata": {
    "collapsed": false
   }
  },
  {
   "cell_type": "code",
   "execution_count": 2,
   "outputs": [
    {
     "name": "stdout",
     "output_type": "stream",
     "text": [
      "NUM OF CALL OPTS: 83\n",
      "   QUOTE_DATE  UNDERLYING_LAST EXPIRE_DATE    C_BID    C_ASK  STRIKE\n",
      "0  2016-01-20          1859.48  2017-01-20  1119.61  1125.01   700.0\n",
      "1  2016-01-20          1859.48  2017-01-20  1071.51  1076.80   750.0\n",
      "2  2016-01-20          1859.48  2017-01-20  1023.00  1028.30   800.0\n",
      "3  2016-01-20          1859.48  2017-01-20   998.40  1003.60   825.0\n",
      "4  2016-01-20          1859.48  2017-01-20   974.29   979.51   850.0\n",
      "NUM OF PUT OPTS: 83\n",
      "    QUOTE_DATE  UNDERLYING_LAST EXPIRE_DATE    P_BID    P_ASK  STRIKE\n",
      "78  2016-01-20          1859.48  2017-01-20   958.80   964.10  2800.0\n",
      "79  2016-01-20          1859.48  2017-01-20  1007.99  1013.29  2850.0\n",
      "80  2016-01-20          1859.48  2017-01-20  1057.50  1062.90  2900.0\n",
      "81  2016-01-20          1859.48  2017-01-20  1107.01  1112.50  2950.0\n",
      "82  2016-01-20          1859.48  2017-01-20  1156.49  1162.01  3000.0\n"
     ]
    }
   ],
   "source": [
    "df_call = pd.read_csv('data/options_spx_call_2016.csv')\n",
    "df_put = pd.read_csv('data/options_spx_put_2016.csv')\n",
    "print(f'NUM OF CALL OPTS: {df_call.shape[0]}')\n",
    "print(df_call.head(5))\n",
    "print(f'NUM OF PUT OPTS: {df_put.shape[0]}')\n",
    "print(df_put.tail(5))"
   ],
   "metadata": {
    "collapsed": false
   }
  },
  {
   "cell_type": "markdown",
   "source": [
    "The dataframes **df_calls** and **df_put** contain both 83 options sorted by strike price. For our purpose, using the $25\\%$ of these DFs is enough and can lead to very good results. Thus, we sample the rows and then reformulate the dataframes adding **Midpoint** and **Spread** columns."
   ],
   "metadata": {
    "collapsed": false
   }
  },
  {
   "cell_type": "code",
   "execution_count": 3,
   "outputs": [],
   "source": [
    "calls = df_call.sample(frac=0.25, replace=False).sort_index()\n",
    "puts = df_put.sample(frac=0.25, replace=False).sort_index()\n",
    "\n",
    "calls['C_Midpoint'] = abs(calls['C_BID'] + calls['C_ASK']) / 2\n",
    "puts['P_Midpoint'] = abs(puts['P_BID'] + puts['P_ASK']) / 2\n",
    "calls['C_Spread'] = calls['C_BID'] - calls['C_ASK']\n",
    "puts['P_Spread'] = puts['P_BID'] - puts['P_ASK']\n",
    "\n",
    "q = 0           # dividend yield\n",
    "r = 0.05        # risk-free interest rate\n",
    "sigma = 0.2     #volatility (variance of diffusion process)\n",
    "S0 = calls.iloc[0]['UNDERLYING_LAST']\n",
    "T = 1           # time-to-maturity\n",
    "call_strikes = calls['STRIKE']    # array of K for call options\n",
    "put_strikes = puts['STRIKE']      # array of K for put options\n",
    "exercise = 'european'\n",
    "\n",
    "call_prices = calls['C_Midpoint']\n",
    "put_prices = puts['P_Midpoint']"
   ],
   "metadata": {
    "collapsed": false
   }
  },
  {
   "cell_type": "markdown",
   "source": [
    "The following code snippet initializes objects of class *BS_pricer*, *Merton_pricer*, *Kou_pricer*, *VG_pricer* with default values as parameters. Then it computes the theoretical call prices using closed formulas of each 4 models, with strike prices given by the *call_strikes* array. Additionally, we use the **Midpoint** price as the option market prices."
   ],
   "metadata": {
    "collapsed": false
   }
  },
  {
   "cell_type": "code",
   "execution_count": 4,
   "outputs": [
    {
     "name": "stdout",
     "output_type": "stream",
     "text": [
      "Theoretical call options prices:\n",
      "    Strike BlackScholes       Merton          Kou VarianceGamma\n",
      "0    700.0  1193.619409  1193.662047  1193.840257   1193.619403\n",
      "3    825.0  1074.716134  1074.891108  1075.268193   1074.715726\n",
      "9    975.0   932.047993   932.740028   933.432744    932.031459\n",
      "10  1000.0   908.278259   909.123672   909.864135    908.250865\n",
      "14  1100.0   813.291623   815.028771   815.869775    813.131126\n",
      "17  1175.0   742.285318   745.015489   745.742405    741.803766\n",
      "21  1275.0   648.409713   652.795804   652.896205    646.792567\n",
      "24  1350.0   579.182158   584.793841   583.907376    575.793407\n",
      "27  1425.0   511.673419   518.090618   515.681469    505.463627\n",
      "29  1475.0   468.008771   474.498455   470.784711    459.356563\n",
      "30  1500.0   446.672996   453.007313   448.569588    436.674643\n",
      "37  1675.0   309.475546   310.215128   300.525117    290.574452\n",
      "39  1725.0   274.989921   272.764557   262.010597    254.660569\n",
      "40  1750.0   258.637221   254.783093   243.650099    237.883597\n",
      "43  1825.0   213.281349    204.30855   192.759662    192.433935\n",
      "50  2000.0   129.313992   110.972364   102.379545    113.589802\n",
      "51  2025.0   119.727991   100.684852    92.805531    105.085153\n",
      "52  2050.0   110.705552    91.152713    84.013905     97.176231\n",
      "56  2150.0    79.889449    60.135145    55.946007     70.840934\n",
      "67  2425.0    29.604018    18.238294    18.916877     29.483936\n",
      "76  2700.0     9.773533     6.225321      7.60931     12.471183\n"
     ]
    }
   ],
   "source": [
    "BS = BS_pricer(S0=S0, r=r, q = q, sigma=sigma, ttm=T, exercise=exercise, K=None)\n",
    "Merton = Merton_pricer(S0=S0, K=None, ttm=T, r=0.05, q = q, sigma=0.12, lambd=0.5, meanJ=-0.1, stdJ=0.2, exercise=exercise)\n",
    "Kou = Kou_pricer(S0=S0, K=None, ttm=T, r=r, sigma=0.12, lambd=0.5, p=0.6, eta1=10, eta2=5, exercise=exercise)\n",
    "VG = VG_pricer(S0, K=None, ttm=T, r=r, q=q, sigma=0.15, theta=-0.2, nu=0.2, exercise=exercise)\n",
    "\n",
    "call_th_prices = pd.DataFrame(columns=['Strike','BlackScholes', 'Merton', 'Kou', 'VarianceGamma'])\n",
    "call_th_prices['Strike'] = call_strikes\n",
    "\n",
    "for i, K in enumerate(call_strikes):\n",
    "    bs = BS.closed_formula_call(K)\n",
    "    mert = Merton.closed_formula_call(K)\n",
    "    kou = Kou.closed_formula_call(K)\n",
    "    vg = VG.closed_formula_call(K)\n",
    "    call_th_prices.iloc[i, 1:] = [bs, mert, kou, vg]\n",
    "\n",
    "print(f'Theoretical call options prices:')\n",
    "print(call_th_prices)"
   ],
   "metadata": {
    "collapsed": false
   }
  },
  {
   "cell_type": "markdown",
   "source": [
    "Same for put prices."
   ],
   "metadata": {
    "collapsed": false
   }
  },
  {
   "cell_type": "code",
   "execution_count": 5,
   "outputs": [
    {
     "name": "stdout",
     "output_type": "stream",
     "text": [
      "Theoretical put options prices:\n",
      "    Strike BlackScholes      Merton         Kou VarianceGamma\n",
      "0    700.0     0.000006    0.042644    0.220854           0.0\n",
      "1    750.0     0.000037    0.077622    0.324627           0.0\n",
      "2    800.0     0.000193    0.135014    0.465343      0.000001\n",
      "4    850.0     0.000833    0.225735    0.652524      0.000003\n",
      "7    925.0     0.005556    0.458208    1.045308      0.000036\n",
      "11  1025.0     0.044749    1.069307    1.851279      0.000558\n",
      "12  1050.0     0.070572      1.3023    2.116929      0.001049\n",
      "15  1125.0     0.242293    2.279595     3.10716      0.006186\n",
      "18  1200.0     0.699559     3.81774    4.448367      0.030726\n",
      "23  1325.0     3.001581    8.230003    7.729676      0.312778\n",
      "35  1625.0      32.4843   35.649149   27.332747      15.69148\n",
      "44  1850.0    99.712742   89.064153    77.62683     79.202353\n",
      "46  1900.0   121.438635  107.674722   96.815023    102.071386\n",
      "48  1950.0   145.655528  129.272884  119.397796     127.93541\n",
      "49  1975.0   158.677458  141.225508  131.962071    141.921367\n",
      "56  2150.0   265.552712  245.798408   241.60927    256.504196\n",
      "68  2450.0   497.914537  487.454846  488.310567    498.269522\n",
      "70  2500.0   540.699272  531.963572  533.080507    541.850396\n",
      "72  2550.0   584.268639   577.10343  578.380747    586.028595\n",
      "73  2575.0   606.311606  599.865486  601.193186    608.313009\n",
      "79  2850.0   856.663155  855.216813    856.4594    859.427648\n"
     ]
    }
   ],
   "source": [
    "put_th_prices = pd.DataFrame(columns=['Strike','BlackScholes', 'Merton', 'Kou', 'VarianceGamma'])\n",
    "put_th_prices['Strike'] = put_strikes\n",
    "\n",
    "for i, K in enumerate(put_strikes):\n",
    "    bs = BS.closed_formula_put(K)\n",
    "    mert = Merton.closed_formula_put(K)\n",
    "    kou = Kou.closed_formula_put(K)\n",
    "    vg = VG.closed_formula_put(K)\n",
    "    put_th_prices.iloc[i, 1:] = [bs, mert, kou, vg]\n",
    "\n",
    "print(f'Theoretical put options prices:')\n",
    "print(put_th_prices)"
   ],
   "metadata": {
    "collapsed": false
   }
  },
  {
   "cell_type": "markdown",
   "source": [
    "### Variance Gamma Fast Fourier Transform\n",
    "Let's now compare the Closed Forms with the Fast Fourier Transform method for the Variance Gamma model for both call and put options.  The FFT method is explained by Carr, Madan, Chang 1998: *The Variance Gamma Process and Option Pricing*."
   ],
   "metadata": {
    "collapsed": false
   }
  },
  {
   "cell_type": "code",
   "execution_count": 6,
   "outputs": [
    {
     "name": "stdout",
     "output_type": "stream",
     "text": [
      "K=700.0, CF:1193.6194028637115, FFT:1193.621720743016\n",
      "K=825.0, CF:1074.7157262941423, FFT:1074.7327620712704\n",
      "K=975.0, CF:932.0314585935862, FFT:932.1530276419775\n",
      "K=1000.0, CF:908.2508654846026, FFT:908.4134863097016\n",
      "K=1100.0, CF:813.1311255725934, FFT:813.6071542996822\n",
      "K=1175.0, CF:741.8037660696036, FFT:742.779246483399\n",
      "K=1275.0, CF:646.7925668537832, FFT:649.0547556780375\n",
      "K=1350.0, CF:575.7934067767901, FFT:579.6652227133131\n",
      "K=1425.0, CF:505.4636271748957, FFT:511.50185790186333\n",
      "K=1475.0, CF:459.35656287404277, FFT:467.0035885222487\n",
      "K=1500.0, CF:436.67464322706974, FFT:445.10751832962296\n",
      "K=1675.0, CF:290.5744516808679, FFT:301.0196597538211\n",
      "K=1725.0, CF:254.6605690291201, FFT:263.720538995354\n",
      "K=1750.0, CF:237.88359747566778, FFT:245.87259132310305\n",
      "K=1825.0, CF:192.4339346480873, FFT:195.88807972259565\n",
      "K=2000.0, CF:113.58980169305914, FFT:102.91071946216755\n",
      "K=2025.0, CF:105.08515336925382, FFT:92.52314767687085\n",
      "K=2050.0, CF:97.17623119998291, FFT:82.86322717358189\n",
      "K=2150.0, CF:70.84093370048981, FFT:51.241379424820934\n",
      "K=2425.0, CF:29.483935945213034, FFT:10.035653510071057\n",
      "K=2700.0, CF:12.47118301592431, FFT:1.4659299704950328\n"
     ]
    }
   ],
   "source": [
    "c_vg_fft = VG.FFT_call(call_strikes)\n",
    "\n",
    "for k, a, b in zip(call_strikes, call_th_prices['VarianceGamma'], c_vg_fft):\n",
    "    print(f'K={k}, CF:{a}, FFT:{b}')"
   ],
   "metadata": {
    "collapsed": false
   }
  },
  {
   "cell_type": "code",
   "execution_count": 7,
   "outputs": [
    {
     "name": "stdout",
     "output_type": "stream",
     "text": [
      "K=700.0, CF:1.4211195775715169e-08, FFT:0.0023178935158512104\n",
      "K=750.0, CF:1.0229211966361618e-07, FFT:0.005390577853745526\n",
      "K=800.0, CF:6.355965069815284e-07, FFT:0.01177524551735587\n",
      "K=850.0, CF:3.4655696481422638e-06, FFT:0.024332439226441238\n",
      "K=925.0, CF:3.5540507610676286e-05, FFT:0.06600698450893105\n",
      "K=1025.0, CF:0.0005575685053145207, FFT:0.21608633598634697\n",
      "K=1050.0, CF:0.0010491991865819728, FFT:0.28415458801782734\n",
      "K=1125.0, CF:0.006186026296063574, FFT:0.615781520762539\n",
      "K=1200.0, CF:0.03072590810802467, FFT:1.2497052902685937\n",
      "K=1325.0, CF:0.3127781568887258, FFT:3.5808950313937657\n",
      "K=1625.0, CF:15.691479579906627, FFT:26.515544896009942\n",
      "K=1850.0, CF:79.20235279257508, FFT:80.79585538853621\n",
      "K=1900.0, CF:102.07138624043387, FFT:99.63053937958921\n",
      "K=1950.0, CF:127.9354099708205, FFT:121.30240895119141\n",
      "K=1975.0, CF:141.9213667319284, FFT:133.22922539196884\n",
      "K=2150.0, CF:256.504196377025, FFT:236.9046421013561\n",
      "K=2450.0, CF:498.2695215271083, FFT:479.5285756304179\n",
      "K=2500.0, CF:541.8503959759125, FFT:524.6444114541773\n",
      "K=2550.0, CF:586.0285950419707, FFT:570.4326633418943\n",
      "K=2575.0, CF:608.3130090370234, FFT:593.5241352869839\n",
      "K=2850.0, CF:859.4276483292088, FFT:852.0146000837717\n"
     ]
    }
   ],
   "source": [
    "p_vg_fft = VG.FFT_put(put_strikes)\n",
    "\n",
    "for k, a, b in zip(put_strikes, put_th_prices['VarianceGamma'], p_vg_fft):\n",
    "    print(f'K={k}, CF:{a}, FFT:{b}')"
   ],
   "metadata": {
    "collapsed": false
   }
  },
  {
   "cell_type": "code",
   "execution_count": 8,
   "outputs": [
    {
     "data": {
      "text/plain": "<matplotlib.legend.Legend at 0x1d7b0e8ae20>"
     },
     "execution_count": 8,
     "metadata": {},
     "output_type": "execute_result"
    },
    {
     "data": {
      "text/plain": "<Figure size 1600x400 with 2 Axes>",
      "image/png": "[encoded data removed]"
     },
     "metadata": {},
     "output_type": "display_data"
    }
   ],
   "source": [
    "fig = plt.figure(figsize=(16,4))\n",
    "ax1 = fig.add_subplot(121); ax2 = fig.add_subplot(122)\n",
    "ax1.plot(call_strikes, call_th_prices['VarianceGamma'], label='CF')\n",
    "ax1.plot(call_strikes, c_vg_fft, label='FFT')\n",
    "ax1.set_title('Call prices Closed Forms vs FFT'); ax1.set_xlabel('STRIKE'); ax1.set_ylabel('PRICE')\n",
    "# ax1.set_xlim([1400,2000]);ax1.set_ylim([0,800])\n",
    "\n",
    "ax2.plot(put_strikes, put_th_prices['VarianceGamma'], label='CF')\n",
    "ax2.plot(put_strikes, p_vg_fft, label='FFT')\n",
    "ax2.set_title('Put prices Closed Forms vs FFT'); ax2.set_xlabel('STRIKE'); ax2.set_ylabel('PRICE')\n",
    "ax1.legend(); ax2.legend()"
   ],
   "metadata": {
    "collapsed": false
   }
  },
  {
   "cell_type": "markdown",
   "source": [
    "## Implied volatility\n",
    "The function belows implements $3$ methods to compute implied volatility: [Newton](https://en.wikipedia.org/wiki/Newton%27s_method) method, the [Bisection](https://en.wikipedia.org/wiki/Bisection_method) method and a more advanced one, named [Brent](https://en.wikipedia.org/wiki/Brent%27s_method) method. Apart from the initial guess, there is no substantial difference in the final result between **Newton** and **bisection** methods (*fsolve*). The **Implied Volatility** is that value $\\sigma$ that must be inserted into the Black-Scholes (BS) formula in order to retrieve the option price quoted in the market:\n",
    "    $$ BS(S, K, T, r, \\sigma) = P,  $$\n",
    "where $S$ is the underlying spot price, $K$ is the strike, $T$ time to maturity, $r$ risk-free interest rate and $P$ the option price quoted in the market. All these quantities are **observable**.\n",
    "   "
   ],
   "metadata": {
    "collapsed": false
   }
  },
  {
   "cell_type": "code",
   "execution_count": 9,
   "outputs": [],
   "source": [
    "def implied_volatility(price, S, strike, t, rate, q, type_o, method='fsolve', disp=True ):\n",
    "    \"\"\" Returns Implied volatility\n",
    "        methods:  fsolve (default) or brent\n",
    "    \"\"\"\n",
    "\n",
    "    def obj_fun(vol):\n",
    "        return BS.BlackScholes(type_o=type_o, S0=S, K=strike, ttm=t, r=rate, q=q, sigma=vol) - price\n",
    "\n",
    "    def vega(vol):\n",
    "        return BS.vega(S, strike, rate, q, vol, t)\n",
    "\n",
    "    if method == 'brent':\n",
    "        x, res = scpo.brentq(obj_fun, a=1e-15, b=500, full_output=True)\n",
    "        if res.converged:\n",
    "            return x\n",
    "\n",
    "    if method =='fsolve':\n",
    "        X0 = [0.1, 0.5, 1, 3]        #initial guess points for imp.vol.\n",
    "        for x_0 in X0:\n",
    "            x, _, solved, _ = scpo.fsolve(obj_fun, x_0, full_output=True, xtol=1e-8)\n",
    "            if solved == 1:\n",
    "                return x[0]\n",
    "\n",
    "    if method == 'newton':\n",
    "        guess = 0.5\n",
    "        result = scpo.newton(obj_fun, guess, vega, tol=1e-4)\n",
    "        return result\n",
    "\n",
    "\n",
    "    if disp:\n",
    "        return -1"
   ],
   "metadata": {
    "collapsed": false
   }
  },
  {
   "cell_type": "markdown",
   "source": [
    "Therefore, we can compute the implied volatilities taking into account the theoretical **call prices**.."
   ],
   "metadata": {
    "collapsed": false
   }
  },
  {
   "cell_type": "code",
   "execution_count": 10,
   "outputs": [
    {
     "name": "stdout",
     "output_type": "stream",
     "text": [
      "Implied volatilities found by each model for call options:\n",
      "    Strike  BlackScholes    Merton       Kou  VarianceGamma\n",
      "0    700.0           0.2  0.310692  0.355674       0.168004\n",
      "1    825.0           0.2  0.294933  0.330065       0.161270\n",
      "2    975.0           0.2  0.277462  0.301361       0.154906\n",
      "3   1000.0           0.2  0.274692  0.296719       0.154028\n",
      "4   1100.0           0.2  0.263979  0.278406       0.151085\n",
      "5   1175.0           0.2  0.256232  0.264828       0.149534\n",
      "6   1275.0           0.2  0.246010  0.246770       0.148502\n",
      "7   1350.0           0.2  0.238191  0.233221       0.148647\n",
      "8   1425.0           0.2  0.230072  0.219793       0.149709\n",
      "9   1475.0           0.2  0.224461  0.211076       0.150967\n",
      "10  1500.0           0.2  0.221601  0.206847       0.151763\n",
      "11  1675.0           0.2  0.201456  0.181824       0.159910\n",
      "12  1725.0           0.2  0.196083  0.176659       0.162766\n",
      "13  1750.0           0.2  0.193536  0.174440       0.164229\n",
      "14  1825.0           0.2  0.186602  0.169169       0.168674\n",
      "15  2000.0           0.2  0.175264  0.163666       0.178796\n",
      "16  2025.0           0.2  0.174211  0.163507       0.180179\n",
      "17  2050.0           0.2  0.173292  0.163478       0.181544\n",
      "18  2150.0           0.2  0.170887  0.164539       0.186809\n",
      "19  2425.0           0.2  0.173007  0.174785       0.199739\n",
      "20  2700.0           0.2  0.183054  0.190182       0.210714\n"
     ]
    }
   ],
   "source": [
    "strikes = call_th_prices['Strike'].tolist(); IV_BS = []; IV_M = []; IV_K = []; IV_VG = []\n",
    "\n",
    "for i in range(len(call_th_prices)):\n",
    "    IV_BS.append(implied_volatility(call_th_prices['BlackScholes'].iloc[i], S=S0, strike=strikes[i], t=T, rate=r,q=q, type_o='call', method='newton') )\n",
    "    IV_M.append(implied_volatility(call_th_prices['Merton'].values[i], S=S0, strike = strikes[i], t=T, rate=r, q=q,  type_o='call', method='newton'))\n",
    "    IV_K.append(implied_volatility(call_th_prices['Kou'].values[i], S=S0, strike = strikes[i], t=T, rate=r, q=q,  type_o='call', method='newton'))\n",
    "    IV_VG.append(implied_volatility(call_th_prices['VarianceGamma'].values[i], S=S0, strike=strikes[i], t = T, rate=r, q=q, type_o='call', method='newton'))\n",
    "\n",
    "imp_vol_call = pd.DataFrame(columns=['Strike', 'BlackScholes', 'Merton', 'Kou', 'VarianceGamma'])\n",
    "imp_vol_call['Strike'] = strikes\n",
    "imp_vol_call['BlackScholes'] = IV_BS\n",
    "imp_vol_call['Merton'] = IV_M\n",
    "imp_vol_call['Kou'] = IV_K\n",
    "imp_vol_call['VarianceGamma'] = IV_VG\n",
    "\n",
    "print(f'Implied volatilities found by each model for call options:\\n{imp_vol_call}')"
   ],
   "metadata": {
    "collapsed": false
   }
  },
  {
   "cell_type": "markdown",
   "source": [
    "... and **put prices**."
   ],
   "metadata": {
    "collapsed": false
   }
  },
  {
   "cell_type": "code",
   "execution_count": 11,
   "outputs": [
    {
     "name": "stdout",
     "output_type": "stream",
     "text": [
      "Implied volatilities found by each model for put options:\n",
      "     Strike  BlackScholes    Merton       Kou  VarianceGamma\n",
      "0    700.0           0.2  0.310692  0.355674       0.168004\n",
      "1    750.0           0.2  0.304240  0.345192       0.165149\n",
      "2    800.0           0.2  0.297990  0.335036       0.162510\n",
      "3    850.0           0.2  0.291918  0.325155       0.160081\n",
      "4    925.0           0.2  0.283121  0.310748       0.156821\n",
      "5   1025.0           0.2  0.271961  0.292107       0.153206\n",
      "6   1050.0           0.2  0.269268  0.287520       0.152440\n",
      "7   1125.0           0.2  0.261377  0.273871       0.150501\n",
      "8   1200.0           0.2  0.253678  0.260314       0.149157\n",
      "9   1325.0           0.2  0.240825  0.237734       0.148502\n",
      "10  1625.0           0.2  0.207103  0.187949       0.157215\n",
      "11  1850.0           0.2  0.184553  0.167844       0.170154\n",
      "12  1900.0           0.2  0.180882  0.165775       0.173090\n",
      "13  1950.0           0.2  0.177788  0.164409       0.175975\n",
      "14  1975.0           0.2  0.176456  0.163964       0.177394\n",
      "15  2150.0           0.2  0.170887  0.164539       0.186809\n",
      "16  2450.0           0.2  0.173698  0.176078       0.200810\n",
      "17  2500.0           0.2  0.175257  0.178768       0.202907\n",
      "18  2550.0           0.2  0.177017  0.181560       0.204943\n",
      "19  2575.0           0.2  0.177959  0.182982       0.205939\n",
      "20  2850.0           0.2  0.189428  0.198632       0.216034\n"
     ]
    }
   ],
   "source": [
    "strikes = put_th_prices['Strike'].tolist(); IV_BS = []; IV_M = []; IV_K = []; IV_VG = []\n",
    "\n",
    "for i in range(len(put_prices)):\n",
    "    IV_BS.append(implied_volatility(put_th_prices['BlackScholes'].values[i], S=S0, strike=strikes[i], t=T, rate=r, q=q, type_o='put', method='newton' ) )\n",
    "    IV_M.append(implied_volatility(put_th_prices['Merton'].values[i], S=S0, strike = strikes[i], t=T, rate=r, q=q, type_o='put', method='fsolve'))\n",
    "    IV_K.append(implied_volatility(put_th_prices['Kou'].values[i], S=S0, strike = strikes[i], t=T, rate=r, q=q, type_o='put', method='fsolve'))\n",
    "    IV_VG.append(implied_volatility(put_th_prices['VarianceGamma'].values[i], S=S0, strike=strikes[i], t = T, rate=r, q=q, type_o='put', method='newton'))\n",
    "\n",
    "imp_vol_put = pd.DataFrame(columns=['Strike','BlackScholes', 'Merton', 'Kou', 'VarianceGamma'])\n",
    "imp_vol_put['Strike'] = strikes\n",
    "imp_vol_put['BlackScholes'] = IV_BS\n",
    "imp_vol_put['Merton'] = IV_M\n",
    "imp_vol_put['Kou'] = IV_K\n",
    "imp_vol_put['VarianceGamma'] = IV_VG\n",
    "\n",
    "print(f'Implied volatilities found by each model for put options:\\n {imp_vol_put}')"
   ],
   "metadata": {
    "collapsed": false
   }
  },
  {
   "cell_type": "code",
   "execution_count": 12,
   "outputs": [
    {
     "name": "stdout",
     "output_type": "stream",
     "text": [
      "Total absolute error IV from CALLS vs IV from PUTS: \n",
      "> BS:  2.574243725961267e-07\n",
      "> MERTON:  0.2651533728852656\n",
      "> KOU:  0.4068386741619859\n",
      "> VG:  0.16190127181923875\n"
     ]
    }
   ],
   "source": [
    "print('Total absolute error IV from CALLS vs IV from PUTS: ')\n",
    "print(f'> BS: ', np.linalg.norm(imp_vol_put['BlackScholes'] - imp_vol_call['BlackScholes'], 1))\n",
    "print(f'> MERTON: ', np.linalg.norm(imp_vol_put['Merton'] - imp_vol_call['Merton'], 1))\n",
    "print(f'> KOU: ', np.linalg.norm(imp_vol_put['Kou'] - imp_vol_call['Kou'], 1))\n",
    "print(f'> VG: ', np.linalg.norm(imp_vol_put['VarianceGamma'] - imp_vol_call['VarianceGamma'], 1))"
   ],
   "metadata": {
    "collapsed": false
   }
  },
  {
   "cell_type": "markdown",
   "source": [
    "##### Plot"
   ],
   "metadata": {
    "collapsed": false
   }
  },
  {
   "cell_type": "code",
   "execution_count": 13,
   "outputs": [
    {
     "data": {
      "text/plain": "<Figure size 1600x400 with 2 Axes>",
      "image/png": "[encoded data removed]"
     },
     "metadata": {},
     "output_type": "display_data"
    }
   ],
   "source": [
    "fig = plt.figure(figsize=(16,4))\n",
    "ax1 = fig.add_subplot(121); ax2 = fig.add_subplot(122)\n",
    "\n",
    "ax1.plot(call_strikes, call_th_prices['BlackScholes'], label=\"BS\"); ax1.plot(call_strikes, call_th_prices['Merton'], label=\"MERT\")\n",
    "ax1.plot(call_strikes, call_th_prices['Kou'], label=\"KOU\"); ax1.plot(call_strikes, call_th_prices['VarianceGamma'], label=\"VG\")\n",
    "ax1.set_title(\"Comparison of call prices\"); ax1.set_xlabel(\"Strike\"); ax1.set_ylabel(\"Price\")\n",
    "\n",
    "ax2.plot(call_strikes, imp_vol_call['BlackScholes'], label=\"BS\"); ax2.plot(call_strikes, imp_vol_call['Merton'], label=\"MERT\")\n",
    "ax2.plot(call_strikes, imp_vol_call['Kou'], label=\"KOU\"); ax2.plot(call_strikes, imp_vol_call['VarianceGamma'], label=\"VG\")\n",
    "ax2.set_title(\"Comparison of Implied volatilities\"); ax2.set_xlabel(\"Strike\"); ax2.set_ylabel(\"Imp Vol\")\n",
    "\n",
    "ax1.legend(); ax2.legend(); plt.show()"
   ],
   "metadata": {
    "collapsed": false
   }
  },
  {
   "cell_type": "markdown",
   "source": [
    "##  Calibration\n",
    "Let's step now into the calibration of model parameters. We test two functions of `scipy.optimize`:\n",
    "1. **curve_fit**, a least-squares curve fitting method which works both with and without bounds. When bounds are set it uses the [Trust Region Reflective (trf)](https://en.wikipedia.org/wiki/Trust_region) and the [Levemberg-Marquadt](https://en.wikipedia.org/wiki/Levenberg%E2%80%93Marquardt_algorithm) when they are not.\n",
    "2. **minimize(method='SLSQP')**, a constrained minimization problem which uses [Sequential Quadratic Programming](https://en.wikipedia.org/wiki/Sequential_quadratic_programming).\n",
    "First we initialize a starting point in the array $x_0 = [σ, λ, m, v]$, then we set\n",
    "\n",
    "### Merton Jump Diffusion\n",
    "The Merton Jump diffusion ones are the volatility $\\sigma$, the Poisson rate of jumps $\\lambda$, the mean rate of jump intensity $m$ and its variance rate $v$, assuming that the intensity of jumps follows a *Normal distribution*.\n"
   ],
   "metadata": {
    "collapsed": false
   }
  },
  {
   "cell_type": "code",
   "execution_count": 26,
   "outputs": [],
   "source": [
    "x0 = [0.15, 1, 0.1, 1] # initial guess: [σ, λ, m, v]\n",
    "bounds = ( [0, 1e-2, -10, 0.1], [np.inf, np.inf, 10, 5] )\n",
    "\n",
    "def f_Mert(x, sigma, lambd, meanJ, stdJ):\n",
    "    Mert = Merton_pricer(S0=S0, K=x, ttm=T, r=r, q=0, sigma=sigma, lambd=lambd, meanJ=meanJ, stdJ=stdJ, exercise=exercise)\n",
    "    return Mert.closed_formula_call(x)\n"
   ],
   "metadata": {
    "collapsed": false
   }
  },
  {
   "cell_type": "markdown",
   "source": [
    "##### Method 1. Bounds"
   ],
   "metadata": {
    "collapsed": false
   }
  },
  {
   "cell_type": "code",
   "execution_count": 27,
   "outputs": [
    {
     "name": "stdout",
     "output_type": "stream",
     "text": [
      "METHOD 1: CURVE_FIT (trf)\n",
      "> Calibrated Volatlity [σ] = 0.084 \t 8.4%\n",
      "> Calibrated Jump intensity [λ] =  0.28\n",
      "> Calibrated Jump Mean =  0.11\n",
      "> Calibrated Jump St. dev.  =  0.1\n"
     ]
    }
   ],
   "source": [
    "res1 = scpo.curve_fit(f_Mert, call_strikes, call_prices, p0=x0, bounds=bounds)\n",
    "\n",
    "sigt = round(res1[0][0],4)\n",
    "lambdt = round(res1[0][1],2)\n",
    "mt = round(res1[0][2],2)\n",
    "vt = round(res1[0][3],5)\n",
    "\n",
    "print('METHOD 1: CURVE_FIT (trf)')\n",
    "print(f'> Calibrated Volatlity [σ] = {sigt} \\t {sigt*100}%')\n",
    "print('> Calibrated Jump intensity [λ] = ', lambdt)\n",
    "print('> Calibrated Jump Mean = ', mt)\n",
    "print('> Calibrated Jump St. dev.  = ', vt)"
   ],
   "metadata": {
    "collapsed": false
   }
  },
  {
   "cell_type": "markdown",
   "source": [
    "##### Method 1. No bounds"
   ],
   "metadata": {
    "collapsed": false
   }
  },
  {
   "cell_type": "code",
   "execution_count": 28,
   "outputs": [
    {
     "name": "stdout",
     "output_type": "stream",
     "text": [
      "METHOD 1.2: CURVE_FIT (Levemberg-Marquadt, no bounds)\n",
      "> Calibrated Volatlity [σ] = -0.2283 \t -22.830000000000002%\n",
      "> Calibrated Jump intensity [λ] =  -0.06\n",
      "> Calibrated Jump Mean =  -49.69\n",
      "> Calibrated Jump St. dev.  =  9.84135\n"
     ]
    }
   ],
   "source": [
    "res1_2 = scpo.curve_fit(f_Mert, call_strikes, call_prices, p0=x0)\n",
    "\n",
    "sigt2 = round(res1_2[0][0],4)\n",
    "lambdt2 = round(res1_2[0][1],2)\n",
    "mt2 = round(res1_2[0][2],2)\n",
    "vt2 = round(res1_2[0][3],5)\n",
    "\n",
    "print('METHOD 1.2: CURVE_FIT (Levemberg-Marquadt, no bounds)')\n",
    "print(f'> Calibrated Volatlity [σ] = {sigt2} \\t {sigt2*100}%')\n",
    "print('> Calibrated Jump intensity [λ] = ', lambdt2)\n",
    "print('> Calibrated Jump Mean = ', mt2)\n",
    "print('> Calibrated Jump St. dev.  = ', vt2)"
   ],
   "metadata": {
    "collapsed": false
   }
  },
  {
   "cell_type": "markdown",
   "source": [
    "##### Method 2. Bounds"
   ],
   "metadata": {
    "collapsed": false
   }
  },
  {
   "cell_type": "code",
   "execution_count": 29,
   "outputs": [
    {
     "name": "stdout",
     "output_type": "stream",
     "text": [
      "> METHOD 2: MINIMIZE (SLSQP)\n",
      "Optimization terminated successfully\n",
      "Calibrated Volatility [σ] = 0.3\n",
      "Calibrated Jump Intensity [λ] = 0.8\n",
      "Calibrated Jump Mean [m] = -0.3\n",
      "Calibrated Jump St. dev. [v] = 0.4\n",
      "\n",
      "> METHOD 2: MINIMIZE (trust-constr)\n"
     ]
    },
    {
     "name": "stderr",
     "output_type": "stream",
     "text": [
      "c:\\users\\ornel\\appdata\\local\\programs\\python\\python38\\lib\\site-packages\\scipy\\optimize\\_hessian_update_strategy.py:182: UserWarning: delta_grad == 0.0. Check if the approximated function is linear. If the function is linear better results can be obtained by defining the Hessian as zero instead of using quasi-Newton approximations.\n",
      "  warn('delta_grad == 0.0. Check if the approximated '\n"
     ]
    },
    {
     "name": "stdout",
     "output_type": "stream",
     "text": [
      "Optimization terminated successfully\n",
      "Calibrated Volatility [σ] = 0.69033\n",
      "Calibrated Jump Intensity [λ] = 0.9\n",
      "Calibrated Jump Mean [m] = -0.36\n",
      "Calibrated Jump St. dev. [v] = 0.62\n"
     ]
    }
   ],
   "source": [
    "x0 = [0.3, 0.8, -0.3, 0.4]      # initial guess: [σ, λ, m, v]\n",
    "bounds = [(1e-6, 10), (0, 20), (-10, 10),  (0, 15)]\n",
    "\n",
    "# Define the objective function\n",
    "def obj_function(x, strikes, prices):\n",
    "    sigm, lamb, mean, std = x\n",
    "    Mert = Merton_pricer(S0=S0, K=strikes, ttm=T, r=r, q=0, sigma=sigm, lambd=lamb, meanJ=mean, stdJ=std, exercise=exercise)\n",
    "    return np.sum((Mert.closed_formula_call(K) - prices) ** 2)\n",
    "\n",
    "additional_args = (call_strikes, call_prices)\n",
    "\n",
    "print('> METHOD 2: MINIMIZE (SLSQP)')\n",
    "res2_1 = scpo.minimize(obj_function, x0, args=additional_args,  method='SLSQP', bounds=bounds, tol=1e-20)\n",
    "print(res2_1.message)\n",
    "sigt3, lambdt3, mt3, vt3 = res2_1.x\n",
    "\n",
    "# Print the results\n",
    "print('Calibrated Volatility [σ] =', round(sigt3, 5))\n",
    "print('Calibrated Jump Intensity [λ] =', round(lambdt3, 2))\n",
    "print('Calibrated Jump Mean [m] =', round(mt3, 2))\n",
    "print('Calibrated Jump St. dev. [v] =', round(vt3, 2))\n",
    "\n",
    "\n",
    "print('\\n> METHOD 2: MINIMIZE (trust-constr)')\n",
    "res2_2 = scpo.minimize(obj_function, x0, args=additional_args,  method='trust-constr', bounds=bounds, tol=1e-20)\n",
    "print(res2_1.message)\n",
    "sigt4, lambdt4, mt4, vt4 = res2_2.x\n",
    "\n",
    "# Print the results\n",
    "print('Calibrated Volatility [σ] =', round(sigt4, 5))\n",
    "print('Calibrated Jump Intensity [λ] =', round(lambdt4, 2))\n",
    "print('Calibrated Jump Mean [m] =', round(mt4, 2))\n",
    "print('Calibrated Jump St. dev. [v] =', round(vt4, 2))"
   ],
   "metadata": {
    "collapsed": false
   }
  },
  {
   "cell_type": "code",
   "execution_count": 30,
   "outputs": [
    {
     "name": "stdout",
     "output_type": "stream",
     "text": [
      "[0.084, 0.28, 0.11, 0.1]\n"
     ]
    }
   ],
   "source": [
    "mert_params = [sigt, lambdt, mt, vt]"
   ],
   "metadata": {
    "collapsed": false
   }
  },
  {
   "cell_type": "markdown",
   "source": [
    "### Kou Jump Diffusion"
   ],
   "metadata": {
    "collapsed": false
   }
  },
  {
   "cell_type": "code",
   "execution_count": 32,
   "outputs": [],
   "source": [
    "x0 = [0.1, 0.5, 0.4, 5, 5] # initial guess: [σ, λ, p, η_1, η_2]\n",
    "bounds = ( [0, 0, 0, 0, 0], [4, 10, 0.9,  10, 10] )\n",
    "\n",
    "def f_Kou(x, sigma, lambd, p, eta1, eta2):\n",
    "    KouJD = Kou_pricer(S0=S0, K=x, ttm=T, r=r, sigma=sigma, lambd=lambd, p=p, eta1=eta1, eta2=eta2, exercise=exercise)\n",
    "    return KouJD.closed_formula_call(x)"
   ],
   "metadata": {
    "collapsed": false
   }
  },
  {
   "cell_type": "markdown",
   "source": [
    "##### Method 1. TRF (Bounds)"
   ],
   "metadata": {
    "collapsed": false
   }
  },
  {
   "cell_type": "code",
   "execution_count": 35,
   "outputs": [
    {
     "name": "stdout",
     "output_type": "stream",
     "text": [
      "METHOD 1: CURVE_FIT (trf)\n",
      "> Calibrated Volatlity [σ] = 0.10369 \t 10.369%\n",
      "> Calibrated Jump intensity [λ] =  0.05\n",
      "> Calibrated Upward Jump probability [p] = 0.9, [q] = 0.1\n",
      "> Calibrated Rate of Exp. 1  [η_1] =  6.3\n",
      "> Calibrated Rate of Exp. 2  [η_2] =  10.0\n"
     ]
    }
   ],
   "source": [
    "res1 = scpo.curve_fit(f_Kou, call_strikes, call_prices, p0=x0, bounds=bounds)\n",
    "\n",
    "sigt = round(res1[0][0],5)\n",
    "lambdt = round(res1[0][1],2)\n",
    "pt = round(res1[0][2],2)\n",
    "eta1_t = round(res1[0][3],1)\n",
    "eta2_t = round(res1[0][4],1)\n",
    "\n",
    "print('METHOD 1: CURVE_FIT (trf)')\n",
    "print(f'> Calibrated Volatlity [σ] = {sigt} \\t {sigt*100}%')\n",
    "print('> Calibrated Jump intensity [λ] = ', lambdt)\n",
    "print(f'> Calibrated Upward Jump probability [p] = {pt}, [q] = {round(1-pt,2)}')\n",
    "print('> Calibrated Rate of Exp. 1  [η_1] = ', eta1_t)\n",
    "print('> Calibrated Rate of Exp. 2  [η_2] = ', eta2_t)"
   ],
   "metadata": {
    "collapsed": false
   }
  },
  {
   "cell_type": "markdown",
   "source": [
    "##### Method 2. Bounds"
   ],
   "metadata": {
    "collapsed": false
   }
  },
  {
   "cell_type": "code",
   "execution_count": 40,
   "outputs": [
    {
     "name": "stderr",
     "output_type": "stream",
     "text": [
      "C:\\Users\\ornel\\OneDrive\\Desktop\\TESI\\PythonProjects\\Margin-Loans-Pricing\\python-modules\\functions\\KOUpricer.py:121: RuntimeWarning: divide by zero encountered in scalar divide\n",
      "  self.I(k - 1, a - mu * T, -eta1, -1 / (sigma * np.sqrt(T)), -sigma * eta1 * np.sqrt(T))\n",
      "C:\\Users\\ornel\\OneDrive\\Desktop\\TESI\\PythonProjects\\Margin-Loans-Pricing\\python-modules\\functions\\KOUpricer.py:93: RuntimeWarning: invalid value encountered in scalar multiply\n",
      "  return -np.exp(alpha * c) / alpha * sum_i - (beta / alpha) ** (n + 1) * (np.sqrt(2 * np.pi) / beta) \\\n",
      "C:\\Users\\ornel\\OneDrive\\Desktop\\TESI\\PythonProjects\\Margin-Loans-Pricing\\python-modules\\functions\\KOUpricer.py:124: RuntimeWarning: divide by zero encountered in scalar divide\n",
      "  self.I(k - 1, a - mu * T, eta2, 1 / (sigma * np.sqrt(T)), -sigma * eta2 * np.sqrt(T))\n",
      "C:\\Users\\ornel\\OneDrive\\Desktop\\TESI\\PythonProjects\\Margin-Loans-Pricing\\python-modules\\functions\\KOUpricer.py:102: RuntimeWarning: invalid value encountered in scalar multiply\n",
      "  return -np.exp(alpha * c) / alpha * sum_i + (beta / alpha) ** (n + 1) * (np.sqrt(2 * np.pi) / beta) \\\n",
      "C:\\Users\\ornel\\OneDrive\\Desktop\\TESI\\PythonProjects\\Margin-Loans-Pricing\\python-modules\\functions\\KOUpricer.py:100: RuntimeWarning: invalid value encountered in scalar multiply\n",
      "  sum_i = sum_i + (beta / alpha) ** (n - i) * self.Hh(i, beta * c - delta)\n",
      "C:\\Users\\ornel\\OneDrive\\Desktop\\TESI\\PythonProjects\\Margin-Loans-Pricing\\python-modules\\functions\\KOUpricer.py:52: RuntimeWarning: invalid value encountered in scalar multiply\n",
      "  return (self.Hh(n - 2, x) - x * self.Hh(n - 1, x)) / n\n",
      "C:\\Users\\ornel\\OneDrive\\Desktop\\TESI\\PythonProjects\\Margin-Loans-Pricing\\python-modules\\functions\\KOUpricer.py:132: RuntimeWarning: divide by zero encountered in scalar divide\n",
      "  Y1 = np.exp((sigma * eta1) ** 2 * T / 2) / (sigma * np.sqrt(2 * np.pi * T)) * sump1\n",
      "C:\\Users\\ornel\\OneDrive\\Desktop\\TESI\\PythonProjects\\Margin-Loans-Pricing\\python-modules\\functions\\KOUpricer.py:133: RuntimeWarning: divide by zero encountered in scalar divide\n",
      "  Y2 = np.exp((sigma * eta2) ** 2 * T / 2) / (sigma * np.sqrt(2 * np.pi * T)) * sumq1\n",
      "C:\\Users\\ornel\\OneDrive\\Desktop\\TESI\\PythonProjects\\Margin-Loans-Pricing\\python-modules\\functions\\KOUpricer.py:134: RuntimeWarning: divide by zero encountered in scalar divide\n",
      "  Y3 = self.Pi(0, lambd) * scs.norm.cdf(-(a - mu * T) / (sigma * np.sqrt(T)))\n"
     ]
    },
    {
     "name": "stdout",
     "output_type": "stream",
     "text": [
      "METHOD 2: MINIMIZE (SLSQP)\n",
      "message: Optimization terminated successfully\n",
      "success:True\n",
      "> Calibrated Volatlity [σ] = 3.9976 \t 399.76%\n",
      "> Calibrated Jump intensity [λ] =  9.99\n",
      "> Calibrated Upward Jump probability [p] = 1.0, [q] = 0.0\n",
      "> Calibrated Rate of Exp. 1  [η_1] =  0.01\n",
      "> Calibrated Rate of Exp. 2  [η_2] =  0.01\n"
     ]
    },
    {
     "name": "stderr",
     "output_type": "stream",
     "text": [
      "c:\\users\\ornel\\appdata\\local\\programs\\python\\python38\\lib\\site-packages\\scipy\\optimize\\_hessian_update_strategy.py:182: UserWarning: delta_grad == 0.0. Check if the approximated function is linear. If the function is linear better results can be obtained by defining the Hessian as zero instead of using quasi-Newton approximations.\n",
      "  warn('delta_grad == 0.0. Check if the approximated '\n"
     ]
    },
    {
     "name": "stdout",
     "output_type": "stream",
     "text": [
      "METHOD 2: MINIMIZE (trust-constr)\n",
      "message: `xtol` termination condition is satisfied.\n",
      "success:True\n",
      "> Calibrated Volatlity [σ] = 0.8464 \t 84.64%\n",
      "> Calibrated Jump intensity [λ] =  0.81\n",
      "> Calibrated Upward Jump probability [p] = 0.58, [q] = 0.42\n",
      "> Calibrated Rate of Exp. 1  [η_1] =  7.92\n",
      "> Calibrated Rate of Exp. 2  [η_2] =  3.99\n"
     ]
    }
   ],
   "source": [
    "x0 = [0.1, 0.5, 0.5, 8, 4] # initial guess: [σ, λ, p, η_1, η_2]\n",
    "bounds = [(0, 4), (0, 10), (0, 1),  (1e-6, 10), (1e-6,10)]\n",
    "\n",
    "# Define the objective function\n",
    "def obj_function(x, strikes, prices):\n",
    "    sigm, lamb, p, eta1, eta2 = x\n",
    "    KouJD = Kou_pricer(S0=S0, K=strikes, ttm=T, r=r, sigma=sigm, lambd=lamb, p=p, eta1=eta1, eta2=eta2, exercise=exercise)\n",
    "    return np.sum((KouJD.closed_formula_call(K) - prices) ** 2)\n",
    "\n",
    "additional_args = (call_strikes, call_prices)\n",
    "\n",
    "res2 = scpo.minimize(obj_function, x0, args=additional_args,  method='SLSQP', bounds=bounds, tol=1e-20)\n",
    "print('METHOD 2: MINIMIZE (SLSQP)'); print(f'message: {res2.message}\\nsuccess:{res2.success}')\n",
    "\n",
    "sigt2, lambdt2, pt2, eta1_t2, eta2_t2 = res2.x\n",
    "\n",
    "print(f'> Calibrated Volatlity [σ] = {round(sigt2,4)} \\t {round(sigt2*100,2)}%')\n",
    "print('> Calibrated Jump intensity [λ] = ', round(lambdt2,2))\n",
    "print(f'> Calibrated Upward Jump probability [p] = {round(pt2,2)}, [q] = {round(1-pt2,2)}')\n",
    "print('> Calibrated Rate of Exp. 1  [η_1] = ', round(eta1_t2,2))\n",
    "print('> Calibrated Rate of Exp. 2  [η_2] = ', round(eta2_t2,2))\n",
    "\n",
    "res3 = scpo.minimize(obj_function, x0, args=additional_args,  method='trust-constr', bounds=bounds, tol=1e-20)\n",
    "print('METHOD 2: MINIMIZE (trust-constr)'); print(f'message: {res3.message}\\nsuccess:{res3.success}')\n",
    "\n",
    "sigt3, lambdt3, pt3, eta1_t3, eta2_t3 = res3.x\n",
    "\n",
    "print(f'> Calibrated Volatlity [σ] = {round(sigt3,4)} \\t {round(sigt3*100,2)}%')\n",
    "print('> Calibrated Jump intensity [λ] = ', round(lambdt3,2))\n",
    "print(f'> Calibrated Upward Jump probability [p] = {round(pt3,2)}, [q] = {round(1-pt3,2)}')\n",
    "print('> Calibrated Rate of Exp. 1  [η_1] = ', round(eta1_t3,2))\n",
    "print('> Calibrated Rate of Exp. 2  [η_2] = ', round(eta2_t3,2))"
   ],
   "metadata": {
    "collapsed": false
   }
  },
  {
   "cell_type": "markdown",
   "source": [
    "The following code snippet samples a subset of observations in order to speed up the estimation of parameters in Kou's model."
   ],
   "metadata": {
    "collapsed": false
   }
  },
  {
   "cell_type": "code",
   "execution_count": 41,
   "outputs": [
    {
     "name": "stdout",
     "output_type": "stream",
     "text": [
      "(array([7.08053722e-02, 2.50690600e-01, 1.00000000e+00, 1.00000000e+01,\n",
      "       3.02477179e-04]), array([[ 2.77447894e-01, -3.07789054e+00,  6.72359895e-02,\n",
      "        -4.12884625e+01,  0.00000000e+00],\n",
      "       [-3.07789054e+00,  9.31752178e+01, -4.09406708e-01,\n",
      "         1.57706929e+03,  0.00000000e+00],\n",
      "       [ 6.72359895e-02, -4.09406708e-01,  3.50628824e-02,\n",
      "        -4.09504837e+00,  0.00000000e+00],\n",
      "       [-4.12884625e+01,  1.57706929e+03, -4.09504837e+00,\n",
      "         2.78937327e+04,  0.00000000e+00],\n",
      "       [ 0.00000000e+00,  0.00000000e+00,  0.00000000e+00,\n",
      "         0.00000000e+00,  0.00000000e+00]]))\n"
     ]
    },
    {
     "name": "stderr",
     "output_type": "stream",
     "text": [
      "C:\\Users\\ornel\\OneDrive\\Desktop\\TESI\\PythonProjects\\Margin-Loans-Pricing\\python-modules\\functions\\KOUpricer.py:121: RuntimeWarning: divide by zero encountered in scalar divide\n",
      "  self.I(k - 1, a - mu * T, -eta1, -1 / (sigma * np.sqrt(T)), -sigma * eta1 * np.sqrt(T))\n",
      "C:\\Users\\ornel\\OneDrive\\Desktop\\TESI\\PythonProjects\\Margin-Loans-Pricing\\python-modules\\functions\\KOUpricer.py:93: RuntimeWarning: invalid value encountered in scalar multiply\n",
      "  return -np.exp(alpha * c) / alpha * sum_i - (beta / alpha) ** (n + 1) * (np.sqrt(2 * np.pi) / beta) \\\n",
      "C:\\Users\\ornel\\OneDrive\\Desktop\\TESI\\PythonProjects\\Margin-Loans-Pricing\\python-modules\\functions\\KOUpricer.py:124: RuntimeWarning: divide by zero encountered in scalar divide\n",
      "  self.I(k - 1, a - mu * T, eta2, 1 / (sigma * np.sqrt(T)), -sigma * eta2 * np.sqrt(T))\n",
      "C:\\Users\\ornel\\OneDrive\\Desktop\\TESI\\PythonProjects\\Margin-Loans-Pricing\\python-modules\\functions\\KOUpricer.py:102: RuntimeWarning: invalid value encountered in scalar multiply\n",
      "  return -np.exp(alpha * c) / alpha * sum_i + (beta / alpha) ** (n + 1) * (np.sqrt(2 * np.pi) / beta) \\\n",
      "C:\\Users\\ornel\\OneDrive\\Desktop\\TESI\\PythonProjects\\Margin-Loans-Pricing\\python-modules\\functions\\KOUpricer.py:100: RuntimeWarning: invalid value encountered in scalar multiply\n",
      "  sum_i = sum_i + (beta / alpha) ** (n - i) * self.Hh(i, beta * c - delta)\n",
      "C:\\Users\\ornel\\OneDrive\\Desktop\\TESI\\PythonProjects\\Margin-Loans-Pricing\\python-modules\\functions\\KOUpricer.py:52: RuntimeWarning: invalid value encountered in scalar multiply\n",
      "  return (self.Hh(n - 2, x) - x * self.Hh(n - 1, x)) / n\n",
      "C:\\Users\\ornel\\OneDrive\\Desktop\\TESI\\PythonProjects\\Margin-Loans-Pricing\\python-modules\\functions\\KOUpricer.py:132: RuntimeWarning: divide by zero encountered in scalar divide\n",
      "  Y1 = np.exp((sigma * eta1) ** 2 * T / 2) / (sigma * np.sqrt(2 * np.pi * T)) * sump1\n",
      "C:\\Users\\ornel\\OneDrive\\Desktop\\TESI\\PythonProjects\\Margin-Loans-Pricing\\python-modules\\functions\\KOUpricer.py:133: RuntimeWarning: divide by zero encountered in scalar divide\n",
      "  Y2 = np.exp((sigma * eta2) ** 2 * T / 2) / (sigma * np.sqrt(2 * np.pi * T)) * sumq1\n",
      "C:\\Users\\ornel\\OneDrive\\Desktop\\TESI\\PythonProjects\\Margin-Loans-Pricing\\python-modules\\functions\\KOUpricer.py:134: RuntimeWarning: divide by zero encountered in scalar divide\n",
      "  Y3 = self.Pi(0, lambd) * scs.norm.cdf(-(a - mu * T) / (sigma * np.sqrt(T)))\n"
     ]
    },
    {
     "name": "stdout",
     "output_type": "stream",
     "text": [
      " message: Inequality constraints incompatible\n",
      " success: False\n",
      "  status: 4\n",
      "     fun: 0.0\n",
      "       x: [ 0.000e+00  1.000e+01  1.000e+00  1.704e+01  1.992e+01]\n",
      "     nit: 3\n",
      "     jac: [ 8.429e+13 -0.000e+00 -0.000e+00  0.000e+00  0.000e+00]\n",
      "    nfev: 19\n",
      "    njev: 3\n"
     ]
    }
   ],
   "source": [
    "# Sample of rows of the call dataframe\n",
    "call_resized = calls.sample(n=6).sort_index()\n",
    "c_strikes_resized = call_resized['STRIKE']\n",
    "c_prices_resized = call_resized['C_Midpoint']\n",
    "\n",
    "x0 = [0.1, 0.5, 0.5, 8, 4] # initial guess: [σ, λ, p, η_1, η_2]\n",
    "\n",
    "bounds1 = ( [0, 0, 0, 1e-9, 1e-9], [4, 10, 1,  10, 10] )\n",
    "res1 = scpo.curve_fit(f_Kou, c_strikes_resized, c_prices_resized, p0=x0, bounds=bounds1)\n",
    "print(res1[0])\n",
    "\n",
    "bounds2 = [(0, 4), (0, 10), (0, 1),  (1e-9, 20), (1e-9,20)]\n",
    "additional_args = (c_strikes_resized, c_prices_resized)\n",
    "res2 = scpo.minimize(obj_function, x0, args=additional_args,  method='SLSQP', bounds=bounds2, tol=1e-20)\n",
    "print(res2)"
   ],
   "metadata": {
    "collapsed": false
   }
  },
  {
   "cell_type": "code",
   "execution_count": 42,
   "outputs": [],
   "source": [
    "kou_params = [sigt, lambdt, pt, eta1_t, eta2_t]"
   ],
   "metadata": {
    "collapsed": false
   }
  },
  {
   "cell_type": "markdown",
   "source": [
    "### Variance Gamma\n"
   ],
   "metadata": {
    "collapsed": false
   }
  },
  {
   "cell_type": "code",
   "execution_count": 43,
   "outputs": [],
   "source": [
    "x0 = [0.2, -0.05, 0.1]   # initial guess: [σ, θ, v]\n",
    "bounds = ( [1e-2, -10, 0], [5, 10, 20] )"
   ],
   "metadata": {
    "collapsed": false
   }
  },
  {
   "cell_type": "markdown",
   "source": [
    "##### Method 1. Bounds (TRF)"
   ],
   "metadata": {
    "collapsed": false
   }
  },
  {
   "cell_type": "code",
   "execution_count": 54,
   "outputs": [
    {
     "name": "stderr",
     "output_type": "stream",
     "text": [
      "C:\\Users\\ornel\\OneDrive\\Desktop\\TESI\\PythonProjects\\Margin-Loans-Pricing\\python-modules\\functions\\VGpricer.py:50: RuntimeWarning: overflow encountered in exp\n",
      "  f = lambda u: ss.norm.cdf(a / np.sqrt(u) + b * np.sqrt(u)) * np.exp((g - 1) * np.log(u)) * np.exp(\n",
      "C:\\Users\\ornel\\OneDrive\\Desktop\\TESI\\PythonProjects\\Margin-Loans-Pricing\\python-modules\\functions\\VGpricer.py:50: RuntimeWarning: invalid value encountered in scalar multiply\n",
      "  f = lambda u: ss.norm.cdf(a / np.sqrt(u) + b * np.sqrt(u)) * np.exp((g - 1) * np.log(u)) * np.exp(\n",
      "C:\\Users\\ornel\\OneDrive\\Desktop\\TESI\\PythonProjects\\Margin-Loans-Pricing\\python-modules\\functions\\VGpricer.py:52: IntegrationWarning: The occurrence of roundoff error is detected, which prevents \n",
      "  the requested tolerance from being achieved.  The error may be \n",
      "  underestimated.\n",
      "  result = quad(f, 0, np.inf)\n",
      "C:\\Users\\ornel\\OneDrive\\Desktop\\TESI\\PythonProjects\\Margin-Loans-Pricing\\python-modules\\functions\\VGpricer.py:52: IntegrationWarning: Extremely bad integrand behavior occurs at some points of the\n",
      "  integration interval.\n",
      "  result = quad(f, 0, np.inf)\n"
     ]
    },
    {
     "name": "stdout",
     "output_type": "stream",
     "text": [
      "METHOD 1: CURVE_FIT (trf)\n",
      "> Calibrated Volatlity [σ] = 0.01, \t 1.0%\n",
      "> Calibrated mean rate gamma process [θ] =  -0.3\n",
      "> Calibrated variance rate gamma process [v]=  0.14\n"
     ]
    }
   ],
   "source": [
    "def f_VG(strikes, sigmax, thetax, nux):\n",
    "    VGamma = VG_pricer(S0=S0, K=None, ttm=T, r=r, q=0, sigma=sigmax, theta=thetax, nu=nux, exercise=exercise)\n",
    "    vg_prices = []\n",
    "    for k in strikes:\n",
    "        vg_prices.append(VGamma.closed_formula_call(k))\n",
    "    return vg_prices\n",
    "\n",
    "res1 = scpo.curve_fit(f_VG, call_strikes, call_prices, p0=x0, bounds=bounds)\n",
    "\n",
    "sigt = round(res1[0][0],5)\n",
    "thetat = round(res1[0][1],2)\n",
    "nut = round(res1[0][2],2)\n",
    "\n",
    "print('METHOD 1: CURVE_FIT (trf)');\n",
    "print(f'> Calibrated Volatlity [σ] = {sigt}, \\t {sigt*100}%')\n",
    "print('> Calibrated mean rate gamma process [θ] = ', thetat)\n",
    "print('> Calibrated variance rate gamma process [v]= ', nut)"
   ],
   "metadata": {
    "collapsed": false
   }
  },
  {
   "cell_type": "markdown",
   "source": [
    "##### Method 2. Bounds"
   ],
   "metadata": {
    "collapsed": false
   }
  },
  {
   "cell_type": "code",
   "execution_count": 55,
   "outputs": [
    {
     "name": "stdout",
     "output_type": "stream",
     "text": [
      "METHOD 2: MINIMIZE (SLSQP)\n",
      "message: Optimization terminated successfully\n",
      "success: True\n",
      "> Calibrated Volatlity [σ] = 0.1998 \t 19.98%\n",
      "> Calibrated mean rate gamma process [θ] =  10.69\n",
      "> Calibrated variance rate gamma process [v]=  494.69\n"
     ]
    },
    {
     "name": "stderr",
     "output_type": "stream",
     "text": [
      "c:\\users\\ornel\\appdata\\local\\programs\\python\\python38\\lib\\site-packages\\scipy\\optimize\\_optimize.py:353: RuntimeWarning: Values in x were outside bounds during a minimize step, clipping to bounds\n",
      "  warnings.warn(\"Values in x were outside bounds during a \"\n",
      "C:\\Users\\ornel\\OneDrive\\Desktop\\TESI\\PythonProjects\\Margin-Loans-Pricing\\python-modules\\functions\\VGpricer.py:67: RuntimeWarning: invalid value encountered in sqrt\n",
      "  call = self.S0 * Psy(d * np.sqrt((1 - c1) / self.nu), (alpha + s) * np.sqrt(self.nu / (1 - c1)),\n",
      "C:\\Users\\ornel\\OneDrive\\Desktop\\TESI\\PythonProjects\\Margin-Loans-Pricing\\python-modules\\functions\\VGpricer.py:69: RuntimeWarning: invalid value encountered in sqrt\n",
      "  Psy(d * np.sqrt((1 - c2) / self.nu), alpha * np.sqrt(self.nu / (1 - c2)), self.ttm / self.nu)\n",
      "c:\\users\\ornel\\appdata\\local\\programs\\python\\python38\\lib\\site-packages\\scipy\\optimize\\_hessian_update_strategy.py:182: UserWarning: delta_grad == 0.0. Check if the approximated function is linear. If the function is linear better results can be obtained by defining the Hessian as zero instead of using quasi-Newton approximations.\n",
      "  warn('delta_grad == 0.0. Check if the approximated '\n"
     ]
    },
    {
     "name": "stdout",
     "output_type": "stream",
     "text": [
      "METHOD 2: MINIMIZE (trust-constr)\n",
      "message: `xtol` termination condition is satisfied.\n",
      "success: True\n",
      "> Calibrated Volatlity [σ] = 0.7023 \t 70.23%\n",
      "> Calibrated mean rate gamma process [θ] =  -0.22\n",
      "> Calibrated variance rate gamma process [v]=  0.56\n"
     ]
    }
   ],
   "source": [
    "bounds2 = [(1e-9, 5), (-4, np.inf), (0, np.inf)]\n",
    "\n",
    "# Define the objective function\n",
    "def obj_function(x, strikes, prices):\n",
    "    sigm, theta, nu = x\n",
    "    VGx = VG_pricer(S0=S0, K=strikes, ttm=T, r=r, q=0, sigma=sigm, theta=theta, nu=nu, exercise=exercise)\n",
    "    return np.sum((VGx.closed_formula_call(K) - prices) ** 2)\n",
    "\n",
    "additional_args = (call_strikes, call_prices)\n",
    "\n",
    "# METHOD SEQUENTIAL LEAST SQUARES\n",
    "res2 = scpo.minimize(obj_function, x0, args=additional_args,  method='SLSQP', bounds=bounds2, tol=1e-20)\n",
    "print('METHOD 2: MINIMIZE (SLSQP)'); print(f'message: {res2.message}\\nsuccess: {res2.success}')\n",
    "sigt2, thetat2, nut2 = res2.x\n",
    "\n",
    "# Print the results\n",
    "print(f'> Calibrated Volatlity [σ] = {round(sigt2,4)} \\t {round(sigt2*100, 2)}%')\n",
    "print('> Calibrated mean rate gamma process [θ] = ', round(thetat2, 2))\n",
    "print('> Calibrated variance rate gamma process [v]= ', round(nut2,2))\n",
    "\n",
    "# METHOD TRUST REGION CONSTRAINED\n",
    "res3 = scpo.minimize(obj_function, x0, args=additional_args,  method='trust-constr', bounds=bounds2, tol=1e-20)\n",
    "print('METHOD 2: MINIMIZE (trust-constr)'); print(f'message: {res3.message}\\nsuccess: {res3.success}')\n",
    "sigt3, thetat3, nut3 = res3.x\n",
    "\n",
    "# Print the results\n",
    "print(f'> Calibrated Volatlity [σ] = {round(sigt3,4)} \\t {round(sigt3*100,2)}%')\n",
    "print('> Calibrated mean rate gamma process [θ] = ', round(thetat3,2))\n",
    "print('> Calibrated variance rate gamma process [v]= ', round(nut3,2))"
   ],
   "metadata": {
    "collapsed": false
   }
  },
  {
   "cell_type": "markdown",
   "source": [
    "##### Method 1 using FFT prices"
   ],
   "metadata": {
    "collapsed": false
   }
  },
  {
   "cell_type": "code",
   "execution_count": 56,
   "outputs": [
    {
     "name": "stdout",
     "output_type": "stream",
     "text": [
      "METHOD 1: CURVE_FIT (trf)\n",
      "> Calibrated Volatlity [σ] = 0.01 \t 1.0%\n",
      "> Calibrated mean rate gamma process [θ] =  -0.3\n",
      "> Calibrated variance rate gamma process [v]=  0.14\n"
     ]
    }
   ],
   "source": [
    "def f_VG_fft(strikes, sigmax, thetax, nux):\n",
    "    VGamma = VG_pricer(S0=S0, K=None, ttm=T, r=r, q=0, sigma=sigmax, theta=thetax, nu=nux, exercise=exercise)\n",
    "    return VGamma.FFT_call(strikes)\n",
    "\n",
    "res4 = scpo.curve_fit(f_VG_fft, call_strikes, call_prices, p0=x0, bounds=bounds)\n",
    "\n",
    "sigt4 = round(res1[0][0],5)\n",
    "thetat4 = round(res1[0][1],2)\n",
    "nut4 = round(res1[0][2],2)\n",
    "\n",
    "print('METHOD 1: CURVE_FIT (trf)')\n",
    "print(f'> Calibrated Volatlity [σ] = {round(sigt4,4)} \\t {round(sigt4*100,2)}%')\n",
    "print('> Calibrated mean rate gamma process [θ] = ', thetat4)\n",
    "print('> Calibrated variance rate gamma process [v]= ', nut4)"
   ],
   "metadata": {
    "collapsed": false
   }
  },
  {
   "cell_type": "code",
   "execution_count": null,
   "outputs": [],
   "source": [
    "vg_params = [sigt, thetat, nut]\n",
    "print(vg_params)"
   ],
   "metadata": {
    "collapsed": false
   }
  }
 ],
 "metadata": {
  "kernelspec": {
   "display_name": "Python 3",
   "language": "python",
   "name": "python3"
  },
  "language_info": {
   "codemirror_mode": {
    "name": "ipython",
    "version": 2
   },
   "file_extension": ".py",
   "mimetype": "text/x-python",
   "name": "python",
   "nbconvert_exporter": "python",
   "pygments_lexer": "ipython2",
   "version": "2.7.6"
  }
 },
 "nbformat": 4,
 "nbformat_minor": 0
}
