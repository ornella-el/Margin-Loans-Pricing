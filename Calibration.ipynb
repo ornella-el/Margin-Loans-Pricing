{
 "cells": [
  {
   "cell_type": "markdown",
   "source": [
    "## Calibration of model parameters (BLACK and SCHOLES, MERTON)\n",
    "The **Implied Volatility** is that value $\\\\sigma$ that must be inserted into the Black-Scholes (BS) formula in order to retrieve the option price quoted in the market:\n",
    "$$ BS(S, K, T, r, \\sigma) = P  $$\n",
    "where $S$ is the underlying spot price, $K$ is the strike, $T$ time to maturity, $r$ risk-free interest rate and $P$ the option price quoted in the market. All these quantities are **observable**.\n"
   ],
   "metadata": {
    "collapsed": false
   }
  },
  {
   "cell_type": "code",
   "execution_count": 2,
   "metadata": {
    "collapsed": true
   },
   "outputs": [],
   "source": [
    "from functions.MERTONpricer import Merton_pricer\n",
    "from functions.BSpricer import BS_pricer\n",
    "from functions.KOUpricer import Kou_pricer\n",
    "from functions.VGpricer import VG_pricer\n",
    "\n",
    "import numpy as np\n",
    "import pandas as pd\n",
    "import matplotlib.pyplot as plt\n",
    "import scipy as scp\n",
    "import scipy.stats as ss\n",
    "import scipy.optimize as scpo\n"
   ]
  },
  {
   "cell_type": "markdown",
   "source": [
    "Let's retrieve the historic prices for european call and put options starting from 2016-01-20 and expiring 1 year later."
   ],
   "metadata": {
    "collapsed": false
   }
  },
  {
   "cell_type": "code",
   "execution_count": 3,
   "outputs": [],
   "source": [
    "df_call = pd.read_csv('data/options_spx_call_2016.csv')\n",
    "df_put = pd.read_csv('data/options_spx_put_2016.csv')\n",
    "\n",
    "df_call['C_Midpoint'] = abs(df_call['C_BID'] + df_call['C_ASK']) / 2\n",
    "df_put['P_Midpoint'] = abs(df_put['P_BID'] + df_put['P_ASK']) / 2\n",
    "df_call['C_Spread'] = df_call['C_BID'] - df_call['C_ASK']\n",
    "df_put['P_Spread'] = df_put['P_BID'] - df_put['P_ASK']\n",
    "\n",
    "q = 0       # dividend yield\n",
    "r = 0.05     # risk-free interest rate\n",
    "sigma = 0.2 #volatility (variance of diffusion process)\n",
    "S0 = df_call.iloc[0]['UNDERLYING_LAST']\n",
    "T = 1\n",
    "call_strikes = df_call['STRIKE']    # array of K\n",
    "put_strikes = df_put['STRIKE']\n",
    "exercise = 'european'\n",
    "\n",
    "call_prices = df_call['C_Midpoint']\n",
    "put_prices = df_put['P_Midpoint']"
   ],
   "metadata": {
    "collapsed": false
   }
  },
  {
   "cell_type": "markdown",
   "source": [
    "Let's initialize an object of class BS_pricer which is able to find the theoretical price of the options, given the parameters."
   ],
   "metadata": {
    "collapsed": false
   }
  },
  {
   "cell_type": "code",
   "execution_count": 4,
   "outputs": [
    {
     "name": "stdout",
     "output_type": "stream",
     "text": [
      "Theoretical call options prices:\n",
      "    BlackScholes      Merton         Kou  VarianceGamma\n",
      "0     346.216485  345.099653  355.604762     352.647269\n",
      "1     327.574374  325.828950  336.255804     333.900461\n",
      "2     309.475546  307.042091  317.358849     315.619582\n",
      "3     291.941230  288.767724  298.948078     297.825558\n",
      "4     274.989921  271.033217  281.056622     280.538081\n",
      "5     258.637221  253.864264  263.715936     263.775415\n",
      "6     242.895724  237.284491  246.955207     247.554219\n",
      "7     227.774952  221.315093  230.800800     231.889380\n",
      "8     213.281349  205.974500  215.275774     216.793872\n",
      "9     199.418307  191.278090  200.399469     202.278621\n",
      "10    186.186247  177.237953  186.187197     188.352407\n",
      "11    173.582728  163.862719  172.650015     175.021776\n",
      "12    161.602596  151.157442  159.794614     162.290985\n",
      "13    150.238150  139.123556  147.623292     150.161969\n",
      "14    139.479344  127.758898  136.134036     138.634330\n",
      "15    129.313992  117.057791  125.320678     127.705363\n",
      "16    119.727991  107.011186  115.173136     117.370089\n",
      "17    110.705552   97.606860  105.677713     107.621330\n",
      "18    102.229430   88.829660   96.817450      98.449793\n",
      "19     94.281153   80.661780   88.572512      89.844182\n"
     ]
    }
   ],
   "source": [
    "BS = BS_pricer(S0=S0, r=r, q = q, sigma=sigma, ttm=T, exercise=exercise, K=None)\n",
    "Merton = Merton_pricer(S0=S0, K=None, ttm=T, r=0.05, q = q, sigma=0.15, lambd=0.7, meanJ=-0.1, stdJ=0.1, exercise=exercise)\n",
    "Kou = Kou_pricer(S0=S0, K=None, ttm=T, r=r, sigma=0.15, lambd=0.5, p=0.4, eta1=10, eta2=5, exercise=exercise)\n",
    "VG = VG_pricer(S0, K=None, ttm=T, r=r, q=q, sigma=0.15, theta=0.5, nu=0.08, exercise=exercise)\n",
    "\n",
    "call_th_prices = pd.DataFrame(columns=['BlackScholes', 'Merton', 'Kou', 'VarianceGamma'])\n",
    "\n",
    "for i, K in enumerate(call_strikes):\n",
    "    bs = BS.closed_formula_call(K)\n",
    "    mert = Merton.closed_formula_call(K)\n",
    "    kou = Kou.closed_formula_call(K)\n",
    "    vg = VG.closed_formula_call(K)\n",
    "    call_th_prices.loc[i] = [bs, mert, kou, vg]\n",
    "\n",
    "print(f'Theoretical call options prices:')\n",
    "print(call_th_prices)\n"
   ],
   "metadata": {
    "collapsed": false
   }
  },
  {
   "cell_type": "markdown",
   "source": [
    "PUT PRICES:"
   ],
   "metadata": {
    "collapsed": false
   }
  },
  {
   "cell_type": "code",
   "execution_count": 5,
   "outputs": [
    {
     "name": "stdout",
     "output_type": "stream",
     "text": [
      "Theoretical put options prices:\n",
      "    BlackScholes      Merton         Kou  VarianceGamma\n",
      "0      32.484300   31.367468   41.872577      38.915084\n",
      "1      37.622925   35.877501   46.304354      43.949011\n",
      "2      43.304832   40.871378   51.188135      49.448868\n",
      "3      49.551252   46.377745   56.558100      55.435580\n",
      "4      56.380678   52.423974   62.447379      61.928839\n",
      "5      63.808714   59.035757   68.887429      68.946908\n",
      "6      71.847952   66.236720   75.907436      76.506447\n",
      "7      80.507916   74.048057   83.533765      84.622344\n",
      "8      89.795048   82.488200   91.789474      93.307571\n",
      "9      99.712742   91.572525  100.693905     102.573056\n",
      "10    110.261418  101.313124  110.262368     112.427578\n",
      "11    121.438635  111.718626  120.505922     122.877683\n",
      "12    133.239238  122.794084  131.431256     133.927627\n",
      "13    145.655528  134.540934  143.040670     145.579346\n",
      "14    158.677458  146.957012  155.332149     157.832444\n",
      "15    172.292841  160.036640  168.299527     170.684212\n",
      "16    186.487576  173.770771  181.932721     184.129674\n",
      "17    201.245873  188.147180  196.218034     198.161650\n",
      "18    216.550486  203.150716  211.138505     212.770849\n",
      "19    232.382944  218.763572  226.674303     227.945974\n"
     ]
    }
   ],
   "source": [
    "put_th_prices = pd.DataFrame(columns=['BlackScholes', 'Merton', 'Kou', 'VarianceGamma'])\n",
    "\n",
    "for i, K in enumerate(put_strikes):\n",
    "    bs = BS.closed_formula_put(K)\n",
    "    mert = Merton.closed_formula_put(K)\n",
    "    kou = Kou.closed_formula_put(K)\n",
    "    vg = VG.closed_formula_put(K)\n",
    "    put_th_prices.loc[i] = [bs, mert, kou, vg]\n",
    "\n",
    "print(f'Theoretical put options prices:')\n",
    "print(put_th_prices)"
   ],
   "metadata": {
    "collapsed": false
   }
  },
  {
   "cell_type": "code",
   "execution_count": 6,
   "outputs": [],
   "source": [
    "def implied_volatility(price, S, strike, t, rate, q, type_o, method, disp=True ):\n",
    "    \"\"\" Returns Implied volatility\n",
    "        methods:  fsolve (default) or brent\n",
    "    \"\"\"\n",
    "\n",
    "    def obj_fun(vol):\n",
    "        return BS.BlackScholes(type_o=type_o, S0=S, K=strike, ttm=t, r=rate, q=q, sigma=vol) - price\n",
    "\n",
    "    def vega(vol):\n",
    "        return BS.vega(S, strike, rate, q, vol, t)\n",
    "\n",
    "    if method == 'brent':\n",
    "        x, res = scpo.brentq(obj_fun, a=1e-15, b=500, full_output=True)\n",
    "        if res.converged:\n",
    "            return x\n",
    "\n",
    "    if method =='fsolve':\n",
    "        #X0 = [0.03, 0.08, 0.1, 0.15, 0.2, 0.3, 0.5, 1, 2]   # set of\n",
    "        X0 = [0.1, 0.5, 1, 3]\n",
    "        #initial guess points for imp.vol.\n",
    "        for x_0 in X0:\n",
    "            x, _, solved, _ = scpo.fsolve(obj_fun, x_0, full_output=True, xtol=1e-8)\n",
    "            if solved == 1:\n",
    "                return x[0]\n",
    "\n",
    "    if method == 'newton':\n",
    "        guess = 0.5\n",
    "        result = scpo.newton(obj_fun, guess, vega, tol=1e-4)\n",
    "        return result\n",
    "\n",
    "\n",
    "    if disp:\n",
    "        return -1"
   ],
   "metadata": {
    "collapsed": false
   }
  },
  {
   "cell_type": "markdown",
   "source": [
    "Let's now compute the implied volatilities from the true market prices *call_prices*."
   ],
   "metadata": {
    "collapsed": false
   }
  },
  {
   "cell_type": "code",
   "execution_count": 7,
   "outputs": [
    {
     "name": "stdout",
     "output_type": "stream",
     "text": [
      "Implied volatilities found by each model for call options:\n",
      "    BlackScholes    Merton       Kou  VarianceGamma\n",
      "0            0.2  0.197443  0.220550       0.214237\n",
      "1            0.2  0.196289  0.217810       0.213073\n",
      "2            0.2  0.195166  0.215228       0.211919\n",
      "3            0.2  0.194073  0.212805       0.210777\n",
      "4            0.2  0.193013  0.210538       0.209645\n",
      "5            0.2  0.191985  0.208425       0.208523\n",
      "6            0.2  0.190990  0.206461       0.207411\n",
      "7            0.2  0.190028  0.204643       0.206309\n",
      "8            0.2  0.189098  0.202964       0.205217\n",
      "9            0.2  0.188200  0.201419       0.204135\n",
      "10           0.2  0.187335  0.200001       0.203062\n",
      "11           0.2  0.186502  0.198705       0.201998\n",
      "12           0.2  0.185699  0.197524       0.200943\n",
      "13           0.2  0.184928  0.196453       0.199897\n",
      "14           0.2  0.184186  0.195485       0.198860\n",
      "15           0.2  0.183474  0.194616       0.197831\n",
      "16           0.2  0.182789  0.193840       0.196812\n",
      "17           0.2  0.182133  0.193152       0.195801\n",
      "18           0.2  0.181503  0.192548       0.194798\n",
      "19           0.2  0.180898  0.192024       0.193804\n"
     ]
    }
   ],
   "source": [
    "IV_BS = []; IV_M = []; IV_K = []; IV_VG = []\n",
    "\n",
    "for i in range(len(call_prices)):\n",
    "    IV_BS.append(implied_volatility(call_th_prices['BlackScholes'].values[i], S=S0, strike=call_strikes[i], t=T, rate=r,q=q, type_o='call', method='newton') )\n",
    "    IV_M.append(implied_volatility(call_th_prices['Merton'].values[i], S=S0, strike = call_strikes[i], t=T, rate=r, q=q,  type_o='call', method='newton'))\n",
    "    IV_K.append(implied_volatility(call_th_prices['Kou'].values[i], S=S0, strike = call_strikes[i], t=T, rate=r, q=q,  type_o='call', method='newton'))\n",
    "    IV_VG.append(implied_volatility(call_th_prices['VarianceGamma'].values[i], S=S0, strike=call_strikes[i], t = T, rate=r, q=q, type_o='call', method='fsolve'))\n",
    "\n",
    "imp_vol_call = pd.DataFrame(columns=['BlackScholes', 'Merton', 'Kou', 'VarianceGamma'])\n",
    "imp_vol_call['BlackScholes'] = IV_BS\n",
    "imp_vol_call['Merton'] = IV_M\n",
    "imp_vol_call['Kou'] = IV_K\n",
    "imp_vol_call['VarianceGamma'] = IV_VG\n",
    "\n",
    "print(f'Implied volatilities found by each model for call options:\\n{imp_vol_call}')"
   ],
   "metadata": {
    "collapsed": false
   }
  },
  {
   "cell_type": "code",
   "execution_count": 8,
   "outputs": [
    {
     "name": "stdout",
     "output_type": "stream",
     "text": [
      "Implied volatilities found by each model for put options:\n",
      "     BlackScholes    Merton       Kou  VarianceGamma\n",
      "0            0.2  0.197443  0.220550       0.214237\n",
      "1            0.2  0.196289  0.217810       0.213073\n",
      "2            0.2  0.195166  0.215228       0.211919\n",
      "3            0.2  0.194073  0.212805       0.210777\n",
      "4            0.2  0.193013  0.210538       0.209645\n",
      "5            0.2  0.191985  0.208425       0.208523\n",
      "6            0.2  0.190990  0.206461       0.207411\n",
      "7            0.2  0.190028  0.204643       0.206309\n",
      "8            0.2  0.189098  0.202964       0.205217\n",
      "9            0.2  0.188200  0.201419       0.204135\n",
      "10           0.2  0.187335  0.200001       0.203062\n",
      "11           0.2  0.186502  0.198705       0.201998\n",
      "12           0.2  0.185699  0.197524       0.200943\n",
      "13           0.2  0.184928  0.196453       0.199897\n",
      "14           0.2  0.184186  0.195485       0.198860\n",
      "15           0.2  0.183474  0.194616       0.197831\n",
      "16           0.2  0.182789  0.193840       0.196812\n",
      "17           0.2  0.182133  0.193152       0.195801\n",
      "18           0.2  0.181503  0.192548       0.194798\n",
      "19           0.2  0.180898  0.192024       0.193804\n"
     ]
    }
   ],
   "source": [
    "IV_BS = []; IV_M = []; IV_K = []; IV_VG = []\n",
    "\n",
    "for i in range(len(put_prices)):\n",
    "    IV_BS.append(implied_volatility(put_th_prices['BlackScholes'].values[i], S=S0, strike=put_strikes[i], t=T, rate=r, q=q, type_o='put', method='newton' ) )\n",
    "    IV_M.append(implied_volatility(put_th_prices['Merton'].values[i], S=S0, strike = put_strikes[i], t=T, rate=r, q=q, type_o='put', method='fsolve'))\n",
    "    IV_K.append(implied_volatility(put_th_prices['Kou'].values[i], S=S0, strike = put_strikes[i], t=T, rate=r, q=q, type_o='put', method='fsolve'))\n",
    "    IV_VG.append(implied_volatility(put_th_prices['VarianceGamma'].values[i], S=S0, strike=put_strikes[i], t = T, rate=r, q=q, type_o='put', method='fsolve'))\n",
    "\n",
    "imp_vol_put = pd.DataFrame(columns=['BlackScholes', 'Merton', 'Kou', 'VarianceGamma'])\n",
    "imp_vol_put['BlackScholes'] = IV_BS\n",
    "imp_vol_put['Merton'] = IV_M\n",
    "imp_vol_put['Kou'] = IV_K\n",
    "imp_vol_put['VarianceGamma'] = IV_VG\n",
    "\n",
    "print(f'Implied volatilities found by each model for put options:\\n {imp_vol_put}')"
   ],
   "metadata": {
    "collapsed": false
   }
  },
  {
   "cell_type": "markdown",
   "source": [
    "Plot of the implied volatilities with respect to the strike price."
   ],
   "metadata": {
    "collapsed": false
   }
  },
  {
   "cell_type": "code",
   "execution_count": 9,
   "outputs": [
    {
     "data": {
      "text/plain": "<Figure size 1600x400 with 2 Axes>",
      "image/png": "[encoded data removed]"
     },
     "metadata": {},
     "output_type": "display_data"
    }
   ],
   "source": [
    "fig = plt.figure(figsize=(16,4))\n",
    "ax1 = fig.add_subplot(121); ax2 = fig.add_subplot(122)\n",
    "\n",
    "ax1.plot(call_strikes, call_th_prices['BlackScholes'], label=\"BS\"); ax1.plot(call_strikes, call_th_prices['Merton'], label=\"MERT\")\n",
    "ax1.plot(call_strikes, call_th_prices['Kou'], label=\"KOU\"); ax1.plot(call_strikes, call_th_prices['VarianceGamma'], label=\"VG\")\n",
    "ax1.set_title(\"Comparison of prices\"); ax1.set_xlabel(\"Strike\"); ax1.set_ylabel(\"Price\")\n",
    "\n",
    "ax2.plot(call_strikes, imp_vol_call['BlackScholes'], label=\"BS\"); ax2.plot(call_strikes, imp_vol_call['Merton'], label=\"MERT\")\n",
    "ax2.plot(call_strikes, imp_vol_call['Kou'], label=\"KOU\"); ax2.plot(call_strikes, imp_vol_call['VarianceGamma'], label=\"VG\")\n",
    "ax2.set_title(\"Comparison of Implied volatilities\"); ax2.set_xlabel(\"Strike\"); ax2.set_ylabel(\"Imp Vol\")\n",
    "\n",
    "ax1.legend(); ax2.legend(); plt.show()"
   ],
   "metadata": {
    "collapsed": false
   }
  },
  {
   "cell_type": "markdown",
   "source": [
    "## Calibration of Merton Jump Diffusion parameters\n",
    "First we'll initialize a starting point in the array $x_0 = [σ, λ, m, v]$\n",
    "and we set bounds for the 4 parameters. Then we use the method\n",
    "1. **curve_fit** of scipy.optimize. It uses the trf method when the parameters are bounded and the Levemberg-Marquadt method for unbounded parameters."
   ],
   "metadata": {
    "collapsed": false
   }
  },
  {
   "cell_type": "code",
   "execution_count": 10,
   "outputs": [],
   "source": [
    "x0 = [0.15, 1, 0.1, 1] # initial guess: [σ, λ, m, v]\n",
    "bounds = ( [0, 0, -10, 0.1], [np.inf, np.inf, 10, 5] )\n",
    "\n",
    "def f_Mert(x, sigma, lambd, meanJ, stdJ):\n",
    "    Mert = Merton_pricer(S0=S0, K=x, ttm=T, r=r, q=0, sigma=sigma, lambd=lambd, meanJ=meanJ, stdJ=stdJ, exercise=exercise)\n",
    "    return Mert.closed_formula_call(x)\n",
    "#"
   ],
   "metadata": {
    "collapsed": false
   }
  },
  {
   "cell_type": "markdown",
   "source": [
    "- Method 1. curve_fit of scipy.optimize. It uses the trf method when the parameters are bounded and the Levemberg-Marquadt method for unbounded parameters."
   ],
   "metadata": {
    "collapsed": false
   }
  },
  {
   "cell_type": "code",
   "execution_count": 11,
   "outputs": [
    {
     "name": "stdout",
     "output_type": "stream",
     "text": [
      "METHOD 1: CURVE_FIT (trf)\n",
      "> Calibrated Volatlity [σ] =  0.08122\n",
      "> Calibrated Jump intensity [λ] =  0.33\n",
      "> Calibrated Jump Mean =  0.12\n",
      "> Calibrated Jump St. dev.  =  0.1\n"
     ]
    }
   ],
   "source": [
    "res1 = scpo.curve_fit(f_Mert, call_strikes, call_prices, p0=x0, bounds=bounds)\n",
    "\n",
    "sigt = round(res1[0][0],5)\n",
    "lambdt = round(res1[0][1],2)\n",
    "mt = round(res1[0][2],2)\n",
    "vt = round(res1[0][3],5)\n",
    "\n",
    "print('METHOD 1: CURVE_FIT (trf)')\n",
    "print('> Calibrated Volatlity [σ] = ', sigt)\n",
    "print('> Calibrated Jump intensity [λ] = ', lambdt)\n",
    "print('> Calibrated Jump Mean = ', mt)\n",
    "print('> Calibrated Jump St. dev.  = ', vt)"
   ],
   "metadata": {
    "collapsed": false
   }
  },
  {
   "cell_type": "code",
   "execution_count": 11,
   "outputs": [
    {
     "name": "stderr",
     "output_type": "stream",
     "text": [
      "C:\\Users\\ornel\\OneDrive\\Desktop\\TESI\\PythonProjects\\Margin-Loans-Pricing\\python-modules\\functions\\MERTONpricer.py:54: RuntimeWarning: overflow encountered in exp\n",
      "  V += (np.exp(-mean * self.lambd * self.ttm) * (mean * self.lambd * self.ttm) ** k) / k_fact * \\\n",
      "C:\\Users\\ornel\\OneDrive\\Desktop\\TESI\\PythonProjects\\Margin-Loans-Pricing\\python-modules\\functions\\MERTONpricer.py:54: RuntimeWarning: overflow encountered in scalar power\n",
      "  V += (np.exp(-mean * self.lambd * self.ttm) * (mean * self.lambd * self.ttm) ** k) / k_fact * \\\n"
     ]
    },
    {
     "ename": "RuntimeError",
     "evalue": "Optimal parameters not found: Number of calls to function has reached maxfev = 1000.",
     "output_type": "error",
     "traceback": [
      "\u001B[1;31m---------------------------------------------------------------------------\u001B[0m",
      "\u001B[1;31mRuntimeError\u001B[0m                              Traceback (most recent call last)",
      "Cell \u001B[1;32mIn[11], line 1\u001B[0m\n\u001B[1;32m----> 1\u001B[0m res1_2 \u001B[38;5;241m=\u001B[39m \u001B[43mscpo\u001B[49m\u001B[38;5;241;43m.\u001B[39;49m\u001B[43mcurve_fit\u001B[49m\u001B[43m(\u001B[49m\u001B[43mf_Mert\u001B[49m\u001B[43m,\u001B[49m\u001B[43m \u001B[49m\u001B[43mcall_strikes\u001B[49m\u001B[43m,\u001B[49m\u001B[43m \u001B[49m\u001B[43mcall_prices\u001B[49m\u001B[43m,\u001B[49m\u001B[43m \u001B[49m\u001B[43mp0\u001B[49m\u001B[38;5;241;43m=\u001B[39;49m\u001B[43mx0\u001B[49m\u001B[43m)\u001B[49m\n\u001B[0;32m      3\u001B[0m sigt2 \u001B[38;5;241m=\u001B[39m \u001B[38;5;28mround\u001B[39m(res1_2[\u001B[38;5;241m0\u001B[39m][\u001B[38;5;241m0\u001B[39m],\u001B[38;5;241m5\u001B[39m)\n\u001B[0;32m      4\u001B[0m lambdt2 \u001B[38;5;241m=\u001B[39m \u001B[38;5;28mround\u001B[39m(res1_2[\u001B[38;5;241m0\u001B[39m][\u001B[38;5;241m1\u001B[39m],\u001B[38;5;241m2\u001B[39m)\n",
      "File \u001B[1;32mc:\\users\\ornel\\appdata\\local\\programs\\python\\python38\\lib\\site-packages\\scipy\\optimize\\_minpack_py.py:864\u001B[0m, in \u001B[0;36mcurve_fit\u001B[1;34m(f, xdata, ydata, p0, sigma, absolute_sigma, check_finite, bounds, method, jac, full_output, **kwargs)\u001B[0m\n\u001B[0;32m    862\u001B[0m     cost \u001B[38;5;241m=\u001B[39m np\u001B[38;5;241m.\u001B[39msum(infodict[\u001B[38;5;124m'\u001B[39m\u001B[38;5;124mfvec\u001B[39m\u001B[38;5;124m'\u001B[39m] \u001B[38;5;241m*\u001B[39m\u001B[38;5;241m*\u001B[39m \u001B[38;5;241m2\u001B[39m)\n\u001B[0;32m    863\u001B[0m     \u001B[38;5;28;01mif\u001B[39;00m ier \u001B[38;5;129;01mnot\u001B[39;00m \u001B[38;5;129;01min\u001B[39;00m [\u001B[38;5;241m1\u001B[39m, \u001B[38;5;241m2\u001B[39m, \u001B[38;5;241m3\u001B[39m, \u001B[38;5;241m4\u001B[39m]:\n\u001B[1;32m--> 864\u001B[0m         \u001B[38;5;28;01mraise\u001B[39;00m \u001B[38;5;167;01mRuntimeError\u001B[39;00m(\u001B[38;5;124m\"\u001B[39m\u001B[38;5;124mOptimal parameters not found: \u001B[39m\u001B[38;5;124m\"\u001B[39m \u001B[38;5;241m+\u001B[39m errmsg)\n\u001B[0;32m    865\u001B[0m \u001B[38;5;28;01melse\u001B[39;00m:\n\u001B[0;32m    866\u001B[0m     \u001B[38;5;66;03m# Rename maxfev (leastsq) to max_nfev (least_squares), if specified.\u001B[39;00m\n\u001B[0;32m    867\u001B[0m     \u001B[38;5;28;01mif\u001B[39;00m \u001B[38;5;124m'\u001B[39m\u001B[38;5;124mmax_nfev\u001B[39m\u001B[38;5;124m'\u001B[39m \u001B[38;5;129;01mnot\u001B[39;00m \u001B[38;5;129;01min\u001B[39;00m kwargs:\n",
      "\u001B[1;31mRuntimeError\u001B[0m: Optimal parameters not found: Number of calls to function has reached maxfev = 1000."
     ]
    }
   ],
   "source": [
    "res1_2 = scpo.curve_fit(f_Mert, call_strikes, call_prices, p0=x0)\n",
    "\n",
    "sigt2 = round(res1_2[0][0],5)\n",
    "lambdt2 = round(res1_2[0][1],2)\n",
    "mt2 = round(res1_2[0][2],2)\n",
    "vt2 = round(res1_2[0][3],5)\n",
    "\n",
    "print('METHOD 1.2: CURVE_FIT (Levemberg-Marquadt, no bounds)')\n",
    "print('> Calibrated Volatlity [σ] = ', sigt2)\n",
    "print('> Calibrated Jump intensity [λ] = ', lambdt2)\n",
    "print('> Calibrated Jump Mean = ', mt2)\n",
    "print('> Calibrated Jump St. dev.  = ', vt2)"
   ],
   "metadata": {
    "collapsed": false
   }
  },
  {
   "cell_type": "markdown",
   "source": [
    "- Method 2. minimize(method=’SLSQP’)"
   ],
   "metadata": {
    "collapsed": false
   }
  },
  {
   "cell_type": "code",
   "execution_count": 12,
   "outputs": [
    {
     "name": "stdout",
     "output_type": "stream",
     "text": [
      " message: Optimization terminated successfully\n",
      " success: True\n",
      "  status: 0\n",
      "     fun: 2501328.25694697\n",
      "       x: [ 2.000e-01  5.000e-01 -1.000e-01  1.000e+00]\n",
      "     nit: 5\n",
      "     jac: [ 2.326e+06  9.020e+06  7.003e+06  1.133e+07]\n",
      "    nfev: 5\n",
      "    njev: 1\n",
      "> METHOD 2: MINIMIZE (SLSQP)\n",
      "Calibrated Volatility [σ] = 0.2\n",
      "Calibrated Jump Intensity [λ] = 0.5\n",
      "Calibrated Jump Mean [m] = -0.1\n",
      "Calibrated Jump St. dev. [v] = 1.0\n"
     ]
    }
   ],
   "source": [
    "x0 = [0.2, 0.5, -0.1, 1] # initial guess: [σ, λ, m, v]\n",
    "bounds = [(0.01, 3), (0, np.inf), (-5, 5),  (0, 5)]\n",
    "\n",
    "# Define the objective function\n",
    "def obj_function(x, strikes, prices):\n",
    "    sigm, lamb, mean, std = x\n",
    "    Mert = Merton_pricer(S0=S0, K=strikes, ttm=T, r=r, q=0, sigma=sigm, lambd=lamb, meanJ=mean, stdJ=std, exercise=exercise)\n",
    "    return np.sum((Mert.closed_formula_call(K) - prices) ** 2)\n",
    "\n",
    "additional_args = (call_strikes, call_prices)\n",
    "\n",
    "res2 = scpo.minimize(obj_function, x0, args=additional_args,  method='SLSQP', bounds=bounds, tol=1e-20)\n",
    "\n",
    "print(res2)\n",
    "sigt, lambdt, mt, vt = res2.x\n",
    "\n",
    "# Print the results\n",
    "print('> METHOD 2: MINIMIZE (SLSQP)')\n",
    "print('Calibrated Volatility [σ] =', round(sigt, 5))\n",
    "print('Calibrated Jump Intensity [λ] =', round(lambdt, 2))\n",
    "print('Calibrated Jump Mean [m] =', round(mt, 2))\n",
    "print('Calibrated Jump St. dev. [v] =', round(vt, 2))"
   ],
   "metadata": {
    "collapsed": false
   }
  },
  {
   "cell_type": "markdown",
   "source": [
    "## Calibration of Kou Jump Diffusion parameters"
   ],
   "metadata": {
    "collapsed": false
   }
  },
  {
   "cell_type": "code",
   "execution_count": 12,
   "outputs": [],
   "source": [
    "x0 = [0.1, 0.5, 0.4, 5, 5] # initial guess: [σ, λ, p, η_1, η_1]\n",
    "bounds = ( [0, 0, 0, 0, 0], [4, 10, 0.9,  10, 10] )\n",
    "\n",
    "def f_Kou(x, sigma, lambd, p, eta1, eta2):\n",
    "    KouJD = Kou_pricer(S0=S0, K=x, ttm=T, r=r, sigma=sigma, lambd=lambd, p=p, eta1=eta1, eta2=eta2, exercise=exercise)\n",
    "    return KouJD.closed_formula_call(x)"
   ],
   "metadata": {
    "collapsed": false
   }
  },
  {
   "cell_type": "markdown",
   "source": [
    "Method scipy.optimize: curve_fit"
   ],
   "metadata": {
    "collapsed": false
   }
  },
  {
   "cell_type": "code",
   "execution_count": 31,
   "outputs": [
    {
     "name": "stdout",
     "output_type": "stream",
     "text": [
      "METHOD 1: CURVE_FIT (trf)\n",
      "> Calibrated Volatlity [σ] =  0.0934\n",
      "> Calibrated Jump intensity [λ] =  0.09\n",
      "> Calibrated Upward Jump probability =  0.9\n",
      "> Calibrated Rate of Exp. 1  =  4.8\n",
      "> Calibrated Rate of Exp. 2  =  10.0\n"
     ]
    }
   ],
   "source": [
    "res1 = scpo.curve_fit(f_Kou, call_strikes, call_prices, p0=x0, bounds=bounds)\n",
    "\n",
    "sigt = round(res1[0][0],5)\n",
    "lambdt = round(res1[0][1],2)\n",
    "pt = round(res1[0][2],2)\n",
    "eta1_t = round(res1[0][3],1)\n",
    "eta2_t = round(res1[0][4],1)\n",
    "\n",
    "print('METHOD 1: CURVE_FIT (trf)')\n",
    "print('> Calibrated Volatlity [σ] = ', sigt)\n",
    "print('> Calibrated Jump intensity [λ] = ', lambdt)\n",
    "print('> Calibrated Upward Jump probability = ', pt)\n",
    "print('> Calibrated Rate of Exp. 1  = ', eta1_t)\n",
    "print('> Calibrated Rate of Exp. 2  = ', eta2_t)"
   ],
   "metadata": {
    "collapsed": false
   }
  },
  {
   "cell_type": "markdown",
   "source": [
    "#### Method 2: minimize function"
   ],
   "metadata": {
    "collapsed": false
   }
  },
  {
   "cell_type": "code",
   "execution_count": 22,
   "outputs": [
    {
     "name": "stdout",
     "output_type": "stream",
     "text": [
      " message: Optimization terminated successfully\n",
      " success: True\n",
      "  status: 0\n",
      "     fun: 159610.53038636016\n",
      "       x: [ 1.000e-01  5.000e-01  5.000e-01  8.000e+00  4.000e+00]\n",
      "     nit: 5\n",
      "     jac: [-9.946e+05 -1.566e+05  3.896e+04  6.189e+03  1.362e+04]\n",
      "    nfev: 6\n",
      "    njev: 1\n"
     ]
    }
   ],
   "source": [
    "x0 = [0.1, 0.5, 0.5, 8, 4] # initial guess: [σ, λ, p, η_1, η_1]\n",
    "bounds = [(0, 4), (0, 10), (0, 1),  (0, 10), (0,10)]\n",
    "\n",
    "# Define the objective function\n",
    "def obj_function(x, strikes, prices):\n",
    "    sigm, lamb, p, eta1, eta2 = x\n",
    "    KouJD = Kou_pricer(S0=S0, K=strikes, ttm=T, r=r, sigma=sigm, lambd=lamb, p=p, eta1=eta1, eta2=eta2, exercise=exercise)\n",
    "    return np.sum((KouJD.closed_formula_call(K) - prices) ** 2)\n",
    "\n",
    "additional_args = (call_strikes, call_prices)\n",
    "\n",
    "res2 = scpo.minimize(obj_function, x0, args=additional_args,  method='SLSQP', bounds=bounds, tol=1e-20)\n",
    "print(res2)"
   ],
   "metadata": {
    "collapsed": false
   }
  },
  {
   "cell_type": "markdown",
   "source": [
    "Let's select a sample of the original dataframe in order to speed up the computation."
   ],
   "metadata": {
    "collapsed": false
   }
  },
  {
   "cell_type": "code",
   "execution_count": 20,
   "outputs": [
    {
     "ename": "NameError",
     "evalue": "name 'f_Kou' is not defined",
     "output_type": "error",
     "traceback": [
      "\u001B[1;31m---------------------------------------------------------------------------\u001B[0m",
      "\u001B[1;31mNameError\u001B[0m                                 Traceback (most recent call last)",
      "Cell \u001B[1;32mIn[20], line 10\u001B[0m\n\u001B[0;32m      7\u001B[0m x0 \u001B[38;5;241m=\u001B[39m [\u001B[38;5;241m0.1\u001B[39m, \u001B[38;5;241m0.5\u001B[39m, \u001B[38;5;241m0.5\u001B[39m, \u001B[38;5;241m8\u001B[39m, \u001B[38;5;241m4\u001B[39m] \u001B[38;5;66;03m# initial guess: [σ, λ, p, η_1, η_1]\u001B[39;00m\n\u001B[0;32m      9\u001B[0m bounds1 \u001B[38;5;241m=\u001B[39m ( [\u001B[38;5;241m0\u001B[39m, \u001B[38;5;241m0\u001B[39m, \u001B[38;5;241m0\u001B[39m, \u001B[38;5;241m0\u001B[39m, \u001B[38;5;241m0\u001B[39m], [\u001B[38;5;241m4\u001B[39m, \u001B[38;5;241m10\u001B[39m, \u001B[38;5;241m1\u001B[39m,  \u001B[38;5;241m10\u001B[39m, \u001B[38;5;241m10\u001B[39m] )\n\u001B[1;32m---> 10\u001B[0m res1 \u001B[38;5;241m=\u001B[39m scpo\u001B[38;5;241m.\u001B[39mcurve_fit(\u001B[43mf_Kou\u001B[49m, c_strikes_resized, c_prices_resized, p0\u001B[38;5;241m=\u001B[39mx0, bounds\u001B[38;5;241m=\u001B[39mbounds1)\n\u001B[0;32m     11\u001B[0m \u001B[38;5;28mprint\u001B[39m(res1[\u001B[38;5;241m0\u001B[39m])\n\u001B[0;32m     13\u001B[0m bounds2 \u001B[38;5;241m=\u001B[39m [(\u001B[38;5;241m0\u001B[39m, \u001B[38;5;241m4\u001B[39m), (\u001B[38;5;241m0\u001B[39m, \u001B[38;5;241m10\u001B[39m), (\u001B[38;5;241m0\u001B[39m, \u001B[38;5;241m1\u001B[39m),  (\u001B[38;5;241m0\u001B[39m, \u001B[38;5;241m10\u001B[39m), (\u001B[38;5;241m0\u001B[39m,\u001B[38;5;241m10\u001B[39m)]\n",
      "\u001B[1;31mNameError\u001B[0m: name 'f_Kou' is not defined"
     ]
    }
   ],
   "source": [
    "# Sample of rows of the call dataframe\n",
    "call_resized = df_call.sample(n=5)\n",
    "c_strikes_resized = call_resized['STRIKE']\n",
    "c_prices_resized = call_resized['C_Midpoint']\n",
    "# print(call_resized, c_strikes_resized, c_prices_resized)\n",
    "\n",
    "x0 = [0.1, 0.5, 0.5, 8, 4] # initial guess: [σ, λ, p, η_1, η_1]\n",
    "\n",
    "bounds1 = ( [0, 0, 0, 0, 0], [4, 10, 1,  10, 10] )\n",
    "res1 = scpo.curve_fit(f_Kou, c_strikes_resized, c_prices_resized, p0=x0, bounds=bounds1)\n",
    "print(res1[0])\n",
    "\n",
    "bounds2 = [(0, 4), (0, 10), (0, 1),  (0, 10), (0,10)]\n",
    "additional_args = (c_strikes_resized, c_prices_resized)\n",
    "res2 = scpo.minimize(obj_function, x0, args=additional_args,  method='SLSQP', bounds=bounds2, tol=1e-20)\n",
    "print(res2)"
   ],
   "metadata": {
    "collapsed": false
   }
  },
  {
   "cell_type": "code",
   "execution_count": 33,
   "outputs": [
    {
     "ename": "ValueError",
     "evalue": "not enough values to unpack (expected 5, got 4)",
     "output_type": "error",
     "traceback": [
      "\u001B[1;31m---------------------------------------------------------------------------\u001B[0m",
      "\u001B[1;31mValueError\u001B[0m                                Traceback (most recent call last)",
      "Cell \u001B[1;32mIn[33], line 1\u001B[0m\n\u001B[1;32m----> 1\u001B[0m sigt, lambdt, pt, eta1_t, eta2_t \u001B[38;5;241m=\u001B[39m res2\u001B[38;5;241m.\u001B[39mx\n\u001B[0;32m      3\u001B[0m \u001B[38;5;28mprint\u001B[39m(\u001B[38;5;124m'\u001B[39m\u001B[38;5;124mMETHOD 2: MINIMIZE (SQLSP)\u001B[39m\u001B[38;5;124m'\u001B[39m)\n\u001B[0;32m      4\u001B[0m \u001B[38;5;28mprint\u001B[39m(\u001B[38;5;124m'\u001B[39m\u001B[38;5;124m> Calibrated Volatlity [σ] = \u001B[39m\u001B[38;5;124m'\u001B[39m, \u001B[38;5;28mround\u001B[39m(sigt, \u001B[38;5;241m2\u001B[39m))\n",
      "\u001B[1;31mValueError\u001B[0m: not enough values to unpack (expected 5, got 4)"
     ]
    }
   ],
   "source": [
    "sigt, lambdt, pt, eta1_t, eta2_t = res2.x\n",
    "\n",
    "print('METHOD 2: MINIMIZE (SQLSP)')\n",
    "print('> Calibrated Volatlity [σ] = ', round(sigt, 2))\n",
    "print('> Calibrated Jump intensity [λ] = ', round(lambdt,2))\n",
    "print('> Calibrated Upward Jump probability = ', round(pt,2))\n",
    "print('> Calibrated Rate of Exp. 1  = ', round(eta1_t,2))\n",
    "print('> Calibrated Rate of Exp. 2  = ', round(eta2_t,2))"
   ],
   "metadata": {
    "collapsed": false
   }
  },
  {
   "cell_type": "markdown",
   "source": [
    "## Calibration of Variance Gamma parameters\n"
   ],
   "metadata": {
    "collapsed": false
   }
  },
  {
   "cell_type": "code",
   "execution_count": 12,
   "outputs": [],
   "source": [
    "x0 = [0.2, -0.05, 0.1]   # initial guess: [σ, θ, v]\n",
    "bounds = ( [0, -np.inf, 0], [5, np.inf, np.inf] )\n",
    "\n",
    "def f_VG(x, sigm, theta, nu):\n",
    "    VGamma = VG_pricer(S0=S0, K=x, ttm=T, r=r, q =q, sigma=sigm, theta=theta, nu=nu, exercise=exercise)\n",
    "    return VGamma.closed_formula_call(x)"
   ],
   "metadata": {
    "collapsed": false
   }
  },
  {
   "cell_type": "code",
   "execution_count": 13,
   "outputs": [
    {
     "ename": "TypeError",
     "evalue": "only size-1 arrays can be converted to Python scalars",
     "output_type": "error",
     "traceback": [
      "\u001B[1;31m---------------------------------------------------------------------------\u001B[0m",
      "\u001B[1;31mTypeError\u001B[0m                                 Traceback (most recent call last)",
      "Cell \u001B[1;32mIn[13], line 1\u001B[0m\n\u001B[1;32m----> 1\u001B[0m res1 \u001B[38;5;241m=\u001B[39m \u001B[43mscpo\u001B[49m\u001B[38;5;241;43m.\u001B[39;49m\u001B[43mcurve_fit\u001B[49m\u001B[43m(\u001B[49m\u001B[43mf_VG\u001B[49m\u001B[43m,\u001B[49m\u001B[43m \u001B[49m\u001B[43mcall_strikes\u001B[49m\u001B[43m,\u001B[49m\u001B[43m \u001B[49m\u001B[43mcall_prices\u001B[49m\u001B[43m,\u001B[49m\u001B[43m \u001B[49m\u001B[43mp0\u001B[49m\u001B[38;5;241;43m=\u001B[39;49m\u001B[43mx0\u001B[49m\u001B[43m,\u001B[49m\u001B[43m \u001B[49m\u001B[43mbounds\u001B[49m\u001B[38;5;241;43m=\u001B[39;49m\u001B[43mbounds\u001B[49m\u001B[43m)\u001B[49m\n\u001B[0;32m      3\u001B[0m sigt \u001B[38;5;241m=\u001B[39m \u001B[38;5;28mround\u001B[39m(res1[\u001B[38;5;241m0\u001B[39m][\u001B[38;5;241m0\u001B[39m],\u001B[38;5;241m5\u001B[39m)\n\u001B[0;32m      4\u001B[0m thetat \u001B[38;5;241m=\u001B[39m \u001B[38;5;28mround\u001B[39m(res1[\u001B[38;5;241m0\u001B[39m][\u001B[38;5;241m1\u001B[39m],\u001B[38;5;241m2\u001B[39m)\n",
      "File \u001B[1;32mc:\\users\\ornel\\appdata\\local\\programs\\python\\python38\\lib\\site-packages\\scipy\\optimize\\_minpack_py.py:870\u001B[0m, in \u001B[0;36mcurve_fit\u001B[1;34m(f, xdata, ydata, p0, sigma, absolute_sigma, check_finite, bounds, method, jac, full_output, **kwargs)\u001B[0m\n\u001B[0;32m    867\u001B[0m \u001B[38;5;28;01mif\u001B[39;00m \u001B[38;5;124m'\u001B[39m\u001B[38;5;124mmax_nfev\u001B[39m\u001B[38;5;124m'\u001B[39m \u001B[38;5;129;01mnot\u001B[39;00m \u001B[38;5;129;01min\u001B[39;00m kwargs:\n\u001B[0;32m    868\u001B[0m     kwargs[\u001B[38;5;124m'\u001B[39m\u001B[38;5;124mmax_nfev\u001B[39m\u001B[38;5;124m'\u001B[39m] \u001B[38;5;241m=\u001B[39m kwargs\u001B[38;5;241m.\u001B[39mpop(\u001B[38;5;124m'\u001B[39m\u001B[38;5;124mmaxfev\u001B[39m\u001B[38;5;124m'\u001B[39m, \u001B[38;5;28;01mNone\u001B[39;00m)\n\u001B[1;32m--> 870\u001B[0m res \u001B[38;5;241m=\u001B[39m \u001B[43mleast_squares\u001B[49m\u001B[43m(\u001B[49m\u001B[43mfunc\u001B[49m\u001B[43m,\u001B[49m\u001B[43m \u001B[49m\u001B[43mp0\u001B[49m\u001B[43m,\u001B[49m\u001B[43m \u001B[49m\u001B[43mjac\u001B[49m\u001B[38;5;241;43m=\u001B[39;49m\u001B[43mjac\u001B[49m\u001B[43m,\u001B[49m\u001B[43m \u001B[49m\u001B[43mbounds\u001B[49m\u001B[38;5;241;43m=\u001B[39;49m\u001B[43mbounds\u001B[49m\u001B[43m,\u001B[49m\u001B[43m \u001B[49m\u001B[43mmethod\u001B[49m\u001B[38;5;241;43m=\u001B[39;49m\u001B[43mmethod\u001B[49m\u001B[43m,\u001B[49m\n\u001B[0;32m    871\u001B[0m \u001B[43m                    \u001B[49m\u001B[38;5;241;43m*\u001B[39;49m\u001B[38;5;241;43m*\u001B[39;49m\u001B[43mkwargs\u001B[49m\u001B[43m)\u001B[49m\n\u001B[0;32m    873\u001B[0m \u001B[38;5;28;01mif\u001B[39;00m \u001B[38;5;129;01mnot\u001B[39;00m res\u001B[38;5;241m.\u001B[39msuccess:\n\u001B[0;32m    874\u001B[0m     \u001B[38;5;28;01mraise\u001B[39;00m \u001B[38;5;167;01mRuntimeError\u001B[39;00m(\u001B[38;5;124m\"\u001B[39m\u001B[38;5;124mOptimal parameters not found: \u001B[39m\u001B[38;5;124m\"\u001B[39m \u001B[38;5;241m+\u001B[39m res\u001B[38;5;241m.\u001B[39mmessage)\n",
      "File \u001B[1;32mc:\\users\\ornel\\appdata\\local\\programs\\python\\python38\\lib\\site-packages\\scipy\\optimize\\_lsq\\least_squares.py:830\u001B[0m, in \u001B[0;36mleast_squares\u001B[1;34m(fun, x0, jac, bounds, method, ftol, xtol, gtol, x_scale, loss, f_scale, diff_step, tr_solver, tr_options, jac_sparsity, max_nfev, verbose, args, kwargs)\u001B[0m\n\u001B[0;32m    827\u001B[0m \u001B[38;5;28;01mif\u001B[39;00m method \u001B[38;5;241m==\u001B[39m \u001B[38;5;124m'\u001B[39m\u001B[38;5;124mtrf\u001B[39m\u001B[38;5;124m'\u001B[39m:\n\u001B[0;32m    828\u001B[0m     x0 \u001B[38;5;241m=\u001B[39m make_strictly_feasible(x0, lb, ub)\n\u001B[1;32m--> 830\u001B[0m f0 \u001B[38;5;241m=\u001B[39m \u001B[43mfun_wrapped\u001B[49m\u001B[43m(\u001B[49m\u001B[43mx0\u001B[49m\u001B[43m)\u001B[49m\n\u001B[0;32m    832\u001B[0m \u001B[38;5;28;01mif\u001B[39;00m f0\u001B[38;5;241m.\u001B[39mndim \u001B[38;5;241m!=\u001B[39m \u001B[38;5;241m1\u001B[39m:\n\u001B[0;32m    833\u001B[0m     \u001B[38;5;28;01mraise\u001B[39;00m \u001B[38;5;167;01mValueError\u001B[39;00m(\u001B[38;5;124m\"\u001B[39m\u001B[38;5;124m`fun` must return at most 1-d array_like. \u001B[39m\u001B[38;5;124m\"\u001B[39m\n\u001B[0;32m    834\u001B[0m                      \u001B[38;5;124m\"\u001B[39m\u001B[38;5;124mf0.shape: \u001B[39m\u001B[38;5;132;01m{0}\u001B[39;00m\u001B[38;5;124m\"\u001B[39m\u001B[38;5;241m.\u001B[39mformat(f0\u001B[38;5;241m.\u001B[39mshape))\n",
      "File \u001B[1;32mc:\\users\\ornel\\appdata\\local\\programs\\python\\python38\\lib\\site-packages\\scipy\\optimize\\_lsq\\least_squares.py:825\u001B[0m, in \u001B[0;36mleast_squares.<locals>.fun_wrapped\u001B[1;34m(x)\u001B[0m\n\u001B[0;32m    824\u001B[0m \u001B[38;5;28;01mdef\u001B[39;00m \u001B[38;5;21mfun_wrapped\u001B[39m(x):\n\u001B[1;32m--> 825\u001B[0m     \u001B[38;5;28;01mreturn\u001B[39;00m np\u001B[38;5;241m.\u001B[39matleast_1d(\u001B[43mfun\u001B[49m\u001B[43m(\u001B[49m\u001B[43mx\u001B[49m\u001B[43m,\u001B[49m\u001B[43m \u001B[49m\u001B[38;5;241;43m*\u001B[39;49m\u001B[43margs\u001B[49m\u001B[43m,\u001B[49m\u001B[43m \u001B[49m\u001B[38;5;241;43m*\u001B[39;49m\u001B[38;5;241;43m*\u001B[39;49m\u001B[43mkwargs\u001B[49m\u001B[43m)\u001B[49m)\n",
      "File \u001B[1;32mc:\\users\\ornel\\appdata\\local\\programs\\python\\python38\\lib\\site-packages\\scipy\\optimize\\_minpack_py.py:501\u001B[0m, in \u001B[0;36m_wrap_func.<locals>.func_wrapped\u001B[1;34m(params)\u001B[0m\n\u001B[0;32m    500\u001B[0m \u001B[38;5;28;01mdef\u001B[39;00m \u001B[38;5;21mfunc_wrapped\u001B[39m(params):\n\u001B[1;32m--> 501\u001B[0m     \u001B[38;5;28;01mreturn\u001B[39;00m \u001B[43mfunc\u001B[49m\u001B[43m(\u001B[49m\u001B[43mxdata\u001B[49m\u001B[43m,\u001B[49m\u001B[43m \u001B[49m\u001B[38;5;241;43m*\u001B[39;49m\u001B[43mparams\u001B[49m\u001B[43m)\u001B[49m \u001B[38;5;241m-\u001B[39m ydata\n",
      "Cell \u001B[1;32mIn[12], line 6\u001B[0m, in \u001B[0;36mf_VG\u001B[1;34m(x, sigm, theta, nu)\u001B[0m\n\u001B[0;32m      4\u001B[0m \u001B[38;5;28;01mdef\u001B[39;00m \u001B[38;5;21mf_VG\u001B[39m(x, sigm, theta, nu):\n\u001B[0;32m      5\u001B[0m     VGamma \u001B[38;5;241m=\u001B[39m VG_pricer(S0\u001B[38;5;241m=\u001B[39mS0, K\u001B[38;5;241m=\u001B[39mx, ttm\u001B[38;5;241m=\u001B[39mT, r\u001B[38;5;241m=\u001B[39mr, q \u001B[38;5;241m=\u001B[39mq, sigma\u001B[38;5;241m=\u001B[39msigm, theta\u001B[38;5;241m=\u001B[39mtheta, nu\u001B[38;5;241m=\u001B[39mnu, exercise\u001B[38;5;241m=\u001B[39mexercise)\n\u001B[1;32m----> 6\u001B[0m     \u001B[38;5;28;01mreturn\u001B[39;00m \u001B[43mVGamma\u001B[49m\u001B[38;5;241;43m.\u001B[39;49m\u001B[43mclosed_formula_call\u001B[49m\u001B[43m(\u001B[49m\u001B[43mx\u001B[49m\u001B[43m)\u001B[49m\n",
      "File \u001B[1;32m~\\OneDrive\\Desktop\\TESI\\PythonProjects\\Margin-Loans-Pricing\\python-modules\\functions\\VGpricer.py:114\u001B[0m, in \u001B[0;36mVG_pricer.closed_formula_call\u001B[1;34m(self, K)\u001B[0m\n\u001B[0;32m    111\u001B[0m d \u001B[38;5;241m=\u001B[39m \u001B[38;5;241m1\u001B[39m \u001B[38;5;241m/\u001B[39m s \u001B[38;5;241m*\u001B[39m (np\u001B[38;5;241m.\u001B[39mlog(\u001B[38;5;28mself\u001B[39m\u001B[38;5;241m.\u001B[39mS0 \u001B[38;5;241m/\u001B[39m \u001B[38;5;28mself\u001B[39m\u001B[38;5;241m.\u001B[39mK) \u001B[38;5;241m+\u001B[39m \u001B[38;5;28mself\u001B[39m\u001B[38;5;241m.\u001B[39mr \u001B[38;5;241m*\u001B[39m \u001B[38;5;28mself\u001B[39m\u001B[38;5;241m.\u001B[39mttm \u001B[38;5;241m+\u001B[39m \u001B[38;5;28mself\u001B[39m\u001B[38;5;241m.\u001B[39mttm \u001B[38;5;241m/\u001B[39m \u001B[38;5;28mself\u001B[39m\u001B[38;5;241m.\u001B[39mnu \u001B[38;5;241m*\u001B[39m np\u001B[38;5;241m.\u001B[39mlog((\u001B[38;5;241m1\u001B[39m \u001B[38;5;241m-\u001B[39m c1) \u001B[38;5;241m/\u001B[39m (\u001B[38;5;241m1\u001B[39m \u001B[38;5;241m-\u001B[39m c2)))\n\u001B[0;32m    113\u001B[0m \u001B[38;5;66;03m# Closed formula\u001B[39;00m\n\u001B[1;32m--> 114\u001B[0m call \u001B[38;5;241m=\u001B[39m \u001B[38;5;28mself\u001B[39m\u001B[38;5;241m.\u001B[39mS0 \u001B[38;5;241m*\u001B[39m \u001B[43mPsy\u001B[49m\u001B[43m(\u001B[49m\u001B[43md\u001B[49m\u001B[43m \u001B[49m\u001B[38;5;241;43m*\u001B[39;49m\u001B[43m \u001B[49m\u001B[43mnp\u001B[49m\u001B[38;5;241;43m.\u001B[39;49m\u001B[43msqrt\u001B[49m\u001B[43m(\u001B[49m\u001B[43m(\u001B[49m\u001B[38;5;241;43m1\u001B[39;49m\u001B[43m \u001B[49m\u001B[38;5;241;43m-\u001B[39;49m\u001B[43m \u001B[49m\u001B[43mc1\u001B[49m\u001B[43m)\u001B[49m\u001B[43m \u001B[49m\u001B[38;5;241;43m/\u001B[39;49m\u001B[43m \u001B[49m\u001B[38;5;28;43mself\u001B[39;49m\u001B[38;5;241;43m.\u001B[39;49m\u001B[43mnu\u001B[49m\u001B[43m)\u001B[49m\u001B[43m,\u001B[49m\u001B[43m \u001B[49m\u001B[43m(\u001B[49m\u001B[43malpha\u001B[49m\u001B[43m \u001B[49m\u001B[38;5;241;43m+\u001B[39;49m\u001B[43m \u001B[49m\u001B[43ms\u001B[49m\u001B[43m)\u001B[49m\u001B[43m \u001B[49m\u001B[38;5;241;43m*\u001B[39;49m\u001B[43m \u001B[49m\u001B[43mnp\u001B[49m\u001B[38;5;241;43m.\u001B[39;49m\u001B[43msqrt\u001B[49m\u001B[43m(\u001B[49m\u001B[38;5;28;43mself\u001B[39;49m\u001B[38;5;241;43m.\u001B[39;49m\u001B[43mnu\u001B[49m\u001B[43m \u001B[49m\u001B[38;5;241;43m/\u001B[39;49m\u001B[43m \u001B[49m\u001B[43m(\u001B[49m\u001B[38;5;241;43m1\u001B[39;49m\u001B[43m \u001B[49m\u001B[38;5;241;43m-\u001B[39;49m\u001B[43m \u001B[49m\u001B[43mc1\u001B[49m\u001B[43m)\u001B[49m\u001B[43m)\u001B[49m\u001B[43m,\u001B[49m\n\u001B[0;32m    115\u001B[0m \u001B[43m                     \u001B[49m\u001B[38;5;28;43mself\u001B[39;49m\u001B[38;5;241;43m.\u001B[39;49m\u001B[43mttm\u001B[49m\u001B[43m \u001B[49m\u001B[38;5;241;43m/\u001B[39;49m\u001B[43m \u001B[49m\u001B[38;5;28;43mself\u001B[39;49m\u001B[38;5;241;43m.\u001B[39;49m\u001B[43mnu\u001B[49m\u001B[43m)\u001B[49m \u001B[38;5;241m-\u001B[39m \u001B[38;5;28mself\u001B[39m\u001B[38;5;241m.\u001B[39mK \u001B[38;5;241m*\u001B[39m np\u001B[38;5;241m.\u001B[39mexp(\u001B[38;5;241m-\u001B[39m\u001B[38;5;28mself\u001B[39m\u001B[38;5;241m.\u001B[39mr \u001B[38;5;241m*\u001B[39m \u001B[38;5;28mself\u001B[39m\u001B[38;5;241m.\u001B[39mttm) \u001B[38;5;241m*\u001B[39m \\\n\u001B[0;32m    116\u001B[0m        Psy(d \u001B[38;5;241m*\u001B[39m np\u001B[38;5;241m.\u001B[39msqrt((\u001B[38;5;241m1\u001B[39m \u001B[38;5;241m-\u001B[39m c2) \u001B[38;5;241m/\u001B[39m \u001B[38;5;28mself\u001B[39m\u001B[38;5;241m.\u001B[39mnu), alpha \u001B[38;5;241m*\u001B[39m np\u001B[38;5;241m.\u001B[39msqrt(\u001B[38;5;28mself\u001B[39m\u001B[38;5;241m.\u001B[39mnu \u001B[38;5;241m/\u001B[39m (\u001B[38;5;241m1\u001B[39m \u001B[38;5;241m-\u001B[39m c2)), \u001B[38;5;28mself\u001B[39m\u001B[38;5;241m.\u001B[39mttm \u001B[38;5;241m/\u001B[39m \u001B[38;5;28mself\u001B[39m\u001B[38;5;241m.\u001B[39mnu)\n\u001B[0;32m    118\u001B[0m \u001B[38;5;28;01mreturn\u001B[39;00m call\n",
      "File \u001B[1;32m~\\OneDrive\\Desktop\\TESI\\PythonProjects\\Margin-Loans-Pricing\\python-modules\\functions\\VGpricer.py:99\u001B[0m, in \u001B[0;36mVG_pricer.closed_formula_call.<locals>.Psy\u001B[1;34m(a, b, g)\u001B[0m\n\u001B[0;32m     97\u001B[0m \u001B[38;5;28;01mdef\u001B[39;00m \u001B[38;5;21mPsy\u001B[39m(a, b, g):\n\u001B[0;32m     98\u001B[0m     f \u001B[38;5;241m=\u001B[39m \u001B[38;5;28;01mlambda\u001B[39;00m u: np\u001B[38;5;241m.\u001B[39mvectorize(ss\u001B[38;5;241m.\u001B[39mnorm\u001B[38;5;241m.\u001B[39mcdf)(a \u001B[38;5;241m/\u001B[39m np\u001B[38;5;241m.\u001B[39msqrt(u) \u001B[38;5;241m+\u001B[39m b \u001B[38;5;241m*\u001B[39m np\u001B[38;5;241m.\u001B[39msqrt(u)) \u001B[38;5;241m*\u001B[39m u \u001B[38;5;241m*\u001B[39m\u001B[38;5;241m*\u001B[39m (g \u001B[38;5;241m-\u001B[39m \u001B[38;5;241m1\u001B[39m) \u001B[38;5;241m*\u001B[39m np\u001B[38;5;241m.\u001B[39mexp(\u001B[38;5;241m-\u001B[39mu) \u001B[38;5;241m/\u001B[39m ssp\u001B[38;5;241m.\u001B[39mgamma(g)\n\u001B[1;32m---> 99\u001B[0m     result \u001B[38;5;241m=\u001B[39m \u001B[43mquad\u001B[49m\u001B[43m(\u001B[49m\u001B[43mf\u001B[49m\u001B[43m,\u001B[49m\u001B[43m \u001B[49m\u001B[38;5;241;43m0\u001B[39;49m\u001B[43m,\u001B[49m\u001B[43m \u001B[49m\u001B[43mnp\u001B[49m\u001B[38;5;241;43m.\u001B[39;49m\u001B[43minf\u001B[49m\u001B[43m)\u001B[49m\n\u001B[0;32m    100\u001B[0m     \u001B[38;5;28;01mreturn\u001B[39;00m result[\u001B[38;5;241m0\u001B[39m]\n",
      "File \u001B[1;32mc:\\users\\ornel\\appdata\\local\\programs\\python\\python38\\lib\\site-packages\\scipy\\integrate\\_quadpack_py.py:463\u001B[0m, in \u001B[0;36mquad\u001B[1;34m(func, a, b, args, full_output, epsabs, epsrel, limit, points, weight, wvar, wopts, maxp1, limlst, complex_func)\u001B[0m\n\u001B[0;32m    460\u001B[0m     \u001B[38;5;28;01mreturn\u001B[39;00m retval\n\u001B[0;32m    462\u001B[0m \u001B[38;5;28;01mif\u001B[39;00m weight \u001B[38;5;129;01mis\u001B[39;00m \u001B[38;5;28;01mNone\u001B[39;00m:\n\u001B[1;32m--> 463\u001B[0m     retval \u001B[38;5;241m=\u001B[39m \u001B[43m_quad\u001B[49m\u001B[43m(\u001B[49m\u001B[43mfunc\u001B[49m\u001B[43m,\u001B[49m\u001B[43m \u001B[49m\u001B[43ma\u001B[49m\u001B[43m,\u001B[49m\u001B[43m \u001B[49m\u001B[43mb\u001B[49m\u001B[43m,\u001B[49m\u001B[43m \u001B[49m\u001B[43margs\u001B[49m\u001B[43m,\u001B[49m\u001B[43m \u001B[49m\u001B[43mfull_output\u001B[49m\u001B[43m,\u001B[49m\u001B[43m \u001B[49m\u001B[43mepsabs\u001B[49m\u001B[43m,\u001B[49m\u001B[43m \u001B[49m\u001B[43mepsrel\u001B[49m\u001B[43m,\u001B[49m\u001B[43m \u001B[49m\u001B[43mlimit\u001B[49m\u001B[43m,\u001B[49m\n\u001B[0;32m    464\u001B[0m \u001B[43m                   \u001B[49m\u001B[43mpoints\u001B[49m\u001B[43m)\u001B[49m\n\u001B[0;32m    465\u001B[0m \u001B[38;5;28;01melse\u001B[39;00m:\n\u001B[0;32m    466\u001B[0m     \u001B[38;5;28;01mif\u001B[39;00m points \u001B[38;5;129;01mis\u001B[39;00m \u001B[38;5;129;01mnot\u001B[39;00m \u001B[38;5;28;01mNone\u001B[39;00m:\n",
      "File \u001B[1;32mc:\\users\\ornel\\appdata\\local\\programs\\python\\python38\\lib\\site-packages\\scipy\\integrate\\_quadpack_py.py:577\u001B[0m, in \u001B[0;36m_quad\u001B[1;34m(func, a, b, args, full_output, epsabs, epsrel, limit, points)\u001B[0m\n\u001B[0;32m    575\u001B[0m         \u001B[38;5;28;01mreturn\u001B[39;00m _quadpack\u001B[38;5;241m.\u001B[39m_qagse(func,a,b,args,full_output,epsabs,epsrel,limit)\n\u001B[0;32m    576\u001B[0m     \u001B[38;5;28;01melse\u001B[39;00m:\n\u001B[1;32m--> 577\u001B[0m         \u001B[38;5;28;01mreturn\u001B[39;00m \u001B[43m_quadpack\u001B[49m\u001B[38;5;241;43m.\u001B[39;49m\u001B[43m_qagie\u001B[49m\u001B[43m(\u001B[49m\u001B[43mfunc\u001B[49m\u001B[43m,\u001B[49m\u001B[43mbound\u001B[49m\u001B[43m,\u001B[49m\u001B[43minfbounds\u001B[49m\u001B[43m,\u001B[49m\u001B[43margs\u001B[49m\u001B[43m,\u001B[49m\u001B[43mfull_output\u001B[49m\u001B[43m,\u001B[49m\u001B[43mepsabs\u001B[49m\u001B[43m,\u001B[49m\u001B[43mepsrel\u001B[49m\u001B[43m,\u001B[49m\u001B[43mlimit\u001B[49m\u001B[43m)\u001B[49m\n\u001B[0;32m    578\u001B[0m \u001B[38;5;28;01melse\u001B[39;00m:\n\u001B[0;32m    579\u001B[0m     \u001B[38;5;28;01mif\u001B[39;00m infbounds \u001B[38;5;241m!=\u001B[39m \u001B[38;5;241m0\u001B[39m:\n",
      "\u001B[1;31mTypeError\u001B[0m: only size-1 arrays can be converted to Python scalars"
     ]
    }
   ],
   "source": [
    "res1 = scpo.curve_fit(f_VG, call_strikes, call_prices, p0=x0, bounds=bounds)\n",
    "\n",
    "sigt = round(res1[0][0],5)\n",
    "thetat = round(res1[0][1],2)\n",
    "nut = round(res1[0][2],2)\n",
    "\n",
    "print('METHOD 1: CURVE_FIT (trf)')\n",
    "print('> Calibrated Volatlity [σ] = ', sigt)\n",
    "print('> Calibrated mean rate gamma process [θ] = ', thetat)\n",
    "print('> Calibrated variance rate gamma process [v]= ', nut)"
   ],
   "metadata": {
    "collapsed": false
   }
  },
  {
   "cell_type": "code",
   "execution_count": 26,
   "outputs": [
    {
     "name": "stdout",
     "output_type": "stream",
     "text": [
      " message: Optimization terminated successfully\n",
      " success: True\n",
      "  status: 0\n",
      "     fun: 0.0\n",
      "       x: [ 1.998e-01 -3.261e-02  3.518e+01]\n",
      "     nit: 2\n",
      "     jac: [ 0.000e+00  0.000e+00  0.000e+00]\n",
      "    nfev: 18\n",
      "    njev: 2\n",
      "> METHOD 2: MINIMIZE (SLSQP)\n",
      "> Calibrated Volatlity [σ] =  0.1998423436097201\n",
      "> Calibrated mean rate gamma process [θ] =  -0.03261321980221832\n",
      "> Calibrated variance rate gamma process [v]=  35.17782892104247\n"
     ]
    },
    {
     "name": "stderr",
     "output_type": "stream",
     "text": [
      "C:\\Users\\ornel\\OneDrive\\Desktop\\TESI\\PythonProjects\\Margin-Loans-Pricing\\python-modules\\functions\\VGpricer.py:111: RuntimeWarning: invalid value encountered in log\n",
      "  d = 1 / s * (np.log(self.S0 / self.K) + self.r * self.ttm + self.ttm / self.nu * np.log((1 - c1) / (1 - c2)))\n",
      "C:\\Users\\ornel\\OneDrive\\Desktop\\TESI\\PythonProjects\\Margin-Loans-Pricing\\python-modules\\functions\\VGpricer.py:114: RuntimeWarning: invalid value encountered in sqrt\n",
      "  call = self.S0 * Psy(d * np.sqrt((1 - c1) / self.nu), (alpha + s) * np.sqrt(self.nu / (1 - c1)),\n",
      "C:\\Users\\ornel\\OneDrive\\Desktop\\TESI\\PythonProjects\\Margin-Loans-Pricing\\python-modules\\functions\\VGpricer.py:99: IntegrationWarning: The occurrence of roundoff error is detected, which prevents \n",
      "  the requested tolerance from being achieved.  The error may be \n",
      "  underestimated.\n",
      "  result = quad(f, 0, np.inf)\n"
     ]
    }
   ],
   "source": [
    "x0 = [0.2, -0.1, 0.5] # initial guess: [σ, λ, m, v]\n",
    "bounds2 = [(1e-5, 5), (-4, np.inf), (0, np.inf)]\n",
    "\n",
    "# Define the objective function\n",
    "def obj_function(x, strikes, prices):\n",
    "    sigm, theta, nu = x\n",
    "    VGx = VG_pricer(S0=S0, K=strikes, ttm=T, r=r, q=0, sigma=sigm, theta=theta, nu=nu, exercise=exercise)\n",
    "    return np.sum((VGx.closed_formula_call(K) - prices) ** 2)\n",
    "\n",
    "additional_args = (call_strikes, call_prices)\n",
    "\n",
    "res2 = scpo.minimize(obj_function, x0, args=additional_args,  method='SLSQP', bounds=bounds2, tol=1e-20)\n",
    "\n",
    "print(res2)\n",
    "sigt, thetat, nut = res2.x\n",
    "\n",
    "# Print the results\n",
    "print('> METHOD 2: MINIMIZE (SLSQP)')\n",
    "print('> Calibrated Volatlity [σ] = ', sigt)\n",
    "print('> Calibrated mean rate gamma process [θ] = ', thetat)\n",
    "print('> Calibrated variance rate gamma process [v]= ', nut)"
   ],
   "metadata": {
    "collapsed": false
   }
  },
  {
   "cell_type": "code",
   "execution_count": null,
   "outputs": [],
   "source": [],
   "metadata": {
    "collapsed": false
   }
  }
 ],
 "metadata": {
  "kernelspec": {
   "display_name": "Python 3",
   "language": "python",
   "name": "python3"
  },
  "language_info": {
   "codemirror_mode": {
    "name": "ipython",
    "version": 2
   },
   "file_extension": ".py",
   "mimetype": "text/x-python",
   "name": "python",
   "nbconvert_exporter": "python",
   "pygments_lexer": "ipython2",
   "version": "2.7.6"
  }
 },
 "nbformat": 4,
 "nbformat_minor": 0
}
