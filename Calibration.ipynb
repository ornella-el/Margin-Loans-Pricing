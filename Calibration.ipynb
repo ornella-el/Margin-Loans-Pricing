{
 "cells": [
  {
   "cell_type": "markdown",
   "source": [
    "# Calibration of Black and Scholes, Merton, Kou, Variance Gamma parameters\n",
    "This notebook aims to find the optimal parameters of **Black-Scholes**, **Merton Jump Diffusion**, **Kou Jump Diffusion** and **Variance Gamma** models. To do so, we compute the european option prices using **closed formulas**, available for all the 4 models, and the **Fast Fourier Transform** for the VG model. Given these theoretical prices, the **implied volatilities** are computed comparing them with real market prices, minimizing their difference. Then we estimate the additional parameters of each model, using the python module `scipy.optimize`.\n",
    "\n",
    "*reference: https://github.com/cantaro86/Financial-Models-Numerical-Methods/tree/master*\n"
   ],
   "metadata": {
    "collapsed": false
   }
  },
  {
   "cell_type": "code",
   "execution_count": 1,
   "metadata": {
    "collapsed": true
   },
   "outputs": [],
   "source": [
    "from functions.MERTONpricer import Merton_pricer\n",
    "from functions.BSpricer import BS_Pricer\n",
    "from functions.KOUpricer import Kou_pricer\n",
    "from functions.VGpricer import VG_pricer\n",
    "\n",
    "import numpy as np\n",
    "import pandas as pd\n",
    "import matplotlib.pyplot as plt\n",
    "import random\n",
    "import scipy as scp\n",
    "import scipy.stats as ss\n",
    "import scipy.optimize as scpo\n",
    "import time\n",
    "\n",
    "random.seed(100)"
   ]
  },
  {
   "cell_type": "markdown",
   "source": [
    "Let's start retrieving historical prices for **european call** and **put** options starting from date **2016-01-20** and expiring **1 year** later. All the data have been collected from [OptionsDX](https://www.optionsdx.com/shop/) and preprocessed in `plainvanilla.py` module. Only options such that\n",
    "$$ K = S0 \\pm 1000 $$ have been selected."
   ],
   "metadata": {
    "collapsed": false
   }
  },
  {
   "cell_type": "code",
   "execution_count": 2,
   "outputs": [
    {
     "name": "stdout",
     "output_type": "stream",
     "text": [
      "NUM OF CALL OPTS: 32\n",
      "   QUOTE_DATE  UNDERLYING_LAST EXPIRE_DATE   C_BID  C_ASK  STRIKE     C_IV\n",
      "0  2016-01-20          1859.48  2017-01-20  407.90  412.0  1475.0  0.26333\n",
      "1  2016-01-20          1859.48  2017-01-20  387.60  391.7  1500.0  0.26134\n",
      "2  2016-01-20          1859.48  2017-01-20  367.60  371.6  1525.0  0.25894\n",
      "3  2016-01-20          1859.48  2017-01-20  347.91  351.9  1550.0  0.25628\n",
      "4  2016-01-20          1859.48  2017-01-20  328.30  332.3  1575.0  0.25258\n",
      "NUM OF PUT OPTS: 32\n",
      "    QUOTE_DATE  UNDERLYING_LAST EXPIRE_DATE   P_BID   P_ASK  STRIKE     P_IV\n",
      "27  2016-01-20          1859.48  2017-01-20  340.20  344.60  2150.0  0.13933\n",
      "28  2016-01-20          1859.48  2017-01-20  360.29  364.70  2175.0  0.13211\n",
      "29  2016-01-20          1859.48  2017-01-20  380.59  385.19  2200.0  0.12159\n",
      "30  2016-01-20          1859.48  2017-01-20  401.89  406.50  2225.0  0.10806\n",
      "31  2016-01-20          1859.48  2017-01-20  423.79  428.50  2250.0  0.00031\n"
     ]
    }
   ],
   "source": [
    "df_call = pd.read_csv('data/options_spx_call_2016.csv')\n",
    "df_put = pd.read_csv('data/options_spx_put_2016.csv')\n",
    "print(f'NUM OF CALL OPTS: {df_call.shape[0]}')\n",
    "print(df_call.head(5))\n",
    "print(f'NUM OF PUT OPTS: {df_put.shape[0]}')\n",
    "print(df_put.tail(5))"
   ],
   "metadata": {
    "collapsed": false
   }
  },
  {
   "cell_type": "markdown",
   "source": [
    "The dataframes **df_calls** and **df_put** contain both 83 options sorted by strike price. For our purpose, using the $25\\%$ of these DFs is enough and can lead to very good results. Thus, we sample the rows and then reformulate the dataframes adding **Midpoint** and **Spread** columns."
   ],
   "metadata": {
    "collapsed": false
   }
  },
  {
   "cell_type": "code",
   "execution_count": 3,
   "outputs": [],
   "source": [
    "calls = df_call.sample(frac=0.5, replace=False).sort_index().reset_index(drop=True)\n",
    "puts = df_put.sample(frac=0.5, replace=False).sort_index().reset_index(drop=True)\n",
    "\n",
    "calls['C_Midpoint'] = abs(calls['C_BID'] + calls['C_ASK']) / 2\n",
    "puts['P_Midpoint'] = abs(puts['P_BID'] + puts['P_ASK']) / 2\n",
    "calls['C_Spread'] = calls['C_BID'] - calls['C_ASK']\n",
    "puts['P_Spread'] = puts['P_BID'] - puts['P_ASK']\n",
    "\n",
    "q = 0           # dividend yield\n",
    "r = 0.02        # risk-free interest rate\n",
    "sigma = 0.2     #volatility (variance of diffusion process)\n",
    "S0 = calls.iloc[0]['UNDERLYING_LAST']\n",
    "T = 1           # time-to-maturity\n",
    "call_strikes = calls['STRIKE']    # array of K for call options\n",
    "put_strikes = puts['STRIKE']      # array of K for put options\n",
    "exercise = 'european'\n",
    "\n",
    "call_prices = calls['C_Midpoint']\n",
    "put_prices = puts['P_Midpoint']"
   ],
   "metadata": {
    "collapsed": false
   }
  },
  {
   "cell_type": "markdown",
   "source": [
    "The following code snippet initializes objects of class *BS_pricer*, *Merton_pricer*, *Kou_pricer*, *VG_pricer* with default values as parameters. Then it computes the theoretical call prices using closed formulas of each 4 models, with strike prices given by the *call_strikes* array. Additionally, we use the **Midpoint** price as the option market prices.P"
   ],
   "metadata": {
    "collapsed": false
   }
  },
  {
   "cell_type": "code",
   "execution_count": 4,
   "outputs": [
    {
     "name": "stdout",
     "output_type": "stream",
     "text": [
      "Theoretical call options prices:\n",
      "   Strike BlackScholes      Merton         Kou VarianceGamma\n",
      "0  1475.0   429.938246  474.498455  431.003001    418.830502\n",
      "1  1525.0    387.86823  431.742091  386.247447    373.862891\n",
      "2  1550.0   367.551944  410.722677  364.317303     352.15614\n",
      "3  1575.0    347.75648  389.971732  342.750747    331.061293\n",
      "4  1625.0   309.840176  349.381334  300.930247    290.957458\n"
     ]
    }
   ],
   "source": [
    "BS = BS_Pricer(S0=S0, r=r, q = q, sigma=sigma, ttm=T, exercise=exercise, K=None)\n",
    "Merton = Merton_pricer(S0=S0, K=None, ttm=T, r=0.05, q = q, sigma=0.12, lambd=0.5, meanJ=-0.1, stdJ=0.2, exercise=exercise)\n",
    "Kou = Kou_pricer(S0=S0, K=None, ttm=T, r=r, sigma=0.12, lambd=0.5, p=0.6, eta1=10, eta2=5, exercise=exercise)\n",
    "VG = VG_pricer(S0, K=None, ttm=T, r=r, q=q, sigma=0.15, theta=-0.2, nu=0.2, exercise=exercise)\n",
    "\n",
    "call_th_prices = pd.DataFrame(columns=['Strike','BlackScholes', 'Merton', 'Kou', 'VarianceGamma'])\n",
    "call_th_prices['Strike'] = call_strikes\n",
    "\n",
    "for i, K in enumerate(call_strikes):\n",
    "    bs = BS.closed_formula_call(K)\n",
    "    mert = Merton.closed_formula_call(K)\n",
    "    kou = Kou.closed_formula_call(K)\n",
    "    vg = VG.closed_formula_call(K)\n",
    "    call_th_prices.iloc[i, 1:] = [bs, mert, kou, vg]\n",
    "\n",
    "print(f'Theoretical call options prices:')\n",
    "print(call_th_prices.head(5)) #print(call_th_prices.tail(4))"
   ],
   "metadata": {
    "collapsed": false
   }
  },
  {
   "cell_type": "markdown",
   "source": [
    "Same for put prices."
   ],
   "metadata": {
    "collapsed": false
   }
  },
  {
   "cell_type": "code",
   "execution_count": 5,
   "outputs": [
    {
     "name": "stdout",
     "output_type": "stream",
     "text": [
      "Theoretical put options prices:\n",
      "   Strike BlackScholes     Merton        Kou VarianceGamma\n",
      "0  1500.0    19.492529   20.37145  19.309027      6.929789\n",
      "1  1550.0    27.379887  25.648285  24.145247     11.984084\n",
      "2  1600.0    37.348384  32.002052  30.440265     19.480668\n",
      "3  1625.0     43.18302  35.649149  34.273091     24.300302\n",
      "4  1725.0    72.697348  54.155314  55.565775     51.706854\n"
     ]
    }
   ],
   "source": [
    "put_th_prices = pd.DataFrame(columns=['Strike','BlackScholes', 'Merton', 'Kou', 'VarianceGamma'])\n",
    "put_th_prices['Strike'] = put_strikes\n",
    "\n",
    "for i, K in enumerate(put_strikes):\n",
    "    bs = BS.closed_formula_put(K)\n",
    "    mert = Merton.closed_formula_put(K)\n",
    "    kou = Kou.closed_formula_put(K)\n",
    "    vg = VG.closed_formula_put(K)\n",
    "    put_th_prices.iloc[i, 1:] = [bs, mert, kou, vg]\n",
    "\n",
    "print(f'Theoretical put options prices:')\n",
    "print(put_th_prices.head(5))"
   ],
   "metadata": {
    "collapsed": false
   }
  },
  {
   "cell_type": "markdown",
   "source": [
    "### Variance Gamma Fast Fourier Transform\n",
    "Let's now compare the Closed Forms with the Fast Fourier Transform method for the Variance Gamma model for both call and put options.  The FFT method is explained by Carr, Madan, Chang 1998: *The Variance Gamma Process and Option Pricing*."
   ],
   "metadata": {
    "collapsed": false
   }
  },
  {
   "cell_type": "code",
   "execution_count": 6,
   "outputs": [
    {
     "name": "stdout",
     "output_type": "stream",
     "text": [
      "K=1475.0, CF:418.8305015337701, FFT:427.8522917606683\n",
      "K=1525.0, CF:373.8628906639924, FFT:384.1180791431043\n",
      "K=1550.0, CF:352.15614027108154, FFT:362.79564203297036\n",
      "K=1575.0, CF:331.061292954241, FFT:341.88078875612473\n",
      "K=1625.0, CF:290.9574580233059, FFT:301.41153912388654\n",
      "K=1725.0, CF:220.3441423695824, FFT:226.8815187730031\n",
      "K=1775.0, CF:190.18446421089004, FFT:193.34619126502048\n",
      "K=1800.0, CF:176.39279044360592, FFT:177.61306186070556\n",
      "K=1825.0, CF:163.43958614957637, FFT:162.6017240428141\n",
      "K=1850.0, CF:151.3023195279311, FFT:148.33204998599467\n",
      "K=1900.0, CF:129.36391314928323, FFT:122.07750484515282\n",
      "K=1925.0, CF:119.4991291380461, FFT:110.1116503323343\n",
      "K=1975.0, CF:101.80490491410478, FFT:88.51481641175928\n",
      "K=2125.0, CF:62.42673475260045, FFT:41.594476839163065\n",
      "K=2150.0, CF:57.502479916795835, FFT:36.1393462733252\n",
      "K=2200.0, CF:48.78015917464876, FFT:26.953777799759052\n"
     ]
    }
   ],
   "source": [
    "c_vg_fft = VG.FFT_call(call_strikes)\n",
    "\n",
    "for k, a, b in zip(call_strikes, call_th_prices['VarianceGamma'], c_vg_fft):\n",
    "    print(f'K={k}, CF:{a}, FFT:{b}')"
   ],
   "metadata": {
    "collapsed": false
   }
  },
  {
   "cell_type": "code",
   "execution_count": 7,
   "outputs": [
    {
     "name": "stdout",
     "output_type": "stream",
     "text": [
      "K=1500.0, CF:6.92978904338338, FFT:16.632508427421953\n",
      "K=1550.0, CF:11.984083896552193, FFT:22.623585658441016\n",
      "K=1600.0, CF:19.480668090090376, FFT:30.245720002831376\n",
      "K=1625.0, CF:24.300302146783224, FFT:34.754383247363876\n",
      "K=1725.0, CF:51.70685382373517, FFT:58.24423022715587\n",
      "K=1850.0, CF:105.18986514542826, FFT:102.21959560349183\n",
      "K=1875.0, CF:118.34645458560544, FFT:113.2125625412682\n",
      "K=1900.0, CF:132.2613924321181, FFT:124.97498412798768\n",
      "K=1925.0, CF:146.90157525354994, FFT:137.51409644783803\n",
      "K=1950.0, CF:162.2321611294799, FFT:150.83234159078438\n",
      "K=2000.0, CF:194.82066520681155, FFT:179.79108358744065\n",
      "K=2050.0, CF:229.73794560309693, FFT:211.77053407623748\n",
      "K=2125.0, CF:285.8689155294553, FFT:265.0366576160179\n",
      "K=2150.0, CF:305.44962752631955, FFT:284.0864938828488\n",
      "K=2175.0, CF:325.4150595616313, FFT:303.72431911604303\n",
      "K=2225.0, CF:366.38978654257426, FFT:344.60531914039257\n"
     ]
    }
   ],
   "source": [
    "p_vg_fft = VG.FFT_put(put_strikes)\n",
    "\n",
    "for k, a, b in zip(put_strikes, put_th_prices['VarianceGamma'], p_vg_fft):\n",
    "    print(f'K={k}, CF:{a}, FFT:{b}')"
   ],
   "metadata": {
    "collapsed": false
   }
  },
  {
   "cell_type": "code",
   "execution_count": 8,
   "outputs": [
    {
     "data": {
      "text/plain": "<matplotlib.legend.Legend at 0x2179f35af70>"
     },
     "execution_count": 8,
     "metadata": {},
     "output_type": "execute_result"
    },
    {
     "data": {
      "text/plain": "<Figure size 1600x400 with 2 Axes>",
      "image/png": "[encoded data removed]"
     },
     "metadata": {},
     "output_type": "display_data"
    }
   ],
   "source": [
    "fig = plt.figure(figsize=(16,4))\n",
    "ax1 = fig.add_subplot(121); ax2 = fig.add_subplot(122)\n",
    "ax1.plot(call_strikes, call_th_prices['VarianceGamma'], label='CF')\n",
    "ax1.plot(call_strikes, c_vg_fft, label='FFT')\n",
    "ax1.set_title('Call prices Closed Forms vs FFT'); ax1.set_xlabel('STRIKE'); ax1.set_ylabel('PRICE')\n",
    "# ax1.set_xlim([1400,2000]);ax1.set_ylim([0,800])\n",
    "\n",
    "ax2.plot(put_strikes, put_th_prices['VarianceGamma'], label='CF')\n",
    "ax2.plot(put_strikes, p_vg_fft, label='FFT')\n",
    "ax2.set_title('Put prices Closed Forms vs FFT'); ax2.set_xlabel('STRIKE'); ax2.set_ylabel('PRICE')\n",
    "ax1.legend(); ax2.legend()"
   ],
   "metadata": {
    "collapsed": false
   }
  },
  {
   "cell_type": "markdown",
   "source": [
    "## Implied volatility\n",
    "The function belows implements $3$ methods to compute implied volatility: [Newton](https://en.wikipedia.org/wiki/Newton%27s_method) method, the [Bisection](https://en.wikipedia.org/wiki/Bisection_method) method and a more advanced one, named [Brent](https://en.wikipedia.org/wiki/Brent%27s_method) method. Apart from the initial guess, there is no substantial difference in the final result between **Newton** and **bisection** methods (*fsolve*). The **Implied Volatility** is that value $\\sigma$ that must be inserted into the Black-Scholes (BS) formula in order to retrieve the option price quoted in the market:\n",
    "    $$ BS(S, K, T, r, \\sigma) = P,  $$\n",
    "where $S$ is the underlying spot price, $K$ is the strike, $T$ time to maturity, $r$ risk-free interest rate and $P$ the option price quoted in the market. All these quantities are **observable**.\n",
    "   "
   ],
   "metadata": {
    "collapsed": false
   }
  },
  {
   "cell_type": "code",
   "execution_count": 9,
   "outputs": [],
   "source": [
    "def implied_volatility(price, S, strike, t, rate, q, type_o, method='fsolve', disp=True ):\n",
    "    \"\"\" Returns Implied volatility\n",
    "        methods:  fsolve (default) or brent\n",
    "    \"\"\"\n",
    "\n",
    "    def obj_fun(vol):\n",
    "        return BS.BlackScholes(type_o=type_o, S0=S, K=strike, ttm=t, r=rate, q=q, sigma=vol) - price\n",
    "\n",
    "    def vega(vol):\n",
    "        return BS.vega(S, strike, rate, q, vol, t)\n",
    "\n",
    "    if method == 'brent':\n",
    "        x, res = scpo.brentq(obj_fun, a=1e-15, b=500, full_output=True)\n",
    "        if res.converged:\n",
    "            return x\n",
    "\n",
    "    if method =='fsolve':\n",
    "        X0 = [0.01, 0.2, 0.35, 7]        #initial guess points for imp.vol.\n",
    "        for x_0 in X0:\n",
    "            x, _, solved, _ = scpo.fsolve(obj_fun, x_0, full_output=True, xtol=1e-8)\n",
    "            if solved == 1:\n",
    "                return x[0]\n",
    "\n",
    "    if method == 'newton':\n",
    "        guess = 0.2\n",
    "        result = scpo.newton(obj_fun, guess, vega, tol=1e-4)\n",
    "        return result\n",
    "\n",
    "\n",
    "    if disp:\n",
    "        return -1"
   ],
   "metadata": {
    "collapsed": false
   }
  },
  {
   "cell_type": "markdown",
   "source": [
    "The following code snippet computes the implied volatility of **call** and **put** options market prices."
   ],
   "metadata": {
    "collapsed": false
   }
  },
  {
   "cell_type": "code",
   "execution_count": 10,
   "outputs": [
    {
     "name": "stdout",
     "output_type": "stream",
     "text": [
      "Implied volatilities of market prices (calls):\n",
      "S0 = 1859.48\n",
      "K = 1900.0, IV = 0.1598\n",
      "K = 1925.0, IV = 0.1577\n",
      "K = 1975.0, IV = 0.1532\n",
      "K = 2125.0, IV = 0.1372\n",
      "K = 2150.0, IV = 0.1346\n",
      "K = 2200.0, IV = 0.1295\n",
      "Implied volatilities of market prices (puts):\n",
      "S0 = 1859.48\n",
      "K = 1500.0, IV = 0.2958\n",
      "K = 1550.0, IV = 0.2869\n",
      "K = 1600.0, IV = 0.2787\n",
      "K = 1625.0, IV = 0.2751\n",
      "K = 1725.0, IV = 0.2596\n",
      "K = 1850.0, IV = 0.242\n"
     ]
    }
   ],
   "source": [
    "IV_market_c = []\n",
    "for i in range(len(call_prices)):\n",
    "    IV_market_c.append(implied_volatility(call_prices[i], S=S0, strike=call_strikes[i], t = T, rate=0.02, q = q, type_o='call', method='fsolve'))\n",
    "\n",
    "print(f'Implied volatilities of market prices (calls):\\nS0 = {S0}')\n",
    "for a,b in zip(call_strikes.tail(6), IV_market_c[-6:]):\n",
    "    print(f'K = {a}, IV = {round(b, 4)}')\n",
    "\n",
    "IV_market_p = []\n",
    "for i in range(len(put_prices)):\n",
    "    IV_market_p.append(implied_volatility(put_prices[i], S=S0, strike=put_strikes[i], t = T, rate=0.01, q = q, type_o='put', method='fsolve'))\n",
    "\n",
    "print(f'Implied volatilities of market prices (puts):\\nS0 = {S0}')\n",
    "for a,b in zip(put_strikes.head(6), IV_market_p[:6]):\n",
    "    print(f'K = {a}, IV = {round(b, 4)}')"
   ],
   "metadata": {
    "collapsed": false
   }
  },
  {
   "cell_type": "code",
   "execution_count": 11,
   "outputs": [
    {
     "data": {
      "text/plain": "<Figure size 1400x500 with 2 Axes>",
      "image/png": "[encoded data removed]"
     },
     "metadata": {},
     "output_type": "display_data"
    }
   ],
   "source": [
    "# Plot market implied volatilities w.r.t. log moneyness\n",
    "x = np.log(S0/put_strikes)\n",
    "# IV_filtered = [iv for iv in IV_market_p if iv != -1]\n",
    "# x_filtered = [log_m for iv, log_m in zip(IV_market_p, x) if iv != -1]\n",
    "IV_filtered = [iv for iv in IV_market_c if iv != -1]\n",
    "x_filtered = [log_m for iv, log_m in zip(IV_market_c, x) if iv != -1]\n",
    "\n",
    "fig = plt.figure(figsize=(14,5))\n",
    "ax1 = fig.add_subplot(121); ax2 = fig.add_subplot(122)\n",
    "\n",
    "#CALLS\n",
    "ax1.scatter(x, IV_market_c, marker='x', label='BS inversion', color='red')\n",
    "ax1.scatter(x, calls['C_IV'], marker='.', label='provided')\n",
    "\n",
    "#PUTS\n",
    "ax2.scatter(x, IV_market_p, marker='x', label='BS inversion', color = 'red')\n",
    "ax2.scatter(x, puts['P_IV'], marker= '.', label='provided')\n",
    "\n",
    "ax1.set_xlabel('Log Moneyness: ln(S0/K)'); ax1.set_ylabel('Implied Volatility'); ax1.set_title('CALLS volatility smile')\n",
    "ax2.set_xlabel('Log Moneyness: ln(S0/K)'); ax2.set_ylabel('Implied Volatility')\n",
    "ax2.set_title('PUTS volatility smile')\n",
    "ax1.legend(); ax2.legend(); plt.show()\n"
   ],
   "metadata": {
    "collapsed": false
   }
  },
  {
   "cell_type": "markdown",
   "source": [
    "Therefore, we can compute the implied volatilities taking into account the theoretical **call prices**.."
   ],
   "metadata": {
    "collapsed": false
   }
  },
  {
   "cell_type": "code",
   "execution_count": 12,
   "outputs": [
    {
     "name": "stdout",
     "output_type": "stream",
     "text": [
      "Implied volatilities found by each model for call options:\n",
      "   Strike  BlackScholes    Merton       Kou  VarianceGamma\n",
      "0  1475.0           0.2  0.312980  0.203561       0.152474\n",
      "1  1525.0           0.2  0.298670  0.195496       0.154609\n",
      "2  1550.0           0.2  0.291784  0.191747       0.155819\n",
      "3  1575.0           0.2  0.285077  0.188218       0.157110\n",
      "4  1625.0           0.2  0.272220  0.181881       0.159881\n",
      "5  1725.0           0.2  0.248958  0.172269       0.165856\n",
      "6  1775.0           0.2  0.238715  0.168940       0.168914\n"
     ]
    }
   ],
   "source": [
    "strikes = call_th_prices['Strike'].tolist(); IV_BS = []; IV_M = []; IV_K = []; IV_VG = []\n",
    "\n",
    "for i in range(len(call_th_prices)):\n",
    "    IV_BS.append(implied_volatility(call_th_prices['BlackScholes'].iloc[i], S=S0, strike=strikes[i], t=T, rate=r,q=q, type_o='call', method='newton') )\n",
    "    IV_M.append(implied_volatility(call_th_prices['Merton'].values[i], S=S0, strike = strikes[i], t=T, rate=r, q=q,  type_o='call', method='newton'))\n",
    "    IV_K.append(implied_volatility(call_th_prices['Kou'].values[i], S=S0, strike = strikes[i], t=T, rate=r, q=q,  type_o='call', method='newton'))\n",
    "    IV_VG.append(implied_volatility(call_th_prices['VarianceGamma'].values[i], S=S0, strike=strikes[i], t = T, rate=r, q=q, type_o='call', method='newton'))\n",
    "\n",
    "imp_vol_call = pd.DataFrame(columns=['Strike', 'BlackScholes', 'Merton', 'Kou', 'VarianceGamma'])\n",
    "imp_vol_call['Strike'] = strikes\n",
    "imp_vol_call['BlackScholes'] = IV_BS\n",
    "imp_vol_call['Merton'] = IV_M\n",
    "imp_vol_call['Kou'] = IV_K\n",
    "imp_vol_call['VarianceGamma'] = IV_VG\n",
    "\n",
    "print(f'Implied volatilities found by each model for call options:\\n{imp_vol_call.head(7)}')"
   ],
   "metadata": {
    "collapsed": false
   }
  },
  {
   "cell_type": "markdown",
   "source": [
    "... and **put prices**."
   ],
   "metadata": {
    "collapsed": false
   }
  },
  {
   "cell_type": "code",
   "execution_count": 13,
   "outputs": [
    {
     "name": "stdout",
     "output_type": "stream",
     "text": [
      "Implied volatilities found by each model for put options:\n",
      "    Strike  BlackScholes    Merton       Kou  VarianceGamma\n",
      "0  1500.0           0.2  0.202644  0.199442       0.153490\n",
      "1  1550.0           0.2  0.195628  0.191747       0.155819\n",
      "2  1600.0           0.2  0.188416  0.184925       0.158468\n",
      "3  1625.0           0.2  0.184756  0.181881       0.159881\n",
      "4  1725.0           0.2  0.169934  0.172269       0.165856\n",
      "5  1850.0           0.2  0.151107  0.165564       0.173459\n",
      "6  1875.0           0.2  0.147206  0.164822       0.174949\n"
     ]
    }
   ],
   "source": [
    "strikes = put_th_prices['Strike'].tolist(); IV_BS = []; IV_M = []; IV_K = []; IV_VG = []\n",
    "\n",
    "for i in range(len(put_prices)):\n",
    "    IV_BS.append(implied_volatility(put_th_prices['BlackScholes'].values[i], S=S0, strike=strikes[i], t=T, rate=r, q=q, type_o='put', method='newton' ) )\n",
    "    IV_M.append(implied_volatility(put_th_prices['Merton'].values[i], S=S0, strike = strikes[i], t=T, rate=r, q=q, type_o='put', method='fsolve'))\n",
    "    IV_K.append(implied_volatility(put_th_prices['Kou'].values[i], S=S0, strike = strikes[i], t=T, rate=r, q=q, type_o='put', method='fsolve'))\n",
    "    IV_VG.append(implied_volatility(put_th_prices['VarianceGamma'].values[i], S=S0, strike=strikes[i], t = T, rate=r, q=q, type_o='put', method='newton'))\n",
    "\n",
    "imp_vol_put = pd.DataFrame(columns=['Strike','BlackScholes', 'Merton', 'Kou', 'VarianceGamma'])\n",
    "imp_vol_put['Strike'] = strikes\n",
    "imp_vol_put['BlackScholes'] = IV_BS\n",
    "imp_vol_put['Merton'] = IV_M\n",
    "imp_vol_put['Kou'] = IV_K\n",
    "imp_vol_put['VarianceGamma'] = IV_VG\n",
    "\n",
    "print(f'Implied volatilities found by each model for put options:\\n {imp_vol_put.head(7)}')"
   ],
   "metadata": {
    "collapsed": false
   }
  },
  {
   "cell_type": "code",
   "execution_count": 14,
   "outputs": [
    {
     "name": "stdout",
     "output_type": "stream",
     "text": [
      "Total absolute error IV from CALLS vs IV from PUTS: \n",
      "> BS:  0.0\n",
      "> MERTON:  4.885563220365003\n",
      "> KOU:  0.054684485715780745\n",
      "> VG:  0.06954765936179019\n"
     ]
    }
   ],
   "source": [
    "print('Total absolute error IV from CALLS vs IV from PUTS: ')\n",
    "print(f'> BS: ', np.linalg.norm(imp_vol_put['BlackScholes'] - imp_vol_call['BlackScholes'], 1))\n",
    "print(f'> MERTON: ', np.linalg.norm(imp_vol_put['Merton'] - imp_vol_call['Merton'], 1))\n",
    "print(f'> KOU: ', np.linalg.norm(imp_vol_put['Kou'] - imp_vol_call['Kou'], 1))\n",
    "print(f'> VG: ', np.linalg.norm(imp_vol_put['VarianceGamma'] - imp_vol_call['VarianceGamma'], 1))"
   ],
   "metadata": {
    "collapsed": false
   }
  },
  {
   "cell_type": "markdown",
   "source": [
    "##### Plot"
   ],
   "metadata": {
    "collapsed": false
   }
  },
  {
   "cell_type": "code",
   "execution_count": 15,
   "outputs": [
    {
     "data": {
      "text/plain": "<Figure size 1600x400 with 2 Axes>",
      "image/png": "[encoded data removed]"
     },
     "metadata": {},
     "output_type": "display_data"
    }
   ],
   "source": [
    "fig = plt.figure(figsize=(16,4))\n",
    "ax1 = fig.add_subplot(121); ax2 = fig.add_subplot(122)\n",
    "\n",
    "ax1.plot(call_strikes, call_th_prices['BlackScholes'], label=\"BS\"); ax1.plot(call_strikes, call_th_prices['Merton'], label=\"MERT\")\n",
    "ax1.plot(call_strikes, call_th_prices['Kou'], label=\"KOU\"); ax1.plot(call_strikes, call_th_prices['VarianceGamma'], label=\"VG\")\n",
    "ax1.set_title(\"Comparison of call prices\"); ax1.set_xlabel(\"Strike\"); ax1.set_ylabel(\"Price\")\n",
    "\n",
    "ax2.plot(call_strikes, imp_vol_call['BlackScholes'], label=\"BS\"); ax2.plot(call_strikes, imp_vol_call['Merton'], label=\"MERT\")\n",
    "ax2.plot(call_strikes, imp_vol_call['Kou'], label=\"KOU\"); ax2.plot(call_strikes, imp_vol_call['VarianceGamma'], label=\"VG\")\n",
    "ax2.set_title(\"Comparison of Implied volatilities\"); ax2.set_xlabel(\"Strike\"); ax2.set_ylabel(\"Imp Vol\")\n",
    "\n",
    "ax1.legend(); ax2.legend(); plt.show()"
   ],
   "metadata": {
    "collapsed": false
   }
  },
  {
   "cell_type": "markdown",
   "source": [
    "##  Calibration\n",
    "Let's step now into the calibration of model parameters.\n",
    "If we define $\\Theta$ the set of parameters, the goal is to find the optimal parameters $\\Theta^*$ that minimize the following objective function:\n",
    "$$ \\sum_{i=1}^{N} \\biggl( P_i - f(K_i|\\Theta) \\biggr)^2 $$\n",
    "where $P_i$ are the market prices and  $f$ is the pricing function. In our case $f$ is given by **Merton** Jump Diffusion model, **Kou** Jump Diffusion model, or **Variance Gamma** process. To perfrom this optimization problem, many numerical methods can be used. In oarticular, we test two functions of `scipy.optimize`:\n",
    "1. **curve_fit**, a least-squares curve fitting method which works both with and without bounds. When bounds are set it uses the [Trust Region Reflective (trf)](https://en.wikipedia.org/wiki/Trust_region) and the [Levemberg-Marquadt](https://en.wikipedia.org/wiki/Levenberg%E2%80%93Marquardt_algorithm) when they are not.\n",
    "2. **minimize(method='SLSQP')**, a constrained minimization problem which uses [Sequential Quadratic Programming](https://en.wikipedia.org/wiki/Sequential_quadratic_programming).\n",
    "First we initialize a starting point in the array $x_0 = [σ, λ, m, v]$, then we set\n"
   ],
   "metadata": {
    "collapsed": false
   },
   "outputs": []
  },
  {
   "cell_type": "markdown",
   "source": [
    "### Black and Scholes model\n",
    "The only unknown parameter to calibrate in Black and Scholes model is the **implied volatility**, $\\sigma$. Thus, we minimize the difference between the computed theoretical prices and the market prices of both call and put options."
   ],
   "metadata": {
    "collapsed": false
   }
  },
  {
   "cell_type": "code",
   "execution_count": 16,
   "outputs": [
    {
     "name": "stdout",
     "output_type": "stream",
     "text": [
      "METHOD 1: CURVE_FIT (trf)\n",
      "> Calibrated Volatility from Calls [σ] = 0.1564 \t 15.64%\n"
     ]
    }
   ],
   "source": [
    "x0 = 0.4\n",
    "bounds =( [0], [np.inf])\n",
    "\n",
    "# CALL OPTIONS\n",
    "def f_BlackScholes_call(x, sigm):\n",
    "    BS = BS_Pricer(S0=S0, K = x, ttm=T, r=r, q=0, sigma=sigm, exercise='call')\n",
    "    return BS.closed_formula_call(x)\n",
    "\n",
    "res1_calls = scpo.curve_fit(f_BlackScholes_call, call_strikes, call_prices, p0 = x0, bounds=bounds)\n",
    "sigt_c = round(res1_calls[0][0],4)\n",
    "print('METHOD 1: CURVE_FIT (trf)')\n",
    "print(f'> Calibrated Volatility from Calls [σ] = {sigt_c} \\t {round(sigt_c*100,2)}%')"
   ],
   "metadata": {
    "collapsed": false
   }
  },
  {
   "cell_type": "code",
   "execution_count": 17,
   "outputs": [
    {
     "name": "stdout",
     "output_type": "stream",
     "text": [
      "   Iteration     Total nfev        Cost      Cost reduction    Step norm     Optimality   \n",
      "       0              1         3.3252e+11                                    2.00e+12    \n",
      "       1              2         5.0933e+10      2.82e+11       1.25e-01       3.65e+11    \n",
      "       2              3         7.1927e+09      4.37e+10       8.19e-02       6.42e+10    \n",
      "       3              4         9.1859e+08      6.27e+09       5.37e-02       1.08e+10    \n",
      "       4              5         1.0498e+08      8.14e+08       3.48e-02       1.73e+09    \n",
      "       5              6         1.1037e+07      9.39e+07       2.22e-02       2.61e+08    \n",
      "       6              7         1.2525e+06      9.78e+06       1.43e-02       3.59e+07    \n",
      "       7              8         3.0710e+05      9.45e+05       1.10e-02       1.47e+06    \n",
      "       8             12         3.0260e+05      4.51e+03       7.26e-04       4.90e+05    \n",
      "       9             13         3.0254e+05      5.44e+01       7.24e-04       5.47e+06    \n",
      "      10             14         3.0232e+05      2.23e+02       6.21e-04       3.53e+05    \n",
      "      11             15         3.0223e+05      9.32e+01       4.53e-05       2.93e+05    \n",
      "      12             16         3.0209e+05      1.35e+02       9.05e-05       1.73e+05    \n",
      "      13             17         3.0203e+05      6.29e+01       1.81e-04       7.60e+05    \n",
      "      14             20         3.0202e+05      9.68e+00       3.88e-05       1.59e+05    \n",
      "      15             22         3.0202e+05      4.44e-01       9.70e-06       9.06e+03    \n",
      "      16             25         3.0202e+05      1.47e-03       6.06e-07       2.78e+01    \n",
      "`ftol` termination condition is satisfied.\n",
      "Function evaluations 25, initial cost 3.3252e+11, final cost 3.0202e+05, first-order optimality 2.78e+01.\n",
      "METHOD 2: LEAST-SQUARES (trf)\n",
      "> Calibrated Volatility from Calls [σ] = 0.15644721219541705 \t 15.64%\n"
     ]
    }
   ],
   "source": [
    "# CALL OPTIONS\n",
    "params = {'sigma': {'x0': 0.4, 'lbub': [1e-3, 2]}}\n",
    "x0 = 0.5\n",
    "bnds = [1e-5, 2]\n",
    "\n",
    "def cost_function(x, strikes, mkt_prices):\n",
    "    sigma = x\n",
    "    BS = BS_Pricer(S0=S0, K = None, ttm=T, r=r, q=0, sigma=sigma, exercise='put')\n",
    "    sq_err = np.sum( (BS.closed_formula_call(strikes) - mkt_prices)**2)\n",
    "    return sq_err\n",
    "\n",
    "result_c = scpo.least_squares(cost_function, x0, args=(call_strikes, call_prices), bounds=bnds, method = 'trf', verbose=2)\n",
    "opt_sigma_c = result_c.x[0]\n",
    "print('METHOD 2: LEAST-SQUARES (trf)')\n",
    "print(f'> Calibrated Volatility from Calls [σ] = {opt_sigma_c} \\t {round(opt_sigma_c*100,2)}%')"
   ],
   "metadata": {
    "collapsed": false
   }
  },
  {
   "cell_type": "code",
   "execution_count": 18,
   "outputs": [
    {
     "name": "stdout",
     "output_type": "stream",
     "text": [
      "   Iteration     Total nfev        Cost      Cost reduction    Step norm     Optimality   \n",
      "       0              1         1.2290e+10                                    1.37e+11    \n",
      "       1              2         1.3918e+09      1.09e+10       6.08e-02       2.21e+10    \n",
      "       2              3         1.4201e+08      1.25e+09       3.78e-02       3.35e+09    \n",
      "       3              4         1.4662e+07      1.27e+08       2.35e-02       4.71e+08    \n",
      "       4              5         2.4737e+06      1.22e+07       1.62e-02       4.65e+07    \n",
      "       5              7         2.0019e+06      4.72e+05       6.27e-03       3.05e+07    \n",
      "       6             10         1.9987e+06      3.23e+03       1.01e-03       2.84e+06    \n",
      "       7             11         1.9977e+06      9.45e+02       9.70e-05       2.14e+06    \n",
      "       8             12         1.9966e+06      1.09e+03       1.94e-04       7.41e+05    \n",
      "       9             13         1.9966e+06      3.30e+01       1.94e-04       4.47e+06    \n",
      "      10             14         1.9965e+06      9.83e+01       1.27e-04       2.58e+05    \n",
      "      11             15         1.9965e+06      1.59e+01       4.85e-05       6.20e+05    \n",
      "      12             18         1.9965e+06      1.93e+00       7.92e-06       2.31e+05    \n",
      "      13             19         1.9965e+06      1.66e-01       7.92e-06       2.32e+04    \n",
      "      14             20         1.9965e+06      6.06e-02       7.57e-07       1.77e+04    \n",
      "      15             21         1.9965e+06      7.27e-02       1.51e-06       6.85e+03    \n",
      "      16             22         1.9965e+06      8.03e-03       1.51e-06       2.76e+04    \n",
      "      17             23         1.9965e+06      2.06e-03       9.90e-07       3.08e+03    \n",
      "      18             24         1.9965e+06      9.97e-04       9.47e-08       2.40e+03    \n",
      "`ftol` termination condition is satisfied.\n",
      "Function evaluations 24, initial cost 1.2290e+10, final cost 1.9965e+06, first-order optimality 2.40e+03.\n",
      "METHOD 2: LEAST-SQUARES (trf)\n",
      "> Calibrated Volatility from Puts [σ] = 0.25599135058912537 \t 25.6%\n"
     ]
    }
   ],
   "source": [
    "# PUT OPTIONS\n",
    "#params = {'sigma': {'x0': 0.4, 'lbub': [1e-3, 2]}}\n",
    "x0 = 0.4\n",
    "bnds = [1e-3, 2]\n",
    "\n",
    "def cost_function(x, strikes, mkt_prices):\n",
    "    sigma = x\n",
    "    BS = BS_Pricer(S0=S0, K = None, ttm=T, r=r, q=0, sigma=sigma, exercise='put')\n",
    "    sq_err = np.sum( (BS.closed_formula_put(strikes) - mkt_prices)**2)\n",
    "    return sq_err\n",
    "\n",
    "result_p = scpo.least_squares(cost_function, x0, args=(put_strikes, put_prices), bounds=bnds, method = 'trf', verbose=2)\n",
    "opt_sigma_p = result_p.x[0]\n",
    "\n",
    "print('METHOD 2: LEAST-SQUARES (trf)')\n",
    "print(f'> Calibrated Volatility from Puts [σ] = {opt_sigma_p} \\t {round(opt_sigma_p*100,2)}%')"
   ],
   "metadata": {
    "collapsed": false
   }
  },
  {
   "cell_type": "markdown",
   "source": [
    "### Merton Jump Diffusion\n",
    "The Merton Jump diffusion ones are the volatility $\\sigma$, the Poisson rate of jumps $\\lambda$, the mean rate of jump intensity $m$ and its variance rate $v$, assuming that the intensity of jumps follows a *Normal distribution*.\n"
   ],
   "metadata": {
    "collapsed": false
   }
  },
  {
   "cell_type": "markdown",
   "source": [
    "##### Method 1. Bounds"
   ],
   "metadata": {
    "collapsed": false
   }
  },
  {
   "cell_type": "code",
   "execution_count": 19,
   "outputs": [
    {
     "name": "stdout",
     "output_type": "stream",
     "text": [
      "METHOD 1: CURVE_FIT (trf)\n",
      "> Calibrated Volatlity [σ] = 0.1248 \t 12.48%\n",
      "> Calibrated Jump intensity [λ] =  0.61\n",
      "> Calibrated Jump Mean =  -0.08\n",
      "> Calibrated Jump St. dev.  =  0.1\n",
      "TIME ELAPSED:  6.06 sec\n"
     ]
    }
   ],
   "source": [
    "x0 = [0.15, 1, 0.1, 1] # initial guess: [σ, λ, m, v]\n",
    "bounds = ( [0, 1e-2, -10, 0.1], [np.inf, np.inf, 10, 5] )\n",
    "\n",
    "def f_Mert(x, sigma, lambd, meanJ, stdJ):\n",
    "    Mert = Merton_pricer(S0=S0, K=x, ttm=T, r=r, q=0, sigma=sigma, lambd=lambd, meanJ=meanJ, stdJ=stdJ, exercise=exercise)\n",
    "    return Mert.closed_formula_call(x)\n",
    "\n",
    "start=time.time()\n",
    "res1 = scpo.curve_fit(f_Mert, call_strikes, call_prices, p0=x0, bounds=bounds)\n",
    "end = time.time()\n",
    "\n",
    "sigt = round(res1[0][0],4)\n",
    "lambdt = round(res1[0][1],2)\n",
    "mt = round(res1[0][2],2)\n",
    "vt = round(res1[0][3],5)\n",
    "\n",
    "print('METHOD 1: CURVE_FIT (trf)')\n",
    "print(f'> Calibrated Volatlity [σ] = {sigt} \\t {round(sigt*100,2)}%')\n",
    "print('> Calibrated Jump intensity [λ] = ', lambdt)\n",
    "print('> Calibrated Jump Mean = ', mt)\n",
    "print('> Calibrated Jump St. dev.  = ', vt)\n",
    "print(f'TIME ELAPSED:  {round(end-start,2)} sec')"
   ],
   "metadata": {
    "collapsed": false
   }
  },
  {
   "cell_type": "markdown",
   "source": [
    "##### Method 2. Least-squares"
   ],
   "metadata": {
    "collapsed": false
   }
  },
  {
   "cell_type": "code",
   "execution_count": 20,
   "outputs": [
    {
     "name": "stdout",
     "output_type": "stream",
     "text": [
      "The maximum number of function evaluations is exceeded.\n",
      "Function evaluations 400, initial cost 1.7397e+11, final cost 1.9560e+05, first-order optimality 7.45e+05.\n"
     ]
    }
   ],
   "source": [
    "x0 = [0.4, 1, -0.1, 0.2]      # initial guess: [σ, λ, m, v]\n",
    "bounds = ( [1e-3, 1e-2, -10, 0], [2, np.inf, 10, 5] )\n",
    "\n",
    "start = time.time()\n",
    "def cost_function(x, strikes, mkt_prices):\n",
    "    sigma, lambd, meanJ, stdJ = x\n",
    "    M = Merton_pricer(S0, None, T, r, q, sigma, lambd, meanJ, stdJ, exercise)\n",
    "    sq_err = np.sum( (M.closed_formula_call(strikes) - mkt_prices)**2)\n",
    "    return sq_err\n",
    "\n",
    "result_c = scpo.least_squares(cost_function, x0, args=(call_strikes, call_prices), bounds=bounds, method = 'trf', verbose=1)\n",
    "end = time.time()\n",
    "mert_opt_params2 = result_c.x"
   ],
   "metadata": {
    "collapsed": false
   }
  },
  {
   "cell_type": "code",
   "execution_count": 21,
   "outputs": [
    {
     "name": "stdout",
     "output_type": "stream",
     "text": [
      "[ 0.1175539   0.88331968 -0.07975604  0.08497628]\n",
      "METHOD 1: LEAST SQUARES (trf)\n",
      "> Calibrated Volatlity [σ] = 0.11755389816663356 \t 11.76%\n",
      "> Calibrated Jump intensity [λ] =  0.88\n",
      "> Calibrated Jump Mean =  -0.08\n",
      "> Calibrated Jump St. dev.  =  0.085\n",
      "TIME ELAPSED:  52.4 sec\n"
     ]
    }
   ],
   "source": [
    "print(result_c.x)\n",
    "print('METHOD 1: LEAST SQUARES (trf)')\n",
    "print(f'> Calibrated Volatlity [σ] = {mert_opt_params2[0]} \\t {round(mert_opt_params2[0]*100,2)}%')\n",
    "print('> Calibrated Jump intensity [λ] = ', round(mert_opt_params2[1],2))\n",
    "print('> Calibrated Jump Mean = ', round(mert_opt_params2[2],3))\n",
    "print('> Calibrated Jump St. dev.  = ', round(mert_opt_params2[3],3))\n",
    "print(f'TIME ELAPSED:  {round(end-start,2)} sec')\n"
   ],
   "metadata": {
    "collapsed": false
   }
  },
  {
   "cell_type": "markdown",
   "source": [
    "##### Method 2. Bounds"
   ],
   "metadata": {
    "collapsed": false
   }
  },
  {
   "cell_type": "code",
   "execution_count": null,
   "outputs": [],
   "source": [
    "x0 = [0.3, 0.8, -0.3, 0.4]      # initial guess: [σ, λ, m, v]\n",
    "bounds = [(1e-6, 10), (0, 20), (-10, 10),  (0, 15)]\n",
    "\n",
    "# Define the objective function\n",
    "def obj_function(x, strikes, prices):\n",
    "    sigm, lamb, mean, std = x\n",
    "    Mert = Merton_pricer(S0=S0, K=strikes, ttm=T, r=r, q=0, sigma=sigm, lambd=lamb, meanJ=mean, stdJ=std, exercise=exercise)\n",
    "    return np.sum((Mert.closed_formula_call(K) - prices) ** 2)\n",
    "\n",
    "start=time.time()\n",
    "res2_2 = scpo.minimize(obj_function, x0, args=(call_strikes, call_prices),  method='trust-constr', bounds=bounds, tol=1e-20)\n",
    "end=time.time()\n",
    "\n",
    "print(res2_2.message)\n",
    "sigt4, lambdt4, mt4, vt4 = res2_2.x\n",
    "\n",
    "# Print the results\n",
    "print('\\n> METHOD 2: MINIMIZE (trust-constr)')\n",
    "print(f'Calibrated Volatility [σ] = {round(sigt4, 5)}, \\t  {round(sigt4*100,2)}%')\n",
    "print('Calibrated Jump Intensity [λ] =', round(lambdt4, 2))\n",
    "print('Calibrated Jump Mean [m] =', round(mt4, 2))\n",
    "print('Calibrated Jump St. dev. [v] =', round(vt4, 2))\n",
    "print(f'\\nTIME ELAPSED:  {round(end-start,2)} sec')"
   ],
   "metadata": {
    "collapsed": false
   }
  },
  {
   "cell_type": "code",
   "execution_count": null,
   "outputs": [],
   "source": [
    "mert_params = [sigt, lambdt, mt, vt]\n",
    "print(mert_params)"
   ],
   "metadata": {
    "collapsed": false
   }
  },
  {
   "cell_type": "markdown",
   "source": [
    "### Kou Jump Diffusion\n"
   ],
   "metadata": {
    "collapsed": false
   }
  },
  {
   "cell_type": "code",
   "execution_count": 22,
   "outputs": [],
   "source": [
    "x0 = [0.1, 1, 0.4, 5, 5] # initial guess: [σ, λ, p, η_1, η_2]\n",
    "bounds = ( [1e-3, 1e-2, 0, 0, 0], [2, 5, 0.99,  15, 15] )"
   ],
   "metadata": {
    "collapsed": false
   }
  },
  {
   "cell_type": "markdown",
   "source": [
    "##### Method 1. TRF (Bounds)"
   ],
   "metadata": {
    "collapsed": false
   }
  },
  {
   "cell_type": "code",
   "execution_count": 23,
   "outputs": [
    {
     "name": "stdout",
     "output_type": "stream",
     "text": [
      "METHOD 1: CURVE_FIT (trf)\n",
      "> Calibrated Volatlity [σ] = 0.12632 \t 12.63%\n",
      "> Calibrated Jump intensity [λ] =  1.12\n",
      "> Calibrated Upward Jump probability [p] = 0.0, [q] = 1.0\n",
      "> Calibrated Rate of Exp. 1  [η_1] =  15.0\n",
      "> Calibrated Rate of Exp. 2  [η_2] =  15.0\n",
      "TIME ELAPSED:  127.7 sec\n"
     ]
    }
   ],
   "source": [
    "def f_Kou(x, sigma, lambd, p, eta1, eta2):\n",
    "    KouJD = Kou_pricer(S0=S0, K=x, ttm=T, r=r, sigma=sigma, lambd=lambd, p=p, eta1=eta1, eta2=eta2, exercise=exercise)\n",
    "    return KouJD.closed_formula_call(x)\n",
    "\n",
    "start = time.time()\n",
    "res1 = scpo.curve_fit(f_Kou, call_strikes, call_prices, p0=x0, bounds=bounds)\n",
    "end = time.time()\n",
    "\n",
    "sigt = round(res1[0][0],5)\n",
    "lambdt = round(res1[0][1],2)\n",
    "pt = round(res1[0][2],2)\n",
    "eta1_t = round(res1[0][3],1)\n",
    "eta2_t = round(res1[0][4],1)\n",
    "\n",
    "print('METHOD 1: CURVE_FIT (trf)')\n",
    "print(f'> Calibrated Volatlity [σ] = {sigt} \\t {round(sigt*100,2)}%')\n",
    "print('> Calibrated Jump intensity [λ] = ', lambdt)\n",
    "print(f'> Calibrated Upward Jump probability [p] = {pt}, [q] = {round(1-pt,2)}')\n",
    "print('> Calibrated Rate of Exp. 1  [η_1] = ', eta1_t)\n",
    "print('> Calibrated Rate of Exp. 2  [η_2] = ', eta2_t)\n",
    "print(f'TIME ELAPSED:  {round(end-start,2)} sec')"
   ],
   "metadata": {
    "collapsed": false
   }
  },
  {
   "cell_type": "markdown",
   "source": [
    "##### Method 2. LEAST SQUARES (With Bounds)"
   ],
   "metadata": {
    "collapsed": false
   }
  },
  {
   "cell_type": "code",
   "execution_count": 25,
   "outputs": [],
   "source": [
    "# Define the objective function\n",
    "def cost_function(x, strikes, mkt_prices):\n",
    "    sigm, lamb, p, eta1, eta2 = x\n",
    "    KOU = Kou_pricer(S0=S0, K=strikes, ttm=T, r=r, sigma=sigm, lambd=lamb, p=p, eta1=eta1, eta2=eta2, exercise=exercise)\n",
    "    sq_err = np.sum((KOU.closed_formula_call(strikes) - mkt_prices) ** 2)\n",
    "    return sq_err"
   ],
   "metadata": {
    "collapsed": false
   }
  },
  {
   "cell_type": "code",
   "execution_count": null,
   "outputs": [],
   "source": [
    "start=time.time()\n",
    "res2 = scpo.least_squares(cost_function, x0, args=(call_strikes, call_prices),  method='trf', bounds=bounds, verbose=2)\n",
    "end=time.time()\n",
    "\n",
    "kou_opt_params2 = res2.x\n",
    "print('METHOD 2: Least-squares')\n",
    "print(f'> Calibrated Volatlity [σ] = {round(kou_opt_params2[0],4)} \\t {round(kou_opt_params2[0]*100,2)}%')\n",
    "print('> Calibrated Jump intensity [λ] = ', round(kou_opt_params2[1],2))\n",
    "print(f'> Calibrated Upward Jump probability [p] = {round(kou_opt_params2[2],2)}, [q] = {round(1-kou_opt_params2[2],2)}')\n",
    "print('> Calibrated Rate of Exp. 1  [η_1] = ', round(kou_opt_params2[3],2))\n",
    "print('> Calibrated Rate of Exp. 2  [η_2] = ', round(kou_opt_params2[4],2))\n",
    "print(f'TIME ELAPSED:  {round(end-start,2)} sec')"
   ],
   "metadata": {
    "collapsed": false
   }
  },
  {
   "cell_type": "markdown",
   "source": [
    "##### Method 3: MINIMIZE (trust-constrained) Bounds"
   ],
   "metadata": {
    "collapsed": false
   }
  },
  {
   "cell_type": "code",
   "execution_count": 26,
   "outputs": [
    {
     "ename": "KeyboardInterrupt",
     "evalue": "",
     "output_type": "error",
     "traceback": [
      "\u001B[1;31m---------------------------------------------------------------------------\u001B[0m",
      "\u001B[1;31mKeyboardInterrupt\u001B[0m                         Traceback (most recent call last)",
      "Cell \u001B[1;32mIn[26], line 4\u001B[0m\n\u001B[0;32m      2\u001B[0m bounds \u001B[38;5;241m=\u001B[39m [(\u001B[38;5;241m1e-1\u001B[39m, \u001B[38;5;241m1\u001B[39m), (\u001B[38;5;241m1e-2\u001B[39m, \u001B[38;5;241m10\u001B[39m), (\u001B[38;5;241m0\u001B[39m,\u001B[38;5;241m1\u001B[39m), (\u001B[38;5;241m0\u001B[39m,\u001B[38;5;241m15\u001B[39m), (\u001B[38;5;241m0\u001B[39m,\u001B[38;5;241m15\u001B[39m)]\n\u001B[0;32m      3\u001B[0m start\u001B[38;5;241m=\u001B[39mtime\u001B[38;5;241m.\u001B[39mtime()\n\u001B[1;32m----> 4\u001B[0m res3 \u001B[38;5;241m=\u001B[39m \u001B[43mscpo\u001B[49m\u001B[38;5;241;43m.\u001B[39;49m\u001B[43mminimize\u001B[49m\u001B[43m(\u001B[49m\u001B[43mcost_function\u001B[49m\u001B[43m,\u001B[49m\u001B[43m \u001B[49m\u001B[43mx0\u001B[49m\u001B[43m,\u001B[49m\u001B[43m \u001B[49m\u001B[43margs\u001B[49m\u001B[38;5;241;43m=\u001B[39;49m\u001B[43m(\u001B[49m\u001B[43mcall_strikes\u001B[49m\u001B[43m,\u001B[49m\u001B[43m \u001B[49m\u001B[43mcall_prices\u001B[49m\u001B[43m)\u001B[49m\u001B[43m,\u001B[49m\u001B[43m  \u001B[49m\u001B[43mmethod\u001B[49m\u001B[38;5;241;43m=\u001B[39;49m\u001B[38;5;124;43m'\u001B[39;49m\u001B[38;5;124;43mtrust-constr\u001B[39;49m\u001B[38;5;124;43m'\u001B[39;49m\u001B[43m,\u001B[49m\u001B[43m \u001B[49m\u001B[43mbounds\u001B[49m\u001B[38;5;241;43m=\u001B[39;49m\u001B[43mbounds\u001B[49m\u001B[43m,\u001B[49m\u001B[43m \u001B[49m\u001B[43mtol\u001B[49m\u001B[38;5;241;43m=\u001B[39;49m\u001B[38;5;241;43m1e-20\u001B[39;49m\u001B[43m)\u001B[49m\n\u001B[0;32m      5\u001B[0m end\u001B[38;5;241m=\u001B[39mtime\u001B[38;5;241m.\u001B[39mtime()\n\u001B[0;32m      6\u001B[0m \u001B[38;5;28mprint\u001B[39m(\u001B[38;5;124m'\u001B[39m\u001B[38;5;124mMETHOD 3: MINIMIZE (trust-constr)\u001B[39m\u001B[38;5;124m'\u001B[39m); \u001B[38;5;28mprint\u001B[39m(\u001B[38;5;124mf\u001B[39m\u001B[38;5;124m'\u001B[39m\u001B[38;5;124mmessage: \u001B[39m\u001B[38;5;132;01m{\u001B[39;00mres3\u001B[38;5;241m.\u001B[39mmessage\u001B[38;5;132;01m}\u001B[39;00m\u001B[38;5;130;01m\\n\u001B[39;00m\u001B[38;5;124msuccess:\u001B[39m\u001B[38;5;132;01m{\u001B[39;00mres3\u001B[38;5;241m.\u001B[39msuccess\u001B[38;5;132;01m}\u001B[39;00m\u001B[38;5;124m'\u001B[39m)\n",
      "File \u001B[1;32mc:\\users\\ornel\\appdata\\local\\programs\\python\\python38\\lib\\site-packages\\scipy\\optimize\\_minimize.py:708\u001B[0m, in \u001B[0;36mminimize\u001B[1;34m(fun, x0, args, method, jac, hess, hessp, bounds, constraints, tol, callback, options)\u001B[0m\n\u001B[0;32m    705\u001B[0m     res \u001B[38;5;241m=\u001B[39m _minimize_slsqp(fun, x0, args, jac, bounds,\n\u001B[0;32m    706\u001B[0m                           constraints, callback\u001B[38;5;241m=\u001B[39mcallback, \u001B[38;5;241m*\u001B[39m\u001B[38;5;241m*\u001B[39moptions)\n\u001B[0;32m    707\u001B[0m \u001B[38;5;28;01melif\u001B[39;00m meth \u001B[38;5;241m==\u001B[39m \u001B[38;5;124m'\u001B[39m\u001B[38;5;124mtrust-constr\u001B[39m\u001B[38;5;124m'\u001B[39m:\n\u001B[1;32m--> 708\u001B[0m     res \u001B[38;5;241m=\u001B[39m \u001B[43m_minimize_trustregion_constr\u001B[49m\u001B[43m(\u001B[49m\u001B[43mfun\u001B[49m\u001B[43m,\u001B[49m\u001B[43m \u001B[49m\u001B[43mx0\u001B[49m\u001B[43m,\u001B[49m\u001B[43m \u001B[49m\u001B[43margs\u001B[49m\u001B[43m,\u001B[49m\u001B[43m \u001B[49m\u001B[43mjac\u001B[49m\u001B[43m,\u001B[49m\u001B[43m \u001B[49m\u001B[43mhess\u001B[49m\u001B[43m,\u001B[49m\u001B[43m \u001B[49m\u001B[43mhessp\u001B[49m\u001B[43m,\u001B[49m\n\u001B[0;32m    709\u001B[0m \u001B[43m                                       \u001B[49m\u001B[43mbounds\u001B[49m\u001B[43m,\u001B[49m\u001B[43m \u001B[49m\u001B[43mconstraints\u001B[49m\u001B[43m,\u001B[49m\n\u001B[0;32m    710\u001B[0m \u001B[43m                                       \u001B[49m\u001B[43mcallback\u001B[49m\u001B[38;5;241;43m=\u001B[39;49m\u001B[43mcallback\u001B[49m\u001B[43m,\u001B[49m\u001B[43m \u001B[49m\u001B[38;5;241;43m*\u001B[39;49m\u001B[38;5;241;43m*\u001B[39;49m\u001B[43moptions\u001B[49m\u001B[43m)\u001B[49m\n\u001B[0;32m    711\u001B[0m \u001B[38;5;28;01melif\u001B[39;00m meth \u001B[38;5;241m==\u001B[39m \u001B[38;5;124m'\u001B[39m\u001B[38;5;124mdogleg\u001B[39m\u001B[38;5;124m'\u001B[39m:\n\u001B[0;32m    712\u001B[0m     res \u001B[38;5;241m=\u001B[39m _minimize_dogleg(fun, x0, args, jac, hess,\n\u001B[0;32m    713\u001B[0m                            callback\u001B[38;5;241m=\u001B[39mcallback, \u001B[38;5;241m*\u001B[39m\u001B[38;5;241m*\u001B[39moptions)\n",
      "File \u001B[1;32mc:\\users\\ornel\\appdata\\local\\programs\\python\\python38\\lib\\site-packages\\scipy\\optimize\\_trustregion_constr\\minimize_trustregion_constr.py:509\u001B[0m, in \u001B[0;36m_minimize_trustregion_constr\u001B[1;34m(fun, x0, args, grad, hess, hessp, bounds, constraints, xtol, gtol, barrier_tol, sparse_jacobian, callback, maxiter, verbose, finite_diff_rel_step, initial_constr_penalty, initial_tr_radius, initial_barrier_parameter, initial_barrier_tolerance, factorization_method, disp)\u001B[0m\n\u001B[0;32m    500\u001B[0m     _, result \u001B[38;5;241m=\u001B[39m equality_constrained_sqp(\n\u001B[0;32m    501\u001B[0m         fun_and_constr, grad_and_jac, lagrangian_hess,\n\u001B[0;32m    502\u001B[0m         x0, objective\u001B[38;5;241m.\u001B[39mf, objective\u001B[38;5;241m.\u001B[39mg,\n\u001B[1;32m   (...)\u001B[0m\n\u001B[0;32m    505\u001B[0m         initial_constr_penalty, initial_tr_radius,\n\u001B[0;32m    506\u001B[0m         factorization_method)\n\u001B[0;32m    508\u001B[0m \u001B[38;5;28;01melif\u001B[39;00m method \u001B[38;5;241m==\u001B[39m \u001B[38;5;124m'\u001B[39m\u001B[38;5;124mtr_interior_point\u001B[39m\u001B[38;5;124m'\u001B[39m:\n\u001B[1;32m--> 509\u001B[0m     _, result \u001B[38;5;241m=\u001B[39m \u001B[43mtr_interior_point\u001B[49m\u001B[43m(\u001B[49m\n\u001B[0;32m    510\u001B[0m \u001B[43m        \u001B[49m\u001B[43mobjective\u001B[49m\u001B[38;5;241;43m.\u001B[39;49m\u001B[43mfun\u001B[49m\u001B[43m,\u001B[49m\u001B[43m \u001B[49m\u001B[43mobjective\u001B[49m\u001B[38;5;241;43m.\u001B[39;49m\u001B[43mgrad\u001B[49m\u001B[43m,\u001B[49m\u001B[43m \u001B[49m\u001B[43mlagrangian_hess\u001B[49m\u001B[43m,\u001B[49m\n\u001B[0;32m    511\u001B[0m \u001B[43m        \u001B[49m\u001B[43mn_vars\u001B[49m\u001B[43m,\u001B[49m\u001B[43m \u001B[49m\u001B[43mcanonical\u001B[49m\u001B[38;5;241;43m.\u001B[39;49m\u001B[43mn_ineq\u001B[49m\u001B[43m,\u001B[49m\u001B[43m \u001B[49m\u001B[43mcanonical\u001B[49m\u001B[38;5;241;43m.\u001B[39;49m\u001B[43mn_eq\u001B[49m\u001B[43m,\u001B[49m\n\u001B[0;32m    512\u001B[0m \u001B[43m        \u001B[49m\u001B[43mcanonical\u001B[49m\u001B[38;5;241;43m.\u001B[39;49m\u001B[43mfun\u001B[49m\u001B[43m,\u001B[49m\u001B[43m \u001B[49m\u001B[43mcanonical\u001B[49m\u001B[38;5;241;43m.\u001B[39;49m\u001B[43mjac\u001B[49m\u001B[43m,\u001B[49m\n\u001B[0;32m    513\u001B[0m \u001B[43m        \u001B[49m\u001B[43mx0\u001B[49m\u001B[43m,\u001B[49m\u001B[43m \u001B[49m\u001B[43mobjective\u001B[49m\u001B[38;5;241;43m.\u001B[39;49m\u001B[43mf\u001B[49m\u001B[43m,\u001B[49m\u001B[43m \u001B[49m\u001B[43mobjective\u001B[49m\u001B[38;5;241;43m.\u001B[39;49m\u001B[43mg\u001B[49m\u001B[43m,\u001B[49m\n\u001B[0;32m    514\u001B[0m \u001B[43m        \u001B[49m\u001B[43mc_ineq0\u001B[49m\u001B[43m,\u001B[49m\u001B[43m \u001B[49m\u001B[43mJ_ineq0\u001B[49m\u001B[43m,\u001B[49m\u001B[43m \u001B[49m\u001B[43mc_eq0\u001B[49m\u001B[43m,\u001B[49m\u001B[43m \u001B[49m\u001B[43mJ_eq0\u001B[49m\u001B[43m,\u001B[49m\n\u001B[0;32m    515\u001B[0m \u001B[43m        \u001B[49m\u001B[43mstop_criteria\u001B[49m\u001B[43m,\u001B[49m\n\u001B[0;32m    516\u001B[0m \u001B[43m        \u001B[49m\u001B[43mcanonical\u001B[49m\u001B[38;5;241;43m.\u001B[39;49m\u001B[43mkeep_feasible\u001B[49m\u001B[43m,\u001B[49m\n\u001B[0;32m    517\u001B[0m \u001B[43m        \u001B[49m\u001B[43mxtol\u001B[49m\u001B[43m,\u001B[49m\u001B[43m \u001B[49m\u001B[43mstate\u001B[49m\u001B[43m,\u001B[49m\u001B[43m \u001B[49m\u001B[43minitial_barrier_parameter\u001B[49m\u001B[43m,\u001B[49m\n\u001B[0;32m    518\u001B[0m \u001B[43m        \u001B[49m\u001B[43minitial_barrier_tolerance\u001B[49m\u001B[43m,\u001B[49m\n\u001B[0;32m    519\u001B[0m \u001B[43m        \u001B[49m\u001B[43minitial_constr_penalty\u001B[49m\u001B[43m,\u001B[49m\u001B[43m \u001B[49m\u001B[43minitial_tr_radius\u001B[49m\u001B[43m,\u001B[49m\n\u001B[0;32m    520\u001B[0m \u001B[43m        \u001B[49m\u001B[43mfactorization_method\u001B[49m\u001B[43m)\u001B[49m\n\u001B[0;32m    522\u001B[0m \u001B[38;5;66;03m# Status 3 occurs when the callback function requests termination,\u001B[39;00m\n\u001B[0;32m    523\u001B[0m \u001B[38;5;66;03m# this is assumed to not be a success.\u001B[39;00m\n\u001B[0;32m    524\u001B[0m result\u001B[38;5;241m.\u001B[39msuccess \u001B[38;5;241m=\u001B[39m \u001B[38;5;28;01mTrue\u001B[39;00m \u001B[38;5;28;01mif\u001B[39;00m result\u001B[38;5;241m.\u001B[39mstatus \u001B[38;5;129;01min\u001B[39;00m (\u001B[38;5;241m1\u001B[39m, \u001B[38;5;241m2\u001B[39m) \u001B[38;5;28;01melse\u001B[39;00m \u001B[38;5;28;01mFalse\u001B[39;00m\n",
      "File \u001B[1;32mc:\\users\\ornel\\appdata\\local\\programs\\python\\python38\\lib\\site-packages\\scipy\\optimize\\_trustregion_constr\\tr_interior_point.py:321\u001B[0m, in \u001B[0;36mtr_interior_point\u001B[1;34m(fun, grad, lagr_hess, n_vars, n_ineq, n_eq, constr, jac, x0, fun0, grad0, constr_ineq0, jac_ineq0, constr_eq0, jac_eq0, stop_criteria, enforce_feasibility, xtol, state, initial_barrier_parameter, initial_tolerance, initial_penalty, initial_trust_radius, factorization_method)\u001B[0m\n\u001B[0;32m    318\u001B[0m \u001B[38;5;66;03m# Solves a sequence of barrier problems\u001B[39;00m\n\u001B[0;32m    319\u001B[0m \u001B[38;5;28;01mwhile\u001B[39;00m \u001B[38;5;28;01mTrue\u001B[39;00m:\n\u001B[0;32m    320\u001B[0m     \u001B[38;5;66;03m# Solve SQP subproblem\u001B[39;00m\n\u001B[1;32m--> 321\u001B[0m     z, state \u001B[38;5;241m=\u001B[39m \u001B[43mequality_constrained_sqp\u001B[49m\u001B[43m(\u001B[49m\n\u001B[0;32m    322\u001B[0m \u001B[43m        \u001B[49m\u001B[43msubprob\u001B[49m\u001B[38;5;241;43m.\u001B[39;49m\u001B[43mfunction_and_constraints\u001B[49m\u001B[43m,\u001B[49m\n\u001B[0;32m    323\u001B[0m \u001B[43m        \u001B[49m\u001B[43msubprob\u001B[49m\u001B[38;5;241;43m.\u001B[39;49m\u001B[43mgradient_and_jacobian\u001B[49m\u001B[43m,\u001B[49m\n\u001B[0;32m    324\u001B[0m \u001B[43m        \u001B[49m\u001B[43msubprob\u001B[49m\u001B[38;5;241;43m.\u001B[39;49m\u001B[43mlagrangian_hessian\u001B[49m\u001B[43m,\u001B[49m\n\u001B[0;32m    325\u001B[0m \u001B[43m        \u001B[49m\u001B[43mz\u001B[49m\u001B[43m,\u001B[49m\u001B[43m \u001B[49m\u001B[43mfun0_subprob\u001B[49m\u001B[43m,\u001B[49m\u001B[43m \u001B[49m\u001B[43mgrad0_subprob\u001B[49m\u001B[43m,\u001B[49m\n\u001B[0;32m    326\u001B[0m \u001B[43m        \u001B[49m\u001B[43mconstr0_subprob\u001B[49m\u001B[43m,\u001B[49m\u001B[43m \u001B[49m\u001B[43mjac0_subprob\u001B[49m\u001B[43m,\u001B[49m\u001B[43m \u001B[49m\u001B[43msubprob\u001B[49m\u001B[38;5;241;43m.\u001B[39;49m\u001B[43mstop_criteria\u001B[49m\u001B[43m,\u001B[49m\n\u001B[0;32m    327\u001B[0m \u001B[43m        \u001B[49m\u001B[43mstate\u001B[49m\u001B[43m,\u001B[49m\u001B[43m \u001B[49m\u001B[43minitial_penalty\u001B[49m\u001B[43m,\u001B[49m\u001B[43m \u001B[49m\u001B[43mtrust_radius\u001B[49m\u001B[43m,\u001B[49m\n\u001B[0;32m    328\u001B[0m \u001B[43m        \u001B[49m\u001B[43mfactorization_method\u001B[49m\u001B[43m,\u001B[49m\u001B[43m \u001B[49m\u001B[43mtrust_lb\u001B[49m\u001B[43m,\u001B[49m\u001B[43m \u001B[49m\u001B[43mtrust_ub\u001B[49m\u001B[43m,\u001B[49m\u001B[43m \u001B[49m\u001B[43msubprob\u001B[49m\u001B[38;5;241;43m.\u001B[39;49m\u001B[43mscaling\u001B[49m\u001B[43m)\u001B[49m\n\u001B[0;32m    329\u001B[0m     \u001B[38;5;28;01mif\u001B[39;00m subprob\u001B[38;5;241m.\u001B[39mterminate:\n\u001B[0;32m    330\u001B[0m         \u001B[38;5;28;01mbreak\u001B[39;00m\n",
      "File \u001B[1;32mc:\\users\\ornel\\appdata\\local\\programs\\python\\python38\\lib\\site-packages\\scipy\\optimize\\_trustregion_constr\\equality_constrained_sqp.py:147\u001B[0m, in \u001B[0;36mequality_constrained_sqp\u001B[1;34m(fun_and_constr, grad_and_jac, lagr_hess, x0, fun0, grad0, constr0, jac0, stop_criteria, state, initial_penalty, initial_trust_radius, factorization_method, trust_lb, trust_ub, scaling)\u001B[0m\n\u001B[0;32m    145\u001B[0m \u001B[38;5;66;03m# Evaluate function and constraints at trial point\u001B[39;00m\n\u001B[0;32m    146\u001B[0m x_next \u001B[38;5;241m=\u001B[39m x \u001B[38;5;241m+\u001B[39m S\u001B[38;5;241m.\u001B[39mdot(d)\n\u001B[1;32m--> 147\u001B[0m f_next, b_next \u001B[38;5;241m=\u001B[39m \u001B[43mfun_and_constr\u001B[49m\u001B[43m(\u001B[49m\u001B[43mx_next\u001B[49m\u001B[43m)\u001B[49m\n\u001B[0;32m    148\u001B[0m \u001B[38;5;66;03m# Compute merit function at trial point\u001B[39;00m\n\u001B[0;32m    149\u001B[0m merit_function_next \u001B[38;5;241m=\u001B[39m f_next \u001B[38;5;241m+\u001B[39m penalty\u001B[38;5;241m*\u001B[39mnorm(b_next)\n",
      "File \u001B[1;32mc:\\users\\ornel\\appdata\\local\\programs\\python\\python38\\lib\\site-packages\\scipy\\optimize\\_trustregion_constr\\tr_interior_point.py:82\u001B[0m, in \u001B[0;36mBarrierSubproblem.function_and_constraints\u001B[1;34m(self, z)\u001B[0m\n\u001B[0;32m     80\u001B[0m s \u001B[38;5;241m=\u001B[39m \u001B[38;5;28mself\u001B[39m\u001B[38;5;241m.\u001B[39mget_slack(z)\n\u001B[0;32m     81\u001B[0m \u001B[38;5;66;03m# Compute function and constraints\u001B[39;00m\n\u001B[1;32m---> 82\u001B[0m f \u001B[38;5;241m=\u001B[39m \u001B[38;5;28;43mself\u001B[39;49m\u001B[38;5;241;43m.\u001B[39;49m\u001B[43mfun\u001B[49m\u001B[43m(\u001B[49m\u001B[43mx\u001B[49m\u001B[43m)\u001B[49m\n\u001B[0;32m     83\u001B[0m c_eq, c_ineq \u001B[38;5;241m=\u001B[39m \u001B[38;5;28mself\u001B[39m\u001B[38;5;241m.\u001B[39mconstr(x)\n\u001B[0;32m     84\u001B[0m \u001B[38;5;66;03m# Return objective function and constraints\u001B[39;00m\n",
      "File \u001B[1;32mc:\\users\\ornel\\appdata\\local\\programs\\python\\python38\\lib\\site-packages\\scipy\\optimize\\_differentiable_functions.py:266\u001B[0m, in \u001B[0;36mScalarFunction.fun\u001B[1;34m(self, x)\u001B[0m\n\u001B[0;32m    264\u001B[0m \u001B[38;5;28;01mdef\u001B[39;00m \u001B[38;5;21mfun\u001B[39m(\u001B[38;5;28mself\u001B[39m, x):\n\u001B[0;32m    265\u001B[0m     \u001B[38;5;28;01mif\u001B[39;00m \u001B[38;5;129;01mnot\u001B[39;00m np\u001B[38;5;241m.\u001B[39marray_equal(x, \u001B[38;5;28mself\u001B[39m\u001B[38;5;241m.\u001B[39mx):\n\u001B[1;32m--> 266\u001B[0m         \u001B[38;5;28;43mself\u001B[39;49m\u001B[38;5;241;43m.\u001B[39;49m\u001B[43m_update_x_impl\u001B[49m\u001B[43m(\u001B[49m\u001B[43mx\u001B[49m\u001B[43m)\u001B[49m\n\u001B[0;32m    267\u001B[0m     \u001B[38;5;28mself\u001B[39m\u001B[38;5;241m.\u001B[39m_update_fun()\n\u001B[0;32m    268\u001B[0m     \u001B[38;5;28;01mreturn\u001B[39;00m \u001B[38;5;28mself\u001B[39m\u001B[38;5;241m.\u001B[39mf\n",
      "File \u001B[1;32mc:\\users\\ornel\\appdata\\local\\programs\\python\\python38\\lib\\site-packages\\scipy\\optimize\\_differentiable_functions.py:238\u001B[0m, in \u001B[0;36mScalarFunction.__init__.<locals>.update_x\u001B[1;34m(x)\u001B[0m\n\u001B[0;32m    236\u001B[0m \u001B[38;5;28mself\u001B[39m\u001B[38;5;241m.\u001B[39mg_updated \u001B[38;5;241m=\u001B[39m \u001B[38;5;28;01mFalse\u001B[39;00m\n\u001B[0;32m    237\u001B[0m \u001B[38;5;28mself\u001B[39m\u001B[38;5;241m.\u001B[39mH_updated \u001B[38;5;241m=\u001B[39m \u001B[38;5;28;01mFalse\u001B[39;00m\n\u001B[1;32m--> 238\u001B[0m \u001B[38;5;28;43mself\u001B[39;49m\u001B[38;5;241;43m.\u001B[39;49m\u001B[43m_update_hess\u001B[49m\u001B[43m(\u001B[49m\u001B[43m)\u001B[49m\n",
      "File \u001B[1;32mc:\\users\\ornel\\appdata\\local\\programs\\python\\python38\\lib\\site-packages\\scipy\\optimize\\_differentiable_functions.py:261\u001B[0m, in \u001B[0;36mScalarFunction._update_hess\u001B[1;34m(self)\u001B[0m\n\u001B[0;32m    259\u001B[0m \u001B[38;5;28;01mdef\u001B[39;00m \u001B[38;5;21m_update_hess\u001B[39m(\u001B[38;5;28mself\u001B[39m):\n\u001B[0;32m    260\u001B[0m     \u001B[38;5;28;01mif\u001B[39;00m \u001B[38;5;129;01mnot\u001B[39;00m \u001B[38;5;28mself\u001B[39m\u001B[38;5;241m.\u001B[39mH_updated:\n\u001B[1;32m--> 261\u001B[0m         \u001B[38;5;28;43mself\u001B[39;49m\u001B[38;5;241;43m.\u001B[39;49m\u001B[43m_update_hess_impl\u001B[49m\u001B[43m(\u001B[49m\u001B[43m)\u001B[49m\n\u001B[0;32m    262\u001B[0m         \u001B[38;5;28mself\u001B[39m\u001B[38;5;241m.\u001B[39mH_updated \u001B[38;5;241m=\u001B[39m \u001B[38;5;28;01mTrue\u001B[39;00m\n",
      "File \u001B[1;32mc:\\users\\ornel\\appdata\\local\\programs\\python\\python38\\lib\\site-packages\\scipy\\optimize\\_differentiable_functions.py:222\u001B[0m, in \u001B[0;36mScalarFunction.__init__.<locals>.update_hess\u001B[1;34m()\u001B[0m\n\u001B[0;32m    221\u001B[0m \u001B[38;5;28;01mdef\u001B[39;00m \u001B[38;5;21mupdate_hess\u001B[39m():\n\u001B[1;32m--> 222\u001B[0m     \u001B[38;5;28;43mself\u001B[39;49m\u001B[38;5;241;43m.\u001B[39;49m\u001B[43m_update_grad\u001B[49m\u001B[43m(\u001B[49m\u001B[43m)\u001B[49m\n\u001B[0;32m    223\u001B[0m     \u001B[38;5;28mself\u001B[39m\u001B[38;5;241m.\u001B[39mH\u001B[38;5;241m.\u001B[39mupdate(\u001B[38;5;28mself\u001B[39m\u001B[38;5;241m.\u001B[39mx \u001B[38;5;241m-\u001B[39m \u001B[38;5;28mself\u001B[39m\u001B[38;5;241m.\u001B[39mx_prev, \u001B[38;5;28mself\u001B[39m\u001B[38;5;241m.\u001B[39mg \u001B[38;5;241m-\u001B[39m \u001B[38;5;28mself\u001B[39m\u001B[38;5;241m.\u001B[39mg_prev)\n",
      "File \u001B[1;32mc:\\users\\ornel\\appdata\\local\\programs\\python\\python38\\lib\\site-packages\\scipy\\optimize\\_differentiable_functions.py:256\u001B[0m, in \u001B[0;36mScalarFunction._update_grad\u001B[1;34m(self)\u001B[0m\n\u001B[0;32m    254\u001B[0m \u001B[38;5;28;01mdef\u001B[39;00m \u001B[38;5;21m_update_grad\u001B[39m(\u001B[38;5;28mself\u001B[39m):\n\u001B[0;32m    255\u001B[0m     \u001B[38;5;28;01mif\u001B[39;00m \u001B[38;5;129;01mnot\u001B[39;00m \u001B[38;5;28mself\u001B[39m\u001B[38;5;241m.\u001B[39mg_updated:\n\u001B[1;32m--> 256\u001B[0m         \u001B[38;5;28;43mself\u001B[39;49m\u001B[38;5;241;43m.\u001B[39;49m\u001B[43m_update_grad_impl\u001B[49m\u001B[43m(\u001B[49m\u001B[43m)\u001B[49m\n\u001B[0;32m    257\u001B[0m         \u001B[38;5;28mself\u001B[39m\u001B[38;5;241m.\u001B[39mg_updated \u001B[38;5;241m=\u001B[39m \u001B[38;5;28;01mTrue\u001B[39;00m\n",
      "File \u001B[1;32mc:\\users\\ornel\\appdata\\local\\programs\\python\\python38\\lib\\site-packages\\scipy\\optimize\\_differentiable_functions.py:173\u001B[0m, in \u001B[0;36mScalarFunction.__init__.<locals>.update_grad\u001B[1;34m()\u001B[0m\n\u001B[0;32m    171\u001B[0m \u001B[38;5;28mself\u001B[39m\u001B[38;5;241m.\u001B[39m_update_fun()\n\u001B[0;32m    172\u001B[0m \u001B[38;5;28mself\u001B[39m\u001B[38;5;241m.\u001B[39mngev \u001B[38;5;241m+\u001B[39m\u001B[38;5;241m=\u001B[39m \u001B[38;5;241m1\u001B[39m\n\u001B[1;32m--> 173\u001B[0m \u001B[38;5;28mself\u001B[39m\u001B[38;5;241m.\u001B[39mg \u001B[38;5;241m=\u001B[39m \u001B[43mapprox_derivative\u001B[49m\u001B[43m(\u001B[49m\u001B[43mfun_wrapped\u001B[49m\u001B[43m,\u001B[49m\u001B[43m \u001B[49m\u001B[38;5;28;43mself\u001B[39;49m\u001B[38;5;241;43m.\u001B[39;49m\u001B[43mx\u001B[49m\u001B[43m,\u001B[49m\u001B[43m \u001B[49m\u001B[43mf0\u001B[49m\u001B[38;5;241;43m=\u001B[39;49m\u001B[38;5;28;43mself\u001B[39;49m\u001B[38;5;241;43m.\u001B[39;49m\u001B[43mf\u001B[49m\u001B[43m,\u001B[49m\n\u001B[0;32m    174\u001B[0m \u001B[43m                           \u001B[49m\u001B[38;5;241;43m*\u001B[39;49m\u001B[38;5;241;43m*\u001B[39;49m\u001B[43mfinite_diff_options\u001B[49m\u001B[43m)\u001B[49m\n",
      "File \u001B[1;32mc:\\users\\ornel\\appdata\\local\\programs\\python\\python38\\lib\\site-packages\\scipy\\optimize\\_numdiff.py:505\u001B[0m, in \u001B[0;36mapprox_derivative\u001B[1;34m(fun, x0, method, rel_step, abs_step, f0, bounds, sparsity, as_linear_operator, args, kwargs)\u001B[0m\n\u001B[0;32m    502\u001B[0m     use_one_sided \u001B[38;5;241m=\u001B[39m \u001B[38;5;28;01mFalse\u001B[39;00m\n\u001B[0;32m    504\u001B[0m \u001B[38;5;28;01mif\u001B[39;00m sparsity \u001B[38;5;129;01mis\u001B[39;00m \u001B[38;5;28;01mNone\u001B[39;00m:\n\u001B[1;32m--> 505\u001B[0m     \u001B[38;5;28;01mreturn\u001B[39;00m \u001B[43m_dense_difference\u001B[49m\u001B[43m(\u001B[49m\u001B[43mfun_wrapped\u001B[49m\u001B[43m,\u001B[49m\u001B[43m \u001B[49m\u001B[43mx0\u001B[49m\u001B[43m,\u001B[49m\u001B[43m \u001B[49m\u001B[43mf0\u001B[49m\u001B[43m,\u001B[49m\u001B[43m \u001B[49m\u001B[43mh\u001B[49m\u001B[43m,\u001B[49m\n\u001B[0;32m    506\u001B[0m \u001B[43m                             \u001B[49m\u001B[43muse_one_sided\u001B[49m\u001B[43m,\u001B[49m\u001B[43m \u001B[49m\u001B[43mmethod\u001B[49m\u001B[43m)\u001B[49m\n\u001B[0;32m    507\u001B[0m \u001B[38;5;28;01melse\u001B[39;00m:\n\u001B[0;32m    508\u001B[0m     \u001B[38;5;28;01mif\u001B[39;00m \u001B[38;5;129;01mnot\u001B[39;00m issparse(sparsity) \u001B[38;5;129;01mand\u001B[39;00m \u001B[38;5;28mlen\u001B[39m(sparsity) \u001B[38;5;241m==\u001B[39m \u001B[38;5;241m2\u001B[39m:\n",
      "File \u001B[1;32mc:\\users\\ornel\\appdata\\local\\programs\\python\\python38\\lib\\site-packages\\scipy\\optimize\\_numdiff.py:576\u001B[0m, in \u001B[0;36m_dense_difference\u001B[1;34m(fun, x0, f0, h, use_one_sided, method)\u001B[0m\n\u001B[0;32m    574\u001B[0m     x \u001B[38;5;241m=\u001B[39m x0 \u001B[38;5;241m+\u001B[39m h_vecs[i]\n\u001B[0;32m    575\u001B[0m     dx \u001B[38;5;241m=\u001B[39m x[i] \u001B[38;5;241m-\u001B[39m x0[i]  \u001B[38;5;66;03m# Recompute dx as exactly representable number.\u001B[39;00m\n\u001B[1;32m--> 576\u001B[0m     df \u001B[38;5;241m=\u001B[39m \u001B[43mfun\u001B[49m\u001B[43m(\u001B[49m\u001B[43mx\u001B[49m\u001B[43m)\u001B[49m \u001B[38;5;241m-\u001B[39m f0\n\u001B[0;32m    577\u001B[0m \u001B[38;5;28;01melif\u001B[39;00m method \u001B[38;5;241m==\u001B[39m \u001B[38;5;124m'\u001B[39m\u001B[38;5;124m3-point\u001B[39m\u001B[38;5;124m'\u001B[39m \u001B[38;5;129;01mand\u001B[39;00m use_one_sided[i]:\n\u001B[0;32m    578\u001B[0m     x1 \u001B[38;5;241m=\u001B[39m x0 \u001B[38;5;241m+\u001B[39m h_vecs[i]\n",
      "File \u001B[1;32mc:\\users\\ornel\\appdata\\local\\programs\\python\\python38\\lib\\site-packages\\scipy\\optimize\\_numdiff.py:456\u001B[0m, in \u001B[0;36mapprox_derivative.<locals>.fun_wrapped\u001B[1;34m(x)\u001B[0m\n\u001B[0;32m    455\u001B[0m \u001B[38;5;28;01mdef\u001B[39;00m \u001B[38;5;21mfun_wrapped\u001B[39m(x):\n\u001B[1;32m--> 456\u001B[0m     f \u001B[38;5;241m=\u001B[39m np\u001B[38;5;241m.\u001B[39matleast_1d(\u001B[43mfun\u001B[49m\u001B[43m(\u001B[49m\u001B[43mx\u001B[49m\u001B[43m,\u001B[49m\u001B[43m \u001B[49m\u001B[38;5;241;43m*\u001B[39;49m\u001B[43margs\u001B[49m\u001B[43m,\u001B[49m\u001B[43m \u001B[49m\u001B[38;5;241;43m*\u001B[39;49m\u001B[38;5;241;43m*\u001B[39;49m\u001B[43mkwargs\u001B[49m\u001B[43m)\u001B[49m)\n\u001B[0;32m    457\u001B[0m     \u001B[38;5;28;01mif\u001B[39;00m f\u001B[38;5;241m.\u001B[39mndim \u001B[38;5;241m>\u001B[39m \u001B[38;5;241m1\u001B[39m:\n\u001B[0;32m    458\u001B[0m         \u001B[38;5;28;01mraise\u001B[39;00m \u001B[38;5;167;01mRuntimeError\u001B[39;00m(\u001B[38;5;124m\"\u001B[39m\u001B[38;5;124m`fun` return value has \u001B[39m\u001B[38;5;124m\"\u001B[39m\n\u001B[0;32m    459\u001B[0m                            \u001B[38;5;124m\"\u001B[39m\u001B[38;5;124mmore than 1 dimension.\u001B[39m\u001B[38;5;124m\"\u001B[39m)\n",
      "File \u001B[1;32mc:\\users\\ornel\\appdata\\local\\programs\\python\\python38\\lib\\site-packages\\scipy\\optimize\\_differentiable_functions.py:137\u001B[0m, in \u001B[0;36mScalarFunction.__init__.<locals>.fun_wrapped\u001B[1;34m(x)\u001B[0m\n\u001B[0;32m    133\u001B[0m \u001B[38;5;28mself\u001B[39m\u001B[38;5;241m.\u001B[39mnfev \u001B[38;5;241m+\u001B[39m\u001B[38;5;241m=\u001B[39m \u001B[38;5;241m1\u001B[39m\n\u001B[0;32m    134\u001B[0m \u001B[38;5;66;03m# Send a copy because the user may overwrite it.\u001B[39;00m\n\u001B[0;32m    135\u001B[0m \u001B[38;5;66;03m# Overwriting results in undefined behaviour because\u001B[39;00m\n\u001B[0;32m    136\u001B[0m \u001B[38;5;66;03m# fun(self.x) will change self.x, with the two no longer linked.\u001B[39;00m\n\u001B[1;32m--> 137\u001B[0m fx \u001B[38;5;241m=\u001B[39m \u001B[43mfun\u001B[49m\u001B[43m(\u001B[49m\u001B[43mnp\u001B[49m\u001B[38;5;241;43m.\u001B[39;49m\u001B[43mcopy\u001B[49m\u001B[43m(\u001B[49m\u001B[43mx\u001B[49m\u001B[43m)\u001B[49m\u001B[43m,\u001B[49m\u001B[43m \u001B[49m\u001B[38;5;241;43m*\u001B[39;49m\u001B[43margs\u001B[49m\u001B[43m)\u001B[49m\n\u001B[0;32m    138\u001B[0m \u001B[38;5;66;03m# Make sure the function returns a true scalar\u001B[39;00m\n\u001B[0;32m    139\u001B[0m \u001B[38;5;28;01mif\u001B[39;00m \u001B[38;5;129;01mnot\u001B[39;00m np\u001B[38;5;241m.\u001B[39misscalar(fx):\n",
      "Cell \u001B[1;32mIn[25], line 5\u001B[0m, in \u001B[0;36mcost_function\u001B[1;34m(x, strikes, mkt_prices)\u001B[0m\n\u001B[0;32m      3\u001B[0m sigm, lamb, p, eta1, eta2 \u001B[38;5;241m=\u001B[39m x\n\u001B[0;32m      4\u001B[0m KOU \u001B[38;5;241m=\u001B[39m Kou_pricer(S0\u001B[38;5;241m=\u001B[39mS0, K\u001B[38;5;241m=\u001B[39mstrikes, ttm\u001B[38;5;241m=\u001B[39mT, r\u001B[38;5;241m=\u001B[39mr, sigma\u001B[38;5;241m=\u001B[39msigm, lambd\u001B[38;5;241m=\u001B[39mlamb, p\u001B[38;5;241m=\u001B[39mp, eta1\u001B[38;5;241m=\u001B[39meta1, eta2\u001B[38;5;241m=\u001B[39meta2, exercise\u001B[38;5;241m=\u001B[39mexercise)\n\u001B[1;32m----> 5\u001B[0m sq_err \u001B[38;5;241m=\u001B[39m np\u001B[38;5;241m.\u001B[39msum((\u001B[43mKOU\u001B[49m\u001B[38;5;241;43m.\u001B[39;49m\u001B[43mclosed_formula_call\u001B[49m\u001B[43m(\u001B[49m\u001B[43mstrikes\u001B[49m\u001B[43m)\u001B[49m \u001B[38;5;241m-\u001B[39m mkt_prices) \u001B[38;5;241m*\u001B[39m\u001B[38;5;241m*\u001B[39m \u001B[38;5;241m2\u001B[39m)\n\u001B[0;32m      6\u001B[0m \u001B[38;5;28;01mreturn\u001B[39;00m sq_err\n",
      "File \u001B[1;32m~\\OneDrive\\Desktop\\TESI\\PythonProjects\\Margin-Loans-Pricing\\python-modules\\functions\\KOUpricer.py:283\u001B[0m, in \u001B[0;36mKou_pricer.closed_formula_call\u001B[1;34m(self, K)\u001B[0m\n\u001B[0;32m    280\u001B[0m p2 \u001B[38;5;241m=\u001B[39m \u001B[38;5;28mself\u001B[39m\u001B[38;5;241m.\u001B[39mp \u001B[38;5;241m/\u001B[39m (\u001B[38;5;241m1\u001B[39m \u001B[38;5;241m+\u001B[39m zeta) \u001B[38;5;241m*\u001B[39m \u001B[38;5;28mself\u001B[39m\u001B[38;5;241m.\u001B[39meta1 \u001B[38;5;241m/\u001B[39m (\u001B[38;5;28mself\u001B[39m\u001B[38;5;241m.\u001B[39meta1 \u001B[38;5;241m-\u001B[39m \u001B[38;5;241m1\u001B[39m)\n\u001B[0;32m    281\u001B[0m vkjd_1 \u001B[38;5;241m=\u001B[39m \u001B[38;5;28mself\u001B[39m\u001B[38;5;241m.\u001B[39mS0 \u001B[38;5;241m*\u001B[39m \u001B[38;5;28mself\u001B[39m\u001B[38;5;241m.\u001B[39mYfunction(\u001B[38;5;28mself\u001B[39m\u001B[38;5;241m.\u001B[39mr \u001B[38;5;241m+\u001B[39m \u001B[38;5;241m1\u001B[39m \u001B[38;5;241m/\u001B[39m \u001B[38;5;241m2\u001B[39m \u001B[38;5;241m*\u001B[39m \u001B[38;5;28mself\u001B[39m\u001B[38;5;241m.\u001B[39msigma \u001B[38;5;241m*\u001B[39m\u001B[38;5;241m*\u001B[39m \u001B[38;5;241m2\u001B[39m \u001B[38;5;241m-\u001B[39m \u001B[38;5;28mself\u001B[39m\u001B[38;5;241m.\u001B[39mlambd \u001B[38;5;241m*\u001B[39m zeta, \u001B[38;5;28mself\u001B[39m\u001B[38;5;241m.\u001B[39msigma, lambd2, p2,\n\u001B[0;32m    282\u001B[0m                                   eta1_2, eta2_2, np\u001B[38;5;241m.\u001B[39mlog(\u001B[38;5;28mself\u001B[39m\u001B[38;5;241m.\u001B[39mK \u001B[38;5;241m/\u001B[39m \u001B[38;5;28mself\u001B[39m\u001B[38;5;241m.\u001B[39mS0), \u001B[38;5;28mself\u001B[39m\u001B[38;5;241m.\u001B[39mT)\n\u001B[1;32m--> 283\u001B[0m vkjd_2 \u001B[38;5;241m=\u001B[39m \u001B[38;5;28mself\u001B[39m\u001B[38;5;241m.\u001B[39mK \u001B[38;5;241m*\u001B[39m np\u001B[38;5;241m.\u001B[39mexp(\u001B[38;5;241m-\u001B[39m\u001B[38;5;28mself\u001B[39m\u001B[38;5;241m.\u001B[39mr \u001B[38;5;241m*\u001B[39m \u001B[38;5;28mself\u001B[39m\u001B[38;5;241m.\u001B[39mT) \u001B[38;5;241m*\u001B[39m \u001B[38;5;28;43mself\u001B[39;49m\u001B[38;5;241;43m.\u001B[39;49m\u001B[43mYfunction\u001B[49m\u001B[43m(\u001B[49m\n\u001B[0;32m    284\u001B[0m \u001B[43m    \u001B[49m\u001B[38;5;28;43mself\u001B[39;49m\u001B[38;5;241;43m.\u001B[39;49m\u001B[43mr\u001B[49m\u001B[43m \u001B[49m\u001B[38;5;241;43m-\u001B[39;49m\u001B[43m \u001B[49m\u001B[38;5;241;43m1\u001B[39;49m\u001B[43m \u001B[49m\u001B[38;5;241;43m/\u001B[39;49m\u001B[43m \u001B[49m\u001B[38;5;241;43m2\u001B[39;49m\u001B[43m \u001B[49m\u001B[38;5;241;43m*\u001B[39;49m\u001B[43m \u001B[49m\u001B[38;5;28;43mself\u001B[39;49m\u001B[38;5;241;43m.\u001B[39;49m\u001B[43msigma\u001B[49m\u001B[43m \u001B[49m\u001B[38;5;241;43m*\u001B[39;49m\u001B[38;5;241;43m*\u001B[39;49m\u001B[43m \u001B[49m\u001B[38;5;241;43m2\u001B[39;49m\u001B[43m \u001B[49m\u001B[38;5;241;43m-\u001B[39;49m\u001B[43m \u001B[49m\u001B[38;5;28;43mself\u001B[39;49m\u001B[38;5;241;43m.\u001B[39;49m\u001B[43mlambd\u001B[49m\u001B[43m \u001B[49m\u001B[38;5;241;43m*\u001B[39;49m\u001B[43m \u001B[49m\u001B[43mzeta\u001B[49m\u001B[43m,\u001B[49m\n\u001B[0;32m    285\u001B[0m \u001B[43m    \u001B[49m\u001B[38;5;28;43mself\u001B[39;49m\u001B[38;5;241;43m.\u001B[39;49m\u001B[43msigma\u001B[49m\u001B[43m,\u001B[49m\u001B[43m \u001B[49m\u001B[38;5;28;43mself\u001B[39;49m\u001B[38;5;241;43m.\u001B[39;49m\u001B[43mlambd\u001B[49m\u001B[43m,\u001B[49m\u001B[43m \u001B[49m\u001B[38;5;28;43mself\u001B[39;49m\u001B[38;5;241;43m.\u001B[39;49m\u001B[43mp\u001B[49m\u001B[43m,\u001B[49m\u001B[43m \u001B[49m\u001B[38;5;28;43mself\u001B[39;49m\u001B[38;5;241;43m.\u001B[39;49m\u001B[43meta1\u001B[49m\u001B[43m,\u001B[49m\u001B[43m \u001B[49m\u001B[38;5;28;43mself\u001B[39;49m\u001B[38;5;241;43m.\u001B[39;49m\u001B[43meta2\u001B[49m\u001B[43m,\u001B[49m\n\u001B[0;32m    286\u001B[0m \u001B[43m    \u001B[49m\u001B[43mnp\u001B[49m\u001B[38;5;241;43m.\u001B[39;49m\u001B[43mlog\u001B[49m\u001B[43m(\u001B[49m\u001B[38;5;28;43mself\u001B[39;49m\u001B[38;5;241;43m.\u001B[39;49m\u001B[43mK\u001B[49m\u001B[43m \u001B[49m\u001B[38;5;241;43m/\u001B[39;49m\u001B[43m \u001B[49m\u001B[38;5;28;43mself\u001B[39;49m\u001B[38;5;241;43m.\u001B[39;49m\u001B[43mS0\u001B[49m\u001B[43m)\u001B[49m\u001B[43m,\u001B[49m\u001B[43m \u001B[49m\u001B[38;5;28;43mself\u001B[39;49m\u001B[38;5;241;43m.\u001B[39;49m\u001B[43mT\u001B[49m\u001B[43m)\u001B[49m\n\u001B[0;32m    288\u001B[0m \u001B[38;5;28;01mreturn\u001B[39;00m vkjd_1 \u001B[38;5;241m-\u001B[39m vkjd_2\n",
      "File \u001B[1;32m~\\OneDrive\\Desktop\\TESI\\PythonProjects\\Margin-Loans-Pricing\\python-modules\\functions\\KOUpricer.py:257\u001B[0m, in \u001B[0;36mKou_pricer.Yfunction\u001B[1;34m(self, mu, sigma, lambd, p, eta1, eta2, a, T)\u001B[0m\n\u001B[0;32m    254\u001B[0m sumq1_n \u001B[38;5;241m=\u001B[39m \u001B[38;5;241m0\u001B[39m\n\u001B[0;32m    255\u001B[0m \u001B[38;5;28;01mfor\u001B[39;00m k \u001B[38;5;129;01min\u001B[39;00m \u001B[38;5;28mrange\u001B[39m(\u001B[38;5;241m1\u001B[39m, n \u001B[38;5;241m+\u001B[39m \u001B[38;5;241m1\u001B[39m):\n\u001B[0;32m    256\u001B[0m     sump2_k \u001B[38;5;241m=\u001B[39m \u001B[38;5;28mself\u001B[39m\u001B[38;5;241m.\u001B[39mP(n, k, eta1, eta2, p) \u001B[38;5;241m*\u001B[39m (sigma \u001B[38;5;241m*\u001B[39m np\u001B[38;5;241m.\u001B[39msqrt(T) \u001B[38;5;241m*\u001B[39m eta1) \u001B[38;5;241m*\u001B[39m\u001B[38;5;241m*\u001B[39m k \u001B[38;5;241m*\u001B[39m \\\n\u001B[1;32m--> 257\u001B[0m               \u001B[38;5;28;43mself\u001B[39;49m\u001B[38;5;241;43m.\u001B[39;49m\u001B[43mI\u001B[49m\u001B[43m(\u001B[49m\u001B[43mk\u001B[49m\u001B[43m \u001B[49m\u001B[38;5;241;43m-\u001B[39;49m\u001B[43m \u001B[49m\u001B[38;5;241;43m1\u001B[39;49m\u001B[43m,\u001B[49m\u001B[43m \u001B[49m\u001B[43ma\u001B[49m\u001B[43m \u001B[49m\u001B[38;5;241;43m-\u001B[39;49m\u001B[43m \u001B[49m\u001B[43mmu\u001B[49m\u001B[43m \u001B[49m\u001B[38;5;241;43m*\u001B[39;49m\u001B[43m \u001B[49m\u001B[43mT\u001B[49m\u001B[43m,\u001B[49m\u001B[43m \u001B[49m\u001B[38;5;241;43m-\u001B[39;49m\u001B[43meta1\u001B[49m\u001B[43m,\u001B[49m\u001B[43m \u001B[49m\u001B[38;5;241;43m-\u001B[39;49m\u001B[38;5;241;43m1\u001B[39;49m\u001B[43m \u001B[49m\u001B[38;5;241;43m/\u001B[39;49m\u001B[43m \u001B[49m\u001B[43m(\u001B[49m\u001B[43msigma\u001B[49m\u001B[43m \u001B[49m\u001B[38;5;241;43m*\u001B[39;49m\u001B[43m \u001B[49m\u001B[43mnp\u001B[49m\u001B[38;5;241;43m.\u001B[39;49m\u001B[43msqrt\u001B[49m\u001B[43m(\u001B[49m\u001B[43mT\u001B[49m\u001B[43m)\u001B[49m\u001B[43m)\u001B[49m\u001B[43m,\u001B[49m\u001B[43m \u001B[49m\u001B[38;5;241;43m-\u001B[39;49m\u001B[43msigma\u001B[49m\u001B[43m \u001B[49m\u001B[38;5;241;43m*\u001B[39;49m\u001B[43m \u001B[49m\u001B[43meta1\u001B[49m\u001B[43m \u001B[49m\u001B[38;5;241;43m*\u001B[39;49m\u001B[43m \u001B[49m\u001B[43mnp\u001B[49m\u001B[38;5;241;43m.\u001B[39;49m\u001B[43msqrt\u001B[49m\u001B[43m(\u001B[49m\u001B[43mT\u001B[49m\u001B[43m)\u001B[49m\u001B[43m)\u001B[49m\n\u001B[0;32m    259\u001B[0m     sumq2_k \u001B[38;5;241m=\u001B[39m \u001B[38;5;28mself\u001B[39m\u001B[38;5;241m.\u001B[39mQ(n, k, eta1, eta2, p) \u001B[38;5;241m*\u001B[39m (sigma \u001B[38;5;241m*\u001B[39m np\u001B[38;5;241m.\u001B[39msqrt(T) \u001B[38;5;241m*\u001B[39m eta2) \u001B[38;5;241m*\u001B[39m\u001B[38;5;241m*\u001B[39m k \u001B[38;5;241m*\u001B[39m \\\n\u001B[0;32m    260\u001B[0m               \u001B[38;5;28mself\u001B[39m\u001B[38;5;241m.\u001B[39mI(k \u001B[38;5;241m-\u001B[39m \u001B[38;5;241m1\u001B[39m, a \u001B[38;5;241m-\u001B[39m mu \u001B[38;5;241m*\u001B[39m T, eta2, \u001B[38;5;241m1\u001B[39m \u001B[38;5;241m/\u001B[39m (sigma \u001B[38;5;241m*\u001B[39m np\u001B[38;5;241m.\u001B[39msqrt(T)), \u001B[38;5;241m-\u001B[39msigma \u001B[38;5;241m*\u001B[39m eta2 \u001B[38;5;241m*\u001B[39m np\u001B[38;5;241m.\u001B[39msqrt(T))\n\u001B[0;32m    262\u001B[0m     sump1_n \u001B[38;5;241m+\u001B[39m\u001B[38;5;241m=\u001B[39m sump2_k\n",
      "File \u001B[1;32m~\\OneDrive\\Desktop\\TESI\\PythonProjects\\Margin-Loans-Pricing\\python-modules\\functions\\KOUpricer.py:227\u001B[0m, in \u001B[0;36mKou_pricer.I\u001B[1;34m(self, n, c, alpha, beta, delta)\u001B[0m\n\u001B[0;32m    225\u001B[0m i \u001B[38;5;241m=\u001B[39m \u001B[38;5;241m0\u001B[39m\n\u001B[0;32m    226\u001B[0m \u001B[38;5;28;01mwhile\u001B[39;00m i \u001B[38;5;241m<\u001B[39m\u001B[38;5;241m=\u001B[39m n:\n\u001B[1;32m--> 227\u001B[0m     sum_i \u001B[38;5;241m=\u001B[39m sum_i \u001B[38;5;241m+\u001B[39m (beta \u001B[38;5;241m/\u001B[39m alpha) \u001B[38;5;241m*\u001B[39m\u001B[38;5;241m*\u001B[39m (n \u001B[38;5;241m-\u001B[39m i) \u001B[38;5;241m*\u001B[39m \u001B[38;5;28;43mself\u001B[39;49m\u001B[38;5;241;43m.\u001B[39;49m\u001B[43mHh\u001B[49m\u001B[43m(\u001B[49m\u001B[43mi\u001B[49m\u001B[43m,\u001B[49m\u001B[43m \u001B[49m\u001B[43mbeta\u001B[49m\u001B[43m \u001B[49m\u001B[38;5;241;43m*\u001B[39;49m\u001B[43m \u001B[49m\u001B[43mc\u001B[49m\u001B[43m \u001B[49m\u001B[38;5;241;43m-\u001B[39;49m\u001B[43m \u001B[49m\u001B[43mdelta\u001B[49m\u001B[43m)\u001B[49m\n\u001B[0;32m    228\u001B[0m     i \u001B[38;5;241m+\u001B[39m\u001B[38;5;241m=\u001B[39m \u001B[38;5;241m1\u001B[39m\n\u001B[0;32m    229\u001B[0m \u001B[38;5;28;01mreturn\u001B[39;00m \u001B[38;5;241m-\u001B[39mnp\u001B[38;5;241m.\u001B[39mexp(alpha \u001B[38;5;241m*\u001B[39m c) \u001B[38;5;241m/\u001B[39m alpha \u001B[38;5;241m*\u001B[39m sum_i \u001B[38;5;241m-\u001B[39m (beta \u001B[38;5;241m/\u001B[39m alpha) \u001B[38;5;241m*\u001B[39m\u001B[38;5;241m*\u001B[39m (n \u001B[38;5;241m+\u001B[39m \u001B[38;5;241m1\u001B[39m) \u001B[38;5;241m*\u001B[39m (np\u001B[38;5;241m.\u001B[39msqrt(\u001B[38;5;241m2\u001B[39m \u001B[38;5;241m*\u001B[39m np\u001B[38;5;241m.\u001B[39mpi) \u001B[38;5;241m/\u001B[39m beta) \\\n\u001B[0;32m    230\u001B[0m        \u001B[38;5;241m*\u001B[39m np\u001B[38;5;241m.\u001B[39mexp((alpha \u001B[38;5;241m*\u001B[39m delta \u001B[38;5;241m/\u001B[39m beta) \u001B[38;5;241m+\u001B[39m (alpha \u001B[38;5;241m*\u001B[39m\u001B[38;5;241m*\u001B[39m \u001B[38;5;241m2\u001B[39m \u001B[38;5;241m/\u001B[39m (\u001B[38;5;241m2\u001B[39m \u001B[38;5;241m*\u001B[39m beta \u001B[38;5;241m*\u001B[39m\u001B[38;5;241m*\u001B[39m \u001B[38;5;241m2\u001B[39m))) \u001B[38;5;241m*\u001B[39m scs\u001B[38;5;241m.\u001B[39mnorm\u001B[38;5;241m.\u001B[39mcdf(\n\u001B[0;32m    231\u001B[0m     beta \u001B[38;5;241m*\u001B[39m c \u001B[38;5;241m-\u001B[39m delta \u001B[38;5;241m-\u001B[39m alpha \u001B[38;5;241m/\u001B[39m beta)\n",
      "File \u001B[1;32m~\\OneDrive\\Desktop\\TESI\\PythonProjects\\Margin-Loans-Pricing\\python-modules\\functions\\KOUpricer.py:188\u001B[0m, in \u001B[0;36mKou_pricer.Hh\u001B[1;34m(self, n, x)\u001B[0m\n\u001B[0;32m    186\u001B[0m     \u001B[38;5;28;01mreturn\u001B[39;00m np\u001B[38;5;241m.\u001B[39msqrt(\u001B[38;5;241m2\u001B[39m \u001B[38;5;241m*\u001B[39m np\u001B[38;5;241m.\u001B[39mpi) \u001B[38;5;241m*\u001B[39m scs\u001B[38;5;241m.\u001B[39mnorm\u001B[38;5;241m.\u001B[39mcdf(\u001B[38;5;241m-\u001B[39mx)\n\u001B[0;32m    187\u001B[0m \u001B[38;5;28;01melse\u001B[39;00m:\n\u001B[1;32m--> 188\u001B[0m     \u001B[38;5;28;01mreturn\u001B[39;00m (\u001B[38;5;28mself\u001B[39m\u001B[38;5;241m.\u001B[39mHh(n \u001B[38;5;241m-\u001B[39m \u001B[38;5;241m2\u001B[39m, x) \u001B[38;5;241m-\u001B[39m x \u001B[38;5;241m*\u001B[39m \u001B[38;5;28;43mself\u001B[39;49m\u001B[38;5;241;43m.\u001B[39;49m\u001B[43mHh\u001B[49m\u001B[43m(\u001B[49m\u001B[43mn\u001B[49m\u001B[43m \u001B[49m\u001B[38;5;241;43m-\u001B[39;49m\u001B[43m \u001B[49m\u001B[38;5;241;43m1\u001B[39;49m\u001B[43m,\u001B[49m\u001B[43m \u001B[49m\u001B[43mx\u001B[49m\u001B[43m)\u001B[49m) \u001B[38;5;241m/\u001B[39m n\n",
      "File \u001B[1;32m~\\OneDrive\\Desktop\\TESI\\PythonProjects\\Margin-Loans-Pricing\\python-modules\\functions\\KOUpricer.py:188\u001B[0m, in \u001B[0;36mKou_pricer.Hh\u001B[1;34m(self, n, x)\u001B[0m\n\u001B[0;32m    186\u001B[0m     \u001B[38;5;28;01mreturn\u001B[39;00m np\u001B[38;5;241m.\u001B[39msqrt(\u001B[38;5;241m2\u001B[39m \u001B[38;5;241m*\u001B[39m np\u001B[38;5;241m.\u001B[39mpi) \u001B[38;5;241m*\u001B[39m scs\u001B[38;5;241m.\u001B[39mnorm\u001B[38;5;241m.\u001B[39mcdf(\u001B[38;5;241m-\u001B[39mx)\n\u001B[0;32m    187\u001B[0m \u001B[38;5;28;01melse\u001B[39;00m:\n\u001B[1;32m--> 188\u001B[0m     \u001B[38;5;28;01mreturn\u001B[39;00m (\u001B[38;5;28;43mself\u001B[39;49m\u001B[38;5;241;43m.\u001B[39;49m\u001B[43mHh\u001B[49m\u001B[43m(\u001B[49m\u001B[43mn\u001B[49m\u001B[43m \u001B[49m\u001B[38;5;241;43m-\u001B[39;49m\u001B[43m \u001B[49m\u001B[38;5;241;43m2\u001B[39;49m\u001B[43m,\u001B[49m\u001B[43m \u001B[49m\u001B[43mx\u001B[49m\u001B[43m)\u001B[49m \u001B[38;5;241m-\u001B[39m x \u001B[38;5;241m*\u001B[39m \u001B[38;5;28mself\u001B[39m\u001B[38;5;241m.\u001B[39mHh(n \u001B[38;5;241m-\u001B[39m \u001B[38;5;241m1\u001B[39m, x)) \u001B[38;5;241m/\u001B[39m n\n",
      "    \u001B[1;31m[... skipping similar frames: Kou_pricer.Hh at line 188 (2 times)]\u001B[0m\n",
      "File \u001B[1;32m~\\OneDrive\\Desktop\\TESI\\PythonProjects\\Margin-Loans-Pricing\\python-modules\\functions\\KOUpricer.py:188\u001B[0m, in \u001B[0;36mKou_pricer.Hh\u001B[1;34m(self, n, x)\u001B[0m\n\u001B[0;32m    186\u001B[0m     \u001B[38;5;28;01mreturn\u001B[39;00m np\u001B[38;5;241m.\u001B[39msqrt(\u001B[38;5;241m2\u001B[39m \u001B[38;5;241m*\u001B[39m np\u001B[38;5;241m.\u001B[39mpi) \u001B[38;5;241m*\u001B[39m scs\u001B[38;5;241m.\u001B[39mnorm\u001B[38;5;241m.\u001B[39mcdf(\u001B[38;5;241m-\u001B[39mx)\n\u001B[0;32m    187\u001B[0m \u001B[38;5;28;01melse\u001B[39;00m:\n\u001B[1;32m--> 188\u001B[0m     \u001B[38;5;28;01mreturn\u001B[39;00m (\u001B[38;5;28mself\u001B[39m\u001B[38;5;241m.\u001B[39mHh(n \u001B[38;5;241m-\u001B[39m \u001B[38;5;241m2\u001B[39m, x) \u001B[38;5;241m-\u001B[39m x \u001B[38;5;241m*\u001B[39m \u001B[38;5;28;43mself\u001B[39;49m\u001B[38;5;241;43m.\u001B[39;49m\u001B[43mHh\u001B[49m\u001B[43m(\u001B[49m\u001B[43mn\u001B[49m\u001B[43m \u001B[49m\u001B[38;5;241;43m-\u001B[39;49m\u001B[43m \u001B[49m\u001B[38;5;241;43m1\u001B[39;49m\u001B[43m,\u001B[49m\u001B[43m \u001B[49m\u001B[43mx\u001B[49m\u001B[43m)\u001B[49m) \u001B[38;5;241m/\u001B[39m n\n",
      "File \u001B[1;32m~\\OneDrive\\Desktop\\TESI\\PythonProjects\\Margin-Loans-Pricing\\python-modules\\functions\\KOUpricer.py:186\u001B[0m, in \u001B[0;36mKou_pricer.Hh\u001B[1;34m(self, n, x)\u001B[0m\n\u001B[0;32m    184\u001B[0m     \u001B[38;5;28;01mreturn\u001B[39;00m np\u001B[38;5;241m.\u001B[39mexp(\u001B[38;5;241m-\u001B[39mx \u001B[38;5;241m*\u001B[39m\u001B[38;5;241m*\u001B[39m \u001B[38;5;241m2\u001B[39m \u001B[38;5;241m/\u001B[39m \u001B[38;5;241m2\u001B[39m)\n\u001B[0;32m    185\u001B[0m \u001B[38;5;28;01melif\u001B[39;00m n \u001B[38;5;241m==\u001B[39m \u001B[38;5;241m0\u001B[39m:\n\u001B[1;32m--> 186\u001B[0m     \u001B[38;5;28;01mreturn\u001B[39;00m np\u001B[38;5;241m.\u001B[39msqrt(\u001B[38;5;241m2\u001B[39m \u001B[38;5;241m*\u001B[39m np\u001B[38;5;241m.\u001B[39mpi) \u001B[38;5;241m*\u001B[39m \u001B[43mscs\u001B[49m\u001B[38;5;241;43m.\u001B[39;49m\u001B[43mnorm\u001B[49m\u001B[38;5;241;43m.\u001B[39;49m\u001B[43mcdf\u001B[49m\u001B[43m(\u001B[49m\u001B[38;5;241;43m-\u001B[39;49m\u001B[43mx\u001B[49m\u001B[43m)\u001B[49m\n\u001B[0;32m    187\u001B[0m \u001B[38;5;28;01melse\u001B[39;00m:\n\u001B[0;32m    188\u001B[0m     \u001B[38;5;28;01mreturn\u001B[39;00m (\u001B[38;5;28mself\u001B[39m\u001B[38;5;241m.\u001B[39mHh(n \u001B[38;5;241m-\u001B[39m \u001B[38;5;241m2\u001B[39m, x) \u001B[38;5;241m-\u001B[39m x \u001B[38;5;241m*\u001B[39m \u001B[38;5;28mself\u001B[39m\u001B[38;5;241m.\u001B[39mHh(n \u001B[38;5;241m-\u001B[39m \u001B[38;5;241m1\u001B[39m, x)) \u001B[38;5;241m/\u001B[39m n\n",
      "File \u001B[1;32mc:\\users\\ornel\\appdata\\local\\programs\\python\\python38\\lib\\site-packages\\scipy\\stats\\_distn_infrastructure.py:2182\u001B[0m, in \u001B[0;36mrv_continuous.cdf\u001B[1;34m(self, x, *args, **kwds)\u001B[0m\n\u001B[0;32m   2180\u001B[0m cond \u001B[38;5;241m=\u001B[39m cond0 \u001B[38;5;241m&\u001B[39m cond1\n\u001B[0;32m   2181\u001B[0m output \u001B[38;5;241m=\u001B[39m zeros(shape(cond), dtyp)\n\u001B[1;32m-> 2182\u001B[0m \u001B[43mplace\u001B[49m\u001B[43m(\u001B[49m\u001B[43moutput\u001B[49m\u001B[43m,\u001B[49m\u001B[43m \u001B[49m\u001B[43m(\u001B[49m\u001B[38;5;241;43m1\u001B[39;49m\u001B[38;5;241;43m-\u001B[39;49m\u001B[43mcond0\u001B[49m\u001B[43m)\u001B[49m\u001B[38;5;241;43m+\u001B[39;49m\u001B[43mnp\u001B[49m\u001B[38;5;241;43m.\u001B[39;49m\u001B[43misnan\u001B[49m\u001B[43m(\u001B[49m\u001B[43mx\u001B[49m\u001B[43m)\u001B[49m\u001B[43m,\u001B[49m\u001B[43m \u001B[49m\u001B[38;5;28;43mself\u001B[39;49m\u001B[38;5;241;43m.\u001B[39;49m\u001B[43mbadvalue\u001B[49m\u001B[43m)\u001B[49m\n\u001B[0;32m   2183\u001B[0m place(output, cond2, \u001B[38;5;241m1.0\u001B[39m)\n\u001B[0;32m   2184\u001B[0m \u001B[38;5;28;01mif\u001B[39;00m np\u001B[38;5;241m.\u001B[39many(cond):  \u001B[38;5;66;03m# call only if at least 1 entry\u001B[39;00m\n",
      "File \u001B[1;32m<__array_function__ internals>:200\u001B[0m, in \u001B[0;36mplace\u001B[1;34m(*args, **kwargs)\u001B[0m\n",
      "File \u001B[1;32mc:\\users\\ornel\\appdata\\local\\programs\\python\\python38\\lib\\site-packages\\numpy\\lib\\function_base.py:1954\u001B[0m, in \u001B[0;36mplace\u001B[1;34m(arr, mask, vals)\u001B[0m\n\u001B[0;32m   1950\u001B[0m \u001B[38;5;28;01mif\u001B[39;00m \u001B[38;5;129;01mnot\u001B[39;00m \u001B[38;5;28misinstance\u001B[39m(arr, np\u001B[38;5;241m.\u001B[39mndarray):\n\u001B[0;32m   1951\u001B[0m     \u001B[38;5;28;01mraise\u001B[39;00m \u001B[38;5;167;01mTypeError\u001B[39;00m(\u001B[38;5;124m\"\u001B[39m\u001B[38;5;124margument 1 must be numpy.ndarray, \u001B[39m\u001B[38;5;124m\"\u001B[39m\n\u001B[0;32m   1952\u001B[0m                     \u001B[38;5;124m\"\u001B[39m\u001B[38;5;124mnot \u001B[39m\u001B[38;5;132;01m{name}\u001B[39;00m\u001B[38;5;124m\"\u001B[39m\u001B[38;5;241m.\u001B[39mformat(name\u001B[38;5;241m=\u001B[39m\u001B[38;5;28mtype\u001B[39m(arr)\u001B[38;5;241m.\u001B[39m\u001B[38;5;18m__name__\u001B[39m))\n\u001B[1;32m-> 1954\u001B[0m \u001B[38;5;28;01mreturn\u001B[39;00m \u001B[43m_insert\u001B[49m\u001B[43m(\u001B[49m\u001B[43marr\u001B[49m\u001B[43m,\u001B[49m\u001B[43m \u001B[49m\u001B[43mmask\u001B[49m\u001B[43m,\u001B[49m\u001B[43m \u001B[49m\u001B[43mvals\u001B[49m\u001B[43m)\u001B[49m\n",
      "\u001B[1;31mKeyboardInterrupt\u001B[0m: "
     ]
    }
   ],
   "source": [
    "x0 = [0.15, 1, 0.4, 5, 5]\n",
    "bounds = [(1e-1, 1), (1e-2, 10), (0,1), (0,15), (0,15)]\n",
    "start=time.time()\n",
    "res3 = scpo.minimize(cost_function, x0, args=(call_strikes, call_prices),  method='trust-constr', bounds=bounds, tol=1e-20)\n",
    "end=time.time()\n",
    "print('METHOD 3: MINIMIZE (trust-constr)'); print(f'message: {res3.message}\\nsuccess:{res3.success}')\n",
    "\n",
    "sigt3, lambdt3, pt3, eta1_t3, eta2_t3 = res3.x\n",
    "\n",
    "print(f'> Calibrated Volatlity [σ] = {round(sigt3,4)} \\t {round(sigt3*100,2)}%')\n",
    "print('> Calibrated Jump intensity [λ] = ', round(lambdt3,2))\n",
    "print(f'> Calibrated Upward Jump probability [p] = {round(pt3,2)}, [q] = {round(1-pt3,2)}')\n",
    "print('> Calibrated Rate of Exp. 1  [η_1] = ', round(eta1_t3,2))\n",
    "print('> Calibrated Rate of Exp. 2  [η_2] = ', round(eta2_t3,2))\n",
    "print(f'TIME ELAPSED:  {round(end-start,2)} sec')"
   ],
   "metadata": {
    "collapsed": false
   }
  },
  {
   "cell_type": "markdown",
   "source": [
    "Print parameters to use in the simulation of paths."
   ],
   "metadata": {
    "collapsed": false
   }
  },
  {
   "cell_type": "code",
   "execution_count": null,
   "outputs": [],
   "source": [
    "kou_params = [sigt, lambdt, pt, eta1_t, eta2_t]\n",
    "print(kou_params)"
   ],
   "metadata": {
    "collapsed": false
   }
  },
  {
   "cell_type": "markdown",
   "source": [
    "### Variance Gamma\n"
   ],
   "metadata": {
    "collapsed": false
   }
  },
  {
   "cell_type": "code",
   "execution_count": null,
   "outputs": [],
   "source": [
    "x0 = [0.2, -0.05, 0.1]   # initial guess: [σ, θ, v]\n",
    "bounds = ( [1e-2, -10, 0], [5, 10, 10] )"
   ],
   "metadata": {
    "collapsed": false
   }
  },
  {
   "cell_type": "markdown",
   "source": [
    "##### Method 1. CURVE FIT (Bounds)"
   ],
   "metadata": {
    "collapsed": false
   }
  },
  {
   "cell_type": "code",
   "execution_count": null,
   "outputs": [],
   "source": [
    "def f_VG(strikes, sigmax, thetax, nux):\n",
    "    VGamma = VG_pricer(S0=S0, K=None, ttm=T, r=r, q=0, sigma=sigmax, theta=thetax, nu=nux, exercise=exercise)\n",
    "    vg_prices = []\n",
    "    for k in strikes:\n",
    "        vg_prices.append(VGamma.closed_formula_call(k))\n",
    "    return vg_prices\n",
    "\n",
    "start=time.time()\n",
    "res1 = scpo.curve_fit(f_VG, call_strikes, call_prices, p0=x0, bounds=bounds)\n",
    "end=time.time()\n",
    "\n",
    "sigt = round(res1[0][0],5)\n",
    "thetat = round(res1[0][1],2)\n",
    "nut = round(res1[0][2],2)\n",
    "\n",
    "print('METHOD 1: CURVE_FIT (trf)')\n",
    "print(f'> Calibrated Volatlity [σ] = {sigt}, \\t {round(sigt*100,2)}%')\n",
    "print('> Calibrated mean rate gamma process [θ] = ', thetat)\n",
    "print('> Calibrated variance rate gamma process [v]= ', nut)\n",
    "print(f'TIME ELAPSED:  {round(end-start,2)} sec')"
   ],
   "metadata": {
    "collapsed": false
   }
  },
  {
   "cell_type": "markdown",
   "source": [
    "##### Method 2. LEAST-SQUARES (Trust Region Reflective, Bounds)"
   ],
   "metadata": {
    "collapsed": false
   }
  },
  {
   "cell_type": "code",
   "execution_count": null,
   "outputs": [],
   "source": [
    "def cost_function(x, strikes, mkt_prices):\n",
    "    sigma, theta, nu = x\n",
    "    VG = VG_pricer(S0, None, T, r, q, sigma, theta, nu, exercise)\n",
    "    prices = []\n",
    "    for k in strikes:\n",
    "        prices.append(VG.closed_formula_call(k))\n",
    "    sq_err = np.sum((prices - mkt_prices)**2)\n",
    "    return sq_err\n",
    "\n",
    "start=time.time()\n",
    "res2 = scpo.least_squares(cost_function, x0, args=(call_strikes, call_prices),  method='trf', bounds=bounds, verbose=2)\n",
    "end=time.time()\n",
    "\n",
    "vg_opt_params2 = res2.x\n",
    "\n",
    "print('METHOD 1: LEAST-SQUARES (trf)')\n",
    "print(f'> Calibrated Volatlity [σ] = {vg_opt_params2[0]}, \\t {round(vg_opt_params2[0]*100,2)}%')\n",
    "print('> Calibrated mean rate gamma process [θ] = ', vg_opt_params2[1])\n",
    "print('> Calibrated variance rate gamma process [v]= ', vg_opt_params2[2])\n",
    "print(f'TIME ELAPSED:  {round(end-start,2)} sec')"
   ],
   "metadata": {
    "collapsed": false
   }
  },
  {
   "cell_type": "code",
   "execution_count": null,
   "outputs": [],
   "source": [
    "print(vg_opt_params2)"
   ],
   "metadata": {
    "collapsed": false
   }
  },
  {
   "cell_type": "markdown",
   "source": [
    "##### Method 2. MINIMIZE (Bounds)"
   ],
   "metadata": {
    "collapsed": false
   }
  },
  {
   "cell_type": "code",
   "execution_count": null,
   "outputs": [],
   "source": [
    "bounds  = [(1e-3, 2), (-10, 10), (0, 15)]\n",
    "\n",
    "# Define the objective function\n",
    "def obj_function(x, strikes, prices):\n",
    "    sigm, theta, nu = x\n",
    "    VGx = VG_pricer(S0=S0, K=strikes, ttm=T, r=r, q=0, sigma=sigm, theta=theta, nu=nu, exercise=exercise)\n",
    "    return np.sum((VGx.closed_formula_call(K) - prices) ** 2)\n",
    "\n",
    "# METHOD TRUST REGION CONSTRAINED\n",
    "res3 = scpo.minimize(obj_function, x0, args=(call_strikes, call_prices),  method='trust-constr', bounds=bounds, tol=1e-20)\n",
    "print('METHOD 2: MINIMIZE (trust-constr)'); print(f'message: {res3.message}\\nsuccess: {res3.success}')\n",
    "sigt3, thetat3, nut3 = res3.x\n",
    "\n",
    "# Print the results\n",
    "print(f'> Calibrated Volatlity [σ] = {round(sigt3,4)} \\t {round(sigt3*100,2)}%')\n",
    "print('> Calibrated mean rate gamma process [θ] = ', round(thetat3,2))\n",
    "print('> Calibrated variance rate gamma process [v]= ', round(nut3,2))\n",
    "print(f'TIME ELAPSED:  {round(end-start,2)} sec')"
   ],
   "metadata": {
    "collapsed": false
   }
  },
  {
   "cell_type": "markdown",
   "source": [
    "##### Method 1 using FFT prices"
   ],
   "metadata": {
    "collapsed": false
   }
  },
  {
   "cell_type": "code",
   "execution_count": null,
   "outputs": [],
   "source": [
    "def f_VG_fft(strikes, sigmax, thetax, nux):\n",
    "    VGamma = VG_pricer(S0=S0, K=None, ttm=T, r=r, q=0, sigma=sigmax, theta=thetax, nu=nux, exercise=exercise)\n",
    "    return VGamma.FFT_call(strikes)\n",
    "\n",
    "res4 = scpo.curve_fit(f_VG_fft, call_strikes, call_prices, p0=x0, bounds=bounds)\n",
    "\n",
    "sigt4 = round(res1[0][0],5)\n",
    "thetat4 = round(res1[0][1],2)\n",
    "nut4 = round(res1[0][2],2)\n",
    "\n",
    "print('METHOD 1: CURVE_FIT (trf)')\n",
    "print(f'> Calibrated Volatlity [σ] = {round(sigt4,4)} \\t {round(sigt4*100,2)}%')\n",
    "print('> Calibrated mean rate gamma process [θ] = ', thetat4)\n",
    "print('> Calibrated variance rate gamma process [v]= ', nut4)"
   ],
   "metadata": {
    "collapsed": false
   }
  },
  {
   "cell_type": "code",
   "execution_count": null,
   "outputs": [],
   "source": [
    "vg_params = [sigt, thetat, nut]\n",
    "print(vg_params)"
   ],
   "metadata": {
    "collapsed": false
   }
  },
  {
   "cell_type": "markdown",
   "source": [
    "## Weighted calibration (CALLS)\n",
    "Considering the original formula of the calibration, we can add a weight parameter $w_i$ that allows to give more importance to the market prices with smaller spread. Thus, the optimization objective function  becomes:\n",
    "$$ \\sum_{i=1}^{N} w_i \\biggl( P_i - f(K_i|\\Theta) \\biggr)^2 $$\n",
    "where $w_i$ are weights, usually defined as\n",
    "$$ w_i = \\frac{1}{\\text {spread}_i }$$\n"
   ],
   "metadata": {
    "collapsed": false
   }
  },
  {
   "cell_type": "code",
   "execution_count": null,
   "outputs": [],
   "source": [
    "call_spreads = calls['C_Spread']\n",
    "#for a, b, c in zip(call_strikes, call_prices, spreads):\n",
    "#    print(a, b,c )"
   ],
   "metadata": {
    "collapsed": false
   }
  },
  {
   "cell_type": "markdown",
   "source": [
    "### Black and Scholes"
   ],
   "metadata": {
    "collapsed": false
   }
  },
  {
   "cell_type": "code",
   "execution_count": null,
   "outputs": [],
   "source": [
    "x0 = 0.4\n",
    "bounds =( [0], [np.inf])\n",
    "\n",
    "# CALL OPTIONS\n",
    "def f_BlackScholes_call(x, sigm):\n",
    "    BS = BS_Pricer(S0=S0, K = x, ttm=T, r=r, q=0, sigma=sigm, exercise='call')\n",
    "    return BS.closed_formula_call(x)\n",
    "\n",
    "res1_calls = scpo.curve_fit(f_BlackScholes_call, call_strikes, call_prices, p0 = x0, bounds=bounds, sigma= call_spreads)\n",
    "sigw_c = round(res1_calls[0][0],4)\n",
    "\n",
    "print('METHOD 1: CURVE_FIT (trf)')\n",
    "print(f'> Calibrated Volatility from Calls [σ] = {sigw_c} \\t {round(sigw_c*100,2)}%')"
   ],
   "metadata": {
    "collapsed": false
   }
  },
  {
   "cell_type": "markdown",
   "source": [
    "### Merton Jump diffusion"
   ],
   "metadata": {
    "collapsed": false
   }
  },
  {
   "cell_type": "code",
   "execution_count": null,
   "outputs": [],
   "source": [
    "# using call prices\n",
    "def f_Mert(x, sigma, lambd, meanJ, stdJ):\n",
    "    Mert = Merton_pricer(S0=S0, K=x, ttm=T, r=r, q=0, sigma=sigma, lambd=lambd, meanJ=meanJ, stdJ=stdJ, exercise=exercise)\n",
    "    return Mert.closed_formula_call(x)\n",
    "\n",
    "x0 = [0.0993,  0.93, -0.097,  0.092]  # initial guess: [σ, λ, m, v]\n",
    "bounds = ( [1e-3, 1e-2, -10, 1e-5], [2, 10, 10, 5] )\n",
    "\n",
    "start=time.time()\n",
    "mert_params2 = scpo.curve_fit(f_Mert, call_strikes, call_prices, p0=x0, bounds=bounds, sigma=call_spreads)\n",
    "end=time.time()"
   ],
   "metadata": {
    "collapsed": false
   }
  },
  {
   "cell_type": "code",
   "execution_count": null,
   "outputs": [],
   "source": [
    "sigw = round(mert_params2[0][0],4)\n",
    "lambdw = round(mert_params2[0][1],2)\n",
    "mw = round(mert_params2[0][2],2)\n",
    "vw = round(mert_params2[0][3],5)\n",
    "\n",
    "print('WEIGHTED OPT: CURVE_FIT (trf)')\n",
    "print(f'> Calibrated Volatlity [σ] = {sigw} \\t {round(sigw*100,2)}%')\n",
    "print('> Calibrated Jump intensity [λ] = ', lambdw)\n",
    "print('> Calibrated Jump Mean = ', mw)\n",
    "print('> Calibrated Jump St. dev.  = ', vw)\n",
    "print(f'\\nELAPSED TIME: {end-start} sec')\n",
    "\n",
    "mert_params2 = [sigw, lambdw, mw, vw]"
   ],
   "metadata": {
    "collapsed": false
   }
  },
  {
   "cell_type": "code",
   "execution_count": null,
   "outputs": [],
   "source": [
    "print(mert_params2)"
   ],
   "metadata": {
    "collapsed": false
   }
  },
  {
   "cell_type": "markdown",
   "source": [
    "### Kou Jump Diffusion"
   ],
   "metadata": {
    "collapsed": false
   }
  },
  {
   "cell_type": "code",
   "execution_count": null,
   "outputs": [],
   "source": [
    "def f_Kou(x, sigma, lambd, p, eta1, eta2):\n",
    "    KouJD = Kou_pricer(S0=S0, K=x, ttm=T, r=r, sigma=sigma, lambd=lambd, p=p, eta1=eta1, eta2=eta2, exercise=exercise)\n",
    "    return KouJD.closed_formula_call(x)\n",
    "\n",
    "x0 = [0.1, 0.5, 0.4, 5, 5] # initial guess: [σ, λ, p, η_1, η_2]\n",
    "bounds = ( [0, 1e-2, 0, 0, 0], [4, 10, 0.9,  100, 100] )\n",
    "\n",
    "start=time.time()\n",
    "kou_params2 = scpo.curve_fit(f_Kou, call_strikes, call_prices, p0=x0, bounds=bounds, sigma=call_spreads)\n",
    "end=time.time()"
   ],
   "metadata": {
    "collapsed": false
   }
  },
  {
   "cell_type": "code",
   "execution_count": null,
   "outputs": [],
   "source": [
    "sigw = round(kou_params2[0][0],5)\n",
    "lambdw = round(kou_params2[0][1],2)\n",
    "pw = round(kou_params2[0][2],2)\n",
    "eta1_w = round(kou_params2[0][3],1)\n",
    "eta2_w = round(kou_params2[0][4],1)\n",
    "\n",
    "print('WEIGHTED OPT: CURVE_FIT (trf)')\n",
    "print(f'> Calibrated Volatlity [σ] = {sigw} \\t {sigw*100}%')\n",
    "print('> Calibrated Jump intensity [λ] = ', lambdw)\n",
    "print(f'> Calibrated Upward Jump probability [p] = {pw}, [q] = {round(1-pw,2)}')\n",
    "print('> Calibrated Rate of Exp. 1  [η_1] = ', eta1_w)\n",
    "print('> Calibrated Rate of Exp. 2  [η_2] = ', eta2_w)\n",
    "\n",
    "kou_params2 = [sigw, lambdw, pw, eta1_w, eta2_w]\n",
    "print(kou_params2)"
   ],
   "metadata": {
    "collapsed": false
   }
  },
  {
   "cell_type": "markdown",
   "source": [
    "### Variance Gamma"
   ],
   "metadata": {
    "collapsed": false
   }
  },
  {
   "cell_type": "code",
   "execution_count": null,
   "outputs": [],
   "source": [
    "def f_VG(strikes, sigmax, thetax, nux):\n",
    "    VGamma = VG_pricer(S0=S0, K=None, ttm=T, r=r, q=0, sigma=sigmax, theta=thetax, nu=nux, exercise=exercise)\n",
    "    vg_prices = []\n",
    "    for k in strikes:\n",
    "        vg_prices.append(VGamma.closed_formula_call(k))\n",
    "    return vg_prices\n",
    "\n",
    "x0 = [0.2, -0.05, 0.1]   # initial guess: [σ, θ, v]\n",
    "bounds = ( [1e-2, -10, 0], [5, 10, 20] )\n",
    "vg_params2 = scpo.curve_fit(f_VG, call_strikes, call_prices, p0=x0, bounds=bounds, sigma=call_spreads)"
   ],
   "metadata": {
    "collapsed": false
   }
  },
  {
   "cell_type": "code",
   "execution_count": null,
   "outputs": [],
   "source": [
    "sigw = round(vg_params2[0][0],5)\n",
    "thetaw = round(vg_params2[0][1],2)\n",
    "nuw = round(vg_params2[0][2],2)\n",
    "\n",
    "print('WEIGHTED OPT: CURVE_FIT (trf)')\n",
    "print(f'> Calibrated Volatlity [σ] = {sigw}, \\t {round(sigw*100,2)}%')\n",
    "print('> Calibrated mean rate gamma process [θ] = ', thetaw)\n",
    "print('> Calibrated variance rate gamma process [v]= ', nuw)\n",
    "\n",
    "vg_params2 = [sigw, thetaw, nuw]"
   ],
   "metadata": {
    "collapsed": false
   }
  },
  {
   "cell_type": "code",
   "execution_count": null,
   "outputs": [],
   "source": [
    "print(vg_params2)"
   ],
   "metadata": {
    "collapsed": false
   }
  },
  {
   "cell_type": "markdown",
   "source": [
    "## Weighted calibration (PUTS)"
   ],
   "metadata": {
    "collapsed": false
   }
  },
  {
   "cell_type": "code",
   "execution_count": null,
   "outputs": [],
   "source": [
    "put_spreads = puts['P_Spread']"
   ],
   "metadata": {
    "collapsed": false
   }
  },
  {
   "cell_type": "markdown",
   "source": [
    "#### Black and Scholes"
   ],
   "metadata": {
    "collapsed": false
   }
  },
  {
   "cell_type": "code",
   "execution_count": null,
   "outputs": [],
   "source": [
    "x0 = 0.4\n",
    "bounds =( [0], [np.inf])\n",
    "\n",
    "# PUT OPTIONS\n",
    "def f_BlackScholes(x, sigm):\n",
    "    BS = BS_Pricer(S0=S0, K = x, ttm=T, r=r, q=0, sigma=sigm, exercise='put')\n",
    "    return BS.closed_formula_put(x)\n",
    "\n",
    "res1_puts = scpo.curve_fit(f_BlackScholes, put_strikes, put_prices, p0 = x0, bounds=bounds, sigma = put_spreads)\n",
    "sigw_p = round(res1_puts[0][0],4)\n",
    "\n",
    "print('METHOD 1: CURVE_FIT (trf)')\n",
    "print(f'> Calibrated Volatility from Puts [σ] = {sigw_p} \\t {round(sigw_p*100,2)}%')"
   ],
   "metadata": {
    "collapsed": false
   }
  },
  {
   "cell_type": "markdown",
   "source": [
    "### Merton Jump diffusion\n"
   ],
   "metadata": {
    "collapsed": false
   }
  },
  {
   "cell_type": "code",
   "execution_count": null,
   "outputs": [],
   "source": [
    "# put prices\n",
    "def f_Mert(x, sigma, lambd, meanJ, stdJ):\n",
    "    Mert = Merton_pricer(S0=S0, K=x, ttm=T, r=r, q=0, sigma=sigma, lambd=lambd, meanJ=meanJ, stdJ=stdJ, exercise=exercise)\n",
    "    return Mert.closed_formula_put(x)\n",
    "\n",
    "x0 = [0.4, 1, 0.1, 1] # initial guess: [σ, λ, m, v]\n",
    "bounds = ( [1e-2, 1e-2, -10, 0.1], [2, np.inf, 10, 5] )\n",
    "\n",
    "start=time.time()\n",
    "mert_params3 = scpo.curve_fit(f_Mert, put_strikes, put_prices, p0=x0, bounds=bounds, sigma=put_spreads)\n",
    "end=time.time()"
   ],
   "metadata": {
    "collapsed": false
   }
  },
  {
   "cell_type": "code",
   "execution_count": null,
   "outputs": [],
   "source": [
    "sigw_p = round(mert_params3[0][0],4)\n",
    "lambdw_p = round(mert_params3[0][1],2)\n",
    "mw_p = round(mert_params3[0][2],2)\n",
    "vw_p = round(mert_params3[0][3],5)\n",
    "\n",
    "print('WEIGHTED OPT: CURVE_FIT (trf)')\n",
    "print(f'> Calibrated Volatlity [σ] = {sigw_p} \\t {sigw_p*100}%')\n",
    "print('> Calibrated Jump intensity [λ] = ', lambdw_p)\n",
    "print('> Calibrated Jump Mean = ', mw_p)\n",
    "print('> Calibrated Jump St. dev.  = ', vw_p)\n",
    "print(f'\\nELAPSED TIME: {end-start} sec')\n",
    "\n",
    "mert_params3 = [sigw_p, lambdw_p, mw_p, vw_p]"
   ],
   "metadata": {
    "collapsed": false
   }
  },
  {
   "cell_type": "code",
   "execution_count": null,
   "outputs": [],
   "source": [
    "print(mert_params3)"
   ],
   "metadata": {
    "collapsed": false
   }
  },
  {
   "cell_type": "markdown",
   "source": [
    "### Kou Jump Diffusion"
   ],
   "metadata": {
    "collapsed": false
   }
  },
  {
   "cell_type": "code",
   "execution_count": null,
   "outputs": [],
   "source": [
    "def f_Kou(x, sigma, lambd, p, eta1, eta2):\n",
    "    KouJD = Kou_pricer(S0=S0, K=x, ttm=T, r=r, sigma=sigma, lambd=lambd, p=p, eta1=eta1, eta2=eta2, exercise=exercise)\n",
    "    return KouJD.closed_formula_put(x)\n",
    "\n",
    "x0 = [0.1, 0.5, 0.5, 5, 5] # initial guess: [σ, λ, p, η_1, η_2]\n",
    "bounds = ( [0, 1e-3, 0, 0, 0], [4, 10, 0.9,  10, 10] )\n",
    "start = time.time()\n",
    "kou_params3 = scpo.curve_fit(f_Kou, put_strikes, put_prices, p0=x0, bounds=bounds, sigma=put_spreads)\n",
    "end=time.time()"
   ],
   "metadata": {
    "collapsed": false
   }
  },
  {
   "cell_type": "code",
   "execution_count": null,
   "outputs": [],
   "source": [
    "sigw_p = round(kou_params3[0][0],5)\n",
    "lambdw_p = round(kou_params3[0][1],2)\n",
    "pw_p = round(kou_params3[0][2],2)\n",
    "eta1_w_p = round(kou_params3[0][3],1)\n",
    "eta2_w_p = round(kou_params3[0][4],1)\n",
    "\n",
    "print('WEIGHTED OPT: CURVE_FIT (trf)')\n",
    "print(f'> Calibrated Volatlity [σ] = {sigw_p} \\t {round(sigw_p*100,2)}%')\n",
    "print('> Calibrated Jump intensity [λ] = ', lambdw_p)\n",
    "print(f'> Calibrated Upward Jump probability [p] = {pw_p}, [q] = {round(1-pw_p,2)}')\n",
    "print('> Calibrated Rate of Exp. 1  [η_1] = ', eta1_w_p)\n",
    "print('> Calibrated Rate of Exp. 2  [η_2] = ', eta2_w_p)\n",
    "print(f'\\nELAPSED TIME: {end-start} sec')\n",
    "\n",
    "kou_params3 = [sigw_p, lambdw_p, pw_p, eta1_w_p, eta2_w_p]\n",
    "print(kou_params3)"
   ],
   "metadata": {
    "collapsed": false
   }
  },
  {
   "cell_type": "markdown",
   "source": [
    "### Variance Gamma"
   ],
   "metadata": {
    "collapsed": false
   }
  },
  {
   "cell_type": "code",
   "execution_count": null,
   "outputs": [],
   "source": [
    "def f_VG(strikes, sigmax, thetax, nux):\n",
    "    VGamma = VG_pricer(S0=S0, K=None, ttm=T, r=r, q=0, sigma=sigmax, theta=thetax, nu=nux, exercise=exercise)\n",
    "    vg_prices = []\n",
    "    for k in strikes:\n",
    "        vg_prices.append(VGamma.closed_formula_put(k))\n",
    "    return vg_prices\n",
    "\n",
    "x0 = [0.2, -0.05, 0.1]   # initial guess: [σ, θ, v]\n",
    "bounds = ( [1e-2, -10, 0], [5, 10, 20] )\n",
    "vg_params3 = scpo.curve_fit(f_VG, put_strikes, put_prices, p0=x0, bounds=bounds, sigma=put_spreads)"
   ],
   "metadata": {
    "collapsed": false
   }
  },
  {
   "cell_type": "code",
   "execution_count": null,
   "outputs": [],
   "source": [
    "sigw_p = round(vg_params3[0][0],5)\n",
    "thetaw_p = round(vg_params3[0][1],2)\n",
    "nuw_p = round(vg_params3[0][2],2)\n",
    "\n",
    "print('WEIGHTED OPT: CURVE_FIT (trf)')\n",
    "print(f'> Calibrated Volatlity [σ] = {sigw_p}, \\t {round(sigw_p*100,2)}%')\n",
    "print('> Calibrated mean rate gamma process [θ] = ', thetaw_p)\n",
    "print('> Calibrated variance rate gamma process [v]= ', nuw_p)\n",
    "\n",
    "vg_params3 = [sigw_p, thetaw_p, nuw_p]"
   ],
   "metadata": {
    "collapsed": false
   }
  },
  {
   "cell_type": "code",
   "execution_count": null,
   "outputs": [],
   "source": [
    "print(vg_params3)"
   ],
   "metadata": {
    "collapsed": false
   }
  },
  {
   "cell_type": "markdown",
   "source": [
    "### Monte Carlo Option Pricing and Calibration\n",
    "The following code snippet aims to find the best parameters for each model, minimizing the difference between the monte carlo prices and the market prices of **call** and **put** options."
   ],
   "metadata": {
    "collapsed": false
   }
  },
  {
   "cell_type": "markdown",
   "source": [
    "#### Black and Scholes Model"
   ],
   "metadata": {
    "collapsed": false
   }
  },
  {
   "cell_type": "code",
   "execution_count": null,
   "outputs": [],
   "source": [
    "# Define the objective function\n",
    "def obj_function(x, strikes, mkt_prices, days=252, N=100):\n",
    "    sigm = x\n",
    "    BS = BS_Pricer(S0,r,q,sigm, T, exercise=exercise, K=None)\n",
    "    bs_prices = []\n",
    "    for k in strikes:\n",
    "        bs_prices.append(BS.MonteCarlo_Call(k,251, days, N))\n",
    "    diff = bs_prices - mkt_prices\n",
    "    return np.sum(diff**2)\n",
    "\n",
    "additional_args = (call_strikes, call_prices)\n",
    "\n",
    "x0 = 0.20\n",
    "\n",
    "# METHOD SEQUENTIAL LEAST SQUARES\n",
    "res_bs = scpo.minimize(obj_function, x0, args=additional_args,  method='BFGS')\n"
   ],
   "metadata": {
    "collapsed": false
   }
  },
  {
   "cell_type": "code",
   "execution_count": null,
   "outputs": [],
   "source": [
    "sigma_opt = res_bs.x\n",
    "print(sigma_opt)"
   ],
   "metadata": {
    "collapsed": false
   }
  },
  {
   "cell_type": "code",
   "execution_count": null,
   "outputs": [],
   "source": [],
   "metadata": {
    "collapsed": false
   }
  }
 ],
 "metadata": {
  "kernelspec": {
   "display_name": "Python 3",
   "language": "python",
   "name": "python3"
  },
  "language_info": {
   "codemirror_mode": {
    "name": "ipython",
    "version": 2
   },
   "file_extension": ".py",
   "mimetype": "text/x-python",
   "name": "python",
   "nbconvert_exporter": "python",
   "pygments_lexer": "ipython2",
   "version": "2.7.6"
  }
 },
 "nbformat": 4,
 "nbformat_minor": 0
}
