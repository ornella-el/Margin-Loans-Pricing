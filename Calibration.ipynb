{
 "cells": [
  {
   "cell_type": "markdown",
   "source": [
    "## Calibration of model parameters (BLACK and SCHOLES, MERTON)\n",
    "The **Implied Volatility** is that value $\\\\sigma$ that must be inserted into the Black-Scholes (BS) formula in order to retrieve the option price quoted in the market:\n",
    "$$ BS(S, K, T, r, \\sigma) = P  $$\n",
    "where $S$ is the underlying spot price, $K$ is the strike, $T$ time to maturity, $r$ risk-free interest rate and $P$ the option price quoted in the market. All these quantities are **observable**.\n"
   ],
   "metadata": {
    "collapsed": false
   }
  },
  {
   "cell_type": "code",
   "execution_count": 29,
   "metadata": {
    "collapsed": true
   },
   "outputs": [],
   "source": [
    "from functions.MERTONpricer import Merton_pricer\n",
    "from functions.BSpricer import BS_pricer\n",
    "\n",
    "import numpy as np\n",
    "import pandas as pd\n",
    "import scipy as scp\n",
    "import scipy.stats as ss\n",
    "import scipy.optimize as scpo\n"
   ]
  },
  {
   "cell_type": "markdown",
   "source": [
    "Let's retrieve the historic prices for european call and put options starting from 2016-01-20 and expiring 1 year later."
   ],
   "metadata": {
    "collapsed": false
   }
  },
  {
   "cell_type": "code",
   "execution_count": 30,
   "outputs": [],
   "source": [
    "df_call = pd.read_csv('data/options_spx_call_2016.csv')\n",
    "df_put = pd.read_csv('data/options_spx_put_2016.csv')\n",
    "\n",
    "df_call['C_Midpoint'] = abs(df_call['C_BID'] + df_call['C_ASK'] )/ 2\n",
    "df_put['P_Midpoint'] = abs(df_put['P_BID'] + df_put['P_ASK'] )/ 2\n",
    "\n",
    "r = 0.1\n",
    "sigma = 0.5\n",
    "S0 = df_call.iloc[0]['UNDERLYING_LAST']\n",
    "T = 1\n",
    "call_strikes = df_call['STRIKE']    # array of K\n",
    "put_strikes = df_put['STRIKE']\n",
    "exercise = 'european'\n",
    "\n",
    "call_prices = df_call['C_Midpoint']\n",
    "put_prices = df_put['P_Midpoint']\n",
    "\n",
    "#print(df_call)"
   ],
   "metadata": {
    "collapsed": false
   }
  },
  {
   "cell_type": "markdown",
   "source": [
    "Now let's initialize an object of class BS_pricer which is able to find the theoretical price of the options, given the parameters."
   ],
   "metadata": {
    "collapsed": false
   }
  },
  {
   "cell_type": "code",
   "execution_count": 31,
   "outputs": [
    {
     "name": "stdout",
     "output_type": "stream",
     "text": [
      "Theoretical call options prices [Black and Scholes model]: [519.26777644 506.92447997 494.84144177 483.01557869 471.44368111\n",
      " 460.12242595 449.04838896 438.21805656 427.62783697 417.27407075\n",
      " 407.15304077 397.26098163 387.5940885  378.14852541]\n",
      "Theoretical call options prices [Merton Jump Diffusion model]: [621.72072212 610.29182993 599.05279923 588.00157246 577.13606165\n",
      " 566.45415143 555.953702   545.63255197 535.48852105 525.51941267\n",
      " 515.72301647 506.09711066 496.63946432 487.3478396 ]\n"
     ]
    }
   ],
   "source": [
    "BS_C = BS_pricer(S0=S0, r=r, sigma=sigma, ttm=T, exercise=exercise, K=None, type_o='call')\n",
    "MertonC = Merton_pricer(S0=S0, K=None, ttm=T, r=r, sigma=sigma, lambd=0.8, meanJ=0.6, stdJ=0.2, exercise=exercise, type_o='call')\n",
    "\n",
    "BS_call_prices = np.zeros_like(call_strikes, dtype=float)\n",
    "for i, K in enumerate(call_strikes):\n",
    "    BS_call_prices[i] = BS_C.closed_formula(K)\n",
    "\n",
    "MERT_call_prices = np.zeros_like(call_strikes, dtype=float)\n",
    "for i, K in enumerate(call_strikes):\n",
    "    MERT_call_prices[i] = MertonC.closed_formula(K)\n",
    "\n",
    "print(f'Theoretical call options prices [Black and Scholes model]: {BS_call_prices}')\n",
    "print(f'Theoretical call options prices [Merton Jump Diffusion model]: {MERT_call_prices}')\n"
   ],
   "metadata": {
    "collapsed": false
   }
  },
  {
   "cell_type": "markdown",
   "source": [
    "PUT PRICES:"
   ],
   "metadata": {
    "collapsed": false
   }
  },
  {
   "cell_type": "code",
   "execution_count": 32,
   "outputs": [
    {
     "name": "stdout",
     "output_type": "stream",
     "text": [
      "Computed put options prices [Black and Scholes model]: [198.0113871  208.28902609 218.82692333 229.6219957  240.67103358\n",
      " 251.97071386 263.51761232 275.30821538 287.33893124 299.60610047\n",
      " 312.10600594 324.83488225 337.78892457 350.96429694]\n",
      "Computed put options prices [Merton Jump Diffusion model]: [300.46433278 311.65637604 323.03828079 334.60798948 346.36341412\n",
      " 358.30243934 370.42292536 382.72271078 395.19961532 407.85144239\n",
      " 420.67598164 433.67101128 446.83430039 460.16361112]\n"
     ]
    }
   ],
   "source": [
    "BS_P = BS_pricer(S0=S0, r=r, sigma=sigma, ttm=T, exercise=exercise, K=None, type_o='put')\n",
    "MertonP = Merton_pricer(S0=S0, K=None, ttm=T, r=r, sigma=sigma, lambd=0.8, meanJ=0.6, stdJ=0.2, exercise=exercise, type_o='put')\n",
    "\n",
    "BS_put_prices = np.zeros_like(put_strikes, dtype=float)\n",
    "for i, K in enumerate(put_strikes):\n",
    "    BS_put_prices[i] = BS_P.closed_formula(K)\n",
    "\n",
    "MERT_put_prices = np.zeros_like(put_strikes, dtype=float)\n",
    "for i, K in enumerate(put_strikes):\n",
    "    MERT_put_prices[i] = MertonP.closed_formula(K)\n",
    "\n",
    "print(f'Computed put options prices [Black and Scholes model]: {BS_put_prices}')\n",
    "print(f'Computed put options prices [Merton Jump Diffusion model]: {MERT_put_prices}')\n"
   ],
   "metadata": {
    "collapsed": false
   }
  },
  {
   "cell_type": "code",
   "execution_count": 33,
   "outputs": [],
   "source": [
    "def implied_volatility(price, S0, K, T, r, type_o, method, disp=True ):\n",
    "    \"\"\" Returns Implied volatility\n",
    "        methods:  fsolve (default) or brent\n",
    "    \"\"\"\n",
    "\n",
    "    def obj_fun(vol):\n",
    "        return price - BS_C.BlackScholes(type_o=type_o, S0=S0, K=K, ttm=T, r=r, sigma=vol)\n",
    "\n",
    "    if method == 'brent':\n",
    "        x, r = scpo.brentq( obj_fun, a=1e-15, b=500, full_output=True)\n",
    "        if r.converged:\n",
    "            return x\n",
    "\n",
    "    if method =='fsolve':\n",
    "        X0 = [0.03, 0.08, 0.1, 0.15, 0.2, 0.3, 0.5, 1, 2]   # set of initial guess points for imp.vol.\n",
    "        for x0 in X0:\n",
    "            x, _, solved, _ = scpo.fsolve(obj_fun, x0, full_output=True, xtol=1e-8)\n",
    "            if solved == 1:\n",
    "                return x[0]\n",
    "\n",
    "    if method == 'newton':\n",
    "        x0 = 0.3\n",
    "\n",
    "        def obj_fun_squared(vol):\n",
    "            return obj_fun(vol)**2\n",
    "\n",
    "        # print('[σ] = ', x0, \"Objective Function value: \", obj_fun_squared(x0))\n",
    "        result = scpo.fmin(obj_fun_squared, x0, ftol=1e-10, full_output=0, disp=0)\n",
    "        return result[0]\n",
    "\n",
    "\n",
    "    if disp:\n",
    "        return -1"
   ],
   "metadata": {
    "collapsed": false
   }
  },
  {
   "cell_type": "markdown",
   "source": [
    "Let's now compute the implied volatilities from the true market prices *call_prices*."
   ],
   "metadata": {
    "collapsed": false
   }
  },
  {
   "cell_type": "code",
   "execution_count": 34,
   "outputs": [
    {
     "name": "stdout",
     "output_type": "stream",
     "text": [
      "Implied volatilities [Black and Scholes]: [0.014999999999999208, 0.014999999999999208, 0.014999999999999208, 0.014999999999999208, 0.014999999999999208, 0.014765624999999208, 0.007499999999999188, 0.007499999999999188, 0.007499999999999188, 0.007499999999999188, 0.0037499999999991776, 0.04645385742187429, 0.057302570343016904, 0.0637830448150628]\n",
      "\n",
      "Implied volatilities [Merton Jump Diffusion]: [0.6672784188699085, 0.6662112902897452, 0.6651620568297247, 0.6641302856710486, 0.6631155585401314, 0.6621174709777291, 0.661135631661977, 0.6601696617803262, 0.6592191944459197, 0.658283874154345, 0.6573633562771634, 0.6564573065889482, 0.6555654008249056, 0.6546873242664388]\n"
     ]
    }
   ],
   "source": [
    "IVs_BS_call = []; IVs_MERT_call = [];\n",
    "for i in range(len(call_prices)):\n",
    "    IVs_BS_call.append(implied_volatility(call_prices[i], S0=S0, K=call_strikes[i], T=T, r=r, type_o='call', method='newton') )\n",
    "    IVs_MERT_call.append(implied_volatility(MERT_call_prices[i], S0=S0, K = call_strikes[i], T=T, r=r, type_o='call', method='fsolve'))\n",
    "\n",
    "print(f'Implied volatilities [Black and Scholes]: {IVs_BS_call}\\n')\n",
    "print(f'Implied volatilities [Merton Jump Diffusion]: {IVs_MERT_call}')"
   ],
   "metadata": {
    "collapsed": false
   }
  },
  {
   "cell_type": "code",
   "execution_count": 35,
   "outputs": [
    {
     "name": "stdout",
     "output_type": "stream",
     "text": [
      "Implied volatilities [Black and Scholes]: [0.35229363616294335, 0.35188275048143236, 0.3506820060204052, 0.35017099337544816, 0.35014355407871467, 0.3502933001043605, 0.35092279692388245, 0.3517300535108708, 0.3530935523924029, 0.3547251036727889, 0.35691040121733497, 0.3595598971892729, 0.3627175829845052, 0.36647819300704754]\n",
      "Implied volatilities [Merton Jump Diffusion]: [0.6672784188699088, 0.6662112902897455, 0.6651620568297255, 0.6641302856710489, 0.6631155585401313, 0.6621174709777295, 0.6611356316619765, 0.6601696617803263, 0.6592191944459197, 0.6582838741543455, 0.657363356277163, 0.6564573065889483, 0.6555654008249057, 0.6546873242664384]\n"
     ]
    }
   ],
   "source": [
    "IVs_BS_put = []; IVs_MERT_put = [];\n",
    "for i in range(len(put_prices)):\n",
    "    IVs_BS_put.append(implied_volatility(put_prices[i], S0=S0, K=put_strikes[i], T=T, r=r, type_o='put', method='fsolve') )\n",
    "    IVs_MERT_put.append(implied_volatility(MERT_put_prices[i], S0=S0, K = call_strikes[i], T=T, r=r, type_o='put', method='fsolve'))\n",
    "\n",
    "print(f'Implied volatilities [Black and Scholes]: {IVs_BS_put}')\n",
    "print(f'Implied volatilities [Merton Jump Diffusion]: {IVs_MERT_put}')"
   ],
   "metadata": {
    "collapsed": false
   }
  },
  {
   "cell_type": "markdown",
   "source": [
    "## Calibration of Merton Jump Diffusion parameters\n",
    "First we'll initialize a starting point in the array $x0 = [σ, λ, m, v]$\n",
    "and we set bounds for the 4 parameters. Then we use the method\n",
    "1. **curve_fit** of scipy.optimize. It uses the trf method when the parameters are bounded and the Levemberg-Marquadt method for unbounded parameters."
   ],
   "metadata": {
    "collapsed": false
   }
  },
  {
   "cell_type": "code",
   "execution_count": 36,
   "outputs": [],
   "source": [
    "x0 = [0.15, 1, 0.1, 1] # initial guess: [σ, λ, m, v]\n",
    "bounds = ( [0.01, 0, 1e-5, 0], [3, np.inf, 5, 5] )\n",
    "\n",
    "def f_Mert(x, sigma, lambd, meanJ, stdJ):\n",
    "    Mert = Merton_pricer(S0=S0, K=x, ttm=T, r=r, sigma=sigma, lambd=lambd, meanJ=meanJ, stdJ=stdJ, exercise=exercise, type_o='call')\n",
    "    return Mert.closed_formula(x)\n",
    "#"
   ],
   "metadata": {
    "collapsed": false
   }
  },
  {
   "cell_type": "markdown",
   "source": [
    "- Method 1. curve_fit of scipy.optimize. It uses the trf method when the parameters are bounded and the Levemberg-Marquadt method for unbounded parameters."
   ],
   "metadata": {
    "collapsed": false
   }
  },
  {
   "cell_type": "code",
   "execution_count": 37,
   "outputs": [
    {
     "name": "stdout",
     "output_type": "stream",
     "text": [
      "> METHOD 1: CURVE_FIT (trf)\n",
      "Calibrated Volatlity [σ] =  0.01\n",
      "Calibrated Jump intensity [λ] =  0.43\n",
      "Calibrated Jump Mean =  1.1\n",
      "Calibrated Jump St. dev.  =  0.0027\n"
     ]
    }
   ],
   "source": [
    "res1 = scpo.curve_fit(f_Mert, call_strikes, call_prices, p0=x0, bounds=bounds)\n",
    "\n",
    "sigt = round(res1[0][0],5)\n",
    "lambdt = round(res1[0][1],2)\n",
    "mt = round(res1[0][2],2)\n",
    "vt = round(res1[0][3],5)\n",
    "\n",
    "print('> METHOD 1: CURVE_FIT (trf)')\n",
    "print('Calibrated Volatlity [σ] = ', sigt)\n",
    "print('Calibrated Jump intensity [λ] = ', lambdt)\n",
    "print('Calibrated Jump Mean = ', mt)\n",
    "print('Calibrated Jump St. dev.  = ', vt)"
   ],
   "metadata": {
    "collapsed": false
   }
  },
  {
   "cell_type": "code",
   "execution_count": 38,
   "outputs": [
    {
     "name": "stderr",
     "output_type": "stream",
     "text": [
      "C:\\Users\\ornel\\OneDrive\\Desktop\\TESI\\PythonProjects\\Margin-Loans-Pricing\\python-modules\\functions\\MERTONpricer.py:49: RuntimeWarning: invalid value encountered in log\n",
      "  r_k = self.r - self.lambd*(self.meanJ-1) + (k * np.log(self.meanJ)) / self.ttm\n"
     ]
    },
    {
     "name": "stdout",
     "output_type": "stream",
     "text": [
      "> METHOD 1.2: CURVE_FIT (Levemberg-Marquadt)\n",
      "Calibrated Volatlity [σ] =  -0.14044\n",
      "Calibrated Jump intensity [λ] =  -0.07\n",
      "Calibrated Jump Mean =  0.0\n",
      "Calibrated Jump St. dev.  =  0.2125\n"
     ]
    },
    {
     "name": "stderr",
     "output_type": "stream",
     "text": [
      "c:\\users\\ornel\\appdata\\local\\programs\\python\\python38\\lib\\site-packages\\scipy\\optimize\\_minpack_py.py:906: OptimizeWarning: Covariance of the parameters could not be estimated\n",
      "  warnings.warn('Covariance of the parameters could not be estimated',\n"
     ]
    }
   ],
   "source": [
    "res1_2 = scpo.curve_fit(f_Mert, call_strikes, call_prices, p0=x0)\n",
    "\n",
    "sigt2 = round(res1_2[0][0],5)\n",
    "lambdt2 = round(res1_2[0][1],2)\n",
    "mt2 = round(res1_2[0][2],2)\n",
    "vt2 = round(res1_2[0][3],5)\n",
    "\n",
    "print('> METHOD 1.2: CURVE_FIT (Levemberg-Marquadt)')\n",
    "print('Calibrated Volatlity [σ] = ', sigt2)\n",
    "print('Calibrated Jump intensity [λ] = ', lambdt2)\n",
    "print('Calibrated Jump Mean = ', mt2)\n",
    "print('Calibrated Jump St. dev.  = ', vt2)"
   ],
   "metadata": {
    "collapsed": false
   }
  },
  {
   "cell_type": "markdown",
   "source": [
    "- Method 2. minimize(method=’SLSQP’)"
   ],
   "metadata": {
    "collapsed": false
   }
  },
  {
   "cell_type": "code",
   "execution_count": 39,
   "outputs": [
    {
     "name": "stdout",
     "output_type": "stream",
     "text": [
      " message: Optimization terminated successfully\n",
      " success: True\n",
      "  status: 0\n",
      "     fun: 1831705.969667116\n",
      "       x: [ 1.452e-01  5.693e-01  1.513e+00  7.117e-01]\n",
      "     nit: 6\n",
      "     jac: [ 1.981e+06  4.962e+06  3.445e+06  3.245e+06]\n",
      "    nfev: 12\n",
      "    njev: 2\n",
      "> METHOD 2: MINIMIZE (SLSQP)\n",
      "Calibrated Volatility [σ] = 0.14522\n",
      "Calibrated Jump Intensity [λ] = 0.57\n",
      "Calibrated Jump Mean [m] = 1.51\n",
      "Calibrated Jump St. dev. [v] = 0.71\n"
     ]
    }
   ],
   "source": [
    "x0 = [0.2, 0.8, 0.1, 1] # initial guess: [σ, λ, m, v]\n",
    "bounds = [(0.01, 3), (0, np.inf), (1e-5, 5),  (0, 5)]\n",
    "\n",
    "# Define the objective function\n",
    "def obj_function(x, K, call_prices):\n",
    "    sigm, lamb, mean, std = x\n",
    "    Mert = Merton_pricer(S0=S0, K=K, ttm=T, r=r, sigma=sigm, lambd=lamb, meanJ=mean, stdJ=std, exercise=exercise, type_o='call')\n",
    "    return np.sum((Mert.closed_formula(K) - call_prices) ** 2)\n",
    "\n",
    "additional_args = (call_strikes, call_prices)\n",
    "\n",
    "res2 = scpo.minimize(obj_function, x0, args=additional_args,  method='SLSQP', bounds=bounds, tol=1e-20)\n",
    "\n",
    "print(res2)\n",
    "sigt, lambdt, mt, vt = res2.x\n",
    "\n",
    "# Print the results\n",
    "print('> METHOD 2: MINIMIZE (SLSQP)')\n",
    "print('Calibrated Volatility [σ] =', round(sigt, 5))\n",
    "print('Calibrated Jump Intensity [λ] =', round(lambdt, 2))\n",
    "print('Calibrated Jump Mean [m] =', round(mt, 2))\n",
    "print('Calibrated Jump St. dev. [v] =', round(vt, 2))"
   ],
   "metadata": {
    "collapsed": false
   }
  },
  {
   "cell_type": "code",
   "execution_count": null,
   "outputs": [],
   "source": [],
   "metadata": {
    "collapsed": false
   }
  }
 ],
 "metadata": {
  "kernelspec": {
   "display_name": "Python 3",
   "language": "python",
   "name": "python3"
  },
  "language_info": {
   "codemirror_mode": {
    "name": "ipython",
    "version": 2
   },
   "file_extension": ".py",
   "mimetype": "text/x-python",
   "name": "python",
   "nbconvert_exporter": "python",
   "pygments_lexer": "ipython2",
   "version": "2.7.6"
  }
 },
 "nbformat": 4,
 "nbformat_minor": 0
}
