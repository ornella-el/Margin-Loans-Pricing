{
 "cells": [
  {
   "cell_type": "markdown",
   "source": [
    "## Calibration of model parameters (BLACK and SCHOLES, MERTON)\n",
    "The **Implied Volatility** is that value $\\\\sigma$ that must be inserted into the Black-Scholes (BS) formula in order to retrieve the option price quoted in the market:\n",
    "$$ BS(S, K, T, r, \\sigma) = P  $$\n",
    "where $S$ is the underlying spot price, $K$ is the strike, $T$ time to maturity, $r$ risk-free interest rate and $P$ the option price quoted in the market. All these quantities are **observable**.\n"
   ],
   "metadata": {
    "collapsed": false
   }
  },
  {
   "cell_type": "code",
   "execution_count": 13,
   "metadata": {
    "collapsed": true
   },
   "outputs": [],
   "source": [
    "from functions.MERTONpricer import Merton_pricer\n",
    "from functions.BSpricer import BS_pricer\n",
    "from functions.KOUpricer import Kou_pricer\n",
    "\n",
    "import numpy as np\n",
    "import pandas as pd\n",
    "import matplotlib.pyplot as plt\n",
    "import scipy as scp\n",
    "import scipy.stats as ss\n",
    "import scipy.optimize as scpo\n"
   ]
  },
  {
   "cell_type": "markdown",
   "source": [
    "Let's retrieve the historic prices for european call and put options starting from 2016-01-20 and expiring 1 year later."
   ],
   "metadata": {
    "collapsed": false
   }
  },
  {
   "cell_type": "code",
   "execution_count": 46,
   "outputs": [],
   "source": [
    "df_call = pd.read_csv('data/options_spx_call_2016.csv')\n",
    "df_put = pd.read_csv('data/options_spx_put_2016.csv')\n",
    "\n",
    "df_call['C_Midpoint'] = abs(df_call['C_BID'] + df_call['C_ASK']) / 2\n",
    "df_put['P_Midpoint'] = abs(df_put['P_BID'] + df_put['P_ASK']) / 2\n",
    "df_call['C_Spread'] = df_call['C_BID'] - df_call['C_ASK']\n",
    "df_put['P_Spread'] = df_put['P_BID'] - df_put['P_ASK']\n",
    "\n",
    "q = 0       # dividend yield\n",
    "r = 0.1     # risk-free interest rate\n",
    "sigma = 0.25 #volatility (variance of diffusion process)\n",
    "S0 = df_call.iloc[0]['UNDERLYING_LAST']\n",
    "T = 1\n",
    "strikes = np.arange(50,151,5)\n",
    "call_strikes = df_call['STRIKE']    # array of K\n",
    "put_strikes = df_put['STRIKE']\n",
    "exercise = 'european'\n",
    "\n",
    "call_prices = df_call['C_Midpoint']\n",
    "put_prices = df_put['P_Midpoint']"
   ],
   "metadata": {
    "collapsed": false
   }
  },
  {
   "cell_type": "markdown",
   "source": [
    "Let's initialize an object of class BS_pricer which is able to find the theoretical price of the options, given the parameters."
   ],
   "metadata": {
    "collapsed": false
   }
  },
  {
   "cell_type": "code",
   "execution_count": 47,
   "outputs": [
    {
     "name": "stdout",
     "output_type": "stream",
     "text": [
      "Theoretical call options prices:\n",
      "    BlackScholes       Merton          Kou\n",
      "0    1067.982086  1067.936279  1068.327645\n",
      "1    1045.452745  1045.366094  1045.805414\n",
      "2    1022.951764  1022.807223  1023.296526\n",
      "3    1000.485622  1000.261714  1000.802346\n",
      "4     978.061702   977.731909   978.324334\n",
      "..           ...          ...          ...\n",
      "70     69.500491    12.296700    13.490937\n",
      "71     62.631528    10.190773    11.506695\n",
      "72     56.398177     8.491126     9.867686\n",
      "73     50.748642     7.111389     8.504359\n",
      "74     45.634218     5.983941     7.362402\n",
      "\n",
      "[75 rows x 3 columns]\n",
      "Theoretical call options prices:\n",
      "    BlackScholes       Merton          Kou\n",
      "0    1067.771853  1067.936279  1068.327645\n",
      "1    1045.164821  1045.366094  1045.805414\n",
      "2    1022.564270  1022.807223  1023.296526\n",
      "3     999.972589  1000.261714  1000.802346\n",
      "4     977.392812   977.731909   978.324334\n",
      "..           ...          ...          ...\n",
      "70     42.360153    12.296700    13.490937\n",
      "71     36.969859    10.190773    11.506695\n",
      "72     32.217680     8.491126     9.867686\n",
      "73     28.036990     7.111389     8.504359\n",
      "74     24.366456     5.983941     7.362402\n",
      "\n",
      "[75 rows x 3 columns]\n"
     ]
    }
   ],
   "source": [
    "BS = BS_pricer(S0=S0, r=r, q = q, sigma=sigma, ttm=T, exercise=exercise, K=None)\n",
    "Merton = Merton_pricer(S0=S0, K=None, ttm=T, r=0.1, q = q, sigma=0.12, lambd=0.5, meanJ=-0.1, stdJ=0.2, exercise=exercise)\n",
    "Kou = Kou_pricer(S0=S0, K=None, ttm=T, r=r, sigma=0.12, lambd=0.5, p=0.6, eta1=10, eta2=5, exercise=exercise)\n",
    "\n",
    "call_th_prices = pd.DataFrame(columns=['BlackScholes', 'Merton', 'Kou'])\n",
    "\n",
    "for i, K in enumerate(call_strikes):\n",
    "    bs = BS.closed_formula_call(K)\n",
    "    mert = Merton.closed_formula_call(K)\n",
    "    kou = Kou.closed_formula_call(K)\n",
    "    call_th_prices.loc[i] = [bs, mert, kou]\n",
    "\n",
    "print(f'Theoretical call options prices:')\n",
    "print(call_th_prices)\n"
   ],
   "metadata": {
    "collapsed": false
   }
  },
  {
   "cell_type": "markdown",
   "source": [
    "PUT PRICES:"
   ],
   "metadata": {
    "collapsed": false
   }
  },
  {
   "cell_type": "code",
   "execution_count": 48,
   "outputs": [
    {
     "name": "stdout",
     "output_type": "stream",
     "text": [
      "Theoretical put options prices:\n",
      "    BlackScholes      Merton         Kou\n",
      "0       0.024594    0.189020    0.580385\n",
      "1       0.038498    0.239770    0.679090\n",
      "2       0.058882    0.301835    0.791138\n",
      "3       0.088137    0.377262    0.917893\n",
      "4       0.129294    0.468392    1.060816\n",
      "..           ...         ...         ...\n",
      "70    580.699311  550.635858  551.830095\n",
      "71    620.550888  593.771802  595.087724\n",
      "72    661.040579  637.314025  638.690586\n",
      "73    702.101761  681.176159  682.569129\n",
      "74    743.673097  725.290583  726.669043\n",
      "\n",
      "[75 rows x 3 columns]\n"
     ]
    }
   ],
   "source": [
    "put_th_prices = pd.DataFrame(columns=['BlackScholes', 'Merton', 'Kou'])\n",
    "\n",
    "for i, K in enumerate(put_strikes):\n",
    "    bs = BS.closed_formula_put(K)\n",
    "    mert = Merton.closed_formula_put(K)\n",
    "    kou = Kou.closed_formula_put(K)\n",
    "    put_th_prices.loc[i] = [bs, mert, kou]\n",
    "\n",
    "print(f'Theoretical put options prices:')\n",
    "print(put_th_prices)"
   ],
   "metadata": {
    "collapsed": false
   }
  },
  {
   "cell_type": "code",
   "execution_count": 49,
   "outputs": [],
   "source": [
    "def implied_volatility(price, S, strike, t, rate, q, type_o, method, disp=True ):\n",
    "    \"\"\" Returns Implied volatility\n",
    "        methods:  fsolve (default) or brent\n",
    "    \"\"\"\n",
    "\n",
    "    def obj_fun(vol):\n",
    "        return BS.BlackScholes(type_o=type_o, S0=S, K=strike, ttm=t, r=rate, q=q, sigma=vol) - price\n",
    "\n",
    "    def vega(vol):\n",
    "        return BS.vega(S, strike, rate, q, vol, t)\n",
    "\n",
    "    if method == 'brent':\n",
    "        x, res = scpo.brentq(obj_fun, a=1e-15, b=500, full_output=True)\n",
    "        if res.converged:\n",
    "            return x\n",
    "\n",
    "    if method =='fsolve':\n",
    "        #X0 = [0.03, 0.08, 0.1, 0.15, 0.2, 0.3, 0.5, 1, 2]   # set of\n",
    "        X0 = [0.1, 0.5, 1, 3]\n",
    "        #initial guess points for imp.vol.\n",
    "        for x_0 in X0:\n",
    "            x, _, solved, _ = scpo.fsolve(obj_fun, x_0, full_output=True, xtol=1e-8)\n",
    "            if solved == 1:\n",
    "                return x[0]\n",
    "\n",
    "    if method == 'newton':\n",
    "        guess = 0.5\n",
    "        result = scpo.newton(obj_fun, guess, vega, tol=1e-4)\n",
    "        return result\n",
    "\n",
    "\n",
    "    if disp:\n",
    "        return -1"
   ],
   "metadata": {
    "collapsed": false
   }
  },
  {
   "cell_type": "markdown",
   "source": [
    "Let's now compute the implied volatilities from the true market prices *call_prices*."
   ],
   "metadata": {
    "collapsed": false
   }
  },
  {
   "cell_type": "code",
   "execution_count": 50,
   "outputs": [
    {
     "name": "stdout",
     "output_type": "stream",
     "text": [
      "Implied volatilities found by each model for call options:\n",
      "    BlackScholes    Merton       Kou\n",
      "0           0.25  0.294045  0.328620\n",
      "1           0.25  0.291187  0.323965\n",
      "2           0.25  0.288368  0.319360\n",
      "3           0.25  0.285585  0.314801\n",
      "4           0.25  0.282840  0.310284\n",
      "..           ...       ...       ...\n",
      "70          0.25  0.175966  0.179917\n",
      "71          0.25  0.177704  0.182601\n",
      "72          0.25  0.179566  0.185329\n",
      "73          0.25  0.181517  0.188074\n",
      "74          0.25  0.183521  0.190814\n",
      "\n",
      "[75 rows x 3 columns]\n"
     ]
    }
   ],
   "source": [
    "IV_BS = []; IV_M = []; IV_K = []\n",
    "\n",
    "for i in range(len(call_prices)):\n",
    "    IV_BS.append(implied_volatility(call_th_prices['BlackScholes'].values[i], S=S0, strike=call_strikes[i], t=T, rate=r,q=q, type_o='call', method='newton') )\n",
    "    IV_M.append(implied_volatility(call_th_prices['Merton'].values[i], S=S0, strike = call_strikes[i], t=T, rate=r, q=q,  type_o='call', method='newton'))\n",
    "    IV_K.append(implied_volatility(call_th_prices['Kou'].values[i], S=S0, strike = call_strikes[i], t=T, rate=r, q=q,  type_o='call', method='newton'))\n",
    "\n",
    "imp_vol_call = pd.DataFrame(columns=['BlackScholes', 'Merton', 'Kou'])\n",
    "imp_vol_call['BlackScholes'] = IV_BS\n",
    "imp_vol_call['Merton'] = IV_M\n",
    "imp_vol_call['Kou'] = IV_K\n",
    "\n",
    "print(f'Implied volatilities found by each model for call options:\\n{imp_vol_call}')"
   ],
   "metadata": {
    "collapsed": false
   }
  },
  {
   "cell_type": "code",
   "execution_count": 51,
   "outputs": [
    {
     "name": "stdout",
     "output_type": "stream",
     "text": [
      "Implied volatilities found by each model for put options:\n",
      "     BlackScholes    Merton       Kou\n",
      "0           0.25  0.294045  0.328620\n",
      "1           0.25  0.291187  0.323965\n",
      "2           0.25  0.288368  0.319360\n",
      "3           0.25  0.285585  0.314801\n",
      "4           0.25  0.282840  0.310284\n",
      "..           ...       ...       ...\n",
      "70          0.25  0.175966  0.179917\n",
      "71          0.25  0.177704  0.182601\n",
      "72          0.25  0.179566  0.185329\n",
      "73          0.25  0.181517  0.188074\n",
      "74          0.25  0.183521  0.190814\n",
      "\n",
      "[75 rows x 3 columns]\n"
     ]
    }
   ],
   "source": [
    "IV_BS = []; IV_M = []; IV_K = []\n",
    "\n",
    "for i in range(len(put_prices)):\n",
    "    IV_BS.append(implied_volatility(put_th_prices['BlackScholes'].values[i], S=S0, strike=put_strikes[i], t=T, rate=r, q=q, type_o='put', method='newton' ) )\n",
    "    IV_M.append(implied_volatility(put_th_prices['Merton'].values[i], S=S0, strike = put_strikes[i], t=T, rate=r, q=q, type_o='put', method='fsolve'))\n",
    "    IV_K.append(implied_volatility(put_th_prices['Kou'].values[i], S=S0, strike = put_strikes[i], t=T, rate=r, q=q, type_o='put', method='fsolve'))\n",
    "\n",
    "imp_vol_put = pd.DataFrame(columns=['BlackScholes', 'Merton', 'Kou'])\n",
    "imp_vol_put['BlackScholes'] = IV_BS\n",
    "imp_vol_put['Merton'] = IV_M\n",
    "imp_vol_put['Kou'] = IV_K\n",
    "\n",
    "print(f'Implied volatilities found by each model for put options:\\n {imp_vol_put}')"
   ],
   "metadata": {
    "collapsed": false
   }
  },
  {
   "cell_type": "markdown",
   "source": [
    "Plot of the implied volatilities with respect to the strike price."
   ],
   "metadata": {
    "collapsed": false
   }
  },
  {
   "cell_type": "code",
   "execution_count": 52,
   "outputs": [
    {
     "data": {
      "text/plain": "<Figure size 1600x400 with 2 Axes>",
      "image/png": "[encoded data removed]"
     },
     "metadata": {},
     "output_type": "display_data"
    }
   ],
   "source": [
    "fig = plt.figure(figsize=(16,4))\n",
    "ax1 = fig.add_subplot(121); ax2 = fig.add_subplot(122)\n",
    "\n",
    "ax1.plot(call_strikes, call_th_prices['BlackScholes'], label=\"BS\"); ax1.plot(call_strikes, call_th_prices['Merton'], label=\"MERT\")\n",
    "ax1.plot(call_strikes, call_th_prices['Kou'], label=\"KOU\")\n",
    "ax1.set_title(\"Comparison of prices\"); ax1.set_xlabel(\"Strike\"); ax1.set_ylabel(\"Price\")\n",
    "\n",
    "ax2.plot(call_strikes, imp_vol_call['BlackScholes'], label=\"BS\"); ax2.plot(call_strikes, imp_vol_call['Merton'], label=\"MERT\")\n",
    "ax2.plot(call_strikes, imp_vol_call['Kou'], label=\"KOU\")\n",
    "ax2.set_title(\"Comparison of Implied volatilities\"); ax2.set_xlabel(\"Strike\"); ax2.set_ylabel(\"Imp Vol\")\n",
    "\n",
    "ax1.legend(); ax2.legend(); plt.show()"
   ],
   "metadata": {
    "collapsed": false
   }
  },
  {
   "cell_type": "markdown",
   "source": [
    "## Calibration of Merton Jump Diffusion parameters\n",
    "First we'll initialize a starting point in the array $x0 = [σ, λ, m, v]$\n",
    "and we set bounds for the 4 parameters. Then we use the method\n",
    "1. **curve_fit** of scipy.optimize. It uses the trf method when the parameters are bounded and the Levemberg-Marquadt method for unbounded parameters."
   ],
   "metadata": {
    "collapsed": false
   }
  },
  {
   "cell_type": "code",
   "execution_count": 53,
   "outputs": [],
   "source": [
    "x0 = [0.15, 1, 0.1, 1] # initial guess: [σ, λ, m, v]\n",
    "bounds = ( [0, 0, -10, 0.1], [np.inf, np.inf, 10, 5] )\n",
    "\n",
    "def f_Mert(x, sigma, lambd, meanJ, stdJ):\n",
    "    Mert = Merton_pricer(S0=S0, K=x, ttm=T, r=r, q=0, sigma=sigma, lambd=lambd, meanJ=meanJ, stdJ=stdJ, exercise=exercise)\n",
    "    return Mert.closed_formula_call(x)\n",
    "#"
   ],
   "metadata": {
    "collapsed": false
   }
  },
  {
   "cell_type": "markdown",
   "source": [
    "- Method 1. curve_fit of scipy.optimize. It uses the trf method when the parameters are bounded and the Levemberg-Marquadt method for unbounded parameters."
   ],
   "metadata": {
    "collapsed": false
   }
  },
  {
   "cell_type": "code",
   "execution_count": 54,
   "outputs": [
    {
     "name": "stdout",
     "output_type": "stream",
     "text": [
      "METHOD 1: CURVE_FIT (trf)\n",
      "> Calibrated Volatlity [σ] =  0.03952\n",
      "> Calibrated Jump intensity [λ] =  0.11\n",
      "> Calibrated Jump Mean =  0.12\n",
      "> Calibrated Jump St. dev.  =  0.1\n"
     ]
    }
   ],
   "source": [
    "res1 = scpo.curve_fit(f_Mert, call_strikes, call_prices, p0=x0, bounds=bounds)\n",
    "\n",
    "sigt = round(res1[0][0],5)\n",
    "lambdt = round(res1[0][1],2)\n",
    "mt = round(res1[0][2],2)\n",
    "vt = round(res1[0][3],5)\n",
    "\n",
    "print('METHOD 1: CURVE_FIT (trf)')\n",
    "print('> Calibrated Volatlity [σ] = ', sigt)\n",
    "print('> Calibrated Jump intensity [λ] = ', lambdt)\n",
    "print('> Calibrated Jump Mean = ', mt)\n",
    "print('> Calibrated Jump St. dev.  = ', vt)"
   ],
   "metadata": {
    "collapsed": false
   }
  },
  {
   "cell_type": "code",
   "execution_count": 55,
   "outputs": [
    {
     "name": "stdout",
     "output_type": "stream",
     "text": [
      "METHOD 1.2: CURVE_FIT (Levemberg-Marquadt, no bounds)\n",
      "> Calibrated Volatlity [σ] =  0.00153\n",
      "> Calibrated Jump intensity [λ] =  0.56\n",
      "> Calibrated Jump Mean =  0.08\n",
      "> Calibrated Jump St. dev.  =  0.0265\n"
     ]
    }
   ],
   "source": [
    "res1_2 = scpo.curve_fit(f_Mert, call_strikes, call_prices, p0=x0)\n",
    "\n",
    "sigt2 = round(res1_2[0][0],5)\n",
    "lambdt2 = round(res1_2[0][1],2)\n",
    "mt2 = round(res1_2[0][2],2)\n",
    "vt2 = round(res1_2[0][3],5)\n",
    "\n",
    "print('METHOD 1.2: CURVE_FIT (Levemberg-Marquadt, no bounds)')\n",
    "print('> Calibrated Volatlity [σ] = ', sigt2)\n",
    "print('> Calibrated Jump intensity [λ] = ', lambdt2)\n",
    "print('> Calibrated Jump Mean = ', mt2)\n",
    "print('> Calibrated Jump St. dev.  = ', vt2)"
   ],
   "metadata": {
    "collapsed": false
   }
  },
  {
   "cell_type": "markdown",
   "source": [
    "- Method 2. minimize(method=’SLSQP’)"
   ],
   "metadata": {
    "collapsed": false
   }
  },
  {
   "cell_type": "code",
   "execution_count": 56,
   "outputs": [
    {
     "name": "stdout",
     "output_type": "stream",
     "text": [
      " message: Optimization terminated successfully\n",
      " success: True\n",
      "  status: 0\n",
      "     fun: 8210682.413577191\n",
      "       x: [ 2.000e-01  5.000e-01 -1.000e-01  1.000e+00]\n",
      "     nit: 5\n",
      "     jac: [ 1.310e+06  1.200e+07  1.012e+07  1.713e+07]\n",
      "    nfev: 5\n",
      "    njev: 1\n",
      "> METHOD 2: MINIMIZE (SLSQP)\n",
      "Calibrated Volatility [σ] = 0.2\n",
      "Calibrated Jump Intensity [λ] = 0.5\n",
      "Calibrated Jump Mean [m] = -0.1\n",
      "Calibrated Jump St. dev. [v] = 1.0\n"
     ]
    }
   ],
   "source": [
    "x0 = [0.2, 0.5, -0.1, 1] # initial guess: [σ, λ, m, v]\n",
    "bounds = [(0.01, 3), (0, np.inf), (-5, 5),  (0, 5)]\n",
    "\n",
    "# Define the objective function\n",
    "def obj_function(x, strikes, prices):\n",
    "    sigm, lamb, mean, std = x\n",
    "    Mert = Merton_pricer(S0=S0, K=strikes, ttm=T, r=r, q=0, sigma=sigm, lambd=lamb, meanJ=mean, stdJ=std, exercise=exercise)\n",
    "    return np.sum((Mert.closed_formula_call(K) - prices) ** 2)\n",
    "\n",
    "additional_args = (call_strikes, call_prices)\n",
    "\n",
    "res2 = scpo.minimize(obj_function, x0, args=additional_args,  method='SLSQP', bounds=bounds, tol=1e-20)\n",
    "\n",
    "print(res2)\n",
    "sigt, lambdt, mt, vt = res2.x\n",
    "\n",
    "# Print the results\n",
    "print('> METHOD 2: MINIMIZE (SLSQP)')\n",
    "print('Calibrated Volatility [σ] =', round(sigt, 5))\n",
    "print('Calibrated Jump Intensity [λ] =', round(lambdt, 2))\n",
    "print('Calibrated Jump Mean [m] =', round(mt, 2))\n",
    "print('Calibrated Jump St. dev. [v] =', round(vt, 2))"
   ],
   "metadata": {
    "collapsed": false
   }
  },
  {
   "cell_type": "markdown",
   "source": [
    "## Calibration of Kou Jump Diffusion parameters"
   ],
   "metadata": {
    "collapsed": false
   }
  },
  {
   "cell_type": "code",
   "execution_count": null,
   "outputs": [],
   "source": [],
   "metadata": {
    "collapsed": false
   }
  },
  {
   "cell_type": "markdown",
   "source": [],
   "metadata": {
    "collapsed": false
   }
  },
  {
   "cell_type": "code",
   "execution_count": null,
   "outputs": [],
   "source": [],
   "metadata": {
    "collapsed": false
   }
  }
 ],
 "metadata": {
  "kernelspec": {
   "display_name": "Python 3",
   "language": "python",
   "name": "python3"
  },
  "language_info": {
   "codemirror_mode": {
    "name": "ipython",
    "version": 2
   },
   "file_extension": ".py",
   "mimetype": "text/x-python",
   "name": "python",
   "nbconvert_exporter": "python",
   "pygments_lexer": "ipython2",
   "version": "2.7.6"
  }
 },
 "nbformat": 4,
 "nbformat_minor": 0
}
