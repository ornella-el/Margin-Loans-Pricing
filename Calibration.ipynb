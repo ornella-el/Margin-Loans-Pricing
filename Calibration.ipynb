{
 "cells": [
  {
   "cell_type": "markdown",
   "source": [
    "# Calibration of Black and Scholes, Merton, Kou, Variance Gamma parameters\n",
    "This notebook aims to find the optimal parameters of **Black-Scholes**, **Merton Jump Diffusion**, **Kou Jump Diffusion** and **Variance Gamma** models. To do so, we compute the european option prices using **closed formulas**, available for all the 4 models, and the **Fast Fourier Transform** for the VG model. Given these theoretical prices, the **implied volatilities** are computed comparing them with real market prices, minimizing their difference. Then we estimate the additional parameters of each model, using the python module `scipy.optimize`.\n"
   ],
   "metadata": {
    "collapsed": false
   }
  },
  {
   "cell_type": "code",
   "execution_count": 1,
   "metadata": {
    "collapsed": true
   },
   "outputs": [],
   "source": [
    "from functions.MERTONpricer import Merton_pricer\n",
    "from functions.BSpricer import BS_pricer\n",
    "from functions.KOUpricer import Kou_pricer\n",
    "from functions.VGpricer import VG_pricer\n",
    "\n",
    "import numpy as np\n",
    "import pandas as pd\n",
    "import matplotlib.pyplot as plt\n",
    "import random\n",
    "import scipy as scp\n",
    "import scipy.stats as ss\n",
    "import scipy.optimize as scpo\n",
    "\n",
    "random.seed(100)"
   ]
  },
  {
   "cell_type": "markdown",
   "source": [
    "Let's start retrieving historical prices for **european call** and **put** options starting from date **2016-01-20** and expiring **1 year** later. All the data have been collected from [OptionsDX](https://www.optionsdx.com/shop/) and preprocessed in `plainvanilla.py` module. Only options such that\n",
    "$$ K = S0 \\pm 1200 $$ have been selected."
   ],
   "metadata": {
    "collapsed": false
   }
  },
  {
   "cell_type": "code",
   "execution_count": 2,
   "outputs": [
    {
     "name": "stdout",
     "output_type": "stream",
     "text": [
      "NUM OF CALL OPTS: 83\n",
      "   QUOTE_DATE  UNDERLYING_LAST EXPIRE_DATE    C_BID    C_ASK  STRIKE\n",
      "0  2016-01-20          1859.48  2017-01-20  1119.61  1125.01   700.0\n",
      "1  2016-01-20          1859.48  2017-01-20  1071.51  1076.80   750.0\n",
      "2  2016-01-20          1859.48  2017-01-20  1023.00  1028.30   800.0\n",
      "3  2016-01-20          1859.48  2017-01-20   998.40  1003.60   825.0\n",
      "4  2016-01-20          1859.48  2017-01-20   974.29   979.51   850.0\n",
      "NUM OF PUT OPTS: 83\n",
      "    QUOTE_DATE  UNDERLYING_LAST EXPIRE_DATE    P_BID    P_ASK  STRIKE\n",
      "78  2016-01-20          1859.48  2017-01-20   958.80   964.10  2800.0\n",
      "79  2016-01-20          1859.48  2017-01-20  1007.99  1013.29  2850.0\n",
      "80  2016-01-20          1859.48  2017-01-20  1057.50  1062.90  2900.0\n",
      "81  2016-01-20          1859.48  2017-01-20  1107.01  1112.50  2950.0\n",
      "82  2016-01-20          1859.48  2017-01-20  1156.49  1162.01  3000.0\n"
     ]
    }
   ],
   "source": [
    "df_call = pd.read_csv('data/options_spx_call_2016.csv')\n",
    "df_put = pd.read_csv('data/options_spx_put_2016.csv')\n",
    "print(f'NUM OF CALL OPTS: {df_call.shape[0]}')\n",
    "print(df_call.head(5))\n",
    "print(f'NUM OF PUT OPTS: {df_put.shape[0]}')\n",
    "print(df_put.tail(5))"
   ],
   "metadata": {
    "collapsed": false
   }
  },
  {
   "cell_type": "markdown",
   "source": [
    "The dataframes **df_calls** and **df_put** contain both 83 options sorted by strike price. For our purpose, using the $25\\%$ of these DFs is enough and can lead to very good results. Thus, we sample the rows and then reformulate the dataframes adding **Midpoint** and **Spread** columns."
   ],
   "metadata": {
    "collapsed": false
   }
  },
  {
   "cell_type": "code",
   "execution_count": 3,
   "outputs": [],
   "source": [
    "calls = df_call.sample(frac=0.25, replace=False).sort_index()\n",
    "puts = df_put.sample(frac=0.25, replace=False).sort_index()\n",
    "\n",
    "calls['C_Midpoint'] = abs(calls['C_BID'] + calls['C_ASK']) / 2\n",
    "puts['P_Midpoint'] = abs(puts['P_BID'] + puts['P_ASK']) / 2\n",
    "calls['C_Spread'] = calls['C_BID'] - calls['C_ASK']\n",
    "puts['P_Spread'] = puts['P_BID'] - puts['P_ASK']\n",
    "\n",
    "q = 0           # dividend yield\n",
    "r = 0.05        # risk-free interest rate\n",
    "sigma = 0.2     #volatility (variance of diffusion process)\n",
    "S0 = calls.iloc[0]['UNDERLYING_LAST']\n",
    "T = 1           # time-to-maturity\n",
    "call_strikes = calls['STRIKE']    # array of K for call options\n",
    "put_strikes = puts['STRIKE']      # array of K for put options\n",
    "exercise = 'european'\n",
    "\n",
    "call_prices = calls['C_Midpoint']\n",
    "put_prices = puts['P_Midpoint']"
   ],
   "metadata": {
    "collapsed": false
   }
  },
  {
   "cell_type": "markdown",
   "source": [
    "The following code snippet initializes objects of class *BS_pricer*, *Merton_pricer*, *Kou_pricer*, *VG_pricer* with default values as parameters. Then it computes the theoretical call prices using closed formulas of each 4 models, with strike prices given by the *call_strikes* array. Additionally, we use the **Midpoint** price as the option market prices."
   ],
   "metadata": {
    "collapsed": false
   }
  },
  {
   "cell_type": "code",
   "execution_count": 4,
   "outputs": [
    {
     "name": "stdout",
     "output_type": "stream",
     "text": [
      "Theoretical call options prices:\n",
      "    Strike BlackScholes       Merton          Kou VarianceGamma\n",
      "0    700.0  1193.619409  1193.662047  1193.840257   1193.619403\n",
      "4    850.0  1050.935822  1051.160724  1051.587513   1050.934993\n",
      "11  1025.0   884.514589   885.539147   886.321118    884.470397\n",
      "13  1075.0    837.01712   838.485934    839.32137    836.910302\n",
      "16  1150.0   765.917343   768.286198   769.077207    765.576912\n"
     ]
    }
   ],
   "source": [
    "BS = BS_pricer(S0=S0, r=r, q = q, sigma=sigma, ttm=T, exercise=exercise, K=None)\n",
    "Merton = Merton_pricer(S0=S0, K=None, ttm=T, r=0.05, q = q, sigma=0.12, lambd=0.5, meanJ=-0.1, stdJ=0.2, exercise=exercise)\n",
    "Kou = Kou_pricer(S0=S0, K=None, ttm=T, r=r, sigma=0.12, lambd=0.5, p=0.6, eta1=10, eta2=5, exercise=exercise)\n",
    "VG = VG_pricer(S0, K=None, ttm=T, r=r, q=q, sigma=0.15, theta=-0.2, nu=0.2, exercise=exercise)\n",
    "\n",
    "call_th_prices = pd.DataFrame(columns=['Strike','BlackScholes', 'Merton', 'Kou', 'VarianceGamma'])\n",
    "call_th_prices['Strike'] = call_strikes\n",
    "\n",
    "for i, K in enumerate(call_strikes):\n",
    "    bs = BS.closed_formula_call(K)\n",
    "    mert = Merton.closed_formula_call(K)\n",
    "    kou = Kou.closed_formula_call(K)\n",
    "    vg = VG.closed_formula_call(K)\n",
    "    call_th_prices.iloc[i, 1:] = [bs, mert, kou, vg]\n",
    "\n",
    "print(f'Theoretical call options prices:')\n",
    "print(call_th_prices.head(5)) #print(call_th_prices.tail(4))"
   ],
   "metadata": {
    "collapsed": false
   }
  },
  {
   "cell_type": "markdown",
   "source": [
    "Same for put prices."
   ],
   "metadata": {
    "collapsed": false
   }
  },
  {
   "cell_type": "code",
   "execution_count": 5,
   "outputs": [
    {
     "name": "stdout",
     "output_type": "stream",
     "text": [
      "Theoretical put options prices:\n",
      "   Strike BlackScholes    Merton       Kou VarianceGamma\n",
      "0   700.0     0.000006  0.042644  0.220854           0.0\n",
      "3   825.0      0.00041  0.175383  0.552468      0.000002\n",
      "4   850.0     0.000833  0.225735  0.652524      0.000003\n",
      "7   925.0     0.005556  0.458208  1.045308      0.000036\n",
      "9   975.0     0.016682  0.708717  1.401433      0.000147\n"
     ]
    }
   ],
   "source": [
    "put_th_prices = pd.DataFrame(columns=['Strike','BlackScholes', 'Merton', 'Kou', 'VarianceGamma'])\n",
    "put_th_prices['Strike'] = put_strikes\n",
    "\n",
    "for i, K in enumerate(put_strikes):\n",
    "    bs = BS.closed_formula_put(K)\n",
    "    mert = Merton.closed_formula_put(K)\n",
    "    kou = Kou.closed_formula_put(K)\n",
    "    vg = VG.closed_formula_put(K)\n",
    "    put_th_prices.iloc[i, 1:] = [bs, mert, kou, vg]\n",
    "\n",
    "print(f'Theoretical put options prices:')\n",
    "print(put_th_prices.head(5))"
   ],
   "metadata": {
    "collapsed": false
   }
  },
  {
   "cell_type": "markdown",
   "source": [
    "### Variance Gamma Fast Fourier Transform\n",
    "Let's now compare the Closed Forms with the Fast Fourier Transform method for the Variance Gamma model for both call and put options.  The FFT method is explained by Carr, Madan, Chang 1998: *The Variance Gamma Process and Option Pricing*."
   ],
   "metadata": {
    "collapsed": false
   }
  },
  {
   "cell_type": "code",
   "execution_count": 6,
   "outputs": [
    {
     "name": "stdout",
     "output_type": "stream",
     "text": [
      "K=700.0, CF:1193.6194028637115, FFT:1193.621720743016\n",
      "K=850.0, CF:1050.9349926399627, FFT:1050.9593216136195\n",
      "K=1025.0, CF:884.4703974552734, FFT:884.6859262227545\n",
      "K=1075.0, CF:836.9103022995379, FFT:837.2789621400237\n",
      "K=1150.0, CF:765.576912289833, FFT:766.3511908233695\n",
      "K=1225.0, CF:694.2745279760636, FFT:695.7852761857221\n",
      "K=1250.0, CF:670.5250248213247, FFT:672.3817017723422\n",
      "K=1425.0, CF:505.4636271748957, FFT:511.50185790186333\n",
      "K=1600.0, CF:349.836247576975, FFT:360.50576157354885\n",
      "K=1625.0, CF:329.4236647662465, FFT:340.2477300823498\n",
      "K=1675.0, CF:290.5744516808679, FFT:301.0196597538211\n",
      "K=2025.0, CF:105.08515336925382, FFT:92.52314767687085\n",
      "K=2050.0, CF:97.17623119998291, FFT:82.86322717358189\n",
      "K=2075.0, CF:89.8298732087975, FFT:73.92130005744752\n",
      "K=2100.0, CF:83.01322053625893, FFT:65.68327727922485\n",
      "K=2175.0, CF:65.42361006865212, FFT:44.98889479341506\n",
      "K=2200.0, CF:60.41294675007208, FFT:39.343810490747046\n",
      "K=2400.0, CF:31.92047404881572, FFT:11.824944631335228\n",
      "K=2700.0, CF:12.47118301592431, FFT:1.4659299704950328\n",
      "K=2900.0, CF:6.805463638017123, FFT:0.3402432088096603\n",
      "K=2950.0, CF:5.867109363832917, FFT:0.23595348723190313\n"
     ]
    }
   ],
   "source": [
    "c_vg_fft = VG.FFT_call(call_strikes)\n",
    "\n",
    "for k, a, b in zip(call_strikes, call_th_prices['VarianceGamma'], c_vg_fft):\n",
    "    print(f'K={k}, CF:{a}, FFT:{b}')"
   ],
   "metadata": {
    "collapsed": false
   }
  },
  {
   "cell_type": "code",
   "execution_count": 7,
   "outputs": [
    {
     "name": "stdout",
     "output_type": "stream",
     "text": [
      "K=700.0, CF:1.4211195775715169e-08, FFT:0.0023178935158512104\n",
      "K=825.0, CF:1.5072313317432418e-06, FFT:0.01703728435938956\n",
      "K=850.0, CF:3.4655696481422638e-06, FFT:0.024332439226441238\n",
      "K=925.0, CF:3.5540507610676286e-05, FFT:0.06600698450893105\n",
      "K=975.0, CF:0.00014748178239187837, FFT:0.12171653017367134\n",
      "K=1000.0, CF:0.00028998531661272864, FFT:0.16291081041561029\n",
      "K=1025.0, CF:0.0005575685053145207, FFT:0.21608633598634697\n",
      "K=1075.0, CF:0.0019336378054504166, FFT:0.37059347829131184\n",
      "K=1125.0, CF:0.006186026296063574, FFT:0.615781520762539\n",
      "K=1150.0, CF:0.01075046565415505, FFT:0.785028999190672\n",
      "K=1275.0, CF:0.1300830921936722, FFT:2.392271916447953\n",
      "K=1400.0, CF:1.03099909772709, FFT:6.2970925418633215\n",
      "K=1500.0, CF:4.038779978140838, FFT:12.471655080694063\n",
      "K=1750.0, CF:43.055090351917215, FFT:51.04408419935248\n",
      "K=1975.0, CF:141.9213667319284, FFT:133.22922539196884\n",
      "K=2100.0, CF:221.11501198775818, FFT:203.78506873072433\n",
      "K=2450.0, CF:498.2695215271083, FFT:479.5285756304179\n",
      "K=2575.0, CF:608.3130090370234, FFT:593.5241352869839\n",
      "K=2750.0, CF:767.1007242707176, FFT:757.4202317809211\n",
      "K=2850.0, CF:859.4276483292088, FFT:852.0146000837717\n",
      "K=2950.0, CF:952.5139116409393, FFT:946.8827557643383\n"
     ]
    }
   ],
   "source": [
    "p_vg_fft = VG.FFT_put(put_strikes)\n",
    "\n",
    "for k, a, b in zip(put_strikes, put_th_prices['VarianceGamma'], p_vg_fft):\n",
    "    print(f'K={k}, CF:{a}, FFT:{b}')"
   ],
   "metadata": {
    "collapsed": false
   }
  },
  {
   "cell_type": "code",
   "execution_count": 8,
   "outputs": [
    {
     "data": {
      "text/plain": "<matplotlib.legend.Legend at 0x16f4f8bfeb0>"
     },
     "execution_count": 8,
     "metadata": {},
     "output_type": "execute_result"
    },
    {
     "data": {
      "text/plain": "<Figure size 1600x400 with 2 Axes>",
      "image/png": "[encoded data removed]"
     },
     "metadata": {},
     "output_type": "display_data"
    }
   ],
   "source": [
    "fig = plt.figure(figsize=(16,4))\n",
    "ax1 = fig.add_subplot(121); ax2 = fig.add_subplot(122)\n",
    "ax1.plot(call_strikes, call_th_prices['VarianceGamma'], label='CF')\n",
    "ax1.plot(call_strikes, c_vg_fft, label='FFT')\n",
    "ax1.set_title('Call prices Closed Forms vs FFT'); ax1.set_xlabel('STRIKE'); ax1.set_ylabel('PRICE')\n",
    "# ax1.set_xlim([1400,2000]);ax1.set_ylim([0,800])\n",
    "\n",
    "ax2.plot(put_strikes, put_th_prices['VarianceGamma'], label='CF')\n",
    "ax2.plot(put_strikes, p_vg_fft, label='FFT')\n",
    "ax2.set_title('Put prices Closed Forms vs FFT'); ax2.set_xlabel('STRIKE'); ax2.set_ylabel('PRICE')\n",
    "ax1.legend(); ax2.legend()"
   ],
   "metadata": {
    "collapsed": false
   }
  },
  {
   "cell_type": "markdown",
   "source": [
    "## Implied volatility\n",
    "The function belows implements $3$ methods to compute implied volatility: [Newton](https://en.wikipedia.org/wiki/Newton%27s_method) method, the [Bisection](https://en.wikipedia.org/wiki/Bisection_method) method and a more advanced one, named [Brent](https://en.wikipedia.org/wiki/Brent%27s_method) method. Apart from the initial guess, there is no substantial difference in the final result between **Newton** and **bisection** methods (*fsolve*). The **Implied Volatility** is that value $\\sigma$ that must be inserted into the Black-Scholes (BS) formula in order to retrieve the option price quoted in the market:\n",
    "    $$ BS(S, K, T, r, \\sigma) = P,  $$\n",
    "where $S$ is the underlying spot price, $K$ is the strike, $T$ time to maturity, $r$ risk-free interest rate and $P$ the option price quoted in the market. All these quantities are **observable**.\n",
    "   "
   ],
   "metadata": {
    "collapsed": false
   }
  },
  {
   "cell_type": "code",
   "execution_count": 9,
   "outputs": [],
   "source": [
    "def implied_volatility(price, S, strike, t, rate, q, type_o, method='fsolve', disp=True ):\n",
    "    \"\"\" Returns Implied volatility\n",
    "        methods:  fsolve (default) or brent\n",
    "    \"\"\"\n",
    "\n",
    "    def obj_fun(vol):\n",
    "        return BS.BlackScholes(type_o=type_o, S0=S, K=strike, ttm=t, r=rate, q=q, sigma=vol) - price\n",
    "\n",
    "    def vega(vol):\n",
    "        return BS.vega(S, strike, rate, q, vol, t)\n",
    "\n",
    "    if method == 'brent':\n",
    "        x, res = scpo.brentq(obj_fun, a=1e-15, b=500, full_output=True)\n",
    "        if res.converged:\n",
    "            return x\n",
    "\n",
    "    if method =='fsolve':\n",
    "        X0 = [0.1, 0.5, 1, 3]        #initial guess points for imp.vol.\n",
    "        for x_0 in X0:\n",
    "            x, _, solved, _ = scpo.fsolve(obj_fun, x_0, full_output=True, xtol=1e-8)\n",
    "            if solved == 1:\n",
    "                return x[0]\n",
    "\n",
    "    if method == 'newton':\n",
    "        guess = 0.5\n",
    "        result = scpo.newton(obj_fun, guess, vega, tol=1e-4)\n",
    "        return result\n",
    "\n",
    "\n",
    "    if disp:\n",
    "        return -1"
   ],
   "metadata": {
    "collapsed": false
   }
  },
  {
   "cell_type": "markdown",
   "source": [
    "Therefore, we can compute the implied volatilities taking into account the theoretical **call prices**.."
   ],
   "metadata": {
    "collapsed": false
   }
  },
  {
   "cell_type": "code",
   "execution_count": 10,
   "outputs": [
    {
     "name": "stdout",
     "output_type": "stream",
     "text": [
      "Implied volatilities found by each model for call options:\n",
      "   Strike  BlackScholes    Merton       Kou  VarianceGamma\n",
      "0   700.0           0.2  0.310692  0.355674       0.168004\n",
      "1   850.0           0.2  0.291918  0.325155       0.160081\n",
      "2  1025.0           0.2  0.271961  0.292107       0.153206\n",
      "3  1075.0           0.2  0.266608  0.282954       0.151732\n",
      "4  1150.0           0.2  0.258797  0.269346       0.149983\n",
      "5  1225.0           0.2  0.251128  0.255801       0.148857\n",
      "6  1250.0           0.2  0.248574  0.251286       0.148637\n"
     ]
    }
   ],
   "source": [
    "strikes = call_th_prices['Strike'].tolist(); IV_BS = []; IV_M = []; IV_K = []; IV_VG = []\n",
    "\n",
    "for i in range(len(call_th_prices)):\n",
    "    IV_BS.append(implied_volatility(call_th_prices['BlackScholes'].iloc[i], S=S0, strike=strikes[i], t=T, rate=r,q=q, type_o='call', method='newton') )\n",
    "    IV_M.append(implied_volatility(call_th_prices['Merton'].values[i], S=S0, strike = strikes[i], t=T, rate=r, q=q,  type_o='call', method='newton'))\n",
    "    IV_K.append(implied_volatility(call_th_prices['Kou'].values[i], S=S0, strike = strikes[i], t=T, rate=r, q=q,  type_o='call', method='newton'))\n",
    "    IV_VG.append(implied_volatility(call_th_prices['VarianceGamma'].values[i], S=S0, strike=strikes[i], t = T, rate=r, q=q, type_o='call', method='newton'))\n",
    "\n",
    "imp_vol_call = pd.DataFrame(columns=['Strike', 'BlackScholes', 'Merton', 'Kou', 'VarianceGamma'])\n",
    "imp_vol_call['Strike'] = strikes\n",
    "imp_vol_call['BlackScholes'] = IV_BS\n",
    "imp_vol_call['Merton'] = IV_M\n",
    "imp_vol_call['Kou'] = IV_K\n",
    "imp_vol_call['VarianceGamma'] = IV_VG\n",
    "\n",
    "print(f'Implied volatilities found by each model for call options:\\n{imp_vol_call.head(7)}')"
   ],
   "metadata": {
    "collapsed": false
   }
  },
  {
   "cell_type": "markdown",
   "source": [
    "... and **put prices**."
   ],
   "metadata": {
    "collapsed": false
   }
  },
  {
   "cell_type": "code",
   "execution_count": 11,
   "outputs": [
    {
     "name": "stdout",
     "output_type": "stream",
     "text": [
      "Implied volatilities found by each model for put options:\n",
      "    Strike  BlackScholes    Merton       Kou  VarianceGamma\n",
      "0   700.0           0.2  0.310692  0.355674       0.168004\n",
      "1   825.0           0.2  0.294933  0.330065       0.161270\n",
      "2   850.0           0.2  0.291918  0.325155       0.160081\n",
      "3   925.0           0.2  0.283121  0.310748       0.156821\n",
      "4   975.0           0.2  0.277462  0.301361       0.154906\n",
      "5  1000.0           0.2  0.274692  0.296719       0.154028\n",
      "6  1025.0           0.2  0.271961  0.292107       0.153206\n"
     ]
    }
   ],
   "source": [
    "strikes = put_th_prices['Strike'].tolist(); IV_BS = []; IV_M = []; IV_K = []; IV_VG = []\n",
    "\n",
    "for i in range(len(put_prices)):\n",
    "    IV_BS.append(implied_volatility(put_th_prices['BlackScholes'].values[i], S=S0, strike=strikes[i], t=T, rate=r, q=q, type_o='put', method='newton' ) )\n",
    "    IV_M.append(implied_volatility(put_th_prices['Merton'].values[i], S=S0, strike = strikes[i], t=T, rate=r, q=q, type_o='put', method='fsolve'))\n",
    "    IV_K.append(implied_volatility(put_th_prices['Kou'].values[i], S=S0, strike = strikes[i], t=T, rate=r, q=q, type_o='put', method='fsolve'))\n",
    "    IV_VG.append(implied_volatility(put_th_prices['VarianceGamma'].values[i], S=S0, strike=strikes[i], t = T, rate=r, q=q, type_o='put', method='newton'))\n",
    "\n",
    "imp_vol_put = pd.DataFrame(columns=['Strike','BlackScholes', 'Merton', 'Kou', 'VarianceGamma'])\n",
    "imp_vol_put['Strike'] = strikes\n",
    "imp_vol_put['BlackScholes'] = IV_BS\n",
    "imp_vol_put['Merton'] = IV_M\n",
    "imp_vol_put['Kou'] = IV_K\n",
    "imp_vol_put['VarianceGamma'] = IV_VG\n",
    "\n",
    "print(f'Implied volatilities found by each model for put options:\\n {imp_vol_put.head(7)}')"
   ],
   "metadata": {
    "collapsed": false
   }
  },
  {
   "cell_type": "code",
   "execution_count": 12,
   "outputs": [
    {
     "name": "stdout",
     "output_type": "stream",
     "text": [
      "Total absolute error IV from CALLS vs IV from PUTS: \n",
      "> BS:  3.8415796341229047e-07\n",
      "> MERTON:  0.4361746421819664\n",
      "> KOU:  0.6133586109803628\n",
      "> VG:  0.1662651719266103\n"
     ]
    }
   ],
   "source": [
    "print('Total absolute error IV from CALLS vs IV from PUTS: ')\n",
    "print(f'> BS: ', np.linalg.norm(imp_vol_put['BlackScholes'] - imp_vol_call['BlackScholes'], 1))\n",
    "print(f'> MERTON: ', np.linalg.norm(imp_vol_put['Merton'] - imp_vol_call['Merton'], 1))\n",
    "print(f'> KOU: ', np.linalg.norm(imp_vol_put['Kou'] - imp_vol_call['Kou'], 1))\n",
    "print(f'> VG: ', np.linalg.norm(imp_vol_put['VarianceGamma'] - imp_vol_call['VarianceGamma'], 1))"
   ],
   "metadata": {
    "collapsed": false
   }
  },
  {
   "cell_type": "markdown",
   "source": [
    "##### Plot"
   ],
   "metadata": {
    "collapsed": false
   }
  },
  {
   "cell_type": "code",
   "execution_count": 13,
   "outputs": [
    {
     "data": {
      "text/plain": "<Figure size 1600x400 with 2 Axes>",
      "image/png": "[encoded data removed]"
     },
     "metadata": {},
     "output_type": "display_data"
    }
   ],
   "source": [
    "fig = plt.figure(figsize=(16,4))\n",
    "ax1 = fig.add_subplot(121); ax2 = fig.add_subplot(122)\n",
    "\n",
    "ax1.plot(call_strikes, call_th_prices['BlackScholes'], label=\"BS\"); ax1.plot(call_strikes, call_th_prices['Merton'], label=\"MERT\")\n",
    "ax1.plot(call_strikes, call_th_prices['Kou'], label=\"KOU\"); ax1.plot(call_strikes, call_th_prices['VarianceGamma'], label=\"VG\")\n",
    "ax1.set_title(\"Comparison of call prices\"); ax1.set_xlabel(\"Strike\"); ax1.set_ylabel(\"Price\")\n",
    "\n",
    "ax2.plot(call_strikes, imp_vol_call['BlackScholes'], label=\"BS\"); ax2.plot(call_strikes, imp_vol_call['Merton'], label=\"MERT\")\n",
    "ax2.plot(call_strikes, imp_vol_call['Kou'], label=\"KOU\"); ax2.plot(call_strikes, imp_vol_call['VarianceGamma'], label=\"VG\")\n",
    "ax2.set_title(\"Comparison of Implied volatilities\"); ax2.set_xlabel(\"Strike\"); ax2.set_ylabel(\"Imp Vol\")\n",
    "\n",
    "ax1.legend(); ax2.legend(); plt.show()"
   ],
   "metadata": {
    "collapsed": false
   }
  },
  {
   "cell_type": "markdown",
   "source": [
    "##  Calibration\n",
    "Let's step now into the calibration of model parameters. We test two functions of `scipy.optimize`:\n",
    "1. **curve_fit**, a least-squares curve fitting method which works both with and without bounds. When bounds are set it uses the [Trust Region Reflective (trf)](https://en.wikipedia.org/wiki/Trust_region) and the [Levemberg-Marquadt](https://en.wikipedia.org/wiki/Levenberg%E2%80%93Marquardt_algorithm) when they are not.\n",
    "2. **minimize(method='SLSQP')**, a constrained minimization problem which uses [Sequential Quadratic Programming](https://en.wikipedia.org/wiki/Sequential_quadratic_programming).\n",
    "First we initialize a starting point in the array $x_0 = [σ, λ, m, v]$, then we set\n",
    "\n",
    "### Merton Jump Diffusion\n",
    "The Merton Jump diffusion ones are the volatility $\\sigma$, the Poisson rate of jumps $\\lambda$, the mean rate of jump intensity $m$ and its variance rate $v$, assuming that the intensity of jumps follows a *Normal distribution*.\n"
   ],
   "metadata": {
    "collapsed": false
   }
  },
  {
   "cell_type": "code",
   "execution_count": 14,
   "outputs": [],
   "source": [
    "x0 = [0.15, 1, 0.1, 1] # initial guess: [σ, λ, m, v]\n",
    "bounds = ( [0, 1e-2, -10, 0.1], [np.inf, np.inf, 10, 5] )\n",
    "\n",
    "def f_Mert(x, sigma, lambd, meanJ, stdJ):\n",
    "    Mert = Merton_pricer(S0=S0, K=x, ttm=T, r=r, q=0, sigma=sigma, lambd=lambd, meanJ=meanJ, stdJ=stdJ, exercise=exercise)\n",
    "    return Mert.closed_formula_call(x)\n"
   ],
   "metadata": {
    "collapsed": false
   }
  },
  {
   "cell_type": "markdown",
   "source": [
    "##### Method 1. Bounds"
   ],
   "metadata": {
    "collapsed": false
   }
  },
  {
   "cell_type": "code",
   "execution_count": 15,
   "outputs": [
    {
     "name": "stdout",
     "output_type": "stream",
     "text": [
      "METHOD 1: CURVE_FIT (trf)\n",
      "> Calibrated Volatlity [σ] = 0.0001 \t 0.01%\n",
      "> Calibrated Jump intensity [λ] =  0.51\n",
      "> Calibrated Jump Mean =  0.09\n",
      "> Calibrated Jump St. dev.  =  0.1\n"
     ]
    }
   ],
   "source": [
    "res1 = scpo.curve_fit(f_Mert, call_strikes, call_prices, p0=x0, bounds=bounds)\n",
    "\n",
    "sigt = round(res1[0][0],4)\n",
    "lambdt = round(res1[0][1],2)\n",
    "mt = round(res1[0][2],2)\n",
    "vt = round(res1[0][3],5)\n",
    "\n",
    "print('METHOD 1: CURVE_FIT (trf)')\n",
    "print(f'> Calibrated Volatlity [σ] = {sigt} \\t {sigt*100}%')\n",
    "print('> Calibrated Jump intensity [λ] = ', lambdt)\n",
    "print('> Calibrated Jump Mean = ', mt)\n",
    "print('> Calibrated Jump St. dev.  = ', vt)"
   ],
   "metadata": {
    "collapsed": false
   }
  },
  {
   "cell_type": "markdown",
   "source": [
    "##### Method 1. No bounds"
   ],
   "metadata": {
    "collapsed": false
   }
  },
  {
   "cell_type": "code",
   "execution_count": 16,
   "outputs": [
    {
     "name": "stdout",
     "output_type": "stream",
     "text": [
      "METHOD 1.2: CURVE_FIT (Levemberg-Marquadt, no bounds)\n",
      "> Calibrated Volatlity [σ] = -0.0059 \t -0.59%\n",
      "> Calibrated Jump intensity [λ] =  0.33\n",
      "> Calibrated Jump Mean =  0.17\n",
      "> Calibrated Jump St. dev.  =  0.00451\n"
     ]
    }
   ],
   "source": [
    "res1_2 = scpo.curve_fit(f_Mert, call_strikes, call_prices, p0=x0)\n",
    "\n",
    "sigt2 = round(res1_2[0][0],4)\n",
    "lambdt2 = round(res1_2[0][1],2)\n",
    "mt2 = round(res1_2[0][2],2)\n",
    "vt2 = round(res1_2[0][3],5)\n",
    "\n",
    "print('METHOD 1.2: CURVE_FIT (Levemberg-Marquadt, no bounds)')\n",
    "print(f'> Calibrated Volatlity [σ] = {sigt2} \\t {sigt2*100}%')\n",
    "print('> Calibrated Jump intensity [λ] = ', lambdt2)\n",
    "print('> Calibrated Jump Mean = ', mt2)\n",
    "print('> Calibrated Jump St. dev.  = ', vt2)"
   ],
   "metadata": {
    "collapsed": false
   }
  },
  {
   "cell_type": "markdown",
   "source": [
    "##### Method 2. Bounds"
   ],
   "metadata": {
    "collapsed": false
   }
  },
  {
   "cell_type": "code",
   "execution_count": 17,
   "outputs": [
    {
     "name": "stdout",
     "output_type": "stream",
     "text": [
      "> METHOD 2: MINIMIZE (SLSQP)\n",
      "Optimization terminated successfully\n",
      "Calibrated Volatility [σ] = 3.02477, \t  302.4767067192379%\n",
      "Calibrated Jump Intensity [λ] = 6.19\n",
      "Calibrated Jump Mean [m] = -3.02\n",
      "Calibrated Jump St. dev. [v] = 4.5\n",
      "\n",
      "> METHOD 2: MINIMIZE (trust-constr)\n"
     ]
    },
    {
     "name": "stderr",
     "output_type": "stream",
     "text": [
      "C:\\Users\\ornel\\OneDrive\\Desktop\\TESI\\PythonProjects\\Margin-Loans-Pricing\\python-modules\\functions\\BSpricer.py:71: RuntimeWarning: overflow encountered in exp\n",
      "  return S0 * np.exp(-q*ttm) * ss.norm.cdf(d1) - K * np.exp(-r * ttm) * ss.norm.cdf(d2)\n",
      "C:\\Users\\ornel\\OneDrive\\Desktop\\TESI\\PythonProjects\\Margin-Loans-Pricing\\python-modules\\functions\\BSpricer.py:71: RuntimeWarning: invalid value encountered in scalar multiply\n",
      "  return S0 * np.exp(-q*ttm) * ss.norm.cdf(d1) - K * np.exp(-r * ttm) * ss.norm.cdf(d2)\n",
      "C:\\Users\\ornel\\OneDrive\\Desktop\\TESI\\PythonProjects\\Margin-Loans-Pricing\\python-modules\\functions\\MERTONpricer.py:54: RuntimeWarning: overflow encountered in power\n",
      "  V += (np.exp(-mean * self.lambd * self.ttm) * np.power(mean * self.lambd * self.ttm, k)) / k_fact *\\\n",
      "C:\\Users\\ornel\\OneDrive\\Desktop\\TESI\\PythonProjects\\Margin-Loans-Pricing\\python-modules\\functions\\MERTONpricer.py:54: RuntimeWarning: invalid value encountered in scalar multiply\n",
      "  V += (np.exp(-mean * self.lambd * self.ttm) * np.power(mean * self.lambd * self.ttm, k)) / k_fact *\\\n",
      "c:\\users\\ornel\\appdata\\local\\programs\\python\\python38\\lib\\site-packages\\scipy\\optimize\\_hessian_update_strategy.py:182: UserWarning: delta_grad == 0.0. Check if the approximated function is linear. If the function is linear better results can be obtained by defining the Hessian as zero instead of using quasi-Newton approximations.\n",
      "  warn('delta_grad == 0.0. Check if the approximated '\n"
     ]
    },
    {
     "name": "stdout",
     "output_type": "stream",
     "text": [
      "Optimization terminated successfully\n",
      "Calibrated Volatility [σ] = 0.63698, \t  63.698406249837134%\n",
      "Calibrated Jump Intensity [λ] = 0.88\n",
      "Calibrated Jump Mean [m] = -0.34\n",
      "Calibrated Jump St. dev. [v] = 0.57\n"
     ]
    }
   ],
   "source": [
    "x0 = [0.3, 0.8, -0.3, 0.4]      # initial guess: [σ, λ, m, v]\n",
    "bounds = [(1e-6, 10), (0, 20), (-10, 10),  (0, 15)]\n",
    "\n",
    "# Define the objective function\n",
    "def obj_function(x, strikes, prices):\n",
    "    sigm, lamb, mean, std = x\n",
    "    Mert = Merton_pricer(S0=S0, K=strikes, ttm=T, r=r, q=0, sigma=sigm, lambd=lamb, meanJ=mean, stdJ=std, exercise=exercise)\n",
    "    return np.sum((Mert.closed_formula_call(K) - prices) ** 2)\n",
    "\n",
    "additional_args = (call_strikes, call_prices)\n",
    "\n",
    "print('> METHOD 2: MINIMIZE (SLSQP)')\n",
    "res2_1 = scpo.minimize(obj_function, x0, args=additional_args,  method='SLSQP', bounds=bounds, tol=1e-20)\n",
    "print(res2_1.message)\n",
    "sigt3, lambdt3, mt3, vt3 = res2_1.x\n",
    "\n",
    "# Print the results\n",
    "print(f'Calibrated Volatility [σ] = {round(sigt3, 5)}, \\t  {sigt3*100}%')\n",
    "print('Calibrated Jump Intensity [λ] =', round(lambdt3, 2))\n",
    "print('Calibrated Jump Mean [m] =', round(mt3, 2))\n",
    "print('Calibrated Jump St. dev. [v] =', round(vt3, 2))\n",
    "\n",
    "\n",
    "print('\\n> METHOD 2: MINIMIZE (trust-constr)')\n",
    "res2_2 = scpo.minimize(obj_function, x0, args=additional_args,  method='trust-constr', bounds=bounds, tol=1e-20)\n",
    "print(res2_1.message)\n",
    "sigt4, lambdt4, mt4, vt4 = res2_2.x\n",
    "\n",
    "# Print the results\n",
    "print(f'Calibrated Volatility [σ] = {round(sigt4, 5)}, \\t  {sigt4*100}%')\n",
    "print('Calibrated Jump Intensity [λ] =', round(lambdt4, 2))\n",
    "print('Calibrated Jump Mean [m] =', round(mt4, 2))\n",
    "print('Calibrated Jump St. dev. [v] =', round(vt4, 2))"
   ],
   "metadata": {
    "collapsed": false
   }
  },
  {
   "cell_type": "code",
   "execution_count": 20,
   "outputs": [
    {
     "name": "stdout",
     "output_type": "stream",
     "text": [
      "[0.0001, 0.51, 0.09, 0.1]\n"
     ]
    }
   ],
   "source": [
    "mert_params = [sigt, lambdt, mt, vt]\n",
    "print(mert_params)"
   ],
   "metadata": {
    "collapsed": false
   }
  },
  {
   "cell_type": "markdown",
   "source": [
    "### Kou Jump Diffusion"
   ],
   "metadata": {
    "collapsed": false
   }
  },
  {
   "cell_type": "code",
   "execution_count": 21,
   "outputs": [],
   "source": [
    "x0 = [0.1, 0.5, 0.4, 5, 5] # initial guess: [σ, λ, p, η_1, η_2]\n",
    "bounds = ( [0, 0, 0, 0, 0], [4, 10, 0.9,  10, 10] )\n",
    "\n",
    "def f_Kou(x, sigma, lambd, p, eta1, eta2):\n",
    "    KouJD = Kou_pricer(S0=S0, K=x, ttm=T, r=r, sigma=sigma, lambd=lambd, p=p, eta1=eta1, eta2=eta2, exercise=exercise)\n",
    "    return KouJD.closed_formula_call(x)"
   ],
   "metadata": {
    "collapsed": false
   }
  },
  {
   "cell_type": "markdown",
   "source": [
    "##### Method 1. TRF (Bounds)"
   ],
   "metadata": {
    "collapsed": false
   }
  },
  {
   "cell_type": "code",
   "execution_count": 22,
   "outputs": [
    {
     "name": "stdout",
     "output_type": "stream",
     "text": [
      "METHOD 1: CURVE_FIT (trf)\n",
      "> Calibrated Volatlity [σ] = 0.09665 \t 9.665%\n",
      "> Calibrated Jump intensity [λ] =  0.11\n",
      "> Calibrated Upward Jump probability [p] = 0.9, [q] = 0.1\n",
      "> Calibrated Rate of Exp. 1  [η_1] =  8.1\n",
      "> Calibrated Rate of Exp. 2  [η_2] =  10.0\n"
     ]
    }
   ],
   "source": [
    "res1 = scpo.curve_fit(f_Kou, call_strikes, call_prices, p0=x0, bounds=bounds)\n",
    "\n",
    "sigt = round(res1[0][0],5)\n",
    "lambdt = round(res1[0][1],2)\n",
    "pt = round(res1[0][2],2)\n",
    "eta1_t = round(res1[0][3],1)\n",
    "eta2_t = round(res1[0][4],1)\n",
    "\n",
    "print('METHOD 1: CURVE_FIT (trf)')\n",
    "print(f'> Calibrated Volatlity [σ] = {sigt} \\t {sigt*100}%')\n",
    "print('> Calibrated Jump intensity [λ] = ', lambdt)\n",
    "print(f'> Calibrated Upward Jump probability [p] = {pt}, [q] = {round(1-pt,2)}')\n",
    "print('> Calibrated Rate of Exp. 1  [η_1] = ', eta1_t)\n",
    "print('> Calibrated Rate of Exp. 2  [η_2] = ', eta2_t)"
   ],
   "metadata": {
    "collapsed": false
   }
  },
  {
   "cell_type": "markdown",
   "source": [
    "##### Method 2. Bounds"
   ],
   "metadata": {
    "collapsed": false
   }
  },
  {
   "cell_type": "code",
   "execution_count": 23,
   "outputs": [
    {
     "name": "stdout",
     "output_type": "stream",
     "text": [
      "METHOD 2: MINIMIZE (SLSQP)\n",
      "message: Optimization terminated successfully\n",
      "success:True\n",
      "> Calibrated Volatlity [σ] = 0.3624 \t 36.24%\n",
      "> Calibrated Jump intensity [λ] =  1.38\n",
      "> Calibrated Upward Jump probability [p] = 0.5, [q] = 0.5\n",
      "> Calibrated Rate of Exp. 1  [η_1] =  7.21\n",
      "> Calibrated Rate of Exp. 2  [η_2] =  3.6\n"
     ]
    },
    {
     "name": "stderr",
     "output_type": "stream",
     "text": [
      "c:\\users\\ornel\\appdata\\local\\programs\\python\\python38\\lib\\site-packages\\scipy\\optimize\\_hessian_update_strategy.py:182: UserWarning: delta_grad == 0.0. Check if the approximated function is linear. If the function is linear better results can be obtained by defining the Hessian as zero instead of using quasi-Newton approximations.\n",
      "  warn('delta_grad == 0.0. Check if the approximated '\n"
     ]
    },
    {
     "name": "stdout",
     "output_type": "stream",
     "text": [
      "METHOD 2: MINIMIZE (trust-constr)\n",
      "message: `xtol` termination condition is satisfied.\n",
      "success:True\n",
      "> Calibrated Volatlity [σ] = 0.7729 \t 77.29%\n",
      "> Calibrated Jump intensity [λ] =  0.81\n",
      "> Calibrated Upward Jump probability [p] = 0.58, [q] = 0.42\n",
      "> Calibrated Rate of Exp. 1  [η_1] =  7.91\n",
      "> Calibrated Rate of Exp. 2  [η_2] =  3.99\n"
     ]
    }
   ],
   "source": [
    "x0 = [0.1, 0.5, 0.5, 8, 4] # initial guess: [σ, λ, p, η_1, η_2]\n",
    "bounds = [(0, 4), (0, 10), (0, 1),  (1e-6, 10), (1e-6,10)]\n",
    "\n",
    "# Define the objective function\n",
    "def obj_function(x, strikes, prices):\n",
    "    sigm, lamb, p, eta1, eta2 = x\n",
    "    KouJD = Kou_pricer(S0=S0, K=strikes, ttm=T, r=r, sigma=sigm, lambd=lamb, p=p, eta1=eta1, eta2=eta2, exercise=exercise)\n",
    "    return np.sum((KouJD.closed_formula_call(K) - prices) ** 2)\n",
    "\n",
    "additional_args = (call_strikes, call_prices)\n",
    "\n",
    "res2 = scpo.minimize(obj_function, x0, args=additional_args,  method='SLSQP', bounds=bounds, tol=1e-20)\n",
    "print('METHOD 2: MINIMIZE (SLSQP)'); print(f'message: {res2.message}\\nsuccess:{res2.success}')\n",
    "\n",
    "sigt2, lambdt2, pt2, eta1_t2, eta2_t2 = res2.x\n",
    "\n",
    "print(f'> Calibrated Volatlity [σ] = {round(sigt2,4)} \\t {round(sigt2*100,2)}%')\n",
    "print('> Calibrated Jump intensity [λ] = ', round(lambdt2,2))\n",
    "print(f'> Calibrated Upward Jump probability [p] = {round(pt2,2)}, [q] = {round(1-pt2,2)}')\n",
    "print('> Calibrated Rate of Exp. 1  [η_1] = ', round(eta1_t2,2))\n",
    "print('> Calibrated Rate of Exp. 2  [η_2] = ', round(eta2_t2,2))\n",
    "\n",
    "res3 = scpo.minimize(obj_function, x0, args=additional_args,  method='trust-constr', bounds=bounds, tol=1e-20)\n",
    "print('METHOD 2: MINIMIZE (trust-constr)'); print(f'message: {res3.message}\\nsuccess:{res3.success}')\n",
    "\n",
    "sigt3, lambdt3, pt3, eta1_t3, eta2_t3 = res3.x\n",
    "\n",
    "print(f'> Calibrated Volatlity [σ] = {round(sigt3,4)} \\t {round(sigt3*100,2)}%')\n",
    "print('> Calibrated Jump intensity [λ] = ', round(lambdt3,2))\n",
    "print(f'> Calibrated Upward Jump probability [p] = {round(pt3,2)}, [q] = {round(1-pt3,2)}')\n",
    "print('> Calibrated Rate of Exp. 1  [η_1] = ', round(eta1_t3,2))\n",
    "print('> Calibrated Rate of Exp. 2  [η_2] = ', round(eta2_t3,2))"
   ],
   "metadata": {
    "collapsed": false
   }
  },
  {
   "cell_type": "markdown",
   "source": [
    "The following code snippet samples a subset of observations in order to speed up the estimation of parameters in Kou's model."
   ],
   "metadata": {
    "collapsed": false
   }
  },
  {
   "cell_type": "code",
   "execution_count": 24,
   "outputs": [
    {
     "name": "stdout",
     "output_type": "stream",
     "text": [
      "[0.08512502 0.2409362  1.         9.99999998 9.95025   ]\n",
      " message: Optimization terminated successfully\n",
      " success: True\n",
      "  status: 0\n",
      "     fun: 575222.9240375672\n",
      "       x: [ 6.432e-01  3.450e+00  4.683e-01  1.054e+01  4.490e+00]\n",
      "     nit: 13\n",
      "     jac: [-7.812e-01 -2.344e-02  8.594e-02  7.812e-03  1.562e-02]\n",
      "    nfev: 131\n",
      "    njev: 13\n"
     ]
    }
   ],
   "source": [
    "# Sample of rows of the call dataframe\n",
    "call_resized = calls.sample(n=6).sort_index()\n",
    "c_strikes_resized = call_resized['STRIKE']\n",
    "c_prices_resized = call_resized['C_Midpoint']\n",
    "\n",
    "x0 = [0.1, 0.5, 0.5, 8, 4] # initial guess: [σ, λ, p, η_1, η_2]\n",
    "\n",
    "bounds1 = ( [0, 0, 0, 1e-9, 1e-9], [4, 10, 1,  10, 10] )\n",
    "res1 = scpo.curve_fit(f_Kou, c_strikes_resized, c_prices_resized, p0=x0, bounds=bounds1)\n",
    "print(res1[0])\n",
    "\n",
    "bounds2 = [(0, 4), (0, 10), (0, 1),  (1e-9, 20), (1e-9,20)]\n",
    "additional_args = (c_strikes_resized, c_prices_resized)\n",
    "res2 = scpo.minimize(obj_function, x0, args=additional_args,  method='SLSQP', bounds=bounds2, tol=1e-20)\n",
    "print(res2)"
   ],
   "metadata": {
    "collapsed": false
   }
  },
  {
   "cell_type": "code",
   "execution_count": 26,
   "outputs": [
    {
     "name": "stdout",
     "output_type": "stream",
     "text": [
      "[0.09665, 0.11, 0.9, 8.1, 10.0]\n"
     ]
    }
   ],
   "source": [
    "kou_params = [sigt, lambdt, pt, eta1_t, eta2_t]\n",
    "print(kou_params)"
   ],
   "metadata": {
    "collapsed": false
   }
  },
  {
   "cell_type": "markdown",
   "source": [
    "### Variance Gamma\n"
   ],
   "metadata": {
    "collapsed": false
   }
  },
  {
   "cell_type": "code",
   "execution_count": 27,
   "outputs": [],
   "source": [
    "x0 = [0.2, -0.05, 0.1]   # initial guess: [σ, θ, v]\n",
    "bounds = ( [1e-2, -10, 0], [5, 10, 20] )"
   ],
   "metadata": {
    "collapsed": false
   }
  },
  {
   "cell_type": "markdown",
   "source": [
    "##### Method 1. Bounds (TRF)"
   ],
   "metadata": {
    "collapsed": false
   }
  },
  {
   "cell_type": "code",
   "execution_count": 28,
   "outputs": [
    {
     "name": "stdout",
     "output_type": "stream",
     "text": [
      "METHOD 1: CURVE_FIT (trf)\n",
      "> Calibrated Volatlity [σ] = 0.01425, \t 1.425%\n",
      "> Calibrated mean rate gamma process [θ] =  -0.22\n",
      "> Calibrated variance rate gamma process [v]=  0.23\n"
     ]
    }
   ],
   "source": [
    "def f_VG(strikes, sigmax, thetax, nux):\n",
    "    VGamma = VG_pricer(S0=S0, K=None, ttm=T, r=r, q=0, sigma=sigmax, theta=thetax, nu=nux, exercise=exercise)\n",
    "    vg_prices = []\n",
    "    for k in strikes:\n",
    "        vg_prices.append(VGamma.closed_formula_call(k))\n",
    "    return vg_prices\n",
    "\n",
    "res1 = scpo.curve_fit(f_VG, call_strikes, call_prices, p0=x0, bounds=bounds)\n",
    "\n",
    "sigt = round(res1[0][0],5)\n",
    "thetat = round(res1[0][1],2)\n",
    "nut = round(res1[0][2],2)\n",
    "\n",
    "print('METHOD 1: CURVE_FIT (trf)');\n",
    "print(f'> Calibrated Volatlity [σ] = {sigt}, \\t {sigt*100}%')\n",
    "print('> Calibrated mean rate gamma process [θ] = ', thetat)\n",
    "print('> Calibrated variance rate gamma process [v]= ', nut)"
   ],
   "metadata": {
    "collapsed": false
   }
  },
  {
   "cell_type": "markdown",
   "source": [
    "##### Method 2. Bounds"
   ],
   "metadata": {
    "collapsed": false
   }
  },
  {
   "cell_type": "code",
   "execution_count": 29,
   "outputs": [
    {
     "name": "stderr",
     "output_type": "stream",
     "text": [
      "c:\\users\\ornel\\appdata\\local\\programs\\python\\python38\\lib\\site-packages\\scipy\\optimize\\_optimize.py:353: RuntimeWarning: Values in x were outside bounds during a minimize step, clipping to bounds\n",
      "  warnings.warn(\"Values in x were outside bounds during a \"\n",
      "C:\\Users\\ornel\\OneDrive\\Desktop\\TESI\\PythonProjects\\Margin-Loans-Pricing\\python-modules\\functions\\VGpricer.py:67: RuntimeWarning: invalid value encountered in sqrt\n",
      "  call = self.S0 * Psy(d * np.sqrt((1 - c1) / self.nu), (alpha + s) * np.sqrt(self.nu / (1 - c1)),\n",
      "C:\\Users\\ornel\\OneDrive\\Desktop\\TESI\\PythonProjects\\Margin-Loans-Pricing\\python-modules\\functions\\VGpricer.py:52: IntegrationWarning: The occurrence of roundoff error is detected, which prevents \n",
      "  the requested tolerance from being achieved.  The error may be \n",
      "  underestimated.\n",
      "  result = quad(f, 0, np.inf)\n",
      "C:\\Users\\ornel\\OneDrive\\Desktop\\TESI\\PythonProjects\\Margin-Loans-Pricing\\python-modules\\functions\\VGpricer.py:69: RuntimeWarning: invalid value encountered in sqrt\n",
      "  Psy(d * np.sqrt((1 - c2) / self.nu), alpha * np.sqrt(self.nu / (1 - c2)), self.ttm / self.nu)\n",
      "C:\\Users\\ornel\\OneDrive\\Desktop\\TESI\\PythonProjects\\Margin-Loans-Pricing\\python-modules\\functions\\VGpricer.py:64: RuntimeWarning: invalid value encountered in log\n",
      "  d = 1 / s * (np.log(self.S0 / self.K) + self.r * self.ttm + self.ttm / self.nu * np.log((1 - c1) / (1 - c2)))\n"
     ]
    },
    {
     "name": "stdout",
     "output_type": "stream",
     "text": [
      "METHOD 2: MINIMIZE (SLSQP)\n",
      "message: Optimization terminated successfully\n",
      "success: True\n",
      "> Calibrated Volatlity [σ] = 5.0 \t 500.0%\n",
      "> Calibrated mean rate gamma process [θ] =  -4.0\n",
      "> Calibrated variance rate gamma process [v]=  196.63\n"
     ]
    },
    {
     "name": "stderr",
     "output_type": "stream",
     "text": [
      "c:\\users\\ornel\\appdata\\local\\programs\\python\\python38\\lib\\site-packages\\scipy\\optimize\\_hessian_update_strategy.py:182: UserWarning: delta_grad == 0.0. Check if the approximated function is linear. If the function is linear better results can be obtained by defining the Hessian as zero instead of using quasi-Newton approximations.\n",
      "  warn('delta_grad == 0.0. Check if the approximated '\n"
     ]
    },
    {
     "name": "stdout",
     "output_type": "stream",
     "text": [
      "METHOD 2: MINIMIZE (trust-constr)\n",
      "message: `xtol` termination condition is satisfied.\n",
      "success: True\n",
      "> Calibrated Volatlity [σ] = 0.762 \t 76.2%\n",
      "> Calibrated mean rate gamma process [θ] =  0.02\n",
      "> Calibrated variance rate gamma process [v]=  0.4\n"
     ]
    }
   ],
   "source": [
    "bounds2 = [(1e-9, 5), (-4, np.inf), (0, np.inf)]\n",
    "\n",
    "# Define the objective function\n",
    "def obj_function(x, strikes, prices):\n",
    "    sigm, theta, nu = x\n",
    "    VGx = VG_pricer(S0=S0, K=strikes, ttm=T, r=r, q=0, sigma=sigm, theta=theta, nu=nu, exercise=exercise)\n",
    "    return np.sum((VGx.closed_formula_call(K) - prices) ** 2)\n",
    "\n",
    "additional_args = (call_strikes, call_prices)\n",
    "\n",
    "# METHOD SEQUENTIAL LEAST SQUARES\n",
    "res2 = scpo.minimize(obj_function, x0, args=additional_args,  method='SLSQP', bounds=bounds2, tol=1e-20)\n",
    "print('METHOD 2: MINIMIZE (SLSQP)'); print(f'message: {res2.message}\\nsuccess: {res2.success}')\n",
    "sigt2, thetat2, nut2 = res2.x\n",
    "\n",
    "# Print the results\n",
    "print(f'> Calibrated Volatlity [σ] = {round(sigt2,4)} \\t {round(sigt2*100, 2)}%')\n",
    "print('> Calibrated mean rate gamma process [θ] = ', round(thetat2, 2))\n",
    "print('> Calibrated variance rate gamma process [v]= ', round(nut2,2))\n",
    "\n",
    "# METHOD TRUST REGION CONSTRAINED\n",
    "res3 = scpo.minimize(obj_function, x0, args=additional_args,  method='trust-constr', bounds=bounds2, tol=1e-20)\n",
    "print('METHOD 2: MINIMIZE (trust-constr)'); print(f'message: {res3.message}\\nsuccess: {res3.success}')\n",
    "sigt3, thetat3, nut3 = res3.x\n",
    "\n",
    "# Print the results\n",
    "print(f'> Calibrated Volatlity [σ] = {round(sigt3,4)} \\t {round(sigt3*100,2)}%')\n",
    "print('> Calibrated mean rate gamma process [θ] = ', round(thetat3,2))\n",
    "print('> Calibrated variance rate gamma process [v]= ', round(nut3,2))"
   ],
   "metadata": {
    "collapsed": false
   }
  },
  {
   "cell_type": "markdown",
   "source": [
    "##### Method 1 using FFT prices"
   ],
   "metadata": {
    "collapsed": false
   }
  },
  {
   "cell_type": "code",
   "execution_count": 30,
   "outputs": [
    {
     "name": "stdout",
     "output_type": "stream",
     "text": [
      "METHOD 1: CURVE_FIT (trf)\n",
      "> Calibrated Volatlity [σ] = 0.0142 \t 1.42%\n",
      "> Calibrated mean rate gamma process [θ] =  -0.22\n",
      "> Calibrated variance rate gamma process [v]=  0.23\n"
     ]
    }
   ],
   "source": [
    "def f_VG_fft(strikes, sigmax, thetax, nux):\n",
    "    VGamma = VG_pricer(S0=S0, K=None, ttm=T, r=r, q=0, sigma=sigmax, theta=thetax, nu=nux, exercise=exercise)\n",
    "    return VGamma.FFT_call(strikes)\n",
    "\n",
    "res4 = scpo.curve_fit(f_VG_fft, call_strikes, call_prices, p0=x0, bounds=bounds)\n",
    "\n",
    "sigt4 = round(res1[0][0],5)\n",
    "thetat4 = round(res1[0][1],2)\n",
    "nut4 = round(res1[0][2],2)\n",
    "\n",
    "print('METHOD 1: CURVE_FIT (trf)')\n",
    "print(f'> Calibrated Volatlity [σ] = {round(sigt4,4)} \\t {round(sigt4*100,2)}%')\n",
    "print('> Calibrated mean rate gamma process [θ] = ', thetat4)\n",
    "print('> Calibrated variance rate gamma process [v]= ', nut4)"
   ],
   "metadata": {
    "collapsed": false
   }
  },
  {
   "cell_type": "code",
   "execution_count": 31,
   "outputs": [
    {
     "name": "stdout",
     "output_type": "stream",
     "text": [
      "[0.01425, -0.22, 0.23]\n"
     ]
    }
   ],
   "source": [
    "vg_params = [sigt, thetat, nut]\n",
    "print(vg_params)"
   ],
   "metadata": {
    "collapsed": false
   }
  },
  {
   "cell_type": "code",
   "execution_count": null,
   "outputs": [],
   "source": [],
   "metadata": {
    "collapsed": false
   }
  }
 ],
 "metadata": {
  "kernelspec": {
   "display_name": "Python 3",
   "language": "python",
   "name": "python3"
  },
  "language_info": {
   "codemirror_mode": {
    "name": "ipython",
    "version": 2
   },
   "file_extension": ".py",
   "mimetype": "text/x-python",
   "name": "python",
   "nbconvert_exporter": "python",
   "pygments_lexer": "ipython2",
   "version": "2.7.6"
  }
 },
 "nbformat": 4,
 "nbformat_minor": 0
}
