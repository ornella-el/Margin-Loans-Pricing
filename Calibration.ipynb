{
 "cells": [
  {
   "cell_type": "markdown",
   "source": [
    "# Calibration of Black and Scholes, Merton, Kou, Variance Gamma parameters\n",
    "This notebook aims to find the optimal parameters of **Black-Scholes**, **Merton Jump Diffusion**, **Kou Jump Diffusion** and **Variance Gamma** models. To do so, we compute the european option prices using **closed formulas**, available for all the 4 models, and the **Fast Fourier Transform** for the VG model. Given these theoretical prices, the **implied volatilities** are computed comparing them with real market prices, minimizing their difference. Then we estimate the additional parameters of each model, using the python module `scipy.optimize`.\n",
    "\n",
    "*reference: https://github.com/cantaro86/Financial-Models-Numerical-Methods/tree/master*\n"
   ],
   "metadata": {
    "collapsed": false
   }
  },
  {
   "cell_type": "code",
   "execution_count": 1,
   "metadata": {
    "collapsed": true
   },
   "outputs": [],
   "source": [
    "from functions.MERTONpricer import Merton_pricer\n",
    "from functions.BSpricer import BS_pricer\n",
    "from functions.KOUpricer import Kou_pricer\n",
    "from functions.VGpricer import VG_pricer\n",
    "\n",
    "import numpy as np\n",
    "import pandas as pd\n",
    "import matplotlib.pyplot as plt\n",
    "import random\n",
    "import scipy as scp\n",
    "import scipy.stats as ss\n",
    "import scipy.optimize as scpo\n",
    "\n",
    "random.seed(100)"
   ]
  },
  {
   "cell_type": "markdown",
   "source": [
    "Let's start retrieving historical prices for **european call** and **put** options starting from date **2016-01-20** and expiring **1 year** later. All the data have been collected from [OptionsDX](https://www.optionsdx.com/shop/) and preprocessed in `plainvanilla.py` module. Only options such that\n",
    "$$ K = S0 \\pm 1000 $$ have been selected."
   ],
   "metadata": {
    "collapsed": false
   }
  },
  {
   "cell_type": "code",
   "execution_count": 2,
   "outputs": [
    {
     "name": "stdout",
     "output_type": "stream",
     "text": [
      "NUM OF CALL OPTS: 75\n",
      "   QUOTE_DATE  UNDERLYING_LAST EXPIRE_DATE   C_BID   C_ASK  STRIKE  C_IV\n",
      "0  2016-01-20          1859.48  2017-01-20  950.30  955.41   875.0   NaN\n",
      "1  2016-01-20          1859.48  2017-01-20  926.30  931.40   900.0   NaN\n",
      "2  2016-01-20          1859.48  2017-01-20  902.50  907.51   925.0   NaN\n",
      "3  2016-01-20          1859.48  2017-01-20  878.61  883.69   950.0   NaN\n",
      "4  2016-01-20          1859.48  2017-01-20  854.90  859.91   975.0   NaN\n",
      "NUM OF PUT OPTS: 75\n",
      "    QUOTE_DATE  UNDERLYING_LAST EXPIRE_DATE    P_BID    P_ASK  STRIKE     P_IV\n",
      "70  2016-01-20          1859.48  2017-01-20   805.60   822.20  2650.0  0.00011\n",
      "71  2016-01-20          1859.48  2017-01-20   855.20   871.20  2700.0 -0.00018\n",
      "72  2016-01-20          1859.48  2017-01-20   904.41   918.30  2750.0  0.00059\n",
      "73  2016-01-20          1859.48  2017-01-20   958.80   964.10  2800.0  0.00043\n",
      "74  2016-01-20          1859.48  2017-01-20  1007.99  1013.29  2850.0  0.00041\n"
     ]
    }
   ],
   "source": [
    "df_call = pd.read_csv('data/options_spx_call_2016.csv')\n",
    "df_put = pd.read_csv('data/options_spx_put_2016.csv')\n",
    "print(f'NUM OF CALL OPTS: {df_call.shape[0]}')\n",
    "print(df_call.head(5))\n",
    "print(f'NUM OF PUT OPTS: {df_put.shape[0]}')\n",
    "print(df_put.tail(5))"
   ],
   "metadata": {
    "collapsed": false
   }
  },
  {
   "cell_type": "markdown",
   "source": [
    "The dataframes **df_calls** and **df_put** contain both 83 options sorted by strike price. For our purpose, using the $25\\%$ of these DFs is enough and can lead to very good results. Thus, we sample the rows and then reformulate the dataframes adding **Midpoint** and **Spread** columns."
   ],
   "metadata": {
    "collapsed": false
   }
  },
  {
   "cell_type": "code",
   "execution_count": 3,
   "outputs": [],
   "source": [
    "calls = df_call.sample(frac=0.25, replace=False).sort_index().reset_index(drop=True)\n",
    "puts = df_put.sample(frac=0.25, replace=False).sort_index().reset_index(drop=True)\n",
    "\n",
    "calls['C_Midpoint'] = abs(calls['C_BID'] + calls['C_ASK']) / 2\n",
    "puts['P_Midpoint'] = abs(puts['P_BID'] + puts['P_ASK']) / 2\n",
    "calls['C_Spread'] = calls['C_BID'] - calls['C_ASK']\n",
    "puts['P_Spread'] = puts['P_BID'] - puts['P_ASK']\n",
    "\n",
    "q = 0           # dividend yield\n",
    "r = 0.05        # risk-free interest rate\n",
    "sigma = 0.2     #volatility (variance of diffusion process)\n",
    "S0 = calls.iloc[0]['UNDERLYING_LAST']\n",
    "T = 1           # time-to-maturity\n",
    "call_strikes = calls['STRIKE']    # array of K for call options\n",
    "put_strikes = puts['STRIKE']      # array of K for put options\n",
    "exercise = 'european'\n",
    "\n",
    "call_prices = calls['C_Midpoint']\n",
    "put_prices = puts['P_Midpoint']"
   ],
   "metadata": {
    "collapsed": false
   }
  },
  {
   "cell_type": "markdown",
   "source": [
    "The following code snippet initializes objects of class *BS_pricer*, *Merton_pricer*, *Kou_pricer*, *VG_pricer* with default values as parameters. Then it computes the theoretical call prices using closed formulas of each 4 models, with strike prices given by the *call_strikes* array. Additionally, we use the **Midpoint** price as the option market prices."
   ],
   "metadata": {
    "collapsed": false
   }
  },
  {
   "cell_type": "code",
   "execution_count": 4,
   "outputs": [
    {
     "name": "stdout",
     "output_type": "stream",
     "text": [
      "Theoretical call options prices:\n",
      "   Strike BlackScholes      Merton         Kou VarianceGamma\n",
      "0   950.0    955.82182   956.38378  957.024749     955.81212\n",
      "1   975.0   932.047993  932.740028  933.432744    932.031459\n",
      "2  1000.0   908.278259  909.123672  909.864135    908.250865\n",
      "3  1300.0   625.186545  630.001696  629.829254    623.085144\n",
      "4  1350.0   579.182158  584.793841  583.907376    575.793407\n"
     ]
    }
   ],
   "source": [
    "BS = BS_pricer(S0=S0, r=r, q = q, sigma=sigma, ttm=T, exercise=exercise, K=None)\n",
    "Merton = Merton_pricer(S0=S0, K=None, ttm=T, r=0.05, q = q, sigma=0.12, lambd=0.5, meanJ=-0.1, stdJ=0.2, exercise=exercise)\n",
    "Kou = Kou_pricer(S0=S0, K=None, ttm=T, r=r, sigma=0.12, lambd=0.5, p=0.6, eta1=10, eta2=5, exercise=exercise)\n",
    "VG = VG_pricer(S0, K=None, ttm=T, r=r, q=q, sigma=0.15, theta=-0.2, nu=0.2, exercise=exercise)\n",
    "\n",
    "call_th_prices = pd.DataFrame(columns=['Strike','BlackScholes', 'Merton', 'Kou', 'VarianceGamma'])\n",
    "call_th_prices['Strike'] = call_strikes\n",
    "\n",
    "for i, K in enumerate(call_strikes):\n",
    "    bs = BS.closed_formula_call(K)\n",
    "    mert = Merton.closed_formula_call(K)\n",
    "    kou = Kou.closed_formula_call(K)\n",
    "    vg = VG.closed_formula_call(K)\n",
    "    call_th_prices.iloc[i, 1:] = [bs, mert, kou, vg]\n",
    "\n",
    "print(f'Theoretical call options prices:')\n",
    "print(call_th_prices.head(5)) #print(call_th_prices.tail(4))"
   ],
   "metadata": {
    "collapsed": false
   }
  },
  {
   "cell_type": "markdown",
   "source": [
    "Same for put prices."
   ],
   "metadata": {
    "collapsed": false
   }
  },
  {
   "cell_type": "code",
   "execution_count": 5,
   "outputs": [
    {
     "name": "stdout",
     "output_type": "stream",
     "text": [
      "Theoretical put options prices:\n",
      "   Strike BlackScholes     Merton        Kou VarianceGamma\n",
      "0  1000.0     0.027684   0.873097    1.61356       0.00029\n",
      "1  1525.0    16.855779  22.886964  17.689729      5.462013\n",
      "2  1550.0    20.079698  25.648285   19.66821      7.273209\n",
      "3  1600.0    27.865211  32.002052  24.445578     12.323327\n",
      "4  1625.0      32.4843  35.649149  27.332747      15.69148\n"
     ]
    }
   ],
   "source": [
    "put_th_prices = pd.DataFrame(columns=['Strike','BlackScholes', 'Merton', 'Kou', 'VarianceGamma'])\n",
    "put_th_prices['Strike'] = put_strikes\n",
    "\n",
    "for i, K in enumerate(put_strikes):\n",
    "    bs = BS.closed_formula_put(K)\n",
    "    mert = Merton.closed_formula_put(K)\n",
    "    kou = Kou.closed_formula_put(K)\n",
    "    vg = VG.closed_formula_put(K)\n",
    "    put_th_prices.iloc[i, 1:] = [bs, mert, kou, vg]\n",
    "\n",
    "print(f'Theoretical put options prices:')\n",
    "print(put_th_prices.head(5))"
   ],
   "metadata": {
    "collapsed": false
   }
  },
  {
   "cell_type": "markdown",
   "source": [
    "### Variance Gamma Fast Fourier Transform\n",
    "Let's now compare the Closed Forms with the Fast Fourier Transform method for the Variance Gamma model for both call and put options.  The FFT method is explained by Carr, Madan, Chang 1998: *The Variance Gamma Process and Option Pricing*."
   ],
   "metadata": {
    "collapsed": false
   }
  },
  {
   "cell_type": "code",
   "execution_count": 6,
   "outputs": [
    {
     "name": "stdout",
     "output_type": "stream",
     "text": [
      "K=950.0, CF:955.8121200062274, FFT:955.9021270474224\n",
      "K=975.0, CF:932.0314585935862, FFT:932.1530276419775\n",
      "K=1000.0, CF:908.2508654846026, FFT:908.4134863097016\n",
      "K=1300.0, CF:623.0851439285864, FFT:625.8168702374771\n",
      "K=1350.0, CF:575.7934067767901, FFT:579.6652227133131\n",
      "K=1450.0, CF:482.303877852966, FFT:489.14331892220844\n",
      "K=1475.0, CF:459.35656287404277, FFT:467.0035885222487\n",
      "K=1725.0, CF:254.6605690291201, FFT:263.720538995354\n",
      "K=1750.0, CF:237.88359747566778, FFT:245.87259132310305\n",
      "K=1775.0, CF:221.91699203858093, FFT:228.5992008859987\n",
      "K=1850.0, CF:178.90791746625428, FFT:180.5014200622154\n",
      "K=2000.0, CF:113.58980169305914, FFT:102.91071946216755\n",
      "K=2025.0, CF:105.08515336925382, FFT:92.52314767687085\n",
      "K=2275.0, CF:47.54963905013261, FFT:25.718010920471556\n",
      "K=2350.0, CF:37.428079788686716, FFT:16.285257422618457\n",
      "K=2400.0, CF:31.92047404881572, FFT:11.824944631335228\n",
      "K=2500.0, CF:23.256834724127486, FFT:6.050850202392141\n",
      "K=2550.0, CF:19.87356256514977, FFT:4.277630865073533\n",
      "K=2850.0, CF:7.903788502174052, FFT:0.4907402567368315\n"
     ]
    }
   ],
   "source": [
    "c_vg_fft = VG.FFT_call(call_strikes)\n",
    "\n",
    "for k, a, b in zip(call_strikes, call_th_prices['VarianceGamma'], c_vg_fft):\n",
    "    print(f'K={k}, CF:{a}, FFT:{b}')"
   ],
   "metadata": {
    "collapsed": false
   }
  },
  {
   "cell_type": "code",
   "execution_count": 7,
   "outputs": [
    {
     "name": "stdout",
     "output_type": "stream",
     "text": [
      "K=1000.0, CF:0.00028998531661272864, FFT:0.16291081041561029\n",
      "K=1525.0, CF:5.462012782864804, FFT:14.626298504286524\n",
      "K=1550.0, CF:7.273209129617044, FFT:17.078599282582218\n",
      "K=1600.0, CF:12.323326778117462, FFT:22.99284077469133\n",
      "K=1625.0, CF:15.691479579906627, FFT:26.515544896009942\n",
      "K=1825.0, CF:68.94763436189055, FFT:72.40177943639878\n",
      "K=1850.0, CF:79.20235279257508, FFT:80.79585538853621\n",
      "K=1950.0, CF:127.9354099708205, FFT:121.30240895119141\n",
      "K=1975.0, CF:141.9213667319284, FFT:133.22922539196884\n",
      "K=2000.0, CF:156.56865069448713, FFT:145.88956846359542\n",
      "K=2025.0, CF:171.84473798319982, FFT:159.28273229081674\n",
      "K=2175.0, CF:274.8676083577052, FFT:254.43289308246813\n",
      "K=2250.0, CF:332.2879158245255, FFT:310.530167239579\n",
      "K=2275.0, CF:352.1165797892568, FFT:330.28495165959566\n",
      "K=2350.0, CF:413.33722736536447, FFT:392.19440499929624\n",
      "K=2650.0, CF:675.8298771229872, FFT:663.380915280215\n",
      "K=2750.0, CF:767.1007242707176, FFT:757.4202317809211\n",
      "K=2800.0, CF:813.153034373144, FFT:804.6699787385553\n",
      "K=2850.0, CF:859.4276483292088, FFT:852.0146000837717\n"
     ]
    }
   ],
   "source": [
    "p_vg_fft = VG.FFT_put(put_strikes)\n",
    "\n",
    "for k, a, b in zip(put_strikes, put_th_prices['VarianceGamma'], p_vg_fft):\n",
    "    print(f'K={k}, CF:{a}, FFT:{b}')"
   ],
   "metadata": {
    "collapsed": false
   }
  },
  {
   "cell_type": "code",
   "execution_count": 8,
   "outputs": [
    {
     "data": {
      "text/plain": "<matplotlib.legend.Legend at 0x23924ddb100>"
     },
     "execution_count": 8,
     "metadata": {},
     "output_type": "execute_result"
    },
    {
     "data": {
      "text/plain": "<Figure size 1600x400 with 2 Axes>",
      "image/png": "[encoded data removed]"
     },
     "metadata": {},
     "output_type": "display_data"
    }
   ],
   "source": [
    "fig = plt.figure(figsize=(16,4))\n",
    "ax1 = fig.add_subplot(121); ax2 = fig.add_subplot(122)\n",
    "ax1.plot(call_strikes, call_th_prices['VarianceGamma'], label='CF')\n",
    "ax1.plot(call_strikes, c_vg_fft, label='FFT')\n",
    "ax1.set_title('Call prices Closed Forms vs FFT'); ax1.set_xlabel('STRIKE'); ax1.set_ylabel('PRICE')\n",
    "# ax1.set_xlim([1400,2000]);ax1.set_ylim([0,800])\n",
    "\n",
    "ax2.plot(put_strikes, put_th_prices['VarianceGamma'], label='CF')\n",
    "ax2.plot(put_strikes, p_vg_fft, label='FFT')\n",
    "ax2.set_title('Put prices Closed Forms vs FFT'); ax2.set_xlabel('STRIKE'); ax2.set_ylabel('PRICE')\n",
    "ax1.legend(); ax2.legend()"
   ],
   "metadata": {
    "collapsed": false
   }
  },
  {
   "cell_type": "markdown",
   "source": [
    "## Implied volatility\n",
    "The function belows implements $3$ methods to compute implied volatility: [Newton](https://en.wikipedia.org/wiki/Newton%27s_method) method, the [Bisection](https://en.wikipedia.org/wiki/Bisection_method) method and a more advanced one, named [Brent](https://en.wikipedia.org/wiki/Brent%27s_method) method. Apart from the initial guess, there is no substantial difference in the final result between **Newton** and **bisection** methods (*fsolve*). The **Implied Volatility** is that value $\\sigma$ that must be inserted into the Black-Scholes (BS) formula in order to retrieve the option price quoted in the market:\n",
    "    $$ BS(S, K, T, r, \\sigma) = P,  $$\n",
    "where $S$ is the underlying spot price, $K$ is the strike, $T$ time to maturity, $r$ risk-free interest rate and $P$ the option price quoted in the market. All these quantities are **observable**.\n",
    "   "
   ],
   "metadata": {
    "collapsed": false
   }
  },
  {
   "cell_type": "code",
   "execution_count": 9,
   "outputs": [],
   "source": [
    "def implied_volatility(price, S, strike, t, rate, q, type_o, method='fsolve', disp=True ):\n",
    "    \"\"\" Returns Implied volatility\n",
    "        methods:  fsolve (default) or brent\n",
    "    \"\"\"\n",
    "\n",
    "    def obj_fun(vol):\n",
    "        return BS.BlackScholes(type_o=type_o, S0=S, K=strike, ttm=t, r=rate, q=q, sigma=vol) - price\n",
    "\n",
    "    def vega(vol):\n",
    "        return BS.vega(S, strike, rate, q, vol, t)\n",
    "\n",
    "    if method == 'brent':\n",
    "        x, res = scpo.brentq(obj_fun, a=1e-15, b=500, full_output=True)\n",
    "        if res.converged:\n",
    "            return x\n",
    "\n",
    "    if method =='fsolve':\n",
    "        X0 = [0.1, 0.5, 1, 3]        #initial guess points for imp.vol.\n",
    "        for x_0 in X0:\n",
    "            x, _, solved, _ = scpo.fsolve(obj_fun, x_0, full_output=True, xtol=1e-8)\n",
    "            if solved == 1:\n",
    "                return x[0]\n",
    "\n",
    "    if method == 'newton':\n",
    "        guess = 0.5\n",
    "        result = scpo.newton(obj_fun, guess, vega, tol=1e-4)\n",
    "        return result\n",
    "\n",
    "\n",
    "    if disp:\n",
    "        return -1"
   ],
   "metadata": {
    "collapsed": false
   }
  },
  {
   "cell_type": "markdown",
   "source": [
    "The following code snippet computes the implied volatility of **call** and **put** options market prices."
   ],
   "metadata": {
    "collapsed": false
   }
  },
  {
   "cell_type": "code",
   "execution_count": 10,
   "outputs": [
    {
     "name": "stdout",
     "output_type": "stream",
     "text": [
      "Implied volatilities of market prices (calls):\n",
      "S0 = 1859.48\n",
      "K = 2275.0, IV = 0.1076\n",
      "K = 2350.0, IV = 0.1052\n",
      "K = 2400.0, IV = 0.1051\n",
      "K = 2500.0, IV = 0.1078\n",
      "K = 2550.0, IV = 0.113\n",
      "K = 2850.0, IV = 0.1473\n",
      "Implied volatilities of market prices (puts):\n",
      "S0 = 1859.48\n",
      "K = 1000.0, IV = 0.4112\n",
      "K = 1525.0, IV = 0.3247\n",
      "K = 1550.0, IV = 0.321\n",
      "K = 1600.0, IV = 0.3147\n",
      "K = 1625.0, IV = 0.3122\n",
      "K = 1825.0, IV = 0.2935\n"
     ]
    }
   ],
   "source": [
    "IV_market_c = []\n",
    "for i in range(len(call_prices)):\n",
    "    IV_market_c.append(implied_volatility(call_prices[i], S=S0, strike=call_strikes[i], t = T, rate=r, q = q, type_o='call', method='fsolve'))\n",
    "\n",
    "print(f'Implied volatilities of market prices (calls):\\nS0 = {S0}')\n",
    "for a,b in zip(call_strikes.tail(6), IV_market_c[-6:]):\n",
    "    print(f'K = {a}, IV = {round(b, 4)}')\n",
    "\n",
    "IV_market_p = []\n",
    "for i in range(len(call_prices)):\n",
    "    IV_market_p.append(implied_volatility(put_prices[i], S=S0, strike=put_strikes[i], t = T, rate=r, q = q, type_o='put', method='fsolve'))\n",
    "\n",
    "print(f'Implied volatilities of market prices (puts):\\nS0 = {S0}')\n",
    "for a,b in zip(put_strikes.head(6), IV_market_p[:6]):\n",
    "    print(f'K = {a}, IV = {round(b, 4)}')"
   ],
   "metadata": {
    "collapsed": false
   }
  },
  {
   "cell_type": "code",
   "execution_count": 11,
   "outputs": [
    {
     "data": {
      "text/plain": "<Figure size 1400x500 with 2 Axes>",
      "image/png": "[encoded data removed]"
     },
     "metadata": {},
     "output_type": "display_data"
    }
   ],
   "source": [
    "# Plot market implied volatilities w.r.t. log moneyness\n",
    "x = np.log(S0/put_strikes)\n",
    "# IV_filtered = [iv for iv in IV_market_p if iv != -1]\n",
    "# x_filtered = [log_m for iv, log_m in zip(IV_market_p, x) if iv != -1]\n",
    "IV_filtered = [iv for iv in IV_market_c if iv != -1]\n",
    "x_filtered = [log_m for iv, log_m in zip(IV_market_c, x) if iv != -1]\n",
    "\n",
    "fig = plt.figure(figsize=(14,5))\n",
    "ax1 = fig.add_subplot(121); ax2 = fig.add_subplot(122)\n",
    "\n",
    "#CALLS\n",
    "ax1.scatter(x, IV_market_c, marker='x', label='BS inversion', color='red')\n",
    "ax1.scatter(x, calls['C_IV'], marker='.', label='provided')\n",
    "\n",
    "#PUTS\n",
    "ax2.scatter(x, IV_market_p, marker='x', label='BS inversion', color = 'red')\n",
    "ax2.scatter(x, puts['P_IV'], marker= '.', label='provided')\n",
    "\n",
    "ax1.set_xlabel('Log Moneyness ln(S0/K)'); ax1.set_ylabel('Implied Volatility'); ax1.set_title('CALLS volatility smile')\n",
    "ax2.set_xlabel('Log Moneyness'); ax2.set_ylabel('Implied Volatility')\n",
    "ax2.set_title('PUTS volatility smile')\n",
    "ax1.legend(); ax2.legend(); plt.show()\n"
   ],
   "metadata": {
    "collapsed": false
   }
  },
  {
   "cell_type": "markdown",
   "source": [
    "Therefore, we can compute the implied volatilities taking into account the theoretical **call prices**.."
   ],
   "metadata": {
    "collapsed": false
   }
  },
  {
   "cell_type": "code",
   "execution_count": 12,
   "outputs": [
    {
     "name": "stdout",
     "output_type": "stream",
     "text": [
      "Implied volatilities found by each model for call options:\n",
      "   Strike  BlackScholes    Merton       Kou  VarianceGamma\n",
      "0   950.0           0.2  0.280271  0.306035       0.155837\n",
      "1   975.0           0.2  0.277462  0.301361       0.154906\n",
      "2  1000.0           0.2  0.274692  0.296719       0.154028\n",
      "3  1300.0           0.2  0.243429  0.242252       0.148455\n",
      "4  1350.0           0.2  0.238191  0.233221       0.148647\n",
      "5  1450.0           0.2  0.227285  0.215399       0.150283\n",
      "6  1475.0           0.2  0.224461  0.211076       0.150967\n"
     ]
    }
   ],
   "source": [
    "strikes = call_th_prices['Strike'].tolist(); IV_BS = []; IV_M = []; IV_K = []; IV_VG = []\n",
    "\n",
    "for i in range(len(call_th_prices)):\n",
    "    IV_BS.append(implied_volatility(call_th_prices['BlackScholes'].iloc[i], S=S0, strike=strikes[i], t=T, rate=r,q=q, type_o='call', method='newton') )\n",
    "    IV_M.append(implied_volatility(call_th_prices['Merton'].values[i], S=S0, strike = strikes[i], t=T, rate=r, q=q,  type_o='call', method='newton'))\n",
    "    IV_K.append(implied_volatility(call_th_prices['Kou'].values[i], S=S0, strike = strikes[i], t=T, rate=r, q=q,  type_o='call', method='newton'))\n",
    "    IV_VG.append(implied_volatility(call_th_prices['VarianceGamma'].values[i], S=S0, strike=strikes[i], t = T, rate=r, q=q, type_o='call', method='newton'))\n",
    "\n",
    "imp_vol_call = pd.DataFrame(columns=['Strike', 'BlackScholes', 'Merton', 'Kou', 'VarianceGamma'])\n",
    "imp_vol_call['Strike'] = strikes\n",
    "imp_vol_call['BlackScholes'] = IV_BS\n",
    "imp_vol_call['Merton'] = IV_M\n",
    "imp_vol_call['Kou'] = IV_K\n",
    "imp_vol_call['VarianceGamma'] = IV_VG\n",
    "\n",
    "print(f'Implied volatilities found by each model for call options:\\n{imp_vol_call.head(7)}')"
   ],
   "metadata": {
    "collapsed": false
   }
  },
  {
   "cell_type": "markdown",
   "source": [
    "... and **put prices**."
   ],
   "metadata": {
    "collapsed": false
   }
  },
  {
   "cell_type": "code",
   "execution_count": 13,
   "outputs": [
    {
     "name": "stdout",
     "output_type": "stream",
     "text": [
      "Implied volatilities found by each model for put options:\n",
      "    Strike  BlackScholes    Merton       Kou  VarianceGamma\n",
      "0  1000.0           0.2  0.274692  0.296719       0.154028\n",
      "1  1525.0           0.2  0.218715  0.202736       0.152666\n",
      "2  1550.0           0.2  0.215809  0.198768       0.153671\n",
      "3  1600.0           0.2  0.209989  0.191354       0.155956\n",
      "4  1625.0           0.2  0.207103  0.187949       0.157215\n",
      "5  1825.0           0.2  0.186602  0.169169       0.168674\n",
      "6  1850.0           0.2  0.184553  0.167844       0.170154\n"
     ]
    }
   ],
   "source": [
    "strikes = put_th_prices['Strike'].tolist(); IV_BS = []; IV_M = []; IV_K = []; IV_VG = []\n",
    "\n",
    "for i in range(len(put_prices)):\n",
    "    IV_BS.append(implied_volatility(put_th_prices['BlackScholes'].values[i], S=S0, strike=strikes[i], t=T, rate=r, q=q, type_o='put', method='newton' ) )\n",
    "    IV_M.append(implied_volatility(put_th_prices['Merton'].values[i], S=S0, strike = strikes[i], t=T, rate=r, q=q, type_o='put', method='fsolve'))\n",
    "    IV_K.append(implied_volatility(put_th_prices['Kou'].values[i], S=S0, strike = strikes[i], t=T, rate=r, q=q, type_o='put', method='fsolve'))\n",
    "    IV_VG.append(implied_volatility(put_th_prices['VarianceGamma'].values[i], S=S0, strike=strikes[i], t = T, rate=r, q=q, type_o='put', method='newton'))\n",
    "\n",
    "imp_vol_put = pd.DataFrame(columns=['Strike','BlackScholes', 'Merton', 'Kou', 'VarianceGamma'])\n",
    "imp_vol_put['Strike'] = strikes\n",
    "imp_vol_put['BlackScholes'] = IV_BS\n",
    "imp_vol_put['Merton'] = IV_M\n",
    "imp_vol_put['Kou'] = IV_K\n",
    "imp_vol_put['VarianceGamma'] = IV_VG\n",
    "\n",
    "print(f'Implied volatilities found by each model for put options:\\n {imp_vol_put.head(7)}')"
   ],
   "metadata": {
    "collapsed": false
   }
  },
  {
   "cell_type": "code",
   "execution_count": 14,
   "outputs": [
    {
     "name": "stdout",
     "output_type": "stream",
     "text": [
      "Total absolute error IV from CALLS vs IV from PUTS: \n",
      "> BS:  2.1983239045786362e-07\n",
      "> MERTON:  0.3672464513014789\n",
      "> KOU:  0.4748343323085923\n",
      "> VG:  0.15759352082176667\n"
     ]
    }
   ],
   "source": [
    "print('Total absolute error IV from CALLS vs IV from PUTS: ')\n",
    "print(f'> BS: ', np.linalg.norm(imp_vol_put['BlackScholes'] - imp_vol_call['BlackScholes'], 1))\n",
    "print(f'> MERTON: ', np.linalg.norm(imp_vol_put['Merton'] - imp_vol_call['Merton'], 1))\n",
    "print(f'> KOU: ', np.linalg.norm(imp_vol_put['Kou'] - imp_vol_call['Kou'], 1))\n",
    "print(f'> VG: ', np.linalg.norm(imp_vol_put['VarianceGamma'] - imp_vol_call['VarianceGamma'], 1))"
   ],
   "metadata": {
    "collapsed": false
   }
  },
  {
   "cell_type": "markdown",
   "source": [
    "##### Plot"
   ],
   "metadata": {
    "collapsed": false
   }
  },
  {
   "cell_type": "code",
   "execution_count": 15,
   "outputs": [
    {
     "data": {
      "text/plain": "<Figure size 1600x400 with 2 Axes>",
      "image/png": "[encoded data removed]"
     },
     "metadata": {},
     "output_type": "display_data"
    }
   ],
   "source": [
    "fig = plt.figure(figsize=(16,4))\n",
    "ax1 = fig.add_subplot(121); ax2 = fig.add_subplot(122)\n",
    "\n",
    "ax1.plot(call_strikes, call_th_prices['BlackScholes'], label=\"BS\"); ax1.plot(call_strikes, call_th_prices['Merton'], label=\"MERT\")\n",
    "ax1.plot(call_strikes, call_th_prices['Kou'], label=\"KOU\"); ax1.plot(call_strikes, call_th_prices['VarianceGamma'], label=\"VG\")\n",
    "ax1.set_title(\"Comparison of call prices\"); ax1.set_xlabel(\"Strike\"); ax1.set_ylabel(\"Price\")\n",
    "\n",
    "ax2.plot(call_strikes, imp_vol_call['BlackScholes'], label=\"BS\"); ax2.plot(call_strikes, imp_vol_call['Merton'], label=\"MERT\")\n",
    "ax2.plot(call_strikes, imp_vol_call['Kou'], label=\"KOU\"); ax2.plot(call_strikes, imp_vol_call['VarianceGamma'], label=\"VG\")\n",
    "ax2.set_title(\"Comparison of Implied volatilities\"); ax2.set_xlabel(\"Strike\"); ax2.set_ylabel(\"Imp Vol\")\n",
    "\n",
    "ax1.legend(); ax2.legend(); plt.show()"
   ],
   "metadata": {
    "collapsed": false
   }
  },
  {
   "cell_type": "markdown",
   "source": [
    "##  Calibration\n",
    "Let's step now into the calibration of model parameters.\n",
    "If we define $\\Theta$ the set of parameters, the goal is to find the optimal parameters $\\Theta^*$ that minimize the following objective function:\n",
    "$$ \\sum_{i=1}^{N} \\biggl( P_i - f(K_i|\\Theta) \\biggr)^2 $$\n",
    "where $P_i$ are the market prices and  $f$ is the pricing function. In our case $f$ is given by **Merton** Jump Diffusion model, **Kou** Jump Diffusion model, or **Variance Gamma** process. To perfrom this optimization problem, many numerical methods can be used. In oarticular, we test two functions of `scipy.optimize`:\n",
    "1. **curve_fit**, a least-squares curve fitting method which works both with and without bounds. When bounds are set it uses the [Trust Region Reflective (trf)](https://en.wikipedia.org/wiki/Trust_region) and the [Levemberg-Marquadt](https://en.wikipedia.org/wiki/Levenberg%E2%80%93Marquardt_algorithm) when they are not.\n",
    "2. **minimize(method='SLSQP')**, a constrained minimization problem which uses [Sequential Quadratic Programming](https://en.wikipedia.org/wiki/Sequential_quadratic_programming).\n",
    "First we initialize a starting point in the array $x_0 = [σ, λ, m, v]$, then we set\n"
   ],
   "metadata": {
    "collapsed": false
   },
   "outputs": []
  },
  {
   "cell_type": "markdown",
   "source": [
    "### Black and Scholes model\n",
    "The only unknown parameter to calibrate in Black and Scholes model is the **implied volatility**, $\\sigma$. Thus, we minimize the difference between the computed theoretical prices and the market prices of both call and put options."
   ],
   "metadata": {
    "collapsed": false
   }
  },
  {
   "cell_type": "code",
   "execution_count": 27,
   "outputs": [
    {
     "name": "stdout",
     "output_type": "stream",
     "text": [
      "METHOD 1: CURVE_FIT (trf)\n",
      "> Calibrated Volatility from Calls [σ] = 0.1126 \t 11.26%\n",
      "> Calibrated Volatility from Puts [σ] = 0.3414 \t 34.14%\n"
     ]
    }
   ],
   "source": [
    "x0 = 0.4\n",
    "bounds =( [0], [np.inf])\n",
    "\n",
    "# CALL OPTIONS\n",
    "def f_BlackScholes_call(x, sigm):\n",
    "    BS = BS_pricer(S0=S0, K = x, ttm=T, r=r, q=0, sigma=sigm, exercise='call')\n",
    "    return BS.closed_formula_call(x)\n",
    "\n",
    "res1_calls = scpo.curve_fit(f_BlackScholes_call, call_strikes, call_prices, p0 = x0, bounds=bounds)\n",
    "sigt_c = round(res1_calls[0][0],4)\n",
    "\n",
    "# PUT OPTIONS\n",
    "def f_BlackScholes_put(x, sigm):\n",
    "    BS = BS_pricer(S0=S0, K = x, ttm=T, r=r, q=0, sigma=sigm, exercise='put')\n",
    "    return BS.closed_formula_put(x)\n",
    "\n",
    "res1_puts = scpo.curve_fit(f_BlackScholes_put, put_strikes, put_prices, p0 = x0, bounds=bounds)\n",
    "sigt_p = round(res1_puts[0][0],4)\n",
    "\n",
    "print('METHOD 1: CURVE_FIT (trf)')\n",
    "print(f'> Calibrated Volatility from Calls [σ] = {sigt_c} \\t {round(sigt_c*100,2)}%')\n",
    "print(f'> Calibrated Volatility from Puts [σ] = {sigt_p} \\t {round(sigt_p*100,2)}%')"
   ],
   "metadata": {
    "collapsed": false
   }
  },
  {
   "cell_type": "code",
   "execution_count": 26,
   "outputs": [
    {
     "name": "stdout",
     "output_type": "stream",
     "text": [
      "> METHOD 2: MINIMIZE\n",
      "Calibrated Volatility from Calls [σ] = 0.70085, \t  70.09%\n",
      "Calibrated Volatility from Puts [σ] = 0.0, \t  0.0%\n"
     ]
    },
    {
     "name": "stderr",
     "output_type": "stream",
     "text": [
      "C:\\Users\\ornel\\OneDrive\\Desktop\\TESI\\PythonProjects\\Margin-Loans-Pricing\\python-modules\\functions\\BSpricer.py:92: RuntimeWarning: divide by zero encountered in divide\n",
      "  d1 = (np.log(self.S0 / self.K) + (self.r + self.sigma ** 2 / 2) * self.ttm) / (self.sigma * np.sqrt(self.ttm))\n",
      "C:\\Users\\ornel\\OneDrive\\Desktop\\TESI\\PythonProjects\\Margin-Loans-Pricing\\python-modules\\functions\\BSpricer.py:93: RuntimeWarning: divide by zero encountered in divide\n",
      "  d2 = (np.log(self.S0 / self.K) + (self.r - self.sigma ** 2 / 2) * self.ttm) / (self.sigma * np.sqrt(self.ttm))\n"
     ]
    }
   ],
   "source": [
    "x0 = 0.2    # initial guess: [σ, λ, m, v]\n",
    "bounds = [(0, np.inf)]\n",
    "\n",
    "# Define the objective function for calls\n",
    "def obj_function(x, strikes, prices):\n",
    "    sigm = x\n",
    "    BS = BS_pricer(S0=S0, K=strikes, ttm=T, r=r, q=0, sigma=sigm, exercise='call')\n",
    "    return np.sum((BS.closed_formula_call(K) - prices) ** 2)\n",
    "\n",
    "additional_args = (call_strikes, call_prices)\n",
    "\n",
    "res2_calls = scpo.minimize(obj_function, x0, args=additional_args, bounds=bounds, tol=1e-20)\n",
    "# print(res2_1.message)\n",
    "sigt2_c =  res2_calls.x[0]\n",
    "\n",
    "# Define the objective function for puts\n",
    "def obj_function(x, strikes, prices):\n",
    "    sigm = x\n",
    "    BS = BS_pricer(S0=S0, K=strikes, ttm=T, r=r, q=0, sigma=sigm, exercise='put')\n",
    "    return np.sum((BS.closed_formula_put(K) - prices) ** 2)\n",
    "\n",
    "additional_args = (put_strikes, put_prices)\n",
    "res2_puts = scpo.minimize(obj_function, x0, args=additional_args, bounds=bounds, tol=1e-20)\n",
    "# print(res2_1.message)\n",
    "sigt2_p =  res2_puts.x[0]\n",
    "\n",
    "\n",
    "# Print the results\n",
    "print('> METHOD 2: MINIMIZE')\n",
    "print(f'Calibrated Volatility from Calls [σ] = {round(sigt2_c, 5)}, \\t  {round(sigt2_c*100,2)}%')\n",
    "print(f'Calibrated Volatility from Puts [σ] = {round(sigt2_p, 5)}, \\t  {round(sigt2_p*100,2)}%')"
   ],
   "metadata": {
    "collapsed": false
   }
  },
  {
   "cell_type": "markdown",
   "source": [
    "### Merton Jump Diffusion\n",
    "The Merton Jump diffusion ones are the volatility $\\sigma$, the Poisson rate of jumps $\\lambda$, the mean rate of jump intensity $m$ and its variance rate $v$, assuming that the intensity of jumps follows a *Normal distribution*.\n"
   ],
   "metadata": {
    "collapsed": false
   }
  },
  {
   "cell_type": "code",
   "execution_count": null,
   "outputs": [],
   "source": [
    "x0 = [0.15, 1, 0.1, 1] # initial guess: [σ, λ, m, v]\n",
    "bounds = ( [0, 1e-2, -10, 0.1], [np.inf, np.inf, 10, 5] )\n",
    "\n",
    "def f_Mert(x, sigma, lambd, meanJ, stdJ):\n",
    "    Mert = Merton_pricer(S0=S0, K=x, ttm=T, r=r, q=0, sigma=sigma, lambd=lambd, meanJ=meanJ, stdJ=stdJ, exercise=exercise)\n",
    "    return Mert.closed_formula_call(x)\n"
   ],
   "metadata": {
    "collapsed": false
   }
  },
  {
   "cell_type": "markdown",
   "source": [
    "##### Method 1. Bounds"
   ],
   "metadata": {
    "collapsed": false
   }
  },
  {
   "cell_type": "code",
   "execution_count": null,
   "outputs": [],
   "source": [
    "res1 = scpo.curve_fit(f_Mert, call_strikes, call_prices, p0=x0, bounds=bounds)\n",
    "\n",
    "sigt = round(res1[0][0],4)\n",
    "lambdt = round(res1[0][1],2)\n",
    "mt = round(res1[0][2],2)\n",
    "vt = round(res1[0][3],5)\n",
    "\n",
    "print('METHOD 1: CURVE_FIT (trf)')\n",
    "print(f'> Calibrated Volatlity [σ] = {sigt} \\t {round(sigt*100,2)}%')\n",
    "print('> Calibrated Jump intensity [λ] = ', lambdt)\n",
    "print('> Calibrated Jump Mean = ', mt)\n",
    "print('> Calibrated Jump St. dev.  = ', vt)"
   ],
   "metadata": {
    "collapsed": false
   }
  },
  {
   "cell_type": "markdown",
   "source": [
    "##### Method 1. No bounds"
   ],
   "metadata": {
    "collapsed": false
   }
  },
  {
   "cell_type": "code",
   "execution_count": null,
   "outputs": [],
   "source": [
    "res1_2 = scpo.curve_fit(f_Mert, call_strikes, call_prices, p0=x0)\n",
    "\n",
    "sigt2 = round(res1_2[0][0],4)\n",
    "lambdt2 = round(res1_2[0][1],2)\n",
    "mt2 = round(res1_2[0][2],2)\n",
    "vt2 = round(res1_2[0][3],5)\n",
    "\n",
    "print('METHOD 1.2: CURVE_FIT (Levemberg-Marquadt, no bounds)')\n",
    "print(f'> Calibrated Volatlity [σ] = {sigt2} \\t {round(sigt2*100,2)}%')\n",
    "print('> Calibrated Jump intensity [λ] = ', lambdt2)\n",
    "print('> Calibrated Jump Mean = ', mt2)\n",
    "print('> Calibrated Jump St. dev.  = ', vt2)"
   ],
   "metadata": {
    "collapsed": false
   }
  },
  {
   "cell_type": "markdown",
   "source": [
    "##### Method 2. Bounds"
   ],
   "metadata": {
    "collapsed": false
   }
  },
  {
   "cell_type": "code",
   "execution_count": null,
   "outputs": [],
   "source": [
    "x0 = [0.3, 0.8, -0.3, 0.4]      # initial guess: [σ, λ, m, v]\n",
    "bounds = [(1e-6, 10), (0, 20), (-10, 10),  (0, 15)]\n",
    "\n",
    "# Define the objective function\n",
    "def obj_function(x, strikes, prices):\n",
    "    sigm, lamb, mean, std = x\n",
    "    Mert = Merton_pricer(S0=S0, K=strikes, ttm=T, r=r, q=0, sigma=sigm, lambd=lamb, meanJ=mean, stdJ=std, exercise=exercise)\n",
    "    return np.sum((Mert.closed_formula_call(K) - prices) ** 2)\n",
    "\n",
    "additional_args = (call_strikes, call_prices)\n",
    "\n",
    "print('> METHOD 2: MINIMIZE (SLSQP)')\n",
    "res2_1 = scpo.minimize(obj_function, x0, args=additional_args,  method='SLSQP', bounds=bounds, tol=1e-20)\n",
    "print(res2_1.message)\n",
    "sigt3, lambdt3, mt3, vt3 = res2_1.x\n",
    "\n",
    "# Print the results\n",
    "print(f'Calibrated Volatility [σ] = {round(sigt3, 5)}, \\t  {round(sigt3*100,2)}%')\n",
    "print('Calibrated Jump Intensity [λ] =', round(lambdt3, 2))\n",
    "print('Calibrated Jump Mean [m] =', round(mt3, 2))\n",
    "print('Calibrated Jump St. dev. [v] =', round(vt3, 2))\n",
    "\n",
    "\n",
    "print('\\n> METHOD 2: MINIMIZE (trust-constr)')\n",
    "res2_2 = scpo.minimize(obj_function, x0, args=additional_args,  method='trust-constr', bounds=bounds, tol=1e-20)\n",
    "print(res2_1.message)\n",
    "sigt4, lambdt4, mt4, vt4 = res2_2.x\n",
    "\n",
    "# Print the results\n",
    "print(f'Calibrated Volatility [σ] = {round(sigt4, 5)}, \\t  {round(sigt4*100,2)}%')\n",
    "print('Calibrated Jump Intensity [λ] =', round(lambdt4, 2))\n",
    "print('Calibrated Jump Mean [m] =', round(mt4, 2))\n",
    "print('Calibrated Jump St. dev. [v] =', round(vt4, 2))"
   ],
   "metadata": {
    "collapsed": false
   }
  },
  {
   "cell_type": "code",
   "execution_count": null,
   "outputs": [],
   "source": [
    "mert_params = [sigt, lambdt, mt, vt]\n",
    "print(mert_params)"
   ],
   "metadata": {
    "collapsed": false
   }
  },
  {
   "cell_type": "markdown",
   "source": [
    "### Kou Jump Diffusion"
   ],
   "metadata": {
    "collapsed": false
   }
  },
  {
   "cell_type": "code",
   "execution_count": null,
   "outputs": [],
   "source": [
    "x0 = [0.1, 0.5, 0.4, 5, 5] # initial guess: [σ, λ, p, η_1, η_2]\n",
    "bounds = ( [0, 0, 0, 0, 0], [4, 10, 0.9,  10, 10] )\n",
    "\n",
    "def f_Kou(x, sigma, lambd, p, eta1, eta2):\n",
    "    KouJD = Kou_pricer(S0=S0, K=x, ttm=T, r=r, sigma=sigma, lambd=lambd, p=p, eta1=eta1, eta2=eta2, exercise=exercise)\n",
    "    return KouJD.closed_formula_call(x)"
   ],
   "metadata": {
    "collapsed": false
   }
  },
  {
   "cell_type": "markdown",
   "source": [
    "##### Method 1. TRF (Bounds)"
   ],
   "metadata": {
    "collapsed": false
   }
  },
  {
   "cell_type": "code",
   "execution_count": null,
   "outputs": [],
   "source": [
    "res1 = scpo.curve_fit(f_Kou, call_strikes, call_prices, p0=x0, bounds=bounds)\n",
    "\n",
    "sigt = round(res1[0][0],5)\n",
    "lambdt = round(res1[0][1],2)\n",
    "pt = round(res1[0][2],2)\n",
    "eta1_t = round(res1[0][3],1)\n",
    "eta2_t = round(res1[0][4],1)\n",
    "\n",
    "print('METHOD 1: CURVE_FIT (trf)')\n",
    "print(f'> Calibrated Volatlity [σ] = {sigt} \\t {round(sigt*100,2)}%')\n",
    "print('> Calibrated Jump intensity [λ] = ', lambdt)\n",
    "print(f'> Calibrated Upward Jump probability [p] = {pt}, [q] = {round(1-pt,2)}')\n",
    "print('> Calibrated Rate of Exp. 1  [η_1] = ', eta1_t)\n",
    "print('> Calibrated Rate of Exp. 2  [η_2] = ', eta2_t)"
   ],
   "metadata": {
    "collapsed": false
   }
  },
  {
   "cell_type": "markdown",
   "source": [
    "##### Method 2. Bounds"
   ],
   "metadata": {
    "collapsed": false
   }
  },
  {
   "cell_type": "code",
   "execution_count": null,
   "outputs": [],
   "source": [
    "x0 = [0.1, 0.5, 0.5, 8, 4] # initial guess: [σ, λ, p, η_1, η_2]\n",
    "bounds = [(0, 4), (0, 10), (0, 1),  (1e-6, 10), (1e-6,10)]\n",
    "\n",
    "# Define the objective function\n",
    "def obj_function(x, strikes, prices):\n",
    "    sigm, lamb, p, eta1, eta2 = x\n",
    "    KouJD = Kou_pricer(S0=S0, K=strikes, ttm=T, r=r, sigma=sigm, lambd=lamb, p=p, eta1=eta1, eta2=eta2, exercise=exercise)\n",
    "    return np.sum((KouJD.closed_formula_call(K) - prices) ** 2)\n",
    "\n",
    "additional_args = (call_strikes, call_prices)\n",
    "\n",
    "res2 = scpo.minimize(obj_function, x0, args=additional_args,  method='SLSQP', bounds=bounds, tol=1e-20)\n",
    "print('METHOD 2: MINIMIZE (SLSQP)'); print(f'message: {res2.message}\\nsuccess:{res2.success}')\n",
    "\n",
    "sigt2, lambdt2, pt2, eta1_t2, eta2_t2 = res2.x\n",
    "\n",
    "print(f'> Calibrated Volatlity [σ] = {round(sigt2,4)} \\t {round(sigt2*100,2)}%')\n",
    "print('> Calibrated Jump intensity [λ] = ', round(lambdt2,2))\n",
    "print(f'> Calibrated Upward Jump probability [p] = {round(pt2,2)}, [q] = {round(1-pt2,2)}')\n",
    "print('> Calibrated Rate of Exp. 1  [η_1] = ', round(eta1_t2,2))\n",
    "print('> Calibrated Rate of Exp. 2  [η_2] = ', round(eta2_t2,2))\n",
    "\n",
    "res3 = scpo.minimize(obj_function, x0, args=additional_args,  method='trust-constr', bounds=bounds, tol=1e-20)\n",
    "print('METHOD 2: MINIMIZE (trust-constr)'); print(f'message: {res3.message}\\nsuccess:{res3.success}')\n",
    "\n",
    "sigt3, lambdt3, pt3, eta1_t3, eta2_t3 = res3.x\n",
    "\n",
    "print(f'> Calibrated Volatlity [σ] = {round(sigt3,4)} \\t {round(sigt3*100,2)}%')\n",
    "print('> Calibrated Jump intensity [λ] = ', round(lambdt3,2))\n",
    "print(f'> Calibrated Upward Jump probability [p] = {round(pt3,2)}, [q] = {round(1-pt3,2)}')\n",
    "print('> Calibrated Rate of Exp. 1  [η_1] = ', round(eta1_t3,2))\n",
    "print('> Calibrated Rate of Exp. 2  [η_2] = ', round(eta2_t3,2))"
   ],
   "metadata": {
    "collapsed": false
   }
  },
  {
   "cell_type": "markdown",
   "source": [
    "The following code snippet samples a subset of observations in order to speed up the estimation of parameters in Kou's model."
   ],
   "metadata": {
    "collapsed": false
   }
  },
  {
   "cell_type": "code",
   "execution_count": null,
   "outputs": [],
   "source": [
    "# # Sample of rows of the call dataframe\n",
    "# call_resized = calls.sample(n=6).sort_index()\n",
    "# c_strikes_resized = call_resized['STRIKE']\n",
    "# c_prices_resized = call_resized['C_Midpoint']\n",
    "#\n",
    "# x0 = [0.1, 0.5, 0.5, 8, 4] # initial guess: [σ, λ, p, η_1, η_2]\n",
    "#\n",
    "# bounds1 = ( [0, 0, 0, 1e-9, 1e-9], [4, 10, 1,  10, 10] )\n",
    "# res1 = scpo.curve_fit(f_Kou, c_strikes_resized, c_prices_resized, p0=x0, bounds=bounds1)\n",
    "# print(res1[0])\n",
    "#\n",
    "# bounds2 = [(0, 4), (0, 10), (0, 1),  (1e-9, 20), (1e-9,20)]\n",
    "# additional_args = (c_strikes_resized, c_prices_resized)\n",
    "# res2 = scpo.minimize(obj_function, x0, args=additional_args,  method='SLSQP', bounds=bounds2, tol=1e-20)\n",
    "# print(res2)"
   ],
   "metadata": {
    "collapsed": false
   }
  },
  {
   "cell_type": "markdown",
   "source": [],
   "metadata": {
    "collapsed": false
   }
  },
  {
   "cell_type": "code",
   "execution_count": null,
   "outputs": [],
   "source": [
    "kou_params = [sigt, lambdt, pt, eta1_t, eta2_t]\n",
    "print(kou_params)"
   ],
   "metadata": {
    "collapsed": false
   }
  },
  {
   "cell_type": "markdown",
   "source": [
    "### Variance Gamma\n"
   ],
   "metadata": {
    "collapsed": false
   }
  },
  {
   "cell_type": "code",
   "execution_count": null,
   "outputs": [],
   "source": [
    "x0 = [0.2, -0.05, 0.1]   # initial guess: [σ, θ, v]\n",
    "bounds = ( [1e-2, -10, 0], [5, 10, 20] )"
   ],
   "metadata": {
    "collapsed": false
   }
  },
  {
   "cell_type": "markdown",
   "source": [
    "##### Method 1. Bounds (TRF)"
   ],
   "metadata": {
    "collapsed": false
   }
  },
  {
   "cell_type": "code",
   "execution_count": null,
   "outputs": [],
   "source": [
    "def f_VG(strikes, sigmax, thetax, nux):\n",
    "    VGamma = VG_pricer(S0=S0, K=None, ttm=T, r=r, q=0, sigma=sigmax, theta=thetax, nu=nux, exercise=exercise)\n",
    "    vg_prices = []\n",
    "    for k in strikes:\n",
    "        vg_prices.append(VGamma.closed_formula_call(k))\n",
    "    return vg_prices\n",
    "\n",
    "res1 = scpo.curve_fit(f_VG, call_strikes, call_prices, p0=x0, bounds=bounds)\n",
    "\n",
    "sigt = round(res1[0][0],5)\n",
    "thetat = round(res1[0][1],2)\n",
    "nut = round(res1[0][2],2)\n",
    "\n",
    "print('METHOD 1: CURVE_FIT (trf)');\n",
    "print(f'> Calibrated Volatlity [σ] = {sigt}, \\t {round(sigt*100,2)}%')\n",
    "print('> Calibrated mean rate gamma process [θ] = ', thetat)\n",
    "print('> Calibrated variance rate gamma process [v]= ', nut)"
   ],
   "metadata": {
    "collapsed": false
   }
  },
  {
   "cell_type": "markdown",
   "source": [
    "##### Method 2. Bounds"
   ],
   "metadata": {
    "collapsed": false
   }
  },
  {
   "cell_type": "code",
   "execution_count": null,
   "outputs": [],
   "source": [
    "bounds2 = [(1e-9, 5), (-4, np.inf), (0, np.inf)]\n",
    "\n",
    "# Define the objective function\n",
    "def obj_function(x, strikes, prices):\n",
    "    sigm, theta, nu = x\n",
    "    VGx = VG_pricer(S0=S0, K=strikes, ttm=T, r=r, q=0, sigma=sigm, theta=theta, nu=nu, exercise=exercise)\n",
    "    return np.sum((VGx.closed_formula_call(K) - prices) ** 2)\n",
    "\n",
    "additional_args = (call_strikes, call_prices)\n",
    "\n",
    "# METHOD SEQUENTIAL LEAST SQUARES\n",
    "res2 = scpo.minimize(obj_function, x0, args=additional_args,  method='SLSQP', bounds=bounds2, tol=1e-20)\n",
    "print('METHOD 2: MINIMIZE (SLSQP)'); print(f'message: {res2.message}\\nsuccess: {res2.success}')\n",
    "sigt2, thetat2, nut2 = res2.x\n",
    "\n",
    "# Print the results\n",
    "print(f'> Calibrated Volatlity [σ] = {round(sigt2,4)} \\t {round(sigt2*100, 2)}%')\n",
    "print('> Calibrated mean rate gamma process [θ] = ', round(thetat2, 2))\n",
    "print('> Calibrated variance rate gamma process [v]= ', round(nut2,2))\n",
    "\n",
    "# METHOD TRUST REGION CONSTRAINED\n",
    "res3 = scpo.minimize(obj_function, x0, args=additional_args,  method='trust-constr', bounds=bounds2, tol=1e-20)\n",
    "print('METHOD 2: MINIMIZE (trust-constr)'); print(f'message: {res3.message}\\nsuccess: {res3.success}')\n",
    "sigt3, thetat3, nut3 = res3.x\n",
    "\n",
    "# Print the results\n",
    "print(f'> Calibrated Volatlity [σ] = {round(sigt3,4)} \\t {round(sigt3*100,2)}%')\n",
    "print('> Calibrated mean rate gamma process [θ] = ', round(thetat3,2))\n",
    "print('> Calibrated variance rate gamma process [v]= ', round(nut3,2))"
   ],
   "metadata": {
    "collapsed": false
   }
  },
  {
   "cell_type": "markdown",
   "source": [
    "##### Method 1 using FFT prices"
   ],
   "metadata": {
    "collapsed": false
   }
  },
  {
   "cell_type": "code",
   "execution_count": null,
   "outputs": [],
   "source": [
    "def f_VG_fft(strikes, sigmax, thetax, nux):\n",
    "    VGamma = VG_pricer(S0=S0, K=None, ttm=T, r=r, q=0, sigma=sigmax, theta=thetax, nu=nux, exercise=exercise)\n",
    "    return VGamma.FFT_call(strikes)\n",
    "\n",
    "res4 = scpo.curve_fit(f_VG_fft, call_strikes, call_prices, p0=x0, bounds=bounds)\n",
    "\n",
    "sigt4 = round(res1[0][0],5)\n",
    "thetat4 = round(res1[0][1],2)\n",
    "nut4 = round(res1[0][2],2)\n",
    "\n",
    "print('METHOD 1: CURVE_FIT (trf)')\n",
    "print(f'> Calibrated Volatlity [σ] = {round(sigt4,4)} \\t {round(sigt4*100,2)}%')\n",
    "print('> Calibrated mean rate gamma process [θ] = ', thetat4)\n",
    "print('> Calibrated variance rate gamma process [v]= ', nut4)"
   ],
   "metadata": {
    "collapsed": false
   }
  },
  {
   "cell_type": "code",
   "execution_count": null,
   "outputs": [],
   "source": [
    "vg_params = [sigt, thetat, nut]\n",
    "print(vg_params)"
   ],
   "metadata": {
    "collapsed": false
   }
  },
  {
   "cell_type": "markdown",
   "source": [
    "## Weighted calibration\n",
    "Considering the original formula of the calibration, we can add a weight parameter $w_i$ that allows to give more importance to the market prices with smaller spread. Thus, the optimization objective function  becomes:\n",
    "$$ \\sum_{i=1}^{N} w_i \\biggl( P_i - f(K_i|\\Theta) \\biggr)^2 $$\n",
    "where $w_i$ are weights, usually defined as\n",
    "$$ w_i = \\frac{1}{\\text {spread}_i }$$\n"
   ],
   "metadata": {
    "collapsed": false
   }
  },
  {
   "cell_type": "code",
   "execution_count": 29,
   "outputs": [],
   "source": [
    "spreads = calls['C_Spread']\n",
    "#for a, b, c in zip(call_strikes, call_prices, spreads):\n",
    "#    print(a, b,c )"
   ],
   "metadata": {
    "collapsed": false
   }
  },
  {
   "cell_type": "markdown",
   "source": [
    "### Black and Scholes"
   ],
   "metadata": {
    "collapsed": false
   }
  },
  {
   "cell_type": "code",
   "execution_count": 30,
   "outputs": [
    {
     "name": "stdout",
     "output_type": "stream",
     "text": [
      "METHOD 1: CURVE_FIT (trf)\n",
      "> Calibrated Volatility from Calls [σ] = 0.1139 \t 11.39%\n",
      "> Calibrated Volatility from Puts [σ] = 0.4164 \t 41.64%\n"
     ]
    }
   ],
   "source": [
    "x0 = 0.4\n",
    "bounds =( [0], [np.inf])\n",
    "\n",
    "# CALL OPTIONS\n",
    "def f_BlackScholes_call(x, sigm):\n",
    "    BS = BS_pricer(S0=S0, K = x, ttm=T, r=r, q=0, sigma=sigm, exercise='call')\n",
    "    return BS.closed_formula_call(x)\n",
    "\n",
    "res1_calls = scpo.curve_fit(f_BlackScholes_call, call_strikes, call_prices, p0 = x0, bounds=bounds, sigma= spreads)\n",
    "sigw_c = round(res1_calls[0][0],4)\n",
    "\n",
    "# PUT OPTIONS\n",
    "def f_BlackScholes_put(x, sigm):\n",
    "    BS = BS_pricer(S0=S0, K = x, ttm=T, r=r, q=0, sigma=sigm, exercise='put')\n",
    "    return BS.closed_formula_put(x)\n",
    "\n",
    "res1_puts = scpo.curve_fit(f_BlackScholes_put, put_strikes, put_prices, p0 = x0, bounds=bounds, sigma = spreads)\n",
    "sigw_p = round(res1_puts[0][0],4)\n",
    "\n",
    "print('METHOD 1: CURVE_FIT (trf)')\n",
    "print(f'> Calibrated Volatility from Calls [σ] = {sigw_c} \\t {round(sigw_c*100,2)}%')\n",
    "print(f'> Calibrated Volatility from Puts [σ] = {sigw_p} \\t {round(sigw_p*100,2)}%')"
   ],
   "metadata": {
    "collapsed": false
   }
  },
  {
   "cell_type": "markdown",
   "source": [
    "### Merton Jump diffusion"
   ],
   "metadata": {
    "collapsed": false
   }
  },
  {
   "cell_type": "code",
   "execution_count": 31,
   "outputs": [],
   "source": [
    "# using call prices\n",
    "def f_Mert(x, sigma, lambd, meanJ, stdJ):\n",
    "    Mert = Merton_pricer(S0=S0, K=x, ttm=T, r=r, q=0, sigma=sigma, lambd=lambd, meanJ=meanJ, stdJ=stdJ, exercise=exercise)\n",
    "    return Mert.closed_formula_call(x)\n",
    "\n",
    "x0 = [0.15, 1, 0.1, 1] # initial guess: [σ, λ, m, v]\n",
    "bounds = ( [0, 1e-2, -10, 0.1], [np.inf, np.inf, 10, 5] )\n",
    "mert_params2 = scpo.curve_fit(f_Mert, call_strikes, call_prices, p0=x0, bounds=bounds, sigma=spreads)"
   ],
   "metadata": {
    "collapsed": false
   }
  },
  {
   "cell_type": "code",
   "execution_count": null,
   "outputs": [],
   "source": [
    "sigw = round(mert_params2[0][0],4)\n",
    "lambdw = round(mert_params2[0][1],2)\n",
    "mw = round(mert_params2[0][2],2)\n",
    "vw = round(mert_params2[0][3],5)\n",
    "\n",
    "print('WEIGHTED OPT: CURVE_FIT (trf)')\n",
    "print(f'> Calibrated Volatlity [σ] = {sigw} \\t {sigw*100}%')\n",
    "print('> Calibrated Jump intensity [λ] = ', lambdw)\n",
    "print('> Calibrated Jump Mean = ', mw)\n",
    "print('> Calibrated Jump St. dev.  = ', vw)\n",
    "\n",
    "mert_params2 = [sigw, lambdw, mw, vw]"
   ],
   "metadata": {
    "collapsed": false
   }
  },
  {
   "cell_type": "code",
   "execution_count": 34,
   "outputs": [
    {
     "name": "stdout",
     "output_type": "stream",
     "text": [
      "[0.1132, 0.01, 0.07, 0.10001]\n"
     ]
    }
   ],
   "source": [
    "print(mert_params2)"
   ],
   "metadata": {
    "collapsed": false
   }
  },
  {
   "cell_type": "markdown",
   "source": [
    "### Kou Jump Diffusion"
   ],
   "metadata": {
    "collapsed": false
   }
  },
  {
   "cell_type": "code",
   "execution_count": 35,
   "outputs": [],
   "source": [
    "def f_Kou(x, sigma, lambd, p, eta1, eta2):\n",
    "    KouJD = Kou_pricer(S0=S0, K=x, ttm=T, r=r, sigma=sigma, lambd=lambd, p=p, eta1=eta1, eta2=eta2, exercise=exercise)\n",
    "    return KouJD.closed_formula_call(x)\n",
    "\n",
    "x0 = [0.1, 0.5, 0.4, 5, 5] # initial guess: [σ, λ, p, η_1, η_2]\n",
    "bounds = ( [0, 0, 0, 0, 0], [4, 10, 0.9,  10, 10] )\n",
    "kou_params2 = scpo.curve_fit(f_Kou, call_strikes, call_prices, p0=x0, bounds=bounds, sigma=spreads)"
   ],
   "metadata": {
    "collapsed": false
   }
  },
  {
   "cell_type": "code",
   "execution_count": 36,
   "outputs": [
    {
     "name": "stdout",
     "output_type": "stream",
     "text": [
      "WEIGHTED OPT: CURVE_FIT (trf)\n",
      "> Calibrated Volatlity [σ] = 0.11389 \t 11.389000000000001%\n",
      "> Calibrated Jump intensity [λ] =  0.0\n",
      "> Calibrated Upward Jump probability [p] = 0.9, [q] = 0.1\n",
      "> Calibrated Rate of Exp. 1  [η_1] =  9.4\n",
      "> Calibrated Rate of Exp. 2  [η_2] =  1.7\n",
      "[0.11389, 0.0, 0.9, 9.4, 1.7]\n"
     ]
    }
   ],
   "source": [
    "sigw = round(kou_params2[0][0],5)\n",
    "lambdw = round(kou_params2[0][1],2)\n",
    "pw = round(kou_params2[0][2],2)\n",
    "eta1_w = round(kou_params2[0][3],1)\n",
    "eta2_w = round(kou_params2[0][4],1)\n",
    "\n",
    "print('WEIGHTED OPT: CURVE_FIT (trf)')\n",
    "print(f'> Calibrated Volatlity [σ] = {sigw} \\t {sigw*100}%')\n",
    "print('> Calibrated Jump intensity [λ] = ', lambdw)\n",
    "print(f'> Calibrated Upward Jump probability [p] = {pw}, [q] = {round(1-pw,2)}')\n",
    "print('> Calibrated Rate of Exp. 1  [η_1] = ', eta1_w)\n",
    "print('> Calibrated Rate of Exp. 2  [η_2] = ', eta2_w)\n",
    "\n",
    "kou_params2 = [sigw, lambdw, pw, eta1_w, eta2_w]\n",
    "print(kou_params2)"
   ],
   "metadata": {
    "collapsed": false
   }
  },
  {
   "cell_type": "markdown",
   "source": [
    "### Variance Gamma"
   ],
   "metadata": {
    "collapsed": false
   }
  },
  {
   "cell_type": "code",
   "execution_count": 37,
   "outputs": [
    {
     "name": "stderr",
     "output_type": "stream",
     "text": [
      "C:\\Users\\ornel\\OneDrive\\Desktop\\TESI\\PythonProjects\\Margin-Loans-Pricing\\python-modules\\functions\\VGpricer.py:50: RuntimeWarning: overflow encountered in exp\n",
      "  f = lambda u: ss.norm.cdf(a / np.sqrt(u) + b * np.sqrt(u)) * np.exp((g - 1) * np.log(u)) * np.exp(\n",
      "C:\\Users\\ornel\\OneDrive\\Desktop\\TESI\\PythonProjects\\Margin-Loans-Pricing\\python-modules\\functions\\VGpricer.py:50: RuntimeWarning: invalid value encountered in scalar divide\n",
      "  f = lambda u: ss.norm.cdf(a / np.sqrt(u) + b * np.sqrt(u)) * np.exp((g - 1) * np.log(u)) * np.exp(\n",
      "C:\\Users\\ornel\\OneDrive\\Desktop\\TESI\\PythonProjects\\Margin-Loans-Pricing\\python-modules\\functions\\VGpricer.py:50: RuntimeWarning: invalid value encountered in scalar multiply\n",
      "  f = lambda u: ss.norm.cdf(a / np.sqrt(u) + b * np.sqrt(u)) * np.exp((g - 1) * np.log(u)) * np.exp(\n",
      "C:\\Users\\ornel\\OneDrive\\Desktop\\TESI\\PythonProjects\\Margin-Loans-Pricing\\python-modules\\functions\\VGpricer.py:52: IntegrationWarning: The maximum number of subdivisions (50) has been achieved.\n",
      "  If increasing the limit yields no improvement it is advised to analyze \n",
      "  the integrand in order to determine the difficulties.  If the position of a \n",
      "  local difficulty can be determined (singularity, discontinuity) one will \n",
      "  probably gain from splitting up the interval and calling the integrator \n",
      "  on the subranges.  Perhaps a special-purpose integrator should be used.\n",
      "  result = quad(f, 0, np.inf)\n",
      "C:\\Users\\ornel\\OneDrive\\Desktop\\TESI\\PythonProjects\\Margin-Loans-Pricing\\python-modules\\functions\\VGpricer.py:52: IntegrationWarning: The occurrence of roundoff error is detected, which prevents \n",
      "  the requested tolerance from being achieved.  The error may be \n",
      "  underestimated.\n",
      "  result = quad(f, 0, np.inf)\n"
     ]
    }
   ],
   "source": [
    "def f_VG(strikes, sigmax, thetax, nux):\n",
    "    VGamma = VG_pricer(S0=S0, K=None, ttm=T, r=r, q=0, sigma=sigmax, theta=thetax, nu=nux, exercise=exercise)\n",
    "    vg_prices = []\n",
    "    for k in strikes:\n",
    "        vg_prices.append(VGamma.closed_formula_call(k))\n",
    "    return vg_prices\n",
    "\n",
    "x0 = [0.2, -0.05, 0.1]   # initial guess: [σ, θ, v]\n",
    "bounds = ( [1e-2, -10, 0], [5, 10, 20] )\n",
    "vg_params2 = scpo.curve_fit(f_VG, call_strikes, call_prices, p0=x0, bounds=bounds, sigma=spreads)"
   ],
   "metadata": {
    "collapsed": false
   }
  },
  {
   "cell_type": "code",
   "execution_count": 38,
   "outputs": [
    {
     "name": "stdout",
     "output_type": "stream",
     "text": [
      "WEIGHTED OPT: CURVE_FIT (trf)\n",
      "> Calibrated Volatlity [σ] = 0.09033, \t 9.03%\n",
      "> Calibrated mean rate gamma process [θ] =  -0.56\n",
      "> Calibrated variance rate gamma process [v]=  0.01\n"
     ]
    }
   ],
   "source": [
    "sigw = round(vg_params2[0][0],5)\n",
    "thetaw = round(vg_params2[0][1],2)\n",
    "nuw = round(vg_params2[0][2],2)\n",
    "\n",
    "print('WEIGHTED OPT: CURVE_FIT (trf)')\n",
    "print(f'> Calibrated Volatlity [σ] = {sigw}, \\t {round(sigw*100,2)}%')\n",
    "print('> Calibrated mean rate gamma process [θ] = ', thetaw)\n",
    "print('> Calibrated variance rate gamma process [v]= ', nuw)\n",
    "\n",
    "vg_params2 = [sigw, thetaw, nuw]"
   ],
   "metadata": {
    "collapsed": false
   }
  },
  {
   "cell_type": "code",
   "execution_count": 39,
   "outputs": [
    {
     "name": "stdout",
     "output_type": "stream",
     "text": [
      "[0.09033, -0.56, 0.01]\n"
     ]
    }
   ],
   "source": [
    "print(vg_params2)"
   ],
   "metadata": {
    "collapsed": false
   }
  },
  {
   "cell_type": "code",
   "execution_count": null,
   "outputs": [],
   "source": [],
   "metadata": {
    "collapsed": false
   }
  }
 ],
 "metadata": {
  "kernelspec": {
   "display_name": "Python 3",
   "language": "python",
   "name": "python3"
  },
  "language_info": {
   "codemirror_mode": {
    "name": "ipython",
    "version": 2
   },
   "file_extension": ".py",
   "mimetype": "text/x-python",
   "name": "python",
   "nbconvert_exporter": "python",
   "pygments_lexer": "ipython2",
   "version": "2.7.6"
  }
 },
 "nbformat": 4,
 "nbformat_minor": 0
}
