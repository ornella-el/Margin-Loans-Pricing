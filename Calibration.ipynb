{
 "cells": [
  {
   "cell_type": "markdown",
   "source": [
    "## Calibration of model parameters (BLACK and SCHOLES, MERTON)\n",
    "The **Implied Volatility** is that value $\\\\sigma$ that must be inserted into the Black-Scholes (BS) formula in order to retrieve the option price quoted in the market:\n",
    "$$ BS(S, K, T, r, \\sigma) = P  $$\n",
    "where $S$ is the underlying spot price, $K$ is the strike, $T$ time to maturity, $r$ risk-free interest rate and $P$ the option price quoted in the market. All these quantities are **observable**.\n"
   ],
   "metadata": {
    "collapsed": false
   }
  },
  {
   "cell_type": "code",
   "execution_count": 1,
   "metadata": {
    "collapsed": true
   },
   "outputs": [],
   "source": [
    "from functions.MERTONpricer import Merton_pricer\n",
    "from functions.BSpricer import BS_pricer\n",
    "from functions.KOUpricer import Kou_pricer\n",
    "\n",
    "import numpy as np\n",
    "import pandas as pd\n",
    "import scipy as scp\n",
    "import scipy.stats as ss\n",
    "import scipy.optimize as scpo\n"
   ]
  },
  {
   "cell_type": "markdown",
   "source": [
    "Let's retrieve the historic prices for european call and put options starting from 2016-01-20 and expiring 1 year later."
   ],
   "metadata": {
    "collapsed": false
   }
  },
  {
   "cell_type": "code",
   "execution_count": 2,
   "outputs": [],
   "source": [
    "df_call = pd.read_csv('data/options_spx_call_2016.csv')\n",
    "df_put = pd.read_csv('data/options_spx_put_2016.csv')\n",
    "\n",
    "df_call['C_Midpoint'] = abs(df_call['C_BID'] + df_call['C_ASK']) / 2\n",
    "df_put['P_Midpoint'] = abs(df_put['P_BID'] + df_put['P_ASK']) / 2\n",
    "df_call['C_Spread'] = df_call['C_BID'] - df_call['C_ASK']\n",
    "df_put['P_Spread'] = df_put['P_BID'] - df_put['P_ASK']\n",
    "\n",
    "r = 0.1\n",
    "sigma = 0.5\n",
    "S0 = df_call.iloc[0]['UNDERLYING_LAST']\n",
    "T = 1\n",
    "call_strikes = df_call['STRIKE']    # array of K\n",
    "put_strikes = df_put['STRIKE']\n",
    "exercise = 'european'\n",
    "\n",
    "call_prices = df_call['C_Midpoint']\n",
    "put_prices = df_put['P_Midpoint']"
   ],
   "metadata": {
    "collapsed": false
   }
  },
  {
   "cell_type": "markdown",
   "source": [
    "Let's initialize an object of class BS_pricer which is able to find the theoretical price of the options, given the parameters."
   ],
   "metadata": {
    "collapsed": false
   }
  },
  {
   "cell_type": "code",
   "execution_count": 3,
   "outputs": [
    {
     "name": "stdout",
     "output_type": "stream",
     "text": [
      "Theoretical call options prices:\n",
      "    BlackScholes      Merton         Kou\n",
      "0     519.267776  621.720722  545.888779\n",
      "1     506.924480  610.291830  533.846489\n",
      "2     494.841442  599.052799  522.044610\n",
      "3     483.015579  588.001572  510.480268\n",
      "4     471.443681  577.136062  499.150498\n",
      "5     460.122426  566.454151  488.052252\n",
      "6     449.048389  555.953702  477.182409\n",
      "7     438.218057  545.632552  466.537785\n",
      "8     427.627837  535.488521  456.115137\n",
      "9     417.274071  525.519413  445.911177\n",
      "10    407.153041  515.723016  435.922576\n",
      "11    397.260982  506.097111  426.145970\n",
      "12    387.594089  496.639464  416.577970\n",
      "13    378.148525  487.347840  407.215165\n"
     ]
    }
   ],
   "source": [
    "BS = BS_pricer(S0=S0, r=r, sigma=sigma, ttm=T, exercise=exercise, K=None)\n",
    "Merton = Merton_pricer(S0=S0, K=None, ttm=T, r=r, sigma=sigma, lambd=0.8, meanJ=0.6, stdJ=0.2, exercise=exercise)\n",
    "Kou = Kou_pricer(S0=S0, K=None, ttm=T, r=r, sigma=sigma, lambd=1, p=0.4, eta1=10, eta2=5, exercise=exercise)\n",
    "\n",
    "call_th_prices = pd.DataFrame(columns=['BlackScholes', 'Merton', 'Kou'])\n",
    "\n",
    "for i, K in enumerate(call_strikes):\n",
    "    bs = BS.closed_formula_call(K)\n",
    "    mert = Merton.closed_formula_call(K)\n",
    "    kou = Kou.closed_formula_call(K)\n",
    "    call_th_prices.loc[i] = [bs, mert, kou]\n",
    "\n",
    "print(f'Theoretical call options prices:')\n",
    "print(call_th_prices)\n"
   ],
   "metadata": {
    "collapsed": false
   }
  },
  {
   "cell_type": "markdown",
   "source": [
    "PUT PRICES:"
   ],
   "metadata": {
    "collapsed": false
   }
  },
  {
   "cell_type": "code",
   "execution_count": 4,
   "outputs": [
    {
     "name": "stdout",
     "output_type": "stream",
     "text": [
      "Theoretical call options prices:\n",
      "    BlackScholes      Merton         Kou\n",
      "0     519.267776  621.720722  545.888779\n",
      "1     506.924480  610.291830  533.846489\n",
      "2     494.841442  599.052799  522.044610\n",
      "3     483.015579  588.001572  510.480268\n",
      "4     471.443681  577.136062  499.150498\n",
      "5     460.122426  566.454151  488.052252\n",
      "6     449.048389  555.953702  477.182409\n",
      "7     438.218057  545.632552  466.537785\n",
      "8     427.627837  535.488521  456.115137\n",
      "9     417.274071  525.519413  445.911177\n",
      "10    407.153041  515.723016  435.922576\n",
      "11    397.260982  506.097111  426.145970\n",
      "12    387.594089  496.639464  416.577970\n",
      "13    378.148525  487.347840  407.215165\n"
     ]
    }
   ],
   "source": [
    "put_th_prices = pd.DataFrame(columns=['BlackScholes', 'Merton', 'Kou'])\n",
    "\n",
    "for i, K in enumerate(put_strikes):\n",
    "    bs = BS.closed_formula_put(K)\n",
    "    mert = Merton.closed_formula_put(K)\n",
    "    kou = Kou.closed_formula_put(K)\n",
    "    put_th_prices.loc[i] = [bs, mert, kou]\n",
    "\n",
    "print(f'Theoretical call options prices:')\n",
    "print(call_th_prices)"
   ],
   "metadata": {
    "collapsed": false
   }
  },
  {
   "cell_type": "code",
   "execution_count": 5,
   "outputs": [],
   "source": [
    "def implied_volatility(price, S0, K, T, r, type_o, method, disp=True ):\n",
    "    \"\"\" Returns Implied volatility\n",
    "        methods:  fsolve (default) or brent\n",
    "    \"\"\"\n",
    "\n",
    "    def obj_fun(vol):\n",
    "        return price - BS.BlackScholes(type_o=type_o, S0=S0, K=K, ttm=T, r=r, sigma=vol)\n",
    "\n",
    "    if method == 'brent':\n",
    "        x, r = scpo.brentq( obj_fun, a=1e-15, b=500, full_output=True)\n",
    "        if r.converged:\n",
    "            return x\n",
    "\n",
    "    if method =='fsolve':\n",
    "        X0 = [0.03, 0.08, 0.1, 0.15, 0.2, 0.3, 0.5, 1, 2]   # set of initial guess points for imp.vol.\n",
    "        for x0 in X0:\n",
    "            x, _, solved, _ = scpo.fsolve(obj_fun, x0, full_output=True, xtol=1e-8)\n",
    "            if solved == 1:\n",
    "                return x[0]\n",
    "\n",
    "    if method == 'newton':\n",
    "        x0 = 0.3\n",
    "\n",
    "        def obj_fun_squared(vol):\n",
    "            return obj_fun(vol)**2\n",
    "\n",
    "        # print('[σ] = ', x0, \"Objective Function value: \", obj_fun_squared(x0))\n",
    "        result = scpo.fmin(obj_fun_squared, x0, ftol=1e-10, full_output=0, disp=0)\n",
    "        return result[0]\n",
    "\n",
    "\n",
    "    if disp:\n",
    "        return -1"
   ],
   "metadata": {
    "collapsed": false
   }
  },
  {
   "cell_type": "markdown",
   "source": [
    "Let's now compute the implied volatilities from the true market prices *call_prices*."
   ],
   "metadata": {
    "collapsed": false
   }
  },
  {
   "cell_type": "code",
   "execution_count": 6,
   "outputs": [
    {
     "name": "stdout",
     "output_type": "stream",
     "text": [
      "Implied volatilities found by each model for call options:\n",
      "    BlackScholes    Merton       Kou\n",
      "0            0.5  0.667278  0.543615\n",
      "1            0.5  0.666211  0.543361\n",
      "2            0.5  0.665162  0.543115\n",
      "3            0.5  0.664130  0.542877\n",
      "4            0.5  0.663116  0.542646\n",
      "5            0.5  0.662117  0.542421\n",
      "6            0.5  0.661136  0.542204\n",
      "7            0.5  0.660170  0.541993\n",
      "8            0.5  0.659219  0.541788\n",
      "9            0.5  0.658284  0.541589\n",
      "10           0.5  0.657363  0.541396\n",
      "11           0.5  0.656457  0.541208\n",
      "12           0.5  0.655565  0.541026\n",
      "13           0.5  0.654687  0.540848\n"
     ]
    }
   ],
   "source": [
    "IV_BS = []; IV_M = []; IV_K = []\n",
    "\n",
    "for i in range(len(call_prices)):\n",
    "    IV_BS.append(implied_volatility(call_th_prices['BlackScholes'].values[i], S0=S0, K=call_strikes[i], T=T, r=r, type_o='call', method='newton') )\n",
    "    IV_M.append(implied_volatility(call_th_prices['Merton'].values[i], S0=S0, K = call_strikes[i], T=T, r=r, type_o='call', method='fsolve'))\n",
    "    IV_K.append(implied_volatility(call_th_prices['Kou'].values[i], S0=S0, K = call_strikes[i], T=T, r=r, type_o='call', method='fsolve'))\n",
    "\n",
    "imp_vol_call = pd.DataFrame(columns=['BlackScholes', 'Merton', 'Kou'])\n",
    "imp_vol_call['BlackScholes'] = IV_BS\n",
    "imp_vol_call['Merton'] = IV_M\n",
    "imp_vol_call['Kou'] = IV_K\n",
    "\n",
    "print(f'Implied volatilities found by each model for call options:\\n{imp_vol_call}')"
   ],
   "metadata": {
    "collapsed": false
   }
  },
  {
   "cell_type": "code",
   "execution_count": 9,
   "outputs": [
    {
     "name": "stdout",
     "output_type": "stream",
     "text": [
      "Implied volatilities found by each model for put options:\n",
      "     BlackScholes    Merton       Kou\n",
      "0            0.5  0.667278  0.543615\n",
      "1            0.5  0.666211  0.543361\n",
      "2            0.5  0.665162  0.543115\n",
      "3            0.5  0.664130  0.542877\n",
      "4            0.5  0.663116  0.542646\n",
      "5            0.5  0.662117  0.542421\n",
      "6            0.5  0.661136  0.542204\n",
      "7            0.5  0.660170  0.541993\n",
      "8            0.5  0.659219  0.541788\n",
      "9            0.5  0.658284  0.541589\n",
      "10           0.5  0.657363  0.541396\n",
      "11           0.5  0.656457  0.541208\n",
      "12           0.5  0.655565  0.541026\n",
      "13           0.5  0.654687  0.540848\n"
     ]
    }
   ],
   "source": [
    "IV_BS = []; IV_M = []; IV_K = []\n",
    "\n",
    "for i in range(len(put_prices)):\n",
    "    IV_BS.append(implied_volatility(put_th_prices['BlackScholes'].values[i], S0=S0, K=put_strikes[i], T=T, r=r, type_o='put', method='newton') )\n",
    "    IV_M.append(implied_volatility(put_th_prices['Merton'].values[i], S0=S0, K = put_strikes[i], T=T, r=r, type_o='put', method='fsolve'))\n",
    "    IV_K.append(implied_volatility(put_th_prices['Kou'].values[i], S0=S0, K = put_strikes[i], T=T, r=r, type_o='put', method='fsolve'))\n",
    "\n",
    "imp_vol_put = pd.DataFrame(columns=['BlackScholes', 'Merton', 'Kou'])\n",
    "imp_vol_put['BlackScholes'] = IV_BS\n",
    "imp_vol_put['Merton'] = IV_M\n",
    "imp_vol_put['Kou'] = IV_K\n",
    "\n",
    "print(f'Implied volatilities found by each model for put options:\\n {imp_vol_put}')"
   ],
   "metadata": {
    "collapsed": false
   }
  },
  {
   "cell_type": "markdown",
   "source": [
    "## Calibration of Merton Jump Diffusion parameters\n",
    "First we'll initialize a starting point in the array $x0 = [σ, λ, m, v]$\n",
    "and we set bounds for the 4 parameters. Then we use the method\n",
    "1. **curve_fit** of scipy.optimize. It uses the trf method when the parameters are bounded and the Levemberg-Marquadt method for unbounded parameters."
   ],
   "metadata": {
    "collapsed": false
   }
  },
  {
   "cell_type": "code",
   "execution_count": 10,
   "outputs": [],
   "source": [
    "x0 = [0.15, 1, 0.1, 1] # initial guess: [σ, λ, m, v]\n",
    "bounds = ( [0, 0, -10, 0], [np.inf, np.inf, 10, 5] )\n",
    "\n",
    "def f_Mert(x, sigma, lambd, meanJ, stdJ):\n",
    "    Mert = Merton_pricer(S0=S0, K=x, ttm=T, r=r, sigma=sigma, lambd=lambd, meanJ=meanJ, stdJ=stdJ, exercise=exercise)\n",
    "    return Mert.closed_formula_call(x)\n",
    "#"
   ],
   "metadata": {
    "collapsed": false
   }
  },
  {
   "cell_type": "markdown",
   "source": [
    "- Method 1. curve_fit of scipy.optimize. It uses the trf method when the parameters are bounded and the Levemberg-Marquadt method for unbounded parameters."
   ],
   "metadata": {
    "collapsed": false
   }
  },
  {
   "cell_type": "code",
   "execution_count": 13,
   "outputs": [
    {
     "name": "stdout",
     "output_type": "stream",
     "text": [
      "METHOD 1: CURVE_FIT (trf)\n",
      "> Calibrated Volatlity [σ] =  2e-05\n",
      "> Calibrated Jump intensity [λ] =  0.58\n",
      "> Calibrated Jump Mean =  1.08\n",
      "> Calibrated Jump St. dev.  =  0.02333\n"
     ]
    }
   ],
   "source": [
    "res1 = scpo.curve_fit(f_Mert, call_strikes, call_prices, p0=x0, bounds=bounds)\n",
    "\n",
    "sigt = round(res1[0][0],5)\n",
    "lambdt = round(res1[0][1],2)\n",
    "mt = round(res1[0][2],2)\n",
    "vt = round(res1[0][3],5)\n",
    "\n",
    "print('METHOD 1: CURVE_FIT (trf)')\n",
    "print('> Calibrated Volatlity [σ] = ', sigt)\n",
    "print('> Calibrated Jump intensity [λ] = ', lambdt)\n",
    "print('> Calibrated Jump Mean = ', mt)\n",
    "print('> Calibrated Jump St. dev.  = ', vt)"
   ],
   "metadata": {
    "collapsed": false
   }
  },
  {
   "cell_type": "code",
   "execution_count": 15,
   "outputs": [
    {
     "name": "stderr",
     "output_type": "stream",
     "text": [
      "C:\\Users\\ornel\\OneDrive\\Desktop\\TESI\\PythonProjects\\Margin-Loans-Pricing\\python-modules\\functions\\MERTONpricer.py:40: RuntimeWarning: invalid value encountered in log\n",
      "  return self.r - self.lambd * (self.meanJ - 1) + (k * np.log(self.meanJ)) / self.ttm\n"
     ]
    },
    {
     "name": "stdout",
     "output_type": "stream",
     "text": [
      "METHOD 1.2: CURVE_FIT (Levemberg-Marquadt, no bounds)\n",
      "> Calibrated Volatlity [σ] =  -0.14044\n",
      "> Calibrated Jump intensity [λ] =  -0.07\n",
      "> Calibrated Jump Mean =  0.0\n",
      "> Calibrated Jump St. dev.  =  0.2125\n"
     ]
    },
    {
     "name": "stderr",
     "output_type": "stream",
     "text": [
      "c:\\users\\ornel\\appdata\\local\\programs\\python\\python38\\lib\\site-packages\\scipy\\optimize\\_minpack_py.py:906: OptimizeWarning: Covariance of the parameters could not be estimated\n",
      "  warnings.warn('Covariance of the parameters could not be estimated',\n"
     ]
    }
   ],
   "source": [
    "res1_2 = scpo.curve_fit(f_Mert, call_strikes, call_prices, p0=x0)\n",
    "\n",
    "sigt2 = round(res1_2[0][0],5)\n",
    "lambdt2 = round(res1_2[0][1],2)\n",
    "mt2 = round(res1_2[0][2],2)\n",
    "vt2 = round(res1_2[0][3],5)\n",
    "\n",
    "print('METHOD 1.2: CURVE_FIT (Levemberg-Marquadt, no bounds)')\n",
    "print('> Calibrated Volatlity [σ] = ', sigt2)\n",
    "print('> Calibrated Jump intensity [λ] = ', lambdt2)\n",
    "print('> Calibrated Jump Mean = ', mt2)\n",
    "print('> Calibrated Jump St. dev.  = ', vt2)"
   ],
   "metadata": {
    "collapsed": false
   }
  },
  {
   "cell_type": "markdown",
   "source": [
    "- Method 2. minimize(method=’SLSQP’)"
   ],
   "metadata": {
    "collapsed": false
   }
  },
  {
   "cell_type": "code",
   "execution_count": 16,
   "outputs": [
    {
     "name": "stdout",
     "output_type": "stream",
     "text": [
      " message: Optimization terminated successfully\n",
      " success: True\n",
      "  status: 0\n",
      "     fun: 1831705.969667116\n",
      "       x: [ 1.452e-01  5.693e-01  1.513e+00  7.117e-01]\n",
      "     nit: 6\n",
      "     jac: [ 1.981e+06  4.962e+06  3.445e+06  3.245e+06]\n",
      "    nfev: 12\n",
      "    njev: 2\n",
      "> METHOD 2: MINIMIZE (SLSQP)\n",
      "Calibrated Volatility [σ] = 0.14522\n",
      "Calibrated Jump Intensity [λ] = 0.57\n",
      "Calibrated Jump Mean [m] = 1.51\n",
      "Calibrated Jump St. dev. [v] = 0.71\n"
     ]
    }
   ],
   "source": [
    "x0 = [0.2, 0.8, 0.1, 1] # initial guess: [σ, λ, m, v]\n",
    "bounds = [(0.01, 3), (0, np.inf), (1e-5, 5),  (0, 5)]\n",
    "\n",
    "# Define the objective function\n",
    "def obj_function(x, K, call_prices):\n",
    "    sigm, lamb, mean, std = x\n",
    "    Mert = Merton_pricer(S0=S0, K=K, ttm=T, r=r, sigma=sigm, lambd=lamb, meanJ=mean, stdJ=std, exercise=exercise)\n",
    "    return np.sum((Mert.closed_formula_call(K) - call_prices) ** 2)\n",
    "\n",
    "additional_args = (call_strikes, call_prices)\n",
    "\n",
    "res2 = scpo.minimize(obj_function, x0, args=additional_args,  method='SLSQP', bounds=bounds, tol=1e-20)\n",
    "\n",
    "print(res2)\n",
    "sigt, lambdt, mt, vt = res2.x\n",
    "\n",
    "# Print the results\n",
    "print('> METHOD 2: MINIMIZE (SLSQP)')\n",
    "print('Calibrated Volatility [σ] =', round(sigt, 5))\n",
    "print('Calibrated Jump Intensity [λ] =', round(lambdt, 2))\n",
    "print('Calibrated Jump Mean [m] =', round(mt, 2))\n",
    "print('Calibrated Jump St. dev. [v] =', round(vt, 2))"
   ],
   "metadata": {
    "collapsed": false
   }
  },
  {
   "cell_type": "markdown",
   "source": [
    "## Calibration of Kou Jump Diffusion parameters"
   ],
   "metadata": {
    "collapsed": false
   }
  },
  {
   "cell_type": "code",
   "execution_count": 19,
   "outputs": [
    {
     "name": "stdout",
     "output_type": "stream",
     "text": [
      "9.14731730389542\n",
      "5.910755746956134\n"
     ]
    }
   ],
   "source": [
    "#### KOU example from Kou 2002 (footnote 9) to check correctness\n",
    "Kou = Kou_pricer(100, 98, 0.5, 0.05, 0.16, 1, 0.4, 10, 5, exercise)\n",
    "print(Kou.closed_formula_call(98))\n",
    "print(Kou.closed_formula_put(101))"
   ],
   "metadata": {
    "collapsed": false
   }
  },
  {
   "cell_type": "code",
   "execution_count": null,
   "outputs": [],
   "source": [],
   "metadata": {
    "collapsed": false
   }
  }
 ],
 "metadata": {
  "kernelspec": {
   "display_name": "Python 3",
   "language": "python",
   "name": "python3"
  },
  "language_info": {
   "codemirror_mode": {
    "name": "ipython",
    "version": 2
   },
   "file_extension": ".py",
   "mimetype": "text/x-python",
   "name": "python",
   "nbconvert_exporter": "python",
   "pygments_lexer": "ipython2",
   "version": "2.7.6"
  }
 },
 "nbformat": 4,
 "nbformat_minor": 0
}
