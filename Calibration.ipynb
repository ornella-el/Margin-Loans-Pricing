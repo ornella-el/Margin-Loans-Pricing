{
 "cells": [
  {
   "cell_type": "markdown",
   "source": [
    "## Calibration of model parameters (BLACK and SCHOLES, MERTON)\n",
    "The **Implied Volatility** is that value $\\\\sigma$ that must be inserted into the Black-Scholes (BS) formula in order to retrieve the option price quoted in the market:\n",
    "$$ BS(S, K, T, r, \\sigma) = P  $$\n",
    "where $S$ is the underlying spot price, $K$ is the strike, $T$ time to maturity, $r$ risk-free interest rate and $P$ the option price quoted in the market. All these quantities are **observable**.\n"
   ],
   "metadata": {
    "collapsed": false
   }
  },
  {
   "cell_type": "code",
   "execution_count": 1,
   "metadata": {
    "collapsed": true
   },
   "outputs": [],
   "source": [
    "from functions.MERTONpricer import Merton_pricer\n",
    "from functions.BSpricer import BS_pricer\n",
    "from functions.KOUpricer import Kou_pricer\n",
    "\n",
    "import numpy as np\n",
    "import pandas as pd\n",
    "import matplotlib.pyplot as plt\n",
    "import scipy as scp\n",
    "import scipy.stats as ss\n",
    "import scipy.optimize as scpo\n"
   ]
  },
  {
   "cell_type": "markdown",
   "source": [
    "Let's retrieve the historic prices for european call and put options starting from 2016-01-20 and expiring 1 year later."
   ],
   "metadata": {
    "collapsed": false
   }
  },
  {
   "cell_type": "code",
   "execution_count": 2,
   "outputs": [],
   "source": [
    "df_call = pd.read_csv('data/options_spx_call_2016.csv')\n",
    "df_put = pd.read_csv('data/options_spx_put_2016.csv')\n",
    "\n",
    "df_call['C_Midpoint'] = abs(df_call['C_BID'] + df_call['C_ASK']) / 2\n",
    "df_put['P_Midpoint'] = abs(df_put['P_BID'] + df_put['P_ASK']) / 2\n",
    "df_call['C_Spread'] = df_call['C_BID'] - df_call['C_ASK']\n",
    "df_put['P_Spread'] = df_put['P_BID'] - df_put['P_ASK']\n",
    "\n",
    "q = 0       # dividend yield\n",
    "r = 0.1     # risk-free interest rate\n",
    "sigma = 0.2 #volatility (variance of diffusion process)\n",
    "S0 = df_call.iloc[0]['UNDERLYING_LAST']\n",
    "T = 1\n",
    "strikes = np.arange(50,151,5)\n",
    "call_strikes = df_call['STRIKE']    # array of K\n",
    "put_strikes = df_put['STRIKE']\n",
    "exercise = 'european'\n",
    "\n",
    "call_prices = df_call['C_Midpoint']\n",
    "put_prices = df_put['P_Midpoint']"
   ],
   "metadata": {
    "collapsed": false
   }
  },
  {
   "cell_type": "markdown",
   "source": [
    "Let's initialize an object of class BS_pricer which is able to find the theoretical price of the options, given the parameters."
   ],
   "metadata": {
    "collapsed": false
   }
  },
  {
   "cell_type": "code",
   "execution_count": 3,
   "outputs": [
    {
     "name": "stdout",
     "output_type": "stream",
     "text": [
      "Theoretical call options prices:\n",
      "    BlackScholes      Merton         Kou\n",
      "0     408.620604  414.279528  408.433657\n",
      "1     389.398114  394.489038  387.890420\n",
      "2     370.591178  374.959376  367.611205\n",
      "3     352.224219  355.714767  347.635046\n",
      "4     334.320137  336.782093  328.004305\n",
      "5     316.900061  318.190800  308.764021\n",
      "6     299.983133  299.972657  289.961063\n",
      "7     283.586327  282.161361  271.643122\n",
      "8     267.724300  264.791999  253.857593\n",
      "9     252.409289  247.900367  236.650380\n",
      "10    237.651041  231.522201  220.064704\n",
      "11    223.456778  215.692316  204.139960\n",
      "12    209.831207  200.443729  188.910680\n",
      "13    196.776552  185.806783  174.405658\n",
      "14    184.292620  171.808326  160.647263\n",
      "15    172.376900  158.470986  147.650972\n",
      "16    161.024675  145.812564  135.425133\n",
      "17    150.229161  133.845579  123.970960\n",
      "18    139.981660  122.576979  113.282735\n",
      "19    130.271721  112.008029  103.348212\n"
     ]
    }
   ],
   "source": [
    "BS = BS_pricer(S0=S0, r=r, q = q, sigma=sigma, ttm=T, exercise=exercise, K=None)\n",
    "Merton = Merton_pricer(S0=S0, K=None, ttm=T, r=0.1, q = q, sigma=0.12, lambd=0.5, meanJ=-0.1, stdJ=0.2, exercise=exercise)\n",
    "Kou = Kou_pricer(S0=S0, K=None, ttm=T, r=r, sigma=0.12, lambd=0.5, p=0.6, eta1=10, eta2=5, exercise=exercise)\n",
    "\n",
    "call_th_prices = pd.DataFrame(columns=['BlackScholes', 'Merton', 'Kou'])\n",
    "\n",
    "for i, K in enumerate(call_strikes):\n",
    "    bs = BS.closed_formula_call(K)\n",
    "    mert = Merton.closed_formula_call(K)\n",
    "    kou = Kou.closed_formula_call(K)\n",
    "    call_th_prices.loc[i] = [bs, mert, kou]\n",
    "\n",
    "print(f'Theoretical call options prices:')\n",
    "print(call_th_prices)\n"
   ],
   "metadata": {
    "collapsed": false
   }
  },
  {
   "cell_type": "markdown",
   "source": [
    "PUT PRICES:"
   ],
   "metadata": {
    "collapsed": false
   }
  },
  {
   "cell_type": "code",
   "execution_count": 4,
   "outputs": [
    {
     "name": "stdout",
     "output_type": "stream",
     "text": [
      "Theoretical put options prices:\n",
      "    BlackScholes      Merton         Kou\n",
      "0      19.501408   25.160332   19.314461\n",
      "1      22.899853   27.990778   21.392159\n",
      "2      26.713854   31.082051   23.733880\n",
      "3      30.967830   34.458378   26.378656\n",
      "4      35.684683   38.146639   29.368851\n",
      "5      40.885542   42.176282   32.749503\n",
      "6      46.589550   46.579074   36.567480\n",
      "7      52.813679   51.388714   40.870475\n",
      "8      59.572588   56.640286   45.705881\n",
      "9      66.878513   62.369591   51.119604\n",
      "10     74.741200   68.612360   57.154863\n",
      "11     83.167873   75.403410   63.851054\n",
      "12     92.163237   82.775759   71.242710\n",
      "13    101.729517   90.759748   79.358623\n",
      "14    111.866520   99.382227   88.221164\n",
      "15    122.571736  108.665822   97.845808\n",
      "16    133.840446  118.628336  108.240905\n",
      "17    145.665868  129.282286  119.407667\n",
      "18    158.039302  140.634622  131.340377\n",
      "19    170.950299  152.686607  144.026789\n"
     ]
    }
   ],
   "source": [
    "put_th_prices = pd.DataFrame(columns=['BlackScholes', 'Merton', 'Kou'])\n",
    "\n",
    "for i, K in enumerate(put_strikes):\n",
    "    bs = BS.closed_formula_put(K)\n",
    "    mert = Merton.closed_formula_put(K)\n",
    "    kou = Kou.closed_formula_put(K)\n",
    "    put_th_prices.loc[i] = [bs, mert, kou]\n",
    "\n",
    "print(f'Theoretical put options prices:')\n",
    "print(put_th_prices)"
   ],
   "metadata": {
    "collapsed": false
   }
  },
  {
   "cell_type": "code",
   "execution_count": 5,
   "outputs": [],
   "source": [
    "def implied_volatility(price, S, strike, t, rate, q, type_o, method, disp=True ):\n",
    "    \"\"\" Returns Implied volatility\n",
    "        methods:  fsolve (default) or brent\n",
    "    \"\"\"\n",
    "\n",
    "    def obj_fun(vol):\n",
    "        return BS.BlackScholes(type_o=type_o, S0=S, K=strike, ttm=t, r=rate, q=q, sigma=vol) - price\n",
    "\n",
    "    def vega(vol):\n",
    "        return BS.vega(S, strike, rate, q, vol, t)\n",
    "\n",
    "    if method == 'brent':\n",
    "        x, res = scpo.brentq(obj_fun, a=1e-15, b=500, full_output=True)\n",
    "        if res.converged:\n",
    "            return x\n",
    "\n",
    "    if method =='fsolve':\n",
    "        #X0 = [0.03, 0.08, 0.1, 0.15, 0.2, 0.3, 0.5, 1, 2]   # set of\n",
    "        X0 = [0.1, 0.5, 1, 3]\n",
    "        #initial guess points for imp.vol.\n",
    "        for x_0 in X0:\n",
    "            x, _, solved, _ = scpo.fsolve(obj_fun, x_0, full_output=True, xtol=1e-8)\n",
    "            if solved == 1:\n",
    "                return x[0]\n",
    "\n",
    "    if method == 'newton':\n",
    "        guess = 0.5\n",
    "        result = scpo.newton(obj_fun, guess, vega, tol=1e-4)\n",
    "        return result\n",
    "\n",
    "\n",
    "    if disp:\n",
    "        return -1"
   ],
   "metadata": {
    "collapsed": false
   }
  },
  {
   "cell_type": "markdown",
   "source": [
    "Let's now compute the implied volatilities from the true market prices *call_prices*."
   ],
   "metadata": {
    "collapsed": false
   }
  },
  {
   "cell_type": "code",
   "execution_count": 6,
   "outputs": [
    {
     "name": "stdout",
     "output_type": "stream",
     "text": [
      "Implied volatilities found by each model for call options:\n",
      "    BlackScholes    Merton       Kou\n",
      "0            0.2  0.216304  0.199432\n",
      "1            0.2  0.213534  0.195783\n",
      "2            0.2  0.210766  0.192301\n",
      "3            0.2  0.208013  0.189003\n",
      "4            0.2  0.205288  0.185904\n",
      "5            0.2  0.202606  0.183014\n",
      "6            0.2  0.199980  0.180341\n",
      "7            0.2  0.197424  0.177887\n",
      "8            0.2  0.194950  0.175653\n",
      "9            0.2  0.192570  0.173637\n",
      "10           0.2  0.190295  0.171832\n",
      "11           0.2  0.188131  0.170231\n",
      "12           0.2  0.186088  0.168826\n",
      "13           0.2  0.184169  0.167608\n",
      "14           0.2  0.182377  0.166566\n",
      "15           0.2  0.180716  0.165692\n",
      "16           0.2  0.179186  0.164976\n",
      "17           0.2  0.177787  0.164409\n",
      "18           0.2  0.176516  0.163982\n",
      "19           0.2  0.175374  0.163689\n"
     ]
    }
   ],
   "source": [
    "IV_BS = []; IV_M = []; IV_K = []\n",
    "\n",
    "for i in range(len(call_prices)):\n",
    "    IV_BS.append(implied_volatility(call_th_prices['BlackScholes'].values[i], S=S0, strike=call_strikes[i], t=T, rate=r,q=q, type_o='call', method='newton') )\n",
    "    IV_M.append(implied_volatility(call_th_prices['Merton'].values[i], S=S0, strike = call_strikes[i], t=T, rate=r, q=q,  type_o='call', method='newton'))\n",
    "    IV_K.append(implied_volatility(call_th_prices['Kou'].values[i], S=S0, strike = call_strikes[i], t=T, rate=r, q=q,  type_o='call', method='newton'))\n",
    "\n",
    "imp_vol_call = pd.DataFrame(columns=['BlackScholes', 'Merton', 'Kou'])\n",
    "imp_vol_call['BlackScholes'] = IV_BS\n",
    "imp_vol_call['Merton'] = IV_M\n",
    "imp_vol_call['Kou'] = IV_K\n",
    "\n",
    "print(f'Implied volatilities found by each model for call options:\\n{imp_vol_call}')"
   ],
   "metadata": {
    "collapsed": false
   }
  },
  {
   "cell_type": "code",
   "execution_count": 7,
   "outputs": [
    {
     "name": "stdout",
     "output_type": "stream",
     "text": [
      "Implied volatilities found by each model for put options:\n",
      "     BlackScholes    Merton       Kou\n",
      "0            0.2  0.216304  0.199432\n",
      "1            0.2  0.213534  0.195783\n",
      "2            0.2  0.210766  0.192301\n",
      "3            0.2  0.208013  0.189003\n",
      "4            0.2  0.205288  0.185904\n",
      "5            0.2  0.202606  0.183014\n",
      "6            0.2  0.199980  0.180341\n",
      "7            0.2  0.197424  0.177887\n",
      "8            0.2  0.194950  0.175653\n",
      "9            0.2  0.192570  0.173637\n",
      "10           0.2  0.190295  0.171832\n",
      "11           0.2  0.188131  0.170231\n",
      "12           0.2  0.186088  0.168826\n",
      "13           0.2  0.184169  0.167608\n",
      "14           0.2  0.182377  0.166566\n",
      "15           0.2  0.180716  0.165692\n",
      "16           0.2  0.179186  0.164976\n",
      "17           0.2  0.177787  0.164409\n",
      "18           0.2  0.176516  0.163982\n",
      "19           0.2  0.175374  0.163689\n"
     ]
    }
   ],
   "source": [
    "IV_BS = []; IV_M = []; IV_K = []\n",
    "\n",
    "for i in range(len(put_prices)):\n",
    "    IV_BS.append(implied_volatility(put_th_prices['BlackScholes'].values[i], S=S0, strike=put_strikes[i], t=T, rate=r, q=q, type_o='put', method='newton' ) )\n",
    "    IV_M.append(implied_volatility(put_th_prices['Merton'].values[i], S=S0, strike = put_strikes[i], t=T, rate=r, q=q, type_o='put', method='fsolve'))\n",
    "    IV_K.append(implied_volatility(put_th_prices['Kou'].values[i], S=S0, strike = put_strikes[i], t=T, rate=r, q=q, type_o='put', method='fsolve'))\n",
    "\n",
    "imp_vol_put = pd.DataFrame(columns=['BlackScholes', 'Merton', 'Kou'])\n",
    "imp_vol_put['BlackScholes'] = IV_BS\n",
    "imp_vol_put['Merton'] = IV_M\n",
    "imp_vol_put['Kou'] = IV_K\n",
    "\n",
    "print(f'Implied volatilities found by each model for put options:\\n {imp_vol_put}')"
   ],
   "metadata": {
    "collapsed": false
   }
  },
  {
   "cell_type": "markdown",
   "source": [
    "Plot of the implied volatilities with respect to the strike price."
   ],
   "metadata": {
    "collapsed": false
   }
  },
  {
   "cell_type": "code",
   "execution_count": 8,
   "outputs": [
    {
     "data": {
      "text/plain": "<Figure size 1600x400 with 2 Axes>",
      "image/png": "[encoded data removed]"
     },
     "metadata": {},
     "output_type": "display_data"
    }
   ],
   "source": [
    "fig = plt.figure(figsize=(16,4))\n",
    "ax1 = fig.add_subplot(121); ax2 = fig.add_subplot(122)\n",
    "\n",
    "ax1.plot(call_strikes, call_th_prices['BlackScholes'], label=\"BS\"); ax1.plot(call_strikes, call_th_prices['Merton'], label=\"MERT\")\n",
    "ax1.plot(call_strikes, call_th_prices['Kou'], label=\"KOU\")\n",
    "ax1.set_title(\"Comparison of prices\"); ax1.set_xlabel(\"Strike\"); ax1.set_ylabel(\"Price\")\n",
    "\n",
    "ax2.plot(call_strikes, imp_vol_call['BlackScholes'], label=\"BS\"); ax2.plot(call_strikes, imp_vol_call['Merton'], label=\"MERT\")\n",
    "ax2.plot(call_strikes, imp_vol_call['Kou'], label=\"KOU\")\n",
    "ax2.set_title(\"Comparison of Implied volatilities\"); ax2.set_xlabel(\"Strike\"); ax2.set_ylabel(\"Imp Vol\")\n",
    "\n",
    "ax1.legend(); ax2.legend(); plt.show()"
   ],
   "metadata": {
    "collapsed": false
   }
  },
  {
   "cell_type": "markdown",
   "source": [
    "## Calibration of Merton Jump Diffusion parameters\n",
    "First we'll initialize a starting point in the array $x_0 = [σ, λ, m, v]$\n",
    "and we set bounds for the 4 parameters. Then we use the method\n",
    "1. **curve_fit** of scipy.optimize. It uses the trf method when the parameters are bounded and the Levemberg-Marquadt method for unbounded parameters."
   ],
   "metadata": {
    "collapsed": false
   }
  },
  {
   "cell_type": "code",
   "execution_count": 9,
   "outputs": [],
   "source": [
    "x0 = [0.15, 1, 0.1, 1] # initial guess: [σ, λ, m, v]\n",
    "bounds = ( [0, 0, -10, 0.1], [np.inf, np.inf, 10, 5] )\n",
    "\n",
    "def f_Mert(x, sigma, lambd, meanJ, stdJ):\n",
    "    Mert = Merton_pricer(S0=S0, K=x, ttm=T, r=r, q=0, sigma=sigma, lambd=lambd, meanJ=meanJ, stdJ=stdJ, exercise=exercise)\n",
    "    return Mert.closed_formula_call(x)\n",
    "#"
   ],
   "metadata": {
    "collapsed": false
   }
  },
  {
   "cell_type": "markdown",
   "source": [
    "- Method 1. curve_fit of scipy.optimize. It uses the trf method when the parameters are bounded and the Levemberg-Marquadt method for unbounded parameters."
   ],
   "metadata": {
    "collapsed": false
   }
  },
  {
   "cell_type": "code",
   "execution_count": 10,
   "outputs": [
    {
     "name": "stdout",
     "output_type": "stream",
     "text": [
      "METHOD 1: CURVE_FIT (trf)\n",
      "> Calibrated Volatlity [σ] =  0.02322\n",
      "> Calibrated Jump intensity [λ] =  0.12\n",
      "> Calibrated Jump Mean =  0.21\n",
      "> Calibrated Jump St. dev.  =  0.1\n"
     ]
    }
   ],
   "source": [
    "res1 = scpo.curve_fit(f_Mert, call_strikes, call_prices, p0=x0, bounds=bounds)\n",
    "\n",
    "sigt = round(res1[0][0],5)\n",
    "lambdt = round(res1[0][1],2)\n",
    "mt = round(res1[0][2],2)\n",
    "vt = round(res1[0][3],5)\n",
    "\n",
    "print('METHOD 1: CURVE_FIT (trf)')\n",
    "print('> Calibrated Volatlity [σ] = ', sigt)\n",
    "print('> Calibrated Jump intensity [λ] = ', lambdt)\n",
    "print('> Calibrated Jump Mean = ', mt)\n",
    "print('> Calibrated Jump St. dev.  = ', vt)"
   ],
   "metadata": {
    "collapsed": false
   }
  },
  {
   "cell_type": "code",
   "execution_count": 11,
   "outputs": [
    {
     "name": "stderr",
     "output_type": "stream",
     "text": [
      "C:\\Users\\ornel\\OneDrive\\Desktop\\TESI\\PythonProjects\\Margin-Loans-Pricing\\python-modules\\functions\\BSpricer.py:71: RuntimeWarning: overflow encountered in exp\n",
      "  return S0 * np.exp(-q*ttm) * ss.norm.cdf(d1) - K * np.exp(-r * ttm) * ss.norm.cdf(d2)\n",
      "C:\\Users\\ornel\\OneDrive\\Desktop\\TESI\\PythonProjects\\Margin-Loans-Pricing\\python-modules\\functions\\MERTONpricer.py:54: RuntimeWarning: overflow encountered in scalar power\n",
      "  V += (np.exp(-mean * self.lambd * self.ttm) * (mean * self.lambd * self.ttm) ** k) / k_fact * \\\n",
      "C:\\Users\\ornel\\OneDrive\\Desktop\\TESI\\PythonProjects\\Margin-Loans-Pricing\\python-modules\\functions\\MERTONpricer.py:54: RuntimeWarning: invalid value encountered in scalar multiply\n",
      "  V += (np.exp(-mean * self.lambd * self.ttm) * (mean * self.lambd * self.ttm) ** k) / k_fact * \\\n",
      "C:\\Users\\ornel\\OneDrive\\Desktop\\TESI\\PythonProjects\\Margin-Loans-Pricing\\python-modules\\functions\\MERTONpricer.py:54: RuntimeWarning: overflow encountered in exp\n",
      "  V += (np.exp(-mean * self.lambd * self.ttm) * (mean * self.lambd * self.ttm) ** k) / k_fact * \\\n"
     ]
    },
    {
     "name": "stdout",
     "output_type": "stream",
     "text": [
      "METHOD 1.2: CURVE_FIT (Levemberg-Marquadt, no bounds)\n",
      "> Calibrated Volatlity [σ] =  9e-05\n",
      "> Calibrated Jump intensity [λ] =  0.57\n",
      "> Calibrated Jump Mean =  0.08\n",
      "> Calibrated Jump St. dev.  =  0.03183\n"
     ]
    }
   ],
   "source": [
    "res1_2 = scpo.curve_fit(f_Mert, call_strikes, call_prices, p0=x0)\n",
    "\n",
    "sigt2 = round(res1_2[0][0],5)\n",
    "lambdt2 = round(res1_2[0][1],2)\n",
    "mt2 = round(res1_2[0][2],2)\n",
    "vt2 = round(res1_2[0][3],5)\n",
    "\n",
    "print('METHOD 1.2: CURVE_FIT (Levemberg-Marquadt, no bounds)')\n",
    "print('> Calibrated Volatlity [σ] = ', sigt2)\n",
    "print('> Calibrated Jump intensity [λ] = ', lambdt2)\n",
    "print('> Calibrated Jump Mean = ', mt2)\n",
    "print('> Calibrated Jump St. dev.  = ', vt2)"
   ],
   "metadata": {
    "collapsed": false
   }
  },
  {
   "cell_type": "markdown",
   "source": [
    "- Method 2. minimize(method=’SLSQP’)"
   ],
   "metadata": {
    "collapsed": false
   }
  },
  {
   "cell_type": "code",
   "execution_count": 12,
   "outputs": [
    {
     "name": "stdout",
     "output_type": "stream",
     "text": [
      " message: Optimization terminated successfully\n",
      " success: True\n",
      "  status: 0\n",
      "     fun: 721572.5229159031\n",
      "       x: [ 1.427e-01  3.492e-01 -1.299e+00  8.381e-01]\n",
      "     nit: 7\n",
      "     jac: [ 1.735e+06  5.013e+06 -9.380e+05 -2.063e+05]\n",
      "    nfev: 20\n",
      "    njev: 3\n",
      "> METHOD 2: MINIMIZE (SLSQP)\n",
      "Calibrated Volatility [σ] = 0.14268\n",
      "Calibrated Jump Intensity [λ] = 0.35\n",
      "Calibrated Jump Mean [m] = -1.3\n",
      "Calibrated Jump St. dev. [v] = 0.84\n"
     ]
    }
   ],
   "source": [
    "x0 = [0.2, 0.5, -0.1, 1] # initial guess: [σ, λ, m, v]\n",
    "bounds = [(0.01, 3), (0, np.inf), (-5, 5),  (0, 5)]\n",
    "\n",
    "# Define the objective function\n",
    "def obj_function(x, strikes, prices):\n",
    "    sigm, lamb, mean, std = x\n",
    "    Mert = Merton_pricer(S0=S0, K=strikes, ttm=T, r=r, q=0, sigma=sigm, lambd=lamb, meanJ=mean, stdJ=std, exercise=exercise)\n",
    "    return np.sum((Mert.closed_formula_call(K) - prices) ** 2)\n",
    "\n",
    "additional_args = (call_strikes, call_prices)\n",
    "\n",
    "res2 = scpo.minimize(obj_function, x0, args=additional_args,  method='SLSQP', bounds=bounds, tol=1e-20)\n",
    "\n",
    "print(res2)\n",
    "sigt, lambdt, mt, vt = res2.x\n",
    "\n",
    "# Print the results\n",
    "print('> METHOD 2: MINIMIZE (SLSQP)')\n",
    "print('Calibrated Volatility [σ] =', round(sigt, 5))\n",
    "print('Calibrated Jump Intensity [λ] =', round(lambdt, 2))\n",
    "print('Calibrated Jump Mean [m] =', round(mt, 2))\n",
    "print('Calibrated Jump St. dev. [v] =', round(vt, 2))"
   ],
   "metadata": {
    "collapsed": false
   }
  },
  {
   "cell_type": "markdown",
   "source": [
    "## Calibration of Kou Jump Diffusion parameters"
   ],
   "metadata": {
    "collapsed": false
   }
  },
  {
   "cell_type": "code",
   "execution_count": 17,
   "outputs": [],
   "source": [
    "x0 = [0.1, 0.5, 0.4, 5, 5] # initial guess: [σ, λ, p, η_1, η_1]\n",
    "bounds = ( [0, 0, 0, 0, 0], [4, 10, 0.9,  10, 10] )\n",
    "\n",
    "def f_Kou(x, sigma, lambd, p, eta1, eta2):\n",
    "    KouJD = Kou_pricer(S0=S0, K=x, ttm=T, r=r, sigma=sigma, lambd=lambd, p=p, eta1=eta1, eta2=eta2, exercise=exercise)\n",
    "    return KouJD.closed_formula_call(x)"
   ],
   "metadata": {
    "collapsed": false
   }
  },
  {
   "cell_type": "markdown",
   "source": [
    "Method scipy.optimize: curve_fit"
   ],
   "metadata": {
    "collapsed": false
   }
  },
  {
   "cell_type": "code",
   "execution_count": 18,
   "outputs": [
    {
     "name": "stdout",
     "output_type": "stream",
     "text": [
      "METHOD 1: CURVE_FIT (trf)\n",
      "> Calibrated Volatlity [σ] =  0.02729\n",
      "> Calibrated Jump intensity [λ] =  0.0\n",
      "> Calibrated Upward Jump probability =  0.9\n",
      "> Calibrated Rate of Exp. 1  =  1.0\n",
      "> Calibrated Rate of Exp. 2  =  10.0\n"
     ]
    }
   ],
   "source": [
    "res1 = scpo.curve_fit(f_Kou, call_strikes, call_prices, p0=x0, bounds=bounds)\n",
    "\n",
    "sigt = round(res1[0][0],5)\n",
    "lambdt = round(res1[0][1],2)\n",
    "pt = round(res1[0][2],2)\n",
    "eta1_t = round(res1[0][3],1)\n",
    "eta2_t = round(res1[0][4],1)\n",
    "\n",
    "print('METHOD 1: CURVE_FIT (trf)')\n",
    "print('> Calibrated Volatlity [σ] = ', sigt)\n",
    "print('> Calibrated Jump intensity [λ] = ', lambdt)\n",
    "print('> Calibrated Upward Jump probability = ', pt)\n",
    "print('> Calibrated Rate of Exp. 1  = ', eta1_t)\n",
    "print('> Calibrated Rate of Exp. 2  = ', eta2_t)\n"
   ],
   "metadata": {
    "collapsed": false
   }
  },
  {
   "cell_type": "markdown",
   "source": [
    "#### Method 2: minimize function"
   ],
   "metadata": {
    "collapsed": false
   }
  },
  {
   "cell_type": "code",
   "execution_count": 22,
   "outputs": [
    {
     "name": "stdout",
     "output_type": "stream",
     "text": [
      " message: Optimization terminated successfully\n",
      " success: True\n",
      "  status: 0\n",
      "     fun: 159610.53038636016\n",
      "       x: [ 1.000e-01  5.000e-01  5.000e-01  8.000e+00  4.000e+00]\n",
      "     nit: 5\n",
      "     jac: [-9.946e+05 -1.566e+05  3.896e+04  6.189e+03  1.362e+04]\n",
      "    nfev: 6\n",
      "    njev: 1\n"
     ]
    }
   ],
   "source": [
    "x0 = [0.1, 0.5, 0.5, 8, 4] # initial guess: [σ, λ, p, η_1, η_1]\n",
    "bounds = [(0, 4), (0, 10), (0, 1),  (0, 10), (0,10)]\n",
    "\n",
    "# Define the objective function\n",
    "def obj_function(x, strikes, prices):\n",
    "    sigm, lamb, p, eta1, eta2 = x\n",
    "    KouJD = Kou_pricer(S0=S0, K=strikes, ttm=T, r=r, sigma=sigm, lambd=lamb, p=p, eta1=eta1, eta2=eta2, exercise=exercise)\n",
    "    return np.sum((KouJD.closed_formula_call(K) - prices) ** 2)\n",
    "\n",
    "additional_args = (call_strikes, call_prices)\n",
    "\n",
    "res2 = scpo.minimize(obj_function, x0, args=additional_args,  method='SLSQP', bounds=bounds, tol=1e-20)\n",
    "print(res2)"
   ],
   "metadata": {
    "collapsed": false
   }
  },
  {
   "cell_type": "markdown",
   "source": [
    "Let's select a sample of the original dataframe in order to speed up the computation."
   ],
   "metadata": {
    "collapsed": false
   }
  },
  {
   "cell_type": "code",
   "execution_count": 25,
   "outputs": [
    {
     "name": "stdout",
     "output_type": "stream",
     "text": [
      "    QUOTE_DATE  UNDERLYING_LAST EXPIRE_DATE   C_BID   C_ASK  STRIKE   \n",
      "12  2016-01-20          1859.48  2017-01-20  103.00  106.10  1925.0  \\\n",
      "16  2016-01-20          1859.48  2017-01-20   60.40   63.20  2025.0   \n",
      "13  2016-01-20          1859.48  2017-01-20   91.20   94.29  1950.0   \n",
      "10  2016-01-20          1859.48  2017-01-20  128.49  131.80  1875.0   \n",
      "15  2016-01-20          1859.48  2017-01-20   70.00   72.91  2000.0   \n",
      "\n",
      "    C_Midpoint  C_Spread  \n",
      "12     104.550     -3.10  \n",
      "16      61.800     -2.80  \n",
      "13      92.745     -3.09  \n",
      "10     130.145     -3.31  \n",
      "15      71.455     -2.91   12    1925.0\n",
      "16    2025.0\n",
      "13    1950.0\n",
      "10    1875.0\n",
      "15    2000.0\n",
      "Name: STRIKE, dtype: float64 12    104.550\n",
      "16     61.800\n",
      "13     92.745\n",
      "10    130.145\n",
      "15     71.455\n",
      "Name: C_Midpoint, dtype: float64\n"
     ]
    },
    {
     "name": "stderr",
     "output_type": "stream",
     "text": [
      "c:\\users\\ornel\\appdata\\local\\programs\\python\\python38\\lib\\site-packages\\scipy\\optimize\\_minpack_py.py:906: OptimizeWarning: Covariance of the parameters could not be estimated\n",
      "  warnings.warn('Covariance of the parameters could not be estimated',\n"
     ]
    },
    {
     "name": "stdout",
     "output_type": "stream",
     "text": [
      "[2.39026251e-03 3.86810760e-01 1.00000000e+00 9.99553563e+00\n",
      " 9.99976995e+00]\n",
      " message: Optimization terminated successfully\n",
      " success: True\n",
      "  status: 0\n",
      "     fun: 2947.138970000306\n",
      "       x: [ 9.960e-02  4.750e-01  6.740e-01  8.555e+00  5.432e+00]\n",
      "     nit: 40\n",
      "     jac: [-2.023e-02 -5.157e-03  6.104e-05  3.967e-04  2.136e-04]\n",
      "    nfev: 544\n",
      "    njev: 40\n"
     ]
    }
   ],
   "source": [
    "# Sample of rows of the call dataframe\n",
    "call_resized = df_call.sample(n=5)\n",
    "c_strikes_resized = call_resized['STRIKE']\n",
    "c_prices_resized = call_resized['C_Midpoint']\n",
    "# print(call_resized, c_strikes_resized, c_prices_resized)\n",
    "\n",
    "x0 = [0.1, 0.5, 0.5, 8, 4] # initial guess: [σ, λ, p, η_1, η_1]\n",
    "\n",
    "bounds1 = ( [0, 0, 0, 0, 0], [4, 10, 1,  10, 10] )\n",
    "res1 = scpo.curve_fit(f_Kou, c_strikes_resized, c_prices_resized, p0=x0, bounds=bounds1)\n",
    "print(res1[0])\n",
    "\n",
    "bounds2 = [(0, 4), (0, 10), (0, 1),  (0, 10), (0,10)]\n",
    "additional_args = (c_strikes_resized, c_prices_resized)\n",
    "res2 = scpo.minimize(obj_function, x0, args=additional_args,  method='SLSQP', bounds=bounds2, tol=1e-20)\n",
    "print(res2)"
   ],
   "metadata": {
    "collapsed": false
   }
  },
  {
   "cell_type": "code",
   "execution_count": 27,
   "outputs": [
    {
     "name": "stdout",
     "output_type": "stream",
     "text": [
      "METHOD 2: MINIMIZE (SQLSP)\n",
      "> Calibrated Volatlity [σ] =  0.1\n",
      "> Calibrated Jump intensity [λ] =  0.48\n",
      "> Calibrated Upward Jump probability =  0.67\n",
      "> Calibrated Rate of Exp. 1  =  8.55\n",
      "> Calibrated Rate of Exp. 2  =  5.43\n"
     ]
    }
   ],
   "source": [
    "sigt, lambdt, pt, eta1_t, eta2_t = res2.x\n",
    "\n",
    "print('METHOD 2: MINIMIZE (SQLSP)')\n",
    "print('> Calibrated Volatlity [σ] = ', round(sigt, 2))\n",
    "print('> Calibrated Jump intensity [λ] = ', round(lambdt,2))\n",
    "print('> Calibrated Upward Jump probability = ', round(pt,2))\n",
    "print('> Calibrated Rate of Exp. 1  = ', round(eta1_t,2))\n",
    "print('> Calibrated Rate of Exp. 2  = ', round(eta2_t,2))"
   ],
   "metadata": {
    "collapsed": false
   }
  },
  {
   "cell_type": "code",
   "execution_count": null,
   "outputs": [],
   "source": [],
   "metadata": {
    "collapsed": false
   }
  }
 ],
 "metadata": {
  "kernelspec": {
   "display_name": "Python 3",
   "language": "python",
   "name": "python3"
  },
  "language_info": {
   "codemirror_mode": {
    "name": "ipython",
    "version": 2
   },
   "file_extension": ".py",
   "mimetype": "text/x-python",
   "name": "python",
   "nbconvert_exporter": "python",
   "pygments_lexer": "ipython2",
   "version": "2.7.6"
  }
 },
 "nbformat": 4,
 "nbformat_minor": 0
}
