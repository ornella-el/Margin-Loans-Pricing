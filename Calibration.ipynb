{
 "cells": [
  {
   "cell_type": "markdown",
   "source": [
    "## Calibration of model parameters (BLACK and SCHOLES, MERTON)\n",
    "The **Implied Volatility** is that value $\\\\sigma$ that must be inserted into the Black-Scholes (BS) formula in order to retrieve the option price quoted in the market:\n",
    "$$ BS(S, K, T, r, \\sigma) = P  $$\n",
    "where $S$ is the underlying spot price, $K$ is the strike, $T$ time to maturity, $r$ risk-free interest rate and $P$ the option price quoted in the market. All these quantities are **observable**.\n"
   ],
   "metadata": {
    "collapsed": false
   }
  },
  {
   "cell_type": "code",
   "execution_count": 5,
   "metadata": {
    "collapsed": true
   },
   "outputs": [],
   "source": [
    "from functions.MERTONpricer import Merton_pricer\n",
    "from functions.BSpricer import BS_pricer\n",
    "from functions.KOUpricer import Kou_pricer\n",
    "from functions.VGpricer import VG_pricer\n",
    "\n",
    "import numpy as np\n",
    "import pandas as pd\n",
    "import matplotlib.pyplot as plt\n",
    "import scipy as scp\n",
    "import scipy.stats as ss\n",
    "import scipy.optimize as scpo\n"
   ]
  },
  {
   "cell_type": "markdown",
   "source": [
    "Let's retrieve the historic prices for european call and put options starting from 2016-01-20 and expiring 1 year later."
   ],
   "metadata": {
    "collapsed": false
   }
  },
  {
   "cell_type": "code",
   "execution_count": 6,
   "outputs": [],
   "source": [
    "df_call = pd.read_csv('data/options_spx_call_2016.csv')\n",
    "df_put = pd.read_csv('data/options_spx_put_2016.csv')\n",
    "\n",
    "df_call['C_Midpoint'] = abs(df_call['C_BID'] + df_call['C_ASK']) / 2\n",
    "df_put['P_Midpoint'] = abs(df_put['P_BID'] + df_put['P_ASK']) / 2\n",
    "df_call['C_Spread'] = df_call['C_BID'] - df_call['C_ASK']\n",
    "df_put['P_Spread'] = df_put['P_BID'] - df_put['P_ASK']\n",
    "\n",
    "q = 0       # dividend yield\n",
    "r = 0.05     # risk-free interest rate\n",
    "sigma = 0.2 #volatility (variance of diffusion process)\n",
    "S0 = df_call.iloc[0]['UNDERLYING_LAST']\n",
    "T = 1\n",
    "call_strikes = df_call['STRIKE']    # array of K\n",
    "put_strikes = df_put['STRIKE']\n",
    "exercise = 'european'\n",
    "\n",
    "call_prices = df_call['C_Midpoint']\n",
    "put_prices = df_put['P_Midpoint']"
   ],
   "metadata": {
    "collapsed": false
   }
  },
  {
   "cell_type": "markdown",
   "source": [
    "Let's initialize an object of class BS_pricer which is able to find the theoretical price of the options, given the parameters."
   ],
   "metadata": {
    "collapsed": false
   }
  },
  {
   "cell_type": "code",
   "execution_count": 7,
   "outputs": [
    {
     "name": "stdout",
     "output_type": "stream",
     "text": [
      "Theoretical call options prices:\n",
      "    BlackScholes      Merton         Kou  VarianceGamma\n",
      "0     742.285318  742.994403  748.255078     743.737883\n",
      "1     718.704250  719.528691  725.251929     720.426322\n",
      "2     695.187334  696.131390  702.324826     697.206620\n",
      "3     671.749945  672.814202  679.480443     674.092356\n",
      "4     648.409713  649.590213  656.726317     651.098332\n",
      "5     625.186545  626.473953  634.071044     628.240575\n",
      "6     602.102593  603.481443  611.524476     605.536314\n",
      "7     579.182158  580.630238  589.097955     583.003940\n",
      "8     556.451527  557.939447  566.804532     560.662948\n",
      "9     533.938761  535.429734  544.659190     538.533860\n",
      "10    511.673419  513.123305  522.679043     516.638127\n",
      "11    489.686238  491.043863  500.883493     494.998017\n",
      "12    468.008771  469.216537  479.294330     473.636478\n",
      "13    446.672996  447.667779  457.935767     452.576989\n",
      "14    425.710906  426.425220  436.834388     431.843394\n",
      "15    405.154090  405.517490  416.019008     411.459723\n",
      "16    385.033316  384.974000  395.520430     391.450000\n",
      "17    365.378132  364.824675  375.371115     371.838045\n",
      "18    346.216485  345.099653  355.604762     352.647269\n",
      "19    327.574374  325.828950  336.255804     333.900461\n",
      "20    309.475546  307.042091  317.358849     315.619582\n",
      "21    291.941230  288.767724  298.948078     297.825558\n",
      "22    274.989921  271.033217  281.056622     280.538081\n",
      "23    258.637221  253.864264  263.715936     263.775415\n",
      "24    242.895724  237.284491  246.955207     247.554219\n",
      "25    227.774952  221.315093  230.800800     231.889380\n",
      "26    213.281349  205.974500  215.275774     216.793872\n",
      "27    199.418307  191.278090  200.399469     202.278621\n",
      "28    186.186247  177.237953  186.187197     188.352407\n",
      "29    173.582728  163.862719  172.650015     175.021776\n",
      "30    161.602596  151.157442  159.794614     162.290985\n",
      "31    150.238150  139.123556  147.623292     150.161969\n",
      "32    139.479344  127.758898  136.134036     138.634330\n",
      "33    129.313992  117.057791  125.320678     127.705363\n",
      "34    119.727991  107.011186  115.173136     117.370089\n",
      "35    110.705552   97.606860  105.677713     107.621330\n",
      "36    102.229430   88.829660   96.817450      98.449793\n",
      "37     94.281153   80.661780   88.572512      89.844182\n",
      "38     86.841245   73.083072   80.920606      81.791329\n",
      "39     79.889449   66.071374   73.837402      74.276336\n",
      "40     73.404924   59.602849   67.296957      67.282739\n",
      "41     67.366445   53.652327   61.272129      60.792677\n",
      "42     61.752581   48.193641   55.734971      54.787073\n",
      "43     56.541859   43.199957   50.657100      49.245821\n",
      "44     51.712913   38.644076   46.010033      44.147976\n",
      "45     47.244619   34.498723   41.765494      39.471945\n",
      "46     43.116214   30.736811   37.895672      35.195673\n",
      "47     39.307391   27.331667   34.373457      31.296827\n",
      "48     35.798396   24.257242   31.172622      27.752977\n",
      "49     32.570090   21.488281   28.267981      24.541757\n",
      "50     29.604018   19.000470   25.635509      21.641029\n",
      "51     26.882447   16.770549   23.252425      19.029022\n",
      "52     24.388407   14.776401   21.097253      16.684468\n",
      "53     22.105710   12.997119   19.149851      14.586717\n",
      "54     20.018971   11.413039   17.391425      12.715838\n",
      "55     18.113607   10.005766   15.804516      11.052709\n"
     ]
    }
   ],
   "source": [
    "BS = BS_pricer(S0=S0, r=r, q = q, sigma=sigma, ttm=T, exercise=exercise, K=None)\n",
    "Merton = Merton_pricer(S0=S0, K=None, ttm=T, r=0.05, q = q, sigma=0.15, lambd=0.7, meanJ=-0.1, stdJ=0.1, exercise=exercise)\n",
    "Kou = Kou_pricer(S0=S0, K=None, ttm=T, r=r, sigma=0.15, lambd=0.5, p=0.4, eta1=10, eta2=5, exercise=exercise)\n",
    "VG = VG_pricer(S0, K=None, ttm=T, r=r, q=q, sigma=0.15, theta=0.5, nu=0.08, exercise=exercise)\n",
    "\n",
    "call_th_prices = pd.DataFrame(columns=['BlackScholes', 'Merton', 'Kou', 'VarianceGamma'])\n",
    "\n",
    "for i, K in enumerate(call_strikes):\n",
    "    bs = BS.closed_formula_call(K)\n",
    "    mert = Merton.closed_formula_call(K)\n",
    "    kou = Kou.closed_formula_call(K)\n",
    "    vg = VG.closed_formula_call(K)\n",
    "    call_th_prices.loc[i] = [bs, mert, kou, vg]\n",
    "\n",
    "print(f'Theoretical call options prices:')\n",
    "print(call_th_prices)\n"
   ],
   "metadata": {
    "collapsed": false
   }
  },
  {
   "cell_type": "code",
   "execution_count": 8,
   "outputs": [
    {
     "ename": "TypeError",
     "evalue": "the first argument must be callable",
     "output_type": "error",
     "traceback": [
      "\u001B[1;31m---------------------------------------------------------------------------\u001B[0m",
      "\u001B[1;31mTypeError\u001B[0m                                 Traceback (most recent call last)",
      "Cell \u001B[1;32mIn[8], line 1\u001B[0m\n\u001B[1;32m----> 1\u001B[0m vg_fft \u001B[38;5;241m=\u001B[39m \u001B[43mVG\u001B[49m\u001B[38;5;241;43m.\u001B[39;49m\u001B[43mFFT_call\u001B[49m\u001B[43m(\u001B[49m\u001B[43mcall_strikes\u001B[49m\u001B[43m)\u001B[49m\n\u001B[0;32m      3\u001B[0m \u001B[38;5;28;01mfor\u001B[39;00m a, b \u001B[38;5;129;01min\u001B[39;00m \u001B[38;5;28mzip\u001B[39m(vg, vg_fft):\n\u001B[0;32m      4\u001B[0m     \u001B[38;5;28mprint\u001B[39m(a, b)\n",
      "File \u001B[1;32m~\\OneDrive\\Desktop\\TESI\\PythonProjects\\Margin-Loans-Pricing\\python-modules\\functions\\VGpricer.py:147\u001B[0m, in \u001B[0;36mVG_pricer.FFT_call\u001B[1;34m(self, K)\u001B[0m\n\u001B[0;32m    145\u001B[0m K \u001B[38;5;241m=\u001B[39m np\u001B[38;5;241m.\u001B[39marray(K)\n\u001B[0;32m    146\u001B[0m u \u001B[38;5;241m=\u001B[39m np\u001B[38;5;241m.\u001B[39mlinspace(\u001B[38;5;241m0\u001B[39m, \u001B[38;5;28mself\u001B[39m\u001B[38;5;241m.\u001B[39mttm, \u001B[38;5;241m10000\u001B[39m)\n\u001B[1;32m--> 147\u001B[0m cf_VG_b \u001B[38;5;241m=\u001B[39m \u001B[43mpartial\u001B[49m\u001B[43m(\u001B[49m\u001B[43mcf_VG\u001B[49m\u001B[43m(\u001B[49m\u001B[43mu\u001B[49m\u001B[43m,\u001B[49m\u001B[43m \u001B[49m\u001B[43mt\u001B[49m\u001B[38;5;241;43m=\u001B[39;49m\u001B[38;5;28;43mself\u001B[39;49m\u001B[38;5;241;43m.\u001B[39;49m\u001B[43mttm\u001B[49m\u001B[43m,\u001B[49m\u001B[43m \u001B[49m\u001B[43mmu\u001B[49m\u001B[38;5;241;43m=\u001B[39;49m\u001B[43m(\u001B[49m\u001B[38;5;28;43mself\u001B[39;49m\u001B[38;5;241;43m.\u001B[39;49m\u001B[43mr\u001B[49m\u001B[43m \u001B[49m\u001B[38;5;241;43m-\u001B[39;49m\u001B[43m \u001B[49m\u001B[38;5;28;43mself\u001B[39;49m\u001B[38;5;241;43m.\u001B[39;49m\u001B[43momega\u001B[49m\u001B[43m(\u001B[49m\u001B[43m)\u001B[49m\u001B[43m)\u001B[49m\u001B[43m,\u001B[49m\u001B[43m \u001B[49m\u001B[43mtheta\u001B[49m\u001B[38;5;241;43m=\u001B[39;49m\u001B[38;5;28;43mself\u001B[39;49m\u001B[38;5;241;43m.\u001B[39;49m\u001B[43mtheta\u001B[49m\u001B[43m,\u001B[49m\u001B[43m \u001B[49m\u001B[43msigma\u001B[49m\u001B[38;5;241;43m=\u001B[39;49m\u001B[38;5;28;43mself\u001B[39;49m\u001B[38;5;241;43m.\u001B[39;49m\u001B[43msigma\u001B[49m\u001B[43m,\u001B[49m\u001B[43m \u001B[49m\u001B[43mnu\u001B[49m\u001B[38;5;241;43m=\u001B[39;49m\u001B[38;5;28;43mself\u001B[39;49m\u001B[38;5;241;43m.\u001B[39;49m\u001B[43mnu\u001B[49m\u001B[43m)\u001B[49m\u001B[43m)\u001B[49m\n\u001B[0;32m    148\u001B[0m \u001B[38;5;28;01mreturn\u001B[39;00m fft_Lewis(K, \u001B[38;5;28mself\u001B[39m\u001B[38;5;241m.\u001B[39mS0, \u001B[38;5;28mself\u001B[39m\u001B[38;5;241m.\u001B[39mr, \u001B[38;5;28mself\u001B[39m\u001B[38;5;241m.\u001B[39mttm, cf_VG_b, interp\u001B[38;5;241m=\u001B[39m\u001B[38;5;124m\"\u001B[39m\u001B[38;5;124mcubic\u001B[39m\u001B[38;5;124m\"\u001B[39m)\n",
      "\u001B[1;31mTypeError\u001B[0m: the first argument must be callable"
     ]
    }
   ],
   "source": [
    "vg_fft = VG.FFT_call(call_strikes)\n",
    "\n",
    "for a, b in zip(vg, vg_fft):\n",
    "    print(a, b)"
   ],
   "metadata": {
    "collapsed": false
   }
  },
  {
   "cell_type": "markdown",
   "source": [
    "PUT PRICES:"
   ],
   "metadata": {
    "collapsed": false
   }
  },
  {
   "cell_type": "code",
   "execution_count": 9,
   "outputs": [
    {
     "name": "stdout",
     "output_type": "stream",
     "text": [
      "Theoretical put options prices:\n",
      "    BlackScholes      Merton         Kou  VarianceGamma\n",
      "0       0.499891    1.208977    6.469652       1.952457\n",
      "1       0.699559    1.524001    7.247238       2.421631\n",
      "2       0.963379    1.907435    8.100871       2.982665\n",
      "3       1.306726    2.370982    9.037223       3.649136\n",
      "4       1.747229    2.927729   10.063834       4.435848\n",
      "5       2.304796    3.592205   11.189296       5.358827\n",
      "6       3.001581    4.380430   12.423464       6.435302\n",
      "7       3.861881    5.309961   13.777678       7.683663\n",
      "8       4.911986    6.399905   15.264990       9.123407\n",
      "9       6.179956    7.670928   16.900384      10.775054\n",
      "10      7.695349    9.145234   18.700973      12.660057\n",
      "11      9.488904   10.846528   20.686159      14.800683\n",
      "12     11.592172   12.799939   22.877731      17.219880\n",
      "13     14.037133   15.031916   25.299904      19.941126\n",
      "14     16.855779   17.570092   27.979261      22.988267\n",
      "15     20.079698   20.443098   30.944616      26.385331\n",
      "16     23.739660   23.680344   34.226773      30.156344\n",
      "17     27.865211   27.311754   37.858194      34.325125\n",
      "18     32.484300   31.367468   41.872577      38.915084\n",
      "19     37.622925   35.877501   46.304354      43.949011\n",
      "20     43.304832   40.871378   51.188135      49.448868\n",
      "21     49.551252   46.377745   56.558100      55.435580\n",
      "22     56.380678   52.423974   62.447379      61.928839\n",
      "23     63.808714   59.035757   68.887429      68.946908\n",
      "24     71.847952   66.236720   75.907436      76.506447\n",
      "25     80.507916   74.048057   83.533765      84.622344\n",
      "26     89.795048   82.488200   91.789474      93.307571\n",
      "27     99.712742   91.572525  100.693905     102.573056\n",
      "28    110.261418  101.313124  110.262368     112.427578\n",
      "29    121.438635  111.718626  120.505922     122.877683\n",
      "30    133.239238  122.794084  131.431256     133.927627\n",
      "31    145.655528  134.540934  143.040670     145.579346\n",
      "32    158.677458  146.957012  155.332149     157.832444\n",
      "33    172.292841  160.036640  168.299527     170.684212\n",
      "34    186.487576  173.770771  181.932721     184.129674\n",
      "35    201.245873  188.147180  196.218034     198.161650\n",
      "36    216.550486  203.150716  211.138505     212.770849\n",
      "37    232.382944  218.763572  226.674303     227.945974\n",
      "38    248.723772  234.965599  242.803133     243.673856\n",
      "39    265.552712  251.734637  259.500665     259.939599\n",
      "40    282.848922  269.046847  276.740956     276.726738\n",
      "41    300.591179  286.877061  294.496863     294.017411\n",
      "42    318.758051  305.199111  312.740440     311.792542\n",
      "43    337.328064  323.986162  331.443305     330.032026\n",
      "44    356.279853  343.211016  350.576974     348.714917\n",
      "45    375.592296  362.846400  370.113170     367.819622\n",
      "46    395.244626  382.865223  390.024084     387.324085\n",
      "47    415.216539  403.240815  410.282604     407.205975\n",
      "48    435.488279  423.947125  430.862505     427.442860\n",
      "49    456.040709  444.958900  451.738600     448.012376\n",
      "50    476.855372  466.251824  472.886864     468.892383\n",
      "51    497.914537  487.802639  494.284515     490.061112\n",
      "52    519.201232  509.589227  515.910078     511.497294\n",
      "53    540.699272  531.590680  537.743412     533.180278\n",
      "54    562.393268  553.787336  559.765722     555.090135\n",
      "55    584.268639  576.160798  581.959548     577.207741\n"
     ]
    }
   ],
   "source": [
    "put_th_prices = pd.DataFrame(columns=['BlackScholes', 'Merton', 'Kou', 'VarianceGamma'])\n",
    "\n",
    "for i, K in enumerate(put_strikes):\n",
    "    bs = BS.closed_formula_put(K)\n",
    "    mert = Merton.closed_formula_put(K)\n",
    "    kou = Kou.closed_formula_put(K)\n",
    "    vg = VG.closed_formula_put(K)\n",
    "    put_th_prices.loc[i] = [bs, mert, kou, vg]\n",
    "\n",
    "print(f'Theoretical put options prices:')\n",
    "print(put_th_prices)"
   ],
   "metadata": {
    "collapsed": false
   }
  },
  {
   "cell_type": "code",
   "execution_count": 10,
   "outputs": [],
   "source": [
    "def implied_volatility(price, S, strike, t, rate, q, type_o, method, disp=True ):\n",
    "    \"\"\" Returns Implied volatility\n",
    "        methods:  fsolve (default) or brent\n",
    "    \"\"\"\n",
    "\n",
    "    def obj_fun(vol):\n",
    "        return BS.BlackScholes(type_o=type_o, S0=S, K=strike, ttm=t, r=rate, q=q, sigma=vol) - price\n",
    "\n",
    "    def vega(vol):\n",
    "        return BS.vega(S, strike, rate, q, vol, t)\n",
    "\n",
    "    if method == 'brent':\n",
    "        x, res = scpo.brentq(obj_fun, a=1e-15, b=500, full_output=True)\n",
    "        if res.converged:\n",
    "            return x\n",
    "\n",
    "    if method =='fsolve':\n",
    "        #X0 = [0.03, 0.08, 0.1, 0.15, 0.2, 0.3, 0.5, 1, 2]   # set of\n",
    "        X0 = [0.1, 0.5, 1, 3]\n",
    "        #initial guess points for imp.vol.\n",
    "        for x_0 in X0:\n",
    "            x, _, solved, _ = scpo.fsolve(obj_fun, x_0, full_output=True, xtol=1e-8)\n",
    "            if solved == 1:\n",
    "                return x[0]\n",
    "\n",
    "    if method == 'newton':\n",
    "        guess = 0.5\n",
    "        result = scpo.newton(obj_fun, guess, vega, tol=1e-4)\n",
    "        return result\n",
    "\n",
    "\n",
    "    if disp:\n",
    "        return -1"
   ],
   "metadata": {
    "collapsed": false
   }
  },
  {
   "cell_type": "markdown",
   "source": [
    "Let's now compute the implied volatilities from the true market prices *call_prices*."
   ],
   "metadata": {
    "collapsed": false
   }
  },
  {
   "cell_type": "code",
   "execution_count": 11,
   "outputs": [
    {
     "name": "stdout",
     "output_type": "stream",
     "text": [
      "Implied volatilities found by each model for call options:\n",
      "    BlackScholes    Merton       Kou  VarianceGamma\n",
      "0            0.2  0.222448  0.288750       0.237498\n",
      "1            0.2  0.220874  0.284492       0.236066\n",
      "2            0.2  0.219323  0.280254       0.234655\n",
      "3            0.2  0.217792  0.276038       0.233262\n",
      "4            0.2  0.216283  0.271848       0.231887\n",
      "5            0.2  0.214795  0.267687       0.230530\n",
      "6            0.2  0.213327  0.263562       0.229190\n",
      "7            0.2  0.211880  0.259481       0.227866\n",
      "8            0.2  0.210453  0.255454       0.226557\n",
      "9            0.2  0.209046  0.251490       0.225264\n",
      "10           0.2  0.207661  0.247600       0.223986\n",
      "11           0.2  0.206298  0.243798       0.222722\n",
      "12           0.2  0.204957  0.240095       0.221472\n",
      "13           0.2  0.203640  0.236503       0.220235\n",
      "14           0.2  0.202347  0.233032       0.219011\n",
      "15           0.2  0.201080  0.229694       0.217799\n",
      "16           0.2  0.199839  0.226496       0.216600\n",
      "17           0.2  0.198627  0.223447       0.215413\n",
      "18           0.2  0.197443  0.220550       0.214237\n",
      "19           0.2  0.196289  0.217810       0.213073\n",
      "20           0.2  0.195166  0.215228       0.211919\n",
      "21           0.2  0.194073  0.212805       0.210777\n",
      "22           0.2  0.193013  0.210538       0.209645\n",
      "23           0.2  0.191985  0.208425       0.208523\n",
      "24           0.2  0.190990  0.206461       0.207411\n",
      "25           0.2  0.190028  0.204643       0.206309\n",
      "26           0.2  0.189098  0.202964       0.205217\n",
      "27           0.2  0.188200  0.201419       0.204135\n",
      "28           0.2  0.187335  0.200001       0.203062\n",
      "29           0.2  0.186502  0.198705       0.201998\n",
      "30           0.2  0.185699  0.197524       0.200943\n",
      "31           0.2  0.184928  0.196453       0.199897\n",
      "32           0.2  0.184186  0.195485       0.198860\n",
      "33           0.2  0.183474  0.194616       0.197831\n",
      "34           0.2  0.182789  0.193840       0.196812\n",
      "35           0.2  0.182133  0.193152       0.195801\n",
      "36           0.2  0.181503  0.192548       0.194798\n",
      "37           0.2  0.180898  0.192024       0.193804\n",
      "38           0.2  0.180319  0.191576       0.192819\n",
      "39           0.2  0.179764  0.191201       0.191842\n",
      "40           0.2  0.179231  0.190895       0.190874\n",
      "41           0.2  0.178721  0.190656       0.189914\n",
      "42           0.2  0.178233  0.190481       0.188962\n",
      "43           0.2  0.177765  0.190367       0.188019\n",
      "44           0.2  0.177317  0.190314       0.187085\n",
      "45           0.2  0.176888  0.190317       0.186159\n",
      "46           0.2  0.176477  0.190377       0.185242\n",
      "47           0.2  0.176083  0.190490       0.184334\n",
      "48           0.2  0.175707  0.190656       0.183435\n",
      "49           0.2  0.175346  0.190874       0.182544\n",
      "50           0.2  0.175002  0.191140       0.181663\n",
      "51           0.2  0.174672  0.191455       0.180791\n",
      "52           0.2  0.174356  0.191817       0.179928\n",
      "53           0.2  0.174054  0.192224       0.179075\n",
      "54           0.2  0.173766  0.192675       0.178232\n",
      "55           0.2  0.173490  0.193168       0.177398\n"
     ]
    }
   ],
   "source": [
    "IV_BS = []; IV_M = []; IV_K = []; IV_VG = []\n",
    "\n",
    "for i in range(len(call_prices)):\n",
    "    IV_BS.append(implied_volatility(call_th_prices['BlackScholes'].values[i], S=S0, strike=call_strikes[i], t=T, rate=r,q=q, type_o='call', method='newton') )\n",
    "    IV_M.append(implied_volatility(call_th_prices['Merton'].values[i], S=S0, strike = call_strikes[i], t=T, rate=r, q=q,  type_o='call', method='newton'))\n",
    "    IV_K.append(implied_volatility(call_th_prices['Kou'].values[i], S=S0, strike = call_strikes[i], t=T, rate=r, q=q,  type_o='call', method='newton'))\n",
    "    IV_VG.append(implied_volatility(call_th_prices['VarianceGamma'].values[i], S=S0, strike=call_strikes[i], t = T, rate=r, q=q, type_o='call', method='fsolve'))\n",
    "\n",
    "imp_vol_call = pd.DataFrame(columns=['BlackScholes', 'Merton', 'Kou', 'VarianceGamma'])\n",
    "imp_vol_call['BlackScholes'] = IV_BS\n",
    "imp_vol_call['Merton'] = IV_M\n",
    "imp_vol_call['Kou'] = IV_K\n",
    "imp_vol_call['VarianceGamma'] = IV_VG\n",
    "\n",
    "print(f'Implied volatilities found by each model for call options:\\n{imp_vol_call}')"
   ],
   "metadata": {
    "collapsed": false
   }
  },
  {
   "cell_type": "code",
   "execution_count": 12,
   "outputs": [
    {
     "name": "stdout",
     "output_type": "stream",
     "text": [
      "Implied volatilities found by each model for put options:\n",
      "     BlackScholes    Merton       Kou  VarianceGamma\n",
      "0            0.2  0.222448  0.288750       0.237498\n",
      "1            0.2  0.220874  0.284492       0.236066\n",
      "2            0.2  0.219323  0.280254       0.234655\n",
      "3            0.2  0.217792  0.276038       0.233262\n",
      "4            0.2  0.216283  0.271848       0.231887\n",
      "5            0.2  0.214795  0.267687       0.230530\n",
      "6            0.2  0.213327  0.263562       0.229190\n",
      "7            0.2  0.211880  0.259481       0.227866\n",
      "8            0.2  0.210453  0.255453       0.226557\n",
      "9            0.2  0.209046  0.251490       0.225264\n",
      "10           0.2  0.207661  0.247600       0.223986\n",
      "11           0.2  0.206298  0.243798       0.222722\n",
      "12           0.2  0.204957  0.240095       0.221472\n",
      "13           0.2  0.203640  0.236503       0.220235\n",
      "14           0.2  0.202347  0.233032       0.219011\n",
      "15           0.2  0.201080  0.229694       0.217799\n",
      "16           0.2  0.199839  0.226496       0.216600\n",
      "17           0.2  0.198627  0.223447       0.215413\n",
      "18           0.2  0.197443  0.220550       0.214237\n",
      "19           0.2  0.196289  0.217810       0.213073\n",
      "20           0.2  0.195166  0.215228       0.211919\n",
      "21           0.2  0.194073  0.212805       0.210777\n",
      "22           0.2  0.193013  0.210538       0.209645\n",
      "23           0.2  0.191985  0.208425       0.208523\n",
      "24           0.2  0.190990  0.206461       0.207411\n",
      "25           0.2  0.190028  0.204643       0.206309\n",
      "26           0.2  0.189098  0.202964       0.205217\n",
      "27           0.2  0.188200  0.201419       0.204135\n",
      "28           0.2  0.187335  0.200001       0.203062\n",
      "29           0.2  0.186502  0.198705       0.201998\n",
      "30           0.2  0.185699  0.197524       0.200943\n",
      "31           0.2  0.184928  0.196453       0.199897\n",
      "32           0.2  0.184186  0.195485       0.198860\n",
      "33           0.2  0.183474  0.194616       0.197831\n",
      "34           0.2  0.182789  0.193840       0.196812\n",
      "35           0.2  0.182133  0.193152       0.195801\n",
      "36           0.2  0.181503  0.192548       0.194798\n",
      "37           0.2  0.180898  0.192024       0.193804\n",
      "38           0.2  0.180319  0.191576       0.192819\n",
      "39           0.2  0.179764  0.191201       0.191842\n",
      "40           0.2  0.179231  0.190895       0.190874\n",
      "41           0.2  0.178721  0.190656       0.189914\n",
      "42           0.2  0.178233  0.190481       0.188962\n",
      "43           0.2  0.177765  0.190367       0.188019\n",
      "44           0.2  0.177317  0.190314       0.187085\n",
      "45           0.2  0.176888  0.190317       0.186159\n",
      "46           0.2  0.176477  0.190377       0.185242\n",
      "47           0.2  0.176083  0.190490       0.184334\n",
      "48           0.2  0.175707  0.190656       0.183435\n",
      "49           0.2  0.175346  0.190874       0.182544\n",
      "50           0.2  0.175002  0.191140       0.181663\n",
      "51           0.2  0.174672  0.191455       0.180791\n",
      "52           0.2  0.174356  0.191817       0.179928\n",
      "53           0.2  0.174054  0.192224       0.179075\n",
      "54           0.2  0.173766  0.192675       0.178232\n",
      "55           0.2  0.173490  0.193168       0.177398\n"
     ]
    }
   ],
   "source": [
    "IV_BS = []; IV_M = []; IV_K = []; IV_VG = []\n",
    "\n",
    "for i in range(len(put_prices)):\n",
    "    IV_BS.append(implied_volatility(put_th_prices['BlackScholes'].values[i], S=S0, strike=put_strikes[i], t=T, rate=r, q=q, type_o='put', method='newton' ) )\n",
    "    IV_M.append(implied_volatility(put_th_prices['Merton'].values[i], S=S0, strike = put_strikes[i], t=T, rate=r, q=q, type_o='put', method='fsolve'))\n",
    "    IV_K.append(implied_volatility(put_th_prices['Kou'].values[i], S=S0, strike = put_strikes[i], t=T, rate=r, q=q, type_o='put', method='fsolve'))\n",
    "    IV_VG.append(implied_volatility(put_th_prices['VarianceGamma'].values[i], S=S0, strike=put_strikes[i], t = T, rate=r, q=q, type_o='put', method='fsolve'))\n",
    "\n",
    "imp_vol_put = pd.DataFrame(columns=['BlackScholes', 'Merton', 'Kou', 'VarianceGamma'])\n",
    "imp_vol_put['BlackScholes'] = IV_BS\n",
    "imp_vol_put['Merton'] = IV_M\n",
    "imp_vol_put['Kou'] = IV_K\n",
    "imp_vol_put['VarianceGamma'] = IV_VG\n",
    "\n",
    "print(f'Implied volatilities found by each model for put options:\\n {imp_vol_put}')"
   ],
   "metadata": {
    "collapsed": false
   }
  },
  {
   "cell_type": "markdown",
   "source": [
    "Plot of the implied volatilities with respect to the strike price."
   ],
   "metadata": {
    "collapsed": false
   }
  },
  {
   "cell_type": "code",
   "execution_count": 13,
   "outputs": [
    {
     "data": {
      "text/plain": "<Figure size 1600x400 with 2 Axes>",
      "image/png": "[encoded data removed]"
     },
     "metadata": {},
     "output_type": "display_data"
    }
   ],
   "source": [
    "fig = plt.figure(figsize=(16,4))\n",
    "ax1 = fig.add_subplot(121); ax2 = fig.add_subplot(122)\n",
    "\n",
    "ax1.plot(call_strikes, call_th_prices['BlackScholes'], label=\"BS\"); ax1.plot(call_strikes, call_th_prices['Merton'], label=\"MERT\")\n",
    "ax1.plot(call_strikes, call_th_prices['Kou'], label=\"KOU\"); ax1.plot(call_strikes, call_th_prices['VarianceGamma'], label=\"VG\")\n",
    "ax1.set_title(\"Comparison of prices\"); ax1.set_xlabel(\"Strike\"); ax1.set_ylabel(\"Price\")\n",
    "\n",
    "ax2.plot(call_strikes, imp_vol_call['BlackScholes'], label=\"BS\"); ax2.plot(call_strikes, imp_vol_call['Merton'], label=\"MERT\")\n",
    "ax2.plot(call_strikes, imp_vol_call['Kou'], label=\"KOU\"); ax2.plot(call_strikes, imp_vol_call['VarianceGamma'], label=\"VG\")\n",
    "ax2.set_title(\"Comparison of Implied volatilities\"); ax2.set_xlabel(\"Strike\"); ax2.set_ylabel(\"Imp Vol\")\n",
    "\n",
    "ax1.legend(); ax2.legend(); plt.show()"
   ],
   "metadata": {
    "collapsed": false
   }
  },
  {
   "cell_type": "markdown",
   "source": [
    "## Calibration of Merton Jump Diffusion parameters\n",
    "First we'll initialize a starting point in the array $x_0 = [σ, λ, m, v]$\n",
    "and we set bounds for the 4 parameters. Then we use the method\n",
    "1. **curve_fit** of scipy.optimize. It uses the trf method when the parameters are bounded and the Levemberg-Marquadt method for unbounded parameters."
   ],
   "metadata": {
    "collapsed": false
   }
  },
  {
   "cell_type": "code",
   "execution_count": 9,
   "outputs": [],
   "source": [
    "x0 = [0.15, 1, 0.1, 1] # initial guess: [σ, λ, m, v]\n",
    "bounds = ( [0, 0, -10, 0.1], [np.inf, np.inf, 10, 5] )\n",
    "\n",
    "def f_Mert(x, sigma, lambd, meanJ, stdJ):\n",
    "    Mert = Merton_pricer(S0=S0, K=x, ttm=T, r=r, q=0, sigma=sigma, lambd=lambd, meanJ=meanJ, stdJ=stdJ, exercise=exercise)\n",
    "    return Mert.closed_formula_call(x)\n",
    "#"
   ],
   "metadata": {
    "collapsed": false
   }
  },
  {
   "cell_type": "markdown",
   "source": [
    "- Method 1. curve_fit of scipy.optimize. It uses the trf method when the parameters are bounded and the Levemberg-Marquadt method for unbounded parameters."
   ],
   "metadata": {
    "collapsed": false
   }
  },
  {
   "cell_type": "code",
   "execution_count": 10,
   "outputs": [
    {
     "name": "stdout",
     "output_type": "stream",
     "text": [
      "METHOD 1: CURVE_FIT (trf)\n",
      "> Calibrated Volatlity [σ] =  0.10371\n",
      "> Calibrated Jump intensity [λ] =  0.09\n",
      "> Calibrated Jump Mean =  0.11\n",
      "> Calibrated Jump St. dev.  =  0.1\n"
     ]
    }
   ],
   "source": [
    "res1 = scpo.curve_fit(f_Mert, call_strikes, call_prices, p0=x0, bounds=bounds)\n",
    "\n",
    "sigt = round(res1[0][0],5)\n",
    "lambdt = round(res1[0][1],2)\n",
    "mt = round(res1[0][2],2)\n",
    "vt = round(res1[0][3],5)\n",
    "\n",
    "print('METHOD 1: CURVE_FIT (trf)')\n",
    "print('> Calibrated Volatlity [σ] = ', sigt)\n",
    "print('> Calibrated Jump intensity [λ] = ', lambdt)\n",
    "print('> Calibrated Jump Mean = ', mt)\n",
    "print('> Calibrated Jump St. dev.  = ', vt)"
   ],
   "metadata": {
    "collapsed": false
   }
  },
  {
   "cell_type": "code",
   "execution_count": 11,
   "outputs": [
    {
     "name": "stderr",
     "output_type": "stream",
     "text": [
      "C:\\Users\\ornel\\OneDrive\\Desktop\\TESI\\PythonProjects\\Margin-Loans-Pricing\\python-modules\\functions\\MERTONpricer.py:50: RuntimeWarning: overflow encountered in exp\n",
      "  mean = np.exp(self.meanJ + self.stdJ ** 2 / 2)\n",
      "C:\\Users\\ornel\\OneDrive\\Desktop\\TESI\\PythonProjects\\Margin-Loans-Pricing\\python-modules\\functions\\MERTONpricer.py:51: RuntimeWarning: invalid value encountered in scalar multiply\n",
      "  r_k = self.r - self.lambd * (mean - 1) + (k * np.log(mean)) / self.ttm\n",
      "C:\\Users\\ornel\\OneDrive\\Desktop\\TESI\\PythonProjects\\Margin-Loans-Pricing\\python-modules\\functions\\MERTONpricer.py:54: RuntimeWarning: overflow encountered in exp\n",
      "  V += (np.exp(-mean * self.lambd * self.ttm) * (mean * self.lambd * self.ttm) ** k) / k_fact * \\\n",
      "C:\\Users\\ornel\\OneDrive\\Desktop\\TESI\\PythonProjects\\Margin-Loans-Pricing\\python-modules\\functions\\MERTONpricer.py:54: RuntimeWarning: overflow encountered in scalar power\n",
      "  V += (np.exp(-mean * self.lambd * self.ttm) * (mean * self.lambd * self.ttm) ** k) / k_fact * \\\n"
     ]
    },
    {
     "name": "stdout",
     "output_type": "stream",
     "text": [
      "METHOD 1.2: CURVE_FIT (Levemberg-Marquadt, no bounds)\n",
      "> Calibrated Volatlity [σ] =  -0.19794\n",
      "> Calibrated Jump intensity [λ] =  -0.05\n",
      "> Calibrated Jump Mean =  -42.39\n",
      "> Calibrated Jump St. dev.  =  9.06846\n"
     ]
    }
   ],
   "source": [
    "res1_2 = scpo.curve_fit(f_Mert, call_strikes, call_prices, p0=x0)\n",
    "\n",
    "sigt2 = round(res1_2[0][0],5)\n",
    "lambdt2 = round(res1_2[0][1],2)\n",
    "mt2 = round(res1_2[0][2],2)\n",
    "vt2 = round(res1_2[0][3],5)\n",
    "\n",
    "print('METHOD 1.2: CURVE_FIT (Levemberg-Marquadt, no bounds)')\n",
    "print('> Calibrated Volatlity [σ] = ', sigt2)\n",
    "print('> Calibrated Jump intensity [λ] = ', lambdt2)\n",
    "print('> Calibrated Jump Mean = ', mt2)\n",
    "print('> Calibrated Jump St. dev.  = ', vt2)"
   ],
   "metadata": {
    "collapsed": false
   }
  },
  {
   "cell_type": "markdown",
   "source": [
    "- Method 2. minimize(method=’SLSQP’)"
   ],
   "metadata": {
    "collapsed": false
   }
  },
  {
   "cell_type": "code",
   "execution_count": 12,
   "outputs": [
    {
     "name": "stdout",
     "output_type": "stream",
     "text": [
      " message: Optimization terminated successfully\n",
      " success: True\n",
      "  status: 0\n",
      "     fun: 0.0\n",
      "       x: [ 2.997e-01  6.285e+02  7.717e+02  2.539e+03]\n",
      "     nit: 2\n",
      "     jac: [ 0.000e+00  0.000e+00  0.000e+00  0.000e+00]\n",
      "    nfev: 20\n",
      "    njev: 2\n",
      "> METHOD 2: MINIMIZE (SLSQP)\n",
      "Calibrated Volatility [σ] = 0.29971\n",
      "Calibrated Jump Intensity [λ] = 628.5\n",
      "Calibrated Jump Mean [m] = 771.68\n",
      "Calibrated Jump St. dev. [v] = 2538.65\n"
     ]
    },
    {
     "name": "stderr",
     "output_type": "stream",
     "text": [
      "c:\\users\\ornel\\appdata\\local\\programs\\python\\python38\\lib\\site-packages\\scipy\\optimize\\_optimize.py:353: RuntimeWarning: Values in x were outside bounds during a minimize step, clipping to bounds\n",
      "  warnings.warn(\"Values in x were outside bounds during a \"\n",
      "C:\\Users\\ornel\\OneDrive\\Desktop\\TESI\\PythonProjects\\Margin-Loans-Pricing\\python-modules\\functions\\MERTONpricer.py:50: RuntimeWarning: overflow encountered in exp\n",
      "  mean = np.exp(self.meanJ + self.stdJ ** 2 / 2)\n",
      "C:\\Users\\ornel\\OneDrive\\Desktop\\TESI\\PythonProjects\\Margin-Loans-Pricing\\python-modules\\functions\\MERTONpricer.py:51: RuntimeWarning: invalid value encountered in scalar multiply\n",
      "  r_k = self.r - self.lambd * (mean - 1) + (k * np.log(mean)) / self.ttm\n",
      "C:\\Users\\ornel\\OneDrive\\Desktop\\TESI\\PythonProjects\\Margin-Loans-Pricing\\python-modules\\functions\\MERTONpricer.py:51: RuntimeWarning: invalid value encountered in scalar add\n",
      "  r_k = self.r - self.lambd * (mean - 1) + (k * np.log(mean)) / self.ttm\n",
      "C:\\Users\\ornel\\OneDrive\\Desktop\\TESI\\PythonProjects\\Margin-Loans-Pricing\\python-modules\\functions\\MERTONpricer.py:54: RuntimeWarning: invalid value encountered in scalar multiply\n",
      "  V += (np.exp(-mean * self.lambd * self.ttm) * (mean * self.lambd * self.ttm) ** k) / k_fact * \\\n"
     ]
    }
   ],
   "source": [
    "x0 = [0.3, 0.8, -0.1, 0.4] # initial guess: [σ, λ, m, v]\n",
    "bounds = [(1e-6, 10), (0, np.inf), (-10, np.inf),  (0, np.inf)]\n",
    "\n",
    "# Define the objective function\n",
    "def obj_function(x, strikes, prices):\n",
    "    sigm, lamb, mean, std = x\n",
    "    Mert = Merton_pricer(S0=S0, K=strikes, ttm=T, r=r, q=0, sigma=sigm, lambd=lamb, meanJ=mean, stdJ=std, exercise=exercise)\n",
    "    return np.sum((Mert.closed_formula_call(K) - prices) ** 2)\n",
    "\n",
    "additional_args = (call_strikes, call_prices)\n",
    "\n",
    "res2 = scpo.minimize(obj_function, x0, args=additional_args,  method='SLSQP', bounds=bounds, tol=1e-20)\n",
    "\n",
    "print(res2)\n",
    "sigt, lambdt, mt, vt = res2.x\n",
    "\n",
    "# Print the results\n",
    "print('> METHOD 2: MINIMIZE (SLSQP)')\n",
    "print('Calibrated Volatility [σ] =', round(sigt, 5))\n",
    "print('Calibrated Jump Intensity [λ] =', round(lambdt, 2))\n",
    "print('Calibrated Jump Mean [m] =', round(mt, 2))\n",
    "print('Calibrated Jump St. dev. [v] =', round(vt, 2))"
   ],
   "metadata": {
    "collapsed": false
   }
  },
  {
   "cell_type": "markdown",
   "source": [
    "## Calibration of Kou Jump Diffusion parameters"
   ],
   "metadata": {
    "collapsed": false
   }
  },
  {
   "cell_type": "code",
   "execution_count": 13,
   "outputs": [],
   "source": [
    "x0 = [0.1, 0.5, 0.4, 5, 5] # initial guess: [σ, λ, p, η_1, η_1]\n",
    "bounds = ( [0, 0, 0, 0, 0], [4, 10, 0.9,  10, 10] )\n",
    "\n",
    "def f_Kou(x, sigma, lambd, p, eta1, eta2):\n",
    "    KouJD = Kou_pricer(S0=S0, K=x, ttm=T, r=r, sigma=sigma, lambd=lambd, p=p, eta1=eta1, eta2=eta2, exercise=exercise)\n",
    "    return KouJD.closed_formula_call(x)"
   ],
   "metadata": {
    "collapsed": false
   }
  },
  {
   "cell_type": "markdown",
   "source": [
    "Method scipy.optimize: curve_fit"
   ],
   "metadata": {
    "collapsed": false
   }
  },
  {
   "cell_type": "code",
   "execution_count": 14,
   "outputs": [
    {
     "name": "stdout",
     "output_type": "stream",
     "text": [
      "METHOD 1: CURVE_FIT (trf)\n",
      "> Calibrated Volatlity [σ] =  0.11031\n",
      "> Calibrated Jump intensity [λ] =  0.01\n",
      "> Calibrated Upward Jump probability =  0.9\n",
      "> Calibrated Rate of Exp. 1  =  5.3\n",
      "> Calibrated Rate of Exp. 2  =  10.0\n"
     ]
    }
   ],
   "source": [
    "res1 = scpo.curve_fit(f_Kou, call_strikes, call_prices, p0=x0, bounds=bounds)\n",
    "\n",
    "sigt = round(res1[0][0],5)\n",
    "lambdt = round(res1[0][1],2)\n",
    "pt = round(res1[0][2],2)\n",
    "eta1_t = round(res1[0][3],1)\n",
    "eta2_t = round(res1[0][4],1)\n",
    "\n",
    "print('METHOD 1: CURVE_FIT (trf)')\n",
    "print('> Calibrated Volatlity [σ] = ', sigt)\n",
    "print('> Calibrated Jump intensity [λ] = ', lambdt)\n",
    "print('> Calibrated Upward Jump probability = ', pt)\n",
    "print('> Calibrated Rate of Exp. 1  = ', eta1_t)\n",
    "print('> Calibrated Rate of Exp. 2  = ', eta2_t)"
   ],
   "metadata": {
    "collapsed": false
   }
  },
  {
   "cell_type": "markdown",
   "source": [
    "#### Method 2: minimize function"
   ],
   "metadata": {
    "collapsed": false
   }
  },
  {
   "cell_type": "code",
   "execution_count": 21,
   "outputs": [
    {
     "name": "stderr",
     "output_type": "stream",
     "text": [
      "C:\\Users\\ornel\\OneDrive\\Desktop\\TESI\\PythonProjects\\Margin-Loans-Pricing\\python-modules\\functions\\KOUpricer.py:144: RuntimeWarning: invalid value encountered in scalar divide\n",
      "  p2 = self.p / (1 + zeta) * self.eta1 / (self.eta1 - 1)\n",
      "C:\\Users\\ornel\\OneDrive\\Desktop\\TESI\\PythonProjects\\Margin-Loans-Pricing\\python-modules\\functions\\KOUpricer.py:65: RuntimeWarning: divide by zero encountered in scalar divide\n",
      "  sum_p = sum_p + ssp.binom(n - k - 1, i - k) * ssp.binom(n, i) * (eta1 / (eta1 + eta2)) \\\n",
      "C:\\Users\\ornel\\OneDrive\\Desktop\\TESI\\PythonProjects\\Margin-Loans-Pricing\\python-modules\\functions\\KOUpricer.py:66: RuntimeWarning: divide by zero encountered in scalar divide\n",
      "  ** (i - k) * (eta2 / (eta1 + eta2)) ** (n - i) * p ** i * q ** (n - i)\n",
      "C:\\Users\\ornel\\OneDrive\\Desktop\\TESI\\PythonProjects\\Margin-Loans-Pricing\\python-modules\\functions\\KOUpricer.py:81: RuntimeWarning: divide by zero encountered in scalar divide\n",
      "  sum_q = sum_q + ssp.binom(n - k - 1, i - k) * ssp.binom(n, i) * (eta1 / (eta1 + eta2)) \\\n",
      "C:\\Users\\ornel\\OneDrive\\Desktop\\TESI\\PythonProjects\\Margin-Loans-Pricing\\python-modules\\functions\\KOUpricer.py:82: RuntimeWarning: divide by zero encountered in scalar divide\n",
      "  ** (n - i) * (eta2 / (eta1 + eta2)) ** (i - k) * p ** (n - i) * q ** i\n",
      "C:\\Users\\ornel\\OneDrive\\Desktop\\TESI\\PythonProjects\\Margin-Loans-Pricing\\python-modules\\functions\\KOUpricer.py:65: RuntimeWarning: invalid value encountered in scalar divide\n",
      "  sum_p = sum_p + ssp.binom(n - k - 1, i - k) * ssp.binom(n, i) * (eta1 / (eta1 + eta2)) \\\n",
      "C:\\Users\\ornel\\OneDrive\\Desktop\\TESI\\PythonProjects\\Margin-Loans-Pricing\\python-modules\\functions\\KOUpricer.py:66: RuntimeWarning: invalid value encountered in scalar divide\n",
      "  ** (i - k) * (eta2 / (eta1 + eta2)) ** (n - i) * p ** i * q ** (n - i)\n",
      "C:\\Users\\ornel\\OneDrive\\Desktop\\TESI\\PythonProjects\\Margin-Loans-Pricing\\python-modules\\functions\\KOUpricer.py:81: RuntimeWarning: invalid value encountered in scalar divide\n",
      "  sum_q = sum_q + ssp.binom(n - k - 1, i - k) * ssp.binom(n, i) * (eta1 / (eta1 + eta2)) \\\n",
      "C:\\Users\\ornel\\OneDrive\\Desktop\\TESI\\PythonProjects\\Margin-Loans-Pricing\\python-modules\\functions\\KOUpricer.py:82: RuntimeWarning: invalid value encountered in scalar divide\n",
      "  ** (n - i) * (eta2 / (eta1 + eta2)) ** (i - k) * p ** (n - i) * q ** i\n"
     ]
    },
    {
     "name": "stdout",
     "output_type": "stream",
     "text": [
      " message: Inequality constraints incompatible\n",
      " success: False\n",
      "  status: 4\n",
      "     fun: 0.0\n",
      "       x: [ 1.866e-02  1.749e+00  0.000e+00  1.000e+01  0.000e+00]\n",
      "     nit: 5\n",
      "     jac: [ 0.000e+00  0.000e+00  2.508e+15 -0.000e+00  2.508e+15]\n",
      "    nfev: 37\n",
      "    njev: 5\n",
      "METHOD 1: CURVE_FIT (trf)\n",
      "> Calibrated Volatlity [σ] =  0.01865757266872753\n",
      "> Calibrated Jump intensity [λ] =  1.749200144170858\n",
      "> Calibrated Upward Jump probability =  0.0\n",
      "> Calibrated Rate of Exp. 1  =  10.0\n",
      "> Calibrated Rate of Exp. 2  =  0.0\n"
     ]
    }
   ],
   "source": [
    "x0 = [0.1, 0.5, 0.5, 8, 4] # initial guess: [σ, λ, p, η_1, η_1]\n",
    "bounds = [(0, 4), (0, 10), (0, 1),  (0, 10), (0,10)]\n",
    "\n",
    "# Define the objective function\n",
    "def obj_function(x, strikes, prices):\n",
    "    sigm, lamb, p, eta1, eta2 = x\n",
    "    KouJD = Kou_pricer(S0=S0, K=strikes, ttm=T, r=r, sigma=sigm, lambd=lamb, p=p, eta1=eta1, eta2=eta2, exercise=exercise)\n",
    "    return np.sum((KouJD.closed_formula_call(K) - prices) ** 2)\n",
    "\n",
    "additional_args = (call_strikes, call_prices)\n",
    "\n",
    "res2 = scpo.minimize(obj_function, x0, args=additional_args,  method='SLSQP', bounds=bounds, tol=1e-20)\n",
    "print(res2)\n",
    "\n",
    "sigt, lambdt, pt, eta1_t, eta2_t = res2.x\n",
    "\n",
    "print('METHOD 1: CURVE_FIT (trf)')\n",
    "print('> Calibrated Volatlity [σ] = ', sigt)\n",
    "print('> Calibrated Jump intensity [λ] = ', lambdt)\n",
    "print('> Calibrated Upward Jump probability = ', pt)\n",
    "print('> Calibrated Rate of Exp. 1  = ', eta1_t)\n",
    "print('> Calibrated Rate of Exp. 2  = ', eta2_t)"
   ],
   "metadata": {
    "collapsed": false
   }
  },
  {
   "cell_type": "markdown",
   "source": [
    "Let's select a sample of the original dataframe in order to speed up the computation."
   ],
   "metadata": {
    "collapsed": false
   }
  },
  {
   "cell_type": "code",
   "execution_count": 20,
   "outputs": [
    {
     "ename": "NameError",
     "evalue": "name 'f_Kou' is not defined",
     "output_type": "error",
     "traceback": [
      "\u001B[1;31m---------------------------------------------------------------------------\u001B[0m",
      "\u001B[1;31mNameError\u001B[0m                                 Traceback (most recent call last)",
      "Cell \u001B[1;32mIn[20], line 10\u001B[0m\n\u001B[0;32m      7\u001B[0m x0 \u001B[38;5;241m=\u001B[39m [\u001B[38;5;241m0.1\u001B[39m, \u001B[38;5;241m0.5\u001B[39m, \u001B[38;5;241m0.5\u001B[39m, \u001B[38;5;241m8\u001B[39m, \u001B[38;5;241m4\u001B[39m] \u001B[38;5;66;03m# initial guess: [σ, λ, p, η_1, η_1]\u001B[39;00m\n\u001B[0;32m      9\u001B[0m bounds1 \u001B[38;5;241m=\u001B[39m ( [\u001B[38;5;241m0\u001B[39m, \u001B[38;5;241m0\u001B[39m, \u001B[38;5;241m0\u001B[39m, \u001B[38;5;241m0\u001B[39m, \u001B[38;5;241m0\u001B[39m], [\u001B[38;5;241m4\u001B[39m, \u001B[38;5;241m10\u001B[39m, \u001B[38;5;241m1\u001B[39m,  \u001B[38;5;241m10\u001B[39m, \u001B[38;5;241m10\u001B[39m] )\n\u001B[1;32m---> 10\u001B[0m res1 \u001B[38;5;241m=\u001B[39m scpo\u001B[38;5;241m.\u001B[39mcurve_fit(\u001B[43mf_Kou\u001B[49m, c_strikes_resized, c_prices_resized, p0\u001B[38;5;241m=\u001B[39mx0, bounds\u001B[38;5;241m=\u001B[39mbounds1)\n\u001B[0;32m     11\u001B[0m \u001B[38;5;28mprint\u001B[39m(res1[\u001B[38;5;241m0\u001B[39m])\n\u001B[0;32m     13\u001B[0m bounds2 \u001B[38;5;241m=\u001B[39m [(\u001B[38;5;241m0\u001B[39m, \u001B[38;5;241m4\u001B[39m), (\u001B[38;5;241m0\u001B[39m, \u001B[38;5;241m10\u001B[39m), (\u001B[38;5;241m0\u001B[39m, \u001B[38;5;241m1\u001B[39m),  (\u001B[38;5;241m0\u001B[39m, \u001B[38;5;241m10\u001B[39m), (\u001B[38;5;241m0\u001B[39m,\u001B[38;5;241m10\u001B[39m)]\n",
      "\u001B[1;31mNameError\u001B[0m: name 'f_Kou' is not defined"
     ]
    }
   ],
   "source": [
    "# Sample of rows of the call dataframe\n",
    "call_resized = df_call.sample(n=5)\n",
    "c_strikes_resized = call_resized['STRIKE']\n",
    "c_prices_resized = call_resized['C_Midpoint']\n",
    "# print(call_resized, c_strikes_resized, c_prices_resized)\n",
    "\n",
    "x0 = [0.1, 0.5, 0.5, 8, 4] # initial guess: [σ, λ, p, η_1, η_1]\n",
    "\n",
    "bounds1 = ( [0, 0, 0, 0, 0], [4, 10, 1,  10, 10] )\n",
    "res1 = scpo.curve_fit(f_Kou, c_strikes_resized, c_prices_resized, p0=x0, bounds=bounds1)\n",
    "print(res1[0])\n",
    "\n",
    "bounds2 = [(0, 4), (0, 10), (0, 1),  (0, 10), (0,10)]\n",
    "additional_args = (c_strikes_resized, c_prices_resized)\n",
    "res2 = scpo.minimize(obj_function, x0, args=additional_args,  method='SLSQP', bounds=bounds2, tol=1e-20)\n",
    "print(res2)"
   ],
   "metadata": {
    "collapsed": false
   }
  },
  {
   "cell_type": "code",
   "execution_count": 33,
   "outputs": [
    {
     "ename": "ValueError",
     "evalue": "not enough values to unpack (expected 5, got 4)",
     "output_type": "error",
     "traceback": [
      "\u001B[1;31m---------------------------------------------------------------------------\u001B[0m",
      "\u001B[1;31mValueError\u001B[0m                                Traceback (most recent call last)",
      "Cell \u001B[1;32mIn[33], line 1\u001B[0m\n\u001B[1;32m----> 1\u001B[0m sigt, lambdt, pt, eta1_t, eta2_t \u001B[38;5;241m=\u001B[39m res2\u001B[38;5;241m.\u001B[39mx\n\u001B[0;32m      3\u001B[0m \u001B[38;5;28mprint\u001B[39m(\u001B[38;5;124m'\u001B[39m\u001B[38;5;124mMETHOD 2: MINIMIZE (SQLSP)\u001B[39m\u001B[38;5;124m'\u001B[39m)\n\u001B[0;32m      4\u001B[0m \u001B[38;5;28mprint\u001B[39m(\u001B[38;5;124m'\u001B[39m\u001B[38;5;124m> Calibrated Volatlity [σ] = \u001B[39m\u001B[38;5;124m'\u001B[39m, \u001B[38;5;28mround\u001B[39m(sigt, \u001B[38;5;241m2\u001B[39m))\n",
      "\u001B[1;31mValueError\u001B[0m: not enough values to unpack (expected 5, got 4)"
     ]
    }
   ],
   "source": [
    "sigt, lambdt, pt, eta1_t, eta2_t = res2.x\n",
    "\n",
    "print('METHOD 2: MINIMIZE (SQLSP)')\n",
    "print('> Calibrated Volatlity [σ] = ', round(sigt, 2))\n",
    "print('> Calibrated Jump intensity [λ] = ', round(lambdt,2))\n",
    "print('> Calibrated Upward Jump probability = ', round(pt,2))\n",
    "print('> Calibrated Rate of Exp. 1  = ', round(eta1_t,2))\n",
    "print('> Calibrated Rate of Exp. 2  = ', round(eta2_t,2))"
   ],
   "metadata": {
    "collapsed": false
   }
  },
  {
   "cell_type": "markdown",
   "source": [
    "## Calibration of Variance Gamma parameters\n"
   ],
   "metadata": {
    "collapsed": false
   }
  },
  {
   "cell_type": "code",
   "execution_count": 15,
   "outputs": [],
   "source": [
    "x0 = [0.2, -0.05, 0.1]   # initial guess: [σ, θ, v]\n",
    "bounds = ( [1e-2, -10, 0], [5, 10, 20] )\n",
    "\n",
    "def f_VG(strikes, sigmax, thetax, nux):\n",
    "    VGamma = VG_pricer(S0=S0, K=None, ttm=T, r=r, q=0, sigma=sigmax, theta=thetax, nu=nux, exercise=exercise)\n",
    "    vg_prices = []\n",
    "    for k in strikes:\n",
    "        vg_prices.append(VGamma.closed_formula_call(k))\n",
    "    return vg_prices"
   ],
   "metadata": {
    "collapsed": false
   }
  },
  {
   "cell_type": "code",
   "execution_count": 16,
   "outputs": [
    {
     "name": "stdout",
     "output_type": "stream",
     "text": [
      "METHOD 1: CURVE_FIT (trf)\n",
      "> Calibrated Volatlity [σ] =  0.01004\n",
      "> Calibrated mean rate gamma process [θ] =  -0.44\n",
      "> Calibrated variance rate gamma process [v]=  0.06\n"
     ]
    }
   ],
   "source": [
    "res1 = scpo.curve_fit(f_VG, call_strikes, call_prices, p0=x0, bounds=bounds)\n",
    "\n",
    "sigt = round(res1[0][0],5)\n",
    "thetat = round(res1[0][1],2)\n",
    "nut = round(res1[0][2],2)\n",
    "\n",
    "print('METHOD 1: CURVE_FIT (trf)')\n",
    "print('> Calibrated Volatlity [σ] = ', sigt)\n",
    "print('> Calibrated mean rate gamma process [θ] = ', thetat)\n",
    "print('> Calibrated variance rate gamma process [v]= ', nut)"
   ],
   "metadata": {
    "collapsed": false
   }
  },
  {
   "cell_type": "code",
   "execution_count": 11,
   "outputs": [
    {
     "name": "stderr",
     "output_type": "stream",
     "text": [
      "C:\\Users\\ornel\\OneDrive\\Desktop\\TESI\\PythonProjects\\Margin-Loans-Pricing\\python-modules\\functions\\VGpricer.py:161: RuntimeWarning: divide by zero encountered in scalar divide\n",
      "  d = 1 / s * (np.log(self.S0 / self.K) + self.r * self.ttm + self.ttm / self.nu * np.log((1 - c1) / (1 - c2)))\n",
      "C:\\Users\\ornel\\OneDrive\\Desktop\\TESI\\PythonProjects\\Margin-Loans-Pricing\\python-modules\\functions\\VGpricer.py:161: RuntimeWarning: invalid value encountered in scalar multiply\n",
      "  d = 1 / s * (np.log(self.S0 / self.K) + self.r * self.ttm + self.ttm / self.nu * np.log((1 - c1) / (1 - c2)))\n",
      "C:\\Users\\ornel\\OneDrive\\Desktop\\TESI\\PythonProjects\\Margin-Loans-Pricing\\python-modules\\functions\\VGpricer.py:164: RuntimeWarning: divide by zero encountered in scalar divide\n",
      "  call = self.S0 * Psy(d * np.sqrt((1 - c1) / self.nu), (alpha + s) * np.sqrt(self.nu / (1 - c1)),\n",
      "C:\\Users\\ornel\\OneDrive\\Desktop\\TESI\\PythonProjects\\Margin-Loans-Pricing\\python-modules\\functions\\VGpricer.py:165: RuntimeWarning: divide by zero encountered in scalar divide\n",
      "  self.ttm / self.nu) - self.K * np.exp(-self.r * self.ttm) * \\\n",
      "C:\\Users\\ornel\\OneDrive\\Desktop\\TESI\\PythonProjects\\Margin-Loans-Pricing\\python-modules\\functions\\VGpricer.py:166: RuntimeWarning: divide by zero encountered in scalar divide\n",
      "  Psy(d * np.sqrt((1 - c2) / self.nu), alpha * np.sqrt(self.nu / (1 - c2)), self.ttm / self.nu)\n",
      "C:\\Users\\ornel\\OneDrive\\Desktop\\TESI\\PythonProjects\\Margin-Loans-Pricing\\python-modules\\functions\\VGpricer.py:161: RuntimeWarning: invalid value encountered in log\n",
      "  d = 1 / s * (np.log(self.S0 / self.K) + self.r * self.ttm + self.ttm / self.nu * np.log((1 - c1) / (1 - c2)))\n",
      "C:\\Users\\ornel\\OneDrive\\Desktop\\TESI\\PythonProjects\\Margin-Loans-Pricing\\python-modules\\functions\\VGpricer.py:146: RuntimeWarning: divide by zero encountered in scalar power\n",
      "  integrand_values = [ss.norm.cdf(a / (np.sqrt(u)+1e-10) + b * np.sqrt(u)) * u ** (g - 1) * np.exp(-u) / ssp.gamma(g)\n",
      "C:\\Users\\ornel\\OneDrive\\Desktop\\TESI\\PythonProjects\\Margin-Loans-Pricing\\python-modules\\functions\\VGpricer.py:166: RuntimeWarning: invalid value encountered in sqrt\n",
      "  Psy(d * np.sqrt((1 - c2) / self.nu), alpha * np.sqrt(self.nu / (1 - c2)), self.ttm / self.nu)\n",
      "C:\\Users\\ornel\\OneDrive\\Desktop\\TESI\\PythonProjects\\Margin-Loans-Pricing\\python-modules\\functions\\VGpricer.py:164: RuntimeWarning: invalid value encountered in scalar subtract\n",
      "  call = self.S0 * Psy(d * np.sqrt((1 - c1) / self.nu), (alpha + s) * np.sqrt(self.nu / (1 - c1)),\n"
     ]
    },
    {
     "name": "stdout",
     "output_type": "stream",
     "text": [
      " message: Optimization terminated successfully\n",
      " success: True\n",
      "  status: 0\n",
      "     fun: 0.0\n",
      "       x: [ 1.997e-01  9.216e+03  1.890e+03]\n",
      "     nit: 3\n",
      "     jac: [ 0.000e+00  0.000e+00  0.000e+00]\n",
      "    nfev: 32\n",
      "    njev: 3\n",
      "> METHOD 2: MINIMIZE (SLSQP)\n",
      "> Calibrated Volatlity [σ] =  0.19967056776922373\n",
      "> Calibrated mean rate gamma process [θ] =  9216.190065410772\n",
      "> Calibrated variance rate gamma process [v]=  1889.6261033526955\n"
     ]
    }
   ],
   "source": [
    "x0 = [0.2, -0.1, 0.5] # initial guess: [σ, λ, m, v]\n",
    "bounds2 = [(1e-5, 5), (-4, np.inf), (0, np.inf)]\n",
    "\n",
    "# Define the objective function\n",
    "def obj_function(x, strikes, prices):\n",
    "    sigm, theta, nu = x\n",
    "    VGx = VG_pricer(S0=S0, K=strikes, ttm=T, r=r, q=0, sigma=sigm, theta=theta, nu=nu, exercise=exercise)\n",
    "    return np.sum((VGx.closed_formula_call3(K) - prices) ** 2)\n",
    "\n",
    "additional_args = (call_strikes, call_prices)\n",
    "\n",
    "res2 = scpo.minimize(obj_function, x0, args=additional_args,  method='SLSQP', bounds=bounds2, tol=1e-20)\n",
    "\n",
    "print(res2)\n",
    "sigt, thetat, nut = res2.x\n",
    "\n",
    "# Print the results\n",
    "print('> METHOD 2: MINIMIZE (SLSQP)')\n",
    "print('> Calibrated Volatlity [σ] = ', sigt)\n",
    "print('> Calibrated mean rate gamma process [θ] = ', thetat)\n",
    "print('> Calibrated variance rate gamma process [v]= ', nut)"
   ],
   "metadata": {
    "collapsed": false
   }
  },
  {
   "cell_type": "code",
   "execution_count": null,
   "outputs": [],
   "source": [],
   "metadata": {
    "collapsed": false
   }
  }
 ],
 "metadata": {
  "kernelspec": {
   "display_name": "Python 3",
   "language": "python",
   "name": "python3"
  },
  "language_info": {
   "codemirror_mode": {
    "name": "ipython",
    "version": 2
   },
   "file_extension": ".py",
   "mimetype": "text/x-python",
   "name": "python",
   "nbconvert_exporter": "python",
   "pygments_lexer": "ipython2",
   "version": "2.7.6"
  }
 },
 "nbformat": 4,
 "nbformat_minor": 0
}
