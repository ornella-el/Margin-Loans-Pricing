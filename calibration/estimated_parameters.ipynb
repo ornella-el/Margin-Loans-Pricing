{
 "cells": [
  {
   "cell_type": "markdown",
   "source": [
    "# CALLIBARTION RESULTS: ESTIMATED PARAMETERS\n",
    "This is a notebook that collects all the parameters obtained by the calibration on the different assets (INDEX: **SPX**, STOCKS: **AAPL**, **NVDA**, **TSLA**). It is important because the calibration process needs a lot of time to be performed. Thus, it is unconvenient to run the scripts every single time it's needed. Additionally, saving parameters with the command *%store*, allows to use them in whichever notebook that requires them.  "
   ],
   "metadata": {
    "collapsed": false
   },
   "id": "66ce9951f21125fe"
  },
  {
   "cell_type": "markdown",
   "source": [
    "## AAPL\n",
    "#### 1. PLAIN VANILLA CALLS\n"
   ],
   "metadata": {
    "collapsed": false
   },
   "id": "b80e7fe92b7e16f1"
  },
  {
   "cell_type": "code",
   "execution_count": 1,
   "id": "20993970da58fee4",
   "metadata": {
    "collapsed": true,
    "ExecuteTime": {
     "end_time": "2023-09-01T09:20:42.516055900Z",
     "start_time": "2023-09-01T09:20:42.506489400Z"
    }
   },
   "outputs": [
    {
     "name": "stdout",
     "output_type": "stream",
     "text": [
      "Stored 'calls_bs_params_aapl' (float)\n",
      "Stored 'calls_mert_params_aapl' (list)\n",
      "Stored 'calls_kou_params_aapl' (list)\n",
      "Stored 'calls_vg_params_aapl' (list)\n"
     ]
    }
   ],
   "source": [
    "# BLACK SCHOLES (CALLS)\n",
    "calls_bs_params_aapl = 0.27243\n",
    "%store calls_bs_params_aapl\n",
    "\n",
    "## MERTON MODEL (CALLS)\n",
    "calls_mert_params_aapl = [0.2548, 0.24, -0.122, 0.197]\n",
    "%store calls_mert_params_aapl\n",
    "\n",
    "## KOU MODEL (CALLS)\n",
    "calls_kou_params_aapl = [0.2441, 0.6554, 0.3733, 8.2551, 9.9373]\n",
    "%store calls_kou_params_aapl\n",
    "\n",
    "## VG MODEL (CALLS)\n",
    "calls_vg_params_aapl = [0.2781, 0.1335, 0.1808]\n",
    "%store calls_vg_params_aapl"
   ]
  },
  {
   "cell_type": "markdown",
   "source": [
    "#### 2. PLAIN VANILLA: PUTS"
   ],
   "metadata": {
    "collapsed": false
   },
   "id": "e43cecef916699cc"
  },
  {
   "cell_type": "code",
   "execution_count": 2,
   "outputs": [
    {
     "name": "stdout",
     "output_type": "stream",
     "text": [
      "Stored 'puts_bs_params_aapl' (float)\n",
      "Stored 'puts_mert_params_aapl' (list)\n",
      "Stored 'puts_kou_params_aapl' (list)\n",
      "Stored 'puts_vg_params_aapl' (list)\n"
     ]
    }
   ],
   "source": [
    "# BLACK SCHOLES (PUTS)\n",
    "puts_bs_params_aapl = 0.38218\n",
    "%store puts_bs_params_aapl\n",
    "\n",
    "## MERTON MODEL (PUTS)\n",
    "puts_mert_params_aapl = [0.3384, 0.5488, 0.0139, 0.2459]\n",
    "%store puts_mert_params_aapl\n",
    "\n",
    "## KOU MODEL (PUTS)\n",
    "puts_kou_params_aapl = [0.3414, 0.7704, 0.387, 5.4276, 9.9265]\n",
    "%store puts_kou_params_aapl\n",
    "\n",
    "## VG MODEL (PUTS)\n",
    "puts_vg_params_aapl = [0.3938, 0.0371, 0.2901]\n",
    "%store puts_vg_params_aapl"
   ],
   "metadata": {
    "collapsed": false,
    "ExecuteTime": {
     "end_time": "2023-09-01T09:20:42.532073500Z",
     "start_time": "2023-09-01T09:20:42.522568Z"
    }
   },
   "id": "initial_id"
  },
  {
   "cell_type": "markdown",
   "source": [
    "#### 3. ONE TOUCH KNOCK OUT DAILY CLIQUETS (OTKO)"
   ],
   "metadata": {
    "collapsed": false
   },
   "id": "af4c3d5080234b6c"
  },
  {
   "cell_type": "code",
   "execution_count": 3,
   "outputs": [
    {
     "name": "stdout",
     "output_type": "stream",
     "text": [
      "Stored 'otko_mert_params_aapl' (list)\n",
      "Stored 'otko_kou_params_aapl' (list)\n",
      "Stored 'otko_vg_params_aapl' (list)\n"
     ]
    }
   ],
   "source": [
    "## MERTON MODEL (OTKO)\n",
    "otko_mert_params_aapl = [0.22, 3.0223, 0.0346, 0.2274]\n",
    "%store otko_mert_params_aapl\n",
    "\n",
    "## KOU MODEL (OTKO)\n",
    "otko_kou_params_aapl = [0.19, 3.3332, 0.1281, 8.4, 5.4527]\n",
    "%store otko_kou_params_aapl\n",
    "\n",
    "## VG MODEL (OTKO)\n",
    "otko_vg_params_aapl = [0.4737, 0.1965, 0.3018]\n",
    "%store otko_vg_params_aapl"
   ],
   "metadata": {
    "collapsed": false,
    "ExecuteTime": {
     "end_time": "2023-09-01T09:20:42.586845900Z",
     "start_time": "2023-09-01T09:20:42.538590800Z"
    }
   },
   "id": "5f407daf4d44fbfa"
  },
  {
   "cell_type": "markdown",
   "source": [
    "#### 4. MIXED: CALLS + OTKO "
   ],
   "metadata": {
    "collapsed": false
   },
   "id": "f654050d2650fcc7"
  },
  {
   "cell_type": "code",
   "execution_count": 4,
   "outputs": [
    {
     "name": "stdout",
     "output_type": "stream",
     "text": [
      "Stored 'calls_otko_mert_params_aapl' (list)\n",
      "Stored 'calls_otko_kou_params_aapl' (list)\n",
      "Stored 'calls_otko_vg_params_aapl' (list)\n"
     ]
    }
   ],
   "source": [
    "## MERTON MODEL \n",
    "calls_otko_mert_params_aapl =[0.1749, 1.2291, -0.1322, 0.166]\n",
    "%store calls_otko_mert_params_aapl\n",
    "\n",
    "## KOU MODEL\n",
    "calls_otko_kou_params_aapl = [0.0701, 1.9831, 0.3788, 7.6703, 5.9635]\n",
    "%store calls_otko_kou_params_aapl\n",
    "\n",
    "## VG MODEL\n",
    "calls_otko_vg_params_aapl = [0.2938, -0.0328, 1.7689]\n",
    "%store calls_otko_vg_params_aapl"
   ],
   "metadata": {
    "collapsed": false,
    "ExecuteTime": {
     "end_time": "2023-09-01T09:20:42.586845900Z",
     "start_time": "2023-09-01T09:20:42.545689800Z"
    }
   },
   "id": "de948bcc6dddc789"
  },
  {
   "cell_type": "markdown",
   "source": [
    "#### 5. MIXED: PUTS + OTKO "
   ],
   "metadata": {
    "collapsed": false
   },
   "id": "d2aa0e185229b930"
  },
  {
   "cell_type": "code",
   "execution_count": 5,
   "outputs": [
    {
     "name": "stdout",
     "output_type": "stream",
     "text": [
      "Stored 'puts_otko_mert_params_aapl' (list)\n",
      "Stored 'puts_otko_kou_params_aapl' (list)\n",
      "Stored 'puts_otko_vg_params_aapl' (list)\n"
     ]
    }
   ],
   "source": [
    "## MERTON MODEL \n",
    "puts_otko_mert_params_aapl = [0.3175, 1.126, -0.1533, 0.1681]\n",
    "%store puts_otko_mert_params_aapl\n",
    "\n",
    "## KOU MODEL\n",
    "puts_otko_kou_params_aapl = [0.0203, 3.024, 0.3764, 5.9051, 5.8564]\n",
    "%store puts_otko_kou_params_aapl\n",
    "\n",
    "## VG MODEL\n",
    "puts_otko_vg_params_aapl = [0.4004, 0.0286, 0.4714]\n",
    "%store puts_otko_vg_params_aapl"
   ],
   "metadata": {
    "collapsed": false,
    "ExecuteTime": {
     "end_time": "2023-09-01T09:20:42.586845900Z",
     "start_time": "2023-09-01T09:20:42.558139400Z"
    }
   },
   "id": "16dd25fe2f2dd70b"
  },
  {
   "cell_type": "markdown",
   "source": [
    "## NVDA\n",
    "#### 1. PLAIN VANILLA CALLS\n"
   ],
   "metadata": {
    "collapsed": false
   },
   "id": "cc4536e9ac499e60"
  },
  {
   "cell_type": "code",
   "execution_count": 6,
   "outputs": [
    {
     "name": "stdout",
     "output_type": "stream",
     "text": [
      "Stored 'calls_bs_params_nvda' (float)\n",
      "Stored 'calls_mert_params_nvda' (list)\n",
      "Stored 'calls_kou_params_nvda' (list)\n",
      "Stored 'calls_vg_params_nvda' (list)\n"
     ]
    }
   ],
   "source": [
    "# BLACK SCHOLES (CALLS)\n",
    "calls_bs_params_nvda = 0.33966\n",
    "%store calls_bs_params_nvda\n",
    "\n",
    "## MERTON MODEL (CALLS)\n",
    "calls_mert_params_nvda = [0.2567, 1.0107, -0.078, 0.2328]\n",
    "%store calls_mert_params_nvda\n",
    "\n",
    "## KOU MODEL (CALLS)\n",
    "calls_kou_params_nvda = [0.3126, 0.7377, 0.4119, 8.1512, 9.9261]\n",
    "%store calls_kou_params_nvda\n",
    "\n",
    "## VG MODEL (CALLS)\n",
    "calls_vg_params_nvda = [0.3492, 0.1579, 0.2349]\n",
    "%store calls_vg_params_nvda"
   ],
   "metadata": {
    "collapsed": false,
    "ExecuteTime": {
     "end_time": "2023-09-01T09:20:42.586845900Z",
     "start_time": "2023-09-01T09:20:42.571433300Z"
    }
   },
   "id": "e0fdb368cf3f0680"
  },
  {
   "cell_type": "markdown",
   "source": [
    "#### 2. PLAIN VANILLA: PUTS"
   ],
   "metadata": {
    "collapsed": false
   },
   "id": "db1ed713d37a821e"
  },
  {
   "cell_type": "code",
   "execution_count": 7,
   "outputs": [
    {
     "name": "stdout",
     "output_type": "stream",
     "text": [
      "Stored 'puts_bs_params_nvda' (float)\n",
      "Stored 'puts_mert_params_nvda' (list)\n",
      "Stored 'puts_kou_params_nvda' (list)\n",
      "Stored 'puts_vg_params_nvda' (list)\n"
     ]
    }
   ],
   "source": [
    "# BLACK SCHOLES (PUTS)\n",
    "puts_bs_params_nvda = 0.45013\n",
    "%store puts_bs_params_nvda\n",
    "\n",
    "## MERTON MODEL (PUTS)\n",
    "puts_mert_params_nvda = [0.3422, 1.2753, -0.1731, 0.2157]\n",
    "%store puts_mert_params_nvda\n",
    "\n",
    "## KOU MODEL (PUTS)\n",
    "puts_kou_params_nvda = [0.408, 0.8058, 0.2636, 5.9677, 8.9657]\n",
    "%store puts_kou_params_nvda\n",
    "\n",
    "## VG MODEL (PUTS)\n",
    "puts_vg_params_nvda = [0.4618, 0.1306, 0.4922]\n",
    "%store puts_vg_params_nvda"
   ],
   "metadata": {
    "collapsed": false,
    "ExecuteTime": {
     "end_time": "2023-09-01T09:20:42.620415500Z",
     "start_time": "2023-09-01T09:20:42.586845900Z"
    }
   },
   "id": "da722b781adf8d8c"
  },
  {
   "cell_type": "markdown",
   "source": [
    "#### 3. ONE TOUCH KNOCK OUT DAILY CLIQUETS (OTKO)\n"
   ],
   "metadata": {
    "collapsed": false
   },
   "id": "e449376876822adf"
  },
  {
   "cell_type": "code",
   "execution_count": 8,
   "outputs": [
    {
     "name": "stdout",
     "output_type": "stream",
     "text": [
      "Stored 'otko_mert_params_nvda' (list)\n",
      "Stored 'otko_kou_params_nvda' (list)\n",
      "Stored 'otko_vg_params_nvda' (list)\n"
     ]
    }
   ],
   "source": [
    "## MERTON MODEL (OTKO)\n",
    "otko_mert_params_nvda = [0.26, 2.9345, 0.0281, 0.2255]\n",
    "\n",
    "%store otko_mert_params_nvda\n",
    "\n",
    "## KOU MODEL (OTKO)\n",
    "otko_kou_params_nvda = [0.3, 4.8006, 0.4, 10.0, 5.4461]\n",
    "\n",
    "%store otko_kou_params_nvda\n",
    "\n",
    "## VG MODEL (OTKO)\n",
    "otko_vg_params_nvda = [0.4737, 0.1965, 0.3018]\n",
    "%store otko_vg_params_nvda"
   ],
   "metadata": {
    "collapsed": false,
    "ExecuteTime": {
     "end_time": "2023-09-01T09:20:42.620415500Z",
     "start_time": "2023-09-01T09:20:42.597618600Z"
    }
   },
   "id": "3035b0559af1f781"
  },
  {
   "cell_type": "markdown",
   "source": [
    "#### 4. MIXED: CALLS + OTKO "
   ],
   "metadata": {
    "collapsed": false
   },
   "id": "b6ee970380d9bd1b"
  },
  {
   "cell_type": "code",
   "execution_count": 9,
   "outputs": [
    {
     "name": "stdout",
     "output_type": "stream",
     "text": [
      "Stored 'calls_otko_mert_params_nvda' (list)\n",
      "Stored 'calls_otko_kou_params_nvda' (list)\n",
      "Stored 'calls_otko_vg_params_nvda' (list)\n"
     ]
    }
   ],
   "source": [
    "## MERTON MODEL \n",
    "calls_otko_mert_params_nvda = [0.2398, 1.2412, -0.223, 0.1337]\n",
    "%store calls_otko_mert_params_nvda\n",
    "\n",
    "## KOU MODEL\n",
    "calls_otko_kou_params_nvda = [0.0103, 2.6502, 0.0, 9.8251, 5.2248]\n",
    "%store calls_otko_kou_params_nvda\n",
    "\n",
    "## VG MODEL\n",
    "calls_otko_vg_params_nvda = [0.1857, -0.6672, 0.2006]\n",
    "%store calls_otko_vg_params_nvda"
   ],
   "metadata": {
    "collapsed": false,
    "ExecuteTime": {
     "end_time": "2023-09-01T09:20:42.730149800Z",
     "start_time": "2023-09-01T09:20:42.608689400Z"
    }
   },
   "id": "695ed84f2035062c"
  },
  {
   "cell_type": "markdown",
   "source": [
    "#### 5. MIXED: PUTS + OTKO "
   ],
   "metadata": {
    "collapsed": false
   },
   "id": "d1f6cb445b665af1"
  },
  {
   "cell_type": "code",
   "execution_count": 10,
   "outputs": [
    {
     "name": "stdout",
     "output_type": "stream",
     "text": [
      "Stored 'puts_otko_mert_params_nvda' (list)\n",
      "Stored 'puts_otko_kou_params_nvda' (list)\n",
      "Stored 'puts_otko_vg_params_nvda' (list)\n"
     ]
    }
   ],
   "source": [
    "## MERTON MODEL \n",
    "puts_otko_mert_params_nvda = [0.319, 2.5907, 0.1629, 0.0688]\n",
    "%store puts_otko_mert_params_nvda\n",
    "\n",
    "## KOU MODEL\n",
    "puts_otko_kou_params_nvda = [0.0245, 3.759, 0.0149, 8.1761, 5.2894]\n",
    "%store puts_otko_kou_params_nvda\n",
    "\n",
    "## VG MODEL\n",
    "puts_otko_vg_params_nvda = [0.3786, -0.4982, 0.144]\n",
    "%store puts_otko_vg_params_nvda"
   ],
   "metadata": {
    "collapsed": false,
    "ExecuteTime": {
     "end_time": "2023-09-01T09:20:42.747432400Z",
     "start_time": "2023-09-01T09:20:42.620415500Z"
    }
   },
   "id": "6d8cce52a17c7f9b"
  },
  {
   "cell_type": "markdown",
   "source": [
    "## TSLA\n",
    "#### 1. PLAIN VANILLA CALLS"
   ],
   "metadata": {
    "collapsed": false
   },
   "id": "9473c4bb88801531"
  },
  {
   "cell_type": "code",
   "execution_count": 11,
   "outputs": [
    {
     "name": "stdout",
     "output_type": "stream",
     "text": [
      "Stored 'calls_bs_params_tsla' (float)\n",
      "Stored 'calls_mert_params_tsla' (list)\n",
      "Stored 'calls_kou_params_tsla' (list)\n",
      "Stored 'calls_vg_params_tsla' (list)\n"
     ]
    }
   ],
   "source": [
    "# BLACK SCHOLES (CALLS)\n",
    "calls_bs_params_tsla = 0.38917\n",
    "%store calls_bs_params_tsla\n",
    "\n",
    "## MERTON MODEL (CALLS)\n",
    "calls_mert_params_tsla = [0.3062, 0.9971, 0.0544, 0.2319]\n",
    "%store calls_mert_params_tsla\n",
    "\n",
    "## KOU MODEL (CALLS)\n",
    "calls_kou_params_tsla = [0.3547, 0.9235, 0.5685, 7.8424, 10.0337]\n",
    "%store calls_kou_params_tsla\n",
    "\n",
    "## VG MODEL (CALLS)\n",
    "calls_vg_params_tsla = [0.3917, -0.0513, 0.234]\n",
    "%store calls_vg_params_tsla"
   ],
   "metadata": {
    "collapsed": false,
    "ExecuteTime": {
     "end_time": "2023-09-01T09:20:42.747432400Z",
     "start_time": "2023-09-01T09:20:42.634411700Z"
    }
   },
   "id": "ef26f48f38279b66"
  },
  {
   "cell_type": "markdown",
   "source": [
    "#### 2. PLAIN VANILLA: PUTS"
   ],
   "metadata": {
    "collapsed": false
   },
   "id": "c60bc47e142db8e3"
  },
  {
   "cell_type": "code",
   "execution_count": 12,
   "outputs": [
    {
     "name": "stdout",
     "output_type": "stream",
     "text": [
      "Stored 'puts_bs_params_tsla' (float)\n",
      "Stored 'puts_mert_params_tsla' (list)\n",
      "Stored 'puts_kou_params_tsla' (list)\n",
      "Stored 'puts_vg_params_tsla' (list)\n"
     ]
    }
   ],
   "source": [
    "# BLACK SCHOLES (PUTS)\n",
    "puts_bs_params_tsla = 0.59036\n",
    "%store puts_bs_params_tsla\n",
    "\n",
    "## MERTON MODEL (PUTS)\n",
    "puts_mert_params_tsla = [0.108, 3.0804, 0.2906, 0.094]\n",
    "%store puts_mert_params_tsla\n",
    "\n",
    "## KOU MODEL (PUTS)\n",
    "puts_kou_params_tsla = [0.5, 2.4882, 0.6647, 6.4397, 15.1241]\n",
    "%store puts_kou_params_tsla\n",
    "\n",
    "## VG MODEL (PUTS)\n",
    "puts_vg_params_tsla = [0.6145, 0.1877, 0.338]\n",
    "%store puts_vg_params_tsla"
   ],
   "metadata": {
    "collapsed": false,
    "ExecuteTime": {
     "end_time": "2023-09-01T09:20:42.747432400Z",
     "start_time": "2023-09-01T09:20:42.650361200Z"
    }
   },
   "id": "27822cfc85af1298"
  },
  {
   "cell_type": "markdown",
   "source": [
    "#### 3. ONE TOUCH KNOCK OUT DAILY CLIQUETS (OTKO)\n"
   ],
   "metadata": {
    "collapsed": false
   },
   "id": "92b759275f1a0bd8"
  },
  {
   "cell_type": "code",
   "execution_count": 13,
   "outputs": [
    {
     "name": "stdout",
     "output_type": "stream",
     "text": [
      "Stored 'otko_mert_params_tsla' (list)\n",
      "Stored 'otko_kou_params_tsla' (list)\n",
      "Stored 'otko_vg_params_tsla' (list)\n"
     ]
    }
   ],
   "source": [
    "## MERTON MODEL (OTKO)\n",
    "otko_mert_params_tsla = [0.25, 2.3855, -0.0416, 0.2223]\n",
    "%store otko_mert_params_tsla\n",
    "\n",
    "## KOU MODEL (OTKO)\n",
    "otko_kou_params_tsla = [0.34, 4.9658, 0.1006, 10.5, 5.9344]\n",
    "%store otko_kou_params_tsla\n",
    "\n",
    "## VG MODEL (OTKO)\n",
    "otko_vg_params_tsla = [0.568, 0.041, 0.1054]\n",
    "%store otko_vg_params_tsla"
   ],
   "metadata": {
    "collapsed": false,
    "ExecuteTime": {
     "end_time": "2023-09-01T09:20:42.747432400Z",
     "start_time": "2023-09-01T09:20:42.666159500Z"
    }
   },
   "id": "68f3bb22a3e0d7ac"
  },
  {
   "cell_type": "markdown",
   "source": [
    "#### 5. MIXED: CALLS + OTKO "
   ],
   "metadata": {
    "collapsed": false
   },
   "id": "e6fdba3dbc6eb9f7"
  },
  {
   "cell_type": "code",
   "execution_count": 14,
   "outputs": [
    {
     "name": "stdout",
     "output_type": "stream",
     "text": [
      "Stored 'calls_otko_mert_params_tsla' (list)\n",
      "Stored 'calls_otko_kou_params_tsla' (list)\n",
      "Stored 'calls_otko_vg_params_tsla' (list)\n"
     ]
    }
   ],
   "source": [
    "## MERTON MODEL \n",
    "calls_otko_mert_params_tsla = [0.2183, 2.1919, -0.0286, 0.2369]\n",
    "%store calls_otko_mert_params_tsla\n",
    "\n",
    "## KOU MODEL\n",
    "calls_otko_kou_params_tsla = [0.3123, 1.8131, 0.3186, 14.0203, 5.409]\n",
    "%store calls_otko_kou_params_tsla\n",
    "\n",
    "## VG MODEL\n",
    "calls_otko_vg_params_tsla = [0.3966, -0.1098, 0.246]\n",
    "%store calls_otko_vg_params_tsla"
   ],
   "metadata": {
    "collapsed": false,
    "ExecuteTime": {
     "end_time": "2023-09-01T09:20:42.747432400Z",
     "start_time": "2023-09-01T09:20:42.672816Z"
    }
   },
   "id": "4fc9905d051eb7a"
  },
  {
   "cell_type": "markdown",
   "source": [
    "#### 5. MIXED: PUTS + OTKO "
   ],
   "metadata": {
    "collapsed": false
   },
   "id": "5ae16692036e5db"
  },
  {
   "cell_type": "code",
   "execution_count": 15,
   "outputs": [
    {
     "name": "stdout",
     "output_type": "stream",
     "text": [
      "Stored 'puts_otko_mert_params_tsla' (list)\n",
      "Stored 'puts_otko_kou_params_tsla' (list)\n",
      "Stored 'puts_otko_vg_params_tsla' (list)\n"
     ]
    }
   ],
   "source": [
    "## MERTON MODEL \n",
    "puts_otko_mert_params_tsla = [0.1435, 3.351, 0.2749, 0.0882]\n",
    "%store puts_otko_mert_params_tsla\n",
    "\n",
    "## KOU MODEL\n",
    "puts_otko_kou_params_tsla = [0.527, 2.61, 0.3985, 6.6695, 14.1724]\n",
    "%store puts_otko_kou_params_tsla\n",
    "\n",
    "## VG MODEL\n",
    "puts_otko_vg_params_tsla = [0.6082, 0.3128, 0.2515]\n",
    "%store puts_otko_vg_params_tsla"
   ],
   "metadata": {
    "collapsed": false,
    "ExecuteTime": {
     "end_time": "2023-09-01T09:20:42.747432400Z",
     "start_time": "2023-09-01T09:20:42.683716200Z"
    }
   },
   "id": "52adc09bb460e3cd"
  }
 ],
 "metadata": {
  "kernelspec": {
   "display_name": "Python 3",
   "language": "python",
   "name": "python3"
  },
  "language_info": {
   "codemirror_mode": {
    "name": "ipython",
    "version": 2
   },
   "file_extension": ".py",
   "mimetype": "text/x-python",
   "name": "python",
   "nbconvert_exporter": "python",
   "pygments_lexer": "ipython2",
   "version": "2.7.6"
  }
 },
 "nbformat": 4,
 "nbformat_minor": 5
}
