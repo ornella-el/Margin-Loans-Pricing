{
 "cells": [
  {
   "cell_type": "markdown",
   "source": [
    "# CALIBARTION RESULTS: ESTIMATED PARAMETERS\n",
    "This is a notebook that collects all the parameters obtained by the calibration on the different assets (INDEX: **SPX**, STOCKS: **AAPL**, **NVDA**, **TSLA**). It is important because the calibration process needs a lot of time to be performed. Thus, it is unconvenient to run the scripts every single time it's needed. Additionally, saving parameters with the command *%store*, allows to use them in whichever notebook that requires them.  "
   ],
   "metadata": {
    "collapsed": false
   },
   "id": "66ce9951f21125fe"
  },
  {
   "cell_type": "markdown",
   "source": [
    "## SPX\n",
    "#### 1. PLAIN VANILLA CALLS"
   ],
   "metadata": {
    "collapsed": false
   },
   "id": "65760616c70644ec"
  },
  {
   "cell_type": "code",
   "execution_count": 70,
   "outputs": [
    {
     "name": "stdout",
     "output_type": "stream",
     "text": [
      "Stored 'calls_bs_params_spx' (float)\n",
      "Stored 'calls_mert_params_spx' (list)\n",
      "Stored 'calls_kou_params_spx' (list)\n",
      "Stored 'calls_vg_params_spx' (list)\n"
     ]
    }
   ],
   "source": [
    "# BLACK SCHOLES (CALLS)\n",
    "calls_bs_params_spx = 0.13291\n",
    "%store calls_bs_params_spx\n",
    "\n",
    "## MERTON MODEL (CALLS)\n",
    "calls_mert_params_spx = [0.1246, 0.4889, -0.0493, 0.0528]\n",
    "%store calls_mert_params_spx\n",
    "\n",
    "## KOU MODEL (CALLS)\n",
    "calls_kou_params_spx = [0.1192, 0.3314, 0.0675, 8.8496, 10.1685]\n",
    "%store calls_kou_params_spx\n",
    "\n",
    "## VG MODEL (CALLS)\n",
    "calls_vg_params_spx = [0.1259, 0.1715, 0.1711]\n",
    "%store calls_vg_params_spx"
   ],
   "metadata": {
    "collapsed": false,
    "ExecuteTime": {
     "end_time": "2023-09-24T08:25:19.659477500Z",
     "start_time": "2023-09-24T08:25:19.391185300Z"
    }
   },
   "id": "7afe52ab8203bd7a"
  },
  {
   "cell_type": "markdown",
   "source": [
    "#### 2. PLAIN VANILLA: PUTS"
   ],
   "metadata": {
    "collapsed": false
   },
   "id": "3a0f8069713ca6c4"
  },
  {
   "cell_type": "code",
   "execution_count": 71,
   "outputs": [
    {
     "name": "stdout",
     "output_type": "stream",
     "text": [
      "Stored 'puts_bs_params_spx' (float)\n",
      "Stored 'puts_mert_params_spx' (list)\n",
      "Stored 'puts_kou_params_spx' (list)\n",
      "Stored 'puts_vg_params_spx' (list)\n"
     ]
    }
   ],
   "source": [
    "# BLACK SCHOLES (PUTS)\n",
    "puts_bs_params_spx = 0.38218\n",
    "%store puts_bs_params_spx\n",
    "\n",
    "## MERTON MODEL (PUTS)\n",
    "puts_mert_params_spx = [0.1382, 0.6087, -0.0842, 0.357]\n",
    "%store puts_mert_params_spx\n",
    "\n",
    "## KOU MODEL (PUTS)\n",
    "puts_kou_params_spx = [0.2193, 0.7222, 0.4273, 11.2726, 4.5653]\n",
    "%store puts_kou_params_spx\n",
    "\n",
    "## VG MODEL (PUTS)\n",
    "puts_vg_params_spx = [0.2962, 0.0778, 0.6548]\n",
    "%store puts_vg_params_spx"
   ],
   "metadata": {
    "collapsed": false,
    "ExecuteTime": {
     "end_time": "2023-09-24T08:25:19.848737300Z",
     "start_time": "2023-09-24T08:25:19.410093900Z"
    }
   },
   "id": "5303b33bac765992"
  },
  {
   "cell_type": "markdown",
   "source": [
    "#### 3. ONE TOUCH KNOCK OUT DAILY CLIQUETS (OTKO)"
   ],
   "metadata": {
    "collapsed": false
   },
   "id": "d6b024ea50da910e"
  },
  {
   "cell_type": "code",
   "execution_count": 72,
   "outputs": [
    {
     "name": "stdout",
     "output_type": "stream",
     "text": [
      "Stored 'otko_mert_params_spx' (list)\n",
      "Stored 'otko_kou_params_spx' (list)\n",
      "Stored 'otko_vg_params_spx' (list)\n"
     ]
    }
   ],
   "source": [
    "## MERTON MODEL (OTKO)\n",
    "otko_mert_params_spx = [0.1336, 0.1054, -0.1649, 0.1803]\n",
    "%store otko_mert_params_spx\n",
    "\n",
    "## KOU MODEL (OTKO)\n",
    "otko_kou_params_spx = [0.1247, 0.4313, 0.5324, 10.3, 7.5159]\n",
    "%store otko_kou_params_spx\n",
    "\n",
    "## VG MODEL (OTKO)\n",
    "otko_vg_params_spx = [0.2566, 0.078, 1.6178]\n",
    "%store otko_vg_params_spx"
   ],
   "metadata": {
    "collapsed": false,
    "ExecuteTime": {
     "end_time": "2023-09-24T08:25:19.880008300Z",
     "start_time": "2023-09-24T08:25:19.423044800Z"
    }
   },
   "id": "4ec9e8e536ba2e38"
  },
  {
   "cell_type": "markdown",
   "source": [
    "#### 4. MIXED: CALLS + OTKO "
   ],
   "metadata": {
    "collapsed": false
   },
   "id": "cee32f5828f7891f"
  },
  {
   "cell_type": "code",
   "execution_count": 73,
   "outputs": [
    {
     "name": "stdout",
     "output_type": "stream",
     "text": [
      "Stored 'calls_otko_mert_params_spx' (list)\n",
      "Stored 'calls_otko_kou_params_spx' (list)\n",
      "Stored 'calls_otko_vg_params_spx' (list)\n"
     ]
    }
   ],
   "source": [
    "## MERTON MODEL \n",
    "calls_otko_mert_params_spx =[0.128, 0.2528, -0.0626, 0.1739]\n",
    "%store calls_otko_mert_params_spx\n",
    "\n",
    "## KOU MODEL\n",
    "calls_otko_kou_params_spx = [0.1293, 0.3762, 0.1327, 9.1668, 9.2732]\n",
    "%store calls_otko_kou_params_spx\n",
    "\n",
    "## VG MODEL\n",
    "calls_otko_vg_params_spx = [0.1611, 0.0618, 0.9032]\n",
    "%store calls_otko_vg_params_spx"
   ],
   "metadata": {
    "collapsed": false,
    "ExecuteTime": {
     "end_time": "2023-09-24T08:25:19.911718600Z",
     "start_time": "2023-09-24T08:25:19.437577200Z"
    }
   },
   "id": "e35fb3fb8fa9c929"
  },
  {
   "cell_type": "markdown",
   "source": [
    "#### 5. MIXED: PUTS + OTKO "
   ],
   "metadata": {
    "collapsed": false
   },
   "id": "7b1aec59c148bb53"
  },
  {
   "cell_type": "code",
   "execution_count": 74,
   "outputs": [
    {
     "name": "stdout",
     "output_type": "stream",
     "text": [
      "Stored 'puts_otko_mert_params_spx' (list)\n",
      "Stored 'puts_otko_kou_params_spx' (list)\n",
      "Stored 'puts_otko_vg_params_spx' (list)\n"
     ]
    }
   ],
   "source": [
    "## MERTON MODEL \n",
    "puts_otko_mert_params_spx = [0.1071, 0.5612, -0.089, 0.4097]\n",
    "%store puts_otko_mert_params_spx\n",
    "\n",
    "## KOU MODEL\n",
    "puts_otko_kou_params_spx = [0.2533, 0.7643, 0.4653, 10.677, 10.3124]\n",
    "%store puts_otko_kou_params_spx\n",
    "\n",
    "## VG MODEL\n",
    "puts_otko_vg_params_spx = [0.3238, 0.0599, 1.7845]\n",
    "%store puts_otko_vg_params_spx"
   ],
   "metadata": {
    "collapsed": false,
    "ExecuteTime": {
     "end_time": "2023-09-24T08:25:19.958624200Z",
     "start_time": "2023-09-24T08:25:19.453600600Z"
    }
   },
   "id": "7242da7b7e41cca1"
  },
  {
   "cell_type": "markdown",
   "source": [
    "## AAPL\n",
    "#### 1. PLAIN VANILLA CALLS\n"
   ],
   "metadata": {
    "collapsed": false
   },
   "id": "b80e7fe92b7e16f1"
  },
  {
   "cell_type": "code",
   "execution_count": 75,
   "id": "20993970da58fee4",
   "metadata": {
    "collapsed": true,
    "ExecuteTime": {
     "end_time": "2023-09-24T08:25:19.990063300Z",
     "start_time": "2023-09-24T08:25:19.457287700Z"
    }
   },
   "outputs": [
    {
     "name": "stdout",
     "output_type": "stream",
     "text": [
      "Stored 'calls_bs_params_aapl' (float)\n",
      "Stored 'calls_mert_params_aapl' (list)\n",
      "Stored 'calls_kou_params_aapl' (list)\n",
      "Stored 'calls_vg_params_aapl' (list)\n"
     ]
    }
   ],
   "source": [
    "# BLACK SCHOLES (CALLS)\n",
    "calls_bs_params_aapl = 0.27243\n",
    "%store calls_bs_params_aapl\n",
    "\n",
    "## MERTON MODEL (CALLS)\n",
    "calls_mert_params_aapl = [0.2548, 0.24, -0.122, 0.197]\n",
    "%store calls_mert_params_aapl\n",
    "\n",
    "## KOU MODEL (CALLS)\n",
    "calls_kou_params_aapl = [0.2441, 0.6554, 0.3733, 8.2551, 9.9373]\n",
    "%store calls_kou_params_aapl\n",
    "\n",
    "## VG MODEL (CALLS)\n",
    "calls_vg_params_aapl = [0.2781, 0.1335, 0.1808]\n",
    "%store calls_vg_params_aapl"
   ]
  },
  {
   "cell_type": "markdown",
   "source": [
    "#### 2. PLAIN VANILLA: PUTS"
   ],
   "metadata": {
    "collapsed": false
   },
   "id": "e43cecef916699cc"
  },
  {
   "cell_type": "code",
   "execution_count": 76,
   "outputs": [
    {
     "name": "stdout",
     "output_type": "stream",
     "text": [
      "Stored 'puts_bs_params_aapl' (float)\n",
      "Stored 'puts_mert_params_aapl' (list)\n",
      "Stored 'puts_kou_params_aapl' (list)\n",
      "Stored 'puts_vg_params_aapl' (list)\n"
     ]
    }
   ],
   "source": [
    "# BLACK SCHOLES (PUTS)\n",
    "puts_bs_params_aapl = 0.38218\n",
    "%store puts_bs_params_aapl\n",
    "\n",
    "## MERTON MODEL (PUTS)\n",
    "puts_mert_params_aapl = [0.3207, 0.577, -0.011, 0.289]\n",
    "%store puts_mert_params_aapl\n",
    "\n",
    "## KOU MODEL (PUTS)\n",
    "puts_kou_params_aapl = [0.3414, 0.7704, 0.387, 5.4276, 9.9265]\n",
    "%store puts_kou_params_aapl\n",
    "\n",
    "## VG MODEL (PUTS)\n",
    "puts_vg_params_aapl = [0.3889, 0.0089, 0.178]\n",
    "%store puts_vg_params_aapl"
   ],
   "metadata": {
    "collapsed": false,
    "ExecuteTime": {
     "end_time": "2023-09-24T08:25:20.021556300Z",
     "start_time": "2023-09-24T08:25:19.469663400Z"
    }
   },
   "id": "initial_id"
  },
  {
   "cell_type": "markdown",
   "source": [
    "#### 3. ONE TOUCH KNOCK OUT DAILY CLIQUETS (OTKO)"
   ],
   "metadata": {
    "collapsed": false
   },
   "id": "af4c3d5080234b6c"
  },
  {
   "cell_type": "code",
   "execution_count": 77,
   "outputs": [
    {
     "name": "stdout",
     "output_type": "stream",
     "text": [
      "Stored 'otko_mert_params_aapl' (list)\n",
      "Stored 'otko_kou_params_aapl' (list)\n",
      "Stored 'otko_vg_params_aapl' (list)\n"
     ]
    }
   ],
   "source": [
    "## MERTON MODEL (OTKO)\n",
    "otko_mert_params_aapl = [0.3254, 1.912, -0.056, 0.203]\n",
    "%store otko_mert_params_aapl\n",
    "\n",
    "## KOU MODEL (OTKO)\n",
    "otko_kou_params_aapl = [0.3401, 3.4004, 0.1337, 11.283, 9.073]\n",
    "%store otko_kou_params_aapl\n",
    "\n",
    "## VG MODEL (OTKO)\n",
    "otko_vg_params_aapl = [0.3732, -0.118,\t0.252]\n",
    "%store otko_vg_params_aapl"
   ],
   "metadata": {
    "collapsed": false,
    "ExecuteTime": {
     "end_time": "2023-09-24T08:25:20.037578300Z",
     "start_time": "2023-09-24T08:25:19.485765100Z"
    }
   },
   "id": "5f407daf4d44fbfa"
  },
  {
   "cell_type": "markdown",
   "source": [
    "#### 4. MIXED CALIBRATION: CALLS+PUTS+OTKO"
   ],
   "metadata": {
    "collapsed": false
   },
   "id": "a34f57c2c183c397"
  },
  {
   "cell_type": "code",
   "execution_count": 78,
   "outputs": [
    {
     "name": "stdout",
     "output_type": "stream",
     "text": [
      "Stored 'mixed_mert_params_aapl' (list)\n",
      "Stored 'mixed_kou_params_aapl' (list)\n",
      "Stored 'mixed_vg_params_aapl' (list)\n"
     ]
    }
   ],
   "source": [
    "## MERTON MODEL \n",
    "mixed_mert_params_aapl = [0.1582, 1.4902, -0.0242, 0.2542]\n",
    "%store mixed_mert_params_aapl\n",
    "\n",
    "## KOU MODEL\n",
    "mixed_kou_params_aapl = [0.19, 2.0515, 0.3314, 5.5114, 5.8348]\n",
    "%store mixed_kou_params_aapl\n",
    "\n",
    "## VG MODEL\n",
    "#mixed_vg_params_aapl =[0.3436, -0.15, 0.9987]\n",
    "mixed_vg_params_aapl =[0.3377, -0.048, 0.4345]\n",
    "%store mixed_vg_params_aapl"
   ],
   "metadata": {
    "collapsed": false,
    "ExecuteTime": {
     "end_time": "2023-09-24T08:25:20.084978Z",
     "start_time": "2023-09-24T08:25:19.490980100Z"
    }
   },
   "id": "c3c493aebd60ef76"
  },
  {
   "cell_type": "markdown",
   "source": [
    "#### 4. MIXED: CALLS + OTKO "
   ],
   "metadata": {
    "collapsed": false
   },
   "id": "f654050d2650fcc7"
  },
  {
   "cell_type": "code",
   "execution_count": 79,
   "outputs": [
    {
     "name": "stdout",
     "output_type": "stream",
     "text": [
      "Stored 'calls_otko_mert_params_aapl' (list)\n",
      "Stored 'calls_otko_kou_params_aapl' (list)\n",
      "Stored 'calls_otko_vg_params_aapl' (list)\n"
     ]
    }
   ],
   "source": [
    "## MERTON MODEL \n",
    "calls_otko_mert_params_aapl =[0.1749, 1.2291, -0.1322, 0.166]\n",
    "%store calls_otko_mert_params_aapl\n",
    "\n",
    "## KOU MODEL\n",
    "calls_otko_kou_params_aapl = [0.0701, 1.9831, 0.3788, 7.6703, 5.9635]\n",
    "%store calls_otko_kou_params_aapl\n",
    "\n",
    "## VG MODEL\n",
    "calls_otko_vg_params_aapl = [0.2938, -0.0328, 1.7689]\n",
    "%store calls_otko_vg_params_aapl"
   ],
   "metadata": {
    "collapsed": false,
    "ExecuteTime": {
     "end_time": "2023-09-24T08:25:20.100613100Z",
     "start_time": "2023-09-24T08:25:19.507515200Z"
    }
   },
   "id": "de948bcc6dddc789"
  },
  {
   "cell_type": "markdown",
   "source": [
    "#### 5. MIXED: PUTS + OTKO "
   ],
   "metadata": {
    "collapsed": false
   },
   "id": "d2aa0e185229b930"
  },
  {
   "cell_type": "code",
   "execution_count": 80,
   "outputs": [
    {
     "name": "stdout",
     "output_type": "stream",
     "text": [
      "Stored 'puts_otko_mert_params_aapl' (list)\n",
      "Stored 'puts_otko_kou_params_aapl' (list)\n",
      "Stored 'puts_otko_vg_params_aapl' (list)\n"
     ]
    }
   ],
   "source": [
    "## MERTON MODEL \n",
    "puts_otko_mert_params_aapl = [0.3175, 1.126, -0.1533, 0.1681]\n",
    "%store puts_otko_mert_params_aapl\n",
    "\n",
    "## KOU MODEL\n",
    "puts_otko_kou_params_aapl = [0.0296, 3.0525, 0.3867, 6.0147, 5.8484]\n",
    "#puts_otko_kou_params_aapl = [0.0896, 2.0176, 0.2747, 8.8897, 5.8571] # cambiati da me il 8/9/23\n",
    "%store puts_otko_kou_params_aapl\n",
    "\n",
    "## VG MODEL\n",
    "puts_otko_vg_params_aapl = [0.4134, 0.0583, 0.7865]\n",
    "#puts_otko_vg_params_aapl = [0.3134, 0.0583, 1.7865]  # cambiati da me il 8/9/23\n",
    "%store puts_otko_vg_params_aapl"
   ],
   "metadata": {
    "collapsed": false,
    "ExecuteTime": {
     "end_time": "2023-09-24T08:25:20.147853300Z",
     "start_time": "2023-09-24T08:25:19.516663400Z"
    }
   },
   "id": "16dd25fe2f2dd70b"
  },
  {
   "cell_type": "markdown",
   "source": [
    "## NVDA\n",
    "#### 1. PLAIN VANILLA CALLS\n"
   ],
   "metadata": {
    "collapsed": false
   },
   "id": "cc4536e9ac499e60"
  },
  {
   "cell_type": "code",
   "execution_count": 81,
   "outputs": [
    {
     "name": "stdout",
     "output_type": "stream",
     "text": [
      "Stored 'calls_bs_params_nvda' (float)\n",
      "Stored 'calls_mert_params_nvda' (list)\n",
      "Stored 'calls_kou_params_nvda' (list)\n",
      "Stored 'calls_vg_params_nvda' (list)\n"
     ]
    }
   ],
   "source": [
    "# BLACK SCHOLES (CALLS)\n",
    "calls_bs_params_nvda = 0.33966\n",
    "%store calls_bs_params_nvda\n",
    "\n",
    "## MERTON MODEL (CALLS)\n",
    "calls_mert_params_nvda = [0.2567, 1.0107, -0.078, 0.2328]\n",
    "%store calls_mert_params_nvda\n",
    "\n",
    "## KOU MODEL (CALLS)\n",
    "calls_kou_params_nvda = [0.3126, 0.7377, 0.4119, 8.1512, 9.9261]\n",
    "%store calls_kou_params_nvda\n",
    "\n",
    "## VG MODEL (CALLS)\n",
    "calls_vg_params_nvda = [0.3492, 0.1579, 0.2349]\n",
    "%store calls_vg_params_nvda"
   ],
   "metadata": {
    "collapsed": false,
    "ExecuteTime": {
     "end_time": "2023-09-24T08:25:20.226362100Z",
     "start_time": "2023-09-24T08:25:19.523027100Z"
    }
   },
   "id": "e0fdb368cf3f0680"
  },
  {
   "cell_type": "markdown",
   "source": [
    "#### 2. PLAIN VANILLA: PUTS"
   ],
   "metadata": {
    "collapsed": false
   },
   "id": "db1ed713d37a821e"
  },
  {
   "cell_type": "code",
   "execution_count": 82,
   "outputs": [
    {
     "name": "stdout",
     "output_type": "stream",
     "text": [
      "Stored 'puts_bs_params_nvda' (float)\n",
      "Stored 'puts_mert_params_nvda' (list)\n",
      "Stored 'puts_kou_params_nvda' (list)\n",
      "Stored 'puts_vg_params_nvda' (list)\n"
     ]
    }
   ],
   "source": [
    "# BLACK SCHOLES (PUTS)\n",
    "puts_bs_params_nvda = 0.45013\n",
    "%store puts_bs_params_nvda\n",
    "\n",
    "## MERTON MODEL (PUTS)\n",
    "puts_mert_params_nvda = [0.3052, 1.216, -0.083, 0.298]\n",
    "%store puts_mert_params_nvda\n",
    "\n",
    "## KOU MODEL (PUTS)\n",
    "puts_kou_params_nvda = [0.408, 0.8058, 0.2636, 5.9677, 8.9657]\n",
    "%store puts_kou_params_nvda\n",
    "\n",
    "## VG MODEL (PUTS)\n",
    "puts_vg_params_nvda = [0.4476, 0.116, 0.189]\n",
    "%store puts_vg_params_nvda"
   ],
   "metadata": {
    "collapsed": false,
    "ExecuteTime": {
     "end_time": "2023-09-24T08:25:20.257695100Z",
     "start_time": "2023-09-24T08:25:19.534299200Z"
    }
   },
   "id": "da722b781adf8d8c"
  },
  {
   "cell_type": "markdown",
   "source": [
    "#### 3. ONE TOUCH KNOCK OUT DAILY CLIQUETS (OTKO)\n"
   ],
   "metadata": {
    "collapsed": false
   },
   "id": "e449376876822adf"
  },
  {
   "cell_type": "code",
   "execution_count": 83,
   "outputs": [
    {
     "name": "stdout",
     "output_type": "stream",
     "text": [
      "Stored 'otko_mert_params_nvda' (list)\n",
      "Stored 'otko_kou_params_nvda' (list)\n",
      "Stored 'otko_vg_params_nvda' (list)\n"
     ]
    }
   ],
   "source": [
    "## MERTON MODEL (OTKO)\n",
    "otko_mert_params_nvda = [0.3312, 1.349, -0.122, 0.183]\n",
    "\n",
    "%store otko_mert_params_nvda\n",
    "\n",
    "## KOU MODEL (OTKO)\n",
    "otko_kou_params_nvda = [0.3019, 3.469, 0.151, 10.3, 10.23]\n",
    "\n",
    "%store otko_kou_params_nvda\n",
    "\n",
    "## VG MODEL (OTKO)\n",
    "otko_vg_params_nvda = [0.379, -0.085, 0.271]\n",
    "%store otko_vg_params_nvda"
   ],
   "metadata": {
    "collapsed": false,
    "ExecuteTime": {
     "end_time": "2023-09-24T08:25:20.304908200Z",
     "start_time": "2023-09-24T08:25:19.548315100Z"
    }
   },
   "id": "3035b0559af1f781"
  },
  {
   "cell_type": "markdown",
   "source": [
    "#### 4. MIXED: CALLS + PUTS + OTKO "
   ],
   "metadata": {
    "collapsed": false
   },
   "id": "acdedc233a7d131b"
  },
  {
   "cell_type": "code",
   "execution_count": 84,
   "outputs": [
    {
     "name": "stdout",
     "output_type": "stream",
     "text": [
      "Stored 'mixed_mert_params_nvda' (list)\n",
      "Stored 'mixed_kou_params_nvda' (list)\n",
      "Stored 'mixed_vg_params_nvda' (list)\n"
     ]
    }
   ],
   "source": [
    "## MERTON MODEL \n",
    "mixed_mert_params_nvda = [0.3140, 1.3274, -0.1268, 0.1790]\n",
    "%store mixed_mert_params_nvda\n",
    "\n",
    "## KOU MODEL\n",
    "mixed_kou_params_nvda = [0.278, 3.0186, 0.4479, 7.3347, 8.6015]\n",
    "%store mixed_kou_params_nvda\n",
    "\n",
    "## VG MODEL\n",
    "#mixed_vg_params_aapl =[0.3436, -0.15, 0.9987]\n",
    "mixed_vg_params_nvda =[0.3977, -0.0128, 0.3175]\n",
    "%store mixed_vg_params_nvda"
   ],
   "metadata": {
    "collapsed": false,
    "ExecuteTime": {
     "end_time": "2023-09-24T08:25:20.367811Z",
     "start_time": "2023-09-24T08:25:19.564419300Z"
    }
   },
   "id": "6dcc65b67b39941c"
  },
  {
   "cell_type": "markdown",
   "source": [
    "#### 5. MIXED: CALLS + OTKO "
   ],
   "metadata": {
    "collapsed": false
   },
   "id": "b6ee970380d9bd1b"
  },
  {
   "cell_type": "code",
   "execution_count": 85,
   "outputs": [
    {
     "name": "stdout",
     "output_type": "stream",
     "text": [
      "Stored 'calls_otko_mert_params_nvda' (list)\n",
      "Stored 'calls_otko_kou_params_nvda' (list)\n",
      "Stored 'calls_otko_vg_params_nvda' (list)\n"
     ]
    }
   ],
   "source": [
    "## MERTON MODEL \n",
    "calls_otko_mert_params_nvda = [0.2714, 1.2797, -0.1329, 0.1768]\n",
    "%store calls_otko_mert_params_nvda\n",
    "\n",
    "## KOU MODEL\n",
    "calls_otko_kou_params_nvda = [0.0482, 3.5754, 0.2308, 9.7918, 6.0828] \n",
    "%store calls_otko_kou_params_nvda\n",
    "\n",
    "## VG MODEL\n",
    "calls_otko_vg_params_nvda = [0.3624, -0.0439, 0.4837]\n",
    "%store calls_otko_vg_params_nvda"
   ],
   "metadata": {
    "collapsed": false,
    "ExecuteTime": {
     "end_time": "2023-09-24T08:25:20.383931500Z",
     "start_time": "2023-09-24T08:25:19.569188500Z"
    }
   },
   "id": "695ed84f2035062c"
  },
  {
   "cell_type": "markdown",
   "source": [
    "#### 6. MIXED: PUTS + OTKO "
   ],
   "metadata": {
    "collapsed": false
   },
   "id": "d1f6cb445b665af1"
  },
  {
   "cell_type": "code",
   "execution_count": 86,
   "outputs": [
    {
     "name": "stdout",
     "output_type": "stream",
     "text": [
      "Stored 'puts_otko_mert_params_nvda' (list)\n",
      "Stored 'puts_otko_kou_params_nvda' (list)\n",
      "Stored 'puts_otko_vg_params_nvda' (list)\n"
     ]
    }
   ],
   "source": [
    "## MERTON MODEL \n",
    "puts_otko_mert_params_nvda = [0.3583, 1.6173, -0.0888, 0.1917]\n",
    "%store puts_otko_mert_params_nvda\n",
    "\n",
    "## KOU MODEL\n",
    "puts_otko_kou_params_nvda =[0.1347, 4.1745, 0.2412, 6.7592, 6.1109]\n",
    "%store puts_otko_kou_params_nvda\n",
    "\n",
    "## VG MODEL\n",
    "puts_otko_vg_params_nvda = [0.4551, 0.1341, 0.3482]\n",
    "%store puts_otko_vg_params_nvda"
   ],
   "metadata": {
    "collapsed": false,
    "ExecuteTime": {
     "end_time": "2023-09-24T08:25:20.383931500Z",
     "start_time": "2023-09-24T08:25:19.579911800Z"
    }
   },
   "id": "6d8cce52a17c7f9b"
  },
  {
   "cell_type": "markdown",
   "source": [
    "## TSLA\n",
    "#### 1. PLAIN VANILLA CALLS"
   ],
   "metadata": {
    "collapsed": false
   },
   "id": "9473c4bb88801531"
  },
  {
   "cell_type": "code",
   "execution_count": 87,
   "outputs": [
    {
     "name": "stdout",
     "output_type": "stream",
     "text": [
      "Stored 'calls_bs_params_tsla' (float)\n",
      "Stored 'calls_mert_params_tsla' (list)\n",
      "Stored 'calls_kou_params_tsla' (list)\n",
      "Stored 'calls_vg_params_tsla' (list)\n"
     ]
    }
   ],
   "source": [
    "# BLACK SCHOLES (CALLS)\n",
    "calls_bs_params_tsla = 0.38917\n",
    "%store calls_bs_params_tsla\n",
    "\n",
    "## MERTON MODEL (CALLS)\n",
    "calls_mert_params_tsla = [0.3062, 0.9971, 0.0544, 0.2319]\n",
    "%store calls_mert_params_tsla\n",
    "\n",
    "## KOU MODEL (CALLS)\n",
    "calls_kou_params_tsla = [0.3547, 0.9235, 0.5685, 7.8424, 10.0337]\n",
    "%store calls_kou_params_tsla\n",
    "\n",
    "## VG MODEL (CALLS)\n",
    "calls_vg_params_tsla = [0.3917, -0.0513, 0.234]\n",
    "%store calls_vg_params_tsla"
   ],
   "metadata": {
    "collapsed": false,
    "ExecuteTime": {
     "end_time": "2023-09-24T08:25:20.383931500Z",
     "start_time": "2023-09-24T08:25:19.595977300Z"
    }
   },
   "id": "ef26f48f38279b66"
  },
  {
   "cell_type": "markdown",
   "source": [
    "#### 2. PLAIN VANILLA: PUTS"
   ],
   "metadata": {
    "collapsed": false
   },
   "id": "c60bc47e142db8e3"
  },
  {
   "cell_type": "code",
   "execution_count": 88,
   "outputs": [
    {
     "name": "stdout",
     "output_type": "stream",
     "text": [
      "Stored 'puts_bs_params_tsla' (float)\n",
      "Stored 'puts_mert_params_tsla' (list)\n",
      "Stored 'puts_kou_params_tsla' (list)\n",
      "Stored 'puts_vg_params_tsla' (list)\n"
     ]
    }
   ],
   "source": [
    "# BLACK SCHOLES (PUTS)\n",
    "puts_bs_params_tsla = 0.59036\n",
    "%store puts_bs_params_tsla\n",
    "\n",
    "## MERTON MODEL (PUTS)\n",
    "puts_mert_params_tsla = [0.3996, 1.211, -0.085, 0.446]\n",
    "%store puts_mert_params_tsla\n",
    "\n",
    "## KOU MODEL (PUTS)\n",
    "puts_kou_params_tsla = [0.3172, 1.261, 0.427, 8.336, 7.906]\n",
    "%store puts_kou_params_tsla\n",
    "\n",
    "## VG MODEL (PUTS)\n",
    "puts_vg_params_tsla = [0.6145, 0.159, 0.357]\n",
    "%store puts_vg_params_tsla"
   ],
   "metadata": {
    "collapsed": false,
    "ExecuteTime": {
     "end_time": "2023-09-24T08:25:20.383931500Z",
     "start_time": "2023-09-24T08:25:19.600683100Z"
    }
   },
   "id": "27822cfc85af1298"
  },
  {
   "cell_type": "markdown",
   "source": [
    "#### 3. ONE TOUCH KNOCK OUT DAILY CLIQUETS (OTKO)\n"
   ],
   "metadata": {
    "collapsed": false
   },
   "id": "92b759275f1a0bd8"
  },
  {
   "cell_type": "code",
   "execution_count": 89,
   "outputs": [
    {
     "name": "stdout",
     "output_type": "stream",
     "text": [
      "Stored 'otko_mert_params_tsla' (list)\n",
      "Stored 'otko_kou_params_tsla' (list)\n",
      "Stored 'otko_vg_params_tsla' (list)\n"
     ]
    }
   ],
   "source": [
    "## MERTON MODEL (OTKO)\n",
    "otko_mert_params_tsla = [0.3352, 2.025, -0.097, 0.1806]\n",
    "%store otko_mert_params_tsla\n",
    "\n",
    "## KOU MODEL (OTKO)\n",
    "otko_kou_params_tsla = [0.3112,\t4.718,\t0.156,\t11.234,\t9.463]\n",
    "%store otko_kou_params_tsla\n",
    "\n",
    "## VG MODEL (OTKO)\n",
    "otko_vg_params_tsla = [0.4559, -0.198,\t0.1336]\n",
    "%store otko_vg_params_tsla"
   ],
   "metadata": {
    "collapsed": false,
    "ExecuteTime": {
     "end_time": "2023-09-24T08:25:20.383931500Z",
     "start_time": "2023-09-24T08:25:19.613291Z"
    }
   },
   "id": "68f3bb22a3e0d7ac"
  },
  {
   "cell_type": "markdown",
   "source": [
    "#### 4. MIXED: CALLS + PUTS + OTKO "
   ],
   "metadata": {
    "collapsed": false
   },
   "id": "845297b7d3689f29"
  },
  {
   "cell_type": "code",
   "execution_count": 90,
   "outputs": [
    {
     "name": "stdout",
     "output_type": "stream",
     "text": [
      "Stored 'mixed_mert_params_tsla' (list)\n",
      "Stored 'mixed_kou_params_tsla' (list)\n",
      "Stored 'mixed_vg_params_tsla' (list)\n"
     ]
    }
   ],
   "source": [
    "## MERTON MODEL \n",
    "mixed_mert_params_tsla = [0.4125, 1.135, -0.147, 0.214]\n",
    "%store mixed_mert_params_tsla\n",
    "\n",
    "## KOU MODEL\n",
    "mixed_kou_params_tsla = [0.4477, 2.527, 0.198, 10.559, 10.734]\n",
    "%store mixed_kou_params_tsla\n",
    "\n",
    "## VG MODEL\n",
    "#mixed_vg_params_aapl =[0.3436, -0.15, 0.9987]\n",
    "mixed_vg_params_tsla =[0.511, 0.1638, 0.342]\n",
    "%store mixed_vg_params_tsla"
   ],
   "metadata": {
    "collapsed": false,
    "ExecuteTime": {
     "end_time": "2023-09-24T08:25:20.383931500Z",
     "start_time": "2023-09-24T08:25:19.627665500Z"
    }
   },
   "id": "c255b28e65dbe97d"
  },
  {
   "cell_type": "markdown",
   "source": [
    "#### 5. MIXED: CALLS + OTKO "
   ],
   "metadata": {
    "collapsed": false
   },
   "id": "e6fdba3dbc6eb9f7"
  },
  {
   "cell_type": "code",
   "execution_count": 91,
   "outputs": [
    {
     "name": "stdout",
     "output_type": "stream",
     "text": [
      "Stored 'calls_otko_mert_params_tsla' (list)\n",
      "Stored 'calls_otko_kou_params_tsla' (list)\n",
      "Stored 'calls_otko_vg_params_tsla' (list)\n"
     ]
    }
   ],
   "source": [
    "## MERTON MODEL \n",
    "calls_otko_mert_params_tsla = [0.2307, 1.9014, -0.0337, 0.249]\n",
    "%store calls_otko_mert_params_tsla\n",
    "\n",
    "## KOU MODEL\n",
    "calls_otko_kou_params_tsla =[0.3123, 1.8073, 0.3186, 14.0232, 5.4028]\n",
    "%store calls_otko_kou_params_tsla\n",
    "\n",
    "## VG MODEL\n",
    "calls_otko_vg_params_tsla = [0.3988, -0.0903, 0.2657]\n",
    "%store calls_otko_vg_params_tsla"
   ],
   "metadata": {
    "collapsed": false,
    "ExecuteTime": {
     "end_time": "2023-09-24T08:25:20.383931500Z",
     "start_time": "2023-09-24T08:25:19.632057800Z"
    }
   },
   "id": "4fc9905d051eb7a"
  },
  {
   "cell_type": "markdown",
   "source": [
    "#### 6. MIXED: PUTS + OTKO "
   ],
   "metadata": {
    "collapsed": false
   },
   "id": "5ae16692036e5db"
  },
  {
   "cell_type": "code",
   "execution_count": 92,
   "outputs": [
    {
     "name": "stdout",
     "output_type": "stream",
     "text": [
      "Stored 'puts_otko_mert_params_tsla' (list)\n",
      "Stored 'puts_otko_kou_params_tsla' (list)\n",
      "Stored 'puts_otko_vg_params_tsla' (list)\n"
     ]
    }
   ],
   "source": [
    "## MERTON MODEL \n",
    "puts_otko_mert_params_tsla = [0.5116, 1.7984, -0.1087, 0.2078]\n",
    "%store puts_otko_mert_params_tsla\n",
    "\n",
    "## KOU MODEL\n",
    "puts_otko_kou_params_tsla = [0.4747, 2.2646, 0.274, 7.941, 4.8417]\n",
    "%store puts_otko_kou_params_tsla\n",
    "\n",
    "## VG MODEL\n",
    "puts_otko_vg_params_tsla = [0.6505, 0.2449, 0.7962]\n",
    "\n",
    "%store puts_otko_vg_params_tsla"
   ],
   "metadata": {
    "collapsed": false,
    "ExecuteTime": {
     "end_time": "2023-09-24T08:25:20.383931500Z",
     "start_time": "2023-09-24T08:25:19.643561Z"
    }
   },
   "id": "52adc09bb460e3cd"
  }
 ],
 "metadata": {
  "kernelspec": {
   "display_name": "Python 3",
   "language": "python",
   "name": "python3"
  },
  "language_info": {
   "codemirror_mode": {
    "name": "ipython",
    "version": 2
   },
   "file_extension": ".py",
   "mimetype": "text/x-python",
   "name": "python",
   "nbconvert_exporter": "python",
   "pygments_lexer": "ipython2",
   "version": "2.7.6"
  }
 },
 "nbformat": 4,
 "nbformat_minor": 5
}
