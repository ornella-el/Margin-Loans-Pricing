{
 "cells": [
  {
   "cell_type": "markdown",
   "source": [
    "# CALIBARTION RESULTS: ESTIMATED PARAMETERS\n",
    "This is a notebook that collects all the parameters obtained by the calibration on the different assets (INDEX: **SPX**, STOCKS: **AAPL**, **NVDA**, **TSLA**). It is important because the calibration process needs a lot of time to be performed. Thus, it is unconvenient to run the scripts every single time it's needed. Additionally, saving parameters with the command *%store*, allows to use them in whichever notebook that requires them.  "
   ],
   "metadata": {
    "collapsed": false
   },
   "id": "66ce9951f21125fe"
  },
  {
   "cell_type": "markdown",
   "source": [
    "## SPX\n",
    "#### 1. PLAIN VANILLA CALLS"
   ],
   "metadata": {
    "collapsed": false
   },
   "id": "65760616c70644ec"
  },
  {
   "cell_type": "code",
   "execution_count": 54,
   "outputs": [
    {
     "name": "stdout",
     "output_type": "stream",
     "text": [
      "Stored 'calls_bs_params_spx' (float)\n",
      "Stored 'calls_mert_params_spx' (list)\n",
      "Stored 'calls_kou_params_spx' (list)\n",
      "Stored 'calls_vg_params_spx' (list)\n"
     ]
    }
   ],
   "source": [
    "# BLACK SCHOLES (CALLS)\n",
    "calls_bs_params_spx = 0.13291\n",
    "%store calls_bs_params_spx\n",
    "\n",
    "## MERTON MODEL (CALLS)\n",
    "calls_mert_params_spx = [0.1246, 0.4889, -0.0493, 0.0528]\n",
    "%store calls_mert_params_spx\n",
    "\n",
    "## KOU MODEL (CALLS)\n",
    "calls_kou_params_spx = [0.1192, 0.3314, 0.0675, 8.8496, 10.1685]\n",
    "%store calls_kou_params_spx\n",
    "\n",
    "## VG MODEL (CALLS)\n",
    "calls_vg_params_spx = [0.1259, 0.1715, 0.1711]\n",
    "%store calls_vg_params_spx"
   ],
   "metadata": {
    "collapsed": false,
    "ExecuteTime": {
     "end_time": "2023-09-01T15:11:51.884797Z",
     "start_time": "2023-09-01T15:11:51.614202200Z"
    }
   },
   "id": "7afe52ab8203bd7a"
  },
  {
   "cell_type": "markdown",
   "source": [
    "#### 2. PLAIN VANILLA: PUTS"
   ],
   "metadata": {
    "collapsed": false
   },
   "id": "3a0f8069713ca6c4"
  },
  {
   "cell_type": "code",
   "execution_count": 55,
   "outputs": [
    {
     "name": "stdout",
     "output_type": "stream",
     "text": [
      "Stored 'puts_bs_params_spx' (float)\n",
      "Stored 'puts_mert_params_spx' (list)\n",
      "Stored 'puts_kou_params_spx' (list)\n",
      "Stored 'puts_vg_params_spx' (list)\n"
     ]
    }
   ],
   "source": [
    "# BLACK SCHOLES (PUTS)\n",
    "puts_bs_params_spx = 0.38218\n",
    "%store puts_bs_params_spx\n",
    "\n",
    "## MERTON MODEL (PUTS)\n",
    "puts_mert_params_spx = [0.1382, 0.6087, -0.0842, 0.357]\n",
    "%store puts_mert_params_spx\n",
    "\n",
    "## KOU MODEL (PUTS)\n",
    "puts_kou_params_spx = [0.2193, 0.7222, 0.4273, 11.2726, 4.5653]\n",
    "%store puts_kou_params_spx\n",
    "\n",
    "## VG MODEL (PUTS)\n",
    "puts_vg_params_spx = [0.2962, 0.0778, 0.6548]\n",
    "%store puts_vg_params_spx"
   ],
   "metadata": {
    "collapsed": false,
    "ExecuteTime": {
     "end_time": "2023-09-01T15:11:51.994120900Z",
     "start_time": "2023-09-01T15:11:51.636764100Z"
    }
   },
   "id": "5303b33bac765992"
  },
  {
   "cell_type": "markdown",
   "source": [
    "#### 3. ONE TOUCH KNOCK OUT DAILY CLIQUETS (OTKO)"
   ],
   "metadata": {
    "collapsed": false
   },
   "id": "d6b024ea50da910e"
  },
  {
   "cell_type": "code",
   "execution_count": 56,
   "outputs": [
    {
     "name": "stdout",
     "output_type": "stream",
     "text": [
      "Stored 'otko_mert_params_spx' (list)\n",
      "Stored 'otko_kou_params_spx' (list)\n",
      "Stored 'otko_vg_params_spx' (list)\n"
     ]
    }
   ],
   "source": [
    "## MERTON MODEL (OTKO)\n",
    "otko_mert_params_spx = [0.1336, 0.1054, -0.1649, 0.1803]\n",
    "%store otko_mert_params_spx\n",
    "\n",
    "## KOU MODEL (OTKO)\n",
    "otko_kou_params_spx = [0.1247, 0.4313, 0.5324, 10.3, 7.5159]\n",
    "%store otko_kou_params_spx\n",
    "\n",
    "## VG MODEL (OTKO)\n",
    "otko_vg_params_spx = [0.2566, 0.078, 1.6178]\n",
    "%store otko_vg_params_spx"
   ],
   "metadata": {
    "collapsed": false,
    "ExecuteTime": {
     "end_time": "2023-09-01T15:11:52.009840600Z",
     "start_time": "2023-09-01T15:11:51.649225500Z"
    }
   },
   "id": "4ec9e8e536ba2e38"
  },
  {
   "cell_type": "markdown",
   "source": [
    "#### 4. MIXED: CALLS + OTKO "
   ],
   "metadata": {
    "collapsed": false
   },
   "id": "cee32f5828f7891f"
  },
  {
   "cell_type": "code",
   "execution_count": 57,
   "outputs": [
    {
     "name": "stdout",
     "output_type": "stream",
     "text": [
      "Stored 'calls_otko_mert_params_spx' (list)\n",
      "Stored 'calls_otko_kou_params_spx' (list)\n",
      "Stored 'calls_otko_vg_params_spx' (list)\n"
     ]
    }
   ],
   "source": [
    "## MERTON MODEL \n",
    "calls_otko_mert_params_spx =[0.128, 0.2528, -0.0626, 0.1739]\n",
    "%store calls_otko_mert_params_spx\n",
    "\n",
    "##### TODO: ADJUST THESE LAST 2 \n",
    "## KOU MODEL\n",
    "calls_otko_kou_params_spx = [0.0701, 1.9831, 0.3788, 7.6703, 5.9635]\n",
    "%store calls_otko_kou_params_spx\n",
    "\n",
    "## VG MODEL\n",
    "calls_otko_vg_params_spx = [0.2938, -0.0328, 1.7689]\n",
    "%store calls_otko_vg_params_spx"
   ],
   "metadata": {
    "collapsed": false,
    "ExecuteTime": {
     "end_time": "2023-09-01T15:11:52.057470700Z",
     "start_time": "2023-09-01T15:11:51.661558200Z"
    }
   },
   "id": "e35fb3fb8fa9c929"
  },
  {
   "cell_type": "markdown",
   "source": [
    "#### 5. MIXED: PUTS + OTKO "
   ],
   "metadata": {
    "collapsed": false
   },
   "id": "7b1aec59c148bb53"
  },
  {
   "cell_type": "code",
   "execution_count": 58,
   "outputs": [
    {
     "name": "stdout",
     "output_type": "stream",
     "text": [
      "Stored 'puts_otko_mert_params_spx' (list)\n",
      "Stored 'puts_otko_kou_params_spx' (list)\n",
      "Stored 'puts_otko_vg_params_spx' (list)\n"
     ]
    }
   ],
   "source": [
    "### TODO: ADJUST THESE WITH LAST CALIBRATION\n",
    "## MERTON MODEL \n",
    "puts_otko_mert_params_spx = [0.2601, 0.2756, -0.014, 0.2094]\n",
    "%store puts_otko_mert_params_spx\n",
    "\n",
    "## KOU MODEL\n",
    "puts_otko_kou_params_spx = [0.2572, 0.5716, 0.5396, 10.0831, 8.2913]\n",
    "%store puts_otko_kou_params_spx\n",
    "\n",
    "## VG MODEL\n",
    "puts_otko_vg_params_spx = [0.2469, 0.2492, 0.5588]\n",
    "%store puts_otko_vg_params_spx"
   ],
   "metadata": {
    "collapsed": false,
    "ExecuteTime": {
     "end_time": "2023-09-01T15:11:52.088575Z",
     "start_time": "2023-09-01T15:11:51.677562400Z"
    }
   },
   "id": "7242da7b7e41cca1"
  },
  {
   "cell_type": "markdown",
   "source": [
    "## AAPL\n",
    "#### 1. PLAIN VANILLA CALLS\n"
   ],
   "metadata": {
    "collapsed": false
   },
   "id": "b80e7fe92b7e16f1"
  },
  {
   "cell_type": "code",
   "execution_count": 59,
   "id": "20993970da58fee4",
   "metadata": {
    "collapsed": true,
    "ExecuteTime": {
     "end_time": "2023-09-01T15:11:52.137402800Z",
     "start_time": "2023-09-01T15:11:51.681454Z"
    }
   },
   "outputs": [
    {
     "name": "stdout",
     "output_type": "stream",
     "text": [
      "Stored 'calls_bs_params_aapl' (float)\n",
      "Stored 'calls_mert_params_aapl' (list)\n",
      "Stored 'calls_kou_params_aapl' (list)\n",
      "Stored 'calls_vg_params_aapl' (list)\n"
     ]
    }
   ],
   "source": [
    "# BLACK SCHOLES (CALLS)\n",
    "calls_bs_params_aapl = 0.27243\n",
    "%store calls_bs_params_aapl\n",
    "\n",
    "## MERTON MODEL (CALLS)\n",
    "calls_mert_params_aapl = [0.2548, 0.24, -0.122, 0.197]\n",
    "%store calls_mert_params_aapl\n",
    "\n",
    "## KOU MODEL (CALLS)\n",
    "calls_kou_params_aapl = [0.2441, 0.6554, 0.3733, 8.2551, 9.9373]\n",
    "%store calls_kou_params_aapl\n",
    "\n",
    "## VG MODEL (CALLS)\n",
    "calls_vg_params_aapl = [0.2781, 0.1335, 0.1808]\n",
    "%store calls_vg_params_aapl"
   ]
  },
  {
   "cell_type": "markdown",
   "source": [
    "#### 2. PLAIN VANILLA: PUTS"
   ],
   "metadata": {
    "collapsed": false
   },
   "id": "e43cecef916699cc"
  },
  {
   "cell_type": "code",
   "execution_count": 60,
   "outputs": [
    {
     "name": "stdout",
     "output_type": "stream",
     "text": [
      "Stored 'puts_bs_params_aapl' (float)\n",
      "Stored 'puts_mert_params_aapl' (list)\n",
      "Stored 'puts_kou_params_aapl' (list)\n",
      "Stored 'puts_vg_params_aapl' (list)\n"
     ]
    }
   ],
   "source": [
    "# BLACK SCHOLES (PUTS)\n",
    "puts_bs_params_aapl = 0.38218\n",
    "%store puts_bs_params_aapl\n",
    "\n",
    "## MERTON MODEL (PUTS)\n",
    "puts_mert_params_aapl = [0.3384, 0.5488, 0.0139, 0.2459]\n",
    "%store puts_mert_params_aapl\n",
    "\n",
    "## KOU MODEL (PUTS)\n",
    "puts_kou_params_aapl = [0.3414, 0.7704, 0.387, 5.4276, 9.9265]\n",
    "%store puts_kou_params_aapl\n",
    "\n",
    "## VG MODEL (PUTS)\n",
    "puts_vg_params_aapl = [0.3938, 0.0371, 0.2901]\n",
    "%store puts_vg_params_aapl"
   ],
   "metadata": {
    "collapsed": false,
    "ExecuteTime": {
     "end_time": "2023-09-01T15:11:52.198823700Z",
     "start_time": "2023-09-01T15:11:51.697806900Z"
    }
   },
   "id": "initial_id"
  },
  {
   "cell_type": "markdown",
   "source": [
    "#### 3. ONE TOUCH KNOCK OUT DAILY CLIQUETS (OTKO)"
   ],
   "metadata": {
    "collapsed": false
   },
   "id": "af4c3d5080234b6c"
  },
  {
   "cell_type": "code",
   "execution_count": 61,
   "outputs": [
    {
     "name": "stdout",
     "output_type": "stream",
     "text": [
      "Stored 'otko_mert_params_aapl' (list)\n",
      "Stored 'otko_kou_params_aapl' (list)\n",
      "Stored 'otko_vg_params_aapl' (list)\n"
     ]
    }
   ],
   "source": [
    "## MERTON MODEL (OTKO)\n",
    "otko_mert_params_aapl = [0.22, 3.0223, 0.0346, 0.2274]\n",
    "%store otko_mert_params_aapl\n",
    "\n",
    "## KOU MODEL (OTKO)\n",
    "otko_kou_params_aapl = [0.19, 3.3332, 0.1281, 8.4, 5.4527]\n",
    "%store otko_kou_params_aapl\n",
    "\n",
    "## VG MODEL (OTKO)\n",
    "otko_vg_params_aapl = [0.4737, 0.1965, 0.3018]\n",
    "%store otko_vg_params_aapl"
   ],
   "metadata": {
    "collapsed": false,
    "ExecuteTime": {
     "end_time": "2023-09-01T15:11:52.261326900Z",
     "start_time": "2023-09-01T15:11:51.710356100Z"
    }
   },
   "id": "5f407daf4d44fbfa"
  },
  {
   "cell_type": "markdown",
   "source": [
    "#### 4. MIXED: CALLS + OTKO "
   ],
   "metadata": {
    "collapsed": false
   },
   "id": "f654050d2650fcc7"
  },
  {
   "cell_type": "code",
   "execution_count": 62,
   "outputs": [
    {
     "name": "stdout",
     "output_type": "stream",
     "text": [
      "Stored 'calls_otko_mert_params_aapl' (list)\n",
      "Stored 'calls_otko_kou_params_aapl' (list)\n",
      "Stored 'calls_otko_vg_params_aapl' (list)\n"
     ]
    }
   ],
   "source": [
    "## MERTON MODEL \n",
    "calls_otko_mert_params_aapl =[0.1749, 1.2291, -0.1322, 0.166]\n",
    "%store calls_otko_mert_params_aapl\n",
    "\n",
    "## KOU MODEL\n",
    "calls_otko_kou_params_aapl = [0.0701, 1.9831, 0.3788, 7.6703, 5.9635]\n",
    "%store calls_otko_kou_params_aapl\n",
    "\n",
    "## VG MODEL\n",
    "calls_otko_vg_params_aapl = [0.2938, -0.0328, 1.7689]\n",
    "%store calls_otko_vg_params_aapl"
   ],
   "metadata": {
    "collapsed": false,
    "ExecuteTime": {
     "end_time": "2023-09-01T15:11:52.308615800Z",
     "start_time": "2023-09-01T15:11:51.725798200Z"
    }
   },
   "id": "de948bcc6dddc789"
  },
  {
   "cell_type": "markdown",
   "source": [
    "#### 5. MIXED: PUTS + OTKO "
   ],
   "metadata": {
    "collapsed": false
   },
   "id": "d2aa0e185229b930"
  },
  {
   "cell_type": "code",
   "execution_count": 63,
   "outputs": [
    {
     "name": "stdout",
     "output_type": "stream",
     "text": [
      "Stored 'puts_otko_mert_params_aapl' (list)\n",
      "Stored 'puts_otko_kou_params_aapl' (list)\n",
      "Stored 'puts_otko_vg_params_aapl' (list)\n"
     ]
    }
   ],
   "source": [
    "## MERTON MODEL \n",
    "puts_otko_mert_params_aapl = [0.3175, 1.126, -0.1533, 0.1681]\n",
    "%store puts_otko_mert_params_aapl\n",
    "\n",
    "## KOU MODEL\n",
    "puts_otko_kou_params_aapl = [0.0196, 3.0176, 0.3747, 5.8897, 5.8571]\n",
    "%store puts_otko_kou_params_aapl\n",
    "\n",
    "## VG MODEL\n",
    "puts_otko_vg_params_aapl = [0.4134, 0.0583, 0.7865]\n",
    "%store puts_otko_vg_params_aapl"
   ],
   "metadata": {
    "collapsed": false,
    "ExecuteTime": {
     "end_time": "2023-09-01T15:11:52.405761900Z",
     "start_time": "2023-09-01T15:11:51.740741400Z"
    }
   },
   "id": "16dd25fe2f2dd70b"
  },
  {
   "cell_type": "markdown",
   "source": [
    "## NVDA\n",
    "#### 1. PLAIN VANILLA CALLS\n"
   ],
   "metadata": {
    "collapsed": false
   },
   "id": "cc4536e9ac499e60"
  },
  {
   "cell_type": "code",
   "execution_count": 64,
   "outputs": [
    {
     "name": "stdout",
     "output_type": "stream",
     "text": [
      "Stored 'calls_bs_params_nvda' (float)\n",
      "Stored 'calls_mert_params_nvda' (list)\n",
      "Stored 'calls_kou_params_nvda' (list)\n",
      "Stored 'calls_vg_params_nvda' (list)\n"
     ]
    }
   ],
   "source": [
    "# BLACK SCHOLES (CALLS)\n",
    "calls_bs_params_nvda = 0.33966\n",
    "%store calls_bs_params_nvda\n",
    "\n",
    "## MERTON MODEL (CALLS)\n",
    "calls_mert_params_nvda = [0.2567, 1.0107, -0.078, 0.2328]\n",
    "%store calls_mert_params_nvda\n",
    "\n",
    "## KOU MODEL (CALLS)\n",
    "calls_kou_params_nvda = [0.3126, 0.7377, 0.4119, 8.1512, 9.9261]\n",
    "%store calls_kou_params_nvda\n",
    "\n",
    "## VG MODEL (CALLS)\n",
    "calls_vg_params_nvda = [0.3492, 0.1579, 0.2349]\n",
    "%store calls_vg_params_nvda"
   ],
   "metadata": {
    "collapsed": false,
    "ExecuteTime": {
     "end_time": "2023-09-01T15:11:52.466184900Z",
     "start_time": "2023-09-01T15:11:51.756409700Z"
    }
   },
   "id": "e0fdb368cf3f0680"
  },
  {
   "cell_type": "markdown",
   "source": [
    "#### 2. PLAIN VANILLA: PUTS"
   ],
   "metadata": {
    "collapsed": false
   },
   "id": "db1ed713d37a821e"
  },
  {
   "cell_type": "code",
   "execution_count": 65,
   "outputs": [
    {
     "name": "stdout",
     "output_type": "stream",
     "text": [
      "Stored 'puts_bs_params_nvda' (float)\n",
      "Stored 'puts_mert_params_nvda' (list)\n",
      "Stored 'puts_kou_params_nvda' (list)\n",
      "Stored 'puts_vg_params_nvda' (list)\n"
     ]
    }
   ],
   "source": [
    "# BLACK SCHOLES (PUTS)\n",
    "puts_bs_params_nvda = 0.45013\n",
    "%store puts_bs_params_nvda\n",
    "\n",
    "## MERTON MODEL (PUTS)\n",
    "puts_mert_params_nvda = [0.3422, 1.2753, -0.1731, 0.2157]\n",
    "%store puts_mert_params_nvda\n",
    "\n",
    "## KOU MODEL (PUTS)\n",
    "puts_kou_params_nvda = [0.408, 0.8058, 0.2636, 5.9677, 8.9657]\n",
    "%store puts_kou_params_nvda\n",
    "\n",
    "## VG MODEL (PUTS)\n",
    "puts_vg_params_nvda = [0.4618, 0.1306, 0.4922]\n",
    "%store puts_vg_params_nvda"
   ],
   "metadata": {
    "collapsed": false,
    "ExecuteTime": {
     "end_time": "2023-09-01T15:11:52.482211200Z",
     "start_time": "2023-09-01T15:11:51.761721600Z"
    }
   },
   "id": "da722b781adf8d8c"
  },
  {
   "cell_type": "markdown",
   "source": [
    "#### 3. ONE TOUCH KNOCK OUT DAILY CLIQUETS (OTKO)\n"
   ],
   "metadata": {
    "collapsed": false
   },
   "id": "e449376876822adf"
  },
  {
   "cell_type": "code",
   "execution_count": 66,
   "outputs": [
    {
     "name": "stdout",
     "output_type": "stream",
     "text": [
      "Stored 'otko_mert_params_nvda' (list)\n",
      "Stored 'otko_kou_params_nvda' (list)\n",
      "Stored 'otko_vg_params_nvda' (list)\n"
     ]
    }
   ],
   "source": [
    "## MERTON MODEL (OTKO)\n",
    "otko_mert_params_nvda = [0.26, 2.9345, 0.0281, 0.2255]\n",
    "\n",
    "%store otko_mert_params_nvda\n",
    "\n",
    "## KOU MODEL (OTKO)\n",
    "otko_kou_params_nvda = [0.3, 4.8006, 0.4, 10.0, 5.4461]\n",
    "\n",
    "%store otko_kou_params_nvda\n",
    "\n",
    "## VG MODEL (OTKO)\n",
    "otko_vg_params_nvda = [0.4737, 0.1965, 0.3018]\n",
    "%store otko_vg_params_nvda"
   ],
   "metadata": {
    "collapsed": false,
    "ExecuteTime": {
     "end_time": "2023-09-01T15:11:52.482211200Z",
     "start_time": "2023-09-01T15:11:51.780411900Z"
    }
   },
   "id": "3035b0559af1f781"
  },
  {
   "cell_type": "markdown",
   "source": [
    "#### 4. MIXED: CALLS + OTKO "
   ],
   "metadata": {
    "collapsed": false
   },
   "id": "b6ee970380d9bd1b"
  },
  {
   "cell_type": "code",
   "execution_count": 67,
   "outputs": [
    {
     "name": "stdout",
     "output_type": "stream",
     "text": [
      "Stored 'calls_otko_mert_params_nvda' (list)\n",
      "Stored 'calls_otko_kou_params_nvda' (list)\n",
      "Stored 'calls_otko_vg_params_nvda' (list)\n"
     ]
    }
   ],
   "source": [
    "## MERTON MODEL \n",
    "calls_otko_mert_params_nvda = [0.2398, 1.2412, -0.223, 0.1337]\n",
    "%store calls_otko_mert_params_nvda\n",
    "\n",
    "## KOU MODEL\n",
    "calls_otko_kou_params_nvda = [0.0103, 2.6502, 0.0, 9.8251, 5.2248]\n",
    "%store calls_otko_kou_params_nvda\n",
    "\n",
    "## VG MODEL\n",
    "calls_otko_vg_params_nvda = [0.1857, -0.6672, 0.2006]\n",
    "%store calls_otko_vg_params_nvda"
   ],
   "metadata": {
    "collapsed": false,
    "ExecuteTime": {
     "end_time": "2023-09-01T15:11:52.482211200Z",
     "start_time": "2023-09-01T15:11:51.788811800Z"
    }
   },
   "id": "695ed84f2035062c"
  },
  {
   "cell_type": "markdown",
   "source": [
    "#### 5. MIXED: PUTS + OTKO "
   ],
   "metadata": {
    "collapsed": false
   },
   "id": "d1f6cb445b665af1"
  },
  {
   "cell_type": "code",
   "execution_count": 68,
   "outputs": [
    {
     "name": "stdout",
     "output_type": "stream",
     "text": [
      "Stored 'puts_otko_mert_params_nvda' (list)\n",
      "Stored 'puts_otko_kou_params_nvda' (list)\n",
      "Stored 'puts_otko_vg_params_nvda' (list)\n"
     ]
    }
   ],
   "source": [
    "## MERTON MODEL \n",
    "puts_otko_mert_params_nvda = [0.319, 2.5907, 0.1629, 0.0688]\n",
    "%store puts_otko_mert_params_nvda\n",
    "\n",
    "## KOU MODEL\n",
    "puts_otko_kou_params_nvda = [0.0245, 3.759, 0.0149, 8.1761, 5.2894]\n",
    "%store puts_otko_kou_params_nvda\n",
    "\n",
    "## VG MODEL\n",
    "puts_otko_vg_params_nvda = [0.3786, -0.4982, 0.144]\n",
    "%store puts_otko_vg_params_nvda"
   ],
   "metadata": {
    "collapsed": false,
    "ExecuteTime": {
     "end_time": "2023-09-01T15:11:52.482211200Z",
     "start_time": "2023-09-01T15:11:51.803930200Z"
    }
   },
   "id": "6d8cce52a17c7f9b"
  },
  {
   "cell_type": "markdown",
   "source": [
    "## TSLA\n",
    "#### 1. PLAIN VANILLA CALLS"
   ],
   "metadata": {
    "collapsed": false
   },
   "id": "9473c4bb88801531"
  },
  {
   "cell_type": "code",
   "execution_count": 69,
   "outputs": [
    {
     "name": "stdout",
     "output_type": "stream",
     "text": [
      "Stored 'calls_bs_params_tsla' (float)\n",
      "Stored 'calls_mert_params_tsla' (list)\n",
      "Stored 'calls_kou_params_tsla' (list)\n",
      "Stored 'calls_vg_params_tsla' (list)\n"
     ]
    }
   ],
   "source": [
    "# BLACK SCHOLES (CALLS)\n",
    "calls_bs_params_tsla = 0.38917\n",
    "%store calls_bs_params_tsla\n",
    "\n",
    "## MERTON MODEL (CALLS)\n",
    "calls_mert_params_tsla = [0.3062, 0.9971, 0.0544, 0.2319]\n",
    "%store calls_mert_params_tsla\n",
    "\n",
    "## KOU MODEL (CALLS)\n",
    "calls_kou_params_tsla = [0.3547, 0.9235, 0.5685, 7.8424, 10.0337]\n",
    "%store calls_kou_params_tsla\n",
    "\n",
    "## VG MODEL (CALLS)\n",
    "calls_vg_params_tsla = [0.3917, -0.0513, 0.234]\n",
    "%store calls_vg_params_tsla"
   ],
   "metadata": {
    "collapsed": false,
    "ExecuteTime": {
     "end_time": "2023-09-01T15:11:52.482211200Z",
     "start_time": "2023-09-01T15:11:51.820058800Z"
    }
   },
   "id": "ef26f48f38279b66"
  },
  {
   "cell_type": "markdown",
   "source": [
    "#### 2. PLAIN VANILLA: PUTS"
   ],
   "metadata": {
    "collapsed": false
   },
   "id": "c60bc47e142db8e3"
  },
  {
   "cell_type": "code",
   "execution_count": 70,
   "outputs": [
    {
     "name": "stdout",
     "output_type": "stream",
     "text": [
      "Stored 'puts_bs_params_tsla' (float)\n",
      "Stored 'puts_mert_params_tsla' (list)\n",
      "Stored 'puts_kou_params_tsla' (list)\n",
      "Stored 'puts_vg_params_tsla' (list)\n"
     ]
    }
   ],
   "source": [
    "# BLACK SCHOLES (PUTS)\n",
    "puts_bs_params_tsla = 0.59036\n",
    "%store puts_bs_params_tsla\n",
    "\n",
    "## MERTON MODEL (PUTS)\n",
    "puts_mert_params_tsla = [0.108, 3.0804, 0.2906, 0.094]\n",
    "%store puts_mert_params_tsla\n",
    "\n",
    "## KOU MODEL (PUTS)\n",
    "puts_kou_params_tsla = [0.5, 2.4882, 0.6647, 6.4397, 15.1241]\n",
    "%store puts_kou_params_tsla\n",
    "\n",
    "## VG MODEL (PUTS)\n",
    "puts_vg_params_tsla = [0.6145, 0.1877, 0.338]\n",
    "%store puts_vg_params_tsla"
   ],
   "metadata": {
    "collapsed": false,
    "ExecuteTime": {
     "end_time": "2023-09-01T15:11:52.482211200Z",
     "start_time": "2023-09-01T15:11:51.836073900Z"
    }
   },
   "id": "27822cfc85af1298"
  },
  {
   "cell_type": "markdown",
   "source": [
    "#### 3. ONE TOUCH KNOCK OUT DAILY CLIQUETS (OTKO)\n"
   ],
   "metadata": {
    "collapsed": false
   },
   "id": "92b759275f1a0bd8"
  },
  {
   "cell_type": "code",
   "execution_count": 71,
   "outputs": [
    {
     "name": "stdout",
     "output_type": "stream",
     "text": [
      "Stored 'otko_mert_params_tsla' (list)\n",
      "Stored 'otko_kou_params_tsla' (list)\n",
      "Stored 'otko_vg_params_tsla' (list)\n"
     ]
    }
   ],
   "source": [
    "## MERTON MODEL (OTKO)\n",
    "otko_mert_params_tsla = [0.25, 2.3855, -0.0416, 0.2223]\n",
    "%store otko_mert_params_tsla\n",
    "\n",
    "## KOU MODEL (OTKO)\n",
    "otko_kou_params_tsla = [0.34, 4.9658, 0.1006, 10.5, 5.9344]\n",
    "%store otko_kou_params_tsla\n",
    "\n",
    "## VG MODEL (OTKO)\n",
    "otko_vg_params_tsla = [0.568, 0.041, 0.1054]\n",
    "%store otko_vg_params_tsla"
   ],
   "metadata": {
    "collapsed": false,
    "ExecuteTime": {
     "end_time": "2023-09-01T15:11:52.482211200Z",
     "start_time": "2023-09-01T15:11:51.843467400Z"
    }
   },
   "id": "68f3bb22a3e0d7ac"
  },
  {
   "cell_type": "markdown",
   "source": [
    "#### 5. MIXED: CALLS + OTKO "
   ],
   "metadata": {
    "collapsed": false
   },
   "id": "e6fdba3dbc6eb9f7"
  },
  {
   "cell_type": "code",
   "execution_count": 72,
   "outputs": [
    {
     "name": "stdout",
     "output_type": "stream",
     "text": [
      "Stored 'calls_otko_mert_params_tsla' (list)\n",
      "Stored 'calls_otko_kou_params_tsla' (list)\n",
      "Stored 'calls_otko_vg_params_tsla' (list)\n"
     ]
    }
   ],
   "source": [
    "## MERTON MODEL \n",
    "calls_otko_mert_params_tsla = [0.2183, 2.1919, -0.0286, 0.2369]\n",
    "%store calls_otko_mert_params_tsla\n",
    "\n",
    "## KOU MODEL\n",
    "calls_otko_kou_params_tsla = [0.3123, 1.8131, 0.3186, 14.0203, 5.409]\n",
    "%store calls_otko_kou_params_tsla\n",
    "\n",
    "## VG MODEL\n",
    "calls_otko_vg_params_tsla = [0.3966, -0.1098, 0.246]\n",
    "%store calls_otko_vg_params_tsla"
   ],
   "metadata": {
    "collapsed": false,
    "ExecuteTime": {
     "end_time": "2023-09-01T15:11:52.497847900Z",
     "start_time": "2023-09-01T15:11:51.852359300Z"
    }
   },
   "id": "4fc9905d051eb7a"
  },
  {
   "cell_type": "markdown",
   "source": [
    "#### 5. MIXED: PUTS + OTKO "
   ],
   "metadata": {
    "collapsed": false
   },
   "id": "5ae16692036e5db"
  },
  {
   "cell_type": "code",
   "execution_count": 73,
   "outputs": [
    {
     "name": "stdout",
     "output_type": "stream",
     "text": [
      "Stored 'puts_otko_mert_params_tsla' (list)\n",
      "Stored 'puts_otko_kou_params_tsla' (list)\n",
      "Stored 'puts_otko_vg_params_tsla' (list)\n"
     ]
    }
   ],
   "source": [
    "## MERTON MODEL \n",
    "puts_otko_mert_params_tsla = [0.1435, 3.351, 0.2749, 0.0882]\n",
    "%store puts_otko_mert_params_tsla\n",
    "\n",
    "## KOU MODEL\n",
    "puts_otko_kou_params_tsla = [0.527, 2.61, 0.3985, 6.6695, 14.1724]\n",
    "%store puts_otko_kou_params_tsla\n",
    "\n",
    "## VG MODEL\n",
    "puts_otko_vg_params_tsla = [0.6082, 0.3128, 0.2515]\n",
    "%store puts_otko_vg_params_tsla"
   ],
   "metadata": {
    "collapsed": false,
    "ExecuteTime": {
     "end_time": "2023-09-01T15:11:52.497847900Z",
     "start_time": "2023-09-01T15:11:51.861896300Z"
    }
   },
   "id": "52adc09bb460e3cd"
  }
 ],
 "metadata": {
  "kernelspec": {
   "display_name": "Python 3",
   "language": "python",
   "name": "python3"
  },
  "language_info": {
   "codemirror_mode": {
    "name": "ipython",
    "version": 2
   },
   "file_extension": ".py",
   "mimetype": "text/x-python",
   "name": "python",
   "nbconvert_exporter": "python",
   "pygments_lexer": "ipython2",
   "version": "2.7.6"
  }
 },
 "nbformat": 4,
 "nbformat_minor": 5
}
