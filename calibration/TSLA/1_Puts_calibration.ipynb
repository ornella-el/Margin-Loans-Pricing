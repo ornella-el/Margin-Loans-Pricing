{
 "cells": [
  {
   "cell_type": "markdown",
   "source": [
    "# Calibration of Black and Scholes, Merton, Kou, Variance Gamma parameters\n",
    "This notebook aims to find the optimal parameters of **Black-Scholes**, **Merton Jump Diffusion**, **Kou Jump Diffusion** and **Variance Gamma** models. To do so, we compute the european option prices using **closed formulas**, available for all the 4 models, and the **Fast Fourier Transform** for the VG model. Given these theoretical prices, the **implied volatilities** are computed comparing them with real market prices, minimizing their difference. Then we estimate the additional parameters of each model, using the python module `scipy.optimize`.\n",
    "\n",
    "*reference: https://github.com/cantaro86/Financial-Models-Numerical-Methods/tree/master*\n"
   ],
   "metadata": {
    "collapsed": false
   }
  },
  {
   "cell_type": "code",
   "execution_count": 1,
   "metadata": {
    "collapsed": true,
    "ExecuteTime": {
     "end_time": "2023-09-14T18:42:31.938523600Z",
     "start_time": "2023-09-14T18:42:31.865010100Z"
    }
   },
   "outputs": [],
   "source": [
    "import numpy as np\n",
    "import pandas as pd\n",
    "import matplotlib.pyplot as plt\n",
    "import random\n",
    "import scipy.optimize as scpo\n",
    "import sys\n",
    "import time\n",
    "import warnings\n",
    "sys.path.append('C:/Users\\ornel\\PycharmProjects\\Margin-Loans-Pricing/functions')\n",
    "sys.path.append('C:/Users/ornel/PycharmProjects/Margin-Loans-Pricing/calibration')\n",
    "warnings.simplefilter(action='ignore', category=FutureWarning)\n",
    "\n",
    "from MERTONpricer import Merton_pricer\n",
    "from BSpricer import BS_Pricer\n",
    "from KOUpricer import Kou_pricer\n",
    "from VGpricer import VG_pricer\n",
    "\n",
    "random.seed(110)"
   ]
  },
  {
   "cell_type": "markdown",
   "source": [
    "Let's start retrieving historical prices for **european call** and **put** options starting from date **2016-01-20** and expiring **1 year** later. All the data have been collected from [OptionsDX](https://www.optionsdx.com/shop/) and preprocessed in `plainvanilla.py` module. Only options such that the moneyness\n",
    "$$ K/S0 \\in [0.75, 1.35] $$ have been selected."
   ],
   "metadata": {
    "collapsed": false
   }
  },
  {
   "cell_type": "code",
   "execution_count": 2,
   "outputs": [
    {
     "name": "stdout",
     "output_type": "stream",
     "text": [
      "NUM OF PUT OPTS: 17\n",
      "    QUOTE_DATE  UNDERLYING_LAST EXPIRE_DATE  P_BID  P_ASK  STRIKE     P_IV  \\\n",
      "0   2016-01-20            198.7  2017-01-20  18.55  19.94   150.0  0.53022   \n",
      "1   2016-01-20            198.7  2017-01-20  20.40  21.31   155.0  0.52039   \n",
      "2   2016-01-20            198.7  2017-01-20  22.20  23.35   160.0  0.51423   \n",
      "3   2016-01-20            198.7  2017-01-20  24.55  25.80   165.0  0.51357   \n",
      "4   2016-01-20            198.7  2017-01-20  26.70  28.05   170.0  0.50896   \n",
      "5   2016-01-20            198.7  2017-01-20  27.70  30.36   175.0  0.49457   \n",
      "6   2016-01-20            198.7  2017-01-20  30.25  32.75   180.0  0.49117   \n",
      "7   2016-01-20            198.7  2017-01-20  33.89  35.30   185.0  0.49398   \n",
      "8   2016-01-20            198.7  2017-01-20  36.25  38.45   190.0  0.49128   \n",
      "9   2016-01-20            198.7  2017-01-20  39.16  40.60   195.0  0.48464   \n",
      "10  2016-01-20            198.7  2017-01-20  42.10  43.70   200.0  0.48296   \n",
      "11  2016-01-20            198.7  2017-01-20  48.00  49.64   210.0  0.47387   \n",
      "12  2016-01-20            198.7  2017-01-20  54.46  56.00   220.0  0.46666   \n",
      "13  2016-01-20            198.7  2017-01-20  61.20  63.95   230.0  0.46734   \n",
      "14  2016-01-20            198.7  2017-01-20  68.36  69.85   240.0  0.45254   \n",
      "15  2016-01-20            198.7  2017-01-20  75.66  76.64   250.0  0.44105   \n",
      "16  2016-01-20            198.7  2017-01-20  83.59  85.55   260.0  0.44536   \n",
      "\n",
      "    MONEYNESS  \n",
      "0        0.75  \n",
      "1        0.78  \n",
      "2        0.81  \n",
      "3        0.83  \n",
      "4        0.86  \n",
      "5        0.88  \n",
      "6        0.91  \n",
      "7        0.93  \n",
      "8        0.96  \n",
      "9        0.98  \n",
      "10       1.01  \n",
      "11       1.06  \n",
      "12       1.11  \n",
      "13       1.16  \n",
      "14       1.21  \n",
      "15       1.26  \n",
      "16       1.31  \n"
     ]
    }
   ],
   "source": [
    "df_put = pd.read_csv('../../data/TSLA/OPT16_TSLA_PUTS_75_135.csv')\n",
    "print(f'NUM OF PUT OPTS: {df_put.shape[0]}')\n",
    "print(df_put)\n"
   ],
   "metadata": {
    "collapsed": false,
    "ExecuteTime": {
     "end_time": "2023-09-14T18:42:32.017231Z",
     "start_time": "2023-09-14T18:42:31.938523600Z"
    }
   }
  },
  {
   "cell_type": "markdown",
   "source": [
    "The dataframe **df_put** contains both 17 options without NaN values. Thus, we decide to use them all and look for the best parameters' estimation."
   ],
   "metadata": {
    "collapsed": false
   }
  },
  {
   "cell_type": "code",
   "execution_count": 3,
   "outputs": [],
   "source": [
    "puts = df_put.sample(frac=1, replace=False).sort_index().reset_index(drop=True)\n",
    "\n",
    "puts['P_Midpoint'] = abs(puts['P_BID'] + puts['P_ASK']) / 2\n",
    "puts['P_Spread'] = puts['P_BID'] - puts['P_ASK']\n",
    "put_prices = puts['P_Midpoint']\n",
    "#puts.to_csv('../../data/TSLA/TSLA_puts.csv', index=False)\n",
    "\n",
    "\n",
    "q = 0           # dividend yield\n",
    "r = 0.03        # risk-free interest rate\n",
    "sigma = 0.3     #volatility (variance of diffusion process)\n",
    "S0 = puts.iloc[0]['UNDERLYING_LAST']\n",
    "T = 1           # time-to-maturity\n",
    "put_strikes = puts['STRIKE']      # array of K for put options\n",
    "exercise = 'european'\n"
   ],
   "metadata": {
    "collapsed": false,
    "ExecuteTime": {
     "end_time": "2023-09-14T18:42:37.039953400Z",
     "start_time": "2023-09-14T18:42:36.977506300Z"
    }
   }
  },
  {
   "cell_type": "markdown",
   "source": [
    "The following code snippet initializes objects of class *BS_pricer*, *Merton_pricer*, *Kou_pricer*, *VG_pricer* with default values as parameters. Then it computes the theoretical put prices using closed formulas of each 4 models, with strike prices given by the *put_strikes* array. Additionally, we use the **Midpoint** price as the market price."
   ],
   "metadata": {
    "collapsed": false
   }
  },
  {
   "cell_type": "code",
   "execution_count": 4,
   "outputs": [],
   "source": [
    "BS = BS_Pricer(S0=S0, r=r, q = q, sigma=sigma, ttm=T, exercise=exercise, K=None)\n",
    "Merton = Merton_pricer(S0=S0, K=None, ttm=T, r=r, q = q, sigma=0.15, lambd=0.5, meanJ=-0.1, stdJ=0.1, exercise=exercise)\n",
    "Kou = Kou_pricer(S0=S0, K=None, ttm=T, r=r, sigma=0.15, lambd=0.5, p=0.6, eta1=12, eta2=5, exercise=exercise)\n",
    "VG = VG_pricer(S0, K=None, ttm=T, r=r, q=q, sigma=0.15, theta=-0.2, nu=0.3, exercise=exercise)"
   ],
   "metadata": {
    "collapsed": false,
    "ExecuteTime": {
     "end_time": "2023-09-14T18:43:00.911991700Z",
     "start_time": "2023-09-14T18:43:00.871181Z"
    }
   }
  },
  {
   "cell_type": "markdown",
   "source": [
    "The theoretical put prices with given parameters are computed below. "
   ],
   "metadata": {
    "collapsed": false
   }
  },
  {
   "cell_type": "code",
   "execution_count": 5,
   "outputs": [
    {
     "name": "stdout",
     "output_type": "stream",
     "text": [
      "Theoretical put options prices:\n",
      "    Strike   Price BlackScholes     Merton        Kou VarianceGamma\n",
      "0    150.0  19.245     3.929659   0.778865   1.482643      0.175632\n",
      "1    155.0  20.855     4.913446   1.102963   1.841543      0.341115\n",
      "2    160.0  22.775     6.050901   1.532207   2.294327      0.626665\n",
      "3    165.0  25.175     7.349092   2.089948    2.86552      1.086948\n",
      "4    170.0  27.375     8.813402   2.801224   3.582437      1.777988\n",
      "5    175.0  29.030    10.447508   3.691752   4.473742      2.746041\n",
      "6    180.0  31.500    12.253427   4.786674   5.567645      4.021194\n",
      "7    185.0  34.595    14.231597   6.109153   6.889974      5.616897\n",
      "8    190.0  37.350     16.38099   7.678992    8.46238        7.5326\n",
      "9    195.0  39.880    18.699255   9.511419  10.300906      9.757354\n",
      "10   200.0  42.900    21.182872  11.616195  12.415066     12.273247\n",
      "11   210.0  48.820    26.627231  16.651981   17.47429     18.088484\n",
      "12   220.0  55.230     32.66877  22.747208   23.58631     24.787991\n",
      "13   230.0  62.575    39.253732  29.785833  30.620601     32.189181\n",
      "14   240.0  69.105    46.324244    37.6058  38.407569     40.135049\n",
      "15   250.0  76.150    53.821795  46.032037  46.773193     48.498229\n",
      "16   260.0  84.570    61.689824  54.902071   55.56232     57.178813\n"
     ]
    }
   ],
   "source": [
    "put_th_prices = pd.DataFrame(columns=['Strike','Price', 'BlackScholes', 'Merton', 'Kou', 'VarianceGamma'])\n",
    "put_th_prices['Strike'] = put_strikes\n",
    "put_th_prices['Price'] = put_prices\n",
    "\n",
    "for i, K in enumerate(put_strikes):\n",
    "    bs = BS.closed_formula_put(K)\n",
    "    mert = Merton.closed_formula_put(K)\n",
    "    kou = Kou.closed_formula_put(K)\n",
    "    vg = VG.closed_formula_put(K)\n",
    "    put_th_prices.iloc[i, 2:] = [bs, mert, kou, vg]\n",
    "\n",
    "print(f'Theoretical put options prices:')\n",
    "print(put_th_prices)"
   ],
   "metadata": {
    "collapsed": false,
    "ExecuteTime": {
     "end_time": "2023-09-14T18:43:08.857651800Z",
     "start_time": "2023-09-14T18:43:02.987886200Z"
    }
   }
  },
  {
   "cell_type": "markdown",
   "source": [
    "## Implied volatility\n",
    "The function belows implements $3$ methods to compute implied volatility: [Newton](https://en.wikipedia.org/wiki/Newton%27s_method) method, the [Bisection](https://en.wikipedia.org/wiki/Bisection_method) method and a more advanced one, named [Brent](https://en.wikipedia.org/wiki/Brent%27s_method) method. Apart from the initial guess, there is no substantial difference in the final result between **Newton** and **bisection** methods (*fsolve*). The **Implied Volatility** is that value $\\sigma$ that must be inserted into the Black-Scholes (BS) formula in order to retrieve the option price quoted in the market:\n",
    "    $$ BS(S, K, T, r, \\sigma) = P,  $$\n",
    "where $S$ is the underlying spot price, $K$ is the strike, $T$ time to maturity, $r$ risk-free interest rate and $P$ the option price quoted in the market. All these quantities are **observable**.\n",
    "   "
   ],
   "metadata": {
    "collapsed": false
   }
  },
  {
   "cell_type": "code",
   "execution_count": 6,
   "outputs": [],
   "source": [
    "def implied_volatility(price, S, strike, t, rate, q, type_o, method='fsolve', disp=True ):\n",
    "    \"\"\" Returns Implied volatility\n",
    "        methods:  fsolve (default) or brent\n",
    "    \"\"\"\n",
    "\n",
    "    def obj_fun(vol):\n",
    "        return BS.BlackScholes(type_o=type_o, S0=S, K=strike, ttm=t, r=rate, q=q, sigma=vol) - price\n",
    "\n",
    "    def vega(vol):\n",
    "        return BS.vega(S, strike, rate, q, vol, t)\n",
    "\n",
    "    if method =='fsolve':\n",
    "        X0 = [0.01, 0.2, 0.35, 7]        #initial guess points for imp.vol.\n",
    "        for x_0 in X0:\n",
    "            x, _, solved, _ = scpo.fsolve(obj_fun, x_0, full_output=True, xtol=1e-8)\n",
    "            if solved == 1:\n",
    "                return x[0]\n",
    "\n",
    "    if disp:\n",
    "        return -1"
   ],
   "metadata": {
    "collapsed": false,
    "ExecuteTime": {
     "end_time": "2023-09-14T18:43:13.227841600Z",
     "start_time": "2023-09-14T18:43:13.195644700Z"
    }
   }
  },
  {
   "cell_type": "markdown",
   "source": [
    "The following code snippet computes the implied volatility of **put** options market prices with BS inversion, i.e. using the Black-Scholes formula on given market prices to find the best fitting $\\sigma$ for each option contract."
   ],
   "metadata": {
    "collapsed": false
   }
  },
  {
   "cell_type": "code",
   "execution_count": 7,
   "outputs": [
    {
     "name": "stdout",
     "output_type": "stream",
     "text": [
      "Implied volatilities of market prices (puts):\n",
      "S0 = 198.7\n",
      "K = 150.0, IV = 0.5305\n",
      "K = 155.0, IV = 0.5205\n",
      "K = 160.0, IV = 0.5142\n",
      "K = 165.0, IV = 0.514\n",
      "K = 170.0, IV = 0.509\n",
      "K = 175.0, IV = 0.4946\n"
     ]
    },
    {
     "data": {
      "text/plain": "<Figure size 1000x500 with 1 Axes>",
      "image/png": "[encoded data removed]"
     },
     "metadata": {},
     "output_type": "display_data"
    }
   ],
   "source": [
    "IV_market_p = []\n",
    "for i in range(len(put_prices)):\n",
    "    IV_market_p.append(implied_volatility(put_prices[i], S=S0, strike=put_strikes[i], t = T, rate=0.02, q = 0.08, type_o='put', method='fsolve'))\n",
    "\n",
    "print(f'Implied volatilities of market prices (puts):\\nS0 = {S0}')\n",
    "for a,b in zip(put_strikes.head(6), IV_market_p[:6]):\n",
    "    print(f'K = {a}, IV = {round(b, 4)}')\n",
    "\n",
    "# Plot market implied volatilities w.r.t. log moneyness\n",
    "x = (S0/put_strikes)\n",
    "IV_filtered = [iv for iv in IV_market_p if iv != -1]\n",
    "x_filtered = [log_m for iv, log_m in zip(IV_market_p, x) if iv != -1]\n",
    "puts_filtered = [p_iv for iv, p_iv in zip(IV_market_p, puts['P_IV']) if iv != -1 ]\n",
    "\n",
    "fig, ax1 = plt.subplots(figsize=(10,5))\n",
    "ax1.scatter(x_filtered, IV_filtered, marker='x', label='BS inversion', color='red')\n",
    "ax1.scatter(x_filtered, puts_filtered, marker='.', label='provided')\n",
    "ax1.set_xlabel('Moneyness: S0/K'); ax1.set_ylabel('Implied Volatility'); ax1.set_title('Puts volatility smile')\n",
    "ax1.legend(); plt.show()\n"
   ],
   "metadata": {
    "collapsed": false,
    "ExecuteTime": {
     "end_time": "2023-09-14T18:43:15.167822300Z",
     "start_time": "2023-09-14T18:43:14.825542800Z"
    }
   }
  },
  {
   "cell_type": "markdown",
   "source": [
    "##  Weighted Calibration (call options)\n",
    "Let's step now into the calibration of model parameters.\n",
    "If we define $\\Theta$ the set of parameters, the goal is to find the optimal parameters $\\Theta^*$ that minimize the following objective function:\n",
    "$$ \\sum_{i=1}^{N} w_i \\biggl( P_i - f(K_i|\\Theta) \\biggr)^2 $$\n",
    "where $w_i$ are weights, usually defined as\n",
    "$$ w_i = \\frac{1}{\\text {spread}_i^2 },$$ $P_i$ are the market prices and $f$ is the pricing function. In our case $f$ is given by **Merton** Jump Diffusion model, **Kou** Jump Diffusion model, or **Variance Gamma** process. To perform this optimization problem, many numerical methods can be used. In particular, we test two functions of `scipy.optimize`:\n",
    "1. **curve_fit**, a least-squares curve fitting method which works with bounds. The default algorithm is [Trust Region Reflective (trf)](https://en.wikipedia.org/wiki/Trust_region). The [Levemberg-Marquadt](https://en.wikipedia.org/wiki/Levenberg%E2%80%93Marquardt_algorithm) has been tried as well, to test the optimization problem without setting boundaries, but the results don't make any sense.\n",
    "2. **Least-Squares**, a constrained minimization problem which uses Trust region reflective method by default. This method is the most indicated to solve the non-linear least squares optimization problem of our purpose.\n",
    "All the optimizations are carried out by initializing a starting point as the array $x_0 = [params]$ and setting feasible bounds.\n"
   ],
   "metadata": {
    "collapsed": false
   }
  },
  {
   "cell_type": "code",
   "execution_count": 8,
   "outputs": [],
   "source": [
    "put_spreads = puts['P_Spread']\n",
    "p_weights = 1 / put_spreads**2"
   ],
   "metadata": {
    "collapsed": false,
    "ExecuteTime": {
     "end_time": "2023-09-14T18:43:18.000606700Z",
     "start_time": "2023-09-14T18:43:17.969247800Z"
    }
   }
  },
  {
   "cell_type": "markdown",
   "source": [
    "### Black and Scholes model\n",
    "The only unknown parameter to calibrate in Black and Scholes model is the **implied volatility**, $\\sigma$. Thus, we minimize the difference between the computed theoretical prices and the market prices of call options."
   ],
   "metadata": {
    "collapsed": false
   }
  },
  {
   "cell_type": "code",
   "execution_count": 9,
   "outputs": [],
   "source": [
    "x0 = 0.5\n",
    "bounds = [1e-5, 2]\n",
    "\n",
    "def f_BlackScholes_puts(x, sigm):\n",
    "    BS = BS_Pricer(S0=S0, K = x, ttm=T, r=r, q=0, sigma=sigm, exercise=exercise)\n",
    "    return BS.closed_formula_put(x)\n",
    "\n",
    "res1_puts = scpo.curve_fit(f_BlackScholes_puts, put_strikes, put_prices, p0 = x0, bounds=bounds, sigma=p_weights)\n",
    "sigw_p = round(res1_puts[0][0],4)"
   ],
   "metadata": {
    "collapsed": false,
    "ExecuteTime": {
     "end_time": "2023-09-14T18:43:19.634265Z",
     "start_time": "2023-09-14T18:43:19.578504Z"
    }
   }
  },
  {
   "cell_type": "code",
   "execution_count": 10,
   "outputs": [
    {
     "name": "stdout",
     "output_type": "stream",
     "text": [
      "`ftol` termination condition is satisfied.\n",
      "Function evaluations 24, initial cost 5.3492e+04, final cost 1.0365e+00, first-order optimality 1.67e-03.\n"
     ]
    }
   ],
   "source": [
    "def cost_function(x, strikes, mkt_prices):\n",
    "    sigma = x\n",
    "    BS = BS_Pricer(S0=S0, K = None, ttm=T, r=r, q=0, sigma=sigma, exercise=exercise)\n",
    "    sq_err = np.sum( p_weights* (BS.closed_formula_put(strikes) - mkt_prices)**2)\n",
    "    return sq_err\n",
    "\n",
    "result_p = scpo.least_squares(cost_function, x0, args=(put_strikes, put_prices), bounds=bounds, method = 'trf', verbose=1)\n",
    "opt_sigma_p = result_p.x[0]"
   ],
   "metadata": {
    "collapsed": false,
    "ExecuteTime": {
     "end_time": "2023-09-14T18:43:20.709236500Z",
     "start_time": "2023-09-14T18:43:20.635887100Z"
    }
   }
  },
  {
   "cell_type": "code",
   "execution_count": 11,
   "outputs": [
    {
     "name": "stdout",
     "output_type": "stream",
     "text": [
      "METHOD 1: CURVE_FIT (trf)\n",
      "> Calibrated Volatility from Calls [σ] = 0.5883 \t 58.83%\n",
      "METHOD 2: LEAST-SQUARES (trf)\n",
      "> Calibrated Volatility from Calls [σ] = 0.5903386230196411 \t 59.03%\n"
     ]
    }
   ],
   "source": [
    "print('METHOD 1: CURVE_FIT (trf)')\n",
    "print(f'> Calibrated Volatility from Calls [σ] = {sigw_p} \\t {round(sigw_p*100,2)}%')\n",
    "print('METHOD 2: LEAST-SQUARES (trf)')\n",
    "print(f'> Calibrated Volatility from Calls [σ] = {opt_sigma_p} \\t {round(opt_sigma_p*100,2)}%')"
   ],
   "metadata": {
    "collapsed": false,
    "ExecuteTime": {
     "end_time": "2023-09-14T18:43:23.396130900Z",
     "start_time": "2023-09-14T18:43:23.349318400Z"
    }
   }
  },
  {
   "cell_type": "code",
   "execution_count": 12,
   "outputs": [
    {
     "name": "stdout",
     "output_type": "stream",
     "text": [
      "Stored 'puts_bs_params_tsla' (float64)\n"
     ]
    }
   ],
   "source": [
    "puts_bs_params_tsla = opt_sigma_p\n",
    "%store puts_bs_params_tsla"
   ],
   "metadata": {
    "collapsed": false,
    "ExecuteTime": {
     "end_time": "2023-09-14T18:43:26.693145500Z",
     "start_time": "2023-09-14T18:43:26.630134900Z"
    }
   }
  },
  {
   "cell_type": "markdown",
   "source": [
    "### Merton Jump Diffusion\n",
    "The Merton Jump diffusion ones are the volatility $\\sigma$, the Poisson rate of jumps $\\lambda$, the mean rate of jump intensity $m$ and its variance rate $v$, assuming that the intensity of jumps follows a *Normal distribution*.\n"
   ],
   "metadata": {
    "collapsed": false
   }
  },
  {
   "cell_type": "code",
   "execution_count": 13,
   "outputs": [],
   "source": [
    "x0 = [0.4,  0.8, -0.05,  0.01]  # initial guess: [σ, λ, m, v]\n",
    "bounds = ( [0.01, 1e-2, -2, 1e-5], [0.9, 5, 2, 2] )"
   ],
   "metadata": {
    "collapsed": false,
    "ExecuteTime": {
     "end_time": "2023-09-14T18:44:11.250773400Z",
     "start_time": "2023-09-14T18:44:11.158467700Z"
    }
   }
  },
  {
   "cell_type": "code",
   "execution_count": 14,
   "outputs": [],
   "source": [
    "def f_Mert(x, sigma, lambd, meanJ, stdJ):\n",
    "    Mert = Merton_pricer(S0=S0, K=x, ttm=T, r=r, q=0, sigma=sigma, lambd=lambd, meanJ=meanJ, stdJ=stdJ, exercise=exercise)\n",
    "    return Mert.closed_formula_put(x)\n",
    "\n",
    "start1=time.time()\n",
    "mert1 = scpo.curve_fit(f_Mert, put_strikes, put_prices, p0=x0, bounds=bounds, sigma=put_spreads)\n",
    "end1=time.time()\n",
    "\n",
    "mert_params1 = [round(p,4) for p in mert1[0][:4]]"
   ],
   "metadata": {
    "collapsed": false,
    "ExecuteTime": {
     "end_time": "2023-09-14T18:45:34.372713Z",
     "start_time": "2023-09-14T18:44:16.804640500Z"
    }
   }
  },
  {
   "cell_type": "markdown",
   "source": [
    "##### Method 2. Least-squares"
   ],
   "metadata": {
    "collapsed": false
   }
  },
  {
   "cell_type": "code",
   "execution_count": 16,
   "outputs": [
    {
     "name": "stdout",
     "output_type": "stream",
     "text": [
      "   Iteration     Total nfev        Cost      Cost reduction    Step norm     Optimality   \n",
      "       0              1         8.7121e+05                                    2.93e+07    \n",
      "       1              2         6.4116e+04      8.07e+05       8.94e-02       4.00e+06    \n",
      "       2              3         4.4897e+03      5.96e+04       4.67e-02       5.29e+05    \n",
      "       3              5         1.2729e+03      3.22e+03       2.08e-01       2.03e+05    \n",
      "       4              6         1.9603e+00      1.27e+03       2.85e-01       6.61e+02    \n",
      "       5             11         1.3958e+00      5.65e-01       1.96e-03       2.13e+02    \n",
      "       6             12         1.3421e+00      5.37e-02       1.94e-03       5.03e+01    \n",
      "       7             13         1.3204e+00      2.16e-02       3.24e-04       2.93e+01    \n",
      "       8             14         1.3101e+00      1.04e-02       6.66e-04       2.96e+01    \n",
      "       9             16         1.3085e+00      1.60e-03       2.36e-04       8.31e+00    \n",
      "      10             17         1.3078e+00      6.14e-04       2.31e-04       1.10e+01    \n",
      "      11             19         1.3075e+00      3.13e-04       6.06e-05       6.31e+00    \n",
      "      12             20         1.3073e+00      2.14e-04       7.10e-05       6.67e+00    \n",
      "      13             21         1.3069e+00      4.25e-04       1.45e-04       6.15e+00    \n",
      "      14             22         1.3064e+00      4.69e-04       2.78e-04       8.56e+00    \n",
      "      15             23         1.3057e+00      6.96e-04       2.22e-04       1.00e+01    \n",
      "      16             25         1.3054e+00      2.83e-04       6.10e-05       6.38e+00    \n",
      "      17             26         1.3052e+00      2.17e-04       7.19e-05       6.51e+00    \n",
      "      18             27         1.3048e+00      4.31e-04       1.45e-04       6.25e+00    \n",
      "      19             28         1.3041e+00      7.20e-04       2.84e-04       7.67e+00    \n",
      "      20             30         1.3036e+00      4.48e-04       1.25e-04       6.15e+00    \n",
      "      21             31         1.3033e+00      3.75e-04       1.40e-04       7.12e+00    \n",
      "      22             32         1.3027e+00      5.96e-04       2.73e-04       1.08e+01    \n",
      "      23             34         1.3024e+00      3.04e-04       6.06e-05       6.21e+00    \n",
      "      24             35         1.3021e+00      2.11e-04       7.12e-05       6.53e+00    \n",
      "      25             36         1.3017e+00      4.18e-04       1.45e-04       6.03e+00    \n",
      "      26             37         1.3013e+00      4.51e-04       2.78e-04       8.43e+00    \n",
      "      27             38         1.3006e+00      6.81e-04       2.21e-04       1.01e+01    \n",
      "      28             40         1.3003e+00      2.82e-04       6.09e-05       6.26e+00    \n",
      "      29             41         1.3001e+00      2.13e-04       7.19e-05       6.40e+00    \n",
      "      30             42         1.2997e+00      4.22e-04       1.45e-04       6.11e+00    \n",
      "      31             43         1.2990e+00      6.76e-04       2.83e-04       7.66e+00    \n",
      "      32             45         1.2985e+00      4.56e-04       1.22e-04       6.08e+00    \n",
      "      33             46         1.2982e+00      3.86e-04       1.42e-04       6.87e+00    \n",
      "      34             47         1.2975e+00      6.16e-04       2.78e-04       1.02e+01    \n",
      "      35             49         1.2973e+00      2.83e-04       6.08e-05       6.18e+00    \n",
      "      36             50         1.2971e+00      2.10e-04       7.18e-05       6.34e+00    \n",
      "      37             51         1.2966e+00      4.15e-04       1.45e-04       6.00e+00    \n",
      "      38             52         1.2960e+00      5.87e-04       2.81e-04       7.87e+00    \n",
      "      39             53         1.2955e+00      5.37e-04       2.33e-04       1.15e+01    \n",
      "      40             55         1.2952e+00      3.23e-04       6.02e-05       5.96e+00    \n",
      "      41             56         1.2950e+00      2.00e-04       7.02e-05       6.44e+00    \n",
      "      42             57         1.2946e+00      4.03e-04       1.44e-04       5.83e+00    \n",
      "      43             58         1.2943e+00      3.18e-04       2.75e-04       8.51e+00    \n",
      "      44             59         1.2935e+00      7.64e-04       2.13e-04       8.98e+00    \n",
      "      45             61         1.2933e+00      2.49e-04       6.13e-05       6.23e+00    \n",
      "      46             62         1.2930e+00      2.08e-04       7.24e-05       6.10e+00    \n",
      "      47             63         1.2926e+00      4.12e-04       1.44e-04       6.33e+00    \n",
      "      48             64         1.2919e+00      7.57e-04       2.89e-04       6.21e+00    \n",
      "      49             66         1.2917e+00      1.54e-04       1.27e-04       7.62e+00    \n",
      "      50             67         1.2916e+00      1.58e-04       2.96e-05       7.21e+00    \n",
      "      51             68         1.2913e+00      2.48e-04       6.35e-05       6.49e+00    \n",
      "      52             69         1.2909e+00      3.91e-04       1.43e-04       5.69e+00    \n",
      "      53             70         1.2908e+00      1.74e-04       2.72e-04       8.70e+00    \n",
      "      54             71         1.2903e+00      4.35e-04       5.15e-05       7.77e+00    \n",
      "      55             72         1.2898e+00      5.00e-04       1.15e-04       6.08e+00    \n",
      "      56             73         1.2894e+00      4.11e-04       1.44e-04       6.10e+00    \n",
      "      57             74         1.2886e+00      8.17e-04       2.89e-04       5.90e+00    \n",
      "      58             75         1.2874e+00      1.14e-03       5.69e-04       8.36e+00    \n",
      "      59             77         1.2868e+00      6.53e-04       1.05e-04       6.54e+00    \n",
      "      60             78         1.2864e+00      3.78e-04       1.40e-04       5.55e+00    \n",
      "      61             79         1.2864e+00      4.68e-05       2.70e-04       8.80e+00    \n",
      "      62             80         1.2859e+00      4.65e-04       5.03e-05       7.86e+00    \n",
      "      63             81         1.2854e+00      5.38e-04       1.11e-04       6.12e+00    \n",
      "      64             82         1.2850e+00      3.92e-04       1.45e-04       5.65e+00    \n",
      "      65             83         1.2846e+00      3.48e-04       2.77e-04       8.13e+00    \n",
      "      66             84         1.2840e+00      6.78e-04       2.13e-04       9.64e+00    \n",
      "      67             86         1.2837e+00      2.61e-04       6.08e-05       5.93e+00    \n",
      "      68             87         1.2835e+00      2.01e-04       7.21e-05       5.96e+00    \n",
      "      69             88         1.2831e+00      4.00e-04       1.45e-04       5.88e+00    \n",
      "      70             89         1.2823e+00      7.86e-04       2.88e-04       6.29e+00    \n",
      "      71             90         1.2815e+00      8.17e-04       5.69e-04       1.92e+01    \n",
      "      72             92         1.2807e+00      8.05e-04       1.18e-04       6.03e+00    \n",
      "      73             93         1.2803e+00      3.84e-04       1.45e-04       5.53e+00    \n",
      "      74             94         1.2800e+00      2.94e-04       2.76e-04       8.10e+00    \n",
      "      75             95         1.2793e+00      7.04e-04       2.10e-04       9.25e+00    \n",
      "      76             97         1.2791e+00      2.48e-04       6.09e-05       5.87e+00    \n",
      "      77             98         1.2789e+00      1.97e-04       7.23e-05       5.79e+00    \n",
      "      78             99         1.2785e+00      3.92e-04       1.44e-04       5.94e+00    \n",
      "      79             100        1.2777e+00      7.30e-04       2.89e-04       5.49e+00    \n",
      "      80             102        1.2776e+00      1.32e-04       1.28e-04       7.28e+00    \n",
      "      81             103        1.2774e+00      1.55e-04       2.91e-05       6.87e+00    \n",
      "      82             104        1.2772e+00      2.38e-04       6.26e-05       6.14e+00    \n",
      "      83             105        1.2768e+00      3.68e-04       1.42e-04       5.35e+00    \n",
      "      84             106        1.2768e+00      3.05e-05       2.70e-04       8.52e+00    \n",
      "      85             107        1.2764e+00      4.57e-04       4.99e-05       7.60e+00    \n",
      "      86             108        1.2758e+00      5.20e-04       1.10e-04       5.87e+00    \n",
      "      87             109        1.2755e+00      3.78e-04       1.45e-04       5.44e+00    \n",
      "      88             110        1.2751e+00      3.18e-04       2.77e-04       7.89e+00    \n",
      "      89             111        1.2745e+00      6.50e-04       2.11e-04       9.70e+00    \n",
      "      90             113        1.2742e+00      2.58e-04       6.06e-05       5.70e+00    \n",
      "      91             114        1.2740e+00      1.93e-04       7.21e-05       5.74e+00    \n",
      "      92             115        1.2736e+00      3.85e-04       1.44e-04       5.64e+00    \n",
      "      93             116        1.2729e+00      7.41e-04       2.87e-04       6.23e+00    \n",
      "      94             117        1.2726e+00      3.10e-04       5.53e-04       2.38e+01    \n",
      "      95             118        1.2714e+00      1.16e-03       1.18e-04       5.14e+00    \n",
      "      96             119        1.2713e+00      1.80e-04       1.33e-04       6.96e+00    \n",
      "      97             120        1.2709e+00      4.09e-04       1.19e-04       5.39e+00    \n",
      "      98             121        1.2705e+00      3.09e-04       1.40e-04       6.43e+00    \n",
      "      99             122        1.2701e+00      4.21e-04       2.63e-04       1.20e+01    \n",
      "      100            124        1.2698e+00      3.29e-04       5.98e-05       5.31e+00    \n",
      "      101            125        1.2696e+00      1.73e-04       6.90e-05       5.93e+00    \n",
      "      102            126        1.2693e+00      3.56e-04       1.43e-04       5.18e+00    \n",
      "      103            128        1.2691e+00      1.65e-04       6.74e-05       5.98e+00    \n",
      "      104            129        1.2689e+00      1.91e-04       7.08e-05       5.56e+00    \n",
      "      105            130        1.2685e+00      3.76e-04       1.44e-04       5.72e+00    \n",
      "      106            131        1.2678e+00      6.94e-04       2.89e-04       5.67e+00    \n",
      "      107            133        1.2677e+00      1.01e-04       1.27e-04       7.08e+00    \n",
      "      108            134        1.2676e+00      1.55e-04       2.85e-05       6.67e+00    \n",
      "      109            135        1.2673e+00      2.35e-04       6.15e-05       5.93e+00    \n",
      "      110            136        1.2670e+00      3.49e-04       1.42e-04       5.10e+00    \n",
      "      111            138        1.2668e+00      1.62e-04       6.70e-05       5.94e+00    \n",
      "      112            139        1.2666e+00      1.90e-04       7.06e-05       5.51e+00    \n",
      "      113            140        1.2663e+00      3.73e-04       1.44e-04       5.66e+00    \n",
      "      114            141        1.2656e+00      6.89e-04       2.89e-04       5.57e+00    \n",
      "      115            143        1.2655e+00      9.70e-05       1.27e-04       7.03e+00    \n",
      "      116            144        1.2653e+00      1.55e-04       2.84e-05       6.62e+00    \n",
      "      117            145        1.2651e+00      2.33e-04       6.13e-05       5.88e+00    \n",
      "      118            146        1.2648e+00      3.46e-04       1.42e-04       5.05e+00    \n",
      "      119            148        1.2646e+00      1.59e-04       6.69e-05       5.89e+00    \n",
      "      120            149        1.2644e+00      1.88e-04       7.05e-05       5.46e+00    \n",
      "      121            150        1.2640e+00      3.69e-04       1.44e-04       5.61e+00    \n",
      "      122            151        1.2634e+00      6.81e-04       2.89e-04       5.59e+00    \n",
      "      123            153        1.2633e+00      9.05e-05       1.27e-04       6.98e+00    \n",
      "      124            154        1.2631e+00      1.55e-04       2.83e-05       6.57e+00    \n",
      "      125            155        1.2629e+00      2.33e-04       6.11e-05       5.83e+00    \n",
      "      126            156        1.2625e+00      3.41e-04       1.41e-04       4.99e+00    \n",
      "      127            158        1.2624e+00      1.57e-04       6.68e-05       5.84e+00    \n",
      "      128            159        1.2622e+00      1.86e-04       7.04e-05       5.41e+00    \n",
      "      129            160        1.2618e+00      3.66e-04       1.44e-04       5.56e+00    \n",
      "      130            161        1.2612e+00      6.74e-04       2.89e-04       5.61e+00    \n",
      "      131            163        1.2611e+00      8.42e-05       1.27e-04       6.94e+00    \n",
      "      132            164        1.2609e+00      1.55e-04       2.82e-05       6.52e+00    \n",
      "      133            165        1.2607e+00      2.32e-04       6.08e-05       5.78e+00    \n",
      "      134            166        1.2603e+00      3.37e-04       1.41e-04       4.94e+00    \n",
      "      135            168        1.2602e+00      1.54e-04       6.67e-05       5.80e+00    \n",
      "      136            169        1.2600e+00      1.85e-04       7.03e-05       5.35e+00    \n",
      "      137            170        1.2596e+00      3.62e-04       1.44e-04       5.50e+00    \n",
      "      138            171        1.2590e+00      6.66e-04       2.89e-04       5.64e+00    \n",
      "      139            173        1.2589e+00      7.80e-05       1.27e-04       6.89e+00    \n",
      "      140            174        1.2587e+00      1.55e-04       2.81e-05       6.48e+00    \n",
      "      141            175        1.2585e+00      2.31e-04       6.06e-05       5.73e+00    \n",
      "      142            176        1.2582e+00      3.33e-04       1.41e-04       4.88e+00    \n",
      "      143            178        1.2580e+00      1.52e-04       6.65e-05       5.75e+00    \n",
      "      144            179        1.2578e+00      1.83e-04       7.01e-05       5.30e+00    \n",
      "      145            180        1.2575e+00      3.59e-04       1.44e-04       5.45e+00    \n",
      "      146            181        1.2568e+00      6.59e-04       2.89e-04       5.66e+00    \n",
      "      147            183        1.2568e+00      7.19e-05       1.26e-04       6.84e+00    \n",
      "      148            184        1.2566e+00      1.55e-04       2.80e-05       6.43e+00    \n",
      "      149            185        1.2564e+00      2.30e-04       6.04e-05       5.68e+00    \n",
      "      150            186        1.2560e+00      3.29e-04       1.41e-04       4.83e+00    \n",
      "      151            188        1.2559e+00      1.50e-04       6.64e-05       5.71e+00    \n",
      "      152            189        1.2557e+00      1.82e-04       7.00e-05       5.25e+00    \n",
      "      153            190        1.2554e+00      3.56e-04       1.44e-04       5.41e+00    \n",
      "      154            191        1.2547e+00      6.51e-04       2.89e-04       5.69e+00    \n",
      "      155            193        1.2546e+00      6.58e-05       1.26e-04       6.80e+00    \n",
      "      156            194        1.2545e+00      1.55e-04       2.79e-05       6.39e+00    \n",
      "      157            195        1.2543e+00      2.29e-04       6.01e-05       5.64e+00    \n",
      "      158            196        1.2539e+00      3.25e-04       1.41e-04       4.77e+00    \n",
      "      159            198        1.2538e+00      1.47e-04       6.63e-05       5.66e+00    \n",
      "      160            199        1.2536e+00      1.80e-04       6.99e-05       5.21e+00    \n",
      "      161            200        1.2532e+00      3.52e-04       1.44e-04       5.36e+00    \n",
      "      162            201        1.2526e+00      6.44e-04       2.89e-04       5.73e+00    \n",
      "      163            203        1.2525e+00      5.98e-05       1.26e-04       6.75e+00    \n",
      "      164            204        1.2524e+00      1.55e-04       2.77e-05       6.34e+00    \n",
      "      165            205        1.2522e+00      2.29e-04       5.99e-05       5.59e+00    \n",
      "      166            206        1.2518e+00      3.21e-04       1.40e-04       4.72e+00    \n",
      "      167            208        1.2517e+00      1.45e-04       6.61e-05       5.62e+00    \n",
      "      168            209        1.2515e+00      1.79e-04       6.97e-05       5.16e+00    \n",
      "      169            210        1.2512e+00      3.49e-04       1.44e-04       5.31e+00    \n",
      "      170            211        1.2505e+00      6.36e-04       2.89e-04       5.76e+00    \n",
      "      171            213        1.2505e+00      5.39e-05       1.26e-04       6.71e+00    \n",
      "      172            214        1.2503e+00      1.55e-04       2.76e-05       6.30e+00    \n",
      "      173            215        1.2501e+00      2.28e-04       5.97e-05       5.54e+00    \n",
      "      174            216        1.2498e+00      3.17e-04       1.40e-04       4.67e+00    \n",
      "      175            218        1.2496e+00      1.43e-04       6.60e-05       5.57e+00    \n",
      "      176            219        1.2495e+00      1.77e-04       6.96e-05       5.11e+00    \n",
      "      177            220        1.2491e+00      3.46e-04       1.44e-04       5.26e+00    \n",
      "      178            221        1.2485e+00      6.29e-04       2.89e-04       5.80e+00    \n",
      "      179            223        1.2484e+00      4.82e-05       1.25e-04       6.67e+00    \n",
      "      180            224        1.2483e+00      1.55e-04       2.75e-05       6.25e+00    \n",
      "      181            225        1.2481e+00      2.27e-04       5.94e-05       5.50e+00    \n",
      "      182            226        1.2477e+00      3.14e-04       1.40e-04       4.62e+00    \n",
      "      183            228        1.2476e+00      1.40e-04       6.59e-05       5.53e+00    \n",
      "      184            229        1.2474e+00      1.76e-04       6.95e-05       5.06e+00    \n",
      "      185            230        1.2471e+00      3.42e-04       1.44e-04       5.22e+00    \n",
      "      186            231        1.2465e+00      6.21e-04       2.89e-04       5.85e+00    \n",
      "      187            233        1.2464e+00      4.26e-05       1.25e-04       6.62e+00    \n",
      "      188            234        1.2463e+00      1.55e-04       2.74e-05       6.21e+00    \n",
      "      189            235        1.2460e+00      2.27e-04       5.92e-05       5.45e+00    \n",
      "      190            236        1.2457e+00      3.10e-04       1.40e-04       4.57e+00    \n",
      "      191            238        1.2456e+00      1.38e-04       6.57e-05       5.49e+00    \n",
      "      192            239        1.2454e+00      1.74e-04       6.93e-05       5.01e+00    \n",
      "      193            240        1.2451e+00      3.39e-04       1.44e-04       5.17e+00    \n",
      "      194            241        1.2445e+00      6.13e-04       2.88e-04       5.90e+00    \n",
      "      195            243        1.2444e+00      3.71e-05       1.25e-04       6.58e+00    \n",
      "      196            244        1.2443e+00      1.55e-04       2.73e-05       6.17e+00    \n",
      "      197            245        1.2440e+00      2.26e-04       5.90e-05       5.41e+00    \n",
      "      198            246        1.2437e+00      3.06e-04       1.40e-04       4.51e+00    \n",
      "      199            248        1.2436e+00      1.36e-04       6.56e-05       5.45e+00    \n",
      "      200            249        1.2434e+00      1.73e-04       6.92e-05       4.97e+00    \n",
      "      201            250        1.2431e+00      3.36e-04       1.44e-04       5.13e+00    \n",
      "      202            251        1.2425e+00      6.06e-04       2.88e-04       5.95e+00    \n",
      "      203            253        1.2425e+00      3.18e-05       1.25e-04       6.54e+00    \n",
      "      204            254        1.2423e+00      1.55e-04       2.72e-05       6.12e+00    \n",
      "      205            255        1.2421e+00      2.25e-04       5.87e-05       5.36e+00    \n",
      "      206            256        1.2418e+00      3.02e-04       1.39e-04       4.46e+00    \n",
      "      207            258        1.2416e+00      1.34e-04       6.55e-05       5.40e+00    \n",
      "      208            259        1.2415e+00      1.71e-04       6.90e-05       4.92e+00    \n",
      "      209            260        1.2411e+00      3.33e-04       1.44e-04       5.08e+00    \n",
      "      210            261        1.2405e+00      5.98e-04       2.88e-04       6.01e+00    \n",
      "      211            263        1.2405e+00      2.68e-05       1.25e-04       6.49e+00    \n",
      "      212            264        1.2404e+00      1.55e-04       2.71e-05       6.08e+00    \n",
      "      213            265        1.2401e+00      2.24e-04       5.85e-05       5.32e+00    \n",
      "      214            266        1.2398e+00      2.98e-04       1.39e-04       4.42e+00    \n",
      "      215            268        1.2397e+00      1.32e-04       6.54e-05       5.36e+00    \n",
      "      216            269        1.2395e+00      1.70e-04       6.89e-05       4.88e+00    \n",
      "      217            270        1.2392e+00      3.30e-04       1.44e-04       5.04e+00    \n",
      "      218            271        1.2386e+00      5.90e-04       2.88e-04       6.08e+00    \n",
      "      219            273        1.2386e+00      2.20e-05       1.24e-04       6.45e+00    \n",
      "      220            274        1.2384e+00      1.54e-04       2.70e-05       6.04e+00    \n",
      "      221            275        1.2382e+00      2.24e-04       5.83e-05       5.28e+00    \n",
      "      222            276        1.2379e+00      2.95e-04       1.39e-04       4.37e+00    \n",
      "      223            278        1.2378e+00      1.30e-04       6.52e-05       5.32e+00    \n",
      "      224            279        1.2376e+00      1.68e-04       6.88e-05       4.83e+00    \n",
      "      225            280        1.2373e+00      3.27e-04       1.44e-04       5.00e+00    \n",
      "      226            281        1.2367e+00      5.82e-04       2.88e-04       6.15e+00    \n",
      "      227            283        1.2367e+00      1.75e-05       1.24e-04       6.41e+00    \n",
      "      228            284        1.2365e+00      1.54e-04       2.69e-05       5.99e+00    \n",
      "      229            285        1.2363e+00      2.23e-04       5.81e-05       5.23e+00    \n",
      "      230            286        1.2360e+00      2.91e-04       1.39e-04       4.32e+00    \n",
      "      231            288        1.2359e+00      1.28e-04       6.51e-05       5.28e+00    \n",
      "      232            289        1.2357e+00      1.67e-04       6.86e-05       4.79e+00    \n",
      "      233            290        1.2354e+00      3.24e-04       1.44e-04       4.96e+00    \n",
      "      234            291        1.2348e+00      5.74e-04       2.88e-04       6.22e+00    \n",
      "      235            293        1.2348e+00      1.33e-05       1.24e-04       6.36e+00    \n",
      "      236            294        1.2347e+00      1.54e-04       2.68e-05       5.95e+00    \n",
      "      237            295        1.2344e+00      2.22e-04       5.79e-05       5.19e+00    \n",
      "      238            296        1.2342e+00      2.87e-04       1.39e-04       4.27e+00    \n",
      "      239            298        1.2340e+00      1.26e-04       6.50e-05       5.24e+00    \n",
      "      240            299        1.2339e+00      1.65e-04       6.85e-05       4.74e+00    \n",
      "      241            300        1.2335e+00      3.21e-04       1.43e-04       4.92e+00    \n",
      "      242            301        1.2330e+00      5.65e-04       2.88e-04       6.31e+00    \n",
      "      243            303        1.2330e+00      9.50e-06       1.24e-04       6.32e+00    \n",
      "      244            304        1.2328e+00      1.54e-04       2.67e-05       5.91e+00    \n",
      "      245            305        1.2326e+00      2.21e-04       5.77e-05       5.15e+00    \n",
      "      246            306        1.2323e+00      2.84e-04       1.39e-04       4.23e+00    \n",
      "      247            308        1.2322e+00      1.24e-04       6.49e-05       5.20e+00    \n",
      "      248            309        1.2320e+00      1.64e-04       6.83e-05       4.70e+00    \n",
      "      249            310        1.2317e+00      3.18e-04       1.43e-04       4.88e+00    \n",
      "      250            311        1.2312e+00      5.57e-04       2.88e-04       6.39e+00    \n",
      "      251            313        1.2311e+00      6.09e-06       1.23e-04       6.28e+00    \n",
      "      252            314        1.2310e+00      1.54e-04       2.67e-05       5.86e+00    \n",
      "      253            315        1.2308e+00      2.20e-04       5.76e-05       5.10e+00    \n",
      "      254            316        1.2305e+00      2.80e-04       1.38e-04       4.18e+00    \n",
      "      255            318        1.2304e+00      1.22e-04       6.47e-05       5.16e+00    \n",
      "      256            319        1.2302e+00      1.63e-04       6.82e-05       4.65e+00    \n",
      "      257            320        1.2299e+00      3.15e-04       1.43e-04       4.84e+00    \n",
      "      258            321        1.2293e+00      5.48e-04       2.87e-04       6.49e+00    \n",
      "      259            323        1.2293e+00      3.12e-06       1.23e-04       6.23e+00    \n",
      "      260            324        1.2292e+00      1.54e-04       2.66e-05       5.82e+00    \n",
      "      261            325        1.2290e+00      2.19e-04       5.74e-05       5.06e+00    \n",
      "      262            326        1.2287e+00      2.77e-04       1.38e-04       4.14e+00    \n",
      "      263            328        1.2286e+00      1.20e-04       6.46e-05       5.12e+00    \n",
      "      264            329        1.2284e+00      1.61e-04       6.80e-05       4.61e+00    \n",
      "      265            330        1.2281e+00      3.12e-04       1.43e-04       4.80e+00    \n",
      "      266            331        1.2276e+00      5.40e-04       2.87e-04       6.59e+00    \n",
      "      267            333        1.2276e+00      6.22e-07       1.23e-04       6.19e+00    \n",
      "      268            334        1.2274e+00      1.53e-04       2.65e-05       5.78e+00    \n",
      "      269            335        1.2272e+00      2.18e-04       5.72e-05       5.02e+00    \n",
      "      270            336        1.2269e+00      2.74e-04       1.38e-04       4.09e+00    \n",
      "      271            338        1.2268e+00      1.18e-04       6.45e-05       5.08e+00    \n",
      "      272            339        1.2266e+00      1.60e-04       6.79e-05       4.57e+00    \n",
      "      273            340        1.2263e+00      3.09e-04       1.43e-04       4.76e+00    \n",
      "      274            341        1.2258e+00      5.31e-04       2.87e-04       6.69e+00    \n",
      "      275            344        1.2257e+00      1.13e-04       3.06e-05       4.30e+00    \n",
      "      276            345        1.2256e+00      7.66e-05       3.40e-05       4.63e+00    \n",
      "      277            346        1.2255e+00      1.54e-04       7.21e-05       4.50e+00    \n",
      "      278            347        1.2252e+00      2.96e-04       1.43e-04       4.91e+00    \n",
      "      279            348        1.2247e+00      4.07e-04       2.79e-04       9.74e+00    \n",
      "      280            350        1.2245e+00      2.37e-04       5.98e-05       4.55e+00    \n",
      "      281            351        1.2244e+00      1.54e-04       7.19e-05       4.57e+00    \n",
      "      282            352        1.2240e+00      3.08e-04       1.44e-04       4.47e+00    \n",
      "      283            353        1.2235e+00      5.58e-04       2.85e-04       5.25e+00    \n",
      "      284            355        1.2232e+00      2.62e-04       1.27e-04       4.30e+00    \n",
      "      285            356        1.2232e+00      1.49e-05       1.28e-04       6.03e+00    \n",
      "      286            357        1.2231e+00      1.49e-04       2.65e-05       5.62e+00    \n",
      "      287            358        1.2229e+00      2.10e-04       5.75e-05       4.87e+00    \n",
      "      288            359        1.2226e+00      2.69e-04       1.39e-04       4.00e+00    \n",
      "      289            361        1.2225e+00      1.13e-04       6.45e-05       4.99e+00    \n",
      "      290            362        1.2223e+00      1.57e-04       6.75e-05       4.47e+00    \n",
      "      291            363        1.2220e+00      3.01e-04       1.43e-04       4.67e+00    \n",
      "      292            364        1.2215e+00      5.08e-04       2.87e-04       6.96e+00    \n",
      "      293            367        1.2214e+00      1.16e-04       3.05e-05       4.17e+00    \n",
      "      294            368        1.2213e+00      7.50e-05       3.37e-05       4.53e+00    \n",
      "      295            369        1.2212e+00      1.51e-04       7.21e-05       4.39e+00    \n",
      "      296            370        1.2209e+00      2.86e-04       1.42e-04       4.84e+00    \n",
      "      297            371        1.2205e+00      3.65e-04       2.77e-04       1.03e+01    \n",
      "      298            373        1.2203e+00      2.55e-04       5.96e-05       4.38e+00    \n",
      "      299            374        1.2201e+00      1.48e-04       7.12e-05       4.59e+00    \n",
      "      300            375        1.2198e+00      2.86e-04       1.44e-04       4.10e+00    \n",
      "      301            377        1.2197e+00      1.18e-04       6.68e-05       4.89e+00    \n",
      "      302            378        1.2196e+00      1.53e-04       6.80e-05       4.39e+00    \n",
      "      303            379        1.2193e+00      2.93e-04       1.43e-04       4.68e+00    \n",
      "      304            380        1.2188e+00      4.47e-04       2.84e-04       8.42e+00    \n",
      "      305            382        1.2186e+00      1.93e-04       6.01e-05       4.57e+00    \n",
      "      306            383        1.2185e+00      1.48e-04       7.17e-05       4.31e+00    \n",
      "      307            384        1.2182e+00      2.71e-04       1.42e-04       4.88e+00    \n",
      "      308            385        1.2179e+00      2.83e-04       2.69e-04       1.16e+01    \n",
      "      309            387        1.2176e+00      3.00e-04       5.93e-05       4.15e+00    \n",
      "      310            388        1.2175e+00      1.26e-04       6.85e-05       4.76e+00    \n",
      "      311            389        1.2172e+00      2.57e-04       1.38e-04       4.12e+00    \n",
      "      312            391        1.2171e+00      1.08e-04       6.40e-05       4.87e+00    \n",
      "      313            392        1.2170e+00      1.53e-04       6.70e-05       4.34e+00    \n",
      "      314            393        1.2167e+00      2.92e-04       1.43e-04       4.56e+00    \n",
      "      315            394        1.2162e+00      4.78e-04       2.86e-04       7.36e+00    \n",
      "      316            397        1.2161e+00      1.21e-04       3.03e-05       4.00e+00    \n",
      "      317            398        1.2160e+00      7.34e-05       3.32e-05       4.41e+00    \n",
      "      318            399        1.2159e+00      1.47e-04       7.20e-05       4.27e+00    \n",
      "      319            400        1.2156e+00      2.77e-04       1.42e-04       4.72e+00    \n",
      "The maximum number of function evaluations is exceeded.\n",
      "Function evaluations 400, initial cost 8.7121e+05, final cost 1.2156e+00, first-order optimality 4.72e+00.\n"
     ]
    }
   ],
   "source": [
    "x0 = [0.4,  0.5, -0.05,  0.1]      # initial guess: [σ, λ, m, v]\n",
    "bounds = ( [1e-3, 1e-2, -2, 0], [2, 5, 2, 2] )\n",
    "\n",
    "def cost_function(x, strikes, mkt_prices):\n",
    "    sigma, lambd, meanJ, stdJ = x\n",
    "    M = Merton_pricer(S0, None, T, r, q, sigma, lambd, meanJ, stdJ, exercise)\n",
    "    sq_err = np.sum( p_weights*(M.closed_formula_put(strikes) - mkt_prices)**2)\n",
    "    return sq_err\n",
    "\n",
    "start2 = time.time()\n",
    "mert2 = scpo.least_squares(cost_function, x0, args=(put_strikes, put_prices), bounds=bounds, method = 'trf', verbose=2)\n",
    "end2 = time.time()\n",
    "\n",
    "mert_params2 = [round(p,4) for p in mert2.x[:4]]"
   ],
   "metadata": {
    "collapsed": false,
    "ExecuteTime": {
     "end_time": "2023-09-14T18:47:28.401492400Z",
     "start_time": "2023-09-14T18:46:10.693859Z"
    }
   }
  },
  {
   "cell_type": "code",
   "execution_count": 17,
   "outputs": [
    {
     "name": "stdout",
     "output_type": "stream",
     "text": [
      "WEIGHTED OPT: CURVE_FIT (trf)\n",
      "> Calibrated Volatlity [σ] = 0.4345 \t 43.45%\n",
      "> Calibrated Jump intensity [λ] =  0.11\n",
      "> Calibrated Jump Mean =  -1.91\n",
      "> Calibrated Jump St. dev.  =  2.0\n",
      "ELAPSED TIME: 77.55154705047607 sec\n",
      "\n",
      "METHOD 1: LEAST SQUARES (trf)\n",
      "> Calibrated Volatlity [σ] = 0.5703 \t 57.03%\n",
      "> Calibrated Jump intensity [λ] =  0.22\n",
      "> Calibrated Jump Mean =  -0.323\n",
      "> Calibrated Jump St. dev.  =  0.178\n",
      "TIME ELAPSED:  77.69 sec\n"
     ]
    }
   ],
   "source": [
    "print('WEIGHTED OPT: CURVE_FIT (trf)')\n",
    "print(f'> Calibrated Volatlity [σ] = {round(mert1[0][0],4)} \\t {round(mert1[0][0]*100,2)}%')\n",
    "print('> Calibrated Jump intensity [λ] = ', round(mert1[0][1],2))\n",
    "print('> Calibrated Jump Mean = ', round(mert1[0][2],2))\n",
    "print('> Calibrated Jump St. dev.  = ', round(mert1[0][3],5))\n",
    "print(f'ELAPSED TIME: {end1-start1} sec')\n",
    "\n",
    "print('\\nMETHOD 1: LEAST SQUARES (trf)')\n",
    "print(f'> Calibrated Volatlity [σ] = {mert_params2[0]} \\t {round(mert_params2[0]*100,2)}%')\n",
    "print('> Calibrated Jump intensity [λ] = ', round(mert_params2[1],2))\n",
    "print('> Calibrated Jump Mean = ', round(mert_params2[2],3))\n",
    "print('> Calibrated Jump St. dev.  = ', round(mert_params2[3],3))\n",
    "print(f'TIME ELAPSED:  {round(end2-start2,2)} sec')"
   ],
   "metadata": {
    "collapsed": false,
    "ExecuteTime": {
     "end_time": "2023-09-14T18:48:17.105814800Z",
     "start_time": "2023-09-14T18:48:17.058445500Z"
    }
   }
  },
  {
   "cell_type": "code",
   "execution_count": 18,
   "outputs": [
    {
     "name": "stdout",
     "output_type": "stream",
     "text": [
      "[0.4345, 0.1095, -1.9063, 2.0]\n",
      "[0.5703, 0.2216, -0.3232, 0.1781]\n",
      "Stored 'puts_mert_params_tsla' (list)\n"
     ]
    }
   ],
   "source": [
    "print(mert_params1)\n",
    "print(mert_params2)\n",
    "puts_mert_params_tsla = mert_params2\n",
    "%store puts_mert_params_tsla"
   ],
   "metadata": {
    "collapsed": false,
    "ExecuteTime": {
     "end_time": "2023-09-14T18:48:26.226715500Z",
     "start_time": "2023-09-14T18:48:26.195219200Z"
    }
   }
  },
  {
   "cell_type": "markdown",
   "source": [
    "### Kou Jump Diffusion\n"
   ],
   "metadata": {
    "collapsed": false
   }
  },
  {
   "cell_type": "code",
   "execution_count": 19,
   "outputs": [],
   "source": [
    "x0 = [0.3, 0.8, 0.5, 5, 10] # initial guess: [σ, λ, p, η_1, η_2]\n",
    "bounds = ( [1e-2, 1e-1, 0, 0.5, 0.5], [0.5, 4, 1, 15, 20] )"
   ],
   "metadata": {
    "collapsed": false,
    "ExecuteTime": {
     "end_time": "2023-09-14T18:48:38.977438500Z",
     "start_time": "2023-09-14T18:48:38.933437900Z"
    }
   }
  },
  {
   "cell_type": "markdown",
   "source": [
    "##### Method 1. TRF (Bounds)"
   ],
   "metadata": {
    "collapsed": false
   }
  },
  {
   "cell_type": "code",
   "execution_count": 20,
   "outputs": [],
   "source": [
    "# def f_Kou(x, sigma, lambd, p, eta1, eta2):\n",
    "#     KouJD = Kou_pricer(S0=S0, K=x, ttm=T, r=r, sigma=sigma, lambd=lambd, p=p, eta1=eta1, eta2=eta2, exercise=exercise)\n",
    "#     return KouJD.closed_formula_put(x)\n",
    "#\n",
    "# start1 = time.time()\n",
    "# kou1 = scpo.curve_fit(f_Kou, put_strikes, put_prices, p0=x0, bounds=bounds, sigma=p_weights)\n",
    "# end1 = time.time()\n",
    "#\n",
    "# kou_params1 = [round(p,4) for p in kou1[0][:5]]"
   ],
   "metadata": {
    "collapsed": false,
    "ExecuteTime": {
     "end_time": "2023-09-14T18:48:41.595110900Z",
     "start_time": "2023-09-14T18:48:41.531977800Z"
    }
   }
  },
  {
   "cell_type": "markdown",
   "source": [
    "##### Method 2. LEAST SQUARES (With Bounds)"
   ],
   "metadata": {
    "collapsed": false
   }
  },
  {
   "cell_type": "code",
   "execution_count": 21,
   "outputs": [
    {
     "name": "stdout",
     "output_type": "stream",
     "text": [
      "   Iteration     Total nfev        Cost      Cost reduction    Step norm     Optimality   \n",
      "       0              1         2.0063e+06                                    8.19e+06    \n",
      "       1              2         3.8579e+05      1.62e+06       1.42e-01       2.10e+06    \n",
      "       2              3         7.4548e+04      3.11e+05       1.14e-01       5.71e+05    \n",
      "       3              4         1.3698e+04      6.09e+04       1.03e-01       1.53e+05    \n",
      "       4              6         6.4452e+01      1.36e+04       3.09e+00       1.80e+03    \n",
      "       5              8         5.5749e+01      8.70e+00       1.81e+00       5.10e+03    \n",
      "       6             11         3.9325e+01      1.64e+01       1.32e-02       1.86e+03    \n",
      "       7             12         3.9032e+01      2.93e-01       1.83e-02       1.78e+02    \n",
      "       8             13         3.8313e+01      7.19e-01       1.13e-03       1.08e+02    \n",
      "       9             14         3.7297e+01      1.02e+00       1.69e-03       3.77e+02    \n",
      "      10             15         3.5472e+01      1.82e+00       1.37e-02       4.03e+02    \n",
      "      11             16         3.2160e+01      3.31e+00       3.15e-02       1.96e+02    \n",
      "      12             17         2.8807e+01      3.35e+00       3.73e-02       1.32e+03    \n",
      "      13             20         2.7854e+01      9.53e-01       4.24e-03       8.79e+02    \n",
      "      14             21         2.7324e+01      5.30e-01       5.48e-03       6.14e+02    \n",
      "      15             22         2.6634e+01      6.90e-01       1.12e-02       2.87e+02    \n",
      "      16             23         2.5426e+01      1.21e+00       1.56e-02       2.03e+02    \n",
      "      17             24         2.3246e+01      2.18e+00       2.42e-02       3.73e+02    \n",
      "      18             26         2.2415e+01      8.31e-01       2.07e-02       5.51e+01    \n",
      "      19             27         2.1699e+01      7.16e-01       3.37e-03       4.44e+02    \n",
      "      20             28         2.1025e+01      6.74e-01       2.20e-02       6.45e+01    \n",
      "      21             29         2.0343e+01      6.82e-01       3.89e-03       4.01e+02    \n",
      "      22             30         1.9730e+01      6.12e-01       2.19e-02       6.20e+01    \n",
      "      23             31         1.9104e+01      6.26e-01       4.01e-03       3.71e+02    \n",
      "      24             32         1.8548e+01      5.56e-01       2.19e-02       5.97e+01    \n",
      "      25             33         1.7971e+01      5.76e-01       4.14e-03       3.44e+02    \n",
      "      26             34         1.7466e+01      5.06e-01       2.19e-02       5.76e+01    \n",
      "      27             35         1.6936e+01      5.30e-01       4.28e-03       3.19e+02    \n",
      "      28             36         1.6476e+01      4.60e-01       2.18e-02       5.55e+01    \n",
      "      29             37         1.5987e+01      4.89e-01       4.43e-03       2.96e+02    \n",
      "      30             38         1.5569e+01      4.18e-01       2.18e-02       5.37e+01    \n",
      "      31             39         1.5118e+01      4.51e-01       4.59e-03       2.75e+02    \n",
      "      32             40         1.4738e+01      3.80e-01       2.17e-02       5.19e+01    \n",
      "      33             41         1.4322e+01      4.17e-01       4.76e-03       2.55e+02    \n",
      "      34             42         1.3976e+01      3.45e-01       2.17e-02       5.03e+01    \n",
      "      35             43         1.3591e+01      3.86e-01       4.93e-03       2.38e+02    \n",
      "      36             44         1.3277e+01      3.14e-01       2.16e-02       4.88e+01    \n",
      "      37             45         1.2920e+01      3.57e-01       5.12e-03       2.22e+02    \n",
      "      38             46         1.2635e+01      2.85e-01       2.16e-02       4.74e+01    \n",
      "      39             47         1.2304e+01      3.31e-01       5.31e-03       2.07e+02    \n",
      "      40             48         1.2046e+01      2.58e-01       2.15e-02       4.61e+01    \n",
      "      41             49         1.1738e+01      3.07e-01       5.51e-03       1.93e+02    \n",
      "      42             50         1.1504e+01      2.34e-01       2.15e-02       4.49e+01    \n",
      "      43             51         1.1218e+01      2.86e-01       5.72e-03       1.80e+02    \n",
      "      44             52         1.1006e+01      2.12e-01       2.15e-02       4.38e+01    \n",
      "      45             53         1.0740e+01      2.66e-01       5.94e-03       1.69e+02    \n",
      "      46             54         1.0549e+01      1.91e-01       2.14e-02       4.28e+01    \n",
      "      47             55         1.0301e+01      2.48e-01       6.17e-03       1.58e+02    \n",
      "      48             56         1.0128e+01      1.73e-01       2.14e-02       4.19e+01    \n",
      "      49             57         9.8968e+00      2.32e-01       6.41e-03       1.48e+02    \n",
      "      50             58         9.7418e+00      1.55e-01       2.14e-02       4.11e+01    \n",
      "      51             59         9.5252e+00      2.17e-01       6.65e-03       1.39e+02    \n",
      "      52             60         9.3866e+00      1.39e-01       2.13e-02       4.03e+01    \n",
      "      53             61         9.1835e+00      2.03e-01       6.90e-03       1.31e+02    \n",
      "      54             62         9.0602e+00      1.23e-01       2.13e-02       3.97e+01    \n",
      "      55             63         8.8694e+00      1.91e-01       7.15e-03       1.23e+02    \n",
      "      56             64         8.7602e+00      1.09e-01       2.13e-02       3.90e+01    \n",
      "      57             65         8.5806e+00      1.80e-01       7.41e-03       1.16e+02    \n",
      "      58             66         8.4847e+00      9.58e-02       2.13e-02       3.85e+01    \n",
      "      59             67         8.3150e+00      1.70e-01       7.67e-03       1.09e+02    \n",
      "      60             68         8.2317e+00      8.33e-02       2.13e-02       3.80e+01    \n",
      "      61             69         8.1449e+00      8.69e-02       1.92e-03       2.39e+01    \n",
      "      62             70         8.0467e+00      9.82e-02       3.10e-03       5.17e+01    \n",
      "      63             71         7.9564e+00      9.03e-02       8.58e-03       1.79e+01    \n",
      "      64             72         7.8024e+00      1.54e-01       7.69e-03       8.37e+01    \n",
      "      65             74         7.7220e+00      8.04e-02       1.05e-02       1.25e+01    \n",
      "      66             75         7.6433e+00      7.86e-02       3.12e-03       5.21e+01    \n",
      "      67             76         7.5365e+00      1.07e-01       1.89e-02       2.84e+01    \n",
      "      68             77         7.4498e+00      8.68e-02       7.99e-03       1.03e+02    \n",
      "      69             78         7.3903e+00      5.95e-02       2.12e-02       3.45e+01    \n",
      "      70             79         7.3198e+00      7.05e-02       2.16e-03       2.21e+01    \n",
      "      71             80         7.2466e+00      7.33e-02       3.65e-03       4.26e+01    \n",
      "      72             81         7.1830e+00      6.36e-02       9.13e-03       1.29e+01    \n",
      "      73             82         7.1061e+00      7.69e-02       6.68e-03       9.18e+01    \n",
      "      74             83         7.0687e+00      3.74e-02       2.12e-02       3.45e+01    \n",
      "      75             84         7.0019e+00      6.68e-02       2.30e-03       2.27e+01    \n",
      "      76             85         6.9354e+00      6.65e-02       4.05e-03       3.69e+01    \n",
      "      77             86         6.8811e+00      5.42e-02       9.20e-03       1.30e+01    \n",
      "      78             87         6.8315e+00      4.96e-02       7.12e-03       9.16e+01    \n",
      "      79             88         6.7937e+00      3.78e-02       2.11e-02       3.24e+01    \n",
      "      80             89         6.7338e+00      5.99e-02       2.40e-03       2.12e+01    \n",
      "      81             90         6.6778e+00      5.60e-02       4.28e-03       3.58e+01    \n",
      "      82             91         6.6349e+00      4.29e-02       9.78e-03       1.45e+01    \n",
      "      83             92         6.5948e+00      4.01e-02       3.83e-03       4.50e+01    \n",
      "      84             93         6.5598e+00      3.50e-02       1.06e-02       1.61e+01    \n",
      "      85             94         6.5202e+00      3.96e-02       4.10e-03       4.25e+01    \n",
      "      86             95         6.4881e+00      3.21e-02       1.06e-02       1.63e+01    \n",
      "      87             96         6.4504e+00      3.77e-02       4.24e-03       4.14e+01    \n",
      "      88             97         6.4210e+00      2.94e-02       1.07e-02       1.65e+01    \n",
      "      89             98         6.3849e+00      3.60e-02       4.38e-03       4.04e+01    \n",
      "      90             99         6.3582e+00      2.68e-02       1.08e-02       1.66e+01    \n",
      "      91             100        6.3236e+00      3.45e-02       4.50e-03       3.94e+01    \n",
      "      92             101        6.2992e+00      2.44e-02       1.08e-02       1.68e+01    \n",
      "      93             102        6.2660e+00      3.32e-02       4.61e-03       3.85e+01    \n",
      "      94             103        6.2439e+00      2.21e-02       1.09e-02       1.69e+01    \n",
      "      95             104        6.2118e+00      3.21e-02       4.72e-03       3.75e+01    \n",
      "      96             105        6.1918e+00      2.00e-02       1.10e-02       1.70e+01    \n",
      "      97             106        6.1607e+00      3.11e-02       4.82e-03       3.66e+01    \n",
      "      98             107        6.1427e+00      1.80e-02       1.10e-02       1.71e+01    \n",
      "      99             108        6.1125e+00      3.02e-02       4.91e-03       3.58e+01    \n",
      "      100            109        6.0963e+00      1.62e-02       1.11e-02       1.72e+01    \n",
      "      101            110        6.0668e+00      2.95e-02       4.99e-03       3.49e+01    \n",
      "      102            111        6.0523e+00      1.45e-02       1.12e-02       1.73e+01    \n",
      "      103            112        6.0234e+00      2.89e-02       5.06e-03       3.41e+01    \n",
      "      104            113        6.0105e+00      1.29e-02       1.12e-02       1.73e+01    \n",
      "      105            114        5.9821e+00      2.84e-02       5.13e-03       3.34e+01    \n",
      "      106            115        5.9707e+00      1.14e-02       1.13e-02       1.73e+01    \n",
      "      107            116        5.9567e+00      1.39e-02       1.29e-03       1.30e+01    \n",
      "      108            117        5.9405e+00      1.62e-02       2.49e-03       1.74e+01    \n",
      "      109            118        5.9253e+00      1.52e-02       4.82e-03       1.04e+01    \n",
      "      110            119        5.8963e+00      2.90e-02       7.22e-03       2.28e+01    \n",
      "      111            121        5.8831e+00      1.32e-02       5.52e-03       8.94e+00    \n",
      "      112            122        5.8614e+00      2.17e-02       5.89e-03       3.29e+01    \n",
      "      113            123        5.8537e+00      7.75e-03       1.14e-02       1.73e+01    \n",
      "      114            124        5.8401e+00      1.36e-02       1.33e-03       1.30e+01    \n",
      "      115            125        5.8249e+00      1.52e-02       2.59e-03       1.61e+01    \n",
      "      116            126        5.8112e+00      1.38e-02       4.97e-03       9.58e+00    \n",
      "      117            127        5.7853e+00      2.58e-02       7.47e-03       2.26e+01    \n",
      "      118            129        5.7738e+00      1.15e-02       5.72e-03       9.09e+00    \n",
      "      119            130        5.7618e+00      1.20e-02       2.89e-03       1.94e+01    \n",
      "      120            131        5.7441e+00      1.77e-02       1.12e-02       1.34e+01    \n",
      "      121            132        5.7300e+00      1.41e-02       5.35e-03       3.70e+01    \n",
      "      122            133        5.7215e+00      8.52e-03       1.13e-02       1.62e+01    \n",
      "      123            134        5.7091e+00      1.24e-02       1.36e-03       1.21e+01    \n",
      "      124            135        5.6960e+00      1.31e-02       2.68e-03       1.65e+01    \n",
      "      125            136        5.6840e+00      1.20e-02       5.38e-03       7.85e+00    \n",
      "      126            137        5.6638e+00      2.02e-02       6.94e-03       2.74e+01    \n",
      "      127            139        5.6533e+00      1.05e-02       5.85e-03       8.86e+00    \n",
      "      128            140        5.6426e+00      1.07e-02       2.97e-03       1.90e+01    \n",
      "      129            141        5.6320e+00      1.05e-02       5.74e-03       8.66e+00    \n",
      "      130            142        5.6214e+00      1.06e-02       3.04e-03       1.87e+01    \n",
      "      131            143        5.6078e+00      1.37e-02       1.16e-02       1.36e+01    \n",
      "      132            144        5.5938e+00      1.40e-02       5.47e-03       3.42e+01    \n",
      "      133            145        5.5883e+00      5.45e-03       1.14e-02       1.60e+01    \n",
      "      134            146        5.5762e+00      1.21e-02       1.38e-03       1.20e+01    \n",
      "      135            147        5.5636e+00      1.26e-02       2.74e-03       1.50e+01    \n",
      "      136            148        5.5525e+00      1.11e-02       5.43e-03       7.45e+00    \n",
      "      137            149        5.5340e+00      1.85e-02       7.23e-03       2.58e+01    \n",
      "      138            151        5.5245e+00      9.45e-03       5.89e-03       8.69e+00    \n",
      "      139            152        5.5149e+00      9.63e-03       2.98e-03       1.86e+01    \n",
      "      140            153        5.5056e+00      9.35e-03       5.87e-03       8.57e+00    \n",
      "      141            154        5.4960e+00      9.54e-03       3.01e-03       1.84e+01    \n",
      "      142            155        5.4868e+00      9.24e-03       5.88e-03       8.53e+00    \n",
      "      143            156        5.4774e+00      9.41e-03       3.01e-03       1.83e+01    \n",
      "      144            157        5.4683e+00      9.10e-03       5.89e-03       8.50e+00    \n",
      "      145            158        5.4590e+00      9.28e-03       3.01e-03       1.83e+01    \n",
      "      146            159        5.4500e+00      8.97e-03       5.90e-03       8.48e+00    \n",
      "      147            160        5.4408e+00      9.17e-03       3.00e-03       1.82e+01    \n",
      "      148            161        5.4320e+00      8.86e-03       5.90e-03       8.45e+00    \n",
      "      149            162        5.4229e+00      9.06e-03       3.00e-03       1.81e+01    \n",
      "      150            163        5.4142e+00      8.74e-03       5.91e-03       8.41e+00    \n",
      "      151            164        5.4052e+00      8.95e-03       3.00e-03       1.80e+01    \n",
      "      152            165        5.3966e+00      8.64e-03       5.92e-03       8.38e+00    \n",
      "      153            166        5.3877e+00      8.86e-03       2.99e-03       1.79e+01    \n",
      "      154            167        5.3792e+00      8.54e-03       5.92e-03       8.34e+00    \n",
      "      155            168        5.3704e+00      8.76e-03       2.99e-03       1.78e+01    \n",
      "      156            169        5.3620e+00      8.44e-03       5.92e-03       8.31e+00    \n",
      "      157            170        5.3533e+00      8.68e-03       2.99e-03       1.78e+01    \n",
      "      158            171        5.3450e+00      8.35e-03       5.93e-03       8.27e+00    \n",
      "      159            172        5.3364e+00      8.59e-03       2.98e-03       1.77e+01    \n",
      "      160            173        5.3281e+00      8.27e-03       5.93e-03       8.23e+00    \n",
      "      161            174        5.3196e+00      8.51e-03       2.98e-03       1.76e+01    \n",
      "      162            175        5.3114e+00      8.19e-03       5.93e-03       8.19e+00    \n",
      "      163            176        5.3030e+00      8.44e-03       2.98e-03       1.75e+01    \n",
      "      164            177        5.2949e+00      8.11e-03       5.93e-03       8.15e+00    \n",
      "      165            178        5.2865e+00      8.37e-03       2.98e-03       1.74e+01    \n",
      "      166            179        5.2785e+00      8.03e-03       5.93e-03       8.11e+00    \n",
      "      167            180        5.2702e+00      8.29e-03       2.97e-03       1.73e+01    \n",
      "      168            181        5.2622e+00      7.96e-03       5.93e-03       8.07e+00    \n",
      "      169            182        5.2540e+00      8.23e-03       2.97e-03       1.72e+01    \n",
      "      170            183        5.2461e+00      7.89e-03       5.93e-03       8.03e+00    \n",
      "      171            184        5.2379e+00      8.16e-03       2.97e-03       1.71e+01    \n",
      "      172            185        5.2301e+00      7.82e-03       5.93e-03       7.98e+00    \n",
      "      173            186        5.2220e+00      8.10e-03       2.97e-03       1.70e+01    \n",
      "      174            187        5.2143e+00      7.76e-03       5.93e-03       7.94e+00    \n",
      "      175            188        5.2062e+00      8.04e-03       2.96e-03       1.69e+01    \n",
      "      176            189        5.1985e+00      7.69e-03       5.93e-03       7.90e+00    \n",
      "      177            190        5.1906e+00      7.97e-03       2.96e-03       1.68e+01    \n",
      "      178            191        5.1829e+00      7.63e-03       5.93e-03       7.86e+00    \n",
      "      179            192        5.1750e+00      7.92e-03       2.96e-03       1.67e+01    \n",
      "      180            193        5.1674e+00      7.57e-03       5.93e-03       7.82e+00    \n",
      "      181            194        5.1596e+00      7.86e-03       2.96e-03       1.66e+01    \n",
      "      182            195        5.1521e+00      7.51e-03       5.92e-03       7.77e+00    \n",
      "      183            196        5.1443e+00      7.80e-03       2.96e-03       1.66e+01    \n",
      "      184            197        5.1368e+00      7.45e-03       5.92e-03       7.73e+00    \n",
      "      185            198        5.1291e+00      7.75e-03       2.95e-03       1.65e+01    \n",
      "      186            199        5.1217e+00      7.40e-03       5.92e-03       7.69e+00    \n",
      "      187            200        5.1140e+00      7.70e-03       2.95e-03       1.64e+01    \n",
      "      188            201        5.1066e+00      7.34e-03       5.92e-03       7.65e+00    \n",
      "      189            202        5.0990e+00      7.64e-03       2.95e-03       1.63e+01    \n",
      "      190            203        5.0917e+00      7.29e-03       5.91e-03       7.61e+00    \n",
      "      191            204        5.0841e+00      7.59e-03       2.95e-03       1.62e+01    \n",
      "      192            205        5.0769e+00      7.23e-03       5.91e-03       7.56e+00    \n",
      "      193            206        5.0693e+00      7.54e-03       2.94e-03       1.61e+01    \n",
      "      194            207        5.0622e+00      7.18e-03       5.91e-03       7.52e+00    \n",
      "      195            208        5.0547e+00      7.49e-03       2.94e-03       1.60e+01    \n",
      "      196            209        5.0475e+00      7.13e-03       5.91e-03       7.48e+00    \n",
      "      197            210        5.0401e+00      7.44e-03       2.94e-03       1.59e+01    \n",
      "      198            211        5.0330e+00      7.08e-03       5.90e-03       7.44e+00    \n",
      "      199            212        5.0256e+00      7.39e-03       2.94e-03       1.58e+01    \n",
      "      200            213        5.0186e+00      7.03e-03       5.90e-03       7.40e+00    \n",
      "      201            214        5.0113e+00      7.34e-03       2.94e-03       1.58e+01    \n",
      "      202            215        5.0043e+00      6.98e-03       5.90e-03       7.36e+00    \n",
      "      203            216        4.9970e+00      7.30e-03       2.93e-03       1.57e+01    \n",
      "      204            217        4.9901e+00      6.93e-03       5.89e-03       7.32e+00    \n",
      "      205            218        4.9828e+00      7.25e-03       2.93e-03       1.56e+01    \n",
      "      206            219        4.9759e+00      6.88e-03       5.89e-03       7.28e+00    \n",
      "      207            220        4.9687e+00      7.20e-03       2.93e-03       1.55e+01    \n",
      "      208            221        4.9619e+00      6.83e-03       5.89e-03       7.24e+00    \n",
      "      209            222        4.9547e+00      7.16e-03       2.93e-03       1.54e+01    \n",
      "      210            223        4.9480e+00      6.78e-03       5.89e-03       7.20e+00    \n",
      "      211            224        4.9408e+00      7.11e-03       2.93e-03       1.53e+01    \n",
      "      212            225        4.9341e+00      6.73e-03       5.88e-03       7.16e+00    \n",
      "      213            226        4.9270e+00      7.07e-03       2.92e-03       1.52e+01    \n",
      "      214            227        4.9204e+00      6.69e-03       5.88e-03       7.12e+00    \n",
      "      215            228        4.9133e+00      7.02e-03       2.92e-03       1.52e+01    \n",
      "      216            229        4.9067e+00      6.64e-03       5.88e-03       7.08e+00    \n",
      "      217            230        4.8997e+00      6.98e-03       2.92e-03       1.51e+01    \n",
      "      218            231        4.8931e+00      6.60e-03       5.87e-03       7.05e+00    \n",
      "      219            232        4.8862e+00      6.94e-03       2.92e-03       1.50e+01    \n",
      "      220            233        4.8796e+00      6.55e-03       5.87e-03       7.01e+00    \n",
      "      221            234        4.8727e+00      6.89e-03       2.92e-03       1.49e+01    \n",
      "      222            235        4.8662e+00      6.51e-03       5.87e-03       6.97e+00    \n",
      "      223            236        4.8594e+00      6.85e-03       2.91e-03       1.48e+01    \n",
      "      224            237        4.8529e+00      6.46e-03       5.86e-03       6.93e+00    \n",
      "      225            238        4.8461e+00      6.81e-03       2.91e-03       1.48e+01    \n",
      "      226            239        4.8397e+00      6.42e-03       5.86e-03       6.90e+00    \n",
      "      227            240        4.8329e+00      6.77e-03       2.91e-03       1.47e+01    \n",
      "      228            241        4.8265e+00      6.38e-03       5.86e-03       6.86e+00    \n",
      "      229            242        4.8198e+00      6.73e-03       2.91e-03       1.46e+01    \n",
      "      230            243        4.8135e+00      6.33e-03       5.85e-03       6.82e+00    \n",
      "      231            244        4.8068e+00      6.68e-03       2.91e-03       1.45e+01    \n",
      "      232            245        4.8005e+00      6.29e-03       5.85e-03       6.79e+00    \n",
      "      233            246        4.7939e+00      6.64e-03       2.91e-03       1.44e+01    \n",
      "      234            247        4.7876e+00      6.24e-03       5.85e-03       6.75e+00    \n",
      "      235            248        4.7810e+00      6.60e-03       2.90e-03       1.44e+01    \n",
      "      236            249        4.7748e+00      6.20e-03       5.84e-03       6.71e+00    \n",
      "      237            250        4.7683e+00      6.56e-03       2.90e-03       1.43e+01    \n",
      "      238            251        4.7621e+00      6.16e-03       5.84e-03       6.68e+00    \n",
      "      239            252        4.7556e+00      6.52e-03       2.90e-03       1.42e+01    \n",
      "      240            253        4.7494e+00      6.12e-03       5.84e-03       6.64e+00    \n",
      "      241            254        4.7430e+00      6.48e-03       2.90e-03       1.41e+01    \n",
      "      242            255        4.7369e+00      6.08e-03       5.83e-03       6.61e+00    \n",
      "      243            256        4.7304e+00      6.45e-03       2.90e-03       1.41e+01    \n",
      "      244            257        4.7244e+00      6.04e-03       5.83e-03       6.57e+00    \n",
      "      245            258        4.7180e+00      6.41e-03       2.90e-03       1.40e+01    \n",
      "      246            259        4.7120e+00      6.00e-03       5.83e-03       6.54e+00    \n",
      "      247            260        4.7056e+00      6.37e-03       2.90e-03       1.39e+01    \n",
      "      248            261        4.6997e+00      5.96e-03       5.82e-03       6.50e+00    \n",
      "      249            262        4.6933e+00      6.33e-03       2.89e-03       1.38e+01    \n",
      "      250            263        4.6874e+00      5.92e-03       5.82e-03       6.47e+00    \n",
      "      251            264        4.6811e+00      6.29e-03       2.89e-03       1.38e+01    \n",
      "      252            265        4.6752e+00      5.88e-03       5.82e-03       6.44e+00    \n",
      "      253            266        4.6690e+00      6.26e-03       2.89e-03       1.37e+01    \n",
      "      254            267        4.6632e+00      5.84e-03       5.81e-03       6.40e+00    \n",
      "      255            268        4.6569e+00      6.22e-03       2.89e-03       1.36e+01    \n",
      "      256            269        4.6511e+00      5.80e-03       5.81e-03       6.37e+00    \n",
      "      257            270        4.6449e+00      6.18e-03       2.89e-03       1.36e+01    \n",
      "      258            271        4.6392e+00      5.76e-03       5.81e-03       6.34e+00    \n",
      "      259            272        4.6330e+00      6.15e-03       2.89e-03       1.35e+01    \n",
      "      260            273        4.6273e+00      5.72e-03       5.80e-03       6.30e+00    \n",
      "      261            274        4.6212e+00      6.11e-03       2.89e-03       1.34e+01    \n",
      "      262            275        4.6155e+00      5.68e-03       5.80e-03       6.27e+00    \n",
      "      263            276        4.6095e+00      6.07e-03       2.89e-03       1.33e+01    \n",
      "      264            277        4.6038e+00      5.65e-03       5.80e-03       6.24e+00    \n",
      "      265            278        4.5978e+00      6.04e-03       2.89e-03       1.33e+01    \n",
      "      266            279        4.5922e+00      5.61e-03       5.79e-03       6.21e+00    \n",
      "      267            280        4.5862e+00      6.00e-03       2.88e-03       1.32e+01    \n",
      "      268            281        4.5806e+00      5.57e-03       5.79e-03       6.17e+00    \n",
      "      269            282        4.5746e+00      5.97e-03       2.88e-03       1.31e+01    \n",
      "      270            283        4.5691e+00      5.53e-03       5.79e-03       6.14e+00    \n",
      "      271            284        4.5631e+00      5.93e-03       2.88e-03       1.31e+01    \n",
      "      272            285        4.5576e+00      5.50e-03       5.78e-03       6.11e+00    \n",
      "      273            286        4.5517e+00      5.90e-03       2.88e-03       1.30e+01    \n",
      "      274            287        4.5463e+00      5.46e-03       5.78e-03       6.08e+00    \n",
      "      275            288        4.5404e+00      5.88e-03       2.88e-03       1.29e+01    \n",
      "      276            289        4.5350e+00      5.43e-03       5.77e-03       6.05e+00    \n",
      "      277            290        4.5291e+00      5.85e-03       2.88e-03       1.28e+01    \n",
      "      278            291        4.5237e+00      5.40e-03       5.77e-03       6.02e+00    \n",
      "      279            292        4.5179e+00      5.82e-03       2.88e-03       1.28e+01    \n",
      "      280            293        4.5126e+00      5.36e-03       5.77e-03       5.98e+00    \n",
      "      281            294        4.5068e+00      5.79e-03       2.88e-03       1.27e+01    \n",
      "      282            295        4.5014e+00      5.33e-03       5.76e-03       5.95e+00    \n",
      "      283            296        4.4957e+00      5.76e-03       2.88e-03       1.26e+01    \n",
      "      284            297        4.4904e+00      5.29e-03       5.76e-03       5.92e+00    \n",
      "      285            298        4.4846e+00      5.74e-03       2.88e-03       1.25e+01    \n",
      "      286            299        4.4794e+00      5.26e-03       5.76e-03       5.89e+00    \n",
      "      287            300        4.4737e+00      5.71e-03       2.88e-03       1.25e+01    \n",
      "      288            301        4.4684e+00      5.23e-03       5.75e-03       5.86e+00    \n",
      "      289            302        4.4627e+00      5.68e-03       2.88e-03       1.24e+01    \n",
      "      290            303        4.4575e+00      5.20e-03       5.75e-03       5.83e+00    \n",
      "      291            304        4.4519e+00      5.66e-03       2.88e-03       1.23e+01    \n",
      "      292            305        4.4467e+00      5.17e-03       5.75e-03       5.80e+00    \n",
      "      293            306        4.4411e+00      5.63e-03       2.88e-03       1.23e+01    \n",
      "      294            307        4.4360e+00      5.13e-03       5.74e-03       5.77e+00    \n",
      "      295            308        4.4304e+00      5.60e-03       2.88e-03       1.22e+01    \n",
      "      296            309        4.4253e+00      5.10e-03       5.74e-03       5.74e+00    \n",
      "      297            310        4.4197e+00      5.58e-03       2.88e-03       1.21e+01    \n",
      "      298            311        4.4146e+00      5.07e-03       5.74e-03       5.71e+00    \n",
      "      299            312        4.4091e+00      5.55e-03       2.87e-03       1.20e+01    \n",
      "      300            313        4.4040e+00      5.04e-03       5.73e-03       5.68e+00    \n",
      "      301            314        4.3985e+00      5.53e-03       2.87e-03       1.20e+01    \n",
      "      302            315        4.3935e+00      5.01e-03       5.73e-03       5.65e+00    \n",
      "      303            316        4.3880e+00      5.50e-03       2.87e-03       1.19e+01    \n",
      "      304            317        4.3830e+00      4.98e-03       5.72e-03       5.62e+00    \n",
      "      305            318        4.3775e+00      5.47e-03       2.87e-03       1.18e+01    \n",
      "      306            319        4.3726e+00      4.94e-03       5.72e-03       5.59e+00    \n",
      "      307            320        4.3672e+00      5.45e-03       2.87e-03       1.18e+01    \n",
      "      308            321        4.3622e+00      4.91e-03       5.72e-03       5.56e+00    \n",
      "      309            322        4.3568e+00      5.42e-03       2.87e-03       1.17e+01    \n",
      "      310            323        4.3519e+00      4.88e-03       5.71e-03       5.53e+00    \n",
      "      311            324        4.3465e+00      5.40e-03       2.87e-03       1.16e+01    \n",
      "      312            325        4.3417e+00      4.85e-03       5.71e-03       5.51e+00    \n",
      "      313            326        4.3363e+00      5.37e-03       2.87e-03       1.16e+01    \n",
      "      314            327        4.3315e+00      4.82e-03       5.71e-03       5.48e+00    \n",
      "      315            328        4.3261e+00      5.35e-03       2.87e-03       1.15e+01    \n",
      "      316            329        4.3213e+00      4.79e-03       5.70e-03       5.45e+00    \n",
      "      317            330        4.3160e+00      5.32e-03       2.87e-03       1.14e+01    \n",
      "      318            331        4.3113e+00      4.76e-03       5.70e-03       5.42e+00    \n",
      "      319            332        4.3060e+00      5.30e-03       2.87e-03       1.14e+01    \n",
      "      320            333        4.3012e+00      4.73e-03       5.70e-03       5.39e+00    \n",
      "      321            334        4.2960e+00      5.27e-03       2.87e-03       1.13e+01    \n",
      "      322            335        4.2913e+00      4.70e-03       5.69e-03       5.37e+00    \n",
      "      323            336        4.2860e+00      5.25e-03       2.87e-03       1.13e+01    \n",
      "      324            337        4.2813e+00      4.67e-03       5.69e-03       5.34e+00    \n",
      "      325            338        4.2761e+00      5.22e-03       2.87e-03       1.12e+01    \n",
      "      326            339        4.2715e+00      4.64e-03       5.68e-03       5.31e+00    \n",
      "      327            340        4.2663e+00      5.20e-03       2.87e-03       1.11e+01    \n",
      "      328            341        4.2617e+00      4.62e-03       5.68e-03       5.28e+00    \n",
      "      329            342        4.2565e+00      5.18e-03       2.87e-03       1.11e+01    \n",
      "      330            343        4.2519e+00      4.59e-03       5.68e-03       5.26e+00    \n",
      "      331            344        4.2467e+00      5.15e-03       2.87e-03       1.10e+01    \n",
      "      332            345        4.2422e+00      4.56e-03       5.67e-03       5.23e+00    \n",
      "      333            346        4.2370e+00      5.13e-03       2.87e-03       1.09e+01    \n",
      "      334            347        4.2325e+00      4.53e-03       5.67e-03       5.20e+00    \n",
      "      335            348        4.2274e+00      5.10e-03       2.87e-03       1.09e+01    \n",
      "      336            349        4.2229e+00      4.50e-03       5.67e-03       5.18e+00    \n",
      "      337            350        4.2178e+00      5.08e-03       2.87e-03       1.08e+01    \n",
      "      338            351        4.2134e+00      4.47e-03       5.66e-03       5.15e+00    \n",
      "      339            352        4.2083e+00      5.06e-03       2.87e-03       1.08e+01    \n",
      "      340            353        4.2039e+00      4.45e-03       5.66e-03       5.13e+00    \n",
      "      341            354        4.1988e+00      5.03e-03       2.87e-03       1.07e+01    \n",
      "      342            355        4.1944e+00      4.42e-03       5.66e-03       5.10e+00    \n",
      "      343            356        4.1894e+00      5.01e-03       2.87e-03       1.06e+01    \n",
      "      344            357        4.1850e+00      4.39e-03       5.65e-03       5.08e+00    \n",
      "      345            358        4.1800e+00      4.99e-03       2.87e-03       1.06e+01    \n",
      "      346            359        4.1756e+00      4.36e-03       5.65e-03       5.05e+00    \n",
      "      347            360        4.1707e+00      4.97e-03       2.87e-03       1.05e+01    \n",
      "      348            361        4.1663e+00      4.34e-03       5.64e-03       5.02e+00    \n",
      "      349            362        4.1614e+00      4.94e-03       2.87e-03       1.05e+01    \n",
      "      350            363        4.1571e+00      4.31e-03       5.64e-03       5.00e+00    \n",
      "      351            364        4.1522e+00      4.92e-03       2.87e-03       1.04e+01    \n",
      "      352            365        4.1479e+00      4.28e-03       5.64e-03       4.98e+00    \n",
      "      353            366        4.1430e+00      4.90e-03       2.87e-03       1.03e+01    \n",
      "      354            367        4.1387e+00      4.25e-03       5.63e-03       4.95e+00    \n",
      "      355            368        4.1339e+00      4.88e-03       2.87e-03       1.03e+01    \n",
      "      356            369        4.1296e+00      4.23e-03       5.63e-03       4.93e+00    \n",
      "      357            370        4.1248e+00      4.85e-03       2.87e-03       1.02e+01    \n",
      "      358            371        4.1206e+00      4.20e-03       5.63e-03       4.90e+00    \n",
      "      359            372        4.1157e+00      4.83e-03       2.87e-03       1.02e+01    \n",
      "      360            373        4.1116e+00      4.18e-03       5.62e-03       4.88e+00    \n",
      "      361            374        4.1068e+00      4.81e-03       2.87e-03       1.01e+01    \n",
      "      362            375        4.1026e+00      4.15e-03       5.62e-03       4.85e+00    \n",
      "      363            376        4.0978e+00      4.79e-03       2.87e-03       1.01e+01    \n",
      "      364            377        4.0937e+00      4.12e-03       5.62e-03       4.83e+00    \n",
      "      365            378        4.0889e+00      4.77e-03       2.87e-03       1.00e+01    \n",
      "      366            379        4.0848e+00      4.10e-03       5.61e-03       4.81e+00    \n",
      "      367            380        4.0801e+00      4.75e-03       2.87e-03       9.96e+00    \n",
      "      368            381        4.0760e+00      4.07e-03       5.61e-03       4.78e+00    \n",
      "      369            382        4.0713e+00      4.72e-03       2.87e-03       9.91e+00    \n",
      "      370            383        4.0673e+00      4.05e-03       5.60e-03       4.76e+00    \n",
      "      371            384        4.0625e+00      4.70e-03       2.87e-03       9.85e+00    \n",
      "      372            385        4.0585e+00      4.02e-03       5.60e-03       4.73e+00    \n",
      "      373            386        4.0538e+00      4.68e-03       2.87e-03       9.80e+00    \n",
      "      374            387        4.0498e+00      4.00e-03       5.60e-03       4.71e+00    \n",
      "      375            388        4.0452e+00      4.66e-03       2.87e-03       9.75e+00    \n",
      "      376            389        4.0412e+00      3.97e-03       5.59e-03       4.69e+00    \n",
      "      377            390        4.0366e+00      4.64e-03       2.87e-03       9.69e+00    \n",
      "      378            391        4.0326e+00      3.94e-03       5.59e-03       4.67e+00    \n",
      "      379            392        4.0280e+00      4.62e-03       2.87e-03       9.64e+00    \n",
      "      380            393        4.0241e+00      3.92e-03       5.59e-03       4.64e+00    \n",
      "      381            394        4.0195e+00      4.60e-03       2.87e-03       9.59e+00    \n",
      "      382            395        4.0156e+00      3.89e-03       5.58e-03       4.62e+00    \n",
      "      383            396        4.0110e+00      4.58e-03       2.87e-03       9.54e+00    \n",
      "      384            397        4.0072e+00      3.87e-03       5.58e-03       4.60e+00    \n",
      "      385            398        4.0026e+00      4.56e-03       2.87e-03       9.49e+00    \n",
      "      386            399        3.9987e+00      3.85e-03       5.58e-03       4.58e+00    \n",
      "      387            400        3.9942e+00      4.54e-03       2.88e-03       9.43e+00    \n",
      "      388            401        3.9904e+00      3.82e-03       5.57e-03       4.55e+00    \n",
      "      389            402        3.9859e+00      4.52e-03       2.88e-03       9.38e+00    \n",
      "      390            403        3.9821e+00      3.80e-03       5.57e-03       4.53e+00    \n",
      "      391            404        3.9776e+00      4.50e-03       2.88e-03       9.33e+00    \n",
      "      392            405        3.9738e+00      3.77e-03       5.57e-03       4.51e+00    \n",
      "      393            406        3.9693e+00      4.48e-03       2.88e-03       9.28e+00    \n",
      "      394            407        3.9656e+00      3.75e-03       5.56e-03       4.49e+00    \n",
      "      395            408        3.9611e+00      4.46e-03       2.88e-03       9.24e+00    \n",
      "      396            409        3.9574e+00      3.73e-03       5.56e-03       4.46e+00    \n",
      "      397            410        3.9530e+00      4.44e-03       2.88e-03       9.19e+00    \n",
      "      398            411        3.9493e+00      3.70e-03       5.55e-03       4.44e+00    \n",
      "      399            412        3.9448e+00      4.42e-03       2.88e-03       9.14e+00    \n",
      "      400            413        3.9412e+00      3.68e-03       5.55e-03       4.42e+00    \n",
      "      401            414        3.9368e+00      4.40e-03       2.88e-03       9.09e+00    \n",
      "      402            415        3.9331e+00      3.66e-03       5.55e-03       4.40e+00    \n",
      "      403            416        3.9287e+00      4.38e-03       2.88e-03       9.04e+00    \n",
      "      404            417        3.9251e+00      3.63e-03       5.54e-03       4.38e+00    \n",
      "      405            418        3.9207e+00      4.36e-03       2.88e-03       8.99e+00    \n",
      "      406            419        3.9171e+00      3.61e-03       5.54e-03       4.36e+00    \n",
      "      407            420        3.9128e+00      4.34e-03       2.88e-03       8.95e+00    \n",
      "      408            421        3.9092e+00      3.59e-03       5.54e-03       4.34e+00    \n",
      "      409            422        3.9049e+00      4.32e-03       2.88e-03       8.90e+00    \n",
      "      410            423        3.9013e+00      3.56e-03       5.53e-03       4.32e+00    \n",
      "      411            424        3.8970e+00      4.30e-03       2.88e-03       8.85e+00    \n",
      "      412            425        3.8935e+00      3.54e-03       5.53e-03       4.30e+00    \n",
      "      413            426        3.8892e+00      4.29e-03       2.88e-03       8.80e+00    \n",
      "      414            427        3.8857e+00      3.52e-03       5.53e-03       4.28e+00    \n",
      "      415            428        3.8814e+00      4.27e-03       2.88e-03       8.76e+00    \n",
      "      416            429        3.8779e+00      3.50e-03       5.52e-03       4.26e+00    \n",
      "      417            430        3.8736e+00      4.25e-03       2.89e-03       8.71e+00    \n",
      "      418            431        3.8702e+00      3.47e-03       5.52e-03       4.24e+00    \n",
      "      419            432        3.8659e+00      4.23e-03       2.89e-03       8.67e+00    \n",
      "      420            433        3.8625e+00      3.45e-03       5.52e-03       4.22e+00    \n",
      "      421            434        3.8583e+00      4.21e-03       2.89e-03       8.62e+00    \n",
      "      422            435        3.8549e+00      3.43e-03       5.51e-03       4.20e+00    \n",
      "      423            436        3.8507e+00      4.19e-03       2.89e-03       8.58e+00    \n",
      "      424            437        3.8473e+00      3.41e-03       5.51e-03       4.18e+00    \n",
      "      425            438        3.8431e+00      4.17e-03       2.89e-03       8.53e+00    \n",
      "      426            439        3.8397e+00      3.39e-03       5.50e-03       4.16e+00    \n",
      "      427            440        3.8355e+00      4.16e-03       2.89e-03       8.49e+00    \n",
      "      428            441        3.8322e+00      3.36e-03       5.50e-03       4.14e+00    \n",
      "      429            442        3.8280e+00      4.14e-03       2.89e-03       8.44e+00    \n",
      "      430            443        3.8247e+00      3.34e-03       5.50e-03       4.12e+00    \n",
      "      431            444        3.8206e+00      4.12e-03       2.89e-03       8.40e+00    \n",
      "      432            445        3.8173e+00      3.32e-03       5.49e-03       4.10e+00    \n",
      "      433            446        3.8131e+00      4.10e-03       2.89e-03       8.36e+00    \n",
      "      434            447        3.8098e+00      3.30e-03       5.49e-03       4.08e+00    \n",
      "      435            448        3.8058e+00      4.09e-03       2.90e-03       8.31e+00    \n",
      "      436            449        3.8025e+00      3.28e-03       5.49e-03       4.06e+00    \n",
      "      437            450        3.7984e+00      4.07e-03       2.90e-03       8.27e+00    \n",
      "      438            451        3.7952e+00      3.26e-03       5.48e-03       4.04e+00    \n",
      "      439            452        3.7911e+00      4.05e-03       2.90e-03       8.23e+00    \n",
      "      440            453        3.7879e+00      3.24e-03       5.48e-03       4.02e+00    \n",
      "      441            454        3.7838e+00      4.03e-03       2.90e-03       8.19e+00    \n",
      "      442            455        3.7806e+00      3.22e-03       5.48e-03       4.00e+00    \n",
      "      443            456        3.7766e+00      4.02e-03       2.90e-03       8.14e+00    \n",
      "      444            457        3.7734e+00      3.19e-03       5.47e-03       3.99e+00    \n",
      "      445            458        3.7694e+00      4.00e-03       2.90e-03       8.10e+00    \n",
      "      446            459        3.7662e+00      3.17e-03       5.47e-03       3.97e+00    \n",
      "      447            460        3.7623e+00      3.98e-03       2.90e-03       8.06e+00    \n",
      "      448            461        3.7591e+00      3.15e-03       5.47e-03       3.95e+00    \n",
      "      449            462        3.7551e+00      3.97e-03       2.90e-03       8.02e+00    \n",
      "      450            463        3.7520e+00      3.13e-03       5.46e-03       3.93e+00    \n",
      "      451            464        3.7480e+00      3.95e-03       2.91e-03       7.98e+00    \n",
      "      452            465        3.7449e+00      3.11e-03       5.46e-03       3.91e+00    \n",
      "      453            466        3.7410e+00      3.93e-03       2.91e-03       7.94e+00    \n",
      "      454            467        3.7379e+00      3.09e-03       5.45e-03       3.89e+00    \n",
      "      455            468        3.7340e+00      3.92e-03       2.91e-03       7.90e+00    \n",
      "      456            469        3.7309e+00      3.07e-03       5.45e-03       3.88e+00    \n",
      "      457            470        3.7270e+00      3.90e-03       2.91e-03       7.86e+00    \n",
      "      458            471        3.7240e+00      3.05e-03       5.45e-03       3.86e+00    \n",
      "      459            472        3.7201e+00      3.88e-03       2.91e-03       7.82e+00    \n",
      "      460            473        3.7170e+00      3.03e-03       5.44e-03       3.84e+00    \n",
      "      461            474        3.7132e+00      3.87e-03       2.91e-03       7.78e+00    \n",
      "      462            475        3.7102e+00      3.01e-03       5.44e-03       3.82e+00    \n",
      "      463            476        3.7063e+00      3.85e-03       2.91e-03       7.74e+00    \n",
      "      464            477        3.7033e+00      3.00e-03       5.44e-03       3.80e+00    \n",
      "      465            478        3.6995e+00      3.83e-03       2.92e-03       7.70e+00    \n",
      "      466            479        3.6965e+00      2.98e-03       5.43e-03       3.79e+00    \n",
      "      467            480        3.6927e+00      3.82e-03       2.92e-03       7.66e+00    \n",
      "      468            481        3.6897e+00      2.96e-03       5.43e-03       3.77e+00    \n",
      "      469            482        3.6859e+00      3.80e-03       2.92e-03       7.62e+00    \n",
      "      470            483        3.6830e+00      2.94e-03       5.43e-03       3.75e+00    \n",
      "      471            484        3.6792e+00      3.79e-03       2.92e-03       7.58e+00    \n",
      "      472            485        3.6763e+00      2.92e-03       5.42e-03       3.74e+00    \n",
      "      473            486        3.6725e+00      3.77e-03       2.92e-03       7.55e+00    \n",
      "      474            487        3.6696e+00      2.90e-03       5.42e-03       3.72e+00    \n",
      "      475            488        3.6659e+00      3.76e-03       2.93e-03       7.51e+00    \n",
      "      476            489        3.6630e+00      2.88e-03       5.42e-03       3.70e+00    \n",
      "      477            490        3.6592e+00      3.74e-03       2.93e-03       7.47e+00    \n",
      "      478            491        3.6564e+00      2.86e-03       5.41e-03       3.69e+00    \n",
      "      479            492        3.6527e+00      3.73e-03       2.93e-03       7.43e+00    \n",
      "      480            493        3.6498e+00      2.84e-03       5.41e-03       3.67e+00    \n",
      "      481            494        3.6461e+00      3.71e-03       2.93e-03       7.40e+00    \n",
      "      482            495        3.6433e+00      2.82e-03       5.40e-03       3.65e+00    \n",
      "      483            496        3.6396e+00      3.69e-03       2.93e-03       7.36e+00    \n",
      "      484            497        3.6368e+00      2.81e-03       5.40e-03       3.64e+00    \n",
      "      485            498        3.6331e+00      3.68e-03       2.93e-03       7.32e+00    \n",
      "      486            499        3.6303e+00      2.79e-03       5.40e-03       3.62e+00    \n",
      "      487            500        3.6267e+00      3.66e-03       2.94e-03       7.29e+00    \n",
      "The maximum number of function evaluations is exceeded.\n",
      "Function evaluations 500, initial cost 2.0063e+06, final cost 3.6267e+00, first-order optimality 7.29e+00.\n"
     ]
    }
   ],
   "source": [
    "# Define the objective function\n",
    "def cost_function(x, strikes, mkt_prices):\n",
    "    sigm, lamb, p, eta1, eta2 = x\n",
    "    KOU = Kou_pricer(S0=S0, K=strikes, ttm=T, r=r, sigma=sigm, lambd=lamb, p=p, eta1=eta1, eta2=eta2, exercise=exercise)\n",
    "    sq_err = np.sum(p_weights*(KOU.closed_formula_put(strikes) - mkt_prices)**2)\n",
    "    return sq_err\n",
    "\n",
    "start2=time.time()\n",
    "kou2 = scpo.least_squares(cost_function, x0, args=(put_strikes, put_prices),  method='trf', bounds=bounds, verbose=2)\n",
    "end2=time.time()"
   ],
   "metadata": {
    "collapsed": false,
    "ExecuteTime": {
     "end_time": "2023-09-14T21:47:22.616098200Z",
     "start_time": "2023-09-14T18:48:43.476582600Z"
    }
   }
  },
  {
   "cell_type": "code",
   "execution_count": 22,
   "outputs": [],
   "source": [
    "kou_params2 = [round(p,4) for p in kou2.x[:5]]"
   ],
   "metadata": {
    "collapsed": false,
    "ExecuteTime": {
     "end_time": "2023-09-14T21:47:22.631840200Z",
     "start_time": "2023-09-14T21:47:22.616098200Z"
    }
   }
  },
  {
   "cell_type": "code",
   "execution_count": 23,
   "outputs": [],
   "source": [
    "# print('WEIGHTED OPT: CURVE_FIT (trf)')\n",
    "# print(f'> Calibrated Volatlity [σ] = {kou_params1[0]} \\t {kou_params1[0] * 100}%')\n",
    "# print('> Calibrated Jump intensity [λ] = ', kou_params1[1])\n",
    "# print(f'> Calibrated Upward Jump probability [p] = {kou_params1[2]}, [q] = {round(1 - kou_params1[2], 2)}')\n",
    "# print('> Calibrated Rate of Exp. 1  [η_1] = ', kou_params1[3])\n",
    "# print('> Calibrated Rate of Exp. 2  [η_2] = ', kou_params1[4])\n",
    "# print(f'TIME ELAPSED: {end1-start1} sec')"
   ],
   "metadata": {
    "collapsed": false,
    "ExecuteTime": {
     "end_time": "2023-09-14T21:49:23.585925Z",
     "start_time": "2023-09-14T21:49:23.556598700Z"
    }
   }
  },
  {
   "cell_type": "code",
   "execution_count": 24,
   "outputs": [
    {
     "name": "stdout",
     "output_type": "stream",
     "text": [
      "METHOD 2: Least-squares\n",
      "> Calibrated Volatlity [σ] = 0.5 \t 50.0%\n",
      "> Calibrated Jump intensity [λ] =  2.3\n",
      "> Calibrated Upward Jump probability [p] = 0.6, [q] = 0.4\n",
      "> Calibrated Rate of Exp. 1  [η_1] =  6.09\n",
      "> Calibrated Rate of Exp. 2  [η_2] =  14.25\n",
      "TIME ELAPSED:  10719.11 sec\n"
     ]
    }
   ],
   "source": [
    "print('METHOD 2: Least-squares')\n",
    "print(f'> Calibrated Volatlity [σ] = {round(kou_params2[0],4)} \\t {round(kou_params2[0]*100,2)}%')\n",
    "print('> Calibrated Jump intensity [λ] = ', round(kou_params2[1],2))\n",
    "print(f'> Calibrated Upward Jump probability [p] = {round(kou_params2[2],2)}, [q] = {round(1-kou_params2[2],2)}')\n",
    "print('> Calibrated Rate of Exp. 1  [η_1] = ', round(kou_params2[3],2))\n",
    "print('> Calibrated Rate of Exp. 2  [η_2] = ', round(kou_params2[4],2))\n",
    "print(f'TIME ELAPSED:  {round(end2-start2,2)} sec')"
   ],
   "metadata": {
    "collapsed": false,
    "ExecuteTime": {
     "end_time": "2023-09-14T21:49:24.177451900Z",
     "start_time": "2023-09-14T21:49:24.145563400Z"
    }
   }
  },
  {
   "cell_type": "code",
   "execution_count": 25,
   "outputs": [
    {
     "name": "stdout",
     "output_type": "stream",
     "text": [
      "[0.5, 2.3029, 0.6032, 6.0878, 14.2463]\n",
      "Stored 'puts_kou_params_tsla' (list)\n"
     ]
    }
   ],
   "source": [
    "#print(kou_params1)\n",
    "print(kou_params2)\n",
    "puts_kou_params_tsla = kou_params2\n",
    "%store puts_kou_params_tsla"
   ],
   "metadata": {
    "collapsed": false,
    "ExecuteTime": {
     "end_time": "2023-09-14T21:49:27.146314800Z",
     "start_time": "2023-09-14T21:49:27.114514Z"
    }
   }
  },
  {
   "cell_type": "markdown",
   "source": [
    "### Variance Gamma\n"
   ],
   "metadata": {
    "collapsed": false
   }
  },
  {
   "cell_type": "code",
   "execution_count": 26,
   "outputs": [],
   "source": [
    "x0 = [0.2, -0.3, 0.1]   # initial guess: [σ, θ, v]\n",
    "bounds = ( [1e-3, -5, 0], [3, 5, 10] )"
   ],
   "metadata": {
    "collapsed": false,
    "ExecuteTime": {
     "end_time": "2023-09-14T21:49:32.982412800Z",
     "start_time": "2023-09-14T21:49:32.961610300Z"
    }
   }
  },
  {
   "cell_type": "markdown",
   "source": [
    "##### Method 1. CURVE FIT (Bounds)"
   ],
   "metadata": {
    "collapsed": false
   }
  },
  {
   "cell_type": "code",
   "execution_count": 27,
   "outputs": [],
   "source": [
    "def f_VG(strikes, sigmax, thetax, nux):\n",
    "    VGamma = VG_pricer(S0=S0, K=None, ttm=T, r=r, q=0, sigma=sigmax, theta=thetax, nu=nux, exercise='put')\n",
    "    vg_prices = []\n",
    "    for k in strikes:\n",
    "        vg_prices.append(VGamma.closed_formula_put(k))\n",
    "    return vg_prices\n",
    "\n",
    "start1 = time.time()\n",
    "vg1 = scpo.curve_fit(f_VG, put_strikes, put_prices, p0=x0, bounds=bounds, sigma=p_weights)\n",
    "end1 = time.time()\n",
    "\n",
    "vg_params1 = [round(p,4) for p in vg1[0][:3]]"
   ],
   "metadata": {
    "collapsed": false,
    "ExecuteTime": {
     "end_time": "2023-09-14T21:50:14.668767400Z",
     "start_time": "2023-09-14T21:49:33.893180600Z"
    }
   }
  },
  {
   "cell_type": "markdown",
   "source": [
    "##### Method 2. LEAST-SQUARES (Trust Region Reflective, Bounds)"
   ],
   "metadata": {
    "collapsed": false
   }
  },
  {
   "cell_type": "code",
   "execution_count": 28,
   "outputs": [
    {
     "name": "stdout",
     "output_type": "stream",
     "text": [
      "The maximum number of function evaluations is exceeded.\n",
      "Function evaluations 300, initial cost 4.8657e+03, final cost 2.1844e-01, first-order optimality 1.02e+01.\n"
     ]
    }
   ],
   "source": [
    "def cost_function(x, strikes, mkt_prices):\n",
    "    sigma, theta, nu = x\n",
    "    VG = VG_pricer(S0, None, T, r, q, sigma, theta, nu, exercise)\n",
    "    prices = []\n",
    "    for k in strikes:\n",
    "        prices.append(VG.closed_formula_put(k))\n",
    "    sq_err = np.sum(p_weights*(prices - mkt_prices)**2)\n",
    "    return sq_err\n",
    "\n",
    "start2=time.time()\n",
    "vg2 = scpo.least_squares(cost_function, x0, args=(put_strikes, put_prices),  method='trf', bounds=bounds, verbose=1, loss='soft_l1')\n",
    "end2=time.time()\n",
    "\n",
    "vg_params2 = [round(p,4) for p in vg2.x[:3]]"
   ],
   "metadata": {
    "collapsed": false,
    "ExecuteTime": {
     "end_time": "2023-09-14T21:55:49.874948100Z",
     "start_time": "2023-09-14T21:50:14.679272800Z"
    }
   }
  },
  {
   "cell_type": "code",
   "execution_count": 29,
   "outputs": [
    {
     "name": "stdout",
     "output_type": "stream",
     "text": [
      "WEIGHTED OPT: CURVE_FIT (trf)\n",
      "> Calibrated Volatlity [σ] = 0.6327, \t 63.27%\n",
      "> Calibrated mean rate gamma process [θ] =  0.1262\n",
      "> Calibrated variance rate gamma process [v]=  0.7386\n",
      "TIME ELAPSED:  40.77 sec\n",
      "METHOD 1: LEAST-SQUARES (trf)\n",
      "> Calibrated Volatlity [σ] = 0.6148, \t 61.48%\n",
      "> Calibrated mean rate gamma process [θ] =  0.1586\n",
      "> Calibrated variance rate gamma process [v]=  0.3572\n",
      "TIME ELAPSED:  335.1 sec\n"
     ]
    }
   ],
   "source": [
    "print('WEIGHTED OPT: CURVE_FIT (trf)')\n",
    "print(f'> Calibrated Volatlity [σ] = {vg_params1[0]}, \\t {round(vg_params1[0]*100,2)}%')\n",
    "print('> Calibrated mean rate gamma process [θ] = ', vg_params1[1])\n",
    "print('> Calibrated variance rate gamma process [v]= ', vg_params1[2])\n",
    "print(f'TIME ELAPSED:  {round(end1-start1,2)} sec')\n",
    "\n",
    "print('METHOD 1: LEAST-SQUARES (trf)')\n",
    "print(f'> Calibrated Volatlity [σ] = {vg_params2[0]}, \\t {round(vg_params2[0]*100,2)}%')\n",
    "print('> Calibrated mean rate gamma process [θ] = ', vg_params2[1])\n",
    "print('> Calibrated variance rate gamma process [v]= ', vg_params2[2])\n",
    "print(f'TIME ELAPSED:  {round(end2-start2,2)} sec')"
   ],
   "metadata": {
    "collapsed": false,
    "ExecuteTime": {
     "end_time": "2023-09-14T21:55:49.874948100Z",
     "start_time": "2023-09-14T21:55:49.781257500Z"
    }
   }
  },
  {
   "cell_type": "code",
   "execution_count": 30,
   "outputs": [
    {
     "name": "stdout",
     "output_type": "stream",
     "text": [
      "[0.6327, 0.1262, 0.7386]\n",
      "[0.6148, 0.1586, 0.3572]\n",
      "Stored 'puts_vg_params_tsla' (list)\n"
     ]
    }
   ],
   "source": [
    "print(vg_params1)\n",
    "print(vg_params2)\n",
    "puts_vg_params_tsla = vg_params2\n",
    "%store puts_vg_params_tsla"
   ],
   "metadata": {
    "collapsed": false,
    "ExecuteTime": {
     "end_time": "2023-09-14T21:55:49.874948100Z",
     "start_time": "2023-09-14T21:55:49.789205700Z"
    }
   }
  },
  {
   "cell_type": "markdown",
   "source": [
    "### Reprice of options using calibrated parameters\n",
    "Let's test our calibration results repricing initial market options. To do this we use both closed formulas and Monte Carlo pricing, to show that we achieve a very good parameters' estimation. "
   ],
   "metadata": {
    "collapsed": false
   }
  },
  {
   "cell_type": "code",
   "execution_count": 31,
   "outputs": [
    {
     "name": "stdout",
     "output_type": "stream",
     "text": [
      "MARKET PRICES. STARTING DATE = 20-01-2016. EXPIRY = 1YEAR. \n",
      "\n",
      "    STRIKE  MKT_BID  MKT_MID  MKT_ASK\n",
      "0    150.0    18.55   19.245    19.94\n",
      "1    155.0    20.40   20.855    21.31\n",
      "2    160.0    22.20   22.775    23.35\n",
      "3    165.0    24.55   25.175    25.80\n",
      "4    170.0    26.70   27.375    28.05\n",
      "5    175.0    27.70   29.030    30.36\n",
      "6    180.0    30.25   31.500    32.75\n",
      "7    185.0    33.89   34.595    35.30\n",
      "8    190.0    36.25   37.350    38.45\n",
      "9    195.0    39.16   39.880    40.60\n",
      "10   200.0    42.10   42.900    43.70\n",
      "11   210.0    48.00   48.820    49.64\n",
      "12   220.0    54.46   55.230    56.00\n",
      "13   230.0    61.20   62.575    63.95\n",
      "14   240.0    68.36   69.105    69.85\n",
      "15   250.0    75.66   76.150    76.64\n",
      "16   260.0    83.59   84.570    85.55\n"
     ]
    }
   ],
   "source": [
    "days = 252\n",
    "paths = 5000\n",
    "\n",
    "put_calib_prices = pd.DataFrame({\n",
    "    'STRIKE': puts['STRIKE'],    # array of K for call options\n",
    "    'MKT_BID': puts['P_BID'],\n",
    "    'MKT_MID': puts['P_Midpoint'],\n",
    "    'MKT_ASK': puts['P_ASK'],\n",
    "\n",
    "})\n",
    "print(f'MARKET PRICES. STARTING DATE = 20-01-2016. EXPIRY = 1YEAR. \\n\\n{put_calib_prices}')"
   ],
   "metadata": {
    "collapsed": false,
    "ExecuteTime": {
     "end_time": "2023-09-14T21:59:02.473472300Z",
     "start_time": "2023-09-14T21:59:02.456501700Z"
    }
   }
  },
  {
   "cell_type": "markdown",
   "source": [
    "#### Merton Jump Diffusion model"
   ],
   "metadata": {
    "collapsed": false
   }
  },
  {
   "cell_type": "code",
   "execution_count": 32,
   "outputs": [
    {
     "name": "stdout",
     "output_type": "stream",
     "text": [
      "    STRIKE  MKT_BID  MKT_MID  MKT_ASK  MERTON MC  MERTON CF\n",
      "0    150.0    18.55   19.245    19.94  17.652264  18.746151\n",
      "1    155.0    20.40   20.855    21.31  19.625288  20.767271\n",
      "2    160.0    22.20   22.775    23.35  21.692762  22.891635\n",
      "3    165.0    24.55   25.175    25.80  23.864535  25.116971\n",
      "4    170.0    26.70   27.375    28.05  26.132651  27.440853\n",
      "5    175.0    27.70   29.030    30.36  28.492859  29.860733\n",
      "6    180.0    30.25   31.500    32.75  30.940181  32.373970\n",
      "7    185.0    33.89   34.595    35.30  33.482871  34.977859\n",
      "8    190.0    36.25   37.350    38.45  36.127239  37.669649\n",
      "9    195.0    39.16   39.880    40.60  38.851635  40.446563\n",
      "10   200.0    42.10   42.900    43.70  41.660248  43.305821\n",
      "11   210.0    48.00   48.820    49.64  47.510408  49.260287\n",
      "12   220.0    54.46   55.230    56.00  53.645072  55.511156\n",
      "13   230.0    61.20   62.575    63.95  60.051120  62.037171\n",
      "14   240.0    68.36   69.105    69.85  66.730237  68.817929\n",
      "15   250.0    75.66   76.150    76.64  73.655336  75.834031\n",
      "16   260.0    83.59   84.570    85.55  80.805843  83.067166\n"
     ]
    }
   ],
   "source": [
    "#mert_params2 = [0.1267, 0.951, -0.1182, 0.2691]\n",
    "sigma, lambd, meanJ, stdJ = mert_params2\n",
    "MertonCAL = Merton_pricer(S0, None, T, r, q, sigma, lambd, meanJ, stdJ, exercise)\n",
    "SMerton_CAL = MertonCAL.MertonPath(days, paths)\n",
    "\n",
    "avg_payoffs = []\n",
    "for K in put_strikes:\n",
    "    payoffs = []        # stores here the payoff for each path, for a specific couple K1-K2\n",
    "    for St in SMerton_CAL[-1]:\n",
    "        payoffs.append(MertonCAL.payoff_put(K, St))\n",
    "    avg_payoffs.append(np.mean(payoffs))\n",
    "\n",
    "merton_mc_prices = np.zeros(len(put_calib_prices))\n",
    "merton_cf_prices = np.zeros(len(put_calib_prices))\n",
    "\n",
    "for index in range(len(put_calib_prices)):\n",
    "    merton_mc_prices[index] = np.exp(-r*T)* avg_payoffs[index]\n",
    "    merton_cf_prices[index] = MertonCAL.closed_formula_put(put_strikes[index])\n",
    "\n",
    "put_calib_prices['MERTON MC'] = merton_mc_prices\n",
    "put_calib_prices['MERTON CF'] = merton_cf_prices\n",
    "\n",
    "print(put_calib_prices)"
   ],
   "metadata": {
    "collapsed": false,
    "ExecuteTime": {
     "end_time": "2023-09-14T21:59:04.767977800Z",
     "start_time": "2023-09-14T21:59:03.934581Z"
    }
   }
  },
  {
   "cell_type": "code",
   "execution_count": 33,
   "outputs": [
    {
     "name": "stdout",
     "output_type": "stream",
     "text": [
      "    STRIKE  MKT_BID  MKT_MID  MKT_ASK  MERTON MC  MERTON CF     KOU MC  \\\n",
      "0    150.0    18.55   19.245    19.94  17.652264  18.746151  18.107466   \n",
      "1    155.0    20.40   20.855    21.31  19.625288  20.767271  20.193583   \n",
      "2    160.0    22.20   22.775    23.35  21.692762  22.891635  22.387840   \n",
      "3    165.0    24.55   25.175    25.80  23.864535  25.116971  24.677076   \n",
      "4    170.0    26.70   27.375    28.05  26.132651  27.440853  27.064271   \n",
      "5    175.0    27.70   29.030    30.36  28.492859  29.860733  29.549941   \n",
      "6    180.0    30.25   31.500    32.75  30.940181  32.373970  32.131717   \n",
      "7    185.0    33.89   34.595    35.30  33.482871  34.977859  34.808846   \n",
      "8    190.0    36.25   37.350    38.45  36.127239  37.669649  37.576972   \n",
      "9    195.0    39.16   39.880    40.60  38.851635  40.446563  40.427328   \n",
      "10   200.0    42.10   42.900    43.70  41.660248  43.305821  43.365908   \n",
      "11   210.0    48.00   48.820    49.64  47.510408  49.260287  49.478016   \n",
      "12   220.0    54.46   55.230    56.00  53.645072  55.511156  55.889637   \n",
      "13   230.0    61.20   62.575    63.95  60.051120  62.037171  62.575300   \n",
      "14   240.0    68.36   69.105    69.85  66.730237  68.817929  69.489596   \n",
      "15   250.0    75.66   76.150    76.64  73.655336  75.834031  76.627056   \n",
      "16   260.0    83.59   84.570    85.55  80.805843  83.067166  83.998846   \n",
      "\n",
      "       KOU CF  \n",
      "0   18.082286  \n",
      "1   20.148518  \n",
      "2   22.324379  \n",
      "3   24.606968  \n",
      "4   26.993220  \n",
      "5   29.479953  \n",
      "6   32.063902  \n",
      "7   34.741757  \n",
      "8   37.510185  \n",
      "9   40.365859  \n",
      "10  43.305477  \n",
      "11  49.423547  \n",
      "12  55.839026  \n",
      "13  62.527736  \n",
      "14  69.466888  \n",
      "15  76.635189  \n",
      "16  84.012883  \n"
     ]
    }
   ],
   "source": [
    "#kou_params2 = [0.1278, 0.948, 0.3549, 5.7153, 4.232]\n",
    "sigma, lambd, p, eta1, eta2 = kou_params2\n",
    "KouCAL = Kou_pricer(S0, None, T, r, sigma, lambd, p, eta1, eta2, exercise)\n",
    "SKou_CAL = KouCAL.KouPath(days, paths)\n",
    "\n",
    "avg_payoffs = []\n",
    "for k in put_strikes:\n",
    "    payoffs = []        # stores here the payoff for each path, for a specific couple K1-K2\n",
    "    for St in SKou_CAL[-1]:\n",
    "        payoffs.append(KouCAL.payoff_put(k, St))\n",
    "    avg_payoffs.append(np.mean(payoffs))\n",
    "\n",
    "kou_mc_prices = np.zeros(len(put_calib_prices))\n",
    "kou_cf_prices = np.zeros(len(put_calib_prices))\n",
    "\n",
    "for index in range(len(put_calib_prices)):\n",
    "    kou_mc_prices[index] = np.exp(-r*T)* avg_payoffs[index]\n",
    "    kou_cf_prices[index] = KouCAL.closed_formula_put(put_strikes[index])\n",
    "\n",
    "put_calib_prices['KOU MC'] = kou_mc_prices\n",
    "put_calib_prices['KOU CF'] = kou_cf_prices\n",
    "\n",
    "print(put_calib_prices)"
   ],
   "metadata": {
    "collapsed": false,
    "ExecuteTime": {
     "end_time": "2023-09-14T21:59:13.864609700Z",
     "start_time": "2023-09-14T21:59:06.599428100Z"
    }
   }
  },
  {
   "cell_type": "code",
   "execution_count": 34,
   "outputs": [
    {
     "name": "stdout",
     "output_type": "stream",
     "text": [
      "    STRIKE  MKT_BID  MKT_MID  MKT_ASK  MERTON MC  MERTON CF     KOU MC  \\\n",
      "0    150.0    18.55   19.245    19.94  17.652264  18.746151  18.107466   \n",
      "1    155.0    20.40   20.855    21.31  19.625288  20.767271  20.193583   \n",
      "2    160.0    22.20   22.775    23.35  21.692762  22.891635  22.387840   \n",
      "3    165.0    24.55   25.175    25.80  23.864535  25.116971  24.677076   \n",
      "4    170.0    26.70   27.375    28.05  26.132651  27.440853  27.064271   \n",
      "5    175.0    27.70   29.030    30.36  28.492859  29.860733  29.549941   \n",
      "6    180.0    30.25   31.500    32.75  30.940181  32.373970  32.131717   \n",
      "7    185.0    33.89   34.595    35.30  33.482871  34.977859  34.808846   \n",
      "8    190.0    36.25   37.350    38.45  36.127239  37.669649  37.576972   \n",
      "9    195.0    39.16   39.880    40.60  38.851635  40.446563  40.427328   \n",
      "10   200.0    42.10   42.900    43.70  41.660248  43.305821  43.365908   \n",
      "11   210.0    48.00   48.820    49.64  47.510408  49.260287  49.478016   \n",
      "12   220.0    54.46   55.230    56.00  53.645072  55.511156  55.889637   \n",
      "13   230.0    61.20   62.575    63.95  60.051120  62.037171  62.575300   \n",
      "14   240.0    68.36   69.105    69.85  66.730237  68.817929  69.489596   \n",
      "15   250.0    75.66   76.150    76.64  73.655336  75.834031  76.627056   \n",
      "16   260.0    83.59   84.570    85.55  80.805843  83.067166  83.998846   \n",
      "\n",
      "       KOU CF      VG MC      VG CF  \n",
      "0   18.082286  19.581788  18.773791  \n",
      "1   20.148518  21.743729  20.734862  \n",
      "2   22.324379  24.024720  22.804879  \n",
      "3   24.606968  26.420463  24.982830  \n",
      "4   26.993220  28.920280  27.267345  \n",
      "5   29.479953  31.529348  29.656714  \n",
      "6   32.063902  34.248637  32.148912  \n",
      "7   34.741757  37.059165  34.741619  \n",
      "8   37.510185  39.955044  37.432253  \n",
      "9   40.365859  42.941848  40.218000  \n",
      "10  43.305477  46.016086  43.095846  \n",
      "11  49.423547  52.410348  49.115007  \n",
      "12  55.839026  59.107444  55.463150  \n",
      "13  62.527736  66.036040  62.113100  \n",
      "14  69.466888  73.191081  69.038169  \n",
      "15  76.635189  80.579330  76.212886  \n",
      "16  84.012883  88.177085  83.613432  \n"
     ]
    }
   ],
   "source": [
    "# vg_params2 = [0.2442, 0.1983, 0.9451]\n",
    "sigma, theta, nu = vg_params2\n",
    "VGCAL = VG_pricer(S0, None, T, r, q, sigma, theta, nu, exercise)\n",
    "SVarGamma_CAL = VGCAL.VarianceGammaPath1(days, paths)\n",
    "\n",
    "avg_payoffs = []\n",
    "for K in put_strikes:\n",
    "    payoffs = []        # stores here the payoff for each path, for a specific couple K1-K2\n",
    "    for St in SVarGamma_CAL[-1]:\n",
    "        payoffs.append(VGCAL.payoff_put(K, St))\n",
    "    avg_payoffs.append(np.mean(payoffs))\n",
    "\n",
    "vg_mc_prices = np.zeros(len(put_calib_prices))\n",
    "vg_cf_prices = np.zeros(len(put_calib_prices))\n",
    "\n",
    "for index in range(len(put_calib_prices)):\n",
    "    vg_mc_prices[index] = np.exp(-r*T)* avg_payoffs[index]\n",
    "    vg_cf_prices[index] = VGCAL.closed_formula_put(put_strikes[index])\n",
    "\n",
    "put_calib_prices['VG MC'] = vg_mc_prices\n",
    "put_calib_prices['VG CF'] = vg_cf_prices\n",
    "\n",
    "print(put_calib_prices)"
   ],
   "metadata": {
    "collapsed": false,
    "ExecuteTime": {
     "end_time": "2023-09-14T22:23:26.871411600Z",
     "start_time": "2023-09-14T22:23:25.255495200Z"
    }
   }
  },
  {
   "cell_type": "markdown",
   "source": [
    "### Visualize calibration results\n",
    "#### Closed Formulas Option pricing"
   ],
   "metadata": {
    "collapsed": false
   }
  },
  {
   "cell_type": "code",
   "execution_count": 35,
   "outputs": [
    {
     "data": {
      "text/plain": "<Figure size 2000x400 with 3 Axes>",
      "image/png": "[encoded data removed]"
     },
     "metadata": {},
     "output_type": "display_data"
    }
   ],
   "source": [
    "fig = plt.figure(figsize=(20, 4))\n",
    "ax1 = fig.add_subplot(131)\n",
    "ax2 = fig.add_subplot(132)\n",
    "ax3 = fig.add_subplot(133)\n",
    "ax1.plot(put_strikes, put_prices, \".\", label=\"midpoint\")\n",
    "ax2.plot(put_strikes, put_prices, \".\", label=\"midpoint\")\n",
    "ax3.plot(put_strikes, put_prices, \".\", label=\"midpoint\")\n",
    "ax1.plot(put_strikes, merton_cf_prices, label=\"Merton\")\n",
    "ax2.plot(put_strikes, kou_cf_prices, label=\"Kou\")\n",
    "ax3.plot(put_strikes, vg_cf_prices, label=\"VG\")\n",
    "ax1.set_title(\"Merton model\")\n",
    "ax2.set_title(\"Kou model\")\n",
    "ax3.set_title(\"VG model\")\n",
    "ax1.set_xlabel(\"strike\")\n",
    "ax2.set_xlabel(\"strike\")\n",
    "ax3.set_xlabel(\"strike\")\n",
    "ax1.legend()\n",
    "ax2.legend()\n",
    "ax3.legend()\n",
    "plt.show()"
   ],
   "metadata": {
    "collapsed": false,
    "ExecuteTime": {
     "end_time": "2023-09-14T22:23:41.220975Z",
     "start_time": "2023-09-14T22:23:40.007381300Z"
    }
   }
  },
  {
   "cell_type": "markdown",
   "source": [
    "\n",
    "#### Monte Carlo option pricing"
   ],
   "metadata": {
    "collapsed": false
   }
  },
  {
   "cell_type": "code",
   "execution_count": 36,
   "outputs": [
    {
     "data": {
      "text/plain": "<Figure size 1700x400 with 3 Axes>",
      "image/png": "[encoded data removed]"
     },
     "metadata": {},
     "output_type": "display_data"
    }
   ],
   "source": [
    "fig = plt.figure(figsize=(17, 4))\n",
    "ax1 = fig.add_subplot(131)\n",
    "ax2 = fig.add_subplot(132)\n",
    "ax3 = fig.add_subplot(133)\n",
    "ax1.plot(put_strikes, put_prices, \".\", label=\"midpoint\")\n",
    "ax2.plot(put_strikes, put_prices, \".\", label=\"midpoint\")\n",
    "ax3.plot(put_strikes, put_prices, \".\", label=\"midpoint\")\n",
    "ax1.plot(put_strikes, merton_mc_prices, label=\"Merton\")\n",
    "ax2.plot(put_strikes, kou_mc_prices, label=\"Kou\")\n",
    "ax3.plot(put_strikes, vg_mc_prices, label=\"VG\")\n",
    "ax1.set_title(\"Merton model\")\n",
    "ax2.set_title(\"Kou model\")\n",
    "ax3.set_title(\"VG model\")\n",
    "ax1.set_xlabel(\"strike\")\n",
    "ax2.set_xlabel(\"strike\")\n",
    "ax3.set_xlabel(\"strike\")\n",
    "ax1.legend()\n",
    "ax2.legend()\n",
    "ax3.legend()\n",
    "plt.show()"
   ],
   "metadata": {
    "collapsed": false,
    "ExecuteTime": {
     "end_time": "2023-09-14T22:23:45.252981400Z",
     "start_time": "2023-09-14T22:23:44.679461800Z"
    }
   }
  },
  {
   "cell_type": "code",
   "execution_count": null,
   "outputs": [],
   "source": [],
   "metadata": {
    "collapsed": false
   }
  },
  {
   "cell_type": "code",
   "execution_count": null,
   "outputs": [],
   "source": [],
   "metadata": {
    "collapsed": false
   }
  }
 ],
 "metadata": {
  "kernelspec": {
   "display_name": "Python 3",
   "language": "python",
   "name": "python3"
  },
  "language_info": {
   "codemirror_mode": {
    "name": "ipython",
    "version": 2
   },
   "file_extension": ".py",
   "mimetype": "text/x-python",
   "name": "python",
   "nbconvert_exporter": "python",
   "pygments_lexer": "ipython2",
   "version": "2.7.6"
  }
 },
 "nbformat": 4,
 "nbformat_minor": 0
}
