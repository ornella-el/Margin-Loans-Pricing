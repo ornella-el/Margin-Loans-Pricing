{
 "cells": [
  {
   "cell_type": "markdown",
   "source": [
    "# Calibration of Black and Scholes, Merton, Kou, Variance Gamma parameters\n",
    "This notebook aims to find the optimal parameters of **Black-Scholes**, **Merton Jump Diffusion**, **Kou Jump Diffusion** and **Variance Gamma** models. To do so, we compute the european option prices using **closed formulas**, available for all the 4 models, and the **Fast Fourier Transform** for the VG model. Given these theoretical prices, the **implied volatilities** are computed comparing them with real market prices, minimizing their difference. Then we estimate the additional parameters of each model, using the python module `scipy.optimize`.\n",
    "\n",
    "*reference: https://github.com/cantaro86/Financial-Models-Numerical-Methods/tree/master*\n"
   ],
   "metadata": {
    "collapsed": false
   }
  },
  {
   "cell_type": "code",
   "execution_count": 1,
   "metadata": {
    "collapsed": true,
    "ExecuteTime": {
     "end_time": "2023-09-22T18:46:20.168270600Z",
     "start_time": "2023-09-22T18:46:20.105377200Z"
    }
   },
   "outputs": [],
   "source": [
    "import numpy as np\n",
    "import pandas as pd\n",
    "import matplotlib.pyplot as plt\n",
    "import random\n",
    "import scipy.optimize as scpo\n",
    "import sys\n",
    "import time\n",
    "import warnings\n",
    "sys.path.append('C:/Users\\ornel\\PycharmProjects\\Margin-Loans-Pricing/functions')\n",
    "sys.path.append('C:/Users/ornel/PycharmProjects/Margin-Loans-Pricing/calibration')\n",
    "warnings.simplefilter(action='ignore', category=FutureWarning)\n",
    "\n",
    "from MERTONpricer import Merton_pricer\n",
    "from BSpricer import BS_Pricer\n",
    "from KOUpricer import Kou_pricer\n",
    "from VGpricer import VG_pricer\n",
    "\n",
    "random.seed(110)"
   ]
  },
  {
   "cell_type": "markdown",
   "source": [
    "Let's start retrieving historical prices for **european call** and **put** options starting from date **2016-01-20** and expiring **1 year** later. All the data have been collected from [OptionsDX](https://www.optionsdx.com/shop/) and preprocessed in `plainvanilla.py` module. Only options such that the moneyness\n",
    "$$ K/S0 \\in [0.75, 1.35] $$ have been selected."
   ],
   "metadata": {
    "collapsed": false
   }
  },
  {
   "cell_type": "code",
   "execution_count": 2,
   "outputs": [
    {
     "name": "stdout",
     "output_type": "stream",
     "text": [
      "NUM OF PUT OPTS: 17\n",
      "    QUOTE_DATE  UNDERLYING_LAST EXPIRE_DATE  P_BID  P_ASK  STRIKE     P_IV  \\\n",
      "0   2016-01-20            198.7  2017-01-20  18.55  19.94   150.0  0.53022   \n",
      "1   2016-01-20            198.7  2017-01-20  20.40  21.31   155.0  0.52039   \n",
      "2   2016-01-20            198.7  2017-01-20  22.20  23.35   160.0  0.51423   \n",
      "3   2016-01-20            198.7  2017-01-20  24.55  25.80   165.0  0.51357   \n",
      "4   2016-01-20            198.7  2017-01-20  26.70  28.05   170.0  0.50896   \n",
      "5   2016-01-20            198.7  2017-01-20  27.70  30.36   175.0  0.49457   \n",
      "6   2016-01-20            198.7  2017-01-20  30.25  32.75   180.0  0.49117   \n",
      "7   2016-01-20            198.7  2017-01-20  33.89  35.30   185.0  0.49398   \n",
      "8   2016-01-20            198.7  2017-01-20  36.25  38.45   190.0  0.49128   \n",
      "9   2016-01-20            198.7  2017-01-20  39.16  40.60   195.0  0.48464   \n",
      "10  2016-01-20            198.7  2017-01-20  42.10  43.70   200.0  0.48296   \n",
      "11  2016-01-20            198.7  2017-01-20  48.00  49.64   210.0  0.47387   \n",
      "12  2016-01-20            198.7  2017-01-20  54.46  56.00   220.0  0.46666   \n",
      "13  2016-01-20            198.7  2017-01-20  61.20  63.95   230.0  0.46734   \n",
      "14  2016-01-20            198.7  2017-01-20  68.36  69.85   240.0  0.45254   \n",
      "15  2016-01-20            198.7  2017-01-20  75.66  76.64   250.0  0.44105   \n",
      "16  2016-01-20            198.7  2017-01-20  83.59  85.55   260.0  0.44536   \n",
      "\n",
      "    MONEYNESS  \n",
      "0        0.75  \n",
      "1        0.78  \n",
      "2        0.81  \n",
      "3        0.83  \n",
      "4        0.86  \n",
      "5        0.88  \n",
      "6        0.91  \n",
      "7        0.93  \n",
      "8        0.96  \n",
      "9        0.98  \n",
      "10       1.01  \n",
      "11       1.06  \n",
      "12       1.11  \n",
      "13       1.16  \n",
      "14       1.21  \n",
      "15       1.26  \n",
      "16       1.31  \n"
     ]
    }
   ],
   "source": [
    "df_put = pd.read_csv('../../data/TSLA/OPT16_TSLA_PUTS_75_135.csv')\n",
    "print(f'NUM OF PUT OPTS: {df_put.shape[0]}')\n",
    "print(df_put)\n"
   ],
   "metadata": {
    "collapsed": false,
    "ExecuteTime": {
     "end_time": "2023-09-22T18:46:20.193868300Z",
     "start_time": "2023-09-22T18:46:20.168270600Z"
    }
   }
  },
  {
   "cell_type": "markdown",
   "source": [
    "The dataframe **df_put** contains both 17 options without NaN values. Thus, we decide to use them all and look for the best parameters' estimation."
   ],
   "metadata": {
    "collapsed": false
   }
  },
  {
   "cell_type": "code",
   "execution_count": 3,
   "outputs": [],
   "source": [
    "puts = df_put.sample(frac=1, replace=False).sort_index().reset_index(drop=True)\n",
    "\n",
    "puts['P_Midpoint'] = abs(puts['P_BID'] + puts['P_ASK']) / 2\n",
    "puts['P_Spread'] = puts['P_BID'] - puts['P_ASK']\n",
    "put_prices = puts['P_Midpoint']\n",
    "#puts.to_csv('../../data/TSLA/TSLA_puts.csv', index=False)\n",
    "\n",
    "\n",
    "q = 0           # dividend yield\n",
    "r = 0.03        # risk-free interest rate\n",
    "sigma = 0.3     #volatility (variance of diffusion process)\n",
    "S0 = puts.iloc[0]['UNDERLYING_LAST']\n",
    "T = 1           # time-to-maturity\n",
    "put_strikes = puts['STRIKE']      # array of K for put options\n",
    "exercise = 'european'\n"
   ],
   "metadata": {
    "collapsed": false,
    "ExecuteTime": {
     "end_time": "2023-09-22T18:46:24.184223400Z",
     "start_time": "2023-09-22T18:46:24.147000200Z"
    }
   }
  },
  {
   "cell_type": "markdown",
   "source": [
    "The following code snippet initializes objects of class *BS_pricer*, *Merton_pricer*, *Kou_pricer*, *VG_pricer* with default values as parameters. Then it computes the theoretical put prices using closed formulas of each 4 models, with strike prices given by the *put_strikes* array. Additionally, we use the **Midpoint** price as the market price."
   ],
   "metadata": {
    "collapsed": false
   }
  },
  {
   "cell_type": "code",
   "execution_count": 4,
   "outputs": [],
   "source": [
    "BS = BS_Pricer(S0=S0, r=r, q = q, sigma=sigma, ttm=T, exercise=exercise, K=None)\n",
    "Merton = Merton_pricer(S0=S0, K=None, ttm=T, r=r, q = q, sigma=0.15, lambd=0.5, meanJ=-0.1, stdJ=0.1, exercise=exercise)\n",
    "Kou = Kou_pricer(S0=S0, K=None, ttm=T, r=r, sigma=0.15, lambd=0.5, p=0.6, eta1=12, eta2=5, exercise=exercise)\n",
    "VG = VG_pricer(S0, K=None, ttm=T, r=r, q=q, sigma=0.15, theta=-0.2, nu=0.3, exercise=exercise)"
   ],
   "metadata": {
    "collapsed": false,
    "ExecuteTime": {
     "end_time": "2023-09-22T18:46:26.223295Z",
     "start_time": "2023-09-22T18:46:26.176281200Z"
    }
   }
  },
  {
   "cell_type": "markdown",
   "source": [
    "The theoretical put prices with given parameters are computed below. "
   ],
   "metadata": {
    "collapsed": false
   }
  },
  {
   "cell_type": "code",
   "execution_count": 5,
   "outputs": [
    {
     "name": "stdout",
     "output_type": "stream",
     "text": [
      "Theoretical put options prices:\n",
      "    Strike   Price BlackScholes     Merton        Kou VarianceGamma\n",
      "0    150.0  19.245     3.929659   0.778865   1.482643      0.175632\n",
      "1    155.0  20.855     4.913446   1.102963   1.841543      0.341115\n",
      "2    160.0  22.775     6.050901   1.532207   2.294327      0.626665\n",
      "3    165.0  25.175     7.349092   2.089948    2.86552      1.086948\n",
      "4    170.0  27.375     8.813402   2.801224   3.582437      1.777988\n",
      "5    175.0  29.030    10.447508   3.691752   4.473742      2.746041\n",
      "6    180.0  31.500    12.253427   4.786674   5.567645      4.021194\n",
      "7    185.0  34.595    14.231597   6.109153   6.889974      5.616897\n",
      "8    190.0  37.350     16.38099   7.678992    8.46238        7.5326\n",
      "9    195.0  39.880    18.699255   9.511419  10.300906      9.757354\n",
      "10   200.0  42.900    21.182872  11.616195  12.415066     12.273247\n",
      "11   210.0  48.820    26.627231  16.651981   17.47429     18.088484\n",
      "12   220.0  55.230     32.66877  22.747208   23.58631     24.787991\n",
      "13   230.0  62.575    39.253732  29.785833  30.620601     32.189181\n",
      "14   240.0  69.105    46.324244    37.6058  38.407569     40.135049\n",
      "15   250.0  76.150    53.821795  46.032037  46.773193     48.498229\n",
      "16   260.0  84.570    61.689824  54.902071   55.56232     57.178813\n"
     ]
    }
   ],
   "source": [
    "put_th_prices = pd.DataFrame(columns=['Strike','Price', 'BlackScholes', 'Merton', 'Kou', 'VarianceGamma'])\n",
    "put_th_prices['Strike'] = put_strikes\n",
    "put_th_prices['Price'] = put_prices\n",
    "\n",
    "for i, K in enumerate(put_strikes):\n",
    "    bs = BS.closed_formula_put(K)\n",
    "    mert = Merton.closed_formula_put(K)\n",
    "    kou = Kou.closed_formula_put(K)\n",
    "    vg = VG.closed_formula_put(K)\n",
    "    put_th_prices.iloc[i, 2:] = [bs, mert, kou, vg]\n",
    "\n",
    "print(f'Theoretical put options prices:')\n",
    "print(put_th_prices)"
   ],
   "metadata": {
    "collapsed": false,
    "ExecuteTime": {
     "end_time": "2023-09-22T18:46:36.211864400Z",
     "start_time": "2023-09-22T18:46:27.517716300Z"
    }
   }
  },
  {
   "cell_type": "markdown",
   "source": [
    "## Implied volatility\n",
    "The function belows implements $3$ methods to compute implied volatility: [Newton](https://en.wikipedia.org/wiki/Newton%27s_method) method, the [Bisection](https://en.wikipedia.org/wiki/Bisection_method) method and a more advanced one, named [Brent](https://en.wikipedia.org/wiki/Brent%27s_method) method. Apart from the initial guess, there is no substantial difference in the final result between **Newton** and **bisection** methods (*fsolve*). The **Implied Volatility** is that value $\\sigma$ that must be inserted into the Black-Scholes (BS) formula in order to retrieve the option price quoted in the market:\n",
    "    $$ BS(S, K, T, r, \\sigma) = P,  $$\n",
    "where $S$ is the underlying spot price, $K$ is the strike, $T$ time to maturity, $r$ risk-free interest rate and $P$ the option price quoted in the market. All these quantities are **observable**.\n",
    "   "
   ],
   "metadata": {
    "collapsed": false
   }
  },
  {
   "cell_type": "code",
   "execution_count": 6,
   "outputs": [],
   "source": [
    "def implied_volatility(price, S, strike, t, rate, q, type_o, method='fsolve', disp=True ):\n",
    "    \"\"\" Returns Implied volatility\n",
    "        methods:  fsolve (default) or brent\n",
    "    \"\"\"\n",
    "\n",
    "    def obj_fun(vol):\n",
    "        return BS.BlackScholes(type_o=type_o, S0=S, K=strike, ttm=t, r=rate, q=q, sigma=vol) - price\n",
    "\n",
    "    def vega(vol):\n",
    "        return BS.vega(S, strike, rate, q, vol, t)\n",
    "\n",
    "    if method =='fsolve':\n",
    "        X0 = [0.01, 0.2, 0.35, 7]        #initial guess points for imp.vol.\n",
    "        for x_0 in X0:\n",
    "            x, _, solved, _ = scpo.fsolve(obj_fun, x_0, full_output=True, xtol=1e-8)\n",
    "            if solved == 1:\n",
    "                return x[0]\n",
    "\n",
    "    if disp:\n",
    "        return -1"
   ],
   "metadata": {
    "collapsed": false,
    "ExecuteTime": {
     "end_time": "2023-09-22T18:46:36.211864400Z",
     "start_time": "2023-09-22T18:46:36.180254300Z"
    }
   }
  },
  {
   "cell_type": "markdown",
   "source": [
    "The following code snippet computes the implied volatility of **put** options market prices with BS inversion, i.e. using the Black-Scholes formula on given market prices to find the best fitting $\\sigma$ for each option contract."
   ],
   "metadata": {
    "collapsed": false
   }
  },
  {
   "cell_type": "code",
   "execution_count": 7,
   "outputs": [
    {
     "name": "stdout",
     "output_type": "stream",
     "text": [
      "Implied volatilities of market prices (puts):\n",
      "S0 = 198.7\n",
      "K = 150.0, IV = 0.5305\n",
      "K = 155.0, IV = 0.5205\n",
      "K = 160.0, IV = 0.5142\n",
      "K = 165.0, IV = 0.514\n",
      "K = 170.0, IV = 0.509\n",
      "K = 175.0, IV = 0.4946\n"
     ]
    },
    {
     "data": {
      "text/plain": "<Figure size 1000x500 with 1 Axes>",
      "image/png": "[encoded data removed]"
     },
     "metadata": {},
     "output_type": "display_data"
    }
   ],
   "source": [
    "IV_market_p = []\n",
    "for i in range(len(put_prices)):\n",
    "    IV_market_p.append(implied_volatility(put_prices[i], S=S0, strike=put_strikes[i], t = T, rate=0.02, q = 0.08, type_o='put', method='fsolve'))\n",
    "\n",
    "print(f'Implied volatilities of market prices (puts):\\nS0 = {S0}')\n",
    "for a,b in zip(put_strikes.head(6), IV_market_p[:6]):\n",
    "    print(f'K = {a}, IV = {round(b, 4)}')\n",
    "\n",
    "# Plot market implied volatilities w.r.t. log moneyness\n",
    "x = (S0/put_strikes)\n",
    "IV_filtered = [iv for iv in IV_market_p if iv != -1]\n",
    "x_filtered = [log_m for iv, log_m in zip(IV_market_p, x) if iv != -1]\n",
    "puts_filtered = [p_iv for iv, p_iv in zip(IV_market_p, puts['P_IV']) if iv != -1 ]\n",
    "\n",
    "fig, ax1 = plt.subplots(figsize=(10,5))\n",
    "ax1.scatter(x_filtered, IV_filtered, marker='x', label='BS inversion', color='red')\n",
    "ax1.scatter(x_filtered, puts_filtered, marker='.', label='provided')\n",
    "ax1.set_xlabel('Moneyness: S0/K'); ax1.set_ylabel('Implied Volatility'); ax1.set_title('Puts volatility smile')\n",
    "ax1.legend(); plt.show()\n"
   ],
   "metadata": {
    "collapsed": false,
    "ExecuteTime": {
     "end_time": "2023-09-22T18:46:36.594665400Z",
     "start_time": "2023-09-22T18:46:36.196225600Z"
    }
   }
  },
  {
   "cell_type": "markdown",
   "source": [
    "##  Weighted Calibration (call options)\n",
    "Let's step now into the calibration of model parameters.\n",
    "If we define $\\Theta$ the set of parameters, the goal is to find the optimal parameters $\\Theta^*$ that minimize the following objective function:\n",
    "$$ \\sum_{i=1}^{N} w_i \\biggl( P_i - f(K_i|\\Theta) \\biggr)^2 $$\n",
    "where $w_i$ are weights, usually defined as\n",
    "$$ w_i = \\frac{1}{\\text {spread}_i^2 },$$ $P_i$ are the market prices and $f$ is the pricing function. In our case $f$ is given by **Merton** Jump Diffusion model, **Kou** Jump Diffusion model, or **Variance Gamma** process. To perform this optimization problem, many numerical methods can be used. In particular, we test two functions of `scipy.optimize`:\n",
    "1. **curve_fit**, a least-squares curve fitting method which works with bounds. The default algorithm is [Trust Region Reflective (trf)](https://en.wikipedia.org/wiki/Trust_region). The [Levemberg-Marquadt](https://en.wikipedia.org/wiki/Levenberg%E2%80%93Marquardt_algorithm) has been tried as well, to test the optimization problem without setting boundaries, but the results don't make any sense.\n",
    "2. **Least-Squares**, a constrained minimization problem which uses Trust region reflective method by default. This method is the most indicated to solve the non-linear least squares optimization problem of our purpose.\n",
    "All the optimizations are carried out by initializing a starting point as the array $x_0 = [params]$ and setting feasible bounds.\n"
   ],
   "metadata": {
    "collapsed": false
   }
  },
  {
   "cell_type": "code",
   "execution_count": 8,
   "outputs": [],
   "source": [
    "put_spreads = puts['P_Spread']\n",
    "p_weights = 1 / put_spreads**2"
   ],
   "metadata": {
    "collapsed": false,
    "ExecuteTime": {
     "end_time": "2023-09-22T18:46:36.621726700Z",
     "start_time": "2023-09-22T18:46:36.587273600Z"
    }
   }
  },
  {
   "cell_type": "markdown",
   "source": [
    "### Black and Scholes model\n",
    "The only unknown parameter to calibrate in Black and Scholes model is the **implied volatility**, $\\sigma$. Thus, we minimize the difference between the computed theoretical prices and the market prices of call options."
   ],
   "metadata": {
    "collapsed": false
   }
  },
  {
   "cell_type": "code",
   "execution_count": 9,
   "outputs": [],
   "source": [
    "x0 = 0.5\n",
    "bounds = [1e-5, 2]\n",
    "\n",
    "def f_BlackScholes_puts(x, sigm):\n",
    "    BS = BS_Pricer(S0=S0, K = x, ttm=T, r=r, q=0, sigma=sigm, exercise=exercise)\n",
    "    return BS.closed_formula_put(x)\n",
    "\n",
    "res1_puts = scpo.curve_fit(f_BlackScholes_puts, put_strikes, put_prices, p0 = x0, bounds=bounds, sigma=p_weights)\n",
    "sigw_p = round(res1_puts[0][0],4)"
   ],
   "metadata": {
    "collapsed": false,
    "ExecuteTime": {
     "end_time": "2023-09-22T18:46:36.647867800Z",
     "start_time": "2023-09-22T18:46:36.600672600Z"
    }
   }
  },
  {
   "cell_type": "code",
   "execution_count": 10,
   "outputs": [
    {
     "name": "stdout",
     "output_type": "stream",
     "text": [
      "`ftol` termination condition is satisfied.\n",
      "Function evaluations 24, initial cost 5.3492e+04, final cost 1.0365e+00, first-order optimality 1.67e-03.\n"
     ]
    }
   ],
   "source": [
    "def cost_function(x, strikes, mkt_prices):\n",
    "    sigma = x\n",
    "    BS = BS_Pricer(S0=S0, K = None, ttm=T, r=r, q=0, sigma=sigma, exercise=exercise)\n",
    "    sq_err = np.sum( p_weights* (BS.closed_formula_put(strikes) - mkt_prices)**2)\n",
    "    return sq_err\n",
    "\n",
    "result_p = scpo.least_squares(cost_function, x0, args=(put_strikes, put_prices), bounds=bounds, method = 'trf', verbose=1)\n",
    "opt_sigma_p = result_p.x[0]"
   ],
   "metadata": {
    "collapsed": false,
    "ExecuteTime": {
     "end_time": "2023-09-22T18:46:36.741862400Z",
     "start_time": "2023-09-22T18:46:36.621726700Z"
    }
   }
  },
  {
   "cell_type": "code",
   "execution_count": 11,
   "outputs": [
    {
     "name": "stdout",
     "output_type": "stream",
     "text": [
      "METHOD 1: CURVE_FIT (trf)\n",
      "> Calibrated Volatility from Calls [σ] = 0.5883 \t 58.83%\n",
      "METHOD 2: LEAST-SQUARES (trf)\n",
      "> Calibrated Volatility from Calls [σ] = 0.5903386230196411 \t 59.03%\n"
     ]
    }
   ],
   "source": [
    "print('METHOD 1: CURVE_FIT (trf)')\n",
    "print(f'> Calibrated Volatility from Calls [σ] = {sigw_p} \\t {round(sigw_p*100,2)}%')\n",
    "print('METHOD 2: LEAST-SQUARES (trf)')\n",
    "print(f'> Calibrated Volatility from Calls [σ] = {opt_sigma_p} \\t {round(opt_sigma_p*100,2)}%')"
   ],
   "metadata": {
    "collapsed": false,
    "ExecuteTime": {
     "end_time": "2023-09-22T18:46:39.266800800Z",
     "start_time": "2023-09-22T18:46:39.234936100Z"
    }
   }
  },
  {
   "cell_type": "code",
   "execution_count": 12,
   "outputs": [
    {
     "name": "stdout",
     "output_type": "stream",
     "text": [
      "Stored 'puts_bs_params_tsla' (float64)\n"
     ]
    }
   ],
   "source": [
    "puts_bs_params_tsla = opt_sigma_p\n",
    "%store puts_bs_params_tsla"
   ],
   "metadata": {
    "collapsed": false,
    "ExecuteTime": {
     "end_time": "2023-09-22T18:46:40.369094500Z",
     "start_time": "2023-09-22T18:46:40.337725500Z"
    }
   }
  },
  {
   "cell_type": "markdown",
   "source": [
    "### Merton Jump Diffusion\n",
    "The Merton Jump diffusion ones are the volatility $\\sigma$, the Poisson rate of jumps $\\lambda$, the mean rate of jump intensity $m$ and its variance rate $v$, assuming that the intensity of jumps follows a *Normal distribution*.\n"
   ],
   "metadata": {
    "collapsed": false
   }
  },
  {
   "cell_type": "code",
   "execution_count": 14,
   "outputs": [],
   "source": [
    "x0 = [0.2145,  0.8, -0.05,  0.01]  # initial guess: [σ, λ, m, v]\n",
    "bounds = ( [0.01, 1e-2, -2, 1e-5], [0.9, 5, 2, 2] )"
   ],
   "metadata": {
    "collapsed": false,
    "ExecuteTime": {
     "end_time": "2023-09-22T18:46:54.395330900Z",
     "start_time": "2023-09-22T18:46:54.363511600Z"
    }
   }
  },
  {
   "cell_type": "code",
   "execution_count": 15,
   "outputs": [],
   "source": [
    "def f_Mert(x, sigma, lambd, meanJ, stdJ):\n",
    "    Mert = Merton_pricer(S0=S0, K=x, ttm=T, r=r, q=0, sigma=sigma, lambd=lambd, meanJ=meanJ, stdJ=stdJ, exercise=exercise)\n",
    "    return Mert.closed_formula_put(x)\n",
    "\n",
    "start1=time.time()\n",
    "mert1 = scpo.curve_fit(f_Mert, put_strikes, put_prices, p0=x0, bounds=bounds, sigma=put_spreads)\n",
    "end1=time.time()\n",
    "\n",
    "mert_params1 = [round(p,4) for p in mert1[0][:4]]"
   ],
   "metadata": {
    "collapsed": false,
    "ExecuteTime": {
     "end_time": "2023-09-22T18:47:47.037029600Z",
     "start_time": "2023-09-22T18:46:56.373349200Z"
    }
   }
  },
  {
   "cell_type": "markdown",
   "source": [
    "##### Method 2. Least-squares"
   ],
   "metadata": {
    "collapsed": false
   }
  },
  {
   "cell_type": "code",
   "execution_count": 16,
   "outputs": [
    {
     "name": "stdout",
     "output_type": "stream",
     "text": [
      "   Iteration     Total nfev        Cost      Cost reduction    Step norm     Optimality   \n",
      "       0              1         1.2282e+07                                    7.44e+07    \n",
      "       1              2         5.0268e+02      1.23e+07       7.87e-01       3.84e+04    \n",
      "       2              6         3.6044e+02      1.42e+02       2.14e-02       5.18e+03    \n",
      "       3              8         3.4105e+02      1.94e+01       3.81e-03       3.25e+03    \n",
      "       4              9         3.2494e+02      1.61e+01       3.68e-03       3.00e+03    \n",
      "       5             10         2.9443e+02      3.05e+01       7.25e-03       3.10e+03    \n",
      "       6             11         2.4000e+02      5.44e+01       1.51e-02       2.40e+03    \n",
      "       7             12         1.7341e+02      6.66e+01       2.71e-02       1.02e+04    \n",
      "       8             14         1.4888e+02      2.45e+01       1.06e-02       1.91e+03    \n",
      "       9             15         1.4121e+02      7.67e+00       6.44e-03       6.52e+03    \n",
      "      10             16         1.2930e+02      1.19e+01       1.07e-02       2.55e+03    \n",
      "      11             17         1.2692e+02      2.38e+00       7.44e-03       7.00e+03    \n",
      "      12             18         1.1928e+02      7.64e+00       2.65e-03       5.02e+03    \n",
      "      13             19         1.1086e+02      8.42e+00       5.38e-03       1.82e+03    \n",
      "      14             20         1.0391e+02      6.95e+00       4.06e-03       1.84e+03    \n",
      "      15             21         9.0975e+01      1.29e+01       8.38e-03       1.55e+03    \n",
      "      16             22         6.9891e+01      2.11e+01       1.62e-02       2.75e+03    \n",
      "      17             24         6.4103e+01      5.79e+00       1.08e-02       2.34e+03    \n",
      "      18             25         6.3985e+01      1.18e-01       7.89e-03       4.44e+03    \n",
      "      19             26         5.8814e+01      5.17e+00       2.53e-03       3.32e+03    \n",
      "      20             27         5.2906e+01      5.91e+00       5.24e-03       1.55e+03    \n",
      "      21             28         4.8890e+01      4.02e+00       4.95e-03       1.02e+03    \n",
      "      22             29         4.3319e+01      5.57e+00       8.34e-03       2.37e+03    \n",
      "      23             30         3.8593e+01      4.73e+00       1.05e-02       1.81e+03    \n",
      "      24             32         3.6042e+01      2.55e+00       2.02e-03       8.23e+02    \n",
      "      25             33         3.4457e+01      1.58e+00       2.11e-03       1.20e+03    \n",
      "      26             34         3.1406e+01      3.05e+00       5.09e-03       9.02e+02    \n",
      "      27             35         2.6974e+01      4.43e+00       9.11e-03       1.61e+03    \n",
      "      28             36         2.3633e+01      3.34e+00       1.04e-02       1.45e+03    \n",
      "      29             38         2.1763e+01      1.87e+00       2.08e-03       6.82e+02    \n",
      "      30             39         2.0659e+01      1.10e+00       2.26e-03       9.05e+02    \n",
      "      31             40         1.8575e+01      2.08e+00       5.29e-03       6.42e+02    \n",
      "      32             41         1.6811e+01      1.76e+00       9.26e-03       1.33e+03    \n",
      "      33             42         1.3471e+01      3.34e+00       9.23e-03       8.42e+02    \n",
      "      34             44         1.2474e+01      9.97e-01       2.15e-03       5.97e+02    \n",
      "      35             45         1.1698e+01      7.76e-01       2.60e-03       5.85e+02    \n",
      "      36             46         1.0256e+01      1.44e+00       5.28e-03       5.16e+02    \n",
      "      37             47         7.8647e+00      2.39e+00       1.04e-02       5.05e+02    \n",
      "      38             48         7.0363e+00      8.28e-01       2.11e-02       1.57e+03    \n",
      "      39             49         4.3530e+00      2.68e+00       4.39e-03       2.45e+02    \n",
      "      40             50         4.1269e+00      2.26e-01       4.89e-03       3.36e+02    \n",
      "      41             51         3.4280e+00      6.99e-01       4.09e-03       2.11e+02    \n",
      "      42             52         3.1399e+00      2.88e-01       5.07e-03       2.49e+02    \n",
      "      43             53         2.6610e+00      4.79e-01       4.11e-03       1.64e+02    \n",
      "      44             55         2.5501e+00      1.11e-01       1.21e-03       1.76e+02    \n",
      "      45             56         2.4425e+00      1.08e-01       1.34e-03       1.66e+02    \n",
      "      46             57         2.2402e+00      2.02e-01       2.67e-03       1.55e+02    \n",
      "      47             58         1.8902e+00      3.50e-01       5.34e-03       1.25e+02    \n",
      "      48             60         1.7851e+00      1.05e-01       2.54e-03       1.30e+02    \n",
      "      49             61         1.6327e+00      1.52e-01       2.22e-03       1.11e+02    \n",
      "      50             62         1.5092e+00      1.24e-01       2.64e-03       1.06e+02    \n",
      "      51             63         1.3236e+00      1.86e-01       4.92e-03       1.36e+02    \n",
      "      52             65         1.2580e+00      6.56e-02       1.16e-03       8.45e+01    \n",
      "      53             66         1.2058e+00      5.23e-02       1.31e-03       7.99e+01    \n",
      "      54             67         1.1098e+00      9.60e-02       2.65e-03       7.23e+01    \n",
      "      55             68         9.5645e-01      1.53e-01       5.19e-03       6.64e+01    \n",
      "      56             71         9.3446e-01      2.20e-02       6.02e-04       5.74e+01    \n",
      "      57             72         9.1639e-01      1.81e-02       6.61e-04       5.57e+01    \n",
      "      58             73         8.8176e-01      3.46e-02       1.32e-03       5.27e+01    \n",
      "      59             74         8.2047e-01      6.13e-02       2.64e-03       4.59e+01    \n",
      "      60             75         7.5350e-01      6.70e-02       4.80e-03       1.09e+02    \n",
      "      61             77         7.1382e-01      3.97e-02       1.15e-03       3.53e+01    \n",
      "      62             78         6.9180e-01      2.20e-02       1.19e-03       3.48e+01    \n",
      "      63             79         6.7686e-01      1.49e-02       2.60e-03       2.47e+01    \n",
      "      64             80         6.4339e-01      3.35e-02       1.44e-03       5.05e+01    \n",
      "      65             82         6.3201e-01      1.14e-02       5.90e-04       2.71e+01    \n",
      "      66             83         6.2312e-01      8.89e-03       6.25e-04       2.67e+01    \n",
      "      67             84         6.0649e-01      1.66e-02       1.30e-03       2.41e+01    \n",
      "      68             85         5.7932e-01      2.72e-02       2.49e-03       2.73e+01    \n",
      "      69             88         5.7519e-01      4.14e-03       3.04e-04       2.05e+01    \n",
      "      70             89         5.7184e-01      3.35e-03       3.22e-04       1.99e+01    \n",
      "      71             90         5.6537e-01      6.47e-03       6.37e-04       1.92e+01    \n",
      "      72             91         5.5386e-01      1.15e-02       1.29e-03       1.60e+01    \n",
      "      73             92         5.4545e-01      8.41e-03       2.18e-03       5.81e+01    \n",
      "      74             94         5.3345e-01      1.20e-02       5.75e-04       1.39e+01    \n",
      "      75             95         5.2885e-01      4.60e-03       6.23e-04       1.36e+01    \n",
      "      76             96         5.2343e-01      5.41e-03       1.28e-03       8.45e+00    \n",
      "      77             97         5.1966e-01      3.77e-03       7.14e-04       3.26e+01    \n",
      "      78             98         5.1574e-01      3.92e-03       2.92e-04       1.12e+01    \n",
      "      79             99         5.1412e-01      1.63e-03       3.17e-04       9.64e+00    \n",
      "      80             100        5.1101e-01      3.10e-03       5.32e-04       1.08e+01    \n",
      "      81             102        5.1003e-01      9.86e-04       3.11e-04       8.08e+00    \n",
      "      82             103        5.0823e-01      1.79e-03       2.24e-04       9.19e+00    \n",
      "      83             104        5.0507e-01      3.16e-03       6.08e-04       8.25e+00    \n",
      "      84             105        5.0014e-01      4.93e-03       1.17e-03       1.48e+01    \n",
      "      85             108        4.9921e-01      9.33e-04       1.50e-04       6.95e+00    \n",
      "      86             109        4.9857e-01      6.34e-04       1.49e-04       6.54e+00    \n",
      "      87             110        4.9738e-01      1.19e-03       2.82e-04       6.71e+00    \n",
      "      88             111        4.9715e-01      2.33e-04       6.13e-04       6.59e+00    \n",
      "      89             112        4.9579e-01      1.36e-03       7.77e-05       4.90e+00    \n",
      "      90             113        4.9429e-01      1.49e-03       1.68e-04       5.46e+00    \n",
      "      91             114        4.9322e-01      1.07e-03       2.79e-04       5.17e+00    \n",
      "      92             115        4.9125e-01      1.97e-03       5.61e-04       4.04e+00    \n",
      "      93             117        4.9048e-01      7.79e-04       2.29e-04       7.09e+00    \n",
      "      94             119        4.9021e-01      2.67e-04       7.57e-05       4.19e+00    \n",
      "      95             120        4.8998e-01      2.27e-04       6.76e-05       4.02e+00    \n",
      "      96             121        4.8954e-01      4.46e-04       1.29e-04       3.96e+00    \n",
      "      97             122        4.8870e-01      8.40e-04       2.67e-04       3.26e+00    \n",
      "      98             123        4.8804e-01      6.52e-04       4.38e-04       1.70e+01    \n",
      "      99             125        4.8709e-01      9.54e-04       1.47e-04       3.30e+00    \n",
      "      100            126        4.8679e-01      2.95e-04       1.40e-04       2.45e+00    \n",
      "      101            127        4.8642e-01      3.77e-04       9.17e-05       3.06e+00    \n",
      "      102            128        4.8613e-01      2.82e-04       1.38e-04       2.44e+00    \n",
      "      103            129        4.8577e-01      3.64e-04       8.91e-05       3.04e+00    \n",
      "      104            130        4.8551e-01      2.57e-04       1.38e-04       2.49e+00    \n",
      "      105            131        4.8515e-01      3.60e-04       8.57e-05       2.97e+00    \n",
      "      106            132        4.8491e-01      2.46e-04       1.36e-04       2.48e+00    \n",
      "      107            133        4.8456e-01      3.49e-04       8.37e-05       3.06e+00    \n",
      "      108            134        4.8433e-01      2.24e-04       1.36e-04       2.53e+00    \n",
      "      109            135        4.8399e-01      3.48e-04       8.12e-05       2.97e+00    \n",
      "      110            136        4.8377e-01      2.18e-04       1.35e-04       2.51e+00    \n",
      "      111            137        4.8343e-01      3.38e-04       7.99e-05       3.08e+00    \n",
      "      112            138        4.8323e-01      1.96e-04       1.35e-04       2.56e+00    \n",
      "      113            139        4.8289e-01      3.40e-04       7.82e-05       2.95e+00    \n",
      "      114            140        4.8270e-01      1.96e-04       1.33e-04       2.52e+00    \n",
      "      115            141        4.8237e-01      3.29e-04       7.74e-05       3.10e+00    \n",
      "      116            142        4.8220e-01      1.72e-04       1.34e-04       2.59e+00    \n",
      "      117            143        4.8186e-01      3.37e-04       7.62e-05       2.90e+00    \n",
      "      118            144        4.8168e-01      1.82e-04       1.31e-04       2.52e+00    \n",
      "      119            145        4.8136e-01      3.21e-04       7.58e-05       3.16e+00    \n",
      "      120            146        4.8121e-01      1.49e-04       1.33e-04       2.62e+00    \n",
      "      121            147        4.8087e-01      3.37e-04       7.51e-05       2.80e+00    \n",
      "      122            148        4.8069e-01      1.78e-04       1.28e-04       2.48e+00    \n",
      "      123            149        4.8038e-01      3.09e-04       7.50e-05       3.31e+00    \n",
      "      124            150        4.8026e-01      1.22e-04       1.34e-04       2.68e+00    \n",
      "      125            151        4.7992e-01      3.45e-04       7.47e-05       2.58e+00    \n",
      "      126            152        4.7973e-01      1.89e-04       1.24e-04       2.39e+00    \n",
      "      127            153        4.7944e-01      2.87e-04       7.46e-05       3.66e+00    \n",
      "      128            154        4.7936e-01      8.12e-05       1.37e-04       2.78e+00    \n",
      "      129            155        4.7923e-01      1.31e-04       1.87e-05       2.39e+00    \n",
      "      130            156        4.7904e-01      1.90e-04       3.72e-05       1.64e+00    \n",
      "      131            157        4.7882e-01      2.14e-04       7.69e-05       5.15e+00    \n",
      "      132            158        4.7880e-01      2.08e-05       1.45e-04       2.94e+00    \n",
      "      133            159        4.7866e-01      1.41e-04       1.88e-05       2.54e+00    \n",
      "      134            160        4.7846e-01      2.06e-04       3.73e-05       1.76e+00    \n",
      "      135            161        4.7825e-01      2.08e-04       7.49e-05       5.23e+00    \n",
      "      136            162        4.7823e-01      1.63e-05       1.45e-04       2.94e+00    \n",
      "      137            163        4.7809e-01      1.41e-04       1.88e-05       2.54e+00    \n",
      "      138            164        4.7788e-01      2.06e-04       3.74e-05       1.76e+00    \n",
      "      139            165        4.7768e-01      2.04e-04       7.43e-05       5.27e+00    \n",
      "      140            166        4.7767e-01      1.26e-05       1.45e-04       2.94e+00    \n",
      "      141            167        4.7753e-01      1.41e-04       1.89e-05       2.53e+00    \n",
      "      142            168        4.7732e-01      2.06e-04       3.74e-05       1.75e+00    \n",
      "      143            169        4.7712e-01      2.01e-04       7.39e-05       5.31e+00    \n",
      "      144            170        4.7711e-01      9.76e-06       1.45e-04       2.93e+00    \n",
      "      145            171        4.7697e-01      1.42e-04       1.89e-05       2.53e+00    \n",
      "      146            172        4.7676e-01      2.06e-04       3.75e-05       1.75e+00    \n",
      "      147            173        4.7656e-01      1.99e-04       7.37e-05       5.35e+00    \n",
      "      148            174        4.7656e-01      7.46e-06       1.45e-04       2.93e+00    \n",
      "      149            175        4.7641e-01      1.42e-04       1.90e-05       2.53e+00    \n",
      "      150            176        4.7621e-01      2.06e-04       3.76e-05       1.75e+00    \n",
      "      151            177        4.7601e-01      1.96e-04       7.36e-05       5.38e+00    \n",
      "      152            178        4.7601e-01      5.61e-06       1.45e-04       2.93e+00    \n",
      "      153            179        4.7586e-01      1.42e-04       1.90e-05       2.52e+00    \n",
      "      154            180        4.7566e-01      2.06e-04       3.78e-05       1.74e+00    \n",
      "      155            181        4.7546e-01      1.94e-04       7.36e-05       5.40e+00    \n",
      "      156            182        4.7546e-01      4.12e-06       1.45e-04       2.92e+00    \n",
      "      157            183        4.7532e-01      1.42e-04       1.91e-05       2.52e+00    \n",
      "      158            184        4.7511e-01      2.05e-04       3.79e-05       1.74e+00    \n",
      "      159            185        4.7492e-01      1.93e-04       7.36e-05       5.42e+00    \n",
      "      160            186        4.7492e-01      2.90e-06       1.45e-04       2.92e+00    \n",
      "      161            187        4.7478e-01      1.42e-04       1.92e-05       2.51e+00    \n",
      "      162            188        4.7457e-01      2.05e-04       3.80e-05       1.73e+00    \n",
      "      163            189        4.7438e-01      1.92e-04       7.37e-05       5.43e+00    \n",
      "      164            190        4.7438e-01      1.91e-06       1.45e-04       2.91e+00    \n",
      "      165            191        4.7424e-01      1.42e-04       1.92e-05       2.51e+00    \n",
      "      166            192        4.7403e-01      2.05e-04       3.81e-05       1.73e+00    \n",
      "      167            193        4.7384e-01      1.90e-04       7.38e-05       5.45e+00    \n",
      "      168            194        4.7384e-01      1.11e-06       1.45e-04       2.91e+00    \n",
      "      169            195        4.7370e-01      1.42e-04       1.93e-05       2.51e+00    \n",
      "      170            196        4.7349e-01      2.05e-04       3.82e-05       1.73e+00    \n",
      "      171            197        4.7330e-01      1.90e-04       7.40e-05       5.46e+00    \n",
      "      172            198        4.7330e-01      4.62e-07       1.45e-04       2.91e+00    \n",
      "      173            199        4.7316e-01      1.42e-04       1.93e-05       2.50e+00    \n",
      "      174            200        4.7296e-01      2.05e-04       3.83e-05       1.72e+00    \n",
      "      175            201        4.7277e-01      1.89e-04       7.42e-05       5.47e+00    \n",
      "      176            203        4.7267e-01      9.45e-05       3.63e-05       2.48e+00    \n",
      "      177            204        4.7256e-01      1.17e-04       5.96e-05       1.69e+00    \n",
      "      178            205        4.7237e-01      1.87e-04       7.42e-05       5.51e+00    \n",
      "      179            206        4.7237e-01      6.47e-08       1.45e-04       2.90e+00    \n",
      "      180            207        4.7223e-01      1.42e-04       1.94e-05       2.49e+00    \n",
      "      181            208        4.7202e-01      2.05e-04       3.85e-05       1.71e+00    \n",
      "      182            209        4.7183e-01      1.88e-04       7.45e-05       5.48e+00    \n",
      "      183            211        4.7174e-01      9.46e-05       3.63e-05       2.49e+00    \n",
      "      184            212        4.7167e-01      6.64e-05       2.99e-05       1.38e+00    \n",
      "      185            213        4.7154e-01      1.34e-04       4.17e-05       1.52e+00    \n",
      "      186            214        4.7128e-01      2.60e-04       9.66e-05       1.61e+00    \n",
      "      187            215        4.7115e-01      1.30e-04       1.49e-04       1.14e+01    \n",
      "      188            216        4.7079e-01      3.57e-04       7.35e-05       4.43e+00    \n",
      "      189            217        4.7069e-01      1.06e-04       7.07e-05       1.77e+00    \n",
      "      190            218        4.7056e-01      1.31e-04       3.77e-05       2.20e+00    \n",
      "      191            219        4.7036e-01      2.00e-04       1.14e-04       2.13e+00    \n",
      "      192            220        4.7012e-01      2.36e-04       7.69e-05       4.47e+00    \n",
      "      193            221        4.7012e-01      2.37e-06       1.42e-04       2.87e+00    \n",
      "      194            222        4.6998e-01      1.41e-04       1.96e-05       2.47e+00    \n",
      "      195            223        4.6977e-01      2.03e-04       3.89e-05       1.69e+00    \n",
      "      196            224        4.6959e-01      1.85e-04       7.53e-05       5.51e+00    \n",
      "      197            226        4.6949e-01      9.49e-05       3.63e-05       2.51e+00    \n",
      "      198            227        4.6943e-01      6.62e-05       3.01e-05       1.37e+00    \n",
      "      199            228        4.6929e-01      1.33e-04       4.20e-05       1.52e+00    \n",
      "      200            229        4.6904e-01      2.59e-04       9.71e-05       1.61e+00    \n",
      "      201            230        4.6891e-01      1.24e-04       1.50e-04       1.14e+01    \n",
      "      202            231        4.6855e-01      3.58e-04       7.35e-05       4.47e+00    \n",
      "      203            232        4.6845e-01      1.06e-04       7.09e-05       1.76e+00    \n",
      "      204            233        4.6832e-01      1.31e-04       3.80e-05       2.22e+00    \n",
      "      205            234        4.6812e-01      1.98e-04       1.14e-04       2.12e+00    \n",
      "      206            235        4.6788e-01      2.36e-04       7.75e-05       4.44e+00    \n",
      "      207            236        4.6788e-01      2.40e-06       1.42e-04       2.86e+00    \n",
      "      208            237        4.6774e-01      1.40e-04       1.97e-05       2.46e+00    \n",
      "      209            238        4.6754e-01      2.03e-04       3.91e-05       1.68e+00    \n",
      "      210            239        4.6735e-01      1.84e-04       7.59e-05       5.52e+00    \n",
      "      211            241        4.6726e-01      9.49e-05       3.63e-05       2.52e+00    \n",
      "      212            242        4.6719e-01      6.60e-05       3.01e-05       1.36e+00    \n",
      "      213            243        4.6706e-01      1.33e-04       4.22e-05       1.52e+00    \n",
      "      214            244        4.6680e-01      2.58e-04       9.75e-05       1.60e+00    \n",
      "      215            245        4.6668e-01      1.22e-04       1.51e-04       1.14e+01    \n",
      "      216            246        4.6632e-01      3.59e-04       7.34e-05       4.49e+00    \n",
      "      217            247        4.6621e-01      1.06e-04       7.09e-05       1.75e+00    \n",
      "      218            248        4.6608e-01      1.30e-04       3.83e-05       2.22e+00    \n",
      "      219            249        4.6589e-01      1.97e-04       1.14e-04       2.12e+00    \n",
      "      220            250        4.6565e-01      2.37e-04       7.80e-05       4.43e+00    \n",
      "      221            251        4.6565e-01      2.48e-06       1.42e-04       2.84e+00    \n",
      "      222            252        4.6551e-01      1.40e-04       1.98e-05       2.45e+00    \n",
      "      223            253        4.6530e-01      2.02e-04       3.93e-05       1.68e+00    \n",
      "      224            254        4.6512e-01      1.84e-04       7.63e-05       5.51e+00    \n",
      "      225            256        4.6503e-01      9.47e-05       3.63e-05       2.51e+00    \n",
      "      226            257        4.6496e-01      6.59e-05       3.01e-05       1.36e+00    \n",
      "      227            258        4.6483e-01      1.33e-04       4.24e-05       1.52e+00    \n",
      "      228            259        4.6457e-01      2.58e-04       9.77e-05       1.60e+00    \n",
      "      229            260        4.6445e-01      1.22e-04       1.52e-04       1.14e+01    \n",
      "      230            261        4.6409e-01      3.58e-04       7.34e-05       4.48e+00    \n",
      "      231            262        4.6398e-01      1.06e-04       7.09e-05       1.74e+00    \n",
      "      232            263        4.6385e-01      1.30e-04       3.85e-05       2.21e+00    \n",
      "      233            264        4.6366e-01      1.97e-04       1.14e-04       2.11e+00    \n",
      "      234            265        4.6342e-01      2.36e-04       7.83e-05       4.42e+00    \n",
      "      235            266        4.6342e-01      2.51e-06       1.42e-04       2.83e+00    \n",
      "      236            267        4.6328e-01      1.40e-04       1.98e-05       2.44e+00    \n",
      "      237            268        4.6307e-01      2.02e-04       3.94e-05       1.67e+00    \n",
      "      238            269        4.6289e-01      1.84e-04       7.66e-05       5.50e+00    \n",
      "      239            271        4.6280e-01      9.46e-05       3.63e-05       2.51e+00    \n",
      "      240            272        4.6273e-01      6.58e-05       3.01e-05       1.35e+00    \n",
      "      241            273        4.6260e-01      1.33e-04       4.25e-05       1.52e+00    \n",
      "      242            274        4.6234e-01      2.58e-04       9.78e-05       1.59e+00    \n",
      "      243            275        4.6222e-01      1.23e-04       1.53e-04       1.14e+01    \n",
      "      244            276        4.6186e-01      3.57e-04       7.34e-05       4.47e+00    \n",
      "      245            277        4.6175e-01      1.06e-04       7.09e-05       1.74e+00    \n",
      "      246            278        4.6162e-01      1.30e-04       3.86e-05       2.21e+00    \n",
      "      247            279        4.6143e-01      1.97e-04       1.14e-04       2.10e+00    \n",
      "      248            280        4.6119e-01      2.36e-04       7.84e-05       4.42e+00    \n",
      "      249            281        4.6119e-01      2.49e-06       1.41e-04       2.82e+00    \n",
      "      250            282        4.6105e-01      1.40e-04       1.98e-05       2.43e+00    \n",
      "      251            283        4.6085e-01      2.02e-04       3.95e-05       1.67e+00    \n",
      "      252            284        4.6066e-01      1.84e-04       7.68e-05       5.49e+00    \n",
      "      253            286        4.6057e-01      9.44e-05       3.63e-05       2.50e+00    \n",
      "      254            287        4.6050e-01      6.58e-05       3.01e-05       1.35e+00    \n",
      "      255            288        4.6037e-01      1.32e-04       4.25e-05       1.51e+00    \n",
      "      256            289        4.6011e-01      2.57e-04       9.78e-05       1.59e+00    \n",
      "      257            290        4.5999e-01      1.24e-04       1.53e-04       1.14e+01    \n",
      "      258            291        4.5963e-01      3.56e-04       7.34e-05       4.45e+00    \n",
      "      259            292        4.5953e-01      1.05e-04       7.08e-05       1.73e+00    \n",
      "      260            293        4.5940e-01      1.30e-04       3.87e-05       2.20e+00    \n",
      "      261            294        4.5920e-01      1.97e-04       1.14e-04       2.09e+00    \n",
      "      262            295        4.5897e-01      2.35e-04       7.85e-05       4.42e+00    \n",
      "      263            296        4.5896e-01      2.44e-06       1.41e-04       2.81e+00    \n",
      "      264            297        4.5882e-01      1.40e-04       1.99e-05       2.42e+00    \n",
      "      265            298        4.5862e-01      2.02e-04       3.95e-05       1.66e+00    \n",
      "      266            299        4.5844e-01      1.84e-04       7.69e-05       5.47e+00    \n",
      "      267            301        4.5834e-01      9.41e-05       3.63e-05       2.49e+00    \n",
      "      268            302        4.5828e-01      6.57e-05       3.01e-05       1.35e+00    \n",
      "      269            303        4.5815e-01      1.32e-04       4.25e-05       1.51e+00    \n",
      "      270            304        4.5789e-01      2.57e-04       9.78e-05       1.58e+00    \n",
      "      271            305        4.5777e-01      1.25e-04       1.53e-04       1.13e+01    \n",
      "      272            306        4.5741e-01      3.55e-04       7.34e-05       4.43e+00    \n",
      "      273            307        4.5730e-01      1.05e-04       7.08e-05       1.73e+00    \n",
      "      274            308        4.5717e-01      1.30e-04       3.87e-05       2.19e+00    \n",
      "      275            309        4.5698e-01      1.98e-04       1.14e-04       2.08e+00    \n",
      "      276            310        4.5674e-01      2.34e-04       7.86e-05       4.42e+00    \n",
      "      277            311        4.5674e-01      2.37e-06       1.41e-04       2.81e+00    \n",
      "      278            312        4.5660e-01      1.39e-04       1.99e-05       2.41e+00    \n",
      "      279            313        4.5640e-01      2.01e-04       3.96e-05       1.66e+00    \n",
      "      280            314        4.5622e-01      1.84e-04       7.70e-05       5.46e+00    \n",
      "      281            316        4.5612e-01      9.39e-05       3.63e-05       2.48e+00    \n",
      "      282            317        4.5606e-01      6.56e-05       3.00e-05       1.34e+00    \n",
      "      283            318        4.5592e-01      1.32e-04       4.25e-05       1.51e+00    \n",
      "      284            319        4.5567e-01      2.57e-04       9.78e-05       1.58e+00    \n",
      "      285            320        4.5554e-01      1.26e-04       1.53e-04       1.13e+01    \n",
      "      286            321        4.5519e-01      3.54e-04       7.34e-05       4.40e+00    \n",
      "      287            322        4.5508e-01      1.05e-04       7.07e-05       1.73e+00    \n",
      "      288            323        4.5495e-01      1.30e-04       3.87e-05       2.18e+00    \n",
      "      289            324        4.5475e-01      1.98e-04       1.14e-04       2.07e+00    \n",
      "      290            325        4.5452e-01      2.33e-04       7.86e-05       4.42e+00    \n",
      "      291            326        4.5452e-01      2.30e-06       1.41e-04       2.80e+00    \n",
      "      292            327        4.5438e-01      1.39e-04       1.99e-05       2.41e+00    \n",
      "      293            328        4.5418e-01      2.01e-04       3.96e-05       1.66e+00    \n",
      "      294            329        4.5399e-01      1.84e-04       7.70e-05       5.44e+00    \n",
      "      295            331        4.5390e-01      9.36e-05       3.63e-05       2.47e+00    \n",
      "      296            332        4.5383e-01      6.55e-05       3.00e-05       1.34e+00    \n",
      "      297            333        4.5370e-01      1.32e-04       4.25e-05       1.50e+00    \n",
      "      298            334        4.5345e-01      2.57e-04       9.77e-05       1.57e+00    \n",
      "      299            335        4.5332e-01      1.27e-04       1.53e-04       1.13e+01    \n",
      "      300            336        4.5297e-01      3.53e-04       7.34e-05       4.38e+00    \n",
      "      301            337        4.5286e-01      1.04e-04       7.06e-05       1.72e+00    \n",
      "      302            338        4.5273e-01      1.30e-04       3.87e-05       2.17e+00    \n",
      "      303            339        4.5253e-01      1.99e-04       1.14e-04       2.06e+00    \n",
      "      304            340        4.5230e-01      2.33e-04       7.86e-05       4.42e+00    \n",
      "      305            341        4.5230e-01      2.22e-06       1.41e-04       2.79e+00    \n",
      "      306            342        4.5216e-01      1.39e-04       1.99e-05       2.40e+00    \n",
      "      307            343        4.5196e-01      2.01e-04       3.96e-05       1.65e+00    \n",
      "      308            344        4.5177e-01      1.84e-04       7.70e-05       5.42e+00    \n",
      "      309            346        4.5168e-01      9.34e-05       3.62e-05       2.46e+00    \n",
      "      310            347        4.5162e-01      6.55e-05       2.99e-05       1.34e+00    \n",
      "      311            348        4.5148e-01      1.32e-04       4.25e-05       1.50e+00    \n",
      "      312            349        4.5123e-01      2.56e-04       9.76e-05       1.57e+00    \n",
      "      313            350        4.5110e-01      1.29e-04       1.53e-04       1.12e+01    \n",
      "      314            351        4.5075e-01      3.51e-04       7.34e-05       4.36e+00    \n",
      "      315            352        4.5064e-01      1.04e-04       7.06e-05       1.72e+00    \n",
      "      316            353        4.5051e-01      1.30e-04       3.87e-05       2.16e+00    \n",
      "      317            354        4.5031e-01      1.99e-04       1.14e-04       2.05e+00    \n",
      "      318            355        4.5008e-01      2.32e-04       7.86e-05       4.42e+00    \n",
      "      319            356        4.5008e-01      2.15e-06       1.41e-04       2.78e+00    \n",
      "      320            357        4.4994e-01      1.39e-04       1.99e-05       2.39e+00    \n",
      "      321            358        4.4974e-01      2.01e-04       3.96e-05       1.65e+00    \n",
      "      322            359        4.4956e-01      1.84e-04       7.70e-05       5.40e+00    \n",
      "      323            361        4.4946e-01      9.31e-05       3.62e-05       2.45e+00    \n",
      "      324            362        4.4940e-01      6.54e-05       2.99e-05       1.34e+00    \n",
      "      325            363        4.4927e-01      1.32e-04       4.25e-05       1.49e+00    \n",
      "      326            364        4.4901e-01      2.56e-04       9.75e-05       1.57e+00    \n",
      "      327            365        4.4888e-01      1.30e-04       1.53e-04       1.12e+01    \n",
      "      328            366        4.4853e-01      3.50e-04       7.34e-05       4.33e+00    \n",
      "      329            367        4.4843e-01      1.04e-04       7.05e-05       1.72e+00    \n",
      "      330            368        4.4830e-01      1.30e-04       3.87e-05       2.14e+00    \n",
      "      331            369        4.4810e-01      2.00e-04       1.13e-04       2.04e+00    \n",
      "      332            370        4.4786e-01      2.31e-04       7.86e-05       4.42e+00    \n",
      "      333            371        4.4786e-01      2.08e-06       1.41e-04       2.77e+00    \n",
      "      334            372        4.4772e-01      1.39e-04       1.99e-05       2.39e+00    \n",
      "      335            373        4.4752e-01      2.00e-04       3.96e-05       1.65e+00    \n",
      "      336            374        4.4734e-01      1.85e-04       7.70e-05       5.39e+00    \n",
      "      337            376        4.4725e-01      9.29e-05       3.62e-05       2.43e+00    \n",
      "      338            377        4.4718e-01      6.53e-05       2.98e-05       1.33e+00    \n",
      "      339            378        4.4705e-01      1.32e-04       4.24e-05       1.49e+00    \n",
      "      340            379        4.4679e-01      2.56e-04       9.74e-05       1.56e+00    \n",
      "      341            380        4.4666e-01      1.31e-04       1.53e-04       1.12e+01    \n",
      "      342            381        4.4631e-01      3.49e-04       7.34e-05       4.31e+00    \n",
      "      343            382        4.4621e-01      1.04e-04       7.04e-05       1.71e+00    \n",
      "      344            383        4.4608e-01      1.30e-04       3.87e-05       2.13e+00    \n",
      "      345            384        4.4588e-01      2.00e-04       1.13e-04       2.03e+00    \n",
      "      346            385        4.4565e-01      2.30e-04       7.86e-05       4.43e+00    \n",
      "      347            386        4.4565e-01      2.01e-06       1.41e-04       2.76e+00    \n",
      "      348            387        4.4551e-01      1.38e-04       1.99e-05       2.38e+00    \n",
      "      349            388        4.4531e-01      2.00e-04       3.96e-05       1.65e+00    \n",
      "      350            389        4.4512e-01      1.85e-04       7.70e-05       5.37e+00    \n",
      "      351            391        4.4503e-01      9.26e-05       3.62e-05       2.42e+00    \n",
      "      352            392        4.4497e-01      6.52e-05       2.98e-05       1.33e+00    \n",
      "      353            393        4.4484e-01      1.31e-04       4.24e-05       1.48e+00    \n",
      "      354            394        4.4458e-01      2.56e-04       9.73e-05       1.56e+00    \n",
      "      355            395        4.4445e-01      1.33e-04       1.53e-04       1.11e+01    \n",
      "      356            396        4.4410e-01      3.47e-04       7.34e-05       4.28e+00    \n",
      "      357            397        4.4400e-01      1.03e-04       7.03e-05       1.71e+00    \n",
      "      358            398        4.4387e-01      1.30e-04       3.87e-05       2.12e+00    \n",
      "      359            399        4.4367e-01      2.01e-04       1.13e-04       2.02e+00    \n",
      "      360            400        4.4344e-01      2.29e-04       7.86e-05       4.43e+00    \n",
      "The maximum number of function evaluations is exceeded.\n",
      "Function evaluations 400, initial cost 1.2282e+07, final cost 4.4344e-01, first-order optimality 4.43e+00.\n"
     ]
    }
   ],
   "source": [
    "x0 = [0.2145,  0.8, -0.05,  0.01]  # initial guess: [σ, λ, m, v]\n",
    "bounds = ( [0.01, 1e-2, -2, 1e-5], [0.9, 5, 2, 2] )\n",
    "\n",
    "def cost_function(x, strikes, mkt_prices):\n",
    "    sigma, lambd, meanJ, stdJ = x\n",
    "    M = Merton_pricer(S0, None, T, r, q, sigma, lambd, meanJ, stdJ, exercise)\n",
    "    sq_err = np.sum( p_weights*(M.closed_formula_put(strikes) - mkt_prices)**2)\n",
    "    return sq_err\n",
    "\n",
    "start2 = time.time()\n",
    "mert2 = scpo.least_squares(cost_function, x0, args=(put_strikes, put_prices), bounds=bounds, method = 'trf', verbose=2)\n",
    "end2 = time.time()\n",
    "\n",
    "mert_params2 = [round(p,4) for p in mert2.x[:4]]"
   ],
   "metadata": {
    "collapsed": false,
    "ExecuteTime": {
     "end_time": "2023-09-22T18:48:41.003817300Z",
     "start_time": "2023-09-22T18:47:47.037029600Z"
    }
   }
  },
  {
   "cell_type": "code",
   "execution_count": 17,
   "outputs": [
    {
     "name": "stdout",
     "output_type": "stream",
     "text": [
      "\n",
      "METHOD 1: LEAST SQUARES (trf)\n",
      "> Calibrated Volatlity [σ] = 0.3917 \t 39.17%\n",
      "> Calibrated Jump intensity [λ] =  1.44\n",
      "> Calibrated Jump Mean =  -0.062\n",
      "> Calibrated Jump St. dev.  =  0.386\n",
      "TIME ELAPSED:  53.95 sec\n"
     ]
    }
   ],
   "source": [
    "# print('WEIGHTED OPT: CURVE_FIT (trf)')\n",
    "# print(f'> Calibrated Volatlity [σ] = {round(mert1[0][0],4)} \\t {round(mert1[0][0]*100,2)}%')\n",
    "# print('> Calibrated Jump intensity [λ] = ', round(mert1[0][1],2))\n",
    "# print('> Calibrated Jump Mean = ', round(mert1[0][2],2))\n",
    "# print('> Calibrated Jump St. dev.  = ', round(mert1[0][3],5))\n",
    "# print(f'ELAPSED TIME: {end1-start1} sec')\n",
    "\n",
    "print('\\nMETHOD 1: LEAST SQUARES (trf)')\n",
    "print(f'> Calibrated Volatlity [σ] = {mert_params2[0]} \\t {round(mert_params2[0]*100,2)}%')\n",
    "print('> Calibrated Jump intensity [λ] = ', round(mert_params2[1],2))\n",
    "print('> Calibrated Jump Mean = ', round(mert_params2[2],3))\n",
    "print('> Calibrated Jump St. dev.  = ', round(mert_params2[3],3))\n",
    "print(f'TIME ELAPSED:  {round(end2-start2,2)} sec')"
   ],
   "metadata": {
    "collapsed": false,
    "ExecuteTime": {
     "end_time": "2023-09-22T18:48:53.330992500Z",
     "start_time": "2023-09-22T18:48:53.237410600Z"
    }
   }
  },
  {
   "cell_type": "code",
   "execution_count": 18,
   "outputs": [
    {
     "name": "stdout",
     "output_type": "stream",
     "text": [
      "[0.3917, 1.4429, -0.0621, 0.3856]\n",
      "Stored 'puts_mert_params_tsla' (list)\n"
     ]
    }
   ],
   "source": [
    "#print(mert_params1)\n",
    "print(mert_params2)\n",
    "puts_mert_params_tsla = mert_params2\n",
    "%store puts_mert_params_tsla"
   ],
   "metadata": {
    "collapsed": false,
    "ExecuteTime": {
     "end_time": "2023-09-22T18:49:12.650301300Z",
     "start_time": "2023-09-22T18:49:12.634464400Z"
    }
   }
  },
  {
   "cell_type": "markdown",
   "source": [
    "### Kou Jump Diffusion\n"
   ],
   "metadata": {
    "collapsed": false
   }
  },
  {
   "cell_type": "code",
   "execution_count": 19,
   "outputs": [],
   "source": [
    "x0 = [0.1874, 0.75, 0.6, 10, 8] # initial guess: [σ, λ, p, η_1, η_2]\n",
    "bounds = ( [1e-2, 1e-1, 0, 0, 0], [0.8, 4, 1, 15, 20] )"
   ],
   "metadata": {
    "collapsed": false,
    "ExecuteTime": {
     "end_time": "2023-09-22T18:49:39.224387700Z",
     "start_time": "2023-09-22T18:49:39.145592400Z"
    }
   }
  },
  {
   "cell_type": "markdown",
   "source": [
    "##### Method 1. TRF (Bounds)"
   ],
   "metadata": {
    "collapsed": false
   }
  },
  {
   "cell_type": "code",
   "execution_count": 18,
   "outputs": [],
   "source": [
    "# def f_Kou(x, sigma, lambd, p, eta1, eta2):\n",
    "#     KouJD = Kou_pricer(S0=S0, K=x, ttm=T, r=r, sigma=sigma, lambd=lambd, p=p, eta1=eta1, eta2=eta2, exercise=exercise)\n",
    "#     return KouJD.closed_formula_put(x)\n",
    "#\n",
    "# start1 = time.time()\n",
    "# kou1 = scpo.curve_fit(f_Kou, put_strikes, put_prices, p0=x0, bounds=bounds, sigma=p_weights)\n",
    "# end1 = time.time()\n",
    "#\n",
    "# kou_params1 = [round(p,4) for p in kou1[0][:5]]"
   ],
   "metadata": {
    "collapsed": false,
    "ExecuteTime": {
     "end_time": "2023-09-18T16:33:27.075795Z",
     "start_time": "2023-09-18T16:33:27.044026400Z"
    }
   }
  },
  {
   "cell_type": "markdown",
   "source": [
    "##### Method 2. LEAST SQUARES (With Bounds)"
   ],
   "metadata": {
    "collapsed": false
   }
  },
  {
   "cell_type": "code",
   "execution_count": 20,
   "outputs": [
    {
     "name": "stdout",
     "output_type": "stream",
     "text": [
      "   Iteration     Total nfev        Cost      Cost reduction    Step norm     Optimality   \n",
      "       0              1         1.1382e+07                                    5.43e+07    \n",
      "       1              2         1.2011e+06      1.02e+07       1.89e-01       9.60e+06    \n",
      "       2              3         1.4504e+05      1.06e+06       8.88e-02       1.64e+06    \n",
      "       3              4         1.5467e+04      1.30e+05       5.34e-02       2.64e+05    \n",
      "       4              5         1.4368e+03      1.40e+04       3.19e-02       3.96e+04    \n",
      "       5              6         1.2072e+02      1.32e+03       1.85e-02       5.59e+03    \n",
      "       6              7         1.0419e+01      1.10e+02       1.06e-02       7.44e+02    \n",
      "       7              8         1.4310e+00      8.99e+00       6.69e-03       7.87e+01    \n",
      "       8             10         1.0335e+00      3.98e-01       2.10e-03       1.62e+01    \n",
      "       9             12         1.0116e+00      2.19e-02       5.24e-04       3.69e+00    \n",
      "      10             14         1.0104e+00      1.19e-03       1.32e-04       6.16e-01    \n",
      "      11             16         1.0104e+00      3.27e-05       3.50e-05       3.72e-01    \n",
      "      12             18         1.0104e+00      2.40e-07       1.28e-05       1.47e-01    \n",
      "      13             19         1.0104e+00      1.14e-06       3.03e-06       1.24e-01    \n",
      "      14             20         1.0104e+00      1.17e-06       7.23e-06       1.14e-01    \n",
      "      15             21         1.0104e+00      6.12e-07       1.49e-05       1.11e-01    \n",
      "      16             23         1.0104e+00      2.23e-07       6.22e-06       1.15e-01    \n",
      "      17             24         1.0104e+00      3.38e-07       6.54e-06       1.12e-01    \n",
      "      18             25         1.0104e+00      6.53e-07       1.54e-05       1.13e-01    \n",
      "      19             26         1.0104e+00      1.19e-06       3.05e-05       1.09e-01    \n",
      "      20             29         1.0104e+00      1.99e-07       2.47e-06       1.12e-01    \n",
      "      21             30         1.0104e+00      1.64e-07       3.80e-06       1.13e-01    \n",
      "      22             31         1.0104e+00      3.29e-07       7.71e-06       1.12e-01    \n",
      "      23             32         1.0104e+00      6.47e-07       1.53e-05       1.14e-01    \n",
      "      24             33         1.0104e+00      1.09e-06       3.00e-05       1.17e-01    \n",
      "      25             36         1.0104e+00      2.53e-07       2.17e-06       1.11e-01    \n",
      "      26             37         1.0104e+00      1.58e-07       3.42e-06       1.13e-01    \n",
      "      27             38         1.0104e+00      3.29e-07       7.68e-06       1.12e-01    \n",
      "      28             39         1.0104e+00      6.38e-07       1.53e-05       1.14e-01    \n",
      "      29             40         1.0104e+00      9.70e-07       2.94e-05       1.43e-01    \n",
      "      30             42         1.0104e+00      4.04e-07       3.99e-06       1.14e-01    \n",
      "      31             43         1.0104e+00      3.27e-07       7.43e-06       1.12e-01    \n",
      "      32             44         1.0104e+00      6.19e-07       1.52e-05       1.14e-01    \n",
      "      33             45         1.0104e+00      7.61e-07       2.82e-05       1.79e-01    \n",
      "      34             47         1.0104e+00      5.61e-07       3.69e-06       1.13e-01    \n",
      "      35             48         1.0104e+00      3.30e-07       7.71e-06       1.13e-01    \n",
      "      36             49         1.0104e+00      6.59e-07       1.54e-05       1.13e-01    \n",
      "      37             50         1.0104e+00      1.32e-06       3.08e-05       1.13e-01    \n",
      "      38             51         1.0104e+00      2.53e-06       6.17e-05       1.10e-01    \n",
      "      39             54         1.0104e+00      2.23e-07       5.03e-06       1.15e-01    \n",
      "      40             55         1.0104e+00      3.38e-07       6.52e-06       1.12e-01    \n",
      "      41             56         1.0104e+00      6.54e-07       1.54e-05       1.13e-01    \n",
      "      42             57         1.0104e+00      1.21e-06       3.06e-05       1.10e-01    \n",
      "      43             60         1.0104e+00      1.93e-07       2.52e-06       1.12e-01    \n",
      "      44             61         1.0104e+00      1.64e-07       3.83e-06       1.13e-01    \n",
      "      45             62         1.0104e+00      3.29e-07       7.72e-06       1.12e-01    \n",
      "      46             63         1.0104e+00      6.48e-07       1.53e-05       1.14e-01    \n",
      "      47             64         1.0104e+00      1.11e-06       3.01e-05       1.11e-01    \n",
      "      48             67         1.0104e+00      2.41e-07       2.22e-06       1.12e-01    \n",
      "      49             68         1.0104e+00      1.59e-07       3.52e-06       1.13e-01    \n",
      "      50             69         1.0104e+00      3.29e-07       7.69e-06       1.12e-01    \n",
      "      51             70         1.0104e+00      6.39e-07       1.53e-05       1.14e-01    \n",
      "      52             71         1.0104e+00      9.79e-07       2.95e-05       1.41e-01    \n",
      "      53             73         1.0104e+00      3.96e-07       4.01e-06       1.14e-01    \n",
      "      54             74         1.0104e+00      3.27e-07       7.40e-06       1.12e-01    \n",
      "      55             75         1.0104e+00      6.18e-07       1.52e-05       1.14e-01    \n",
      "      56             76         1.0104e+00      7.56e-07       2.82e-05       1.79e-01    \n",
      "      57             78         1.0104e+00      5.65e-07       3.68e-06       1.13e-01    \n",
      "      58             79         1.0104e+00      3.29e-07       7.71e-06       1.13e-01    \n",
      "      59             80         1.0104e+00      6.58e-07       1.54e-05       1.12e-01    \n",
      "      60             81         1.0104e+00      1.20e-06       3.05e-05       1.16e-01    \n",
      "      61             83         1.0104e+00      5.18e-07       1.21e-05       1.10e-01    \n",
      "      62             85         1.0104e+00      1.87e-07       2.58e-06       1.12e-01    \n",
      "      63             86         1.0104e+00      1.65e-07       3.84e-06       1.13e-01    \n",
      "      64             87         1.0104e+00      3.29e-07       7.72e-06       1.12e-01    \n",
      "      65             88         1.0104e+00      6.52e-07       1.54e-05       1.13e-01    \n",
      "      66             89         1.0104e+00      1.17e-06       3.04e-05       1.09e-01    \n",
      "      67             92         1.0104e+00      2.14e-07       2.36e-06       1.12e-01    \n",
      "      68             93         1.0104e+00      1.62e-07       3.72e-06       1.13e-01    \n",
      "      69             94         1.0104e+00      3.29e-07       7.71e-06       1.12e-01    \n",
      "      70             95         1.0104e+00      6.43e-07       1.53e-05       1.14e-01    \n",
      "      71             96         1.0104e+00      1.04e-06       2.98e-05       1.29e-01    \n",
      "      72             98         1.0104e+00      3.49e-07       4.16e-06       1.14e-01    \n",
      "      73             99         1.0104e+00      3.27e-07       7.20e-06       1.12e-01    \n",
      "      74             100        1.0104e+00      6.20e-07       1.52e-05       1.14e-01    \n",
      "      75             101        1.0104e+00      7.72e-07       2.83e-05       1.77e-01    \n",
      "      76             103        1.0104e+00      5.53e-07       3.70e-06       1.13e-01    \n",
      "      77             104        1.0104e+00      3.29e-07       7.72e-06       1.13e-01    \n",
      "      78             105        1.0104e+00      6.54e-07       1.54e-05       1.13e-01    \n",
      "      79             106        1.0104e+00      1.21e-06       3.06e-05       1.10e-01    \n",
      "      80             109        1.0104e+00      1.91e-07       2.55e-06       1.12e-01    \n",
      "      81             110        1.0104e+00      1.64e-07       3.83e-06       1.13e-01    \n",
      "      82             111        1.0104e+00      3.29e-07       7.72e-06       1.12e-01    \n",
      "      83             112        1.0104e+00      6.49e-07       1.53e-05       1.14e-01    \n",
      "      84             113        1.0104e+00      1.12e-06       3.02e-05       1.09e-01    \n",
      "      85             116        1.0104e+00      2.36e-07       2.24e-06       1.12e-01    \n",
      "      86             117        1.0104e+00      1.59e-07       3.57e-06       1.13e-01    \n",
      "      87             118        1.0104e+00      3.29e-07       7.69e-06       1.12e-01    \n",
      "      88             119        1.0104e+00      6.39e-07       1.53e-05       1.14e-01    \n",
      "      89             120        1.0103e+00      9.87e-07       2.95e-05       1.39e-01    \n",
      "      90             122        1.0103e+00      3.90e-07       4.03e-06       1.14e-01    \n",
      "      91             123        1.0103e+00      3.27e-07       7.38e-06       1.12e-01    \n",
      "      92             124        1.0103e+00      6.18e-07       1.52e-05       1.14e-01    \n",
      "      93             125        1.0103e+00      7.53e-07       2.82e-05       1.80e-01    \n",
      "      94             127        1.0103e+00      5.66e-07       3.68e-06       1.13e-01    \n",
      "      95             128        1.0103e+00      3.29e-07       7.71e-06       1.13e-01    \n",
      "      96             129        1.0103e+00      6.57e-07       1.54e-05       1.12e-01    \n",
      "      97             130        1.0103e+00      1.07e-06       3.02e-05       1.17e-01    \n",
      "      98             132        1.0103e+00      5.76e-07       1.04e-05       1.10e-01    \n",
      "      99             134        1.0103e+00      1.74e-07       2.75e-06       1.13e-01    \n",
      "      100            135        1.0103e+00      1.65e-07       3.86e-06       1.13e-01    \n",
      "      101            136        1.0103e+00      3.29e-07       7.71e-06       1.13e-01    \n",
      "      102            137        1.0103e+00      6.58e-07       1.54e-05       1.12e-01    \n",
      "      103            138        1.0103e+00      1.12e-06       3.04e-05       1.17e-01    \n",
      "      104            140        1.0103e+00      5.43e-07       1.10e-05       1.10e-01    \n",
      "      105            142        1.0103e+00      1.81e-07       2.65e-06       1.13e-01    \n",
      "      106            143        1.0103e+00      1.65e-07       3.86e-06       1.13e-01    \n",
      "      107            144        1.0103e+00      3.30e-07       7.71e-06       1.13e-01    \n",
      "      108            145        1.0103e+00      6.59e-07       1.54e-05       1.13e-01    \n",
      "      109            146        1.0103e+00      1.31e-06       3.09e-05       1.12e-01    \n",
      "      110            148        1.0103e+00      3.49e-07       1.40e-05       1.18e-01    \n",
      "      111            149        1.0103e+00      5.96e-07       1.01e-05       1.10e-01    \n",
      "      112            151        1.0103e+00      1.70e-07       2.81e-06       1.13e-01    \n",
      "      113            152        1.0103e+00      1.65e-07       3.86e-06       1.13e-01    \n",
      "      114            153        1.0103e+00      3.30e-07       7.71e-06       1.13e-01    \n",
      "      115            154        1.0103e+00      6.59e-07       1.54e-05       1.13e-01    \n",
      "      116            155        1.0103e+00      1.31e-06       3.08e-05       1.14e-01    \n",
      "      117            156        1.0103e+00      1.56e-06       6.00e-05       2.62e-01    \n",
      "      118            158        1.0103e+00      9.79e-07       6.71e-06       1.17e-01    \n",
      "      119            159        1.0103e+00      5.32e-07       1.13e-05       1.10e-01    \n",
      "      120            161        1.0103e+00      1.84e-07       2.62e-06       1.13e-01    \n",
      "      121            162        1.0103e+00      1.65e-07       3.85e-06       1.13e-01    \n",
      "      122            163        1.0103e+00      3.29e-07       7.72e-06       1.13e-01    \n",
      "      123            164        1.0103e+00      6.57e-07       1.54e-05       1.13e-01    \n",
      "      124            165        1.0103e+00      1.26e-06       3.08e-05       1.10e-01    \n",
      "      125            168        1.0103e+00      1.67e-07       2.89e-06       1.13e-01    \n",
      "      126            169        1.0103e+00      1.65e-07       3.86e-06       1.13e-01    \n",
      "      127            170        1.0103e+00      3.30e-07       7.72e-06       1.13e-01    \n",
      "      128            171        1.0103e+00      6.58e-07       1.54e-05       1.13e-01    \n",
      "      129            172        1.0103e+00      1.30e-06       3.09e-05       1.11e-01    \n",
      "      130            174        1.0103e+00      2.22e-07       1.33e-05       1.19e-01    \n",
      "      131            175        1.0103e+00      6.82e-07       9.27e-06       1.11e-01    \n",
      "      132            176        1.0103e+00      4.96e-08       1.24e-05       1.20e-01    \n",
      "      133            177        1.0103e+00      3.25e-07       2.13e-06       1.18e-01    \n",
      "      134            178        1.0103e+00      4.35e-07       5.07e-06       1.14e-01    \n",
      "      135            179        1.0103e+00      5.98e-07       1.47e-05       1.11e-01    \n",
      "      136            181        1.0103e+00      2.15e-07       5.99e-06       1.15e-01    \n",
      "      137            182        1.0103e+00      3.40e-07       6.48e-06       1.13e-01    \n",
      "      138            183        1.0103e+00      6.56e-07       1.54e-05       1.13e-01    \n",
      "      139            184        1.0103e+00      1.24e-06       3.07e-05       1.10e-01    \n",
      "      140            187        1.0103e+00      1.76e-07       2.72e-06       1.13e-01    \n",
      "      141            188        1.0103e+00      1.65e-07       3.86e-06       1.13e-01    \n",
      "      142            189        1.0103e+00      3.29e-07       7.71e-06       1.13e-01    \n",
      "      143            190        1.0103e+00      6.58e-07       1.54e-05       1.12e-01    \n",
      "      144            191        1.0103e+00      1.13e-06       3.04e-05       1.17e-01    \n",
      "      145            193        1.0103e+00      5.40e-07       1.10e-05       1.10e-01    \n",
      "      146            195        1.0103e+00      1.82e-07       2.65e-06       1.13e-01    \n",
      "      147            196        1.0103e+00      1.65e-07       3.86e-06       1.13e-01    \n",
      "      148            197        1.0103e+00      3.30e-07       7.72e-06       1.13e-01    \n",
      "      149            198        1.0103e+00      6.59e-07       1.54e-05       1.13e-01    \n",
      "      150            199        1.0103e+00      1.30e-06       3.09e-05       1.11e-01    \n",
      "      151            201        1.0103e+00      2.45e-07       1.34e-05       1.18e-01    \n",
      "      152            202        1.0103e+00      6.66e-07       9.40e-06       1.11e-01    \n",
      "      153            203        1.0103e+00      1.42e-08       1.22e-05       1.20e-01    \n",
      "      154            204        1.0103e+00      3.32e-07       2.10e-06       1.18e-01    \n",
      "      155            205        1.0103e+00      4.45e-07       4.98e-06       1.14e-01    \n",
      "      156            206        1.0103e+00      5.88e-07       1.46e-05       1.11e-01    \n",
      "      157            208        1.0103e+00      2.11e-07       5.85e-06       1.15e-01    \n",
      "      158            209        1.0103e+00      3.41e-07       6.45e-06       1.13e-01    \n",
      "      159            210        1.0103e+00      6.56e-07       1.54e-05       1.13e-01    \n",
      "      160            211        1.0103e+00      1.26e-06       3.08e-05       1.10e-01    \n",
      "      161            214        1.0103e+00      1.69e-07       2.83e-06       1.13e-01    \n",
      "      162            215        1.0103e+00      1.65e-07       3.86e-06       1.13e-01    \n",
      "      163            216        1.0103e+00      3.30e-07       7.72e-06       1.13e-01    \n",
      "      164            217        1.0103e+00      6.59e-07       1.54e-05       1.13e-01    \n",
      "      165            218        1.0103e+00      1.32e-06       3.09e-05       1.13e-01    \n",
      "      166            219        1.0103e+00      2.60e-06       6.18e-05       1.11e-01    \n",
      "      167            222        1.0103e+00      2.16e-07       6.02e-06       1.15e-01    \n",
      "      168            223        1.0103e+00      3.40e-07       6.48e-06       1.13e-01    \n",
      "      169            224        1.0103e+00      6.55e-07       1.54e-05       1.13e-01    \n",
      "      170            225        1.0103e+00      1.24e-06       3.07e-05       1.10e-01    \n",
      "      171            228        1.0103e+00      1.79e-07       2.68e-06       1.13e-01    \n",
      "      172            229        1.0103e+00      1.65e-07       3.86e-06       1.13e-01    \n",
      "      173            230        1.0103e+00      3.29e-07       7.71e-06       1.13e-01    \n",
      "      174            231        1.0103e+00      6.59e-07       1.54e-05       1.13e-01    \n",
      "      175            232        1.0103e+00      1.30e-06       3.08e-05       1.14e-01    \n",
      "      176            233        1.0103e+00      1.23e-06       5.93e-05       2.99e-01    \n",
      "      177            235        1.0103e+00      1.35e-06       6.57e-06       1.15e-01    \n",
      "      178            236        1.0103e+00      5.26e-07       1.30e-05       1.10e-01    \n",
      "      179            238        1.0103e+00      1.85e-07       2.61e-06       1.13e-01    \n",
      "      180            239        1.0103e+00      1.65e-07       3.85e-06       1.13e-01    \n",
      "      181            240        1.0103e+00      3.29e-07       7.72e-06       1.13e-01    \n",
      "      182            241        1.0103e+00      6.56e-07       1.54e-05       1.13e-01    \n",
      "      183            242        1.0103e+00      1.24e-06       3.07e-05       1.10e-01    \n",
      "      184            245        1.0103e+00      1.78e-07       2.70e-06       1.13e-01    \n",
      "      185            246        1.0103e+00      1.65e-07       3.86e-06       1.13e-01    \n",
      "      186            247        1.0103e+00      3.29e-07       7.71e-06       1.13e-01    \n",
      "      187            248        1.0103e+00      6.58e-07       1.54e-05       1.12e-01    \n",
      "      188            249        1.0103e+00      1.23e-06       3.06e-05       1.15e-01    \n",
      "      189            251        1.0103e+00      5.21e-07       1.27e-05       1.10e-01    \n",
      "      190            253        1.0103e+00      1.86e-07       2.59e-06       1.13e-01    \n",
      "      191            254        1.0103e+00      1.65e-07       3.85e-06       1.13e-01    \n",
      "      192            255        1.0103e+00      3.29e-07       7.72e-06       1.13e-01    \n",
      "      193            256        1.0103e+00      6.53e-07       1.54e-05       1.13e-01    \n",
      "      194            257        1.0103e+00      1.19e-06       3.05e-05       1.09e-01    \n",
      "      195            260        1.0103e+00      2.00e-07       2.47e-06       1.12e-01    \n",
      "      196            261        1.0103e+00      1.64e-07       3.80e-06       1.13e-01    \n",
      "      197            262        1.0103e+00      3.29e-07       7.72e-06       1.13e-01    \n",
      "      198            263        1.0103e+00      6.46e-07       1.53e-05       1.14e-01    \n",
      "      199            264        1.0103e+00      1.09e-06       3.00e-05       1.17e-01    \n",
      "      200            267        1.0103e+00      2.55e-07       2.16e-06       1.11e-01    \n",
      "      201            268        1.0103e+00      1.58e-07       3.41e-06       1.13e-01    \n",
      "      202            269        1.0103e+00      3.28e-07       7.69e-06       1.12e-01    \n",
      "      203            270        1.0103e+00      6.38e-07       1.53e-05       1.14e-01    \n",
      "      204            271        1.0103e+00      9.68e-07       2.94e-05       1.43e-01    \n",
      "      205            273        1.0103e+00      4.05e-07       3.99e-06       1.14e-01    \n",
      "      206            274        1.0103e+00      3.27e-07       7.44e-06       1.12e-01    \n",
      "      207            275        1.0103e+00      6.19e-07       1.52e-05       1.15e-01    \n",
      "      208            276        1.0103e+00      7.61e-07       2.83e-05       1.79e-01    \n",
      "      209            278        1.0103e+00      5.61e-07       3.69e-06       1.13e-01    \n",
      "      210            279        1.0103e+00      3.29e-07       7.72e-06       1.13e-01    \n",
      "      211            280        1.0103e+00      6.59e-07       1.54e-05       1.13e-01    \n",
      "      212            281        1.0103e+00      1.32e-06       3.09e-05       1.13e-01    \n",
      "      213            282        1.0103e+00      2.54e-06       6.17e-05       1.10e-01    \n",
      "      214            285        1.0103e+00      2.21e-07       5.07e-06       1.15e-01    \n",
      "      215            286        1.0103e+00      3.39e-07       6.51e-06       1.13e-01    \n",
      "      216            287        1.0103e+00      6.54e-07       1.54e-05       1.13e-01    \n",
      "      217            288        1.0103e+00      1.22e-06       3.06e-05       1.10e-01    \n",
      "      218            291        1.0103e+00      1.88e-07       2.57e-06       1.13e-01    \n",
      "      219            292        1.0103e+00      1.64e-07       3.84e-06       1.13e-01    \n",
      "      220            293        1.0103e+00      3.29e-07       7.72e-06       1.13e-01    \n",
      "      221            294        1.0103e+00      6.49e-07       1.54e-05       1.14e-01    \n",
      "      222            295        1.0103e+00      1.13e-06       3.03e-05       1.09e-01    \n",
      "      223            298        1.0103e+00      2.31e-07       2.27e-06       1.12e-01    \n",
      "      224            299        1.0103e+00      1.60e-07       3.60e-06       1.13e-01    \n",
      "      225            300        1.0103e+00      3.29e-07       7.70e-06       1.12e-01    \n",
      "      226            301        1.0103e+00      6.40e-07       1.53e-05       1.14e-01    \n",
      "      227            302        1.0103e+00      9.95e-07       2.96e-05       1.38e-01    \n",
      "      228            304        1.0103e+00      3.84e-07       4.05e-06       1.14e-01    \n",
      "      229            305        1.0103e+00      3.27e-07       7.36e-06       1.12e-01    \n",
      "      230            306        1.0103e+00      6.18e-07       1.52e-05       1.15e-01    \n",
      "      231            307        1.0103e+00      7.51e-07       2.82e-05       1.80e-01    \n",
      "      232            309        1.0103e+00      5.68e-07       3.68e-06       1.13e-01    \n",
      "      233            310        1.0103e+00      3.29e-07       7.71e-06       1.13e-01    \n",
      "      234            311        1.0103e+00      6.57e-07       1.54e-05       1.12e-01    \n",
      "      235            312        1.0103e+00      1.03e-06       3.02e-05       1.18e-01    \n",
      "      236            314        1.0103e+00      6.05e-07       1.00e-05       1.10e-01    \n",
      "      237            316        1.0103e+00      1.69e-07       2.84e-06       1.13e-01    \n",
      "      238            317        1.0103e+00      1.65e-07       3.86e-06       1.13e-01    \n",
      "      239            318        1.0103e+00      3.29e-07       7.72e-06       1.13e-01    \n",
      "      240            319        1.0103e+00      6.59e-07       1.54e-05       1.13e-01    \n",
      "      241            320        1.0103e+00      1.32e-06       3.09e-05       1.13e-01    \n",
      "      242            321        1.0103e+00      2.40e-06       6.14e-05       1.17e-01    \n",
      "      243            323        1.0103e+00      8.11e-08       2.07e-05       2.59e-01    \n",
      "      244            324        1.0103e+00      9.59e-07       3.36e-06       1.10e-01    \n",
      "      245            325        1.0103e+00      2.15e-07       5.20e-06       1.15e-01    \n",
      "      246            326        1.0103e+00      3.40e-07       6.48e-06       1.13e-01    \n",
      "      247            327        1.0103e+00      6.56e-07       1.54e-05       1.13e-01    \n",
      "      248            328        1.0103e+00      1.24e-06       3.07e-05       1.10e-01    \n",
      "      249            331        1.0103e+00      1.76e-07       2.73e-06       1.13e-01    \n",
      "      250            332        1.0103e+00      1.65e-07       3.86e-06       1.13e-01    \n",
      "      251            333        1.0103e+00      3.29e-07       7.71e-06       1.13e-01    \n",
      "      252            334        1.0103e+00      6.57e-07       1.54e-05       1.12e-01    \n",
      "      253            335        1.0103e+00      1.07e-06       3.03e-05       1.17e-01    \n",
      "      254            337        1.0103e+00      5.74e-07       1.04e-05       1.10e-01    \n",
      "      255            339        1.0103e+00      1.74e-07       2.75e-06       1.13e-01    \n",
      "      256            340        1.0103e+00      1.65e-07       3.86e-06       1.13e-01    \n",
      "      257            341        1.0103e+00      3.29e-07       7.71e-06       1.13e-01    \n",
      "      258            342        1.0103e+00      6.57e-07       1.54e-05       1.12e-01    \n",
      "      259            343        1.0103e+00      1.09e-06       3.03e-05       1.17e-01    \n",
      "      260            345        1.0103e+00      5.63e-07       1.06e-05       1.10e-01    \n",
      "      261            347        1.0103e+00      1.77e-07       2.71e-06       1.13e-01    \n",
      "      262            348        1.0103e+00      1.65e-07       3.86e-06       1.13e-01    \n",
      "      263            349        1.0102e+00      3.29e-07       7.71e-06       1.13e-01    \n",
      "      264            350        1.0102e+00      6.58e-07       1.54e-05       1.12e-01    \n",
      "      265            351        1.0102e+00      1.15e-06       3.04e-05       1.17e-01    \n",
      "      266            353        1.0102e+00      5.28e-07       1.14e-05       1.10e-01    \n",
      "      267            355        1.0102e+00      1.84e-07       2.61e-06       1.13e-01    \n",
      "      268            356        1.0102e+00      1.65e-07       3.85e-06       1.13e-01    \n",
      "      269            357        1.0102e+00      3.29e-07       7.72e-06       1.13e-01    \n",
      "      270            358        1.0102e+00      6.56e-07       1.54e-05       1.13e-01    \n",
      "      271            359        1.0102e+00      1.24e-06       3.07e-05       1.10e-01    \n",
      "      272            362        1.0102e+00      1.76e-07       2.73e-06       1.13e-01    \n",
      "      273            363        1.0102e+00      1.65e-07       3.86e-06       1.13e-01    \n",
      "      274            364        1.0102e+00      3.29e-07       7.71e-06       1.13e-01    \n",
      "      275            365        1.0102e+00      6.57e-07       1.54e-05       1.12e-01    \n",
      "      276            366        1.0102e+00      1.07e-06       3.03e-05       1.17e-01    \n",
      "      277            368        1.0102e+00      5.75e-07       1.04e-05       1.10e-01    \n",
      "      278            370        1.0102e+00      1.74e-07       2.75e-06       1.13e-01    \n",
      "      279            371        1.0102e+00      1.65e-07       3.86e-06       1.13e-01    \n",
      "      280            372        1.0102e+00      3.29e-07       7.71e-06       1.13e-01    \n",
      "      281            373        1.0102e+00      6.57e-07       1.54e-05       1.12e-01    \n",
      "      282            374        1.0102e+00      1.11e-06       3.03e-05       1.17e-01    \n",
      "      283            376        1.0102e+00      5.51e-07       1.08e-05       1.10e-01    \n",
      "      284            378        1.0102e+00      1.79e-07       2.68e-06       1.13e-01    \n",
      "      285            379        1.0102e+00      1.65e-07       3.86e-06       1.13e-01    \n",
      "      286            380        1.0102e+00      3.29e-07       7.72e-06       1.13e-01    \n",
      "      287            381        1.0102e+00      6.59e-07       1.54e-05       1.13e-01    \n",
      "      288            382        1.0102e+00      1.31e-06       3.08e-05       1.13e-01    \n",
      "      289            383        1.0102e+00      1.97e-06       6.09e-05       2.07e-01    \n",
      "      290            385        1.0102e+00      4.53e-07       7.07e-06       1.19e-01    \n",
      "      291            386        1.0102e+00      2.81e-07       2.35e-06       1.17e-01    \n",
      "      292            387        1.0102e+00      3.80e-07       5.67e-06       1.13e-01    \n",
      "      293            388        1.0102e+00      6.44e-07       1.54e-05       1.12e-01    \n",
      "      294            390        1.0102e+00      2.71e-07       7.01e-06       1.15e-01    \n",
      "      295            391        1.0102e+00      3.29e-07       6.99e-06       1.12e-01    \n",
      "      296            392        1.0102e+00      6.29e-07       1.53e-05       1.14e-01    \n",
      "      297            393        1.0102e+00      8.60e-07       2.89e-05       1.63e-01    \n",
      "      298            395        1.0102e+00      4.89e-07       3.80e-06       1.13e-01    \n",
      "      299            396        1.0102e+00      3.28e-07       7.67e-06       1.12e-01    \n",
      "      300            397        1.0102e+00      6.35e-07       1.53e-05       1.14e-01    \n",
      "      301            398        1.0102e+00      9.31e-07       2.93e-05       1.50e-01    \n",
      "      302            400        1.0102e+00      4.34e-07       3.91e-06       1.14e-01    \n",
      "      303            401        1.0102e+00      3.27e-07       7.54e-06       1.12e-01    \n",
      "      304            402        1.0102e+00      6.23e-07       1.52e-05       1.14e-01    \n",
      "      305            403        1.0102e+00      7.98e-07       2.85e-05       1.73e-01    \n",
      "      306            405        1.0102e+00      5.35e-07       3.73e-06       1.13e-01    \n",
      "      307            406        1.0102e+00      3.29e-07       7.72e-06       1.13e-01    \n",
      "      308            407        1.0102e+00      6.46e-07       1.53e-05       1.14e-01    \n",
      "      309            408        1.0102e+00      1.08e-06       3.00e-05       1.18e-01    \n",
      "      310            411        1.0102e+00      2.57e-07       2.15e-06       1.11e-01    \n",
      "      311            412        1.0102e+00      1.58e-07       3.40e-06       1.13e-01    \n",
      "      312            413        1.0102e+00      3.28e-07       7.69e-06       1.13e-01    \n",
      "      313            414        1.0102e+00      6.37e-07       1.53e-05       1.14e-01    \n",
      "      314            415        1.0102e+00      9.66e-07       2.95e-05       1.43e-01    \n",
      "      315            417        1.0102e+00      4.06e-07       3.98e-06       1.14e-01    \n",
      "      316            418        1.0102e+00      3.27e-07       7.45e-06       1.12e-01    \n",
      "      317            419        1.0102e+00      6.19e-07       1.52e-05       1.15e-01    \n",
      "      318            420        1.0102e+00      7.61e-07       2.83e-05       1.78e-01    \n",
      "      319            422        1.0102e+00      5.60e-07       3.69e-06       1.13e-01    \n",
      "      320            423        1.0102e+00      3.29e-07       7.72e-06       1.13e-01    \n",
      "      321            424        1.0102e+00      6.59e-07       1.54e-05       1.13e-01    \n",
      "      322            425        1.0102e+00      1.32e-06       3.09e-05       1.12e-01    \n",
      "      323            426        1.0102e+00      1.99e-06       6.09e-05       1.21e-01    \n",
      "      324            428        1.0102e+00      9.07e-07       8.05e-06       1.12e-01    \n",
      "      325            429        1.0102e+00      5.97e-07       1.51e-05       1.15e-01    \n",
      "      326            430        1.0102e+00      5.84e-07       2.71e-05       2.04e-01    \n",
      "      327            432        1.0102e+00      6.80e-07       3.55e-06       1.12e-01    \n",
      "      328            433        1.0102e+00      2.87e-07       7.21e-06       1.14e-01    \n",
      "      329            434        1.0102e+00      5.74e-07       1.43e-05       1.10e-01    \n",
      "      330            436        1.0102e+00      2.09e-07       5.67e-06       1.15e-01    \n",
      "      331            437        1.0102e+00      3.41e-07       6.44e-06       1.13e-01    \n",
      "      332            438        1.0102e+00      6.57e-07       1.54e-05       1.13e-01    \n",
      "      333            439        1.0102e+00      1.27e-06       3.08e-05       1.11e-01    \n",
      "      334            442        1.0102e+00      1.65e-07       2.93e-06       1.13e-01    \n",
      "      335            443        1.0102e+00      1.65e-07       3.86e-06       1.13e-01    \n",
      "      336            444        1.0102e+00      3.29e-07       7.72e-06       1.13e-01    \n",
      "      337            445        1.0102e+00      6.58e-07       1.54e-05       1.13e-01    \n",
      "      338            446        1.0102e+00      1.28e-06       3.08e-05       1.11e-01    \n",
      "      339            448        1.0102e+00      2.66e-08       1.22e-05       1.20e-01    \n",
      "      340            449        1.0102e+00      3.30e-07       2.11e-06       1.18e-01    \n",
      "      341            450        1.0102e+00      4.42e-07       5.01e-06       1.14e-01    \n",
      "      342            451        1.0102e+00      5.92e-07       1.47e-05       1.11e-01    \n",
      "      343            453        1.0102e+00      2.13e-07       5.90e-06       1.15e-01    \n",
      "      344            454        1.0102e+00      3.40e-07       6.46e-06       1.13e-01    \n",
      "      345            455        1.0102e+00      6.56e-07       1.54e-05       1.13e-01    \n",
      "      346            456        1.0102e+00      1.25e-06       3.08e-05       1.10e-01    \n",
      "      347            459        1.0102e+00      1.72e-07       2.79e-06       1.13e-01    \n",
      "      348            460        1.0102e+00      1.65e-07       3.86e-06       1.13e-01    \n",
      "      349            461        1.0102e+00      3.29e-07       7.72e-06       1.13e-01    \n",
      "      350            462        1.0102e+00      6.59e-07       1.54e-05       1.13e-01    \n",
      "      351            463        1.0102e+00      1.26e-06       3.07e-05       1.15e-01    \n",
      "      352            465        1.0102e+00      5.42e-07       1.36e-05       1.10e-01    \n",
      "      353            467        1.0102e+00      1.79e-07       2.68e-06       1.13e-01    \n",
      "      354            468        1.0102e+00      1.65e-07       3.86e-06       1.13e-01    \n",
      "      355            469        1.0102e+00      3.29e-07       7.72e-06       1.13e-01    \n",
      "      356            470        1.0102e+00      6.59e-07       1.54e-05       1.13e-01    \n",
      "      357            471        1.0102e+00      1.32e-06       3.09e-05       1.13e-01    \n",
      "      358            472        1.0102e+00      2.34e-06       6.15e-05       1.40e-01    \n",
      "      359            475        1.0102e+00      3.92e-07       4.02e-06       1.14e-01    \n",
      "      360            476        1.0102e+00      3.27e-07       7.40e-06       1.12e-01    \n",
      "      361            477        1.0102e+00      6.18e-07       1.52e-05       1.15e-01    \n",
      "      362            478        1.0102e+00      7.52e-07       2.82e-05       1.80e-01    \n",
      "      363            480        1.0102e+00      5.67e-07       3.68e-06       1.13e-01    \n",
      "      364            481        1.0102e+00      3.29e-07       7.72e-06       1.13e-01    \n",
      "      365            482        1.0102e+00      6.57e-07       1.55e-05       1.12e-01    \n",
      "      366            483        1.0102e+00      1.05e-06       3.02e-05       1.18e-01    \n",
      "      367            485        1.0102e+00      5.87e-07       1.02e-05       1.10e-01    \n",
      "      368            487        1.0102e+00      1.72e-07       2.79e-06       1.13e-01    \n",
      "      369            488        1.0102e+00      1.65e-07       3.86e-06       1.13e-01    \n",
      "      370            489        1.0102e+00      3.29e-07       7.72e-06       1.13e-01    \n",
      "      371            490        1.0102e+00      6.58e-07       1.55e-05       1.13e-01    \n",
      "      372            491        1.0102e+00      1.25e-06       3.07e-05       1.15e-01    \n",
      "      373            493        1.0102e+00      5.34e-07       1.34e-05       1.10e-01    \n",
      "      374            495        1.0102e+00      1.82e-07       2.64e-06       1.13e-01    \n",
      "      375            496        1.0102e+00      1.65e-07       3.86e-06       1.13e-01    \n",
      "      376            497        1.0102e+00      3.29e-07       7.72e-06       1.13e-01    \n",
      "      377            498        1.0102e+00      6.58e-07       1.54e-05       1.13e-01    \n",
      "      378            499        1.0102e+00      1.29e-06       3.09e-05       1.11e-01    \n",
      "      379            500        1.0102e+00      0.00e+00       0.00e+00       1.11e-01    \n",
      "The maximum number of function evaluations is exceeded.\n",
      "Function evaluations 500, initial cost 1.1382e+07, final cost 1.0102e+00, first-order optimality 1.11e-01.\n"
     ]
    }
   ],
   "source": [
    "z# Define the objective function\n",
    "def cost_function(x, strikes, mkt_prices):\n",
    "    sigm, lamb, p, eta1, eta2 = x\n",
    "    KOU = Kou_pricer(S0=S0, K=strikes, ttm=T, r=r, sigma=sigm, lambd=lamb, p=p, eta1=eta1, eta2=eta2, exercise=exercise)\n",
    "    sq_err = np.sum(p_weights*(KOU.closed_formula_put(strikes) - mkt_prices)**2)\n",
    "    return sq_err\n",
    "\n",
    "start2=time.time()\n",
    "kou2 = scpo.least_squares(cost_function, x0, args=(put_strikes, put_prices),  method='trf', bounds=bounds, verbose=2)\n",
    "end2=time.time()"
   ],
   "metadata": {
    "collapsed": false,
    "ExecuteTime": {
     "end_time": "2023-09-22T19:56:23.179731800Z",
     "start_time": "2023-09-22T18:49:43.167977100Z"
    }
   }
  },
  {
   "cell_type": "code",
   "execution_count": 21,
   "outputs": [],
   "source": [
    "kou_params2 = [round(p,4) for p in kou2.x[:5]]"
   ],
   "metadata": {
    "collapsed": false,
    "ExecuteTime": {
     "end_time": "2023-09-22T19:56:53.519457100Z",
     "start_time": "2023-09-22T19:56:53.424955900Z"
    }
   }
  },
  {
   "cell_type": "code",
   "execution_count": 22,
   "outputs": [],
   "source": [
    "# print('WEIGHTED OPT: CURVE_FIT (trf)')\n",
    "# print(f'> Calibrated Volatlity [σ] = {kou_params1[0]} \\t {kou_params1[0] * 100}%')\n",
    "# print('> Calibrated Jump intensity [λ] = ', kou_params1[1])\n",
    "# print(f'> Calibrated Upward Jump probability [p] = {kou_params1[2]}, [q] = {round(1 - kou_params1[2], 2)}')\n",
    "# print('> Calibrated Rate of Exp. 1  [η_1] = ', kou_params1[3])\n",
    "# print('> Calibrated Rate of Exp. 2  [η_2] = ', kou_params1[4])\n",
    "# print(f'TIME ELAPSED: {end1-start1} sec')"
   ],
   "metadata": {
    "collapsed": false,
    "ExecuteTime": {
     "end_time": "2023-09-22T19:56:54.165414600Z",
     "start_time": "2023-09-22T19:56:54.095787500Z"
    }
   }
  },
  {
   "cell_type": "code",
   "execution_count": 23,
   "outputs": [
    {
     "name": "stdout",
     "output_type": "stream",
     "text": [
      "METHOD 2: Least-squares\n",
      "> Calibrated Volatlity [σ] = 0.5727 \t 57.27%\n",
      "> Calibrated Jump intensity [λ] =  0.86\n",
      "> Calibrated Upward Jump probability [p] = 0.6, [q] = 0.4\n",
      "> Calibrated Rate of Exp. 1  [η_1] =  9.97\n",
      "> Calibrated Rate of Exp. 2  [η_2] =  7.98\n",
      "TIME ELAPSED:  4000.0 sec\n"
     ]
    }
   ],
   "source": [
    "print('METHOD 2: Least-squares')\n",
    "print(f'> Calibrated Volatlity [σ] = {round(kou_params2[0],4)} \\t {round(kou_params2[0]*100,2)}%')\n",
    "print('> Calibrated Jump intensity [λ] = ', round(kou_params2[1],2))\n",
    "print(f'> Calibrated Upward Jump probability [p] = {round(kou_params2[2],2)}, [q] = {round(1-kou_params2[2],2)}')\n",
    "print('> Calibrated Rate of Exp. 1  [η_1] = ', round(kou_params2[3],2))\n",
    "print('> Calibrated Rate of Exp. 2  [η_2] = ', round(kou_params2[4],2))\n",
    "print(f'TIME ELAPSED:  {round(end2-start2,2)} sec')"
   ],
   "metadata": {
    "collapsed": false,
    "ExecuteTime": {
     "end_time": "2023-09-22T19:56:54.803646300Z",
     "start_time": "2023-09-22T19:56:54.740544100Z"
    }
   }
  },
  {
   "cell_type": "code",
   "execution_count": 24,
   "outputs": [
    {
     "name": "stdout",
     "output_type": "stream",
     "text": [
      "[0.5727, 0.8597, 0.5985, 9.9668, 7.9809]\n",
      "Stored 'puts_kou_params_tsla' (list)\n"
     ]
    }
   ],
   "source": [
    "#print(kou_params1)\n",
    "print(kou_params2)\n",
    "puts_kou_params_tsla = kou_params2\n",
    "%store puts_kou_params_tsla"
   ],
   "metadata": {
    "collapsed": false,
    "ExecuteTime": {
     "end_time": "2023-09-22T19:57:00.943383Z",
     "start_time": "2023-09-22T19:57:00.896127700Z"
    }
   }
  },
  {
   "cell_type": "markdown",
   "source": [
    "### Variance Gamma\n"
   ],
   "metadata": {
    "collapsed": false
   }
  },
  {
   "cell_type": "code",
   "execution_count": 27,
   "outputs": [],
   "source": [
    "x0 = [0.18, -0.1, 0.4]   # initial guess: [σ, θ, v]\n",
    "bounds = ( [1e-1, -1, 0], [0.7, 1.8, 3] )"
   ],
   "metadata": {
    "collapsed": false,
    "ExecuteTime": {
     "end_time": "2023-09-22T19:57:45.360414300Z",
     "start_time": "2023-09-22T19:57:45.308350200Z"
    }
   }
  },
  {
   "cell_type": "markdown",
   "source": [
    "##### Method 1. CURVE FIT (Bounds)"
   ],
   "metadata": {
    "collapsed": false
   }
  },
  {
   "cell_type": "code",
   "execution_count": 29,
   "outputs": [],
   "source": [
    "def f_VG(strikes, sigmax, thetax, nux):\n",
    "    VGamma = VG_pricer(S0=S0, K=None, ttm=T, r=r, q=0, sigma=sigmax, theta=thetax, nu=nux, exercise='put')\n",
    "    vg_prices = []\n",
    "    for k in strikes:\n",
    "        vg_prices.append(VGamma.closed_formula_put(k))\n",
    "    return vg_prices\n",
    "\n",
    "start1 = time.time()\n",
    "vg1 = scpo.curve_fit(f_VG, put_strikes, put_prices, p0=x0, bounds=bounds, sigma=p_weights)\n",
    "end1 = time.time()\n",
    "\n",
    "vg_params1 = [round(p,4) for p in vg1[0][:3]]"
   ],
   "metadata": {
    "collapsed": false,
    "ExecuteTime": {
     "end_time": "2023-09-22T20:02:17.883748300Z",
     "start_time": "2023-09-22T20:01:33.402380Z"
    }
   }
  },
  {
   "cell_type": "markdown",
   "source": [
    "##### Method 2. LEAST-SQUARES (Trust Region Reflective, Bounds)"
   ],
   "metadata": {
    "collapsed": false
   }
  },
  {
   "cell_type": "code",
   "execution_count": 31,
   "outputs": [
    {
     "name": "stdout",
     "output_type": "stream",
     "text": [
      "   Iteration     Total nfev        Cost      Cost reduction    Step norm     Optimality   \n",
      "       0              1         5.5755e+03                                    1.05e+04    \n",
      "       1              2         5.8185e+02      4.99e+03       2.88e-01       2.81e+03    \n",
      "       2              4         8.4083e+01      4.98e+02       1.52e-01       3.23e+03    \n",
      "       3              6         7.2030e+01      1.21e+01       5.75e-02       6.94e+02    \n",
      "       4              7         5.9170e+01      1.29e+01       8.54e-03       4.26e+02    \n",
      "       5              8         5.1257e+01      7.91e+00       1.59e-02       4.18e+02    \n",
      "       6             10         5.0625e+01      6.31e-01       7.69e-03       8.39e+01    \n",
      "       7             11         4.9882e+01      7.43e-01       3.03e-03       1.82e+02    \n",
      "       8             12         4.9322e+01      5.60e-01       6.75e-03       8.37e+01    \n",
      "       9             13         4.8574e+01      7.49e-01       3.00e-03       1.76e+02    \n",
      "      10             14         4.7990e+01      5.84e-01       6.68e-03       8.03e+01    \n",
      "      11             15         4.7255e+01      7.35e-01       2.97e-03       1.77e+02    \n",
      "      12             16         4.6666e+01      5.89e-01       6.72e-03       7.83e+01    \n",
      "      13             17         4.5937e+01      7.29e-01       2.94e-03       1.75e+02    \n",
      "      14             18         4.5336e+01      6.01e-01       6.71e-03       7.57e+01    \n",
      "      15             19         4.4615e+01      7.20e-01       2.91e-03       1.75e+02    \n",
      "      16             20         4.4006e+01      6.10e-01       6.72e-03       7.34e+01    \n",
      "      17             21         4.3293e+01      7.13e-01       2.88e-03       1.73e+02    \n",
      "      18             22         4.2675e+01      6.18e-01       6.72e-03       7.11e+01    \n",
      "      19             23         4.1970e+01      7.05e-01       2.86e-03       1.72e+02    \n",
      "      20             24         4.1345e+01      6.25e-01       6.72e-03       6.88e+01    \n",
      "      21             25         4.0648e+01      6.97e-01       2.83e-03       1.71e+02    \n",
      "      22             26         4.0016e+01      6.32e-01       6.73e-03       6.65e+01    \n",
      "      23             27         3.9327e+01      6.89e-01       2.81e-03       1.69e+02    \n",
      "      24             28         3.8689e+01      6.38e-01       6.73e-03       6.43e+01    \n",
      "      25             29         3.8008e+01      6.81e-01       2.79e-03       1.68e+02    \n",
      "      26             30         3.7365e+01      6.43e-01       6.73e-03       6.20e+01    \n",
      "      27             31         3.6692e+01      6.73e-01       2.77e-03       1.66e+02    \n",
      "      28             32         3.6045e+01      6.47e-01       6.73e-03       5.99e+01    \n",
      "      29             33         3.5380e+01      6.65e-01       2.75e-03       1.64e+02    \n",
      "      30             34         3.4471e+01      9.10e-01       1.35e-02       9.12e+01    \n",
      "      31             35         3.3305e+01      1.17e+00       5.64e-03       2.87e+02    \n",
      "      32             36         3.3092e+01      2.13e-01       1.53e-02       1.10e+02    \n",
      "      33             37         3.2361e+01      7.31e-01       1.47e-03       8.57e+01    \n",
      "      34             38         3.1445e+01      9.16e-01       2.74e-03       6.96e+01    \n",
      "      35             39         3.0720e+01      7.25e-01       4.16e-03       9.88e+01    \n",
      "      36             40         2.9300e+01      1.42e+00       1.04e-02       4.63e+01    \n",
      "      37             41         2.7354e+01      1.95e+00       1.30e-02       3.70e+02    \n",
      "      38             43         2.6494e+01      8.61e-01       7.37e-03       7.71e+01    \n",
      "      39             44         2.5800e+01      6.93e-01       4.46e-03       9.38e+01    \n",
      "      40             45         2.4432e+01      1.37e+00       1.03e-02       6.70e+01    \n",
      "      41             46         2.1914e+01      2.52e+00       1.66e-02       1.96e+02    \n",
      "      42             48         2.1121e+01      7.94e-01       1.50e-02       6.68e+01    \n",
      "      43             49         2.0053e+01      1.07e+00       4.86e-03       2.03e+02    \n",
      "      44             50         1.9262e+01      7.91e-01       1.52e-02       6.24e+01    \n",
      "      45             51         1.8237e+01      1.02e+00       4.73e-03       1.94e+02    \n",
      "      46             52         1.7426e+01      8.11e-01       1.52e-02       5.72e+01    \n",
      "      47             53         1.6462e+01      9.64e-01       4.59e-03       1.87e+02    \n",
      "      48             54         1.5642e+01      8.20e-01       1.52e-02       5.24e+01    \n",
      "      49             55         1.4734e+01      9.08e-01       4.47e-03       1.80e+02    \n",
      "      50             56         1.3914e+01      8.20e-01       1.52e-02       4.78e+01    \n",
      "      51             57         1.3062e+01      8.52e-01       4.38e-03       1.72e+02    \n",
      "      52             58         1.2251e+01      8.11e-01       1.52e-02       4.34e+01    \n",
      "      53             59         1.1443e+01      8.08e-01       4.32e-03       1.62e+02    \n",
      "      54             60         1.0649e+01      7.94e-01       1.52e-02       3.92e+01    \n",
      "      55             61         9.8602e+00      7.89e-01       4.40e-03       1.48e+02    \n",
      "      56             62         9.0890e+00      7.71e-01       1.52e-02       3.50e+01    \n",
      "      57             63         8.3290e+00      7.60e-01       4.65e-03       1.35e+02    \n",
      "      58             64         7.5911e+00      7.38e-01       1.52e-02       3.11e+01    \n",
      "      59             65         6.8709e+00      7.20e-01       5.03e-03       1.22e+02    \n",
      "      60             66         6.1782e+00      6.93e-01       1.52e-02       2.81e+01    \n",
      "      61             67         5.5103e+00      6.68e-01       5.44e-03       1.10e+02    \n",
      "      62             68         4.8758e+00      6.34e-01       1.51e-02       2.94e+01    \n",
      "      63             69         4.2737e+00      6.02e-01       5.79e-03       9.91e+01    \n",
      "      64             70         3.7112e+00      5.63e-01       1.51e-02       2.83e+01    \n",
      "      65             71         3.1886e+00      5.23e-01       5.98e-03       8.81e+01    \n",
      "      66             72         2.8669e+00      3.22e-01       1.51e-02       2.40e+01    \n",
      "      67             73         2.4109e+00      4.56e-01       4.05e-03       7.86e+01    \n",
      "      68             74         2.4100e+00      9.82e-04       1.48e-02       2.90e+01    \n",
      "      69             75         2.1700e+00      2.40e-01       9.31e-04       2.18e+01    \n",
      "      70             76         1.8670e+00      3.03e-01       1.95e-03       3.85e+01    \n",
      "      71             77         1.6392e+00      2.28e-01       5.41e-03       4.51e+01    \n",
      "      72             78         1.2307e+00      4.08e-01       1.35e-02       3.36e+01    \n",
      "      73             79         6.5829e-01      5.72e-01       2.41e-02       3.71e+01    \n",
      "      74             82         6.3946e-01      1.88e-02       3.12e-03       1.61e+01    \n",
      "      75             83         6.2239e-01      1.71e-02       5.06e-04       1.73e+01    \n",
      "      76             84         5.9144e-01      3.10e-02       1.14e-03       1.92e+01    \n",
      "      77             85         5.3702e-01      5.44e-02       2.77e-03       2.09e+01    \n",
      "      78             86         4.4148e-01      9.55e-02       6.67e-03       1.80e+01    \n",
      "      79             87         2.9857e-01      1.43e-01       1.37e-02       1.13e+01    \n",
      "      80             88         1.7802e-01      1.21e-01       2.66e-02       1.13e+01    \n",
      "      81             91         1.7631e-01      1.71e-03       1.18e-03       1.68e+00    \n",
      "      82             92         1.7441e-01      1.89e-03       1.05e-04       1.33e+00    \n",
      "      83             93         1.7182e-01      2.59e-03       2.36e-04       1.68e+00    \n",
      "      84             94         1.6957e-01      2.25e-03       9.70e-04       2.76e+00    \n",
      "      85             96         1.6920e-01      3.75e-04       4.18e-04       1.71e+00    \n",
      "      86             97         1.6850e-01      6.95e-04       3.47e-04       1.82e+00    \n",
      "      87             98         1.6721e-01      1.29e-03       8.34e-04       1.75e+00    \n",
      "      88             99         1.6489e-01      2.32e-03       1.84e-03       1.28e+00    \n",
      "      89             100        1.6137e-01      3.52e-03       3.36e-03       2.33e+00    \n",
      "      90             104        1.6119e-01      1.81e-04       1.01e-04       1.96e+00    \n",
      "      91             105        1.6107e-01      1.18e-04       1.31e-04       1.76e+00    \n",
      "      92             106        1.6084e-01      2.25e-04       2.71e-04       1.64e+00    \n",
      "      93             107        1.6041e-01      4.33e-04       5.27e-04       1.54e+00    \n",
      "      94             108        1.5956e-01      8.51e-04       9.93e-04       1.58e+00    \n",
      "      95             109        1.5791e-01      1.65e-03       2.05e-03       1.52e+00    \n",
      "      96             110        1.5490e-01      3.01e-03       3.95e-03       2.13e+00    \n",
      "      97             114        1.5479e-01      1.19e-04       1.13e-04       1.80e+00    \n",
      "      98             115        1.5468e-01      1.02e-04       1.42e-04       1.74e+00    \n",
      "      99             116        1.5449e-01      1.97e-04       2.82e-04       1.65e+00    \n",
      "      100            117        1.5410e-01      3.88e-04       5.49e-04       1.57e+00    \n",
      "      101            118        1.5333e-01      7.73e-04       1.05e-03       1.60e+00    \n",
      "      102            119        1.5180e-01      1.53e-03       2.16e-03       1.48e+00    \n",
      "      103            120        1.4911e-01      2.69e-03       3.98e-03       2.32e+00    \n",
      "      104            124        1.4892e-01      1.87e-04       9.36e-05       1.94e+00    \n",
      "      105            125        1.4882e-01      9.69e-05       1.26e-04       1.67e+00    \n",
      "      106            126        1.4873e-01      9.52e-05       1.41e-04       1.63e+00    \n",
      "      107            127        1.4854e-01      1.87e-04       2.79e-04       1.57e+00    \n",
      "      108            128        1.4817e-01      3.71e-04       5.44e-04       1.52e+00    \n",
      "      109            129        1.4743e-01      7.40e-04       1.06e-03       1.54e+00    \n",
      "      110            130        1.4596e-01      1.47e-03       2.15e-03       1.44e+00    \n",
      "      111            131        1.4325e-01      2.71e-03       4.07e-03       2.04e+00    \n",
      "      112            135        1.4313e-01      1.25e-04       1.05e-04       1.70e+00    \n",
      "      113            136        1.4303e-01      9.41e-05       1.42e-04       1.62e+00    \n",
      "      114            137        1.4285e-01      1.81e-04       2.83e-04       1.52e+00    \n",
      "      115            138        1.4250e-01      3.55e-04       5.50e-04       1.45e+00    \n",
      "      116            139        1.4179e-01      7.08e-04       1.05e-03       1.48e+00    \n",
      "      117            140        1.4039e-01      1.40e-03       2.17e-03       1.33e+00    \n",
      "      118            141        1.3823e-01      2.16e-03       3.86e-03       2.64e+00    \n",
      "      119            144        1.3797e-01      2.63e-04       3.31e-04       9.24e-01    \n",
      "      120            145        1.3786e-01      1.11e-04       6.78e-05       1.04e+00    \n",
      "      121            146        1.3767e-01      1.92e-04       1.64e-04       1.23e+00    \n",
      "      122            147        1.3733e-01      3.37e-04       4.43e-04       1.44e+00    \n",
      "      123            148        1.3666e-01      6.76e-04       1.09e-03       1.31e+00    \n",
      "      124            149        1.3538e-01      1.28e-03       1.98e-03       1.70e+00    \n",
      "      125            152        1.3526e-01      1.15e-04       2.60e-04       1.25e+00    \n",
      "      126            153        1.3509e-01      1.69e-04       2.34e-04       1.33e+00    \n",
      "      127            154        1.3476e-01      3.34e-04       5.12e-04       1.38e+00    \n",
      "      128            155        1.3409e-01      6.65e-04       1.07e-03       1.33e+00    \n",
      "      129            156        1.3278e-01      1.31e-03       2.08e-03       1.46e+00    \n",
      "      130            157        1.3089e-01      1.89e-03       4.50e-03       6.09e-01    \n",
      "      131            159        1.3000e-01      8.90e-04       2.81e-04       1.40e+00    \n",
      "      132            160        1.2938e-01      6.21e-04       1.11e-03       1.17e+00    \n",
      "      133            161        1.2834e-01      1.04e-03       1.84e-03       1.87e+00    \n",
      "      134            164        1.2820e-01      1.37e-04       1.94e-04       1.19e+00    \n",
      "      135            165        1.2804e-01      1.58e-04       2.41e-04       1.26e+00    \n",
      "      136            166        1.2773e-01      3.13e-04       5.17e-04       1.29e+00    \n",
      "      137            167        1.2711e-01      6.23e-04       1.07e-03       1.25e+00    \n",
      "      138            168        1.2588e-01      1.23e-03       2.08e-03       1.36e+00    \n",
      "      139            169        1.2408e-01      1.80e-03       4.48e-03       5.85e-01    \n",
      "      140            171        1.2327e-01      8.08e-04       2.86e-04       1.34e+00    \n",
      "      141            172        1.2271e-01      5.61e-04       1.13e-03       1.02e+00    \n",
      "      142            173        1.2201e-01      7.01e-04       1.63e-03       2.14e+00    \n",
      "      143            175        1.2195e-01      6.62e-05       3.34e-04       6.30e-01    \n",
      "      144            176        1.2183e-01      1.14e-04       5.06e-05       7.51e-01    \n",
      "      145            177        1.2165e-01      1.85e-04       1.26e-04       9.70e-01    \n",
      "      146            178        1.2136e-01      2.86e-04       3.83e-04       1.25e+00    \n",
      "      147            179        1.2079e-01      5.73e-04       1.10e-03       1.07e+00    \n",
      "      148            180        1.1984e-01      9.50e-04       1.83e-03       1.73e+00    \n",
      "      149            183        1.1971e-01      1.23e-04       1.91e-04       1.06e+00    \n",
      "      150            184        1.1957e-01      1.45e-04       2.32e-04       1.14e+00    \n",
      "      151            185        1.1928e-01      2.87e-04       5.11e-04       1.18e+00    \n",
      "      152            186        1.1871e-01      5.71e-04       1.06e-03       1.13e+00    \n",
      "      153            187        1.1759e-01      1.12e-03       2.05e-03       1.28e+00    \n",
      "      154            188        1.1663e-01      9.62e-04       4.51e-03       8.75e-01    \n",
      "      155            190        1.1535e-01      1.28e-03       2.93e-04       8.40e-01    \n",
      "      156            191        1.1495e-01      3.97e-04       6.70e-04       1.52e+00    \n",
      "      157            193        1.1489e-01      6.15e-05       2.12e-04       9.25e-01    \n",
      "      158            194        1.1485e-01      3.72e-05       5.02e-05       9.57e-01    \n",
      "      159            195        1.1478e-01      7.15e-05       1.06e-04       1.01e+00    \n",
      "      160            196        1.1464e-01      1.37e-04       2.33e-04       1.08e+00    \n",
      "      161            197        1.1437e-01      2.71e-04       5.15e-04       1.12e+00    \n",
      "      162            198        1.1383e-01      5.39e-04       1.07e-03       1.07e+00    \n",
      "      163            199        1.1278e-01      1.05e-03       2.05e-03       1.24e+00    \n",
      "      164            200        1.1239e-01      3.90e-04       4.51e-03       1.04e+00    \n",
      "      165            201        1.1082e-01      1.57e-03       3.02e-04       5.43e-01    \n",
      "      166            202        1.1046e-01      3.64e-04       4.11e-04       1.47e+00    \n",
      "      167            204        1.1040e-01      5.95e-05       2.04e-04       8.66e-01    \n",
      "      168            205        1.1037e-01      3.54e-05       4.93e-05       8.97e-01    \n",
      "      169            206        1.1030e-01      6.78e-05       1.05e-04       9.52e-01    \n",
      "      170            207        1.1017e-01      1.30e-04       2.32e-04       1.02e+00    \n",
      "      171            208        1.0991e-01      2.56e-04       5.15e-04       1.06e+00    \n",
      "      172            209        1.0940e-01      5.09e-04       1.07e-03       1.01e+00    \n",
      "      173            210        1.0842e-01      9.88e-04       2.04e-03       1.19e+00    \n",
      "      174            212        1.0814e-01      2.72e-04       1.12e-03       5.03e-01    \n",
      "      175            213        1.0780e-01      3.44e-04       3.92e-04       1.42e+00    \n",
      "      176            215        1.0774e-01      5.74e-05       2.01e-04       8.23e-01    \n",
      "      177            216        1.0771e-01      3.43e-05       4.84e-05       8.55e-01    \n",
      "      178            217        1.0764e-01      6.55e-05       1.04e-04       9.10e-01    \n",
      "      179            218        1.0752e-01      1.26e-04       2.30e-04       9.82e-01    \n",
      "      180            219        1.0727e-01      2.47e-04       5.13e-04       1.01e+00    \n",
      "      181            220        1.0678e-01      4.93e-04       1.06e-03       9.66e-01    \n",
      "      182            221        1.0582e-01      9.54e-04       2.03e-03       1.14e+00    \n",
      "      183            223        1.0554e-01      2.83e-04       1.12e-03       5.03e-01    \n",
      "      184            224        1.0523e-01      3.12e-04       4.06e-04       1.40e+00    \n",
      "      185            226        1.0517e-01      6.14e-05       1.95e-04       7.93e-01    \n",
      "      186            227        1.0513e-01      3.30e-05       4.84e-05       8.24e-01    \n",
      "      187            228        1.0507e-01      6.30e-05       1.04e-04       8.78e-01    \n",
      "      188            229        1.0495e-01      1.20e-04       2.30e-04       9.47e-01    \n",
      "      189            230        1.0471e-01      2.38e-04       5.13e-04       9.72e-01    \n",
      "      190            231        1.0424e-01      4.74e-04       1.06e-03       9.31e-01    \n",
      "      191            232        1.0332e-01      9.20e-04       2.03e-03       1.09e+00    \n",
      "      192            234        1.0303e-01      2.91e-04       1.12e-03       5.02e-01    \n",
      "      193            235        1.0274e-01      2.83e-04       4.21e-04       1.37e+00    \n",
      "      194            237        1.0268e-01      6.59e-05       1.90e-04       7.64e-01    \n",
      "      195            238        1.0265e-01      3.17e-05       4.85e-05       7.95e-01    \n",
      "      196            239        1.0258e-01      6.05e-05       1.04e-04       8.47e-01    \n",
      "      197            240        1.0247e-01      1.16e-04       2.31e-04       9.13e-01    \n",
      "      198            241        1.0224e-01      2.29e-04       5.14e-04       9.34e-01    \n",
      "      199            242        1.0178e-01      4.56e-04       1.06e-03       8.97e-01    \n",
      "      200            243        1.0090e-01      8.88e-04       2.04e-03       1.05e+00    \n",
      "      201            245        1.0056e-01      3.31e-04       1.12e-03       5.52e-01    \n",
      "      202            246        1.0031e-01      2.50e-04       4.91e-04       1.35e+00    \n",
      "      203            248        1.0024e-01      7.39e-05       1.85e-04       7.40e-01    \n",
      "      204            249        1.0021e-01      3.03e-05       4.92e-05       7.69e-01    \n",
      "      205            250        1.0015e-01      5.75e-05       1.05e-04       8.18e-01    \n",
      "      206            251        1.0004e-01      1.11e-04       2.33e-04       8.80e-01    \n",
      "      207            252        9.9821e-02      2.20e-04       5.15e-04       8.95e-01    \n",
      "      208            253        9.9383e-02      4.38e-04       1.05e-03       8.64e-01    \n",
      "      209            254        9.8524e-02      8.59e-04       2.04e-03       9.93e-01    \n",
      "      210            255        9.8404e-02      1.20e-04       4.48e-03       1.07e+00    \n",
      "      211            256        9.6965e-02      1.44e-03       3.19e-04       3.78e-01    \n",
      "      212            257        9.6705e-02      2.60e-04       3.77e-04       1.26e+00    \n",
      "      213            259        9.6647e-02      5.73e-05       1.84e-04       6.69e-01    \n",
      "      214            260        9.6618e-02      2.95e-05       4.59e-05       7.02e-01    \n",
      "      215            261        9.6562e-02      5.55e-05       9.99e-05       7.58e-01    \n",
      "      216            262        9.6458e-02      1.04e-04       2.28e-04       8.29e-01    \n",
      "      217            263        9.6241e-02      2.17e-04       5.16e-04       8.45e-01    \n",
      "      218            264        9.5839e-02      4.03e-04       1.06e-03       7.76e-01    \n",
      "      219            265        9.5063e-02      7.76e-04       2.02e-03       7.91e-01    \n",
      "      220            266        9.3836e-02      1.23e-03       3.96e-03       1.98e+00    \n",
      "      221            269        9.3564e-02      2.71e-04       1.58e-04       8.71e-01    \n",
      "      222            270        9.3469e-02      9.55e-05       2.76e-04       7.83e-01    \n",
      "      223            271        9.3273e-02      1.96e-04       5.19e-04       7.66e-01    \n",
      "      224            272        9.2888e-02      3.84e-04       1.02e-03       7.99e-01    \n",
      "      225            273        9.2138e-02      7.50e-04       2.13e-03       6.04e-01    \n",
      "      226            275        9.1891e-02      2.47e-04       7.17e-04       1.14e+00    \n",
      "      227            277        9.1858e-02      3.34e-05       1.86e-04       5.61e-01    \n",
      "      228            278        9.1829e-02      2.84e-05       4.01e-05       5.98e-01    \n",
      "      229            279        9.1777e-02      5.22e-05       8.97e-05       6.63e-01    \n",
      "      230            280        9.1682e-02      9.52e-05       2.15e-04       7.47e-01    \n",
      "      231            281        9.1494e-02      1.88e-04       5.12e-04       7.60e-01    \n",
      "      232            282        9.1120e-02      3.75e-04       1.05e-03       7.28e-01    \n",
      "      233            283        9.0398e-02      7.22e-04       2.01e-03       8.89e-01    \n",
      "      234            286        9.0341e-02      5.67e-05       2.68e-04       6.10e-01    \n",
      "      235            287        9.0253e-02      8.87e-05       1.96e-04       7.20e-01    \n",
      "      236            288        9.0066e-02      1.87e-04       5.09e-04       7.47e-01    \n",
      "      237            289        8.9705e-02      3.61e-04       1.06e-03       6.83e-01    \n",
      "      238            290        8.9067e-02      6.38e-04       1.93e-03       1.03e+00    \n",
      "      239            293        8.9064e-02      3.65e-06       1.94e-04       4.77e-01    \n",
      "      240            294        8.9035e-02      2.90e-05       3.43e-05       5.19e-01    \n",
      "      241            295        8.8983e-02      5.18e-05       7.85e-05       5.94e-01    \n",
      "      242            296        8.8893e-02      9.00e-05       1.99e-04       6.97e-01    \n",
      "      243            297        8.8716e-02      1.77e-04       5.09e-04       7.13e-01    \n",
      "      244            298        8.8365e-02      3.51e-04       1.05e-03       6.75e-01    \n",
      "      245            299        8.7704e-02      6.61e-04       1.98e-03       8.92e-01    \n",
      "      246            300        8.7704e-02      0.00e+00       0.00e+00       8.92e-01    \n",
      "The maximum number of function evaluations is exceeded.\n",
      "Function evaluations 300, initial cost 5.5755e+03, final cost 8.7704e-02, first-order optimality 8.92e-01.\n"
     ]
    }
   ],
   "source": [
    "def cost_function(x, strikes, mkt_prices):\n",
    "    sigma, theta, nu = x\n",
    "    VG = VG_pricer(S0, None, T, r, q, sigma, theta, nu, exercise)\n",
    "    prices = []\n",
    "    for k in strikes:\n",
    "        prices.append(VG.closed_formula_put(k))\n",
    "    sq_err = np.sum(p_weights*(prices - mkt_prices)**2)\n",
    "    return sq_err\n",
    "\n",
    "start2=time.time()\n",
    "vg2 = scpo.least_squares(cost_function, x0, args=(put_strikes, put_prices),  method='trf', bounds=bounds, verbose=2, loss='soft_l1')\n",
    "end2=time.time()\n",
    "\n",
    "vg_params2 = [round(p,4) for p in vg2.x[:3]]"
   ],
   "metadata": {
    "collapsed": false,
    "ExecuteTime": {
     "end_time": "2023-09-22T20:27:58.276796800Z",
     "start_time": "2023-09-22T20:02:37.465596700Z"
    }
   }
  },
  {
   "cell_type": "code",
   "execution_count": 32,
   "outputs": [
    {
     "name": "stdout",
     "output_type": "stream",
     "text": [
      "WEIGHTED OPT: CURVE_FIT (trf)\n",
      "> Calibrated Volatlity [σ] = 0.6327, \t 63.27%\n",
      "> Calibrated mean rate gamma process [θ] =  0.1262\n",
      "> Calibrated variance rate gamma process [v]=  0.7386\n",
      "TIME ELAPSED:  44.48 sec\n",
      "METHOD 1: LEAST-SQUARES (trf)\n",
      "> Calibrated Volatlity [σ] = 0.6289, \t 62.89%\n",
      "> Calibrated mean rate gamma process [θ] =  0.173\n",
      "> Calibrated variance rate gamma process [v]=  0.5591\n",
      "TIME ELAPSED:  1520.81 sec\n"
     ]
    }
   ],
   "source": [
    "print('WEIGHTED OPT: CURVE_FIT (trf)')\n",
    "print(f'> Calibrated Volatlity [σ] = {vg_params1[0]}, \\t {round(vg_params1[0]*100,2)}%')\n",
    "print('> Calibrated mean rate gamma process [θ] = ', vg_params1[1])\n",
    "print('> Calibrated variance rate gamma process [v]= ', vg_params1[2])\n",
    "print(f'TIME ELAPSED:  {round(end1-start1,2)} sec')\n",
    "\n",
    "print('METHOD 1: LEAST-SQUARES (trf)')\n",
    "print(f'> Calibrated Volatlity [σ] = {vg_params2[0]}, \\t {round(vg_params2[0]*100,2)}%')\n",
    "print('> Calibrated mean rate gamma process [θ] = ', vg_params2[1])\n",
    "print('> Calibrated variance rate gamma process [v]= ', vg_params2[2])\n",
    "print(f'TIME ELAPSED:  {round(end2-start2,2)} sec')"
   ],
   "metadata": {
    "collapsed": false,
    "ExecuteTime": {
     "end_time": "2023-09-22T22:18:47.354393Z",
     "start_time": "2023-09-22T22:18:47.302261900Z"
    }
   }
  },
  {
   "cell_type": "code",
   "execution_count": 33,
   "outputs": [
    {
     "name": "stdout",
     "output_type": "stream",
     "text": [
      "[0.6327, 0.1262, 0.7386]\n",
      "[0.6289, 0.173, 0.5591]\n",
      "Stored 'puts_vg_params_tsla' (list)\n"
     ]
    }
   ],
   "source": [
    "print(vg_params1)\n",
    "print(vg_params2)\n",
    "puts_vg_params_tsla = vg_params2\n",
    "%store puts_vg_params_tsla"
   ],
   "metadata": {
    "collapsed": false,
    "ExecuteTime": {
     "end_time": "2023-09-22T22:18:51.523085500Z",
     "start_time": "2023-09-22T22:18:51.491339200Z"
    }
   }
  },
  {
   "cell_type": "markdown",
   "source": [
    "##### For when you don't want to recalibrate. Otherwise comment this cell"
   ],
   "metadata": {
    "collapsed": false
   }
  },
  {
   "cell_type": "code",
   "execution_count": 34,
   "outputs": [],
   "source": [
    "%store -r puts_bs_params_tsla\n",
    "%store -r puts_mert_params_tsla\n",
    "%store -r puts_kou_params_tsla\n",
    "%store -r puts_vg_params_tsla\n",
    "\n",
    "m_params = puts_mert_params_tsla\n",
    "k_params = puts_kou_params_tsla\n",
    "vg_params = puts_vg_params_tsla"
   ],
   "metadata": {
    "collapsed": false,
    "ExecuteTime": {
     "end_time": "2023-09-22T22:18:53.409921400Z",
     "start_time": "2023-09-22T22:18:53.359211500Z"
    }
   }
  },
  {
   "cell_type": "markdown",
   "source": [
    "### Reprice of options using calibrated parameters\n",
    "Let's test our calibration results repricing initial market options. To do this we use both closed formulas and Monte Carlo pricing, to show that we achieve a very good parameters' estimation. "
   ],
   "metadata": {
    "collapsed": false
   }
  },
  {
   "cell_type": "code",
   "execution_count": 35,
   "outputs": [
    {
     "name": "stdout",
     "output_type": "stream",
     "text": [
      "MARKET PRICES. STARTING DATE = 20-01-2016. EXPIRY = 1YEAR. \n",
      "\n",
      "    STRIKE  MKT_BID  MKT_MID  MKT_ASK\n",
      "0    150.0    18.55   19.245    19.94\n",
      "1    155.0    20.40   20.855    21.31\n",
      "2    160.0    22.20   22.775    23.35\n",
      "3    165.0    24.55   25.175    25.80\n",
      "4    170.0    26.70   27.375    28.05\n",
      "5    175.0    27.70   29.030    30.36\n",
      "6    180.0    30.25   31.500    32.75\n",
      "7    185.0    33.89   34.595    35.30\n",
      "8    190.0    36.25   37.350    38.45\n",
      "9    195.0    39.16   39.880    40.60\n",
      "10   200.0    42.10   42.900    43.70\n",
      "11   210.0    48.00   48.820    49.64\n",
      "12   220.0    54.46   55.230    56.00\n",
      "13   230.0    61.20   62.575    63.95\n",
      "14   240.0    68.36   69.105    69.85\n",
      "15   250.0    75.66   76.150    76.64\n",
      "16   260.0    83.59   84.570    85.55\n"
     ]
    }
   ],
   "source": [
    "days = 252\n",
    "paths = 5000\n",
    "\n",
    "put_calib_prices = pd.DataFrame({\n",
    "    'STRIKE': puts['STRIKE'],    # array of K for call options\n",
    "    'MKT_BID': puts['P_BID'],\n",
    "    'MKT_MID': puts['P_Midpoint'],\n",
    "    'MKT_ASK': puts['P_ASK'],\n",
    "\n",
    "})\n",
    "print(f'MARKET PRICES. STARTING DATE = 20-01-2016. EXPIRY = 1YEAR. \\n\\n{put_calib_prices}')"
   ],
   "metadata": {
    "collapsed": false,
    "ExecuteTime": {
     "end_time": "2023-09-22T22:18:54.683968Z",
     "start_time": "2023-09-22T22:18:54.624964400Z"
    }
   }
  },
  {
   "cell_type": "markdown",
   "source": [
    "#### Merton Jump Diffusion model"
   ],
   "metadata": {
    "collapsed": false
   }
  },
  {
   "cell_type": "code",
   "execution_count": 36,
   "outputs": [
    {
     "name": "stdout",
     "output_type": "stream",
     "text": [
      "    STRIKE  MKT_BID  MKT_MID  MKT_ASK  MERTON MC  MERTON CF\n",
      "0    150.0    18.55   19.245    19.94  19.575544  19.908561\n",
      "1    155.0    20.40   20.855    21.31  21.593028  21.938168\n",
      "2    160.0    22.20   22.775    23.35  23.719326  24.073608\n",
      "3    165.0    24.55   25.175    25.80  25.955227  26.313148\n",
      "4    170.0    26.70   27.375    28.05  28.296963  28.654773\n",
      "5    175.0    27.70   29.030    30.36  30.737417  31.096220\n",
      "6    180.0    30.25   31.500    32.75  33.274356  33.635022\n",
      "7    185.0    33.89   34.595    35.30  35.923291  36.268540\n",
      "8    190.0    36.25   37.350    38.45  38.673100  38.994003\n",
      "9    195.0    39.16   39.880    40.60  41.516456  41.808534\n",
      "10   200.0    42.10   42.900    43.70  44.441446  44.709185\n",
      "11   210.0    48.00   48.820    49.64  50.519422  50.756832\n",
      "12   220.0    54.46   55.230    56.00  56.897334  57.112813\n",
      "13   230.0    61.20   62.575    63.95  63.552903  63.753231\n",
      "14   240.0    68.36   69.105    69.85  70.476580  70.654892\n",
      "15   250.0    75.66   76.150    76.64  77.624897  77.795644\n",
      "16   260.0    83.59   84.570    85.55  84.979626  85.154593\n"
     ]
    }
   ],
   "source": [
    "#mert_params2 = [0.1267, 0.951, -0.1182, 0.2691]\n",
    "sigma, lambd, meanJ, stdJ = m_params\n",
    "MertonCAL = Merton_pricer(S0, None, T, r, q, sigma, lambd, meanJ, stdJ, exercise)\n",
    "SMerton_CAL = MertonCAL.MertonPath(days, paths)\n",
    "\n",
    "avg_payoffs = []\n",
    "for K in put_strikes:\n",
    "    payoffs = []        # stores here the payoff for each path, for a specific couple K1-K2\n",
    "    for St in SMerton_CAL[-1]:\n",
    "        payoffs.append(MertonCAL.payoff_put(K, St))\n",
    "    avg_payoffs.append(np.mean(payoffs))\n",
    "\n",
    "merton_mc_prices = np.zeros(len(put_calib_prices))\n",
    "merton_cf_prices = np.zeros(len(put_calib_prices))\n",
    "\n",
    "for index in range(len(put_calib_prices)):\n",
    "    merton_mc_prices[index] = np.exp(-r*T)* avg_payoffs[index]\n",
    "    merton_cf_prices[index] = MertonCAL.closed_formula_put(put_strikes[index])\n",
    "\n",
    "put_calib_prices['MERTON MC'] = merton_mc_prices\n",
    "put_calib_prices['MERTON CF'] = merton_cf_prices\n",
    "\n",
    "print(put_calib_prices)"
   ],
   "metadata": {
    "collapsed": false,
    "ExecuteTime": {
     "end_time": "2023-09-22T22:18:56.073791Z",
     "start_time": "2023-09-22T22:18:55.656920500Z"
    }
   }
  },
  {
   "cell_type": "code",
   "execution_count": 37,
   "outputs": [
    {
     "name": "stdout",
     "output_type": "stream",
     "text": [
      "    STRIKE  MKT_BID  MKT_MID  MKT_ASK  MERTON MC  MERTON CF     KOU MC  \\\n",
      "0    150.0    18.55   19.245    19.94  19.575544  19.908561  18.645257   \n",
      "1    155.0    20.40   20.855    21.31  21.593028  21.938168  20.683797   \n",
      "2    160.0    22.20   22.775    23.35  23.719326  24.073608  22.814653   \n",
      "3    165.0    24.55   25.175    25.80  25.955227  26.313148  25.045068   \n",
      "4    170.0    26.70   27.375    28.05  28.296963  28.654773  27.375245   \n",
      "5    175.0    27.70   29.030    30.36  30.737417  31.096220  29.791837   \n",
      "6    180.0    30.25   31.500    32.75  33.274356  33.635022  32.300281   \n",
      "7    185.0    33.89   34.595    35.30  35.923291  36.268540  34.893071   \n",
      "8    190.0    36.25   37.350    38.45  38.673100  38.994003  37.569267   \n",
      "9    195.0    39.16   39.880    40.60  41.516456  41.808534  40.338895   \n",
      "10   200.0    42.10   42.900    43.70  44.441446  44.709185  43.197084   \n",
      "11   210.0    48.00   48.820    49.64  50.519422  50.756832  49.130050   \n",
      "12   220.0    54.46   55.230    56.00  56.897334  57.112813  55.348229   \n",
      "13   230.0    61.20   62.575    63.95  63.552903  63.753231  61.829392   \n",
      "14   240.0    68.36   69.105    69.85  70.476580  70.654892  68.561795   \n",
      "15   250.0    75.66   76.150    76.64  77.624897  77.795644  75.547055   \n",
      "16   260.0    83.59   84.570    85.55  84.979626  85.154593  82.768969   \n",
      "\n",
      "       KOU CF  \n",
      "0   18.607781  \n",
      "1   20.640964  \n",
      "2   22.778442  \n",
      "3   25.017787  \n",
      "4   27.356423  \n",
      "5   29.791657  \n",
      "6   32.320717  \n",
      "7   34.940768  \n",
      "8   37.648943  \n",
      "9   40.442360  \n",
      "10  43.318137  \n",
      "11  49.305352  \n",
      "12  55.588095  \n",
      "13  62.144637  \n",
      "14  68.954224  \n",
      "15  75.997205  \n",
      "16  83.255106  \n"
     ]
    }
   ],
   "source": [
    "#kou_params2 = [0.1278, 0.948, 0.3549, 5.7153, 4.232]\n",
    "sigma, lambd, p, eta1, eta2 = k_params\n",
    "KouCAL = Kou_pricer(S0, None, T, r, sigma, lambd, p, eta1, eta2, exercise)\n",
    "SKou_CAL = KouCAL.KouPath(days, paths)\n",
    "\n",
    "avg_payoffs = []\n",
    "for k in put_strikes:\n",
    "    payoffs = []        # stores here the payoff for each path, for a specific couple K1-K2\n",
    "    for St in SKou_CAL[-1]:\n",
    "        payoffs.append(KouCAL.payoff_put(k, St))\n",
    "    avg_payoffs.append(np.mean(payoffs))\n",
    "\n",
    "kou_mc_prices = np.zeros(len(put_calib_prices))\n",
    "kou_cf_prices = np.zeros(len(put_calib_prices))\n",
    "\n",
    "for index in range(len(put_calib_prices)):\n",
    "    kou_mc_prices[index] = np.exp(-r*T)* avg_payoffs[index]\n",
    "    kou_cf_prices[index] = KouCAL.closed_formula_put(put_strikes[index])\n",
    "\n",
    "put_calib_prices['KOU MC'] = kou_mc_prices\n",
    "put_calib_prices['KOU CF'] = kou_cf_prices\n",
    "\n",
    "print(put_calib_prices)"
   ],
   "metadata": {
    "collapsed": false,
    "ExecuteTime": {
     "end_time": "2023-09-22T22:19:05.627955400Z",
     "start_time": "2023-09-22T22:18:57.693627300Z"
    }
   }
  },
  {
   "cell_type": "code",
   "execution_count": 38,
   "outputs": [
    {
     "name": "stdout",
     "output_type": "stream",
     "text": [
      "    STRIKE  MKT_BID  MKT_MID  MKT_ASK  MERTON MC  MERTON CF     KOU MC  \\\n",
      "0    150.0    18.55   19.245    19.94  19.575544  19.908561  18.645257   \n",
      "1    155.0    20.40   20.855    21.31  21.593028  21.938168  20.683797   \n",
      "2    160.0    22.20   22.775    23.35  23.719326  24.073608  22.814653   \n",
      "3    165.0    24.55   25.175    25.80  25.955227  26.313148  25.045068   \n",
      "4    170.0    26.70   27.375    28.05  28.296963  28.654773  27.375245   \n",
      "5    175.0    27.70   29.030    30.36  30.737417  31.096220  29.791837   \n",
      "6    180.0    30.25   31.500    32.75  33.274356  33.635022  32.300281   \n",
      "7    185.0    33.89   34.595    35.30  35.923291  36.268540  34.893071   \n",
      "8    190.0    36.25   37.350    38.45  38.673100  38.994003  37.569267   \n",
      "9    195.0    39.16   39.880    40.60  41.516456  41.808534  40.338895   \n",
      "10   200.0    42.10   42.900    43.70  44.441446  44.709185  43.197084   \n",
      "11   210.0    48.00   48.820    49.64  50.519422  50.756832  49.130050   \n",
      "12   220.0    54.46   55.230    56.00  56.897334  57.112813  55.348229   \n",
      "13   230.0    61.20   62.575    63.95  63.552903  63.753231  61.829392   \n",
      "14   240.0    68.36   69.105    69.85  70.476580  70.654892  68.561795   \n",
      "15   250.0    75.66   76.150    76.64  77.624897  77.795644  75.547055   \n",
      "16   260.0    83.59   84.570    85.55  84.979626  85.154593  82.768969   \n",
      "\n",
      "       KOU CF      VG MC      VG CF  \n",
      "0   18.607781  21.243012  18.937896  \n",
      "1   20.640964  23.612909  20.851003  \n",
      "2   22.778442  26.097944  22.873186  \n",
      "3   25.017787  28.703616  25.004691  \n",
      "4   27.356423  31.430416  27.245413  \n",
      "5   29.791657  34.267706  29.594876  \n",
      "6   32.320717  37.208749  32.052223  \n",
      "7   34.940768  40.247774  34.616193  \n",
      "8   37.648943  43.378623  37.285093  \n",
      "9   40.442360  46.583006  40.056774  \n",
      "10  43.318137  49.870157  42.928586  \n",
      "11  49.305352  56.649535  48.959174  \n",
      "12  55.588095  63.691806  55.345674  \n",
      "13  62.144637  70.974406  62.054093  \n",
      "14  68.954224  78.447291  69.051190  \n",
      "15  75.997205  86.085777  76.305990  \n",
      "16  83.255106  93.862714  83.790357  \n"
     ]
    }
   ],
   "source": [
    "# vg_params2 = [0.2442, 0.1983, 0.9451]\n",
    "sigma, theta, nu = vg_params\n",
    "VGCAL = VG_pricer(S0, None, T, r, q, sigma, theta, nu, exercise)\n",
    "SVarGamma_CAL = VGCAL.VarianceGammaPath1(days, paths)\n",
    "\n",
    "avg_payoffs = []\n",
    "for K in put_strikes:\n",
    "    payoffs = []        # stores here the payoff for each path, for a specific couple K1-K2\n",
    "    for St in SVarGamma_CAL[-1]:\n",
    "        payoffs.append(VGCAL.payoff_put(K, St))\n",
    "    avg_payoffs.append(np.mean(payoffs))\n",
    "\n",
    "vg_mc_prices = np.zeros(len(put_calib_prices))\n",
    "vg_cf_prices = np.zeros(len(put_calib_prices))\n",
    "\n",
    "for index in range(len(put_calib_prices)):\n",
    "    vg_mc_prices[index] = np.exp(-r*T)* avg_payoffs[index]\n",
    "    vg_cf_prices[index] = VGCAL.closed_formula_put(put_strikes[index])\n",
    "\n",
    "put_calib_prices['VG MC'] = vg_mc_prices\n",
    "put_calib_prices['VG CF'] = vg_cf_prices\n",
    "\n",
    "print(put_calib_prices)"
   ],
   "metadata": {
    "collapsed": false,
    "ExecuteTime": {
     "end_time": "2023-09-22T22:19:35.854692800Z",
     "start_time": "2023-09-22T22:19:34.750221400Z"
    }
   }
  },
  {
   "cell_type": "markdown",
   "source": [
    "### Visualize calibration results\n",
    "#### Closed Formulas Option pricing"
   ],
   "metadata": {
    "collapsed": false
   }
  },
  {
   "cell_type": "code",
   "execution_count": 39,
   "outputs": [
    {
     "data": {
      "text/plain": "<Figure size 2000x400 with 3 Axes>",
      "image/png": "[encoded data removed]"
     },
     "metadata": {},
     "output_type": "display_data"
    }
   ],
   "source": [
    "fig = plt.figure(figsize=(20, 4))\n",
    "ax1 = fig.add_subplot(131)\n",
    "ax2 = fig.add_subplot(132)\n",
    "ax3 = fig.add_subplot(133)\n",
    "ax1.plot(put_strikes, put_prices, \".\", label=\"midpoint\")\n",
    "ax2.plot(put_strikes, put_prices, \".\", label=\"midpoint\")\n",
    "ax3.plot(put_strikes, put_prices, \".\", label=\"midpoint\")\n",
    "ax1.plot(put_strikes, merton_cf_prices, label=\"Merton\")\n",
    "ax2.plot(put_strikes, kou_cf_prices, label=\"Kou\")\n",
    "ax3.plot(put_strikes, vg_cf_prices, label=\"VG\")\n",
    "ax1.set_title(\"Merton model\")\n",
    "ax2.set_title(\"Kou model\")\n",
    "ax3.set_title(\"VG model\")\n",
    "ax1.set_xlabel(\"strike\")\n",
    "ax2.set_xlabel(\"strike\")\n",
    "ax3.set_xlabel(\"strike\")\n",
    "ax1.legend()\n",
    "ax2.legend()\n",
    "ax3.legend()\n",
    "plt.show()"
   ],
   "metadata": {
    "collapsed": false,
    "ExecuteTime": {
     "end_time": "2023-09-22T22:19:45.377571800Z",
     "start_time": "2023-09-22T22:19:44.715890800Z"
    }
   }
  },
  {
   "cell_type": "markdown",
   "source": [
    "\n",
    "#### Monte Carlo option pricing"
   ],
   "metadata": {
    "collapsed": false
   }
  },
  {
   "cell_type": "code",
   "execution_count": 40,
   "outputs": [
    {
     "data": {
      "text/plain": "<Figure size 1700x400 with 3 Axes>",
      "image/png": "[encoded data removed]"
     },
     "metadata": {},
     "output_type": "display_data"
    }
   ],
   "source": [
    "fig = plt.figure(figsize=(17, 4))\n",
    "ax1 = fig.add_subplot(131)\n",
    "ax2 = fig.add_subplot(132)\n",
    "ax3 = fig.add_subplot(133)\n",
    "ax1.plot(put_strikes, put_prices, \".\", label=\"midpoint\")\n",
    "ax2.plot(put_strikes, put_prices, \".\", label=\"midpoint\")\n",
    "ax3.plot(put_strikes, put_prices, \".\", label=\"midpoint\")\n",
    "ax1.plot(put_strikes, merton_mc_prices, label=\"Merton\")\n",
    "ax2.plot(put_strikes, kou_mc_prices, label=\"Kou\")\n",
    "ax3.plot(put_strikes, vg_mc_prices, label=\"VG\")\n",
    "ax1.set_title(\"Merton model\")\n",
    "ax2.set_title(\"Kou model\")\n",
    "ax3.set_title(\"VG model\")\n",
    "ax1.set_xlabel(\"strike\")\n",
    "ax2.set_xlabel(\"strike\")\n",
    "ax3.set_xlabel(\"strike\")\n",
    "ax1.legend()\n",
    "ax2.legend()\n",
    "ax3.legend()\n",
    "plt.show()"
   ],
   "metadata": {
    "collapsed": false,
    "ExecuteTime": {
     "end_time": "2023-09-22T22:21:03.545466700Z",
     "start_time": "2023-09-22T22:21:02.882143900Z"
    }
   }
  },
  {
   "cell_type": "code",
   "execution_count": 41,
   "outputs": [
    {
     "data": {
      "text/plain": "<Figure size 1200x900 with 2 Axes>",
      "image/png": "[encoded data removed]"
     },
     "metadata": {},
     "output_type": "display_data"
    }
   ],
   "source": [
    "fig, ax = plt.subplots(nrows = 2, figsize=(12,9))\n",
    "\n",
    "# Plot the first subplot (Merton model)\n",
    "ax[0].scatter(put_strikes, put_prices, marker='x', color='red', label=\"Midpoint\", s=40, zorder=2)\n",
    "ax[0].plot(put_strikes, merton_cf_prices, label=\"Merton\", color=\"purple\", zorder=1)\n",
    "\n",
    "# Plot the second subplot (Kou model)\n",
    "ax[0].plot(put_strikes, kou_cf_prices, label=\"Kou\", color=\"green\", zorder=1)\n",
    "\n",
    "# Plot the third subplot (VG model)\n",
    "ax[0].plot(put_strikes, vg_cf_prices, label=\"VG\", color=\"orange\", zorder=1)\n",
    "\n",
    "ax[0].set_title(\"TSLA CALLS Closed-forms Repricing Comparison\")\n",
    "ax[0].set_xlabel(\"Strike Price\")\n",
    "ax[0].set_ylabel(\"Option Price\")\n",
    "ax[0].legend()\n",
    "ax[0].grid(True, linestyle=\"--\", alpha=0.6)\n",
    "\n",
    "\n",
    "# Plot the first subplot (Merton model)\n",
    "ax[1].scatter(put_strikes, put_prices, marker='x', color='red', label=\"Midpoint\", s=40, zorder=2)\n",
    "ax[1].plot(put_strikes, merton_mc_prices, label=\"Merton\", color=\"purple\", zorder=1)\n",
    "\n",
    "# Plot the second subplot (Kou model)\n",
    "ax[1].plot(put_strikes, kou_mc_prices, label=\"Kou\", color=\"green\", zorder=1)\n",
    "\n",
    "# Plot the third subplot (VG model)\n",
    "ax[1].plot(put_strikes, vg_mc_prices, label=\"VG\", color=\"orange\", zorder=1)\n",
    "\n",
    "ax[1].set_title(\"TSLA CALLS. Monte-Carlo Repricing Comparison\")\n",
    "ax[1].set_xlabel(\"Strike Price\")\n",
    "ax[1].set_ylabel(\"Option Price\")\n",
    "ax[1].legend()\n",
    "plt.grid(True, linestyle=\"-\", alpha=0.6)\n",
    "plt.tight_layout()\n",
    "plt.show()"
   ],
   "metadata": {
    "collapsed": false,
    "ExecuteTime": {
     "end_time": "2023-09-22T22:21:05.076830700Z",
     "start_time": "2023-09-22T22:21:04.284672800Z"
    }
   }
  },
  {
   "cell_type": "code",
   "execution_count": 41,
   "outputs": [],
   "source": [],
   "metadata": {
    "collapsed": false,
    "ExecuteTime": {
     "end_time": "2023-09-22T22:21:05.076830700Z",
     "start_time": "2023-09-22T22:21:05.076830700Z"
    }
   }
  },
  {
   "cell_type": "code",
   "execution_count": null,
   "outputs": [],
   "source": [],
   "metadata": {
    "collapsed": false
   }
  }
 ],
 "metadata": {
  "kernelspec": {
   "display_name": "Python 3",
   "language": "python",
   "name": "python3"
  },
  "language_info": {
   "codemirror_mode": {
    "name": "ipython",
    "version": 2
   },
   "file_extension": ".py",
   "mimetype": "text/x-python",
   "name": "python",
   "nbconvert_exporter": "python",
   "pygments_lexer": "ipython2",
   "version": "2.7.6"
  }
 },
 "nbformat": 4,
 "nbformat_minor": 0
}
