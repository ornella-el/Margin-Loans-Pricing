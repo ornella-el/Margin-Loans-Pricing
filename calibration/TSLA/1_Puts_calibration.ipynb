{
 "cells": [
  {
   "cell_type": "markdown",
   "source": [
    "# Calibration of Black and Scholes, Merton, Kou, Variance Gamma parameters\n",
    "This notebook aims to find the optimal parameters of **Black-Scholes**, **Merton Jump Diffusion**, **Kou Jump Diffusion** and **Variance Gamma** models. To do so, we compute the european option prices using **closed formulas**, available for all the 4 models, and the **Fast Fourier Transform** for the VG model. Given these theoretical prices, the **implied volatilities** are computed comparing them with real market prices, minimizing their difference. Then we estimate the additional parameters of each model, using the python module `scipy.optimize`.\n",
    "\n",
    "*reference: https://github.com/cantaro86/Financial-Models-Numerical-Methods/tree/master*\n"
   ],
   "metadata": {
    "collapsed": false
   }
  },
  {
   "cell_type": "code",
   "execution_count": 31,
   "metadata": {
    "collapsed": true,
    "ExecuteTime": {
     "end_time": "2023-09-01T00:04:39.482162700Z",
     "start_time": "2023-09-01T00:04:39.419203Z"
    }
   },
   "outputs": [],
   "source": [
    "import numpy as np\n",
    "import pandas as pd\n",
    "import matplotlib.pyplot as plt\n",
    "import random\n",
    "import scipy.optimize as scpo\n",
    "import sys\n",
    "sys.path.append('C:/Users\\ornel\\PycharmProjects\\Margin-Loans-Pricing/functions')\n",
    "sys.path.append('C:/Users/ornel/PycharmProjects/Margin-Loans-Pricing/calibration')\n",
    "import time\n",
    "\n",
    "from MERTONpricer import Merton_pricer\n",
    "from BSpricer import BS_Pricer\n",
    "from KOUpricer import Kou_pricer\n",
    "from VGpricer import VG_pricer\n",
    "\n",
    "random.seed(110)"
   ]
  },
  {
   "cell_type": "markdown",
   "source": [
    "Let's start retrieving historical prices for **european call** and **put** options starting from date **2016-01-20** and expiring **1 year** later. All the data have been collected from [OptionsDX](https://www.optionsdx.com/shop/) and preprocessed in `plainvanilla.py` module. Only options such that the moneyness\n",
    "$$ K/S0 \\in [0.75, 1.35] $$ have been selected."
   ],
   "metadata": {
    "collapsed": false
   }
  },
  {
   "cell_type": "code",
   "execution_count": 32,
   "outputs": [
    {
     "name": "stdout",
     "output_type": "stream",
     "text": [
      "NUM OF PUT OPTS: 17\n",
      "    QUOTE_DATE  UNDERLYING_LAST EXPIRE_DATE  P_BID  P_ASK  STRIKE     P_IV  \\\n",
      "0   2016-01-20            198.7  2017-01-20  18.55  19.94   150.0  0.53022   \n",
      "1   2016-01-20            198.7  2017-01-20  20.40  21.31   155.0  0.52039   \n",
      "2   2016-01-20            198.7  2017-01-20  22.20  23.35   160.0  0.51423   \n",
      "3   2016-01-20            198.7  2017-01-20  24.55  25.80   165.0  0.51357   \n",
      "4   2016-01-20            198.7  2017-01-20  26.70  28.05   170.0  0.50896   \n",
      "5   2016-01-20            198.7  2017-01-20  27.70  30.36   175.0  0.49457   \n",
      "6   2016-01-20            198.7  2017-01-20  30.25  32.75   180.0  0.49117   \n",
      "7   2016-01-20            198.7  2017-01-20  33.89  35.30   185.0  0.49398   \n",
      "8   2016-01-20            198.7  2017-01-20  36.25  38.45   190.0  0.49128   \n",
      "9   2016-01-20            198.7  2017-01-20  39.16  40.60   195.0  0.48464   \n",
      "10  2016-01-20            198.7  2017-01-20  42.10  43.70   200.0  0.48296   \n",
      "11  2016-01-20            198.7  2017-01-20  48.00  49.64   210.0  0.47387   \n",
      "12  2016-01-20            198.7  2017-01-20  54.46  56.00   220.0  0.46666   \n",
      "13  2016-01-20            198.7  2017-01-20  61.20  63.95   230.0  0.46734   \n",
      "14  2016-01-20            198.7  2017-01-20  68.36  69.85   240.0  0.45254   \n",
      "15  2016-01-20            198.7  2017-01-20  75.66  76.64   250.0  0.44105   \n",
      "16  2016-01-20            198.7  2017-01-20  83.59  85.55   260.0  0.44536   \n",
      "\n",
      "    MONEYNESS  \n",
      "0        0.75  \n",
      "1        0.78  \n",
      "2        0.81  \n",
      "3        0.83  \n",
      "4        0.86  \n",
      "5        0.88  \n",
      "6        0.91  \n",
      "7        0.93  \n",
      "8        0.96  \n",
      "9        0.98  \n",
      "10       1.01  \n",
      "11       1.06  \n",
      "12       1.11  \n",
      "13       1.16  \n",
      "14       1.21  \n",
      "15       1.26  \n",
      "16       1.31  \n"
     ]
    }
   ],
   "source": [
    "df_put = pd.read_csv('../../data/TSLA/OPT16_TSLA_PUTS_75_135.csv')\n",
    "print(f'NUM OF PUT OPTS: {df_put.shape[0]}')\n",
    "print(df_put)\n"
   ],
   "metadata": {
    "collapsed": false,
    "ExecuteTime": {
     "end_time": "2023-09-01T00:04:40.749292200Z",
     "start_time": "2023-09-01T00:04:40.702570500Z"
    }
   }
  },
  {
   "cell_type": "markdown",
   "source": [
    "The dataframe **df_put** contains both 17 options without NaN values. Thus, we decide to use them all and look for the best parameters' estimation."
   ],
   "metadata": {
    "collapsed": false
   }
  },
  {
   "cell_type": "code",
   "execution_count": 33,
   "outputs": [],
   "source": [
    "puts = df_put.sample(frac=1, replace=False).sort_index().reset_index(drop=True)\n",
    "\n",
    "puts['P_Midpoint'] = abs(puts['P_BID'] + puts['P_ASK']) / 2\n",
    "puts['P_Spread'] = puts['P_BID'] - puts['P_ASK']\n",
    "put_prices = puts['P_Midpoint']\n",
    "#puts.to_csv('../../data/TSLA/TSLA_puts.csv', index=False)\n",
    "\n",
    "\n",
    "q = 0           # dividend yield\n",
    "r = 0.03        # risk-free interest rate\n",
    "sigma = 0.3     #volatility (variance of diffusion process)\n",
    "S0 = puts.iloc[0]['UNDERLYING_LAST']\n",
    "T = 1           # time-to-maturity\n",
    "put_strikes = puts['STRIKE']      # array of K for put options\n",
    "exercise = 'european'\n"
   ],
   "metadata": {
    "collapsed": false,
    "ExecuteTime": {
     "end_time": "2023-09-01T00:04:41.625528200Z",
     "start_time": "2023-09-01T00:04:41.577901600Z"
    }
   }
  },
  {
   "cell_type": "markdown",
   "source": [
    "The following code snippet initializes objects of class *BS_pricer*, *Merton_pricer*, *Kou_pricer*, *VG_pricer* with default values as parameters. Then it computes the theoretical put prices using closed formulas of each 4 models, with strike prices given by the *put_strikes* array. Additionally, we use the **Midpoint** price as the market price."
   ],
   "metadata": {
    "collapsed": false
   }
  },
  {
   "cell_type": "code",
   "execution_count": 9,
   "outputs": [],
   "source": [
    "BS = BS_Pricer(S0=S0, r=r, q = q, sigma=sigma, ttm=T, exercise=exercise, K=None)\n",
    "Merton = Merton_pricer(S0=S0, K=None, ttm=T, r=r, q = q, sigma=0.15, lambd=0.5, meanJ=-0.1, stdJ=0.1, exercise=exercise)\n",
    "Kou = Kou_pricer(S0=S0, K=None, ttm=T, r=r, sigma=0.15, lambd=0.5, p=0.6, eta1=12, eta2=5, exercise=exercise)\n",
    "VG = VG_pricer(S0, K=None, ttm=T, r=r, q=q, sigma=0.15, theta=-0.2, nu=0.3, exercise=exercise)"
   ],
   "metadata": {
    "collapsed": false,
    "ExecuteTime": {
     "end_time": "2023-08-31T23:26:43.462676Z",
     "start_time": "2023-08-31T23:26:43.414454200Z"
    }
   }
  },
  {
   "cell_type": "markdown",
   "source": [
    "The theoretical put prices with given parameters are computed below. "
   ],
   "metadata": {
    "collapsed": false
   }
  },
  {
   "cell_type": "code",
   "execution_count": 10,
   "outputs": [
    {
     "name": "stdout",
     "output_type": "stream",
     "text": [
      "Theoretical put options prices:\n",
      "    Strike   Price BlackScholes     Merton        Kou VarianceGamma\n",
      "0    150.0  19.245     3.929659   0.778865   1.482643      0.175578\n",
      "1    155.0  20.855     4.913446   1.102963   1.841543      0.341066\n",
      "2    160.0  22.775     6.050901   1.532207   2.294327      0.626621\n",
      "3    165.0  25.175     7.349092   2.089948    2.86552      1.086908\n",
      "4    170.0  27.375     8.813402   2.801224   3.582437      1.777952\n",
      "5    175.0  29.030    10.447508   3.691752   4.473742      2.746009\n",
      "6    180.0  31.500    12.253427   4.786674   5.567645      4.021166\n",
      "7    185.0  34.595    14.231597   6.109153   6.889974      5.616872\n",
      "8    190.0  37.350     16.38099   7.678992    8.46238      7.532579\n",
      "9    195.0  39.880    18.699255   9.511419  10.300906      9.757335\n",
      "10   200.0  42.900    21.182872  11.616195  12.415066      12.27323\n",
      "11   210.0  48.820    26.627231  16.651981   17.47429     18.088471\n",
      "12   220.0  55.230     32.66877  22.747208   23.58631     24.787981\n",
      "13   230.0  62.575    39.253732  29.785833  30.620601     32.189173\n",
      "14   240.0  69.105    46.324244    37.6058  38.407569     40.135043\n",
      "15   250.0  76.150    53.821795  46.032037  46.773193     48.498225\n",
      "16   260.0  84.570    61.689824  54.902071   55.56232     57.178809\n"
     ]
    }
   ],
   "source": [
    "put_th_prices = pd.DataFrame(columns=['Strike','Price', 'BlackScholes', 'Merton', 'Kou', 'VarianceGamma'])\n",
    "put_th_prices['Strike'] = put_strikes\n",
    "put_th_prices['Price'] = put_prices\n",
    "\n",
    "for i, K in enumerate(put_strikes):\n",
    "    bs = BS.closed_formula_put(K)\n",
    "    mert = Merton.closed_formula_put(K)\n",
    "    kou = Kou.closed_formula_put(K)\n",
    "    vg = VG.closed_formula_put(K)\n",
    "    put_th_prices.iloc[i, 2:] = [bs, mert, kou, vg]\n",
    "\n",
    "print(f'Theoretical put options prices:')\n",
    "print(put_th_prices)"
   ],
   "metadata": {
    "collapsed": false,
    "ExecuteTime": {
     "end_time": "2023-08-31T23:27:25.037080300Z",
     "start_time": "2023-08-31T23:27:19.369858100Z"
    }
   }
  },
  {
   "cell_type": "markdown",
   "source": [
    "## Implied volatility\n",
    "The function belows implements $3$ methods to compute implied volatility: [Newton](https://en.wikipedia.org/wiki/Newton%27s_method) method, the [Bisection](https://en.wikipedia.org/wiki/Bisection_method) method and a more advanced one, named [Brent](https://en.wikipedia.org/wiki/Brent%27s_method) method. Apart from the initial guess, there is no substantial difference in the final result between **Newton** and **bisection** methods (*fsolve*). The **Implied Volatility** is that value $\\sigma$ that must be inserted into the Black-Scholes (BS) formula in order to retrieve the option price quoted in the market:\n",
    "    $$ BS(S, K, T, r, \\sigma) = P,  $$\n",
    "where $S$ is the underlying spot price, $K$ is the strike, $T$ time to maturity, $r$ risk-free interest rate and $P$ the option price quoted in the market. All these quantities are **observable**.\n",
    "   "
   ],
   "metadata": {
    "collapsed": false
   }
  },
  {
   "cell_type": "code",
   "execution_count": 11,
   "outputs": [],
   "source": [
    "def implied_volatility(price, S, strike, t, rate, q, type_o, method='fsolve', disp=True ):\n",
    "    \"\"\" Returns Implied volatility\n",
    "        methods:  fsolve (default) or brent\n",
    "    \"\"\"\n",
    "\n",
    "    def obj_fun(vol):\n",
    "        return BS.BlackScholes(type_o=type_o, S0=S, K=strike, ttm=t, r=rate, q=q, sigma=vol) - price\n",
    "\n",
    "    def vega(vol):\n",
    "        return BS.vega(S, strike, rate, q, vol, t)\n",
    "\n",
    "    if method =='fsolve':\n",
    "        X0 = [0.01, 0.2, 0.35, 7]        #initial guess points for imp.vol.\n",
    "        for x_0 in X0:\n",
    "            x, _, solved, _ = scpo.fsolve(obj_fun, x_0, full_output=True, xtol=1e-8)\n",
    "            if solved == 1:\n",
    "                return x[0]\n",
    "\n",
    "    if disp:\n",
    "        return -1"
   ],
   "metadata": {
    "collapsed": false,
    "ExecuteTime": {
     "end_time": "2023-08-31T23:27:29.023689200Z",
     "start_time": "2023-08-31T23:27:29.006701100Z"
    }
   }
  },
  {
   "cell_type": "markdown",
   "source": [
    "The following code snippet computes the implied volatility of **put** options market prices with BS inversion, i.e. using the Black-Scholes formula on given market prices to find the best fitting $\\sigma$ for each option contract."
   ],
   "metadata": {
    "collapsed": false
   }
  },
  {
   "cell_type": "code",
   "execution_count": 13,
   "outputs": [
    {
     "name": "stdout",
     "output_type": "stream",
     "text": [
      "Implied volatilities of market prices (puts):\n",
      "S0 = 198.7\n",
      "K = 150.0, IV = 0.5305\n",
      "K = 155.0, IV = 0.5205\n",
      "K = 160.0, IV = 0.5142\n",
      "K = 165.0, IV = 0.514\n",
      "K = 170.0, IV = 0.509\n",
      "K = 175.0, IV = 0.4946\n"
     ]
    },
    {
     "data": {
      "text/plain": "<Figure size 1000x500 with 1 Axes>",
      "image/png": "[encoded data removed]"
     },
     "metadata": {},
     "output_type": "display_data"
    }
   ],
   "source": [
    "IV_market_p = []\n",
    "for i in range(len(put_prices)):\n",
    "    IV_market_p.append(implied_volatility(put_prices[i], S=S0, strike=put_strikes[i], t = T, rate=0.02, q = 0.08, type_o='put', method='fsolve'))\n",
    "\n",
    "print(f'Implied volatilities of market prices (puts):\\nS0 = {S0}')\n",
    "for a,b in zip(put_strikes.head(6), IV_market_p[:6]):\n",
    "    print(f'K = {a}, IV = {round(b, 4)}')\n",
    "\n",
    "# Plot market implied volatilities w.r.t. log moneyness\n",
    "x = (S0/put_strikes)\n",
    "IV_filtered = [iv for iv in IV_market_p if iv != -1]\n",
    "x_filtered = [log_m for iv, log_m in zip(IV_market_p, x) if iv != -1]\n",
    "puts_filtered = [p_iv for iv, p_iv in zip(IV_market_p, puts['P_IV']) if iv != -1 ]\n",
    "\n",
    "fig, ax1 = plt.subplots(figsize=(10,5))\n",
    "ax1.scatter(x_filtered, IV_filtered, marker='x', label='BS inversion', color='red')\n",
    "ax1.scatter(x_filtered, puts_filtered, marker='.', label='provided')\n",
    "ax1.set_xlabel('Moneyness: S0/K'); ax1.set_ylabel('Implied Volatility'); ax1.set_title('Puts volatility smile')\n",
    "ax1.legend(); plt.show()\n"
   ],
   "metadata": {
    "collapsed": false,
    "ExecuteTime": {
     "end_time": "2023-08-31T23:28:32.866678900Z",
     "start_time": "2023-08-31T23:28:32.348876200Z"
    }
   }
  },
  {
   "cell_type": "markdown",
   "source": [
    "##  Weighted Calibration (call options)\n",
    "Let's step now into the calibration of model parameters.\n",
    "If we define $\\Theta$ the set of parameters, the goal is to find the optimal parameters $\\Theta^*$ that minimize the following objective function:\n",
    "$$ \\sum_{i=1}^{N} w_i \\biggl( P_i - f(K_i|\\Theta) \\biggr)^2 $$\n",
    "where $w_i$ are weights, usually defined as\n",
    "$$ w_i = \\frac{1}{\\text {spread}_i^2 },$$ $P_i$ are the market prices and $f$ is the pricing function. In our case $f$ is given by **Merton** Jump Diffusion model, **Kou** Jump Diffusion model, or **Variance Gamma** process. To perform this optimization problem, many numerical methods can be used. In particular, we test two functions of `scipy.optimize`:\n",
    "1. **curve_fit**, a least-squares curve fitting method which works with bounds. The default algorithm is [Trust Region Reflective (trf)](https://en.wikipedia.org/wiki/Trust_region). The [Levemberg-Marquadt](https://en.wikipedia.org/wiki/Levenberg%E2%80%93Marquardt_algorithm) has been tried as well, to test the optimization problem without setting boundaries, but the results don't make any sense.\n",
    "2. **Least-Squares**, a constrained minimization problem which uses Trust region reflective method by default. This method is the most indicated to solve the non-linear least squares optimization problem of our purpose.\n",
    "All the optimizations are carried out by initializing a starting point as the array $x_0 = [params]$ and setting feasible bounds.\n"
   ],
   "metadata": {
    "collapsed": false
   }
  },
  {
   "cell_type": "code",
   "execution_count": 14,
   "outputs": [],
   "source": [
    "put_spreads = puts['P_Spread']\n",
    "p_weights = 1 / put_spreads**2"
   ],
   "metadata": {
    "collapsed": false,
    "ExecuteTime": {
     "end_time": "2023-08-31T23:28:47.717236400Z",
     "start_time": "2023-08-31T23:28:47.712382600Z"
    }
   }
  },
  {
   "cell_type": "markdown",
   "source": [
    "### Black and Scholes model\n",
    "The only unknown parameter to calibrate in Black and Scholes model is the **implied volatility**, $\\sigma$. Thus, we minimize the difference between the computed theoretical prices and the market prices of call options."
   ],
   "metadata": {
    "collapsed": false
   }
  },
  {
   "cell_type": "code",
   "execution_count": 15,
   "outputs": [],
   "source": [
    "x0 = 0.5\n",
    "bounds = [1e-5, 2]\n",
    "\n",
    "def f_BlackScholes_puts(x, sigm):\n",
    "    BS = BS_Pricer(S0=S0, K = x, ttm=T, r=r, q=0, sigma=sigm, exercise=exercise)\n",
    "    return BS.closed_formula_put(x)\n",
    "\n",
    "res1_puts = scpo.curve_fit(f_BlackScholes_puts, put_strikes, put_prices, p0 = x0, bounds=bounds, sigma=p_weights)\n",
    "sigw_p = round(res1_puts[0][0],4)"
   ],
   "metadata": {
    "collapsed": false,
    "ExecuteTime": {
     "end_time": "2023-08-31T23:28:51.554542900Z",
     "start_time": "2023-08-31T23:28:51.534262Z"
    }
   }
  },
  {
   "cell_type": "code",
   "execution_count": 16,
   "outputs": [
    {
     "name": "stdout",
     "output_type": "stream",
     "text": [
      "`ftol` termination condition is satisfied.\n",
      "Function evaluations 24, initial cost 5.3492e+04, final cost 1.0365e+00, first-order optimality 1.67e-03.\n"
     ]
    }
   ],
   "source": [
    "def cost_function(x, strikes, mkt_prices):\n",
    "    sigma = x\n",
    "    BS = BS_Pricer(S0=S0, K = None, ttm=T, r=r, q=0, sigma=sigma, exercise=exercise)\n",
    "    sq_err = np.sum( p_weights* (BS.closed_formula_put(strikes) - mkt_prices)**2)\n",
    "    return sq_err\n",
    "\n",
    "result_p = scpo.least_squares(cost_function, x0, args=(put_strikes, put_prices), bounds=bounds, method = 'trf', verbose=1)\n",
    "opt_sigma_p = result_p.x[0]"
   ],
   "metadata": {
    "collapsed": false,
    "ExecuteTime": {
     "end_time": "2023-08-31T23:28:52.177125200Z",
     "start_time": "2023-08-31T23:28:52.112322600Z"
    }
   }
  },
  {
   "cell_type": "code",
   "execution_count": 17,
   "outputs": [
    {
     "name": "stdout",
     "output_type": "stream",
     "text": [
      "METHOD 1: CURVE_FIT (trf)\n",
      "> Calibrated Volatility from Calls [σ] = 0.5883 \t 58.83%\n",
      "METHOD 2: LEAST-SQUARES (trf)\n",
      "> Calibrated Volatility from Calls [σ] = 0.5903386230196411 \t 59.03%\n"
     ]
    }
   ],
   "source": [
    "print('METHOD 1: CURVE_FIT (trf)')\n",
    "print(f'> Calibrated Volatility from Calls [σ] = {sigw_p} \\t {round(sigw_p*100,2)}%')\n",
    "print('METHOD 2: LEAST-SQUARES (trf)')\n",
    "print(f'> Calibrated Volatility from Calls [σ] = {opt_sigma_p} \\t {round(opt_sigma_p*100,2)}%')"
   ],
   "metadata": {
    "collapsed": false,
    "ExecuteTime": {
     "end_time": "2023-08-31T23:28:53.276444700Z",
     "start_time": "2023-08-31T23:28:53.236101100Z"
    }
   }
  },
  {
   "cell_type": "code",
   "execution_count": 18,
   "outputs": [
    {
     "name": "stdout",
     "output_type": "stream",
     "text": [
      "Stored 'puts_bs_params_tsla' (float64)\n"
     ]
    }
   ],
   "source": [
    "puts_bs_params_tsla = opt_sigma_p\n",
    "%store puts_bs_params_tsla"
   ],
   "metadata": {
    "collapsed": false,
    "ExecuteTime": {
     "end_time": "2023-08-31T23:28:54.860072100Z",
     "start_time": "2023-08-31T23:28:54.828878800Z"
    }
   }
  },
  {
   "cell_type": "markdown",
   "source": [
    "### Merton Jump Diffusion\n",
    "The Merton Jump diffusion ones are the volatility $\\sigma$, the Poisson rate of jumps $\\lambda$, the mean rate of jump intensity $m$ and its variance rate $v$, assuming that the intensity of jumps follows a *Normal distribution*.\n"
   ],
   "metadata": {
    "collapsed": false
   }
  },
  {
   "cell_type": "code",
   "execution_count": 19,
   "outputs": [],
   "source": [
    "x0 = [0.15,  0.2, -0.05,  0.01]  # initial guess: [σ, λ, m, v]\n",
    "bounds = ( [1e-3, 1e-2, -5, 1e-5], [2, 5, 5, 2] )"
   ],
   "metadata": {
    "collapsed": false,
    "ExecuteTime": {
     "end_time": "2023-08-31T23:28:56.346275Z",
     "start_time": "2023-08-31T23:28:56.226956400Z"
    }
   }
  },
  {
   "cell_type": "code",
   "execution_count": 20,
   "outputs": [],
   "source": [
    "def f_Mert(x, sigma, lambd, meanJ, stdJ):\n",
    "    Mert = Merton_pricer(S0=S0, K=x, ttm=T, r=r, q=0, sigma=sigma, lambd=lambd, meanJ=meanJ, stdJ=stdJ, exercise=exercise)\n",
    "    return Mert.closed_formula_put(x)\n",
    "\n",
    "start1=time.time()\n",
    "mert1 = scpo.curve_fit(f_Mert, put_strikes, put_prices, p0=x0, bounds=bounds, sigma=put_spreads)\n",
    "end1=time.time()\n",
    "\n",
    "mert_params1 = [round(p,4) for p in mert1[0][:4]]"
   ],
   "metadata": {
    "collapsed": false,
    "ExecuteTime": {
     "end_time": "2023-08-31T23:30:03.900434600Z",
     "start_time": "2023-08-31T23:28:56.818432500Z"
    }
   }
  },
  {
   "cell_type": "markdown",
   "source": [
    "##### Method 2. Least-squares"
   ],
   "metadata": {
    "collapsed": false
   }
  },
  {
   "cell_type": "code",
   "execution_count": 21,
   "outputs": [
    {
     "name": "stdout",
     "output_type": "stream",
     "text": [
      "The maximum number of function evaluations is exceeded.\n",
      "Function evaluations 400, initial cost 9.1933e+06, final cost 8.8125e+01, first-order optimality 1.39e+03.\n"
     ]
    }
   ],
   "source": [
    "x0 = [0.1,  0.5, 0.3,  0.1]      # initial guess: [σ, λ, m, v]\n",
    "bounds = ( [1e-3, 1e-2, -10, 0], [2, np.inf, 10, 5] )\n",
    "\n",
    "def cost_function(x, strikes, mkt_prices):\n",
    "    sigma, lambd, meanJ, stdJ = x\n",
    "    M = Merton_pricer(S0, None, T, r, q, sigma, lambd, meanJ, stdJ, exercise)\n",
    "    sq_err = np.sum( p_weights*(M.closed_formula_put(strikes) - mkt_prices)**2)\n",
    "    return sq_err\n",
    "\n",
    "start2 = time.time()\n",
    "mert2 = scpo.least_squares(cost_function, x0, args=(put_strikes, put_prices), bounds=bounds, method = 'trf', verbose=1)\n",
    "end2 = time.time()\n",
    "\n",
    "mert_params2 = [round(p,4) for p in mert2.x[:4]]"
   ],
   "metadata": {
    "collapsed": false,
    "ExecuteTime": {
     "end_time": "2023-08-31T23:31:37.169274800Z",
     "start_time": "2023-08-31T23:30:03.903447Z"
    }
   }
  },
  {
   "cell_type": "code",
   "execution_count": 22,
   "outputs": [
    {
     "name": "stdout",
     "output_type": "stream",
     "text": [
      "WEIGHTED OPT: CURVE_FIT (trf)\n",
      "> Calibrated Volatlity [σ] = 0.4345 \t 43.45%\n",
      "> Calibrated Jump intensity [λ] =  0.11\n",
      "> Calibrated Jump Mean =  -1.91\n",
      "> Calibrated Jump St. dev.  =  2.0\n",
      "ELAPSED TIME: 67.0690929889679 sec\n",
      "\n",
      "METHOD 1: LEAST SQUARES (trf)\n",
      "> Calibrated Volatlity [σ] = 0.108 \t 10.8%\n",
      "> Calibrated Jump intensity [λ] =  3.08\n",
      "> Calibrated Jump Mean =  0.291\n",
      "> Calibrated Jump St. dev.  =  0.094\n",
      "TIME ELAPSED:  93.25 sec\n"
     ]
    }
   ],
   "source": [
    "print('WEIGHTED OPT: CURVE_FIT (trf)')\n",
    "print(f'> Calibrated Volatlity [σ] = {round(mert1[0][0],4)} \\t {round(mert1[0][0]*100,2)}%')\n",
    "print('> Calibrated Jump intensity [λ] = ', round(mert1[0][1],2))\n",
    "print('> Calibrated Jump Mean = ', round(mert1[0][2],2))\n",
    "print('> Calibrated Jump St. dev.  = ', round(mert1[0][3],5))\n",
    "print(f'ELAPSED TIME: {end1-start1} sec')\n",
    "\n",
    "print('\\nMETHOD 1: LEAST SQUARES (trf)')\n",
    "print(f'> Calibrated Volatlity [σ] = {mert_params2[0]} \\t {round(mert_params2[0]*100,2)}%')\n",
    "print('> Calibrated Jump intensity [λ] = ', round(mert_params2[1],2))\n",
    "print('> Calibrated Jump Mean = ', round(mert_params2[2],3))\n",
    "print('> Calibrated Jump St. dev.  = ', round(mert_params2[3],3))\n",
    "print(f'TIME ELAPSED:  {round(end2-start2,2)} sec')"
   ],
   "metadata": {
    "collapsed": false,
    "ExecuteTime": {
     "end_time": "2023-08-31T23:31:37.191781700Z",
     "start_time": "2023-08-31T23:31:37.173013200Z"
    }
   }
  },
  {
   "cell_type": "code",
   "execution_count": 23,
   "outputs": [
    {
     "name": "stdout",
     "output_type": "stream",
     "text": [
      "[0.4345, 0.1095, -1.9063, 2.0]\n",
      "[0.108, 3.0804, 0.2906, 0.094]\n",
      "Stored 'puts_mert_params_tsla' (list)\n"
     ]
    }
   ],
   "source": [
    "print(mert_params1)\n",
    "print(mert_params2)\n",
    "puts_mert_params_tsla = mert_params2\n",
    "%store puts_mert_params_tsla"
   ],
   "metadata": {
    "collapsed": false,
    "ExecuteTime": {
     "end_time": "2023-08-31T23:31:37.191781700Z",
     "start_time": "2023-08-31T23:31:37.175415600Z"
    }
   }
  },
  {
   "cell_type": "markdown",
   "source": [
    "### Kou Jump Diffusion\n"
   ],
   "metadata": {
    "collapsed": false
   }
  },
  {
   "cell_type": "code",
   "execution_count": 24,
   "outputs": [],
   "source": [
    "x0 = [0.3, 0.8, 0.5, 5, 10] # initial guess: [σ, λ, p, η_1, η_2]\n",
    "bounds = ( [1e-2, 1e-1, 0, 0.5, 0.5], [0.5, 4, 1, 15, 20] )"
   ],
   "metadata": {
    "collapsed": false,
    "ExecuteTime": {
     "end_time": "2023-08-31T23:35:06.479574600Z",
     "start_time": "2023-08-31T23:35:06.394071Z"
    }
   }
  },
  {
   "cell_type": "markdown",
   "source": [
    "##### Method 1. TRF (Bounds)"
   ],
   "metadata": {
    "collapsed": false
   }
  },
  {
   "cell_type": "code",
   "execution_count": 25,
   "outputs": [],
   "source": [
    "# def f_Kou(x, sigma, lambd, p, eta1, eta2):\n",
    "#     KouJD = Kou_pricer(S0=S0, K=x, ttm=T, r=r, sigma=sigma, lambd=lambd, p=p, eta1=eta1, eta2=eta2, exercise=exercise)\n",
    "#     return KouJD.closed_formula_put(x)\n",
    "#\n",
    "# start1 = time.time()\n",
    "# kou1 = scpo.curve_fit(f_Kou, put_strikes, put_prices, p0=x0, bounds=bounds, sigma=p_weights)\n",
    "# end1 = time.time()\n",
    "#\n",
    "# kou_params1 = [round(p,4) for p in kou1[0][:5]]"
   ],
   "metadata": {
    "collapsed": false,
    "ExecuteTime": {
     "end_time": "2023-08-31T23:35:07.981554Z",
     "start_time": "2023-08-31T23:35:07.960907300Z"
    }
   }
  },
  {
   "cell_type": "markdown",
   "source": [
    "##### Method 2. LEAST SQUARES (With Bounds)"
   ],
   "metadata": {
    "collapsed": false
   }
  },
  {
   "cell_type": "code",
   "execution_count": 26,
   "outputs": [
    {
     "name": "stdout",
     "output_type": "stream",
     "text": [
      "   Iteration     Total nfev        Cost      Cost reduction    Step norm     Optimality   \n",
      "       0              1         2.0063e+06                                    8.19e+06    \n",
      "       1              2         3.8579e+05      1.62e+06       1.42e-01       2.10e+06    \n",
      "       2              3         7.4548e+04      3.11e+05       1.14e-01       5.71e+05    \n",
      "       3              4         1.3698e+04      6.09e+04       1.03e-01       1.53e+05    \n",
      "       4              6         6.4452e+01      1.36e+04       3.09e+00       1.80e+03    \n",
      "       5              8         5.5749e+01      8.70e+00       1.81e+00       5.10e+03    \n",
      "       6             11         3.9325e+01      1.64e+01       1.32e-02       1.86e+03    \n",
      "       7             12         3.9032e+01      2.93e-01       1.83e-02       1.78e+02    \n",
      "       8             13         3.8313e+01      7.19e-01       1.13e-03       1.08e+02    \n",
      "       9             14         3.7297e+01      1.02e+00       1.69e-03       3.77e+02    \n",
      "      10             15         3.5472e+01      1.82e+00       1.37e-02       4.03e+02    \n",
      "      11             16         3.2160e+01      3.31e+00       3.15e-02       1.96e+02    \n",
      "      12             17         2.8807e+01      3.35e+00       3.73e-02       1.32e+03    \n",
      "      13             20         2.7854e+01      9.53e-01       4.24e-03       8.79e+02    \n"
     ]
    },
    {
     "ename": "KeyboardInterrupt",
     "evalue": "",
     "output_type": "error",
     "traceback": [
      "\u001B[1;31m---------------------------------------------------------------------------\u001B[0m",
      "\u001B[1;31mKeyboardInterrupt\u001B[0m                         Traceback (most recent call last)",
      "Cell \u001B[1;32mIn[26], line 9\u001B[0m\n\u001B[0;32m      6\u001B[0m     \u001B[38;5;28;01mreturn\u001B[39;00m sq_err\n\u001B[0;32m      8\u001B[0m start2\u001B[38;5;241m=\u001B[39mtime\u001B[38;5;241m.\u001B[39mtime()\n\u001B[1;32m----> 9\u001B[0m kou2 \u001B[38;5;241m=\u001B[39m \u001B[43mscpo\u001B[49m\u001B[38;5;241;43m.\u001B[39;49m\u001B[43mleast_squares\u001B[49m\u001B[43m(\u001B[49m\u001B[43mcost_function\u001B[49m\u001B[43m,\u001B[49m\u001B[43m \u001B[49m\u001B[43mx0\u001B[49m\u001B[43m,\u001B[49m\u001B[43m \u001B[49m\u001B[43margs\u001B[49m\u001B[38;5;241;43m=\u001B[39;49m\u001B[43m(\u001B[49m\u001B[43mput_strikes\u001B[49m\u001B[43m,\u001B[49m\u001B[43m \u001B[49m\u001B[43mput_prices\u001B[49m\u001B[43m)\u001B[49m\u001B[43m,\u001B[49m\u001B[43m  \u001B[49m\u001B[43mmethod\u001B[49m\u001B[38;5;241;43m=\u001B[39;49m\u001B[38;5;124;43m'\u001B[39;49m\u001B[38;5;124;43mtrf\u001B[39;49m\u001B[38;5;124;43m'\u001B[39;49m\u001B[43m,\u001B[49m\u001B[43m \u001B[49m\u001B[43mbounds\u001B[49m\u001B[38;5;241;43m=\u001B[39;49m\u001B[43mbounds\u001B[49m\u001B[43m,\u001B[49m\u001B[43m \u001B[49m\u001B[43mverbose\u001B[49m\u001B[38;5;241;43m=\u001B[39;49m\u001B[38;5;241;43m2\u001B[39;49m\u001B[43m)\u001B[49m\n\u001B[0;32m     10\u001B[0m end2\u001B[38;5;241m=\u001B[39mtime\u001B[38;5;241m.\u001B[39mtime()\n",
      "File \u001B[1;32m~\\PycharmProjects\\Margin-Loans-Pricing\\venv\\Lib\\site-packages\\scipy\\optimize\\_lsq\\least_squares.py:935\u001B[0m, in \u001B[0;36mleast_squares\u001B[1;34m(fun, x0, jac, bounds, method, ftol, xtol, gtol, x_scale, loss, f_scale, diff_step, tr_solver, tr_options, jac_sparsity, max_nfev, verbose, args, kwargs)\u001B[0m\n\u001B[0;32m    931\u001B[0m     result \u001B[38;5;241m=\u001B[39m call_minpack(fun_wrapped, x0, jac_wrapped, ftol, xtol, gtol,\n\u001B[0;32m    932\u001B[0m                           max_nfev, x_scale, diff_step)\n\u001B[0;32m    934\u001B[0m \u001B[38;5;28;01melif\u001B[39;00m method \u001B[38;5;241m==\u001B[39m \u001B[38;5;124m'\u001B[39m\u001B[38;5;124mtrf\u001B[39m\u001B[38;5;124m'\u001B[39m:\n\u001B[1;32m--> 935\u001B[0m     result \u001B[38;5;241m=\u001B[39m \u001B[43mtrf\u001B[49m\u001B[43m(\u001B[49m\u001B[43mfun_wrapped\u001B[49m\u001B[43m,\u001B[49m\u001B[43m \u001B[49m\u001B[43mjac_wrapped\u001B[49m\u001B[43m,\u001B[49m\u001B[43m \u001B[49m\u001B[43mx0\u001B[49m\u001B[43m,\u001B[49m\u001B[43m \u001B[49m\u001B[43mf0\u001B[49m\u001B[43m,\u001B[49m\u001B[43m \u001B[49m\u001B[43mJ0\u001B[49m\u001B[43m,\u001B[49m\u001B[43m \u001B[49m\u001B[43mlb\u001B[49m\u001B[43m,\u001B[49m\u001B[43m \u001B[49m\u001B[43mub\u001B[49m\u001B[43m,\u001B[49m\u001B[43m \u001B[49m\u001B[43mftol\u001B[49m\u001B[43m,\u001B[49m\u001B[43m \u001B[49m\u001B[43mxtol\u001B[49m\u001B[43m,\u001B[49m\n\u001B[0;32m    936\u001B[0m \u001B[43m                 \u001B[49m\u001B[43mgtol\u001B[49m\u001B[43m,\u001B[49m\u001B[43m \u001B[49m\u001B[43mmax_nfev\u001B[49m\u001B[43m,\u001B[49m\u001B[43m \u001B[49m\u001B[43mx_scale\u001B[49m\u001B[43m,\u001B[49m\u001B[43m \u001B[49m\u001B[43mloss_function\u001B[49m\u001B[43m,\u001B[49m\u001B[43m \u001B[49m\u001B[43mtr_solver\u001B[49m\u001B[43m,\u001B[49m\n\u001B[0;32m    937\u001B[0m \u001B[43m                 \u001B[49m\u001B[43mtr_options\u001B[49m\u001B[38;5;241;43m.\u001B[39;49m\u001B[43mcopy\u001B[49m\u001B[43m(\u001B[49m\u001B[43m)\u001B[49m\u001B[43m,\u001B[49m\u001B[43m \u001B[49m\u001B[43mverbose\u001B[49m\u001B[43m)\u001B[49m\n\u001B[0;32m    939\u001B[0m \u001B[38;5;28;01melif\u001B[39;00m method \u001B[38;5;241m==\u001B[39m \u001B[38;5;124m'\u001B[39m\u001B[38;5;124mdogbox\u001B[39m\u001B[38;5;124m'\u001B[39m:\n\u001B[0;32m    940\u001B[0m     \u001B[38;5;28;01mif\u001B[39;00m tr_solver \u001B[38;5;241m==\u001B[39m \u001B[38;5;124m'\u001B[39m\u001B[38;5;124mlsmr\u001B[39m\u001B[38;5;124m'\u001B[39m \u001B[38;5;129;01mand\u001B[39;00m \u001B[38;5;124m'\u001B[39m\u001B[38;5;124mregularize\u001B[39m\u001B[38;5;124m'\u001B[39m \u001B[38;5;129;01min\u001B[39;00m tr_options:\n",
      "File \u001B[1;32m~\\PycharmProjects\\Margin-Loans-Pricing\\venv\\Lib\\site-packages\\scipy\\optimize\\_lsq\\trf.py:123\u001B[0m, in \u001B[0;36mtrf\u001B[1;34m(fun, jac, x0, f0, J0, lb, ub, ftol, xtol, gtol, max_nfev, x_scale, loss_function, tr_solver, tr_options, verbose)\u001B[0m\n\u001B[0;32m    119\u001B[0m     \u001B[38;5;28;01mreturn\u001B[39;00m trf_no_bounds(\n\u001B[0;32m    120\u001B[0m         fun, jac, x0, f0, J0, ftol, xtol, gtol, max_nfev, x_scale,\n\u001B[0;32m    121\u001B[0m         loss_function, tr_solver, tr_options, verbose)\n\u001B[0;32m    122\u001B[0m \u001B[38;5;28;01melse\u001B[39;00m:\n\u001B[1;32m--> 123\u001B[0m     \u001B[38;5;28;01mreturn\u001B[39;00m \u001B[43mtrf_bounds\u001B[49m\u001B[43m(\u001B[49m\n\u001B[0;32m    124\u001B[0m \u001B[43m        \u001B[49m\u001B[43mfun\u001B[49m\u001B[43m,\u001B[49m\u001B[43m \u001B[49m\u001B[43mjac\u001B[49m\u001B[43m,\u001B[49m\u001B[43m \u001B[49m\u001B[43mx0\u001B[49m\u001B[43m,\u001B[49m\u001B[43m \u001B[49m\u001B[43mf0\u001B[49m\u001B[43m,\u001B[49m\u001B[43m \u001B[49m\u001B[43mJ0\u001B[49m\u001B[43m,\u001B[49m\u001B[43m \u001B[49m\u001B[43mlb\u001B[49m\u001B[43m,\u001B[49m\u001B[43m \u001B[49m\u001B[43mub\u001B[49m\u001B[43m,\u001B[49m\u001B[43m \u001B[49m\u001B[43mftol\u001B[49m\u001B[43m,\u001B[49m\u001B[43m \u001B[49m\u001B[43mxtol\u001B[49m\u001B[43m,\u001B[49m\u001B[43m \u001B[49m\u001B[43mgtol\u001B[49m\u001B[43m,\u001B[49m\u001B[43m \u001B[49m\u001B[43mmax_nfev\u001B[49m\u001B[43m,\u001B[49m\u001B[43m \u001B[49m\u001B[43mx_scale\u001B[49m\u001B[43m,\u001B[49m\n\u001B[0;32m    125\u001B[0m \u001B[43m        \u001B[49m\u001B[43mloss_function\u001B[49m\u001B[43m,\u001B[49m\u001B[43m \u001B[49m\u001B[43mtr_solver\u001B[49m\u001B[43m,\u001B[49m\u001B[43m \u001B[49m\u001B[43mtr_options\u001B[49m\u001B[43m,\u001B[49m\u001B[43m \u001B[49m\u001B[43mverbose\u001B[49m\u001B[43m)\u001B[49m\n",
      "File \u001B[1;32m~\\PycharmProjects\\Margin-Loans-Pricing\\venv\\Lib\\site-packages\\scipy\\optimize\\_lsq\\trf.py:338\u001B[0m, in \u001B[0;36mtrf_bounds\u001B[1;34m(fun, jac, x0, f0, J0, lb, ub, ftol, xtol, gtol, max_nfev, x_scale, loss_function, tr_solver, tr_options, verbose)\u001B[0m\n\u001B[0;32m    334\u001B[0m step, step_h, predicted_reduction \u001B[38;5;241m=\u001B[39m select_step(\n\u001B[0;32m    335\u001B[0m     x, J_h, diag_h, g_h, p, p_h, d, Delta, lb, ub, theta)\n\u001B[0;32m    337\u001B[0m x_new \u001B[38;5;241m=\u001B[39m make_strictly_feasible(x \u001B[38;5;241m+\u001B[39m step, lb, ub, rstep\u001B[38;5;241m=\u001B[39m\u001B[38;5;241m0\u001B[39m)\n\u001B[1;32m--> 338\u001B[0m f_new \u001B[38;5;241m=\u001B[39m \u001B[43mfun\u001B[49m\u001B[43m(\u001B[49m\u001B[43mx_new\u001B[49m\u001B[43m)\u001B[49m\n\u001B[0;32m    339\u001B[0m nfev \u001B[38;5;241m+\u001B[39m\u001B[38;5;241m=\u001B[39m \u001B[38;5;241m1\u001B[39m\n\u001B[0;32m    341\u001B[0m step_h_norm \u001B[38;5;241m=\u001B[39m norm(step_h)\n",
      "File \u001B[1;32m~\\PycharmProjects\\Margin-Loans-Pricing\\venv\\Lib\\site-packages\\scipy\\optimize\\_lsq\\least_squares.py:825\u001B[0m, in \u001B[0;36mleast_squares.<locals>.fun_wrapped\u001B[1;34m(x)\u001B[0m\n\u001B[0;32m    824\u001B[0m \u001B[38;5;28;01mdef\u001B[39;00m \u001B[38;5;21mfun_wrapped\u001B[39m(x):\n\u001B[1;32m--> 825\u001B[0m     \u001B[38;5;28;01mreturn\u001B[39;00m np\u001B[38;5;241m.\u001B[39matleast_1d(\u001B[43mfun\u001B[49m\u001B[43m(\u001B[49m\u001B[43mx\u001B[49m\u001B[43m,\u001B[49m\u001B[43m \u001B[49m\u001B[38;5;241;43m*\u001B[39;49m\u001B[43margs\u001B[49m\u001B[43m,\u001B[49m\u001B[43m \u001B[49m\u001B[38;5;241;43m*\u001B[39;49m\u001B[38;5;241;43m*\u001B[39;49m\u001B[43mkwargs\u001B[49m\u001B[43m)\u001B[49m)\n",
      "Cell \u001B[1;32mIn[26], line 5\u001B[0m, in \u001B[0;36mcost_function\u001B[1;34m(x, strikes, mkt_prices)\u001B[0m\n\u001B[0;32m      3\u001B[0m sigm, lamb, p, eta1, eta2 \u001B[38;5;241m=\u001B[39m x\n\u001B[0;32m      4\u001B[0m KOU \u001B[38;5;241m=\u001B[39m Kou_pricer(S0\u001B[38;5;241m=\u001B[39mS0, K\u001B[38;5;241m=\u001B[39mstrikes, ttm\u001B[38;5;241m=\u001B[39mT, r\u001B[38;5;241m=\u001B[39mr, sigma\u001B[38;5;241m=\u001B[39msigm, lambd\u001B[38;5;241m=\u001B[39mlamb, p\u001B[38;5;241m=\u001B[39mp, eta1\u001B[38;5;241m=\u001B[39meta1, eta2\u001B[38;5;241m=\u001B[39meta2, exercise\u001B[38;5;241m=\u001B[39mexercise)\n\u001B[1;32m----> 5\u001B[0m sq_err \u001B[38;5;241m=\u001B[39m np\u001B[38;5;241m.\u001B[39msum(p_weights\u001B[38;5;241m*\u001B[39m(\u001B[43mKOU\u001B[49m\u001B[38;5;241;43m.\u001B[39;49m\u001B[43mclosed_formula_put\u001B[49m\u001B[43m(\u001B[49m\u001B[43mstrikes\u001B[49m\u001B[43m)\u001B[49m \u001B[38;5;241m-\u001B[39m mkt_prices)\u001B[38;5;241m*\u001B[39m\u001B[38;5;241m*\u001B[39m\u001B[38;5;241m2\u001B[39m)\n\u001B[0;32m      6\u001B[0m \u001B[38;5;28;01mreturn\u001B[39;00m sq_err\n",
      "File \u001B[1;32m~\\PycharmProjects\\Margin-Loans-Pricing/functions\\KOUpricer.py:323\u001B[0m, in \u001B[0;36mKou_pricer.closed_formula_put\u001B[1;34m(self, K)\u001B[0m\n\u001B[0;32m    321\u001B[0m \u001B[38;5;28;01mdef\u001B[39;00m \u001B[38;5;21mclosed_formula_put\u001B[39m(\u001B[38;5;28mself\u001B[39m, K):\n\u001B[0;32m    322\u001B[0m     \u001B[38;5;28mself\u001B[39m\u001B[38;5;241m.\u001B[39mK \u001B[38;5;241m=\u001B[39m K\n\u001B[1;32m--> 323\u001B[0m     \u001B[38;5;28;01mreturn\u001B[39;00m \u001B[38;5;28;43mself\u001B[39;49m\u001B[38;5;241;43m.\u001B[39;49m\u001B[43mclosed_formula_call\u001B[49m\u001B[43m(\u001B[49m\u001B[38;5;28;43mself\u001B[39;49m\u001B[38;5;241;43m.\u001B[39;49m\u001B[43mK\u001B[49m\u001B[43m)\u001B[49m \u001B[38;5;241m+\u001B[39m (\u001B[38;5;28mself\u001B[39m\u001B[38;5;241m.\u001B[39mK \u001B[38;5;241m*\u001B[39m np\u001B[38;5;241m.\u001B[39mexp(\u001B[38;5;241m-\u001B[39m\u001B[38;5;28mself\u001B[39m\u001B[38;5;241m.\u001B[39mr \u001B[38;5;241m*\u001B[39m \u001B[38;5;28mself\u001B[39m\u001B[38;5;241m.\u001B[39mT) \u001B[38;5;241m-\u001B[39m \u001B[38;5;28mself\u001B[39m\u001B[38;5;241m.\u001B[39mS0)\n",
      "File \u001B[1;32m~\\PycharmProjects\\Margin-Loans-Pricing/functions\\KOUpricer.py:314\u001B[0m, in \u001B[0;36mKou_pricer.closed_formula_call\u001B[1;34m(self, K)\u001B[0m\n\u001B[0;32m    311\u001B[0m p2 \u001B[38;5;241m=\u001B[39m \u001B[38;5;28mself\u001B[39m\u001B[38;5;241m.\u001B[39mp \u001B[38;5;241m/\u001B[39m (\u001B[38;5;241m1\u001B[39m \u001B[38;5;241m+\u001B[39m zeta) \u001B[38;5;241m*\u001B[39m \u001B[38;5;28mself\u001B[39m\u001B[38;5;241m.\u001B[39meta1 \u001B[38;5;241m/\u001B[39m (\u001B[38;5;28mself\u001B[39m\u001B[38;5;241m.\u001B[39meta1 \u001B[38;5;241m-\u001B[39m \u001B[38;5;241m1\u001B[39m)\n\u001B[0;32m    312\u001B[0m vkjd_1 \u001B[38;5;241m=\u001B[39m \u001B[38;5;28mself\u001B[39m\u001B[38;5;241m.\u001B[39mS0 \u001B[38;5;241m*\u001B[39m \u001B[38;5;28mself\u001B[39m\u001B[38;5;241m.\u001B[39mYfunction(\u001B[38;5;28mself\u001B[39m\u001B[38;5;241m.\u001B[39mr \u001B[38;5;241m+\u001B[39m \u001B[38;5;241m1\u001B[39m \u001B[38;5;241m/\u001B[39m \u001B[38;5;241m2\u001B[39m \u001B[38;5;241m*\u001B[39m \u001B[38;5;28mself\u001B[39m\u001B[38;5;241m.\u001B[39msigma \u001B[38;5;241m*\u001B[39m\u001B[38;5;241m*\u001B[39m \u001B[38;5;241m2\u001B[39m \u001B[38;5;241m-\u001B[39m \u001B[38;5;28mself\u001B[39m\u001B[38;5;241m.\u001B[39mlambd \u001B[38;5;241m*\u001B[39m zeta, \u001B[38;5;28mself\u001B[39m\u001B[38;5;241m.\u001B[39msigma, lambd2, p2,\n\u001B[0;32m    313\u001B[0m                                   eta1_2, eta2_2, np\u001B[38;5;241m.\u001B[39mlog(\u001B[38;5;28mself\u001B[39m\u001B[38;5;241m.\u001B[39mK \u001B[38;5;241m/\u001B[39m \u001B[38;5;28mself\u001B[39m\u001B[38;5;241m.\u001B[39mS0), \u001B[38;5;28mself\u001B[39m\u001B[38;5;241m.\u001B[39mT)\n\u001B[1;32m--> 314\u001B[0m vkjd_2 \u001B[38;5;241m=\u001B[39m \u001B[38;5;28mself\u001B[39m\u001B[38;5;241m.\u001B[39mK \u001B[38;5;241m*\u001B[39m np\u001B[38;5;241m.\u001B[39mexp(\u001B[38;5;241m-\u001B[39m\u001B[38;5;28mself\u001B[39m\u001B[38;5;241m.\u001B[39mr \u001B[38;5;241m*\u001B[39m \u001B[38;5;28mself\u001B[39m\u001B[38;5;241m.\u001B[39mT) \u001B[38;5;241m*\u001B[39m \u001B[38;5;28;43mself\u001B[39;49m\u001B[38;5;241;43m.\u001B[39;49m\u001B[43mYfunction\u001B[49m\u001B[43m(\u001B[49m\n\u001B[0;32m    315\u001B[0m \u001B[43m    \u001B[49m\u001B[38;5;28;43mself\u001B[39;49m\u001B[38;5;241;43m.\u001B[39;49m\u001B[43mr\u001B[49m\u001B[43m \u001B[49m\u001B[38;5;241;43m-\u001B[39;49m\u001B[43m \u001B[49m\u001B[38;5;241;43m1\u001B[39;49m\u001B[43m \u001B[49m\u001B[38;5;241;43m/\u001B[39;49m\u001B[43m \u001B[49m\u001B[38;5;241;43m2\u001B[39;49m\u001B[43m \u001B[49m\u001B[38;5;241;43m*\u001B[39;49m\u001B[43m \u001B[49m\u001B[38;5;28;43mself\u001B[39;49m\u001B[38;5;241;43m.\u001B[39;49m\u001B[43msigma\u001B[49m\u001B[43m \u001B[49m\u001B[38;5;241;43m*\u001B[39;49m\u001B[38;5;241;43m*\u001B[39;49m\u001B[43m \u001B[49m\u001B[38;5;241;43m2\u001B[39;49m\u001B[43m \u001B[49m\u001B[38;5;241;43m-\u001B[39;49m\u001B[43m \u001B[49m\u001B[38;5;28;43mself\u001B[39;49m\u001B[38;5;241;43m.\u001B[39;49m\u001B[43mlambd\u001B[49m\u001B[43m \u001B[49m\u001B[38;5;241;43m*\u001B[39;49m\u001B[43m \u001B[49m\u001B[43mzeta\u001B[49m\u001B[43m,\u001B[49m\n\u001B[0;32m    316\u001B[0m \u001B[43m    \u001B[49m\u001B[38;5;28;43mself\u001B[39;49m\u001B[38;5;241;43m.\u001B[39;49m\u001B[43msigma\u001B[49m\u001B[43m,\u001B[49m\u001B[43m \u001B[49m\u001B[38;5;28;43mself\u001B[39;49m\u001B[38;5;241;43m.\u001B[39;49m\u001B[43mlambd\u001B[49m\u001B[43m,\u001B[49m\u001B[43m \u001B[49m\u001B[38;5;28;43mself\u001B[39;49m\u001B[38;5;241;43m.\u001B[39;49m\u001B[43mp\u001B[49m\u001B[43m,\u001B[49m\u001B[43m \u001B[49m\u001B[38;5;28;43mself\u001B[39;49m\u001B[38;5;241;43m.\u001B[39;49m\u001B[43meta1\u001B[49m\u001B[43m,\u001B[49m\u001B[43m \u001B[49m\u001B[38;5;28;43mself\u001B[39;49m\u001B[38;5;241;43m.\u001B[39;49m\u001B[43meta2\u001B[49m\u001B[43m,\u001B[49m\n\u001B[0;32m    317\u001B[0m \u001B[43m    \u001B[49m\u001B[43mnp\u001B[49m\u001B[38;5;241;43m.\u001B[39;49m\u001B[43mlog\u001B[49m\u001B[43m(\u001B[49m\u001B[38;5;28;43mself\u001B[39;49m\u001B[38;5;241;43m.\u001B[39;49m\u001B[43mK\u001B[49m\u001B[43m \u001B[49m\u001B[38;5;241;43m/\u001B[39;49m\u001B[43m \u001B[49m\u001B[38;5;28;43mself\u001B[39;49m\u001B[38;5;241;43m.\u001B[39;49m\u001B[43mS0\u001B[49m\u001B[43m)\u001B[49m\u001B[43m,\u001B[49m\u001B[43m \u001B[49m\u001B[38;5;28;43mself\u001B[39;49m\u001B[38;5;241;43m.\u001B[39;49m\u001B[43mT\u001B[49m\u001B[43m)\u001B[49m\n\u001B[0;32m    319\u001B[0m \u001B[38;5;28;01mreturn\u001B[39;00m vkjd_1 \u001B[38;5;241m-\u001B[39m vkjd_2\n",
      "File \u001B[1;32m~\\PycharmProjects\\Margin-Loans-Pricing/functions\\KOUpricer.py:288\u001B[0m, in \u001B[0;36mKou_pricer.Yfunction\u001B[1;34m(self, mu, sigma, lambd, p, eta1, eta2, a, T)\u001B[0m\n\u001B[0;32m    285\u001B[0m sumq1_n \u001B[38;5;241m=\u001B[39m \u001B[38;5;241m0\u001B[39m\n\u001B[0;32m    286\u001B[0m \u001B[38;5;28;01mfor\u001B[39;00m k \u001B[38;5;129;01min\u001B[39;00m \u001B[38;5;28mrange\u001B[39m(\u001B[38;5;241m1\u001B[39m, n \u001B[38;5;241m+\u001B[39m \u001B[38;5;241m1\u001B[39m):\n\u001B[0;32m    287\u001B[0m     sump2_k \u001B[38;5;241m=\u001B[39m \u001B[38;5;28mself\u001B[39m\u001B[38;5;241m.\u001B[39mP(n, k, eta1, eta2, p) \u001B[38;5;241m*\u001B[39m (sigma \u001B[38;5;241m*\u001B[39m np\u001B[38;5;241m.\u001B[39msqrt(T) \u001B[38;5;241m*\u001B[39m eta1) \u001B[38;5;241m*\u001B[39m\u001B[38;5;241m*\u001B[39m k \u001B[38;5;241m*\u001B[39m \\\n\u001B[1;32m--> 288\u001B[0m               \u001B[38;5;28;43mself\u001B[39;49m\u001B[38;5;241;43m.\u001B[39;49m\u001B[43mI\u001B[49m\u001B[43m(\u001B[49m\u001B[43mk\u001B[49m\u001B[43m \u001B[49m\u001B[38;5;241;43m-\u001B[39;49m\u001B[43m \u001B[49m\u001B[38;5;241;43m1\u001B[39;49m\u001B[43m,\u001B[49m\u001B[43m \u001B[49m\u001B[43ma\u001B[49m\u001B[43m \u001B[49m\u001B[38;5;241;43m-\u001B[39;49m\u001B[43m \u001B[49m\u001B[43mmu\u001B[49m\u001B[43m \u001B[49m\u001B[38;5;241;43m*\u001B[39;49m\u001B[43m \u001B[49m\u001B[43mT\u001B[49m\u001B[43m,\u001B[49m\u001B[43m \u001B[49m\u001B[38;5;241;43m-\u001B[39;49m\u001B[43meta1\u001B[49m\u001B[43m,\u001B[49m\u001B[43m \u001B[49m\u001B[38;5;241;43m-\u001B[39;49m\u001B[38;5;241;43m1\u001B[39;49m\u001B[43m \u001B[49m\u001B[38;5;241;43m/\u001B[39;49m\u001B[43m \u001B[49m\u001B[43m(\u001B[49m\u001B[43msigma\u001B[49m\u001B[43m \u001B[49m\u001B[38;5;241;43m*\u001B[39;49m\u001B[43m \u001B[49m\u001B[43mnp\u001B[49m\u001B[38;5;241;43m.\u001B[39;49m\u001B[43msqrt\u001B[49m\u001B[43m(\u001B[49m\u001B[43mT\u001B[49m\u001B[43m)\u001B[49m\u001B[43m)\u001B[49m\u001B[43m,\u001B[49m\u001B[43m \u001B[49m\u001B[38;5;241;43m-\u001B[39;49m\u001B[43msigma\u001B[49m\u001B[43m \u001B[49m\u001B[38;5;241;43m*\u001B[39;49m\u001B[43m \u001B[49m\u001B[43meta1\u001B[49m\u001B[43m \u001B[49m\u001B[38;5;241;43m*\u001B[39;49m\u001B[43m \u001B[49m\u001B[43mnp\u001B[49m\u001B[38;5;241;43m.\u001B[39;49m\u001B[43msqrt\u001B[49m\u001B[43m(\u001B[49m\u001B[43mT\u001B[49m\u001B[43m)\u001B[49m\u001B[43m)\u001B[49m\n\u001B[0;32m    290\u001B[0m     sumq2_k \u001B[38;5;241m=\u001B[39m \u001B[38;5;28mself\u001B[39m\u001B[38;5;241m.\u001B[39mQ(n, k, eta1, eta2, p) \u001B[38;5;241m*\u001B[39m (sigma \u001B[38;5;241m*\u001B[39m np\u001B[38;5;241m.\u001B[39msqrt(T) \u001B[38;5;241m*\u001B[39m eta2) \u001B[38;5;241m*\u001B[39m\u001B[38;5;241m*\u001B[39m k \u001B[38;5;241m*\u001B[39m \\\n\u001B[0;32m    291\u001B[0m               \u001B[38;5;28mself\u001B[39m\u001B[38;5;241m.\u001B[39mI(k \u001B[38;5;241m-\u001B[39m \u001B[38;5;241m1\u001B[39m, a \u001B[38;5;241m-\u001B[39m mu \u001B[38;5;241m*\u001B[39m T, eta2, \u001B[38;5;241m1\u001B[39m \u001B[38;5;241m/\u001B[39m (sigma \u001B[38;5;241m*\u001B[39m np\u001B[38;5;241m.\u001B[39msqrt(T)), \u001B[38;5;241m-\u001B[39msigma \u001B[38;5;241m*\u001B[39m eta2 \u001B[38;5;241m*\u001B[39m np\u001B[38;5;241m.\u001B[39msqrt(T))\n\u001B[0;32m    293\u001B[0m     sump1_n \u001B[38;5;241m+\u001B[39m\u001B[38;5;241m=\u001B[39m sump2_k\n",
      "File \u001B[1;32m~\\PycharmProjects\\Margin-Loans-Pricing/functions\\KOUpricer.py:258\u001B[0m, in \u001B[0;36mKou_pricer.I\u001B[1;34m(self, n, c, alpha, beta, delta)\u001B[0m\n\u001B[0;32m    256\u001B[0m i \u001B[38;5;241m=\u001B[39m \u001B[38;5;241m0\u001B[39m\n\u001B[0;32m    257\u001B[0m \u001B[38;5;28;01mwhile\u001B[39;00m i \u001B[38;5;241m<\u001B[39m\u001B[38;5;241m=\u001B[39m n:\n\u001B[1;32m--> 258\u001B[0m     sum_i \u001B[38;5;241m=\u001B[39m sum_i \u001B[38;5;241m+\u001B[39m (beta \u001B[38;5;241m/\u001B[39m alpha) \u001B[38;5;241m*\u001B[39m\u001B[38;5;241m*\u001B[39m (n \u001B[38;5;241m-\u001B[39m i) \u001B[38;5;241m*\u001B[39m \u001B[38;5;28;43mself\u001B[39;49m\u001B[38;5;241;43m.\u001B[39;49m\u001B[43mHh\u001B[49m\u001B[43m(\u001B[49m\u001B[43mi\u001B[49m\u001B[43m,\u001B[49m\u001B[43m \u001B[49m\u001B[43mbeta\u001B[49m\u001B[43m \u001B[49m\u001B[38;5;241;43m*\u001B[39;49m\u001B[43m \u001B[49m\u001B[43mc\u001B[49m\u001B[43m \u001B[49m\u001B[38;5;241;43m-\u001B[39;49m\u001B[43m \u001B[49m\u001B[43mdelta\u001B[49m\u001B[43m)\u001B[49m\n\u001B[0;32m    259\u001B[0m     i \u001B[38;5;241m+\u001B[39m\u001B[38;5;241m=\u001B[39m \u001B[38;5;241m1\u001B[39m\n\u001B[0;32m    260\u001B[0m \u001B[38;5;28;01mreturn\u001B[39;00m \u001B[38;5;241m-\u001B[39mnp\u001B[38;5;241m.\u001B[39mexp(alpha \u001B[38;5;241m*\u001B[39m c) \u001B[38;5;241m/\u001B[39m alpha \u001B[38;5;241m*\u001B[39m sum_i \u001B[38;5;241m-\u001B[39m (beta \u001B[38;5;241m/\u001B[39m alpha) \u001B[38;5;241m*\u001B[39m\u001B[38;5;241m*\u001B[39m (n \u001B[38;5;241m+\u001B[39m \u001B[38;5;241m1\u001B[39m) \u001B[38;5;241m*\u001B[39m (np\u001B[38;5;241m.\u001B[39msqrt(\u001B[38;5;241m2\u001B[39m \u001B[38;5;241m*\u001B[39m np\u001B[38;5;241m.\u001B[39mpi) \u001B[38;5;241m/\u001B[39m beta) \\\n\u001B[0;32m    261\u001B[0m        \u001B[38;5;241m*\u001B[39m np\u001B[38;5;241m.\u001B[39mexp((alpha \u001B[38;5;241m*\u001B[39m delta \u001B[38;5;241m/\u001B[39m beta) \u001B[38;5;241m+\u001B[39m (alpha \u001B[38;5;241m*\u001B[39m\u001B[38;5;241m*\u001B[39m \u001B[38;5;241m2\u001B[39m \u001B[38;5;241m/\u001B[39m (\u001B[38;5;241m2\u001B[39m \u001B[38;5;241m*\u001B[39m beta \u001B[38;5;241m*\u001B[39m\u001B[38;5;241m*\u001B[39m \u001B[38;5;241m2\u001B[39m))) \u001B[38;5;241m*\u001B[39m scs\u001B[38;5;241m.\u001B[39mnorm\u001B[38;5;241m.\u001B[39mcdf(\n\u001B[0;32m    262\u001B[0m     beta \u001B[38;5;241m*\u001B[39m c \u001B[38;5;241m-\u001B[39m delta \u001B[38;5;241m-\u001B[39m alpha \u001B[38;5;241m/\u001B[39m beta)\n",
      "File \u001B[1;32m~\\PycharmProjects\\Margin-Loans-Pricing/functions\\KOUpricer.py:219\u001B[0m, in \u001B[0;36mKou_pricer.Hh\u001B[1;34m(self, n, x)\u001B[0m\n\u001B[0;32m    217\u001B[0m     \u001B[38;5;28;01mreturn\u001B[39;00m np\u001B[38;5;241m.\u001B[39msqrt(\u001B[38;5;241m2\u001B[39m \u001B[38;5;241m*\u001B[39m np\u001B[38;5;241m.\u001B[39mpi) \u001B[38;5;241m*\u001B[39m scs\u001B[38;5;241m.\u001B[39mnorm\u001B[38;5;241m.\u001B[39mcdf(\u001B[38;5;241m-\u001B[39mx)\n\u001B[0;32m    218\u001B[0m \u001B[38;5;28;01melse\u001B[39;00m:\n\u001B[1;32m--> 219\u001B[0m     \u001B[38;5;28;01mreturn\u001B[39;00m (\u001B[38;5;28mself\u001B[39m\u001B[38;5;241m.\u001B[39mHh(n \u001B[38;5;241m-\u001B[39m \u001B[38;5;241m2\u001B[39m, x) \u001B[38;5;241m-\u001B[39m x \u001B[38;5;241m*\u001B[39m \u001B[38;5;28;43mself\u001B[39;49m\u001B[38;5;241;43m.\u001B[39;49m\u001B[43mHh\u001B[49m\u001B[43m(\u001B[49m\u001B[43mn\u001B[49m\u001B[43m \u001B[49m\u001B[38;5;241;43m-\u001B[39;49m\u001B[43m \u001B[49m\u001B[38;5;241;43m1\u001B[39;49m\u001B[43m,\u001B[49m\u001B[43m \u001B[49m\u001B[43mx\u001B[49m\u001B[43m)\u001B[49m) \u001B[38;5;241m/\u001B[39m n\n",
      "File \u001B[1;32m~\\PycharmProjects\\Margin-Loans-Pricing/functions\\KOUpricer.py:219\u001B[0m, in \u001B[0;36mKou_pricer.Hh\u001B[1;34m(self, n, x)\u001B[0m\n\u001B[0;32m    217\u001B[0m     \u001B[38;5;28;01mreturn\u001B[39;00m np\u001B[38;5;241m.\u001B[39msqrt(\u001B[38;5;241m2\u001B[39m \u001B[38;5;241m*\u001B[39m np\u001B[38;5;241m.\u001B[39mpi) \u001B[38;5;241m*\u001B[39m scs\u001B[38;5;241m.\u001B[39mnorm\u001B[38;5;241m.\u001B[39mcdf(\u001B[38;5;241m-\u001B[39mx)\n\u001B[0;32m    218\u001B[0m \u001B[38;5;28;01melse\u001B[39;00m:\n\u001B[1;32m--> 219\u001B[0m     \u001B[38;5;28;01mreturn\u001B[39;00m (\u001B[38;5;28mself\u001B[39m\u001B[38;5;241m.\u001B[39mHh(n \u001B[38;5;241m-\u001B[39m \u001B[38;5;241m2\u001B[39m, x) \u001B[38;5;241m-\u001B[39m x \u001B[38;5;241m*\u001B[39m \u001B[38;5;28;43mself\u001B[39;49m\u001B[38;5;241;43m.\u001B[39;49m\u001B[43mHh\u001B[49m\u001B[43m(\u001B[49m\u001B[43mn\u001B[49m\u001B[43m \u001B[49m\u001B[38;5;241;43m-\u001B[39;49m\u001B[43m \u001B[49m\u001B[38;5;241;43m1\u001B[39;49m\u001B[43m,\u001B[49m\u001B[43m \u001B[49m\u001B[43mx\u001B[49m\u001B[43m)\u001B[49m) \u001B[38;5;241m/\u001B[39m n\n",
      "    \u001B[1;31m[... skipping similar frames: Kou_pricer.Hh at line 219 (1 times)]\u001B[0m\n",
      "File \u001B[1;32m~\\PycharmProjects\\Margin-Loans-Pricing/functions\\KOUpricer.py:219\u001B[0m, in \u001B[0;36mKou_pricer.Hh\u001B[1;34m(self, n, x)\u001B[0m\n\u001B[0;32m    217\u001B[0m     \u001B[38;5;28;01mreturn\u001B[39;00m np\u001B[38;5;241m.\u001B[39msqrt(\u001B[38;5;241m2\u001B[39m \u001B[38;5;241m*\u001B[39m np\u001B[38;5;241m.\u001B[39mpi) \u001B[38;5;241m*\u001B[39m scs\u001B[38;5;241m.\u001B[39mnorm\u001B[38;5;241m.\u001B[39mcdf(\u001B[38;5;241m-\u001B[39mx)\n\u001B[0;32m    218\u001B[0m \u001B[38;5;28;01melse\u001B[39;00m:\n\u001B[1;32m--> 219\u001B[0m     \u001B[38;5;28;01mreturn\u001B[39;00m (\u001B[38;5;28;43mself\u001B[39;49m\u001B[38;5;241;43m.\u001B[39;49m\u001B[43mHh\u001B[49m\u001B[43m(\u001B[49m\u001B[43mn\u001B[49m\u001B[43m \u001B[49m\u001B[38;5;241;43m-\u001B[39;49m\u001B[43m \u001B[49m\u001B[38;5;241;43m2\u001B[39;49m\u001B[43m,\u001B[49m\u001B[43m \u001B[49m\u001B[43mx\u001B[49m\u001B[43m)\u001B[49m \u001B[38;5;241m-\u001B[39m x \u001B[38;5;241m*\u001B[39m \u001B[38;5;28mself\u001B[39m\u001B[38;5;241m.\u001B[39mHh(n \u001B[38;5;241m-\u001B[39m \u001B[38;5;241m1\u001B[39m, x)) \u001B[38;5;241m/\u001B[39m n\n",
      "File \u001B[1;32m~\\PycharmProjects\\Margin-Loans-Pricing/functions\\KOUpricer.py:215\u001B[0m, in \u001B[0;36mKou_pricer.Hh\u001B[1;34m(self, n, x)\u001B[0m\n\u001B[0;32m    213\u001B[0m     \u001B[38;5;28;01mreturn\u001B[39;00m \u001B[38;5;241m0\u001B[39m\n\u001B[0;32m    214\u001B[0m \u001B[38;5;28;01melif\u001B[39;00m n \u001B[38;5;241m==\u001B[39m \u001B[38;5;241m-\u001B[39m\u001B[38;5;241m1\u001B[39m:\n\u001B[1;32m--> 215\u001B[0m     \u001B[38;5;28;01mreturn\u001B[39;00m \u001B[43mnp\u001B[49m\u001B[38;5;241;43m.\u001B[39;49m\u001B[43mexp\u001B[49m\u001B[43m(\u001B[49m\u001B[38;5;241;43m-\u001B[39;49m\u001B[43mx\u001B[49m\u001B[43m \u001B[49m\u001B[38;5;241;43m*\u001B[39;49m\u001B[38;5;241;43m*\u001B[39;49m\u001B[43m \u001B[49m\u001B[38;5;241;43m2\u001B[39;49m\u001B[43m \u001B[49m\u001B[38;5;241;43m/\u001B[39;49m\u001B[43m \u001B[49m\u001B[38;5;241;43m2\u001B[39;49m\u001B[43m)\u001B[49m\n\u001B[0;32m    216\u001B[0m \u001B[38;5;28;01melif\u001B[39;00m n \u001B[38;5;241m==\u001B[39m \u001B[38;5;241m0\u001B[39m:\n\u001B[0;32m    217\u001B[0m     \u001B[38;5;28;01mreturn\u001B[39;00m np\u001B[38;5;241m.\u001B[39msqrt(\u001B[38;5;241m2\u001B[39m \u001B[38;5;241m*\u001B[39m np\u001B[38;5;241m.\u001B[39mpi) \u001B[38;5;241m*\u001B[39m scs\u001B[38;5;241m.\u001B[39mnorm\u001B[38;5;241m.\u001B[39mcdf(\u001B[38;5;241m-\u001B[39mx)\n",
      "File \u001B[1;32m~\\PycharmProjects\\Margin-Loans-Pricing\\venv\\Lib\\site-packages\\pandas\\core\\generic.py:2102\u001B[0m, in \u001B[0;36mNDFrame.__array_ufunc__\u001B[1;34m(self, ufunc, method, *inputs, **kwargs)\u001B[0m\n\u001B[0;32m   2098\u001B[0m \u001B[38;5;129m@final\u001B[39m\n\u001B[0;32m   2099\u001B[0m \u001B[38;5;28;01mdef\u001B[39;00m \u001B[38;5;21m__array_ufunc__\u001B[39m(\n\u001B[0;32m   2100\u001B[0m     \u001B[38;5;28mself\u001B[39m, ufunc: np\u001B[38;5;241m.\u001B[39mufunc, method: \u001B[38;5;28mstr\u001B[39m, \u001B[38;5;241m*\u001B[39minputs: Any, \u001B[38;5;241m*\u001B[39m\u001B[38;5;241m*\u001B[39mkwargs: Any\n\u001B[0;32m   2101\u001B[0m ):\n\u001B[1;32m-> 2102\u001B[0m     \u001B[38;5;28;01mreturn\u001B[39;00m \u001B[43marraylike\u001B[49m\u001B[38;5;241;43m.\u001B[39;49m\u001B[43marray_ufunc\u001B[49m\u001B[43m(\u001B[49m\u001B[38;5;28;43mself\u001B[39;49m\u001B[43m,\u001B[49m\u001B[43m \u001B[49m\u001B[43mufunc\u001B[49m\u001B[43m,\u001B[49m\u001B[43m \u001B[49m\u001B[43mmethod\u001B[49m\u001B[43m,\u001B[49m\u001B[43m \u001B[49m\u001B[38;5;241;43m*\u001B[39;49m\u001B[43minputs\u001B[49m\u001B[43m,\u001B[49m\u001B[43m \u001B[49m\u001B[38;5;241;43m*\u001B[39;49m\u001B[38;5;241;43m*\u001B[39;49m\u001B[43mkwargs\u001B[49m\u001B[43m)\u001B[49m\n",
      "File \u001B[1;32m~\\PycharmProjects\\Margin-Loans-Pricing\\venv\\Lib\\site-packages\\pandas\\core\\arraylike.py:411\u001B[0m, in \u001B[0;36marray_ufunc\u001B[1;34m(self, ufunc, method, *inputs, **kwargs)\u001B[0m\n\u001B[0;32m    408\u001B[0m         result \u001B[38;5;241m=\u001B[39m default_array_ufunc(inputs[\u001B[38;5;241m0\u001B[39m], ufunc, method, \u001B[38;5;241m*\u001B[39minputs, \u001B[38;5;241m*\u001B[39m\u001B[38;5;241m*\u001B[39mkwargs)\n\u001B[0;32m    409\u001B[0m         \u001B[38;5;66;03m# e.g. np.negative (only one reached), with \"where\" and \"out\" in kwargs\u001B[39;00m\n\u001B[1;32m--> 411\u001B[0m result \u001B[38;5;241m=\u001B[39m \u001B[43mreconstruct\u001B[49m\u001B[43m(\u001B[49m\u001B[43mresult\u001B[49m\u001B[43m)\u001B[49m\n\u001B[0;32m    412\u001B[0m \u001B[38;5;28;01mreturn\u001B[39;00m result\n",
      "File \u001B[1;32m~\\PycharmProjects\\Margin-Loans-Pricing\\venv\\Lib\\site-packages\\pandas\\core\\arraylike.py:340\u001B[0m, in \u001B[0;36marray_ufunc.<locals>.reconstruct\u001B[1;34m(result)\u001B[0m\n\u001B[0;32m    336\u001B[0m \u001B[38;5;28;01mif\u001B[39;00m ufunc\u001B[38;5;241m.\u001B[39mnout \u001B[38;5;241m>\u001B[39m \u001B[38;5;241m1\u001B[39m:\n\u001B[0;32m    337\u001B[0m     \u001B[38;5;66;03m# np.modf, np.frexp, np.divmod\u001B[39;00m\n\u001B[0;32m    338\u001B[0m     \u001B[38;5;28;01mreturn\u001B[39;00m \u001B[38;5;28mtuple\u001B[39m(_reconstruct(x) \u001B[38;5;28;01mfor\u001B[39;00m x \u001B[38;5;129;01min\u001B[39;00m result)\n\u001B[1;32m--> 340\u001B[0m \u001B[38;5;28;01mreturn\u001B[39;00m \u001B[43m_reconstruct\u001B[49m\u001B[43m(\u001B[49m\u001B[43mresult\u001B[49m\u001B[43m)\u001B[49m\n",
      "File \u001B[1;32m~\\PycharmProjects\\Margin-Loans-Pricing\\venv\\Lib\\site-packages\\pandas\\core\\arraylike.py:355\u001B[0m, in \u001B[0;36marray_ufunc.<locals>._reconstruct\u001B[1;34m(result)\u001B[0m\n\u001B[0;32m    352\u001B[0m     result \u001B[38;5;241m=\u001B[39m \u001B[38;5;28mself\u001B[39m\u001B[38;5;241m.\u001B[39m_constructor_from_mgr(result, axes\u001B[38;5;241m=\u001B[39mresult\u001B[38;5;241m.\u001B[39maxes)\n\u001B[0;32m    353\u001B[0m \u001B[38;5;28;01melse\u001B[39;00m:\n\u001B[0;32m    354\u001B[0m     \u001B[38;5;66;03m# we converted an array, lost our axes\u001B[39;00m\n\u001B[1;32m--> 355\u001B[0m     result \u001B[38;5;241m=\u001B[39m \u001B[38;5;28;43mself\u001B[39;49m\u001B[38;5;241;43m.\u001B[39;49m\u001B[43m_constructor\u001B[49m\u001B[43m(\u001B[49m\n\u001B[0;32m    356\u001B[0m \u001B[43m        \u001B[49m\u001B[43mresult\u001B[49m\u001B[43m,\u001B[49m\u001B[43m \u001B[49m\u001B[38;5;241;43m*\u001B[39;49m\u001B[38;5;241;43m*\u001B[39;49m\u001B[43mreconstruct_axes\u001B[49m\u001B[43m,\u001B[49m\u001B[43m \u001B[49m\u001B[38;5;241;43m*\u001B[39;49m\u001B[38;5;241;43m*\u001B[39;49m\u001B[43mreconstruct_kwargs\u001B[49m\u001B[43m,\u001B[49m\u001B[43m \u001B[49m\u001B[43mcopy\u001B[49m\u001B[38;5;241;43m=\u001B[39;49m\u001B[38;5;28;43;01mFalse\u001B[39;49;00m\n\u001B[0;32m    357\u001B[0m \u001B[43m    \u001B[49m\u001B[43m)\u001B[49m\n\u001B[0;32m    358\u001B[0m \u001B[38;5;66;03m# TODO: When we support multiple values in __finalize__, this\u001B[39;00m\n\u001B[0;32m    359\u001B[0m \u001B[38;5;66;03m# should pass alignable to `__finalize__` instead of self.\u001B[39;00m\n\u001B[0;32m    360\u001B[0m \u001B[38;5;66;03m# Then `np.add(a, b)` would consider attrs from both a and b\u001B[39;00m\n\u001B[0;32m    361\u001B[0m \u001B[38;5;66;03m# when a and b are NDFrames.\u001B[39;00m\n\u001B[0;32m    362\u001B[0m \u001B[38;5;28;01mif\u001B[39;00m \u001B[38;5;28mlen\u001B[39m(alignable) \u001B[38;5;241m==\u001B[39m \u001B[38;5;241m1\u001B[39m:\n",
      "File \u001B[1;32m~\\PycharmProjects\\Margin-Loans-Pricing\\venv\\Lib\\site-packages\\pandas\\core\\series.py:521\u001B[0m, in \u001B[0;36mSeries.__init__\u001B[1;34m(self, data, index, dtype, name, copy, fastpath)\u001B[0m\n\u001B[0;32m    518\u001B[0m         data \u001B[38;5;241m=\u001B[39m SingleArrayManager\u001B[38;5;241m.\u001B[39mfrom_array(data, index)\n\u001B[0;32m    520\u001B[0m NDFrame\u001B[38;5;241m.\u001B[39m\u001B[38;5;21m__init__\u001B[39m(\u001B[38;5;28mself\u001B[39m, data)\n\u001B[1;32m--> 521\u001B[0m \u001B[38;5;28;43mself\u001B[39;49m\u001B[38;5;241;43m.\u001B[39;49m\u001B[43mname\u001B[49m \u001B[38;5;241m=\u001B[39m name\n\u001B[0;32m    522\u001B[0m \u001B[38;5;28mself\u001B[39m\u001B[38;5;241m.\u001B[39m_set_axis(\u001B[38;5;241m0\u001B[39m, index)\n",
      "File \u001B[1;32m~\\PycharmProjects\\Margin-Loans-Pricing\\venv\\Lib\\site-packages\\pandas\\core\\generic.py:6223\u001B[0m, in \u001B[0;36mNDFrame.__setattr__\u001B[1;34m(self, name, value)\u001B[0m\n\u001B[0;32m   6220\u001B[0m \u001B[38;5;66;03m# if this fails, go on to more involved attribute setting\u001B[39;00m\n\u001B[0;32m   6221\u001B[0m \u001B[38;5;66;03m# (note that this matches __getattr__, above).\u001B[39;00m\n\u001B[0;32m   6222\u001B[0m \u001B[38;5;28;01mif\u001B[39;00m name \u001B[38;5;129;01min\u001B[39;00m \u001B[38;5;28mself\u001B[39m\u001B[38;5;241m.\u001B[39m_internal_names_set:\n\u001B[1;32m-> 6223\u001B[0m     \u001B[38;5;28;43mobject\u001B[39;49m\u001B[38;5;241;43m.\u001B[39;49m\u001B[38;5;21;43m__setattr__\u001B[39;49m\u001B[43m(\u001B[49m\u001B[38;5;28;43mself\u001B[39;49m\u001B[43m,\u001B[49m\u001B[43m \u001B[49m\u001B[43mname\u001B[49m\u001B[43m,\u001B[49m\u001B[43m \u001B[49m\u001B[43mvalue\u001B[49m\u001B[43m)\u001B[49m\n\u001B[0;32m   6224\u001B[0m \u001B[38;5;28;01melif\u001B[39;00m name \u001B[38;5;129;01min\u001B[39;00m \u001B[38;5;28mself\u001B[39m\u001B[38;5;241m.\u001B[39m_metadata:\n\u001B[0;32m   6225\u001B[0m     \u001B[38;5;28mobject\u001B[39m\u001B[38;5;241m.\u001B[39m\u001B[38;5;21m__setattr__\u001B[39m(\u001B[38;5;28mself\u001B[39m, name, value)\n",
      "File \u001B[1;32m~\\PycharmProjects\\Margin-Loans-Pricing\\venv\\Lib\\site-packages\\pandas\\core\\series.py:703\u001B[0m, in \u001B[0;36mSeries.name\u001B[1;34m(self, value)\u001B[0m\n\u001B[0;32m    655\u001B[0m \u001B[38;5;250m    \u001B[39m\u001B[38;5;124;03m\"\"\"\u001B[39;00m\n\u001B[0;32m    656\u001B[0m \u001B[38;5;124;03m    Return the name of the Series.\u001B[39;00m\n\u001B[0;32m    657\u001B[0m \n\u001B[1;32m   (...)\u001B[0m\n\u001B[0;32m    699\u001B[0m \u001B[38;5;124;03m    'Even Numbers'\u001B[39;00m\n\u001B[0;32m    700\u001B[0m \u001B[38;5;124;03m    \"\"\"\u001B[39;00m\n\u001B[0;32m    701\u001B[0m     \u001B[38;5;28;01mreturn\u001B[39;00m \u001B[38;5;28mself\u001B[39m\u001B[38;5;241m.\u001B[39m_name\n\u001B[1;32m--> 703\u001B[0m \u001B[38;5;129m@name\u001B[39m\u001B[38;5;241m.\u001B[39msetter\n\u001B[0;32m    704\u001B[0m \u001B[38;5;28;01mdef\u001B[39;00m \u001B[38;5;21mname\u001B[39m(\u001B[38;5;28mself\u001B[39m, value: Hashable) \u001B[38;5;241m-\u001B[39m\u001B[38;5;241m>\u001B[39m \u001B[38;5;28;01mNone\u001B[39;00m:\n\u001B[0;32m    705\u001B[0m     validate_all_hashable(value, error_name\u001B[38;5;241m=\u001B[39m\u001B[38;5;124mf\u001B[39m\u001B[38;5;124m\"\u001B[39m\u001B[38;5;132;01m{\u001B[39;00m\u001B[38;5;28mtype\u001B[39m(\u001B[38;5;28mself\u001B[39m)\u001B[38;5;241m.\u001B[39m\u001B[38;5;18m__name__\u001B[39m\u001B[38;5;132;01m}\u001B[39;00m\u001B[38;5;124m.name\u001B[39m\u001B[38;5;124m\"\u001B[39m)\n\u001B[0;32m    706\u001B[0m     \u001B[38;5;28mobject\u001B[39m\u001B[38;5;241m.\u001B[39m\u001B[38;5;21m__setattr__\u001B[39m(\u001B[38;5;28mself\u001B[39m, \u001B[38;5;124m\"\u001B[39m\u001B[38;5;124m_name\u001B[39m\u001B[38;5;124m\"\u001B[39m, value)\n",
      "\u001B[1;31mKeyboardInterrupt\u001B[0m: "
     ]
    }
   ],
   "source": [
    "# Define the objective function\n",
    "def cost_function(x, strikes, mkt_prices):\n",
    "    sigm, lamb, p, eta1, eta2 = x\n",
    "    KOU = Kou_pricer(S0=S0, K=strikes, ttm=T, r=r, sigma=sigm, lambd=lamb, p=p, eta1=eta1, eta2=eta2, exercise=exercise)\n",
    "    sq_err = np.sum(p_weights*(KOU.closed_formula_put(strikes) - mkt_prices)**2)\n",
    "    return sq_err\n",
    "\n",
    "start2=time.time()\n",
    "kou2 = scpo.least_squares(cost_function, x0, args=(put_strikes, put_prices),  method='trf', bounds=bounds, verbose=2)\n",
    "end2=time.time()"
   ],
   "metadata": {
    "collapsed": false,
    "ExecuteTime": {
     "end_time": "2023-08-31T23:38:59.732303900Z",
     "start_time": "2023-08-31T23:35:09.358025400Z"
    }
   }
  },
  {
   "cell_type": "code",
   "execution_count": 27,
   "outputs": [
    {
     "ename": "NameError",
     "evalue": "name 'kou2' is not defined",
     "output_type": "error",
     "traceback": [
      "\u001B[1;31m---------------------------------------------------------------------------\u001B[0m",
      "\u001B[1;31mNameError\u001B[0m                                 Traceback (most recent call last)",
      "Cell \u001B[1;32mIn[27], line 1\u001B[0m\n\u001B[1;32m----> 1\u001B[0m kou_params2 \u001B[38;5;241m=\u001B[39m [\u001B[38;5;28mround\u001B[39m(p,\u001B[38;5;241m4\u001B[39m) \u001B[38;5;28;01mfor\u001B[39;00m p \u001B[38;5;129;01min\u001B[39;00m \u001B[43mkou2\u001B[49m\u001B[38;5;241m.\u001B[39mx[:\u001B[38;5;241m5\u001B[39m]]\n",
      "\u001B[1;31mNameError\u001B[0m: name 'kou2' is not defined"
     ]
    }
   ],
   "source": [
    "kou_params2 = [round(p,4) for p in kou2.x[:5]]"
   ],
   "metadata": {
    "collapsed": false,
    "ExecuteTime": {
     "end_time": "2023-08-31T23:39:04.641645Z",
     "start_time": "2023-08-31T23:39:04.588029800Z"
    }
   }
  },
  {
   "cell_type": "code",
   "execution_count": 26,
   "outputs": [],
   "source": [
    "# print('WEIGHTED OPT: CURVE_FIT (trf)')\n",
    "# print(f'> Calibrated Volatlity [σ] = {kou_params1[0]} \\t {kou_params1[0] * 100}%')\n",
    "# print('> Calibrated Jump intensity [λ] = ', kou_params1[1])\n",
    "# print(f'> Calibrated Upward Jump probability [p] = {kou_params1[2]}, [q] = {round(1 - kou_params1[2], 2)}')\n",
    "# print('> Calibrated Rate of Exp. 1  [η_1] = ', kou_params1[3])\n",
    "# print('> Calibrated Rate of Exp. 2  [η_2] = ', kou_params1[4])\n",
    "# print(f'TIME ELAPSED: {end1-start1} sec')"
   ],
   "metadata": {
    "collapsed": false
   }
  },
  {
   "cell_type": "code",
   "execution_count": 27,
   "outputs": [
    {
     "name": "stdout",
     "output_type": "stream",
     "text": [
      "METHOD 2: Least-squares\n",
      "> Calibrated Volatlity [σ] = 0.5 \t 50.0%\n",
      "> Calibrated Jump intensity [λ] =  2.49\n",
      "> Calibrated Upward Jump probability [p] = 0.66, [q] = 0.34\n",
      "> Calibrated Rate of Exp. 1  [η_1] =  6.44\n",
      "> Calibrated Rate of Exp. 2  [η_2] =  15.12\n",
      "TIME ELAPSED:  4854.22 sec\n"
     ]
    }
   ],
   "source": [
    "print('METHOD 2: Least-squares')\n",
    "print(f'> Calibrated Volatlity [σ] = {round(kou_params2[0],4)} \\t {round(kou_params2[0]*100,2)}%')\n",
    "print('> Calibrated Jump intensity [λ] = ', round(kou_params2[1],2))\n",
    "print(f'> Calibrated Upward Jump probability [p] = {round(kou_params2[2],2)}, [q] = {round(1-kou_params2[2],2)}')\n",
    "print('> Calibrated Rate of Exp. 1  [η_1] = ', round(kou_params2[3],2))\n",
    "print('> Calibrated Rate of Exp. 2  [η_2] = ', round(kou_params2[4],2))\n",
    "print(f'TIME ELAPSED:  {round(end2-start2,2)} sec')"
   ],
   "metadata": {
    "collapsed": false
   }
  },
  {
   "cell_type": "code",
   "execution_count": 28,
   "outputs": [
    {
     "name": "stdout",
     "output_type": "stream",
     "text": [
      "[0.5, 2.4882, 0.6647, 6.4397, 15.1241]\n"
     ]
    }
   ],
   "source": [
    "#print(kou_params1)\n",
    "print(kou_params2)\n",
    "puts_kou_params_tsla = kou_params2\n",
    "%store puts_kou_params_tsla"
   ],
   "metadata": {
    "collapsed": false
   }
  },
  {
   "cell_type": "markdown",
   "source": [
    "### Variance Gamma\n"
   ],
   "metadata": {
    "collapsed": false
   }
  },
  {
   "cell_type": "code",
   "execution_count": 29,
   "outputs": [],
   "source": [
    "x0 = [0.2, -0.3, 0.1]   # initial guess: [σ, θ, v]\n",
    "bounds = ( [1e-3, -5, 0], [3, 5, 10] )"
   ],
   "metadata": {
    "collapsed": false,
    "ExecuteTime": {
     "end_time": "2023-08-31T23:39:46.783815400Z",
     "start_time": "2023-08-31T23:39:46.749633100Z"
    }
   }
  },
  {
   "cell_type": "markdown",
   "source": [
    "##### Method 1. CURVE FIT (Bounds)"
   ],
   "metadata": {
    "collapsed": false
   }
  },
  {
   "cell_type": "code",
   "execution_count": 30,
   "outputs": [],
   "source": [
    "def f_VG(strikes, sigmax, thetax, nux):\n",
    "    VGamma = VG_pricer(S0=S0, K=None, ttm=T, r=r, q=0, sigma=sigmax, theta=thetax, nu=nux, exercise='put')\n",
    "    vg_prices = []\n",
    "    for k in strikes:\n",
    "        vg_prices.append(VGamma.closed_formula_put(k))\n",
    "    return vg_prices\n",
    "\n",
    "start1 = time.time()\n",
    "vg1 = scpo.curve_fit(f_VG, put_strikes, put_prices, p0=x0, bounds=bounds, sigma=p_weights)\n",
    "end1 = time.time()\n",
    "\n",
    "vg_params1 = [round(p,4) for p in vg1[0][:3]]"
   ],
   "metadata": {
    "collapsed": false
   }
  },
  {
   "cell_type": "markdown",
   "source": [
    "##### Method 2. LEAST-SQUARES (Trust Region Reflective, Bounds)"
   ],
   "metadata": {
    "collapsed": false
   }
  },
  {
   "cell_type": "code",
   "execution_count": 30,
   "outputs": [
    {
     "name": "stdout",
     "output_type": "stream",
     "text": [
      "The maximum number of function evaluations is exceeded.\n",
      "Function evaluations 300, initial cost 4.8657e+03, final cost 2.2160e-01, first-order optimality 1.04e+01.\n"
     ]
    }
   ],
   "source": [
    "def cost_function(x, strikes, mkt_prices):\n",
    "    sigma, theta, nu = x\n",
    "    VG = VG_pricer(S0, None, T, r, q, sigma, theta, nu, exercise)\n",
    "    prices = []\n",
    "    for k in strikes:\n",
    "        prices.append(VG.closed_formula_put(k))\n",
    "    sq_err = np.sum(p_weights*(prices - mkt_prices)**2)\n",
    "    return sq_err\n",
    "\n",
    "start2=time.time()\n",
    "vg2 = scpo.least_squares(cost_function, x0, args=(put_strikes, put_prices),  method='trf', bounds=bounds, verbose=1, loss='soft_l1')\n",
    "end2=time.time()\n",
    "\n",
    "vg_params2 = [round(p,4) for p in vg2.x[:3]]"
   ],
   "metadata": {
    "collapsed": false,
    "ExecuteTime": {
     "end_time": "2023-08-31T23:52:15.842624600Z",
     "start_time": "2023-08-31T23:39:58.607265300Z"
    }
   }
  },
  {
   "cell_type": "code",
   "execution_count": 32,
   "outputs": [
    {
     "name": "stdout",
     "output_type": "stream",
     "text": [
      "WEIGHTED OPT: CURVE_FIT (trf)\n",
      "> Calibrated Volatlity [σ] = 0.6396, \t 63.96%\n",
      "> Calibrated mean rate gamma process [θ] =  0.164\n",
      "> Calibrated variance rate gamma process [v]=  0.7686\n",
      "TIME ELAPSED:  20.33 sec\n",
      "METHOD 1: LEAST-SQUARES (trf)\n",
      "> Calibrated Volatlity [σ] = 0.6145, \t 61.45%\n",
      "> Calibrated mean rate gamma process [θ] =  0.1877\n",
      "> Calibrated variance rate gamma process [v]=  0.338\n",
      "TIME ELAPSED:  153.76 sec\n"
     ]
    }
   ],
   "source": [
    "print('WEIGHTED OPT: CURVE_FIT (trf)')\n",
    "print(f'> Calibrated Volatlity [σ] = {vg_params1[0]}, \\t {round(vg_params1[0]*100,2)}%')\n",
    "print('> Calibrated mean rate gamma process [θ] = ', vg_params1[1])\n",
    "print('> Calibrated variance rate gamma process [v]= ', vg_params1[2])\n",
    "print(f'TIME ELAPSED:  {round(end1-start1,2)} sec')\n",
    "\n",
    "print('METHOD 1: LEAST-SQUARES (trf)')\n",
    "print(f'> Calibrated Volatlity [σ] = {vg_params2[0]}, \\t {round(vg_params2[0]*100,2)}%')\n",
    "print('> Calibrated mean rate gamma process [θ] = ', vg_params2[1])\n",
    "print('> Calibrated variance rate gamma process [v]= ', vg_params2[2])\n",
    "print(f'TIME ELAPSED:  {round(end2-start2,2)} sec')"
   ],
   "metadata": {
    "collapsed": false
   }
  },
  {
   "cell_type": "code",
   "execution_count": 33,
   "outputs": [
    {
     "name": "stdout",
     "output_type": "stream",
     "text": [
      "[0.6396, 0.164, 0.7686]\n",
      "[0.6145, 0.1877, 0.338]\n"
     ]
    }
   ],
   "source": [
    "print(vg_params1)\n",
    "print(vg_params2)\n",
    "puts_vg_params_tsla = vg_params2\n",
    "%store puts_vg_params_tsla"
   ],
   "metadata": {
    "collapsed": false
   }
  },
  {
   "cell_type": "markdown",
   "source": [
    "### Reprice of options using calibrated parameters\n",
    "Let's test our calibration results repricing initial market options. To do this we use both closed formulas and Monte Carlo pricing, to show that we achieve a very good parameters' estimation. "
   ],
   "metadata": {
    "collapsed": false
   }
  },
  {
   "cell_type": "code",
   "execution_count": 34,
   "outputs": [
    {
     "name": "stdout",
     "output_type": "stream",
     "text": [
      "MARKET PRICES. STARTING DATE = 20-01-2016. EXPIRY = 1YEAR. \n",
      "\n",
      "   STRIKE  MKT_BID  MKT_MID  MKT_ASK\n",
      "0   150.0    18.55   19.245    19.94\n",
      "1   155.0    20.40   20.855    21.31\n",
      "2   160.0    22.20   22.775    23.35\n",
      "3   165.0    24.55   25.175    25.80\n",
      "4   170.0    26.70   27.375    28.05\n",
      "5   180.0    30.25   31.500    32.75\n",
      "6   190.0    36.25   37.350    38.45\n",
      "7   195.0    39.16   39.880    40.60\n",
      "8   220.0    54.46   55.230    56.00\n",
      "9   240.0    68.36   69.105    69.85\n"
     ]
    }
   ],
   "source": [
    "days = 252\n",
    "paths = 5000\n",
    "\n",
    "put_calib_prices = pd.DataFrame({\n",
    "    'STRIKE': puts['STRIKE'],    # array of K for call options\n",
    "    'MKT_BID': puts['P_BID'],\n",
    "    'MKT_MID': puts['P_Midpoint'],\n",
    "    'MKT_ASK': puts['P_ASK'],\n",
    "\n",
    "})\n",
    "print(f'MARKET PRICES. STARTING DATE = 20-01-2016. EXPIRY = 1YEAR. \\n\\n{put_calib_prices}')"
   ],
   "metadata": {
    "collapsed": false
   }
  },
  {
   "cell_type": "markdown",
   "source": [
    "#### Merton Jump Diffusion model"
   ],
   "metadata": {
    "collapsed": false
   }
  },
  {
   "cell_type": "code",
   "execution_count": 35,
   "outputs": [
    {
     "name": "stdout",
     "output_type": "stream",
     "text": [
      "   STRIKE  MKT_BID  MKT_MID  MKT_ASK  MERTON MC  MERTON CF\n",
      "0   150.0    18.55   19.245    19.94  17.302909  17.618990\n",
      "1   155.0    20.40   20.855    21.31  19.481410  19.809888\n",
      "2   160.0    22.20   22.775    23.35  21.770045  22.114119\n",
      "3   165.0    24.55   25.175    25.80  24.181079  24.527508\n",
      "4   170.0    26.70   27.375    28.05  26.688902  27.045885\n",
      "5   180.0    30.25   31.500    32.75  31.961263  32.380807\n",
      "6   190.0    36.25   37.350    38.45  37.609946  38.085253\n",
      "7   195.0    39.16   39.880    40.60  40.564267  41.065736\n",
      "8   220.0    54.46   55.230    56.00  56.524693  57.098831\n",
      "9   240.0    68.36   69.105    69.85  70.495875  71.083798\n"
     ]
    }
   ],
   "source": [
    "#mert_params2 = [0.1267, 0.951, -0.1182, 0.2691]\n",
    "sigma, lambd, meanJ, stdJ = mert_params2\n",
    "MertonCAL = Merton_pricer(S0, None, T, r, q, sigma, lambd, meanJ, stdJ, exercise)\n",
    "SMerton_CAL = MertonCAL.MertonPath(days, paths)\n",
    "\n",
    "avg_payoffs = []\n",
    "for K in put_strikes:\n",
    "    payoffs = []        # stores here the payoff for each path, for a specific couple K1-K2\n",
    "    for St in SMerton_CAL[-1]:\n",
    "        payoffs.append(MertonCAL.payoff_put(K, St))\n",
    "    avg_payoffs.append(np.mean(payoffs))\n",
    "\n",
    "merton_mc_prices = np.zeros(len(put_calib_prices))\n",
    "merton_cf_prices = np.zeros(len(put_calib_prices))\n",
    "\n",
    "for index in range(len(put_calib_prices)):\n",
    "    merton_mc_prices[index] = np.exp(-r*T)* avg_payoffs[index]\n",
    "    merton_cf_prices[index] = MertonCAL.closed_formula_put(put_strikes[index])\n",
    "\n",
    "put_calib_prices['MERTON MC'] = merton_mc_prices\n",
    "put_calib_prices['MERTON CF'] = merton_cf_prices\n",
    "\n",
    "print(put_calib_prices)"
   ],
   "metadata": {
    "collapsed": false
   }
  },
  {
   "cell_type": "code",
   "execution_count": 36,
   "outputs": [
    {
     "name": "stdout",
     "output_type": "stream",
     "text": [
      "   STRIKE  MKT_BID  MKT_MID  MKT_ASK  MERTON MC  MERTON CF     KOU MC   \n",
      "0   150.0    18.55   19.245    19.94  17.302909  17.618990  18.183036  \\\n",
      "1   155.0    20.40   20.855    21.31  19.481410  19.809888  20.292190   \n",
      "2   160.0    22.20   22.775    23.35  21.770045  22.114119  22.517598   \n",
      "3   165.0    24.55   25.175    25.80  24.181079  24.527508  24.840741   \n",
      "4   170.0    26.70   27.375    28.05  26.688902  27.045885  27.283565   \n",
      "5   180.0    30.25   31.500    32.75  31.961263  32.380807  32.491603   \n",
      "6   190.0    36.25   37.350    38.45  37.609946  38.085253  38.056274   \n",
      "7   195.0    39.16   39.880    40.60  40.564267  41.065736  40.970363   \n",
      "8   220.0    54.46   55.230    56.00  56.524693  57.098831  56.699540   \n",
      "9   240.0    68.36   69.105    69.85  70.495875  71.083798  70.481671   \n",
      "\n",
      "      KOU CF  \n",
      "0  18.242252  \n",
      "1  20.317529  \n",
      "2  22.501882  \n",
      "3  24.792380  \n",
      "4  27.185940  \n",
      "5  32.269392  \n",
      "6  37.725977  \n",
      "7  40.585896  \n",
      "8  56.071893  \n",
      "9  69.701315  \n"
     ]
    }
   ],
   "source": [
    "#kou_params2 = [0.1278, 0.948, 0.3549, 5.7153, 4.232]\n",
    "sigma, lambd, p, eta1, eta2 = kou_params2\n",
    "KouCAL = Kou_pricer(S0, None, T, r, sigma, lambd, p, eta1, eta2, exercise)\n",
    "SKou_CAL = KouCAL.KouPath(days, paths)\n",
    "\n",
    "avg_payoffs = []\n",
    "for k in put_strikes:\n",
    "    payoffs = []        # stores here the payoff for each path, for a specific couple K1-K2\n",
    "    for St in SKou_CAL[-1]:\n",
    "        payoffs.append(KouCAL.payoff_put(k, St))\n",
    "    avg_payoffs.append(np.mean(payoffs))\n",
    "\n",
    "kou_mc_prices = np.zeros(len(put_calib_prices))\n",
    "kou_cf_prices = np.zeros(len(put_calib_prices))\n",
    "\n",
    "for index in range(len(put_calib_prices)):\n",
    "    kou_mc_prices[index] = np.exp(-r*T)* avg_payoffs[index]\n",
    "    kou_cf_prices[index] = KouCAL.closed_formula_put(put_strikes[index])\n",
    "\n",
    "put_calib_prices['KOU MC'] = kou_mc_prices\n",
    "put_calib_prices['KOU CF'] = kou_cf_prices\n",
    "\n",
    "print(put_calib_prices)"
   ],
   "metadata": {
    "collapsed": false
   }
  },
  {
   "cell_type": "code",
   "execution_count": 37,
   "outputs": [
    {
     "name": "stdout",
     "output_type": "stream",
     "text": [
      "   STRIKE  MKT_BID  MKT_MID  MKT_ASK  MERTON MC  MERTON CF     KOU MC   \n",
      "0   150.0    18.55   19.245    19.94  17.302909  17.618990  18.183036  \\\n",
      "1   155.0    20.40   20.855    21.31  19.481410  19.809888  20.292190   \n",
      "2   160.0    22.20   22.775    23.35  21.770045  22.114119  22.517598   \n",
      "3   165.0    24.55   25.175    25.80  24.181079  24.527508  24.840741   \n",
      "4   170.0    26.70   27.375    28.05  26.688902  27.045885  27.283565   \n",
      "5   180.0    30.25   31.500    32.75  31.961263  32.380807  32.491603   \n",
      "6   190.0    36.25   37.350    38.45  37.609946  38.085253  38.056274   \n",
      "7   195.0    39.16   39.880    40.60  40.564267  41.065736  40.970363   \n",
      "8   220.0    54.46   55.230    56.00  56.524693  57.098831  56.699540   \n",
      "9   240.0    68.36   69.105    69.85  70.495875  71.083798  70.481671   \n",
      "\n",
      "      KOU CF      VG MC      VG CF  \n",
      "0  18.242252  19.927922  18.872117  \n",
      "1  20.317529  22.138963  20.827687  \n",
      "2  22.501882  24.474064  22.890480  \n",
      "3  24.792380  26.935082  25.059495  \n",
      "4  27.185940  29.509461  27.333401  \n",
      "5  32.269392  34.948430  32.189038  \n",
      "6  37.725977  40.765486  37.440979  \n",
      "7  40.585896  43.800481  40.209376  \n",
      "8  56.071893  60.070771  55.359226  \n",
      "9  69.701315  74.167417  68.858732  \n"
     ]
    }
   ],
   "source": [
    "# vg_params2 = [0.2442, 0.1983, 0.9451]\n",
    "sigma, theta, nu = vg_params2\n",
    "VGCAL = VG_pricer(S0, None, T, r, q, sigma, theta, nu, exercise)\n",
    "SVarGamma_CAL = VGCAL.VarianceGammaPath1(days, paths)\n",
    "\n",
    "avg_payoffs = []\n",
    "for K in put_strikes:\n",
    "    payoffs = []        # stores here the payoff for each path, for a specific couple K1-K2\n",
    "    for St in SVarGamma_CAL[-1]:\n",
    "        payoffs.append(VGCAL.payoff_put(K, St))\n",
    "    avg_payoffs.append(np.mean(payoffs))\n",
    "\n",
    "vg_mc_prices = np.zeros(len(put_calib_prices))\n",
    "vg_cf_prices = np.zeros(len(put_calib_prices))\n",
    "\n",
    "for index in range(len(put_calib_prices)):\n",
    "    vg_mc_prices[index] = np.exp(-r*T)* avg_payoffs[index]\n",
    "    vg_cf_prices[index] = VGCAL.closed_formula_put(put_strikes[index])\n",
    "\n",
    "put_calib_prices['VG MC'] = vg_mc_prices\n",
    "put_calib_prices['VG CF'] = vg_cf_prices\n",
    "\n",
    "print(put_calib_prices)"
   ],
   "metadata": {
    "collapsed": false
   }
  },
  {
   "cell_type": "markdown",
   "source": [
    "### Visualize calibration results\n",
    "#### Closed Formulas Option pricing"
   ],
   "metadata": {
    "collapsed": false
   }
  },
  {
   "cell_type": "code",
   "execution_count": 38,
   "outputs": [
    {
     "data": {
      "text/plain": "<Figure size 2000x400 with 3 Axes>",
      "image/png": "[encoded data removed]"
     },
     "metadata": {},
     "output_type": "display_data"
    }
   ],
   "source": [
    "fig = plt.figure(figsize=(20, 4))\n",
    "ax1 = fig.add_subplot(131)\n",
    "ax2 = fig.add_subplot(132)\n",
    "ax3 = fig.add_subplot(133)\n",
    "ax1.plot(put_strikes, put_prices, \".\", label=\"midpoint\")\n",
    "ax2.plot(put_strikes, put_prices, \".\", label=\"midpoint\")\n",
    "ax3.plot(put_strikes, put_prices, \".\", label=\"midpoint\")\n",
    "ax1.plot(put_strikes, merton_cf_prices, label=\"Merton\")\n",
    "ax2.plot(put_strikes, kou_cf_prices, label=\"Kou\")\n",
    "ax3.plot(put_strikes, vg_cf_prices, label=\"VG\")\n",
    "ax1.set_title(\"Merton model\")\n",
    "ax2.set_title(\"Kou model\")\n",
    "ax3.set_title(\"VG model\")\n",
    "ax1.set_xlabel(\"strike\")\n",
    "ax2.set_xlabel(\"strike\")\n",
    "ax3.set_xlabel(\"strike\")\n",
    "ax1.legend()\n",
    "ax2.legend()\n",
    "ax3.legend()\n",
    "plt.show()"
   ],
   "metadata": {
    "collapsed": false
   }
  },
  {
   "cell_type": "markdown",
   "source": [
    "\n",
    "#### Monte Carlo option pricing"
   ],
   "metadata": {
    "collapsed": false
   }
  },
  {
   "cell_type": "code",
   "execution_count": 39,
   "outputs": [
    {
     "data": {
      "text/plain": "<Figure size 1700x400 with 3 Axes>",
      "image/png": "[encoded data removed]"
     },
     "metadata": {},
     "output_type": "display_data"
    }
   ],
   "source": [
    "fig = plt.figure(figsize=(17, 4))\n",
    "ax1 = fig.add_subplot(131)\n",
    "ax2 = fig.add_subplot(132)\n",
    "ax3 = fig.add_subplot(133)\n",
    "ax1.plot(put_strikes, put_prices, \".\", label=\"midpoint\")\n",
    "ax2.plot(put_strikes, put_prices, \".\", label=\"midpoint\")\n",
    "ax3.plot(put_strikes, put_prices, \".\", label=\"midpoint\")\n",
    "ax1.plot(put_strikes, merton_mc_prices, label=\"Merton\")\n",
    "ax2.plot(put_strikes, kou_mc_prices, label=\"Kou\")\n",
    "ax3.plot(put_strikes, vg_mc_prices, label=\"VG\")\n",
    "ax1.set_title(\"Merton model\")\n",
    "ax2.set_title(\"Kou model\")\n",
    "ax3.set_title(\"VG model\")\n",
    "ax1.set_xlabel(\"strike\")\n",
    "ax2.set_xlabel(\"strike\")\n",
    "ax3.set_xlabel(\"strike\")\n",
    "ax1.legend()\n",
    "ax2.legend()\n",
    "ax3.legend()\n",
    "plt.show()"
   ],
   "metadata": {
    "collapsed": false
   }
  },
  {
   "cell_type": "code",
   "execution_count": null,
   "outputs": [],
   "source": [],
   "metadata": {
    "collapsed": false
   }
  },
  {
   "cell_type": "code",
   "execution_count": null,
   "outputs": [],
   "source": [],
   "metadata": {
    "collapsed": false
   }
  }
 ],
 "metadata": {
  "kernelspec": {
   "display_name": "Python 3",
   "language": "python",
   "name": "python3"
  },
  "language_info": {
   "codemirror_mode": {
    "name": "ipython",
    "version": 2
   },
   "file_extension": ".py",
   "mimetype": "text/x-python",
   "name": "python",
   "nbconvert_exporter": "python",
   "pygments_lexer": "ipython2",
   "version": "2.7.6"
  }
 },
 "nbformat": 4,
 "nbformat_minor": 0
}
