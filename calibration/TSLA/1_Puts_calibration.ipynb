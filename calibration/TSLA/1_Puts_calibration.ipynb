{
 "cells": [
  {
   "cell_type": "markdown",
   "source": [
    "# Calibration of Black and Scholes, Merton, Kou, Variance Gamma parameters\n",
    "This notebook aims to find the optimal parameters of **Black-Scholes**, **Merton Jump Diffusion**, **Kou Jump Diffusion** and **Variance Gamma** models. To do so, we compute the european option prices using **closed formulas**, available for all the 4 models, and the **Fast Fourier Transform** for the VG model. Given these theoretical prices, the **implied volatilities** are computed comparing them with real market prices, minimizing their difference. Then we estimate the additional parameters of each model, using the python module `scipy.optimize`.\n",
    "\n",
    "*reference: https://github.com/cantaro86/Financial-Models-Numerical-Methods/tree/master*\n"
   ],
   "metadata": {
    "collapsed": false
   }
  },
  {
   "cell_type": "code",
   "execution_count": 2,
   "metadata": {
    "collapsed": true
   },
   "outputs": [],
   "source": [
    "import numpy as np\n",
    "import pandas as pd\n",
    "import matplotlib.pyplot as plt\n",
    "import random\n",
    "import scipy.optimize as scpo\n",
    "import sys\n",
    "sys.path.append('C:/Users\\ornel\\OneDrive\\Desktop\\TESI\\PythonProjects\\Margin-Loans-Pricing\\python-modules/functions')\n",
    "sys.path.append('C:/Users\\ornel\\OneDrive\\Desktop\\TESI\\PythonProjects\\Margin-Loans-Pricing\\python-modules/calibration')\n",
    "import time\n",
    "\n",
    "from MERTONpricer import Merton_pricer\n",
    "from BSpricer import BS_Pricer\n",
    "from KOUpricer import Kou_pricer\n",
    "from VGpricer import VG_pricer\n",
    "\n",
    "random.seed(110)"
   ]
  },
  {
   "cell_type": "markdown",
   "source": [
    "Let's start retrieving historical prices for **european call** and **put** options starting from date **2016-01-20** and expiring **1 year** later. All the data have been collected from [OptionsDX](https://www.optionsdx.com/shop/) and preprocessed in `plainvanilla.py` module. Only options such that the moneyness\n",
    "$$ K/S0 \\in [0.75, 1.35] $$ have been selected."
   ],
   "metadata": {
    "collapsed": false
   }
  },
  {
   "cell_type": "code",
   "execution_count": 3,
   "outputs": [
    {
     "name": "stdout",
     "output_type": "stream",
     "text": [
      "NUM OF PUT OPTS: 17\n",
      "    QUOTE_DATE  UNDERLYING_LAST EXPIRE_DATE  P_BID  P_ASK  STRIKE     P_IV   \n",
      "0   2016-01-20            198.7  2017-01-20  18.55  19.94   150.0  0.53022  \\\n",
      "1   2016-01-20            198.7  2017-01-20  20.40  21.31   155.0  0.52039   \n",
      "2   2016-01-20            198.7  2017-01-20  22.20  23.35   160.0  0.51423   \n",
      "3   2016-01-20            198.7  2017-01-20  24.55  25.80   165.0  0.51357   \n",
      "4   2016-01-20            198.7  2017-01-20  26.70  28.05   170.0  0.50896   \n",
      "5   2016-01-20            198.7  2017-01-20  27.70  30.36   175.0  0.49457   \n",
      "6   2016-01-20            198.7  2017-01-20  30.25  32.75   180.0  0.49117   \n",
      "7   2016-01-20            198.7  2017-01-20  33.89  35.30   185.0  0.49398   \n",
      "8   2016-01-20            198.7  2017-01-20  36.25  38.45   190.0  0.49128   \n",
      "9   2016-01-20            198.7  2017-01-20  39.16  40.60   195.0  0.48464   \n",
      "10  2016-01-20            198.7  2017-01-20  42.10  43.70   200.0  0.48296   \n",
      "11  2016-01-20            198.7  2017-01-20  48.00  49.64   210.0  0.47387   \n",
      "12  2016-01-20            198.7  2017-01-20  54.46  56.00   220.0  0.46666   \n",
      "13  2016-01-20            198.7  2017-01-20  61.20  63.95   230.0  0.46734   \n",
      "14  2016-01-20            198.7  2017-01-20  68.36  69.85   240.0  0.45254   \n",
      "15  2016-01-20            198.7  2017-01-20  75.66  76.64   250.0  0.44105   \n",
      "16  2016-01-20            198.7  2017-01-20  83.59  85.55   260.0  0.44536   \n",
      "\n",
      "    MONEYNESS  \n",
      "0        0.75  \n",
      "1        0.78  \n",
      "2        0.81  \n",
      "3        0.83  \n",
      "4        0.86  \n",
      "5        0.88  \n",
      "6        0.91  \n",
      "7        0.93  \n",
      "8        0.96  \n",
      "9        0.98  \n",
      "10       1.01  \n",
      "11       1.06  \n",
      "12       1.11  \n",
      "13       1.16  \n",
      "14       1.21  \n",
      "15       1.26  \n",
      "16       1.31  \n"
     ]
    }
   ],
   "source": [
    "df_put = pd.read_csv('../../data/TSLA/OPT16_TSLA_PUTS_75_135.csv')\n",
    "print(f'NUM OF PUT OPTS: {df_put.shape[0]}')\n",
    "print(df_put)"
   ],
   "metadata": {
    "collapsed": false
   }
  },
  {
   "cell_type": "markdown",
   "source": [
    "The dataframes **df_calls** and **df_put** contain both 83 options sorted by strike price. For our purpose, using the $25\\%$ of these DFs is enough and can lead to very good results. Thus, we sample the rows and then reformulate the dataframes adding **Midpoint** and **Spread** columns."
   ],
   "metadata": {
    "collapsed": false
   }
  },
  {
   "cell_type": "code",
   "execution_count": 4,
   "outputs": [],
   "source": [
    "puts = df_put.sample(frac=0.6, replace=False).sort_index().reset_index(drop=True)\n",
    "\n",
    "puts['P_Midpoint'] = abs(puts['P_BID'] + puts['P_ASK']) / 2\n",
    "puts['P_Spread'] = puts['P_BID'] - puts['P_ASK']\n",
    "put_prices = puts['P_Midpoint']\n",
    "\n",
    "\n",
    "q = 0           # dividend yield\n",
    "r = 0.03        # risk-free interest rate\n",
    "sigma = 0.3     #volatility (variance of diffusion process)\n",
    "S0 = puts.iloc[0]['UNDERLYING_LAST']\n",
    "T = 1           # time-to-maturity\n",
    "put_strikes = puts['STRIKE']      # array of K for put options\n",
    "exercise = 'european'\n"
   ],
   "metadata": {
    "collapsed": false
   }
  },
  {
   "cell_type": "markdown",
   "source": [
    "The following code snippet initializes objects of class *BS_pricer*, *Merton_pricer*, *Kou_pricer*, *VG_pricer* with default values as parameters. Then it computes the theoretical call prices using closed formulas of each 4 models, with strike prices given by the *call_strikes* array. Additionally, we use the **Midpoint** price as the option market prices.P"
   ],
   "metadata": {
    "collapsed": false
   }
  },
  {
   "cell_type": "code",
   "execution_count": 5,
   "outputs": [],
   "source": [
    "BS = BS_Pricer(S0=S0, r=r, q = q, sigma=sigma, ttm=T, exercise=exercise, K=None)\n",
    "Merton = Merton_pricer(S0=S0, K=None, ttm=T, r=r, q = q, sigma=0.15, lambd=0.5, meanJ=-0.1, stdJ=0.1, exercise=exercise)\n",
    "Kou = Kou_pricer(S0=S0, K=None, ttm=T, r=r, sigma=0.15, lambd=0.5, p=0.6, eta1=12, eta2=5, exercise=exercise)\n",
    "VG = VG_pricer(S0, K=None, ttm=T, r=r, q=q, sigma=0.15, theta=-0.2, nu=0.3, exercise=exercise)"
   ],
   "metadata": {
    "collapsed": false
   }
  },
  {
   "cell_type": "markdown",
   "source": [
    "Same for put prices."
   ],
   "metadata": {
    "collapsed": false
   }
  },
  {
   "cell_type": "code",
   "execution_count": 6,
   "outputs": [
    {
     "name": "stdout",
     "output_type": "stream",
     "text": [
      "Theoretical put options prices:\n",
      "   Strike   Price BlackScholes     Merton        Kou VarianceGamma\n",
      "0   150.0  19.245     3.929659   0.778865   1.482643      0.175578\n",
      "1   155.0  20.855     4.913446   1.102963   1.841543      0.341066\n",
      "2   160.0  22.775     6.050901   1.532207   2.294327      0.626621\n",
      "3   165.0  25.175     7.349092   2.089948    2.86552      1.086908\n",
      "4   170.0  27.375     8.813402   2.801224   3.582437      1.777952\n",
      "5   180.0  31.500    12.253427   4.786674   5.567645      4.021166\n",
      "6   190.0  37.350     16.38099   7.678992    8.46238      7.532579\n",
      "7   195.0  39.880    18.699255   9.511419  10.300906      9.757335\n",
      "8   220.0  55.230     32.66877  22.747208   23.58631     24.787981\n",
      "9   240.0  69.105    46.324244    37.6058  38.407569     40.135043\n"
     ]
    }
   ],
   "source": [
    "put_th_prices = pd.DataFrame(columns=['Strike','Price', 'BlackScholes', 'Merton', 'Kou', 'VarianceGamma'])\n",
    "put_th_prices['Strike'] = put_strikes\n",
    "put_th_prices['Price'] = put_prices\n",
    "\n",
    "for i, K in enumerate(put_strikes):\n",
    "    bs = BS.closed_formula_put(K)\n",
    "    mert = Merton.closed_formula_put(K)\n",
    "    kou = Kou.closed_formula_put(K)\n",
    "    vg = VG.closed_formula_put(K)\n",
    "    put_th_prices.iloc[i, 2:] = [bs, mert, kou, vg]\n",
    "\n",
    "print(f'Theoretical put options prices:')\n",
    "print(put_th_prices)"
   ],
   "metadata": {
    "collapsed": false
   }
  },
  {
   "cell_type": "markdown",
   "source": [
    "## Implied volatility\n",
    "The function belows implements $3$ methods to compute implied volatility: [Newton](https://en.wikipedia.org/wiki/Newton%27s_method) method, the [Bisection](https://en.wikipedia.org/wiki/Bisection_method) method and a more advanced one, named [Brent](https://en.wikipedia.org/wiki/Brent%27s_method) method. Apart from the initial guess, there is no substantial difference in the final result between **Newton** and **bisection** methods (*fsolve*). The **Implied Volatility** is that value $\\sigma$ that must be inserted into the Black-Scholes (BS) formula in order to retrieve the option price quoted in the market:\n",
    "    $$ BS(S, K, T, r, \\sigma) = P,  $$\n",
    "where $S$ is the underlying spot price, $K$ is the strike, $T$ time to maturity, $r$ risk-free interest rate and $P$ the option price quoted in the market. All these quantities are **observable**.\n",
    "   "
   ],
   "metadata": {
    "collapsed": false
   }
  },
  {
   "cell_type": "code",
   "execution_count": 7,
   "outputs": [],
   "source": [
    "def implied_volatility(price, S, strike, t, rate, q, type_o, method='fsolve', disp=True ):\n",
    "    \"\"\" Returns Implied volatility\n",
    "        methods:  fsolve (default) or brent\n",
    "    \"\"\"\n",
    "\n",
    "    def obj_fun(vol):\n",
    "        return BS.BlackScholes(type_o=type_o, S0=S, K=strike, ttm=t, r=rate, q=q, sigma=vol) - price\n",
    "\n",
    "    def vega(vol):\n",
    "        return BS.vega(S, strike, rate, q, vol, t)\n",
    "\n",
    "    if method =='fsolve':\n",
    "        X0 = [0.01, 0.2, 0.35, 7]        #initial guess points for imp.vol.\n",
    "        for x_0 in X0:\n",
    "            x, _, solved, _ = scpo.fsolve(obj_fun, x_0, full_output=True, xtol=1e-8)\n",
    "            if solved == 1:\n",
    "                return x[0]\n",
    "\n",
    "    if disp:\n",
    "        return -1"
   ],
   "metadata": {
    "collapsed": false
   }
  },
  {
   "cell_type": "markdown",
   "source": [
    "The following code snippet computes the implied volatility of **call** and **put** options market prices."
   ],
   "metadata": {
    "collapsed": false
   }
  },
  {
   "cell_type": "code",
   "execution_count": 12,
   "outputs": [
    {
     "name": "stdout",
     "output_type": "stream",
     "text": [
      "Implied volatilities of market prices (puts):\n",
      "S0 = 198.7\n",
      "K = 150.0, IV = 0.5305\n",
      "K = 155.0, IV = 0.5205\n",
      "K = 160.0, IV = 0.5142\n",
      "K = 165.0, IV = 0.514\n",
      "K = 170.0, IV = 0.509\n",
      "K = 180.0, IV = 0.4909\n"
     ]
    },
    {
     "data": {
      "text/plain": "<Figure size 1000x500 with 1 Axes>",
      "image/png": "[encoded data removed]"
     },
     "metadata": {},
     "output_type": "display_data"
    }
   ],
   "source": [
    "IV_market_p = []\n",
    "for i in range(len(put_prices)):\n",
    "    IV_market_p.append(implied_volatility(put_prices[i], S=S0, strike=put_strikes[i], t = T, rate=0.02, q = 0.08, type_o='put', method='fsolve'))\n",
    "\n",
    "print(f'Implied volatilities of market prices (puts):\\nS0 = {S0}')\n",
    "for a,b in zip(put_strikes.head(6), IV_market_p[:6]):\n",
    "    print(f'K = {a}, IV = {round(b, 4)}')\n",
    "\n",
    "# Plot market implied volatilities w.r.t. log moneyness\n",
    "x = (S0/put_strikes)\n",
    "IV_filtered = [iv for iv in IV_market_p if iv != -1]\n",
    "x_filtered = [log_m for iv, log_m in zip(IV_market_p, x) if iv != -1]\n",
    "puts_filtered = [p_iv for iv, p_iv in zip(IV_market_p, puts['P_IV']) if iv != -1 ]\n",
    "\n",
    "fig, ax1 = plt.subplots(figsize=(10,5))\n",
    "ax1.scatter(x_filtered, IV_filtered, marker='x', label='BS inversion', color='red')\n",
    "ax1.scatter(x_filtered, puts_filtered, marker='.', label='provided')\n",
    "ax1.set_xlabel('Moneyness: S0/K'); ax1.set_ylabel('Implied Volatility'); ax1.set_title('Puts volatility smile')\n",
    "ax1.legend(); plt.show()\n"
   ],
   "metadata": {
    "collapsed": false
   }
  },
  {
   "cell_type": "markdown",
   "source": [
    "##  Weighted Calibration (call options)\n",
    "Let's step now into the calibration of model parameters.\n",
    "If we define $\\Theta$ the set of parameters, the goal is to find the optimal parameters $\\Theta^*$ that minimize the following objective function:\n",
    "$$ \\sum_{i=1}^{N} w_i \\biggl( P_i - f(K_i|\\Theta) \\biggr)^2 $$\n",
    "where $w_i$ are weights, usually defined as\n",
    "$$ w_i = \\frac{1}{\\text {spread}_i },$$ $P_i$ are the market prices and $f$ is the pricing function. In our case $f$ is given by **Merton** Jump Diffusion model, **Kou** Jump Diffusion model, or **Variance Gamma** process. To perform this optimization problem, many numerical methods can be used. In particular, we test two functions of `scipy.optimize`:\n",
    "1. **curve_fit**, a least-squares curve fitting method which works with bounds. The default algorithm is [Trust Region Reflective (trf)](https://en.wikipedia.org/wiki/Trust_region). The [Levemberg-Marquadt](https://en.wikipedia.org/wiki/Levenberg%E2%80%93Marquardt_algorithm) has been tried as well, to test the optimization problem without setting boundaries, but the results don't make any sense.\n",
    "2. **Least-Squares**, a constrained minimization problem which uses Trust region reflective method by default. This method is the most indicated to solve the non-linear least squares optimization problem of our purpose.\n",
    "All the optimizations are carried out by initializing a starting point as the array $x_0 = [params]$ and setting feasible bounds.\n"
   ],
   "metadata": {
    "collapsed": false
   },
   "outputs": []
  },
  {
   "cell_type": "code",
   "execution_count": 13,
   "outputs": [],
   "source": [
    "put_spreads = puts['P_Spread']\n",
    "p_weights = 1 / put_spreads**2"
   ],
   "metadata": {
    "collapsed": false
   }
  },
  {
   "cell_type": "markdown",
   "source": [
    "### Black and Scholes model\n",
    "The only unknown parameter to calibrate in Black and Scholes model is the **implied volatility**, $\\sigma$. Thus, we minimize the difference between the computed theoretical prices and the market prices of call options."
   ],
   "metadata": {
    "collapsed": false
   }
  },
  {
   "cell_type": "code",
   "execution_count": 14,
   "outputs": [],
   "source": [
    "x0 = 0.5\n",
    "bounds = [1e-5, 2]\n",
    "\n",
    "def f_BlackScholes_puts(x, sigm):\n",
    "    BS = BS_Pricer(S0=S0, K = x, ttm=T, r=r, q=0, sigma=sigm, exercise=exercise)\n",
    "    return BS.closed_formula_put(x)\n",
    "\n",
    "res1_puts = scpo.curve_fit(f_BlackScholes_puts, put_strikes, put_prices, p0 = x0, bounds=bounds, sigma=p_weights)\n",
    "sigw_p = round(res1_puts[0][0],4)"
   ],
   "metadata": {
    "collapsed": false
   }
  },
  {
   "cell_type": "code",
   "execution_count": 15,
   "outputs": [
    {
     "name": "stdout",
     "output_type": "stream",
     "text": [
      "`ftol` termination condition is satisfied.\n",
      "Function evaluations 23, initial cost 1.8321e+04, final cost 1.9523e-01, first-order optimality 1.17e-03.\n"
     ]
    }
   ],
   "source": [
    "def cost_function(x, strikes, mkt_prices):\n",
    "    sigma = x\n",
    "    BS = BS_Pricer(S0=S0, K = None, ttm=T, r=r, q=0, sigma=sigma, exercise=exercise)\n",
    "    sq_err = np.sum( p_weights* (BS.closed_formula_put(strikes) - mkt_prices)**2)\n",
    "    return sq_err\n",
    "\n",
    "result_p = scpo.least_squares(cost_function, x0, args=(put_strikes, put_prices), bounds=bounds, method = 'trf', verbose=1)\n",
    "opt_sigma_p = result_p.x[0]"
   ],
   "metadata": {
    "collapsed": false
   }
  },
  {
   "cell_type": "code",
   "execution_count": 16,
   "outputs": [
    {
     "name": "stdout",
     "output_type": "stream",
     "text": [
      "METHOD 1: CURVE_FIT (trf)\n",
      "> Calibrated Volatility from Calls [σ] = 0.5839 \t 58.39%\n",
      "METHOD 2: LEAST-SQUARES (trf)\n",
      "> Calibrated Volatility from Calls [σ] = 0.5903587417063684 \t 59.04%\n"
     ]
    }
   ],
   "source": [
    "print('METHOD 1: CURVE_FIT (trf)')\n",
    "print(f'> Calibrated Volatility from Calls [σ] = {sigw_p} \\t {round(sigw_p*100,2)}%')\n",
    "print('METHOD 2: LEAST-SQUARES (trf)')\n",
    "print(f'> Calibrated Volatility from Calls [σ] = {opt_sigma_p} \\t {round(opt_sigma_p*100,2)}%')"
   ],
   "metadata": {
    "collapsed": false
   }
  },
  {
   "cell_type": "markdown",
   "source": [
    "### Merton Jump Diffusion\n",
    "The Merton Jump diffusion ones are the volatility $\\sigma$, the Poisson rate of jumps $\\lambda$, the mean rate of jump intensity $m$ and its variance rate $v$, assuming that the intensity of jumps follows a *Normal distribution*.\n"
   ],
   "metadata": {
    "collapsed": false
   }
  },
  {
   "cell_type": "code",
   "execution_count": 17,
   "outputs": [],
   "source": [
    "x0 = [0.15,  0.2, -0.05,  0.01]  # initial guess: [σ, λ, m, v]\n",
    "bounds = ( [1e-3, 1e-2, -5, 1e-5], [2, 5, 5, 2] )"
   ],
   "metadata": {
    "collapsed": false
   }
  },
  {
   "cell_type": "code",
   "execution_count": 18,
   "outputs": [],
   "source": [
    "def f_Mert(x, sigma, lambd, meanJ, stdJ):\n",
    "    Mert = Merton_pricer(S0=S0, K=x, ttm=T, r=r, q=0, sigma=sigma, lambd=lambd, meanJ=meanJ, stdJ=stdJ, exercise=exercise)\n",
    "    return Mert.closed_formula_put(x)\n",
    "\n",
    "start1=time.time()\n",
    "mert1 = scpo.curve_fit(f_Mert, put_strikes, put_prices, p0=x0, bounds=bounds, sigma=put_spreads)\n",
    "end1=time.time()\n",
    "\n",
    "mert_params1 = [round(p,4) for p in mert1[0][:4]]"
   ],
   "metadata": {
    "collapsed": false
   }
  },
  {
   "cell_type": "markdown",
   "source": [
    "##### Method 2. Least-squares"
   ],
   "metadata": {
    "collapsed": false
   }
  },
  {
   "cell_type": "code",
   "execution_count": 19,
   "outputs": [
    {
     "name": "stdout",
     "output_type": "stream",
     "text": [
      "   Iteration     Total nfev        Cost      Cost reduction    Step norm     Optimality   \n",
      "       0              1         3.5842e+06                                    1.90e+08    \n",
      "       1              2         5.4323e+03      3.58e+06       5.35e-01       3.38e+06    \n",
      "       2              4         8.8550e+02      4.55e+03       2.59e-01       8.05e+05    \n",
      "       3              5         5.6655e+02      3.19e+02       5.19e-01       6.96e+05    \n",
      "       4              6         2.3282e+02      3.34e+02       5.18e-01       3.68e+05    \n",
      "       5              7         6.3326e+01      1.69e+02       5.17e-01       1.00e+05    \n",
      "       6              8         3.2704e+01      3.06e+01       5.17e-01       3.67e+04    \n",
      "       7             14         2.9066e+01      3.64e+00       1.62e-03       1.03e+04    \n",
      "       8             16         2.8780e+01      2.86e-01       4.04e-04       4.23e+03    \n",
      "       9             17         2.8731e+01      4.93e-02       4.03e-04       1.67e+03    \n",
      "      10             19         2.8720e+01      1.06e-02       9.61e-05       3.20e+02    \n",
      "      11             20         2.8718e+01      1.82e-03       7.02e-05       6.34e+02    \n",
      "      12             21         2.8716e+01      1.73e-03       8.90e-05       6.23e+02    \n",
      "      13             22         2.8715e+01      1.50e-03       2.16e-05       3.24e+02    \n",
      "      14             23         2.8713e+01      1.69e-03       3.53e-05       1.47e+02    \n",
      "      15             24         2.8712e+01      1.73e-03       2.47e-05       1.31e+02    \n",
      "      16             25         2.8708e+01      3.18e-03       4.53e-05       3.34e+02    \n",
      "      17             27         2.8707e+01      1.64e-03       3.62e-05       1.55e+02    \n",
      "      18             28         2.8705e+01      1.72e-03       2.53e-05       1.29e+02    \n",
      "      19             29         2.8702e+01      3.12e-03       4.68e-05       3.29e+02    \n",
      "      20             31         2.8700e+01      1.69e-03       3.55e-05       1.45e+02    \n",
      "      21             32         2.8698e+01      1.73e-03       2.46e-05       1.31e+02    \n",
      "      22             33         2.8695e+01      3.19e-03       4.51e-05       3.31e+02    \n",
      "      23             35         2.8694e+01      1.64e-03       3.60e-05       1.55e+02    \n",
      "      24             36         2.8692e+01      1.72e-03       2.54e-05       1.29e+02    \n",
      "      25             37         2.8689e+01      3.12e-03       4.68e-05       3.29e+02    \n",
      "      26             39         2.8687e+01      1.69e-03       3.55e-05       1.45e+02    \n",
      "      27             40         2.8685e+01      1.73e-03       2.46e-05       1.31e+02    \n",
      "      28             41         2.8682e+01      3.19e-03       4.51e-05       3.31e+02    \n",
      "      29             43         2.8681e+01      1.64e-03       3.60e-05       1.55e+02    \n",
      "      30             44         2.8679e+01      1.72e-03       2.53e-05       1.29e+02    \n",
      "      31             45         2.8676e+01      3.13e-03       4.68e-05       3.28e+02    \n",
      "      32             47         2.8674e+01      1.69e-03       3.55e-05       1.45e+02    \n",
      "      33             48         2.8672e+01      1.73e-03       2.46e-05       1.31e+02    \n",
      "      34             49         2.8669e+01      3.20e-03       4.51e-05       3.30e+02    \n",
      "      35             51         2.8667e+01      1.64e-03       3.60e-05       1.55e+02    \n",
      "      36             52         2.8666e+01      1.72e-03       2.53e-05       1.28e+02    \n",
      "      37             53         2.8663e+01      3.13e-03       4.67e-05       3.27e+02    \n",
      "      38             55         2.8661e+01      1.69e-03       3.54e-05       1.45e+02    \n",
      "      39             56         2.8659e+01      1.73e-03       2.46e-05       1.31e+02    \n",
      "      40             57         2.8656e+01      3.20e-03       4.50e-05       3.29e+02    \n",
      "      41             59         2.8654e+01      1.64e-03       3.59e-05       1.55e+02    \n",
      "      42             60         2.8653e+01      1.73e-03       2.53e-05       1.28e+02    \n",
      "      43             61         2.8649e+01      3.14e-03       4.67e-05       3.26e+02    \n",
      "      44             63         2.8648e+01      1.69e-03       3.54e-05       1.45e+02    \n",
      "      45             64         2.8646e+01      1.73e-03       2.46e-05       1.31e+02    \n",
      "      46             65         2.8643e+01      3.20e-03       4.50e-05       3.29e+02    \n",
      "      47             67         2.8641e+01      1.64e-03       3.59e-05       1.54e+02    \n",
      "      48             68         2.8639e+01      1.73e-03       2.53e-05       1.28e+02    \n",
      "      49             69         2.8636e+01      3.14e-03       4.67e-05       3.26e+02    \n",
      "      50             71         2.8635e+01      1.70e-03       3.53e-05       1.45e+02    \n",
      "      51             72         2.8633e+01      1.73e-03       2.46e-05       1.31e+02    \n",
      "      52             73         2.8630e+01      3.20e-03       4.50e-05       3.28e+02    \n",
      "      53             75         2.8628e+01      1.64e-03       3.59e-05       1.54e+02    \n",
      "      54             76         2.8626e+01      1.73e-03       2.53e-05       1.28e+02    \n",
      "      55             77         2.8623e+01      3.14e-03       4.67e-05       3.25e+02    \n",
      "      56             79         2.8621e+01      1.70e-03       3.53e-05       1.45e+02    \n",
      "      57             80         2.8620e+01      1.73e-03       2.46e-05       1.31e+02    \n",
      "      58             81         2.8617e+01      3.21e-03       4.50e-05       3.27e+02    \n",
      "      59             83         2.8615e+01      1.64e-03       3.58e-05       1.54e+02    \n",
      "      60             84         2.8613e+01      1.73e-03       2.53e-05       1.28e+02    \n",
      "      61             85         2.8610e+01      3.15e-03       4.66e-05       3.24e+02    \n",
      "      62             87         2.8608e+01      1.70e-03       3.52e-05       1.45e+02    \n",
      "      63             88         2.8607e+01      1.74e-03       2.46e-05       1.32e+02    \n",
      "      64             89         2.8603e+01      3.21e-03       4.50e-05       3.27e+02    \n",
      "      65             91         2.8602e+01      1.64e-03       3.58e-05       1.54e+02    \n",
      "      66             92         2.8600e+01      1.73e-03       2.53e-05       1.28e+02    \n",
      "      67             93         2.8597e+01      3.15e-03       4.66e-05       3.23e+02    \n",
      "      68             95         2.8595e+01      1.70e-03       3.52e-05       1.45e+02    \n",
      "      69             96         2.8593e+01      1.74e-03       2.46e-05       1.32e+02    \n",
      "      70             97         2.8590e+01      3.21e-03       4.49e-05       3.26e+02    \n",
      "      71             99         2.8589e+01      1.64e-03       3.58e-05       1.54e+02    \n",
      "      72             100        2.8587e+01      1.73e-03       2.53e-05       1.28e+02    \n",
      "      73             101        2.8584e+01      3.16e-03       4.66e-05       3.22e+02    \n",
      "      74             103        2.8582e+01      1.70e-03       3.52e-05       1.45e+02    \n",
      "      75             104        2.8580e+01      1.74e-03       2.46e-05       1.32e+02    \n",
      "      76             105        2.8577e+01      3.22e-03       4.49e-05       3.25e+02    \n",
      "      77             107        2.8575e+01      1.64e-03       3.57e-05       1.54e+02    \n",
      "      78             108        2.8574e+01      1.73e-03       2.53e-05       1.28e+02    \n",
      "      79             109        2.8570e+01      3.16e-03       4.66e-05       3.21e+02    \n",
      "      80             111        2.8569e+01      1.70e-03       3.51e-05       1.45e+02    \n",
      "      81             112        2.8567e+01      1.74e-03       2.46e-05       1.32e+02    \n",
      "      82             113        2.8564e+01      3.22e-03       4.49e-05       3.25e+02    \n",
      "      83             115        2.8562e+01      1.65e-03       3.57e-05       1.53e+02    \n",
      "      84             116        2.8560e+01      1.73e-03       2.52e-05       1.28e+02    \n",
      "      85             117        2.8557e+01      3.16e-03       4.65e-05       3.20e+02    \n",
      "      86             119        2.8556e+01      1.70e-03       3.51e-05       1.45e+02    \n",
      "      87             120        2.8554e+01      1.74e-03       2.46e-05       1.32e+02    \n",
      "      88             121        2.8551e+01      3.22e-03       4.49e-05       3.24e+02    \n",
      "      89             123        2.8549e+01      1.65e-03       3.57e-05       1.53e+02    \n",
      "      90             124        2.8547e+01      1.73e-03       2.52e-05       1.28e+02    \n",
      "      91             125        2.8544e+01      3.17e-03       4.65e-05       3.19e+02    \n",
      "      92             127        2.8542e+01      1.70e-03       3.50e-05       1.45e+02    \n",
      "      93             128        2.8541e+01      1.74e-03       2.46e-05       1.32e+02    \n",
      "      94             129        2.8537e+01      3.23e-03       4.48e-05       3.23e+02    \n",
      "      95             131        2.8536e+01      1.65e-03       3.56e-05       1.53e+02    \n",
      "      96             132        2.8534e+01      1.73e-03       2.52e-05       1.28e+02    \n",
      "      97             133        2.8531e+01      3.17e-03       4.65e-05       3.19e+02    \n",
      "      98             135        2.8529e+01      1.70e-03       3.50e-05       1.45e+02    \n",
      "      99             136        2.8527e+01      1.74e-03       2.46e-05       1.32e+02    \n",
      "      100            137        2.8524e+01      3.23e-03       4.48e-05       3.23e+02    \n",
      "      101            139        2.8523e+01      1.65e-03       3.56e-05       1.53e+02    \n",
      "      102            140        2.8521e+01      1.74e-03       2.52e-05       1.28e+02    \n",
      "      103            141        2.8518e+01      3.17e-03       4.65e-05       3.18e+02    \n",
      "      104            143        2.8516e+01      1.70e-03       3.49e-05       1.45e+02    \n",
      "      105            144        2.8514e+01      1.74e-03       2.46e-05       1.32e+02    \n",
      "      106            145        2.8511e+01      3.23e-03       4.48e-05       3.22e+02    \n",
      "      107            147        2.8509e+01      1.65e-03       3.56e-05       1.53e+02    \n",
      "      108            148        2.8508e+01      1.74e-03       2.52e-05       1.29e+02    \n",
      "      109            149        2.8504e+01      3.18e-03       4.64e-05       3.17e+02    \n",
      "      110            151        2.8503e+01      1.70e-03       3.49e-05       1.45e+02    \n",
      "      111            152        2.8501e+01      1.74e-03       2.46e-05       1.33e+02    \n",
      "      112            153        2.8498e+01      3.24e-03       4.48e-05       3.21e+02    \n",
      "      113            155        2.8496e+01      1.65e-03       3.55e-05       1.52e+02    \n",
      "      114            156        2.8494e+01      1.74e-03       2.52e-05       1.29e+02    \n",
      "      115            157        2.8491e+01      3.18e-03       4.64e-05       3.16e+02    \n",
      "      116            159        2.8489e+01      1.70e-03       3.48e-05       1.45e+02    \n",
      "      117            160        2.8488e+01      1.74e-03       2.46e-05       1.33e+02    \n",
      "      118            161        2.8484e+01      3.24e-03       4.48e-05       3.21e+02    \n",
      "      119            163        2.8483e+01      1.65e-03       3.55e-05       1.52e+02    \n",
      "      120            164        2.8481e+01      1.74e-03       2.52e-05       1.29e+02    \n",
      "      121            165        2.8478e+01      3.19e-03       4.64e-05       3.15e+02    \n",
      "      122            167        2.8476e+01      1.70e-03       3.48e-05       1.45e+02    \n",
      "      123            168        2.8474e+01      1.75e-03       2.46e-05       1.33e+02    \n",
      "      124            169        2.8471e+01      3.24e-03       4.47e-05       3.20e+02    \n",
      "      125            171        2.8470e+01      1.65e-03       3.55e-05       1.52e+02    \n",
      "      126            172        2.8468e+01      1.74e-03       2.52e-05       1.29e+02    \n",
      "      127            173        2.8465e+01      3.19e-03       4.64e-05       3.14e+02    \n",
      "      128            175        2.8463e+01      1.70e-03       3.48e-05       1.45e+02    \n",
      "      129            176        2.8461e+01      1.75e-03       2.46e-05       1.33e+02    \n",
      "      130            177        2.8458e+01      3.25e-03       4.47e-05       3.19e+02    \n",
      "      131            179        2.8456e+01      1.65e-03       3.54e-05       1.52e+02    \n",
      "      132            180        2.8455e+01      1.74e-03       2.51e-05       1.29e+02    \n",
      "      133            181        2.8451e+01      3.19e-03       4.63e-05       3.13e+02    \n",
      "      134            183        2.8450e+01      1.70e-03       3.47e-05       1.45e+02    \n",
      "      135            184        2.8448e+01      1.75e-03       2.46e-05       1.33e+02    \n",
      "      136            185        2.8445e+01      3.25e-03       4.47e-05       3.18e+02    \n",
      "      137            187        2.8443e+01      1.65e-03       3.54e-05       1.52e+02    \n",
      "      138            188        2.8441e+01      1.74e-03       2.51e-05       1.29e+02    \n",
      "      139            189        2.8438e+01      3.20e-03       4.63e-05       3.12e+02    \n",
      "      140            191        2.8436e+01      1.70e-03       3.47e-05       1.45e+02    \n",
      "      141            192        2.8435e+01      1.75e-03       2.46e-05       1.33e+02    \n",
      "      142            193        2.8431e+01      3.25e-03       4.47e-05       3.18e+02    \n",
      "      143            195        2.8430e+01      1.65e-03       3.53e-05       1.51e+02    \n",
      "      144            196        2.8428e+01      1.74e-03       2.51e-05       1.29e+02    \n",
      "      145            197        2.8425e+01      3.20e-03       4.63e-05       3.12e+02    \n",
      "      146            199        2.8423e+01      1.70e-03       3.46e-05       1.45e+02    \n",
      "      147            200        2.8421e+01      1.75e-03       2.46e-05       1.33e+02    \n",
      "      148            201        2.8418e+01      3.26e-03       4.46e-05       3.17e+02    \n",
      "      149            203        2.8416e+01      1.65e-03       3.53e-05       1.51e+02    \n",
      "      150            204        2.8415e+01      1.74e-03       2.51e-05       1.29e+02    \n",
      "      151            205        2.8411e+01      3.21e-03       4.63e-05       3.11e+02    \n",
      "      152            207        2.8410e+01      1.70e-03       3.46e-05       1.45e+02    \n",
      "      153            208        2.8408e+01      1.75e-03       2.46e-05       1.33e+02    \n",
      "      154            209        2.8405e+01      3.26e-03       4.46e-05       3.16e+02    \n",
      "      155            211        2.8403e+01      1.66e-03       3.53e-05       1.51e+02    \n",
      "      156            212        2.8401e+01      1.75e-03       2.51e-05       1.30e+02    \n",
      "      157            213        2.8398e+01      3.21e-03       4.62e-05       3.10e+02    \n",
      "      158            215        2.8396e+01      1.70e-03       3.45e-05       1.45e+02    \n",
      "      159            216        2.8395e+01      1.75e-03       2.46e-05       1.33e+02    \n",
      "      160            217        2.8391e+01      3.26e-03       4.46e-05       3.16e+02    \n",
      "      161            219        2.8390e+01      1.66e-03       3.52e-05       1.51e+02    \n",
      "      162            220        2.8388e+01      1.75e-03       2.51e-05       1.30e+02    \n",
      "      163            221        2.8385e+01      3.21e-03       4.62e-05       3.09e+02    \n",
      "      164            223        2.8383e+01      1.70e-03       3.45e-05       1.45e+02    \n",
      "      165            224        2.8381e+01      1.75e-03       2.46e-05       1.34e+02    \n",
      "      166            225        2.8378e+01      3.27e-03       4.46e-05       3.15e+02    \n",
      "      167            227        2.8376e+01      1.66e-03       3.52e-05       1.51e+02    \n",
      "      168            228        2.8375e+01      1.75e-03       2.51e-05       1.30e+02    \n",
      "      169            229        2.8371e+01      3.22e-03       4.62e-05       3.08e+02    \n",
      "      170            231        2.8370e+01      1.71e-03       3.44e-05       1.45e+02    \n",
      "      171            232        2.8368e+01      1.75e-03       2.46e-05       1.34e+02    \n",
      "      172            233        2.8365e+01      3.27e-03       4.45e-05       3.14e+02    \n",
      "      173            235        2.8363e+01      1.66e-03       3.52e-05       1.50e+02    \n",
      "      174            236        2.8361e+01      1.75e-03       2.51e-05       1.30e+02    \n",
      "      175            237        2.8358e+01      3.22e-03       4.62e-05       3.07e+02    \n",
      "      176            239        2.8356e+01      1.71e-03       3.44e-05       1.45e+02    \n",
      "      177            240        2.8355e+01      1.75e-03       2.46e-05       1.34e+02    \n",
      "      178            241        2.8351e+01      3.27e-03       4.45e-05       3.13e+02    \n",
      "      179            243        2.8350e+01      1.66e-03       3.51e-05       1.50e+02    \n",
      "      180            244        2.8348e+01      1.75e-03       2.50e-05       1.30e+02    \n",
      "      181            245        2.8345e+01      3.22e-03       4.61e-05       3.06e+02    \n",
      "      182            247        2.8343e+01      1.71e-03       3.43e-05       1.45e+02    \n",
      "      183            248        2.8341e+01      1.75e-03       2.46e-05       1.34e+02    \n",
      "      184            249        2.8338e+01      3.28e-03       4.45e-05       3.13e+02    \n",
      "      185            251        2.8336e+01      1.66e-03       3.51e-05       1.50e+02    \n",
      "      186            252        2.8335e+01      1.75e-03       2.50e-05       1.30e+02    \n",
      "      187            253        2.8331e+01      3.23e-03       4.61e-05       3.05e+02    \n",
      "      188            255        2.8330e+01      1.71e-03       3.43e-05       1.44e+02    \n",
      "      189            256        2.8328e+01      1.76e-03       2.46e-05       1.34e+02    \n",
      "      190            257        2.8325e+01      3.28e-03       4.45e-05       3.12e+02    \n",
      "      191            259        2.8323e+01      1.66e-03       3.50e-05       1.50e+02    \n",
      "      192            260        2.8321e+01      1.75e-03       2.50e-05       1.30e+02    \n",
      "      193            261        2.8318e+01      3.23e-03       4.61e-05       3.04e+02    \n",
      "      194            263        2.8316e+01      1.71e-03       3.43e-05       1.44e+02    \n",
      "      195            264        2.8314e+01      1.76e-03       2.46e-05       1.34e+02    \n",
      "      196            265        2.8311e+01      3.28e-03       4.45e-05       3.11e+02    \n",
      "      197            267        2.8310e+01      1.66e-03       3.50e-05       1.50e+02    \n",
      "      198            268        2.8308e+01      1.75e-03       2.50e-05       1.30e+02    \n",
      "      199            269        2.8305e+01      3.24e-03       4.61e-05       3.04e+02    \n",
      "      200            271        2.8303e+01      1.71e-03       3.42e-05       1.44e+02    \n",
      "      201            272        2.8301e+01      1.76e-03       2.46e-05       1.34e+02    \n",
      "      202            273        2.8298e+01      3.29e-03       4.44e-05       3.11e+02    \n",
      "      203            275        2.8296e+01      1.66e-03       3.50e-05       1.49e+02    \n",
      "      204            276        2.8294e+01      1.75e-03       2.50e-05       1.31e+02    \n",
      "      205            277        2.8291e+01      3.24e-03       4.60e-05       3.03e+02    \n",
      "      206            279        2.8289e+01      1.71e-03       3.42e-05       1.44e+02    \n",
      "      207            280        2.8288e+01      1.76e-03       2.45e-05       1.34e+02    \n",
      "      208            281        2.8284e+01      3.29e-03       4.44e-05       3.10e+02    \n",
      "      209            283        2.8283e+01      1.66e-03       3.49e-05       1.49e+02    \n",
      "      210            284        2.8281e+01      1.75e-03       2.50e-05       1.31e+02    \n",
      "      211            285        2.8278e+01      3.24e-03       4.60e-05       3.02e+02    \n",
      "      212            287        2.8276e+01      1.71e-03       3.41e-05       1.44e+02    \n",
      "      213            288        2.8274e+01      1.76e-03       2.45e-05       1.35e+02    \n",
      "      214            289        2.8271e+01      3.29e-03       4.44e-05       3.09e+02    \n",
      "      215            291        2.8269e+01      1.66e-03       3.49e-05       1.49e+02    \n",
      "      216            292        2.8268e+01      1.76e-03       2.50e-05       1.31e+02    \n",
      "      217            293        2.8264e+01      3.25e-03       4.60e-05       3.01e+02    \n",
      "      218            295        2.8263e+01      1.71e-03       3.41e-05       1.44e+02    \n",
      "      219            296        2.8261e+01      1.76e-03       2.45e-05       1.35e+02    \n",
      "      220            297        2.8257e+01      3.30e-03       4.44e-05       3.08e+02    \n",
      "      221            299        2.8256e+01      1.67e-03       3.48e-05       1.49e+02    \n",
      "      222            300        2.8254e+01      1.76e-03       2.50e-05       1.31e+02    \n",
      "      223            301        2.8251e+01      3.25e-03       4.60e-05       3.00e+02    \n",
      "      224            303        2.8249e+01      1.71e-03       3.40e-05       1.44e+02    \n",
      "      225            304        2.8247e+01      1.76e-03       2.45e-05       1.35e+02    \n",
      "      226            305        2.8244e+01      3.30e-03       4.43e-05       3.08e+02    \n",
      "      227            307        2.8242e+01      1.67e-03       3.48e-05       1.49e+02    \n",
      "      228            308        2.8241e+01      1.76e-03       2.49e-05       1.31e+02    \n",
      "      229            309        2.8237e+01      3.26e-03       4.59e-05       2.99e+02    \n",
      "      230            311        2.8236e+01      1.71e-03       3.40e-05       1.44e+02    \n",
      "      231            312        2.8234e+01      1.76e-03       2.45e-05       1.35e+02    \n",
      "      232            313        2.8231e+01      3.30e-03       4.43e-05       3.07e+02    \n",
      "      233            315        2.8229e+01      1.67e-03       3.48e-05       1.48e+02    \n",
      "      234            316        2.8227e+01      1.76e-03       2.49e-05       1.31e+02    \n",
      "      235            317        2.8224e+01      3.26e-03       4.59e-05       2.98e+02    \n",
      "      236            319        2.8222e+01      1.71e-03       3.39e-05       1.44e+02    \n",
      "      237            320        2.8220e+01      1.76e-03       2.45e-05       1.35e+02    \n",
      "      238            321        2.8217e+01      3.31e-03       4.43e-05       3.06e+02    \n",
      "      239            323        2.8215e+01      1.67e-03       3.47e-05       1.48e+02    \n",
      "      240            324        2.8214e+01      1.76e-03       2.49e-05       1.31e+02    \n",
      "      241            325        2.8210e+01      3.26e-03       4.59e-05       2.97e+02    \n",
      "      242            327        2.8209e+01      1.71e-03       3.39e-05       1.44e+02    \n",
      "      243            328        2.8207e+01      1.76e-03       2.45e-05       1.35e+02    \n",
      "      244            329        2.8204e+01      3.31e-03       4.43e-05       3.05e+02    \n",
      "      245            331        2.8202e+01      1.67e-03       3.47e-05       1.48e+02    \n",
      "      246            332        2.8200e+01      1.76e-03       2.49e-05       1.31e+02    \n",
      "      247            333        2.8197e+01      3.27e-03       4.59e-05       2.96e+02    \n",
      "      248            335        2.8195e+01      1.71e-03       3.38e-05       1.44e+02    \n",
      "      249            336        2.8193e+01      1.77e-03       2.45e-05       1.35e+02    \n",
      "      250            337        2.8190e+01      3.31e-03       4.42e-05       3.05e+02    \n",
      "      251            339        2.8188e+01      1.67e-03       3.46e-05       1.48e+02    \n",
      "      252            340        2.8187e+01      1.76e-03       2.49e-05       1.31e+02    \n",
      "      253            341        2.8183e+01      3.27e-03       4.58e-05       2.95e+02    \n",
      "      254            343        2.8182e+01      1.71e-03       3.38e-05       1.44e+02    \n",
      "      255            344        2.8180e+01      1.77e-03       2.45e-05       1.35e+02    \n",
      "      256            345        2.8177e+01      3.32e-03       4.42e-05       3.04e+02    \n",
      "      257            347        2.8175e+01      1.67e-03       3.46e-05       1.47e+02    \n",
      "      258            348        2.8173e+01      1.76e-03       2.49e-05       1.32e+02    \n",
      "      259            349        2.8170e+01      3.28e-03       4.58e-05       2.95e+02    \n",
      "      260            351        2.8168e+01      1.71e-03       3.37e-05       1.44e+02    \n",
      "      261            352        2.8166e+01      1.77e-03       2.45e-05       1.35e+02    \n",
      "      262            353        2.8163e+01      3.32e-03       4.42e-05       3.03e+02    \n",
      "      263            355        2.8161e+01      1.67e-03       3.46e-05       1.47e+02    \n",
      "      264            356        2.8160e+01      1.76e-03       2.49e-05       1.32e+02    \n",
      "      265            357        2.8156e+01      3.28e-03       4.58e-05       2.94e+02    \n",
      "      266            359        2.8155e+01      1.72e-03       3.37e-05       1.44e+02    \n",
      "      267            360        2.8153e+01      1.77e-03       2.45e-05       1.36e+02    \n",
      "      268            361        2.8150e+01      3.32e-03       4.42e-05       3.02e+02    \n",
      "      269            363        2.8148e+01      1.67e-03       3.45e-05       1.47e+02    \n",
      "      270            364        2.8146e+01      1.77e-03       2.48e-05       1.32e+02    \n",
      "      271            365        2.8143e+01      3.28e-03       4.58e-05       2.93e+02    \n",
      "      272            367        2.8141e+01      1.72e-03       3.36e-05       1.44e+02    \n",
      "      273            368        2.8139e+01      1.77e-03       2.45e-05       1.36e+02    \n",
      "      274            369        2.8136e+01      3.33e-03       4.41e-05       3.01e+02    \n",
      "      275            371        2.8134e+01      1.67e-03       3.45e-05       1.47e+02    \n",
      "      276            372        2.8133e+01      1.77e-03       2.48e-05       1.32e+02    \n",
      "      277            373        2.8129e+01      3.29e-03       4.57e-05       2.92e+02    \n",
      "      278            375        2.8128e+01      1.72e-03       3.36e-05       1.43e+02    \n",
      "      279            376        2.8126e+01      1.77e-03       2.45e-05       1.36e+02    \n",
      "      280            377        2.8123e+01      3.33e-03       4.41e-05       3.01e+02    \n",
      "      281            379        2.8121e+01      1.68e-03       3.44e-05       1.47e+02    \n",
      "      282            380        2.8119e+01      1.77e-03       2.48e-05       1.32e+02    \n",
      "      283            381        2.8116e+01      3.29e-03       4.57e-05       2.91e+02    \n",
      "      284            383        2.8114e+01      1.72e-03       3.35e-05       1.43e+02    \n",
      "      285            384        2.8112e+01      1.77e-03       2.45e-05       1.36e+02    \n",
      "      286            385        2.8109e+01      3.33e-03       4.41e-05       3.00e+02    \n",
      "      287            387        2.8107e+01      1.68e-03       3.44e-05       1.46e+02    \n",
      "      288            388        2.8106e+01      1.77e-03       2.48e-05       1.32e+02    \n",
      "      289            389        2.8102e+01      3.29e-03       4.57e-05       2.90e+02    \n",
      "      290            391        2.8100e+01      1.72e-03       3.35e-05       1.43e+02    \n",
      "      291            392        2.8099e+01      1.77e-03       2.45e-05       1.36e+02    \n",
      "      292            393        2.8095e+01      3.34e-03       4.40e-05       2.99e+02    \n",
      "      293            395        2.8094e+01      1.68e-03       3.43e-05       1.46e+02    \n",
      "      294            396        2.8092e+01      1.77e-03       2.48e-05       1.32e+02    \n",
      "      295            397        2.8089e+01      3.30e-03       4.57e-05       2.89e+02    \n",
      "      296            399        2.8087e+01      1.72e-03       3.34e-05       1.43e+02    \n",
      "      297            400        2.8085e+01      1.77e-03       2.45e-05       1.36e+02    \n",
      "The maximum number of function evaluations is exceeded.\n",
      "Function evaluations 400, initial cost 3.5842e+06, final cost 2.8085e+01, first-order optimality 1.36e+02.\n"
     ]
    }
   ],
   "source": [
    "x0 = [0.1,  0.5, 0.3,  0.1]      # initial guess: [σ, λ, m, v]\n",
    "bounds = ( [1e-3, 1e-2, -10, 0], [2, np.inf, 10, 5] )\n",
    "\n",
    "def cost_function(x, strikes, mkt_prices):\n",
    "    sigma, lambd, meanJ, stdJ = x\n",
    "    M = Merton_pricer(S0, None, T, r, q, sigma, lambd, meanJ, stdJ, exercise)\n",
    "    sq_err = np.sum( p_weights*(M.closed_formula_put(strikes) - mkt_prices)**2)\n",
    "    return sq_err\n",
    "\n",
    "start2 = time.time()\n",
    "mert2 = scpo.least_squares(cost_function, x0, args=(put_strikes, put_prices), bounds=bounds, method = 'trf', verbose=2)\n",
    "end2 = time.time()\n",
    "\n",
    "mert_params2 = [round(p,4) for p in mert2.x[:4]]"
   ],
   "metadata": {
    "collapsed": false
   }
  },
  {
   "cell_type": "code",
   "execution_count": 20,
   "outputs": [
    {
     "name": "stdout",
     "output_type": "stream",
     "text": [
      "WEIGHTED OPT: CURVE_FIT (trf)\n",
      "> Calibrated Volatlity [σ] = 0.3661 \t 36.61%\n",
      "> Calibrated Jump intensity [λ] =  0.42\n",
      "> Calibrated Jump Mean =  -0.34\n",
      "> Calibrated Jump St. dev.  =  0.86767\n",
      "ELAPSED TIME: 30.289413690567017 sec\n",
      "\n",
      "METHOD 1: LEAST SQUARES (trf)\n",
      "> Calibrated Volatlity [σ] = 0.1034 \t 10.34%\n",
      "> Calibrated Jump intensity [λ] =  3.34\n",
      "> Calibrated Jump Mean =  0.285\n",
      "> Calibrated Jump St. dev.  =  0.091\n",
      "TIME ELAPSED:  69.09 sec\n"
     ]
    }
   ],
   "source": [
    "print('WEIGHTED OPT: CURVE_FIT (trf)')\n",
    "print(f'> Calibrated Volatlity [σ] = {round(mert1[0][0],4)} \\t {round(mert1[0][0]*100,2)}%')\n",
    "print('> Calibrated Jump intensity [λ] = ', round(mert1[0][1],2))\n",
    "print('> Calibrated Jump Mean = ', round(mert1[0][2],2))\n",
    "print('> Calibrated Jump St. dev.  = ', round(mert1[0][3],5))\n",
    "print(f'ELAPSED TIME: {end1-start1} sec')\n",
    "\n",
    "print('\\nMETHOD 1: LEAST SQUARES (trf)')\n",
    "print(f'> Calibrated Volatlity [σ] = {mert_params2[0]} \\t {round(mert_params2[0]*100,2)}%')\n",
    "print('> Calibrated Jump intensity [λ] = ', round(mert_params2[1],2))\n",
    "print('> Calibrated Jump Mean = ', round(mert_params2[2],3))\n",
    "print('> Calibrated Jump St. dev.  = ', round(mert_params2[3],3))\n",
    "print(f'TIME ELAPSED:  {round(end2-start2,2)} sec')"
   ],
   "metadata": {
    "collapsed": false
   }
  },
  {
   "cell_type": "code",
   "execution_count": 21,
   "outputs": [
    {
     "name": "stdout",
     "output_type": "stream",
     "text": [
      "[0.3661, 0.4193, -0.3404, 0.8677]\n",
      "[0.1034, 3.3362, 0.2847, 0.0907]\n"
     ]
    }
   ],
   "source": [
    "print(mert_params1)\n",
    "print(mert_params2)"
   ],
   "metadata": {
    "collapsed": false
   }
  },
  {
   "cell_type": "markdown",
   "source": [
    "### Kou Jump Diffusion\n"
   ],
   "metadata": {
    "collapsed": false
   }
  },
  {
   "cell_type": "code",
   "execution_count": 22,
   "outputs": [],
   "source": [
    "x0 = [0.3, 0.8, 0.5, 5, 10] # initial guess: [σ, λ, p, η_1, η_2]\n",
    "bounds = ( [1e-2, 1e-1, 0, 0.5, 0.5], [0.5, 4, 1, 15, 20] )"
   ],
   "metadata": {
    "collapsed": false
   }
  },
  {
   "cell_type": "markdown",
   "source": [
    "##### Method 1. TRF (Bounds)"
   ],
   "metadata": {
    "collapsed": false
   }
  },
  {
   "cell_type": "code",
   "execution_count": 23,
   "outputs": [],
   "source": [
    "# def f_Kou(x, sigma, lambd, p, eta1, eta2):\n",
    "#     KouJD = Kou_pricer(S0=S0, K=x, ttm=T, r=r, sigma=sigma, lambd=lambd, p=p, eta1=eta1, eta2=eta2, exercise=exercise)\n",
    "#     return KouJD.closed_formula_put(x)\n",
    "#\n",
    "# start1 = time.time()\n",
    "# kou1 = scpo.curve_fit(f_Kou, put_strikes, put_prices, p0=x0, bounds=bounds, sigma=p_weights)\n",
    "# end1 = time.time()\n",
    "#\n",
    "# kou_params1 = [round(p,4) for p in kou1[0][:5]]"
   ],
   "metadata": {
    "collapsed": false
   }
  },
  {
   "cell_type": "markdown",
   "source": [
    "##### Method 2. LEAST SQUARES (With Bounds)"
   ],
   "metadata": {
    "collapsed": false
   }
  },
  {
   "cell_type": "code",
   "execution_count": 24,
   "outputs": [
    {
     "name": "stdout",
     "output_type": "stream",
     "text": [
      "   Iteration     Total nfev        Cost      Cost reduction    Step norm     Optimality   \n",
      "       0              1         7.3145e+05                                    2.72e+06    \n",
      "       1              2         1.4480e+05      5.87e+05       1.35e-01       7.28e+05    \n",
      "       2              3         2.9182e+04      1.16e+05       1.08e-01       2.05e+05    \n",
      "       3              4         5.7234e+03      2.35e+04       9.96e-02       5.81e+04    \n",
      "       4              6         1.8925e+02      5.53e+03       3.11e+00       4.37e+03    \n",
      "       5              8         5.3891e+01      1.35e+02       1.83e+00       1.45e+03    \n",
      "       6             10         1.6755e+01      3.71e+01       9.72e-01       3.47e+02    \n",
      "       7             11         1.2959e+01      3.80e+00       1.90e+00       1.11e+02    \n",
      "       8             15         1.2003e+01      9.56e-01       1.42e-02       3.37e+02    \n",
      "       9             17         1.1720e+01      2.82e-01       1.11e-02       1.27e+02    \n",
      "      10             18         1.1485e+01      2.35e-01       8.69e-03       9.10e+01    \n",
      "      11             19         1.1027e+01      4.57e-01       1.32e-02       1.08e+02    \n",
      "      12             20         1.0216e+01      8.12e-01       3.35e-02       1.83e+01    \n",
      "      13             22         9.9196e+00      2.96e-01       3.69e-03       1.80e+02    \n",
      "      14             23         9.6559e+00      2.64e-01       2.23e-02       2.81e+01    \n",
      "      15             24         9.3785e+00      2.77e-01       4.07e-03       1.67e+02    \n",
      "      16             25         9.1357e+00      2.43e-01       2.23e-02       2.69e+01    \n",
      "      17             26         8.8784e+00      2.57e-01       4.16e-03       1.55e+02    \n",
      "      18             27         8.6550e+00      2.23e-01       2.22e-02       2.58e+01    \n",
      "      19             28         8.4162e+00      2.39e-01       4.26e-03       1.45e+02    \n",
      "      20             29         8.2105e+00      2.06e-01       2.22e-02       2.47e+01    \n",
      "      21             30         7.9886e+00      2.22e-01       4.37e-03       1.35e+02    \n",
      "      22             31         7.7993e+00      1.89e-01       2.21e-02       2.38e+01    \n",
      "      23             32         7.5930e+00      2.06e-01       4.49e-03       1.26e+02    \n",
      "      24             33         7.4187e+00      1.74e-01       2.21e-02       2.29e+01    \n",
      "      25             34         7.2267e+00      1.92e-01       4.61e-03       1.17e+02    \n",
      "      26             35         7.0663e+00      1.60e-01       2.20e-02       2.21e+01    \n",
      "      27             36         6.8876e+00      1.79e-01       4.75e-03       1.09e+02    \n",
      "      28             37         6.7400e+00      1.48e-01       2.20e-02       2.14e+01    \n",
      "      29             38         6.5735e+00      1.67e-01       4.89e-03       1.02e+02    \n",
      "      30             39         6.4377e+00      1.36e-01       2.19e-02       2.07e+01    \n",
      "      31             40         6.2825e+00      1.55e-01       5.05e-03       9.55e+01    \n",
      "      32             41         6.1577e+00      1.25e-01       2.19e-02       2.01e+01    \n",
      "      33             42         6.0129e+00      1.45e-01       5.21e-03       8.94e+01    \n",
      "      34             43         5.8984e+00      1.15e-01       2.18e-02       1.95e+01    \n",
      "      35             44         5.7631e+00      1.35e-01       5.39e-03       8.37e+01    \n",
      "      36             45         5.6581e+00      1.05e-01       2.18e-02       1.90e+01    \n",
      "      37             46         5.5317e+00      1.26e-01       5.58e-03       7.84e+01    \n",
      "      38             47         5.4356e+00      9.61e-02       2.18e-02       1.85e+01    \n",
      "      39             48         5.3175e+00      1.18e-01       5.78e-03       7.36e+01    \n",
      "      40             49         5.2297e+00      8.78e-02       2.17e-02       1.81e+01    \n",
      "      41             50         5.1191e+00      1.11e-01       5.99e-03       6.90e+01    \n",
      "      42             51         5.0391e+00      8.00e-02       2.17e-02       1.77e+01    \n",
      "      43             52         4.9355e+00      1.04e-01       6.21e-03       6.48e+01    \n",
      "      44             53         4.8628e+00      7.27e-02       2.17e-02       1.74e+01    \n",
      "      45             54         4.7657e+00      9.72e-02       6.44e-03       6.09e+01    \n",
      "      46             55         4.6999e+00      6.58e-02       2.16e-02       1.71e+01    \n",
      "      47             56         4.6087e+00      9.12e-02       6.69e-03       5.73e+01    \n",
      "      48             57         4.5494e+00      5.92e-02       2.16e-02       1.68e+01    \n",
      "      49             58         4.4636e+00      8.58e-02       6.94e-03       5.40e+01    \n",
      "      50             59         4.4105e+00      5.31e-02       2.16e-02       1.65e+01    \n",
      "      51             60         4.3297e+00      8.08e-02       7.20e-03       5.09e+01    \n",
      "      52             61         4.2825e+00      4.72e-02       2.16e-02       1.63e+01    \n",
      "      53             62         4.2061e+00      7.63e-02       7.46e-03       4.80e+01    \n",
      "      54             63         4.1644e+00      4.17e-02       2.16e-02       1.62e+01    \n",
      "      55             64         4.0922e+00      7.23e-02       7.73e-03       4.53e+01    \n",
      "      56             65         4.0558e+00      3.64e-02       2.16e-02       1.60e+01    \n",
      "      57             66         3.9872e+00      6.86e-02       8.01e-03       4.27e+01    \n",
      "      58             67         3.9559e+00      3.13e-02       2.16e-02       1.59e+01    \n",
      "      59             68         3.9214e+00      3.45e-02       2.01e-03       1.03e+01    \n",
      "      60             69         3.8822e+00      3.92e-02       3.34e-03       2.03e+01    \n",
      "      61             70         3.8464e+00      3.57e-02       8.67e-03       7.67e+00    \n",
      "      62             71         3.7845e+00      6.20e-02       8.50e-03       3.28e+01    \n",
      "      63             73         3.7536e+00      3.09e-02       1.07e-02       5.80e+00    \n",
      "      64             74         3.7229e+00      3.07e-02       3.29e-03       2.16e+01    \n",
      "      65             75         3.6836e+00      3.93e-02       1.97e-02       1.25e+01    \n",
      "      66             76         3.6462e+00      3.74e-02       8.51e-03       4.09e+01    \n",
      "      67             77         3.6262e+00      2.00e-02       2.17e-02       1.49e+01    \n",
      "      68             78         3.5974e+00      2.88e-02       2.26e-03       9.91e+00    \n",
      "      69             79         3.5672e+00      3.02e-02       3.96e-03       1.67e+01    \n",
      "      70             80         3.5415e+00      2.58e-02       9.27e-03       5.47e+00    \n",
      "      71             81         3.5081e+00      3.34e-02       7.77e-03       3.61e+01    \n",
      "      72             82         3.4981e+00      1.00e-02       2.18e-02       1.50e+01    \n",
      "      73             83         3.4703e+00      2.78e-02       2.40e-03       1.03e+01    \n",
      "      74             84         3.4422e+00      2.81e-02       4.36e-03       1.42e+01    \n",
      "      75             85         3.4197e+00      2.25e-02       9.29e-03       5.32e+00    \n",
      "      76             86         3.3943e+00      2.54e-02       8.41e-03       3.48e+01    \n",
      "      77             87         3.3881e+00      6.23e-03       2.18e-02       1.46e+01    \n",
      "      78             88         3.3621e+00      2.60e-02       2.51e-03       1.01e+01    \n",
      "      79             89         3.3370e+00      2.51e-02       4.64e-03       1.31e+01    \n",
      "      80             90         3.3181e+00      1.89e-02       9.73e-03       5.59e+00    \n",
      "      81             91         3.3059e+00      1.21e-02       8.65e-03       3.71e+01    \n",
      "      82             92         3.2938e+00      1.21e-02       2.15e-02       1.34e+01    \n",
      "      83             93         3.2711e+00      2.28e-02       2.57e-03       9.05e+00    \n",
      "      84             94         3.2510e+00      2.01e-02       4.77e-03       1.41e+01    \n",
      "      85             95         3.2373e+00      1.37e-02       1.08e-02       6.66e+00    \n",
      "      86             96         3.2238e+00      1.35e-02       4.54e-03       1.82e+01    \n",
      "      87             97         3.2133e+00      1.04e-02       1.13e-02       7.37e+00    \n",
      "      88             98         3.1991e+00      1.43e-02       4.73e-03       1.68e+01    \n",
      "      89             99         3.1896e+00      9.51e-03       1.14e-02       7.43e+00    \n",
      "      90             100        3.1757e+00      1.39e-02       4.83e-03       1.64e+01    \n",
      "      91             101        3.1670e+00      8.69e-03       1.14e-02       7.47e+00    \n",
      "      92             102        3.1536e+00      1.35e-02       4.91e-03       1.61e+01    \n",
      "      93             103        3.1456e+00      7.94e-03       1.15e-02       7.50e+00    \n",
      "      94             104        3.1325e+00      1.32e-02       4.98e-03       1.57e+01    \n",
      "      95             105        3.1252e+00      7.30e-03       1.16e-02       7.51e+00    \n",
      "      96             106        3.1123e+00      1.28e-02       5.05e-03       1.54e+01    \n",
      "      97             107        3.1056e+00      6.71e-03       1.16e-02       7.51e+00    \n",
      "      98             108        3.0930e+00      1.26e-02       5.10e-03       1.52e+01    \n",
      "      99             109        3.0869e+00      6.18e-03       1.17e-02       7.51e+00    \n",
      "      100            110        3.0745e+00      1.23e-02       5.15e-03       1.49e+01    \n",
      "      101            111        3.0688e+00      5.70e-03       1.18e-02       7.49e+00    \n",
      "      102            112        3.0567e+00      1.21e-02       5.20e-03       1.46e+01    \n",
      "      103            113        3.0515e+00      5.27e-03       1.18e-02       7.47e+00    \n",
      "      104            114        3.0395e+00      1.19e-02       5.24e-03       1.44e+01    \n",
      "      105            115        3.0346e+00      4.89e-03       1.19e-02       7.45e+00    \n",
      "      106            116        3.0289e+00      5.76e-03       1.31e-03       5.67e+00    \n",
      "      107            117        3.0222e+00      6.72e-03       2.58e-03       7.93e+00    \n",
      "      108            118        3.0157e+00      6.42e-03       5.18e-03       5.00e+00    \n",
      "      109            119        3.0034e+00      1.24e-02       7.93e-03       9.81e+00    \n",
      "      110            120        2.9973e+00      6.05e-03       2.34e-02       1.03e+01    \n",
      "      111            121        2.9819e+00      1.54e-02       2.76e-03       6.62e+00    \n",
      "      112            122        2.9729e+00      8.99e-03       5.31e-03       1.51e+01    \n",
      "      113            123        2.9692e+00      3.70e-03       1.19e-02       7.30e+00    \n",
      "      114            124        2.9637e+00      5.56e-03       1.34e-03       5.57e+00    \n",
      "      115            125        2.9574e+00      6.30e-03       2.65e-03       7.40e+00    \n",
      "      116            126        2.9515e+00      5.88e-03       5.30e-03       4.65e+00    \n",
      "      117            127        2.9402e+00      1.12e-02       8.08e-03       9.61e+00    \n",
      "      118            128        2.9388e+00      1.42e-03       2.39e-02       1.05e+01    \n",
      "      119            129        2.9227e+00      1.61e-02       2.79e-03       6.98e+00    \n",
      "      120            130        2.9125e+00      1.02e-02       5.40e-03       1.32e+01    \n",
      "      121            131        2.9097e+00      2.81e-03       1.21e-02       7.13e+00    \n",
      "      122            132        2.9042e+00      5.42e-03       1.35e-03       5.47e+00    \n",
      "      123            133        2.8982e+00      6.06e-03       2.69e-03       6.89e+00    \n",
      "      124            134        2.8927e+00      5.52e-03       5.32e-03       4.47e+00    \n",
      "      125            135        2.8821e+00      1.06e-02       8.26e-03       9.08e+00    \n",
      "      126            136        2.8809e+00      1.18e-03       2.40e-02       1.00e+01    \n",
      "      127            137        2.8655e+00      1.54e-02       2.80e-03       6.65e+00    \n",
      "      128            138        2.8561e+00      9.45e-03       5.43e-03       1.28e+01    \n",
      "      129            139        2.8538e+00      2.30e-03       1.20e-02       6.91e+00    \n",
      "      130            140        2.8485e+00      5.26e-03       1.36e-03       5.31e+00    \n",
      "      131            141        2.8427e+00      5.84e-03       2.70e-03       6.49e+00    \n",
      "      132            142        2.8375e+00      5.24e-03       5.33e-03       4.31e+00    \n",
      "      133            143        2.8274e+00      1.00e-02       8.37e-03       8.62e+00    \n",
      "      134            144        2.8261e+00      1.35e-03       2.40e-02       9.53e+00    \n",
      "      135            145        2.8114e+00      1.46e-02       2.81e-03       6.30e+00    \n",
      "      136            146        2.8027e+00      8.70e-03       5.44e-03       1.26e+01    \n",
      "      137            147        2.8007e+00      1.97e-03       1.20e-02       6.68e+00    \n",
      "      138            148        2.7956e+00      5.11e-03       1.36e-03       5.15e+00    \n",
      "      139            149        2.7900e+00      5.65e-03       2.71e-03       6.16e+00    \n",
      "      140            150        2.7850e+00      5.02e-03       5.31e-03       4.16e+00    \n",
      "      141            151        2.7753e+00      9.64e-03       8.43e-03       8.18e+00    \n",
      "      142            152        2.7734e+00      1.95e-03       2.39e-02       9.00e+00    \n",
      "      143            153        2.7596e+00      1.38e-02       2.81e-03       5.91e+00    \n",
      "      144            154        2.7517e+00      7.86e-03       5.43e-03       1.24e+01    \n",
      "      145            155        2.7499e+00      1.77e-03       1.19e-02       6.43e+00    \n",
      "      146            156        2.7450e+00      4.95e-03       1.37e-03       4.96e+00    \n",
      "      147            157        2.7395e+00      5.46e-03       2.71e-03       5.88e+00    \n",
      "      148            158        2.7347e+00      4.83e-03       5.29e-03       4.01e+00    \n",
      "      149            159        2.7254e+00      9.28e-03       8.45e-03       7.80e+00    \n",
      "      150            160        2.7232e+00      2.22e-03       2.39e-02       8.56e+00    \n",
      "      151            161        2.7100e+00      1.32e-02       2.81e-03       5.61e+00    \n",
      "      152            162        2.7027e+00      7.29e-03       5.43e-03       1.22e+01    \n",
      "      153            163        2.7011e+00      1.64e-03       1.19e-02       6.19e+00    \n",
      "      154            164        2.6963e+00      4.79e-03       1.36e-03       4.78e+00    \n",
      "      155            165        2.6910e+00      5.28e-03       2.71e-03       5.62e+00    \n",
      "      156            166        2.6863e+00      4.66e-03       5.27e-03       3.86e+00    \n",
      "      157            167        2.6774e+00      8.96e-03       8.45e-03       7.47e+00    \n",
      "      158            168        2.6749e+00      2.46e-03       2.38e-02       8.15e+00    \n",
      "      159            169        2.6623e+00      1.26e-02       2.81e-03       5.32e+00    \n",
      "      160            170        2.6555e+00      6.80e-03       5.42e-03       1.19e+01    \n",
      "      161            171        2.6540e+00      1.54e-03       1.18e-02       5.96e+00    \n",
      "      162            172        2.6494e+00      4.64e-03       1.36e-03       4.61e+00    \n",
      "      163            173        2.6442e+00      5.11e-03       2.70e-03       5.39e+00    \n",
      "      164            174        2.6397e+00      4.50e-03       5.25e-03       3.72e+00    \n",
      "      165            175        2.6311e+00      8.66e-03       8.44e-03       7.16e+00    \n",
      "      166            176        2.6286e+00      2.53e-03       2.37e-02       7.79e+00    \n",
      "      167            177        2.6165e+00      1.21e-02       2.81e-03       5.08e+00    \n",
      "      168            178        2.6100e+00      6.44e-03       5.41e-03       1.16e+01    \n",
      "      169            179        2.6086e+00      1.43e-03       1.17e-02       5.73e+00    \n",
      "      170            180        2.6041e+00      4.50e-03       1.36e-03       4.44e+00    \n",
      "      171            181        2.5991e+00      4.96e-03       2.70e-03       5.16e+00    \n",
      "      172            182        2.5948e+00      4.35e-03       5.23e-03       3.58e+00    \n",
      "      173            183        2.5864e+00      8.38e-03       8.44e-03       6.84e+00    \n",
      "      174            184        2.5836e+00      2.83e-03       2.36e-02       7.41e+00    \n",
      "      175            185        2.5720e+00      1.15e-02       2.81e-03       4.81e+00    \n",
      "      176            186        2.5661e+00      5.96e-03       5.40e-03       1.13e+01    \n",
      "      177            187        2.5647e+00      1.38e-03       1.17e-02       5.51e+00    \n",
      "      178            188        2.5603e+00      4.36e-03       1.36e-03       4.27e+00    \n",
      "      179            189        2.5555e+00      4.79e-03       2.69e-03       4.97e+00    \n",
      "      180            190        2.5513e+00      4.20e-03       5.21e-03       3.44e+00    \n",
      "      181            191        2.5432e+00      8.10e-03       8.41e-03       6.60e+00    \n",
      "      182            192        2.5407e+00      2.58e-03       2.35e-02       7.14e+00    \n",
      "      183            193        2.5294e+00      1.12e-02       2.81e-03       4.64e+00    \n",
      "      184            194        2.5236e+00      5.81e-03       5.39e-03       1.09e+01    \n",
      "      185            195        2.5224e+00      1.24e-03       1.16e-02       5.32e+00    \n",
      "      186            196        2.5181e+00      4.24e-03       1.36e-03       4.13e+00    \n",
      "      187            197        2.5135e+00      4.67e-03       2.69e-03       4.74e+00    \n",
      "      188            198        2.5094e+00      4.07e-03       5.17e-03       3.34e+00    \n",
      "      189            199        2.5015e+00      7.87e-03       8.43e-03       6.24e+00    \n",
      "      190            200        2.4979e+00      3.62e-03       2.33e-02       6.66e+00    \n",
      "      191            201        2.4875e+00      1.04e-02       2.81e-03       4.27e+00    \n",
      "      192            202        2.4826e+00      4.97e-03       5.37e-03       1.10e+01    \n",
      "      193            203        2.4812e+00      1.39e-03       1.15e-02       5.08e+00    \n",
      "      194            204        2.4771e+00      4.07e-03       1.36e-03       3.94e+00    \n",
      "      195            205        2.4726e+00      4.46e-03       2.68e-03       4.64e+00    \n",
      "      196            206        2.4687e+00      3.92e-03       5.20e-03       3.12e+00    \n",
      "      197            207        2.4612e+00      7.53e-03       8.27e-03       6.28e+00    \n",
      "      198            208        2.4606e+00      5.31e-04       2.35e-02       6.90e+00    \n",
      "      199            209        2.4494e+00      1.13e-02       2.83e-03       4.59e+00    \n",
      "      200            210        2.4429e+00      6.43e-03       5.41e-03       9.51e+00    \n",
      "      201            211        2.4421e+00      8.48e-04       1.17e-02       4.98e+00    \n",
      "      202            212        2.4380e+00      4.05e-03       1.36e-03       3.88e+00    \n",
      "      203            213        2.4336e+00      4.47e-03       2.68e-03       4.25e+00    \n",
      "      204            214        2.4297e+00      3.83e-03       5.05e-03       3.22e+00    \n",
      "      205            215        2.4223e+00      7.48e-03       8.58e-03       5.39e+00    \n",
      "      206            216        2.4150e+00      7.28e-03       2.27e-02       5.39e+00    \n",
      "      207            218        2.4071e+00      7.87e-03       2.77e-03       3.21e+00    \n",
      "      208            219        2.4036e+00      3.49e-03       2.71e-03       5.40e+00    \n",
      "      209            220        2.4002e+00      3.45e-03       5.69e-03       2.43e+00    \n",
      "      210            221        2.3944e+00      5.79e-03       6.85e-03       8.43e+00    \n",
      "      211            222        2.3936e+00      8.18e-04       1.17e-02       4.74e+00    \n",
      "      212            223        2.3897e+00      3.89e-03       1.36e-03       3.69e+00    \n",
      "      213            224        2.3854e+00      4.28e-03       2.67e-03       4.06e+00    \n",
      "      214            225        2.3817e+00      3.67e-03       5.03e-03       3.04e+00    \n",
      "      215            226        2.3746e+00      7.16e-03       8.52e-03       5.19e+00    \n",
      "      216            227        2.3681e+00      6.45e-03       2.26e-02       5.23e+00    \n",
      "      217            229        2.3603e+00      7.82e-03       2.78e-03       3.16e+00    \n",
      "      218            230        2.3568e+00      3.48e-03       2.69e-03       4.96e+00    \n",
      "      219            231        2.3534e+00      3.37e-03       5.59e-03       2.27e+00    \n",
      "      220            232        2.3476e+00      5.83e-03       7.06e-03       7.65e+00    \n",
      "      221            234        2.3447e+00      2.93e-03       5.88e-03       2.53e+00    \n",
      "      222            235        2.3415e+00      3.16e-03       2.99e-03       5.29e+00    \n",
      "      223            236        2.3367e+00      4.78e-03       1.15e-02       3.45e+00    \n",
      "      224            237        2.3330e+00      3.69e-03       5.34e-03       1.01e+01    \n",
      "      225            238        2.3318e+00      1.27e-03       1.12e-02       4.36e+00    \n",
      "      226            239        2.3282e+00      3.60e-03       1.36e-03       3.39e+00    \n",
      "      227            240        2.3243e+00      3.91e-03       2.67e-03       4.02e+00    \n",
      "      228            241        2.3208e+00      3.44e-03       5.15e-03       2.62e+00    \n",
      "      229            242        2.3142e+00      6.58e-03       8.10e-03       5.56e+00    \n",
      "      230            244        2.3113e+00      2.95e-03       5.82e-03       2.38e+00    \n",
      "      231            245        2.3082e+00      3.09e-03       3.08e-03       5.05e+00    \n",
      "      232            246        2.3035e+00      4.76e-03       1.14e-02       3.28e+00    \n",
      "      233            247        2.3000e+00      3.46e-03       5.34e-03       9.84e+00    \n",
      "      234            248        2.2988e+00      1.23e-03       1.11e-02       4.21e+00    \n",
      "      235            249        2.2953e+00      3.50e-03       1.36e-03       3.27e+00    \n",
      "      236            250        2.2915e+00      3.80e-03       2.67e-03       3.88e+00    \n",
      "      237            251        2.2881e+00      3.34e-03       5.13e-03       2.52e+00    \n",
      "      238            252        2.2818e+00      6.37e-03       8.06e-03       5.39e+00    \n",
      "      239            254        2.2789e+00      2.85e-03       5.81e-03       2.31e+00    \n",
      "      240            255        2.2759e+00      2.99e-03       3.06e-03       4.90e+00    \n",
      "      241            256        2.2714e+00      4.55e-03       1.14e-02       3.19e+00    \n",
      "      242            257        2.2680e+00      3.39e-03       5.33e-03       9.50e+00    \n",
      "      243            258        2.2669e+00      1.09e-03       1.11e-02       4.08e+00    \n",
      "      244            259        2.2635e+00      3.42e-03       1.36e-03       3.17e+00    \n",
      "      245            260        2.2598e+00      3.72e-03       2.67e-03       3.71e+00    \n",
      "      246            261        2.2565e+00      3.24e-03       5.09e-03       2.46e+00    \n",
      "      247            262        2.2503e+00      6.22e-03       8.10e-03       5.12e+00    \n",
      "      248            264        2.2475e+00      2.78e-03       5.77e-03       2.22e+00    \n",
      "      249            265        2.2446e+00      2.90e-03       3.07e-03       4.73e+00    \n",
      "      250            266        2.2402e+00      4.39e-03       1.13e-02       3.09e+00    \n",
      "      251            267        2.2369e+00      3.28e-03       5.33e-03       9.21e+00    \n",
      "      252            268        2.2360e+00      9.82e-04       1.11e-02       3.95e+00    \n",
      "      253            269        2.2326e+00      3.34e-03       1.37e-03       3.08e+00    \n",
      "      254            270        2.2290e+00      3.63e-03       2.66e-03       3.55e+00    \n",
      "      255            271        2.2258e+00      3.15e-03       5.06e-03       2.39e+00    \n",
      "      256            272        2.2198e+00      6.05e-03       8.12e-03       4.88e+00    \n",
      "      257            274        2.2171e+00      2.72e-03       5.74e-03       2.14e+00    \n",
      "      258            275        2.2142e+00      2.82e-03       3.07e-03       4.57e+00    \n",
      "      259            276        2.2100e+00      4.24e-03       1.13e-02       2.99e+00    \n",
      "      260            277        2.2068e+00      3.18e-03       5.33e-03       8.93e+00    \n",
      "      261            278        2.2059e+00      8.82e-04       1.10e-02       3.83e+00    \n",
      "      262            279        2.2027e+00      3.27e-03       1.37e-03       2.98e+00    \n",
      "      263            280        2.1991e+00      3.54e-03       2.66e-03       3.40e+00    \n",
      "      264            281        2.1961e+00      3.06e-03       5.02e-03       2.32e+00    \n",
      "      265            282        2.1902e+00      5.89e-03       8.13e-03       4.66e+00    \n",
      "      266            283        2.1899e+00      2.80e-04       2.28e-02       5.47e+00    \n",
      "      267            284        2.1810e+00      8.91e-03       2.88e-03       3.39e+00    \n",
      "      268            285        2.1762e+00      4.76e-03       5.41e-03       7.52e+00    \n",
      "      269            286        2.1761e+00      1.36e-04       1.13e-02       3.80e+00    \n",
      "      270            287        2.1728e+00      3.33e-03       1.38e-03       2.99e+00    \n",
      "      271            288        2.1691e+00      3.65e-03       2.67e-03       2.99e+00    \n",
      "      272            289        2.1661e+00      3.00e-03       4.76e-03       2.55e+00    \n",
      "      273            290        2.1602e+00      5.93e-03       8.73e-03       3.49e+00    \n",
      "      274            291        2.1506e+00      9.55e-03       2.08e-02       3.01e+00    \n",
      "      275            293        2.1470e+00      3.63e-03       5.36e-03       7.94e+00    \n",
      "      276            294        2.1466e+00      3.55e-04       1.10e-02       3.63e+00    \n",
      "      277            295        2.1435e+00      3.19e-03       1.38e-03       2.84e+00    \n",
      "      278            296        2.1400e+00      3.47e-03       2.67e-03       2.98e+00    \n",
      "      279            297        2.1371e+00      2.90e-03       4.84e-03       2.33e+00    \n",
      "      280            298        2.1314e+00      5.69e-03       8.46e-03       3.76e+00    \n",
      "      281            299        2.1248e+00      6.56e-03       2.17e-02       3.61e+00    \n",
      "      282            301        2.1195e+00      5.38e-03       2.77e-03       2.08e+00    \n",
      "      283            302        2.1170e+00      2.45e-03       2.80e-03       4.25e+00    \n",
      "      284            303        2.1146e+00      2.43e-03       5.66e-03       1.90e+00    \n",
      "      285            304        2.1121e+00      2.51e-03       3.04e-03       4.08e+00    \n",
      "      286            305        2.1085e+00      3.58e-03       1.12e-02       2.70e+00    \n",
      "      287            306        2.1055e+00      2.96e-03       5.34e-03       7.92e+00    \n",
      "      288            307        2.1051e+00      4.69e-04       1.09e-02       3.42e+00    \n",
      "      289            308        2.1020e+00      3.03e-03       1.38e-03       2.68e+00    \n",
      "      290            309        2.0987e+00      3.28e-03       2.67e-03       2.88e+00    \n",
      "      291            310        2.0960e+00      2.76e-03       4.88e-03       2.12e+00    \n",
      "      292            311        2.0906e+00      5.37e-03       8.27e-03       3.82e+00    \n",
      "      293            312        2.0873e+00      3.34e-03       2.22e-02       4.14e+00    \n",
      "      294            313        2.0866e+00      6.75e-04       1.14e-02       1.46e+01    \n",
      "      295            314        2.0774e+00      9.22e-03       4.84e-03       7.62e+00    \n",
      "      296            315        2.0744e+00      3.01e-03       5.42e-03       1.63e+00    \n",
      "      297            316        2.0718e+00      2.54e-03       3.50e-03       3.51e+00    \n",
      "      298            317        2.0675e+00      4.29e-03       1.08e-02       2.25e+00    \n",
      "      299            318        2.0654e+00      2.16e-03       5.36e-03       8.03e+00    \n",
      "      300            319        2.0646e+00      7.60e-04       1.07e-02       3.20e+00    \n",
      "      301            320        2.0618e+00      2.85e-03       1.38e-03       2.49e+00    \n",
      "      302            321        2.0587e+00      3.04e-03       2.67e-03       2.86e+00    \n",
      "      303            322        2.0561e+00      2.62e-03       4.98e-03       1.85e+00    \n",
      "      304            323        2.0511e+00      4.99e-03       7.92e-03       4.11e+00    \n",
      "      305            325        2.0490e+00      2.15e-03       5.67e-03       1.79e+00    \n",
      "      306            326        2.0467e+00      2.28e-03       2.92e-03       3.85e+00    \n",
      "      307            327        2.0444e+00      2.23e-03       5.61e-03       1.74e+00    \n",
      "      308            328        2.0421e+00      2.30e-03       3.01e-03       3.77e+00    \n",
      "      309            329        2.0391e+00      3.09e-03       1.12e-02       2.52e+00    \n",
      "      310            330        2.0362e+00      2.85e-03       5.37e-03       7.23e+00    \n",
      "      311            331        2.0360e+00      1.82e-04       1.08e-02       3.15e+00    \n",
      "      312            332        2.0331e+00      2.88e-03       1.39e-03       2.47e+00    \n",
      "      313            333        2.0300e+00      3.10e-03       2.68e-03       2.54e+00    \n",
      "      314            334        2.0275e+00      2.55e-03       4.77e-03       1.99e+00    \n",
      "      315            335        2.0225e+00      5.01e-03       8.40e-03       3.23e+00    \n",
      "      316            336        2.0169e+00      5.63e-03       2.15e-02       3.13e+00    \n",
      "      317            338        2.0120e+00      4.83e-03       2.80e-03       1.80e+00    \n",
      "      318            339        2.0099e+00      2.14e-03       2.79e-03       3.75e+00    \n",
      "      319            340        2.0078e+00      2.08e-03       5.61e-03       1.68e+00    \n",
      "      320            341        2.0056e+00      2.17e-03       2.95e-03       3.64e+00    \n",
      "      321            342        2.0035e+00      2.10e-03       5.58e-03       1.65e+00    \n",
      "      322            343        2.0014e+00      2.17e-03       2.99e-03       3.60e+00    \n",
      "      323            344        1.9993e+00      2.10e-03       5.57e-03       1.63e+00    \n",
      "      324            345        1.9971e+00      2.16e-03       2.99e-03       3.57e+00    \n",
      "      325            346        1.9943e+00      2.75e-03       1.11e-02       2.40e+00    \n",
      "      326            347        1.9916e+00      2.79e-03       5.40e-03       6.77e+00    \n",
      "      327            349        1.9896e+00      1.98e-03       2.68e-03       3.91e+00    \n",
      "      328            350        1.9883e+00      1.22e-03       2.83e-03       2.11e+00    \n",
      "      329            351        1.9859e+00      2.43e-03       4.46e-03       2.18e+00    \n",
      "      330            352        1.9811e+00      4.84e-03       9.10e-03       1.96e+00    \n",
      "      331            353        1.9716e+00      9.47e-03       1.73e-02       3.30e+00    \n",
      "      332            355        1.9686e+00      3.02e-03       1.10e-02       2.21e+00    \n",
      "      333            356        1.9662e+00      2.34e-03       5.39e-03       6.79e+00    \n",
      "      334            357        1.9662e+00      9.31e-05       1.06e-02       2.85e+00    \n",
      "      335            358        1.9635e+00      2.68e-03       1.41e-03       2.24e+00    \n",
      "      336            359        1.9606e+00      2.86e-03       2.70e-03       2.27e+00    \n",
      "      337            360        1.9583e+00      2.33e-03       4.74e-03       1.77e+00    \n",
      "      338            361        1.9537e+00      4.58e-03       8.34e-03       2.95e+00    \n",
      "      339            362        1.9492e+00      4.52e-03       2.14e-02       3.09e+00    \n",
      "      340            364        1.9444e+00      4.78e-03       2.85e-03       1.72e+00    \n",
      "      341            365        1.9424e+00      2.01e-03       2.74e-03       3.32e+00    \n",
      "      342            366        1.9405e+00      1.90e-03       5.54e-03       1.52e+00    \n",
      "      343            367        1.9385e+00      1.97e-03       2.95e-03       3.34e+00    \n",
      "      344            368        1.9367e+00      1.87e-03       5.55e-03       1.52e+00    \n",
      "      345            369        1.9347e+00      1.95e-03       2.93e-03       3.33e+00    \n",
      "      346            370        1.9328e+00      1.86e-03       5.56e-03       1.51e+00    \n",
      "      347            371        1.9309e+00      1.94e-03       2.92e-03       3.32e+00    \n",
      "      348            372        1.9291e+00      1.84e-03       5.56e-03       1.51e+00    \n",
      "      349            373        1.9271e+00      1.92e-03       2.92e-03       3.31e+00    \n",
      "      350            374        1.9253e+00      1.82e-03       5.56e-03       1.50e+00    \n",
      "      351            375        1.9234e+00      1.91e-03       2.91e-03       3.30e+00    \n",
      "      352            376        1.9216e+00      1.81e-03       5.55e-03       1.49e+00    \n",
      "      353            377        1.9197e+00      1.90e-03       2.91e-03       3.28e+00    \n",
      "      354            378        1.9179e+00      1.80e-03       5.55e-03       1.49e+00    \n",
      "      355            379        1.9160e+00      1.89e-03       2.91e-03       3.27e+00    \n",
      "      356            380        1.9142e+00      1.78e-03       5.55e-03       1.48e+00    \n",
      "      357            381        1.9124e+00      1.87e-03       2.90e-03       3.25e+00    \n",
      "      358            382        1.9106e+00      1.77e-03       5.55e-03       1.47e+00    \n",
      "      359            383        1.9087e+00      1.86e-03       2.90e-03       3.24e+00    \n",
      "      360            384        1.9070e+00      1.75e-03       5.55e-03       1.47e+00    \n",
      "      361            385        1.9051e+00      1.85e-03       2.90e-03       3.23e+00    \n",
      "      362            386        1.9034e+00      1.74e-03       5.55e-03       1.46e+00    \n",
      "      363            387        1.9015e+00      1.84e-03       2.89e-03       3.21e+00    \n",
      "      364            388        1.8998e+00      1.73e-03       5.55e-03       1.45e+00    \n",
      "      365            389        1.8980e+00      1.83e-03       2.89e-03       3.20e+00    \n",
      "      366            390        1.8963e+00      1.71e-03       5.55e-03       1.45e+00    \n",
      "      367            391        1.8945e+00      1.81e-03       2.89e-03       3.19e+00    \n",
      "      368            392        1.8928e+00      1.70e-03       5.55e-03       1.44e+00    \n",
      "      369            393        1.8910e+00      1.80e-03       2.89e-03       3.17e+00    \n",
      "      370            394        1.8893e+00      1.69e-03       5.54e-03       1.43e+00    \n",
      "      371            395        1.8875e+00      1.79e-03       2.88e-03       3.16e+00    \n",
      "      372            396        1.8858e+00      1.67e-03       5.54e-03       1.43e+00    \n",
      "      373            397        1.8840e+00      1.78e-03       2.88e-03       3.15e+00    \n",
      "      374            398        1.8824e+00      1.66e-03       5.54e-03       1.42e+00    \n",
      "      375            399        1.8806e+00      1.77e-03       2.88e-03       3.13e+00    \n",
      "      376            400        1.8790e+00      1.65e-03       5.54e-03       1.41e+00    \n",
      "      377            401        1.8772e+00      1.76e-03       2.88e-03       3.12e+00    \n",
      "      378            402        1.8756e+00      1.63e-03       5.54e-03       1.41e+00    \n",
      "      379            403        1.8738e+00      1.74e-03       2.88e-03       3.11e+00    \n",
      "      380            404        1.8722e+00      1.62e-03       5.54e-03       1.40e+00    \n",
      "      381            405        1.8705e+00      1.73e-03       2.88e-03       3.09e+00    \n",
      "      382            406        1.8689e+00      1.61e-03       5.54e-03       1.39e+00    \n",
      "      383            407        1.8671e+00      1.72e-03       2.88e-03       3.08e+00    \n",
      "      384            408        1.8655e+00      1.60e-03       5.54e-03       1.39e+00    \n",
      "      385            409        1.8638e+00      1.71e-03       2.87e-03       3.07e+00    \n",
      "      386            410        1.8622e+00      1.58e-03       5.53e-03       1.38e+00    \n",
      "      387            411        1.8605e+00      1.70e-03       2.87e-03       3.05e+00    \n",
      "      388            412        1.8590e+00      1.57e-03       5.53e-03       1.38e+00    \n",
      "      389            413        1.8573e+00      1.69e-03       2.87e-03       3.04e+00    \n",
      "      390            414        1.8557e+00      1.56e-03       5.53e-03       1.37e+00    \n",
      "      391            415        1.8540e+00      1.68e-03       2.87e-03       3.03e+00    \n",
      "      392            416        1.8525e+00      1.55e-03       5.53e-03       1.36e+00    \n",
      "      393            417        1.8508e+00      1.67e-03       2.87e-03       3.02e+00    \n",
      "      394            418        1.8493e+00      1.53e-03       5.53e-03       1.36e+00    \n",
      "      395            419        1.8476e+00      1.66e-03       2.87e-03       3.00e+00    \n",
      "      396            420        1.8461e+00      1.52e-03       5.53e-03       1.35e+00    \n",
      "      397            421        1.8445e+00      1.65e-03       2.87e-03       2.99e+00    \n",
      "      398            422        1.8430e+00      1.51e-03       5.53e-03       1.35e+00    \n",
      "      399            423        1.8413e+00      1.64e-03       2.87e-03       2.98e+00    \n",
      "      400            424        1.8398e+00      1.50e-03       5.52e-03       1.34e+00    \n",
      "      401            425        1.8382e+00      1.63e-03       2.87e-03       2.97e+00    \n",
      "      402            426        1.8367e+00      1.49e-03       5.52e-03       1.33e+00    \n",
      "      403            427        1.8351e+00      1.62e-03       2.87e-03       2.95e+00    \n",
      "      404            428        1.8336e+00      1.48e-03       5.52e-03       1.33e+00    \n",
      "      405            429        1.8320e+00      1.61e-03       2.87e-03       2.93e+00    \n",
      "      406            430        1.8305e+00      1.47e-03       5.52e-03       1.32e+00    \n",
      "      407            431        1.8289e+00      1.60e-03       2.87e-03       2.92e+00    \n",
      "      408            432        1.8275e+00      1.45e-03       5.52e-03       1.31e+00    \n",
      "      409            433        1.8259e+00      1.60e-03       2.87e-03       2.90e+00    \n",
      "      410            434        1.8244e+00      1.44e-03       5.51e-03       1.31e+00    \n",
      "      411            435        1.8229e+00      1.59e-03       2.88e-03       2.89e+00    \n",
      "      412            436        1.8214e+00      1.43e-03       5.51e-03       1.30e+00    \n",
      "      413            437        1.8198e+00      1.58e-03       2.88e-03       2.87e+00    \n",
      "      414            438        1.8184e+00      1.42e-03       5.51e-03       1.29e+00    \n",
      "      415            439        1.8168e+00      1.57e-03       2.88e-03       2.86e+00    \n",
      "      416            440        1.8154e+00      1.41e-03       5.51e-03       1.29e+00    \n",
      "      417            441        1.8139e+00      1.56e-03       2.88e-03       2.84e+00    \n",
      "      418            442        1.8125e+00      1.40e-03       5.51e-03       1.28e+00    \n",
      "      419            443        1.8109e+00      1.56e-03       2.88e-03       2.83e+00    \n",
      "      420            444        1.8095e+00      1.39e-03       5.50e-03       1.28e+00    \n",
      "      421            445        1.8080e+00      1.55e-03       2.88e-03       2.81e+00    \n",
      "      422            446        1.8066e+00      1.38e-03       5.50e-03       1.27e+00    \n",
      "      423            447        1.8050e+00      1.54e-03       2.88e-03       2.80e+00    \n",
      "      424            448        1.8037e+00      1.37e-03       5.50e-03       1.26e+00    \n",
      "      425            449        1.8021e+00      1.53e-03       2.88e-03       2.78e+00    \n",
      "      426            450        1.8008e+00      1.36e-03       5.50e-03       1.26e+00    \n",
      "      427            451        1.7993e+00      1.52e-03       2.89e-03       2.77e+00    \n",
      "      428            452        1.7979e+00      1.35e-03       5.50e-03       1.25e+00    \n",
      "      429            453        1.7964e+00      1.52e-03       2.89e-03       2.75e+00    \n",
      "      430            454        1.7950e+00      1.34e-03       5.49e-03       1.25e+00    \n",
      "      431            455        1.7935e+00      1.51e-03       2.89e-03       2.74e+00    \n",
      "      432            456        1.7922e+00      1.33e-03       5.49e-03       1.24e+00    \n",
      "      433            457        1.7907e+00      1.50e-03       2.89e-03       2.72e+00    \n",
      "      434            458        1.7894e+00      1.32e-03       5.49e-03       1.23e+00    \n",
      "      435            459        1.7879e+00      1.49e-03       2.89e-03       2.71e+00    \n",
      "      436            460        1.7866e+00      1.31e-03       5.49e-03       1.23e+00    \n",
      "      437            461        1.7851e+00      1.49e-03       2.89e-03       2.70e+00    \n",
      "      438            462        1.7838e+00      1.30e-03       5.49e-03       1.22e+00    \n",
      "      439            463        1.7823e+00      1.48e-03       2.89e-03       2.68e+00    \n",
      "      440            464        1.7810e+00      1.29e-03       5.48e-03       1.22e+00    \n",
      "      441            465        1.7795e+00      1.47e-03       2.90e-03       2.67e+00    \n",
      "      442            466        1.7782e+00      1.29e-03       5.48e-03       1.21e+00    \n",
      "      443            467        1.7768e+00      1.46e-03       2.90e-03       2.65e+00    \n",
      "      444            468        1.7755e+00      1.27e-03       5.48e-03       1.20e+00    \n",
      "      445            469        1.7740e+00      1.46e-03       2.90e-03       2.64e+00    \n",
      "      446            470        1.7728e+00      1.27e-03       5.48e-03       1.20e+00    \n",
      "      447            471        1.7713e+00      1.45e-03       2.90e-03       2.63e+00    \n",
      "      448            472        1.7701e+00      1.26e-03       5.48e-03       1.19e+00    \n",
      "      449            473        1.7686e+00      1.44e-03       2.90e-03       2.61e+00    \n",
      "      450            474        1.7674e+00      1.25e-03       5.48e-03       1.19e+00    \n",
      "      451            475        1.7660e+00      1.44e-03       2.91e-03       2.60e+00    \n",
      "      452            476        1.7647e+00      1.24e-03       5.47e-03       1.18e+00    \n",
      "      453            477        1.7633e+00      1.43e-03       2.91e-03       2.59e+00    \n",
      "      454            478        1.7621e+00      1.23e-03       5.47e-03       1.18e+00    \n",
      "      455            479        1.7606e+00      1.42e-03       2.91e-03       2.57e+00    \n",
      "      456            480        1.7594e+00      1.22e-03       5.47e-03       1.17e+00    \n",
      "      457            481        1.7580e+00      1.41e-03       2.91e-03       2.56e+00    \n",
      "      458            482        1.7568e+00      1.21e-03       5.47e-03       1.16e+00    \n",
      "      459            483        1.7554e+00      1.41e-03       2.92e-03       2.55e+00    \n",
      "      460            484        1.7542e+00      1.20e-03       5.47e-03       1.16e+00    \n",
      "      461            485        1.7528e+00      1.40e-03       2.92e-03       2.53e+00    \n",
      "      462            486        1.7516e+00      1.19e-03       5.46e-03       1.15e+00    \n",
      "      463            487        1.7502e+00      1.39e-03       2.92e-03       2.52e+00    \n",
      "      464            488        1.7490e+00      1.18e-03       5.46e-03       1.15e+00    \n",
      "      465            489        1.7476e+00      1.39e-03       2.92e-03       2.51e+00    \n",
      "      466            490        1.7465e+00      1.17e-03       5.46e-03       1.14e+00    \n",
      "      467            491        1.7451e+00      1.38e-03       2.93e-03       2.49e+00    \n",
      "      468            492        1.7439e+00      1.16e-03       5.46e-03       1.14e+00    \n",
      "      469            493        1.7426e+00      1.37e-03       2.93e-03       2.48e+00    \n",
      "      470            494        1.7414e+00      1.15e-03       5.46e-03       1.13e+00    \n",
      "      471            495        1.7400e+00      1.37e-03       2.93e-03       2.47e+00    \n",
      "      472            496        1.7389e+00      1.14e-03       5.46e-03       1.13e+00    \n",
      "      473            497        1.7375e+00      1.36e-03       2.93e-03       2.46e+00    \n",
      "      474            498        1.7364e+00      1.13e-03       5.45e-03       1.12e+00    \n",
      "      475            499        1.7351e+00      1.35e-03       2.94e-03       2.44e+00    \n",
      "      476            500        1.7339e+00      1.13e-03       5.45e-03       1.12e+00    \n",
      "The maximum number of function evaluations is exceeded.\n",
      "Function evaluations 500, initial cost 7.3145e+05, final cost 1.7339e+00, first-order optimality 1.12e+00.\n"
     ]
    }
   ],
   "source": [
    "# Define the objective function\n",
    "def cost_function(x, strikes, mkt_prices):\n",
    "    sigm, lamb, p, eta1, eta2 = x\n",
    "    KOU = Kou_pricer(S0=S0, K=strikes, ttm=T, r=r, sigma=sigm, lambd=lamb, p=p, eta1=eta1, eta2=eta2, exercise=exercise)\n",
    "    sq_err = np.sum(p_weights*(KOU.closed_formula_put(strikes) - mkt_prices)**2)\n",
    "    return sq_err\n",
    "\n",
    "start2=time.time()\n",
    "kou2 = scpo.least_squares(cost_function, x0, args=(put_strikes, put_prices),  method='trf', bounds=bounds, verbose=2)\n",
    "end2=time.time()"
   ],
   "metadata": {
    "collapsed": false
   }
  },
  {
   "cell_type": "code",
   "execution_count": 25,
   "outputs": [],
   "source": [
    "kou_params2 = [round(p,4) for p in kou2.x[:5]]"
   ],
   "metadata": {
    "collapsed": false
   }
  },
  {
   "cell_type": "code",
   "execution_count": 26,
   "outputs": [],
   "source": [
    "# print('WEIGHTED OPT: CURVE_FIT (trf)')\n",
    "# print(f'> Calibrated Volatlity [σ] = {kou_params1[0]} \\t {kou_params1[0] * 100}%')\n",
    "# print('> Calibrated Jump intensity [λ] = ', kou_params1[1])\n",
    "# print(f'> Calibrated Upward Jump probability [p] = {kou_params1[2]}, [q] = {round(1 - kou_params1[2], 2)}')\n",
    "# print('> Calibrated Rate of Exp. 1  [η_1] = ', kou_params1[3])\n",
    "# print('> Calibrated Rate of Exp. 2  [η_2] = ', kou_params1[4])\n",
    "# print(f'TIME ELAPSED: {end1-start1} sec')"
   ],
   "metadata": {
    "collapsed": false
   }
  },
  {
   "cell_type": "code",
   "execution_count": 27,
   "outputs": [
    {
     "name": "stdout",
     "output_type": "stream",
     "text": [
      "METHOD 2: Least-squares\n",
      "> Calibrated Volatlity [σ] = 0.5 \t 50.0%\n",
      "> Calibrated Jump intensity [λ] =  2.49\n",
      "> Calibrated Upward Jump probability [p] = 0.66, [q] = 0.34\n",
      "> Calibrated Rate of Exp. 1  [η_1] =  6.44\n",
      "> Calibrated Rate of Exp. 2  [η_2] =  15.12\n",
      "TIME ELAPSED:  4854.22 sec\n"
     ]
    }
   ],
   "source": [
    "print('METHOD 2: Least-squares')\n",
    "print(f'> Calibrated Volatlity [σ] = {round(kou_params2[0],4)} \\t {round(kou_params2[0]*100,2)}%')\n",
    "print('> Calibrated Jump intensity [λ] = ', round(kou_params2[1],2))\n",
    "print(f'> Calibrated Upward Jump probability [p] = {round(kou_params2[2],2)}, [q] = {round(1-kou_params2[2],2)}')\n",
    "print('> Calibrated Rate of Exp. 1  [η_1] = ', round(kou_params2[3],2))\n",
    "print('> Calibrated Rate of Exp. 2  [η_2] = ', round(kou_params2[4],2))\n",
    "print(f'TIME ELAPSED:  {round(end2-start2,2)} sec')"
   ],
   "metadata": {
    "collapsed": false
   }
  },
  {
   "cell_type": "code",
   "execution_count": 28,
   "outputs": [
    {
     "name": "stdout",
     "output_type": "stream",
     "text": [
      "[0.5, 2.4882, 0.6647, 6.4397, 15.1241]\n"
     ]
    }
   ],
   "source": [
    "#print(kou_params1)\n",
    "print(kou_params2)"
   ],
   "metadata": {
    "collapsed": false
   }
  },
  {
   "cell_type": "markdown",
   "source": [
    "### Variance Gamma\n"
   ],
   "metadata": {
    "collapsed": false
   }
  },
  {
   "cell_type": "code",
   "execution_count": 29,
   "outputs": [],
   "source": [
    "x0 = [0.2, -0.3, 0.1]   # initial guess: [σ, θ, v]\n",
    "bounds = ( [1e-3, -5, 0], [3, 5, 10] )"
   ],
   "metadata": {
    "collapsed": false
   }
  },
  {
   "cell_type": "markdown",
   "source": [
    "##### Method 1. CURVE FIT (Bounds)"
   ],
   "metadata": {
    "collapsed": false
   }
  },
  {
   "cell_type": "code",
   "execution_count": 30,
   "outputs": [],
   "source": [
    "def f_VG(strikes, sigmax, thetax, nux):\n",
    "    VGamma = VG_pricer(S0=S0, K=None, ttm=T, r=r, q=0, sigma=sigmax, theta=thetax, nu=nux, exercise='put')\n",
    "    vg_prices = []\n",
    "    for k in strikes:\n",
    "        vg_prices.append(VGamma.closed_formula_put(k))\n",
    "    return vg_prices\n",
    "\n",
    "start1 = time.time()\n",
    "vg1 = scpo.curve_fit(f_VG, put_strikes, put_prices, p0=x0, bounds=bounds, sigma=p_weights)\n",
    "end1 = time.time()\n",
    "\n",
    "vg_params1 = [round(p,4) for p in vg1[0][:3]]"
   ],
   "metadata": {
    "collapsed": false
   }
  },
  {
   "cell_type": "markdown",
   "source": [
    "##### Method 2. LEAST-SQUARES (Trust Region Reflective, Bounds)"
   ],
   "metadata": {
    "collapsed": false
   }
  },
  {
   "cell_type": "code",
   "execution_count": 31,
   "outputs": [
    {
     "name": "stdout",
     "output_type": "stream",
     "text": [
      "   Iteration     Total nfev        Cost      Cost reduction    Step norm     Optimality   \n",
      "       0              1         2.8361e+03                                    3.15e+04    \n",
      "       1              2         5.0924e+01      2.79e+03       3.61e-01       5.03e+03    \n",
      "       2              5         1.4394e+01      3.65e+01       4.39e-02       7.08e+02    \n",
      "       3              7         1.3331e+01      1.06e+00       1.14e-02       1.78e+02    \n",
      "       4              9         1.3248e+01      8.34e-02       2.29e-03       2.47e+02    \n",
      "       5             10         1.3126e+01      1.22e-01       3.10e-03       1.15e+02    \n",
      "       6             11         1.3021e+01      1.04e-01       2.54e-03       2.16e+02    \n",
      "       7             12         1.2883e+01      1.38e-01       6.20e-03       2.94e+02    \n",
      "       8             14         1.2782e+01      1.02e-01       1.14e-03       1.43e+02    \n",
      "       9             15         1.2722e+01      5.97e-02       1.19e-03       1.64e+02    \n",
      "      10             16         1.2603e+01      1.19e-01       2.95e-03       1.35e+02    \n",
      "      11             17         1.2390e+01      2.13e-01       5.42e-03       2.43e+02    \n",
      "      12             19         1.2267e+01      1.22e-01       3.10e-03       1.22e+02    \n",
      "      13             20         1.2161e+01      1.06e-01       2.60e-03       2.09e+02    \n",
      "      14             21         1.2018e+01      1.44e-01       6.22e-03       2.82e+02    \n",
      "      15             23         1.1921e+01      9.70e-02       1.13e-03       1.33e+02    \n",
      "      16             24         1.1862e+01      5.87e-02       1.22e-03       1.65e+02    \n",
      "      17             25         1.1744e+01      1.18e-01       2.99e-03       1.36e+02    \n",
      "      18             26         1.1536e+01      2.08e-01       5.47e-03       2.42e+02    \n",
      "      19             27         1.1521e+01      1.54e-02       1.24e-02       5.73e+02    \n",
      "      20             28         1.1138e+01      3.83e-01       2.32e-03       2.52e+02    \n",
      "      21             29         1.1028e+01      1.09e-01       2.26e-03       2.13e+02    \n",
      "      22             30         1.0918e+01      1.10e-01       3.12e-03       1.14e+02    \n",
      "      23             31         1.0802e+01      1.16e-01       5.09e-03       3.20e+02    \n",
      "      24             32         1.0542e+01      2.61e-01       6.00e-03       1.52e+02    \n",
      "      25             33         1.0524e+01      1.72e-02       4.77e-03       3.70e+02    \n",
      "      26             34         1.0401e+01      1.23e-01       1.46e-03       3.12e+02    \n",
      "      27             35         1.0227e+01      1.74e-01       3.00e-03       2.00e+02    \n",
      "      28             36         1.0073e+01      1.54e-01       6.27e-03       2.51e+02    \n",
      "      29             38         9.9871e+00      8.61e-02       1.13e-03       1.17e+02    \n",
      "      30             39         9.9309e+00      5.62e-02       1.29e-03       1.65e+02    \n",
      "      31             40         9.8178e+00      1.13e-01       3.05e-03       1.37e+02    \n",
      "      32             41         9.6207e+00      1.97e-01       5.60e-03       2.34e+02    \n",
      "      33             42         9.5476e+00      7.32e-02       1.24e-02       5.17e+02    \n",
      "      34             43         9.2139e+00      3.34e-01       2.30e-03       2.05e+02    \n",
      "      35             44         9.1259e+00      8.80e-02       2.29e-03       2.15e+02    \n",
      "      36             45         9.0121e+00      1.14e-01       3.13e-03       1.31e+02    \n",
      "      37             46         8.8431e+00      1.69e-01       5.52e-03       2.51e+02    \n",
      "      38             47         8.6445e+00      1.99e-01       6.11e-03       1.83e+02    \n",
      "      39             49         8.5798e+00      6.47e-02       1.16e-03       1.44e+02    \n",
      "      40             50         8.5246e+00      5.51e-02       1.47e-03       1.56e+02    \n",
      "      41             51         8.4146e+00      1.10e-01       3.05e-03       1.46e+02    \n",
      "      42             52         8.2010e+00      2.14e-01       5.92e-03       1.83e+02    \n",
      "      43             53         8.0524e+00      1.49e-01       1.26e-02       4.47e+02    \n",
      "      44             55         7.7800e+00      2.72e-01       2.28e-03       1.43e+02    \n",
      "      45             56         7.7058e+00      7.42e-02       2.43e-03       2.10e+02    \n",
      "      46             57         7.5924e+00      1.13e-01       3.12e-03       1.38e+02    \n",
      "      47             58         7.4014e+00      1.91e-01       5.82e-03       2.04e+02    \n",
      "      48             59         7.2837e+00      1.18e-01       1.25e-02       4.52e+02    \n",
      "      49             60         7.0049e+00      2.79e-01       2.27e-03       1.51e+02    \n",
      "      50             61         6.9342e+00      7.07e-02       2.40e-03       2.03e+02    \n",
      "      51             62         6.8236e+00      1.11e-01       3.11e-03       1.37e+02    \n",
      "      52             63         6.6331e+00      1.90e-01       5.93e-03       1.88e+02    \n",
      "      53             64         6.4976e+00      1.35e-01       1.26e-02       4.24e+02    \n",
      "      54             66         6.2423e+00      2.55e-01       2.26e-03       1.28e+02    \n",
      "      55             67         6.1753e+00      6.70e-02       2.48e-03       1.95e+02    \n",
      "      56             68         6.0681e+00      1.07e-01       3.10e-03       1.35e+02    \n",
      "      57             69         5.8806e+00      1.87e-01       6.02e-03       1.73e+02    \n",
      "      58             70         5.7257e+00      1.55e-01       1.27e-02       3.91e+02    \n",
      "      59             72         5.4970e+00      2.29e-01       2.26e-03       1.06e+02    \n",
      "      60             73         5.4298e+00      6.72e-02       2.61e-03       1.83e+02    \n",
      "      61             74         5.3285e+00      1.01e-01       3.10e-03       1.30e+02    \n",
      "      62             75         5.1525e+00      1.76e-01       6.05e-03       1.68e+02    \n",
      "      63             76         5.0055e+00      1.47e-01       1.26e-02       3.76e+02    \n",
      "      64             78         4.7880e+00      2.18e-01       2.26e-03       1.06e+02    \n",
      "      65             79         4.7243e+00      6.37e-02       2.66e-03       1.73e+02    \n",
      "      66             80         4.6279e+00      9.64e-02       3.09e-03       1.25e+02    \n",
      "      67             81         4.4595e+00      1.68e-01       6.11e-03       1.56e+02    \n",
      "      68             82         4.3083e+00      1.51e-01       1.26e-02       3.51e+02    \n",
      "      69             84         4.1112e+00      1.97e-01       2.25e-03       1.07e+02    \n",
      "      70             85         4.0460e+00      6.51e-02       2.79e-03       1.58e+02    \n",
      "      71             86         3.9577e+00      8.83e-02       3.10e-03       1.17e+02    \n",
      "      72             87         3.8099e+00      1.48e-01       6.07e-03       1.58e+02    \n",
      "      73             88         3.6938e+00      1.16e-01       1.23e-02       3.53e+02    \n",
      "      74             90         3.4927e+00      2.01e-01       2.25e-03       9.80e+01    \n",
      "      75             91         3.4399e+00      5.27e-02       2.71e-03       1.53e+02    \n",
      "      76             92         3.3535e+00      8.64e-02       3.04e-03       1.14e+02    \n",
      "      77             93         3.2007e+00      1.53e-01       6.26e-03       1.26e+02    \n",
      "      78             94         3.0221e+00      1.79e-01       1.28e-02       2.74e+02    \n",
      "      79             96         2.8872e+00      1.35e-01       2.26e-03       1.12e+02    \n",
      "      80             97         2.8151e+00      7.21e-02       3.20e-03       1.02e+02    \n",
      "      81             98         2.7039e+00      1.11e-01       6.04e-03       1.46e+02    \n",
      "      82             99         2.5784e+00      1.26e-01       5.78e-03       1.13e+02    \n",
      "      83             101        2.5410e+00      3.74e-02       1.22e-03       1.07e+02    \n",
      "      84             102        2.5066e+00      3.43e-02       1.61e-03       1.01e+02    \n",
      "      85             103        2.4395e+00      6.71e-02       3.12e-03       1.09e+02    \n",
      "      86             104        2.3243e+00      1.15e-01       6.42e-03       1.11e+02    \n",
      "      87             106        2.2945e+00      2.99e-02       2.43e-03       1.34e+02    \n",
      "      88             107        2.2162e+00      7.82e-02       2.87e-03       1.01e+02    \n",
      "      89             108        2.0976e+00      1.19e-01       6.43e-03       8.28e+01    \n",
      "      90             110        2.0715e+00      2.61e-02       2.56e-03       1.28e+02    \n",
      "      91             111        1.9959e+00      7.55e-02       2.83e-03       9.68e+01    \n",
      "      92             112        1.8873e+00      1.09e-01       6.44e-03       9.29e+01    \n",
      "      93             114        1.8659e+00      2.14e-02       2.48e-03       1.22e+02    \n",
      "      94             115        1.8435e+00      2.24e-02       6.94e-04       1.15e+02    \n",
      "      95             116        1.8059e+00      3.76e-02       1.45e-03       1.01e+02    \n",
      "      96             117        1.7485e+00      5.74e-02       3.14e-03       8.07e+01    \n",
      "      97             118        1.7047e+00      4.38e-02       5.88e-03       1.32e+02    \n",
      "      98             119        1.5738e+00      1.31e-01       4.96e-03       7.10e+01    \n",
      "      99             121        1.5500e+00      2.37e-02       1.34e-03       9.06e+01    \n",
      "      100            122        1.5219e+00      2.81e-02       1.59e-03       8.24e+01    \n",
      "      101            123        1.4680e+00      5.39e-02       3.20e-03       8.01e+01    \n",
      "      102            124        1.3639e+00      1.04e-01       6.37e-03       8.25e+01    \n",
      "      103            125        1.2288e+00      1.35e-01       1.28e-02       1.81e+02    \n",
      "      104            127        1.1627e+00      6.61e-02       2.27e-03       8.37e+01    \n",
      "      105            128        1.1159e+00      4.67e-02       3.01e-03       6.56e+01    \n",
      "      106            129        1.0869e+00      2.90e-02       5.96e-03       1.02e+02    \n",
      "      107            130        9.8408e-01      1.03e-01       4.63e-03       5.67e+01    \n",
      "      108            132        9.6687e-01      1.72e-02       1.29e-03       7.18e+01    \n",
      "      109            133        9.4460e-01      2.23e-02       1.56e-03       6.49e+01    \n",
      "      110            134        9.0351e-01      4.11e-02       3.22e-03       5.94e+01    \n",
      "      111            135        8.6598e-01      3.75e-02       6.07e-03       8.57e+01    \n",
      "      112            136        7.8876e-01      7.72e-02       4.68e-03       7.03e+01    \n",
      "      113            138        7.7124e-01      1.75e-02       1.22e-03       6.20e+01    \n",
      "      114            139        7.5202e-01      1.92e-02       1.57e-03       5.63e+01    \n",
      "      115            140        7.1556e-01      3.65e-02       3.21e-03       5.42e+01    \n",
      "      116            141        6.4729e-01      6.83e-02       6.38e-03       5.54e+01    \n",
      "      117            142        5.8760e-01      5.97e-02       1.25e-02       1.67e+02    \n",
      "      118            144        5.2232e-01      6.53e-02       2.25e-03       4.98e+01    \n",
      "      119            145        4.9534e-01      2.70e-02       3.01e-03       3.95e+01    \n",
      "      120            147        4.8598e-01      9.36e-03       1.39e-03       4.81e+01    \n",
      "      121            148        4.7088e-01      1.51e-02       1.47e-03       4.27e+01    \n",
      "      122            149        4.4486e-01      2.60e-02       3.21e-03       3.76e+01    \n",
      "      123            151        4.3545e-01      9.41e-03       1.44e-03       4.42e+01    \n",
      "      124            152        4.2166e-01      1.38e-02       1.48e-03       3.93e+01    \n",
      "      125            153        3.9743e-01      2.42e-02       3.21e-03       3.50e+01    \n",
      "      126            155        3.8876e-01      8.68e-03       1.45e-03       4.08e+01    \n",
      "      127            156        3.7603e-01      1.27e-02       1.47e-03       3.62e+01    \n",
      "      128            157        3.5368e-01      2.23e-02       3.21e-03       3.23e+01    \n",
      "      129            159        3.4592e-01      7.77e-03       1.46e-03       3.75e+01    \n",
      "      130            160        3.3418e-01      1.17e-02       1.45e-03       3.32e+01    \n",
      "      131            161        3.1368e-01      2.05e-02       3.21e-03       2.96e+01    \n",
      "      132            163        3.0687e-01      6.82e-03       1.45e-03       3.44e+01    \n",
      "      133            164        2.9607e-01      1.08e-02       1.43e-03       3.03e+01    \n",
      "      134            165        2.7738e-01      1.87e-02       3.21e-03       2.70e+01    \n",
      "      135            167        2.7152e-01      5.86e-03       1.45e-03       3.15e+01    \n",
      "      136            168        2.6160e-01      9.92e-03       1.40e-03       2.75e+01    \n",
      "      137            169        2.4466e-01      1.69e-02       3.21e-03       2.44e+01    \n",
      "      138            171        2.3976e-01      4.90e-03       1.44e-03       2.86e+01    \n",
      "      139            172        2.3066e-01      9.09e-03       1.37e-03       2.49e+01    \n",
      "      140            173        2.1540e-01      1.53e-02       3.21e-03       2.20e+01    \n",
      "      141            175        2.1144e-01      3.96e-03       1.43e-03       2.59e+01    \n",
      "      142            176        2.0313e-01      8.31e-03       1.33e-03       2.24e+01    \n",
      "      143            177        1.8942e-01      1.37e-02       3.21e-03       1.98e+01    \n",
      "      144            179        1.8633e-01      3.09e-03       1.43e-03       2.34e+01    \n",
      "      145            180        1.7873e-01      7.60e-03       1.29e-03       2.01e+01    \n",
      "      146            181        1.6649e-01      1.22e-02       3.20e-03       1.77e+01    \n",
      "      147            183        1.6424e-01      2.25e-03       1.42e-03       2.11e+01    \n",
      "      148            184        1.5725e-01      6.99e-03       1.26e-03       1.80e+01    \n",
      "      149            185        1.5158e-01      5.67e-03       1.60e-03       1.68e+01    \n",
      "      150            186        1.4496e-01      6.62e-03       3.10e-03       1.91e+01    \n",
      "      151            187        1.3639e-01      8.57e-03       2.36e-03       2.09e+01    \n",
      "      152            189        1.3366e-01      2.73e-03       6.09e-04       1.57e+01    \n",
      "      153            190        1.3114e-01      2.52e-03       7.86e-04       1.50e+01    \n",
      "      154            191        1.2631e-01      4.83e-03       1.60e-03       1.43e+01    \n",
      "      155            192        1.1821e-01      8.10e-03       3.16e-03       1.47e+01    \n",
      "      156            194        1.1387e-01      4.34e-03       1.38e-03       1.27e+01    \n",
      "      157            195        1.1141e-01      2.47e-03       1.51e-03       1.41e+01    \n",
      "      158            196        1.0706e-01      4.34e-03       1.31e-03       1.20e+01    \n",
      "      159            197        1.0410e-01      2.97e-03       1.54e-03       1.29e+01    \n",
      "      160            198        1.0037e-01      3.73e-03       1.38e-03       1.11e+01    \n",
      "      161            199        9.9180e-02      1.19e-03       1.46e-03       1.28e+01    \n",
      "      162            200        9.4831e-02      4.35e-03       1.22e-03       1.07e+01    \n",
      "      163            201        9.1404e-02      3.43e-03       1.59e-03       1.06e+01    \n",
      "      164            202        8.5710e-02      5.69e-03       3.18e-03       1.27e+01    \n",
      "      165            205        8.4587e-02      1.12e-03       3.06e-04       9.34e+00    \n",
      "      166            206        8.3827e-02      7.60e-04       3.88e-04       9.49e+00    \n",
      "      167            207        8.2292e-02      1.54e-03       8.05e-04       9.12e+00    \n",
      "      168            208        7.9521e-02      2.77e-03       1.59e-03       9.22e+00    \n",
      "      169            209        7.5943e-02      3.58e-03       3.06e-03       1.82e+01    \n",
      "      170            211        7.3866e-02      2.08e-03       5.80e-04       8.27e+00    \n",
      "      171            212        7.2534e-02      1.33e-03       8.00e-04       7.84e+00    \n",
      "      172            213        7.0192e-02      2.34e-03       1.59e-03       7.95e+00    \n",
      "      173            214        6.7744e-02      2.45e-03       3.03e-03       1.92e+01    \n",
      "      174            216        6.5431e-02      2.31e-03       5.73e-04       6.99e+00    \n",
      "      175            217        6.4289e-02      1.14e-03       8.16e-04       6.68e+00    \n",
      "      176            218        6.2514e-02      1.77e-03       1.58e-03       6.94e+00    \n",
      "      177            219        6.1667e-02      8.47e-04       2.83e-03       2.20e+01    \n",
      "      178            220        5.8713e-02      2.95e-03       5.67e-04       5.82e+00    \n",
      "      179            221        5.8072e-02      6.42e-04       7.51e-04       6.19e+00    \n",
      "      180            222        5.7019e-02      1.05e-03       7.31e-04       5.68e+00    \n",
      "      181            223        5.5140e-02      1.88e-03       1.64e-03       5.48e+00    \n",
      "      182            224        5.2338e-02      2.80e-03       3.30e-03       1.04e+01    \n",
      "      183            226        5.1721e-02      6.17e-04       5.83e-04       5.17e+00    \n",
      "      184            227        5.1424e-02      2.97e-04       1.77e-04       5.05e+00    \n",
      "      185            228        5.0938e-02      4.86e-04       3.76e-04       4.83e+00    \n",
      "      186            229        5.0152e-02      7.86e-04       8.27e-04       4.52e+00    \n",
      "      187            230        4.9958e-02      1.94e-04       1.54e-03       5.98e+00    \n",
      "      188            231        4.9115e-02      8.43e-04       2.91e-04       4.80e+00    \n",
      "      189            232        4.8089e-02      1.03e-03       6.47e-04       4.32e+00    \n",
      "      190            233        4.7375e-02      7.14e-04       8.41e-04       4.06e+00    \n",
      "      191            235        4.7076e-02      2.99e-04       3.82e-04       4.19e+00    \n",
      "      192            236        4.6705e-02      3.71e-04       4.13e-04       4.03e+00    \n",
      "      193            237        4.6016e-02      6.89e-04       8.47e-04       3.84e+00    \n",
      "      194            238        4.5662e-02      3.54e-04       1.58e-03       5.33e+00    \n",
      "      195            239        4.4965e-02      6.97e-04       2.98e-04       4.16e+00    \n",
      "      196            240        4.4176e-02      7.88e-04       6.76e-04       3.57e+00    \n",
      "      197            241        4.3546e-02      6.30e-04       8.50e-04       3.47e+00    \n",
      "      198            242        4.2396e-02      1.15e-03       1.72e-03       3.11e+00    \n",
      "      199            245        4.2245e-02      1.50e-04       1.69e-04       3.22e+00    \n",
      "      200            246        4.2100e-02      1.45e-04       2.17e-04       3.17e+00    \n",
      "      201            247        4.1813e-02      2.87e-04       4.30e-04       3.13e+00    \n",
      "      202            248        4.1258e-02      5.55e-04       8.67e-04       2.97e+00    \n",
      "      203            249        4.1072e-02      1.85e-04       1.62e-03       5.04e+00    \n",
      "      204            250        4.0451e-02      6.21e-04       2.92e-04       3.90e+00    \n",
      "      205            251        3.9818e-02      6.33e-04       6.70e-04       2.70e+00    \n",
      "      206            252        3.9434e-02      3.85e-04       8.37e-04       3.04e+00    \n",
      "      207            253        3.8996e-02      4.37e-04       7.77e-04       2.51e+00    \n",
      "      208            255        3.8880e-02      1.16e-04       1.69e-04       2.55e+00    \n",
      "      209            256        3.8759e-02      1.21e-04       2.23e-04       2.51e+00    \n",
      "      210            257        3.8524e-02      2.36e-04       4.43e-04       2.45e+00    \n",
      "      211            258        3.8077e-02      4.46e-04       8.77e-04       2.40e+00    \n",
      "      212            259        3.7486e-02      5.92e-04       1.77e-03       5.91e+00    \n",
      "      213            261        3.7192e-02      2.94e-04       2.88e-04       2.39e+00    \n",
      "      214            262        3.6982e-02      2.10e-04       4.38e-04       2.09e+00    \n",
      "      215            263        3.6682e-02      3.00e-04       8.62e-04       2.90e+00    \n",
      "      216            264        3.6351e-02      3.31e-04       7.71e-04       2.82e+00    \n",
      "      217            266        3.6247e-02      1.04e-04       1.58e-04       2.05e+00    \n",
      "      218            267        3.6149e-02      9.80e-05       2.30e-04       1.92e+00    \n",
      "      219            268        3.5957e-02      1.92e-04       4.56e-04       1.91e+00    \n",
      "      220            269        3.5594e-02      3.63e-04       9.22e-04       1.74e+00    \n",
      "      221            271        3.5520e-02      7.41e-05       3.87e-04       2.77e+00    \n",
      "      222            272        3.5307e-02      2.13e-04       3.90e-04       1.89e+00    \n",
      "      223            273        3.5134e-02      1.73e-04       4.67e-04       1.66e+00    \n",
      "      224            274        3.5023e-02      1.11e-04       8.52e-04       3.27e+00    \n",
      "      225            275        3.4651e-02      3.72e-04       6.77e-04       1.98e+00    \n",
      "      226            277        3.4584e-02      6.73e-05       1.68e-04       2.12e+00    \n",
      "      227            278        3.4498e-02      8.60e-05       2.32e-04       1.84e+00    \n",
      "      228            279        3.4340e-02      1.58e-04       4.75e-04       1.61e+00    \n",
      "      229            280        3.4307e-02      3.21e-05       8.51e-04       3.38e+00    \n",
      "      230            281        3.4131e-02      1.76e-04       1.62e-04       2.87e+00    \n",
      "      231            282        3.3917e-02      2.14e-04       3.65e-04       1.92e+00    \n",
      "      232            283        3.3773e-02      1.44e-04       4.82e-04       1.53e+00    \n",
      "      233            285        3.3715e-02      5.72e-05       2.04e-04       2.08e+00    \n",
      "      234            286        3.3637e-02      7.82e-05       2.34e-04       1.78e+00    \n",
      "      235            287        3.3495e-02      1.43e-04       4.86e-04       1.57e+00    \n",
      "      236            289        3.3435e-02      5.94e-05       2.16e-04       2.02e+00    \n",
      "      237            290        3.3361e-02      7.42e-05       2.38e-04       1.74e+00    \n",
      "      238            291        3.3220e-02      1.41e-04       4.88e-04       1.68e+00    \n",
      "      239            292        3.2967e-02      2.53e-04       9.62e-04       2.13e+00    \n",
      "      240            294        3.2843e-02      1.24e-04       4.55e-04       1.42e+00    \n",
      "      241            296        3.2811e-02      3.22e-05       9.72e-05       1.75e+00    \n",
      "      242            297        3.2778e-02      3.29e-05       1.25e-04       1.68e+00    \n",
      "      243            298        3.2713e-02      6.52e-05       2.47e-04       1.70e+00    \n",
      "      244            299        3.2586e-02      1.27e-04       5.00e-04       1.56e+00    \n",
      "      245            300        3.2521e-02      6.49e-05       9.23e-04       2.95e+00    \n",
      "The maximum number of function evaluations is exceeded.\n",
      "Function evaluations 300, initial cost 2.8361e+03, final cost 3.2521e-02, first-order optimality 2.95e+00.\n"
     ]
    }
   ],
   "source": [
    "def cost_function(x, strikes, mkt_prices):\n",
    "    sigma, theta, nu = x\n",
    "    VG = VG_pricer(S0, None, T, r, q, sigma, theta, nu, exercise)\n",
    "    prices = []\n",
    "    for k in strikes:\n",
    "        prices.append(VG.closed_formula_put(k))\n",
    "    sq_err = np.sum(p_weights*(prices - mkt_prices)**2)\n",
    "    return sq_err\n",
    "\n",
    "start2=time.time()\n",
    "vg2 = scpo.least_squares(cost_function, x0, args=(put_strikes, put_prices),  method='trf', bounds=bounds, verbose=2, loss='soft_l1')\n",
    "end2=time.time()\n",
    "\n",
    "vg_params2 = [round(p,4) for p in vg2.x[:3]]"
   ],
   "metadata": {
    "collapsed": false
   }
  },
  {
   "cell_type": "code",
   "execution_count": 32,
   "outputs": [
    {
     "name": "stdout",
     "output_type": "stream",
     "text": [
      "WEIGHTED OPT: CURVE_FIT (trf)\n",
      "> Calibrated Volatlity [σ] = 0.6396, \t 63.96%\n",
      "> Calibrated mean rate gamma process [θ] =  0.164\n",
      "> Calibrated variance rate gamma process [v]=  0.7686\n",
      "TIME ELAPSED:  20.33 sec\n",
      "METHOD 1: LEAST-SQUARES (trf)\n",
      "> Calibrated Volatlity [σ] = 0.6145, \t 61.45%\n",
      "> Calibrated mean rate gamma process [θ] =  0.1877\n",
      "> Calibrated variance rate gamma process [v]=  0.338\n",
      "TIME ELAPSED:  153.76 sec\n"
     ]
    }
   ],
   "source": [
    "print('WEIGHTED OPT: CURVE_FIT (trf)')\n",
    "print(f'> Calibrated Volatlity [σ] = {vg_params1[0]}, \\t {round(vg_params1[0]*100,2)}%')\n",
    "print('> Calibrated mean rate gamma process [θ] = ', vg_params1[1])\n",
    "print('> Calibrated variance rate gamma process [v]= ', vg_params1[2])\n",
    "print(f'TIME ELAPSED:  {round(end1-start1,2)} sec')\n",
    "\n",
    "print('METHOD 1: LEAST-SQUARES (trf)')\n",
    "print(f'> Calibrated Volatlity [σ] = {vg_params2[0]}, \\t {round(vg_params2[0]*100,2)}%')\n",
    "print('> Calibrated mean rate gamma process [θ] = ', vg_params2[1])\n",
    "print('> Calibrated variance rate gamma process [v]= ', vg_params2[2])\n",
    "print(f'TIME ELAPSED:  {round(end2-start2,2)} sec')"
   ],
   "metadata": {
    "collapsed": false
   }
  },
  {
   "cell_type": "code",
   "execution_count": 33,
   "outputs": [
    {
     "name": "stdout",
     "output_type": "stream",
     "text": [
      "[0.6396, 0.164, 0.7686]\n",
      "[0.6145, 0.1877, 0.338]\n"
     ]
    }
   ],
   "source": [
    "print(vg_params1)\n",
    "print(vg_params2)"
   ],
   "metadata": {
    "collapsed": false
   }
  },
  {
   "cell_type": "markdown",
   "source": [
    "### Reprice of options using calibrated parameters\n",
    "The following code snippet aims to find the best parameters for each model, minimizing the difference between the monte carlo prices and the market prices of **call** and **put** options."
   ],
   "metadata": {
    "collapsed": false
   },
   "outputs": []
  },
  {
   "cell_type": "code",
   "execution_count": 34,
   "outputs": [
    {
     "name": "stdout",
     "output_type": "stream",
     "text": [
      "MARKET PRICES. STARTING DATE = 20-01-2016. EXPIRY = 1YEAR. \n",
      "\n",
      "   STRIKE  MKT_BID  MKT_MID  MKT_ASK\n",
      "0   150.0    18.55   19.245    19.94\n",
      "1   155.0    20.40   20.855    21.31\n",
      "2   160.0    22.20   22.775    23.35\n",
      "3   165.0    24.55   25.175    25.80\n",
      "4   170.0    26.70   27.375    28.05\n",
      "5   180.0    30.25   31.500    32.75\n",
      "6   190.0    36.25   37.350    38.45\n",
      "7   195.0    39.16   39.880    40.60\n",
      "8   220.0    54.46   55.230    56.00\n",
      "9   240.0    68.36   69.105    69.85\n"
     ]
    }
   ],
   "source": [
    "days = 252\n",
    "paths = 5000\n",
    "\n",
    "put_calib_prices = pd.DataFrame({\n",
    "    'STRIKE': puts['STRIKE'],    # array of K for call options\n",
    "    'MKT_BID': puts['P_BID'],\n",
    "    'MKT_MID': puts['P_Midpoint'],\n",
    "    'MKT_ASK': puts['P_ASK'],\n",
    "\n",
    "})\n",
    "print(f'MARKET PRICES. STARTING DATE = 20-01-2016. EXPIRY = 1YEAR. \\n\\n{put_calib_prices}')"
   ],
   "metadata": {
    "collapsed": false
   }
  },
  {
   "cell_type": "markdown",
   "source": [
    "#### Merton Jump Diffusion model"
   ],
   "metadata": {
    "collapsed": false
   }
  },
  {
   "cell_type": "code",
   "execution_count": 35,
   "outputs": [
    {
     "name": "stdout",
     "output_type": "stream",
     "text": [
      "   STRIKE  MKT_BID  MKT_MID  MKT_ASK  MERTON MC  MERTON CF\n",
      "0   150.0    18.55   19.245    19.94  17.302909  17.618990\n",
      "1   155.0    20.40   20.855    21.31  19.481410  19.809888\n",
      "2   160.0    22.20   22.775    23.35  21.770045  22.114119\n",
      "3   165.0    24.55   25.175    25.80  24.181079  24.527508\n",
      "4   170.0    26.70   27.375    28.05  26.688902  27.045885\n",
      "5   180.0    30.25   31.500    32.75  31.961263  32.380807\n",
      "6   190.0    36.25   37.350    38.45  37.609946  38.085253\n",
      "7   195.0    39.16   39.880    40.60  40.564267  41.065736\n",
      "8   220.0    54.46   55.230    56.00  56.524693  57.098831\n",
      "9   240.0    68.36   69.105    69.85  70.495875  71.083798\n"
     ]
    }
   ],
   "source": [
    "#mert_params2 = [0.1267, 0.951, -0.1182, 0.2691]\n",
    "sigma, lambd, meanJ, stdJ = mert_params2\n",
    "MertonCAL = Merton_pricer(S0, None, T, r, q, sigma, lambd, meanJ, stdJ, exercise)\n",
    "SMerton_CAL = MertonCAL.MertonPath(days, paths)\n",
    "\n",
    "avg_payoffs = []\n",
    "for K in put_strikes:\n",
    "    payoffs = []        # stores here the payoff for each path, for a specific couple K1-K2\n",
    "    for St in SMerton_CAL[-1]:\n",
    "        payoffs.append(MertonCAL.payoff_put(K, St))\n",
    "    avg_payoffs.append(np.mean(payoffs))\n",
    "\n",
    "merton_mc_prices = np.zeros(len(put_calib_prices))\n",
    "merton_cf_prices = np.zeros(len(put_calib_prices))\n",
    "\n",
    "for index in range(len(put_calib_prices)):\n",
    "    merton_mc_prices[index] = np.exp(-r*T)* avg_payoffs[index]\n",
    "    merton_cf_prices[index] = MertonCAL.closed_formula_put(put_strikes[index])\n",
    "\n",
    "put_calib_prices['MERTON MC'] = merton_mc_prices\n",
    "put_calib_prices['MERTON CF'] = merton_cf_prices\n",
    "\n",
    "print(put_calib_prices)"
   ],
   "metadata": {
    "collapsed": false
   }
  },
  {
   "cell_type": "code",
   "execution_count": 36,
   "outputs": [
    {
     "name": "stdout",
     "output_type": "stream",
     "text": [
      "   STRIKE  MKT_BID  MKT_MID  MKT_ASK  MERTON MC  MERTON CF     KOU MC   \n",
      "0   150.0    18.55   19.245    19.94  17.302909  17.618990  18.183036  \\\n",
      "1   155.0    20.40   20.855    21.31  19.481410  19.809888  20.292190   \n",
      "2   160.0    22.20   22.775    23.35  21.770045  22.114119  22.517598   \n",
      "3   165.0    24.55   25.175    25.80  24.181079  24.527508  24.840741   \n",
      "4   170.0    26.70   27.375    28.05  26.688902  27.045885  27.283565   \n",
      "5   180.0    30.25   31.500    32.75  31.961263  32.380807  32.491603   \n",
      "6   190.0    36.25   37.350    38.45  37.609946  38.085253  38.056274   \n",
      "7   195.0    39.16   39.880    40.60  40.564267  41.065736  40.970363   \n",
      "8   220.0    54.46   55.230    56.00  56.524693  57.098831  56.699540   \n",
      "9   240.0    68.36   69.105    69.85  70.495875  71.083798  70.481671   \n",
      "\n",
      "      KOU CF  \n",
      "0  18.242252  \n",
      "1  20.317529  \n",
      "2  22.501882  \n",
      "3  24.792380  \n",
      "4  27.185940  \n",
      "5  32.269392  \n",
      "6  37.725977  \n",
      "7  40.585896  \n",
      "8  56.071893  \n",
      "9  69.701315  \n"
     ]
    }
   ],
   "source": [
    "#kou_params2 = [0.1278, 0.948, 0.3549, 5.7153, 4.232]\n",
    "sigma, lambd, p, eta1, eta2 = kou_params2\n",
    "KouCAL = Kou_pricer(S0, None, T, r, sigma, lambd, p, eta1, eta2, exercise)\n",
    "SKou_CAL = KouCAL.KouPath(days, paths)\n",
    "\n",
    "avg_payoffs = []\n",
    "for k in put_strikes:\n",
    "    payoffs = []        # stores here the payoff for each path, for a specific couple K1-K2\n",
    "    for St in SKou_CAL[-1]:\n",
    "        payoffs.append(KouCAL.payoff_put(k, St))\n",
    "    avg_payoffs.append(np.mean(payoffs))\n",
    "\n",
    "kou_mc_prices = np.zeros(len(put_calib_prices))\n",
    "kou_cf_prices = np.zeros(len(put_calib_prices))\n",
    "\n",
    "for index in range(len(put_calib_prices)):\n",
    "    kou_mc_prices[index] = np.exp(-r*T)* avg_payoffs[index]\n",
    "    kou_cf_prices[index] = KouCAL.closed_formula_put(put_strikes[index])\n",
    "\n",
    "put_calib_prices['KOU MC'] = kou_mc_prices\n",
    "put_calib_prices['KOU CF'] = kou_cf_prices\n",
    "\n",
    "print(put_calib_prices)"
   ],
   "metadata": {
    "collapsed": false
   }
  },
  {
   "cell_type": "code",
   "execution_count": 37,
   "outputs": [
    {
     "name": "stdout",
     "output_type": "stream",
     "text": [
      "   STRIKE  MKT_BID  MKT_MID  MKT_ASK  MERTON MC  MERTON CF     KOU MC   \n",
      "0   150.0    18.55   19.245    19.94  17.302909  17.618990  18.183036  \\\n",
      "1   155.0    20.40   20.855    21.31  19.481410  19.809888  20.292190   \n",
      "2   160.0    22.20   22.775    23.35  21.770045  22.114119  22.517598   \n",
      "3   165.0    24.55   25.175    25.80  24.181079  24.527508  24.840741   \n",
      "4   170.0    26.70   27.375    28.05  26.688902  27.045885  27.283565   \n",
      "5   180.0    30.25   31.500    32.75  31.961263  32.380807  32.491603   \n",
      "6   190.0    36.25   37.350    38.45  37.609946  38.085253  38.056274   \n",
      "7   195.0    39.16   39.880    40.60  40.564267  41.065736  40.970363   \n",
      "8   220.0    54.46   55.230    56.00  56.524693  57.098831  56.699540   \n",
      "9   240.0    68.36   69.105    69.85  70.495875  71.083798  70.481671   \n",
      "\n",
      "      KOU CF      VG MC      VG CF  \n",
      "0  18.242252  19.927922  18.872117  \n",
      "1  20.317529  22.138963  20.827687  \n",
      "2  22.501882  24.474064  22.890480  \n",
      "3  24.792380  26.935082  25.059495  \n",
      "4  27.185940  29.509461  27.333401  \n",
      "5  32.269392  34.948430  32.189038  \n",
      "6  37.725977  40.765486  37.440979  \n",
      "7  40.585896  43.800481  40.209376  \n",
      "8  56.071893  60.070771  55.359226  \n",
      "9  69.701315  74.167417  68.858732  \n"
     ]
    }
   ],
   "source": [
    "# vg_params2 = [0.2442, 0.1983, 0.9451]\n",
    "sigma, theta, nu = vg_params2\n",
    "VGCAL = VG_pricer(S0, None, T, r, q, sigma, theta, nu, exercise)\n",
    "SVarGamma_CAL = VGCAL.VarianceGammaPath1(days, paths)\n",
    "\n",
    "avg_payoffs = []\n",
    "for K in put_strikes:\n",
    "    payoffs = []        # stores here the payoff for each path, for a specific couple K1-K2\n",
    "    for St in SVarGamma_CAL[-1]:\n",
    "        payoffs.append(VGCAL.payoff_put(K, St))\n",
    "    avg_payoffs.append(np.mean(payoffs))\n",
    "\n",
    "vg_mc_prices = np.zeros(len(put_calib_prices))\n",
    "vg_cf_prices = np.zeros(len(put_calib_prices))\n",
    "\n",
    "for index in range(len(put_calib_prices)):\n",
    "    vg_mc_prices[index] = np.exp(-r*T)* avg_payoffs[index]\n",
    "    vg_cf_prices[index] = VGCAL.closed_formula_put(put_strikes[index])\n",
    "\n",
    "put_calib_prices['VG MC'] = vg_mc_prices\n",
    "put_calib_prices['VG CF'] = vg_cf_prices\n",
    "\n",
    "print(put_calib_prices)"
   ],
   "metadata": {
    "collapsed": false
   }
  },
  {
   "cell_type": "markdown",
   "source": [
    "### Visualize calibration results\n",
    "#### Closed Formulas Option pricing"
   ],
   "metadata": {
    "collapsed": false
   },
   "outputs": []
  },
  {
   "cell_type": "code",
   "execution_count": 38,
   "outputs": [
    {
     "data": {
      "text/plain": "<Figure size 2000x400 with 3 Axes>",
      "image/png": "[encoded data removed]"
     },
     "metadata": {},
     "output_type": "display_data"
    }
   ],
   "source": [
    "fig = plt.figure(figsize=(20, 4))\n",
    "ax1 = fig.add_subplot(131)\n",
    "ax2 = fig.add_subplot(132)\n",
    "ax3 = fig.add_subplot(133)\n",
    "ax1.plot(put_strikes, put_prices, \".\", label=\"midpoint\")\n",
    "ax2.plot(put_strikes, put_prices, \".\", label=\"midpoint\")\n",
    "ax3.plot(put_strikes, put_prices, \".\", label=\"midpoint\")\n",
    "ax1.plot(put_strikes, merton_cf_prices, label=\"Merton\")\n",
    "ax2.plot(put_strikes, kou_cf_prices, label=\"Kou\")\n",
    "ax3.plot(put_strikes, vg_cf_prices, label=\"VG\")\n",
    "ax1.set_title(\"Merton model\")\n",
    "ax2.set_title(\"Kou model\")\n",
    "ax3.set_title(\"VG model\")\n",
    "ax1.set_xlabel(\"strike\")\n",
    "ax2.set_xlabel(\"strike\")\n",
    "ax3.set_xlabel(\"strike\")\n",
    "ax1.legend()\n",
    "ax2.legend()\n",
    "ax3.legend()\n",
    "plt.show()"
   ],
   "metadata": {
    "collapsed": false
   }
  },
  {
   "cell_type": "markdown",
   "source": [
    "\n",
    "#### Monte Carlo option pricing"
   ],
   "metadata": {
    "collapsed": false
   }
  },
  {
   "cell_type": "code",
   "execution_count": 39,
   "outputs": [
    {
     "data": {
      "text/plain": "<Figure size 1700x400 with 3 Axes>",
      "image/png": "[encoded data removed]"
     },
     "metadata": {},
     "output_type": "display_data"
    }
   ],
   "source": [
    "fig = plt.figure(figsize=(17, 4))\n",
    "ax1 = fig.add_subplot(131)\n",
    "ax2 = fig.add_subplot(132)\n",
    "ax3 = fig.add_subplot(133)\n",
    "ax1.plot(put_strikes, put_prices, \".\", label=\"midpoint\")\n",
    "ax2.plot(put_strikes, put_prices, \".\", label=\"midpoint\")\n",
    "ax3.plot(put_strikes, put_prices, \".\", label=\"midpoint\")\n",
    "ax1.plot(put_strikes, merton_mc_prices, label=\"Merton\")\n",
    "ax2.plot(put_strikes, kou_mc_prices, label=\"Kou\")\n",
    "ax3.plot(put_strikes, vg_mc_prices, label=\"VG\")\n",
    "ax1.set_title(\"Merton model\")\n",
    "ax2.set_title(\"Kou model\")\n",
    "ax3.set_title(\"VG model\")\n",
    "ax1.set_xlabel(\"strike\")\n",
    "ax2.set_xlabel(\"strike\")\n",
    "ax3.set_xlabel(\"strike\")\n",
    "ax1.legend()\n",
    "ax2.legend()\n",
    "ax3.legend()\n",
    "plt.show()"
   ],
   "metadata": {
    "collapsed": false
   }
  },
  {
   "cell_type": "code",
   "execution_count": null,
   "outputs": [],
   "source": [],
   "metadata": {
    "collapsed": false
   }
  },
  {
   "cell_type": "code",
   "execution_count": null,
   "outputs": [],
   "source": [],
   "metadata": {
    "collapsed": false
   }
  }
 ],
 "metadata": {
  "kernelspec": {
   "display_name": "Python 3",
   "language": "python",
   "name": "python3"
  },
  "language_info": {
   "codemirror_mode": {
    "name": "ipython",
    "version": 2
   },
   "file_extension": ".py",
   "mimetype": "text/x-python",
   "name": "python",
   "nbconvert_exporter": "python",
   "pygments_lexer": "ipython2",
   "version": "2.7.6"
  }
 },
 "nbformat": 4,
 "nbformat_minor": 0
}
