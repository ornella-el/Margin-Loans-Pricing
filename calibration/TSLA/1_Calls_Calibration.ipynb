{
 "cells": [
  {
   "cell_type": "markdown",
   "source": [
    "# Calibration of the 4 models using CALL OPTIONS\n",
    "This notebook aims to find the optimal parameters of **Black-Scholes**, **Merton Jump Diffusion**, **Kou Jump Diffusion** and **Variance Gamma** models. To do so, we compute the european option prices using **closed formulas**, available for all the 4 models, and the **Fast Fourier Transform** for the VG model. Given these theoretical prices, the **implied volatilities** are computed comparing them with real market prices, minimizing their difference. Then we estimate the additional parameters of each model, using the python module `scipy.optimize`.\n",
    "\n",
    "*reference: https://github.com/cantaro86/Financial-Models-Numerical-Methods/tree/master*"
   ],
   "metadata": {
    "collapsed": false
   }
  },
  {
   "cell_type": "code",
   "execution_count": 1,
   "metadata": {
    "collapsed": true,
    "ExecuteTime": {
     "end_time": "2023-08-31T23:30:10.615057900Z",
     "start_time": "2023-08-31T23:30:09.049554800Z"
    }
   },
   "outputs": [],
   "source": [
    "import numpy as np\n",
    "import pandas as pd\n",
    "import matplotlib.pyplot as plt\n",
    "import random\n",
    "import scipy.optimize as scpo\n",
    "import sys\n",
    "sys.path.append('C:/Users\\ornel\\PycharmProjects\\Margin-Loans-Pricing/functions')\n",
    "sys.path.append('C:/Users/ornel/PycharmProjects/Margin-Loans-Pricing/calibration')\n",
    "import time\n",
    "\n",
    "from MERTONpricer import Merton_pricer\n",
    "from BSpricer import BS_Pricer\n",
    "from KOUpricer import Kou_pricer\n",
    "from VGpricer import VG_pricer\n",
    "\n",
    "random.seed(120)"
   ]
  },
  {
   "cell_type": "markdown",
   "source": [
    "Let's start retrieving historical prices for **european call** options starting from date **2016-01-20** and expiring **1 year** later. All the data have been collected from [OptionsDX](https://www.optionsdx.com/shop/) and preprocessed in `plainvanilla.py` module. Only options such that the moneyness\n",
    "$$ K/S0 \\in [0.75, 1.35] $$ have been selected."
   ],
   "metadata": {
    "collapsed": false
   }
  },
  {
   "cell_type": "code",
   "execution_count": 3,
   "outputs": [
    {
     "name": "stdout",
     "output_type": "stream",
     "text": [
      "NUM OF CALL OPTS: 17\n",
      "    QUOTE_DATE  UNDERLYING_LAST EXPIRE_DATE  C_BID  C_ASK  STRIKE     C_IV  \\\n",
      "0   2016-01-20            198.7  2017-01-20  58.64  60.81   150.0  0.52003   \n",
      "1   2016-01-20            198.7  2017-01-20  55.15  57.59   155.0  0.51390   \n",
      "2   2016-01-20            198.7  2017-01-20  52.39  54.25   160.0  0.51061   \n",
      "3   2016-01-20            198.7  2017-01-20  49.51  51.86   165.0  0.51231   \n",
      "4   2016-01-20            198.7  2017-01-20  46.79  48.40   170.0  0.50543   \n",
      "5   2016-01-20            198.7  2017-01-20  43.90  45.76   175.0  0.50075   \n",
      "6   2016-01-20            198.7  2017-01-20  41.41  42.94   180.0  0.49715   \n",
      "7   2016-01-20            198.7  2017-01-20  38.80  40.54   185.0  0.49343   \n",
      "8   2016-01-20            198.7  2017-01-20  36.60  38.20   190.0  0.49195   \n",
      "9   2016-01-20            198.7  2017-01-20  34.09  35.81   195.0  0.48620   \n",
      "10  2016-01-20            198.7  2017-01-20  31.90  33.65   200.0  0.48345   \n",
      "11  2016-01-20            198.7  2017-01-20  27.96  29.80   210.0  0.47928   \n",
      "12  2016-01-20            198.7  2017-01-20  24.60  26.11   220.0  0.47427   \n",
      "13  2016-01-20            198.7  2017-01-20  21.55  24.29   230.0  0.48005   \n",
      "14  2016-01-20            198.7  2017-01-20  18.45  20.15   240.0  0.46509   \n",
      "15  2016-01-20            198.7  2017-01-20  15.80  17.35   250.0  0.45718   \n",
      "16  2016-01-20            198.7  2017-01-20  13.51  15.35   260.0  0.45443   \n",
      "\n",
      "    MONEYNESS  \n",
      "0        0.75  \n",
      "1        0.78  \n",
      "2        0.81  \n",
      "3        0.83  \n",
      "4        0.86  \n",
      "5        0.88  \n",
      "6        0.91  \n",
      "7        0.93  \n",
      "8        0.96  \n",
      "9        0.98  \n",
      "10       1.01  \n",
      "11       1.06  \n",
      "12       1.11  \n",
      "13       1.16  \n",
      "14       1.21  \n",
      "15       1.26  \n",
      "16       1.31  \n"
     ]
    }
   ],
   "source": [
    "df_call = pd.read_csv('../../data/TSLA/OPT16_TSLA_CALLS_75_135.csv')\n",
    "print(f'NUM OF CALL OPTS: {df_call.shape[0]}')\n",
    "print(df_call)\n",
    "df_call.to_csv('../../data/TSLA/TSLA_calls.csv', index=False)"
   ],
   "metadata": {
    "collapsed": false,
    "ExecuteTime": {
     "end_time": "2023-08-31T23:31:27.872823100Z",
     "start_time": "2023-08-31T23:31:27.821824900Z"
    }
   }
  },
  {
   "cell_type": "markdown",
   "source": [
    "The dataframes **df_calls** contains 17 options sorted by their strike price. For our purpose, using them all can lead to very good results. Thus, we only reformulate the dataframe adding **Midpoint** and **Spread** columns."
   ],
   "metadata": {
    "collapsed": false
   }
  },
  {
   "cell_type": "code",
   "execution_count": 4,
   "outputs": [],
   "source": [
    "calls = df_call.sample(frac=1, replace=False).sort_index().reset_index(drop=True)\n",
    "calls['C_Midpoint'] = abs(calls['C_BID'] + calls['C_ASK']) / 2\n",
    "calls['C_Spread'] = calls['C_BID'] - calls['C_ASK']\n",
    "\n",
    "q = 0           # dividend yield\n",
    "r = 0.03        # risk-free interest rate\n",
    "sigma = 0.3     #volatility (variance of diffusion process)\n",
    "S0 = calls.iloc[0]['UNDERLYING_LAST']\n",
    "T = 1           # time-to-maturity\n",
    "call_strikes = calls['STRIKE']    # array of K for call options\n",
    "exercise = 'european'\n",
    "\n",
    "call_prices = calls['C_Midpoint']"
   ],
   "metadata": {
    "collapsed": false,
    "ExecuteTime": {
     "end_time": "2023-08-31T23:32:08.850886500Z",
     "start_time": "2023-08-31T23:32:08.785459400Z"
    }
   }
  },
  {
   "cell_type": "markdown",
   "source": [
    "The following code snippet initializes objects of class *BS_pricer*, *Merton_pricer*, *Kou_pricer*, *VG_pricer* with default values as parameters. These parameters serve only as initialization. Best fitting parameetrs will be calibrated consequently and used to correctly price the options according to each model."
   ],
   "metadata": {
    "collapsed": false
   }
  },
  {
   "cell_type": "code",
   "execution_count": 5,
   "outputs": [],
   "source": [
    "BS = BS_Pricer(S0=S0, r=r, q = q, sigma=sigma, ttm=T, exercise=exercise, K=None)\n",
    "Merton = Merton_pricer(S0=S0, K=None, ttm=T, r=r, q = q, sigma=0.15, lambd=0.5, meanJ=-0.1, stdJ=0.1, exercise=exercise)\n",
    "Kou = Kou_pricer(S0=S0, K=None, ttm=T, r=r, sigma=0.15, lambd=0.5, p=0.6, eta1=12, eta2=5, exercise=exercise)\n",
    "VG = VG_pricer(S0, K=None, ttm=T, r=r, q=q, sigma=0.15, theta=-0.2, nu=0.3, exercise=exercise)"
   ],
   "metadata": {
    "collapsed": false,
    "ExecuteTime": {
     "end_time": "2023-08-31T23:32:16.408645300Z",
     "start_time": "2023-08-31T23:32:16.345711300Z"
    }
   }
  },
  {
   "cell_type": "markdown",
   "source": [
    "## Implied volatility\n",
    "The function belows implements a methods to compute implied volatility: the [Bisection](https://en.wikipedia.org/wiki/Bisection_method) method. Apart from the initial guess, there is no substantial difference in the final result between **Newton** and **bisection** methods (*fsolve*). The **Implied Volatility** is that value $\\sigma$ that must be inserted into the Black-Scholes (BS) formula in order to retrieve the option price quoted in the market:\n",
    "    $$ BS(S, K, T, r, \\sigma) = P,  $$\n",
    "where $S$ is the underlying spot price, $K$ is the strike, $T$ time to maturity, $r$ risk-free interest rate and $P$ the option price quoted in the market. All these quantities are **observable**.\n",
    "   "
   ],
   "metadata": {
    "collapsed": false
   }
  },
  {
   "cell_type": "code",
   "execution_count": 6,
   "outputs": [],
   "source": [
    "def implied_volatility(price, S, strike, t, rate, q, type_o, method='fsolve', disp=True ):\n",
    "    \"\"\" Returns Implied volatility\n",
    "        methods:  fsolve (default) or brent\n",
    "    \"\"\"\n",
    "\n",
    "    def obj_fun(vol):\n",
    "        return BS.BlackScholes(type_o=type_o, S0=S, K=strike, ttm=t, r=rate, q=q, sigma=vol) - price\n",
    "\n",
    "    def vega(vol):\n",
    "        return BS.vega(S, strike, rate, q, vol, t)\n",
    "\n",
    "    if method =='fsolve':\n",
    "        X0 = [0.01, 0.2, 0.35, 7]        #initial guess points for imp.vol.\n",
    "        for x_0 in X0:\n",
    "            x, _, solved, _ = scpo.fsolve(obj_fun, x_0, full_output=True, xtol=1e-8)\n",
    "            if solved == 1:\n",
    "                return x[0]\n",
    "\n",
    "    if disp:\n",
    "        return -1"
   ],
   "metadata": {
    "collapsed": false,
    "ExecuteTime": {
     "end_time": "2023-08-31T23:33:39.626497Z",
     "start_time": "2023-08-31T23:33:39.610997Z"
    }
   }
  },
  {
   "cell_type": "markdown",
   "source": [
    "The following code snippet computes the implied volatility of **call** options market prices and show a plot of the implied volatilities found by inversion method against the ones provided by the dataframe."
   ],
   "metadata": {
    "collapsed": false
   }
  },
  {
   "cell_type": "code",
   "execution_count": 7,
   "outputs": [
    {
     "name": "stdout",
     "output_type": "stream",
     "text": [
      "Implied volatilities of market prices (calls):\n",
      "S0 = 198.7\n",
      "K = 210.0, IV = 0.4742\n",
      "K = 220.0, IV = 0.4686\n",
      "K = 230.0, IV = 0.4733\n",
      "K = 240.0, IV = 0.4577\n",
      "K = 250.0, IV = 0.4502\n",
      "K = 260.0, IV = 0.447\n"
     ]
    },
    {
     "data": {
      "text/plain": "<Figure size 1000x500 with 1 Axes>",
      "image/png": "[encoded data removed]"
     },
     "metadata": {},
     "output_type": "display_data"
    }
   ],
   "source": [
    "IV_market = []\n",
    "for i in range(len(call_prices)):\n",
    "    IV_market.append(implied_volatility(call_prices[i], S=S0, strike=call_strikes[i], t = T, rate=0.03, q = 0.06, type_o='call', method='fsolve'))\n",
    "\n",
    "print(f'Implied volatilities of market prices (calls):\\nS0 = {S0}')\n",
    "for a,b in zip(call_strikes.tail(6), IV_market[-6:]):\n",
    "    print(f'K = {a}, IV = {round(b, 4)}')\n",
    "\n",
    "# Plot market implied volatilities w.r.t. log moneyness\n",
    "x = (S0/call_strikes)\n",
    "IV_filtered = [iv for iv in IV_market if iv != -1]\n",
    "x_filtered = [log_m for iv, log_m in zip(IV_market, x) if iv != -1]\n",
    "\n",
    "fig, ax1 = plt.subplots(figsize=(10,5))\n",
    "ax1.scatter(x, IV_market, marker='x', label='BS inversion', color='red')\n",
    "ax1.scatter(x, calls['C_IV'], marker='.', label='provided')\n",
    "ax1.set_xlabel('Moneyness: S0/K'); ax1.set_ylabel('Implied Volatility'); ax1.set_title('Calls volatility smile')\n",
    "ax1.legend(); plt.show()\n"
   ],
   "metadata": {
    "collapsed": false,
    "ExecuteTime": {
     "end_time": "2023-08-31T23:33:43.322306700Z",
     "start_time": "2023-08-31T23:33:43.041024Z"
    }
   }
  },
  {
   "cell_type": "markdown",
   "source": [
    "##  Weighted Calibration (call options)\n",
    "Let's step now into the calibration of model parameters.\n",
    "If we define $\\Theta$ the set of parameters, the goal is to find the optimal parameters $\\Theta^*$ that minimize the following objective function:\n",
    "$$ \\sum_{i=1}^{N} w_i \\biggl( P_i - f(K_i|\\Theta) \\biggr)^2 $$\n",
    "where $w_i$ are weights, usually defined as\n",
    "$$ w_i = \\frac{1}{\\text {spread}_i^2 },$$ $P_i$ are the market prices and $f$ is the pricing function. In our case $f$ is given by **Merton** Jump Diffusion model, **Kou** Jump Diffusion model, or **Variance Gamma** process. To perform this optimization problem, many numerical methods can be used. In particular, we test two functions of `scipy.optimize`:\n",
    "1. **curve_fit**, a least-squares curve fitting method which works with bounds. The default algorithm is [Trust Region Reflective (trf)](https://en.wikipedia.org/wiki/Trust_region). The [Levemberg-Marquadt](https://en.wikipedia.org/wiki/Levenberg%E2%80%93Marquardt_algorithm) has been tried as well, to test the optimization problem without setting boundaries, but the results don't make any sense.\n",
    "2. **Least-Squares**, a constrained minimization problem which uses Trust region reflective method by default. This method is the most indicated to solve the non-linear least squares optimization problem of our purpose.\n",
    "All the optimizations are carried out by initializing a starting point as the array $x_0 = [params]$ and setting feasible bounds.\n"
   ],
   "metadata": {
    "collapsed": false
   }
  },
  {
   "cell_type": "code",
   "execution_count": 8,
   "outputs": [],
   "source": [
    "call_spreads = calls['C_Spread']\n",
    "c_weights = 1/ call_spreads**2"
   ],
   "metadata": {
    "collapsed": false,
    "ExecuteTime": {
     "end_time": "2023-08-31T23:33:58.822750300Z",
     "start_time": "2023-08-31T23:33:58.764926200Z"
    }
   }
  },
  {
   "cell_type": "markdown",
   "source": [
    "### Black and Scholes model\n",
    "The only unknown parameter to calibrate in Black and Scholes model is the **implied volatility**, $\\sigma$. Thus, we minimize the difference between the computed theoretical prices and the market prices of call options."
   ],
   "metadata": {
    "collapsed": false
   }
  },
  {
   "cell_type": "code",
   "execution_count": 9,
   "outputs": [],
   "source": [
    "x0 = 0.5\n",
    "bounds = [1e-5, 2]\n",
    "\n",
    "def f_BlackScholes_calls(x, sigm):\n",
    "    BS = BS_Pricer(S0=S0, K = x, ttm=T, r=r, q=0, sigma=sigm, exercise=exercise)\n",
    "    return BS.closed_formula_call(x)\n",
    "\n",
    "res1_calls = scpo.curve_fit(f_BlackScholes_calls, call_strikes, call_prices, p0 = x0, bounds=bounds, sigma=c_weights)\n",
    "sigw_p = round(res1_calls[0][0],4)"
   ],
   "metadata": {
    "collapsed": false,
    "ExecuteTime": {
     "end_time": "2023-08-31T23:34:03.783190500Z",
     "start_time": "2023-08-31T23:34:03.767301500Z"
    }
   }
  },
  {
   "cell_type": "code",
   "execution_count": 10,
   "outputs": [
    {
     "name": "stdout",
     "output_type": "stream",
     "text": [
      "`ftol` termination condition is satisfied.\n",
      "Function evaluations 21, initial cost 5.5531e+04, final cost 9.0955e-01, first-order optimality 3.94e-03.\n"
     ]
    }
   ],
   "source": [
    "def cost_function(x, strikes, mkt_prices):\n",
    "    sigma = x\n",
    "    BS = BS_Pricer(S0=S0, K = None, ttm=T, r=r, q=0, sigma=sigma, exercise=exercise)\n",
    "    sq_err = np.sum(c_weights* (BS.closed_formula_call(strikes) - mkt_prices)**2)\n",
    "    return sq_err\n",
    "\n",
    "result_p = scpo.least_squares(cost_function, x0, args=(call_strikes, call_prices), bounds=bounds, method = 'trf', verbose=1)\n",
    "calls_bs_params_tsla = result_p.x[0]"
   ],
   "metadata": {
    "collapsed": false,
    "ExecuteTime": {
     "end_time": "2023-08-31T23:34:04.764311600Z",
     "start_time": "2023-08-31T23:34:04.712241900Z"
    }
   }
  },
  {
   "cell_type": "code",
   "execution_count": 11,
   "outputs": [
    {
     "name": "stdout",
     "output_type": "stream",
     "text": [
      "METHOD 1: CURVE_FIT (trf)\n",
      "> Calibrated Volatility from Calls [σ] = 0.3902 \t 39.02%\n",
      "METHOD 2: LEAST-SQUARES (trf)\n",
      "> Calibrated Volatility from Calls [σ] = 0.38916942193658266 \t 38.92%\n"
     ]
    }
   ],
   "source": [
    "print('METHOD 1: CURVE_FIT (trf)')\n",
    "print(f'> Calibrated Volatility from Calls [σ] = {sigw_p} \\t {round(sigw_p*100,2)}%')\n",
    "print('METHOD 2: LEAST-SQUARES (trf)')\n",
    "print(f'> Calibrated Volatility from Calls [σ] = {calls_bs_params_tsla} \\t {round(calls_bs_params_tsla*100,2)}%')"
   ],
   "metadata": {
    "collapsed": false,
    "ExecuteTime": {
     "end_time": "2023-08-31T23:34:05.193571400Z",
     "start_time": "2023-08-31T23:34:05.145793400Z"
    }
   }
  },
  {
   "cell_type": "markdown",
   "source": [
    "Save parameters to use in other notebooks"
   ],
   "metadata": {
    "collapsed": false
   }
  },
  {
   "cell_type": "code",
   "execution_count": 15,
   "outputs": [
    {
     "name": "stdout",
     "output_type": "stream",
     "text": [
      "Stored 'calls_bs_params_tsla' (float64)\n"
     ]
    }
   ],
   "source": [
    "%store calls_bs_params_tsla"
   ],
   "metadata": {
    "collapsed": false,
    "ExecuteTime": {
     "end_time": "2023-08-31T23:34:52.951569100Z",
     "start_time": "2023-08-31T23:34:52.943700200Z"
    }
   }
  },
  {
   "cell_type": "markdown",
   "source": [
    "### Merton Jump Diffusion\n",
    "The Merton Jump diffusion ones are the volatility $\\sigma$, the Poisson rate of jumps $\\lambda$, the mean rate of jump intensity $m$ and its variance rate $v$, assuming that the intensity of jumps follows a *Normal distribution*.\n"
   ],
   "metadata": {
    "collapsed": false
   }
  },
  {
   "cell_type": "code",
   "execution_count": 16,
   "outputs": [],
   "source": [
    "x0 = [0.15,  0.2, -0.05,  0.01]  # initial guess: [σ, λ, m, v]\n",
    "bounds = ( [1e-3, 1e-2, -5, 1e-5], [2, 5, 5, 2] )"
   ],
   "metadata": {
    "collapsed": false,
    "ExecuteTime": {
     "end_time": "2023-08-31T23:34:52.957013100Z",
     "start_time": "2023-08-31T23:34:52.957013100Z"
    }
   }
  },
  {
   "cell_type": "code",
   "execution_count": 17,
   "outputs": [],
   "source": [
    "def f_Mert(x, sigma, lambd, meanJ, stdJ):\n",
    "    Mert = Merton_pricer(S0=S0, K=x, ttm=T, r=r, q=0, sigma=sigma, lambd=lambd, meanJ=meanJ, stdJ=stdJ, exercise=exercise)\n",
    "    return Mert.closed_formula_call(x)\n",
    "\n",
    "start1=time.time()\n",
    "mert1 = scpo.curve_fit(f_Mert, call_strikes, call_prices, p0=x0, bounds=bounds, sigma=call_spreads)\n",
    "end1=time.time()\n",
    "\n",
    "mert_params1 = [round(p,4) for p in mert1[0][:4]]"
   ],
   "metadata": {
    "collapsed": false,
    "ExecuteTime": {
     "end_time": "2023-08-31T23:35:25.354378200Z",
     "start_time": "2023-08-31T23:34:52.957013100Z"
    }
   }
  },
  {
   "cell_type": "markdown",
   "source": [
    "##### Method 2. Least-squares"
   ],
   "metadata": {
    "collapsed": false
   }
  },
  {
   "cell_type": "code",
   "execution_count": 18,
   "outputs": [
    {
     "name": "stdout",
     "output_type": "stream",
     "text": [
      "The maximum number of function evaluations is exceeded.\n",
      "Function evaluations 400, initial cost 6.2819e+05, final cost 3.0599e-01, first-order optimality 6.17e-01.\n"
     ]
    }
   ],
   "source": [
    "x0 = [0.15,  0.5, -0.05,  0.1]      # initial guess: [σ, λ, m, v]\n",
    "bounds = ( [1e-3, 1e-2, -10, 0], [2, np.inf, 10, 5] )\n",
    "\n",
    "def cost_function(x, strikes, mkt_prices):\n",
    "    sigma, lambd, meanJ, stdJ = x\n",
    "    M = Merton_pricer(S0, None, T, r, q, sigma, lambd, meanJ, stdJ, exercise)\n",
    "    sq_err = np.sum(c_weights*(M.closed_formula_call(strikes) - mkt_prices)**2)\n",
    "    return sq_err\n",
    "\n",
    "start2 = time.time()\n",
    "mert2 = scpo.least_squares(cost_function, x0, args=(call_strikes, call_prices), bounds=bounds, method = 'trf', verbose=1)\n",
    "end2 = time.time()"
   ],
   "metadata": {
    "collapsed": false,
    "ExecuteTime": {
     "end_time": "2023-08-31T23:36:55.552999800Z",
     "start_time": "2023-08-31T23:35:25.361385600Z"
    }
   }
  },
  {
   "cell_type": "code",
   "execution_count": 19,
   "outputs": [],
   "source": [
    "mert_params2 = [round(p,4) for p in mert2.x[:4]]"
   ],
   "metadata": {
    "collapsed": false,
    "ExecuteTime": {
     "end_time": "2023-08-31T23:36:55.557021800Z",
     "start_time": "2023-08-31T23:36:55.552491900Z"
    }
   }
  },
  {
   "cell_type": "code",
   "execution_count": 20,
   "outputs": [
    {
     "name": "stdout",
     "output_type": "stream",
     "text": [
      "WEIGHTED OPT: CURVE_FIT (trf)\n",
      "> Calibrated Volatlity [σ] = 0.2326 \t 23.26%\n",
      "> Calibrated Jump intensity [λ] =  5.0\n",
      "> Calibrated Jump Mean =  0.14\n",
      "> Calibrated Jump St. dev.  =  1e-05\n",
      "ELAPSED TIME: 32.38830876350403 sec\n",
      "\n",
      "METHOD 1: LEAST SQUARES (trf)\n",
      "> Calibrated Volatlity [σ] = 0.3062 \t 30.62%\n",
      "> Calibrated Jump intensity [λ] =  1.0\n",
      "> Calibrated Jump Mean =  0.054\n",
      "> Calibrated Jump St. dev.  =  0.232\n",
      "TIME ELAPSED:  90.19 sec\n"
     ]
    }
   ],
   "source": [
    "print('WEIGHTED OPT: CURVE_FIT (trf)')\n",
    "print(f'> Calibrated Volatlity [σ] = {round(mert1[0][0],4)} \\t {round(mert1[0][0]*100,2)}%')\n",
    "print('> Calibrated Jump intensity [λ] = ', round(mert1[0][1],2))\n",
    "print('> Calibrated Jump Mean = ', round(mert1[0][2],2))\n",
    "print('> Calibrated Jump St. dev.  = ', round(mert1[0][3],5))\n",
    "print(f'ELAPSED TIME: {end1-start1} sec')\n",
    "\n",
    "print('\\nMETHOD 1: LEAST SQUARES (trf)')\n",
    "print(f'> Calibrated Volatlity [σ] = {mert_params2[0]} \\t {round(mert_params2[0]*100,2)}%')\n",
    "print('> Calibrated Jump intensity [λ] = ', round(mert_params2[1],2))\n",
    "print('> Calibrated Jump Mean = ', round(mert_params2[2],3))\n",
    "print('> Calibrated Jump St. dev.  = ', round(mert_params2[3],3))\n",
    "print(f'TIME ELAPSED:  {round(end2-start2,2)} sec')"
   ],
   "metadata": {
    "collapsed": false,
    "ExecuteTime": {
     "end_time": "2023-08-31T23:36:55.573039700Z",
     "start_time": "2023-08-31T23:36:55.557021800Z"
    }
   }
  },
  {
   "cell_type": "code",
   "execution_count": 21,
   "outputs": [
    {
     "name": "stdout",
     "output_type": "stream",
     "text": [
      "[0.2326, 5.0, 0.1354, 0.0]\n",
      "[0.3062, 0.9971, 0.0544, 0.2319]\n",
      "Stored 'calls_mert_params_tsla' (list)\n"
     ]
    }
   ],
   "source": [
    "print(mert_params1)\n",
    "print(mert_params2)\n",
    "calls_mert_params_tsla = mert_params2\n",
    "%store calls_mert_params_tsla"
   ],
   "metadata": {
    "collapsed": false,
    "ExecuteTime": {
     "end_time": "2023-08-31T23:36:55.588678100Z",
     "start_time": "2023-08-31T23:36:55.567814800Z"
    }
   }
  },
  {
   "cell_type": "markdown",
   "source": [
    "### Kou Jump Diffusion\n"
   ],
   "metadata": {
    "collapsed": false
   }
  },
  {
   "cell_type": "code",
   "execution_count": 31,
   "outputs": [],
   "source": [
    "x0 = [0.2, 0.7, 0.5, 8, 10] # initial guess: [σ, λ, p, η_1, η_2]\n",
    "bounds = ( [1e-2, 1e-1, 0, 0.5, 0.5], [0.5, 4, 1, 15, 20] )"
   ],
   "metadata": {
    "collapsed": false
   }
  },
  {
   "cell_type": "markdown",
   "source": [
    "##### Method 1. TRF (Bounds)"
   ],
   "metadata": {
    "collapsed": false
   }
  },
  {
   "cell_type": "code",
   "execution_count": 32,
   "outputs": [],
   "source": [
    "# def f_Kou(x, sigma, lambd, p, eta1, eta2):\n",
    "#     KouJD = Kou_pricer(S0=S0, K=x, ttm=T, r=r, sigma=sigma, lambd=lambd, p=p, eta1=eta1, eta2=eta2, exercise=exercise)\n",
    "#     return KouJD.closed_formula_call(x)\n",
    "#\n",
    "# start1 = time.time()\n",
    "# kou1 = scpo.curve_fit(f_Kou, call_strikes, call_prices, p0=x0, bounds=bounds, sigma=c_weights)\n",
    "# end1 = time.time()\n",
    "#\n",
    "# kou_params1 = [round(p,4) for p in kou1[0][:5]]"
   ],
   "metadata": {
    "collapsed": false
   }
  },
  {
   "cell_type": "markdown",
   "source": [
    "##### Method 2. LEAST SQUARES (With Bounds)"
   ],
   "metadata": {
    "collapsed": false
   }
  },
  {
   "cell_type": "code",
   "execution_count": 33,
   "outputs": [
    {
     "name": "stdout",
     "output_type": "stream",
     "text": [
      "   Iteration     Total nfev        Cost      Cost reduction    Step norm     Optimality   \n",
      "       0              1         1.5702e+05                                    1.01e+06    \n",
      "       1              2         1.8878e+04      1.38e+05       8.46e-02       1.76e+05    \n",
      "       2              3         2.0903e+03      1.68e+04       4.83e-02       2.89e+04    \n",
      "       3              4         2.0464e+02      1.89e+03       2.92e-02       4.43e+03    \n",
      "       4              5         1.8610e+01      1.86e+02       1.76e-02       6.33e+02    \n",
      "       5              6         1.9481e+00      1.67e+01       1.08e-02       8.26e+01    \n",
      "       6              7         5.6974e-01      1.38e+00       8.46e-03       4.76e+00    \n",
      "       7             12         5.6785e-01      1.89e-03       2.70e-04       1.12e+00    \n",
      "       8             13         5.6740e-01      4.48e-04       6.50e-04       1.24e+00    \n",
      "       9             14         5.6723e-01      1.68e-04       1.19e-03       2.99e+00    \n",
      "      10             15         5.6651e-01      7.25e-04       1.40e-04       1.06e+00    \n",
      "      11             16         5.6637e-01      1.37e-04       2.34e-04       1.30e+00    \n",
      "      12             17         5.6611e-01      2.67e-04       2.80e-04       1.13e+00    \n",
      "      13             18         5.6562e-01      4.88e-04       6.64e-04       1.18e+00    \n",
      "      14             19         5.6503e-01      5.92e-04       1.31e-03       2.15e+00    \n",
      "      15             21         5.6459e-01      4.37e-04       1.49e-04       1.15e+00    \n",
      "      16             22         5.6434e-01      2.49e-04       3.39e-04       1.12e+00    \n",
      "      17             23         5.6391e-01      4.33e-04       6.47e-04       1.26e+00    \n",
      "      18             24         5.6382e-01      9.01e-05       1.16e-03       3.10e+00    \n",
      "      19             25         5.6305e-01      7.67e-04       1.39e-04       1.05e+00    \n",
      "      20             26         5.6291e-01      1.36e-04       2.18e-04       1.30e+00    \n",
      "      21             27         5.6265e-01      2.67e-04       2.81e-04       1.13e+00    \n",
      "      22             28         5.6216e-01      4.87e-04       6.65e-04       1.18e+00    \n",
      "      23             29         5.6156e-01      5.96e-04       1.31e-03       2.13e+00    \n",
      "      24             31         5.6113e-01      4.31e-04       1.49e-04       1.15e+00    \n",
      "      25             32         5.6088e-01      2.48e-04       3.39e-04       1.12e+00    \n",
      "      26             33         5.6045e-01      4.29e-04       6.47e-04       1.27e+00    \n",
      "      27             34         5.6038e-01      7.46e-05       1.16e-03       3.11e+00    \n",
      "      28             35         5.5961e-01      7.74e-04       1.39e-04       1.05e+00    \n",
      "      29             36         5.5947e-01      1.37e-04       2.15e-04       1.30e+00    \n",
      "      30             37         5.5920e-01      2.66e-04       2.81e-04       1.13e+00    \n",
      "      31             38         5.5872e-01      4.84e-04       6.66e-04       1.19e+00    \n",
      "      32             39         5.5815e-01      5.74e-04       1.31e-03       2.17e+00    \n",
      "      33             41         5.5770e-01      4.46e-04       1.48e-04       1.15e+00    \n",
      "      34             42         5.5745e-01      2.48e-04       3.40e-04       1.12e+00    \n",
      "      35             43         5.5701e-01      4.42e-04       6.52e-04       1.24e+00    \n",
      "      36             44         5.5685e-01      1.53e-04       1.19e-03       2.98e+00    \n",
      "      37             45         5.5613e-01      7.27e-04       1.40e-04       1.06e+00    \n",
      "      38             46         5.5599e-01      1.36e-04       2.31e-04       1.30e+00    \n",
      "      39             47         5.5573e-01      2.65e-04       2.82e-04       1.13e+00    \n",
      "      40             48         5.5524e-01      4.83e-04       6.67e-04       1.19e+00    \n",
      "      41             49         5.5467e-01      5.78e-04       1.31e-03       2.15e+00    \n",
      "      42             51         5.5422e-01      4.41e-04       1.48e-04       1.15e+00    \n",
      "      43             52         5.5398e-01      2.48e-04       3.40e-04       1.12e+00    \n",
      "      44             53         5.5354e-01      4.38e-04       6.52e-04       1.25e+00    \n",
      "      45             54         5.5341e-01      1.32e-04       1.19e-03       3.00e+00    \n",
      "      46             55         5.5267e-01      7.37e-04       1.40e-04       1.05e+00    \n",
      "      47             56         5.5253e-01      1.36e-04       2.27e-04       1.30e+00    \n",
      "      48             57         5.5227e-01      2.64e-04       2.82e-04       1.13e+00    \n",
      "      49             58         5.5179e-01      4.82e-04       6.68e-04       1.19e+00    \n",
      "      50             59         5.5121e-01      5.77e-04       1.31e-03       2.14e+00    \n",
      "      51             61         5.5077e-01      4.40e-04       1.48e-04       1.15e+00    \n",
      "      52             62         5.5052e-01      2.47e-04       3.41e-04       1.12e+00    \n",
      "      53             63         5.5009e-01      4.37e-04       6.53e-04       1.25e+00    \n",
      "      54             64         5.4995e-01      1.33e-04       1.19e-03       2.99e+00    \n",
      "      55             65         5.4922e-01      7.34e-04       1.40e-04       1.05e+00    \n",
      "      56             66         5.4909e-01      1.36e-04       2.27e-04       1.30e+00    \n",
      "      57             67         5.4882e-01      2.63e-04       2.83e-04       1.13e+00    \n",
      "      58             68         5.4834e-01      4.80e-04       6.68e-04       1.19e+00    \n",
      "      59             69         5.4777e-01      5.67e-04       1.31e-03       2.15e+00    \n",
      "      60             71         5.4733e-01      4.45e-04       1.48e-04       1.14e+00    \n",
      "      61             72         5.4708e-01      2.47e-04       3.41e-04       1.12e+00    \n",
      "      62             73         5.4664e-01      4.47e-04       6.58e-04       1.22e+00    \n",
      "      63             74         5.4643e-01      2.10e-04       1.22e-03       2.85e+00    \n",
      "      64             75         5.4574e-01      6.87e-04       1.40e-04       1.07e+00    \n",
      "      65             76         5.4560e-01      1.41e-04       2.45e-04       1.29e+00    \n",
      "      66             77         5.4534e-01      2.61e-04       2.85e-04       1.13e+00    \n",
      "      67             78         5.4486e-01      4.73e-04       6.67e-04       1.19e+00    \n",
      "      68             79         5.4438e-01      4.80e-04       1.30e-03       2.33e+00    \n",
      "      69             81         5.4388e-01      5.08e-04       1.45e-04       1.12e+00    \n",
      "      70             82         5.4364e-01      2.37e-04       3.29e-04       1.17e+00    \n",
      "      71             83         5.4320e-01      4.41e-04       6.72e-04       1.06e+00    \n",
      "      72             85         5.4306e-01      1.36e-04       2.31e-04       1.30e+00    \n",
      "      73             86         5.4280e-01      2.62e-04       2.84e-04       1.13e+00    \n",
      "      74             87         5.4232e-01      4.77e-04       6.70e-04       1.19e+00    \n",
      "      75             88         5.4178e-01      5.44e-04       1.31e-03       2.18e+00    \n",
      "      76             90         5.4132e-01      4.58e-04       1.47e-04       1.14e+00    \n",
      "      77             91         5.4107e-01      2.47e-04       3.41e-04       1.14e+00    \n",
      "      78             92         5.4058e-01      4.94e-04       6.79e-04       1.15e+00    \n",
      "      79             93         5.3965e-01      9.31e-04       1.37e-03       1.04e+00    \n",
      "      80             96         5.3952e-01      1.31e-04       1.10e-04       1.14e+00    \n",
      "      81             97         5.3939e-01      1.23e-04       1.71e-04       1.13e+00    \n",
      "      82             98         5.3915e-01      2.46e-04       3.39e-04       1.15e+00    \n",
      "      83             99         5.3867e-01      4.80e-04       6.85e-04       1.09e+00    \n",
      "      84             101        5.3849e-01      1.82e-04       2.90e-04       1.23e+00    \n",
      "      85             102        5.3824e-01      2.47e-04       3.04e-04       1.12e+00    \n",
      "      86             103        5.3783e-01      4.10e-04       6.50e-04       1.29e+00    \n",
      "      87             104        5.3781e-01      2.04e-05       1.15e-03       3.12e+00    \n",
      "      88             105        5.3702e-01      7.88e-04       1.39e-04       1.03e+00    \n",
      "      89             106        5.3688e-01      1.43e-04       2.06e-04       1.29e+00    \n",
      "      90             107        5.3662e-01      2.58e-04       2.87e-04       1.13e+00    \n",
      "      91             108        5.3615e-01      4.67e-04       6.68e-04       1.20e+00    \n",
      "      92             109        5.3572e-01      4.34e-04       1.29e-03       2.40e+00    \n",
      "      93             111        5.3519e-01      5.34e-04       1.44e-04       1.11e+00    \n",
      "      94             112        5.3497e-01      2.18e-04       3.17e-04       1.19e+00    \n",
      "      95             113        5.3457e-01      3.98e-04       6.51e-04       1.03e+00    \n",
      "      96             115        5.3443e-01      1.41e-04       1.03e-04       1.14e+00    \n",
      "      97             116        5.3431e-01      1.23e-04       1.71e-04       1.14e+00    \n",
      "      98             117        5.3406e-01      2.46e-04       3.41e-04       1.14e+00    \n",
      "      99             118        5.3357e-01      4.91e-04       6.83e-04       1.13e+00    \n",
      "      100            119        5.3259e-01      9.75e-04       1.36e-03       1.17e+00    \n",
      "      101            120        5.3173e-01      8.60e-04       2.71e-03       3.52e+00    \n",
      "      102            122        5.3067e-01      1.07e-03       2.74e-04       1.28e+00    \n",
      "      103            123        5.3032e-01      3.47e-04       5.83e-04       1.12e+00    \n",
      "      104            125        5.3016e-01      1.61e-04       9.45e-05       1.12e+00    \n",
      "      105            126        5.3004e-01      1.21e-04       1.65e-04       1.14e+00    \n",
      "      106            127        5.2980e-01      2.42e-04       3.44e-04       1.12e+00    \n",
      "      107            128        5.2937e-01      4.23e-04       6.56e-04       1.26e+00    \n",
      "      108            129        5.2928e-01      9.09e-05       1.18e-03       2.98e+00    \n",
      "      109            130        5.2854e-01      7.43e-04       1.39e-04       1.04e+00    \n",
      "      110            131        5.2840e-01      1.36e-04       2.19e-04       1.29e+00    \n",
      "      111            132        5.2815e-01      2.58e-04       2.87e-04       1.12e+00    \n",
      "      112            133        5.2768e-01      4.67e-04       6.72e-04       1.19e+00    \n",
      "      113            134        5.2719e-01      4.90e-04       1.31e-03       2.25e+00    \n",
      "      114            136        5.2670e-01      4.88e-04       1.46e-04       1.12e+00    \n",
      "      115            137        5.2646e-01      2.37e-04       3.34e-04       1.16e+00    \n",
      "      116            138        5.2602e-01      4.47e-04       6.83e-04       1.06e+00    \n",
      "      117            140        5.2588e-01      1.39e-04       2.45e-04       1.29e+00    \n",
      "      118            141        5.2562e-01      2.56e-04       2.88e-04       1.12e+00    \n",
      "      119            142        5.2516e-01      4.63e-04       6.72e-04       1.19e+00    \n",
      "      120            143        5.2472e-01      4.38e-04       1.30e-03       2.35e+00    \n",
      "      121            145        5.2420e-01      5.23e-04       1.44e-04       1.11e+00    \n",
      "      122            146        5.2398e-01      2.19e-04       3.20e-04       1.19e+00    \n",
      "      123            147        5.2358e-01      3.98e-04       6.58e-04       1.03e+00    \n",
      "      124            149        5.2344e-01      1.37e-04       1.04e-04       1.13e+00    \n",
      "      125            150        5.2332e-01      1.22e-04       1.72e-04       1.13e+00    \n",
      "      126            151        5.2308e-01      2.43e-04       3.42e-04       1.14e+00    \n",
      "      127            152        5.2259e-01      4.85e-04       6.88e-04       1.12e+00    \n",
      "      128            153        5.2184e-01      7.57e-04       1.33e-03       1.49e+00    \n",
      "      129            155        5.2142e-01      4.22e-04       4.81e-04       1.03e+00    \n",
      "      130            157        5.2128e-01      1.37e-04       1.04e-04       1.13e+00    \n",
      "      131            158        5.2116e-01      1.21e-04       1.72e-04       1.13e+00    \n",
      "      132            159        5.2091e-01      2.43e-04       3.43e-04       1.13e+00    \n",
      "      133            160        5.2043e-01      4.84e-04       6.88e-04       1.12e+00    \n",
      "      134            161        5.1964e-01      7.89e-04       1.33e-03       1.45e+00    \n",
      "      135            163        5.1925e-01      3.93e-04       4.98e-04       1.02e+00    \n",
      "      136            165        5.1910e-01      1.44e-04       1.01e-04       1.13e+00    \n",
      "      137            166        5.1898e-01      1.21e-04       1.71e-04       1.13e+00    \n",
      "      138            167        5.1874e-01      2.42e-04       3.44e-04       1.12e+00    \n",
      "      139            168        5.1827e-01      4.73e-04       6.79e-04       1.17e+00    \n",
      "      140            169        5.1763e-01      6.42e-04       1.35e-03       1.85e+00    \n",
      "      141            171        5.1727e-01      3.61e-04       1.53e-04       1.16e+00    \n",
      "      142            172        5.1703e-01      2.37e-04       3.42e-04       1.11e+00    \n",
      "      143            173        5.1666e-01      3.72e-04       6.46e-04       1.33e+00    \n",
      "      144            174        5.1631e-01      3.45e-04       5.52e-04       1.10e+00    \n",
      "      145            176        5.1615e-01      1.58e-04       9.50e-05       1.11e+00    \n",
      "      146            177        5.1603e-01      1.19e-04       1.66e-04       1.14e+00    \n",
      "      147            178        5.1580e-01      2.39e-04       3.46e-04       1.11e+00    \n",
      "      148            179        5.1538e-01      4.16e-04       6.60e-04       1.26e+00    \n",
      "      149            180        5.1530e-01      8.15e-05       1.19e-03       2.95e+00    \n",
      "      150            181        5.1456e-01      7.37e-04       1.39e-04       1.03e+00    \n",
      "      151            182        5.1443e-01      1.36e-04       2.17e-04       1.29e+00    \n",
      "      152            183        5.1417e-01      2.53e-04       2.89e-04       1.12e+00    \n",
      "      153            184        5.1371e-01      4.58e-04       6.75e-04       1.19e+00    \n",
      "      154            185        5.1328e-01      4.35e-04       1.31e-03       2.32e+00    \n",
      "      155            187        5.1276e-01      5.16e-04       1.44e-04       1.10e+00    \n",
      "      156            188        5.1255e-01      2.16e-04       3.22e-04       1.18e+00    \n",
      "      157            189        5.1215e-01      3.93e-04       6.61e-04       1.02e+00    \n",
      "      158            191        5.1202e-01      1.36e-04       1.04e-04       1.13e+00    \n",
      "      159            192        5.1190e-01      1.20e-04       1.72e-04       1.13e+00    \n",
      "      160            193        5.1166e-01      2.40e-04       3.44e-04       1.13e+00    \n",
      "      161            194        5.1118e-01      4.80e-04       6.90e-04       1.12e+00    \n",
      "      162            195        5.1030e-01      8.82e-04       1.36e-03       1.29e+00    \n",
      "      163            197        5.0996e-01      3.37e-04       5.76e-04       1.11e+00    \n",
      "      164            199        5.0980e-01      1.59e-04       9.44e-05       1.11e+00    \n",
      "      165            200        5.0968e-01      1.18e-04       1.66e-04       1.14e+00    \n",
      "      166            201        5.0944e-01      2.37e-04       3.47e-04       1.11e+00    \n",
      "      167            202        5.0903e-01      4.11e-04       6.60e-04       1.26e+00    \n",
      "      168            203        5.0897e-01      6.37e-05       1.19e-03       2.95e+00    \n",
      "      169            204        5.0823e-01      7.42e-04       1.39e-04       1.02e+00    \n",
      "      170            205        5.0809e-01      1.37e-04       2.14e-04       1.28e+00    \n",
      "      171            206        5.0784e-01      2.51e-04       2.90e-04       1.12e+00    \n",
      "      172            207        5.0739e-01      4.52e-04       6.75e-04       1.19e+00    \n",
      "      173            208        5.0699e-01      3.95e-04       1.30e-03       2.38e+00    \n",
      "      174            210        5.0646e-01      5.39e-04       1.43e-04       1.09e+00    \n",
      "      175            211        5.0626e-01      1.97e-04       3.09e-04       1.20e+00    \n",
      "      176            212        5.0589e-01      3.64e-04       6.40e-04       1.01e+00    \n",
      "      177            214        5.0575e-01      1.47e-04       9.88e-05       1.12e+00    \n",
      "      178            215        5.0563e-01      1.19e-04       1.70e-04       1.13e+00    \n",
      "      179            216        5.0539e-01      2.37e-04       3.47e-04       1.11e+00    \n",
      "      180            217        5.0495e-01      4.38e-04       6.71e-04       1.20e+00    \n",
      "      181            218        5.0469e-01      2.64e-04       1.27e-03       2.61e+00    \n",
      "      182            219        5.0407e-01      6.22e-04       1.41e-04       1.06e+00    \n",
      "      183            220        5.0392e-01      1.48e-04       2.64e-04       1.26e+00    \n",
      "      184            221        5.0367e-01      2.46e-04       2.96e-04       1.11e+00    \n",
      "      185            222        5.0324e-01      4.34e-04       6.70e-04       1.21e+00    \n",
      "      186            223        5.0301e-01      2.33e-04       1.26e-03       2.66e+00    \n",
      "      187            224        5.0237e-01      6.39e-04       1.40e-04       1.05e+00    \n",
      "      188            225        5.0223e-01      1.41e-04       2.54e-04       1.27e+00    \n",
      "      189            226        5.0198e-01      2.47e-04       2.93e-04       1.11e+00    \n",
      "      190            227        5.0154e-01      4.42e-04       6.74e-04       1.20e+00    \n",
      "      191            228        5.0123e-01      3.09e-04       1.28e-03       2.52e+00    \n",
      "      192            230        5.0064e-01      5.90e-04       1.41e-04       1.07e+00    \n",
      "      193            231        5.0048e-01      1.61e-04       2.79e-04       1.24e+00    \n",
      "      194            232        5.0024e-01      2.41e-04       3.02e-04       1.11e+00    \n",
      "      195            233        4.9983e-01      4.11e-04       6.64e-04       1.24e+00    \n",
      "      196            234        4.9974e-01      8.43e-05       1.20e-03       2.89e+00    \n",
      "      197            235        4.9902e-01      7.23e-04       1.39e-04       1.02e+00    \n",
      "      198            236        4.9888e-01      1.34e-04       2.18e-04       1.27e+00    \n",
      "      199            237        4.9864e-01      2.48e-04       2.91e-04       1.11e+00    \n",
      "      200            238        4.9819e-01      4.47e-04       6.77e-04       1.19e+00    \n",
      "      201            239        4.9781e-01      3.83e-04       1.31e-03       2.36e+00    \n",
      "      202            241        4.9727e-01      5.38e-04       1.43e-04       1.08e+00    \n",
      "      203            242        4.9708e-01      1.91e-04       3.07e-04       1.20e+00    \n",
      "      204            243        4.9685e-01      2.32e-04       3.18e-04       1.10e+00    \n",
      "      205            244        4.9649e-01      3.59e-04       6.48e-04       1.33e+00    \n",
      "      206            245        4.9615e-01      3.36e-04       5.52e-04       1.08e+00    \n",
      "      207            247        4.9600e-01      1.55e-04       9.50e-05       1.10e+00    \n",
      "      208            248        4.9588e-01      1.16e-04       1.67e-04       1.13e+00    \n",
      "      209            249        4.9565e-01      2.33e-04       3.48e-04       1.10e+00    \n",
      "      210            250        4.9524e-01      4.04e-04       6.63e-04       1.25e+00    \n",
      "      211            251        4.9519e-01      5.45e-05       1.19e-03       2.91e+00    \n",
      "      212            252        4.9445e-01      7.35e-04       1.38e-04       1.01e+00    \n",
      "      213            253        4.9432e-01      1.37e-04       2.12e-04       1.27e+00    \n",
      "      214            254        4.9407e-01      2.46e-04       2.93e-04       1.11e+00    \n",
      "      215            255        4.9363e-01      4.40e-04       6.77e-04       1.19e+00    \n",
      "      216            256        4.9330e-01      3.34e-04       1.29e-03       2.44e+00    \n",
      "      217            258        4.9273e-01      5.67e-04       1.42e-04       1.07e+00    \n",
      "      218            259        4.9256e-01      1.70e-04       2.89e-04       1.21e+00    \n",
      "      219            260        4.9232e-01      2.35e-04       3.08e-04       1.10e+00    \n",
      "      220            261        4.9194e-01      3.89e-04       6.59e-04       1.27e+00    \n",
      "      221            263        4.9169e-01      2.47e-04       2.91e-04       1.11e+00    \n",
      "      222            264        4.9146e-01      2.29e-04       3.40e-04       1.14e+00    \n",
      "      223            265        4.9103e-01      4.34e-04       6.94e-04       1.04e+00    \n",
      "      224            267        4.9089e-01      1.38e-04       2.52e-04       1.26e+00    \n",
      "      225            268        4.9064e-01      2.44e-04       2.94e-04       1.10e+00    \n",
      "      226            269        4.9021e-01      4.35e-04       6.76e-04       1.19e+00    \n",
      "      227            270        4.8991e-01      2.99e-04       1.29e-03       2.49e+00    \n",
      "      228            272        4.8932e-01      5.86e-04       1.41e-04       1.06e+00    \n",
      "      229            273        4.8917e-01      1.57e-04       2.77e-04       1.23e+00    \n",
      "      230            274        4.8893e-01      2.38e-04       3.02e-04       1.10e+00    \n",
      "      231            275        4.8852e-01      4.07e-04       6.67e-04       1.23e+00    \n",
      "      232            276        4.8844e-01      8.25e-05       1.21e-03       2.85e+00    \n",
      "      233            277        4.8773e-01      7.13e-04       1.38e-04       1.01e+00    \n",
      "      234            278        4.8759e-01      1.33e-04       2.18e-04       1.26e+00    \n",
      "      235            279        4.8735e-01      2.44e-04       2.93e-04       1.10e+00    \n",
      "      236            280        4.8712e-01      2.27e-04       3.39e-04       1.14e+00    \n",
      "      237            281        4.8669e-01      4.28e-04       6.94e-04       1.04e+00    \n",
      "      238            283        4.8656e-01      1.35e-04       2.47e-04       1.26e+00    \n",
      "      239            284        4.8631e-01      2.44e-04       2.93e-04       1.10e+00    \n",
      "      240            285        4.8588e-01      4.35e-04       6.78e-04       1.19e+00    \n",
      "      241            286        4.8557e-01      3.11e-04       1.29e-03       2.45e+00    \n",
      "      242            288        4.8499e-01      5.74e-04       1.41e-04       1.06e+00    \n",
      "      243            289        4.8483e-01      1.60e-04       2.82e-04       1.22e+00    \n",
      "      244            290        4.8460e-01      2.35e-04       3.05e-04       1.09e+00    \n",
      "      245            291        4.8420e-01      3.96e-04       6.65e-04       1.24e+00    \n",
      "      246            292        4.8417e-01      3.35e-05       1.19e-03       2.90e+00    \n",
      "      247            293        4.8343e-01      7.36e-04       1.38e-04       1.00e+00    \n",
      "      248            294        4.8330e-01      1.38e-04       2.08e-04       1.25e+00    \n",
      "      249            295        4.8306e-01      2.41e-04       2.95e-04       1.10e+00    \n",
      "      250            296        4.8263e-01      4.28e-04       6.77e-04       1.19e+00    \n",
      "      251            297        4.8236e-01      2.65e-04       1.28e-03       2.52e+00    \n",
      "      252            298        4.8176e-01      6.01e-04       1.40e-04       1.05e+00    \n",
      "      253            299        4.8162e-01      1.46e-04       2.67e-04       1.24e+00    \n",
      "      254            300        4.8138e-01      2.38e-04       2.99e-04       1.10e+00    \n",
      "      255            301        4.8096e-01      4.15e-04       6.73e-04       1.20e+00    \n",
      "      256            302        4.8081e-01      1.56e-04       1.25e-03       2.70e+00    \n",
      "      257            303        4.8014e-01      6.65e-04       1.39e-04       1.02e+00    \n",
      "      258            304        4.8001e-01      1.30e-04       2.34e-04       1.26e+00    \n",
      "      259            305        4.7977e-01      2.42e-04       2.93e-04       1.10e+00    \n",
      "      260            306        4.7954e-01      2.25e-04       3.40e-04       1.14e+00    \n",
      "      261            307        4.7912e-01      4.23e-04       6.96e-04       1.03e+00    \n",
      "      262            309        4.7899e-01      1.33e-04       2.47e-04       1.25e+00    \n",
      "      263            310        4.7875e-01      2.41e-04       2.94e-04       1.10e+00    \n",
      "      264            311        4.7852e-01      2.24e-04       3.39e-04       1.14e+00    \n",
      "      265            312        4.7810e-01      4.19e-04       6.95e-04       1.03e+00    \n",
      "      266            314        4.7797e-01      1.32e-04       2.43e-04       1.25e+00    \n",
      "      267            315        4.7773e-01      2.41e-04       2.94e-04       1.10e+00    \n",
      "      268            316        4.7751e-01      2.24e-04       3.40e-04       1.14e+00    \n",
      "      269            317        4.7709e-01      4.20e-04       6.96e-04       1.03e+00    \n",
      "      270            319        4.7696e-01      1.32e-04       2.45e-04       1.25e+00    \n",
      "      271            320        4.7672e-01      2.40e-04       2.94e-04       1.09e+00    \n",
      "      272            321        4.7649e-01      2.23e-04       3.40e-04       1.14e+00    \n",
      "      273            322        4.7607e-01      4.18e-04       6.96e-04       1.03e+00    \n",
      "      274            324        4.7594e-01      1.31e-04       2.44e-04       1.25e+00    \n",
      "      275            325        4.7570e-01      2.40e-04       2.94e-04       1.09e+00    \n",
      "      276            326        4.7548e-01      2.23e-04       3.40e-04       1.14e+00    \n",
      "      277            327        4.7506e-01      4.18e-04       6.96e-04       1.03e+00    \n",
      "      278            329        4.7493e-01      1.31e-04       2.44e-04       1.25e+00    \n",
      "      279            330        4.7469e-01      2.40e-04       2.94e-04       1.09e+00    \n",
      "      280            331        4.7447e-01      2.23e-04       3.40e-04       1.14e+00    \n",
      "      281            332        4.7405e-01      4.17e-04       6.96e-04       1.02e+00    \n",
      "      282            334        4.7392e-01      1.31e-04       2.44e-04       1.25e+00    \n",
      "      283            335        4.7368e-01      2.40e-04       2.94e-04       1.09e+00    \n",
      "      284            336        4.7346e-01      2.22e-04       3.40e-04       1.14e+00    \n",
      "      285            337        4.7304e-01      4.16e-04       6.96e-04       1.02e+00    \n",
      "      286            339        4.7291e-01      1.31e-04       2.43e-04       1.25e+00    \n",
      "      287            340        4.7267e-01      2.39e-04       2.94e-04       1.09e+00    \n",
      "      288            341        4.7245e-01      2.22e-04       3.40e-04       1.14e+00    \n",
      "      289            342        4.7203e-01      4.15e-04       6.97e-04       1.02e+00    \n",
      "      290            344        4.7190e-01      1.30e-04       2.43e-04       1.25e+00    \n",
      "      291            345        4.7166e-01      2.39e-04       2.94e-04       1.09e+00    \n",
      "      292            346        4.7144e-01      2.22e-04       3.40e-04       1.13e+00    \n",
      "      293            347        4.7103e-01      4.14e-04       6.97e-04       1.02e+00    \n",
      "      294            349        4.7090e-01      1.30e-04       2.43e-04       1.24e+00    \n",
      "      295            350        4.7066e-01      2.38e-04       2.94e-04       1.09e+00    \n",
      "      296            351        4.7044e-01      2.21e-04       3.40e-04       1.13e+00    \n",
      "      297            352        4.7002e-01      4.14e-04       6.97e-04       1.02e+00    \n",
      "      298            354        4.6990e-01      1.30e-04       2.43e-04       1.24e+00    \n",
      "      299            355        4.6966e-01      2.38e-04       2.94e-04       1.09e+00    \n",
      "      300            356        4.6944e-01      2.21e-04       3.40e-04       1.13e+00    \n",
      "      301            357        4.6902e-01      4.13e-04       6.97e-04       1.02e+00    \n",
      "      302            359        4.6889e-01      1.30e-04       2.43e-04       1.24e+00    \n",
      "      303            360        4.6866e-01      2.38e-04       2.94e-04       1.09e+00    \n",
      "      304            361        4.6844e-01      2.21e-04       3.41e-04       1.13e+00    \n",
      "      305            362        4.6802e-01      4.12e-04       6.97e-04       1.02e+00    \n",
      "      306            364        4.6789e-01      1.29e-04       2.42e-04       1.24e+00    \n",
      "      307            365        4.6766e-01      2.37e-04       2.94e-04       1.09e+00    \n",
      "      308            366        4.6744e-01      2.20e-04       3.41e-04       1.13e+00    \n",
      "      309            367        4.6703e-01      4.11e-04       6.98e-04       1.02e+00    \n",
      "      310            369        4.6690e-01      1.29e-04       2.42e-04       1.24e+00    \n",
      "      311            370        4.6666e-01      2.37e-04       2.95e-04       1.09e+00    \n",
      "      312            371        4.6644e-01      2.20e-04       3.41e-04       1.13e+00    \n",
      "      313            372        4.6603e-01      4.10e-04       6.98e-04       1.01e+00    \n",
      "      314            374        4.6590e-01      1.29e-04       2.42e-04       1.24e+00    \n",
      "      315            375        4.6566e-01      2.37e-04       2.95e-04       1.08e+00    \n",
      "      316            376        4.6544e-01      2.19e-04       3.41e-04       1.13e+00    \n",
      "      317            377        4.6503e-01      4.09e-04       6.98e-04       1.01e+00    \n",
      "      318            379        4.6491e-01      1.28e-04       2.42e-04       1.24e+00    \n",
      "      319            380        4.6467e-01      2.36e-04       2.95e-04       1.08e+00    \n",
      "      320            381        4.6445e-01      2.19e-04       3.41e-04       1.13e+00    \n",
      "      321            382        4.6404e-01      4.09e-04       6.98e-04       1.01e+00    \n",
      "      322            384        4.6391e-01      1.28e-04       2.41e-04       1.24e+00    \n",
      "      323            385        4.6368e-01      2.36e-04       2.95e-04       1.08e+00    \n",
      "      324            386        4.6346e-01      2.19e-04       3.41e-04       1.13e+00    \n",
      "      325            387        4.6305e-01      4.08e-04       6.98e-04       1.01e+00    \n",
      "      326            389        4.6292e-01      1.28e-04       2.41e-04       1.24e+00    \n",
      "      327            390        4.6269e-01      2.36e-04       2.95e-04       1.08e+00    \n",
      "      328            391        4.6247e-01      2.18e-04       3.41e-04       1.13e+00    \n",
      "      329            392        4.6206e-01      4.07e-04       6.98e-04       1.01e+00    \n",
      "      330            394        4.6194e-01      1.28e-04       2.41e-04       1.23e+00    \n",
      "      331            395        4.6170e-01      2.35e-04       2.95e-04       1.08e+00    \n",
      "      332            396        4.6148e-01      2.18e-04       3.41e-04       1.13e+00    \n",
      "      333            397        4.6108e-01      4.06e-04       6.99e-04       1.01e+00    \n",
      "      334            399        4.6095e-01      1.27e-04       2.41e-04       1.23e+00    \n",
      "      335            400        4.6071e-01      2.35e-04       2.95e-04       1.08e+00    \n",
      "      336            401        4.6050e-01      2.18e-04       3.41e-04       1.13e+00    \n",
      "      337            402        4.6009e-01      4.05e-04       6.99e-04       1.01e+00    \n",
      "      338            404        4.5996e-01      1.27e-04       2.40e-04       1.23e+00    \n",
      "      339            405        4.5973e-01      2.34e-04       2.95e-04       1.08e+00    \n",
      "      340            406        4.5951e-01      2.17e-04       3.41e-04       1.12e+00    \n",
      "      341            407        4.5911e-01      4.04e-04       6.99e-04       1.01e+00    \n",
      "      342            409        4.5898e-01      1.27e-04       2.40e-04       1.23e+00    \n",
      "      343            410        4.5875e-01      2.34e-04       2.95e-04       1.08e+00    \n",
      "      344            411        4.5853e-01      2.17e-04       3.41e-04       1.12e+00    \n",
      "      345            412        4.5813e-01      4.03e-04       6.99e-04       1.00e+00    \n",
      "      346            414        4.5800e-01      1.26e-04       2.40e-04       1.23e+00    \n",
      "      347            415        4.5777e-01      2.34e-04       2.95e-04       1.08e+00    \n",
      "      348            416        4.5755e-01      2.16e-04       3.41e-04       1.12e+00    \n",
      "      349            417        4.5715e-01      4.02e-04       6.99e-04       1.00e+00    \n",
      "      350            419        4.5702e-01      1.26e-04       2.40e-04       1.23e+00    \n",
      "      351            420        4.5679e-01      2.33e-04       2.95e-04       1.08e+00    \n",
      "      352            421        4.5657e-01      2.16e-04       3.41e-04       1.12e+00    \n",
      "      353            422        4.5617e-01      4.02e-04       6.99e-04       1.00e+00    \n",
      "      354            424        4.5605e-01      1.26e-04       2.39e-04       1.23e+00    \n",
      "      355            425        4.5581e-01      2.33e-04       2.95e-04       1.07e+00    \n",
      "      356            426        4.5560e-01      2.16e-04       3.41e-04       1.12e+00    \n",
      "      357            427        4.5520e-01      4.01e-04       7.00e-04       1.00e+00    \n",
      "      358            429        4.5507e-01      1.26e-04       2.39e-04       1.23e+00    \n",
      "      359            430        4.5484e-01      2.33e-04       2.95e-04       1.07e+00    \n",
      "      360            431        4.5462e-01      2.15e-04       3.41e-04       1.12e+00    \n",
      "      361            432        4.5422e-01      4.00e-04       7.00e-04       9.99e-01    \n",
      "      362            434        4.5410e-01      1.25e-04       2.39e-04       1.22e+00    \n",
      "      363            435        4.5387e-01      2.32e-04       2.95e-04       1.07e+00    \n",
      "      364            436        4.5365e-01      2.15e-04       3.41e-04       1.12e+00    \n",
      "      365            437        4.5325e-01      3.99e-04       7.00e-04       9.98e-01    \n",
      "      366            439        4.5313e-01      1.25e-04       2.39e-04       1.22e+00    \n",
      "      367            440        4.5290e-01      2.32e-04       2.95e-04       1.07e+00    \n",
      "      368            441        4.5268e-01      2.14e-04       3.42e-04       1.12e+00    \n",
      "      369            442        4.5228e-01      3.98e-04       7.00e-04       9.97e-01    \n",
      "      370            444        4.5216e-01      1.25e-04       2.38e-04       1.22e+00    \n",
      "      371            445        4.5193e-01      2.31e-04       2.95e-04       1.07e+00    \n",
      "      372            446        4.5171e-01      2.14e-04       3.42e-04       1.12e+00    \n",
      "      373            447        4.5132e-01      3.97e-04       7.00e-04       9.95e-01    \n",
      "      374            449        4.5119e-01      1.24e-04       2.38e-04       1.22e+00    \n",
      "      375            450        4.5096e-01      2.31e-04       2.95e-04       1.07e+00    \n",
      "      376            451        4.5075e-01      2.14e-04       3.42e-04       1.12e+00    \n",
      "      377            452        4.5035e-01      3.96e-04       7.00e-04       9.94e-01    \n",
      "      378            454        4.5023e-01      1.24e-04       2.38e-04       1.22e+00    \n",
      "      379            455        4.5000e-01      2.31e-04       2.95e-04       1.07e+00    \n",
      "      380            456        4.4978e-01      2.13e-04       3.42e-04       1.12e+00    \n",
      "      381            457        4.4939e-01      3.95e-04       7.01e-04       9.92e-01    \n",
      "      382            459        4.4926e-01      1.24e-04       2.37e-04       1.22e+00    \n",
      "      383            460        4.4903e-01      2.30e-04       2.95e-04       1.07e+00    \n",
      "      384            461        4.4882e-01      2.13e-04       3.42e-04       1.11e+00    \n",
      "      385            462        4.4843e-01      3.94e-04       7.01e-04       9.91e-01    \n",
      "      386            464        4.4830e-01      1.23e-04       2.37e-04       1.22e+00    \n",
      "      387            465        4.4807e-01      2.30e-04       2.95e-04       1.07e+00    \n",
      "      388            466        4.4786e-01      2.12e-04       3.42e-04       1.11e+00    \n",
      "      389            467        4.4747e-01      3.93e-04       7.01e-04       9.90e-01    \n",
      "      390            469        4.4735e-01      1.23e-04       2.37e-04       1.21e+00    \n",
      "      391            470        4.4712e-01      2.30e-04       2.95e-04       1.06e+00    \n",
      "      392            471        4.4690e-01      2.12e-04       3.42e-04       1.11e+00    \n",
      "      393            472        4.4651e-01      3.92e-04       7.01e-04       9.88e-01    \n",
      "      394            474        4.4639e-01      1.23e-04       2.36e-04       1.21e+00    \n",
      "      395            475        4.4616e-01      2.29e-04       2.95e-04       1.06e+00    \n",
      "      396            476        4.4595e-01      2.12e-04       3.42e-04       1.11e+00    \n",
      "      397            477        4.4556e-01      3.91e-04       7.01e-04       9.87e-01    \n",
      "      398            479        4.4543e-01      1.23e-04       2.36e-04       1.21e+00    \n",
      "      399            480        4.4521e-01      2.29e-04       2.95e-04       1.06e+00    \n",
      "      400            481        4.4499e-01      2.11e-04       3.42e-04       1.11e+00    \n",
      "      401            482        4.4460e-01      3.90e-04       7.01e-04       9.85e-01    \n",
      "      402            484        4.4448e-01      1.22e-04       2.36e-04       1.21e+00    \n",
      "      403            485        4.4425e-01      2.28e-04       2.95e-04       1.06e+00    \n",
      "      404            486        4.4404e-01      2.11e-04       3.42e-04       1.11e+00    \n",
      "      405            487        4.4365e-01      3.89e-04       7.01e-04       9.84e-01    \n",
      "      406            489        4.4353e-01      1.22e-04       2.35e-04       1.21e+00    \n",
      "      407            490        4.4330e-01      2.28e-04       2.95e-04       1.06e+00    \n",
      "      408            491        4.4309e-01      2.10e-04       3.42e-04       1.11e+00    \n",
      "      409            492        4.4271e-01      3.88e-04       7.01e-04       9.82e-01    \n",
      "      410            494        4.4258e-01      1.22e-04       2.35e-04       1.21e+00    \n",
      "      411            495        4.4236e-01      2.28e-04       2.95e-04       1.06e+00    \n",
      "      412            496        4.4215e-01      2.10e-04       3.42e-04       1.11e+00    \n",
      "      413            497        4.4176e-01      3.87e-04       7.02e-04       9.81e-01    \n",
      "      414            499        4.4164e-01      1.21e-04       2.35e-04       1.21e+00    \n",
      "      415            500        4.4141e-01      2.27e-04       2.96e-04       1.06e+00    \n",
      "The maximum number of function evaluations is exceeded.\n",
      "Function evaluations 500, initial cost 1.5702e+05, final cost 4.4141e-01, first-order optimality 1.06e+00.\n"
     ]
    }
   ],
   "source": [
    "# Define the objective function\n",
    "def cost_function(x, strikes, mkt_prices):\n",
    "    sigm, lamb, p, eta1, eta2 = x\n",
    "    KOU = Kou_pricer(S0=S0, K=strikes, ttm=T, r=r, sigma=sigm, lambd=lamb, p=p, eta1=eta1, eta2=eta2, exercise=exercise)\n",
    "    sq_err = np.sum(c_weights*(KOU.closed_formula_call(strikes) - mkt_prices)**2)\n",
    "    return sq_err\n",
    "\n",
    "start2=time.time()\n",
    "kou2 = scpo.least_squares(cost_function, x0, args=(call_strikes, call_prices),  method='trf', bounds=bounds, verbose=2)\n",
    "end2=time.time()"
   ],
   "metadata": {
    "collapsed": false
   }
  },
  {
   "cell_type": "code",
   "execution_count": 53,
   "outputs": [],
   "source": [
    "kou_params2 = [round(p,4) for p in kou2.x[:5]]"
   ],
   "metadata": {
    "collapsed": false
   }
  },
  {
   "cell_type": "code",
   "execution_count": 54,
   "outputs": [],
   "source": [
    "# print('WEIGHTED OPT: CURVE_FIT (trf)')\n",
    "# print(f'> Calibrated Volatlity [σ] = {kou_params1[0]} \\t {kou_params1[0] * 100}%')\n",
    "# print('> Calibrated Jump intensity [λ] = ', kou_params1[1])\n",
    "# print(f'> Calibrated Upward Jump probability [p] = {kou_params1[2]}, [q] = {round(1 - kou_params1[2], 2)}')\n",
    "# print('> Calibrated Rate of Exp. 1  [η_1] = ', kou_params1[3])\n",
    "# print('> Calibrated Rate of Exp. 2  [η_2] = ', kou_params1[4])\n",
    "# print(f'TIME ELAPSED: {end1-start1} sec')"
   ],
   "metadata": {
    "collapsed": false
   }
  },
  {
   "cell_type": "code",
   "execution_count": 55,
   "outputs": [
    {
     "name": "stdout",
     "output_type": "stream",
     "text": [
      "METHOD 2: Least-squares\n",
      "> Calibrated Volatlity [σ] = 0.3547 \t 35.47%\n",
      "> Calibrated Jump intensity [λ] =  0.92\n",
      "> Calibrated Upward Jump probability [p] = 0.57, [q] = 0.43\n",
      "> Calibrated Rate of Exp. 1  [η_1] =  7.84\n",
      "> Calibrated Rate of Exp. 2  [η_2] =  10.03\n",
      "TIME ELAPSED:  403.77 sec\n"
     ]
    }
   ],
   "source": [
    "print('METHOD 2: Least-squares')\n",
    "print(f'> Calibrated Volatlity [σ] = {round(kou_params2[0],4)} \\t {round(kou_params2[0]*100,2)}%')\n",
    "print('> Calibrated Jump intensity [λ] = ', round(kou_params2[1],2))\n",
    "print(f'> Calibrated Upward Jump probability [p] = {round(kou_params2[2],2)}, [q] = {round(1-kou_params2[2],2)}')\n",
    "print('> Calibrated Rate of Exp. 1  [η_1] = ', round(kou_params2[3],2))\n",
    "print('> Calibrated Rate of Exp. 2  [η_2] = ', round(kou_params2[4],2))\n",
    "print(f'TIME ELAPSED:  {round(end2-start2,2)} sec')"
   ],
   "metadata": {
    "collapsed": false
   }
  },
  {
   "cell_type": "code",
   "execution_count": 56,
   "outputs": [
    {
     "name": "stdout",
     "output_type": "stream",
     "text": [
      "[0.3547, 0.9235, 0.5685, 7.8424, 10.0337]\n"
     ]
    }
   ],
   "source": [
    "#print(kou_params1)\n",
    "print(kou_params2)\n",
    "calls_kou_params_tsla = kou_params2\n",
    "%store calls_kou_params_tsla"
   ],
   "metadata": {
    "collapsed": false
   }
  },
  {
   "cell_type": "markdown",
   "source": [
    "### Variance Gamma\n"
   ],
   "metadata": {
    "collapsed": false
   }
  },
  {
   "cell_type": "code",
   "execution_count": 42,
   "outputs": [],
   "source": [
    "x0 = [0.25, -0.2, 0.2]   # initial guess: [σ, θ, v]\n",
    "bounds = ( [1e-3, -5, 0], [1, 5, 5] )"
   ],
   "metadata": {
    "collapsed": false
   }
  },
  {
   "cell_type": "markdown",
   "source": [
    "##### Method 1. CURVE FIT (Bounds)"
   ],
   "metadata": {
    "collapsed": false
   }
  },
  {
   "cell_type": "code",
   "execution_count": null,
   "outputs": [],
   "source": [
    "def f_VG(strikes, sigmax, thetax, nux):\n",
    "    VGamma = VG_pricer(S0=S0, K=None, ttm=T, r=r, q=0, sigma=sigmax, theta=thetax, nu=nux, exercise=exercise)\n",
    "    vg_prices = []\n",
    "    for k in strikes:\n",
    "        vg_prices.append(VGamma.closed_formula_call(k))\n",
    "    return vg_prices\n",
    "\n",
    "start1 = time.time()\n",
    "vg1 = scpo.curve_fit(f_VG, call_strikes, call_prices, p0=x0, bounds=bounds, sigma=c_weights)\n",
    "end1 = time.time()"
   ],
   "metadata": {
    "collapsed": false
   }
  },
  {
   "cell_type": "code",
   "execution_count": 57,
   "outputs": [],
   "source": [
    "vg_params1 = [round(p,4) for p in vg1[0][:3]]"
   ],
   "metadata": {
    "collapsed": false
   }
  },
  {
   "cell_type": "markdown",
   "source": [
    "##### Method 2. LEAST-SQUARES (Trust Region Reflective, Bounds)"
   ],
   "metadata": {
    "collapsed": false
   }
  },
  {
   "cell_type": "code",
   "execution_count": null,
   "outputs": [],
   "source": [
    "def cost_function(x, strikes, mkt_prices):\n",
    "    sigma, theta, nu = x\n",
    "    VG = VG_pricer(S0, None, T, r, q, sigma, theta, nu, exercise)\n",
    "    prices = []\n",
    "    for k in strikes:\n",
    "        prices.append(VG.closed_formula_call(k))\n",
    "    sq_err = np.sum(c_weights*(prices - mkt_prices)**2)\n",
    "    return sq_err\n",
    "\n",
    "start2=time.time()\n",
    "vg2 = scpo.least_squares(cost_function, x0, args=(call_strikes, call_prices),  method='trf', bounds=bounds, verbose=2, loss='soft_l1')\n",
    "end2=time.time()"
   ],
   "metadata": {
    "collapsed": false
   }
  },
  {
   "cell_type": "code",
   "execution_count": 58,
   "outputs": [],
   "source": [
    "vg_params2 = [round(p,4) for p in vg2.x[:3]]"
   ],
   "metadata": {
    "collapsed": false
   }
  },
  {
   "cell_type": "code",
   "execution_count": 59,
   "outputs": [
    {
     "name": "stdout",
     "output_type": "stream",
     "text": [
      "WEIGHTED OPT: CURVE_FIT (trf)\n",
      "> Calibrated Volatlity [σ] = 0.0304, \t 3.04%\n",
      "> Calibrated mean rate gamma process [θ] =  -1.9524\n",
      "> Calibrated variance rate gamma process [v]=  0.0374\n",
      "TIME ELAPSED:  313.15 sec\n",
      "METHOD 1: LEAST-SQUARES (trf)\n",
      "> Calibrated Volatlity [σ] = 0.3917, \t 39.17%\n",
      "> Calibrated mean rate gamma process [θ] =  -0.0513\n",
      "> Calibrated variance rate gamma process [v]=  0.234\n",
      "TIME ELAPSED:  403.77 sec\n"
     ]
    }
   ],
   "source": [
    "print('WEIGHTED OPT: CURVE_FIT (trf)')\n",
    "print(f'> Calibrated Volatlity [σ] = {vg_params1[0]}, \\t {round(vg_params1[0]*100,2)}%')\n",
    "print('> Calibrated mean rate gamma process [θ] = ', vg_params1[1])\n",
    "print('> Calibrated variance rate gamma process [v]= ', vg_params1[2])\n",
    "print(f'TIME ELAPSED:  {round(end1-start1,2)} sec')\n",
    "\n",
    "print('METHOD 1: LEAST-SQUARES (trf)')\n",
    "print(f'> Calibrated Volatlity [σ] = {vg_params2[0]}, \\t {round(vg_params2[0]*100,2)}%')\n",
    "print('> Calibrated mean rate gamma process [θ] = ', vg_params2[1])\n",
    "print('> Calibrated variance rate gamma process [v]= ', vg_params2[2])\n",
    "print(f'TIME ELAPSED:  {round(end2-start2,2)} sec')"
   ],
   "metadata": {
    "collapsed": false
   }
  },
  {
   "cell_type": "code",
   "execution_count": 60,
   "outputs": [
    {
     "name": "stdout",
     "output_type": "stream",
     "text": [
      "[0.0304, -1.9524, 0.0374]\n",
      "[0.3917, -0.0513, 0.234]\n"
     ]
    }
   ],
   "source": [
    "print(vg_params1)\n",
    "print(vg_params2)\n",
    "calls_vg_params_tsla = vg_params2\n",
    "%store calls_vg_params_tsla"
   ],
   "metadata": {
    "collapsed": false
   }
  },
  {
   "cell_type": "markdown",
   "source": [
    "### Reprice options using calibrated parameters\n",
    "Once we have calibrated all the models, we test our parameters calibration by repricing the original dataframe of options. The table contains all the **BID**, **ASK** and **MIDPOINT** prices. The calibration is well perfromed if the prices we obtain belong to the interval $[BID, ASK]$."
   ],
   "metadata": {
    "collapsed": false
   }
  },
  {
   "cell_type": "code",
   "execution_count": 61,
   "outputs": [
    {
     "name": "stdout",
     "output_type": "stream",
     "text": [
      "MARKET PRICES. STARTING DATE = 20-01-2016. EXPIRY = 1YEAR. \n",
      "\n",
      "    STRIKE  MKT_BID  MKT_MID  MKT_ASK\n",
      "0    150.0    58.64   59.725    60.81\n",
      "1    155.0    55.15   56.370    57.59\n",
      "2    160.0    52.39   53.320    54.25\n",
      "3    165.0    49.51   50.685    51.86\n",
      "4    170.0    46.79   47.595    48.40\n",
      "5    175.0    43.90   44.830    45.76\n",
      "6    180.0    41.41   42.175    42.94\n",
      "7    185.0    38.80   39.670    40.54\n",
      "8    190.0    36.60   37.400    38.20\n",
      "9    195.0    34.09   34.950    35.81\n",
      "10   200.0    31.90   32.775    33.65\n",
      "11   210.0    27.96   28.880    29.80\n",
      "12   220.0    24.60   25.355    26.11\n",
      "13   230.0    21.55   22.920    24.29\n",
      "14   240.0    18.45   19.300    20.15\n",
      "15   250.0    15.80   16.575    17.35\n",
      "16   260.0    13.51   14.430    15.35\n"
     ]
    }
   ],
   "source": [
    "days = 252\n",
    "paths = 1000\n",
    "\n",
    "call_calib_prices = pd.DataFrame({\n",
    "    'STRIKE': calls['STRIKE'],    # array of K for call options\n",
    "    'MKT_BID': calls['C_BID'],\n",
    "    'MKT_MID': calls['C_Midpoint'],\n",
    "    'MKT_ASK': calls['C_ASK'],\n",
    "\n",
    "})\n",
    "print(f'MARKET PRICES. STARTING DATE = 20-01-2016. EXPIRY = 1YEAR. \\n\\n{call_calib_prices}')"
   ],
   "metadata": {
    "collapsed": false
   }
  },
  {
   "cell_type": "markdown",
   "source": [
    "#### Merton Jump Diffusion model"
   ],
   "metadata": {
    "collapsed": false
   }
  },
  {
   "cell_type": "code",
   "execution_count": 62,
   "outputs": [
    {
     "name": "stdout",
     "output_type": "stream",
     "text": [
      "    STRIKE  MKT_BID  MKT_MID  MKT_ASK  MERTON MC  MERTON CF\n",
      "0    150.0    58.64   59.725    60.81  61.184697  60.635060\n",
      "1    155.0    55.15   56.370    57.59  57.708725  57.164951\n",
      "2    160.0    52.39   53.320    54.25  54.370125  53.843501\n",
      "3    165.0    49.51   50.685    51.86  51.193877  50.672172\n",
      "4    170.0    46.79   47.595    48.40  48.200974  47.651215\n",
      "5    175.0    43.90   44.830    45.76  45.380824  44.779775\n",
      "6    180.0    41.41   42.175    42.94  42.696694  42.056003\n",
      "7    185.0    38.80   39.670    40.54  40.146511  39.477180\n",
      "8    190.0    36.60   37.400    38.20  37.717557  37.039842\n",
      "9    195.0    34.09   34.950    35.81  35.408990  34.739907\n",
      "10   200.0    31.90   32.775    33.65  33.208742  32.572788\n",
      "11   210.0    27.96   28.880    29.80  29.128163  28.616829\n",
      "12   220.0    24.60   25.355    26.11  25.497037  25.129307\n",
      "13   230.0    21.55   22.920    24.29  22.343568  22.065713\n",
      "14   240.0    18.45   19.300    20.15  19.528086  19.381809\n",
      "15   250.0    15.80   16.575    17.35  17.012634  17.035132\n",
      "16   260.0    13.51   14.430    15.35  14.847376  14.985962\n"
     ]
    }
   ],
   "source": [
    "\n",
    "sigma, lambd, meanJ, stdJ = mert_params2\n",
    "MertonCAL = Merton_pricer(S0, None, T, r, q, sigma, lambd, meanJ, stdJ, exercise)\n",
    "SMerton_CAL = MertonCAL.MertonPath(days, paths)\n",
    "\n",
    "avg_payoffs = []\n",
    "for k in call_strikes:\n",
    "    payoffs = []        # stores here the payoff for each path, for a specific couple K1-K2\n",
    "    for St in SMerton_CAL[-1]:\n",
    "        payoffs.append(MertonCAL.payoff_call(k, St))\n",
    "    avg_payoffs.append(np.mean(payoffs))\n",
    "\n",
    "merton_mc_prices = np.zeros(len(call_calib_prices))\n",
    "merton_cf_prices = np.zeros(len(call_calib_prices))\n",
    "\n",
    "for index in range(len(call_calib_prices)):\n",
    "    merton_mc_prices[index] = np.exp(-r*T)* avg_payoffs[index]\n",
    "    merton_cf_prices[index] = MertonCAL.closed_formula_call(call_strikes[index])\n",
    "\n",
    "call_calib_prices['MERTON MC'] = merton_mc_prices\n",
    "call_calib_prices['MERTON CF'] = merton_cf_prices\n",
    "\n",
    "print(call_calib_prices)"
   ],
   "metadata": {
    "collapsed": false
   }
  },
  {
   "cell_type": "code",
   "execution_count": 63,
   "outputs": [
    {
     "name": "stdout",
     "output_type": "stream",
     "text": [
      "    STRIKE  MKT_BID  MKT_MID  MKT_ASK     KOU MC     KOU CF\n",
      "0    150.0    58.64   59.725    60.81  59.347331  60.850401\n",
      "1    155.0    55.15   56.370    57.59  55.833165  57.387349\n",
      "2    160.0    52.39   53.320    54.25  52.498066  54.067619\n",
      "3    165.0    49.51   50.685    51.86  49.320301  50.892381\n",
      "4    170.0    46.79   47.595    48.40  46.337800  47.861785\n",
      "5    175.0    43.90   44.830    45.76  43.520275  44.975053\n",
      "6    180.0    41.41   42.175    42.94  40.884766  42.230569\n",
      "7    185.0    38.80   39.670    40.54  38.362936  39.625981\n",
      "8    190.0    36.60   37.400    38.20  35.945061  37.158300\n",
      "9    195.0    34.09   34.950    35.81  33.659669  34.823999\n",
      "10   200.0    31.90   32.775    33.65  31.492487  32.619105\n",
      "11   210.0    27.96   28.880    29.80  27.501580  28.579935\n",
      "12   220.0    24.60   25.355    26.11  23.968845  25.003281\n",
      "13   230.0    21.55   22.920    24.29  20.870864  21.849421\n",
      "14   240.0    18.45   19.300    20.15  18.207187  19.078212\n",
      "15   250.0    15.80   16.575    17.35  15.902444  16.650411\n",
      "16   260.0    13.51   14.430    15.35  13.838598  14.528615\n"
     ]
    }
   ],
   "source": [
    "sigma, lambd, p, eta1, eta2 = kou_params2\n",
    "KouCAL = Kou_pricer(S0, None, T, r, sigma, lambd, p, eta1, eta2, exercise)\n",
    "SKou_CAL = KouCAL.KouPath(days, paths)\n",
    "\n",
    "avg_payoffs = []\n",
    "for k in call_strikes:\n",
    "    payoffs = []        # stores here the payoff for each path, for a specific couple K1-K2\n",
    "    for St in SKou_CAL[-1]:\n",
    "        payoffs.append(KouCAL.payoff_call(k, St))\n",
    "    avg_payoffs.append(np.mean(payoffs))\n",
    "\n",
    "kou_mc_prices = np.zeros(len(call_calib_prices))\n",
    "kou_cf_prices = np.zeros(len(call_calib_prices))\n",
    "\n",
    "for index in range(len(call_calib_prices)):\n",
    "    kou_mc_prices[index] = np.exp(-r*T)* avg_payoffs[index]\n",
    "    kou_cf_prices[index] = KouCAL.closed_formula_call(call_strikes[index])\n",
    "\n",
    "call_calib_prices['KOU MC'] = kou_mc_prices\n",
    "call_calib_prices['KOU CF'] = kou_cf_prices\n",
    "\n",
    "selection = [0,1,2,3,6,7]\n",
    "print(call_calib_prices.iloc[:, selection])"
   ],
   "metadata": {
    "collapsed": false
   }
  },
  {
   "cell_type": "code",
   "execution_count": 64,
   "outputs": [
    {
     "name": "stdout",
     "output_type": "stream",
     "text": [
      "    STRIKE  MKT_BID  MKT_MID  MKT_ASK      VG MC      VG CF\n",
      "0    150.0    58.64   59.725    60.81  62.429076  60.733460\n",
      "1    155.0    55.15   56.370    57.59  58.795343  57.234286\n",
      "2    160.0    52.39   53.320    54.25  55.292250  53.883682\n",
      "3    165.0    49.51   50.685    51.86  51.949840  50.684556\n",
      "4    170.0    46.79   47.595    48.40  48.746699  47.638438\n",
      "5    175.0    43.90   44.830    45.76  45.673234  44.745511\n",
      "6    180.0    41.41   42.175    42.94  42.707394  42.004676\n",
      "7    185.0    38.80   39.670    40.54  39.841206  39.413666\n",
      "8    190.0    36.60   37.400    38.20  37.144967  36.969187\n",
      "9    195.0    34.09   34.950    35.81  34.621163  34.667072\n",
      "10   200.0    31.90   32.775    33.65  32.227073  32.502452\n",
      "11   210.0    27.96   28.880    29.80  27.818036  28.563686\n",
      "12   220.0    24.60   25.355    26.11  23.975797  25.105826\n",
      "13   230.0    21.55   22.920    24.29  20.631086  22.079626\n",
      "14   240.0    18.45   19.300    20.15  17.755924  19.436596\n",
      "15   250.0    15.80   16.575    17.35  15.223631  17.130891\n",
      "16   260.0    13.51   14.430    15.35  12.999341  15.120371\n"
     ]
    }
   ],
   "source": [
    "\n",
    "sigm, theta, nu = vg_params2\n",
    "VGCAL = VG_pricer(S0, None, T, r, q, sigm, theta, nu, exercise)\n",
    "SVarGamma_CAL = VGCAL.VarianceGammaPath2(days, paths)\n",
    "\n",
    "avg_payoffs = []\n",
    "for k in call_strikes:\n",
    "    payoffs = []        # stores here the payoff for each path, for a specific couple K1-K2\n",
    "    for St in SVarGamma_CAL[-1]:\n",
    "        payoffs.append(VGCAL.payoff_call(k, St))\n",
    "    avg_payoffs.append(np.mean(payoffs))\n",
    "\n",
    "vg_mc_prices = np.zeros(len(call_calib_prices))\n",
    "vg_cf_prices = np.zeros(len(call_calib_prices))\n",
    "\n",
    "for index in range(len(call_calib_prices)):\n",
    "    vg_mc_prices[index] = np.exp(-r*T)* avg_payoffs[index]\n",
    "    vg_cf_prices[index] = VGCAL.closed_formula_call(call_strikes[index])\n",
    "\n",
    "call_calib_prices['VG MC'] = vg_mc_prices\n",
    "call_calib_prices['VG CF'] = vg_cf_prices\n",
    "\n",
    "selection = [0,1,2,3,8,9]\n",
    "print(call_calib_prices.iloc[:, selection])"
   ],
   "metadata": {
    "collapsed": false
   }
  },
  {
   "cell_type": "code",
   "execution_count": 65,
   "outputs": [
    {
     "name": "stdout",
     "output_type": "stream",
     "text": [
      "    STRIKE  MKT_BID  MKT_MID  MKT_ASK  MERTON MC  MERTON CF     KOU MC   \n",
      "0    150.0    58.64   59.725    60.81  61.184697  60.635060  59.347331  \\\n",
      "1    155.0    55.15   56.370    57.59  57.708725  57.164951  55.833165   \n",
      "2    160.0    52.39   53.320    54.25  54.370125  53.843501  52.498066   \n",
      "3    165.0    49.51   50.685    51.86  51.193877  50.672172  49.320301   \n",
      "4    170.0    46.79   47.595    48.40  48.200974  47.651215  46.337800   \n",
      "5    175.0    43.90   44.830    45.76  45.380824  44.779775  43.520275   \n",
      "6    180.0    41.41   42.175    42.94  42.696694  42.056003  40.884766   \n",
      "7    185.0    38.80   39.670    40.54  40.146511  39.477180  38.362936   \n",
      "8    190.0    36.60   37.400    38.20  37.717557  37.039842  35.945061   \n",
      "9    195.0    34.09   34.950    35.81  35.408990  34.739907  33.659669   \n",
      "10   200.0    31.90   32.775    33.65  33.208742  32.572788  31.492487   \n",
      "11   210.0    27.96   28.880    29.80  29.128163  28.616829  27.501580   \n",
      "12   220.0    24.60   25.355    26.11  25.497037  25.129307  23.968845   \n",
      "13   230.0    21.55   22.920    24.29  22.343568  22.065713  20.870864   \n",
      "14   240.0    18.45   19.300    20.15  19.528086  19.381809  18.207187   \n",
      "15   250.0    15.80   16.575    17.35  17.012634  17.035132  15.902444   \n",
      "16   260.0    13.51   14.430    15.35  14.847376  14.985962  13.838598   \n",
      "\n",
      "       KOU CF      VG MC      VG CF  \n",
      "0   60.850401  62.429076  60.733460  \n",
      "1   57.387349  58.795343  57.234286  \n",
      "2   54.067619  55.292250  53.883682  \n",
      "3   50.892381  51.949840  50.684556  \n",
      "4   47.861785  48.746699  47.638438  \n",
      "5   44.975053  45.673234  44.745511  \n",
      "6   42.230569  42.707394  42.004676  \n",
      "7   39.625981  39.841206  39.413666  \n",
      "8   37.158300  37.144967  36.969187  \n",
      "9   34.823999  34.621163  34.667072  \n",
      "10  32.619105  32.227073  32.502452  \n",
      "11  28.579935  27.818036  28.563686  \n",
      "12  25.003281  23.975797  25.105826  \n",
      "13  21.849421  20.631086  22.079626  \n",
      "14  19.078212  17.755924  19.436596  \n",
      "15  16.650411  15.223631  17.130891  \n",
      "16  14.528615  12.999341  15.120371  \n"
     ]
    }
   ],
   "source": [
    "print(call_calib_prices)"
   ],
   "metadata": {
    "collapsed": false
   }
  },
  {
   "cell_type": "markdown",
   "source": [
    "### Visualize calibration results"
   ],
   "metadata": {
    "collapsed": false
   }
  },
  {
   "cell_type": "markdown",
   "source": [
    "#### Closed Formulas Option pricing"
   ],
   "metadata": {
    "collapsed": false
   }
  },
  {
   "cell_type": "code",
   "execution_count": 66,
   "outputs": [
    {
     "data": {
      "text/plain": "<Figure size 1700x400 with 3 Axes>",
      "image/png": "[encoded data removed]"
     },
     "metadata": {},
     "output_type": "display_data"
    }
   ],
   "source": [
    "fig = plt.figure(figsize=(17, 4))\n",
    "ax1 = fig.add_subplot(131)\n",
    "ax2 = fig.add_subplot(132)\n",
    "ax3 = fig.add_subplot(133)\n",
    "ax1.plot(call_strikes, call_prices, \".\", label=\"midpoint\")\n",
    "ax2.plot(call_strikes, call_prices, \".\", label=\"midpoint\")\n",
    "ax3.plot(call_strikes, call_prices, \".\", label=\"midpoint\")\n",
    "ax1.plot(call_strikes, merton_cf_prices, label=\"Merton\")\n",
    "ax2.plot(call_strikes, kou_cf_prices, label=\"Kou\")\n",
    "ax3.plot(call_strikes, vg_cf_prices, label=\"VG\")\n",
    "ax1.set_title(\"Merton model\")\n",
    "ax2.set_title(\"Kou model\")\n",
    "ax3.set_title(\"VG model\")\n",
    "ax1.set_xlabel(\"strike\")\n",
    "ax2.set_xlabel(\"strike\")\n",
    "ax3.set_xlabel(\"strike\")\n",
    "ax1.legend()\n",
    "ax2.legend()\n",
    "ax3.legend()\n",
    "plt.show()"
   ],
   "metadata": {
    "collapsed": false
   }
  },
  {
   "cell_type": "markdown",
   "source": [
    "#### Monte Carlo option pricing"
   ],
   "metadata": {
    "collapsed": false
   }
  },
  {
   "cell_type": "code",
   "execution_count": 67,
   "outputs": [
    {
     "data": {
      "text/plain": "<Figure size 1700x400 with 3 Axes>",
      "image/png": "[encoded data removed]"
     },
     "metadata": {},
     "output_type": "display_data"
    }
   ],
   "source": [
    "fig = plt.figure(figsize=(17, 4))\n",
    "ax1 = fig.add_subplot(131)\n",
    "ax2 = fig.add_subplot(132)\n",
    "ax3 = fig.add_subplot(133)\n",
    "ax1.plot(call_strikes, call_prices, \".\", label=\"midpoint\")\n",
    "ax2.plot(call_strikes, call_prices, \".\", label=\"midpoint\")\n",
    "ax3.plot(call_strikes, call_prices, \".\", label=\"midpoint\")\n",
    "ax1.plot(call_strikes, merton_mc_prices, label=\"Merton\")\n",
    "ax2.plot(call_strikes, kou_mc_prices, label=\"Kou\")\n",
    "ax3.plot(call_strikes, vg_mc_prices, label=\"VG\")\n",
    "ax1.set_title(\"Merton model\")\n",
    "ax2.set_title(\"Kou model\")\n",
    "ax3.set_title(\"VG model\")\n",
    "ax1.set_xlabel(\"strike\")\n",
    "ax2.set_xlabel(\"strike\")\n",
    "ax3.set_xlabel(\"strike\")\n",
    "ax1.legend()\n",
    "ax2.legend()\n",
    "ax3.legend()\n",
    "plt.show()"
   ],
   "metadata": {
    "collapsed": false
   }
  },
  {
   "cell_type": "code",
   "execution_count": null,
   "outputs": [],
   "source": [],
   "metadata": {
    "collapsed": false
   }
  }
 ],
 "metadata": {
  "kernelspec": {
   "display_name": "Python 3",
   "language": "python",
   "name": "python3"
  },
  "language_info": {
   "codemirror_mode": {
    "name": "ipython",
    "version": 2
   },
   "file_extension": ".py",
   "mimetype": "text/x-python",
   "name": "python",
   "nbconvert_exporter": "python",
   "pygments_lexer": "ipython2",
   "version": "2.7.6"
  }
 },
 "nbformat": 4,
 "nbformat_minor": 0
}
