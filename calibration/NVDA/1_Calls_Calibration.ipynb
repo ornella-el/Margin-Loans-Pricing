{
 "cells": [
  {
   "cell_type": "markdown",
   "source": [
    "# Calibration of the 4 models using CALL OPTIONS\n",
    "This notebook aims to find the optimal parameters of **Black-Scholes**, **Merton Jump Diffusion**, **Kou Jump Diffusion** and **Variance Gamma** models. To do so, we compute the european option prices using **closed formulas**, available for all the 4 models, and the **Fast Fourier Transform** for the VG model. Given these theoretical prices, the **implied volatilities** are computed comparing them with real market prices, minimizing their difference. Then we estimate the additional parameters of each model, using the python module `scipy.optimize`.\n",
    "\n",
    "*reference: https://github.com/cantaro86/Financial-Models-Numerical-Methods/tree/master*"
   ],
   "metadata": {
    "collapsed": false
   }
  },
  {
   "cell_type": "code",
   "execution_count": 48,
   "metadata": {
    "collapsed": true,
    "ExecuteTime": {
     "end_time": "2023-09-01T00:05:19.285595600Z",
     "start_time": "2023-09-01T00:05:19.278077600Z"
    }
   },
   "outputs": [],
   "source": [
    "import numpy as np\n",
    "import pandas as pd\n",
    "import matplotlib.pyplot as plt\n",
    "import random\n",
    "import scipy.optimize as scpo\n",
    "import sys\n",
    "sys.path.append('C:/Users\\ornel\\PycharmProjects\\Margin-Loans-Pricing/functions')\n",
    "sys.path.append('C:/Users/ornel/PycharmProjects/Margin-Loans-Pricing/calibration')\n",
    "import time\n",
    "plt.style.use('default')\n",
    "\n",
    "from MERTONpricer import Merton_pricer\n",
    "from BSpricer import BS_Pricer\n",
    "from KOUpricer import Kou_pricer\n",
    "from VGpricer import VG_pricer\n",
    "\n",
    "random.seed(120)"
   ]
  },
  {
   "cell_type": "markdown",
   "source": [
    "Let's start retrieving historical prices for **european call** options starting from date **2016-01-20** and expiring **1 year** later. All the data have been collected from [OptionsDX](https://www.optionsdx.com/shop/) and preprocessed in `plainvanilla.py` module. The options that will be used in this notebook are all Out-Of-The-Money (OTM) options."
   ],
   "metadata": {
    "collapsed": false
   }
  },
  {
   "cell_type": "code",
   "execution_count": 49,
   "outputs": [
    {
     "name": "stdout",
     "output_type": "stream",
     "text": [
      "NUM OF CALL OPTS: 5\n",
      "   QUOTE_DATE  UNDERLYING_LAST EXPIRE_DATE  C_BID  C_ASK  STRIKE     C_IV\n",
      "0  2016-01-20            27.47  2017-01-20   2.98   3.10    30.0  0.37618\n",
      "1  2016-01-20            27.47  2017-01-20   1.60   1.68    35.0  0.36536\n",
      "2  2016-01-20            27.47  2017-01-20   0.82   0.89    40.0  0.35850\n",
      "3  2016-01-20            27.47  2017-01-20   0.42   0.49    45.0  0.35830\n",
      "4  2016-01-20            27.47  2017-01-20   0.22   0.28    50.0  0.36010\n"
     ]
    }
   ],
   "source": [
    "df_call = pd.read_csv('../../data/NVDA/nvda_calls_OTM_2016.csv')\n",
    "print(f'NUM OF CALL OPTS: {df_call.shape[0]}')\n",
    "print(df_call)\n"
   ],
   "metadata": {
    "collapsed": false,
    "ExecuteTime": {
     "end_time": "2023-09-01T00:05:20.203490500Z",
     "start_time": "2023-09-01T00:05:20.128323100Z"
    }
   }
  },
  {
   "cell_type": "markdown",
   "source": [
    "The dataframes **df_call** contains 5 options sorted by their strike price. We will use these that have a moneyness in $[0.75, 1.35]$. The following code snippet adjusts the dataframe adding **Midpoint** and **Spread** columns."
   ],
   "metadata": {
    "collapsed": false
   }
  },
  {
   "cell_type": "code",
   "execution_count": 50,
   "outputs": [],
   "source": [
    "calls = df_call.sample(frac=1, replace=False).sort_index().reset_index(drop=True)\n",
    "calls['C_Midpoint'] = abs(calls['C_BID'] + calls['C_ASK']) / 2\n",
    "calls['C_Spread'] = calls['C_BID'] - calls['C_ASK']\n",
    "#calls.to_csv('../../data/NVDA/NVDA_calls.csv', index=False)\n",
    "\n",
    "q = 0           # dividend yield\n",
    "r = 0.03        # risk-free interest rate\n",
    "sigma = 0.3     #volatility (variance of diffusion process)\n",
    "S0 = calls.iloc[0]['UNDERLYING_LAST']\n",
    "T = 1           # time-to-maturity\n",
    "call_strikes = calls['STRIKE']    # array of K for call options\n",
    "exercise = 'european'\n",
    "\n",
    "call_prices = calls['C_Midpoint']"
   ],
   "metadata": {
    "collapsed": false,
    "ExecuteTime": {
     "end_time": "2023-09-01T00:05:21.624259300Z",
     "start_time": "2023-09-01T00:05:21.561269200Z"
    }
   }
  },
  {
   "cell_type": "markdown",
   "source": [
    "The following code snippet initializes objects of class *BS_pricer*, *Merton_pricer*, *Kou_pricer*, *VG_pricer* with default values as parameters. These parameters serve only as initialization. Best fitting parameters will be calibrated consequently and used to correctly price the options according to each model."
   ],
   "metadata": {
    "collapsed": false
   }
  },
  {
   "cell_type": "code",
   "execution_count": 18,
   "outputs": [],
   "source": [
    "BS = BS_Pricer(S0=S0, r=r, q = q, sigma=sigma, ttm=T, exercise=exercise, K=None)\n",
    "Merton = Merton_pricer(S0=S0, K=None, ttm=T, r=r, q = q, sigma=0.15, lambd=0.5, meanJ=-0.1, stdJ=0.1, exercise=exercise)\n",
    "Kou = Kou_pricer(S0=S0, K=None, ttm=T, r=r, sigma=0.15, lambd=0.5, p=0.6, eta1=12, eta2=5, exercise=exercise)\n",
    "VG = VG_pricer(S0, K=None, ttm=T, r=r, q=q, sigma=0.15, theta=-0.2, nu=0.3, exercise=exercise)"
   ],
   "metadata": {
    "collapsed": false,
    "ExecuteTime": {
     "end_time": "2023-08-31T23:05:03.646479Z",
     "start_time": "2023-08-31T23:05:03.609633300Z"
    }
   }
  },
  {
   "cell_type": "markdown",
   "source": [
    "## Implied volatility\n",
    "The function belows implements $3$ methods to comcalle implied volatility: [Newton](https://en.wikipedia.org/wiki/Newton%27s_method) method, the [Bisection](https://en.wikipedia.org/wiki/Bisection_method) method and a more advanced one, named [Brent](https://en.wikipedia.org/wiki/Brent%27s_method) method. Apart from the initial guess, there is no substantial difference in the final result between **Newton** and **bisection** methods (*fsolve*). The **Implied Volatility** is that value $\\sigma$ that must be inserted into the Black-Scholes (BS) formula in order to retrieve the option price quoted in the market:\n",
    "    $$ BS(S, K, T, r, \\sigma) = P,  $$\n",
    "where $S$ is the underlying spot price, $K$ is the strike, $T$ time to maturity, $r$ risk-free interest rate and $P$ the option price quoted in the market. All these quantities are **observable**.\n",
    "   "
   ],
   "metadata": {
    "collapsed": false
   }
  },
  {
   "cell_type": "code",
   "execution_count": 19,
   "outputs": [],
   "source": [
    "def implied_volatility(price, S, strike, t, rate, q, type_o, method='fsolve', disp=True ):\n",
    "    \"\"\" Returns Implied volatility\n",
    "        methods:  fsolve (default) or brent\n",
    "    \"\"\"\n",
    "\n",
    "    def obj_fun(vol):\n",
    "        return BS.BlackScholes(type_o=type_o, S0=S, K=strike, ttm=t, r=rate, q=q, sigma=vol) - price\n",
    "\n",
    "    def vega(vol):\n",
    "        return BS.vega(S, strike, rate, q, vol, t)\n",
    "\n",
    "    if method =='fsolve':\n",
    "        X0 = [0.01, 0.2, 0.35, 7]        #initial guess points for imp.vol.\n",
    "        for x_0 in X0:\n",
    "            x, _, solved, _ = scpo.fsolve(obj_fun, x_0, full_output=True, xtol=1e-8)\n",
    "            if solved == 1:\n",
    "                return x[0]\n",
    "\n",
    "    if disp:\n",
    "        return -1"
   ],
   "metadata": {
    "collapsed": false,
    "ExecuteTime": {
     "end_time": "2023-08-31T23:05:05.349573200Z",
     "start_time": "2023-08-31T23:05:05.310050900Z"
    }
   }
  },
  {
   "cell_type": "markdown",
   "source": [
    "The following code snippet computes the implied volatility of **call** options market prices and show a plot of the implied volatilities found by inversion method against the ones provided by the dataframe."
   ],
   "metadata": {
    "collapsed": false
   }
  },
  {
   "cell_type": "code",
   "execution_count": 33,
   "outputs": [
    {
     "name": "stdout",
     "output_type": "stream",
     "text": [
      "Implied volatilities of market prices (calls):\n",
      "S0 = 27.47\n",
      "K = 30.0, IV = 0.3783\n",
      "K = 35.0, IV = 0.3659\n",
      "K = 40.0, IV = 0.3589\n",
      "K = 45.0, IV = 0.358\n",
      "K = 50.0, IV = 0.3601\n"
     ]
    },
    {
     "data": {
      "text/plain": "<Figure size 1000x500 with 1 Axes>",
      "image/png": "[encoded data removed]"
     },
     "metadata": {},
     "output_type": "display_data"
    }
   ],
   "source": [
    "IV_market = []\n",
    "for i in range(len(call_prices)):\n",
    "    IV_market.append(implied_volatility(call_prices[i], S=S0, strike=call_strikes[i], t = T, rate=0.02, q = 0.0245, type_o='call', method='fsolve'))\n",
    "\n",
    "print(f'Implied volatilities of market prices (calls):\\nS0 = {S0}')\n",
    "for a,b in zip(call_strikes.tail(6), IV_market[-6:]):\n",
    "    print(f'K = {a}, IV = {round(b, 4)}')\n",
    "\n",
    "# Plot market implied volatilities w.r.t. log moneyness\n",
    "x = (S0/call_strikes)\n",
    "IV_filtered = [iv for iv in IV_market if iv != -1]\n",
    "x_filtered = [log_m for iv, log_m in zip(IV_market, x) if iv != -1]\n",
    "\n",
    "fig, ax1 = plt.subplots(figsize=(10,5))\n",
    "ax1.scatter(x, IV_market, marker='x', label='BS inversion', color='red')\n",
    "ax1.scatter(x, calls['C_IV'], marker='.', label='provided')\n",
    "ax1.set_xlabel('Moneyness: S0/K'); ax1.set_ylabel('Implied Volatility'); ax1.set_title('Calls volatility smile')\n",
    "ax1.legend(); ax1.grid(); plt.show()\n"
   ],
   "metadata": {
    "collapsed": false,
    "ExecuteTime": {
     "end_time": "2023-08-31T23:06:59.868040800Z",
     "start_time": "2023-08-31T23:06:59.630069100Z"
    }
   }
  },
  {
   "cell_type": "markdown",
   "source": [
    "##  Weighted Calibration (call options)\n",
    "Let's step now into the calibration of model parameters.\n",
    "If we define $\\Theta$ the set of parameters, the goal is to find the optimal parameters $\\Theta^*$ that minimize the following objective function:\n",
    "$$ \\sum_{i=1}^{N} w_i \\biggl( P_i - f(K_i|\\Theta) \\biggr)^2 $$\n",
    "where $w_i$ are weights, usually defined as\n",
    "$$ w_i = \\frac{1}{\\text {spread}_i^2 },$$ $P_i$ are the market prices and $f$ is the pricing function. In our case $f$ is given by **Merton** Jump Diffusion model, **Kou** Jump Diffusion model, or **Variance Gamma** process. To perform this optimization problem, many numerical methods can be used. In particular, we test two functions of `scipy.optimize`:\n",
    "1. **curve_fit**, a least-squares curve fitting method which works with bounds. The default algorithm is [Trust Region Reflective (trf)](https://en.wikipedia.org/wiki/Trust_region). The [Levemberg-Marquadt](https://en.wikipedia.org/wiki/Levenberg%E2%80%93Marquardt_algorithm) has been tried as well, to test the optimization problem without setting boundaries, but the results don't make any sense.\n",
    "2. **Least-Squares**, a constrained minimization problem which uses Trust region reflective method by default. This method is the most indicated to solve the non-linear least squares optimization problem of our purpose.\n",
    "All the optimizations are carried out by initializing a starting point as the array $x_0 = [params]$ and setting feasible bounds.\n"
   ],
   "metadata": {
    "collapsed": false
   }
  },
  {
   "cell_type": "code",
   "execution_count": 34,
   "outputs": [],
   "source": [
    "call_spreads = calls['C_Spread']\n",
    "c_weights = 1/ call_spreads**2"
   ],
   "metadata": {
    "collapsed": false,
    "ExecuteTime": {
     "end_time": "2023-08-31T23:07:24.877262900Z",
     "start_time": "2023-08-31T23:07:24.877262900Z"
    }
   }
  },
  {
   "cell_type": "markdown",
   "source": [
    "### Black and Scholes model\n",
    "The only unknown parameter to calibrate in Black and Scholes model is the **implied volatility**, $\\sigma$. Thus, we minimize the difference between the computed theoretical prices and the market prices of call options."
   ],
   "metadata": {
    "collapsed": false
   }
  },
  {
   "cell_type": "code",
   "execution_count": 35,
   "outputs": [],
   "source": [
    "x0 = 0.5\n",
    "bounds = [1e-5, 2]\n",
    "\n",
    "def f_BlackScholes_calls(x, sigm):\n",
    "    BS = BS_Pricer(S0=S0, K = x, ttm=T, r=r, q=0, sigma=sigm, exercise=exercise)\n",
    "    return BS.closed_formula_call(x)\n",
    "\n",
    "res1_calls = scpo.curve_fit(f_BlackScholes_calls, call_strikes, call_prices, p0 = x0, bounds=bounds, sigma=c_weights)\n",
    "sigw_p = round(res1_calls[0][0],4)"
   ],
   "metadata": {
    "collapsed": false,
    "ExecuteTime": {
     "end_time": "2023-08-31T23:07:26.908335600Z",
     "start_time": "2023-08-31T23:07:26.877044700Z"
    }
   }
  },
  {
   "cell_type": "code",
   "execution_count": 36,
   "outputs": [
    {
     "name": "stdout",
     "output_type": "stream",
     "text": [
      "`ftol` termination condition is satisfied.\n",
      "Function evaluations 24, initial cost 1.2891e+06, final cost 1.3252e-02, first-order optimality 3.07e-04.\n"
     ]
    }
   ],
   "source": [
    "def cost_function(x, strikes, mkt_prices):\n",
    "    sigma = x\n",
    "    BS = BS_Pricer(S0=S0, K = None, ttm=T, r=r, q=0, sigma=sigma, exercise=exercise)\n",
    "    sq_err = np.sum(c_weights* (BS.closed_formula_call(strikes) - mkt_prices)**2)\n",
    "    return sq_err\n",
    "\n",
    "result_p = scpo.least_squares(cost_function, x0, args=(call_strikes, call_prices), bounds=bounds, method = 'trf', verbose=1)\n",
    "calls_bs_params_nvda = result_p.x[0]"
   ],
   "metadata": {
    "collapsed": false,
    "ExecuteTime": {
     "end_time": "2023-08-31T23:07:29.095190400Z",
     "start_time": "2023-08-31T23:07:29.031710500Z"
    }
   }
  },
  {
   "cell_type": "code",
   "execution_count": 37,
   "outputs": [
    {
     "name": "stdout",
     "output_type": "stream",
     "text": [
      "METHOD 1: CURVE_FIT (trf)\n",
      "> Calibrated Volatility from Calls [σ] = 0.3385 \t 33.85%\n",
      "METHOD 2: LEAST-SQUARES (trf)\n",
      "> Calibrated Volatility from Calls [σ] = 0.33764231611926887 \t 33.76%\n"
     ]
    }
   ],
   "source": [
    "print('METHOD 1: CURVE_FIT (trf)')\n",
    "print(f'> Calibrated Volatility from Calls [σ] = {sigw_p} \\t {round(sigw_p*100,2)}%')\n",
    "print('METHOD 2: LEAST-SQUARES (trf)')\n",
    "print(f'> Calibrated Volatility from Calls [σ] = {calls_bs_params_nvda} \\t {round(calls_bs_params_nvda*100,2)}%')"
   ],
   "metadata": {
    "collapsed": false,
    "ExecuteTime": {
     "end_time": "2023-08-31T23:07:32.935907500Z",
     "start_time": "2023-08-31T23:07:32.916064900Z"
    }
   }
  },
  {
   "cell_type": "markdown",
   "source": [
    "Save parameters to use them in other notebooks"
   ],
   "metadata": {
    "collapsed": false
   }
  },
  {
   "cell_type": "code",
   "execution_count": 38,
   "outputs": [
    {
     "name": "stdout",
     "output_type": "stream",
     "text": [
      "Stored 'calls_bs_params_nvda' (float64)\n"
     ]
    }
   ],
   "source": [
    "%store calls_bs_params_nvda"
   ],
   "metadata": {
    "collapsed": false,
    "ExecuteTime": {
     "end_time": "2023-08-31T23:07:36.316618200Z",
     "start_time": "2023-08-31T23:07:36.269676300Z"
    }
   }
  },
  {
   "cell_type": "markdown",
   "source": [
    "### Merton Jump Diffusion\n",
    "The Merton Jump diffusion ones are the volatility $\\sigma$, the Poisson rate of jumps $\\lambda$, the mean rate of jump intensity $m$ and its variance rate $v$, assuming that the intensity of jumps follows a *Normal distribution*.\n"
   ],
   "metadata": {
    "collapsed": false
   }
  },
  {
   "cell_type": "code",
   "execution_count": 39,
   "outputs": [],
   "source": [
    "x0 = [0.15,  0.2, -0.05,  0.01]  # initial guess: [σ, λ, m, v]\n",
    "bounds = ( [1e-3, 1e-2, -5, 1e-5], [2, 5, 5, 2] )"
   ],
   "metadata": {
    "collapsed": false,
    "ExecuteTime": {
     "end_time": "2023-08-31T23:07:38.113228100Z",
     "start_time": "2023-08-31T23:07:38.086389200Z"
    }
   }
  },
  {
   "cell_type": "code",
   "execution_count": 40,
   "outputs": [],
   "source": [
    "def f_Mert(x, sigma, lambd, meanJ, stdJ):\n",
    "    Mert = Merton_pricer(S0=S0, K=x, ttm=T, r=r, q=0, sigma=sigma, lambd=lambd, meanJ=meanJ, stdJ=stdJ, exercise=exercise)\n",
    "    return Mert.closed_formula_call(x)\n",
    "\n",
    "start1=time.time()\n",
    "mert1 = scpo.curve_fit(f_Mert, call_strikes, call_prices, p0=x0, bounds=bounds, sigma=call_spreads)\n",
    "end1=time.time()\n",
    "\n",
    "mert_params1 = [round(p,4) for p in mert1[0][:4]]"
   ],
   "metadata": {
    "collapsed": false,
    "ExecuteTime": {
     "end_time": "2023-08-31T23:08:07.824328200Z",
     "start_time": "2023-08-31T23:07:39.744592Z"
    }
   }
  },
  {
   "cell_type": "markdown",
   "source": [
    "##### Method 2. Least-squares"
   ],
   "metadata": {
    "collapsed": false
   }
  },
  {
   "cell_type": "code",
   "execution_count": 42,
   "outputs": [
    {
     "name": "stdout",
     "output_type": "stream",
     "text": [
      "The maximum number of function evaluations is exceeded.\n",
      "Function evaluations 400, initial cost 2.8175e+05, final cost 2.2992e-03, first-order optimality 8.84e-02.\n"
     ]
    }
   ],
   "source": [
    "x0 = [0.15,  0.5, -0.05,  0.1]      # initial guess: [σ, λ, m, v]\n",
    "bounds = ( [1e-3, 1e-2, -10, 0], [2, np.inf, 10, 5] )\n",
    "\n",
    "def cost_function(x, strikes, mkt_prices):\n",
    "    sigma, lambd, meanJ, stdJ = x\n",
    "    M = Merton_pricer(S0, None, T, r, q, sigma, lambd, meanJ, stdJ, exercise)\n",
    "    sq_err = np.sum(c_weights*(M.closed_formula_call(strikes) - mkt_prices)**2)\n",
    "    return sq_err\n",
    "\n",
    "start2 = time.time()\n",
    "mert2 = scpo.least_squares(cost_function, x0, args=(call_strikes, call_prices), bounds=bounds, method = 'trf', verbose=1)\n",
    "end2 = time.time()\n",
    "\n",
    "mert_params2 = [round(p,4) for p in mert2.x[:4]]"
   ],
   "metadata": {
    "collapsed": false,
    "ExecuteTime": {
     "end_time": "2023-08-31T23:12:14.878022400Z",
     "start_time": "2023-08-31T23:11:16.835049200Z"
    }
   }
  },
  {
   "cell_type": "code",
   "execution_count": 43,
   "outputs": [
    {
     "name": "stdout",
     "output_type": "stream",
     "text": [
      "WEIGHTED OPT: CURVE_FIT (trf)\n",
      "> Calibrated Volatlity [σ] = 0.3202 \t 32.02%\n",
      "> Calibrated Jump intensity [λ] =  0.02\n",
      "> Calibrated Jump Mean =  -3.27\n",
      "> Calibrated Jump St. dev.  =  2.0\n",
      "ELAPSED TIME: 28.093475818634033 sec\n",
      "\n",
      "METHOD 1: LEAST SQUARES (trf)\n",
      "> Calibrated Volatlity [σ] = 0.2309 \t 23.09%\n",
      "> Calibrated Jump intensity [λ] =  1.03\n",
      "> Calibrated Jump Mean =  -0.116\n",
      "> Calibrated Jump St. dev.  =  0.262\n",
      "TIME ELAPSED:  58.06 sec\n"
     ]
    }
   ],
   "source": [
    "print('WEIGHTED OPT: CURVE_FIT (trf)')\n",
    "print(f'> Calibrated Volatlity [σ] = {round(mert1[0][0],4)} \\t {round(mert1[0][0]*100,2)}%')\n",
    "print('> Calibrated Jump intensity [λ] = ', round(mert1[0][1],2))\n",
    "print('> Calibrated Jump Mean = ', round(mert1[0][2],2))\n",
    "print('> Calibrated Jump St. dev.  = ', round(mert1[0][3],5))\n",
    "print(f'ELAPSED TIME: {end1-start1} sec')\n",
    "\n",
    "print('\\nMETHOD 1: LEAST SQUARES (trf)')\n",
    "print(f'> Calibrated Volatlity [σ] = {mert_params2[0]} \\t {round(mert_params2[0]*100,2)}%')\n",
    "print('> Calibrated Jump intensity [λ] = ', round(mert_params2[1],2))\n",
    "print('> Calibrated Jump Mean = ', round(mert_params2[2],3))\n",
    "print('> Calibrated Jump St. dev.  = ', round(mert_params2[3],3))\n",
    "print(f'TIME ELAPSED:  {round(end2-start2,2)} sec')"
   ],
   "metadata": {
    "collapsed": false,
    "ExecuteTime": {
     "end_time": "2023-08-31T23:15:24.284522900Z",
     "start_time": "2023-08-31T23:15:24.251142500Z"
    }
   }
  },
  {
   "cell_type": "code",
   "execution_count": 44,
   "outputs": [
    {
     "name": "stdout",
     "output_type": "stream",
     "text": [
      "Stored 'calls_mert_params_nvda' (list)\n"
     ]
    }
   ],
   "source": [
    "calls_mert_params_nvda = mert_params2\n",
    "%store calls_mert_params_nvda"
   ],
   "metadata": {
    "collapsed": false,
    "ExecuteTime": {
     "end_time": "2023-08-31T23:15:25.579018900Z",
     "start_time": "2023-08-31T23:15:25.500038900Z"
    }
   }
  },
  {
   "cell_type": "markdown",
   "source": [
    "### Kou Jump Diffusion\n"
   ],
   "metadata": {
    "collapsed": false
   }
  },
  {
   "cell_type": "code",
   "execution_count": 45,
   "outputs": [],
   "source": [
    "x0 = [0.2, 0.7, 0.5, 8, 10] # initial guess: [σ, λ, p, η_1, η_2]\n",
    "bounds = ( [1e-2, 1e-1, 0, 0.5, 0.5], [0.5, 4, 1, 15, 20] )"
   ],
   "metadata": {
    "collapsed": false,
    "ExecuteTime": {
     "end_time": "2023-08-31T23:15:33.219866Z",
     "start_time": "2023-08-31T23:15:33.216858100Z"
    }
   }
  },
  {
   "cell_type": "markdown",
   "source": [
    "##### Method 1. TRF (Bounds)"
   ],
   "metadata": {
    "collapsed": false
   }
  },
  {
   "cell_type": "code",
   "execution_count": 46,
   "outputs": [],
   "source": [
    "# def f_Kou(x, sigma, lambd, p, eta1, eta2):\n",
    "#     KouJD = Kou_pricer(S0=S0, K=x, ttm=T, r=r, sigma=sigma, lambd=lambd, p=p, eta1=eta1, eta2=eta2, exercise=exercise)\n",
    "#     return KouJD.closed_formula_call(x)\n",
    "#\n",
    "# start1 = time.time()\n",
    "# kou1 = scpo.curve_fit(f_Kou, call_strikes, call_prices, p0=x0, bounds=bounds, sigma=c_weights)\n",
    "# end1 = time.time()\n",
    "#\n",
    "# kou_params1 = [round(p,4) for p in kou1[0][:5]]"
   ],
   "metadata": {
    "collapsed": false,
    "ExecuteTime": {
     "end_time": "2023-08-31T23:15:34.776020900Z",
     "start_time": "2023-08-31T23:15:34.776020900Z"
    }
   }
  },
  {
   "cell_type": "markdown",
   "source": [
    "##### Method 2. LEAST SQUARES (With Bounds)"
   ],
   "metadata": {
    "collapsed": false
   }
  },
  {
   "cell_type": "code",
   "execution_count": 47,
   "outputs": [
    {
     "ename": "KeyboardInterrupt",
     "evalue": "",
     "output_type": "error",
     "traceback": [
      "\u001B[1;31m---------------------------------------------------------------------------\u001B[0m",
      "\u001B[1;31mKeyboardInterrupt\u001B[0m                         Traceback (most recent call last)",
      "\u001B[1;32m~\\AppData\\Local\\Temp\\ipykernel_14860\\4244805518.py\u001B[0m in \u001B[0;36m?\u001B[1;34m()\u001B[0m\n\u001B[0;32m      5\u001B[0m     \u001B[0msq_err\u001B[0m \u001B[1;33m=\u001B[0m \u001B[0mnp\u001B[0m\u001B[1;33m.\u001B[0m\u001B[0msum\u001B[0m\u001B[1;33m(\u001B[0m\u001B[0mc_weights\u001B[0m\u001B[1;33m*\u001B[0m\u001B[1;33m(\u001B[0m\u001B[0mKOU\u001B[0m\u001B[1;33m.\u001B[0m\u001B[0mclosed_formula_call\u001B[0m\u001B[1;33m(\u001B[0m\u001B[0mstrikes\u001B[0m\u001B[1;33m)\u001B[0m \u001B[1;33m-\u001B[0m \u001B[0mmkt_prices\u001B[0m\u001B[1;33m)\u001B[0m\u001B[1;33m**\u001B[0m\u001B[1;36m2\u001B[0m\u001B[1;33m)\u001B[0m\u001B[1;33m\u001B[0m\u001B[1;33m\u001B[0m\u001B[0m\n\u001B[0;32m      6\u001B[0m     \u001B[1;32mreturn\u001B[0m \u001B[0msq_err\u001B[0m\u001B[1;33m\u001B[0m\u001B[1;33m\u001B[0m\u001B[0m\n\u001B[0;32m      7\u001B[0m \u001B[1;33m\u001B[0m\u001B[0m\n\u001B[0;32m      8\u001B[0m \u001B[0mstart2\u001B[0m\u001B[1;33m=\u001B[0m\u001B[0mtime\u001B[0m\u001B[1;33m.\u001B[0m\u001B[0mtime\u001B[0m\u001B[1;33m(\u001B[0m\u001B[1;33m)\u001B[0m\u001B[1;33m\u001B[0m\u001B[1;33m\u001B[0m\u001B[0m\n\u001B[1;32m----> 9\u001B[1;33m \u001B[0mkou2\u001B[0m \u001B[1;33m=\u001B[0m \u001B[0mscpo\u001B[0m\u001B[1;33m.\u001B[0m\u001B[0mleast_squares\u001B[0m\u001B[1;33m(\u001B[0m\u001B[0mcost_function\u001B[0m\u001B[1;33m,\u001B[0m \u001B[0mx0\u001B[0m\u001B[1;33m,\u001B[0m \u001B[0margs\u001B[0m\u001B[1;33m=\u001B[0m\u001B[1;33m(\u001B[0m\u001B[0mcall_strikes\u001B[0m\u001B[1;33m,\u001B[0m \u001B[0mcall_prices\u001B[0m\u001B[1;33m)\u001B[0m\u001B[1;33m,\u001B[0m  \u001B[0mmethod\u001B[0m\u001B[1;33m=\u001B[0m\u001B[1;34m'trf'\u001B[0m\u001B[1;33m,\u001B[0m \u001B[0mbounds\u001B[0m\u001B[1;33m=\u001B[0m\u001B[0mbounds\u001B[0m\u001B[1;33m,\u001B[0m \u001B[0mverbose\u001B[0m\u001B[1;33m=\u001B[0m\u001B[1;36m1\u001B[0m\u001B[1;33m)\u001B[0m\u001B[1;33m\u001B[0m\u001B[1;33m\u001B[0m\u001B[0m\n\u001B[0m\u001B[0;32m     10\u001B[0m \u001B[0mend2\u001B[0m\u001B[1;33m=\u001B[0m\u001B[0mtime\u001B[0m\u001B[1;33m.\u001B[0m\u001B[0mtime\u001B[0m\u001B[1;33m(\u001B[0m\u001B[1;33m)\u001B[0m\u001B[1;33m\u001B[0m\u001B[1;33m\u001B[0m\u001B[0m\n",
      "\u001B[1;32m~\\PycharmProjects\\Margin-Loans-Pricing\\venv\\Lib\\site-packages\\scipy\\optimize\\_lsq\\least_squares.py\u001B[0m in \u001B[0;36m?\u001B[1;34m(fun, x0, jac, bounds, method, ftol, xtol, gtol, x_scale, loss, f_scale, diff_step, tr_solver, tr_options, jac_sparsity, max_nfev, verbose, args, kwargs)\u001B[0m\n\u001B[0;32m    931\u001B[0m         result = call_minpack(fun_wrapped, x0, jac_wrapped, ftol, xtol, gtol,\n\u001B[0;32m    932\u001B[0m                               max_nfev, x_scale, diff_step)\n\u001B[0;32m    933\u001B[0m \u001B[1;33m\u001B[0m\u001B[0m\n\u001B[0;32m    934\u001B[0m     \u001B[1;32melif\u001B[0m \u001B[0mmethod\u001B[0m \u001B[1;33m==\u001B[0m \u001B[1;34m'trf'\u001B[0m\u001B[1;33m:\u001B[0m\u001B[1;33m\u001B[0m\u001B[1;33m\u001B[0m\u001B[0m\n\u001B[1;32m--> 935\u001B[1;33m         result = trf(fun_wrapped, jac_wrapped, x0, f0, J0, lb, ub, ftol, xtol,\n\u001B[0m\u001B[0;32m    936\u001B[0m                      \u001B[0mgtol\u001B[0m\u001B[1;33m,\u001B[0m \u001B[0mmax_nfev\u001B[0m\u001B[1;33m,\u001B[0m \u001B[0mx_scale\u001B[0m\u001B[1;33m,\u001B[0m \u001B[0mloss_function\u001B[0m\u001B[1;33m,\u001B[0m \u001B[0mtr_solver\u001B[0m\u001B[1;33m,\u001B[0m\u001B[1;33m\u001B[0m\u001B[1;33m\u001B[0m\u001B[0m\n\u001B[0;32m    937\u001B[0m                      tr_options.copy(), verbose)\n\u001B[0;32m    938\u001B[0m \u001B[1;33m\u001B[0m\u001B[0m\n",
      "\u001B[1;32m~\\PycharmProjects\\Margin-Loans-Pricing\\venv\\Lib\\site-packages\\scipy\\optimize\\_lsq\\trf.py\u001B[0m in \u001B[0;36m?\u001B[1;34m(fun, jac, x0, f0, J0, lb, ub, ftol, xtol, gtol, max_nfev, x_scale, loss_function, tr_solver, tr_options, verbose)\u001B[0m\n\u001B[0;32m    119\u001B[0m         return trf_no_bounds(\n\u001B[0;32m    120\u001B[0m             \u001B[0mfun\u001B[0m\u001B[1;33m,\u001B[0m \u001B[0mjac\u001B[0m\u001B[1;33m,\u001B[0m \u001B[0mx0\u001B[0m\u001B[1;33m,\u001B[0m \u001B[0mf0\u001B[0m\u001B[1;33m,\u001B[0m \u001B[0mJ0\u001B[0m\u001B[1;33m,\u001B[0m \u001B[0mftol\u001B[0m\u001B[1;33m,\u001B[0m \u001B[0mxtol\u001B[0m\u001B[1;33m,\u001B[0m \u001B[0mgtol\u001B[0m\u001B[1;33m,\u001B[0m \u001B[0mmax_nfev\u001B[0m\u001B[1;33m,\u001B[0m \u001B[0mx_scale\u001B[0m\u001B[1;33m,\u001B[0m\u001B[1;33m\u001B[0m\u001B[1;33m\u001B[0m\u001B[0m\n\u001B[0;32m    121\u001B[0m             loss_function, tr_solver, tr_options, verbose)\n\u001B[0;32m    122\u001B[0m     \u001B[1;32melse\u001B[0m\u001B[1;33m:\u001B[0m\u001B[1;33m\u001B[0m\u001B[1;33m\u001B[0m\u001B[0m\n\u001B[1;32m--> 123\u001B[1;33m         return trf_bounds(\n\u001B[0m\u001B[0;32m    124\u001B[0m             \u001B[0mfun\u001B[0m\u001B[1;33m,\u001B[0m \u001B[0mjac\u001B[0m\u001B[1;33m,\u001B[0m \u001B[0mx0\u001B[0m\u001B[1;33m,\u001B[0m \u001B[0mf0\u001B[0m\u001B[1;33m,\u001B[0m \u001B[0mJ0\u001B[0m\u001B[1;33m,\u001B[0m \u001B[0mlb\u001B[0m\u001B[1;33m,\u001B[0m \u001B[0mub\u001B[0m\u001B[1;33m,\u001B[0m \u001B[0mftol\u001B[0m\u001B[1;33m,\u001B[0m \u001B[0mxtol\u001B[0m\u001B[1;33m,\u001B[0m \u001B[0mgtol\u001B[0m\u001B[1;33m,\u001B[0m \u001B[0mmax_nfev\u001B[0m\u001B[1;33m,\u001B[0m \u001B[0mx_scale\u001B[0m\u001B[1;33m,\u001B[0m\u001B[1;33m\u001B[0m\u001B[1;33m\u001B[0m\u001B[0m\n\u001B[0;32m    125\u001B[0m             loss_function, tr_solver, tr_options, verbose)\n",
      "\u001B[1;32m~\\PycharmProjects\\Margin-Loans-Pricing\\venv\\Lib\\site-packages\\scipy\\optimize\\_lsq\\trf.py\u001B[0m in \u001B[0;36m?\u001B[1;34m(fun, jac, x0, f0, J0, lb, ub, ftol, xtol, gtol, max_nfev, x_scale, loss_function, tr_solver, tr_options, verbose)\u001B[0m\n\u001B[0;32m    370\u001B[0m             \u001B[0mf_true\u001B[0m \u001B[1;33m=\u001B[0m \u001B[0mf\u001B[0m\u001B[1;33m.\u001B[0m\u001B[0mcopy\u001B[0m\u001B[1;33m(\u001B[0m\u001B[1;33m)\u001B[0m\u001B[1;33m\u001B[0m\u001B[1;33m\u001B[0m\u001B[0m\n\u001B[0;32m    371\u001B[0m \u001B[1;33m\u001B[0m\u001B[0m\n\u001B[0;32m    372\u001B[0m             \u001B[0mcost\u001B[0m \u001B[1;33m=\u001B[0m \u001B[0mcost_new\u001B[0m\u001B[1;33m\u001B[0m\u001B[1;33m\u001B[0m\u001B[0m\n\u001B[0;32m    373\u001B[0m \u001B[1;33m\u001B[0m\u001B[0m\n\u001B[1;32m--> 374\u001B[1;33m             \u001B[0mJ\u001B[0m \u001B[1;33m=\u001B[0m \u001B[0mjac\u001B[0m\u001B[1;33m(\u001B[0m\u001B[0mx\u001B[0m\u001B[1;33m,\u001B[0m \u001B[0mf\u001B[0m\u001B[1;33m)\u001B[0m\u001B[1;33m\u001B[0m\u001B[1;33m\u001B[0m\u001B[0m\n\u001B[0m\u001B[0;32m    375\u001B[0m             \u001B[0mnjev\u001B[0m \u001B[1;33m+=\u001B[0m \u001B[1;36m1\u001B[0m\u001B[1;33m\u001B[0m\u001B[1;33m\u001B[0m\u001B[0m\n\u001B[0;32m    376\u001B[0m \u001B[1;33m\u001B[0m\u001B[0m\n\u001B[0;32m    377\u001B[0m             \u001B[1;32mif\u001B[0m \u001B[0mloss_function\u001B[0m \u001B[1;32mis\u001B[0m \u001B[1;32mnot\u001B[0m \u001B[1;32mNone\u001B[0m\u001B[1;33m:\u001B[0m\u001B[1;33m\u001B[0m\u001B[1;33m\u001B[0m\u001B[0m\n",
      "\u001B[1;32m~\\PycharmProjects\\Margin-Loans-Pricing\\venv\\Lib\\site-packages\\scipy\\optimize\\_lsq\\least_squares.py\u001B[0m in \u001B[0;36m?\u001B[1;34m(x, f)\u001B[0m\n\u001B[0;32m    892\u001B[0m             \u001B[1;32mdef\u001B[0m \u001B[0mjac_wrapped\u001B[0m\u001B[1;33m(\u001B[0m\u001B[0mx\u001B[0m\u001B[1;33m,\u001B[0m \u001B[0mf\u001B[0m\u001B[1;33m)\u001B[0m\u001B[1;33m:\u001B[0m\u001B[1;33m\u001B[0m\u001B[1;33m\u001B[0m\u001B[0m\n\u001B[1;32m--> 893\u001B[1;33m                 J = approx_derivative(fun, x, rel_step=diff_step, method=jac,\n\u001B[0m\u001B[0;32m    894\u001B[0m                                       \u001B[0mf0\u001B[0m\u001B[1;33m=\u001B[0m\u001B[0mf\u001B[0m\u001B[1;33m,\u001B[0m \u001B[0mbounds\u001B[0m\u001B[1;33m=\u001B[0m\u001B[0mbounds\u001B[0m\u001B[1;33m,\u001B[0m \u001B[0margs\u001B[0m\u001B[1;33m=\u001B[0m\u001B[0margs\u001B[0m\u001B[1;33m,\u001B[0m\u001B[1;33m\u001B[0m\u001B[1;33m\u001B[0m\u001B[0m\n\u001B[0;32m    895\u001B[0m                                       kwargs=kwargs, sparsity=jac_sparsity)\n\u001B[0;32m    896\u001B[0m                 \u001B[1;32mif\u001B[0m \u001B[0mJ\u001B[0m\u001B[1;33m.\u001B[0m\u001B[0mndim\u001B[0m \u001B[1;33m!=\u001B[0m \u001B[1;36m2\u001B[0m\u001B[1;33m:\u001B[0m  \u001B[1;31m# J is guaranteed not sparse.\u001B[0m\u001B[1;33m\u001B[0m\u001B[1;33m\u001B[0m\u001B[0m\n",
      "\u001B[1;32m~\\PycharmProjects\\Margin-Loans-Pricing\\venv\\Lib\\site-packages\\scipy\\optimize\\_numdiff.py\u001B[0m in \u001B[0;36m?\u001B[1;34m(fun, x0, method, rel_step, abs_step, f0, bounds, sparsity, as_linear_operator, args, kwargs)\u001B[0m\n\u001B[0;32m    501\u001B[0m         \u001B[1;32melif\u001B[0m \u001B[0mmethod\u001B[0m \u001B[1;33m==\u001B[0m \u001B[1;34m'cs'\u001B[0m\u001B[1;33m:\u001B[0m\u001B[1;33m\u001B[0m\u001B[1;33m\u001B[0m\u001B[0m\n\u001B[0;32m    502\u001B[0m             \u001B[0muse_one_sided\u001B[0m \u001B[1;33m=\u001B[0m \u001B[1;32mFalse\u001B[0m\u001B[1;33m\u001B[0m\u001B[1;33m\u001B[0m\u001B[0m\n\u001B[0;32m    503\u001B[0m \u001B[1;33m\u001B[0m\u001B[0m\n\u001B[0;32m    504\u001B[0m         \u001B[1;32mif\u001B[0m \u001B[0msparsity\u001B[0m \u001B[1;32mis\u001B[0m \u001B[1;32mNone\u001B[0m\u001B[1;33m:\u001B[0m\u001B[1;33m\u001B[0m\u001B[1;33m\u001B[0m\u001B[0m\n\u001B[1;32m--> 505\u001B[1;33m             return _dense_difference(fun_wrapped, x0, f0, h,\n\u001B[0m\u001B[0;32m    506\u001B[0m                                      use_one_sided, method)\n\u001B[0;32m    507\u001B[0m         \u001B[1;32melse\u001B[0m\u001B[1;33m:\u001B[0m\u001B[1;33m\u001B[0m\u001B[1;33m\u001B[0m\u001B[0m\n\u001B[0;32m    508\u001B[0m             \u001B[1;32mif\u001B[0m \u001B[1;32mnot\u001B[0m \u001B[0missparse\u001B[0m\u001B[1;33m(\u001B[0m\u001B[0msparsity\u001B[0m\u001B[1;33m)\u001B[0m \u001B[1;32mand\u001B[0m \u001B[0mlen\u001B[0m\u001B[1;33m(\u001B[0m\u001B[0msparsity\u001B[0m\u001B[1;33m)\u001B[0m \u001B[1;33m==\u001B[0m \u001B[1;36m2\u001B[0m\u001B[1;33m:\u001B[0m\u001B[1;33m\u001B[0m\u001B[1;33m\u001B[0m\u001B[0m\n",
      "\u001B[1;32m~\\PycharmProjects\\Margin-Loans-Pricing\\venv\\Lib\\site-packages\\scipy\\optimize\\_numdiff.py\u001B[0m in \u001B[0;36m?\u001B[1;34m(fun, x0, f0, h, use_one_sided, method)\u001B[0m\n\u001B[0;32m    572\u001B[0m     \u001B[1;32mfor\u001B[0m \u001B[0mi\u001B[0m \u001B[1;32min\u001B[0m \u001B[0mrange\u001B[0m\u001B[1;33m(\u001B[0m\u001B[0mh\u001B[0m\u001B[1;33m.\u001B[0m\u001B[0msize\u001B[0m\u001B[1;33m)\u001B[0m\u001B[1;33m:\u001B[0m\u001B[1;33m\u001B[0m\u001B[1;33m\u001B[0m\u001B[0m\n\u001B[0;32m    573\u001B[0m         \u001B[1;32mif\u001B[0m \u001B[0mmethod\u001B[0m \u001B[1;33m==\u001B[0m \u001B[1;34m'2-point'\u001B[0m\u001B[1;33m:\u001B[0m\u001B[1;33m\u001B[0m\u001B[1;33m\u001B[0m\u001B[0m\n\u001B[0;32m    574\u001B[0m             \u001B[0mx\u001B[0m \u001B[1;33m=\u001B[0m \u001B[0mx0\u001B[0m \u001B[1;33m+\u001B[0m \u001B[0mh_vecs\u001B[0m\u001B[1;33m[\u001B[0m\u001B[0mi\u001B[0m\u001B[1;33m]\u001B[0m\u001B[1;33m\u001B[0m\u001B[1;33m\u001B[0m\u001B[0m\n\u001B[0;32m    575\u001B[0m             \u001B[0mdx\u001B[0m \u001B[1;33m=\u001B[0m \u001B[0mx\u001B[0m\u001B[1;33m[\u001B[0m\u001B[0mi\u001B[0m\u001B[1;33m]\u001B[0m \u001B[1;33m-\u001B[0m \u001B[0mx0\u001B[0m\u001B[1;33m[\u001B[0m\u001B[0mi\u001B[0m\u001B[1;33m]\u001B[0m  \u001B[1;31m# Recompute dx as exactly representable number.\u001B[0m\u001B[1;33m\u001B[0m\u001B[1;33m\u001B[0m\u001B[0m\n\u001B[1;32m--> 576\u001B[1;33m             \u001B[0mdf\u001B[0m \u001B[1;33m=\u001B[0m \u001B[0mfun\u001B[0m\u001B[1;33m(\u001B[0m\u001B[0mx\u001B[0m\u001B[1;33m)\u001B[0m \u001B[1;33m-\u001B[0m \u001B[0mf0\u001B[0m\u001B[1;33m\u001B[0m\u001B[1;33m\u001B[0m\u001B[0m\n\u001B[0m\u001B[0;32m    577\u001B[0m         \u001B[1;32melif\u001B[0m \u001B[0mmethod\u001B[0m \u001B[1;33m==\u001B[0m \u001B[1;34m'3-point'\u001B[0m \u001B[1;32mand\u001B[0m \u001B[0muse_one_sided\u001B[0m\u001B[1;33m[\u001B[0m\u001B[0mi\u001B[0m\u001B[1;33m]\u001B[0m\u001B[1;33m:\u001B[0m\u001B[1;33m\u001B[0m\u001B[1;33m\u001B[0m\u001B[0m\n\u001B[0;32m    578\u001B[0m             \u001B[0mx1\u001B[0m \u001B[1;33m=\u001B[0m \u001B[0mx0\u001B[0m \u001B[1;33m+\u001B[0m \u001B[0mh_vecs\u001B[0m\u001B[1;33m[\u001B[0m\u001B[0mi\u001B[0m\u001B[1;33m]\u001B[0m\u001B[1;33m\u001B[0m\u001B[1;33m\u001B[0m\u001B[0m\n\u001B[0;32m    579\u001B[0m             \u001B[0mx2\u001B[0m \u001B[1;33m=\u001B[0m \u001B[0mx0\u001B[0m \u001B[1;33m+\u001B[0m \u001B[1;36m2\u001B[0m \u001B[1;33m*\u001B[0m \u001B[0mh_vecs\u001B[0m\u001B[1;33m[\u001B[0m\u001B[0mi\u001B[0m\u001B[1;33m]\u001B[0m\u001B[1;33m\u001B[0m\u001B[1;33m\u001B[0m\u001B[0m\n",
      "\u001B[1;32m~\\PycharmProjects\\Margin-Loans-Pricing\\venv\\Lib\\site-packages\\scipy\\optimize\\_numdiff.py\u001B[0m in \u001B[0;36m?\u001B[1;34m(x)\u001B[0m\n\u001B[0;32m    455\u001B[0m     \u001B[1;32mdef\u001B[0m \u001B[0mfun_wrapped\u001B[0m\u001B[1;33m(\u001B[0m\u001B[0mx\u001B[0m\u001B[1;33m)\u001B[0m\u001B[1;33m:\u001B[0m\u001B[1;33m\u001B[0m\u001B[1;33m\u001B[0m\u001B[0m\n\u001B[1;32m--> 456\u001B[1;33m         \u001B[0mf\u001B[0m \u001B[1;33m=\u001B[0m \u001B[0mnp\u001B[0m\u001B[1;33m.\u001B[0m\u001B[0matleast_1d\u001B[0m\u001B[1;33m(\u001B[0m\u001B[0mfun\u001B[0m\u001B[1;33m(\u001B[0m\u001B[0mx\u001B[0m\u001B[1;33m,\u001B[0m \u001B[1;33m*\u001B[0m\u001B[0margs\u001B[0m\u001B[1;33m,\u001B[0m \u001B[1;33m**\u001B[0m\u001B[0mkwargs\u001B[0m\u001B[1;33m)\u001B[0m\u001B[1;33m)\u001B[0m\u001B[1;33m\u001B[0m\u001B[1;33m\u001B[0m\u001B[0m\n\u001B[0m\u001B[0;32m    457\u001B[0m         \u001B[1;32mif\u001B[0m \u001B[0mf\u001B[0m\u001B[1;33m.\u001B[0m\u001B[0mndim\u001B[0m \u001B[1;33m>\u001B[0m \u001B[1;36m1\u001B[0m\u001B[1;33m:\u001B[0m\u001B[1;33m\u001B[0m\u001B[1;33m\u001B[0m\u001B[0m\n\u001B[0;32m    458\u001B[0m             raise RuntimeError(\"`fun` return value has \"\n\u001B[0;32m    459\u001B[0m                                \"more than 1 dimension.\")\n",
      "\u001B[1;32m~\\AppData\\Local\\Temp\\ipykernel_14860\\4244805518.py\u001B[0m in \u001B[0;36m?\u001B[1;34m(x, strikes, mkt_prices)\u001B[0m\n\u001B[0;32m      2\u001B[0m \u001B[1;32mdef\u001B[0m \u001B[0mcost_function\u001B[0m\u001B[1;33m(\u001B[0m\u001B[0mx\u001B[0m\u001B[1;33m,\u001B[0m \u001B[0mstrikes\u001B[0m\u001B[1;33m,\u001B[0m \u001B[0mmkt_prices\u001B[0m\u001B[1;33m)\u001B[0m\u001B[1;33m:\u001B[0m\u001B[1;33m\u001B[0m\u001B[1;33m\u001B[0m\u001B[0m\n\u001B[0;32m      3\u001B[0m     \u001B[0msigm\u001B[0m\u001B[1;33m,\u001B[0m \u001B[0mlamb\u001B[0m\u001B[1;33m,\u001B[0m \u001B[0mp\u001B[0m\u001B[1;33m,\u001B[0m \u001B[0meta1\u001B[0m\u001B[1;33m,\u001B[0m \u001B[0meta2\u001B[0m \u001B[1;33m=\u001B[0m \u001B[0mx\u001B[0m\u001B[1;33m\u001B[0m\u001B[1;33m\u001B[0m\u001B[0m\n\u001B[0;32m      4\u001B[0m     \u001B[0mKOU\u001B[0m \u001B[1;33m=\u001B[0m \u001B[0mKou_pricer\u001B[0m\u001B[1;33m(\u001B[0m\u001B[0mS0\u001B[0m\u001B[1;33m=\u001B[0m\u001B[0mS0\u001B[0m\u001B[1;33m,\u001B[0m \u001B[0mK\u001B[0m\u001B[1;33m=\u001B[0m\u001B[0mstrikes\u001B[0m\u001B[1;33m,\u001B[0m \u001B[0mttm\u001B[0m\u001B[1;33m=\u001B[0m\u001B[0mT\u001B[0m\u001B[1;33m,\u001B[0m \u001B[0mr\u001B[0m\u001B[1;33m=\u001B[0m\u001B[0mr\u001B[0m\u001B[1;33m,\u001B[0m \u001B[0msigma\u001B[0m\u001B[1;33m=\u001B[0m\u001B[0msigm\u001B[0m\u001B[1;33m,\u001B[0m \u001B[0mlambd\u001B[0m\u001B[1;33m=\u001B[0m\u001B[0mlamb\u001B[0m\u001B[1;33m,\u001B[0m \u001B[0mp\u001B[0m\u001B[1;33m=\u001B[0m\u001B[0mp\u001B[0m\u001B[1;33m,\u001B[0m \u001B[0meta1\u001B[0m\u001B[1;33m=\u001B[0m\u001B[0meta1\u001B[0m\u001B[1;33m,\u001B[0m \u001B[0meta2\u001B[0m\u001B[1;33m=\u001B[0m\u001B[0meta2\u001B[0m\u001B[1;33m,\u001B[0m \u001B[0mexercise\u001B[0m\u001B[1;33m=\u001B[0m\u001B[0mexercise\u001B[0m\u001B[1;33m)\u001B[0m\u001B[1;33m\u001B[0m\u001B[1;33m\u001B[0m\u001B[0m\n\u001B[1;32m----> 5\u001B[1;33m     \u001B[0msq_err\u001B[0m \u001B[1;33m=\u001B[0m \u001B[0mnp\u001B[0m\u001B[1;33m.\u001B[0m\u001B[0msum\u001B[0m\u001B[1;33m(\u001B[0m\u001B[0mc_weights\u001B[0m\u001B[1;33m*\u001B[0m\u001B[1;33m(\u001B[0m\u001B[0mKOU\u001B[0m\u001B[1;33m.\u001B[0m\u001B[0mclosed_formula_call\u001B[0m\u001B[1;33m(\u001B[0m\u001B[0mstrikes\u001B[0m\u001B[1;33m)\u001B[0m \u001B[1;33m-\u001B[0m \u001B[0mmkt_prices\u001B[0m\u001B[1;33m)\u001B[0m\u001B[1;33m**\u001B[0m\u001B[1;36m2\u001B[0m\u001B[1;33m)\u001B[0m\u001B[1;33m\u001B[0m\u001B[1;33m\u001B[0m\u001B[0m\n\u001B[0m\u001B[0;32m      6\u001B[0m     \u001B[1;32mreturn\u001B[0m \u001B[0msq_err\u001B[0m\u001B[1;33m\u001B[0m\u001B[1;33m\u001B[0m\u001B[0m\n",
      "\u001B[1;32m~\\PycharmProjects\\Margin-Loans-Pricing/functions\\KOUpricer.py\u001B[0m in \u001B[0;36m?\u001B[1;34m(self, K)\u001B[0m\n\u001B[0;32m    310\u001B[0m         \u001B[0meta2_2\u001B[0m \u001B[1;33m=\u001B[0m \u001B[0mself\u001B[0m\u001B[1;33m.\u001B[0m\u001B[0meta2\u001B[0m \u001B[1;33m+\u001B[0m \u001B[1;36m1\u001B[0m\u001B[1;33m\u001B[0m\u001B[1;33m\u001B[0m\u001B[0m\n\u001B[0;32m    311\u001B[0m         \u001B[0mp2\u001B[0m \u001B[1;33m=\u001B[0m \u001B[0mself\u001B[0m\u001B[1;33m.\u001B[0m\u001B[0mp\u001B[0m \u001B[1;33m/\u001B[0m \u001B[1;33m(\u001B[0m\u001B[1;36m1\u001B[0m \u001B[1;33m+\u001B[0m \u001B[0mzeta\u001B[0m\u001B[1;33m)\u001B[0m \u001B[1;33m*\u001B[0m \u001B[0mself\u001B[0m\u001B[1;33m.\u001B[0m\u001B[0meta1\u001B[0m \u001B[1;33m/\u001B[0m \u001B[1;33m(\u001B[0m\u001B[0mself\u001B[0m\u001B[1;33m.\u001B[0m\u001B[0meta1\u001B[0m \u001B[1;33m-\u001B[0m \u001B[1;36m1\u001B[0m\u001B[1;33m)\u001B[0m\u001B[1;33m\u001B[0m\u001B[1;33m\u001B[0m\u001B[0m\n\u001B[0;32m    312\u001B[0m         vkjd_1 = self.S0 * self.Yfunction(self.r + 1 / 2 * self.sigma ** 2 - self.lambd * zeta, self.sigma, lambd2, p2,\n\u001B[0;32m    313\u001B[0m                                           eta1_2, eta2_2, np.log(self.K / self.S0), self.T)\n\u001B[1;32m--> 314\u001B[1;33m         vkjd_2 = self.K * np.exp(-self.r * self.T) * self.Yfunction(\n\u001B[0m\u001B[0;32m    315\u001B[0m             \u001B[0mself\u001B[0m\u001B[1;33m.\u001B[0m\u001B[0mr\u001B[0m \u001B[1;33m-\u001B[0m \u001B[1;36m1\u001B[0m \u001B[1;33m/\u001B[0m \u001B[1;36m2\u001B[0m \u001B[1;33m*\u001B[0m \u001B[0mself\u001B[0m\u001B[1;33m.\u001B[0m\u001B[0msigma\u001B[0m \u001B[1;33m**\u001B[0m \u001B[1;36m2\u001B[0m \u001B[1;33m-\u001B[0m \u001B[0mself\u001B[0m\u001B[1;33m.\u001B[0m\u001B[0mlambd\u001B[0m \u001B[1;33m*\u001B[0m \u001B[0mzeta\u001B[0m\u001B[1;33m,\u001B[0m\u001B[1;33m\u001B[0m\u001B[1;33m\u001B[0m\u001B[0m\n\u001B[0;32m    316\u001B[0m             \u001B[0mself\u001B[0m\u001B[1;33m.\u001B[0m\u001B[0msigma\u001B[0m\u001B[1;33m,\u001B[0m \u001B[0mself\u001B[0m\u001B[1;33m.\u001B[0m\u001B[0mlambd\u001B[0m\u001B[1;33m,\u001B[0m \u001B[0mself\u001B[0m\u001B[1;33m.\u001B[0m\u001B[0mp\u001B[0m\u001B[1;33m,\u001B[0m \u001B[0mself\u001B[0m\u001B[1;33m.\u001B[0m\u001B[0meta1\u001B[0m\u001B[1;33m,\u001B[0m \u001B[0mself\u001B[0m\u001B[1;33m.\u001B[0m\u001B[0meta2\u001B[0m\u001B[1;33m,\u001B[0m\u001B[1;33m\u001B[0m\u001B[1;33m\u001B[0m\u001B[0m\n\u001B[0;32m    317\u001B[0m             np.log(self.K / self.S0), self.T)\n",
      "\u001B[1;32m~\\PycharmProjects\\Margin-Loans-Pricing/functions\\KOUpricer.py\u001B[0m in \u001B[0;36m?\u001B[1;34m(self, mu, sigma, lambd, p, eta1, eta2, a, T)\u001B[0m\n\u001B[0;32m    287\u001B[0m                 \u001B[0msump2_k\u001B[0m \u001B[1;33m=\u001B[0m \u001B[0mself\u001B[0m\u001B[1;33m.\u001B[0m\u001B[0mP\u001B[0m\u001B[1;33m(\u001B[0m\u001B[0mn\u001B[0m\u001B[1;33m,\u001B[0m \u001B[0mk\u001B[0m\u001B[1;33m,\u001B[0m \u001B[0meta1\u001B[0m\u001B[1;33m,\u001B[0m \u001B[0meta2\u001B[0m\u001B[1;33m,\u001B[0m \u001B[0mp\u001B[0m\u001B[1;33m)\u001B[0m \u001B[1;33m*\u001B[0m \u001B[1;33m(\u001B[0m\u001B[0msigma\u001B[0m \u001B[1;33m*\u001B[0m \u001B[0mnp\u001B[0m\u001B[1;33m.\u001B[0m\u001B[0msqrt\u001B[0m\u001B[1;33m(\u001B[0m\u001B[0mT\u001B[0m\u001B[1;33m)\u001B[0m \u001B[1;33m*\u001B[0m \u001B[0meta1\u001B[0m\u001B[1;33m)\u001B[0m \u001B[1;33m**\u001B[0m \u001B[0mk\u001B[0m \u001B[1;33m*\u001B[0m\u001B[0;31m \u001B[0m\u001B[0;31m\\\u001B[0m\u001B[1;33m\u001B[0m\u001B[1;33m\u001B[0m\u001B[0m\n\u001B[0;32m    288\u001B[0m                           \u001B[0mself\u001B[0m\u001B[1;33m.\u001B[0m\u001B[0mI\u001B[0m\u001B[1;33m(\u001B[0m\u001B[0mk\u001B[0m \u001B[1;33m-\u001B[0m \u001B[1;36m1\u001B[0m\u001B[1;33m,\u001B[0m \u001B[0ma\u001B[0m \u001B[1;33m-\u001B[0m \u001B[0mmu\u001B[0m \u001B[1;33m*\u001B[0m \u001B[0mT\u001B[0m\u001B[1;33m,\u001B[0m \u001B[1;33m-\u001B[0m\u001B[0meta1\u001B[0m\u001B[1;33m,\u001B[0m \u001B[1;33m-\u001B[0m\u001B[1;36m1\u001B[0m \u001B[1;33m/\u001B[0m \u001B[1;33m(\u001B[0m\u001B[0msigma\u001B[0m \u001B[1;33m*\u001B[0m \u001B[0mnp\u001B[0m\u001B[1;33m.\u001B[0m\u001B[0msqrt\u001B[0m\u001B[1;33m(\u001B[0m\u001B[0mT\u001B[0m\u001B[1;33m)\u001B[0m\u001B[1;33m)\u001B[0m\u001B[1;33m,\u001B[0m \u001B[1;33m-\u001B[0m\u001B[0msigma\u001B[0m \u001B[1;33m*\u001B[0m \u001B[0meta1\u001B[0m \u001B[1;33m*\u001B[0m \u001B[0mnp\u001B[0m\u001B[1;33m.\u001B[0m\u001B[0msqrt\u001B[0m\u001B[1;33m(\u001B[0m\u001B[0mT\u001B[0m\u001B[1;33m)\u001B[0m\u001B[1;33m)\u001B[0m\u001B[1;33m\u001B[0m\u001B[1;33m\u001B[0m\u001B[0m\n\u001B[0;32m    289\u001B[0m \u001B[1;33m\u001B[0m\u001B[0m\n\u001B[0;32m    290\u001B[0m                 \u001B[0msumq2_k\u001B[0m \u001B[1;33m=\u001B[0m \u001B[0mself\u001B[0m\u001B[1;33m.\u001B[0m\u001B[0mQ\u001B[0m\u001B[1;33m(\u001B[0m\u001B[0mn\u001B[0m\u001B[1;33m,\u001B[0m \u001B[0mk\u001B[0m\u001B[1;33m,\u001B[0m \u001B[0meta1\u001B[0m\u001B[1;33m,\u001B[0m \u001B[0meta2\u001B[0m\u001B[1;33m,\u001B[0m \u001B[0mp\u001B[0m\u001B[1;33m)\u001B[0m \u001B[1;33m*\u001B[0m \u001B[1;33m(\u001B[0m\u001B[0msigma\u001B[0m \u001B[1;33m*\u001B[0m \u001B[0mnp\u001B[0m\u001B[1;33m.\u001B[0m\u001B[0msqrt\u001B[0m\u001B[1;33m(\u001B[0m\u001B[0mT\u001B[0m\u001B[1;33m)\u001B[0m \u001B[1;33m*\u001B[0m \u001B[0meta2\u001B[0m\u001B[1;33m)\u001B[0m \u001B[1;33m**\u001B[0m \u001B[0mk\u001B[0m \u001B[1;33m*\u001B[0m\u001B[0;31m \u001B[0m\u001B[0;31m\\\u001B[0m\u001B[1;33m\u001B[0m\u001B[1;33m\u001B[0m\u001B[0m\n\u001B[1;32m--> 291\u001B[1;33m                           \u001B[0mself\u001B[0m\u001B[1;33m.\u001B[0m\u001B[0mI\u001B[0m\u001B[1;33m(\u001B[0m\u001B[0mk\u001B[0m \u001B[1;33m-\u001B[0m \u001B[1;36m1\u001B[0m\u001B[1;33m,\u001B[0m \u001B[0ma\u001B[0m \u001B[1;33m-\u001B[0m \u001B[0mmu\u001B[0m \u001B[1;33m*\u001B[0m \u001B[0mT\u001B[0m\u001B[1;33m,\u001B[0m \u001B[0meta2\u001B[0m\u001B[1;33m,\u001B[0m \u001B[1;36m1\u001B[0m \u001B[1;33m/\u001B[0m \u001B[1;33m(\u001B[0m\u001B[0msigma\u001B[0m \u001B[1;33m*\u001B[0m \u001B[0mnp\u001B[0m\u001B[1;33m.\u001B[0m\u001B[0msqrt\u001B[0m\u001B[1;33m(\u001B[0m\u001B[0mT\u001B[0m\u001B[1;33m)\u001B[0m\u001B[1;33m)\u001B[0m\u001B[1;33m,\u001B[0m \u001B[1;33m-\u001B[0m\u001B[0msigma\u001B[0m \u001B[1;33m*\u001B[0m \u001B[0meta2\u001B[0m \u001B[1;33m*\u001B[0m \u001B[0mnp\u001B[0m\u001B[1;33m.\u001B[0m\u001B[0msqrt\u001B[0m\u001B[1;33m(\u001B[0m\u001B[0mT\u001B[0m\u001B[1;33m)\u001B[0m\u001B[1;33m)\u001B[0m\u001B[1;33m\u001B[0m\u001B[1;33m\u001B[0m\u001B[0m\n\u001B[0m\u001B[0;32m    292\u001B[0m \u001B[1;33m\u001B[0m\u001B[0m\n\u001B[0;32m    293\u001B[0m                 \u001B[0msump1_n\u001B[0m \u001B[1;33m+=\u001B[0m \u001B[0msump2_k\u001B[0m\u001B[1;33m\u001B[0m\u001B[1;33m\u001B[0m\u001B[0m\n\u001B[0;32m    294\u001B[0m                 \u001B[0msumq1_n\u001B[0m \u001B[1;33m+=\u001B[0m \u001B[0msumq2_k\u001B[0m\u001B[1;33m\u001B[0m\u001B[1;33m\u001B[0m\u001B[0m\n",
      "\u001B[1;32m~\\PycharmProjects\\Margin-Loans-Pricing/functions\\KOUpricer.py\u001B[0m in \u001B[0;36m?\u001B[1;34m(self, n, c, alpha, beta, delta)\u001B[0m\n\u001B[0;32m    263\u001B[0m         \u001B[1;32melif\u001B[0m \u001B[0mbeta\u001B[0m \u001B[1;33m>\u001B[0m \u001B[1;36m0\u001B[0m \u001B[1;32mand\u001B[0m \u001B[0malpha\u001B[0m \u001B[1;33m!=\u001B[0m \u001B[1;36m0\u001B[0m\u001B[1;33m:\u001B[0m\u001B[1;33m\u001B[0m\u001B[1;33m\u001B[0m\u001B[0m\n\u001B[0;32m    264\u001B[0m             \u001B[0msum_i\u001B[0m \u001B[1;33m=\u001B[0m \u001B[1;36m0\u001B[0m\u001B[1;33m\u001B[0m\u001B[1;33m\u001B[0m\u001B[0m\n\u001B[0;32m    265\u001B[0m             \u001B[0mi\u001B[0m \u001B[1;33m=\u001B[0m \u001B[1;36m0\u001B[0m\u001B[1;33m\u001B[0m\u001B[1;33m\u001B[0m\u001B[0m\n\u001B[0;32m    266\u001B[0m             \u001B[1;32mwhile\u001B[0m \u001B[0mi\u001B[0m \u001B[1;33m<=\u001B[0m \u001B[0mn\u001B[0m\u001B[1;33m:\u001B[0m\u001B[1;33m\u001B[0m\u001B[1;33m\u001B[0m\u001B[0m\n\u001B[1;32m--> 267\u001B[1;33m                 \u001B[0msum_i\u001B[0m \u001B[1;33m=\u001B[0m \u001B[0msum_i\u001B[0m \u001B[1;33m+\u001B[0m \u001B[1;33m(\u001B[0m\u001B[0mbeta\u001B[0m \u001B[1;33m/\u001B[0m \u001B[0malpha\u001B[0m\u001B[1;33m)\u001B[0m \u001B[1;33m**\u001B[0m \u001B[1;33m(\u001B[0m\u001B[0mn\u001B[0m \u001B[1;33m-\u001B[0m \u001B[0mi\u001B[0m\u001B[1;33m)\u001B[0m \u001B[1;33m*\u001B[0m \u001B[0mself\u001B[0m\u001B[1;33m.\u001B[0m\u001B[0mHh\u001B[0m\u001B[1;33m(\u001B[0m\u001B[0mi\u001B[0m\u001B[1;33m,\u001B[0m \u001B[0mbeta\u001B[0m \u001B[1;33m*\u001B[0m \u001B[0mc\u001B[0m \u001B[1;33m-\u001B[0m \u001B[0mdelta\u001B[0m\u001B[1;33m)\u001B[0m\u001B[1;33m\u001B[0m\u001B[1;33m\u001B[0m\u001B[0m\n\u001B[0m\u001B[0;32m    268\u001B[0m                 \u001B[0mi\u001B[0m \u001B[1;33m+=\u001B[0m \u001B[1;36m1\u001B[0m\u001B[1;33m\u001B[0m\u001B[1;33m\u001B[0m\u001B[0m\n\u001B[0;32m    269\u001B[0m             \u001B[1;32mreturn\u001B[0m \u001B[1;33m-\u001B[0m\u001B[0mnp\u001B[0m\u001B[1;33m.\u001B[0m\u001B[0mexp\u001B[0m\u001B[1;33m(\u001B[0m\u001B[0malpha\u001B[0m \u001B[1;33m*\u001B[0m \u001B[0mc\u001B[0m\u001B[1;33m)\u001B[0m \u001B[1;33m/\u001B[0m \u001B[0malpha\u001B[0m \u001B[1;33m*\u001B[0m \u001B[0msum_i\u001B[0m \u001B[1;33m+\u001B[0m \u001B[1;33m(\u001B[0m\u001B[0mbeta\u001B[0m \u001B[1;33m/\u001B[0m \u001B[0malpha\u001B[0m\u001B[1;33m)\u001B[0m \u001B[1;33m**\u001B[0m \u001B[1;33m(\u001B[0m\u001B[0mn\u001B[0m \u001B[1;33m+\u001B[0m \u001B[1;36m1\u001B[0m\u001B[1;33m)\u001B[0m \u001B[1;33m*\u001B[0m \u001B[1;33m(\u001B[0m\u001B[0mnp\u001B[0m\u001B[1;33m.\u001B[0m\u001B[0msqrt\u001B[0m\u001B[1;33m(\u001B[0m\u001B[1;36m2\u001B[0m \u001B[1;33m*\u001B[0m \u001B[0mnp\u001B[0m\u001B[1;33m.\u001B[0m\u001B[0mpi\u001B[0m\u001B[1;33m)\u001B[0m \u001B[1;33m/\u001B[0m \u001B[0mbeta\u001B[0m\u001B[1;33m)\u001B[0m\u001B[0;31m \u001B[0m\u001B[0;31m\\\u001B[0m\u001B[1;33m\u001B[0m\u001B[1;33m\u001B[0m\u001B[0m\n\u001B[0;32m    270\u001B[0m                    * np.exp((alpha * delta / beta) + (alpha ** 2 / (2 * beta ** 2))) * scs.norm.cdf(\n",
      "\u001B[1;32m~\\PycharmProjects\\Margin-Loans-Pricing/functions\\KOUpricer.py\u001B[0m in \u001B[0;36m?\u001B[1;34m(self, n, x)\u001B[0m\n\u001B[0;32m    215\u001B[0m             \u001B[1;32mreturn\u001B[0m \u001B[0mnp\u001B[0m\u001B[1;33m.\u001B[0m\u001B[0mexp\u001B[0m\u001B[1;33m(\u001B[0m\u001B[1;33m-\u001B[0m\u001B[0mx\u001B[0m \u001B[1;33m**\u001B[0m \u001B[1;36m2\u001B[0m \u001B[1;33m/\u001B[0m \u001B[1;36m2\u001B[0m\u001B[1;33m)\u001B[0m\u001B[1;33m\u001B[0m\u001B[1;33m\u001B[0m\u001B[0m\n\u001B[0;32m    216\u001B[0m         \u001B[1;32melif\u001B[0m \u001B[0mn\u001B[0m \u001B[1;33m==\u001B[0m \u001B[1;36m0\u001B[0m\u001B[1;33m:\u001B[0m\u001B[1;33m\u001B[0m\u001B[1;33m\u001B[0m\u001B[0m\n\u001B[0;32m    217\u001B[0m             \u001B[1;32mreturn\u001B[0m \u001B[0mnp\u001B[0m\u001B[1;33m.\u001B[0m\u001B[0msqrt\u001B[0m\u001B[1;33m(\u001B[0m\u001B[1;36m2\u001B[0m \u001B[1;33m*\u001B[0m \u001B[0mnp\u001B[0m\u001B[1;33m.\u001B[0m\u001B[0mpi\u001B[0m\u001B[1;33m)\u001B[0m \u001B[1;33m*\u001B[0m \u001B[0mscs\u001B[0m\u001B[1;33m.\u001B[0m\u001B[0mnorm\u001B[0m\u001B[1;33m.\u001B[0m\u001B[0mcdf\u001B[0m\u001B[1;33m(\u001B[0m\u001B[1;33m-\u001B[0m\u001B[0mx\u001B[0m\u001B[1;33m)\u001B[0m\u001B[1;33m\u001B[0m\u001B[1;33m\u001B[0m\u001B[0m\n\u001B[0;32m    218\u001B[0m         \u001B[1;32melse\u001B[0m\u001B[1;33m:\u001B[0m\u001B[1;33m\u001B[0m\u001B[1;33m\u001B[0m\u001B[0m\n\u001B[1;32m--> 219\u001B[1;33m             \u001B[1;32mreturn\u001B[0m \u001B[1;33m(\u001B[0m\u001B[0mself\u001B[0m\u001B[1;33m.\u001B[0m\u001B[0mHh\u001B[0m\u001B[1;33m(\u001B[0m\u001B[0mn\u001B[0m \u001B[1;33m-\u001B[0m \u001B[1;36m2\u001B[0m\u001B[1;33m,\u001B[0m \u001B[0mx\u001B[0m\u001B[1;33m)\u001B[0m \u001B[1;33m-\u001B[0m \u001B[0mx\u001B[0m \u001B[1;33m*\u001B[0m \u001B[0mself\u001B[0m\u001B[1;33m.\u001B[0m\u001B[0mHh\u001B[0m\u001B[1;33m(\u001B[0m\u001B[0mn\u001B[0m \u001B[1;33m-\u001B[0m \u001B[1;36m1\u001B[0m\u001B[1;33m,\u001B[0m \u001B[0mx\u001B[0m\u001B[1;33m)\u001B[0m\u001B[1;33m)\u001B[0m \u001B[1;33m/\u001B[0m \u001B[0mn\u001B[0m\u001B[1;33m\u001B[0m\u001B[1;33m\u001B[0m\u001B[0m\n\u001B[0m",
      "\u001B[1;32m~\\PycharmProjects\\Margin-Loans-Pricing/functions\\KOUpricer.py\u001B[0m in \u001B[0;36m?\u001B[1;34m(self, n, x)\u001B[0m\n\u001B[0;32m    215\u001B[0m             \u001B[1;32mreturn\u001B[0m \u001B[0mnp\u001B[0m\u001B[1;33m.\u001B[0m\u001B[0mexp\u001B[0m\u001B[1;33m(\u001B[0m\u001B[1;33m-\u001B[0m\u001B[0mx\u001B[0m \u001B[1;33m**\u001B[0m \u001B[1;36m2\u001B[0m \u001B[1;33m/\u001B[0m \u001B[1;36m2\u001B[0m\u001B[1;33m)\u001B[0m\u001B[1;33m\u001B[0m\u001B[1;33m\u001B[0m\u001B[0m\n\u001B[0;32m    216\u001B[0m         \u001B[1;32melif\u001B[0m \u001B[0mn\u001B[0m \u001B[1;33m==\u001B[0m \u001B[1;36m0\u001B[0m\u001B[1;33m:\u001B[0m\u001B[1;33m\u001B[0m\u001B[1;33m\u001B[0m\u001B[0m\n\u001B[0;32m    217\u001B[0m             \u001B[1;32mreturn\u001B[0m \u001B[0mnp\u001B[0m\u001B[1;33m.\u001B[0m\u001B[0msqrt\u001B[0m\u001B[1;33m(\u001B[0m\u001B[1;36m2\u001B[0m \u001B[1;33m*\u001B[0m \u001B[0mnp\u001B[0m\u001B[1;33m.\u001B[0m\u001B[0mpi\u001B[0m\u001B[1;33m)\u001B[0m \u001B[1;33m*\u001B[0m \u001B[0mscs\u001B[0m\u001B[1;33m.\u001B[0m\u001B[0mnorm\u001B[0m\u001B[1;33m.\u001B[0m\u001B[0mcdf\u001B[0m\u001B[1;33m(\u001B[0m\u001B[1;33m-\u001B[0m\u001B[0mx\u001B[0m\u001B[1;33m)\u001B[0m\u001B[1;33m\u001B[0m\u001B[1;33m\u001B[0m\u001B[0m\n\u001B[0;32m    218\u001B[0m         \u001B[1;32melse\u001B[0m\u001B[1;33m:\u001B[0m\u001B[1;33m\u001B[0m\u001B[1;33m\u001B[0m\u001B[0m\n\u001B[1;32m--> 219\u001B[1;33m             \u001B[1;32mreturn\u001B[0m \u001B[1;33m(\u001B[0m\u001B[0mself\u001B[0m\u001B[1;33m.\u001B[0m\u001B[0mHh\u001B[0m\u001B[1;33m(\u001B[0m\u001B[0mn\u001B[0m \u001B[1;33m-\u001B[0m \u001B[1;36m2\u001B[0m\u001B[1;33m,\u001B[0m \u001B[0mx\u001B[0m\u001B[1;33m)\u001B[0m \u001B[1;33m-\u001B[0m \u001B[0mx\u001B[0m \u001B[1;33m*\u001B[0m \u001B[0mself\u001B[0m\u001B[1;33m.\u001B[0m\u001B[0mHh\u001B[0m\u001B[1;33m(\u001B[0m\u001B[0mn\u001B[0m \u001B[1;33m-\u001B[0m \u001B[1;36m1\u001B[0m\u001B[1;33m,\u001B[0m \u001B[0mx\u001B[0m\u001B[1;33m)\u001B[0m\u001B[1;33m)\u001B[0m \u001B[1;33m/\u001B[0m \u001B[0mn\u001B[0m\u001B[1;33m\u001B[0m\u001B[1;33m\u001B[0m\u001B[0m\n\u001B[0m",
      "\u001B[1;32m~\\PycharmProjects\\Margin-Loans-Pricing/functions\\KOUpricer.py\u001B[0m in \u001B[0;36m?\u001B[1;34m(self, n, x)\u001B[0m\n\u001B[0;32m    215\u001B[0m             \u001B[1;32mreturn\u001B[0m \u001B[0mnp\u001B[0m\u001B[1;33m.\u001B[0m\u001B[0mexp\u001B[0m\u001B[1;33m(\u001B[0m\u001B[1;33m-\u001B[0m\u001B[0mx\u001B[0m \u001B[1;33m**\u001B[0m \u001B[1;36m2\u001B[0m \u001B[1;33m/\u001B[0m \u001B[1;36m2\u001B[0m\u001B[1;33m)\u001B[0m\u001B[1;33m\u001B[0m\u001B[1;33m\u001B[0m\u001B[0m\n\u001B[0;32m    216\u001B[0m         \u001B[1;32melif\u001B[0m \u001B[0mn\u001B[0m \u001B[1;33m==\u001B[0m \u001B[1;36m0\u001B[0m\u001B[1;33m:\u001B[0m\u001B[1;33m\u001B[0m\u001B[1;33m\u001B[0m\u001B[0m\n\u001B[0;32m    217\u001B[0m             \u001B[1;32mreturn\u001B[0m \u001B[0mnp\u001B[0m\u001B[1;33m.\u001B[0m\u001B[0msqrt\u001B[0m\u001B[1;33m(\u001B[0m\u001B[1;36m2\u001B[0m \u001B[1;33m*\u001B[0m \u001B[0mnp\u001B[0m\u001B[1;33m.\u001B[0m\u001B[0mpi\u001B[0m\u001B[1;33m)\u001B[0m \u001B[1;33m*\u001B[0m \u001B[0mscs\u001B[0m\u001B[1;33m.\u001B[0m\u001B[0mnorm\u001B[0m\u001B[1;33m.\u001B[0m\u001B[0mcdf\u001B[0m\u001B[1;33m(\u001B[0m\u001B[1;33m-\u001B[0m\u001B[0mx\u001B[0m\u001B[1;33m)\u001B[0m\u001B[1;33m\u001B[0m\u001B[1;33m\u001B[0m\u001B[0m\n\u001B[0;32m    218\u001B[0m         \u001B[1;32melse\u001B[0m\u001B[1;33m:\u001B[0m\u001B[1;33m\u001B[0m\u001B[1;33m\u001B[0m\u001B[0m\n\u001B[1;32m--> 219\u001B[1;33m             \u001B[1;32mreturn\u001B[0m \u001B[1;33m(\u001B[0m\u001B[0mself\u001B[0m\u001B[1;33m.\u001B[0m\u001B[0mHh\u001B[0m\u001B[1;33m(\u001B[0m\u001B[0mn\u001B[0m \u001B[1;33m-\u001B[0m \u001B[1;36m2\u001B[0m\u001B[1;33m,\u001B[0m \u001B[0mx\u001B[0m\u001B[1;33m)\u001B[0m \u001B[1;33m-\u001B[0m \u001B[0mx\u001B[0m \u001B[1;33m*\u001B[0m \u001B[0mself\u001B[0m\u001B[1;33m.\u001B[0m\u001B[0mHh\u001B[0m\u001B[1;33m(\u001B[0m\u001B[0mn\u001B[0m \u001B[1;33m-\u001B[0m \u001B[1;36m1\u001B[0m\u001B[1;33m,\u001B[0m \u001B[0mx\u001B[0m\u001B[1;33m)\u001B[0m\u001B[1;33m)\u001B[0m \u001B[1;33m/\u001B[0m \u001B[0mn\u001B[0m\u001B[1;33m\u001B[0m\u001B[1;33m\u001B[0m\u001B[0m\n\u001B[0m",
      "\u001B[1;32m~\\PycharmProjects\\Margin-Loans-Pricing/functions\\KOUpricer.py\u001B[0m in \u001B[0;36m?\u001B[1;34m(self, n, x)\u001B[0m\n\u001B[0;32m    215\u001B[0m             \u001B[1;32mreturn\u001B[0m \u001B[0mnp\u001B[0m\u001B[1;33m.\u001B[0m\u001B[0mexp\u001B[0m\u001B[1;33m(\u001B[0m\u001B[1;33m-\u001B[0m\u001B[0mx\u001B[0m \u001B[1;33m**\u001B[0m \u001B[1;36m2\u001B[0m \u001B[1;33m/\u001B[0m \u001B[1;36m2\u001B[0m\u001B[1;33m)\u001B[0m\u001B[1;33m\u001B[0m\u001B[1;33m\u001B[0m\u001B[0m\n\u001B[0;32m    216\u001B[0m         \u001B[1;32melif\u001B[0m \u001B[0mn\u001B[0m \u001B[1;33m==\u001B[0m \u001B[1;36m0\u001B[0m\u001B[1;33m:\u001B[0m\u001B[1;33m\u001B[0m\u001B[1;33m\u001B[0m\u001B[0m\n\u001B[0;32m    217\u001B[0m             \u001B[1;32mreturn\u001B[0m \u001B[0mnp\u001B[0m\u001B[1;33m.\u001B[0m\u001B[0msqrt\u001B[0m\u001B[1;33m(\u001B[0m\u001B[1;36m2\u001B[0m \u001B[1;33m*\u001B[0m \u001B[0mnp\u001B[0m\u001B[1;33m.\u001B[0m\u001B[0mpi\u001B[0m\u001B[1;33m)\u001B[0m \u001B[1;33m*\u001B[0m \u001B[0mscs\u001B[0m\u001B[1;33m.\u001B[0m\u001B[0mnorm\u001B[0m\u001B[1;33m.\u001B[0m\u001B[0mcdf\u001B[0m\u001B[1;33m(\u001B[0m\u001B[1;33m-\u001B[0m\u001B[0mx\u001B[0m\u001B[1;33m)\u001B[0m\u001B[1;33m\u001B[0m\u001B[1;33m\u001B[0m\u001B[0m\n\u001B[0;32m    218\u001B[0m         \u001B[1;32melse\u001B[0m\u001B[1;33m:\u001B[0m\u001B[1;33m\u001B[0m\u001B[1;33m\u001B[0m\u001B[0m\n\u001B[1;32m--> 219\u001B[1;33m             \u001B[1;32mreturn\u001B[0m \u001B[1;33m(\u001B[0m\u001B[0mself\u001B[0m\u001B[1;33m.\u001B[0m\u001B[0mHh\u001B[0m\u001B[1;33m(\u001B[0m\u001B[0mn\u001B[0m \u001B[1;33m-\u001B[0m \u001B[1;36m2\u001B[0m\u001B[1;33m,\u001B[0m \u001B[0mx\u001B[0m\u001B[1;33m)\u001B[0m \u001B[1;33m-\u001B[0m \u001B[0mx\u001B[0m \u001B[1;33m*\u001B[0m \u001B[0mself\u001B[0m\u001B[1;33m.\u001B[0m\u001B[0mHh\u001B[0m\u001B[1;33m(\u001B[0m\u001B[0mn\u001B[0m \u001B[1;33m-\u001B[0m \u001B[1;36m1\u001B[0m\u001B[1;33m,\u001B[0m \u001B[0mx\u001B[0m\u001B[1;33m)\u001B[0m\u001B[1;33m)\u001B[0m \u001B[1;33m/\u001B[0m \u001B[0mn\u001B[0m\u001B[1;33m\u001B[0m\u001B[1;33m\u001B[0m\u001B[0m\n\u001B[0m",
      "\u001B[1;32m~\\PycharmProjects\\Margin-Loans-Pricing/functions\\KOUpricer.py\u001B[0m in \u001B[0;36m?\u001B[1;34m(self, n, x)\u001B[0m\n\u001B[0;32m    213\u001B[0m             \u001B[1;32mreturn\u001B[0m \u001B[1;36m0\u001B[0m\u001B[1;33m\u001B[0m\u001B[1;33m\u001B[0m\u001B[0m\n\u001B[0;32m    214\u001B[0m         \u001B[1;32melif\u001B[0m \u001B[0mn\u001B[0m \u001B[1;33m==\u001B[0m \u001B[1;33m-\u001B[0m\u001B[1;36m1\u001B[0m\u001B[1;33m:\u001B[0m\u001B[1;33m\u001B[0m\u001B[1;33m\u001B[0m\u001B[0m\n\u001B[0;32m    215\u001B[0m             \u001B[1;32mreturn\u001B[0m \u001B[0mnp\u001B[0m\u001B[1;33m.\u001B[0m\u001B[0mexp\u001B[0m\u001B[1;33m(\u001B[0m\u001B[1;33m-\u001B[0m\u001B[0mx\u001B[0m \u001B[1;33m**\u001B[0m \u001B[1;36m2\u001B[0m \u001B[1;33m/\u001B[0m \u001B[1;36m2\u001B[0m\u001B[1;33m)\u001B[0m\u001B[1;33m\u001B[0m\u001B[1;33m\u001B[0m\u001B[0m\n\u001B[0;32m    216\u001B[0m         \u001B[1;32melif\u001B[0m \u001B[0mn\u001B[0m \u001B[1;33m==\u001B[0m \u001B[1;36m0\u001B[0m\u001B[1;33m:\u001B[0m\u001B[1;33m\u001B[0m\u001B[1;33m\u001B[0m\u001B[0m\n\u001B[1;32m--> 217\u001B[1;33m             \u001B[1;32mreturn\u001B[0m \u001B[0mnp\u001B[0m\u001B[1;33m.\u001B[0m\u001B[0msqrt\u001B[0m\u001B[1;33m(\u001B[0m\u001B[1;36m2\u001B[0m \u001B[1;33m*\u001B[0m \u001B[0mnp\u001B[0m\u001B[1;33m.\u001B[0m\u001B[0mpi\u001B[0m\u001B[1;33m)\u001B[0m \u001B[1;33m*\u001B[0m \u001B[0mscs\u001B[0m\u001B[1;33m.\u001B[0m\u001B[0mnorm\u001B[0m\u001B[1;33m.\u001B[0m\u001B[0mcdf\u001B[0m\u001B[1;33m(\u001B[0m\u001B[1;33m-\u001B[0m\u001B[0mx\u001B[0m\u001B[1;33m)\u001B[0m\u001B[1;33m\u001B[0m\u001B[1;33m\u001B[0m\u001B[0m\n\u001B[0m\u001B[0;32m    218\u001B[0m         \u001B[1;32melse\u001B[0m\u001B[1;33m:\u001B[0m\u001B[1;33m\u001B[0m\u001B[1;33m\u001B[0m\u001B[0m\n\u001B[0;32m    219\u001B[0m             \u001B[1;32mreturn\u001B[0m \u001B[1;33m(\u001B[0m\u001B[0mself\u001B[0m\u001B[1;33m.\u001B[0m\u001B[0mHh\u001B[0m\u001B[1;33m(\u001B[0m\u001B[0mn\u001B[0m \u001B[1;33m-\u001B[0m \u001B[1;36m2\u001B[0m\u001B[1;33m,\u001B[0m \u001B[0mx\u001B[0m\u001B[1;33m)\u001B[0m \u001B[1;33m-\u001B[0m \u001B[0mx\u001B[0m \u001B[1;33m*\u001B[0m \u001B[0mself\u001B[0m\u001B[1;33m.\u001B[0m\u001B[0mHh\u001B[0m\u001B[1;33m(\u001B[0m\u001B[0mn\u001B[0m \u001B[1;33m-\u001B[0m \u001B[1;36m1\u001B[0m\u001B[1;33m,\u001B[0m \u001B[0mx\u001B[0m\u001B[1;33m)\u001B[0m\u001B[1;33m)\u001B[0m \u001B[1;33m/\u001B[0m \u001B[0mn\u001B[0m\u001B[1;33m\u001B[0m\u001B[1;33m\u001B[0m\u001B[0m\n",
      "\u001B[1;32m~\\PycharmProjects\\Margin-Loans-Pricing\\venv\\Lib\\site-packages\\pandas\\core\\generic.py\u001B[0m in \u001B[0;36m?\u001B[1;34m(self)\u001B[0m\n\u001B[1;32m-> 1474\u001B[1;33m     \u001B[1;33m@\u001B[0m\u001B[0mfinal\u001B[0m\u001B[1;33m\u001B[0m\u001B[1;33m\u001B[0m\u001B[0m\n\u001B[0m\u001B[0;32m   1475\u001B[0m     \u001B[1;32mdef\u001B[0m \u001B[0m__neg__\u001B[0m\u001B[1;33m(\u001B[0m\u001B[0mself\u001B[0m\u001B[1;33m)\u001B[0m \u001B[1;33m->\u001B[0m \u001B[0mSelf\u001B[0m\u001B[1;33m:\u001B[0m\u001B[1;33m\u001B[0m\u001B[1;33m\u001B[0m\u001B[0m\n\u001B[0;32m   1476\u001B[0m         \u001B[1;32mdef\u001B[0m \u001B[0mblk_func\u001B[0m\u001B[1;33m(\u001B[0m\u001B[0mvalues\u001B[0m\u001B[1;33m:\u001B[0m \u001B[0mArrayLike\u001B[0m\u001B[1;33m)\u001B[0m\u001B[1;33m:\u001B[0m\u001B[1;33m\u001B[0m\u001B[1;33m\u001B[0m\u001B[0m\n\u001B[0;32m   1477\u001B[0m             \u001B[1;32mif\u001B[0m \u001B[0mis_bool_dtype\u001B[0m\u001B[1;33m(\u001B[0m\u001B[0mvalues\u001B[0m\u001B[1;33m.\u001B[0m\u001B[0mdtype\u001B[0m\u001B[1;33m)\u001B[0m\u001B[1;33m:\u001B[0m\u001B[1;33m\u001B[0m\u001B[1;33m\u001B[0m\u001B[0m\n",
      "\u001B[1;31mKeyboardInterrupt\u001B[0m: "
     ]
    }
   ],
   "source": [
    "# Define the objective function\n",
    "def cost_function(x, strikes, mkt_prices):\n",
    "    sigm, lamb, p, eta1, eta2 = x\n",
    "    KOU = Kou_pricer(S0=S0, K=strikes, ttm=T, r=r, sigma=sigm, lambd=lamb, p=p, eta1=eta1, eta2=eta2, exercise=exercise)\n",
    "    sq_err = np.sum(c_weights*(KOU.closed_formula_call(strikes) - mkt_prices)**2)\n",
    "    return sq_err\n",
    "\n",
    "start2=time.time()\n",
    "kou2 = scpo.least_squares(cost_function, x0, args=(call_strikes, call_prices),  method='trf', bounds=bounds, verbose=1)\n",
    "end2=time.time()"
   ],
   "metadata": {
    "collapsed": false,
    "ExecuteTime": {
     "end_time": "2023-09-01T00:05:12.791254100Z",
     "start_time": "2023-08-31T23:15:42.508494500Z"
    }
   }
  },
  {
   "cell_type": "code",
   "execution_count": 25,
   "outputs": [],
   "source": [
    "kou_params2 = [round(p,4) for p in kou2.x[:5]]"
   ],
   "metadata": {
    "collapsed": false
   }
  },
  {
   "cell_type": "code",
   "execution_count": 26,
   "outputs": [],
   "source": [
    "# print('WEIGHTED OPT: CURVE_FIT (trf)')\n",
    "# print(f'> Calibrated Volatlity [σ] = {kou_params1[0]} \\t {kou_params1[0] * 100}%')\n",
    "# print('> Calibrated Jump intensity [λ] = ', kou_params1[1])\n",
    "# print(f'> Calibrated Upward Jump probability [p] = {kou_params1[2]}, [q] = {round(1 - kou_params1[2], 2)}')\n",
    "# print('> Calibrated Rate of Exp. 1  [η_1] = ', kou_params1[3])\n",
    "# print('> Calibrated Rate of Exp. 2  [η_2] = ', kou_params1[4])\n",
    "# print(f'TIME ELAPSED: {end1-start1} sec')"
   ],
   "metadata": {
    "collapsed": false
   }
  },
  {
   "cell_type": "code",
   "execution_count": 27,
   "outputs": [
    {
     "name": "stdout",
     "output_type": "stream",
     "text": [
      "METHOD 2: Least-squares\n",
      "> Calibrated Volatlity [σ] = 0.3126 \t 31.26%\n",
      "> Calibrated Jump intensity [λ] =  0.74\n",
      "> Calibrated Upward Jump probability [p] = 0.41, [q] = 0.59\n",
      "> Calibrated Rate of Exp. 1  [η_1] =  8.15\n",
      "> Calibrated Rate of Exp. 2  [η_2] =  9.93\n",
      "TIME ELAPSED:  5356.43 sec\n"
     ]
    }
   ],
   "source": [
    "print('METHOD 2: Least-squares')\n",
    "print(f'> Calibrated Volatlity [σ] = {round(kou_params2[0],4)} \\t {round(kou_params2[0]*100,2)}%')\n",
    "print('> Calibrated Jump intensity [λ] = ', round(kou_params2[1],2))\n",
    "print(f'> Calibrated Upward Jump probability [p] = {round(kou_params2[2],2)}, [q] = {round(1-kou_params2[2],2)}')\n",
    "print('> Calibrated Rate of Exp. 1  [η_1] = ', round(kou_params2[3],2))\n",
    "print('> Calibrated Rate of Exp. 2  [η_2] = ', round(kou_params2[4],2))\n",
    "print(f'TIME ELAPSED:  {round(end2-start2,2)} sec')"
   ],
   "metadata": {
    "collapsed": false
   }
  },
  {
   "cell_type": "code",
   "execution_count": 28,
   "outputs": [
    {
     "name": "stdout",
     "output_type": "stream",
     "text": [
      "[0.3126, 0.7377, 0.4119, 8.1512, 9.9261]\n"
     ]
    }
   ],
   "source": [
    "calls_kou_params_nvda = kou_params2\n",
    "%store calls_kou_params_nvda\n",
    "print(kou_params2)"
   ],
   "metadata": {
    "collapsed": false
   }
  },
  {
   "cell_type": "markdown",
   "source": [
    "### Variance Gamma\n"
   ],
   "metadata": {
    "collapsed": false
   }
  },
  {
   "cell_type": "code",
   "execution_count": 29,
   "outputs": [],
   "source": [
    "x0 = [0.25, -0.2, 0.2]   # initial guess: [σ, θ, v]\n",
    "bounds = ( [1e-3, -5, 0], [1, 5, 5] )"
   ],
   "metadata": {
    "collapsed": false
   }
  },
  {
   "cell_type": "markdown",
   "source": [
    "##### Method 1. CURVE FIT (Bounds)"
   ],
   "metadata": {
    "collapsed": false
   }
  },
  {
   "cell_type": "code",
   "execution_count": 30,
   "outputs": [
    {
     "name": "stderr",
     "output_type": "stream",
     "text": [
      "C:\\Users\\ornel\\OneDrive\\Desktop\\TESI\\PythonProjects\\Margin-Loans-Pricing\\python-modules/functions\\VGpricer.py:242: RuntimeWarning: overflow encountered in exp\n",
      "  f = lambda u: ss.norm.cdf(a / np.sqrt(u) + b * np.sqrt(u)) * np.exp((g - 1) * np.log(u)) * np.exp(\n",
      "C:\\Users\\ornel\\OneDrive\\Desktop\\TESI\\PythonProjects\\Margin-Loans-Pricing\\python-modules/functions\\VGpricer.py:242: RuntimeWarning: invalid value encountered in scalar divide\n",
      "  f = lambda u: ss.norm.cdf(a / np.sqrt(u) + b * np.sqrt(u)) * np.exp((g - 1) * np.log(u)) * np.exp(\n",
      "C:\\Users\\ornel\\OneDrive\\Desktop\\TESI\\PythonProjects\\Margin-Loans-Pricing\\python-modules/functions\\VGpricer.py:242: RuntimeWarning: invalid value encountered in scalar multiply\n",
      "  f = lambda u: ss.norm.cdf(a / np.sqrt(u) + b * np.sqrt(u)) * np.exp((g - 1) * np.log(u)) * np.exp(\n",
      "C:\\Users\\ornel\\OneDrive\\Desktop\\TESI\\PythonProjects\\Margin-Loans-Pricing\\python-modules/functions\\VGpricer.py:244: IntegrationWarning: The maximum number of subdivisions (50) has been achieved.\n",
      "  If increasing the limit yields no improvement it is advised to analyze \n",
      "  the integrand in order to determine the difficulties.  If the position of a \n",
      "  local difficulty can be determined (singularity, discontinuity) one will \n",
      "  probably gain from splitting up the interval and calling the integrator \n",
      "  on the subranges.  Perhaps a special-purpose integrator should be used.\n",
      "  result = quad(f, 0, np.inf)\n"
     ]
    }
   ],
   "source": [
    "def f_VG(strikes, sigmax, thetax, nux):\n",
    "    VGamma = VG_pricer(S0=S0, K=None, ttm=T, r=r, q=0, sigma=sigmax, theta=thetax, nu=nux, exercise=exercise)\n",
    "    vg_prices = []\n",
    "    for k in strikes:\n",
    "        vg_prices.append(VGamma.closed_formula_call(k))\n",
    "    return vg_prices\n",
    "\n",
    "start1 = time.time()\n",
    "vg1 = scpo.curve_fit(f_VG, call_strikes, call_prices, p0=x0, bounds=bounds, sigma=c_weights)\n",
    "end1 = time.time()\n",
    "\n",
    "vg_params1 = [round(p,4) for p in vg1[0][:3]]"
   ],
   "metadata": {
    "collapsed": false
   }
  },
  {
   "cell_type": "markdown",
   "source": [
    "##### Method 2. LEAST-SQUARES (Trust Region Reflective, Bounds)"
   ],
   "metadata": {
    "collapsed": false
   }
  },
  {
   "cell_type": "code",
   "execution_count": 31,
   "outputs": [
    {
     "name": "stdout",
     "output_type": "stream",
     "text": [
      "   Iteration     Total nfev        Cost      Cost reduction    Step norm     Optimality   \n",
      "       0              1         1.3559e+02                                    3.84e+03    \n",
      "       1              3         2.2429e+01      1.13e+02       1.11e-01       2.11e+03    \n",
      "       2              5         9.5807e+00      1.28e+01       3.74e-02       4.03e+02    \n",
      "       3              7         9.0877e+00      4.93e-01       1.03e-02       7.45e+01    \n",
      "       4              8         8.8763e+00      2.11e-01       5.05e-03       3.11e+02    \n",
      "       5              9         8.5559e+00      3.20e-01       1.06e-02       1.03e+02    \n",
      "       6             10         8.4149e+00      1.41e-01       4.12e-03       3.34e+02    \n",
      "       7             11         8.2442e+00      1.71e-01       2.61e-03       2.59e+02    \n",
      "       8             12         8.0339e+00      2.10e-01       5.39e-03       1.26e+02    \n",
      "       9             13         7.8425e+00      1.91e-01       4.18e-03       1.53e+02    \n",
      "      10             14         7.4657e+00      3.77e-01       9.79e-03       1.06e+02    \n",
      "      11             15         7.0170e+00      4.49e-01       1.43e-02       3.58e+02    \n",
      "      12             16         6.7590e+00      2.58e-01       2.01e-02       2.01e+02    \n",
      "      13             17         6.3031e+00      4.56e-01       2.31e-03       1.04e+02    \n",
      "      14             18         6.1039e+00      1.99e-01       2.10e-03       1.58e+02    \n",
      "      15             19         5.9202e+00      1.84e-01       5.16e-03       1.31e+02    \n",
      "      16             20         5.5639e+00      3.56e-01       8.89e-03       1.77e+02    \n",
      "      17             21         5.1617e+00      4.02e-01       2.18e-02       1.55e+02    \n",
      "      18             23         4.8368e+00      3.25e-01       2.07e-03       9.03e+01    \n",
      "      19             24         4.6757e+00      1.61e-01       3.11e-03       1.67e+02    \n",
      "      20             25         4.5088e+00      1.67e-01       5.46e-03       1.21e+02    \n",
      "      21             26         4.1998e+00      3.09e-01       8.58e-03       1.88e+02    \n",
      "      22             27         3.9940e+00      2.06e-01       2.18e-02       1.73e+02    \n",
      "      23             28         3.6095e+00      3.84e-01       2.07e-03       8.28e+01    \n",
      "      24             29         3.4440e+00      1.65e-01       2.43e-03       1.47e+02    \n",
      "      25             30         3.2878e+00      1.56e-01       5.43e-03       1.21e+02    \n",
      "      26             31         2.9944e+00      2.93e-01       9.37e-03       1.59e+02    \n",
      "      27             32         2.7231e+00      2.71e-01       2.19e-02       1.42e+02    \n",
      "      28             34         2.4223e+00      3.01e-01       2.02e-03       8.11e+01    \n",
      "      29             35         2.2954e+00      1.27e-01       3.12e-03       1.38e+02    \n",
      "      30             36         2.1628e+00      1.33e-01       5.50e-03       1.05e+02    \n",
      "      31             37         1.9314e+00      2.31e-01       9.25e-03       1.46e+02    \n",
      "      32             38         1.7970e+00      1.34e-01       2.10e-02       1.41e+02    \n",
      "      33             39         1.4942e+00      3.03e-01       2.01e-03       6.44e+01    \n",
      "      34             40         1.3850e+00      1.09e-01       2.77e-03       1.12e+02    \n",
      "      35             41         1.2768e+00      1.08e-01       5.47e-03       8.79e+01    \n",
      "      36             42         1.1008e+00      1.76e-01       9.50e-03       1.16e+02    \n",
      "      37             43         1.0686e+00      3.22e-02       1.99e-02       1.30e+02    \n",
      "      38             44         7.9316e-01      2.75e-01       2.01e-03       5.21e+01    \n",
      "      39             45         7.0913e-01      8.40e-02       2.61e-03       8.26e+01    \n",
      "      40             46         6.3160e-01      7.75e-02       5.36e-03       6.40e+01    \n",
      "      41             47         5.2792e-01      1.04e-01       9.50e-03       8.19e+01    \n",
      "      42             48         4.3856e-01      8.94e-02       8.63e-03       4.03e+01    \n",
      "      43             50         3.9235e-01      4.62e-02       1.31e-03       4.92e+01    \n",
      "      44             51         3.6375e-01      2.86e-02       2.30e-03       5.30e+01    \n",
      "      45             52         3.1001e-01      5.37e-02       5.49e-03       4.42e+01    \n",
      "      46             53         2.4494e-01      6.51e-02       9.85e-03       5.02e+01    \n",
      "      47             54         2.0270e-01      4.22e-02       7.81e-03       3.24e+01    \n",
      "      48             56         1.6804e-01      3.47e-02       1.20e-03       2.87e+01    \n",
      "      49             57         1.5238e-01      1.57e-02       2.09e-03       3.10e+01    \n",
      "      50             58         1.3638e-01      1.60e-02       2.70e-03       2.73e+01    \n",
      "      51             59         1.0824e-01      2.81e-02       5.38e-03       2.42e+01    \n",
      "      52             60         6.9317e-02      3.89e-02       1.09e-02       1.46e+01    \n",
      "      53             62         6.6567e-02      2.75e-03       3.13e-03       1.91e+01    \n",
      "      54             63         5.8360e-02      8.21e-03       8.23e-04       1.68e+01    \n",
      "      55             64         4.8658e-02      9.70e-03       1.94e-03       1.35e+01    \n",
      "      56             65         4.1750e-02      6.91e-03       2.71e-03       1.16e+01    \n",
      "      57             66         3.0895e-02      1.09e-02       5.32e-03       9.85e+00    \n",
      "      58             67         2.7805e-02      3.09e-03       9.62e-03       1.28e+01    \n",
      "      59             68         1.6261e-02      1.15e-02       1.08e-03       5.34e+00    \n",
      "      60             69         1.4601e-02      1.66e-03       1.76e-03       5.51e+00    \n",
      "      61             70         1.1979e-02      2.62e-03       2.00e-03       4.42e+00    \n",
      "      62             71         1.0281e-02      1.70e-03       2.42e-03       4.12e+00    \n",
      "      63             72         8.4841e-03      1.80e-03       2.11e-03       3.33e+00    \n",
      "      64             73         7.6645e-03      8.20e-04       2.17e-03       3.22e+00    \n",
      "      65             74         6.1512e-03      1.51e-03       1.78e-03       2.58e+00    \n",
      "      66             75         5.6371e-03      5.14e-04       2.19e-03       2.46e+00    \n",
      "      67             76         4.4597e-03      1.18e-03       1.65e-03       1.98e+00    \n",
      "      68             77         4.2965e-03      1.63e-04       2.08e-03       1.91e+00    \n",
      "      69             78         3.8016e-03      4.95e-04       3.65e-04       1.75e+00    \n",
      "      70             79         3.2446e-03      5.57e-04       8.90e-04       1.54e+00    \n",
      "      71             80         2.8399e-03      4.05e-04       1.35e-03       1.37e+00    \n",
      "      72             81         2.1918e-03      6.48e-04       2.70e-03       1.08e+00    \n",
      "      73             82         2.0130e-03      1.79e-04       4.81e-03       1.57e+00    \n",
      "      74             83         1.3213e-03      6.92e-04       5.55e-04       6.59e-01    \n",
      "      75             84         1.2672e-03      5.41e-05       9.71e-04       6.01e-01    \n",
      "      76             85         1.1970e-03      7.02e-05       2.00e-04       5.80e-01    \n",
      "      77             86         1.1053e-03      9.17e-05       4.84e-04       5.47e-01    \n",
      "      78             87         9.6627e-04      1.39e-04       1.34e-03       4.72e-01    \n",
      "      79             88         8.9761e-04      6.87e-05       2.55e-03       3.55e-01    \n",
      "      80             89         8.5214e-04      4.55e-05       1.13e-03       5.85e-01    \n",
      "      81             90         7.0381e-04      1.48e-04       2.87e-04       3.16e-01    \n",
      "      82             91         6.7525e-04      2.86e-05       4.34e-04       2.85e-01    \n",
      "      83             92         6.3832e-04      3.69e-05       5.10e-04       2.73e-01    \n",
      "      84             93         6.0974e-04      2.86e-05       6.31e-04       2.44e-01    \n",
      "      85             94         5.8016e-04      2.96e-05       5.37e-04       2.33e-01    \n",
      "      86             95         5.6227e-04      1.79e-05       5.87e-04       2.06e-01    \n",
      "      87             96         5.3672e-04      2.56e-05       4.48e-04       2.02e-01    \n",
      "      88             97         5.2576e-04      1.10e-05       5.63e-04       1.75e-01    \n",
      "      89             98         5.0265e-04      2.31e-05       3.92e-04       1.75e-01    \n",
      "      90             99         4.9717e-04      5.48e-06       5.46e-04       1.49e-01    \n",
      "      91             100        4.8699e-04      1.02e-05       8.67e-05       1.49e-01    \n",
      "      92             101        4.7462e-04      1.24e-05       2.17e-04       1.48e-01    \n",
      "      93             102        4.6450e-04      1.01e-05       3.37e-04       1.40e-01    \n",
      "      94             103        4.4616e-04      1.83e-05       6.80e-04       1.22e-01    \n",
      "      95             104        4.1925e-04      2.69e-05       1.33e-03       9.75e-02    \n",
      "      96             107        4.1502e-04      4.22e-06       1.00e-04       9.02e-02    \n",
      "      97             108        4.1192e-04      3.10e-06       1.70e-04       8.63e-02    \n",
      "      98             109        4.0611e-04      5.82e-06       3.39e-04       7.90e-02    \n",
      "      99             110        3.9599e-04      1.01e-05       6.77e-04       6.45e-02    \n",
      "      100            111        3.8175e-04      1.42e-05       1.35e-03       3.90e-02    \n",
      "      101            114        3.8155e-04      2.00e-07       1.23e-04       3.20e-02    \n",
      "      102            115        3.8096e-04      5.93e-07       2.04e-05       3.27e-02    \n",
      "      103            116        3.8020e-04      7.54e-07       5.09e-05       3.36e-02    \n",
      "      104            117        3.7961e-04      5.97e-07       8.00e-05       3.25e-02    \n",
      "      105            118        3.7850e-04      1.11e-06       1.64e-04       2.89e-02    \n",
      "      106            119        3.7689e-04      1.61e-06       3.13e-04       2.52e-02    \n",
      "      107            121        3.7651e-04      3.75e-07       4.57e-05       2.16e-02    \n",
      "      108            122        3.7614e-04      3.75e-07       5.94e-05       2.20e-02    \n",
      "      109            123        3.7588e-04      2.57e-07       7.04e-05       1.90e-02    \n",
      "      110            124        3.7554e-04      3.37e-07       5.30e-05       1.99e-02    \n",
      "      111            125        3.7536e-04      1.80e-07       6.63e-05       1.67e-02    \n",
      "      112            126        3.7504e-04      3.19e-07       4.60e-05       1.79e-02    \n",
      "      113            127        3.7491e-04      1.28e-07       6.37e-05       1.47e-02    \n",
      "      114            128        3.7461e-04      3.04e-07       4.12e-05       1.61e-02    \n",
      "      115            129        3.7453e-04      7.81e-08       6.08e-05       1.29e-02    \n",
      "      116            130        3.7440e-04      1.37e-07       9.25e-06       1.33e-02    \n",
      "      117            131        3.7422e-04      1.72e-07       2.30e-05       1.38e-02    \n",
      "      118            132        3.7408e-04      1.46e-07       3.49e-05       1.33e-02    \n",
      "      119            133        3.7380e-04      2.78e-07       6.97e-05       1.19e-02    \n",
      "      120            134        3.7331e-04      4.94e-07       1.33e-04       1.01e-02    \n",
      "      121            137        3.7325e-04      5.79e-08       1.31e-05       9.31e-03    \n",
      "      122            138        3.7319e-04      5.94e-08       1.48e-05       9.14e-03    \n",
      "      123            139        3.7307e-04      1.17e-07       2.97e-05       8.64e-03    \n",
      "      124            140        3.7285e-04      2.25e-07       5.77e-05       7.61e-03    \n",
      "      125            141        3.7243e-04      4.19e-07       1.07e-04       5.98e-03    \n",
      "      126            143        3.7230e-04      1.30e-07       4.51e-05       5.05e-03    \n",
      "      127            144        3.7223e-04      6.65e-08       2.72e-05       1.13e-02    \n",
      "      128            145        3.7213e-04      1.02e-07       8.32e-06       5.15e-03    \n",
      "      129            146        3.7209e-04      4.35e-08       9.41e-06       4.46e-03    \n",
      "      130            147        3.7204e-04      4.86e-08       9.28e-06       4.51e-03    \n",
      "      131            148        3.7194e-04      9.66e-08       1.93e-05       4.21e-03    \n",
      "      132            149        3.7175e-04      1.91e-07       3.69e-05       3.72e-03    \n",
      "      133            150        3.7138e-04      3.66e-07       6.82e-05       2.42e-03    \n",
      "      134            152        3.7128e-04      1.02e-07       2.59e-05       9.11e-03    \n",
      "      135            154        3.7120e-04      7.75e-08       7.80e-06       2.64e-03    \n",
      "      136            155        3.7116e-04      4.26e-08       7.06e-06       2.25e-03    \n",
      "      137            156        3.7107e-04      8.76e-08       1.28e-05       2.46e-03    \n",
      "      138            157        3.7100e-04      7.01e-08       2.75e-05       6.36e-03    \n",
      "      139            158        3.7091e-04      9.17e-08       2.24e-05       1.03e-02    \n",
      "      140            159        3.7082e-04      8.95e-08       7.72e-06       2.53e-03    \n",
      "      141            160        3.7078e-04      3.94e-08       6.85e-06       2.22e-03    \n",
      "      142            161        3.7074e-04      4.54e-08       5.80e-06       2.26e-03    \n",
      "      143            162        3.7065e-04      9.10e-08       1.20e-05       2.25e-03    \n",
      "      144            163        3.7047e-04      1.81e-07       2.34e-05       2.27e-03    \n",
      "      145            164        3.7023e-04      2.33e-07       4.67e-05       7.04e-03    \n",
      "      146            166        3.7008e-04      1.52e-07       1.12e-05       2.23e-03    \n",
      "      147            167        3.7000e-04      8.51e-08       1.05e-05       2.29e-03    \n",
      "      148            168        3.6996e-04      3.68e-08       2.40e-05       7.16e-03    \n",
      "      149            169        3.6986e-04      1.01e-07       5.60e-06       4.13e-03    \n",
      "      150            170        3.6977e-04      8.72e-08       1.09e-05       2.31e-03    \n",
      "      151            171        3.6972e-04      4.97e-08       1.23e-05       3.55e-03    \n",
      "      152            172        3.6964e-04      7.95e-08       1.08e-05       2.85e-03    \n",
      "      153            173        3.6960e-04      3.93e-08       1.28e-05       3.95e-03    \n",
      "      154            174        3.6952e-04      8.45e-08       1.08e-05       2.49e-03    \n",
      "      155            175        3.6947e-04      4.59e-08       1.24e-05       3.70e-03    \n",
      "      156            176        3.6939e-04      8.12e-08       1.08e-05       2.72e-03    \n",
      "      157            177        3.6935e-04      4.14e-08       1.26e-05       3.87e-03    \n",
      "      158            178        3.6927e-04      8.34e-08       1.08e-05       2.57e-03    \n",
      "      159            179        3.6922e-04      4.42e-08       1.24e-05       3.76e-03    \n",
      "      160            180        3.6914e-04      8.19e-08       1.08e-05       2.67e-03    \n",
      "      161            181        3.6910e-04      4.22e-08       1.25e-05       3.84e-03    \n",
      "      162            182        3.6901e-04      8.28e-08       1.08e-05       2.60e-03    \n",
      "      163            183        3.6897e-04      4.35e-08       1.24e-05       3.79e-03    \n",
      "      164            184        3.6889e-04      8.22e-08       1.08e-05       2.65e-03    \n",
      "      165            185        3.6885e-04      4.26e-08       1.24e-05       3.82e-03    \n",
      "      166            186        3.6876e-04      8.26e-08       1.08e-05       2.62e-03    \n",
      "      167            187        3.6872e-04      4.31e-08       1.23e-05       3.80e-03    \n",
      "      168            188        3.6864e-04      8.23e-08       1.08e-05       2.64e-03    \n",
      "      169            189        3.6860e-04      4.27e-08       1.23e-05       3.81e-03    \n",
      "      170            190        3.6851e-04      8.24e-08       1.08e-05       2.62e-03    \n",
      "      171            191        3.6847e-04      4.29e-08       1.23e-05       3.81e-03    \n",
      "      172            192        3.6839e-04      8.23e-08       1.08e-05       2.63e-03    \n",
      "      173            193        3.6835e-04      4.27e-08       1.23e-05       3.81e-03    \n",
      "      174            194        3.6826e-04      8.23e-08       1.08e-05       2.63e-03    \n",
      "      175            195        3.6822e-04      4.28e-08       1.23e-05       3.81e-03    \n",
      "      176            196        3.6814e-04      8.23e-08       1.08e-05       2.63e-03    \n",
      "      177            197        3.6810e-04      4.27e-08       1.23e-05       3.81e-03    \n",
      "      178            198        3.6801e-04      8.23e-08       1.08e-05       2.63e-03    \n",
      "      179            199        3.6797e-04      4.27e-08       1.23e-05       3.81e-03    \n",
      "      180            200        3.6789e-04      8.22e-08       1.08e-05       2.63e-03    \n",
      "      181            201        3.6785e-04      4.26e-08       1.23e-05       3.81e-03    \n",
      "      182            202        3.6776e-04      8.22e-08       1.08e-05       2.63e-03    \n",
      "      183            203        3.6772e-04      4.26e-08       1.23e-05       3.81e-03    \n",
      "      184            204        3.6764e-04      8.22e-08       1.08e-05       2.63e-03    \n",
      "      185            205        3.6760e-04      4.25e-08       1.23e-05       3.81e-03    \n",
      "      186            206        3.6751e-04      8.22e-08       1.08e-05       2.63e-03    \n",
      "      187            207        3.6747e-04      4.25e-08       1.23e-05       3.81e-03    \n",
      "      188            208        3.6739e-04      8.21e-08       1.08e-05       2.63e-03    \n",
      "      189            209        3.6735e-04      4.25e-08       1.22e-05       3.81e-03    \n",
      "      190            210        3.6726e-04      8.21e-08       1.08e-05       2.63e-03    \n",
      "      191            211        3.6722e-04      4.24e-08       1.22e-05       3.81e-03    \n",
      "      192            212        3.6714e-04      8.21e-08       1.08e-05       2.63e-03    \n",
      "      193            213        3.6710e-04      4.24e-08       1.22e-05       3.81e-03    \n",
      "      194            214        3.6702e-04      8.21e-08       1.08e-05       2.63e-03    \n",
      "      195            215        3.6697e-04      4.24e-08       1.22e-05       3.81e-03    \n",
      "      196            216        3.6689e-04      8.21e-08       1.08e-05       2.62e-03    \n",
      "      197            217        3.6685e-04      4.23e-08       1.22e-05       3.81e-03    \n",
      "      198            218        3.6677e-04      8.20e-08       1.08e-05       2.62e-03    \n",
      "      199            219        3.6672e-04      4.23e-08       1.22e-05       3.81e-03    \n",
      "      200            220        3.6664e-04      8.20e-08       1.08e-05       2.62e-03    \n",
      "      201            221        3.6660e-04      4.23e-08       1.22e-05       3.81e-03    \n",
      "      202            222        3.6652e-04      8.20e-08       1.08e-05       2.62e-03    \n",
      "      203            223        3.6648e-04      4.22e-08       1.22e-05       3.81e-03    \n",
      "      204            224        3.6639e-04      8.20e-08       1.08e-05       2.62e-03    \n",
      "      205            225        3.6635e-04      4.22e-08       1.22e-05       3.81e-03    \n",
      "      206            226        3.6627e-04      8.20e-08       1.08e-05       2.62e-03    \n",
      "      207            227        3.6623e-04      4.22e-08       1.22e-05       3.81e-03    \n",
      "      208            228        3.6615e-04      8.19e-08       1.08e-05       2.62e-03    \n",
      "      209            229        3.6610e-04      4.21e-08       1.22e-05       3.81e-03    \n",
      "      210            230        3.6602e-04      8.19e-08       1.08e-05       2.62e-03    \n",
      "      211            231        3.6598e-04      4.21e-08       1.22e-05       3.81e-03    \n",
      "      212            232        3.6590e-04      8.19e-08       1.08e-05       2.62e-03    \n",
      "      213            233        3.6586e-04      4.21e-08       1.22e-05       3.81e-03    \n",
      "      214            234        3.6577e-04      8.19e-08       1.08e-05       2.62e-03    \n",
      "      215            235        3.6573e-04      4.20e-08       1.22e-05       3.81e-03    \n",
      "      216            236        3.6565e-04      8.18e-08       1.08e-05       2.62e-03    \n",
      "      217            237        3.6561e-04      4.20e-08       1.22e-05       3.81e-03    \n",
      "      218            238        3.6553e-04      8.18e-08       1.08e-05       2.62e-03    \n",
      "      219            239        3.6548e-04      4.20e-08       1.22e-05       3.81e-03    \n",
      "      220            240        3.6540e-04      8.18e-08       1.08e-05       2.62e-03    \n",
      "      221            241        3.6536e-04      4.19e-08       1.22e-05       3.81e-03    \n",
      "      222            242        3.6528e-04      8.18e-08       1.08e-05       2.62e-03    \n",
      "      223            243        3.6524e-04      4.19e-08       1.22e-05       3.81e-03    \n",
      "      224            244        3.6515e-04      8.18e-08       1.08e-05       2.62e-03    \n",
      "      225            245        3.6511e-04      4.19e-08       1.22e-05       3.81e-03    \n",
      "      226            246        3.6503e-04      8.17e-08       1.08e-05       2.62e-03    \n",
      "      227            247        3.6499e-04      4.18e-08       1.22e-05       3.81e-03    \n",
      "      228            248        3.6491e-04      8.17e-08       1.08e-05       2.62e-03    \n",
      "      229            249        3.6487e-04      4.18e-08       1.22e-05       3.81e-03    \n",
      "      230            250        3.6478e-04      8.17e-08       1.08e-05       2.62e-03    \n",
      "      231            251        3.6474e-04      4.18e-08       1.22e-05       3.81e-03    \n",
      "      232            252        3.6466e-04      8.17e-08       1.08e-05       2.62e-03    \n",
      "      233            253        3.6462e-04      4.17e-08       1.22e-05       3.81e-03    \n",
      "      234            254        3.6454e-04      8.16e-08       1.08e-05       2.62e-03    \n",
      "      235            255        3.6450e-04      4.17e-08       1.22e-05       3.81e-03    \n",
      "      236            256        3.6441e-04      8.16e-08       1.08e-05       2.62e-03    \n",
      "      237            257        3.6437e-04      4.17e-08       1.22e-05       3.81e-03    \n",
      "      238            258        3.6429e-04      8.16e-08       1.08e-05       2.62e-03    \n",
      "      239            259        3.6425e-04      4.16e-08       1.22e-05       3.81e-03    \n",
      "      240            260        3.6417e-04      8.16e-08       1.08e-05       2.62e-03    \n",
      "      241            261        3.6413e-04      4.16e-08       1.22e-05       3.81e-03    \n",
      "      242            262        3.6404e-04      8.16e-08       1.08e-05       2.62e-03    \n",
      "      243            263        3.6400e-04      4.16e-08       1.22e-05       3.81e-03    \n",
      "      244            264        3.6392e-04      8.15e-08       1.08e-05       2.62e-03    \n",
      "      245            265        3.6388e-04      4.15e-08       1.22e-05       3.81e-03    \n",
      "      246            266        3.6380e-04      8.15e-08       1.08e-05       2.62e-03    \n",
      "      247            267        3.6376e-04      4.15e-08       1.22e-05       3.81e-03    \n",
      "      248            268        3.6368e-04      8.15e-08       1.08e-05       2.61e-03    \n",
      "      249            269        3.6363e-04      4.15e-08       1.22e-05       3.81e-03    \n",
      "      250            270        3.6355e-04      8.15e-08       1.08e-05       2.61e-03    \n",
      "      251            271        3.6351e-04      4.14e-08       1.22e-05       3.80e-03    \n",
      "      252            272        3.6343e-04      8.15e-08       1.08e-05       2.61e-03    \n",
      "      253            273        3.6339e-04      4.14e-08       1.22e-05       3.80e-03    \n",
      "      254            274        3.6331e-04      8.14e-08       1.08e-05       2.61e-03    \n",
      "      255            275        3.6326e-04      4.14e-08       1.22e-05       3.80e-03    \n",
      "      256            276        3.6318e-04      8.14e-08       1.08e-05       2.61e-03    \n",
      "      257            277        3.6314e-04      4.14e-08       1.22e-05       3.80e-03    \n",
      "      258            278        3.6306e-04      8.14e-08       1.08e-05       2.61e-03    \n",
      "      259            279        3.6302e-04      4.13e-08       1.22e-05       3.80e-03    \n",
      "      260            280        3.6294e-04      8.14e-08       1.08e-05       2.61e-03    \n",
      "      261            281        3.6290e-04      4.13e-08       1.22e-05       3.80e-03    \n",
      "      262            282        3.6282e-04      8.13e-08       1.08e-05       2.61e-03    \n",
      "      263            283        3.6277e-04      4.13e-08       1.22e-05       3.80e-03    \n",
      "      264            284        3.6269e-04      8.13e-08       1.08e-05       2.61e-03    \n",
      "      265            285        3.6265e-04      4.12e-08       1.22e-05       3.80e-03    \n",
      "      266            286        3.6257e-04      8.13e-08       1.08e-05       2.61e-03    \n",
      "      267            287        3.6253e-04      4.12e-08       1.22e-05       3.80e-03    \n",
      "      268            288        3.6245e-04      8.13e-08       1.08e-05       2.61e-03    \n",
      "      269            289        3.6241e-04      4.12e-08       1.22e-05       3.80e-03    \n",
      "      270            290        3.6233e-04      8.13e-08       1.08e-05       2.61e-03    \n",
      "      271            291        3.6228e-04      4.11e-08       1.22e-05       3.80e-03    \n",
      "      272            292        3.6220e-04      8.12e-08       1.08e-05       2.61e-03    \n",
      "      273            293        3.6216e-04      4.11e-08       1.22e-05       3.80e-03    \n",
      "      274            294        3.6208e-04      8.12e-08       1.08e-05       2.61e-03    \n",
      "      275            295        3.6204e-04      4.11e-08       1.22e-05       3.80e-03    \n",
      "      276            296        3.6196e-04      8.12e-08       1.08e-05       2.61e-03    \n",
      "      277            297        3.6192e-04      4.10e-08       1.22e-05       3.80e-03    \n",
      "      278            298        3.6184e-04      8.12e-08       1.08e-05       2.61e-03    \n",
      "      279            299        3.6180e-04      4.10e-08       1.22e-05       3.80e-03    \n",
      "      280            300        3.6171e-04      8.11e-08       1.08e-05       2.61e-03    \n",
      "The maximum number of function evaluations is exceeded.\n",
      "Function evaluations 300, initial cost 1.3559e+02, final cost 3.6171e-04, first-order optimality 2.61e-03.\n"
     ]
    }
   ],
   "source": [
    "def cost_function(x, strikes, mkt_prices):\n",
    "    sigma, theta, nu = x\n",
    "    VG = VG_pricer(S0, None, T, r, q, sigma, theta, nu, exercise)\n",
    "    prices = []\n",
    "    for k in strikes:\n",
    "        prices.append(VG.closed_formula_call(k))\n",
    "    sq_err = np.sum(c_weights*(prices - mkt_prices)**2)\n",
    "    return sq_err\n",
    "\n",
    "start2=time.time()\n",
    "vg2 = scpo.least_squares(cost_function, x0, args=(call_strikes, call_prices),  method='trf', bounds=bounds, verbose=2, loss='soft_l1')\n",
    "end2=time.time()\n",
    "\n",
    "vg_params2 = [round(p,4) for p in vg2.x[:3]]"
   ],
   "metadata": {
    "collapsed": false
   }
  },
  {
   "cell_type": "code",
   "execution_count": 32,
   "outputs": [
    {
     "name": "stdout",
     "output_type": "stream",
     "text": [
      "WEIGHTED OPT: CURVE_FIT (trf)\n",
      "> Calibrated Volatlity [σ] = 0.3192, \t 31.92%\n",
      "> Calibrated mean rate gamma process [θ] =  0.8335\n",
      "> Calibrated variance rate gamma process [v]=  0.0276\n",
      "TIME ELAPSED:  49.8 sec\n",
      "METHOD 1: LEAST-SQUARES (trf)\n",
      "> Calibrated Volatlity [σ] = 0.3492, \t 34.92%\n",
      "> Calibrated mean rate gamma process [θ] =  0.1579\n",
      "> Calibrated variance rate gamma process [v]=  0.2349\n",
      "TIME ELAPSED:  118.57 sec\n"
     ]
    }
   ],
   "source": [
    "print('WEIGHTED OPT: CURVE_FIT (trf)')\n",
    "print(f'> Calibrated Volatlity [σ] = {vg_params1[0]}, \\t {round(vg_params1[0]*100,2)}%')\n",
    "print('> Calibrated mean rate gamma process [θ] = ', vg_params1[1])\n",
    "print('> Calibrated variance rate gamma process [v]= ', vg_params1[2])\n",
    "print(f'TIME ELAPSED:  {round(end1-start1,2)} sec')\n",
    "\n",
    "print('METHOD 1: LEAST-SQUARES (trf)')\n",
    "print(f'> Calibrated Volatlity [σ] = {vg_params2[0]}, \\t {round(vg_params2[0]*100,2)}%')\n",
    "print('> Calibrated mean rate gamma process [θ] = ', vg_params2[1])\n",
    "print('> Calibrated variance rate gamma process [v]= ', vg_params2[2])\n",
    "print(f'TIME ELAPSED:  {round(end2-start2,2)} sec')"
   ],
   "metadata": {
    "collapsed": false
   }
  },
  {
   "cell_type": "code",
   "execution_count": 33,
   "outputs": [
    {
     "name": "stdout",
     "output_type": "stream",
     "text": [
      "[0.3192, 0.8335, 0.0276]\n",
      "[0.3492, 0.1579, 0.2349]\n"
     ]
    }
   ],
   "source": [
    "print(vg_params1)\n",
    "print(vg_params2)\n",
    "calls_vg_params_nvda = vg_params2\n",
    "%store calls_vg_params_nvda"
   ],
   "metadata": {
    "collapsed": false
   }
  },
  {
   "cell_type": "markdown",
   "source": [
    "### Reprice options using calibrated parameters\n",
    "Once we have calibrated all the models, we test our parameters calibration by repricing the original dataframe of options. The table contains all the **BID**, **ASK** and **MIDPOINT** prices. The calibration is well perfromed if the prices we obtain belong to the interval $[BID, ASK]$."
   ],
   "metadata": {
    "collapsed": false
   }
  },
  {
   "cell_type": "code",
   "execution_count": 34,
   "outputs": [
    {
     "name": "stdout",
     "output_type": "stream",
     "text": [
      "MARKET PRICES. STARTING DATE = 20-01-2016. EXPIRY = 1YEAR. \n",
      "\n",
      "   STRIKE  MKT_BID  MKT_MID  MKT_ASK\n",
      "0    22.0     7.15    7.275     7.40\n",
      "1    25.0     5.30    5.375     5.45\n",
      "2    27.0     4.25    4.325     4.40\n",
      "3    30.0     2.98    3.040     3.10\n",
      "4    35.0     1.60    1.640     1.68\n"
     ]
    }
   ],
   "source": [
    "days = 252\n",
    "paths = 1000\n",
    "\n",
    "call_calib_prices = pd.DataFrame({\n",
    "    'STRIKE': calls['STRIKE'],    # array of K for call options\n",
    "    'MKT_BID': calls['C_BID'],\n",
    "    'MKT_MID': calls['C_Midpoint'],\n",
    "    'MKT_ASK': calls['C_ASK'],\n",
    "\n",
    "})\n",
    "print(f'MARKET PRICES. STARTING DATE = 20-01-2016. EXPIRY = 1YEAR. \\n\\n{call_calib_prices}')"
   ],
   "metadata": {
    "collapsed": false
   }
  },
  {
   "cell_type": "markdown",
   "source": [
    "#### Merton Jump Diffusion model"
   ],
   "metadata": {
    "collapsed": false
   }
  },
  {
   "cell_type": "code",
   "execution_count": 35,
   "outputs": [
    {
     "name": "stdout",
     "output_type": "stream",
     "text": [
      "   STRIKE  MKT_BID  MKT_MID  MKT_ASK  MERTON MC  MERTON CF\n",
      "0    22.0     7.15    7.275     7.40   7.133296   7.298275\n",
      "1    25.0     5.30    5.375     5.45   5.249137   5.375353\n",
      "2    27.0     4.25    4.325     4.40   4.234238   4.313391\n",
      "3    30.0     2.98    3.040     3.10   3.019842   3.040625\n",
      "4    35.0     1.60    1.640     1.68   1.643155   1.641204\n"
     ]
    }
   ],
   "source": [
    "sigma, lambd, meanJ, stdJ = mert_params2\n",
    "MertonCAL = Merton_pricer(S0, None, T, r, q, sigma, lambd, meanJ, stdJ, exercise)\n",
    "SMerton_CAL = MertonCAL.MertonPath(days, paths)\n",
    "\n",
    "avg_payoffs = []\n",
    "for k in call_strikes:\n",
    "    payoffs = []        # stores here the payoff for each path, for a specific couple K1-K2\n",
    "    for St in SMerton_CAL[-1]:\n",
    "        payoffs.append(MertonCAL.payoff_call(k, St))\n",
    "    avg_payoffs.append(np.mean(payoffs))\n",
    "\n",
    "merton_mc_prices = np.zeros(len(call_calib_prices))\n",
    "merton_cf_prices = np.zeros(len(call_calib_prices))\n",
    "\n",
    "for index in range(len(call_calib_prices)):\n",
    "    merton_mc_prices[index] = np.exp(-r*T)* avg_payoffs[index]\n",
    "    merton_cf_prices[index] = MertonCAL.closed_formula_call(call_strikes[index])\n",
    "\n",
    "call_calib_prices['MERTON MC'] = merton_mc_prices\n",
    "call_calib_prices['MERTON CF'] = merton_cf_prices\n",
    "\n",
    "print(call_calib_prices)"
   ],
   "metadata": {
    "collapsed": false
   }
  },
  {
   "cell_type": "code",
   "execution_count": 36,
   "outputs": [
    {
     "name": "stdout",
     "output_type": "stream",
     "text": [
      "   STRIKE  MKT_BID  MKT_MID  MKT_ASK    KOU MC    KOU CF\n",
      "0    22.0     7.15    7.275     7.40  7.026815  7.194829\n",
      "1    25.0     5.30    5.375     5.45  5.196960  5.306920\n",
      "2    27.0     4.25    4.325     4.40  4.187714  4.274939\n",
      "3    30.0     2.98    3.040     3.10  2.955599  3.042734\n",
      "4    35.0     1.60    1.640     1.68  1.578537  1.678974\n"
     ]
    }
   ],
   "source": [
    "sigma, lambd, p, eta1, eta2 = kou_params2\n",
    "KouCAL = Kou_pricer(S0, None, T, r, sigma, lambd, p, eta1, eta2, exercise)\n",
    "SKou_CAL = KouCAL.KouPath(days, paths)\n",
    "\n",
    "avg_payoffs = []\n",
    "for k in call_strikes:\n",
    "    payoffs = []        # stores here the payoff for each path, for a specific couple K1-K2\n",
    "    for St in SKou_CAL[-1]:\n",
    "        payoffs.append(KouCAL.payoff_call(k, St))\n",
    "    avg_payoffs.append(np.mean(payoffs))\n",
    "\n",
    "kou_mc_prices = np.zeros(len(call_calib_prices))\n",
    "kou_cf_prices = np.zeros(len(call_calib_prices))\n",
    "\n",
    "for index in range(len(call_calib_prices)):\n",
    "    kou_mc_prices[index] = np.exp(-r*T)* avg_payoffs[index]\n",
    "    kou_cf_prices[index] = KouCAL.closed_formula_call(call_strikes[index])\n",
    "\n",
    "call_calib_prices['KOU MC'] = kou_mc_prices\n",
    "call_calib_prices['KOU CF'] = kou_cf_prices\n",
    "\n",
    "selection = [0,1,2,3,6,7]\n",
    "print(call_calib_prices.iloc[:, selection])"
   ],
   "metadata": {
    "collapsed": false
   }
  },
  {
   "cell_type": "code",
   "execution_count": 37,
   "outputs": [
    {
     "name": "stdout",
     "output_type": "stream",
     "text": [
      "   STRIKE  MKT_BID  MKT_MID  MKT_ASK     VG MC     VG CF\n",
      "0    22.0     7.15    7.275     7.40  6.889689  7.306717\n",
      "1    25.0     5.30    5.375     5.45  5.115323  5.378378\n",
      "2    27.0     4.25    4.325     4.40  4.164663  4.311676\n",
      "3    30.0     2.98    3.040     3.10  3.041169  3.034985\n",
      "4    35.0     1.60    1.640     1.68  1.785861  1.642172\n"
     ]
    }
   ],
   "source": [
    "sigm, theta, nu = vg_params2\n",
    "VGCAL = VG_pricer(S0, None, T, r, q, sigm, theta, nu, exercise)\n",
    "SVarGamma_CAL = VGCAL.VarianceGammaPath2(days, paths)\n",
    "\n",
    "avg_payoffs = []\n",
    "for k in call_strikes:\n",
    "    payoffs = []        # stores here the payoff for each path, for a specific couple K1-K2\n",
    "    for St in SVarGamma_CAL[-1]:\n",
    "        payoffs.append(VGCAL.payoff_call(k, St))\n",
    "    avg_payoffs.append(np.mean(payoffs))\n",
    "\n",
    "vg_mc_prices = np.zeros(len(call_calib_prices))\n",
    "vg_cf_prices = np.zeros(len(call_calib_prices))\n",
    "\n",
    "for index in range(len(call_calib_prices)):\n",
    "    vg_mc_prices[index] = np.exp(-r*T)* avg_payoffs[index]\n",
    "    vg_cf_prices[index] = VGCAL.closed_formula_call(call_strikes[index])\n",
    "\n",
    "call_calib_prices['VG MC'] = vg_mc_prices\n",
    "call_calib_prices['VG CF'] = vg_cf_prices\n",
    "\n",
    "selection = [0,1,2,3,8,9]\n",
    "print(call_calib_prices.iloc[:, selection])"
   ],
   "metadata": {
    "collapsed": false
   }
  },
  {
   "cell_type": "code",
   "execution_count": 38,
   "outputs": [
    {
     "name": "stdout",
     "output_type": "stream",
     "text": [
      "   STRIKE  MKT_BID  MKT_MID  MKT_ASK  MERTON MC  MERTON CF    KOU MC   \n",
      "0    22.0     7.15    7.275     7.40   7.133296   7.298275  7.026815  \\\n",
      "1    25.0     5.30    5.375     5.45   5.249137   5.375353  5.196960   \n",
      "2    27.0     4.25    4.325     4.40   4.234238   4.313391  4.187714   \n",
      "3    30.0     2.98    3.040     3.10   3.019842   3.040625  2.955599   \n",
      "4    35.0     1.60    1.640     1.68   1.643155   1.641204  1.578537   \n",
      "\n",
      "     KOU CF     VG MC     VG CF  \n",
      "0  7.194829  6.889689  7.306717  \n",
      "1  5.306920  5.115323  5.378378  \n",
      "2  4.274939  4.164663  4.311676  \n",
      "3  3.042734  3.041169  3.034985  \n",
      "4  1.678974  1.785861  1.642172  \n"
     ]
    }
   ],
   "source": [
    "print(call_calib_prices)"
   ],
   "metadata": {
    "collapsed": false
   }
  },
  {
   "cell_type": "markdown",
   "source": [
    "### Visualize calibration results"
   ],
   "metadata": {
    "collapsed": false
   }
  },
  {
   "cell_type": "markdown",
   "source": [
    "#### Closed Formulas Option pricing"
   ],
   "metadata": {
    "collapsed": false
   }
  },
  {
   "cell_type": "code",
   "execution_count": 39,
   "outputs": [
    {
     "data": {
      "text/plain": "<Figure size 1700x400 with 3 Axes>",
      "image/png": "[encoded data removed]"
     },
     "metadata": {},
     "output_type": "display_data"
    }
   ],
   "source": [
    "fig = plt.figure(figsize=(17, 4))\n",
    "ax1 = fig.add_subplot(131)\n",
    "ax2 = fig.add_subplot(132)\n",
    "ax3 = fig.add_subplot(133)\n",
    "ax1.plot(call_strikes, call_prices, \".\", label=\"midpoint\")\n",
    "ax2.plot(call_strikes, call_prices, \".\", label=\"midpoint\")\n",
    "ax3.plot(call_strikes, call_prices, \".\", label=\"midpoint\")\n",
    "ax1.plot(call_strikes, merton_cf_prices, label=\"Merton\")\n",
    "ax2.plot(call_strikes, kou_cf_prices, label=\"Kou\")\n",
    "ax3.plot(call_strikes, vg_cf_prices, label=\"VG\")\n",
    "ax1.set_title(\"Merton model\")\n",
    "ax2.set_title(\"Kou model\")\n",
    "ax3.set_title(\"VG model\")\n",
    "ax1.set_xlabel(\"strike\")\n",
    "ax2.set_xlabel(\"strike\")\n",
    "ax3.set_xlabel(\"strike\")\n",
    "ax1.legend()\n",
    "ax2.legend()\n",
    "ax3.legend()\n",
    "plt.show()"
   ],
   "metadata": {
    "collapsed": false
   }
  },
  {
   "cell_type": "markdown",
   "source": [
    "#### Monte Carlo option pricing"
   ],
   "metadata": {
    "collapsed": false
   }
  },
  {
   "cell_type": "code",
   "execution_count": 40,
   "outputs": [
    {
     "data": {
      "text/plain": "<Figure size 1700x400 with 3 Axes>",
      "image/png": "[encoded data removed]"
     },
     "metadata": {},
     "output_type": "display_data"
    }
   ],
   "source": [
    "fig = plt.figure(figsize=(17, 4))\n",
    "ax1 = fig.add_subplot(131)\n",
    "ax2 = fig.add_subplot(132)\n",
    "ax3 = fig.add_subplot(133)\n",
    "ax1.plot(call_strikes, call_prices, \".\", label=\"midpoint\")\n",
    "ax2.plot(call_strikes, call_prices, \".\", label=\"midpoint\")\n",
    "ax3.plot(call_strikes, call_prices, \".\", label=\"midpoint\")\n",
    "ax1.plot(call_strikes, merton_mc_prices, label=\"Merton\")\n",
    "ax2.plot(call_strikes, kou_mc_prices, label=\"Kou\")\n",
    "ax3.plot(call_strikes, vg_mc_prices, label=\"VG\")\n",
    "ax1.set_title(\"Merton model\")\n",
    "ax2.set_title(\"Kou model\")\n",
    "ax3.set_title(\"VG model\")\n",
    "ax1.set_xlabel(\"strike\")\n",
    "ax2.set_xlabel(\"strike\")\n",
    "ax3.set_xlabel(\"strike\")\n",
    "ax1.legend()\n",
    "ax2.legend()\n",
    "ax3.legend()\n",
    "plt.show()"
   ],
   "metadata": {
    "collapsed": false
   }
  },
  {
   "cell_type": "code",
   "execution_count": null,
   "outputs": [],
   "source": [],
   "metadata": {
    "collapsed": false
   }
  }
 ],
 "metadata": {
  "kernelspec": {
   "display_name": "Python 3",
   "language": "python",
   "name": "python3"
  },
  "language_info": {
   "codemirror_mode": {
    "name": "ipython",
    "version": 2
   },
   "file_extension": ".py",
   "mimetype": "text/x-python",
   "name": "python",
   "nbconvert_exporter": "python",
   "pygments_lexer": "ipython2",
   "version": "2.7.6"
  }
 },
 "nbformat": 4,
 "nbformat_minor": 0
}
