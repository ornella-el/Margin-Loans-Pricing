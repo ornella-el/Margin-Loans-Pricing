{
 "cells": [
  {
   "cell_type": "markdown",
   "source": [
    "# Calibration of the 4 models using CALL OPTIONS\n",
    "This notebook aims to find the optimal parameters of **Black-Scholes**, **Merton Jump Diffusion**, **Kou Jump Diffusion** and **Variance Gamma** models. To do so, we compute the european option prices using **closed formulas**, available for all the 4 models, and the **Fast Fourier Transform** for the VG model. Given these theoretical prices, the **implied volatilities** are computed comparing them with real market prices, minimizing their difference. Then we estimate the additional parameters of each model, using the python module `scipy.optimize`.\n",
    "\n",
    "*reference: https://github.com/cantaro86/Financial-Models-Numerical-Methods/tree/master*"
   ],
   "metadata": {
    "collapsed": false
   }
  },
  {
   "cell_type": "code",
   "execution_count": 1,
   "metadata": {
    "collapsed": true
   },
   "outputs": [],
   "source": [
    "import numpy as np\n",
    "import pandas as pd\n",
    "import matplotlib.pyplot as plt\n",
    "import random\n",
    "import scipy.optimize as scpo\n",
    "import sys\n",
    "sys.path.append('C:/Users\\ornel\\OneDrive\\Desktop\\TESI\\PythonProjects\\Margin-Loans-Pricing\\python-modules/functions')\n",
    "sys.path.append('C:/Users\\ornel\\OneDrive\\Desktop\\TESI\\PythonProjects\\Margin-Loans-Pricing\\python-modules/calibration')\n",
    "import time\n",
    "\n",
    "from MERTONpricer import Merton_pricer\n",
    "from BSpricer import BS_Pricer\n",
    "from KOUpricer import Kou_pricer\n",
    "from VGpricer import VG_pricer\n",
    "\n",
    "random.seed(120)"
   ]
  },
  {
   "cell_type": "markdown",
   "source": [
    "Let's start retrieving historical prices for **european call** options starting from date **2016-01-20** and expiring **1 year** later. All the data have been collected from [OptionsDX](https://www.optionsdx.com/shop/) and preprocessed in `plainvanilla.py` module. The options that will be used in this notebook are all Out-Of-The-Money (OTM) options."
   ],
   "metadata": {
    "collapsed": false
   }
  },
  {
   "cell_type": "code",
   "execution_count": 2,
   "outputs": [
    {
     "name": "stdout",
     "output_type": "stream",
     "text": [
      "NUM OF CALL OPTS: 5\n",
      "   QUOTE_DATE  UNDERLYING_LAST EXPIRE_DATE  C_BID  C_ASK  STRIKE     C_IV   \n",
      "0  2016-01-20            27.47  2017-01-20   7.15   7.40    22.0  0.42468  \\\n",
      "1  2016-01-20            27.47  2017-01-20   5.30   5.45    25.0  0.40081   \n",
      "2  2016-01-20            27.47  2017-01-20   4.25   4.40    27.0  0.38941   \n",
      "3  2016-01-20            27.47  2017-01-20   2.98   3.10    30.0  0.37618   \n",
      "4  2016-01-20            27.47  2017-01-20   1.60   1.68    35.0  0.36536   \n",
      "\n",
      "   MONEYNESS  \n",
      "0       0.80  \n",
      "1       0.91  \n",
      "2       0.98  \n",
      "3       1.09  \n",
      "4       1.27  \n"
     ]
    }
   ],
   "source": [
    "df_call = pd.read_csv('../../data/NVDA/OPT16_NVDA_CALLS_75_135.csv')\n",
    "print(f'NUM OF CALL OPTS: {df_call.shape[0]}')\n",
    "print(df_call)"
   ],
   "metadata": {
    "collapsed": false
   }
  },
  {
   "cell_type": "markdown",
   "source": [
    "The dataframes **df_calls** contains 373 options sorted by their strike price. For our purpose, using the $20\\%$ of this DFs is enough and can lead to very good results. Thus, we sample the rows and then reformulate the dataframe adding **Midpoint** and **Spread** columns."
   ],
   "metadata": {
    "collapsed": false
   }
  },
  {
   "cell_type": "code",
   "execution_count": 3,
   "outputs": [],
   "source": [
    "calls = df_call.sample(frac=1, replace=False).sort_index().reset_index(drop=True)\n",
    "calls['C_Midpoint'] = abs(calls['C_BID'] + calls['C_ASK']) / 2\n",
    "calls['C_Spread'] = calls['C_BID'] - calls['C_ASK']\n",
    "\n",
    "q = 0           # dividend yield\n",
    "r = 0.03        # risk-free interest rate\n",
    "sigma = 0.3     #volatility (variance of diffusion process)\n",
    "S0 = calls.iloc[0]['UNDERLYING_LAST']\n",
    "T = 1           # time-to-maturity\n",
    "call_strikes = calls['STRIKE']    # array of K for call options\n",
    "exercise = 'european'\n",
    "\n",
    "call_prices = calls['C_Midpoint']"
   ],
   "metadata": {
    "collapsed": false
   }
  },
  {
   "cell_type": "markdown",
   "source": [
    "The following code snippet initializes objects of class *BS_pricer*, *Merton_pricer*, *Kou_pricer*, *VG_pricer* with default values as parameters. These parameters serve only as initialization. Best fitting parameetrs will be calibrated consequently and used to correctly price the options according to each model."
   ],
   "metadata": {
    "collapsed": false
   }
  },
  {
   "cell_type": "code",
   "execution_count": 4,
   "outputs": [],
   "source": [
    "BS = BS_Pricer(S0=S0, r=r, q = q, sigma=sigma, ttm=T, exercise=exercise, K=None)\n",
    "Merton = Merton_pricer(S0=S0, K=None, ttm=T, r=r, q = q, sigma=0.15, lambd=0.5, meanJ=-0.1, stdJ=0.1, exercise=exercise)\n",
    "Kou = Kou_pricer(S0=S0, K=None, ttm=T, r=r, sigma=0.15, lambd=0.5, p=0.6, eta1=12, eta2=5, exercise=exercise)\n",
    "VG = VG_pricer(S0, K=None, ttm=T, r=r, q=q, sigma=0.15, theta=-0.2, nu=0.3, exercise=exercise)"
   ],
   "metadata": {
    "collapsed": false
   }
  },
  {
   "cell_type": "markdown",
   "source": [
    "## Implied volatility\n",
    "The function belows implements $3$ methods to comcalle implied volatility: [Newton](https://en.wikipedia.org/wiki/Newton%27s_method) method, the [Bisection](https://en.wikipedia.org/wiki/Bisection_method) method and a more advanced one, named [Brent](https://en.wikipedia.org/wiki/Brent%27s_method) method. Apart from the initial guess, there is no substantial difference in the final result between **Newton** and **bisection** methods (*fsolve*). The **Implied Volatility** is that value $\\sigma$ that must be inserted into the Black-Scholes (BS) formula in order to retrieve the option price quoted in the market:\n",
    "    $$ BS(S, K, T, r, \\sigma) = P,  $$\n",
    "where $S$ is the underlying spot price, $K$ is the strike, $T$ time to maturity, $r$ risk-free interest rate and $P$ the option price quoted in the market. All these quantities are **observable**.\n",
    "   "
   ],
   "metadata": {
    "collapsed": false
   }
  },
  {
   "cell_type": "code",
   "execution_count": 5,
   "outputs": [],
   "source": [
    "def implied_volatility(price, S, strike, t, rate, q, type_o, method='fsolve', disp=True ):\n",
    "    \"\"\" Returns Implied volatility\n",
    "        methods:  fsolve (default) or brent\n",
    "    \"\"\"\n",
    "\n",
    "    def obj_fun(vol):\n",
    "        return BS.BlackScholes(type_o=type_o, S0=S, K=strike, ttm=t, r=rate, q=q, sigma=vol) - price\n",
    "\n",
    "    def vega(vol):\n",
    "        return BS.vega(S, strike, rate, q, vol, t)\n",
    "\n",
    "    if method =='fsolve':\n",
    "        X0 = [0.01, 0.2, 0.35, 7]        #initial guess points for imp.vol.\n",
    "        for x_0 in X0:\n",
    "            x, _, solved, _ = scpo.fsolve(obj_fun, x_0, full_output=True, xtol=1e-8)\n",
    "            if solved == 1:\n",
    "                return x[0]\n",
    "\n",
    "    if disp:\n",
    "        return -1"
   ],
   "metadata": {
    "collapsed": false
   }
  },
  {
   "cell_type": "markdown",
   "source": [
    "The following code snippet computes the implied volatility of **call** options market prices and show a plot of the implied volatilities found by inversion method against the ones provided by the dataframe."
   ],
   "metadata": {
    "collapsed": false
   }
  },
  {
   "cell_type": "code",
   "execution_count": 12,
   "outputs": [
    {
     "name": "stdout",
     "output_type": "stream",
     "text": [
      "Implied volatilities of market prices (calls):\n",
      "S0 = 27.47\n",
      "K = 22.0, IV = 0.4276\n",
      "K = 25.0, IV = 0.4013\n",
      "K = 27.0, IV = 0.3895\n",
      "K = 30.0, IV = 0.3753\n",
      "K = 35.0, IV = 0.3637\n"
     ]
    },
    {
     "data": {
      "text/plain": "<Figure size 1000x500 with 1 Axes>",
      "image/png": "[encoded data removed]"
     },
     "metadata": {},
     "output_type": "display_data"
    }
   ],
   "source": [
    "IV_market = []\n",
    "for i in range(len(call_prices)):\n",
    "    IV_market.append(implied_volatility(call_prices[i], S=S0, strike=call_strikes[i], t = T, rate=0.02, q = 0.022, type_o='call', method='fsolve'))\n",
    "\n",
    "print(f'Implied volatilities of market prices (calls):\\nS0 = {S0}')\n",
    "for a,b in zip(call_strikes.tail(6), IV_market[-6:]):\n",
    "    print(f'K = {a}, IV = {round(b, 4)}')\n",
    "\n",
    "# Plot market implied volatilities w.r.t. log moneyness\n",
    "x = (S0/call_strikes)\n",
    "IV_filtered = [iv for iv in IV_market if iv != -1]\n",
    "x_filtered = [log_m for iv, log_m in zip(IV_market, x) if iv != -1]\n",
    "\n",
    "fig, ax1 = plt.subplots(figsize=(10,5))\n",
    "ax1.scatter(x, IV_market, marker='x', label='BS inversion', color='red')\n",
    "ax1.scatter(x, calls['C_IV'], marker='.', label='provided')\n",
    "ax1.set_xlabel('Moneyness: S0/K'); ax1.set_ylabel('Implied Volatility'); ax1.set_title('Calls volatility smile')\n",
    "ax1.legend(); plt.show()\n"
   ],
   "metadata": {
    "collapsed": false
   }
  },
  {
   "cell_type": "markdown",
   "source": [
    "##  Weighted Calibration (call options)\n",
    "Let's step now into the calibration of model parameters.\n",
    "If we define $\\Theta$ the set of parameters, the goal is to find the optimal parameters $\\Theta^*$ that minimize the following objective function:\n",
    "$$ \\sum_{i=1}^{N} w_i \\biggl( P_i - f(K_i|\\Theta) \\biggr)^2 $$\n",
    "where $w_i$ are weights, usually defined as\n",
    "$$ w_i = \\frac{1}{\\text {spread}_i },$$ $P_i$ are the market prices and $f$ is the pricing function. In our case $f$ is given by **Merton** Jump Diffusion model, **Kou** Jump Diffusion model, or **Variance Gamma** process. To perform this optimization problem, many numerical methods can be used. In particular, we test two functions of `scipy.optimize`:\n",
    "1. **curve_fit**, a least-squares curve fitting method which works with bounds. The default algorithm is [Trust Region Reflective (trf)](https://en.wikipedia.org/wiki/Trust_region). The [Levemberg-Marquadt](https://en.wikipedia.org/wiki/Levenberg%E2%80%93Marquardt_algorithm) has been tried as well, to test the optimization problem without setting boundaries, but the results don't make any sense.\n",
    "2. **Least-Squares**, a constrained minimization problem which uses Trust region reflective method by default. This method is the most indicated to solve the non-linear least squares optimization problem of our purpose.\n",
    "All the optimizations are carried out by initializing a starting point as the array $x_0 = [params]$ and setting feasible bounds.\n"
   ],
   "metadata": {
    "collapsed": false
   },
   "outputs": []
  },
  {
   "cell_type": "code",
   "execution_count": 13,
   "outputs": [],
   "source": [
    "call_spreads = calls['C_Spread']\n",
    "c_weights = 1/ call_spreads**2"
   ],
   "metadata": {
    "collapsed": false
   }
  },
  {
   "cell_type": "markdown",
   "source": [
    "### Black and Scholes model\n",
    "The only unknown parameter to calibrate in Black and Scholes model is the **implied volatility**, $\\sigma$. Thus, we minimize the difference between the computed theoretical prices and the market prices of call options."
   ],
   "metadata": {
    "collapsed": false
   }
  },
  {
   "cell_type": "code",
   "execution_count": 14,
   "outputs": [],
   "source": [
    "x0 = 0.5\n",
    "bounds = [1e-5, 2]\n",
    "\n",
    "def f_BlackScholes_calls(x, sigm):\n",
    "    BS = BS_Pricer(S0=S0, K = x, ttm=T, r=r, q=0, sigma=sigm, exercise=exercise)\n",
    "    return BS.closed_formula_call(x)\n",
    "\n",
    "res1_calls = scpo.curve_fit(f_BlackScholes_calls, call_strikes, call_prices, p0 = x0, bounds=bounds, sigma=c_weights)\n",
    "sigw_p = round(res1_calls[0][0],4)"
   ],
   "metadata": {
    "collapsed": false
   }
  },
  {
   "cell_type": "code",
   "execution_count": 15,
   "outputs": [
    {
     "name": "stdout",
     "output_type": "stream",
     "text": [
      "`ftol` termination condition is satisfied.\n",
      "Function evaluations 25, initial cost 4.1083e+05, final cost 7.6646e-02, first-order optimality 3.26e-04.\n"
     ]
    }
   ],
   "source": [
    "def cost_function(x, strikes, mkt_prices):\n",
    "    sigma = x\n",
    "    BS = BS_Pricer(S0=S0, K = None, ttm=T, r=r, q=0, sigma=sigma, exercise=exercise)\n",
    "    sq_err = np.sum(c_weights* (BS.closed_formula_call(strikes) - mkt_prices)**2)\n",
    "    return sq_err\n",
    "\n",
    "result_p = scpo.least_squares(cost_function, x0, args=(call_strikes, call_prices), bounds=bounds, method = 'trf', verbose=1)\n",
    "opt_sigma_p = result_p.x[0]"
   ],
   "metadata": {
    "collapsed": false
   }
  },
  {
   "cell_type": "code",
   "execution_count": 16,
   "outputs": [
    {
     "name": "stdout",
     "output_type": "stream",
     "text": [
      "METHOD 1: CURVE_FIT (trf)\n",
      "> Calibrated Volatility from Calls [σ] = 0.3469 \t 34.69%\n",
      "METHOD 2: LEAST-SQUARES (trf)\n",
      "> Calibrated Volatility from Calls [σ] = 0.33965799150370934 \t 33.97%\n"
     ]
    }
   ],
   "source": [
    "print('METHOD 1: CURVE_FIT (trf)')\n",
    "print(f'> Calibrated Volatility from Calls [σ] = {sigw_p} \\t {round(sigw_p*100,2)}%')\n",
    "print('METHOD 2: LEAST-SQUARES (trf)')\n",
    "print(f'> Calibrated Volatility from Calls [σ] = {opt_sigma_p} \\t {round(opt_sigma_p*100,2)}%')"
   ],
   "metadata": {
    "collapsed": false
   }
  },
  {
   "cell_type": "markdown",
   "source": [
    "### Merton Jump Diffusion\n",
    "The Merton Jump diffusion ones are the volatility $\\sigma$, the Poisson rate of jumps $\\lambda$, the mean rate of jump intensity $m$ and its variance rate $v$, assuming that the intensity of jumps follows a *Normal distribution*.\n"
   ],
   "metadata": {
    "collapsed": false
   }
  },
  {
   "cell_type": "code",
   "execution_count": 17,
   "outputs": [],
   "source": [
    "x0 = [0.15,  0.2, -0.05,  0.01]  # initial guess: [σ, λ, m, v]\n",
    "bounds = ( [1e-3, 1e-2, -5, 1e-5], [2, 5, 5, 2] )"
   ],
   "metadata": {
    "collapsed": false
   }
  },
  {
   "cell_type": "code",
   "execution_count": 18,
   "outputs": [],
   "source": [
    "def f_Mert(x, sigma, lambd, meanJ, stdJ):\n",
    "    Mert = Merton_pricer(S0=S0, K=x, ttm=T, r=r, q=0, sigma=sigma, lambd=lambd, meanJ=meanJ, stdJ=stdJ, exercise=exercise)\n",
    "    return Mert.closed_formula_call(x)\n",
    "\n",
    "start1=time.time()\n",
    "mert1 = scpo.curve_fit(f_Mert, call_strikes, call_prices, p0=x0, bounds=bounds, sigma=call_spreads)\n",
    "end1=time.time()\n",
    "\n",
    "mert_params1 = [round(p,4) for p in mert1[0][:4]]"
   ],
   "metadata": {
    "collapsed": false
   }
  },
  {
   "cell_type": "markdown",
   "source": [
    "##### Method 2. Least-squares"
   ],
   "metadata": {
    "collapsed": false
   }
  },
  {
   "cell_type": "code",
   "execution_count": 19,
   "outputs": [
    {
     "name": "stdout",
     "output_type": "stream",
     "text": [
      "   Iteration     Total nfev        Cost      Cost reduction    Step norm     Optimality   \n",
      "       0              1         3.4303e+05                                    1.11e+07    \n",
      "       1              2         8.5442e+01      3.43e+05       5.66e-01       1.73e+04    \n",
      "       2              7         7.2931e+01      1.25e+01       1.21e-02       6.70e+03    \n",
      "       3              8         6.2209e+01      1.07e+01       5.92e-03       1.40e+04    \n",
      "       4              9         5.2917e+01      9.29e+00       1.23e-02       5.39e+03    \n",
      "       5             10         4.5469e+01      7.45e+00       6.04e-03       1.22e+04    \n",
      "       6             11         3.8535e+01      6.93e+00       1.26e-02       4.35e+03    \n",
      "       7             12         3.3384e+01      5.15e+00       6.14e-03       1.05e+04    \n",
      "       8             13         2.8044e+01      5.34e+00       1.27e-02       3.49e+03    \n",
      "       9             14         2.4511e+01      3.53e+00       6.18e-03       8.86e+03    \n",
      "      10             15         2.0292e+01      4.22e+00       1.28e-02       2.76e+03    \n",
      "      11             16         1.7924e+01      2.37e+00       6.17e-03       7.42e+03    \n",
      "      12             17         1.4174e+01      3.75e+00       1.28e-02       2.03e+03    \n",
      "      13             18         1.2693e+01      1.48e+00       5.96e-03       6.04e+03    \n",
      "      14             19         9.3828e+00      3.31e+00       1.27e-02       1.40e+03    \n",
      "      15             20         8.4956e+00      8.87e-01       5.81e-03       4.66e+03    \n",
      "      16             21         7.2545e+00      1.24e+00       3.17e-03       3.22e+03    \n",
      "      17             22         5.9311e+00      1.32e+00       6.37e-03       1.11e+03    \n",
      "      18             23         4.8963e+00      1.03e+00       4.52e-03       1.15e+03    \n",
      "      19             24         3.2498e+00      1.65e+00       1.02e-02       6.50e+02    \n",
      "      20             25         1.8653e+00      1.38e+00       1.71e-02       1.61e+03    \n",
      "      21             26         9.4661e-01      9.19e-01       2.45e-02       6.97e+02    \n",
      "      22             28         4.6875e-01      4.78e-01       3.66e-03       2.01e+02    \n",
      "      23             29         3.3547e-01      1.33e-01       5.11e-03       2.48e+02    \n",
      "      24             30         2.2564e-01      1.10e-01       1.27e-02       2.12e+02    \n",
      "      25             32         1.4166e-01      8.40e-02       1.78e-03       7.42e+01    \n",
      "      26             33         1.1638e-01      2.53e-02       2.25e-03       1.13e+02    \n",
      "      27             34         8.8334e-02      2.81e-02       3.18e-03       6.84e+01    \n",
      "      28             35         5.0920e-02      3.74e-02       5.78e-03       6.05e+01    \n",
      "      29             36         2.5110e-02      2.58e-02       1.27e-02       5.57e+01    \n",
      "      30             37         1.7693e-02      7.42e-03       4.76e-03       3.36e+01    \n",
      "      31             38         1.5106e-03      1.62e-02       1.27e-02       2.69e+00    \n",
      "      32             41         1.3840e-03      1.27e-04       1.20e-03       3.82e+00    \n",
      "      33             42         1.2267e-03      1.57e-04       3.58e-04       3.38e+00    \n",
      "      34             43         9.7243e-04      2.54e-04       7.29e-04       2.63e+00    \n",
      "      35             44         6.4173e-04      3.31e-04       1.51e-03       1.57e+00    \n",
      "      36             45         3.3734e-04      3.04e-04       3.19e-03       8.65e-01    \n",
      "      37             48         2.9618e-04      4.12e-05       2.47e-04       6.53e-01    \n",
      "      38             49         2.7124e-04      2.49e-05       3.90e-04       5.96e-01    \n",
      "      39             50         2.2921e-04      4.20e-05       7.93e-04       4.55e-01    \n",
      "      40             51         1.8157e-04      4.76e-05       1.53e-03       3.65e-01    \n",
      "      41             52         1.4801e-04      3.36e-05       1.36e-03       2.06e-01    \n",
      "      42             55         1.4484e-04      3.18e-06       5.90e-05       1.30e-01    \n",
      "      43             56         1.4345e-04      1.39e-06       7.29e-05       1.44e-01    \n",
      "      44             57         1.4206e-04      1.39e-06       9.89e-05       1.34e-01    \n",
      "      45             58         1.3954e-04      2.53e-06       1.96e-04       1.17e-01    \n",
      "      46             59         1.3542e-04      4.11e-06       3.91e-04       8.68e-02    \n",
      "      47             60         1.3082e-04      4.61e-06       7.82e-04       2.20e-02    \n",
      "      48             63         1.3066e-04      1.53e-07       2.86e-05       2.67e-02    \n",
      "      49             64         1.3052e-04      1.38e-07       4.26e-05       2.14e-02    \n",
      "      50             65         1.3031e-04      2.19e-07       7.87e-05       1.98e-02    \n",
      "      51             66         1.3010e-04      2.05e-07       1.38e-04       2.79e-02    \n",
      "      52             68         1.2995e-04      1.49e-07       2.10e-05       7.20e-03    \n",
      "      53             69         1.2988e-04      7.63e-08       2.22e-05       5.74e-03    \n",
      "      54             70         1.2985e-04      2.31e-08       3.83e-05       1.06e-02    \n",
      "      55             71         1.2977e-04      8.01e-08       8.36e-06       8.26e-03    \n",
      "      56             72         1.2966e-04      1.18e-07       1.59e-05       3.83e-03    \n",
      "      57             73         1.2954e-04      1.14e-07       2.54e-05       1.32e-02    \n",
      "      58             75         1.2949e-04      5.06e-08       1.04e-05       2.18e-03    \n",
      "      59             76         1.2945e-04      3.75e-08       5.18e-06       2.27e-03    \n",
      "      60             77         1.2938e-04      7.43e-08       8.93e-06       3.28e-03    \n",
      "      61             78         1.2926e-04      1.14e-07       2.48e-05       4.07e-03    \n",
      "      62             79         1.2912e-04      1.41e-07       2.31e-05       9.94e-03    \n",
      "      63             81         1.2909e-04      3.87e-08       1.02e-05       2.38e-03    \n",
      "      64             82         1.2905e-04      3.63e-08       3.92e-06       3.11e-03    \n",
      "      65             83         1.2898e-04      6.81e-08       1.25e-05       2.65e-03    \n",
      "      66             84         1.2887e-04      1.13e-07       1.69e-05       1.29e-02    \n",
      "      67             86         1.2882e-04      4.94e-08       1.06e-05       2.18e-03    \n",
      "      68             87         1.2878e-04      3.73e-08       4.99e-06       2.24e-03    \n",
      "      69             88         1.2871e-04      7.43e-08       8.81e-06       2.65e-03    \n",
      "      70             89         1.2857e-04      1.33e-07       2.28e-05       2.92e-03    \n",
      "      71             90         1.2849e-04      8.11e-08       3.89e-05       2.97e-02    \n",
      "      72             91         1.2834e-04      1.53e-07       2.24e-05       2.29e-03    \n",
      "      73             92         1.2827e-04      7.20e-08       8.67e-06       4.29e-03    \n",
      "      74             93         1.2821e-04      5.79e-08       3.07e-05       5.53e-03    \n",
      "      75             94         1.2802e-04      1.90e-07       2.40e-05       4.73e-03    \n",
      "      76             95         1.2799e-04      3.25e-08       3.34e-05       6.01e-03    \n",
      "      77             96         1.2791e-04      7.41e-08       6.02e-06       3.95e-03    \n",
      "      78             97         1.2780e-04      1.09e-07       1.07e-05       2.63e-03    \n",
      "      79             98         1.2769e-04      1.14e-07       1.58e-05       1.24e-02    \n",
      "      80             100        1.2764e-04      4.76e-08       1.07e-05       2.18e-03    \n",
      "      81             101        1.2760e-04      3.70e-08       5.00e-06       2.19e-03    \n",
      "      82             102        1.2753e-04      7.39e-08       9.65e-06       2.17e-03    \n",
      "      83             103        1.2738e-04      1.47e-07       1.98e-05       2.30e-03    \n",
      "      84             104        1.2719e-04      1.90e-07       3.15e-05       2.13e-02    \n",
      "      85             106        1.2708e-04      1.15e-07       2.15e-05       2.54e-03    \n",
      "      86             107        1.2701e-04      6.95e-08       8.69e-06       5.33e-03    \n",
      "      87             109        1.2698e-04      3.25e-08       8.27e-06       2.44e-03    \n",
      "      88             110        1.2694e-04      3.69e-08       4.11e-06       2.30e-03    \n",
      "      89             111        1.2687e-04      7.17e-08       1.06e-05       2.38e-03    \n",
      "      90             112        1.2676e-04      1.09e-07       1.61e-05       1.29e-02    \n",
      "      91             114        1.2671e-04      4.93e-08       1.05e-05       2.12e-03    \n",
      "      92             115        1.2667e-04      3.65e-08       5.02e-06       2.21e-03    \n",
      "      93             116        1.2660e-04      7.24e-08       8.57e-06       3.02e-03    \n",
      "      94             117        1.2648e-04      1.16e-07       2.44e-05       3.42e-03    \n",
      "      95             118        1.2641e-04      7.78e-08       4.36e-05       2.94e-02    \n",
      "      96             119        1.2626e-04      1.49e-07       2.25e-05       2.26e-03    \n",
      "      97             120        1.2619e-04      6.93e-08       8.86e-06       4.89e-03    \n",
      "      98             121        1.2617e-04      1.69e-08       3.36e-05       6.55e-03    \n",
      "      99             122        1.2609e-04      7.63e-08       6.23e-06       4.46e-03    \n",
      "      100            123        1.2598e-04      1.12e-07       1.12e-05       2.68e-03    \n",
      "      101            124        1.2587e-04      1.13e-07       1.61e-05       1.22e-02    \n",
      "      102            126        1.2582e-04      4.64e-08       1.07e-05       2.16e-03    \n",
      "      103            127        1.2579e-04      3.64e-08       4.91e-06       2.14e-03    \n",
      "      104            128        1.2571e-04      7.26e-08       9.98e-06       2.17e-03    \n",
      "      105            129        1.2557e-04      1.44e-07       1.82e-05       3.55e-03    \n",
      "      106            130        1.2552e-04      4.87e-08       5.45e-05       1.03e-02    \n",
      "      107            131        1.2534e-04      1.84e-07       1.41e-05       5.81e-03    \n",
      "      108            132        1.2514e-04      1.97e-07       2.43e-05       3.62e-03    \n",
      "      109            133        1.2506e-04      8.15e-08       3.04e-05       4.18e-03    \n",
      "      110            134        1.2490e-04      1.62e-07       2.21e-05       6.93e-03    \n",
      "      111            136        1.2486e-04      3.18e-08       9.86e-06       2.41e-03    \n",
      "      112            137        1.2483e-04      3.66e-08       4.00e-06       2.08e-03    \n",
      "      113            138        1.2476e-04      7.11e-08       1.14e-05       2.29e-03    \n",
      "      114            139        1.2465e-04      1.10e-07       1.60e-05       1.24e-02    \n",
      "      115            141        1.2460e-04      4.67e-08       1.06e-05       2.11e-03    \n",
      "      116            142        1.2456e-04      3.58e-08       4.75e-06       2.12e-03    \n",
      "      117            143        1.2449e-04      7.16e-08       9.27e-06       2.10e-03    \n",
      "      118            144        1.2435e-04      1.43e-07       1.93e-05       2.24e-03    \n",
      "      119            145        1.2417e-04      1.75e-07       3.16e-05       2.17e-02    \n",
      "      120            147        1.2405e-04      1.20e-07       2.16e-05       2.42e-03    \n",
      "      121            148        1.2399e-04      6.62e-08       8.52e-06       5.57e-03    \n",
      "      122            150        1.2396e-04      3.10e-08       8.55e-06       2.39e-03    \n",
      "      123            151        1.2392e-04      3.61e-08       4.16e-06       2.13e-03    \n",
      "      124            152        1.2385e-04      6.99e-08       1.04e-05       2.28e-03    \n",
      "      125            153        1.2375e-04      1.06e-07       1.60e-05       1.27e-02    \n",
      "      126            155        1.2370e-04      4.82e-08       1.06e-05       2.06e-03    \n",
      "      127            156        1.2366e-04      3.54e-08       4.96e-06       2.13e-03    \n",
      "      128            157        1.2359e-04      7.04e-08       8.62e-06       2.83e-03    \n",
      "      129            158        1.2348e-04      1.16e-07       2.39e-05       3.21e-03    \n",
      "      130            159        1.2341e-04      6.70e-08       4.33e-05       2.93e-02    \n",
      "      131            160        1.2326e-04      1.46e-07       2.27e-05       2.22e-03    \n",
      "      132            161        1.2320e-04      6.55e-08       8.65e-06       5.49e-03    \n",
      "      133            163        1.2317e-04      3.08e-08       8.95e-06       2.38e-03    \n",
      "      134            164        1.2313e-04      3.60e-08       3.93e-06       2.04e-03    \n",
      "      135            165        1.2306e-04      6.98e-08       1.08e-05       2.24e-03    \n",
      "      136            166        1.2295e-04      1.07e-07       1.57e-05       1.24e-02    \n",
      "      137            168        1.2291e-04      4.66e-08       1.06e-05       2.07e-03    \n",
      "      138            169        1.2287e-04      3.52e-08       4.76e-06       2.09e-03    \n",
      "      139            170        1.2280e-04      7.03e-08       9.08e-06       2.04e-03    \n",
      "      140            171        1.2266e-04      1.38e-07       2.01e-05       2.36e-03    \n",
      "      141            172        1.2256e-04      1.02e-07       3.32e-05       2.71e-02    \n",
      "      142            174        1.2243e-04      1.35e-07       2.21e-05       2.26e-03    \n",
      "      143            175        1.2236e-04      6.33e-08       7.86e-06       6.01e-03    \n",
      "      144            177        1.2233e-04      3.02e-08       8.98e-06       2.36e-03    \n",
      "      145            178        1.2230e-04      3.56e-08       4.07e-06       2.02e-03    \n",
      "      146            179        1.2223e-04      6.91e-08       1.03e-05       2.23e-03    \n",
      "      147            180        1.2212e-04      1.04e-07       1.58e-05       1.25e-02    \n",
      "      148            182        1.2208e-04      4.71e-08       1.06e-05       2.04e-03    \n",
      "      149            183        1.2204e-04      3.49e-08       4.85e-06       2.09e-03    \n",
      "      150            184        1.2197e-04      6.95e-08       8.78e-06       2.43e-03    \n",
      "      151            185        1.2185e-04      1.26e-07       2.23e-05       2.71e-03    \n",
      "      152            186        1.2179e-04      6.26e-08       3.98e-05       2.92e-02    \n",
      "      153            187        1.2164e-04      1.43e-07       2.27e-05       2.19e-03    \n",
      "      154            188        1.2158e-04      6.30e-08       8.22e-06       5.89e-03    \n",
      "      155            190        1.2155e-04      3.00e-08       9.16e-06       2.35e-03    \n",
      "      156            191        1.2151e-04      3.55e-08       3.94e-06       2.01e-03    \n",
      "      157            192        1.2144e-04      6.87e-08       1.06e-05       2.19e-03    \n",
      "      158            193        1.2134e-04      1.04e-07       1.57e-05       1.23e-02    \n",
      "      159            195        1.2129e-04      4.61e-08       1.06e-05       2.04e-03    \n",
      "      160            196        1.2126e-04      3.46e-08       4.73e-06       2.06e-03    \n",
      "      161            197        1.2119e-04      6.92e-08       9.06e-06       2.01e-03    \n",
      "      162            198        1.2105e-04      1.36e-07       2.00e-05       2.31e-03    \n",
      "      163            199        1.2095e-04      9.96e-08       3.32e-05       2.68e-02    \n",
      "      164            201        1.2082e-04      1.31e-07       2.21e-05       2.25e-03    \n",
      "      165            202        1.2076e-04      6.24e-08       7.90e-06       5.89e-03    \n",
      "      166            204        1.2073e-04      2.95e-08       8.97e-06       2.33e-03    \n",
      "      167            205        1.2070e-04      3.51e-08       4.08e-06       1.99e-03    \n",
      "      168            206        1.2063e-04      6.80e-08       1.03e-05       2.18e-03    \n",
      "      169            207        1.2053e-04      1.02e-07       1.57e-05       1.24e-02    \n",
      "      170            209        1.2048e-04      4.65e-08       1.06e-05       2.01e-03    \n",
      "      171            210        1.2044e-04      3.43e-08       4.82e-06       2.05e-03    \n",
      "      172            211        1.2038e-04      6.84e-08       8.82e-06       2.29e-03    \n",
      "      173            212        1.2025e-04      1.26e-07       2.19e-05       2.61e-03    \n",
      "      174            213        1.2019e-04      6.11e-08       3.89e-05       2.90e-02    \n",
      "      175            214        1.2005e-04      1.40e-07       2.27e-05       2.17e-03    \n",
      "      176            215        1.1999e-04      6.16e-08       8.08e-06       5.94e-03    \n",
      "      177            217        1.1996e-04      2.93e-08       9.23e-06       2.31e-03    \n",
      "      178            218        1.1992e-04      3.50e-08       3.95e-06       1.98e-03    \n",
      "      179            219        1.1986e-04      6.77e-08       1.05e-05       2.15e-03    \n",
      "      180            220        1.1975e-04      1.04e-07       1.57e-05       1.20e-02    \n",
      "      181            222        1.1971e-04      4.45e-08       1.06e-05       2.02e-03    \n",
      "      182            223        1.1967e-04      3.41e-08       4.53e-06       2.00e-03    \n",
      "      183            224        1.1961e-04      6.80e-08       9.51e-06       2.05e-03    \n",
      "      184            225        1.1947e-04      1.33e-07       1.70e-05       4.89e-03    \n",
      "      185            227        1.1943e-04      3.83e-08       1.64e-05       3.15e-03    \n",
      "      186            228        1.1935e-04      8.06e-08       1.09e-05       2.01e-03    \n",
      "      187            229        1.1922e-04      1.36e-07       1.84e-05       1.96e-03    \n",
      "      188            230        1.1896e-04      2.54e-07       4.09e-05       2.73e-03    \n",
      "      189            232        1.1886e-04      1.08e-07       2.09e-05       1.14e-02    \n",
      "      190            234        1.1881e-04      4.21e-08       1.06e-05       2.04e-03    \n",
      "      191            235        1.1878e-04      3.36e-08       4.28e-06       2.03e-03    \n",
      "      192            236        1.1871e-04      6.61e-08       1.07e-05       2.18e-03    \n",
      "      193            237        1.1861e-04      9.95e-08       1.58e-05       1.24e-02    \n",
      "      194            239        1.1857e-04      4.61e-08       1.06e-05       1.97e-03    \n",
      "      195            240        1.1853e-04      3.36e-08       4.87e-06       2.01e-03    \n",
      "      196            241        1.1847e-04      6.70e-08       8.75e-06       2.40e-03    \n",
      "      197            242        1.1835e-04      1.18e-07       2.27e-05       2.68e-03    \n",
      "      198            243        1.1830e-04      5.16e-08       4.08e-05       2.90e-02    \n",
      "      199            244        1.1816e-04      1.39e-07       2.29e-05       2.14e-03    \n",
      "      200            245        1.1810e-04      6.06e-08       8.29e-06       5.81e-03    \n",
      "      201            247        1.1807e-04      2.85e-08       9.31e-06       2.28e-03    \n",
      "      202            248        1.1803e-04      3.44e-08       3.93e-06       1.94e-03    \n",
      "      203            249        1.1797e-04      6.65e-08       1.05e-05       2.10e-03    \n",
      "      204            250        1.1786e-04      1.07e-07       1.58e-05       1.10e-02    \n",
      "      205            252        1.1784e-04      2.41e-08       2.11e-05       3.61e-03    \n",
      "      206            253        1.1781e-04      2.62e-08       2.81e-06       2.81e-03    \n",
      "      207            254        1.1777e-04      4.43e-08       5.15e-06       2.38e-03    \n",
      "      208            255        1.1770e-04      6.41e-08       8.37e-06       4.75e-03    \n",
      "      209            257        1.1767e-04      2.90e-08       8.39e-06       2.25e-03    \n",
      "      210            258        1.1764e-04      3.39e-08       3.99e-06       1.95e-03    \n",
      "      211            259        1.1757e-04      6.55e-08       1.06e-05       2.14e-03    \n",
      "      212            260        1.1748e-04      9.83e-08       1.57e-05       1.23e-02    \n",
      "      213            262        1.1743e-04      4.55e-08       1.06e-05       1.95e-03    \n",
      "      214            263        1.1740e-04      3.32e-08       4.82e-06       1.98e-03    \n",
      "      215            264        1.1733e-04      6.62e-08       8.83e-06       2.22e-03    \n",
      "      216            265        1.1721e-04      1.22e-07       2.19e-05       2.54e-03    \n",
      "      217            266        1.1716e-04      5.26e-08       3.91e-05       2.87e-02    \n",
      "      218            267        1.1702e-04      1.36e-07       2.29e-05       2.13e-03    \n",
      "      219            268        1.1696e-04      5.99e-08       8.06e-06       5.75e-03    \n",
      "      220            270        1.1693e-04      2.81e-08       9.27e-06       2.25e-03    \n",
      "      221            271        1.1690e-04      3.40e-08       3.95e-06       1.92e-03    \n",
      "      222            272        1.1683e-04      6.57e-08       1.04e-05       2.07e-03    \n",
      "      223            273        1.1673e-04      1.06e-07       1.57e-05       1.08e-02    \n",
      "      224            275        1.1670e-04      2.24e-08       2.10e-05       3.69e-03    \n",
      "      225            276        1.1668e-04      2.62e-08       2.84e-06       2.79e-03    \n",
      "      226            277        1.1663e-04      4.40e-08       5.21e-06       2.36e-03    \n",
      "      227            278        1.1657e-04      6.35e-08       8.43e-06       4.68e-03    \n",
      "      228            280        1.1654e-04      2.86e-08       8.38e-06       2.23e-03    \n",
      "      229            281        1.1651e-04      3.35e-08       4.00e-06       1.91e-03    \n",
      "      230            282        1.1644e-04      6.47e-08       1.06e-05       2.11e-03    \n",
      "      231            283        1.1635e-04      9.68e-08       1.57e-05       1.22e-02    \n",
      "      232            285        1.1630e-04      4.51e-08       1.06e-05       1.92e-03    \n",
      "      233            286        1.1627e-04      3.28e-08       4.80e-06       1.96e-03    \n",
      "      234            287        1.1620e-04      6.54e-08       8.84e-06       2.16e-03    \n",
      "      235            288        1.1608e-04      1.21e-07       2.18e-05       2.49e-03    \n",
      "      236            289        1.1603e-04      5.07e-08       3.88e-05       2.86e-02    \n",
      "      237            290        1.1590e-04      1.35e-07       2.29e-05       2.11e-03    \n",
      "      238            291        1.1584e-04      5.92e-08       8.01e-06       5.69e-03    \n",
      "      239            293        1.1581e-04      2.76e-08       9.27e-06       2.23e-03    \n",
      "      240            294        1.1578e-04      3.36e-08       3.95e-06       1.90e-03    \n",
      "      241            295        1.1571e-04      6.49e-08       1.03e-05       2.04e-03    \n",
      "      242            296        1.1561e-04      1.07e-07       1.58e-05       1.04e-02    \n",
      "      243            298        1.1559e-04      1.99e-08       2.10e-05       3.76e-03    \n",
      "      244            299        1.1556e-04      2.62e-08       2.87e-06       2.82e-03    \n",
      "      245            300        1.1552e-04      4.40e-08       5.27e-06       2.35e-03    \n",
      "      246            301        1.1545e-04      6.31e-08       8.50e-06       4.56e-03    \n",
      "      247            303        1.1542e-04      2.82e-08       8.34e-06       2.20e-03    \n",
      "      248            304        1.1539e-04      3.31e-08       4.00e-06       1.89e-03    \n",
      "      249            305        1.1533e-04      6.39e-08       1.06e-05       2.09e-03    \n",
      "      250            306        1.1523e-04      9.53e-08       1.57e-05       1.22e-02    \n",
      "      251            308        1.1519e-04      4.48e-08       1.06e-05       1.90e-03    \n",
      "      252            309        1.1516e-04      3.24e-08       4.79e-06       1.93e-03    \n",
      "      253            310        1.1509e-04      6.46e-08       8.85e-06       2.11e-03    \n",
      "      254            311        1.1497e-04      1.20e-07       2.17e-05       2.46e-03    \n",
      "      255            312        1.1492e-04      4.84e-08       3.87e-05       2.85e-02    \n",
      "      256            313        1.1479e-04      1.33e-07       2.30e-05       2.09e-03    \n",
      "      257            314        1.1473e-04      5.85e-08       7.98e-06       5.62e-03    \n",
      "      258            316        1.1470e-04      2.71e-08       9.28e-06       2.21e-03    \n",
      "      259            317        1.1467e-04      3.33e-08       3.96e-06       1.88e-03    \n",
      "      260            318        1.1461e-04      6.42e-08       1.03e-05       2.01e-03    \n",
      "      261            319        1.1450e-04      1.07e-07       1.58e-05       9.91e-03    \n",
      "      262            321        1.1448e-04      1.73e-08       2.09e-05       3.84e-03    \n",
      "      263            322        1.1446e-04      2.62e-08       2.90e-06       2.88e-03    \n",
      "      264            323        1.1441e-04      4.40e-08       5.32e-06       2.34e-03    \n",
      "      265            324        1.1435e-04      6.26e-08       8.57e-06       4.45e-03    \n",
      "      266            326        1.1432e-04      2.79e-08       8.29e-06       2.17e-03    \n",
      "      267            327        1.1429e-04      3.27e-08       4.00e-06       1.87e-03    \n",
      "      268            328        1.1423e-04      6.31e-08       1.06e-05       2.07e-03    \n",
      "      269            329        1.1413e-04      9.38e-08       1.57e-05       1.21e-02    \n",
      "      270            331        1.1409e-04      4.44e-08       1.07e-05       1.88e-03    \n",
      "      271            332        1.1406e-04      3.20e-08       4.79e-06       1.91e-03    \n",
      "      272            333        1.1399e-04      6.39e-08       8.86e-06       2.08e-03    \n",
      "      273            334        1.1387e-04      1.18e-07       2.17e-05       2.43e-03    \n",
      "      274            335        1.1383e-04      4.56e-08       3.87e-05       2.84e-02    \n",
      "      275            336        1.1370e-04      1.32e-07       2.30e-05       2.08e-03    \n",
      "      276            337        1.1364e-04      5.79e-08       7.96e-06       5.56e-03    \n",
      "      277            339        1.1361e-04      2.67e-08       9.29e-06       2.19e-03    \n",
      "      278            340        1.1358e-04      3.29e-08       3.96e-06       1.86e-03    \n",
      "      279            341        1.1351e-04      6.34e-08       1.03e-05       1.98e-03    \n",
      "      280            342        1.1341e-04      1.08e-07       1.59e-05       9.42e-03    \n",
      "      281            344        1.1339e-04      1.50e-08       2.08e-05       3.90e-03    \n",
      "      282            345        1.1337e-04      2.62e-08       2.92e-06       2.94e-03    \n",
      "      283            346        1.1332e-04      4.39e-08       5.37e-06       2.32e-03    \n",
      "      284            347        1.1326e-04      6.22e-08       8.64e-06       4.33e-03    \n",
      "      285            349        1.1323e-04      2.75e-08       8.25e-06       2.15e-03    \n",
      "      286            350        1.1320e-04      3.24e-08       4.00e-06       1.85e-03    \n",
      "      287            351        1.1314e-04      6.23e-08       1.06e-05       2.05e-03    \n",
      "      288            352        1.1305e-04      9.24e-08       1.57e-05       1.21e-02    \n",
      "      289            354        1.1300e-04      4.41e-08       1.07e-05       1.85e-03    \n",
      "      290            355        1.1297e-04      3.16e-08       4.78e-06       1.88e-03    \n",
      "      291            356        1.1291e-04      6.31e-08       8.86e-06       2.05e-03    \n",
      "      292            357        1.1279e-04      1.17e-07       2.17e-05       2.40e-03    \n",
      "      293            358        1.1275e-04      4.27e-08       3.88e-05       2.83e-02    \n",
      "      294            359        1.1262e-04      1.31e-07       2.31e-05       2.06e-03    \n",
      "      295            360        1.1256e-04      5.72e-08       7.95e-06       5.50e-03    \n",
      "      296            362        1.1253e-04      2.62e-08       9.31e-06       2.17e-03    \n",
      "      297            363        1.1250e-04      3.26e-08       3.96e-06       1.83e-03    \n",
      "      298            364        1.1244e-04      6.27e-08       1.02e-05       1.95e-03    \n",
      "      299            365        1.1233e-04      1.09e-07       1.60e-05       8.91e-03    \n",
      "      300            367        1.1232e-04      1.30e-08       2.06e-05       3.96e-03    \n",
      "      301            368        1.1229e-04      2.62e-08       2.95e-06       3.00e-03    \n",
      "      302            369        1.1225e-04      4.39e-08       5.42e-06       2.31e-03    \n",
      "      303            370        1.1218e-04      6.18e-08       8.70e-06       4.23e-03    \n",
      "      304            372        1.1216e-04      2.72e-08       8.22e-06       2.13e-03    \n",
      "      305            373        1.1213e-04      3.20e-08       3.99e-06       1.83e-03    \n",
      "      306            374        1.1206e-04      6.15e-08       1.06e-05       2.02e-03    \n",
      "      307            375        1.1197e-04      9.09e-08       1.57e-05       1.20e-02    \n",
      "      308            377        1.1193e-04      4.38e-08       1.07e-05       1.83e-03    \n",
      "      309            378        1.1190e-04      3.12e-08       4.78e-06       1.86e-03    \n",
      "      310            379        1.1184e-04      6.23e-08       8.86e-06       2.02e-03    \n",
      "      311            380        1.1172e-04      1.15e-07       2.16e-05       2.37e-03    \n",
      "      312            381        1.1168e-04      4.01e-08       3.88e-05       2.82e-02    \n",
      "      313            382        1.1155e-04      1.29e-07       2.31e-05       2.04e-03    \n",
      "      314            383        1.1149e-04      5.66e-08       7.94e-06       5.44e-03    \n",
      "      315            385        1.1147e-04      2.58e-08       9.32e-06       2.14e-03    \n",
      "      316            386        1.1144e-04      3.23e-08       3.96e-06       1.81e-03    \n",
      "      317            387        1.1137e-04      6.20e-08       1.02e-05       1.92e-03    \n",
      "      318            388        1.1127e-04      1.09e-07       1.61e-05       8.39e-03    \n",
      "      319            390        1.1125e-04      1.13e-08       2.05e-05       4.00e-03    \n",
      "      320            391        1.1123e-04      2.61e-08       2.97e-06       3.04e-03    \n",
      "      321            392        1.1118e-04      4.37e-08       5.46e-06       2.30e-03    \n",
      "      322            393        1.1112e-04      6.12e-08       8.76e-06       4.16e-03    \n",
      "      323            395        1.1110e-04      2.68e-08       8.20e-06       2.10e-03    \n",
      "      324            396        1.1104e-04      5.69e-08       7.99e-06       5.23e-03    \n",
      "      325            398        1.1101e-04      2.56e-08       9.04e-06       2.13e-03    \n",
      "      326            399        1.1098e-04      3.20e-08       4.07e-06       1.80e-03    \n",
      "      327            400        1.1092e-04      6.15e-08       1.00e-05       1.92e-03    \n",
      "The maximum number of function evaluations is exceeded.\n",
      "Function evaluations 400, initial cost 3.4303e+05, final cost 1.1092e-04, first-order optimality 1.92e-03.\n"
     ]
    }
   ],
   "source": [
    "x0 = [0.15,  0.5, -0.05,  0.1]      # initial guess: [σ, λ, m, v]\n",
    "bounds = ( [1e-3, 1e-2, -10, 0], [2, np.inf, 10, 5] )\n",
    "\n",
    "def cost_function(x, strikes, mkt_prices):\n",
    "    sigma, lambd, meanJ, stdJ = x\n",
    "    M = Merton_pricer(S0, None, T, r, q, sigma, lambd, meanJ, stdJ, exercise)\n",
    "    sq_err = np.sum(c_weights*(M.closed_formula_call(strikes) - mkt_prices)**2)\n",
    "    return sq_err\n",
    "\n",
    "start2 = time.time()\n",
    "mert2 = scpo.least_squares(cost_function, x0, args=(call_strikes, call_prices), bounds=bounds, method = 'trf', verbose=2)\n",
    "end2 = time.time()\n",
    "\n",
    "mert_params2 = [round(p,4) for p in mert2.x[:4]]"
   ],
   "metadata": {
    "collapsed": false
   }
  },
  {
   "cell_type": "code",
   "execution_count": 20,
   "outputs": [
    {
     "name": "stdout",
     "output_type": "stream",
     "text": [
      "WEIGHTED OPT: CURVE_FIT (trf)\n",
      "> Calibrated Volatlity [σ] = 0.1643 \t 16.43%\n",
      "> Calibrated Jump intensity [λ] =  5.0\n",
      "> Calibrated Jump Mean =  -0.03\n",
      "> Calibrated Jump St. dev.  =  0.13491\n",
      "ELAPSED TIME: 41.826136112213135 sec\n",
      "\n",
      "METHOD 1: LEAST SQUARES (trf)\n",
      "> Calibrated Volatlity [σ] = 0.2567 \t 25.67%\n",
      "> Calibrated Jump intensity [λ] =  1.01\n",
      "> Calibrated Jump Mean =  -0.078\n",
      "> Calibrated Jump St. dev.  =  0.233\n",
      "TIME ELAPSED:  66.16 sec\n"
     ]
    }
   ],
   "source": [
    "print('WEIGHTED OPT: CURVE_FIT (trf)')\n",
    "print(f'> Calibrated Volatlity [σ] = {round(mert1[0][0],4)} \\t {round(mert1[0][0]*100,2)}%')\n",
    "print('> Calibrated Jump intensity [λ] = ', round(mert1[0][1],2))\n",
    "print('> Calibrated Jump Mean = ', round(mert1[0][2],2))\n",
    "print('> Calibrated Jump St. dev.  = ', round(mert1[0][3],5))\n",
    "print(f'ELAPSED TIME: {end1-start1} sec')\n",
    "\n",
    "print('\\nMETHOD 1: LEAST SQUARES (trf)')\n",
    "print(f'> Calibrated Volatlity [σ] = {mert_params2[0]} \\t {round(mert_params2[0]*100,2)}%')\n",
    "print('> Calibrated Jump intensity [λ] = ', round(mert_params2[1],2))\n",
    "print('> Calibrated Jump Mean = ', round(mert_params2[2],3))\n",
    "print('> Calibrated Jump St. dev.  = ', round(mert_params2[3],3))\n",
    "print(f'TIME ELAPSED:  {round(end2-start2,2)} sec')"
   ],
   "metadata": {
    "collapsed": false
   }
  },
  {
   "cell_type": "code",
   "execution_count": 21,
   "outputs": [
    {
     "name": "stdout",
     "output_type": "stream",
     "text": [
      "[0.1643, 5.0, -0.0333, 0.1349]\n",
      "[0.2567, 1.0107, -0.078, 0.2328]\n"
     ]
    }
   ],
   "source": [
    "print(mert_params1)\n",
    "print(mert_params2)"
   ],
   "metadata": {
    "collapsed": false
   }
  },
  {
   "cell_type": "markdown",
   "source": [
    "### Kou Jump Diffusion\n"
   ],
   "metadata": {
    "collapsed": false
   }
  },
  {
   "cell_type": "code",
   "execution_count": 22,
   "outputs": [],
   "source": [
    "x0 = [0.2, 0.7, 0.5, 8, 10] # initial guess: [σ, λ, p, η_1, η_2]\n",
    "bounds = ( [1e-2, 1e-1, 0, 0.5, 0.5], [0.5, 4, 1, 15, 20] )"
   ],
   "metadata": {
    "collapsed": false
   }
  },
  {
   "cell_type": "markdown",
   "source": [
    "##### Method 1. TRF (Bounds)"
   ],
   "metadata": {
    "collapsed": false
   }
  },
  {
   "cell_type": "code",
   "execution_count": 23,
   "outputs": [],
   "source": [
    "# def f_Kou(x, sigma, lambd, p, eta1, eta2):\n",
    "#     KouJD = Kou_pricer(S0=S0, K=x, ttm=T, r=r, sigma=sigma, lambd=lambd, p=p, eta1=eta1, eta2=eta2, exercise=exercise)\n",
    "#     return KouJD.closed_formula_call(x)\n",
    "#\n",
    "# start1 = time.time()\n",
    "# kou1 = scpo.curve_fit(f_Kou, call_strikes, call_prices, p0=x0, bounds=bounds, sigma=c_weights)\n",
    "# end1 = time.time()\n",
    "#\n",
    "# kou_params1 = [round(p,4) for p in kou1[0][:5]]"
   ],
   "metadata": {
    "collapsed": false
   }
  },
  {
   "cell_type": "markdown",
   "source": [
    "##### Method 2. LEAST SQUARES (With Bounds)"
   ],
   "metadata": {
    "collapsed": false
   }
  },
  {
   "cell_type": "code",
   "execution_count": 24,
   "outputs": [
    {
     "name": "stdout",
     "output_type": "stream",
     "text": [
      "   Iteration     Total nfev        Cost      Cost reduction    Step norm     Optimality   \n",
      "       0              1         4.5359e+04                                    4.35e+05    \n",
      "       1              2         4.3792e+03      4.10e+04       6.24e-02       6.96e+04    \n",
      "       2              3         3.8861e+02      3.99e+03       3.34e-02       1.04e+04    \n",
      "       3              4         3.2140e+01      3.56e+02       1.86e-02       1.45e+03    \n",
      "       4              5         2.8943e+00      2.92e+01       1.06e-02       1.90e+02    \n",
      "       5              6         5.1560e-01      2.38e+00       7.02e-03       1.47e+01    \n",
      "       6              9         4.7394e-01      4.17e-02       8.83e-04       5.80e+00    \n",
      "       7             10         4.6661e-01      7.33e-03       8.38e-04       3.54e+00    \n",
      "       8             12         4.6490e-01      1.71e-03       3.22e-04       2.55e+00    \n",
      "       9             13         4.6389e-01      1.01e-03       5.99e-04       2.55e+00    \n",
      "      10             14         4.6187e-01      2.02e-03       1.20e-03       2.52e+00    \n",
      "      11             15         4.5790e-01      3.97e-03       2.39e-03       2.59e+00    \n",
      "      12             17         4.5677e-01      1.13e-03       1.14e-03       2.12e+00    \n",
      "      13             18         4.5589e-01      8.76e-04       6.36e-04       2.90e+00    \n",
      "      14             19         4.5499e-01      9.01e-04       1.75e-04       2.64e+00    \n",
      "      15             20         4.5451e-01      4.81e-04       2.54e-04       2.46e+00    \n",
      "      16             21         4.5353e-01      9.80e-04       5.88e-04       2.51e+00    \n",
      "      17             22         4.5165e-01      1.88e-03       1.20e-03       2.34e+00    \n",
      "      18             23         4.5098e-01      6.71e-04       2.05e-03       5.04e+00    \n",
      "      19             24         4.4818e-01      2.81e-03       2.91e-04       2.64e+00    \n",
      "      20             25         4.4759e-01      5.89e-04       4.56e-04       2.22e+00    \n",
      "      21             26         4.4672e-01      8.68e-04       4.17e-04       2.53e+00    \n",
      "      22             27         4.4598e-01      7.39e-04       5.50e-04       2.26e+00    \n",
      "      23             28         4.4513e-01      8.44e-04       4.60e-04       2.53e+00    \n",
      "      24             29         4.4442e-01      7.14e-04       5.43e-04       2.24e+00    \n",
      "      25             30         4.4358e-01      8.41e-04       4.52e-04       2.52e+00    \n",
      "      26             31         4.4287e-01      7.09e-04       5.42e-04       2.23e+00    \n",
      "      27             32         4.4204e-01      8.37e-04       4.51e-04       2.51e+00    \n",
      "      28             33         4.4133e-01      7.03e-04       5.42e-04       2.22e+00    \n",
      "      29             34         4.4050e-01      8.33e-04       4.49e-04       2.50e+00    \n",
      "      30             35         4.3980e-01      6.98e-04       5.41e-04       2.21e+00    \n",
      "      31             36         4.3897e-01      8.29e-04       4.48e-04       2.49e+00    \n",
      "      32             37         4.3828e-01      6.92e-04       5.40e-04       2.20e+00    \n",
      "      33             38         4.3746e-01      8.25e-04       4.47e-04       2.48e+00    \n",
      "      34             39         4.3677e-01      6.87e-04       5.40e-04       2.19e+00    \n",
      "      35             40         4.3595e-01      8.21e-04       4.45e-04       2.47e+00    \n",
      "      36             41         4.3527e-01      6.82e-04       5.39e-04       2.18e+00    \n",
      "      37             42         4.3445e-01      8.17e-04       4.44e-04       2.45e+00    \n",
      "      38             43         4.3377e-01      6.77e-04       5.38e-04       2.16e+00    \n",
      "      39             44         4.3296e-01      8.14e-04       4.43e-04       2.44e+00    \n",
      "      40             45         4.3229e-01      6.71e-04       5.37e-04       2.15e+00    \n",
      "      41             46         4.3148e-01      8.10e-04       4.42e-04       2.43e+00    \n",
      "      42             47         4.3081e-01      6.66e-04       5.37e-04       2.14e+00    \n",
      "      43             48         4.3000e-01      8.06e-04       4.40e-04       2.42e+00    \n",
      "      44             49         4.2934e-01      6.61e-04       5.36e-04       2.13e+00    \n",
      "      45             50         4.2854e-01      8.03e-04       4.39e-04       2.41e+00    \n",
      "      46             51         4.2788e-01      6.56e-04       5.35e-04       2.12e+00    \n",
      "      47             52         4.2708e-01      7.99e-04       4.38e-04       2.41e+00    \n",
      "      48             53         4.2643e-01      6.51e-04       5.35e-04       2.11e+00    \n",
      "      49             54         4.2564e-01      7.96e-04       4.37e-04       2.40e+00    \n",
      "      50             55         4.2499e-01      6.46e-04       5.34e-04       2.10e+00    \n",
      "      51             56         4.2420e-01      7.92e-04       4.35e-04       2.39e+00    \n",
      "      52             57         4.2356e-01      6.41e-04       5.33e-04       2.09e+00    \n",
      "      53             58         4.2277e-01      7.89e-04       4.34e-04       2.38e+00    \n",
      "      54             59         4.2213e-01      6.36e-04       5.33e-04       2.08e+00    \n",
      "      55             60         4.2135e-01      7.85e-04       4.33e-04       2.37e+00    \n",
      "      56             61         4.2071e-01      6.32e-04       5.32e-04       2.08e+00    \n",
      "      57             62         4.1993e-01      7.82e-04       4.32e-04       2.36e+00    \n",
      "      58             63         4.1931e-01      6.27e-04       5.31e-04       2.07e+00    \n",
      "      59             64         4.1853e-01      7.79e-04       4.31e-04       2.35e+00    \n",
      "      60             65         4.1791e-01      6.22e-04       5.31e-04       2.06e+00    \n",
      "      61             66         4.1713e-01      7.75e-04       4.30e-04       2.34e+00    \n",
      "      62             67         4.1651e-01      6.17e-04       5.30e-04       2.05e+00    \n",
      "      63             68         4.1574e-01      7.72e-04       4.28e-04       2.33e+00    \n",
      "      64             69         4.1513e-01      6.13e-04       5.29e-04       2.04e+00    \n",
      "      65             70         4.1436e-01      7.69e-04       4.27e-04       2.32e+00    \n",
      "      66             71         4.1375e-01      6.08e-04       5.29e-04       2.03e+00    \n",
      "      67             72         4.1299e-01      7.66e-04       4.26e-04       2.31e+00    \n",
      "      68             73         4.1238e-01      6.03e-04       5.28e-04       2.02e+00    \n",
      "      69             74         4.1162e-01      7.62e-04       4.25e-04       2.30e+00    \n",
      "      70             75         4.1102e-01      5.99e-04       5.27e-04       2.01e+00    \n",
      "      71             76         4.1026e-01      7.59e-04       4.24e-04       2.29e+00    \n",
      "      72             77         4.0967e-01      5.94e-04       5.27e-04       2.00e+00    \n",
      "      73             78         4.0891e-01      7.56e-04       4.23e-04       2.28e+00    \n",
      "      74             79         4.0832e-01      5.90e-04       5.26e-04       1.99e+00    \n",
      "      75             80         4.0757e-01      7.53e-04       4.22e-04       2.27e+00    \n",
      "      76             81         4.0698e-01      5.85e-04       5.25e-04       1.98e+00    \n",
      "      77             82         4.0623e-01      7.50e-04       4.21e-04       2.26e+00    \n",
      "      78             83         4.0565e-01      5.81e-04       5.25e-04       1.97e+00    \n",
      "      79             84         4.0490e-01      7.47e-04       4.20e-04       2.25e+00    \n",
      "      80             85         4.0433e-01      5.76e-04       5.24e-04       1.96e+00    \n",
      "      81             86         4.0358e-01      7.44e-04       4.18e-04       2.25e+00    \n",
      "      82             87         4.0301e-01      5.72e-04       5.24e-04       1.96e+00    \n",
      "      83             88         4.0227e-01      7.41e-04       4.17e-04       2.24e+00    \n",
      "      84             89         4.0170e-01      5.68e-04       5.23e-04       1.95e+00    \n",
      "      85             90         4.0097e-01      7.38e-04       4.16e-04       2.23e+00    \n",
      "      86             91         4.0040e-01      5.63e-04       5.22e-04       1.94e+00    \n",
      "      87             92         3.9967e-01      7.35e-04       4.15e-04       2.22e+00    \n",
      "      88             93         3.9911e-01      5.59e-04       5.22e-04       1.93e+00    \n",
      "      89             94         3.9838e-01      7.32e-04       4.14e-04       2.21e+00    \n",
      "      90             95         3.9782e-01      5.55e-04       5.21e-04       1.92e+00    \n",
      "      91             96         3.9709e-01      7.29e-04       4.13e-04       2.20e+00    \n",
      "      92             97         3.9654e-01      5.51e-04       5.20e-04       1.91e+00    \n",
      "      93             98         3.9581e-01      7.27e-04       4.12e-04       2.19e+00    \n",
      "      94             99         3.9527e-01      5.47e-04       5.20e-04       1.90e+00    \n",
      "      95             100        3.9454e-01      7.24e-04       4.11e-04       2.19e+00    \n",
      "      96             101        3.9400e-01      5.42e-04       5.19e-04       1.90e+00    \n",
      "      97             102        3.9328e-01      7.21e-04       4.10e-04       2.18e+00    \n",
      "      98             103        3.9274e-01      5.38e-04       5.19e-04       1.89e+00    \n",
      "      99             104        3.9202e-01      7.18e-04       4.09e-04       2.17e+00    \n",
      "      100            105        3.9149e-01      5.34e-04       5.18e-04       1.88e+00    \n",
      "      101            106        3.9077e-01      7.16e-04       4.08e-04       2.16e+00    \n",
      "      102            107        3.9024e-01      5.30e-04       5.18e-04       1.87e+00    \n",
      "      103            108        3.8953e-01      7.13e-04       4.07e-04       2.15e+00    \n",
      "      104            109        3.8900e-01      5.26e-04       5.17e-04       1.86e+00    \n",
      "      105            110        3.8829e-01      7.10e-04       4.06e-04       2.14e+00    \n",
      "      106            111        3.8777e-01      5.22e-04       5.16e-04       1.85e+00    \n",
      "      107            112        3.8706e-01      7.08e-04       4.05e-04       2.13e+00    \n",
      "      108            113        3.8655e-01      5.18e-04       5.16e-04       1.85e+00    \n",
      "      109            114        3.8584e-01      7.05e-04       4.04e-04       2.13e+00    \n",
      "      110            115        3.8533e-01      5.14e-04       5.15e-04       1.84e+00    \n",
      "      111            116        3.8462e-01      7.02e-04       4.03e-04       2.12e+00    \n",
      "      112            117        3.8411e-01      5.10e-04       5.15e-04       1.83e+00    \n",
      "      113            118        3.8341e-01      7.00e-04       4.02e-04       2.11e+00    \n",
      "      114            119        3.8291e-01      5.06e-04       5.14e-04       1.82e+00    \n",
      "      115            120        3.8221e-01      6.97e-04       4.01e-04       2.10e+00    \n",
      "      116            121        3.8171e-01      5.03e-04       5.14e-04       1.82e+00    \n",
      "      117            122        3.8101e-01      6.95e-04       4.00e-04       2.09e+00    \n",
      "      118            123        3.8052e-01      4.99e-04       5.13e-04       1.81e+00    \n",
      "      119            124        3.7982e-01      6.92e-04       3.99e-04       2.09e+00    \n",
      "      120            125        3.7933e-01      4.95e-04       5.12e-04       1.80e+00    \n",
      "      121            126        3.7864e-01      6.90e-04       3.98e-04       2.08e+00    \n",
      "      122            127        3.7815e-01      4.91e-04       5.12e-04       1.79e+00    \n",
      "      123            128        3.7746e-01      6.87e-04       3.97e-04       2.07e+00    \n",
      "      124            129        3.7697e-01      4.87e-04       5.11e-04       1.78e+00    \n",
      "      125            130        3.7629e-01      6.85e-04       3.96e-04       2.06e+00    \n",
      "      126            131        3.7580e-01      4.84e-04       5.11e-04       1.78e+00    \n",
      "      127            132        3.7512e-01      6.82e-04       3.96e-04       2.05e+00    \n",
      "      128            133        3.7464e-01      4.80e-04       5.10e-04       1.77e+00    \n",
      "      129            134        3.7396e-01      6.80e-04       3.95e-04       2.05e+00    \n",
      "      130            135        3.7348e-01      4.76e-04       5.10e-04       1.76e+00    \n",
      "      131            136        3.7281e-01      6.78e-04       3.94e-04       2.04e+00    \n",
      "      132            137        3.7233e-01      4.73e-04       5.09e-04       1.75e+00    \n",
      "      133            138        3.7166e-01      6.75e-04       3.93e-04       2.03e+00    \n",
      "      134            139        3.7119e-01      4.69e-04       5.09e-04       1.75e+00    \n",
      "      135            140        3.7052e-01      6.73e-04       3.92e-04       2.02e+00    \n",
      "      136            141        3.7005e-01      4.65e-04       5.08e-04       1.74e+00    \n",
      "      137            142        3.6938e-01      6.71e-04       3.91e-04       2.02e+00    \n",
      "      138            143        3.6892e-01      4.62e-04       5.08e-04       1.73e+00    \n",
      "      139            144        3.6825e-01      6.69e-04       3.90e-04       2.01e+00    \n",
      "      140            145        3.6779e-01      4.58e-04       5.07e-04       1.72e+00    \n",
      "      141            146        3.6713e-01      6.66e-04       3.89e-04       2.00e+00    \n",
      "      142            147        3.6667e-01      4.55e-04       5.07e-04       1.72e+00    \n",
      "      143            148        3.6601e-01      6.64e-04       3.88e-04       1.99e+00    \n",
      "      144            149        3.6556e-01      4.51e-04       5.06e-04       1.71e+00    \n",
      "      145            150        3.6489e-01      6.62e-04       3.87e-04       1.99e+00    \n",
      "      146            151        3.6445e-01      4.48e-04       5.06e-04       1.70e+00    \n",
      "      147            152        3.6379e-01      6.60e-04       3.87e-04       1.98e+00    \n",
      "      148            153        3.6334e-01      4.44e-04       5.05e-04       1.70e+00    \n",
      "      149            154        3.6268e-01      6.57e-04       3.86e-04       1.97e+00    \n",
      "      150            155        3.6224e-01      4.41e-04       5.05e-04       1.69e+00    \n",
      "      151            156        3.6159e-01      6.55e-04       3.85e-04       1.96e+00    \n",
      "      152            157        3.6115e-01      4.38e-04       5.04e-04       1.68e+00    \n",
      "      153            158        3.6050e-01      6.53e-04       3.84e-04       1.96e+00    \n",
      "      154            159        3.6006e-01      4.34e-04       5.04e-04       1.67e+00    \n",
      "      155            160        3.5941e-01      6.51e-04       3.83e-04       1.95e+00    \n",
      "      156            161        3.5898e-01      4.31e-04       5.03e-04       1.67e+00    \n",
      "      157            162        3.5833e-01      6.49e-04       3.82e-04       1.94e+00    \n",
      "      158            163        3.5790e-01      4.28e-04       5.03e-04       1.66e+00    \n",
      "      159            164        3.5726e-01      6.47e-04       3.82e-04       1.93e+00    \n",
      "      160            165        3.5683e-01      4.24e-04       5.02e-04       1.65e+00    \n",
      "      161            166        3.5619e-01      6.45e-04       3.81e-04       1.93e+00    \n",
      "      162            167        3.5577e-01      4.21e-04       5.02e-04       1.65e+00    \n",
      "      163            168        3.5513e-01      6.43e-04       3.80e-04       1.92e+00    \n",
      "      164            169        3.5471e-01      4.18e-04       5.01e-04       1.64e+00    \n",
      "      165            170        3.5407e-01      6.41e-04       3.79e-04       1.91e+00    \n",
      "      166            171        3.5365e-01      4.14e-04       5.01e-04       1.63e+00    \n",
      "      167            172        3.5301e-01      6.39e-04       3.78e-04       1.91e+00    \n",
      "      168            173        3.5260e-01      4.11e-04       5.00e-04       1.63e+00    \n",
      "      169            174        3.5197e-01      6.37e-04       3.77e-04       1.90e+00    \n",
      "      170            175        3.5156e-01      4.08e-04       5.00e-04       1.62e+00    \n",
      "      171            176        3.5092e-01      6.35e-04       3.77e-04       1.89e+00    \n",
      "      172            177        3.5052e-01      4.05e-04       4.99e-04       1.61e+00    \n",
      "      173            178        3.4989e-01      6.33e-04       3.76e-04       1.89e+00    \n",
      "      174            179        3.4948e-01      4.02e-04       4.99e-04       1.61e+00    \n",
      "      175            180        3.4885e-01      6.31e-04       3.75e-04       1.88e+00    \n",
      "      176            181        3.4845e-01      3.99e-04       4.98e-04       1.60e+00    \n",
      "      177            182        3.4783e-01      6.29e-04       3.74e-04       1.87e+00    \n",
      "      178            183        3.4743e-01      3.95e-04       4.98e-04       1.59e+00    \n",
      "      179            184        3.4680e-01      6.27e-04       3.73e-04       1.87e+00    \n",
      "      180            185        3.4641e-01      3.92e-04       4.97e-04       1.59e+00    \n",
      "      181            186        3.4579e-01      6.25e-04       3.73e-04       1.86e+00    \n",
      "      182            187        3.4540e-01      3.89e-04       4.97e-04       1.58e+00    \n",
      "      183            188        3.4477e-01      6.23e-04       3.72e-04       1.85e+00    \n",
      "      184            189        3.4439e-01      3.86e-04       4.97e-04       1.58e+00    \n",
      "      185            190        3.4377e-01      6.21e-04       3.71e-04       1.85e+00    \n",
      "      186            191        3.4338e-01      3.83e-04       4.96e-04       1.57e+00    \n",
      "      187            192        3.4276e-01      6.20e-04       3.70e-04       1.84e+00    \n",
      "      188            193        3.4238e-01      3.80e-04       4.96e-04       1.56e+00    \n",
      "      189            194        3.4176e-01      6.18e-04       3.70e-04       1.83e+00    \n",
      "      190            195        3.4139e-01      3.77e-04       4.95e-04       1.56e+00    \n",
      "      191            196        3.4077e-01      6.16e-04       3.69e-04       1.83e+00    \n",
      "      192            197        3.4040e-01      3.74e-04       4.95e-04       1.55e+00    \n",
      "      193            198        3.3978e-01      6.14e-04       3.68e-04       1.82e+00    \n",
      "      194            199        3.3941e-01      3.71e-04       4.94e-04       1.54e+00    \n",
      "      195            200        3.3880e-01      6.12e-04       3.67e-04       1.81e+00    \n",
      "      196            201        3.3843e-01      3.68e-04       4.94e-04       1.54e+00    \n",
      "      197            202        3.3782e-01      6.11e-04       3.67e-04       1.81e+00    \n",
      "      198            203        3.3746e-01      3.65e-04       4.93e-04       1.53e+00    \n",
      "      199            204        3.3685e-01      6.09e-04       3.66e-04       1.80e+00    \n",
      "      200            205        3.3648e-01      3.62e-04       4.93e-04       1.53e+00    \n",
      "      201            206        3.3588e-01      6.07e-04       3.65e-04       1.79e+00    \n",
      "      202            207        3.3552e-01      3.60e-04       4.93e-04       1.52e+00    \n",
      "      203            208        3.3491e-01      6.05e-04       3.64e-04       1.79e+00    \n",
      "      204            209        3.3456e-01      3.57e-04       4.92e-04       1.51e+00    \n",
      "      205            210        3.3395e-01      6.04e-04       3.64e-04       1.78e+00    \n",
      "      206            211        3.3360e-01      3.54e-04       4.92e-04       1.51e+00    \n",
      "      207            212        3.3300e-01      6.02e-04       3.63e-04       1.77e+00    \n",
      "      208            213        3.3264e-01      3.51e-04       4.91e-04       1.50e+00    \n",
      "      209            214        3.3204e-01      6.00e-04       3.62e-04       1.77e+00    \n",
      "      210            215        3.3170e-01      3.48e-04       4.91e-04       1.50e+00    \n",
      "      211            216        3.3110e-01      5.99e-04       3.61e-04       1.76e+00    \n",
      "      212            217        3.3075e-01      3.45e-04       4.90e-04       1.49e+00    \n",
      "      213            218        3.3016e-01      5.97e-04       3.61e-04       1.76e+00    \n",
      "      214            219        3.2981e-01      3.43e-04       4.90e-04       1.48e+00    \n",
      "      215            220        3.2922e-01      5.95e-04       3.60e-04       1.75e+00    \n",
      "      216            221        3.2888e-01      3.40e-04       4.90e-04       1.48e+00    \n",
      "      217            222        3.2828e-01      5.94e-04       3.59e-04       1.74e+00    \n",
      "      218            223        3.2795e-01      3.37e-04       4.89e-04       1.47e+00    \n",
      "      219            224        3.2735e-01      5.92e-04       3.59e-04       1.74e+00    \n",
      "      220            225        3.2702e-01      3.34e-04       4.89e-04       1.47e+00    \n",
      "      221            226        3.2643e-01      5.91e-04       3.58e-04       1.73e+00    \n",
      "      222            227        3.2610e-01      3.32e-04       4.88e-04       1.46e+00    \n",
      "      223            228        3.2551e-01      5.89e-04       3.57e-04       1.72e+00    \n",
      "      224            229        3.2518e-01      3.29e-04       4.88e-04       1.46e+00    \n",
      "      225            230        3.2459e-01      5.88e-04       3.57e-04       1.72e+00    \n",
      "      226            231        3.2427e-01      3.26e-04       4.88e-04       1.45e+00    \n",
      "      227            232        3.2368e-01      5.86e-04       3.56e-04       1.71e+00    \n",
      "      228            233        3.2336e-01      3.24e-04       4.87e-04       1.44e+00    \n",
      "      229            234        3.2277e-01      5.84e-04       3.55e-04       1.71e+00    \n",
      "      230            235        3.2245e-01      3.21e-04       4.87e-04       1.44e+00    \n",
      "      231            236        3.2187e-01      5.83e-04       3.55e-04       1.70e+00    \n",
      "      232            237        3.2155e-01      3.18e-04       4.86e-04       1.43e+00    \n",
      "      233            238        3.2097e-01      5.81e-04       3.54e-04       1.69e+00    \n",
      "      234            239        3.2065e-01      3.16e-04       4.86e-04       1.43e+00    \n",
      "      235            240        3.2007e-01      5.80e-04       3.53e-04       1.69e+00    \n",
      "      236            241        3.1976e-01      3.13e-04       4.86e-04       1.42e+00    \n",
      "      237            242        3.1918e-01      5.78e-04       3.53e-04       1.68e+00    \n",
      "      238            243        3.1887e-01      3.11e-04       4.85e-04       1.42e+00    \n",
      "      239            244        3.1829e-01      5.77e-04       3.52e-04       1.68e+00    \n",
      "      240            245        3.1799e-01      3.08e-04       4.85e-04       1.41e+00    \n",
      "      241            246        3.1741e-01      5.76e-04       3.51e-04       1.67e+00    \n",
      "      242            247        3.1710e-01      3.05e-04       4.84e-04       1.41e+00    \n",
      "      243            248        3.1653e-01      5.74e-04       3.51e-04       1.67e+00    \n",
      "      244            249        3.1623e-01      3.03e-04       4.84e-04       1.40e+00    \n",
      "      245            250        3.1565e-01      5.73e-04       3.50e-04       1.66e+00    \n",
      "      246            251        3.1535e-01      3.00e-04       4.84e-04       1.40e+00    \n",
      "      247            252        3.1478e-01      5.71e-04       3.49e-04       1.65e+00    \n",
      "      248            253        3.1449e-01      2.98e-04       4.83e-04       1.39e+00    \n",
      "      249            254        3.1392e-01      5.70e-04       3.49e-04       1.65e+00    \n",
      "      250            255        3.1362e-01      2.95e-04       4.83e-04       1.38e+00    \n",
      "      251            256        3.1305e-01      5.68e-04       3.48e-04       1.64e+00    \n",
      "      252            257        3.1276e-01      2.93e-04       4.82e-04       1.38e+00    \n",
      "      253            258        3.1219e-01      5.67e-04       3.47e-04       1.64e+00    \n",
      "      254            259        3.1190e-01      2.90e-04       4.82e-04       1.37e+00    \n",
      "      255            260        3.1134e-01      5.66e-04       3.47e-04       1.63e+00    \n",
      "      256            261        3.1105e-01      2.88e-04       4.82e-04       1.37e+00    \n",
      "      257            262        3.1048e-01      5.64e-04       3.46e-04       1.63e+00    \n",
      "      258            263        3.1020e-01      2.86e-04       4.81e-04       1.36e+00    \n",
      "      259            264        3.0964e-01      5.63e-04       3.46e-04       1.62e+00    \n",
      "      260            265        3.0935e-01      2.83e-04       4.81e-04       1.36e+00    \n",
      "      261            266        3.0879e-01      5.62e-04       3.45e-04       1.61e+00    \n",
      "      262            267        3.0851e-01      2.81e-04       4.81e-04       1.35e+00    \n",
      "      263            268        3.0795e-01      5.60e-04       3.44e-04       1.61e+00    \n",
      "      264            269        3.0767e-01      2.78e-04       4.80e-04       1.35e+00    \n",
      "      265            270        3.0711e-01      5.59e-04       3.44e-04       1.60e+00    \n",
      "      266            271        3.0684e-01      2.76e-04       4.80e-04       1.34e+00    \n",
      "      267            272        3.0628e-01      5.58e-04       3.43e-04       1.60e+00    \n",
      "      268            273        3.0601e-01      2.74e-04       4.80e-04       1.34e+00    \n",
      "      269            274        3.0545e-01      5.56e-04       3.42e-04       1.59e+00    \n",
      "      270            275        3.0518e-01      2.71e-04       4.79e-04       1.33e+00    \n",
      "      271            276        3.0462e-01      5.55e-04       3.42e-04       1.59e+00    \n",
      "      272            277        3.0435e-01      2.69e-04       4.79e-04       1.33e+00    \n",
      "      273            278        3.0380e-01      5.54e-04       3.41e-04       1.58e+00    \n",
      "      274            279        3.0353e-01      2.67e-04       4.78e-04       1.32e+00    \n",
      "      275            280        3.0298e-01      5.52e-04       3.41e-04       1.58e+00    \n",
      "      276            281        3.0272e-01      2.64e-04       4.78e-04       1.32e+00    \n",
      "      277            282        3.0217e-01      5.51e-04       3.40e-04       1.57e+00    \n",
      "      278            283        3.0190e-01      2.62e-04       4.78e-04       1.31e+00    \n",
      "      279            284        3.0135e-01      5.50e-04       3.40e-04       1.57e+00    \n",
      "      280            285        3.0109e-01      2.60e-04       4.77e-04       1.31e+00    \n",
      "      281            286        3.0055e-01      5.49e-04       3.39e-04       1.56e+00    \n",
      "      282            287        3.0029e-01      2.57e-04       4.77e-04       1.30e+00    \n",
      "      283            288        2.9974e-01      5.47e-04       3.38e-04       1.56e+00    \n",
      "      284            289        2.9949e-01      2.55e-04       4.77e-04       1.30e+00    \n",
      "      285            290        2.9894e-01      5.46e-04       3.38e-04       1.55e+00    \n",
      "      286            291        2.9869e-01      2.53e-04       4.76e-04       1.29e+00    \n",
      "      287            292        2.9814e-01      5.45e-04       3.37e-04       1.55e+00    \n",
      "      288            293        2.9789e-01      2.51e-04       4.76e-04       1.29e+00    \n",
      "      289            294        2.9735e-01      5.44e-04       3.37e-04       1.54e+00    \n",
      "      290            295        2.9710e-01      2.48e-04       4.76e-04       1.28e+00    \n",
      "      291            296        2.9656e-01      5.43e-04       3.36e-04       1.54e+00    \n",
      "      292            297        2.9631e-01      2.46e-04       4.75e-04       1.28e+00    \n",
      "      293            298        2.9577e-01      5.41e-04       3.35e-04       1.53e+00    \n",
      "      294            299        2.9552e-01      2.44e-04       4.75e-04       1.28e+00    \n",
      "      295            300        2.9498e-01      5.40e-04       3.35e-04       1.53e+00    \n",
      "      296            301        2.9474e-01      2.42e-04       4.75e-04       1.27e+00    \n",
      "      297            302        2.9420e-01      5.39e-04       3.34e-04       1.52e+00    \n",
      "      298            303        2.9396e-01      2.40e-04       4.74e-04       1.27e+00    \n",
      "      299            304        2.9343e-01      5.38e-04       3.34e-04       1.51e+00    \n",
      "      300            305        2.9319e-01      2.38e-04       4.74e-04       1.26e+00    \n",
      "      301            306        2.9265e-01      5.37e-04       3.33e-04       1.51e+00    \n",
      "      302            307        2.9242e-01      2.35e-04       4.74e-04       1.26e+00    \n",
      "      303            308        2.9188e-01      5.36e-04       3.33e-04       1.50e+00    \n",
      "      304            309        2.9165e-01      2.33e-04       4.73e-04       1.25e+00    \n",
      "      305            310        2.9111e-01      5.34e-04       3.32e-04       1.50e+00    \n",
      "      306            311        2.9088e-01      2.31e-04       4.73e-04       1.25e+00    \n",
      "      307            312        2.9035e-01      5.33e-04       3.32e-04       1.50e+00    \n",
      "      308            313        2.9012e-01      2.29e-04       4.73e-04       1.24e+00    \n",
      "      309            314        2.8959e-01      5.32e-04       3.31e-04       1.49e+00    \n",
      "      310            315        2.8936e-01      2.27e-04       4.72e-04       1.24e+00    \n",
      "      311            316        2.8883e-01      5.31e-04       3.31e-04       1.49e+00    \n",
      "      312            317        2.8860e-01      2.25e-04       4.72e-04       1.23e+00    \n",
      "      313            318        2.8807e-01      5.30e-04       3.30e-04       1.48e+00    \n",
      "      314            319        2.8785e-01      2.23e-04       4.72e-04       1.23e+00    \n",
      "      315            320        2.8732e-01      5.29e-04       3.29e-04       1.48e+00    \n",
      "      316            321        2.8710e-01      2.21e-04       4.71e-04       1.23e+00    \n",
      "      317            322        2.8657e-01      5.28e-04       3.29e-04       1.47e+00    \n",
      "      318            323        2.8635e-01      2.19e-04       4.71e-04       1.22e+00    \n",
      "      319            324        2.8583e-01      5.27e-04       3.28e-04       1.47e+00    \n",
      "      320            325        2.8561e-01      2.17e-04       4.71e-04       1.22e+00    \n",
      "      321            326        2.8508e-01      5.26e-04       3.28e-04       1.46e+00    \n",
      "      322            327        2.8487e-01      2.15e-04       4.70e-04       1.21e+00    \n",
      "      323            328        2.8434e-01      5.25e-04       3.27e-04       1.46e+00    \n",
      "      324            329        2.8413e-01      2.13e-04       4.70e-04       1.21e+00    \n",
      "      325            330        2.8361e-01      5.24e-04       3.27e-04       1.45e+00    \n",
      "      326            331        2.8340e-01      2.11e-04       4.70e-04       1.20e+00    \n",
      "      327            332        2.8288e-01      5.23e-04       3.26e-04       1.45e+00    \n",
      "      328            333        2.8267e-01      2.09e-04       4.70e-04       1.20e+00    \n",
      "      329            334        2.8214e-01      5.22e-04       3.26e-04       1.44e+00    \n",
      "      330            335        2.8194e-01      2.07e-04       4.69e-04       1.19e+00    \n",
      "      331            336        2.8142e-01      5.21e-04       3.25e-04       1.44e+00    \n",
      "      332            337        2.8121e-01      2.05e-04       4.69e-04       1.19e+00    \n",
      "      333            338        2.8069e-01      5.20e-04       3.25e-04       1.43e+00    \n",
      "      334            339        2.8049e-01      2.03e-04       4.69e-04       1.19e+00    \n",
      "      335            340        2.7997e-01      5.19e-04       3.24e-04       1.43e+00    \n",
      "      336            341        2.7977e-01      2.01e-04       4.68e-04       1.18e+00    \n",
      "      337            342        2.7925e-01      5.18e-04       3.24e-04       1.42e+00    \n",
      "      338            343        2.7905e-01      1.99e-04       4.68e-04       1.18e+00    \n",
      "      339            344        2.7854e-01      5.17e-04       3.23e-04       1.42e+00    \n",
      "      340            345        2.7834e-01      1.97e-04       4.68e-04       1.17e+00    \n",
      "      341            346        2.7783e-01      5.16e-04       3.23e-04       1.41e+00    \n",
      "      342            347        2.7763e-01      1.95e-04       4.67e-04       1.17e+00    \n",
      "      343            348        2.7712e-01      5.15e-04       3.22e-04       1.41e+00    \n",
      "      344            349        2.7692e-01      1.93e-04       4.67e-04       1.17e+00    \n",
      "      345            350        2.7668e-01      2.38e-04       8.04e-05       1.23e+00    \n",
      "      346            351        2.7638e-01      3.08e-04       2.01e-04       1.33e+00    \n",
      "      347            352        2.7609e-01      2.85e-04       2.86e-04       1.33e+00    \n",
      "      348            353        2.7552e-01      5.69e-04       5.74e-04       1.32e+00    \n",
      "      349            354        2.7439e-01      1.13e-03       1.15e-03       1.33e+00    \n",
      "      350            355        2.7232e-01      2.07e-03       2.29e-03       1.17e+00    \n",
      "      351            358        2.7198e-01      3.36e-04       1.81e-04       1.28e+00    \n",
      "      352            359        2.7170e-01      2.78e-04       2.80e-04       1.31e+00    \n",
      "      353            360        2.7115e-01      5.56e-04       5.73e-04       1.28e+00    \n",
      "      354            361        2.7009e-01      1.06e-03       1.13e-03       1.36e+00    \n",
      "      355            363        2.6988e-01      2.09e-04       4.80e-04       1.13e+00    \n",
      "      356            364        2.6940e-01      4.82e-04       3.25e-04       1.36e+00    \n",
      "      357            365        2.6924e-01      1.57e-04       4.55e-04       1.12e+00    \n",
      "      358            366        2.6900e-01      2.39e-04       7.83e-05       1.18e+00    \n",
      "      359            367        2.6870e-01      3.04e-04       1.96e-04       1.28e+00    \n",
      "      360            368        2.6842e-01      2.76e-04       2.85e-04       1.28e+00    \n",
      "      361            369        2.6787e-01      5.52e-04       5.72e-04       1.27e+00    \n",
      "      362            370        2.6677e-01      1.10e-03       1.14e-03       1.29e+00    \n",
      "      363            371        2.6533e-01      1.45e-03       2.27e-03       1.46e+00    \n",
      "      364            373        2.6445e-01      8.77e-04       2.53e-04       1.26e+00    \n",
      "      365            374        2.6391e-01      5.43e-04       5.71e-04       1.25e+00    \n",
      "      366            375        2.6282e-01      1.08e-03       1.14e-03       1.25e+00    \n",
      "      367            376        2.6068e-01      2.14e-03       2.29e-03       1.21e+00    \n",
      "      368            377        2.5967e-01      1.01e-03       4.38e-03       4.76e+00    \n",
      "      369            378        2.5666e-01      3.01e-03       5.26e-04       1.08e+00    \n",
      "      370            380        2.5633e-01      3.38e-04       1.69e-04       1.18e+00    \n",
      "      371            381        2.5607e-01      2.59e-04       2.73e-04       1.22e+00    \n",
      "      372            382        2.5556e-01      5.12e-04       5.69e-04       1.18e+00    \n",
      "      373            383        2.5473e-01      8.26e-04       1.08e-03       1.32e+00    \n",
      "      374            385        2.5460e-01      1.30e-04       3.66e-04       1.03e+00    \n",
      "      375            386        2.5437e-01      2.34e-04       7.62e-05       1.09e+00    \n",
      "      376            387        2.5408e-01      2.90e-04       1.90e-04       1.19e+00    \n",
      "      377            388        2.5382e-01      2.60e-04       2.84e-04       1.19e+00    \n",
      "      378            389        2.5330e-01      5.18e-04       5.70e-04       1.19e+00    \n",
      "      379            390        2.5227e-01      1.03e-03       1.14e-03       1.20e+00    \n",
      "      380            391        2.5142e-01      8.47e-04       2.24e-03       1.83e+00    \n",
      "      381            393        2.5021e-01      1.22e-03       2.28e-04       1.11e+00    \n",
      "      382            394        2.4984e-01      3.64e-04       4.55e-04       1.26e+00    \n",
      "      383            395        2.4977e-01      7.25e-05       4.13e-04       1.00e+00    \n",
      "      384            396        2.4953e-01      2.41e-04       7.37e-05       1.06e+00    \n",
      "      385            397        2.4923e-01      2.95e-04       1.82e-04       1.16e+00    \n",
      "      386            398        2.4898e-01      2.54e-04       2.82e-04       1.17e+00    \n",
      "      387            399        2.4847e-01      5.07e-04       5.69e-04       1.15e+00    \n",
      "      388            400        2.4749e-01      9.88e-04       1.13e-03       1.20e+00    \n",
      "      389            402        2.4721e-01      2.74e-04       5.15e-04       1.03e+00    \n",
      "      390            403        2.4684e-01      3.73e-04       3.43e-04       1.24e+00    \n",
      "      391            404        2.4677e-01      6.62e-05       4.14e-04       9.84e-01    \n",
      "      392            405        2.4653e-01      2.39e-04       7.33e-05       1.04e+00    \n",
      "      393            406        2.4624e-01      2.92e-04       1.81e-04       1.14e+00    \n",
      "      394            407        2.4599e-01      2.50e-04       2.81e-04       1.15e+00    \n",
      "      395            408        2.4549e-01      5.00e-04       5.69e-04       1.13e+00    \n",
      "      396            409        2.4452e-01      9.73e-04       1.13e-03       1.18e+00    \n",
      "      397            411        2.4427e-01      2.49e-04       5.09e-04       1.01e+00    \n",
      "      398            412        2.4389e-01      3.78e-04       3.35e-04       1.22e+00    \n",
      "      399            413        2.4383e-01      6.06e-05       4.16e-04       9.81e-01    \n",
      "      400            414        2.4359e-01      2.38e-04       7.29e-05       1.02e+00    \n",
      "      401            415        2.4330e-01      2.90e-04       1.80e-04       1.12e+00    \n",
      "      402            416        2.4306e-01      2.47e-04       2.81e-04       1.13e+00    \n",
      "      403            417        2.4256e-01      4.93e-04       5.68e-04       1.12e+00    \n",
      "      404            418        2.4161e-01      9.57e-04       1.12e-03       1.16e+00    \n",
      "      405            420        2.4138e-01      2.27e-04       5.03e-04       9.89e-01    \n",
      "      406            421        2.4100e-01      3.83e-04       3.28e-04       1.20e+00    \n",
      "      407            422        2.4094e-01      5.55e-05       4.18e-04       9.77e-01    \n",
      "      408            423        2.4070e-01      2.37e-04       7.26e-05       1.01e+00    \n",
      "      409            424        2.4042e-01      2.87e-04       1.79e-04       1.10e+00    \n",
      "      410            425        2.4017e-01      2.44e-04       2.81e-04       1.12e+00    \n",
      "      411            426        2.3969e-01      4.87e-04       5.68e-04       1.10e+00    \n",
      "      412            427        2.3875e-01      9.42e-04       1.12e-03       1.15e+00    \n",
      "      413            429        2.3854e-01      2.05e-04       4.97e-04       9.70e-01    \n",
      "      414            430        2.3815e-01      3.88e-04       3.22e-04       1.18e+00    \n",
      "      415            431        2.3810e-01      5.08e-05       4.20e-04       9.73e-01    \n",
      "      416            432        2.3787e-01      2.36e-04       7.22e-05       9.91e-01    \n",
      "      417            433        2.3758e-01      2.84e-04       1.78e-04       1.09e+00    \n",
      "      418            434        2.3734e-01      2.41e-04       2.81e-04       1.10e+00    \n",
      "      419            435        2.3686e-01      4.80e-04       5.67e-04       1.08e+00    \n",
      "      420            436        2.3593e-01      9.28e-04       1.12e-03       1.13e+00    \n",
      "      421            438        2.3575e-01      1.86e-04       4.92e-04       9.52e-01    \n",
      "      422            439        2.3535e-01      3.92e-04       3.16e-04       1.16e+00    \n",
      "      423            440        2.3531e-01      4.65e-05       4.21e-04       9.69e-01    \n",
      "      424            441        2.3507e-01      2.34e-04       7.19e-05       9.76e-01    \n",
      "      425            442        2.3479e-01      2.81e-04       1.77e-04       1.07e+00    \n",
      "      426            443        2.3456e-01      2.37e-04       2.80e-04       1.08e+00    \n",
      "      427            444        2.3408e-01      4.74e-04       5.67e-04       1.07e+00    \n",
      "      428            445        2.3317e-01      9.14e-04       1.12e-03       1.12e+00    \n",
      "      429            447        2.3300e-01      1.68e-04       4.87e-04       9.34e-01    \n",
      "      430            448        2.3260e-01      3.97e-04       3.11e-04       1.14e+00    \n",
      "      431            449        2.3256e-01      4.25e-05       4.23e-04       9.65e-01    \n",
      "      432            450        2.3233e-01      2.33e-04       7.16e-05       9.60e-01    \n",
      "      433            451        2.3205e-01      2.78e-04       1.77e-04       1.06e+00    \n",
      "      434            452        2.3182e-01      2.34e-04       2.80e-04       1.07e+00    \n",
      "      435            453        2.3135e-01      4.68e-04       5.66e-04       1.05e+00    \n",
      "      436            454        2.3045e-01      9.00e-04       1.12e-03       1.10e+00    \n",
      "      437            456        2.3030e-01      1.51e-04       4.82e-04       9.16e-01    \n",
      "      438            457        2.2990e-01      4.01e-04       3.07e-04       1.12e+00    \n",
      "      439            458        2.2986e-01      3.87e-05       4.25e-04       9.60e-01    \n",
      "      440            459        2.2963e-01      2.31e-04       7.13e-05       9.46e-01    \n",
      "      441            460        2.2935e-01      2.75e-04       1.76e-04       1.04e+00    \n",
      "      442            461        2.2912e-01      2.31e-04       2.80e-04       1.05e+00    \n",
      "      443            462        2.2866e-01      4.62e-04       5.66e-04       1.03e+00    \n",
      "      444            463        2.2777e-01      8.87e-04       1.12e-03       1.09e+00    \n",
      "      445            465        2.2764e-01      1.35e-04       4.78e-04       9.00e-01    \n",
      "      446            466        2.2743e-01      2.06e-04       7.56e-05       9.51e-01    \n",
      "      447            467        2.2718e-01      2.47e-04       1.91e-04       1.04e+00    \n",
      "      448            468        2.2696e-01      2.29e-04       2.83e-04       1.03e+00    \n",
      "      449            469        2.2650e-01      4.58e-04       5.64e-04       1.04e+00    \n",
      "      450            470        2.2559e-01      9.07e-04       1.13e-03       1.01e+00    \n",
      "      451            471        2.2454e-01      1.05e-03       2.16e-03       2.18e+00    \n",
      "      452            473        2.2378e-01      7.57e-04       2.85e-04       9.59e-01    \n",
      "      453            474        2.2348e-01      3.00e-04       4.47e-04       1.10e+00    \n",
      "      454            475        2.2347e-01      1.03e-05       3.89e-04       9.69e-01    \n",
      "      455            476        2.2324e-01      2.32e-04       6.99e-05       9.08e-01    \n",
      "      456            477        2.2296e-01      2.74e-04       1.71e-04       1.00e+00    \n",
      "      457            478        2.2274e-01      2.24e-04       2.78e-04       1.01e+00    \n",
      "      458            479        2.2229e-01      4.45e-04       5.64e-04       9.92e-01    \n",
      "      459            480        2.2150e-01      7.99e-04       1.10e-03       1.08e+00    \n",
      "      460            482        2.2149e-01      5.82e-06       4.03e-04       9.67e-01    \n",
      "      461            483        2.2126e-01      2.31e-04       6.96e-05       8.97e-01    \n",
      "      462            484        2.2099e-01      2.72e-04       1.70e-04       9.90e-01    \n",
      "      463            485        2.2076e-01      2.22e-04       2.78e-04       1.00e+00    \n",
      "      464            486        2.2032e-01      4.40e-04       5.64e-04       9.80e-01    \n",
      "      465            487        2.1955e-01      7.79e-04       1.10e-03       1.07e+00    \n",
      "      466            489        2.1955e-01      1.46e-07       3.93e-04       9.67e-01    \n",
      "      467            490        2.1931e-01      2.31e-04       6.93e-05       8.86e-01    \n",
      "      468            491        2.1904e-01      2.71e-04       1.70e-04       9.78e-01    \n",
      "      469            492        2.1882e-01      2.19e-04       2.78e-04       9.92e-01    \n",
      "      470            493        2.1839e-01      4.35e-04       5.63e-04       9.68e-01    \n",
      "      471            494        2.1763e-01      7.54e-04       1.09e-03       1.07e+00    \n",
      "      472            496        2.1763e-01      6.86e-08       3.80e-04       9.61e-01    \n",
      "      473            497        2.1741e-01      2.29e-04       6.92e-05       8.76e-01    \n",
      "      474            498        2.1714e-01      2.68e-04       1.69e-04       9.68e-01    \n",
      "      475            499        2.1692e-01      2.17e-04       2.78e-04       9.81e-01    \n",
      "      476            500        2.1649e-01      4.31e-04       5.63e-04       9.57e-01    \n",
      "The maximum number of function evaluations is exceeded.\n",
      "Function evaluations 500, initial cost 4.5359e+04, final cost 2.1649e-01, first-order optimality 9.57e-01.\n"
     ]
    }
   ],
   "source": [
    "# Define the objective function\n",
    "def cost_function(x, strikes, mkt_prices):\n",
    "    sigm, lamb, p, eta1, eta2 = x\n",
    "    KOU = Kou_pricer(S0=S0, K=strikes, ttm=T, r=r, sigma=sigm, lambd=lamb, p=p, eta1=eta1, eta2=eta2, exercise=exercise)\n",
    "    sq_err = np.sum(c_weights*(KOU.closed_formula_call(strikes) - mkt_prices)**2)\n",
    "    return sq_err\n",
    "\n",
    "start2=time.time()\n",
    "kou2 = scpo.least_squares(cost_function, x0, args=(call_strikes, call_prices),  method='trf', bounds=bounds, verbose=2)\n",
    "end2=time.time()"
   ],
   "metadata": {
    "collapsed": false
   }
  },
  {
   "cell_type": "code",
   "execution_count": 25,
   "outputs": [],
   "source": [
    "kou_params2 = [round(p,4) for p in kou2.x[:5]]"
   ],
   "metadata": {
    "collapsed": false
   }
  },
  {
   "cell_type": "code",
   "execution_count": 26,
   "outputs": [],
   "source": [
    "# print('WEIGHTED OPT: CURVE_FIT (trf)')\n",
    "# print(f'> Calibrated Volatlity [σ] = {kou_params1[0]} \\t {kou_params1[0] * 100}%')\n",
    "# print('> Calibrated Jump intensity [λ] = ', kou_params1[1])\n",
    "# print(f'> Calibrated Upward Jump probability [p] = {kou_params1[2]}, [q] = {round(1 - kou_params1[2], 2)}')\n",
    "# print('> Calibrated Rate of Exp. 1  [η_1] = ', kou_params1[3])\n",
    "# print('> Calibrated Rate of Exp. 2  [η_2] = ', kou_params1[4])\n",
    "# print(f'TIME ELAPSED: {end1-start1} sec')"
   ],
   "metadata": {
    "collapsed": false
   }
  },
  {
   "cell_type": "code",
   "execution_count": 27,
   "outputs": [
    {
     "name": "stdout",
     "output_type": "stream",
     "text": [
      "METHOD 2: Least-squares\n",
      "> Calibrated Volatlity [σ] = 0.3126 \t 31.26%\n",
      "> Calibrated Jump intensity [λ] =  0.74\n",
      "> Calibrated Upward Jump probability [p] = 0.41, [q] = 0.59\n",
      "> Calibrated Rate of Exp. 1  [η_1] =  8.15\n",
      "> Calibrated Rate of Exp. 2  [η_2] =  9.93\n",
      "TIME ELAPSED:  5356.43 sec\n"
     ]
    }
   ],
   "source": [
    "print('METHOD 2: Least-squares')\n",
    "print(f'> Calibrated Volatlity [σ] = {round(kou_params2[0],4)} \\t {round(kou_params2[0]*100,2)}%')\n",
    "print('> Calibrated Jump intensity [λ] = ', round(kou_params2[1],2))\n",
    "print(f'> Calibrated Upward Jump probability [p] = {round(kou_params2[2],2)}, [q] = {round(1-kou_params2[2],2)}')\n",
    "print('> Calibrated Rate of Exp. 1  [η_1] = ', round(kou_params2[3],2))\n",
    "print('> Calibrated Rate of Exp. 2  [η_2] = ', round(kou_params2[4],2))\n",
    "print(f'TIME ELAPSED:  {round(end2-start2,2)} sec')"
   ],
   "metadata": {
    "collapsed": false
   }
  },
  {
   "cell_type": "code",
   "execution_count": 28,
   "outputs": [
    {
     "name": "stdout",
     "output_type": "stream",
     "text": [
      "[0.3126, 0.7377, 0.4119, 8.1512, 9.9261]\n"
     ]
    }
   ],
   "source": [
    "#print(kou_params1)\n",
    "print(kou_params2)"
   ],
   "metadata": {
    "collapsed": false
   }
  },
  {
   "cell_type": "markdown",
   "source": [
    "### Variance Gamma\n"
   ],
   "metadata": {
    "collapsed": false
   }
  },
  {
   "cell_type": "code",
   "execution_count": 29,
   "outputs": [],
   "source": [
    "x0 = [0.25, -0.2, 0.2]   # initial guess: [σ, θ, v]\n",
    "bounds = ( [1e-3, -5, 0], [1, 5, 5] )"
   ],
   "metadata": {
    "collapsed": false
   }
  },
  {
   "cell_type": "markdown",
   "source": [
    "##### Method 1. CURVE FIT (Bounds)"
   ],
   "metadata": {
    "collapsed": false
   }
  },
  {
   "cell_type": "code",
   "execution_count": 30,
   "outputs": [
    {
     "name": "stderr",
     "output_type": "stream",
     "text": [
      "C:\\Users\\ornel\\OneDrive\\Desktop\\TESI\\PythonProjects\\Margin-Loans-Pricing\\python-modules/functions\\VGpricer.py:242: RuntimeWarning: overflow encountered in exp\n",
      "  f = lambda u: ss.norm.cdf(a / np.sqrt(u) + b * np.sqrt(u)) * np.exp((g - 1) * np.log(u)) * np.exp(\n",
      "C:\\Users\\ornel\\OneDrive\\Desktop\\TESI\\PythonProjects\\Margin-Loans-Pricing\\python-modules/functions\\VGpricer.py:242: RuntimeWarning: invalid value encountered in scalar divide\n",
      "  f = lambda u: ss.norm.cdf(a / np.sqrt(u) + b * np.sqrt(u)) * np.exp((g - 1) * np.log(u)) * np.exp(\n",
      "C:\\Users\\ornel\\OneDrive\\Desktop\\TESI\\PythonProjects\\Margin-Loans-Pricing\\python-modules/functions\\VGpricer.py:242: RuntimeWarning: invalid value encountered in scalar multiply\n",
      "  f = lambda u: ss.norm.cdf(a / np.sqrt(u) + b * np.sqrt(u)) * np.exp((g - 1) * np.log(u)) * np.exp(\n",
      "C:\\Users\\ornel\\OneDrive\\Desktop\\TESI\\PythonProjects\\Margin-Loans-Pricing\\python-modules/functions\\VGpricer.py:244: IntegrationWarning: The maximum number of subdivisions (50) has been achieved.\n",
      "  If increasing the limit yields no improvement it is advised to analyze \n",
      "  the integrand in order to determine the difficulties.  If the position of a \n",
      "  local difficulty can be determined (singularity, discontinuity) one will \n",
      "  probably gain from splitting up the interval and calling the integrator \n",
      "  on the subranges.  Perhaps a special-purpose integrator should be used.\n",
      "  result = quad(f, 0, np.inf)\n"
     ]
    }
   ],
   "source": [
    "def f_VG(strikes, sigmax, thetax, nux):\n",
    "    VGamma = VG_pricer(S0=S0, K=None, ttm=T, r=r, q=0, sigma=sigmax, theta=thetax, nu=nux, exercise=exercise)\n",
    "    vg_prices = []\n",
    "    for k in strikes:\n",
    "        vg_prices.append(VGamma.closed_formula_call(k))\n",
    "    return vg_prices\n",
    "\n",
    "start1 = time.time()\n",
    "vg1 = scpo.curve_fit(f_VG, call_strikes, call_prices, p0=x0, bounds=bounds, sigma=c_weights)\n",
    "end1 = time.time()\n",
    "\n",
    "vg_params1 = [round(p,4) for p in vg1[0][:3]]"
   ],
   "metadata": {
    "collapsed": false
   }
  },
  {
   "cell_type": "markdown",
   "source": [
    "##### Method 2. LEAST-SQUARES (Trust Region Reflective, Bounds)"
   ],
   "metadata": {
    "collapsed": false
   }
  },
  {
   "cell_type": "code",
   "execution_count": 31,
   "outputs": [
    {
     "name": "stdout",
     "output_type": "stream",
     "text": [
      "   Iteration     Total nfev        Cost      Cost reduction    Step norm     Optimality   \n",
      "       0              1         1.3559e+02                                    3.84e+03    \n",
      "       1              3         2.2429e+01      1.13e+02       1.11e-01       2.11e+03    \n",
      "       2              5         9.5807e+00      1.28e+01       3.74e-02       4.03e+02    \n",
      "       3              7         9.0877e+00      4.93e-01       1.03e-02       7.45e+01    \n",
      "       4              8         8.8763e+00      2.11e-01       5.05e-03       3.11e+02    \n",
      "       5              9         8.5559e+00      3.20e-01       1.06e-02       1.03e+02    \n",
      "       6             10         8.4149e+00      1.41e-01       4.12e-03       3.34e+02    \n",
      "       7             11         8.2442e+00      1.71e-01       2.61e-03       2.59e+02    \n",
      "       8             12         8.0339e+00      2.10e-01       5.39e-03       1.26e+02    \n",
      "       9             13         7.8425e+00      1.91e-01       4.18e-03       1.53e+02    \n",
      "      10             14         7.4657e+00      3.77e-01       9.79e-03       1.06e+02    \n",
      "      11             15         7.0170e+00      4.49e-01       1.43e-02       3.58e+02    \n",
      "      12             16         6.7590e+00      2.58e-01       2.01e-02       2.01e+02    \n",
      "      13             17         6.3031e+00      4.56e-01       2.31e-03       1.04e+02    \n",
      "      14             18         6.1039e+00      1.99e-01       2.10e-03       1.58e+02    \n",
      "      15             19         5.9202e+00      1.84e-01       5.16e-03       1.31e+02    \n",
      "      16             20         5.5639e+00      3.56e-01       8.89e-03       1.77e+02    \n",
      "      17             21         5.1617e+00      4.02e-01       2.18e-02       1.55e+02    \n",
      "      18             23         4.8368e+00      3.25e-01       2.07e-03       9.03e+01    \n",
      "      19             24         4.6757e+00      1.61e-01       3.11e-03       1.67e+02    \n",
      "      20             25         4.5088e+00      1.67e-01       5.46e-03       1.21e+02    \n",
      "      21             26         4.1998e+00      3.09e-01       8.58e-03       1.88e+02    \n",
      "      22             27         3.9940e+00      2.06e-01       2.18e-02       1.73e+02    \n",
      "      23             28         3.6095e+00      3.84e-01       2.07e-03       8.28e+01    \n",
      "      24             29         3.4440e+00      1.65e-01       2.43e-03       1.47e+02    \n",
      "      25             30         3.2878e+00      1.56e-01       5.43e-03       1.21e+02    \n",
      "      26             31         2.9944e+00      2.93e-01       9.37e-03       1.59e+02    \n",
      "      27             32         2.7231e+00      2.71e-01       2.19e-02       1.42e+02    \n",
      "      28             34         2.4223e+00      3.01e-01       2.02e-03       8.11e+01    \n",
      "      29             35         2.2954e+00      1.27e-01       3.12e-03       1.38e+02    \n",
      "      30             36         2.1628e+00      1.33e-01       5.50e-03       1.05e+02    \n",
      "      31             37         1.9314e+00      2.31e-01       9.25e-03       1.46e+02    \n",
      "      32             38         1.7970e+00      1.34e-01       2.10e-02       1.41e+02    \n",
      "      33             39         1.4942e+00      3.03e-01       2.01e-03       6.44e+01    \n",
      "      34             40         1.3850e+00      1.09e-01       2.77e-03       1.12e+02    \n",
      "      35             41         1.2768e+00      1.08e-01       5.47e-03       8.79e+01    \n",
      "      36             42         1.1008e+00      1.76e-01       9.50e-03       1.16e+02    \n",
      "      37             43         1.0686e+00      3.22e-02       1.99e-02       1.30e+02    \n",
      "      38             44         7.9316e-01      2.75e-01       2.01e-03       5.21e+01    \n",
      "      39             45         7.0913e-01      8.40e-02       2.61e-03       8.26e+01    \n",
      "      40             46         6.3160e-01      7.75e-02       5.36e-03       6.40e+01    \n",
      "      41             47         5.2792e-01      1.04e-01       9.50e-03       8.19e+01    \n",
      "      42             48         4.3856e-01      8.94e-02       8.63e-03       4.03e+01    \n",
      "      43             50         3.9235e-01      4.62e-02       1.31e-03       4.92e+01    \n",
      "      44             51         3.6375e-01      2.86e-02       2.30e-03       5.30e+01    \n",
      "      45             52         3.1001e-01      5.37e-02       5.49e-03       4.42e+01    \n",
      "      46             53         2.4494e-01      6.51e-02       9.85e-03       5.02e+01    \n",
      "      47             54         2.0270e-01      4.22e-02       7.81e-03       3.24e+01    \n",
      "      48             56         1.6804e-01      3.47e-02       1.20e-03       2.87e+01    \n",
      "      49             57         1.5238e-01      1.57e-02       2.09e-03       3.10e+01    \n",
      "      50             58         1.3638e-01      1.60e-02       2.70e-03       2.73e+01    \n",
      "      51             59         1.0824e-01      2.81e-02       5.38e-03       2.42e+01    \n",
      "      52             60         6.9317e-02      3.89e-02       1.09e-02       1.46e+01    \n",
      "      53             62         6.6567e-02      2.75e-03       3.13e-03       1.91e+01    \n",
      "      54             63         5.8360e-02      8.21e-03       8.23e-04       1.68e+01    \n",
      "      55             64         4.8658e-02      9.70e-03       1.94e-03       1.35e+01    \n",
      "      56             65         4.1750e-02      6.91e-03       2.71e-03       1.16e+01    \n",
      "      57             66         3.0895e-02      1.09e-02       5.32e-03       9.85e+00    \n",
      "      58             67         2.7805e-02      3.09e-03       9.62e-03       1.28e+01    \n",
      "      59             68         1.6261e-02      1.15e-02       1.08e-03       5.34e+00    \n",
      "      60             69         1.4601e-02      1.66e-03       1.76e-03       5.51e+00    \n",
      "      61             70         1.1979e-02      2.62e-03       2.00e-03       4.42e+00    \n",
      "      62             71         1.0281e-02      1.70e-03       2.42e-03       4.12e+00    \n",
      "      63             72         8.4841e-03      1.80e-03       2.11e-03       3.33e+00    \n",
      "      64             73         7.6645e-03      8.20e-04       2.17e-03       3.22e+00    \n",
      "      65             74         6.1512e-03      1.51e-03       1.78e-03       2.58e+00    \n",
      "      66             75         5.6371e-03      5.14e-04       2.19e-03       2.46e+00    \n",
      "      67             76         4.4597e-03      1.18e-03       1.65e-03       1.98e+00    \n",
      "      68             77         4.2965e-03      1.63e-04       2.08e-03       1.91e+00    \n",
      "      69             78         3.8016e-03      4.95e-04       3.65e-04       1.75e+00    \n",
      "      70             79         3.2446e-03      5.57e-04       8.90e-04       1.54e+00    \n",
      "      71             80         2.8399e-03      4.05e-04       1.35e-03       1.37e+00    \n",
      "      72             81         2.1918e-03      6.48e-04       2.70e-03       1.08e+00    \n",
      "      73             82         2.0130e-03      1.79e-04       4.81e-03       1.57e+00    \n",
      "      74             83         1.3213e-03      6.92e-04       5.55e-04       6.59e-01    \n",
      "      75             84         1.2672e-03      5.41e-05       9.71e-04       6.01e-01    \n",
      "      76             85         1.1970e-03      7.02e-05       2.00e-04       5.80e-01    \n",
      "      77             86         1.1053e-03      9.17e-05       4.84e-04       5.47e-01    \n",
      "      78             87         9.6627e-04      1.39e-04       1.34e-03       4.72e-01    \n",
      "      79             88         8.9761e-04      6.87e-05       2.55e-03       3.55e-01    \n",
      "      80             89         8.5214e-04      4.55e-05       1.13e-03       5.85e-01    \n",
      "      81             90         7.0381e-04      1.48e-04       2.87e-04       3.16e-01    \n",
      "      82             91         6.7525e-04      2.86e-05       4.34e-04       2.85e-01    \n",
      "      83             92         6.3832e-04      3.69e-05       5.10e-04       2.73e-01    \n",
      "      84             93         6.0974e-04      2.86e-05       6.31e-04       2.44e-01    \n",
      "      85             94         5.8016e-04      2.96e-05       5.37e-04       2.33e-01    \n",
      "      86             95         5.6227e-04      1.79e-05       5.87e-04       2.06e-01    \n",
      "      87             96         5.3672e-04      2.56e-05       4.48e-04       2.02e-01    \n",
      "      88             97         5.2576e-04      1.10e-05       5.63e-04       1.75e-01    \n",
      "      89             98         5.0265e-04      2.31e-05       3.92e-04       1.75e-01    \n",
      "      90             99         4.9717e-04      5.48e-06       5.46e-04       1.49e-01    \n",
      "      91             100        4.8699e-04      1.02e-05       8.67e-05       1.49e-01    \n",
      "      92             101        4.7462e-04      1.24e-05       2.17e-04       1.48e-01    \n",
      "      93             102        4.6450e-04      1.01e-05       3.37e-04       1.40e-01    \n",
      "      94             103        4.4616e-04      1.83e-05       6.80e-04       1.22e-01    \n",
      "      95             104        4.1925e-04      2.69e-05       1.33e-03       9.75e-02    \n",
      "      96             107        4.1502e-04      4.22e-06       1.00e-04       9.02e-02    \n",
      "      97             108        4.1192e-04      3.10e-06       1.70e-04       8.63e-02    \n",
      "      98             109        4.0611e-04      5.82e-06       3.39e-04       7.90e-02    \n",
      "      99             110        3.9599e-04      1.01e-05       6.77e-04       6.45e-02    \n",
      "      100            111        3.8175e-04      1.42e-05       1.35e-03       3.90e-02    \n",
      "      101            114        3.8155e-04      2.00e-07       1.23e-04       3.20e-02    \n",
      "      102            115        3.8096e-04      5.93e-07       2.04e-05       3.27e-02    \n",
      "      103            116        3.8020e-04      7.54e-07       5.09e-05       3.36e-02    \n",
      "      104            117        3.7961e-04      5.97e-07       8.00e-05       3.25e-02    \n",
      "      105            118        3.7850e-04      1.11e-06       1.64e-04       2.89e-02    \n",
      "      106            119        3.7689e-04      1.61e-06       3.13e-04       2.52e-02    \n",
      "      107            121        3.7651e-04      3.75e-07       4.57e-05       2.16e-02    \n",
      "      108            122        3.7614e-04      3.75e-07       5.94e-05       2.20e-02    \n",
      "      109            123        3.7588e-04      2.57e-07       7.04e-05       1.90e-02    \n",
      "      110            124        3.7554e-04      3.37e-07       5.30e-05       1.99e-02    \n",
      "      111            125        3.7536e-04      1.80e-07       6.63e-05       1.67e-02    \n",
      "      112            126        3.7504e-04      3.19e-07       4.60e-05       1.79e-02    \n",
      "      113            127        3.7491e-04      1.28e-07       6.37e-05       1.47e-02    \n",
      "      114            128        3.7461e-04      3.04e-07       4.12e-05       1.61e-02    \n",
      "      115            129        3.7453e-04      7.81e-08       6.08e-05       1.29e-02    \n",
      "      116            130        3.7440e-04      1.37e-07       9.25e-06       1.33e-02    \n",
      "      117            131        3.7422e-04      1.72e-07       2.30e-05       1.38e-02    \n",
      "      118            132        3.7408e-04      1.46e-07       3.49e-05       1.33e-02    \n",
      "      119            133        3.7380e-04      2.78e-07       6.97e-05       1.19e-02    \n",
      "      120            134        3.7331e-04      4.94e-07       1.33e-04       1.01e-02    \n",
      "      121            137        3.7325e-04      5.79e-08       1.31e-05       9.31e-03    \n",
      "      122            138        3.7319e-04      5.94e-08       1.48e-05       9.14e-03    \n",
      "      123            139        3.7307e-04      1.17e-07       2.97e-05       8.64e-03    \n",
      "      124            140        3.7285e-04      2.25e-07       5.77e-05       7.61e-03    \n",
      "      125            141        3.7243e-04      4.19e-07       1.07e-04       5.98e-03    \n",
      "      126            143        3.7230e-04      1.30e-07       4.51e-05       5.05e-03    \n",
      "      127            144        3.7223e-04      6.65e-08       2.72e-05       1.13e-02    \n",
      "      128            145        3.7213e-04      1.02e-07       8.32e-06       5.15e-03    \n",
      "      129            146        3.7209e-04      4.35e-08       9.41e-06       4.46e-03    \n",
      "      130            147        3.7204e-04      4.86e-08       9.28e-06       4.51e-03    \n",
      "      131            148        3.7194e-04      9.66e-08       1.93e-05       4.21e-03    \n",
      "      132            149        3.7175e-04      1.91e-07       3.69e-05       3.72e-03    \n",
      "      133            150        3.7138e-04      3.66e-07       6.82e-05       2.42e-03    \n",
      "      134            152        3.7128e-04      1.02e-07       2.59e-05       9.11e-03    \n",
      "      135            154        3.7120e-04      7.75e-08       7.80e-06       2.64e-03    \n",
      "      136            155        3.7116e-04      4.26e-08       7.06e-06       2.25e-03    \n",
      "      137            156        3.7107e-04      8.76e-08       1.28e-05       2.46e-03    \n",
      "      138            157        3.7100e-04      7.01e-08       2.75e-05       6.36e-03    \n",
      "      139            158        3.7091e-04      9.17e-08       2.24e-05       1.03e-02    \n",
      "      140            159        3.7082e-04      8.95e-08       7.72e-06       2.53e-03    \n",
      "      141            160        3.7078e-04      3.94e-08       6.85e-06       2.22e-03    \n",
      "      142            161        3.7074e-04      4.54e-08       5.80e-06       2.26e-03    \n",
      "      143            162        3.7065e-04      9.10e-08       1.20e-05       2.25e-03    \n",
      "      144            163        3.7047e-04      1.81e-07       2.34e-05       2.27e-03    \n",
      "      145            164        3.7023e-04      2.33e-07       4.67e-05       7.04e-03    \n",
      "      146            166        3.7008e-04      1.52e-07       1.12e-05       2.23e-03    \n",
      "      147            167        3.7000e-04      8.51e-08       1.05e-05       2.29e-03    \n",
      "      148            168        3.6996e-04      3.68e-08       2.40e-05       7.16e-03    \n",
      "      149            169        3.6986e-04      1.01e-07       5.60e-06       4.13e-03    \n",
      "      150            170        3.6977e-04      8.72e-08       1.09e-05       2.31e-03    \n",
      "      151            171        3.6972e-04      4.97e-08       1.23e-05       3.55e-03    \n",
      "      152            172        3.6964e-04      7.95e-08       1.08e-05       2.85e-03    \n",
      "      153            173        3.6960e-04      3.93e-08       1.28e-05       3.95e-03    \n",
      "      154            174        3.6952e-04      8.45e-08       1.08e-05       2.49e-03    \n",
      "      155            175        3.6947e-04      4.59e-08       1.24e-05       3.70e-03    \n",
      "      156            176        3.6939e-04      8.12e-08       1.08e-05       2.72e-03    \n",
      "      157            177        3.6935e-04      4.14e-08       1.26e-05       3.87e-03    \n",
      "      158            178        3.6927e-04      8.34e-08       1.08e-05       2.57e-03    \n",
      "      159            179        3.6922e-04      4.42e-08       1.24e-05       3.76e-03    \n",
      "      160            180        3.6914e-04      8.19e-08       1.08e-05       2.67e-03    \n",
      "      161            181        3.6910e-04      4.22e-08       1.25e-05       3.84e-03    \n",
      "      162            182        3.6901e-04      8.28e-08       1.08e-05       2.60e-03    \n",
      "      163            183        3.6897e-04      4.35e-08       1.24e-05       3.79e-03    \n",
      "      164            184        3.6889e-04      8.22e-08       1.08e-05       2.65e-03    \n",
      "      165            185        3.6885e-04      4.26e-08       1.24e-05       3.82e-03    \n",
      "      166            186        3.6876e-04      8.26e-08       1.08e-05       2.62e-03    \n",
      "      167            187        3.6872e-04      4.31e-08       1.23e-05       3.80e-03    \n",
      "      168            188        3.6864e-04      8.23e-08       1.08e-05       2.64e-03    \n",
      "      169            189        3.6860e-04      4.27e-08       1.23e-05       3.81e-03    \n",
      "      170            190        3.6851e-04      8.24e-08       1.08e-05       2.62e-03    \n",
      "      171            191        3.6847e-04      4.29e-08       1.23e-05       3.81e-03    \n",
      "      172            192        3.6839e-04      8.23e-08       1.08e-05       2.63e-03    \n",
      "      173            193        3.6835e-04      4.27e-08       1.23e-05       3.81e-03    \n",
      "      174            194        3.6826e-04      8.23e-08       1.08e-05       2.63e-03    \n",
      "      175            195        3.6822e-04      4.28e-08       1.23e-05       3.81e-03    \n",
      "      176            196        3.6814e-04      8.23e-08       1.08e-05       2.63e-03    \n",
      "      177            197        3.6810e-04      4.27e-08       1.23e-05       3.81e-03    \n",
      "      178            198        3.6801e-04      8.23e-08       1.08e-05       2.63e-03    \n",
      "      179            199        3.6797e-04      4.27e-08       1.23e-05       3.81e-03    \n",
      "      180            200        3.6789e-04      8.22e-08       1.08e-05       2.63e-03    \n",
      "      181            201        3.6785e-04      4.26e-08       1.23e-05       3.81e-03    \n",
      "      182            202        3.6776e-04      8.22e-08       1.08e-05       2.63e-03    \n",
      "      183            203        3.6772e-04      4.26e-08       1.23e-05       3.81e-03    \n",
      "      184            204        3.6764e-04      8.22e-08       1.08e-05       2.63e-03    \n",
      "      185            205        3.6760e-04      4.25e-08       1.23e-05       3.81e-03    \n",
      "      186            206        3.6751e-04      8.22e-08       1.08e-05       2.63e-03    \n",
      "      187            207        3.6747e-04      4.25e-08       1.23e-05       3.81e-03    \n",
      "      188            208        3.6739e-04      8.21e-08       1.08e-05       2.63e-03    \n",
      "      189            209        3.6735e-04      4.25e-08       1.22e-05       3.81e-03    \n",
      "      190            210        3.6726e-04      8.21e-08       1.08e-05       2.63e-03    \n",
      "      191            211        3.6722e-04      4.24e-08       1.22e-05       3.81e-03    \n",
      "      192            212        3.6714e-04      8.21e-08       1.08e-05       2.63e-03    \n",
      "      193            213        3.6710e-04      4.24e-08       1.22e-05       3.81e-03    \n",
      "      194            214        3.6702e-04      8.21e-08       1.08e-05       2.63e-03    \n",
      "      195            215        3.6697e-04      4.24e-08       1.22e-05       3.81e-03    \n",
      "      196            216        3.6689e-04      8.21e-08       1.08e-05       2.62e-03    \n",
      "      197            217        3.6685e-04      4.23e-08       1.22e-05       3.81e-03    \n",
      "      198            218        3.6677e-04      8.20e-08       1.08e-05       2.62e-03    \n",
      "      199            219        3.6672e-04      4.23e-08       1.22e-05       3.81e-03    \n",
      "      200            220        3.6664e-04      8.20e-08       1.08e-05       2.62e-03    \n",
      "      201            221        3.6660e-04      4.23e-08       1.22e-05       3.81e-03    \n",
      "      202            222        3.6652e-04      8.20e-08       1.08e-05       2.62e-03    \n",
      "      203            223        3.6648e-04      4.22e-08       1.22e-05       3.81e-03    \n",
      "      204            224        3.6639e-04      8.20e-08       1.08e-05       2.62e-03    \n",
      "      205            225        3.6635e-04      4.22e-08       1.22e-05       3.81e-03    \n",
      "      206            226        3.6627e-04      8.20e-08       1.08e-05       2.62e-03    \n",
      "      207            227        3.6623e-04      4.22e-08       1.22e-05       3.81e-03    \n",
      "      208            228        3.6615e-04      8.19e-08       1.08e-05       2.62e-03    \n",
      "      209            229        3.6610e-04      4.21e-08       1.22e-05       3.81e-03    \n",
      "      210            230        3.6602e-04      8.19e-08       1.08e-05       2.62e-03    \n",
      "      211            231        3.6598e-04      4.21e-08       1.22e-05       3.81e-03    \n",
      "      212            232        3.6590e-04      8.19e-08       1.08e-05       2.62e-03    \n",
      "      213            233        3.6586e-04      4.21e-08       1.22e-05       3.81e-03    \n",
      "      214            234        3.6577e-04      8.19e-08       1.08e-05       2.62e-03    \n",
      "      215            235        3.6573e-04      4.20e-08       1.22e-05       3.81e-03    \n",
      "      216            236        3.6565e-04      8.18e-08       1.08e-05       2.62e-03    \n",
      "      217            237        3.6561e-04      4.20e-08       1.22e-05       3.81e-03    \n",
      "      218            238        3.6553e-04      8.18e-08       1.08e-05       2.62e-03    \n",
      "      219            239        3.6548e-04      4.20e-08       1.22e-05       3.81e-03    \n",
      "      220            240        3.6540e-04      8.18e-08       1.08e-05       2.62e-03    \n",
      "      221            241        3.6536e-04      4.19e-08       1.22e-05       3.81e-03    \n",
      "      222            242        3.6528e-04      8.18e-08       1.08e-05       2.62e-03    \n",
      "      223            243        3.6524e-04      4.19e-08       1.22e-05       3.81e-03    \n",
      "      224            244        3.6515e-04      8.18e-08       1.08e-05       2.62e-03    \n",
      "      225            245        3.6511e-04      4.19e-08       1.22e-05       3.81e-03    \n",
      "      226            246        3.6503e-04      8.17e-08       1.08e-05       2.62e-03    \n",
      "      227            247        3.6499e-04      4.18e-08       1.22e-05       3.81e-03    \n",
      "      228            248        3.6491e-04      8.17e-08       1.08e-05       2.62e-03    \n",
      "      229            249        3.6487e-04      4.18e-08       1.22e-05       3.81e-03    \n",
      "      230            250        3.6478e-04      8.17e-08       1.08e-05       2.62e-03    \n",
      "      231            251        3.6474e-04      4.18e-08       1.22e-05       3.81e-03    \n",
      "      232            252        3.6466e-04      8.17e-08       1.08e-05       2.62e-03    \n",
      "      233            253        3.6462e-04      4.17e-08       1.22e-05       3.81e-03    \n",
      "      234            254        3.6454e-04      8.16e-08       1.08e-05       2.62e-03    \n",
      "      235            255        3.6450e-04      4.17e-08       1.22e-05       3.81e-03    \n",
      "      236            256        3.6441e-04      8.16e-08       1.08e-05       2.62e-03    \n",
      "      237            257        3.6437e-04      4.17e-08       1.22e-05       3.81e-03    \n",
      "      238            258        3.6429e-04      8.16e-08       1.08e-05       2.62e-03    \n",
      "      239            259        3.6425e-04      4.16e-08       1.22e-05       3.81e-03    \n",
      "      240            260        3.6417e-04      8.16e-08       1.08e-05       2.62e-03    \n",
      "      241            261        3.6413e-04      4.16e-08       1.22e-05       3.81e-03    \n",
      "      242            262        3.6404e-04      8.16e-08       1.08e-05       2.62e-03    \n",
      "      243            263        3.6400e-04      4.16e-08       1.22e-05       3.81e-03    \n",
      "      244            264        3.6392e-04      8.15e-08       1.08e-05       2.62e-03    \n",
      "      245            265        3.6388e-04      4.15e-08       1.22e-05       3.81e-03    \n",
      "      246            266        3.6380e-04      8.15e-08       1.08e-05       2.62e-03    \n",
      "      247            267        3.6376e-04      4.15e-08       1.22e-05       3.81e-03    \n",
      "      248            268        3.6368e-04      8.15e-08       1.08e-05       2.61e-03    \n",
      "      249            269        3.6363e-04      4.15e-08       1.22e-05       3.81e-03    \n",
      "      250            270        3.6355e-04      8.15e-08       1.08e-05       2.61e-03    \n",
      "      251            271        3.6351e-04      4.14e-08       1.22e-05       3.80e-03    \n",
      "      252            272        3.6343e-04      8.15e-08       1.08e-05       2.61e-03    \n",
      "      253            273        3.6339e-04      4.14e-08       1.22e-05       3.80e-03    \n",
      "      254            274        3.6331e-04      8.14e-08       1.08e-05       2.61e-03    \n",
      "      255            275        3.6326e-04      4.14e-08       1.22e-05       3.80e-03    \n",
      "      256            276        3.6318e-04      8.14e-08       1.08e-05       2.61e-03    \n",
      "      257            277        3.6314e-04      4.14e-08       1.22e-05       3.80e-03    \n",
      "      258            278        3.6306e-04      8.14e-08       1.08e-05       2.61e-03    \n",
      "      259            279        3.6302e-04      4.13e-08       1.22e-05       3.80e-03    \n",
      "      260            280        3.6294e-04      8.14e-08       1.08e-05       2.61e-03    \n",
      "      261            281        3.6290e-04      4.13e-08       1.22e-05       3.80e-03    \n",
      "      262            282        3.6282e-04      8.13e-08       1.08e-05       2.61e-03    \n",
      "      263            283        3.6277e-04      4.13e-08       1.22e-05       3.80e-03    \n",
      "      264            284        3.6269e-04      8.13e-08       1.08e-05       2.61e-03    \n",
      "      265            285        3.6265e-04      4.12e-08       1.22e-05       3.80e-03    \n",
      "      266            286        3.6257e-04      8.13e-08       1.08e-05       2.61e-03    \n",
      "      267            287        3.6253e-04      4.12e-08       1.22e-05       3.80e-03    \n",
      "      268            288        3.6245e-04      8.13e-08       1.08e-05       2.61e-03    \n",
      "      269            289        3.6241e-04      4.12e-08       1.22e-05       3.80e-03    \n",
      "      270            290        3.6233e-04      8.13e-08       1.08e-05       2.61e-03    \n",
      "      271            291        3.6228e-04      4.11e-08       1.22e-05       3.80e-03    \n",
      "      272            292        3.6220e-04      8.12e-08       1.08e-05       2.61e-03    \n",
      "      273            293        3.6216e-04      4.11e-08       1.22e-05       3.80e-03    \n",
      "      274            294        3.6208e-04      8.12e-08       1.08e-05       2.61e-03    \n",
      "      275            295        3.6204e-04      4.11e-08       1.22e-05       3.80e-03    \n",
      "      276            296        3.6196e-04      8.12e-08       1.08e-05       2.61e-03    \n",
      "      277            297        3.6192e-04      4.10e-08       1.22e-05       3.80e-03    \n",
      "      278            298        3.6184e-04      8.12e-08       1.08e-05       2.61e-03    \n",
      "      279            299        3.6180e-04      4.10e-08       1.22e-05       3.80e-03    \n",
      "      280            300        3.6171e-04      8.11e-08       1.08e-05       2.61e-03    \n",
      "The maximum number of function evaluations is exceeded.\n",
      "Function evaluations 300, initial cost 1.3559e+02, final cost 3.6171e-04, first-order optimality 2.61e-03.\n"
     ]
    }
   ],
   "source": [
    "def cost_function(x, strikes, mkt_prices):\n",
    "    sigma, theta, nu = x\n",
    "    VG = VG_pricer(S0, None, T, r, q, sigma, theta, nu, exercise)\n",
    "    prices = []\n",
    "    for k in strikes:\n",
    "        prices.append(VG.closed_formula_call(k))\n",
    "    sq_err = np.sum(c_weights*(prices - mkt_prices)**2)\n",
    "    return sq_err\n",
    "\n",
    "start2=time.time()\n",
    "vg2 = scpo.least_squares(cost_function, x0, args=(call_strikes, call_prices),  method='trf', bounds=bounds, verbose=2, loss='soft_l1')\n",
    "end2=time.time()\n",
    "\n",
    "vg_params2 = [round(p,4) for p in vg2.x[:3]]"
   ],
   "metadata": {
    "collapsed": false
   }
  },
  {
   "cell_type": "code",
   "execution_count": 32,
   "outputs": [
    {
     "name": "stdout",
     "output_type": "stream",
     "text": [
      "WEIGHTED OPT: CURVE_FIT (trf)\n",
      "> Calibrated Volatlity [σ] = 0.3192, \t 31.92%\n",
      "> Calibrated mean rate gamma process [θ] =  0.8335\n",
      "> Calibrated variance rate gamma process [v]=  0.0276\n",
      "TIME ELAPSED:  49.8 sec\n",
      "METHOD 1: LEAST-SQUARES (trf)\n",
      "> Calibrated Volatlity [σ] = 0.3492, \t 34.92%\n",
      "> Calibrated mean rate gamma process [θ] =  0.1579\n",
      "> Calibrated variance rate gamma process [v]=  0.2349\n",
      "TIME ELAPSED:  118.57 sec\n"
     ]
    }
   ],
   "source": [
    "print('WEIGHTED OPT: CURVE_FIT (trf)')\n",
    "print(f'> Calibrated Volatlity [σ] = {vg_params1[0]}, \\t {round(vg_params1[0]*100,2)}%')\n",
    "print('> Calibrated mean rate gamma process [θ] = ', vg_params1[1])\n",
    "print('> Calibrated variance rate gamma process [v]= ', vg_params1[2])\n",
    "print(f'TIME ELAPSED:  {round(end1-start1,2)} sec')\n",
    "\n",
    "print('METHOD 1: LEAST-SQUARES (trf)')\n",
    "print(f'> Calibrated Volatlity [σ] = {vg_params2[0]}, \\t {round(vg_params2[0]*100,2)}%')\n",
    "print('> Calibrated mean rate gamma process [θ] = ', vg_params2[1])\n",
    "print('> Calibrated variance rate gamma process [v]= ', vg_params2[2])\n",
    "print(f'TIME ELAPSED:  {round(end2-start2,2)} sec')"
   ],
   "metadata": {
    "collapsed": false
   }
  },
  {
   "cell_type": "code",
   "execution_count": 33,
   "outputs": [
    {
     "name": "stdout",
     "output_type": "stream",
     "text": [
      "[0.3192, 0.8335, 0.0276]\n",
      "[0.3492, 0.1579, 0.2349]\n"
     ]
    }
   ],
   "source": [
    "print(vg_params1)\n",
    "print(vg_params2)"
   ],
   "metadata": {
    "collapsed": false
   }
  },
  {
   "cell_type": "markdown",
   "source": [
    "### Reprice options using calibrated parameters\n",
    "Once we have calibrated all the models, we test our parameters calibration by repricing the original dataframe of options. The table contains all the **BID**, **ASK** and **MIDPOINT** prices. The calibration is well perfromed if the prices we obtain belong to the interval $[BID, ASK]$."
   ],
   "metadata": {
    "collapsed": false
   },
   "outputs": []
  },
  {
   "cell_type": "code",
   "execution_count": 34,
   "outputs": [
    {
     "name": "stdout",
     "output_type": "stream",
     "text": [
      "MARKET PRICES. STARTING DATE = 20-01-2016. EXPIRY = 1YEAR. \n",
      "\n",
      "   STRIKE  MKT_BID  MKT_MID  MKT_ASK\n",
      "0    22.0     7.15    7.275     7.40\n",
      "1    25.0     5.30    5.375     5.45\n",
      "2    27.0     4.25    4.325     4.40\n",
      "3    30.0     2.98    3.040     3.10\n",
      "4    35.0     1.60    1.640     1.68\n"
     ]
    }
   ],
   "source": [
    "days = 252\n",
    "paths = 1000\n",
    "\n",
    "call_calib_prices = pd.DataFrame({\n",
    "    'STRIKE': calls['STRIKE'],    # array of K for call options\n",
    "    'MKT_BID': calls['C_BID'],\n",
    "    'MKT_MID': calls['C_Midpoint'],\n",
    "    'MKT_ASK': calls['C_ASK'],\n",
    "\n",
    "})\n",
    "print(f'MARKET PRICES. STARTING DATE = 20-01-2016. EXPIRY = 1YEAR. \\n\\n{call_calib_prices}')"
   ],
   "metadata": {
    "collapsed": false
   }
  },
  {
   "cell_type": "markdown",
   "source": [
    "#### Merton Jump Diffusion model"
   ],
   "metadata": {
    "collapsed": false
   }
  },
  {
   "cell_type": "code",
   "execution_count": 35,
   "outputs": [
    {
     "name": "stdout",
     "output_type": "stream",
     "text": [
      "   STRIKE  MKT_BID  MKT_MID  MKT_ASK  MERTON MC  MERTON CF\n",
      "0    22.0     7.15    7.275     7.40   7.133296   7.298275\n",
      "1    25.0     5.30    5.375     5.45   5.249137   5.375353\n",
      "2    27.0     4.25    4.325     4.40   4.234238   4.313391\n",
      "3    30.0     2.98    3.040     3.10   3.019842   3.040625\n",
      "4    35.0     1.60    1.640     1.68   1.643155   1.641204\n"
     ]
    }
   ],
   "source": [
    "sigma, lambd, meanJ, stdJ = mert_params2\n",
    "MertonCAL = Merton_pricer(S0, None, T, r, q, sigma, lambd, meanJ, stdJ, exercise)\n",
    "SMerton_CAL = MertonCAL.MertonPath(days, paths)\n",
    "\n",
    "avg_payoffs = []\n",
    "for k in call_strikes:\n",
    "    payoffs = []        # stores here the payoff for each path, for a specific couple K1-K2\n",
    "    for St in SMerton_CAL[-1]:\n",
    "        payoffs.append(MertonCAL.payoff_call(k, St))\n",
    "    avg_payoffs.append(np.mean(payoffs))\n",
    "\n",
    "merton_mc_prices = np.zeros(len(call_calib_prices))\n",
    "merton_cf_prices = np.zeros(len(call_calib_prices))\n",
    "\n",
    "for index in range(len(call_calib_prices)):\n",
    "    merton_mc_prices[index] = np.exp(-r*T)* avg_payoffs[index]\n",
    "    merton_cf_prices[index] = MertonCAL.closed_formula_call(call_strikes[index])\n",
    "\n",
    "call_calib_prices['MERTON MC'] = merton_mc_prices\n",
    "call_calib_prices['MERTON CF'] = merton_cf_prices\n",
    "\n",
    "print(call_calib_prices)"
   ],
   "metadata": {
    "collapsed": false
   }
  },
  {
   "cell_type": "code",
   "execution_count": 36,
   "outputs": [
    {
     "name": "stdout",
     "output_type": "stream",
     "text": [
      "   STRIKE  MKT_BID  MKT_MID  MKT_ASK    KOU MC    KOU CF\n",
      "0    22.0     7.15    7.275     7.40  7.026815  7.194829\n",
      "1    25.0     5.30    5.375     5.45  5.196960  5.306920\n",
      "2    27.0     4.25    4.325     4.40  4.187714  4.274939\n",
      "3    30.0     2.98    3.040     3.10  2.955599  3.042734\n",
      "4    35.0     1.60    1.640     1.68  1.578537  1.678974\n"
     ]
    }
   ],
   "source": [
    "sigma, lambd, p, eta1, eta2 = kou_params2\n",
    "KouCAL = Kou_pricer(S0, None, T, r, sigma, lambd, p, eta1, eta2, exercise)\n",
    "SKou_CAL = KouCAL.KouPath(days, paths)\n",
    "\n",
    "avg_payoffs = []\n",
    "for k in call_strikes:\n",
    "    payoffs = []        # stores here the payoff for each path, for a specific couple K1-K2\n",
    "    for St in SKou_CAL[-1]:\n",
    "        payoffs.append(KouCAL.payoff_call(k, St))\n",
    "    avg_payoffs.append(np.mean(payoffs))\n",
    "\n",
    "kou_mc_prices = np.zeros(len(call_calib_prices))\n",
    "kou_cf_prices = np.zeros(len(call_calib_prices))\n",
    "\n",
    "for index in range(len(call_calib_prices)):\n",
    "    kou_mc_prices[index] = np.exp(-r*T)* avg_payoffs[index]\n",
    "    kou_cf_prices[index] = KouCAL.closed_formula_call(call_strikes[index])\n",
    "\n",
    "call_calib_prices['KOU MC'] = kou_mc_prices\n",
    "call_calib_prices['KOU CF'] = kou_cf_prices\n",
    "\n",
    "selection = [0,1,2,3,6,7]\n",
    "print(call_calib_prices.iloc[:, selection])"
   ],
   "metadata": {
    "collapsed": false
   }
  },
  {
   "cell_type": "code",
   "execution_count": 37,
   "outputs": [
    {
     "name": "stdout",
     "output_type": "stream",
     "text": [
      "   STRIKE  MKT_BID  MKT_MID  MKT_ASK     VG MC     VG CF\n",
      "0    22.0     7.15    7.275     7.40  6.889689  7.306717\n",
      "1    25.0     5.30    5.375     5.45  5.115323  5.378378\n",
      "2    27.0     4.25    4.325     4.40  4.164663  4.311676\n",
      "3    30.0     2.98    3.040     3.10  3.041169  3.034985\n",
      "4    35.0     1.60    1.640     1.68  1.785861  1.642172\n"
     ]
    }
   ],
   "source": [
    "sigm, theta, nu = vg_params2\n",
    "VGCAL = VG_pricer(S0, None, T, r, q, sigm, theta, nu, exercise)\n",
    "SVarGamma_CAL = VGCAL.VarianceGammaPath2(days, paths)\n",
    "\n",
    "avg_payoffs = []\n",
    "for k in call_strikes:\n",
    "    payoffs = []        # stores here the payoff for each path, for a specific couple K1-K2\n",
    "    for St in SVarGamma_CAL[-1]:\n",
    "        payoffs.append(VGCAL.payoff_call(k, St))\n",
    "    avg_payoffs.append(np.mean(payoffs))\n",
    "\n",
    "vg_mc_prices = np.zeros(len(call_calib_prices))\n",
    "vg_cf_prices = np.zeros(len(call_calib_prices))\n",
    "\n",
    "for index in range(len(call_calib_prices)):\n",
    "    vg_mc_prices[index] = np.exp(-r*T)* avg_payoffs[index]\n",
    "    vg_cf_prices[index] = VGCAL.closed_formula_call(call_strikes[index])\n",
    "\n",
    "call_calib_prices['VG MC'] = vg_mc_prices\n",
    "call_calib_prices['VG CF'] = vg_cf_prices\n",
    "\n",
    "selection = [0,1,2,3,8,9]\n",
    "print(call_calib_prices.iloc[:, selection])"
   ],
   "metadata": {
    "collapsed": false
   }
  },
  {
   "cell_type": "code",
   "execution_count": 38,
   "outputs": [
    {
     "name": "stdout",
     "output_type": "stream",
     "text": [
      "   STRIKE  MKT_BID  MKT_MID  MKT_ASK  MERTON MC  MERTON CF    KOU MC   \n",
      "0    22.0     7.15    7.275     7.40   7.133296   7.298275  7.026815  \\\n",
      "1    25.0     5.30    5.375     5.45   5.249137   5.375353  5.196960   \n",
      "2    27.0     4.25    4.325     4.40   4.234238   4.313391  4.187714   \n",
      "3    30.0     2.98    3.040     3.10   3.019842   3.040625  2.955599   \n",
      "4    35.0     1.60    1.640     1.68   1.643155   1.641204  1.578537   \n",
      "\n",
      "     KOU CF     VG MC     VG CF  \n",
      "0  7.194829  6.889689  7.306717  \n",
      "1  5.306920  5.115323  5.378378  \n",
      "2  4.274939  4.164663  4.311676  \n",
      "3  3.042734  3.041169  3.034985  \n",
      "4  1.678974  1.785861  1.642172  \n"
     ]
    }
   ],
   "source": [
    "print(call_calib_prices)"
   ],
   "metadata": {
    "collapsed": false
   }
  },
  {
   "cell_type": "markdown",
   "source": [
    "### Visualize calibration results"
   ],
   "metadata": {
    "collapsed": false
   }
  },
  {
   "cell_type": "markdown",
   "source": [
    "#### Closed Formulas Option pricing"
   ],
   "metadata": {
    "collapsed": false
   }
  },
  {
   "cell_type": "code",
   "execution_count": 39,
   "outputs": [
    {
     "data": {
      "text/plain": "<Figure size 1700x400 with 3 Axes>",
      "image/png": "[encoded data removed]"
     },
     "metadata": {},
     "output_type": "display_data"
    }
   ],
   "source": [
    "fig = plt.figure(figsize=(17, 4))\n",
    "ax1 = fig.add_subplot(131)\n",
    "ax2 = fig.add_subplot(132)\n",
    "ax3 = fig.add_subplot(133)\n",
    "ax1.plot(call_strikes, call_prices, \".\", label=\"midpoint\")\n",
    "ax2.plot(call_strikes, call_prices, \".\", label=\"midpoint\")\n",
    "ax3.plot(call_strikes, call_prices, \".\", label=\"midpoint\")\n",
    "ax1.plot(call_strikes, merton_cf_prices, label=\"Merton\")\n",
    "ax2.plot(call_strikes, kou_cf_prices, label=\"Kou\")\n",
    "ax3.plot(call_strikes, vg_cf_prices, label=\"VG\")\n",
    "ax1.set_title(\"Merton model\")\n",
    "ax2.set_title(\"Kou model\")\n",
    "ax3.set_title(\"VG model\")\n",
    "ax1.set_xlabel(\"strike\")\n",
    "ax2.set_xlabel(\"strike\")\n",
    "ax3.set_xlabel(\"strike\")\n",
    "ax1.legend()\n",
    "ax2.legend()\n",
    "ax3.legend()\n",
    "plt.show()"
   ],
   "metadata": {
    "collapsed": false
   }
  },
  {
   "cell_type": "markdown",
   "source": [
    "#### Monte Carlo option pricing"
   ],
   "metadata": {
    "collapsed": false
   }
  },
  {
   "cell_type": "code",
   "execution_count": 40,
   "outputs": [
    {
     "data": {
      "text/plain": "<Figure size 1700x400 with 3 Axes>",
      "image/png": "[encoded data removed]"
     },
     "metadata": {},
     "output_type": "display_data"
    }
   ],
   "source": [
    "fig = plt.figure(figsize=(17, 4))\n",
    "ax1 = fig.add_subplot(131)\n",
    "ax2 = fig.add_subplot(132)\n",
    "ax3 = fig.add_subplot(133)\n",
    "ax1.plot(call_strikes, call_prices, \".\", label=\"midpoint\")\n",
    "ax2.plot(call_strikes, call_prices, \".\", label=\"midpoint\")\n",
    "ax3.plot(call_strikes, call_prices, \".\", label=\"midpoint\")\n",
    "ax1.plot(call_strikes, merton_mc_prices, label=\"Merton\")\n",
    "ax2.plot(call_strikes, kou_mc_prices, label=\"Kou\")\n",
    "ax3.plot(call_strikes, vg_mc_prices, label=\"VG\")\n",
    "ax1.set_title(\"Merton model\")\n",
    "ax2.set_title(\"Kou model\")\n",
    "ax3.set_title(\"VG model\")\n",
    "ax1.set_xlabel(\"strike\")\n",
    "ax2.set_xlabel(\"strike\")\n",
    "ax3.set_xlabel(\"strike\")\n",
    "ax1.legend()\n",
    "ax2.legend()\n",
    "ax3.legend()\n",
    "plt.show()"
   ],
   "metadata": {
    "collapsed": false
   }
  },
  {
   "cell_type": "code",
   "execution_count": null,
   "outputs": [],
   "source": [],
   "metadata": {
    "collapsed": false
   }
  }
 ],
 "metadata": {
  "kernelspec": {
   "display_name": "Python 3",
   "language": "python",
   "name": "python3"
  },
  "language_info": {
   "codemirror_mode": {
    "name": "ipython",
    "version": 2
   },
   "file_extension": ".py",
   "mimetype": "text/x-python",
   "name": "python",
   "nbconvert_exporter": "python",
   "pygments_lexer": "ipython2",
   "version": "2.7.6"
  }
 },
 "nbformat": 4,
 "nbformat_minor": 0
}
