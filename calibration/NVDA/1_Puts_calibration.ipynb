{
 "cells": [
  {
   "cell_type": "markdown",
   "source": [
    "# Calibration of Black and Scholes, Merton, Kou, Variance Gamma parameters\n",
    "This notebook aims to find the optimal parameters of **Black-Scholes**, **Merton Jump Diffusion**, **Kou Jump Diffusion** and **Variance Gamma** models. To do so, we compute the european option prices using **closed formulas**, available for all the 4 models, and the **Fast Fourier Transform** for the VG model. Given these theoretical prices, the **implied volatilities** are computed comparing them with real market prices, minimizing their difference. Then we estimate the additional parameters of each model, using the python module `scipy.optimize`.\n",
    "\n",
    "*reference: https://github.com/cantaro86/Financial-Models-Numerical-Methods/tree/master*\n"
   ],
   "metadata": {
    "collapsed": false
   }
  },
  {
   "cell_type": "code",
   "execution_count": 39,
   "metadata": {
    "collapsed": true,
    "ExecuteTime": {
     "end_time": "2023-09-01T00:05:55.097103Z",
     "start_time": "2023-09-01T00:05:55.080983400Z"
    }
   },
   "outputs": [],
   "source": [
    "import numpy as np\n",
    "import pandas as pd\n",
    "import matplotlib.pyplot as plt\n",
    "import random\n",
    "import scipy.optimize as scpo\n",
    "import sys\n",
    "sys.path.append('C:/Users\\ornel\\PycharmProjects\\Margin-Loans-Pricing/functions')\n",
    "sys.path.append('C:/Users/ornel/PycharmProjects/Margin-Loans-Pricing/calibration')\n",
    "import time\n",
    "plt.style.use('default')\n",
    "\n",
    "from MERTONpricer import Merton_pricer\n",
    "from BSpricer import BS_Pricer\n",
    "from KOUpricer import Kou_pricer\n",
    "from VGpricer import VG_pricer\n",
    "\n",
    "random.seed(110)"
   ]
  },
  {
   "cell_type": "markdown",
   "source": [
    "Let's start retrieving historical prices for **european call** and **put** options starting from date **2016-01-20** and expiring **1 year** later. All the data have been collected from [OptionsDX](https://www.optionsdx.com/shop/) and preprocessed in `plainvanilla.py` module. Only options such that the moneyness\n",
    "$$ K/S0 \\in [0.75, 1.35] $$ have been selected."
   ],
   "metadata": {
    "collapsed": false
   }
  },
  {
   "cell_type": "code",
   "execution_count": 40,
   "outputs": [
    {
     "name": "stdout",
     "output_type": "stream",
     "text": [
      "NUM OF PUT OPTS: 10\n",
      "   QUOTE_DATE  UNDERLYING_LAST EXPIRE_DATE  P_BID  P_ASK  STRIKE     P_IV  \\\n",
      "0  2016-01-20            27.47  2017-01-20   0.51   0.57    15.0  0.49285   \n",
      "1  2016-01-20            27.47  2017-01-20   0.77   0.85    17.0  0.46659   \n",
      "2  2016-01-20            27.47  2017-01-20    NaN    NaN    18.0  0.41550   \n",
      "3  2016-01-20            27.47  2017-01-20   1.34   1.40    20.0  0.42839   \n",
      "4  2016-01-20            27.47  2017-01-20   1.89   1.96    22.0  0.41159   \n",
      "5  2016-01-20            27.47  2017-01-20   2.98   3.10    25.0  0.39107   \n",
      "6  2016-01-20            27.47  2017-01-20   3.90   4.00    27.0  0.37697   \n",
      "7  2016-01-20            27.47  2017-01-20   5.60   5.75    30.0  0.36519   \n",
      "8  2016-01-20            27.47  2017-01-20   9.15   9.30    35.0  0.34602   \n",
      "9  2016-01-20            27.47  2017-01-20  13.25  13.55    40.0  0.32648   \n",
      "\n",
      "   MONEYNESS  \n",
      "0       0.55  \n",
      "1       0.62  \n",
      "2       0.66  \n",
      "3       0.73  \n",
      "4       0.80  \n",
      "5       0.91  \n",
      "6       0.98  \n",
      "7       1.09  \n",
      "8       1.27  \n",
      "9       1.46  \n"
     ]
    }
   ],
   "source": [
    "df_put = pd.read_csv('../../data/NVDA/OPT16_NVDA_PUTS_50_150.csv')\n",
    "print(f'NUM OF PUT OPTS: {df_put.shape[0]}')\n",
    "print(df_put)\n",
    "puts = df_put.dropna().sort_index().reset_index(drop=True)\n",
    "puts.to_csv('../../data/NVDA/NVDA_puts.csv')"
   ],
   "metadata": {
    "collapsed": false,
    "ExecuteTime": {
     "end_time": "2023-09-01T00:05:56.368701900Z",
     "start_time": "2023-09-01T00:05:56.306367300Z"
    }
   }
  },
  {
   "cell_type": "markdown",
   "source": [
    "The dataframes **puts** has been cleaned from NaN values and contains 9 options. Here **Midpoint** and **Spread** columns have been added to the dataframe for simplicity."
   ],
   "metadata": {
    "collapsed": false
   }
  },
  {
   "cell_type": "code",
   "execution_count": 41,
   "outputs": [],
   "source": [
    "puts['P_Midpoint'] = abs(puts['P_BID'] + puts['P_ASK']) / 2\n",
    "puts['P_Spread'] = puts['P_BID'] - puts['P_ASK']\n",
    "put_prices = puts['P_Midpoint']\n",
    "#puts.to_csv('../../data/NVDA/NVDA_puts.csv')\n",
    "\n",
    "q = 0           # dividend yield\n",
    "r = 0.03        # risk-free interest rate\n",
    "sigma = 0.3     #volatility (variance of diffusion process)\n",
    "S0 = puts.iloc[0]['UNDERLYING_LAST']\n",
    "T = 1           # time-to-maturity\n",
    "put_strikes = puts['STRIKE']      # array of K for put options\n",
    "exercise = 'european'\n"
   ],
   "metadata": {
    "collapsed": false,
    "ExecuteTime": {
     "end_time": "2023-09-01T00:05:57.453818700Z",
     "start_time": "2023-09-01T00:05:57.392761200Z"
    }
   }
  },
  {
   "cell_type": "markdown",
   "source": [
    "The following code snippet initializes objects of class *BS_pricer*, *Merton_pricer*, *Kou_pricer*, *VG_pricer* with default values as parameters. Then it computes the theoretical call prices using closed formulas of each 4 models, with strike prices given by the *call_strikes* array. Additionally, we use the **Midpoint** price as the option market prices.P"
   ],
   "metadata": {
    "collapsed": false
   }
  },
  {
   "cell_type": "code",
   "execution_count": 19,
   "outputs": [],
   "source": [
    "BS = BS_Pricer(S0=S0, r=r, q = q, sigma=sigma, ttm=T, exercise=exercise, K=None)\n",
    "Merton = Merton_pricer(S0=S0, K=None, ttm=T, r=r, q = q, sigma=0.15, lambd=0.5, meanJ=-0.1, stdJ=0.1, exercise=exercise)\n",
    "Kou = Kou_pricer(S0=S0, K=None, ttm=T, r=r, sigma=0.15, lambd=0.5, p=0.6, eta1=12, eta2=5, exercise=exercise)\n",
    "VG = VG_pricer(S0, K=None, ttm=T, r=r, q=q, sigma=0.15, theta=-0.2, nu=0.3, exercise=exercise)"
   ],
   "metadata": {
    "collapsed": false,
    "ExecuteTime": {
     "end_time": "2023-08-31T23:17:44.082003600Z",
     "start_time": "2023-08-31T23:17:43.995231900Z"
    }
   }
  },
  {
   "cell_type": "markdown",
   "source": [
    "Same for put prices."
   ],
   "metadata": {
    "collapsed": false
   }
  },
  {
   "cell_type": "code",
   "execution_count": 20,
   "outputs": [
    {
     "name": "stdout",
     "output_type": "stream",
     "text": [
      "Theoretical put options prices:\n",
      "   Strike   Price BlackScholes     Merton        Kou VarianceGamma\n",
      "0    15.0   0.540     0.036707   0.002359   0.031622      0.000012\n",
      "1    17.0   0.810     0.115924   0.011122   0.063554      0.000264\n",
      "2    20.0   1.370      0.42026   0.072647   0.163125      0.011262\n",
      "3    22.0   1.925     0.807713   0.200364   0.305269      0.078281\n",
      "4    25.0   3.040     1.737963   0.689968   0.797916      0.589604\n",
      "5    27.0   3.950      2.60513   1.331346   1.440558      1.368722\n",
      "6    30.0   5.675      4.25763   2.877415   2.992952      3.137802\n",
      "7    35.0   9.225     7.780104   6.746572   6.845734      7.080702\n",
      "8    40.0  13.400    11.948504  11.383509  11.438158     11.588764\n"
     ]
    }
   ],
   "source": [
    "put_th_prices = pd.DataFrame(columns=['Strike','Price', 'BlackScholes', 'Merton', 'Kou', 'VarianceGamma'])\n",
    "put_th_prices['Strike'] = put_strikes\n",
    "put_th_prices['Price'] = put_prices\n",
    "\n",
    "for i, K in enumerate(put_strikes):\n",
    "    bs = BS.closed_formula_put(K)\n",
    "    mert = Merton.closed_formula_put(K)\n",
    "    kou = Kou.closed_formula_put(K)\n",
    "    vg = VG.closed_formula_put(K)\n",
    "    put_th_prices.iloc[i, 2:] = [bs, mert, kou, vg]\n",
    "\n",
    "print(f'Theoretical put options prices:')\n",
    "print(put_th_prices)"
   ],
   "metadata": {
    "collapsed": false,
    "ExecuteTime": {
     "end_time": "2023-08-31T23:17:48.140800700Z",
     "start_time": "2023-08-31T23:17:45.135073300Z"
    }
   }
  },
  {
   "cell_type": "markdown",
   "source": [
    "## Implied volatility\n",
    "The function belows implements $3$ methods to compute implied volatility: [Newton](https://en.wikipedia.org/wiki/Newton%27s_method) method, the [Bisection](https://en.wikipedia.org/wiki/Bisection_method) method and a more advanced one, named [Brent](https://en.wikipedia.org/wiki/Brent%27s_method) method. Apart from the initial guess, there is no substantial difference in the final result between **Newton** and **bisection** methods (*fsolve*). The **Implied Volatility** is that value $\\sigma$ that must be inserted into the Black-Scholes (BS) formula in order to retrieve the option price quoted in the market:\n",
    "    $$ BS(S, K, T, r, \\sigma) = P,  $$\n",
    "where $S$ is the underlying spot price, $K$ is the strike, $T$ time to maturity, $r$ risk-free interest rate and $P$ the option price quoted in the market. All these quantities are **observable**.\n",
    "   "
   ],
   "metadata": {
    "collapsed": false
   }
  },
  {
   "cell_type": "code",
   "execution_count": 21,
   "outputs": [],
   "source": [
    "def implied_volatility(price, S, strike, t, rate, q, type_o, method='fsolve', disp=True ):\n",
    "    \"\"\" Returns Implied volatility\n",
    "        methods:  fsolve (default) or brent\n",
    "    \"\"\"\n",
    "\n",
    "    def obj_fun(vol):\n",
    "        return BS.BlackScholes(type_o=type_o, S0=S, K=strike, ttm=t, r=rate, q=q, sigma=vol) - price\n",
    "\n",
    "    def vega(vol):\n",
    "        return BS.vega(S, strike, rate, q, vol, t)\n",
    "\n",
    "    if method =='fsolve':\n",
    "        X0 = [0.01, 0.2, 0.35, 7]        #initial guess points for imp.vol.\n",
    "        for x_0 in X0:\n",
    "            x, _, solved, _ = scpo.fsolve(obj_fun, x_0, full_output=True, xtol=1e-8)\n",
    "            if solved == 1:\n",
    "                return x[0]\n",
    "\n",
    "    if disp:\n",
    "        return -1"
   ],
   "metadata": {
    "collapsed": false,
    "ExecuteTime": {
     "end_time": "2023-08-31T23:17:49.605603900Z",
     "start_time": "2023-08-31T23:17:49.557905200Z"
    }
   }
  },
  {
   "cell_type": "markdown",
   "source": [
    "The following code snippet computes the implied volatility of **call** and **put** options market prices."
   ],
   "metadata": {
    "collapsed": false
   }
  },
  {
   "cell_type": "code",
   "execution_count": 22,
   "outputs": [
    {
     "name": "stdout",
     "output_type": "stream",
     "text": [
      "Implied volatilities of market prices (puts):\n",
      "S0 = 27.47\n",
      "K = 15.0, IV = 0.4925\n",
      "K = 17.0, IV = 0.4658\n",
      "K = 20.0, IV = 0.428\n",
      "K = 22.0, IV = 0.4113\n",
      "K = 25.0, IV = 0.391\n",
      "K = 27.0, IV = 0.377\n"
     ]
    },
    {
     "data": {
      "text/plain": "<Figure size 1000x500 with 1 Axes>",
      "image/png": "[encoded data removed]"
     },
     "metadata": {},
     "output_type": "display_data"
    }
   ],
   "source": [
    "IV_market_p = []\n",
    "for i in range(len(put_prices)):\n",
    "    IV_market_p.append(implied_volatility(put_prices[i], S=S0, strike=put_strikes[i], t = T, rate=0.021, q = 0.038, type_o='put', method='fsolve'))\n",
    "\n",
    "print(f'Implied volatilities of market prices (puts):\\nS0 = {S0}')\n",
    "for a,b in zip(put_strikes.head(6), IV_market_p[:6]):\n",
    "    print(f'K = {a}, IV = {round(b, 4)}')\n",
    "\n",
    "# Plot market implied volatilities w.r.t. log moneyness\n",
    "x = (S0/put_strikes)\n",
    "IV_filtered = [iv for iv in IV_market_p if iv != -1]\n",
    "x_filtered = [log_m for iv, log_m in zip(IV_market_p, x) if iv != -1]\n",
    "puts_filtered = [p_iv for iv, p_iv in zip(IV_market_p, puts['P_IV']) if iv != -1 ]\n",
    "\n",
    "fig, ax1 = plt.subplots(figsize=(10,5))\n",
    "ax1.scatter(x_filtered, IV_filtered, marker='x', label='BS inversion', color='red')\n",
    "ax1.scatter(x_filtered, puts_filtered, marker='.', label='provided')\n",
    "ax1.set_xlabel('Moneyness: S0/K'); ax1.set_ylabel('Implied Volatility'); ax1.set_title('Puts volatility smile')\n",
    "ax1.legend(); plt.show()\n"
   ],
   "metadata": {
    "collapsed": false,
    "ExecuteTime": {
     "end_time": "2023-08-31T23:17:51.520196600Z",
     "start_time": "2023-08-31T23:17:51.221750900Z"
    }
   }
  },
  {
   "cell_type": "markdown",
   "source": [
    "##  Weighted Calibration (call options)\n",
    "Let's step now into the calibration of model parameters.\n",
    "If we define $\\Theta$ the set of parameters, the goal is to find the optimal parameters $\\Theta^*$ that minimize the following objective function:\n",
    "$$ \\sum_{i=1}^{N} w_i \\biggl( P_i - f(K_i|\\Theta) \\biggr)^2 $$\n",
    "where $w_i$ are weights, usually defined as\n",
    "$$ w_i = \\frac{1}{\\text {spread}_i^2 },$$ $P_i$ are the market prices and $f$ is the pricing function. In our case $f$ is given by **Merton** Jump Diffusion model, **Kou** Jump Diffusion model, or **Variance Gamma** process. To perform this optimization problem, many numerical methods can be used. In particular, we test two functions of `scipy.optimize`:\n",
    "1. **curve_fit**, a least-squares curve fitting method which works with bounds. The default algorithm is [Trust Region Reflective (trf)](https://en.wikipedia.org/wiki/Trust_region). The [Levemberg-Marquadt](https://en.wikipedia.org/wiki/Levenberg%E2%80%93Marquardt_algorithm) has been tried as well, to test the optimization problem without setting boundaries, but the results don't make any sense.\n",
    "2. **Least-Squares**, a constrained minimization problem which uses Trust region reflective method by default. This method is the most indicated to solve the non-linear least squares optimization problem of our purpose.\n",
    "All the optimizations are carried out by initializing a starting point as the array $x_0 = [params]$ and setting feasible bounds.\n"
   ],
   "metadata": {
    "collapsed": false
   }
  },
  {
   "cell_type": "code",
   "execution_count": 23,
   "outputs": [],
   "source": [
    "put_spreads = puts['P_Spread']\n",
    "p_weights = 1 / put_spreads**2"
   ],
   "metadata": {
    "collapsed": false,
    "ExecuteTime": {
     "end_time": "2023-08-31T23:18:04.899674100Z",
     "start_time": "2023-08-31T23:18:04.851919700Z"
    }
   }
  },
  {
   "cell_type": "markdown",
   "source": [
    "### Black and Scholes model\n",
    "The only unknown parameter to calibrate in Black and Scholes model is the **implied volatility**, $\\sigma$. Thus, we minimize the difference between the computed theoretical prices and the market prices of call options."
   ],
   "metadata": {
    "collapsed": false
   }
  },
  {
   "cell_type": "code",
   "execution_count": 24,
   "outputs": [],
   "source": [
    "x0 = 0.5\n",
    "bounds = [1e-5, 2]\n",
    "\n",
    "def f_BlackScholes_puts(x, sigm):\n",
    "    BS = BS_Pricer(S0=S0, K = x, ttm=T, r=r, q=0, sigma=sigm, exercise=exercise)\n",
    "    return BS.closed_formula_put(x)\n",
    "\n",
    "res1_puts = scpo.curve_fit(f_BlackScholes_puts, put_strikes, put_prices, p0 = x0, bounds=bounds, sigma=p_weights)\n",
    "sigw_p = round(res1_puts[0][0],4)"
   ],
   "metadata": {
    "collapsed": false,
    "ExecuteTime": {
     "end_time": "2023-08-31T23:18:06.868375300Z",
     "start_time": "2023-08-31T23:18:06.780712100Z"
    }
   }
  },
  {
   "cell_type": "code",
   "execution_count": 25,
   "outputs": [
    {
     "name": "stdout",
     "output_type": "stream",
     "text": [
      "`ftol` termination condition is satisfied.\n",
      "Function evaluations 17, initial cost 1.6319e+04, final cost 4.8465e+02, first-order optimality 3.06e-01.\n"
     ]
    }
   ],
   "source": [
    "def cost_function(x, strikes, mkt_prices):\n",
    "    sigma = x\n",
    "    BS = BS_Pricer(S0=S0, K = None, ttm=T, r=r, q=0, sigma=sigma, exercise=exercise)\n",
    "    sq_err = np.sum( p_weights* (BS.closed_formula_put(strikes) - mkt_prices)**2)\n",
    "    return sq_err\n",
    "\n",
    "result_p = scpo.least_squares(cost_function, x0, args=(put_strikes, put_prices), bounds=bounds, method = 'trf', verbose=1)\n",
    "opt_sigma_p = result_p.x[0]"
   ],
   "metadata": {
    "collapsed": false,
    "ExecuteTime": {
     "end_time": "2023-08-31T23:18:07.760935500Z",
     "start_time": "2023-08-31T23:18:07.675917Z"
    }
   }
  },
  {
   "cell_type": "code",
   "execution_count": 26,
   "outputs": [
    {
     "name": "stdout",
     "output_type": "stream",
     "text": [
      "METHOD 1: CURVE_FIT (trf)\n",
      "> Calibrated Volatility from Calls [σ] = 0.4662 \t 46.62%\n",
      "METHOD 2: LEAST-SQUARES (trf)\n",
      "> Calibrated Volatility from Calls [σ] = 0.4501327365106013 \t 45.01%\n"
     ]
    }
   ],
   "source": [
    "print('METHOD 1: CURVE_FIT (trf)')\n",
    "print(f'> Calibrated Volatility from Calls [σ] = {sigw_p} \\t {round(sigw_p*100,2)}%')\n",
    "print('METHOD 2: LEAST-SQUARES (trf)')\n",
    "print(f'> Calibrated Volatility from Calls [σ] = {opt_sigma_p} \\t {round(opt_sigma_p*100,2)}%')"
   ],
   "metadata": {
    "collapsed": false,
    "ExecuteTime": {
     "end_time": "2023-08-31T23:18:09.262457900Z",
     "start_time": "2023-08-31T23:18:09.231164800Z"
    }
   }
  },
  {
   "cell_type": "code",
   "execution_count": 27,
   "outputs": [
    {
     "name": "stdout",
     "output_type": "stream",
     "text": [
      "Stored 'puts_bs_params_nvda' (float64)\n"
     ]
    }
   ],
   "source": [
    "puts_bs_params_nvda = opt_sigma_p\n",
    "%store puts_bs_params_nvda"
   ],
   "metadata": {
    "collapsed": false,
    "ExecuteTime": {
     "end_time": "2023-08-31T23:18:10.227637700Z",
     "start_time": "2023-08-31T23:18:10.186250300Z"
    }
   }
  },
  {
   "cell_type": "markdown",
   "source": [
    "### Merton Jump Diffusion\n",
    "The Merton Jump diffusion ones are the volatility $\\sigma$, the Poisson rate of jumps $\\lambda$, the mean rate of jump intensity $m$ and its variance rate $v$, assuming that the intensity of jumps follows a *Normal distribution*.\n"
   ],
   "metadata": {
    "collapsed": false
   }
  },
  {
   "cell_type": "code",
   "execution_count": 31,
   "outputs": [],
   "source": [
    "x0 = [0.15,  0.2, -0.05,  0.01]  # initial guess: [σ, λ, m, v]\n",
    "bounds = ( [1e-3, 1e-2, -5, 1e-5], [2, 5, 5, 2] )"
   ],
   "metadata": {
    "collapsed": false,
    "ExecuteTime": {
     "end_time": "2023-08-31T23:21:35.219107200Z",
     "start_time": "2023-08-31T23:21:35.171714100Z"
    }
   }
  },
  {
   "cell_type": "code",
   "execution_count": 32,
   "outputs": [],
   "source": [
    "def f_Mert(x, sigma, lambd, meanJ, stdJ):\n",
    "    Mert = Merton_pricer(S0=S0, K=x, ttm=T, r=r, q=0, sigma=sigma, lambd=lambd, meanJ=meanJ, stdJ=stdJ, exercise=exercise)\n",
    "    return Mert.closed_formula_put(x)\n",
    "\n",
    "start1=time.time()\n",
    "mert1 = scpo.curve_fit(f_Mert, put_strikes, put_prices, p0=x0, bounds=bounds, sigma=put_spreads)\n",
    "end1=time.time()\n",
    "\n",
    "mert_params1 = [round(p,4) for p in mert1[0][:4]]"
   ],
   "metadata": {
    "collapsed": false,
    "ExecuteTime": {
     "end_time": "2023-08-31T23:21:42.019086900Z",
     "start_time": "2023-08-31T23:21:35.641411500Z"
    }
   }
  },
  {
   "cell_type": "markdown",
   "source": [
    "##### Method 2. Least-squares"
   ],
   "metadata": {
    "collapsed": false
   }
  },
  {
   "cell_type": "code",
   "execution_count": 33,
   "outputs": [
    {
     "name": "stdout",
     "output_type": "stream",
     "text": [
      "The maximum number of function evaluations is exceeded.\n",
      "Function evaluations 400, initial cost 2.3543e+06, final cost 8.9810e+01, first-order optimality 1.53e+03.\n"
     ]
    }
   ],
   "source": [
    "x0 = [0.1,  0.5, 0.3,  0.1]      # initial guess: [σ, λ, m, v]\n",
    "bounds = ( [1e-3, 1e-2, -10, 0], [2, np.inf, 10, 5] )\n",
    "\n",
    "def cost_function(x, strikes, mkt_prices):\n",
    "    sigma, lambd, meanJ, stdJ = x\n",
    "    M = Merton_pricer(S0, None, T, r, q, sigma, lambd, meanJ, stdJ, exercise)\n",
    "    sq_err = np.sum( p_weights*(M.closed_formula_put(strikes) - mkt_prices)**2)\n",
    "    return sq_err\n",
    "\n",
    "start2 = time.time()\n",
    "mert2 = scpo.least_squares(cost_function, x0, args=(put_strikes, put_prices), bounds=bounds, method = 'trf', verbose=1)\n",
    "end2 = time.time()\n",
    "\n",
    "mert_params2 = [round(p,4) for p in mert2.x[:4]]"
   ],
   "metadata": {
    "collapsed": false,
    "ExecuteTime": {
     "end_time": "2023-08-31T23:23:14.187864100Z",
     "start_time": "2023-08-31T23:21:42.019086900Z"
    }
   }
  },
  {
   "cell_type": "code",
   "execution_count": 34,
   "outputs": [
    {
     "name": "stdout",
     "output_type": "stream",
     "text": [
      "WEIGHTED OPT: CURVE_FIT (trf)\n",
      "> Calibrated Volatlity [σ] = 0.2471 \t 24.71%\n",
      "> Calibrated Jump intensity [λ] =  0.56\n",
      "> Calibrated Jump Mean =  -0.15\n",
      "> Calibrated Jump St. dev.  =  0.5624\n",
      "ELAPSED TIME: 6.375289440155029 sec\n",
      "\n",
      "METHOD 1: LEAST SQUARES (trf)\n",
      "> Calibrated Volatlity [σ] = 0.3422 \t 34.22%\n",
      "> Calibrated Jump intensity [λ] =  1.28\n",
      "> Calibrated Jump Mean =  -0.173\n",
      "> Calibrated Jump St. dev.  =  0.216\n",
      "TIME ELAPSED:  92.17 sec\n"
     ]
    }
   ],
   "source": [
    "print('WEIGHTED OPT: CURVE_FIT (trf)')\n",
    "print(f'> Calibrated Volatlity [σ] = {round(mert1[0][0],4)} \\t {round(mert1[0][0]*100,2)}%')\n",
    "print('> Calibrated Jump intensity [λ] = ', round(mert1[0][1],2))\n",
    "print('> Calibrated Jump Mean = ', round(mert1[0][2],2))\n",
    "print('> Calibrated Jump St. dev.  = ', round(mert1[0][3],5))\n",
    "print(f'ELAPSED TIME: {end1-start1} sec')\n",
    "\n",
    "print('\\nMETHOD 1: LEAST SQUARES (trf)')\n",
    "print(f'> Calibrated Volatlity [σ] = {mert_params2[0]} \\t {round(mert_params2[0]*100,2)}%')\n",
    "print('> Calibrated Jump intensity [λ] = ', round(mert_params2[1],2))\n",
    "print('> Calibrated Jump Mean = ', round(mert_params2[2],3))\n",
    "print('> Calibrated Jump St. dev.  = ', round(mert_params2[3],3))\n",
    "print(f'TIME ELAPSED:  {round(end2-start2,2)} sec')"
   ],
   "metadata": {
    "collapsed": false,
    "ExecuteTime": {
     "end_time": "2023-08-31T23:23:14.207698500Z",
     "start_time": "2023-08-31T23:23:14.187864100Z"
    }
   }
  },
  {
   "cell_type": "code",
   "execution_count": 35,
   "outputs": [
    {
     "name": "stdout",
     "output_type": "stream",
     "text": [
      "[0.2471, 0.5595, -0.153, 0.5624]\n",
      "[0.3422, 1.2753, -0.1731, 0.2157]\n",
      "Stored 'puts_mert_params_nvda' (list)\n"
     ]
    }
   ],
   "source": [
    "print(mert_params1)\n",
    "print(mert_params2)\n",
    "puts_mert_params_nvda = mert_params2\n",
    "%store puts_mert_params_nvda"
   ],
   "metadata": {
    "collapsed": false,
    "ExecuteTime": {
     "end_time": "2023-08-31T23:23:14.207698500Z",
     "start_time": "2023-08-31T23:23:14.195082900Z"
    }
   }
  },
  {
   "cell_type": "markdown",
   "source": [
    "### Kou Jump Diffusion\n"
   ],
   "metadata": {
    "collapsed": false
   }
  },
  {
   "cell_type": "code",
   "execution_count": 36,
   "outputs": [],
   "source": [
    "x0 = [0.3, 0.8, 0.5, 5, 10] # initial guess: [σ, λ, p, η_1, η_2]\n",
    "bounds = ( [1e-2, 1e-1, 0, 0.5, 0.5], [0.5, 4, 1, 15, 20] )"
   ],
   "metadata": {
    "collapsed": false,
    "ExecuteTime": {
     "end_time": "2023-08-31T23:35:20.085481900Z",
     "start_time": "2023-08-31T23:35:20.030586400Z"
    }
   }
  },
  {
   "cell_type": "markdown",
   "source": [
    "##### Method 1. TRF (Bounds)"
   ],
   "metadata": {
    "collapsed": false
   }
  },
  {
   "cell_type": "code",
   "execution_count": 37,
   "outputs": [],
   "source": [
    "# def f_Kou(x, sigma, lambd, p, eta1, eta2):\n",
    "#     KouJD = Kou_pricer(S0=S0, K=x, ttm=T, r=r, sigma=sigma, lambd=lambd, p=p, eta1=eta1, eta2=eta2, exercise=exercise)\n",
    "#     return KouJD.closed_formula_put(x)\n",
    "#\n",
    "# start1 = time.time()\n",
    "# kou1 = scpo.curve_fit(f_Kou, put_strikes, put_prices, p0=x0, bounds=bounds, sigma=p_weights)\n",
    "# end1 = time.time()\n",
    "#\n",
    "# kou_params1 = [round(p,4) for p in kou1[0][:5]]"
   ],
   "metadata": {
    "collapsed": false,
    "ExecuteTime": {
     "end_time": "2023-08-31T23:35:22.196150200Z",
     "start_time": "2023-08-31T23:35:22.133568300Z"
    }
   }
  },
  {
   "cell_type": "markdown",
   "source": [
    "##### Method 2. LEAST SQUARES (With Bounds)"
   ],
   "metadata": {
    "collapsed": false
   }
  },
  {
   "cell_type": "code",
   "execution_count": 38,
   "outputs": [
    {
     "ename": "KeyboardInterrupt",
     "evalue": "",
     "output_type": "error",
     "traceback": [
      "\u001B[1;31m---------------------------------------------------------------------------\u001B[0m",
      "\u001B[1;31mKeyboardInterrupt\u001B[0m                         Traceback (most recent call last)",
      "Cell \u001B[1;32mIn[38], line 9\u001B[0m\n\u001B[0;32m      6\u001B[0m     \u001B[38;5;28;01mreturn\u001B[39;00m sq_err\n\u001B[0;32m      8\u001B[0m start2\u001B[38;5;241m=\u001B[39mtime\u001B[38;5;241m.\u001B[39mtime()\n\u001B[1;32m----> 9\u001B[0m kou2 \u001B[38;5;241m=\u001B[39m \u001B[43mscpo\u001B[49m\u001B[38;5;241;43m.\u001B[39;49m\u001B[43mleast_squares\u001B[49m\u001B[43m(\u001B[49m\u001B[43mcost_function\u001B[49m\u001B[43m,\u001B[49m\u001B[43m \u001B[49m\u001B[43mx0\u001B[49m\u001B[43m,\u001B[49m\u001B[43m \u001B[49m\u001B[43margs\u001B[49m\u001B[38;5;241;43m=\u001B[39;49m\u001B[43m(\u001B[49m\u001B[43mput_strikes\u001B[49m\u001B[43m,\u001B[49m\u001B[43m \u001B[49m\u001B[43mput_prices\u001B[49m\u001B[43m)\u001B[49m\u001B[43m,\u001B[49m\u001B[43m  \u001B[49m\u001B[43mmethod\u001B[49m\u001B[38;5;241;43m=\u001B[39;49m\u001B[38;5;124;43m'\u001B[39;49m\u001B[38;5;124;43mtrf\u001B[39;49m\u001B[38;5;124;43m'\u001B[39;49m\u001B[43m,\u001B[49m\u001B[43m \u001B[49m\u001B[43mbounds\u001B[49m\u001B[38;5;241;43m=\u001B[39;49m\u001B[43mbounds\u001B[49m\u001B[43m,\u001B[49m\u001B[43m \u001B[49m\u001B[43mverbose\u001B[49m\u001B[38;5;241;43m=\u001B[39;49m\u001B[38;5;241;43m1\u001B[39;49m\u001B[43m)\u001B[49m\n\u001B[0;32m     10\u001B[0m end2\u001B[38;5;241m=\u001B[39mtime\u001B[38;5;241m.\u001B[39mtime()\n",
      "File \u001B[1;32m~\\PycharmProjects\\Margin-Loans-Pricing\\venv\\Lib\\site-packages\\scipy\\optimize\\_lsq\\least_squares.py:935\u001B[0m, in \u001B[0;36mleast_squares\u001B[1;34m(fun, x0, jac, bounds, method, ftol, xtol, gtol, x_scale, loss, f_scale, diff_step, tr_solver, tr_options, jac_sparsity, max_nfev, verbose, args, kwargs)\u001B[0m\n\u001B[0;32m    931\u001B[0m     result \u001B[38;5;241m=\u001B[39m call_minpack(fun_wrapped, x0, jac_wrapped, ftol, xtol, gtol,\n\u001B[0;32m    932\u001B[0m                           max_nfev, x_scale, diff_step)\n\u001B[0;32m    934\u001B[0m \u001B[38;5;28;01melif\u001B[39;00m method \u001B[38;5;241m==\u001B[39m \u001B[38;5;124m'\u001B[39m\u001B[38;5;124mtrf\u001B[39m\u001B[38;5;124m'\u001B[39m:\n\u001B[1;32m--> 935\u001B[0m     result \u001B[38;5;241m=\u001B[39m \u001B[43mtrf\u001B[49m\u001B[43m(\u001B[49m\u001B[43mfun_wrapped\u001B[49m\u001B[43m,\u001B[49m\u001B[43m \u001B[49m\u001B[43mjac_wrapped\u001B[49m\u001B[43m,\u001B[49m\u001B[43m \u001B[49m\u001B[43mx0\u001B[49m\u001B[43m,\u001B[49m\u001B[43m \u001B[49m\u001B[43mf0\u001B[49m\u001B[43m,\u001B[49m\u001B[43m \u001B[49m\u001B[43mJ0\u001B[49m\u001B[43m,\u001B[49m\u001B[43m \u001B[49m\u001B[43mlb\u001B[49m\u001B[43m,\u001B[49m\u001B[43m \u001B[49m\u001B[43mub\u001B[49m\u001B[43m,\u001B[49m\u001B[43m \u001B[49m\u001B[43mftol\u001B[49m\u001B[43m,\u001B[49m\u001B[43m \u001B[49m\u001B[43mxtol\u001B[49m\u001B[43m,\u001B[49m\n\u001B[0;32m    936\u001B[0m \u001B[43m                 \u001B[49m\u001B[43mgtol\u001B[49m\u001B[43m,\u001B[49m\u001B[43m \u001B[49m\u001B[43mmax_nfev\u001B[49m\u001B[43m,\u001B[49m\u001B[43m \u001B[49m\u001B[43mx_scale\u001B[49m\u001B[43m,\u001B[49m\u001B[43m \u001B[49m\u001B[43mloss_function\u001B[49m\u001B[43m,\u001B[49m\u001B[43m \u001B[49m\u001B[43mtr_solver\u001B[49m\u001B[43m,\u001B[49m\n\u001B[0;32m    937\u001B[0m \u001B[43m                 \u001B[49m\u001B[43mtr_options\u001B[49m\u001B[38;5;241;43m.\u001B[39;49m\u001B[43mcopy\u001B[49m\u001B[43m(\u001B[49m\u001B[43m)\u001B[49m\u001B[43m,\u001B[49m\u001B[43m \u001B[49m\u001B[43mverbose\u001B[49m\u001B[43m)\u001B[49m\n\u001B[0;32m    939\u001B[0m \u001B[38;5;28;01melif\u001B[39;00m method \u001B[38;5;241m==\u001B[39m \u001B[38;5;124m'\u001B[39m\u001B[38;5;124mdogbox\u001B[39m\u001B[38;5;124m'\u001B[39m:\n\u001B[0;32m    940\u001B[0m     \u001B[38;5;28;01mif\u001B[39;00m tr_solver \u001B[38;5;241m==\u001B[39m \u001B[38;5;124m'\u001B[39m\u001B[38;5;124mlsmr\u001B[39m\u001B[38;5;124m'\u001B[39m \u001B[38;5;129;01mand\u001B[39;00m \u001B[38;5;124m'\u001B[39m\u001B[38;5;124mregularize\u001B[39m\u001B[38;5;124m'\u001B[39m \u001B[38;5;129;01min\u001B[39;00m tr_options:\n",
      "File \u001B[1;32m~\\PycharmProjects\\Margin-Loans-Pricing\\venv\\Lib\\site-packages\\scipy\\optimize\\_lsq\\trf.py:123\u001B[0m, in \u001B[0;36mtrf\u001B[1;34m(fun, jac, x0, f0, J0, lb, ub, ftol, xtol, gtol, max_nfev, x_scale, loss_function, tr_solver, tr_options, verbose)\u001B[0m\n\u001B[0;32m    119\u001B[0m     \u001B[38;5;28;01mreturn\u001B[39;00m trf_no_bounds(\n\u001B[0;32m    120\u001B[0m         fun, jac, x0, f0, J0, ftol, xtol, gtol, max_nfev, x_scale,\n\u001B[0;32m    121\u001B[0m         loss_function, tr_solver, tr_options, verbose)\n\u001B[0;32m    122\u001B[0m \u001B[38;5;28;01melse\u001B[39;00m:\n\u001B[1;32m--> 123\u001B[0m     \u001B[38;5;28;01mreturn\u001B[39;00m \u001B[43mtrf_bounds\u001B[49m\u001B[43m(\u001B[49m\n\u001B[0;32m    124\u001B[0m \u001B[43m        \u001B[49m\u001B[43mfun\u001B[49m\u001B[43m,\u001B[49m\u001B[43m \u001B[49m\u001B[43mjac\u001B[49m\u001B[43m,\u001B[49m\u001B[43m \u001B[49m\u001B[43mx0\u001B[49m\u001B[43m,\u001B[49m\u001B[43m \u001B[49m\u001B[43mf0\u001B[49m\u001B[43m,\u001B[49m\u001B[43m \u001B[49m\u001B[43mJ0\u001B[49m\u001B[43m,\u001B[49m\u001B[43m \u001B[49m\u001B[43mlb\u001B[49m\u001B[43m,\u001B[49m\u001B[43m \u001B[49m\u001B[43mub\u001B[49m\u001B[43m,\u001B[49m\u001B[43m \u001B[49m\u001B[43mftol\u001B[49m\u001B[43m,\u001B[49m\u001B[43m \u001B[49m\u001B[43mxtol\u001B[49m\u001B[43m,\u001B[49m\u001B[43m \u001B[49m\u001B[43mgtol\u001B[49m\u001B[43m,\u001B[49m\u001B[43m \u001B[49m\u001B[43mmax_nfev\u001B[49m\u001B[43m,\u001B[49m\u001B[43m \u001B[49m\u001B[43mx_scale\u001B[49m\u001B[43m,\u001B[49m\n\u001B[0;32m    125\u001B[0m \u001B[43m        \u001B[49m\u001B[43mloss_function\u001B[49m\u001B[43m,\u001B[49m\u001B[43m \u001B[49m\u001B[43mtr_solver\u001B[49m\u001B[43m,\u001B[49m\u001B[43m \u001B[49m\u001B[43mtr_options\u001B[49m\u001B[43m,\u001B[49m\u001B[43m \u001B[49m\u001B[43mverbose\u001B[49m\u001B[43m)\u001B[49m\n",
      "File \u001B[1;32m~\\PycharmProjects\\Margin-Loans-Pricing\\venv\\Lib\\site-packages\\scipy\\optimize\\_lsq\\trf.py:374\u001B[0m, in \u001B[0;36mtrf_bounds\u001B[1;34m(fun, jac, x0, f0, J0, lb, ub, ftol, xtol, gtol, max_nfev, x_scale, loss_function, tr_solver, tr_options, verbose)\u001B[0m\n\u001B[0;32m    370\u001B[0m f_true \u001B[38;5;241m=\u001B[39m f\u001B[38;5;241m.\u001B[39mcopy()\n\u001B[0;32m    372\u001B[0m cost \u001B[38;5;241m=\u001B[39m cost_new\n\u001B[1;32m--> 374\u001B[0m J \u001B[38;5;241m=\u001B[39m \u001B[43mjac\u001B[49m\u001B[43m(\u001B[49m\u001B[43mx\u001B[49m\u001B[43m,\u001B[49m\u001B[43m \u001B[49m\u001B[43mf\u001B[49m\u001B[43m)\u001B[49m\n\u001B[0;32m    375\u001B[0m njev \u001B[38;5;241m+\u001B[39m\u001B[38;5;241m=\u001B[39m \u001B[38;5;241m1\u001B[39m\n\u001B[0;32m    377\u001B[0m \u001B[38;5;28;01mif\u001B[39;00m loss_function \u001B[38;5;129;01mis\u001B[39;00m \u001B[38;5;129;01mnot\u001B[39;00m \u001B[38;5;28;01mNone\u001B[39;00m:\n",
      "File \u001B[1;32m~\\PycharmProjects\\Margin-Loans-Pricing\\venv\\Lib\\site-packages\\scipy\\optimize\\_lsq\\least_squares.py:893\u001B[0m, in \u001B[0;36mleast_squares.<locals>.jac_wrapped\u001B[1;34m(x, f)\u001B[0m\n\u001B[0;32m    892\u001B[0m \u001B[38;5;28;01mdef\u001B[39;00m \u001B[38;5;21mjac_wrapped\u001B[39m(x, f):\n\u001B[1;32m--> 893\u001B[0m     J \u001B[38;5;241m=\u001B[39m \u001B[43mapprox_derivative\u001B[49m\u001B[43m(\u001B[49m\u001B[43mfun\u001B[49m\u001B[43m,\u001B[49m\u001B[43m \u001B[49m\u001B[43mx\u001B[49m\u001B[43m,\u001B[49m\u001B[43m \u001B[49m\u001B[43mrel_step\u001B[49m\u001B[38;5;241;43m=\u001B[39;49m\u001B[43mdiff_step\u001B[49m\u001B[43m,\u001B[49m\u001B[43m \u001B[49m\u001B[43mmethod\u001B[49m\u001B[38;5;241;43m=\u001B[39;49m\u001B[43mjac\u001B[49m\u001B[43m,\u001B[49m\n\u001B[0;32m    894\u001B[0m \u001B[43m                          \u001B[49m\u001B[43mf0\u001B[49m\u001B[38;5;241;43m=\u001B[39;49m\u001B[43mf\u001B[49m\u001B[43m,\u001B[49m\u001B[43m \u001B[49m\u001B[43mbounds\u001B[49m\u001B[38;5;241;43m=\u001B[39;49m\u001B[43mbounds\u001B[49m\u001B[43m,\u001B[49m\u001B[43m \u001B[49m\u001B[43margs\u001B[49m\u001B[38;5;241;43m=\u001B[39;49m\u001B[43margs\u001B[49m\u001B[43m,\u001B[49m\n\u001B[0;32m    895\u001B[0m \u001B[43m                          \u001B[49m\u001B[43mkwargs\u001B[49m\u001B[38;5;241;43m=\u001B[39;49m\u001B[43mkwargs\u001B[49m\u001B[43m,\u001B[49m\u001B[43m \u001B[49m\u001B[43msparsity\u001B[49m\u001B[38;5;241;43m=\u001B[39;49m\u001B[43mjac_sparsity\u001B[49m\u001B[43m)\u001B[49m\n\u001B[0;32m    896\u001B[0m     \u001B[38;5;28;01mif\u001B[39;00m J\u001B[38;5;241m.\u001B[39mndim \u001B[38;5;241m!=\u001B[39m \u001B[38;5;241m2\u001B[39m:  \u001B[38;5;66;03m# J is guaranteed not sparse.\u001B[39;00m\n\u001B[0;32m    897\u001B[0m         J \u001B[38;5;241m=\u001B[39m np\u001B[38;5;241m.\u001B[39matleast_2d(J)\n",
      "File \u001B[1;32m~\\PycharmProjects\\Margin-Loans-Pricing\\venv\\Lib\\site-packages\\scipy\\optimize\\_numdiff.py:505\u001B[0m, in \u001B[0;36mapprox_derivative\u001B[1;34m(fun, x0, method, rel_step, abs_step, f0, bounds, sparsity, as_linear_operator, args, kwargs)\u001B[0m\n\u001B[0;32m    502\u001B[0m     use_one_sided \u001B[38;5;241m=\u001B[39m \u001B[38;5;28;01mFalse\u001B[39;00m\n\u001B[0;32m    504\u001B[0m \u001B[38;5;28;01mif\u001B[39;00m sparsity \u001B[38;5;129;01mis\u001B[39;00m \u001B[38;5;28;01mNone\u001B[39;00m:\n\u001B[1;32m--> 505\u001B[0m     \u001B[38;5;28;01mreturn\u001B[39;00m \u001B[43m_dense_difference\u001B[49m\u001B[43m(\u001B[49m\u001B[43mfun_wrapped\u001B[49m\u001B[43m,\u001B[49m\u001B[43m \u001B[49m\u001B[43mx0\u001B[49m\u001B[43m,\u001B[49m\u001B[43m \u001B[49m\u001B[43mf0\u001B[49m\u001B[43m,\u001B[49m\u001B[43m \u001B[49m\u001B[43mh\u001B[49m\u001B[43m,\u001B[49m\n\u001B[0;32m    506\u001B[0m \u001B[43m                             \u001B[49m\u001B[43muse_one_sided\u001B[49m\u001B[43m,\u001B[49m\u001B[43m \u001B[49m\u001B[43mmethod\u001B[49m\u001B[43m)\u001B[49m\n\u001B[0;32m    507\u001B[0m \u001B[38;5;28;01melse\u001B[39;00m:\n\u001B[0;32m    508\u001B[0m     \u001B[38;5;28;01mif\u001B[39;00m \u001B[38;5;129;01mnot\u001B[39;00m issparse(sparsity) \u001B[38;5;129;01mand\u001B[39;00m \u001B[38;5;28mlen\u001B[39m(sparsity) \u001B[38;5;241m==\u001B[39m \u001B[38;5;241m2\u001B[39m:\n",
      "File \u001B[1;32m~\\PycharmProjects\\Margin-Loans-Pricing\\venv\\Lib\\site-packages\\scipy\\optimize\\_numdiff.py:576\u001B[0m, in \u001B[0;36m_dense_difference\u001B[1;34m(fun, x0, f0, h, use_one_sided, method)\u001B[0m\n\u001B[0;32m    574\u001B[0m     x \u001B[38;5;241m=\u001B[39m x0 \u001B[38;5;241m+\u001B[39m h_vecs[i]\n\u001B[0;32m    575\u001B[0m     dx \u001B[38;5;241m=\u001B[39m x[i] \u001B[38;5;241m-\u001B[39m x0[i]  \u001B[38;5;66;03m# Recompute dx as exactly representable number.\u001B[39;00m\n\u001B[1;32m--> 576\u001B[0m     df \u001B[38;5;241m=\u001B[39m \u001B[43mfun\u001B[49m\u001B[43m(\u001B[49m\u001B[43mx\u001B[49m\u001B[43m)\u001B[49m \u001B[38;5;241m-\u001B[39m f0\n\u001B[0;32m    577\u001B[0m \u001B[38;5;28;01melif\u001B[39;00m method \u001B[38;5;241m==\u001B[39m \u001B[38;5;124m'\u001B[39m\u001B[38;5;124m3-point\u001B[39m\u001B[38;5;124m'\u001B[39m \u001B[38;5;129;01mand\u001B[39;00m use_one_sided[i]:\n\u001B[0;32m    578\u001B[0m     x1 \u001B[38;5;241m=\u001B[39m x0 \u001B[38;5;241m+\u001B[39m h_vecs[i]\n",
      "File \u001B[1;32m~\\PycharmProjects\\Margin-Loans-Pricing\\venv\\Lib\\site-packages\\scipy\\optimize\\_numdiff.py:456\u001B[0m, in \u001B[0;36mapprox_derivative.<locals>.fun_wrapped\u001B[1;34m(x)\u001B[0m\n\u001B[0;32m    455\u001B[0m \u001B[38;5;28;01mdef\u001B[39;00m \u001B[38;5;21mfun_wrapped\u001B[39m(x):\n\u001B[1;32m--> 456\u001B[0m     f \u001B[38;5;241m=\u001B[39m np\u001B[38;5;241m.\u001B[39matleast_1d(\u001B[43mfun\u001B[49m\u001B[43m(\u001B[49m\u001B[43mx\u001B[49m\u001B[43m,\u001B[49m\u001B[43m \u001B[49m\u001B[38;5;241;43m*\u001B[39;49m\u001B[43margs\u001B[49m\u001B[43m,\u001B[49m\u001B[43m \u001B[49m\u001B[38;5;241;43m*\u001B[39;49m\u001B[38;5;241;43m*\u001B[39;49m\u001B[43mkwargs\u001B[49m\u001B[43m)\u001B[49m)\n\u001B[0;32m    457\u001B[0m     \u001B[38;5;28;01mif\u001B[39;00m f\u001B[38;5;241m.\u001B[39mndim \u001B[38;5;241m>\u001B[39m \u001B[38;5;241m1\u001B[39m:\n\u001B[0;32m    458\u001B[0m         \u001B[38;5;28;01mraise\u001B[39;00m \u001B[38;5;167;01mRuntimeError\u001B[39;00m(\u001B[38;5;124m\"\u001B[39m\u001B[38;5;124m`fun` return value has \u001B[39m\u001B[38;5;124m\"\u001B[39m\n\u001B[0;32m    459\u001B[0m                            \u001B[38;5;124m\"\u001B[39m\u001B[38;5;124mmore than 1 dimension.\u001B[39m\u001B[38;5;124m\"\u001B[39m)\n",
      "Cell \u001B[1;32mIn[38], line 5\u001B[0m, in \u001B[0;36mcost_function\u001B[1;34m(x, strikes, mkt_prices)\u001B[0m\n\u001B[0;32m      3\u001B[0m sigm, lamb, p, eta1, eta2 \u001B[38;5;241m=\u001B[39m x\n\u001B[0;32m      4\u001B[0m KOU \u001B[38;5;241m=\u001B[39m Kou_pricer(S0\u001B[38;5;241m=\u001B[39mS0, K\u001B[38;5;241m=\u001B[39mstrikes, ttm\u001B[38;5;241m=\u001B[39mT, r\u001B[38;5;241m=\u001B[39mr, sigma\u001B[38;5;241m=\u001B[39msigm, lambd\u001B[38;5;241m=\u001B[39mlamb, p\u001B[38;5;241m=\u001B[39mp, eta1\u001B[38;5;241m=\u001B[39meta1, eta2\u001B[38;5;241m=\u001B[39meta2, exercise\u001B[38;5;241m=\u001B[39mexercise)\n\u001B[1;32m----> 5\u001B[0m sq_err \u001B[38;5;241m=\u001B[39m np\u001B[38;5;241m.\u001B[39msum(p_weights\u001B[38;5;241m*\u001B[39m(\u001B[43mKOU\u001B[49m\u001B[38;5;241;43m.\u001B[39;49m\u001B[43mclosed_formula_put\u001B[49m\u001B[43m(\u001B[49m\u001B[43mstrikes\u001B[49m\u001B[43m)\u001B[49m \u001B[38;5;241m-\u001B[39m mkt_prices)\u001B[38;5;241m*\u001B[39m\u001B[38;5;241m*\u001B[39m\u001B[38;5;241m2\u001B[39m)\n\u001B[0;32m      6\u001B[0m \u001B[38;5;28;01mreturn\u001B[39;00m sq_err\n",
      "File \u001B[1;32m~\\PycharmProjects\\Margin-Loans-Pricing/functions\\KOUpricer.py:323\u001B[0m, in \u001B[0;36mKou_pricer.closed_formula_put\u001B[1;34m(self, K)\u001B[0m\n\u001B[0;32m    321\u001B[0m \u001B[38;5;28;01mdef\u001B[39;00m \u001B[38;5;21mclosed_formula_put\u001B[39m(\u001B[38;5;28mself\u001B[39m, K):\n\u001B[0;32m    322\u001B[0m     \u001B[38;5;28mself\u001B[39m\u001B[38;5;241m.\u001B[39mK \u001B[38;5;241m=\u001B[39m K\n\u001B[1;32m--> 323\u001B[0m     \u001B[38;5;28;01mreturn\u001B[39;00m \u001B[38;5;28;43mself\u001B[39;49m\u001B[38;5;241;43m.\u001B[39;49m\u001B[43mclosed_formula_call\u001B[49m\u001B[43m(\u001B[49m\u001B[38;5;28;43mself\u001B[39;49m\u001B[38;5;241;43m.\u001B[39;49m\u001B[43mK\u001B[49m\u001B[43m)\u001B[49m \u001B[38;5;241m+\u001B[39m (\u001B[38;5;28mself\u001B[39m\u001B[38;5;241m.\u001B[39mK \u001B[38;5;241m*\u001B[39m np\u001B[38;5;241m.\u001B[39mexp(\u001B[38;5;241m-\u001B[39m\u001B[38;5;28mself\u001B[39m\u001B[38;5;241m.\u001B[39mr \u001B[38;5;241m*\u001B[39m \u001B[38;5;28mself\u001B[39m\u001B[38;5;241m.\u001B[39mT) \u001B[38;5;241m-\u001B[39m \u001B[38;5;28mself\u001B[39m\u001B[38;5;241m.\u001B[39mS0)\n",
      "File \u001B[1;32m~\\PycharmProjects\\Margin-Loans-Pricing/functions\\KOUpricer.py:312\u001B[0m, in \u001B[0;36mKou_pricer.closed_formula_call\u001B[1;34m(self, K)\u001B[0m\n\u001B[0;32m    310\u001B[0m eta2_2 \u001B[38;5;241m=\u001B[39m \u001B[38;5;28mself\u001B[39m\u001B[38;5;241m.\u001B[39meta2 \u001B[38;5;241m+\u001B[39m \u001B[38;5;241m1\u001B[39m\n\u001B[0;32m    311\u001B[0m p2 \u001B[38;5;241m=\u001B[39m \u001B[38;5;28mself\u001B[39m\u001B[38;5;241m.\u001B[39mp \u001B[38;5;241m/\u001B[39m (\u001B[38;5;241m1\u001B[39m \u001B[38;5;241m+\u001B[39m zeta) \u001B[38;5;241m*\u001B[39m \u001B[38;5;28mself\u001B[39m\u001B[38;5;241m.\u001B[39meta1 \u001B[38;5;241m/\u001B[39m (\u001B[38;5;28mself\u001B[39m\u001B[38;5;241m.\u001B[39meta1 \u001B[38;5;241m-\u001B[39m \u001B[38;5;241m1\u001B[39m)\n\u001B[1;32m--> 312\u001B[0m vkjd_1 \u001B[38;5;241m=\u001B[39m \u001B[38;5;28mself\u001B[39m\u001B[38;5;241m.\u001B[39mS0 \u001B[38;5;241m*\u001B[39m \u001B[38;5;28;43mself\u001B[39;49m\u001B[38;5;241;43m.\u001B[39;49m\u001B[43mYfunction\u001B[49m\u001B[43m(\u001B[49m\u001B[38;5;28;43mself\u001B[39;49m\u001B[38;5;241;43m.\u001B[39;49m\u001B[43mr\u001B[49m\u001B[43m \u001B[49m\u001B[38;5;241;43m+\u001B[39;49m\u001B[43m \u001B[49m\u001B[38;5;241;43m1\u001B[39;49m\u001B[43m \u001B[49m\u001B[38;5;241;43m/\u001B[39;49m\u001B[43m \u001B[49m\u001B[38;5;241;43m2\u001B[39;49m\u001B[43m \u001B[49m\u001B[38;5;241;43m*\u001B[39;49m\u001B[43m \u001B[49m\u001B[38;5;28;43mself\u001B[39;49m\u001B[38;5;241;43m.\u001B[39;49m\u001B[43msigma\u001B[49m\u001B[43m \u001B[49m\u001B[38;5;241;43m*\u001B[39;49m\u001B[38;5;241;43m*\u001B[39;49m\u001B[43m \u001B[49m\u001B[38;5;241;43m2\u001B[39;49m\u001B[43m \u001B[49m\u001B[38;5;241;43m-\u001B[39;49m\u001B[43m \u001B[49m\u001B[38;5;28;43mself\u001B[39;49m\u001B[38;5;241;43m.\u001B[39;49m\u001B[43mlambd\u001B[49m\u001B[43m \u001B[49m\u001B[38;5;241;43m*\u001B[39;49m\u001B[43m \u001B[49m\u001B[43mzeta\u001B[49m\u001B[43m,\u001B[49m\u001B[43m \u001B[49m\u001B[38;5;28;43mself\u001B[39;49m\u001B[38;5;241;43m.\u001B[39;49m\u001B[43msigma\u001B[49m\u001B[43m,\u001B[49m\u001B[43m \u001B[49m\u001B[43mlambd2\u001B[49m\u001B[43m,\u001B[49m\u001B[43m \u001B[49m\u001B[43mp2\u001B[49m\u001B[43m,\u001B[49m\n\u001B[0;32m    313\u001B[0m \u001B[43m                                  \u001B[49m\u001B[43meta1_2\u001B[49m\u001B[43m,\u001B[49m\u001B[43m \u001B[49m\u001B[43meta2_2\u001B[49m\u001B[43m,\u001B[49m\u001B[43m \u001B[49m\u001B[43mnp\u001B[49m\u001B[38;5;241;43m.\u001B[39;49m\u001B[43mlog\u001B[49m\u001B[43m(\u001B[49m\u001B[38;5;28;43mself\u001B[39;49m\u001B[38;5;241;43m.\u001B[39;49m\u001B[43mK\u001B[49m\u001B[43m \u001B[49m\u001B[38;5;241;43m/\u001B[39;49m\u001B[43m \u001B[49m\u001B[38;5;28;43mself\u001B[39;49m\u001B[38;5;241;43m.\u001B[39;49m\u001B[43mS0\u001B[49m\u001B[43m)\u001B[49m\u001B[43m,\u001B[49m\u001B[43m \u001B[49m\u001B[38;5;28;43mself\u001B[39;49m\u001B[38;5;241;43m.\u001B[39;49m\u001B[43mT\u001B[49m\u001B[43m)\u001B[49m\n\u001B[0;32m    314\u001B[0m vkjd_2 \u001B[38;5;241m=\u001B[39m \u001B[38;5;28mself\u001B[39m\u001B[38;5;241m.\u001B[39mK \u001B[38;5;241m*\u001B[39m np\u001B[38;5;241m.\u001B[39mexp(\u001B[38;5;241m-\u001B[39m\u001B[38;5;28mself\u001B[39m\u001B[38;5;241m.\u001B[39mr \u001B[38;5;241m*\u001B[39m \u001B[38;5;28mself\u001B[39m\u001B[38;5;241m.\u001B[39mT) \u001B[38;5;241m*\u001B[39m \u001B[38;5;28mself\u001B[39m\u001B[38;5;241m.\u001B[39mYfunction(\n\u001B[0;32m    315\u001B[0m     \u001B[38;5;28mself\u001B[39m\u001B[38;5;241m.\u001B[39mr \u001B[38;5;241m-\u001B[39m \u001B[38;5;241m1\u001B[39m \u001B[38;5;241m/\u001B[39m \u001B[38;5;241m2\u001B[39m \u001B[38;5;241m*\u001B[39m \u001B[38;5;28mself\u001B[39m\u001B[38;5;241m.\u001B[39msigma \u001B[38;5;241m*\u001B[39m\u001B[38;5;241m*\u001B[39m \u001B[38;5;241m2\u001B[39m \u001B[38;5;241m-\u001B[39m \u001B[38;5;28mself\u001B[39m\u001B[38;5;241m.\u001B[39mlambd \u001B[38;5;241m*\u001B[39m zeta,\n\u001B[0;32m    316\u001B[0m     \u001B[38;5;28mself\u001B[39m\u001B[38;5;241m.\u001B[39msigma, \u001B[38;5;28mself\u001B[39m\u001B[38;5;241m.\u001B[39mlambd, \u001B[38;5;28mself\u001B[39m\u001B[38;5;241m.\u001B[39mp, \u001B[38;5;28mself\u001B[39m\u001B[38;5;241m.\u001B[39meta1, \u001B[38;5;28mself\u001B[39m\u001B[38;5;241m.\u001B[39meta2,\n\u001B[0;32m    317\u001B[0m     np\u001B[38;5;241m.\u001B[39mlog(\u001B[38;5;28mself\u001B[39m\u001B[38;5;241m.\u001B[39mK \u001B[38;5;241m/\u001B[39m \u001B[38;5;28mself\u001B[39m\u001B[38;5;241m.\u001B[39mS0), \u001B[38;5;28mself\u001B[39m\u001B[38;5;241m.\u001B[39mT)\n\u001B[0;32m    319\u001B[0m \u001B[38;5;28;01mreturn\u001B[39;00m vkjd_1 \u001B[38;5;241m-\u001B[39m vkjd_2\n",
      "File \u001B[1;32m~\\PycharmProjects\\Margin-Loans-Pricing/functions\\KOUpricer.py:288\u001B[0m, in \u001B[0;36mKou_pricer.Yfunction\u001B[1;34m(self, mu, sigma, lambd, p, eta1, eta2, a, T)\u001B[0m\n\u001B[0;32m    285\u001B[0m sumq1_n \u001B[38;5;241m=\u001B[39m \u001B[38;5;241m0\u001B[39m\n\u001B[0;32m    286\u001B[0m \u001B[38;5;28;01mfor\u001B[39;00m k \u001B[38;5;129;01min\u001B[39;00m \u001B[38;5;28mrange\u001B[39m(\u001B[38;5;241m1\u001B[39m, n \u001B[38;5;241m+\u001B[39m \u001B[38;5;241m1\u001B[39m):\n\u001B[0;32m    287\u001B[0m     sump2_k \u001B[38;5;241m=\u001B[39m \u001B[38;5;28mself\u001B[39m\u001B[38;5;241m.\u001B[39mP(n, k, eta1, eta2, p) \u001B[38;5;241m*\u001B[39m (sigma \u001B[38;5;241m*\u001B[39m np\u001B[38;5;241m.\u001B[39msqrt(T) \u001B[38;5;241m*\u001B[39m eta1) \u001B[38;5;241m*\u001B[39m\u001B[38;5;241m*\u001B[39m k \u001B[38;5;241m*\u001B[39m \\\n\u001B[1;32m--> 288\u001B[0m               \u001B[38;5;28;43mself\u001B[39;49m\u001B[38;5;241;43m.\u001B[39;49m\u001B[43mI\u001B[49m\u001B[43m(\u001B[49m\u001B[43mk\u001B[49m\u001B[43m \u001B[49m\u001B[38;5;241;43m-\u001B[39;49m\u001B[43m \u001B[49m\u001B[38;5;241;43m1\u001B[39;49m\u001B[43m,\u001B[49m\u001B[43m \u001B[49m\u001B[43ma\u001B[49m\u001B[43m \u001B[49m\u001B[38;5;241;43m-\u001B[39;49m\u001B[43m \u001B[49m\u001B[43mmu\u001B[49m\u001B[43m \u001B[49m\u001B[38;5;241;43m*\u001B[39;49m\u001B[43m \u001B[49m\u001B[43mT\u001B[49m\u001B[43m,\u001B[49m\u001B[43m \u001B[49m\u001B[38;5;241;43m-\u001B[39;49m\u001B[43meta1\u001B[49m\u001B[43m,\u001B[49m\u001B[43m \u001B[49m\u001B[38;5;241;43m-\u001B[39;49m\u001B[38;5;241;43m1\u001B[39;49m\u001B[43m \u001B[49m\u001B[38;5;241;43m/\u001B[39;49m\u001B[43m \u001B[49m\u001B[43m(\u001B[49m\u001B[43msigma\u001B[49m\u001B[43m \u001B[49m\u001B[38;5;241;43m*\u001B[39;49m\u001B[43m \u001B[49m\u001B[43mnp\u001B[49m\u001B[38;5;241;43m.\u001B[39;49m\u001B[43msqrt\u001B[49m\u001B[43m(\u001B[49m\u001B[43mT\u001B[49m\u001B[43m)\u001B[49m\u001B[43m)\u001B[49m\u001B[43m,\u001B[49m\u001B[43m \u001B[49m\u001B[38;5;241;43m-\u001B[39;49m\u001B[43msigma\u001B[49m\u001B[43m \u001B[49m\u001B[38;5;241;43m*\u001B[39;49m\u001B[43m \u001B[49m\u001B[43meta1\u001B[49m\u001B[43m \u001B[49m\u001B[38;5;241;43m*\u001B[39;49m\u001B[43m \u001B[49m\u001B[43mnp\u001B[49m\u001B[38;5;241;43m.\u001B[39;49m\u001B[43msqrt\u001B[49m\u001B[43m(\u001B[49m\u001B[43mT\u001B[49m\u001B[43m)\u001B[49m\u001B[43m)\u001B[49m\n\u001B[0;32m    290\u001B[0m     sumq2_k \u001B[38;5;241m=\u001B[39m \u001B[38;5;28mself\u001B[39m\u001B[38;5;241m.\u001B[39mQ(n, k, eta1, eta2, p) \u001B[38;5;241m*\u001B[39m (sigma \u001B[38;5;241m*\u001B[39m np\u001B[38;5;241m.\u001B[39msqrt(T) \u001B[38;5;241m*\u001B[39m eta2) \u001B[38;5;241m*\u001B[39m\u001B[38;5;241m*\u001B[39m k \u001B[38;5;241m*\u001B[39m \\\n\u001B[0;32m    291\u001B[0m               \u001B[38;5;28mself\u001B[39m\u001B[38;5;241m.\u001B[39mI(k \u001B[38;5;241m-\u001B[39m \u001B[38;5;241m1\u001B[39m, a \u001B[38;5;241m-\u001B[39m mu \u001B[38;5;241m*\u001B[39m T, eta2, \u001B[38;5;241m1\u001B[39m \u001B[38;5;241m/\u001B[39m (sigma \u001B[38;5;241m*\u001B[39m np\u001B[38;5;241m.\u001B[39msqrt(T)), \u001B[38;5;241m-\u001B[39msigma \u001B[38;5;241m*\u001B[39m eta2 \u001B[38;5;241m*\u001B[39m np\u001B[38;5;241m.\u001B[39msqrt(T))\n\u001B[0;32m    293\u001B[0m     sump1_n \u001B[38;5;241m+\u001B[39m\u001B[38;5;241m=\u001B[39m sump2_k\n",
      "File \u001B[1;32m~\\PycharmProjects\\Margin-Loans-Pricing/functions\\KOUpricer.py:258\u001B[0m, in \u001B[0;36mKou_pricer.I\u001B[1;34m(self, n, c, alpha, beta, delta)\u001B[0m\n\u001B[0;32m    256\u001B[0m i \u001B[38;5;241m=\u001B[39m \u001B[38;5;241m0\u001B[39m\n\u001B[0;32m    257\u001B[0m \u001B[38;5;28;01mwhile\u001B[39;00m i \u001B[38;5;241m<\u001B[39m\u001B[38;5;241m=\u001B[39m n:\n\u001B[1;32m--> 258\u001B[0m     sum_i \u001B[38;5;241m=\u001B[39m sum_i \u001B[38;5;241m+\u001B[39m (beta \u001B[38;5;241m/\u001B[39m alpha) \u001B[38;5;241m*\u001B[39m\u001B[38;5;241m*\u001B[39m (n \u001B[38;5;241m-\u001B[39m i) \u001B[38;5;241m*\u001B[39m \u001B[38;5;28;43mself\u001B[39;49m\u001B[38;5;241;43m.\u001B[39;49m\u001B[43mHh\u001B[49m\u001B[43m(\u001B[49m\u001B[43mi\u001B[49m\u001B[43m,\u001B[49m\u001B[43m \u001B[49m\u001B[43mbeta\u001B[49m\u001B[43m \u001B[49m\u001B[38;5;241;43m*\u001B[39;49m\u001B[43m \u001B[49m\u001B[43mc\u001B[49m\u001B[43m \u001B[49m\u001B[38;5;241;43m-\u001B[39;49m\u001B[43m \u001B[49m\u001B[43mdelta\u001B[49m\u001B[43m)\u001B[49m\n\u001B[0;32m    259\u001B[0m     i \u001B[38;5;241m+\u001B[39m\u001B[38;5;241m=\u001B[39m \u001B[38;5;241m1\u001B[39m\n\u001B[0;32m    260\u001B[0m \u001B[38;5;28;01mreturn\u001B[39;00m \u001B[38;5;241m-\u001B[39mnp\u001B[38;5;241m.\u001B[39mexp(alpha \u001B[38;5;241m*\u001B[39m c) \u001B[38;5;241m/\u001B[39m alpha \u001B[38;5;241m*\u001B[39m sum_i \u001B[38;5;241m-\u001B[39m (beta \u001B[38;5;241m/\u001B[39m alpha) \u001B[38;5;241m*\u001B[39m\u001B[38;5;241m*\u001B[39m (n \u001B[38;5;241m+\u001B[39m \u001B[38;5;241m1\u001B[39m) \u001B[38;5;241m*\u001B[39m (np\u001B[38;5;241m.\u001B[39msqrt(\u001B[38;5;241m2\u001B[39m \u001B[38;5;241m*\u001B[39m np\u001B[38;5;241m.\u001B[39mpi) \u001B[38;5;241m/\u001B[39m beta) \\\n\u001B[0;32m    261\u001B[0m        \u001B[38;5;241m*\u001B[39m np\u001B[38;5;241m.\u001B[39mexp((alpha \u001B[38;5;241m*\u001B[39m delta \u001B[38;5;241m/\u001B[39m beta) \u001B[38;5;241m+\u001B[39m (alpha \u001B[38;5;241m*\u001B[39m\u001B[38;5;241m*\u001B[39m \u001B[38;5;241m2\u001B[39m \u001B[38;5;241m/\u001B[39m (\u001B[38;5;241m2\u001B[39m \u001B[38;5;241m*\u001B[39m beta \u001B[38;5;241m*\u001B[39m\u001B[38;5;241m*\u001B[39m \u001B[38;5;241m2\u001B[39m))) \u001B[38;5;241m*\u001B[39m scs\u001B[38;5;241m.\u001B[39mnorm\u001B[38;5;241m.\u001B[39mcdf(\n\u001B[0;32m    262\u001B[0m     beta \u001B[38;5;241m*\u001B[39m c \u001B[38;5;241m-\u001B[39m delta \u001B[38;5;241m-\u001B[39m alpha \u001B[38;5;241m/\u001B[39m beta)\n",
      "File \u001B[1;32m~\\PycharmProjects\\Margin-Loans-Pricing/functions\\KOUpricer.py:219\u001B[0m, in \u001B[0;36mKou_pricer.Hh\u001B[1;34m(self, n, x)\u001B[0m\n\u001B[0;32m    217\u001B[0m     \u001B[38;5;28;01mreturn\u001B[39;00m np\u001B[38;5;241m.\u001B[39msqrt(\u001B[38;5;241m2\u001B[39m \u001B[38;5;241m*\u001B[39m np\u001B[38;5;241m.\u001B[39mpi) \u001B[38;5;241m*\u001B[39m scs\u001B[38;5;241m.\u001B[39mnorm\u001B[38;5;241m.\u001B[39mcdf(\u001B[38;5;241m-\u001B[39mx)\n\u001B[0;32m    218\u001B[0m \u001B[38;5;28;01melse\u001B[39;00m:\n\u001B[1;32m--> 219\u001B[0m     \u001B[38;5;28;01mreturn\u001B[39;00m (\u001B[38;5;28;43mself\u001B[39;49m\u001B[38;5;241;43m.\u001B[39;49m\u001B[43mHh\u001B[49m\u001B[43m(\u001B[49m\u001B[43mn\u001B[49m\u001B[43m \u001B[49m\u001B[38;5;241;43m-\u001B[39;49m\u001B[43m \u001B[49m\u001B[38;5;241;43m2\u001B[39;49m\u001B[43m,\u001B[49m\u001B[43m \u001B[49m\u001B[43mx\u001B[49m\u001B[43m)\u001B[49m \u001B[38;5;241m-\u001B[39m x \u001B[38;5;241m*\u001B[39m \u001B[38;5;28mself\u001B[39m\u001B[38;5;241m.\u001B[39mHh(n \u001B[38;5;241m-\u001B[39m \u001B[38;5;241m1\u001B[39m, x)) \u001B[38;5;241m/\u001B[39m n\n",
      "File \u001B[1;32m~\\PycharmProjects\\Margin-Loans-Pricing/functions\\KOUpricer.py:215\u001B[0m, in \u001B[0;36mKou_pricer.Hh\u001B[1;34m(self, n, x)\u001B[0m\n\u001B[0;32m    213\u001B[0m     \u001B[38;5;28;01mreturn\u001B[39;00m \u001B[38;5;241m0\u001B[39m\n\u001B[0;32m    214\u001B[0m \u001B[38;5;28;01melif\u001B[39;00m n \u001B[38;5;241m==\u001B[39m \u001B[38;5;241m-\u001B[39m\u001B[38;5;241m1\u001B[39m:\n\u001B[1;32m--> 215\u001B[0m     \u001B[38;5;28;01mreturn\u001B[39;00m np\u001B[38;5;241m.\u001B[39mexp(\u001B[38;5;241;43m-\u001B[39;49m\u001B[43mx\u001B[49m\u001B[43m \u001B[49m\u001B[38;5;241;43m*\u001B[39;49m\u001B[38;5;241;43m*\u001B[39;49m\u001B[43m \u001B[49m\u001B[38;5;241;43m2\u001B[39;49m\u001B[43m \u001B[49m\u001B[38;5;241;43m/\u001B[39;49m\u001B[43m \u001B[49m\u001B[38;5;241;43m2\u001B[39;49m)\n\u001B[0;32m    216\u001B[0m \u001B[38;5;28;01melif\u001B[39;00m n \u001B[38;5;241m==\u001B[39m \u001B[38;5;241m0\u001B[39m:\n\u001B[0;32m    217\u001B[0m     \u001B[38;5;28;01mreturn\u001B[39;00m np\u001B[38;5;241m.\u001B[39msqrt(\u001B[38;5;241m2\u001B[39m \u001B[38;5;241m*\u001B[39m np\u001B[38;5;241m.\u001B[39mpi) \u001B[38;5;241m*\u001B[39m scs\u001B[38;5;241m.\u001B[39mnorm\u001B[38;5;241m.\u001B[39mcdf(\u001B[38;5;241m-\u001B[39mx)\n",
      "File \u001B[1;32m~\\PycharmProjects\\Margin-Loans-Pricing\\venv\\Lib\\site-packages\\pandas\\core\\ops\\common.py:76\u001B[0m, in \u001B[0;36m_unpack_zerodim_and_defer.<locals>.new_method\u001B[1;34m(self, other)\u001B[0m\n\u001B[0;32m     72\u001B[0m             \u001B[38;5;28;01mreturn\u001B[39;00m \u001B[38;5;28mNotImplemented\u001B[39m\n\u001B[0;32m     74\u001B[0m other \u001B[38;5;241m=\u001B[39m item_from_zerodim(other)\n\u001B[1;32m---> 76\u001B[0m \u001B[38;5;28;01mreturn\u001B[39;00m \u001B[43mmethod\u001B[49m\u001B[43m(\u001B[49m\u001B[38;5;28;43mself\u001B[39;49m\u001B[43m,\u001B[49m\u001B[43m \u001B[49m\u001B[43mother\u001B[49m\u001B[43m)\u001B[49m\n",
      "File \u001B[1;32m~\\PycharmProjects\\Margin-Loans-Pricing\\venv\\Lib\\site-packages\\pandas\\core\\arraylike.py:210\u001B[0m, in \u001B[0;36mOpsMixin.__truediv__\u001B[1;34m(self, other)\u001B[0m\n\u001B[0;32m    208\u001B[0m \u001B[38;5;129m@unpack_zerodim_and_defer\u001B[39m(\u001B[38;5;124m\"\u001B[39m\u001B[38;5;124m__truediv__\u001B[39m\u001B[38;5;124m\"\u001B[39m)\n\u001B[0;32m    209\u001B[0m \u001B[38;5;28;01mdef\u001B[39;00m \u001B[38;5;21m__truediv__\u001B[39m(\u001B[38;5;28mself\u001B[39m, other):\n\u001B[1;32m--> 210\u001B[0m     \u001B[38;5;28;01mreturn\u001B[39;00m \u001B[38;5;28;43mself\u001B[39;49m\u001B[38;5;241;43m.\u001B[39;49m\u001B[43m_arith_method\u001B[49m\u001B[43m(\u001B[49m\u001B[43mother\u001B[49m\u001B[43m,\u001B[49m\u001B[43m \u001B[49m\u001B[43moperator\u001B[49m\u001B[38;5;241;43m.\u001B[39;49m\u001B[43mtruediv\u001B[49m\u001B[43m)\u001B[49m\n",
      "File \u001B[1;32m~\\PycharmProjects\\Margin-Loans-Pricing\\venv\\Lib\\site-packages\\pandas\\core\\series.py:5820\u001B[0m, in \u001B[0;36mSeries._arith_method\u001B[1;34m(self, other, op)\u001B[0m\n\u001B[0;32m   5818\u001B[0m \u001B[38;5;28;01mdef\u001B[39;00m \u001B[38;5;21m_arith_method\u001B[39m(\u001B[38;5;28mself\u001B[39m, other, op):\n\u001B[0;32m   5819\u001B[0m     \u001B[38;5;28mself\u001B[39m, other \u001B[38;5;241m=\u001B[39m \u001B[38;5;28mself\u001B[39m\u001B[38;5;241m.\u001B[39m_align_for_op(other)\n\u001B[1;32m-> 5820\u001B[0m     \u001B[38;5;28;01mreturn\u001B[39;00m \u001B[43mbase\u001B[49m\u001B[38;5;241;43m.\u001B[39;49m\u001B[43mIndexOpsMixin\u001B[49m\u001B[38;5;241;43m.\u001B[39;49m\u001B[43m_arith_method\u001B[49m\u001B[43m(\u001B[49m\u001B[38;5;28;43mself\u001B[39;49m\u001B[43m,\u001B[49m\u001B[43m \u001B[49m\u001B[43mother\u001B[49m\u001B[43m,\u001B[49m\u001B[43m \u001B[49m\u001B[43mop\u001B[49m\u001B[43m)\u001B[49m\n",
      "File \u001B[1;32m~\\PycharmProjects\\Margin-Loans-Pricing\\venv\\Lib\\site-packages\\pandas\\core\\base.py:1381\u001B[0m, in \u001B[0;36mIndexOpsMixin._arith_method\u001B[1;34m(self, other, op)\u001B[0m\n\u001B[0;32m   1378\u001B[0m     rvalues \u001B[38;5;241m=\u001B[39m np\u001B[38;5;241m.\u001B[39marange(rvalues\u001B[38;5;241m.\u001B[39mstart, rvalues\u001B[38;5;241m.\u001B[39mstop, rvalues\u001B[38;5;241m.\u001B[39mstep)\n\u001B[0;32m   1380\u001B[0m \u001B[38;5;28;01mwith\u001B[39;00m np\u001B[38;5;241m.\u001B[39merrstate(\u001B[38;5;28mall\u001B[39m\u001B[38;5;241m=\u001B[39m\u001B[38;5;124m\"\u001B[39m\u001B[38;5;124mignore\u001B[39m\u001B[38;5;124m\"\u001B[39m):\n\u001B[1;32m-> 1381\u001B[0m     result \u001B[38;5;241m=\u001B[39m \u001B[43mops\u001B[49m\u001B[38;5;241;43m.\u001B[39;49m\u001B[43marithmetic_op\u001B[49m\u001B[43m(\u001B[49m\u001B[43mlvalues\u001B[49m\u001B[43m,\u001B[49m\u001B[43m \u001B[49m\u001B[43mrvalues\u001B[49m\u001B[43m,\u001B[49m\u001B[43m \u001B[49m\u001B[43mop\u001B[49m\u001B[43m)\u001B[49m\n\u001B[0;32m   1383\u001B[0m \u001B[38;5;28;01mreturn\u001B[39;00m \u001B[38;5;28mself\u001B[39m\u001B[38;5;241m.\u001B[39m_construct_result(result, name\u001B[38;5;241m=\u001B[39mres_name)\n",
      "File \u001B[1;32m~\\PycharmProjects\\Margin-Loans-Pricing\\venv\\Lib\\site-packages\\pandas\\core\\ops\\array_ops.py:285\u001B[0m, in \u001B[0;36marithmetic_op\u001B[1;34m(left, right, op)\u001B[0m\n\u001B[0;32m    281\u001B[0m     _bool_arith_check(op, left, right)  \u001B[38;5;66;03m# type: ignore[arg-type]\u001B[39;00m\n\u001B[0;32m    283\u001B[0m     \u001B[38;5;66;03m# error: Argument 1 to \"_na_arithmetic_op\" has incompatible type\u001B[39;00m\n\u001B[0;32m    284\u001B[0m     \u001B[38;5;66;03m# \"Union[ExtensionArray, ndarray[Any, Any]]\"; expected \"ndarray[Any, Any]\"\u001B[39;00m\n\u001B[1;32m--> 285\u001B[0m     res_values \u001B[38;5;241m=\u001B[39m \u001B[43m_na_arithmetic_op\u001B[49m\u001B[43m(\u001B[49m\u001B[43mleft\u001B[49m\u001B[43m,\u001B[49m\u001B[43m \u001B[49m\u001B[43mright\u001B[49m\u001B[43m,\u001B[49m\u001B[43m \u001B[49m\u001B[43mop\u001B[49m\u001B[43m)\u001B[49m  \u001B[38;5;66;03m# type: ignore[arg-type]\u001B[39;00m\n\u001B[0;32m    287\u001B[0m \u001B[38;5;28;01mreturn\u001B[39;00m res_values\n",
      "File \u001B[1;32m~\\PycharmProjects\\Margin-Loans-Pricing\\venv\\Lib\\site-packages\\pandas\\core\\ops\\array_ops.py:217\u001B[0m, in \u001B[0;36m_na_arithmetic_op\u001B[1;34m(left, right, op, is_cmp)\u001B[0m\n\u001B[0;32m    215\u001B[0m     func \u001B[38;5;241m=\u001B[39m op\n\u001B[0;32m    216\u001B[0m \u001B[38;5;28;01melse\u001B[39;00m:\n\u001B[1;32m--> 217\u001B[0m     func \u001B[38;5;241m=\u001B[39m \u001B[43mpartial\u001B[49m\u001B[43m(\u001B[49m\u001B[43mexpressions\u001B[49m\u001B[38;5;241;43m.\u001B[39;49m\u001B[43mevaluate\u001B[49m\u001B[43m,\u001B[49m\u001B[43m \u001B[49m\u001B[43mop\u001B[49m\u001B[43m)\u001B[49m\n\u001B[0;32m    219\u001B[0m \u001B[38;5;28;01mtry\u001B[39;00m:\n\u001B[0;32m    220\u001B[0m     result \u001B[38;5;241m=\u001B[39m func(left, right)\n",
      "\u001B[1;31mKeyboardInterrupt\u001B[0m: "
     ]
    }
   ],
   "source": [
    "# Define the objective function\n",
    "def cost_function(x, strikes, mkt_prices):\n",
    "    sigm, lamb, p, eta1, eta2 = x\n",
    "    KOU = Kou_pricer(S0=S0, K=strikes, ttm=T, r=r, sigma=sigm, lambd=lamb, p=p, eta1=eta1, eta2=eta2, exercise=exercise)\n",
    "    sq_err = np.sum(p_weights*(KOU.closed_formula_put(strikes) - mkt_prices)**2)\n",
    "    return sq_err\n",
    "\n",
    "start2=time.time()\n",
    "kou2 = scpo.least_squares(cost_function, x0, args=(put_strikes, put_prices),  method='trf', bounds=bounds, verbose=1)\n",
    "end2=time.time()"
   ],
   "metadata": {
    "collapsed": false,
    "ExecuteTime": {
     "end_time": "2023-09-01T00:05:34.596331700Z",
     "start_time": "2023-08-31T23:35:24.447892800Z"
    }
   }
  },
  {
   "cell_type": "code",
   "execution_count": 39,
   "outputs": [],
   "source": [
    "kou_params2 = [round(p,4) for p in kou2.x[:5]]"
   ],
   "metadata": {
    "collapsed": false
   }
  },
  {
   "cell_type": "code",
   "execution_count": 40,
   "outputs": [],
   "source": [
    "# print('WEIGHTED OPT: CURVE_FIT (trf)')\n",
    "# print(f'> Calibrated Volatlity [σ] = {kou_params1[0]} \\t {kou_params1[0] * 100}%')\n",
    "# print('> Calibrated Jump intensity [λ] = ', kou_params1[1])\n",
    "# print(f'> Calibrated Upward Jump probability [p] = {kou_params1[2]}, [q] = {round(1 - kou_params1[2], 2)}')\n",
    "# print('> Calibrated Rate of Exp. 1  [η_1] = ', kou_params1[3])\n",
    "# print('> Calibrated Rate of Exp. 2  [η_2] = ', kou_params1[4])\n",
    "# print(f'TIME ELAPSED: {end1-start1} sec')"
   ],
   "metadata": {
    "collapsed": false
   }
  },
  {
   "cell_type": "code",
   "execution_count": 41,
   "outputs": [
    {
     "name": "stdout",
     "output_type": "stream",
     "text": [
      "METHOD 2: Least-squares\n",
      "> Calibrated Volatlity [σ] = 0.408 \t 40.8%\n",
      "> Calibrated Jump intensity [λ] =  0.81\n",
      "> Calibrated Upward Jump probability [p] = 0.26, [q] = 0.74\n",
      "> Calibrated Rate of Exp. 1  [η_1] =  5.97\n",
      "> Calibrated Rate of Exp. 2  [η_2] =  8.97\n",
      "TIME ELAPSED:  4263.89 sec\n"
     ]
    }
   ],
   "source": [
    "print('METHOD 2: Least-squares')\n",
    "print(f'> Calibrated Volatlity [σ] = {round(kou_params2[0],4)} \\t {round(kou_params2[0]*100,2)}%')\n",
    "print('> Calibrated Jump intensity [λ] = ', round(kou_params2[1],2))\n",
    "print(f'> Calibrated Upward Jump probability [p] = {round(kou_params2[2],2)}, [q] = {round(1-kou_params2[2],2)}')\n",
    "print('> Calibrated Rate of Exp. 1  [η_1] = ', round(kou_params2[3],2))\n",
    "print('> Calibrated Rate of Exp. 2  [η_2] = ', round(kou_params2[4],2))\n",
    "print(f'TIME ELAPSED:  {round(end2-start2,2)} sec')"
   ],
   "metadata": {
    "collapsed": false
   }
  },
  {
   "cell_type": "code",
   "execution_count": 42,
   "outputs": [
    {
     "name": "stdout",
     "output_type": "stream",
     "text": [
      "[0.408, 0.8058, 0.2636, 5.9677, 8.9657]\n"
     ]
    }
   ],
   "source": [
    "#print(kou_params1)\n",
    "print(kou_params2)\n",
    "puts_kou_params_nvda = kou_params2\n",
    "%store puts_kou_params_nvda"
   ],
   "metadata": {
    "collapsed": false
   }
  },
  {
   "cell_type": "markdown",
   "source": [
    "### Variance Gamma\n"
   ],
   "metadata": {
    "collapsed": false
   }
  },
  {
   "cell_type": "code",
   "execution_count": 43,
   "outputs": [],
   "source": [
    "x0 = [0.2, -0.3, 0.1]   # initial guess: [σ, θ, v]\n",
    "bounds = ( [1e-3, -5, 0], [3, 5, 10] )"
   ],
   "metadata": {
    "collapsed": false
   }
  },
  {
   "cell_type": "markdown",
   "source": [
    "##### Method 1. CURVE FIT (Bounds)"
   ],
   "metadata": {
    "collapsed": false
   }
  },
  {
   "cell_type": "code",
   "execution_count": 44,
   "outputs": [],
   "source": [
    "def f_VG(strikes, sigmax, thetax, nux):\n",
    "    VGamma = VG_pricer(S0=S0, K=None, ttm=T, r=r, q=0, sigma=sigmax, theta=thetax, nu=nux, exercise='put')\n",
    "    vg_prices = []\n",
    "    for k in strikes:\n",
    "        vg_prices.append(VGamma.closed_formula_put(k))\n",
    "    return vg_prices\n",
    "\n",
    "start1 = time.time()\n",
    "vg1 = scpo.curve_fit(f_VG, put_strikes, put_prices, p0=x0, bounds=bounds, sigma=p_weights)\n",
    "end1 = time.time()\n",
    "\n",
    "vg_params1 = [round(p,4) for p in vg1[0][:3]]"
   ],
   "metadata": {
    "collapsed": false
   }
  },
  {
   "cell_type": "markdown",
   "source": [
    "##### Method 2. LEAST-SQUARES (Trust Region Reflective, Bounds)"
   ],
   "metadata": {
    "collapsed": false
   }
  },
  {
   "cell_type": "code",
   "execution_count": 45,
   "outputs": [
    {
     "name": "stdout",
     "output_type": "stream",
     "text": [
      "   Iteration     Total nfev        Cost      Cost reduction    Step norm     Optimality   \n",
      "       0              1         1.7112e+03                                    3.57e+04    \n",
      "       1              2         6.0481e+02      1.11e+03       3.68e-01       1.99e+04    \n",
      "       2              3         7.1382e+01      5.33e+02       3.51e-01       8.36e+03    \n",
      "       3              5         5.4112e+01      1.73e+01       7.51e-02       1.93e+03    \n",
      "       4              6         3.2274e+01      2.18e+01       1.29e-02       1.40e+03    \n",
      "       5              7         7.2853e+00      2.50e+01       2.58e-02       5.59e+02    \n",
      "       6              8         4.6039e+00      2.68e+00       2.76e-02       1.31e+03    \n",
      "       7              9         3.1738e+00      1.43e+00       9.27e-03       2.62e+02    \n",
      "       8             10         2.6342e+00      5.40e-01       8.99e-03       1.77e+02    \n",
      "       9             12         2.5766e+00      5.76e-02       2.60e-03       1.96e+02    \n",
      "      10             13         2.4491e+00      1.27e-01       2.88e-03       1.75e+02    \n",
      "      11             14         2.2445e+00      2.05e-01       6.37e-03       1.49e+02    \n",
      "      12             16         2.1841e+00      6.03e-02       2.91e-03       1.73e+02    \n",
      "      13             17         2.0718e+00      1.12e-01       2.88e-03       1.55e+02    \n",
      "      14             18         1.8883e+00      1.84e-01       6.39e-03       1.34e+02    \n",
      "      15             20         1.8411e+00      4.72e-02       2.90e-03       1.54e+02    \n",
      "      16             21         1.7391e+00      1.02e-01       2.79e-03       1.38e+02    \n",
      "      17             22         1.5776e+00      1.62e-01       6.36e-03       1.18e+02    \n",
      "      18             24         1.5475e+00      3.01e-02       2.86e-03       1.36e+02    \n",
      "      19             25         1.4532e+00      9.43e-02       2.67e-03       1.21e+02    \n",
      "      20             26         1.3136e+00      1.40e-01       6.32e-03       1.03e+02    \n",
      "      21             28         1.3041e+00      9.45e-03       2.78e-03       1.19e+02    \n",
      "      22             29         1.2776e+00      2.66e-02       6.31e-04       1.16e+02    \n",
      "      23             30         1.2319e+00      4.56e-02       1.33e-03       1.09e+02    \n",
      "      24             31         1.1617e+00      7.03e-02       2.95e-03       9.90e+01    \n",
      "      25             32         1.0385e+00      1.23e-01       6.51e-03       8.77e+01    \n",
      "      26             34         1.0142e+00      2.43e-02       3.01e-03       9.34e+01    \n",
      "      27             35         9.4621e-01      6.80e-02       2.65e-03       8.40e+01    \n",
      "      28             36         8.4615e-01      1.00e-01       6.55e-03       7.20e+01    \n",
      "      29             39         8.3316e-01      1.30e-02       6.83e-04       7.36e+01    \n",
      "      30             40         8.2075e-01      1.24e-02       8.33e-04       7.23e+01    \n",
      "      31             41         7.9648e-01      2.43e-02       1.66e-03       7.00e+01    \n",
      "      32             42         7.5035e-01      4.61e-02       3.32e-03       6.63e+01    \n",
      "      33             43         6.6892e-01      8.14e-02       6.71e-03       5.65e+01    \n",
      "      34             46         6.5911e-01      9.82e-03       6.83e-04       5.70e+01    \n",
      "      35             47         6.4909e-01      1.00e-02       8.53e-04       5.59e+01    \n",
      "      36             48         6.2978e-01      1.93e-02       1.71e-03       5.36e+01    \n",
      "      37             49         5.9467e-01      3.51e-02       3.39e-03       5.01e+01    \n",
      "      38             50         5.3963e-01      5.50e-02       6.74e-03       8.40e+01    \n",
      "      39             52         5.3060e-01      9.02e-03       1.23e-03       4.27e+01    \n",
      "      40             53         5.2552e-01      5.08e-03       3.78e-04       4.14e+01    \n",
      "      41             54         5.1649e-01      9.03e-03       7.90e-04       4.05e+01    \n",
      "      42             55         5.0127e-01      1.52e-02       1.70e-03       3.87e+01    \n",
      "      43             56         4.7359e-01      2.77e-02       3.56e-03       3.50e+01    \n",
      "      44             58         4.6456e-01      9.02e-03       1.68e-03       3.80e+01    \n",
      "      45             59         4.5079e-01      1.38e-02       1.62e-03       3.18e+01    \n",
      "      46             60         4.2738e-01      2.34e-02       3.65e-03       2.85e+01    \n",
      "      47             62         4.2428e-01      3.10e-03       1.62e-03       4.01e+01    \n",
      "      48             63         4.2008e-01      4.20e-03       3.63e-04       3.77e+01    \n",
      "      49             64         4.1304e-01      7.03e-03       7.75e-04       3.32e+01    \n",
      "      50             65         4.0238e-01      1.07e-02       1.75e-03       2.66e+01    \n",
      "      51             66         3.8785e-01      1.45e-02       3.67e-03       3.66e+01    \n",
      "      52             67         3.7333e-01      1.45e-02       3.01e-03       4.34e+01    \n",
      "      53             69         3.6950e-01      3.83e-03       6.35e-04       3.00e+01    \n",
      "      54             70         3.6488e-01      4.62e-03       9.16e-04       2.69e+01    \n",
      "      55             71         3.5673e-01      8.14e-03       1.96e-03       2.37e+01    \n",
      "      56             73         3.5379e-01      2.94e-03       9.00e-04       2.90e+01    \n",
      "      57             74         3.4959e-01      4.20e-03       9.27e-04       2.58e+01    \n",
      "      58             75         3.4222e-01      7.37e-03       2.00e-03       2.28e+01    \n",
      "      59             77         3.3991e-01      2.31e-03       8.97e-04       2.86e+01    \n",
      "      60             78         3.3597e-01      3.95e-03       9.12e-04       2.50e+01    \n",
      "      61             79         3.2932e-01      6.64e-03       2.04e-03       2.16e+01    \n",
      "      62             81         3.2782e-01      1.50e-03       8.74e-04       2.84e+01    \n",
      "      63             82         3.2398e-01      3.84e-03       8.78e-04       2.45e+01    \n",
      "      64             83         3.1803e-01      5.96e-03       2.06e-03       2.04e+01    \n",
      "      65             85         3.1738e-01      6.47e-04       8.30e-04       2.84e+01    \n",
      "      66             86         3.1625e-01      1.12e-03       2.09e-04       2.73e+01    \n",
      "      67             87         3.1430e-01      1.95e-03       4.42e-04       2.54e+01    \n",
      "      68             88         3.1120e-01      3.10e-03       9.79e-04       2.22e+01    \n",
      "      69             89         3.0551e-01      5.68e-03       2.13e-03       2.10e+01    \n",
      "      70             90         3.0403e-01      1.48e-03       4.09e-03       3.38e+01    \n",
      "      71             91         2.9745e-01      6.59e-03       6.04e-04       2.87e+01    \n",
      "      72             92         2.9107e-01      6.38e-03       1.46e-03       1.95e+01    \n",
      "      73             94         2.9004e-01      1.03e-03       4.91e-04       2.21e+01    \n",
      "      74             95         2.8873e-01      1.31e-03       5.32e-04       2.08e+01    \n",
      "      75             96         2.8631e-01      2.42e-03       1.10e-03       1.94e+01    \n",
      "      76             97         2.8534e-01      9.73e-04       2.04e-03       2.78e+01    \n",
      "      77             98         2.8296e-01      2.38e-03       3.57e-04       2.55e+01    \n",
      "      78             99         2.7969e-01      3.27e-03       8.12e-04       2.12e+01    \n",
      "      79             100        2.7571e-01      3.98e-03       2.14e-03       1.81e+01    \n",
      "      80             103        2.7491e-01      7.99e-04       1.77e-04       1.87e+01    \n",
      "      81             104        2.7435e-01      5.57e-04       2.61e-04       1.96e+01    \n",
      "      82             105        2.7322e-01      1.13e-03       5.59e-04       1.89e+01    \n",
      "      83             106        2.7109e-01      2.13e-03       1.10e-03       2.04e+01    \n",
      "      84             107        2.6729e-01      3.81e-03       2.16e-03       1.79e+01    \n",
      "      85             110        2.6650e-01      7.82e-04       1.75e-04       1.81e+01    \n",
      "      86             111        2.6597e-01      5.34e-04       2.62e-04       1.90e+01    \n",
      "      87             112        2.6488e-01      1.09e-03       5.61e-04       1.83e+01    \n",
      "      88             113        2.6284e-01      2.04e-03       1.10e-03       1.99e+01    \n",
      "      89             114        2.5924e-01      3.61e-03       2.16e-03       1.85e+01    \n",
      "      90             116        2.5833e-01      9.03e-04       3.44e-04       1.99e+01    \n",
      "      91             117        2.5719e-01      1.14e-03       5.29e-04       1.86e+01    \n",
      "      92             118        2.5513e-01      2.06e-03       1.12e-03       1.71e+01    \n",
      "      93             120        2.5432e-01      8.03e-04       4.95e-04       1.96e+01    \n",
      "      94             121        2.5319e-01      1.13e-03       5.29e-04       1.83e+01    \n",
      "      95             122        2.5116e-01      2.04e-03       1.12e-03       1.69e+01    \n",
      "      96             124        2.5037e-01      7.85e-04       4.93e-04       1.94e+01    \n",
      "      97             125        2.4926e-01      1.12e-03       5.27e-04       1.81e+01    \n",
      "      98             126        2.4724e-01      2.01e-03       1.12e-03       1.66e+01    \n",
      "      99             128        2.4648e-01      7.68e-04       4.91e-04       1.92e+01    \n",
      "      100            129        2.4537e-01      1.11e-03       5.26e-04       1.79e+01    \n",
      "      101            130        2.4338e-01      1.99e-03       1.12e-03       1.64e+01    \n",
      "      102            132        2.4263e-01      7.53e-04       4.90e-04       1.90e+01    \n",
      "      103            133        2.4153e-01      1.10e-03       5.24e-04       1.77e+01    \n",
      "      104            134        2.3957e-01      1.96e-03       1.12e-03       1.62e+01    \n",
      "      105            136        2.3883e-01      7.39e-04       4.88e-04       1.88e+01    \n",
      "      106            137        2.3774e-01      1.09e-03       5.23e-04       1.75e+01    \n",
      "      107            138        2.3580e-01      1.94e-03       1.12e-03       1.60e+01    \n",
      "      108            140        2.3507e-01      7.27e-04       4.87e-04       1.86e+01    \n",
      "      109            141        2.3399e-01      1.08e-03       5.22e-04       1.73e+01    \n",
      "      110            142        2.3207e-01      1.92e-03       1.12e-03       1.58e+01    \n",
      "      111            144        2.3136e-01      7.15e-04       4.86e-04       1.84e+01    \n",
      "      112            145        2.3029e-01      1.07e-03       5.21e-04       1.71e+01    \n",
      "      113            146        2.2838e-01      1.90e-03       1.12e-03       1.56e+01    \n",
      "      114            148        2.2768e-01      7.03e-04       4.85e-04       1.82e+01    \n",
      "      115            149        2.2662e-01      1.06e-03       5.20e-04       1.69e+01    \n",
      "      116            150        2.2474e-01      1.88e-03       1.11e-03       1.55e+01    \n",
      "      117            152        2.2405e-01      6.93e-04       4.84e-04       1.81e+01    \n",
      "      118            153        2.2299e-01      1.05e-03       5.19e-04       1.67e+01    \n",
      "      119            154        2.2113e-01      1.86e-03       1.11e-03       1.53e+01    \n",
      "      120            156        2.2045e-01      6.82e-04       4.83e-04       1.79e+01    \n",
      "      121            157        2.1941e-01      1.04e-03       5.18e-04       1.66e+01    \n",
      "      122            158        2.1756e-01      1.85e-03       1.11e-03       1.51e+01    \n",
      "      123            160        2.1689e-01      6.72e-04       4.82e-04       1.77e+01    \n",
      "      124            161        2.1586e-01      1.03e-03       5.17e-04       1.64e+01    \n",
      "      125            162        2.1403e-01      1.83e-03       1.11e-03       1.50e+01    \n",
      "      126            164        2.1337e-01      6.62e-04       4.81e-04       1.76e+01    \n",
      "      127            165        2.1234e-01      1.02e-03       5.17e-04       1.62e+01    \n",
      "      128            166        2.1053e-01      1.81e-03       1.11e-03       1.48e+01    \n",
      "      129            168        2.0988e-01      6.52e-04       4.80e-04       1.74e+01    \n",
      "      130            169        2.0887e-01      1.02e-03       5.16e-04       1.61e+01    \n",
      "      131            170        2.0708e-01      1.79e-03       1.11e-03       1.47e+01    \n",
      "      132            172        2.0643e-01      6.42e-04       4.80e-04       1.72e+01    \n",
      "      133            173        2.0543e-01      1.01e-03       5.15e-04       1.59e+01    \n",
      "      134            174        2.0365e-01      1.77e-03       1.11e-03       1.45e+01    \n",
      "      135            176        2.0302e-01      6.32e-04       4.79e-04       1.71e+01    \n",
      "      136            177        2.0203e-01      9.98e-04       5.14e-04       1.58e+01    \n",
      "      137            178        2.0027e-01      1.75e-03       1.11e-03       1.43e+01    \n",
      "      138            180        1.9965e-01      6.22e-04       4.78e-04       1.69e+01    \n",
      "      139            181        1.9866e-01      9.89e-04       5.14e-04       1.56e+01    \n",
      "      140            182        1.9692e-01      1.74e-03       1.11e-03       1.42e+01    \n",
      "      141            184        1.9631e-01      6.12e-04       4.78e-04       1.67e+01    \n",
      "      142            185        1.9533e-01      9.80e-04       5.13e-04       1.54e+01    \n",
      "      143            186        1.9361e-01      1.72e-03       1.11e-03       1.40e+01    \n",
      "      144            188        1.9301e-01      6.03e-04       4.77e-04       1.66e+01    \n",
      "      145            189        1.9204e-01      9.71e-04       5.12e-04       1.53e+01    \n",
      "      146            190        1.9034e-01      1.70e-03       1.11e-03       1.39e+01    \n",
      "      147            192        1.8975e-01      5.93e-04       4.76e-04       1.64e+01    \n",
      "      148            193        1.8879e-01      9.62e-04       5.12e-04       1.51e+01    \n",
      "      149            194        1.8710e-01      1.68e-03       1.11e-03       1.37e+01    \n",
      "      150            196        1.8652e-01      5.83e-04       4.76e-04       1.63e+01    \n",
      "      151            197        1.8557e-01      9.53e-04       5.11e-04       1.50e+01    \n",
      "      152            198        1.8390e-01      1.66e-03       1.11e-03       1.36e+01    \n",
      "      153            200        1.8333e-01      5.74e-04       4.75e-04       1.61e+01    \n",
      "      154            201        1.8239e-01      9.44e-04       5.10e-04       1.48e+01    \n",
      "      155            202        1.8074e-01      1.65e-03       1.11e-03       1.34e+01    \n",
      "      156            204        1.8018e-01      5.64e-04       4.75e-04       1.59e+01    \n",
      "      157            205        1.7924e-01      9.35e-04       5.09e-04       1.47e+01    \n",
      "      158            206        1.7761e-01      1.63e-03       1.11e-03       1.33e+01    \n",
      "      159            208        1.7706e-01      5.55e-04       4.74e-04       1.58e+01    \n",
      "      160            209        1.7613e-01      9.27e-04       5.09e-04       1.45e+01    \n",
      "      161            210        1.7452e-01      1.61e-03       1.11e-03       1.31e+01    \n",
      "      162            212        1.7398e-01      5.45e-04       4.73e-04       1.56e+01    \n",
      "      163            213        1.7306e-01      9.18e-04       5.08e-04       1.44e+01    \n",
      "      164            214        1.7147e-01      1.59e-03       1.11e-03       1.30e+01    \n",
      "      165            216        1.7093e-01      5.35e-04       4.73e-04       1.55e+01    \n",
      "      166            217        1.7003e-01      9.09e-04       5.07e-04       1.42e+01    \n",
      "      167            218        1.6845e-01      1.57e-03       1.11e-03       1.28e+01    \n",
      "      168            220        1.6793e-01      5.26e-04       4.72e-04       1.53e+01    \n",
      "      169            221        1.6703e-01      9.00e-04       5.06e-04       1.41e+01    \n",
      "      170            222        1.6547e-01      1.55e-03       1.11e-03       1.27e+01    \n",
      "      171            224        1.6496e-01      5.16e-04       4.71e-04       1.52e+01    \n",
      "      172            225        1.6406e-01      8.92e-04       5.06e-04       1.39e+01    \n",
      "      173            226        1.6253e-01      1.54e-03       1.11e-03       1.26e+01    \n",
      "      174            228        1.6202e-01      5.07e-04       4.71e-04       1.50e+01    \n",
      "      175            229        1.6114e-01      8.83e-04       5.05e-04       1.38e+01    \n",
      "      176            230        1.5962e-01      1.52e-03       1.11e-03       1.24e+01    \n",
      "      177            232        1.5912e-01      4.97e-04       4.70e-04       1.49e+01    \n",
      "      178            233        1.5825e-01      8.74e-04       5.04e-04       1.36e+01    \n",
      "      179            234        1.5675e-01      1.50e-03       1.11e-03       1.23e+01    \n",
      "      180            236        1.5626e-01      4.87e-04       4.69e-04       1.47e+01    \n",
      "      181            237        1.5539e-01      8.65e-04       5.03e-04       1.35e+01    \n",
      "      182            238        1.5391e-01      1.48e-03       1.11e-03       1.21e+01    \n",
      "      183            240        1.5343e-01      4.78e-04       4.68e-04       1.46e+01    \n",
      "      184            241        1.5257e-01      8.57e-04       5.02e-04       1.33e+01    \n",
      "      185            242        1.5111e-01      1.47e-03       1.11e-03       1.20e+01    \n",
      "      186            244        1.5064e-01      4.68e-04       4.68e-04       1.44e+01    \n",
      "      187            245        1.4979e-01      8.48e-04       5.01e-04       1.32e+01    \n",
      "      188            246        1.4835e-01      1.45e-03       1.11e-03       1.18e+01    \n",
      "      189            248        1.4789e-01      4.59e-04       4.67e-04       1.42e+01    \n",
      "      190            249        1.4705e-01      8.40e-04       5.01e-04       1.30e+01    \n",
      "      191            250        1.4562e-01      1.43e-03       1.11e-03       1.17e+01    \n",
      "      192            252        1.4517e-01      4.49e-04       4.66e-04       1.41e+01    \n",
      "      193            253        1.4434e-01      8.31e-04       5.00e-04       1.29e+01    \n",
      "      194            254        1.4292e-01      1.41e-03       1.11e-03       1.15e+01    \n",
      "      195            256        1.4248e-01      4.40e-04       4.65e-04       1.39e+01    \n",
      "      196            257        1.4166e-01      8.23e-04       4.99e-04       1.27e+01    \n",
      "      197            258        1.4027e-01      1.39e-03       1.11e-03       1.14e+01    \n",
      "      198            260        1.3984e-01      4.31e-04       4.64e-04       1.38e+01    \n",
      "      199            261        1.3902e-01      8.14e-04       4.98e-04       1.26e+01    \n",
      "      200            262        1.3765e-01      1.38e-03       1.11e-03       1.13e+01    \n",
      "      201            264        1.3722e-01      4.21e-04       4.63e-04       1.36e+01    \n",
      "      202            265        1.3642e-01      8.06e-04       4.97e-04       1.24e+01    \n",
      "      203            266        1.3506e-01      1.36e-03       1.10e-03       1.11e+01    \n",
      "      204            268        1.3465e-01      4.12e-04       4.63e-04       1.35e+01    \n",
      "      205            269        1.3385e-01      7.97e-04       4.96e-04       1.23e+01    \n",
      "      206            270        1.3251e-01      1.34e-03       1.10e-03       1.10e+01    \n",
      "      207            272        1.3211e-01      4.03e-04       4.62e-04       1.33e+01    \n",
      "      208            273        1.3132e-01      7.88e-04       4.95e-04       1.21e+01    \n",
      "      209            274        1.2999e-01      1.32e-03       1.10e-03       1.08e+01    \n",
      "      210            276        1.2960e-01      3.93e-04       4.61e-04       1.32e+01    \n",
      "      211            277        1.2882e-01      7.81e-04       4.94e-04       1.20e+01    \n",
      "      212            278        1.2751e-01      1.31e-03       1.10e-03       1.07e+01    \n",
      "      213            280        1.2713e-01      3.84e-04       4.60e-04       1.30e+01    \n",
      "      214            281        1.2635e-01      7.72e-04       4.93e-04       1.19e+01    \n",
      "      215            282        1.2506e-01      1.29e-03       1.10e-03       1.05e+01    \n",
      "      216            284        1.2469e-01      3.75e-04       4.59e-04       1.29e+01    \n",
      "      217            285        1.2393e-01      7.64e-04       4.92e-04       1.17e+01    \n",
      "      218            286        1.2265e-01      1.27e-03       1.10e-03       1.04e+01    \n",
      "      219            288        1.2229e-01      3.65e-04       4.58e-04       1.27e+01    \n",
      "      220            289        1.2153e-01      7.56e-04       4.91e-04       1.16e+01    \n",
      "      221            290        1.2028e-01      1.26e-03       1.10e-03       1.03e+01    \n",
      "      222            292        1.1992e-01      3.56e-04       4.57e-04       1.26e+01    \n",
      "      223            293        1.1917e-01      7.48e-04       4.90e-04       1.14e+01    \n",
      "      224            294        1.1793e-01      1.24e-03       1.10e-03       1.01e+01    \n",
      "      225            296        1.1759e-01      3.47e-04       4.56e-04       1.24e+01    \n",
      "      226            297        1.1685e-01      7.40e-04       4.89e-04       1.13e+01    \n",
      "      227            298        1.1562e-01      1.22e-03       1.10e-03       9.99e+00    \n",
      "      228            300        1.1529e-01      3.38e-04       4.55e-04       1.23e+01    \n",
      "The maximum number of function evaluations is exceeded.\n",
      "Function evaluations 300, initial cost 1.7112e+03, final cost 1.1529e-01, first-order optimality 1.23e+01.\n"
     ]
    }
   ],
   "source": [
    "def cost_function(x, strikes, mkt_prices):\n",
    "    sigma, theta, nu = x\n",
    "    VG = VG_pricer(S0, None, T, r, q, sigma, theta, nu, exercise)\n",
    "    prices = []\n",
    "    for k in strikes:\n",
    "        prices.append(VG.closed_formula_put(k))\n",
    "    sq_err = np.sum(p_weights*(prices - mkt_prices)**2)\n",
    "    return sq_err\n",
    "\n",
    "start2=time.time()\n",
    "vg2 = scpo.least_squares(cost_function, x0, args=(put_strikes, put_prices),  method='trf', bounds=bounds, verbose=1, loss='soft_l1')\n",
    "end2=time.time()\n",
    "\n",
    "vg_params2 = [round(p,4) for p in vg2.x[:3]]"
   ],
   "metadata": {
    "collapsed": false
   }
  },
  {
   "cell_type": "code",
   "execution_count": 46,
   "outputs": [
    {
     "name": "stdout",
     "output_type": "stream",
     "text": [
      "WEIGHTED OPT: CURVE_FIT (trf)\n",
      "> Calibrated Volatlity [σ] = 0.4807, \t 48.07%\n",
      "> Calibrated mean rate gamma process [θ] =  0.1226\n",
      "> Calibrated variance rate gamma process [v]=  0.8867\n",
      "TIME ELAPSED:  6.6 sec\n",
      "METHOD 1: LEAST-SQUARES (trf)\n",
      "> Calibrated Volatlity [σ] = 0.4618, \t 46.18%\n",
      "> Calibrated mean rate gamma process [θ] =  0.1306\n",
      "> Calibrated variance rate gamma process [v]=  0.4922\n",
      "TIME ELAPSED:  105.33 sec\n"
     ]
    }
   ],
   "source": [
    "print('WEIGHTED OPT: CURVE_FIT (trf)')\n",
    "print(f'> Calibrated Volatlity [σ] = {vg_params1[0]}, \\t {round(vg_params1[0]*100,2)}%')\n",
    "print('> Calibrated mean rate gamma process [θ] = ', vg_params1[1])\n",
    "print('> Calibrated variance rate gamma process [v]= ', vg_params1[2])\n",
    "print(f'TIME ELAPSED:  {round(end1-start1,2)} sec')\n",
    "\n",
    "print('METHOD 1: LEAST-SQUARES (trf)')\n",
    "print(f'> Calibrated Volatlity [σ] = {vg_params2[0]}, \\t {round(vg_params2[0]*100,2)}%')\n",
    "print('> Calibrated mean rate gamma process [θ] = ', vg_params2[1])\n",
    "print('> Calibrated variance rate gamma process [v]= ', vg_params2[2])\n",
    "print(f'TIME ELAPSED:  {round(end2-start2,2)} sec')"
   ],
   "metadata": {
    "collapsed": false
   }
  },
  {
   "cell_type": "code",
   "execution_count": 47,
   "outputs": [
    {
     "name": "stdout",
     "output_type": "stream",
     "text": [
      "[0.4807, 0.1226, 0.8867]\n",
      "[0.4618, 0.1306, 0.4922]\n"
     ]
    }
   ],
   "source": [
    "print(vg_params1)\n",
    "print(vg_params2)\n",
    "puts_vg_params_nvda = vg_params2\n",
    "%store puts_vg_params_nvda"
   ],
   "metadata": {
    "collapsed": false
   }
  },
  {
   "cell_type": "markdown",
   "source": [
    "### Reprice of options using calibrated parameters\n",
    "Let's test our calibration results repricing initial market options. To do this we use both closed formulas and Monte Carlo pricing, to show that we achieve a very good parameters' estimation. "
   ],
   "metadata": {
    "collapsed": false
   }
  },
  {
   "cell_type": "code",
   "execution_count": 48,
   "outputs": [
    {
     "name": "stdout",
     "output_type": "stream",
     "text": [
      "MARKET PRICES. STARTING DATE = 20-01-2016. EXPIRY = 1YEAR. \n",
      "\n",
      "   STRIKE  MKT_BID  MKT_MID  MKT_ASK\n",
      "0    22.0     1.89    1.925     1.96\n",
      "1    25.0     2.98    3.040     3.10\n",
      "2    27.0     3.90    3.950     4.00\n",
      "3    30.0     5.60    5.675     5.75\n",
      "4    35.0     9.15    9.225     9.30\n"
     ]
    }
   ],
   "source": [
    "days = 252\n",
    "paths = 5000\n",
    "\n",
    "put_calib_prices = pd.DataFrame({\n",
    "    'STRIKE': puts['STRIKE'],    # array of K for call options\n",
    "    'MKT_BID': puts['P_BID'],\n",
    "    'MKT_MID': puts['P_Midpoint'],\n",
    "    'MKT_ASK': puts['P_ASK'],\n",
    "\n",
    "})\n",
    "print(f'MARKET PRICES. STARTING DATE = 20-01-2016. EXPIRY = 1YEAR. \\n\\n{put_calib_prices}')"
   ],
   "metadata": {
    "collapsed": false
   }
  },
  {
   "cell_type": "markdown",
   "source": [
    "#### Merton Jump Diffusion model"
   ],
   "metadata": {
    "collapsed": false
   }
  },
  {
   "cell_type": "code",
   "execution_count": 49,
   "outputs": [
    {
     "name": "stdout",
     "output_type": "stream",
     "text": [
      "   STRIKE  MKT_BID  MKT_MID  MKT_ASK  MERTON MC  MERTON CF\n",
      "0    22.0     1.89    1.925     1.96   1.702437   1.694005\n",
      "1    25.0     2.98    3.040     3.10   3.027311   3.017880\n",
      "2    27.0     3.90    3.950     4.00   4.089767   4.087944\n",
      "3    30.0     5.60    5.675     5.75   5.939087   5.927443\n",
      "4    35.0     9.15    9.225     9.30   9.520221   9.479145\n"
     ]
    }
   ],
   "source": [
    "#mert_params2 = [0.1267, 0.951, -0.1182, 0.2691]\n",
    "sigma, lambd, meanJ, stdJ = mert_params2\n",
    "MertonCAL = Merton_pricer(S0, None, T, r, q, sigma, lambd, meanJ, stdJ, exercise)\n",
    "SMerton_CAL = MertonCAL.MertonPath(days, paths)\n",
    "\n",
    "avg_payoffs = []\n",
    "for K in put_strikes:\n",
    "    payoffs = []        # stores here the payoff for each path, for a specific couple K1-K2\n",
    "    for St in SMerton_CAL[-1]:\n",
    "        payoffs.append(MertonCAL.payoff_put(K, St))\n",
    "    avg_payoffs.append(np.mean(payoffs))\n",
    "\n",
    "merton_mc_prices = np.zeros(len(put_calib_prices))\n",
    "merton_cf_prices = np.zeros(len(put_calib_prices))\n",
    "\n",
    "for index in range(len(put_calib_prices)):\n",
    "    merton_mc_prices[index] = np.exp(-r*T)* avg_payoffs[index]\n",
    "    merton_cf_prices[index] = MertonCAL.closed_formula_put(put_strikes[index])\n",
    "\n",
    "put_calib_prices['MERTON MC'] = merton_mc_prices\n",
    "put_calib_prices['MERTON CF'] = merton_cf_prices\n",
    "\n",
    "print(put_calib_prices)"
   ],
   "metadata": {
    "collapsed": false
   }
  },
  {
   "cell_type": "code",
   "execution_count": 50,
   "outputs": [
    {
     "name": "stdout",
     "output_type": "stream",
     "text": [
      "   STRIKE  MKT_BID  MKT_MID  MKT_ASK  MERTON MC  MERTON CF    KOU MC    KOU CF\n",
      "0    22.0     1.89    1.925     1.96   1.702437   1.694005  1.890179  1.835860\n",
      "1    25.0     2.98    3.040     3.10   3.027311   3.017880  3.157668  3.053904\n",
      "2    27.0     3.90    3.950     4.00   4.089767   4.087944  4.191012  4.045656\n",
      "3    30.0     5.60    5.675     5.75   5.939087   5.927443  5.975966  5.775653\n",
      "4    35.0     9.15    9.225     9.30   9.520221   9.479145  9.480388  9.194754\n"
     ]
    }
   ],
   "source": [
    "#kou_params2 = [0.1278, 0.948, 0.3549, 5.7153, 4.232]\n",
    "sigma, lambd, p, eta1, eta2 = kou_params2\n",
    "KouCAL = Kou_pricer(S0, None, T, r, sigma, lambd, p, eta1, eta2, exercise)\n",
    "SKou_CAL = KouCAL.KouPath(days, paths)\n",
    "\n",
    "avg_payoffs = []\n",
    "for k in put_strikes:\n",
    "    payoffs = []        # stores here the payoff for each path, for a specific couple K1-K2\n",
    "    for St in SKou_CAL[-1]:\n",
    "        payoffs.append(KouCAL.payoff_put(k, St))\n",
    "    avg_payoffs.append(np.mean(payoffs))\n",
    "\n",
    "kou_mc_prices = np.zeros(len(put_calib_prices))\n",
    "kou_cf_prices = np.zeros(len(put_calib_prices))\n",
    "\n",
    "for index in range(len(put_calib_prices)):\n",
    "    kou_mc_prices[index] = np.exp(-r*T)* avg_payoffs[index]\n",
    "    kou_cf_prices[index] = KouCAL.closed_formula_put(put_strikes[index])\n",
    "\n",
    "put_calib_prices['KOU MC'] = kou_mc_prices\n",
    "put_calib_prices['KOU CF'] = kou_cf_prices\n",
    "\n",
    "print(put_calib_prices)"
   ],
   "metadata": {
    "collapsed": false
   }
  },
  {
   "cell_type": "code",
   "execution_count": 51,
   "outputs": [
    {
     "name": "stdout",
     "output_type": "stream",
     "text": [
      "   STRIKE  MKT_BID  MKT_MID  MKT_ASK  MERTON MC  MERTON CF    KOU MC   \n",
      "0    22.0     1.89    1.925     1.96   1.702437   1.694005  1.890179  \\\n",
      "1    25.0     2.98    3.040     3.10   3.027311   3.017880  3.157668   \n",
      "2    27.0     3.90    3.950     4.00   4.089767   4.087944  4.191012   \n",
      "3    30.0     5.60    5.675     5.75   5.939087   5.927443  5.975966   \n",
      "4    35.0     9.15    9.225     9.30   9.520221   9.479145  9.480388   \n",
      "\n",
      "     KOU CF     VG MC     VG CF  \n",
      "0  1.835860  1.933512  1.904708  \n",
      "1  3.053904  3.279350  3.045292  \n",
      "2  4.045656  4.379647  3.996516  \n",
      "3  5.775653  6.271481  5.702252  \n",
      "4  9.194754  9.909893  9.165249  \n"
     ]
    }
   ],
   "source": [
    "# vg_params2 = [0.2442, 0.1983, 0.9451]\n",
    "sigma, theta, nu = vg_params2\n",
    "VGCAL = VG_pricer(S0, None, T, r, q, sigma, theta, nu, exercise)\n",
    "SVarGamma_CAL = VGCAL.VarianceGammaPath1(days, paths)\n",
    "\n",
    "avg_payoffs = []\n",
    "for K in put_strikes:\n",
    "    payoffs = []        # stores here the payoff for each path, for a specific couple K1-K2\n",
    "    for St in SVarGamma_CAL[-1]:\n",
    "        payoffs.append(VGCAL.payoff_put(K, St))\n",
    "    avg_payoffs.append(np.mean(payoffs))\n",
    "\n",
    "vg_mc_prices = np.zeros(len(put_calib_prices))\n",
    "vg_cf_prices = np.zeros(len(put_calib_prices))\n",
    "\n",
    "for index in range(len(put_calib_prices)):\n",
    "    vg_mc_prices[index] = np.exp(-r*T)* avg_payoffs[index]\n",
    "    vg_cf_prices[index] = VGCAL.closed_formula_put(put_strikes[index])\n",
    "\n",
    "put_calib_prices['VG MC'] = vg_mc_prices\n",
    "put_calib_prices['VG CF'] = vg_cf_prices\n",
    "\n",
    "print(put_calib_prices)"
   ],
   "metadata": {
    "collapsed": false
   }
  },
  {
   "cell_type": "markdown",
   "source": [
    "### Visualize calibration results\n",
    "#### Closed Formulas Option pricing"
   ],
   "metadata": {
    "collapsed": false
   }
  },
  {
   "cell_type": "code",
   "execution_count": 52,
   "outputs": [
    {
     "data": {
      "text/plain": "<Figure size 2000x400 with 3 Axes>",
      "image/png": "[encoded data removed]"
     },
     "metadata": {},
     "output_type": "display_data"
    }
   ],
   "source": [
    "fig = plt.figure(figsize=(20, 4))\n",
    "ax1 = fig.add_subplot(131)\n",
    "ax2 = fig.add_subplot(132)\n",
    "ax3 = fig.add_subplot(133)\n",
    "ax1.plot(put_strikes, put_prices, \".\", label=\"midpoint\")\n",
    "ax2.plot(put_strikes, put_prices, \".\", label=\"midpoint\")\n",
    "ax3.plot(put_strikes, put_prices, \".\", label=\"midpoint\")\n",
    "ax1.plot(put_strikes, merton_cf_prices, label=\"Merton\")\n",
    "ax2.plot(put_strikes, kou_cf_prices, label=\"Kou\")\n",
    "ax3.plot(put_strikes, vg_cf_prices, label=\"VG\")\n",
    "ax1.set_title(\"Merton model\")\n",
    "ax2.set_title(\"Kou model\")\n",
    "ax3.set_title(\"VG model\")\n",
    "ax1.set_xlabel(\"strike\")\n",
    "ax2.set_xlabel(\"strike\")\n",
    "ax3.set_xlabel(\"strike\")\n",
    "ax1.legend()\n",
    "ax2.legend()\n",
    "ax3.legend()\n",
    "plt.show()"
   ],
   "metadata": {
    "collapsed": false
   }
  },
  {
   "cell_type": "markdown",
   "source": [
    "\n",
    "#### Monte Carlo option pricing"
   ],
   "metadata": {
    "collapsed": false
   }
  },
  {
   "cell_type": "code",
   "execution_count": 53,
   "outputs": [
    {
     "data": {
      "text/plain": "<Figure size 1700x400 with 3 Axes>",
      "image/png": "[encoded data removed]"
     },
     "metadata": {},
     "output_type": "display_data"
    }
   ],
   "source": [
    "fig = plt.figure(figsize=(17, 4))\n",
    "ax1 = fig.add_subplot(131)\n",
    "ax2 = fig.add_subplot(132)\n",
    "ax3 = fig.add_subplot(133)\n",
    "ax1.plot(put_strikes, put_prices, \".\", label=\"midpoint\")\n",
    "ax2.plot(put_strikes, put_prices, \".\", label=\"midpoint\")\n",
    "ax3.plot(put_strikes, put_prices, \".\", label=\"midpoint\")\n",
    "ax1.plot(put_strikes, merton_mc_prices, label=\"Merton\")\n",
    "ax2.plot(put_strikes, kou_mc_prices, label=\"Kou\")\n",
    "ax3.plot(put_strikes, vg_mc_prices, label=\"VG\")\n",
    "ax1.set_title(\"Merton model\")\n",
    "ax2.set_title(\"Kou model\")\n",
    "ax3.set_title(\"VG model\")\n",
    "ax1.set_xlabel(\"strike\")\n",
    "ax2.set_xlabel(\"strike\")\n",
    "ax3.set_xlabel(\"strike\")\n",
    "ax1.legend()\n",
    "ax2.legend()\n",
    "ax3.legend()\n",
    "plt.show()"
   ],
   "metadata": {
    "collapsed": false
   }
  },
  {
   "cell_type": "code",
   "execution_count": null,
   "outputs": [],
   "source": [],
   "metadata": {
    "collapsed": false
   }
  },
  {
   "cell_type": "code",
   "execution_count": null,
   "outputs": [],
   "source": [],
   "metadata": {
    "collapsed": false
   }
  }
 ],
 "metadata": {
  "kernelspec": {
   "display_name": "Python 3",
   "language": "python",
   "name": "python3"
  },
  "language_info": {
   "codemirror_mode": {
    "name": "ipython",
    "version": 2
   },
   "file_extension": ".py",
   "mimetype": "text/x-python",
   "name": "python",
   "nbconvert_exporter": "python",
   "pygments_lexer": "ipython2",
   "version": "2.7.6"
  }
 },
 "nbformat": 4,
 "nbformat_minor": 0
}
