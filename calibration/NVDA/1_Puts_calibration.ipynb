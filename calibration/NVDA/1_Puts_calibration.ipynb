{
 "cells": [
  {
   "cell_type": "markdown",
   "source": [
    "# Calibration of Black and Scholes, Merton, Kou, Variance Gamma parameters\n",
    "This notebook aims to find the optimal parameters of **Black-Scholes**, **Merton Jump Diffusion**, **Kou Jump Diffusion** and **Variance Gamma** models. To do so, we compute the european option prices using **closed formulas**, available for all the 4 models, and the **Fast Fourier Transform** for the VG model. Given these theoretical prices, the **implied volatilities** are computed comparing them with real market prices, minimizing their difference. Then we estimate the additional parameters of each model, using the python module `scipy.optimize`.\n",
    "\n",
    "*reference: https://github.com/cantaro86/Financial-Models-Numerical-Methods/tree/master*\n"
   ],
   "metadata": {
    "collapsed": false
   }
  },
  {
   "cell_type": "code",
   "execution_count": 1,
   "metadata": {
    "collapsed": true
   },
   "outputs": [],
   "source": [
    "import numpy as np\n",
    "import pandas as pd\n",
    "import matplotlib.pyplot as plt\n",
    "import random\n",
    "import scipy.optimize as scpo\n",
    "import sys\n",
    "sys.path.append('C:/Users\\ornel\\OneDrive\\Desktop\\TESI\\PythonProjects\\Margin-Loans-Pricing\\python-modules/functions')\n",
    "sys.path.append('C:/Users\\ornel\\OneDrive\\Desktop\\TESI\\PythonProjects\\Margin-Loans-Pricing\\python-modules/calibration')\n",
    "import time\n",
    "\n",
    "from MERTONpricer import Merton_pricer\n",
    "from BSpricer import BS_Pricer\n",
    "from KOUpricer import Kou_pricer\n",
    "from VGpricer import VG_pricer\n",
    "\n",
    "random.seed(110)"
   ]
  },
  {
   "cell_type": "markdown",
   "source": [
    "Let's start retrieving historical prices for **european call** and **put** options starting from date **2016-01-20** and expiring **1 year** later. All the data have been collected from [OptionsDX](https://www.optionsdx.com/shop/) and preprocessed in `plainvanilla.py` module. Only options such that the moneyness\n",
    "$$ K/S0 \\in [0.75, 1.35] $$ have been selected."
   ],
   "metadata": {
    "collapsed": false
   }
  },
  {
   "cell_type": "code",
   "execution_count": 2,
   "outputs": [
    {
     "name": "stdout",
     "output_type": "stream",
     "text": [
      "NUM OF PUT OPTS: 5\n",
      "   QUOTE_DATE  UNDERLYING_LAST EXPIRE_DATE  P_BID  P_ASK  STRIKE     P_IV   \n",
      "0  2016-01-20            27.47  2017-01-20   1.89   1.96    22.0  0.41159  \\\n",
      "1  2016-01-20            27.47  2017-01-20   2.98   3.10    25.0  0.39107   \n",
      "2  2016-01-20            27.47  2017-01-20   3.90   4.00    27.0  0.37697   \n",
      "3  2016-01-20            27.47  2017-01-20   5.60   5.75    30.0  0.36519   \n",
      "4  2016-01-20            27.47  2017-01-20   9.15   9.30    35.0  0.34602   \n",
      "\n",
      "   MONEYNESS  \n",
      "0       0.80  \n",
      "1       0.91  \n",
      "2       0.98  \n",
      "3       1.09  \n",
      "4       1.27  \n"
     ]
    }
   ],
   "source": [
    "df_put = pd.read_csv('../../data/NVDA/OPT16_NVDA_PUTS_75_135.csv')\n",
    "print(f'NUM OF PUT OPTS: {df_put.shape[0]}')\n",
    "print(df_put)"
   ],
   "metadata": {
    "collapsed": false
   }
  },
  {
   "cell_type": "markdown",
   "source": [
    "The dataframes **df_calls** and **df_put** contain both 83 options sorted by strike price. For our purpose, using the $25\\%$ of these DFs is enough and can lead to very good results. Thus, we sample the rows and then reformulate the dataframes adding **Midpoint** and **Spread** columns."
   ],
   "metadata": {
    "collapsed": false
   }
  },
  {
   "cell_type": "code",
   "execution_count": 8,
   "outputs": [],
   "source": [
    "puts = df_put.sample(frac=1, replace=False).sort_index().reset_index(drop=True)\n",
    "\n",
    "puts['P_Midpoint'] = abs(puts['P_BID'] + puts['P_ASK']) / 2\n",
    "puts['P_Spread'] = puts['P_BID'] - puts['P_ASK']\n",
    "put_prices = puts['P_Midpoint']\n",
    "\n",
    "\n",
    "q = 0           # dividend yield\n",
    "r = 0.03        # risk-free interest rate\n",
    "sigma = 0.3     #volatility (variance of diffusion process)\n",
    "S0 = puts.iloc[0]['UNDERLYING_LAST']\n",
    "T = 1           # time-to-maturity\n",
    "put_strikes = puts['STRIKE']      # array of K for put options\n",
    "exercise = 'european'\n"
   ],
   "metadata": {
    "collapsed": false
   }
  },
  {
   "cell_type": "markdown",
   "source": [
    "The following code snippet initializes objects of class *BS_pricer*, *Merton_pricer*, *Kou_pricer*, *VG_pricer* with default values as parameters. Then it computes the theoretical call prices using closed formulas of each 4 models, with strike prices given by the *call_strikes* array. Additionally, we use the **Midpoint** price as the option market prices.P"
   ],
   "metadata": {
    "collapsed": false
   }
  },
  {
   "cell_type": "code",
   "execution_count": 9,
   "outputs": [],
   "source": [
    "BS = BS_Pricer(S0=S0, r=r, q = q, sigma=sigma, ttm=T, exercise=exercise, K=None)\n",
    "Merton = Merton_pricer(S0=S0, K=None, ttm=T, r=r, q = q, sigma=0.15, lambd=0.5, meanJ=-0.1, stdJ=0.1, exercise=exercise)\n",
    "Kou = Kou_pricer(S0=S0, K=None, ttm=T, r=r, sigma=0.15, lambd=0.5, p=0.6, eta1=12, eta2=5, exercise=exercise)\n",
    "VG = VG_pricer(S0, K=None, ttm=T, r=r, q=q, sigma=0.15, theta=-0.2, nu=0.3, exercise=exercise)"
   ],
   "metadata": {
    "collapsed": false
   }
  },
  {
   "cell_type": "markdown",
   "source": [
    "Same for put prices."
   ],
   "metadata": {
    "collapsed": false
   }
  },
  {
   "cell_type": "code",
   "execution_count": 10,
   "outputs": [
    {
     "name": "stdout",
     "output_type": "stream",
     "text": [
      "Theoretical put options prices:\n",
      "   Strike  Price BlackScholes    Merton       Kou VarianceGamma\n",
      "0    22.0  1.925     0.807713  0.200364  0.305269      0.078281\n",
      "1    25.0  3.040     1.737963  0.689968  0.797916      0.589604\n",
      "2    27.0  3.950      2.60513  1.331346  1.440558      1.368722\n",
      "3    30.0  5.675      4.25763  2.877415  2.992952      3.137802\n",
      "4    35.0  9.225     7.780104  6.746572  6.845734      7.080702\n"
     ]
    }
   ],
   "source": [
    "put_th_prices = pd.DataFrame(columns=['Strike','Price', 'BlackScholes', 'Merton', 'Kou', 'VarianceGamma'])\n",
    "put_th_prices['Strike'] = put_strikes\n",
    "put_th_prices['Price'] = put_prices\n",
    "\n",
    "for i, K in enumerate(put_strikes):\n",
    "    bs = BS.closed_formula_put(K)\n",
    "    mert = Merton.closed_formula_put(K)\n",
    "    kou = Kou.closed_formula_put(K)\n",
    "    vg = VG.closed_formula_put(K)\n",
    "    put_th_prices.iloc[i, 2:] = [bs, mert, kou, vg]\n",
    "\n",
    "print(f'Theoretical put options prices:')\n",
    "print(put_th_prices)"
   ],
   "metadata": {
    "collapsed": false
   }
  },
  {
   "cell_type": "markdown",
   "source": [
    "## Implied volatility\n",
    "The function belows implements $3$ methods to compute implied volatility: [Newton](https://en.wikipedia.org/wiki/Newton%27s_method) method, the [Bisection](https://en.wikipedia.org/wiki/Bisection_method) method and a more advanced one, named [Brent](https://en.wikipedia.org/wiki/Brent%27s_method) method. Apart from the initial guess, there is no substantial difference in the final result between **Newton** and **bisection** methods (*fsolve*). The **Implied Volatility** is that value $\\sigma$ that must be inserted into the Black-Scholes (BS) formula in order to retrieve the option price quoted in the market:\n",
    "    $$ BS(S, K, T, r, \\sigma) = P,  $$\n",
    "where $S$ is the underlying spot price, $K$ is the strike, $T$ time to maturity, $r$ risk-free interest rate and $P$ the option price quoted in the market. All these quantities are **observable**.\n",
    "   "
   ],
   "metadata": {
    "collapsed": false
   }
  },
  {
   "cell_type": "code",
   "execution_count": 11,
   "outputs": [],
   "source": [
    "def implied_volatility(price, S, strike, t, rate, q, type_o, method='fsolve', disp=True ):\n",
    "    \"\"\" Returns Implied volatility\n",
    "        methods:  fsolve (default) or brent\n",
    "    \"\"\"\n",
    "\n",
    "    def obj_fun(vol):\n",
    "        return BS.BlackScholes(type_o=type_o, S0=S, K=strike, ttm=t, r=rate, q=q, sigma=vol) - price\n",
    "\n",
    "    def vega(vol):\n",
    "        return BS.vega(S, strike, rate, q, vol, t)\n",
    "\n",
    "    if method =='fsolve':\n",
    "        X0 = [0.01, 0.2, 0.35, 7]        #initial guess points for imp.vol.\n",
    "        for x_0 in X0:\n",
    "            x, _, solved, _ = scpo.fsolve(obj_fun, x_0, full_output=True, xtol=1e-8)\n",
    "            if solved == 1:\n",
    "                return x[0]\n",
    "\n",
    "    if disp:\n",
    "        return -1"
   ],
   "metadata": {
    "collapsed": false
   }
  },
  {
   "cell_type": "markdown",
   "source": [
    "The following code snippet computes the implied volatility of **call** and **put** options market prices."
   ],
   "metadata": {
    "collapsed": false
   }
  },
  {
   "cell_type": "code",
   "execution_count": 26,
   "outputs": [
    {
     "name": "stdout",
     "output_type": "stream",
     "text": [
      "Implied volatilities of market prices (puts):\n",
      "S0 = 27.47\n",
      "K = 22.0, IV = 0.4113\n",
      "K = 25.0, IV = 0.391\n",
      "K = 27.0, IV = 0.377\n",
      "K = 30.0, IV = 0.3653\n",
      "K = 35.0, IV = 0.3507\n"
     ]
    },
    {
     "data": {
      "text/plain": "<Figure size 1000x500 with 1 Axes>",
      "image/png": "[encoded data removed]"
     },
     "metadata": {},
     "output_type": "display_data"
    }
   ],
   "source": [
    "IV_market_p = []\n",
    "for i in range(len(put_prices)):\n",
    "    IV_market_p.append(implied_volatility(put_prices[i], S=S0, strike=put_strikes[i], t = T, rate=0.021, q = 0.038, type_o='put', method='fsolve'))\n",
    "\n",
    "print(f'Implied volatilities of market prices (puts):\\nS0 = {S0}')\n",
    "for a,b in zip(put_strikes.head(6), IV_market_p[:6]):\n",
    "    print(f'K = {a}, IV = {round(b, 4)}')\n",
    "\n",
    "# Plot market implied volatilities w.r.t. log moneyness\n",
    "x = (S0/put_strikes)\n",
    "IV_filtered = [iv for iv in IV_market_p if iv != -1]\n",
    "x_filtered = [log_m for iv, log_m in zip(IV_market_p, x) if iv != -1]\n",
    "puts_filtered = [p_iv for iv, p_iv in zip(IV_market_p, puts['P_IV']) if iv != -1 ]\n",
    "\n",
    "fig, ax1 = plt.subplots(figsize=(10,5))\n",
    "ax1.scatter(x_filtered, IV_filtered, marker='x', label='BS inversion', color='red')\n",
    "ax1.scatter(x_filtered, puts_filtered, marker='.', label='provided')\n",
    "ax1.set_xlabel('Moneyness: S0/K'); ax1.set_ylabel('Implied Volatility'); ax1.set_title('Puts volatility smile')\n",
    "ax1.legend(); plt.show()\n"
   ],
   "metadata": {
    "collapsed": false
   }
  },
  {
   "cell_type": "markdown",
   "source": [
    "##  Weighted Calibration (call options)\n",
    "Let's step now into the calibration of model parameters.\n",
    "If we define $\\Theta$ the set of parameters, the goal is to find the optimal parameters $\\Theta^*$ that minimize the following objective function:\n",
    "$$ \\sum_{i=1}^{N} w_i \\biggl( P_i - f(K_i|\\Theta) \\biggr)^2 $$\n",
    "where $w_i$ are weights, usually defined as\n",
    "$$ w_i = \\frac{1}{\\text {spread}_i },$$ $P_i$ are the market prices and $f$ is the pricing function. In our case $f$ is given by **Merton** Jump Diffusion model, **Kou** Jump Diffusion model, or **Variance Gamma** process. To perform this optimization problem, many numerical methods can be used. In particular, we test two functions of `scipy.optimize`:\n",
    "1. **curve_fit**, a least-squares curve fitting method which works with bounds. The default algorithm is [Trust Region Reflective (trf)](https://en.wikipedia.org/wiki/Trust_region). The [Levemberg-Marquadt](https://en.wikipedia.org/wiki/Levenberg%E2%80%93Marquardt_algorithm) has been tried as well, to test the optimization problem without setting boundaries, but the results don't make any sense.\n",
    "2. **Least-Squares**, a constrained minimization problem which uses Trust region reflective method by default. This method is the most indicated to solve the non-linear least squares optimization problem of our purpose.\n",
    "All the optimizations are carried out by initializing a starting point as the array $x_0 = [params]$ and setting feasible bounds.\n"
   ],
   "metadata": {
    "collapsed": false
   },
   "outputs": []
  },
  {
   "cell_type": "code",
   "execution_count": 27,
   "outputs": [],
   "source": [
    "put_spreads = puts['P_Spread']\n",
    "p_weights = 1 / put_spreads**2"
   ],
   "metadata": {
    "collapsed": false
   }
  },
  {
   "cell_type": "markdown",
   "source": [
    "### Black and Scholes model\n",
    "The only unknown parameter to calibrate in Black and Scholes model is the **implied volatility**, $\\sigma$. Thus, we minimize the difference between the computed theoretical prices and the market prices of call options."
   ],
   "metadata": {
    "collapsed": false
   }
  },
  {
   "cell_type": "code",
   "execution_count": 28,
   "outputs": [],
   "source": [
    "x0 = 0.5\n",
    "bounds = [1e-5, 2]\n",
    "\n",
    "def f_BlackScholes_puts(x, sigm):\n",
    "    BS = BS_Pricer(S0=S0, K = x, ttm=T, r=r, q=0, sigma=sigm, exercise=exercise)\n",
    "    return BS.closed_formula_put(x)\n",
    "\n",
    "res1_puts = scpo.curve_fit(f_BlackScholes_puts, put_strikes, put_prices, p0 = x0, bounds=bounds, sigma=p_weights)\n",
    "sigw_p = round(res1_puts[0][0],4)"
   ],
   "metadata": {
    "collapsed": false
   }
  },
  {
   "cell_type": "code",
   "execution_count": 29,
   "outputs": [
    {
     "name": "stdout",
     "output_type": "stream",
     "text": [
      "`ftol` termination condition is satisfied.\n",
      "Function evaluations 20, initial cost 1.2636e+04, final cost 4.3741e+00, first-order optimality 5.48e-03.\n"
     ]
    }
   ],
   "source": [
    "def cost_function(x, strikes, mkt_prices):\n",
    "    sigma = x\n",
    "    BS = BS_Pricer(S0=S0, K = None, ttm=T, r=r, q=0, sigma=sigma, exercise=exercise)\n",
    "    sq_err = np.sum( p_weights* (BS.closed_formula_put(strikes) - mkt_prices)**2)\n",
    "    return sq_err\n",
    "\n",
    "result_p = scpo.least_squares(cost_function, x0, args=(put_strikes, put_prices), bounds=bounds, method = 'trf', verbose=1)\n",
    "opt_sigma_p = result_p.x[0]"
   ],
   "metadata": {
    "collapsed": false
   }
  },
  {
   "cell_type": "code",
   "execution_count": 30,
   "outputs": [
    {
     "name": "stdout",
     "output_type": "stream",
     "text": [
      "METHOD 1: CURVE_FIT (trf)\n",
      "> Calibrated Volatility from Calls [σ] = 0.4356 \t 43.56%\n",
      "METHOD 2: LEAST-SQUARES (trf)\n",
      "> Calibrated Volatility from Calls [σ] = 0.43829911719952847 \t 43.83%\n"
     ]
    }
   ],
   "source": [
    "print('METHOD 1: CURVE_FIT (trf)')\n",
    "print(f'> Calibrated Volatility from Calls [σ] = {sigw_p} \\t {round(sigw_p*100,2)}%')\n",
    "print('METHOD 2: LEAST-SQUARES (trf)')\n",
    "print(f'> Calibrated Volatility from Calls [σ] = {opt_sigma_p} \\t {round(opt_sigma_p*100,2)}%')"
   ],
   "metadata": {
    "collapsed": false
   }
  },
  {
   "cell_type": "markdown",
   "source": [
    "### Merton Jump Diffusion\n",
    "The Merton Jump diffusion ones are the volatility $\\sigma$, the Poisson rate of jumps $\\lambda$, the mean rate of jump intensity $m$ and its variance rate $v$, assuming that the intensity of jumps follows a *Normal distribution*.\n"
   ],
   "metadata": {
    "collapsed": false
   }
  },
  {
   "cell_type": "code",
   "execution_count": 31,
   "outputs": [],
   "source": [
    "x0 = [0.15,  0.2, -0.05,  0.01]  # initial guess: [σ, λ, m, v]\n",
    "bounds = ( [1e-3, 1e-2, -5, 1e-5], [2, 5, 5, 2] )"
   ],
   "metadata": {
    "collapsed": false
   }
  },
  {
   "cell_type": "code",
   "execution_count": 32,
   "outputs": [],
   "source": [
    "def f_Mert(x, sigma, lambd, meanJ, stdJ):\n",
    "    Mert = Merton_pricer(S0=S0, K=x, ttm=T, r=r, q=0, sigma=sigma, lambd=lambd, meanJ=meanJ, stdJ=stdJ, exercise=exercise)\n",
    "    return Mert.closed_formula_put(x)\n",
    "\n",
    "start1=time.time()\n",
    "mert1 = scpo.curve_fit(f_Mert, put_strikes, put_prices, p0=x0, bounds=bounds, sigma=put_spreads)\n",
    "end1=time.time()\n",
    "\n",
    "mert_params1 = [round(p,4) for p in mert1[0][:4]]"
   ],
   "metadata": {
    "collapsed": false
   }
  },
  {
   "cell_type": "markdown",
   "source": [
    "##### Method 2. Least-squares"
   ],
   "metadata": {
    "collapsed": false
   }
  },
  {
   "cell_type": "code",
   "execution_count": 33,
   "outputs": [
    {
     "name": "stdout",
     "output_type": "stream",
     "text": [
      "   Iteration     Total nfev        Cost      Cost reduction    Step norm     Optimality   \n",
      "       0              1         1.0709e+06                                    1.20e+08    \n",
      "       1              2         9.7920e+04      9.73e+05       5.16e-01       3.68e+07    \n",
      "       2              4         7.5077e+03      9.04e+04       2.58e-01       5.55e+06    \n",
      "       3              5         2.3026e+03      5.21e+03       5.17e-01       2.46e+06    \n",
      "       4              6         4.9576e+02      1.81e+03       5.17e-01       6.59e+05    \n",
      "       5              8         2.2103e+02      2.75e+02       2.58e-01       1.78e+05    \n",
      "       6             13         1.9243e+02      2.86e+01       3.23e-03       9.78e+03    \n",
      "       7             16         1.9231e+02      1.16e-01       1.94e-04       1.31e+03    \n",
      "       8             17         1.9225e+02      6.42e-02       8.75e-05       1.35e+03    \n",
      "       9             18         1.9214e+02      1.11e-01       1.81e-04       4.19e+03    \n",
      "      10             20         1.9209e+02      4.64e-02       1.68e-04       3.13e+03    \n",
      "      11             21         1.9205e+02      4.74e-02       1.47e-04       3.40e+03    \n",
      "      12             22         1.9200e+02      4.52e-02       1.57e-04       3.21e+03    \n",
      "      13             23         1.9195e+02      4.75e-02       1.48e-04       3.39e+03    \n",
      "      14             24         1.9191e+02      4.53e-02       1.56e-04       3.21e+03    \n",
      "      15             25         1.9186e+02      4.76e-02       1.48e-04       3.39e+03    \n",
      "      16             26         1.9181e+02      4.53e-02       1.56e-04       3.20e+03    \n",
      "      17             27         1.9177e+02      4.77e-02       1.48e-04       3.38e+03    \n",
      "      18             28         1.9172e+02      4.54e-02       1.56e-04       3.20e+03    \n",
      "      19             29         1.9167e+02      4.77e-02       1.48e-04       3.38e+03    \n",
      "      20             30         1.9163e+02      4.55e-02       1.56e-04       3.19e+03    \n",
      "      21             31         1.9158e+02      4.78e-02       1.48e-04       3.38e+03    \n",
      "      22             32         1.9154e+02      4.56e-02       1.56e-04       3.19e+03    \n",
      "      23             33         1.9149e+02      4.78e-02       1.47e-04       3.37e+03    \n",
      "      24             34         1.9144e+02      4.56e-02       1.56e-04       3.18e+03    \n",
      "      25             35         1.9139e+02      4.79e-02       1.47e-04       3.37e+03    \n",
      "      26             36         1.9135e+02      4.57e-02       1.56e-04       3.18e+03    \n",
      "      27             37         1.9130e+02      4.80e-02       1.47e-04       3.37e+03    \n",
      "      28             38         1.9125e+02      4.58e-02       1.56e-04       3.17e+03    \n",
      "      29             39         1.9121e+02      4.80e-02       1.47e-04       3.36e+03    \n",
      "      30             40         1.9116e+02      4.59e-02       1.56e-04       3.17e+03    \n",
      "      31             41         1.9111e+02      4.81e-02       1.47e-04       3.36e+03    \n",
      "      32             42         1.9107e+02      4.59e-02       1.56e-04       3.16e+03    \n",
      "      33             43         1.9102e+02      4.82e-02       1.47e-04       3.35e+03    \n",
      "      34             44         1.9097e+02      4.60e-02       1.55e-04       3.16e+03    \n",
      "      35             45         1.9092e+02      4.82e-02       1.47e-04       3.35e+03    \n",
      "      36             46         1.9088e+02      4.61e-02       1.55e-04       3.15e+03    \n",
      "      37             47         1.9083e+02      4.83e-02       1.47e-04       3.35e+03    \n",
      "      38             48         1.9078e+02      4.62e-02       1.55e-04       3.15e+03    \n",
      "      39             49         1.9073e+02      4.84e-02       1.47e-04       3.34e+03    \n",
      "      40             50         1.9069e+02      4.62e-02       1.55e-04       3.14e+03    \n",
      "      41             51         1.9064e+02      4.84e-02       1.46e-04       3.34e+03    \n",
      "      42             52         1.9059e+02      4.63e-02       1.55e-04       3.14e+03    \n",
      "      43             53         1.9055e+02      4.85e-02       1.46e-04       3.34e+03    \n",
      "      44             54         1.9050e+02      4.64e-02       1.55e-04       3.13e+03    \n",
      "      45             55         1.9045e+02      4.86e-02       1.46e-04       3.33e+03    \n",
      "      46             56         1.9040e+02      4.65e-02       1.55e-04       3.13e+03    \n",
      "      47             57         1.9036e+02      4.86e-02       1.46e-04       3.33e+03    \n",
      "      48             58         1.9031e+02      4.65e-02       1.55e-04       3.12e+03    \n",
      "      49             59         1.9026e+02      4.87e-02       1.46e-04       3.32e+03    \n",
      "      50             60         1.9021e+02      4.66e-02       1.55e-04       3.12e+03    \n",
      "      51             61         1.9016e+02      4.88e-02       1.46e-04       3.32e+03    \n",
      "      52             62         1.9012e+02      4.67e-02       1.55e-04       3.12e+03    \n",
      "      53             63         1.9007e+02      4.88e-02       1.46e-04       3.32e+03    \n",
      "      54             64         1.9002e+02      4.68e-02       1.55e-04       3.11e+03    \n",
      "      55             65         1.8997e+02      4.89e-02       1.46e-04       3.31e+03    \n",
      "      56             66         1.8993e+02      4.68e-02       1.54e-04       3.11e+03    \n",
      "      57             67         1.8988e+02      4.90e-02       1.45e-04       3.31e+03    \n",
      "      58             68         1.8983e+02      4.69e-02       1.54e-04       3.10e+03    \n",
      "      59             69         1.8978e+02      4.90e-02       1.45e-04       3.30e+03    \n",
      "      60             70         1.8973e+02      4.70e-02       1.54e-04       3.10e+03    \n",
      "      61             71         1.8969e+02      4.91e-02       1.45e-04       3.30e+03    \n",
      "      62             72         1.8964e+02      4.71e-02       1.54e-04       3.09e+03    \n",
      "      63             73         1.8959e+02      4.92e-02       1.45e-04       3.30e+03    \n",
      "      64             74         1.8954e+02      4.72e-02       1.54e-04       3.09e+03    \n",
      "      65             75         1.8949e+02      4.93e-02       1.45e-04       3.29e+03    \n",
      "      66             76         1.8945e+02      4.72e-02       1.54e-04       3.08e+03    \n",
      "      67             77         1.8940e+02      4.93e-02       1.45e-04       3.29e+03    \n",
      "      68             78         1.8935e+02      4.73e-02       1.54e-04       3.08e+03    \n",
      "      69             79         1.8930e+02      4.94e-02       1.45e-04       3.29e+03    \n",
      "      70             80         1.8925e+02      4.74e-02       1.54e-04       3.07e+03    \n",
      "      71             81         1.8920e+02      4.95e-02       1.45e-04       3.28e+03    \n",
      "      72             82         1.8916e+02      4.75e-02       1.54e-04       3.07e+03    \n",
      "      73             83         1.8911e+02      4.95e-02       1.45e-04       3.28e+03    \n",
      "      74             84         1.8906e+02      4.75e-02       1.54e-04       3.06e+03    \n",
      "      75             85         1.8901e+02      4.96e-02       1.44e-04       3.27e+03    \n",
      "      76             86         1.8896e+02      4.76e-02       1.54e-04       3.05e+03    \n",
      "      77             87         1.8891e+02      4.97e-02       1.44e-04       3.27e+03    \n",
      "      78             88         1.8886e+02      4.77e-02       1.53e-04       3.05e+03    \n",
      "      79             89         1.8881e+02      4.97e-02       1.44e-04       3.27e+03    \n",
      "      80             90         1.8877e+02      4.78e-02       1.53e-04       3.04e+03    \n",
      "      81             91         1.8872e+02      4.98e-02       1.44e-04       3.26e+03    \n",
      "      82             92         1.8867e+02      4.79e-02       1.53e-04       3.04e+03    \n",
      "      83             93         1.8862e+02      4.99e-02       1.44e-04       3.26e+03    \n",
      "      84             94         1.8857e+02      4.79e-02       1.53e-04       3.03e+03    \n",
      "      85             95         1.8852e+02      4.99e-02       1.44e-04       3.25e+03    \n",
      "      86             96         1.8847e+02      4.80e-02       1.53e-04       3.03e+03    \n",
      "      87             97         1.8842e+02      5.00e-02       1.44e-04       3.25e+03    \n",
      "      88             98         1.8837e+02      4.81e-02       1.53e-04       3.02e+03    \n",
      "      89             99         1.8832e+02      5.01e-02       1.44e-04       3.25e+03    \n",
      "      90             100        1.8828e+02      4.82e-02       1.53e-04       3.02e+03    \n",
      "      91             101        1.8823e+02      5.02e-02       1.43e-04       3.24e+03    \n",
      "      92             102        1.8818e+02      4.82e-02       1.53e-04       3.01e+03    \n",
      "      93             103        1.8813e+02      5.02e-02       1.43e-04       3.24e+03    \n",
      "      94             104        1.8808e+02      4.83e-02       1.53e-04       3.01e+03    \n",
      "      95             105        1.8803e+02      5.03e-02       1.43e-04       3.23e+03    \n",
      "      96             106        1.8798e+02      4.84e-02       1.53e-04       3.00e+03    \n",
      "      97             107        1.8793e+02      5.04e-02       1.43e-04       3.23e+03    \n",
      "      98             108        1.8788e+02      4.85e-02       1.52e-04       3.00e+03    \n",
      "      99             109        1.8783e+02      5.04e-02       1.43e-04       3.22e+03    \n",
      "      100            110        1.8778e+02      4.86e-02       1.52e-04       2.99e+03    \n",
      "      101            111        1.8773e+02      5.05e-02       1.43e-04       3.22e+03    \n",
      "      102            112        1.8768e+02      4.86e-02       1.52e-04       2.99e+03    \n",
      "      103            113        1.8763e+02      5.06e-02       1.43e-04       3.22e+03    \n",
      "      104            114        1.8758e+02      4.87e-02       1.52e-04       2.98e+03    \n",
      "      105            115        1.8753e+02      5.06e-02       1.43e-04       3.21e+03    \n",
      "      106            116        1.8749e+02      4.88e-02       1.52e-04       2.98e+03    \n",
      "      107            117        1.8743e+02      5.07e-02       1.42e-04       3.21e+03    \n",
      "      108            118        1.8739e+02      4.89e-02       1.52e-04       2.97e+03    \n",
      "      109            119        1.8733e+02      5.08e-02       1.42e-04       3.20e+03    \n",
      "      110            120        1.8729e+02      4.90e-02       1.52e-04       2.97e+03    \n",
      "      111            121        1.8723e+02      5.09e-02       1.42e-04       3.20e+03    \n",
      "      112            122        1.8719e+02      4.90e-02       1.52e-04       2.96e+03    \n",
      "      113            123        1.8713e+02      5.09e-02       1.42e-04       3.20e+03    \n",
      "      114            124        1.8709e+02      4.91e-02       1.52e-04       2.96e+03    \n",
      "      115            125        1.8703e+02      5.10e-02       1.42e-04       3.19e+03    \n",
      "      116            126        1.8699e+02      4.92e-02       1.52e-04       2.95e+03    \n",
      "      117            127        1.8693e+02      5.11e-02       1.42e-04       3.19e+03    \n",
      "      118            128        1.8689e+02      4.93e-02       1.51e-04       2.95e+03    \n",
      "      119            129        1.8683e+02      5.11e-02       1.42e-04       3.18e+03    \n",
      "      120            130        1.8678e+02      4.94e-02       1.51e-04       2.94e+03    \n",
      "      121            131        1.8673e+02      5.12e-02       1.42e-04       3.18e+03    \n",
      "      122            132        1.8668e+02      4.94e-02       1.51e-04       2.93e+03    \n",
      "      123            133        1.8663e+02      5.13e-02       1.41e-04       3.17e+03    \n",
      "      124            134        1.8658e+02      4.95e-02       1.51e-04       2.93e+03    \n",
      "      125            135        1.8653e+02      5.14e-02       1.41e-04       3.17e+03    \n",
      "      126            136        1.8648e+02      4.96e-02       1.51e-04       2.92e+03    \n",
      "      127            137        1.8643e+02      5.14e-02       1.41e-04       3.17e+03    \n",
      "      128            138        1.8638e+02      4.97e-02       1.51e-04       2.92e+03    \n",
      "      129            139        1.8633e+02      5.15e-02       1.41e-04       3.16e+03    \n",
      "      130            140        1.8628e+02      4.98e-02       1.51e-04       2.91e+03    \n",
      "      131            141        1.8623e+02      5.16e-02       1.41e-04       3.16e+03    \n",
      "      132            142        1.8618e+02      4.99e-02       1.51e-04       2.91e+03    \n",
      "      133            143        1.8613e+02      5.17e-02       1.41e-04       3.15e+03    \n",
      "      134            144        1.8608e+02      4.99e-02       1.51e-04       2.90e+03    \n",
      "      135            145        1.8602e+02      5.17e-02       1.41e-04       3.15e+03    \n",
      "      136            146        1.8597e+02      5.00e-02       1.50e-04       2.90e+03    \n",
      "      137            147        1.8592e+02      5.18e-02       1.41e-04       3.14e+03    \n",
      "      138            148        1.8587e+02      5.01e-02       1.50e-04       2.89e+03    \n",
      "      139            149        1.8582e+02      5.19e-02       1.40e-04       3.14e+03    \n",
      "      140            150        1.8577e+02      5.02e-02       1.50e-04       2.89e+03    \n",
      "      141            151        1.8572e+02      5.20e-02       1.40e-04       3.14e+03    \n",
      "      142            152        1.8567e+02      5.03e-02       1.50e-04       2.88e+03    \n",
      "      143            153        1.8562e+02      5.20e-02       1.40e-04       3.13e+03    \n",
      "      144            154        1.8557e+02      5.04e-02       1.50e-04       2.87e+03    \n",
      "      145            155        1.8551e+02      5.21e-02       1.40e-04       3.13e+03    \n",
      "      146            156        1.8546e+02      5.04e-02       1.50e-04       2.87e+03    \n",
      "      147            157        1.8541e+02      5.22e-02       1.40e-04       3.12e+03    \n",
      "      148            158        1.8536e+02      5.05e-02       1.50e-04       2.86e+03    \n",
      "      149            159        1.8531e+02      5.23e-02       1.40e-04       3.12e+03    \n",
      "      150            160        1.8526e+02      5.06e-02       1.50e-04       2.86e+03    \n",
      "      151            161        1.8521e+02      5.23e-02       1.40e-04       3.11e+03    \n",
      "      152            162        1.8516e+02      5.07e-02       1.50e-04       2.85e+03    \n",
      "      153            163        1.8510e+02      5.24e-02       1.39e-04       3.11e+03    \n",
      "      154            164        1.8505e+02      5.08e-02       1.50e-04       2.85e+03    \n",
      "      155            165        1.8500e+02      5.25e-02       1.39e-04       3.10e+03    \n",
      "      156            166        1.8495e+02      5.09e-02       1.49e-04       2.84e+03    \n",
      "      157            167        1.8490e+02      5.26e-02       1.39e-04       3.10e+03    \n",
      "      158            168        1.8485e+02      5.09e-02       1.49e-04       2.83e+03    \n",
      "      159            169        1.8479e+02      5.26e-02       1.39e-04       3.10e+03    \n",
      "      160            170        1.8474e+02      5.10e-02       1.49e-04       2.83e+03    \n",
      "      161            171        1.8469e+02      5.27e-02       1.39e-04       3.09e+03    \n",
      "      162            172        1.8464e+02      5.11e-02       1.49e-04       2.82e+03    \n",
      "      163            173        1.8459e+02      5.28e-02       1.39e-04       3.09e+03    \n",
      "      164            174        1.8453e+02      5.12e-02       1.49e-04       2.82e+03    \n",
      "      165            175        1.8448e+02      5.29e-02       1.39e-04       3.08e+03    \n",
      "      166            176        1.8443e+02      5.13e-02       1.49e-04       2.81e+03    \n",
      "      167            177        1.8438e+02      5.29e-02       1.38e-04       3.08e+03    \n",
      "      168            178        1.8433e+02      5.14e-02       1.49e-04       2.81e+03    \n",
      "      169            179        1.8427e+02      5.30e-02       1.38e-04       3.07e+03    \n",
      "      170            180        1.8422e+02      5.14e-02       1.49e-04       2.80e+03    \n",
      "      171            181        1.8417e+02      5.31e-02       1.38e-04       3.07e+03    \n",
      "      172            182        1.8412e+02      5.15e-02       1.48e-04       2.79e+03    \n",
      "      173            183        1.8406e+02      5.32e-02       1.38e-04       3.06e+03    \n",
      "      174            184        1.8401e+02      5.16e-02       1.48e-04       2.79e+03    \n",
      "      175            185        1.8396e+02      5.32e-02       1.38e-04       3.06e+03    \n",
      "      176            186        1.8391e+02      5.17e-02       1.48e-04       2.78e+03    \n",
      "      177            187        1.8385e+02      5.33e-02       1.38e-04       3.05e+03    \n",
      "      178            188        1.8380e+02      5.18e-02       1.48e-04       2.78e+03    \n",
      "      179            189        1.8375e+02      5.34e-02       1.38e-04       3.05e+03    \n",
      "      180            190        1.8370e+02      5.19e-02       1.48e-04       2.77e+03    \n",
      "      181            191        1.8364e+02      5.35e-02       1.38e-04       3.04e+03    \n",
      "      182            192        1.8359e+02      5.20e-02       1.48e-04       2.77e+03    \n",
      "      183            193        1.8354e+02      5.35e-02       1.37e-04       3.04e+03    \n",
      "      184            194        1.8349e+02      5.20e-02       1.48e-04       2.76e+03    \n",
      "      185            195        1.8343e+02      5.36e-02       1.37e-04       3.04e+03    \n",
      "      186            196        1.8338e+02      5.21e-02       1.48e-04       2.75e+03    \n",
      "      187            197        1.8333e+02      5.37e-02       1.37e-04       3.03e+03    \n",
      "      188            198        1.8327e+02      5.22e-02       1.48e-04       2.75e+03    \n",
      "      189            199        1.8322e+02      5.38e-02       1.37e-04       3.03e+03    \n",
      "      190            200        1.8317e+02      5.23e-02       1.47e-04       2.74e+03    \n",
      "      191            201        1.8311e+02      5.39e-02       1.37e-04       3.02e+03    \n",
      "      192            202        1.8306e+02      5.24e-02       1.47e-04       2.74e+03    \n",
      "      193            203        1.8301e+02      5.39e-02       1.37e-04       3.02e+03    \n",
      "      194            204        1.8295e+02      5.25e-02       1.47e-04       2.73e+03    \n",
      "      195            205        1.8290e+02      5.40e-02       1.37e-04       3.01e+03    \n",
      "      196            206        1.8285e+02      5.26e-02       1.47e-04       2.72e+03    \n",
      "      197            207        1.8279e+02      5.41e-02       1.36e-04       3.01e+03    \n",
      "      198            208        1.8274e+02      5.26e-02       1.47e-04       2.72e+03    \n",
      "      199            209        1.8269e+02      5.42e-02       1.36e-04       3.00e+03    \n",
      "      200            210        1.8263e+02      5.27e-02       1.47e-04       2.71e+03    \n",
      "      201            211        1.8258e+02      5.43e-02       1.36e-04       3.00e+03    \n",
      "      202            212        1.8253e+02      5.28e-02       1.47e-04       2.71e+03    \n",
      "      203            213        1.8247e+02      5.43e-02       1.36e-04       2.99e+03    \n",
      "      204            214        1.8242e+02      5.29e-02       1.47e-04       2.70e+03    \n",
      "      205            215        1.8237e+02      5.44e-02       1.36e-04       2.99e+03    \n",
      "      206            216        1.8231e+02      5.30e-02       1.46e-04       2.69e+03    \n",
      "      207            217        1.8226e+02      5.45e-02       1.36e-04       2.98e+03    \n",
      "      208            218        1.8221e+02      5.31e-02       1.46e-04       2.69e+03    \n",
      "      209            219        1.8215e+02      5.46e-02       1.35e-04       2.98e+03    \n",
      "      210            220        1.8210e+02      5.32e-02       1.46e-04       2.68e+03    \n",
      "      211            221        1.8204e+02      5.46e-02       1.35e-04       2.97e+03    \n",
      "      212            222        1.8199e+02      5.33e-02       1.46e-04       2.68e+03    \n",
      "      213            223        1.8194e+02      5.47e-02       1.35e-04       2.97e+03    \n",
      "      214            224        1.8188e+02      5.33e-02       1.46e-04       2.67e+03    \n",
      "      215            225        1.8183e+02      5.48e-02       1.35e-04       2.96e+03    \n",
      "      216            226        1.8177e+02      5.34e-02       1.46e-04       2.66e+03    \n",
      "      217            227        1.8172e+02      5.49e-02       1.35e-04       2.96e+03    \n",
      "      218            228        1.8167e+02      5.35e-02       1.46e-04       2.66e+03    \n",
      "      219            229        1.8161e+02      5.50e-02       1.35e-04       2.95e+03    \n",
      "      220            230        1.8156e+02      5.36e-02       1.46e-04       2.65e+03    \n",
      "      221            231        1.8150e+02      5.50e-02       1.35e-04       2.95e+03    \n",
      "      222            232        1.8145e+02      5.37e-02       1.45e-04       2.65e+03    \n",
      "      223            233        1.8139e+02      5.51e-02       1.34e-04       2.94e+03    \n",
      "      224            234        1.8134e+02      5.38e-02       1.45e-04       2.64e+03    \n",
      "      225            235        1.8128e+02      5.52e-02       1.34e-04       2.94e+03    \n",
      "      226            236        1.8123e+02      5.39e-02       1.45e-04       2.63e+03    \n",
      "      227            237        1.8117e+02      5.53e-02       1.34e-04       2.93e+03    \n",
      "      228            238        1.8112e+02      5.40e-02       1.45e-04       2.63e+03    \n",
      "      229            239        1.8107e+02      5.54e-02       1.34e-04       2.93e+03    \n",
      "      230            240        1.8101e+02      5.40e-02       1.45e-04       2.62e+03    \n",
      "      231            241        1.8096e+02      5.55e-02       1.34e-04       2.92e+03    \n",
      "      232            242        1.8090e+02      5.41e-02       1.45e-04       2.61e+03    \n",
      "      233            243        1.8085e+02      5.55e-02       1.34e-04       2.92e+03    \n",
      "      234            244        1.8079e+02      5.42e-02       1.45e-04       2.61e+03    \n",
      "      235            245        1.8074e+02      5.56e-02       1.33e-04       2.91e+03    \n",
      "      236            246        1.8068e+02      5.43e-02       1.45e-04       2.60e+03    \n",
      "      237            247        1.8063e+02      5.57e-02       1.33e-04       2.91e+03    \n",
      "      238            248        1.8057e+02      5.44e-02       1.44e-04       2.60e+03    \n",
      "      239            249        1.8052e+02      5.58e-02       1.33e-04       2.90e+03    \n",
      "      240            250        1.8046e+02      5.45e-02       1.44e-04       2.59e+03    \n",
      "      241            251        1.8041e+02      5.59e-02       1.33e-04       2.90e+03    \n",
      "      242            252        1.8035e+02      5.46e-02       1.44e-04       2.58e+03    \n",
      "      243            253        1.8030e+02      5.59e-02       1.33e-04       2.89e+03    \n",
      "      244            254        1.8024e+02      5.47e-02       1.44e-04       2.58e+03    \n",
      "      245            255        1.8018e+02      5.60e-02       1.33e-04       2.89e+03    \n",
      "      246            256        1.8013e+02      5.48e-02       1.44e-04       2.57e+03    \n",
      "      247            257        1.8007e+02      5.61e-02       1.33e-04       2.88e+03    \n",
      "      248            258        1.8002e+02      5.49e-02       1.44e-04       2.56e+03    \n",
      "      249            259        1.7996e+02      5.62e-02       1.32e-04       2.88e+03    \n",
      "      250            260        1.7991e+02      5.49e-02       1.44e-04       2.56e+03    \n",
      "      251            261        1.7985e+02      5.63e-02       1.32e-04       2.87e+03    \n",
      "      252            262        1.7980e+02      5.50e-02       1.44e-04       2.55e+03    \n",
      "      253            263        1.7974e+02      5.64e-02       1.32e-04       2.87e+03    \n",
      "      254            264        1.7968e+02      5.51e-02       1.43e-04       2.54e+03    \n",
      "      255            265        1.7963e+02      5.64e-02       1.32e-04       2.86e+03    \n",
      "      256            266        1.7957e+02      5.52e-02       1.43e-04       2.54e+03    \n",
      "      257            267        1.7952e+02      5.65e-02       1.32e-04       2.85e+03    \n",
      "      258            268        1.7946e+02      5.53e-02       1.43e-04       2.53e+03    \n",
      "      259            269        1.7940e+02      5.66e-02       1.32e-04       2.85e+03    \n",
      "      260            270        1.7935e+02      5.54e-02       1.43e-04       2.52e+03    \n",
      "      261            271        1.7929e+02      5.67e-02       1.31e-04       2.84e+03    \n",
      "      262            272        1.7924e+02      5.55e-02       1.43e-04       2.52e+03    \n",
      "      263            273        1.7918e+02      5.68e-02       1.31e-04       2.84e+03    \n",
      "      264            274        1.7912e+02      5.56e-02       1.43e-04       2.51e+03    \n",
      "      265            275        1.7907e+02      5.69e-02       1.31e-04       2.83e+03    \n",
      "      266            276        1.7901e+02      5.57e-02       1.43e-04       2.51e+03    \n",
      "      267            277        1.7896e+02      5.69e-02       1.31e-04       2.83e+03    \n",
      "      268            278        1.7890e+02      5.58e-02       1.42e-04       2.50e+03    \n",
      "      269            279        1.7884e+02      5.70e-02       1.31e-04       2.82e+03    \n",
      "      270            280        1.7879e+02      5.59e-02       1.42e-04       2.49e+03    \n",
      "      271            281        1.7873e+02      5.71e-02       1.31e-04       2.82e+03    \n",
      "      272            282        1.7867e+02      5.60e-02       1.42e-04       2.49e+03    \n",
      "      273            283        1.7862e+02      5.72e-02       1.30e-04       2.81e+03    \n",
      "      274            284        1.7856e+02      5.60e-02       1.42e-04       2.48e+03    \n",
      "      275            285        1.7850e+02      5.73e-02       1.30e-04       2.81e+03    \n",
      "      276            286        1.7845e+02      5.61e-02       1.42e-04       2.47e+03    \n",
      "      277            287        1.7839e+02      5.74e-02       1.30e-04       2.80e+03    \n",
      "      278            288        1.7833e+02      5.62e-02       1.42e-04       2.47e+03    \n",
      "      279            289        1.7828e+02      5.75e-02       1.30e-04       2.79e+03    \n",
      "      280            290        1.7822e+02      5.63e-02       1.42e-04       2.46e+03    \n",
      "      281            291        1.7816e+02      5.75e-02       1.30e-04       2.79e+03    \n",
      "      282            292        1.7811e+02      5.64e-02       1.41e-04       2.45e+03    \n",
      "      283            293        1.7805e+02      5.76e-02       1.30e-04       2.78e+03    \n",
      "      284            294        1.7799e+02      5.65e-02       1.41e-04       2.45e+03    \n",
      "      285            295        1.7793e+02      5.77e-02       1.29e-04       2.78e+03    \n",
      "      286            296        1.7788e+02      5.66e-02       1.41e-04       2.44e+03    \n",
      "      287            297        1.7782e+02      5.78e-02       1.29e-04       2.77e+03    \n",
      "      288            298        1.7776e+02      5.67e-02       1.41e-04       2.43e+03    \n",
      "      289            299        1.7770e+02      5.79e-02       1.29e-04       2.77e+03    \n",
      "      290            300        1.7765e+02      5.68e-02       1.41e-04       2.42e+03    \n",
      "      291            301        1.7759e+02      5.80e-02       1.29e-04       2.76e+03    \n",
      "      292            302        1.7753e+02      5.69e-02       1.41e-04       2.42e+03    \n",
      "      293            303        1.7747e+02      5.81e-02       1.29e-04       2.76e+03    \n",
      "      294            304        1.7742e+02      5.70e-02       1.41e-04       2.41e+03    \n",
      "      295            305        1.7736e+02      5.81e-02       1.29e-04       2.75e+03    \n",
      "      296            306        1.7730e+02      5.71e-02       1.40e-04       2.40e+03    \n",
      "      297            307        1.7724e+02      5.82e-02       1.28e-04       2.74e+03    \n",
      "      298            308        1.7719e+02      5.72e-02       1.40e-04       2.40e+03    \n",
      "      299            309        1.7713e+02      5.83e-02       1.28e-04       2.74e+03    \n",
      "      300            310        1.7707e+02      5.73e-02       1.40e-04       2.39e+03    \n",
      "      301            311        1.7701e+02      5.84e-02       1.28e-04       2.73e+03    \n",
      "      302            312        1.7696e+02      5.74e-02       1.40e-04       2.38e+03    \n",
      "      303            313        1.7690e+02      5.85e-02       1.28e-04       2.73e+03    \n",
      "      304            314        1.7684e+02      5.74e-02       1.40e-04       2.38e+03    \n",
      "      305            315        1.7678e+02      5.86e-02       1.28e-04       2.72e+03    \n",
      "      306            316        1.7672e+02      5.75e-02       1.40e-04       2.37e+03    \n",
      "      307            317        1.7667e+02      5.87e-02       1.28e-04       2.72e+03    \n",
      "      308            318        1.7661e+02      5.76e-02       1.39e-04       2.36e+03    \n",
      "      309            319        1.7655e+02      5.88e-02       1.27e-04       2.71e+03    \n",
      "      310            320        1.7649e+02      5.77e-02       1.39e-04       2.36e+03    \n",
      "      311            321        1.7643e+02      5.88e-02       1.27e-04       2.70e+03    \n",
      "      312            322        1.7637e+02      5.78e-02       1.39e-04       2.35e+03    \n",
      "      313            323        1.7632e+02      5.89e-02       1.27e-04       2.70e+03    \n",
      "      314            324        1.7626e+02      5.79e-02       1.39e-04       2.34e+03    \n",
      "      315            325        1.7620e+02      5.90e-02       1.27e-04       2.69e+03    \n",
      "      316            326        1.7614e+02      5.80e-02       1.39e-04       2.33e+03    \n",
      "      317            327        1.7608e+02      5.91e-02       1.27e-04       2.69e+03    \n",
      "      318            328        1.7602e+02      5.81e-02       1.39e-04       2.33e+03    \n",
      "      319            329        1.7596e+02      5.92e-02       1.26e-04       2.68e+03    \n",
      "      320            330        1.7591e+02      5.82e-02       1.39e-04       2.32e+03    \n",
      "      321            331        1.7585e+02      5.93e-02       1.26e-04       2.67e+03    \n",
      "      322            332        1.7579e+02      5.83e-02       1.38e-04       2.31e+03    \n",
      "      323            333        1.7573e+02      5.94e-02       1.26e-04       2.67e+03    \n",
      "      324            334        1.7567e+02      5.84e-02       1.38e-04       2.31e+03    \n",
      "      325            335        1.7561e+02      5.95e-02       1.26e-04       2.66e+03    \n",
      "      326            336        1.7555e+02      5.85e-02       1.38e-04       2.30e+03    \n",
      "      327            337        1.7549e+02      5.96e-02       1.26e-04       2.66e+03    \n",
      "      328            338        1.7543e+02      5.86e-02       1.38e-04       2.29e+03    \n",
      "      329            339        1.7537e+02      5.96e-02       1.26e-04       2.65e+03    \n",
      "      330            340        1.7532e+02      5.87e-02       1.38e-04       2.28e+03    \n",
      "      331            341        1.7526e+02      5.97e-02       1.25e-04       2.64e+03    \n",
      "      332            342        1.7520e+02      5.88e-02       1.38e-04       2.28e+03    \n",
      "      333            343        1.7514e+02      5.98e-02       1.25e-04       2.64e+03    \n",
      "      334            344        1.7508e+02      5.89e-02       1.37e-04       2.27e+03    \n",
      "      335            345        1.7502e+02      5.99e-02       1.25e-04       2.63e+03    \n",
      "      336            346        1.7496e+02      5.90e-02       1.37e-04       2.26e+03    \n",
      "      337            347        1.7490e+02      6.00e-02       1.25e-04       2.63e+03    \n",
      "      338            348        1.7484e+02      5.91e-02       1.37e-04       2.25e+03    \n",
      "      339            349        1.7478e+02      6.01e-02       1.25e-04       2.62e+03    \n",
      "      340            350        1.7472e+02      5.92e-02       1.37e-04       2.25e+03    \n",
      "      341            351        1.7466e+02      6.02e-02       1.24e-04       2.61e+03    \n",
      "      342            352        1.7460e+02      5.93e-02       1.37e-04       2.24e+03    \n",
      "      343            353        1.7454e+02      6.03e-02       1.24e-04       2.61e+03    \n",
      "      344            354        1.7448e+02      5.94e-02       1.37e-04       2.23e+03    \n",
      "      345            355        1.7442e+02      6.04e-02       1.24e-04       2.60e+03    \n",
      "      346            356        1.7436e+02      5.95e-02       1.36e-04       2.22e+03    \n",
      "      347            357        1.7430e+02      6.05e-02       1.24e-04       2.59e+03    \n",
      "      348            358        1.7424e+02      5.96e-02       1.36e-04       2.22e+03    \n",
      "      349            359        1.7418e+02      6.05e-02       1.24e-04       2.59e+03    \n",
      "      350            360        1.7412e+02      5.97e-02       1.36e-04       2.21e+03    \n",
      "      351            361        1.7406e+02      6.06e-02       1.23e-04       2.58e+03    \n",
      "      352            362        1.7400e+02      5.98e-02       1.36e-04       2.20e+03    \n",
      "      353            363        1.7394e+02      6.07e-02       1.23e-04       2.58e+03    \n",
      "      354            364        1.7388e+02      5.99e-02       1.36e-04       2.19e+03    \n",
      "      355            365        1.7382e+02      6.08e-02       1.23e-04       2.57e+03    \n",
      "      356            366        1.7376e+02      6.00e-02       1.36e-04       2.19e+03    \n",
      "      357            367        1.7370e+02      6.09e-02       1.23e-04       2.56e+03    \n",
      "      358            368        1.7364e+02      6.01e-02       1.35e-04       2.18e+03    \n",
      "      359            369        1.7358e+02      6.10e-02       1.23e-04       2.56e+03    \n",
      "      360            370        1.7352e+02      6.02e-02       1.35e-04       2.17e+03    \n",
      "      361            371        1.7346e+02      6.11e-02       1.23e-04       2.55e+03    \n",
      "      362            372        1.7340e+02      6.03e-02       1.35e-04       2.16e+03    \n",
      "      363            373        1.7334e+02      6.12e-02       1.22e-04       2.54e+03    \n",
      "      364            374        1.7328e+02      6.03e-02       1.35e-04       2.16e+03    \n",
      "      365            375        1.7321e+02      6.13e-02       1.22e-04       2.54e+03    \n",
      "      366            376        1.7315e+02      6.04e-02       1.35e-04       2.15e+03    \n",
      "      367            377        1.7309e+02      6.14e-02       1.22e-04       2.53e+03    \n",
      "      368            378        1.7303e+02      6.05e-02       1.35e-04       2.14e+03    \n",
      "      369            379        1.7297e+02      6.15e-02       1.22e-04       2.52e+03    \n",
      "      370            380        1.7291e+02      6.06e-02       1.34e-04       2.13e+03    \n",
      "      371            381        1.7285e+02      6.15e-02       1.22e-04       2.52e+03    \n",
      "      372            382        1.7279e+02      6.07e-02       1.34e-04       2.13e+03    \n",
      "      373            383        1.7273e+02      6.16e-02       1.21e-04       2.51e+03    \n",
      "      374            384        1.7267e+02      6.08e-02       1.34e-04       2.12e+03    \n",
      "      375            385        1.7260e+02      6.17e-02       1.21e-04       2.50e+03    \n",
      "      376            386        1.7254e+02      6.09e-02       1.34e-04       2.11e+03    \n",
      "      377            387        1.7248e+02      6.18e-02       1.21e-04       2.50e+03    \n",
      "      378            388        1.7242e+02      6.10e-02       1.34e-04       2.10e+03    \n",
      "      379            389        1.7236e+02      6.19e-02       1.21e-04       2.49e+03    \n",
      "      380            390        1.7230e+02      6.11e-02       1.34e-04       2.09e+03    \n",
      "      381            391        1.7223e+02      6.20e-02       1.21e-04       2.48e+03    \n",
      "      382            392        1.7217e+02      6.12e-02       1.33e-04       2.09e+03    \n",
      "      383            393        1.7211e+02      6.21e-02       1.20e-04       2.48e+03    \n",
      "      384            394        1.7205e+02      6.13e-02       1.33e-04       2.08e+03    \n",
      "      385            395        1.7199e+02      6.22e-02       1.20e-04       2.47e+03    \n",
      "      386            396        1.7193e+02      6.14e-02       1.33e-04       2.07e+03    \n",
      "      387            397        1.7186e+02      6.23e-02       1.20e-04       2.46e+03    \n",
      "      388            398        1.7180e+02      6.15e-02       1.33e-04       2.06e+03    \n",
      "      389            399        1.7174e+02      6.24e-02       1.20e-04       2.46e+03    \n",
      "      390            400        1.7168e+02      6.16e-02       1.33e-04       2.05e+03    \n",
      "The maximum number of function evaluations is exceeded.\n",
      "Function evaluations 400, initial cost 1.0709e+06, final cost 1.7168e+02, first-order optimality 2.05e+03.\n"
     ]
    }
   ],
   "source": [
    "x0 = [0.1,  0.5, 0.3,  0.1]      # initial guess: [σ, λ, m, v]\n",
    "bounds = ( [1e-3, 1e-2, -10, 0], [2, np.inf, 10, 5] )\n",
    "\n",
    "def cost_function(x, strikes, mkt_prices):\n",
    "    sigma, lambd, meanJ, stdJ = x\n",
    "    M = Merton_pricer(S0, None, T, r, q, sigma, lambd, meanJ, stdJ, exercise)\n",
    "    sq_err = np.sum( p_weights*(M.closed_formula_put(strikes) - mkt_prices)**2)\n",
    "    return sq_err\n",
    "\n",
    "start2 = time.time()\n",
    "mert2 = scpo.least_squares(cost_function, x0, args=(put_strikes, put_prices), bounds=bounds, method = 'trf', verbose=2)\n",
    "end2 = time.time()\n",
    "\n",
    "mert_params2 = [round(p,4) for p in mert2.x[:4]]"
   ],
   "metadata": {
    "collapsed": false
   }
  },
  {
   "cell_type": "code",
   "execution_count": 34,
   "outputs": [
    {
     "name": "stdout",
     "output_type": "stream",
     "text": [
      "WEIGHTED OPT: CURVE_FIT (trf)\n",
      "> Calibrated Volatlity [σ] = 0.0563 \t 5.63%\n",
      "> Calibrated Jump intensity [λ] =  2.3\n",
      "> Calibrated Jump Mean =  -0.05\n",
      "> Calibrated Jump St. dev.  =  0.30277\n",
      "ELAPSED TIME: 24.25013756752014 sec\n",
      "\n",
      "METHOD 1: LEAST SQUARES (trf)\n",
      "> Calibrated Volatlity [σ] = 0.1139 \t 11.39%\n",
      "> Calibrated Jump intensity [λ] =  2.57\n",
      "> Calibrated Jump Mean =  0.241\n",
      "> Calibrated Jump St. dev.  =  0.072\n",
      "TIME ELAPSED:  78.11 sec\n"
     ]
    }
   ],
   "source": [
    "print('WEIGHTED OPT: CURVE_FIT (trf)')\n",
    "print(f'> Calibrated Volatlity [σ] = {round(mert1[0][0],4)} \\t {round(mert1[0][0]*100,2)}%')\n",
    "print('> Calibrated Jump intensity [λ] = ', round(mert1[0][1],2))\n",
    "print('> Calibrated Jump Mean = ', round(mert1[0][2],2))\n",
    "print('> Calibrated Jump St. dev.  = ', round(mert1[0][3],5))\n",
    "print(f'ELAPSED TIME: {end1-start1} sec')\n",
    "\n",
    "print('\\nMETHOD 1: LEAST SQUARES (trf)')\n",
    "print(f'> Calibrated Volatlity [σ] = {mert_params2[0]} \\t {round(mert_params2[0]*100,2)}%')\n",
    "print('> Calibrated Jump intensity [λ] = ', round(mert_params2[1],2))\n",
    "print('> Calibrated Jump Mean = ', round(mert_params2[2],3))\n",
    "print('> Calibrated Jump St. dev.  = ', round(mert_params2[3],3))\n",
    "print(f'TIME ELAPSED:  {round(end2-start2,2)} sec')"
   ],
   "metadata": {
    "collapsed": false
   }
  },
  {
   "cell_type": "code",
   "execution_count": 35,
   "outputs": [
    {
     "name": "stdout",
     "output_type": "stream",
     "text": [
      "[0.0563, 2.2979, -0.0483, 0.3028]\n",
      "[0.1139, 2.5662, 0.2412, 0.0717]\n"
     ]
    }
   ],
   "source": [
    "print(mert_params1)\n",
    "print(mert_params2)"
   ],
   "metadata": {
    "collapsed": false
   }
  },
  {
   "cell_type": "markdown",
   "source": [
    "### Kou Jump Diffusion\n"
   ],
   "metadata": {
    "collapsed": false
   }
  },
  {
   "cell_type": "code",
   "execution_count": 36,
   "outputs": [],
   "source": [
    "x0 = [0.3, 0.8, 0.5, 5, 10] # initial guess: [σ, λ, p, η_1, η_2]\n",
    "bounds = ( [1e-2, 1e-1, 0, 0.5, 0.5], [0.5, 4, 1, 15, 20] )"
   ],
   "metadata": {
    "collapsed": false
   }
  },
  {
   "cell_type": "markdown",
   "source": [
    "##### Method 1. TRF (Bounds)"
   ],
   "metadata": {
    "collapsed": false
   }
  },
  {
   "cell_type": "code",
   "execution_count": 37,
   "outputs": [],
   "source": [
    "# def f_Kou(x, sigma, lambd, p, eta1, eta2):\n",
    "#     KouJD = Kou_pricer(S0=S0, K=x, ttm=T, r=r, sigma=sigma, lambd=lambd, p=p, eta1=eta1, eta2=eta2, exercise=exercise)\n",
    "#     return KouJD.closed_formula_put(x)\n",
    "#\n",
    "# start1 = time.time()\n",
    "# kou1 = scpo.curve_fit(f_Kou, put_strikes, put_prices, p0=x0, bounds=bounds, sigma=p_weights)\n",
    "# end1 = time.time()\n",
    "#\n",
    "# kou_params1 = [round(p,4) for p in kou1[0][:5]]"
   ],
   "metadata": {
    "collapsed": false
   }
  },
  {
   "cell_type": "markdown",
   "source": [
    "##### Method 2. LEAST SQUARES (With Bounds)"
   ],
   "metadata": {
    "collapsed": false
   }
  },
  {
   "cell_type": "code",
   "execution_count": 38,
   "outputs": [
    {
     "name": "stdout",
     "output_type": "stream",
     "text": [
      "   Iteration     Total nfev        Cost      Cost reduction    Step norm     Optimality   \n",
      "       0              1         2.9843e+04                                    3.38e+05    \n",
      "       1              2         3.2913e+03      2.66e+04       5.98e-02       5.92e+04    \n",
      "       2              3         3.4348e+02      2.95e+03       3.88e-02       9.33e+03    \n",
      "       3              4         4.4243e+01      2.99e+02       2.60e-02       1.19e+03    \n",
      "       4              5         2.3943e+01      2.03e+01       2.34e-02       6.49e+02    \n",
      "       5              8         1.9602e+01      4.34e+00       8.21e-01       4.16e+02    \n",
      "       6             12         1.9450e+01      1.52e-01       7.33e-03       1.26e+02    \n",
      "       7             13         1.8832e+01      6.17e-01       9.99e-04       8.66e+01    \n",
      "       8             14         1.8249e+01      5.83e-01       1.81e-03       1.60e+02    \n",
      "       9             15         1.7930e+01      3.19e-01       7.98e-03       1.83e+02    \n",
      "      10             16         1.7499e+01      4.31e-01       1.81e-02       8.07e+01    \n",
      "      11             18         1.7269e+01      2.30e-01       1.33e-03       1.32e+02    \n",
      "      12             19         1.7118e+01      1.51e-01       3.26e-03       1.59e+02    \n",
      "      13             20         1.6820e+01      2.98e-01       8.86e-03       1.43e+02    \n",
      "      14             21         1.6282e+01      5.38e-01       1.62e-02       1.75e+02    \n",
      "      15             24         1.6215e+01      6.69e-02       1.82e-03       1.40e+02    \n",
      "      16             25         1.6145e+01      7.00e-02       2.12e-03       1.40e+02    \n",
      "      17             26         1.6006e+01      1.39e-01       4.29e-03       1.39e+02    \n",
      "      18             27         1.5734e+01      2.72e-01       8.62e-03       1.35e+02    \n",
      "      19             28         1.5211e+01      5.23e-01       1.72e-02       1.30e+02    \n",
      "      20             29         1.4259e+01      9.53e-01       3.48e-02       9.45e+01    \n",
      "      21             31         1.4149e+01      1.09e-01       1.21e-02       1.93e+02    \n",
      "      22             32         1.3876e+01      2.73e-01       1.93e-03       1.13e+02    \n",
      "      23             33         1.3767e+01      1.09e-01       4.33e-03       1.06e+02    \n",
      "      24             34         1.3554e+01      2.14e-01       8.29e-03       1.09e+02    \n",
      "      25             35         1.3172e+01      3.81e-01       1.74e-02       7.46e+01    \n",
      "      26             37         1.3060e+01      1.12e-01       4.70e-03       1.33e+02    \n",
      "      27             39         1.2994e+01      6.66e-02       1.28e-03       9.88e+01    \n",
      "      28             40         1.2944e+01      4.94e-02       2.13e-03       9.69e+01    \n",
      "      29             41         1.2846e+01      9.79e-02       4.21e-03       9.53e+01    \n",
      "      30             42         1.2654e+01      1.92e-01       8.38e-03       9.32e+01    \n",
      "      31             43         1.2284e+01      3.71e-01       1.68e-02       8.60e+01    \n",
      "      32             44         1.1635e+01      6.49e-01       3.27e-02       1.05e+02    \n",
      "      33             48         1.1600e+01      3.53e-02       6.38e-04       9.00e+01    \n",
      "      34             49         1.1579e+01      2.03e-02       9.50e-04       8.04e+01    \n",
      "      35             50         1.1539e+01      4.08e-02       2.10e-03       7.85e+01    \n",
      "      36             51         1.1458e+01      8.09e-02       4.14e-03       7.74e+01    \n",
      "      37             52         1.1299e+01      1.59e-01       8.27e-03       7.56e+01    \n",
      "      38             53         1.0992e+01      3.07e-01       1.66e-02       7.09e+01    \n",
      "      39             54         1.0428e+01      5.64e-01       3.27e-02       7.53e+01    \n",
      "      40             58         1.0411e+01      1.71e-02       8.34e-04       6.50e+01    \n",
      "      41             59         1.0394e+01      1.70e-02       1.02e-03       6.45e+01    \n",
      "      42             60         1.0361e+01      3.38e-02       2.04e-03       6.39e+01    \n",
      "      43             61         1.0293e+01      6.71e-02       4.07e-03       6.31e+01    \n",
      "      44             62         1.0162e+01      1.32e-01       8.14e-03       6.14e+01    \n",
      "      45             63         9.9065e+00      2.55e-01       1.62e-02       5.91e+01    \n",
      "      46             64         9.4370e+00      4.69e-01       3.28e-02       4.39e+01    \n",
      "      47             67         9.3912e+00      4.58e-02       2.66e-03       6.04e+01    \n",
      "      48             69         9.3782e+00      1.31e-02       8.12e-04       5.13e+01    \n",
      "      49             70         9.3641e+00      1.41e-02       9.79e-04       5.18e+01    \n",
      "      50             71         9.3361e+00      2.80e-02       1.98e-03       5.19e+01    \n",
      "      51             72         9.2805e+00      5.56e-02       4.00e-03       5.11e+01    \n",
      "      52             73         9.1712e+00      1.09e-01       7.98e-03       5.04e+01    \n",
      "      53             74         8.9613e+00      2.10e-01       1.61e-02       4.36e+01    \n",
      "      54             76         8.8882e+00      7.32e-02       6.80e-03       6.13e+01    \n",
      "      55             78         8.8668e+00      2.14e-02       1.08e-03       3.97e+01    \n",
      "      56             79         8.8413e+00      2.55e-02       1.41e-03       4.66e+01    \n",
      "      57             80         8.7912e+00      5.01e-02       3.99e-03       4.50e+01    \n",
      "      58             81         8.6937e+00      9.75e-02       7.78e-03       4.75e+01    \n",
      "      59             83         8.6644e+00      2.92e-02       3.93e-03       3.29e+01    \n",
      "      60             84         8.6265e+00      3.79e-02       1.95e-03       5.12e+01    \n",
      "      61             86         8.6154e+00      1.11e-02       7.26e-04       4.24e+01    \n",
      "      62             87         8.6034e+00      1.20e-02       9.46e-04       4.31e+01    \n",
      "      63             88         8.5796e+00      2.39e-02       1.95e-03       4.35e+01    \n",
      "      64             89         8.5322e+00      4.73e-02       3.95e-03       4.25e+01    \n",
      "      65             90         8.4392e+00      9.30e-02       7.82e-03       4.29e+01    \n",
      "      66             91         8.2751e+00      1.64e-01       1.60e-02       2.90e+01    \n",
      "      67             94         8.2474e+00      2.76e-02       8.95e-04       3.78e+01    \n",
      "      68             95         8.2257e+00      2.17e-02       1.81e-03       4.02e+01    \n",
      "      69             96         8.1824e+00      4.33e-02       3.95e-03       3.77e+01    \n",
      "      70             97         8.1025e+00      7.99e-02       7.44e-03       4.42e+01    \n",
      "      71             100        8.0936e+00      8.92e-03       7.17e-04       3.62e+01    \n",
      "      72             101        8.0829e+00      1.07e-02       8.97e-04       3.74e+01    \n",
      "      73             102        8.0618e+00      2.11e-02       1.91e-03       3.80e+01    \n",
      "      74             103        8.0200e+00      4.19e-02       3.90e-03       3.68e+01    \n",
      "      75             104        7.9384e+00      8.16e-02       7.65e-03       3.88e+01    \n",
      "      76             106        7.9224e+00      1.60e-02       3.80e-03       2.44e+01    \n",
      "      77             107        7.8878e+00      3.45e-02       1.51e-03       4.20e+01    \n",
      "      78             109        7.8792e+00      8.65e-03       6.77e-04       3.40e+01    \n",
      "      79             110        7.8691e+00      1.01e-02       8.88e-04       3.52e+01    \n",
      "      80             111        7.8491e+00      2.00e-02       1.90e-03       3.57e+01    \n",
      "      81             112        7.8094e+00      3.97e-02       3.88e-03       3.46e+01    \n",
      "      82             113        7.7324e+00      7.70e-02       7.59e-03       3.68e+01    \n",
      "      83             116        7.7242e+00      8.20e-03       9.14e-04       3.25e+01    \n",
      "      84             117        7.7144e+00      9.73e-03       8.87e-04       3.37e+01    \n",
      "      85             118        7.6953e+00      1.92e-02       1.89e-03       3.41e+01    \n",
      "      86             119        7.6572e+00      3.81e-02       3.86e-03       3.30e+01    \n",
      "      87             120        7.5832e+00      7.40e-02       7.56e-03       3.53e+01    \n",
      "      88             123        7.5756e+00      7.63e-03       9.00e-04       3.08e+01    \n",
      "      89             124        7.5662e+00      9.37e-03       8.68e-04       3.21e+01    \n",
      "      90             125        7.5478e+00      1.84e-02       1.88e-03       3.26e+01    \n",
      "      91             126        7.5112e+00      3.66e-02       3.85e-03       3.14e+01    \n",
      "      92             127        7.4408e+00      7.04e-02       7.49e-03       3.43e+01    \n",
      "      93             130        7.4343e+00      6.46e-03       8.36e-04       2.89e+01    \n",
      "      94             131        7.4252e+00      9.11e-03       8.21e-04       3.06e+01    \n",
      "      95             132        7.4075e+00      1.77e-02       1.86e-03       3.13e+01    \n",
      "      96             133        7.3724e+00      3.51e-02       3.84e-03       2.98e+01    \n",
      "      97             134        7.3071e+00      6.53e-02       7.35e-03       3.44e+01    \n",
      "      98             137        7.3011e+00      6.00e-03       6.82e-04       2.74e+01    \n",
      "      99             138        7.2923e+00      8.81e-03       8.00e-04       2.92e+01    \n",
      "      100            139        7.2753e+00      1.70e-02       1.85e-03       3.00e+01    \n",
      "      101            140        7.2415e+00      3.37e-02       3.82e-03       2.84e+01    \n",
      "      102            141        7.1803e+00      6.12e-02       7.26e-03       3.38e+01    \n",
      "      103            144        7.1737e+00      6.60e-03       6.15e-04       2.65e+01    \n",
      "      104            145        7.1653e+00      8.43e-03       8.15e-04       2.81e+01    \n",
      "      105            146        7.1489e+00      1.64e-02       1.85e-03       2.87e+01    \n",
      "      106            147        7.1163e+00      3.25e-02       3.80e-03       2.73e+01    \n",
      "      107            148        7.0562e+00      6.01e-02       7.28e-03       3.18e+01    \n",
      "      108            151        7.0508e+00      5.47e-03       6.41e-04       2.50e+01    \n",
      "      109            152        7.0426e+00      8.21e-03       7.74e-04       2.68e+01    \n",
      "      110            153        7.0268e+00      1.58e-02       1.84e-03       2.76e+01    \n",
      "      111            154        6.9955e+00      3.12e-02       3.79e-03       2.59e+01    \n",
      "      112            155        6.9414e+00      5.41e-02       7.11e-03       3.21e+01    \n",
      "      113            158        6.9334e+00      8.01e-03       5.38e-04       2.48e+01    \n",
      "      114            159        6.9257e+00      7.74e-03       8.47e-04       2.60e+01    \n",
      "      115            160        6.9104e+00      1.53e-02       1.85e-03       2.62e+01    \n",
      "      116            161        6.8801e+00      3.03e-02       3.76e-03       2.54e+01    \n",
      "      117            162        6.8219e+00      5.82e-02       7.33e-03       2.78e+01    \n",
      "      118            165        6.8177e+00      4.19e-03       7.61e-04       2.25e+01    \n",
      "      119            166        6.8099e+00      7.76e-03       7.20e-04       2.45e+01    \n",
      "      120            167        6.7953e+00      1.46e-02       1.81e-03       2.54e+01    \n",
      "      121            168        6.7665e+00      2.88e-02       3.76e-03       2.34e+01    \n",
      "      122            169        6.7247e+00      4.18e-02       6.80e-03       3.20e+01    \n",
      "      123            171        6.7201e+00      4.64e-03       8.89e-04       1.75e+01    \n",
      "      124            172        6.7139e+00      6.24e-03       1.97e-04       1.92e+01    \n",
      "      125            173        6.7046e+00      9.28e-03       4.96e-04       2.21e+01    \n",
      "      126            174        6.6913e+00      1.32e-02       1.55e-03       2.54e+01    \n",
      "      127            176        6.6856e+00      5.70e-03       8.88e-04       2.23e+01    \n",
      "      128            177        6.6785e+00      7.17e-03       8.06e-04       2.37e+01    \n",
      "      129            178        6.6644e+00      1.41e-02       1.83e-03       2.39e+01    \n",
      "      130            179        6.6364e+00      2.80e-02       3.72e-03       2.30e+01    \n",
      "      131            180        6.5839e+00      5.25e-02       7.21e-03       2.62e+01    \n",
      "      132            183        6.5805e+00      3.44e-03       6.45e-04       2.02e+01    \n",
      "      133            184        6.5732e+00      7.27e-03       6.78e-04       2.23e+01    \n",
      "      134            185        6.5597e+00      1.35e-02       1.78e-03       2.33e+01    \n",
      "      135            186        6.5334e+00      2.63e-02       3.72e-03       2.10e+01    \n",
      "      136            187        6.5053e+00      2.81e-02       6.46e-03       3.87e+01    \n",
      "      137            189        6.4887e+00      1.66e-02       8.00e-04       1.75e+01    \n",
      "      138            190        6.4755e+00      1.31e-02       9.74e-04       2.31e+01    \n",
      "      139            191        6.4679e+00      7.62e-03       1.78e-03       1.79e+01    \n",
      "      140            192        6.4556e+00      1.23e-02       1.06e-03       2.32e+01    \n",
      "      141            193        6.4519e+00      3.69e-03       1.71e-03       1.65e+01    \n",
      "      142            194        6.4466e+00      5.27e-03       2.15e-04       1.80e+01    \n",
      "      143            195        6.4389e+00      7.76e-03       5.48e-04       2.05e+01    \n",
      "      144            196        6.4265e+00      1.24e-02       1.66e-03       2.26e+01    \n",
      "      145            197        6.4228e+00      3.68e-03       3.57e-03       1.29e+01    \n",
      "      146            198        6.4085e+00      1.43e-02       2.84e-04       1.62e+01    \n",
      "      147            199        6.3944e+00      1.41e-02       8.51e-04       2.20e+01    \n",
      "      148            200        6.3829e+00      1.15e-02       1.84e-03       1.94e+01    \n",
      "      149            201        6.3651e+00      1.78e-02       3.04e-03       2.56e+01    \n",
      "      150            203        6.3591e+00      6.03e-03       5.01e-04       1.92e+01    \n",
      "      151            204        6.3527e+00      6.42e-03       7.56e-04       2.07e+01    \n",
      "      152            205        6.3401e+00      1.26e-02       1.81e-03       2.09e+01    \n",
      "      153            206        6.3151e+00      2.50e-02       3.66e-03       2.01e+01    \n",
      "      154            207        6.2692e+00      4.59e-02       7.08e-03       2.34e+01    \n",
      "      155            210        6.2661e+00      3.10e-03       5.69e-04       1.76e+01    \n",
      "      156            211        6.2642e+00      1.87e-03       1.61e-04       1.81e+01    \n",
      "      157            212        6.2608e+00      3.38e-03       3.54e-04       1.90e+01    \n",
      "      158            213        6.2547e+00      6.11e-03       8.18e-04       2.00e+01    \n",
      "      159            214        6.2426e+00      1.22e-02       1.81e-03       1.99e+01    \n",
      "      160            215        6.2184e+00      2.41e-02       3.63e-03       1.97e+01    \n",
      "      161            216        6.1708e+00      4.77e-02       7.26e-03       1.92e+01    \n",
      "      162            217        6.0790e+00      9.17e-02       1.44e-02       2.03e+01    \n",
      "      163            221        6.0765e+00      2.53e-03       3.51e-04       1.80e+01    \n",
      "      164            222        6.0737e+00      2.86e-03       4.34e-04       1.82e+01    \n",
      "      165            223        6.0680e+00      5.67e-03       8.87e-04       1.84e+01    \n",
      "      166            224        6.0567e+00      1.13e-02       1.80e-03       1.82e+01    \n",
      "      167            225        6.0342e+00      2.25e-02       3.59e-03       1.82e+01    \n",
      "      168            226        5.9900e+00      4.42e-02       7.21e-03       1.69e+01    \n",
      "      169            227        5.9599e+00      3.01e-02       1.33e-02       6.15e+01    \n",
      "      170            229        5.9528e+00      7.19e-03       1.40e-03       1.48e+01    \n",
      "      171            230        5.9315e+00      2.13e-02       2.37e-04       1.09e+01    \n",
      "      172            231        5.9071e+00      2.44e-02       5.06e-04       1.45e+01    \n",
      "      173            232        5.8983e+00      8.74e-03       1.16e-03       1.86e+01    \n",
      "      174            234        5.8960e+00      2.29e-03       3.40e-04       1.64e+01    \n",
      "      175            235        5.8934e+00      2.67e-03       4.25e-04       1.67e+01    \n",
      "      176            236        5.8881e+00      5.27e-03       8.76e-04       1.69e+01    \n",
      "      177            237        5.8776e+00      1.05e-02       1.78e-03       1.67e+01    \n",
      "      178            238        5.8567e+00      2.09e-02       3.55e-03       1.68e+01    \n",
      "      179            239        5.8164e+00      4.03e-02       7.16e-03       1.47e+01    \n",
      "      180            241        5.8064e+00      9.92e-03       2.77e-03       2.29e+01    \n",
      "      181            243        5.7982e+00      8.21e-03       4.17e-04       1.52e+01    \n",
      "      182            244        5.7932e+00      5.04e-03       7.97e-04       1.62e+01    \n",
      "      183            245        5.7831e+00      1.01e-02       1.78e-03       1.58e+01    \n",
      "      184            246        5.7632e+00      1.99e-02       3.50e-03       1.64e+01    \n",
      "      185            248        5.7579e+00      5.34e-03       1.72e-03       1.26e+01    \n",
      "      186            249        5.7491e+00      8.81e-03       9.28e-04       1.71e+01    \n",
      "      187            251        5.7470e+00      2.03e-03       3.43e-04       1.51e+01    \n",
      "      188            252        5.7445e+00      2.51e-03       4.13e-04       1.54e+01    \n",
      "      189            253        5.7396e+00      4.95e-03       8.65e-04       1.56e+01    \n",
      "      190            254        5.7297e+00      9.87e-03       1.77e-03       1.54e+01    \n",
      "      191            255        5.7101e+00      1.96e-02       3.51e-03       1.57e+01    \n",
      "      192            256        5.6757e+00      3.44e-02       7.10e-03       1.19e+01    \n",
      "      193            258        5.6746e+00      1.08e-03       1.76e-03       3.04e+01    \n",
      "      194            259        5.6609e+00      1.38e-02       3.80e-04       1.54e+01    \n",
      "      195            260        5.6567e+00      4.23e-03       8.69e-04       1.41e+01    \n",
      "      196            261        5.6481e+00      8.60e-03       1.56e-03       1.60e+01    \n",
      "      197            263        5.6470e+00      1.10e-03       7.23e-04       1.24e+01    \n",
      "      198            264        5.6453e+00      1.69e-03       1.29e-04       1.29e+01    \n",
      "      199            265        5.6424e+00      2.85e-03       2.97e-04       1.38e+01    \n",
      "      200            266        5.6377e+00      4.69e-03       7.50e-04       1.49e+01    \n",
      "      201            267        5.6283e+00      9.41e-03       1.76e-03       1.45e+01    \n",
      "      202            268        5.6100e+00      1.83e-02       3.44e-03       1.55e+01    \n",
      "      203            271        5.6081e+00      1.88e-03       3.85e-04       1.39e+01    \n",
      "      204            272        5.6057e+00      2.37e-03       4.06e-04       1.43e+01    \n",
      "      205            273        5.6011e+00      4.65e-03       8.57e-04       1.45e+01    \n",
      "      206            274        5.5918e+00      9.28e-03       1.75e-03       1.43e+01    \n",
      "      207            275        5.5734e+00      1.84e-02       3.47e-03       1.47e+01    \n",
      "      208            276        5.5712e+00      2.16e-03       6.96e-03       1.22e+01    \n",
      "      209            277        5.5423e+00      2.89e-02       4.87e-04       1.06e+01    \n",
      "      210            278        5.5334e+00      8.92e-03       7.74e-04       1.51e+01    \n",
      "      211            280        5.5317e+00      1.71e-03       3.47e-04       1.32e+01    \n",
      "      212            281        5.5294e+00      2.30e-03       3.96e-04       1.36e+01    \n",
      "      213            282        5.5249e+00      4.49e-03       8.49e-04       1.39e+01    \n",
      "      214            283        5.5159e+00      8.96e-03       1.74e-03       1.37e+01    \n",
      "      215            284        5.4983e+00      1.77e-02       3.44e-03       1.42e+01    \n",
      "      216            286        5.4947e+00      3.60e-03       1.68e-03       1.05e+01    \n",
      "      217            287        5.4865e+00      8.15e-03       8.10e-04       1.48e+01    \n",
      "      218            289        5.4848e+00      1.69e-03       3.24e-04       1.29e+01    \n",
      "      219            290        5.4826e+00      2.25e-03       3.94e-04       1.33e+01    \n",
      "      220            291        5.4782e+00      4.39e-03       8.47e-04       1.36e+01    \n",
      "      221            292        5.4694e+00      8.77e-03       1.74e-03       1.33e+01    \n",
      "      222            293        5.4521e+00      1.73e-02       3.43e-03       1.39e+01    \n",
      "      223            295        5.4503e+00      1.87e-03       1.64e-03       9.75e+00    \n",
      "      224            296        5.4462e+00      4.03e-03       1.81e-04       1.09e+01    \n",
      "      225            297        5.4410e+00      5.19e-03       4.79e-04       1.28e+01    \n",
      "      226            298        5.4368e+00      4.29e-03       8.27e-04       1.33e+01    \n",
      "      227            299        5.4282e+00      8.58e-03       1.74e-03       1.29e+01    \n",
      "      228            300        5.4116e+00      1.66e-02       3.39e-03       1.39e+01    \n",
      "      229            303        5.4100e+00      1.56e-03       3.56e-04       1.23e+01    \n",
      "      230            304        5.4078e+00      2.19e-03       3.87e-04       1.27e+01    \n",
      "      231            305        5.4036e+00      4.24e-03       8.41e-04       1.30e+01    \n",
      "      232            306        5.3951e+00      8.46e-03       1.73e-03       1.27e+01    \n",
      "      233            307        5.3786e+00      1.66e-02       3.40e-03       1.34e+01    \n",
      "      234            310        5.3769e+00      1.66e-03       3.87e-04       1.21e+01    \n",
      "      235            311        5.3748e+00      2.14e-03       3.93e-04       1.25e+01    \n",
      "      236            312        5.3706e+00      4.17e-03       8.43e-04       1.27e+01    \n",
      "      237            313        5.3623e+00      8.33e-03       1.72e-03       1.25e+01    \n",
      "      238            314        5.3459e+00      1.63e-02       3.40e-03       1.31e+01    \n",
      "      239            317        5.3443e+00      1.68e-03       3.94e-04       1.19e+01    \n",
      "      240            318        5.3422e+00      2.10e-03       3.95e-04       1.23e+01    \n",
      "      241            319        5.3381e+00      4.11e-03       8.43e-04       1.25e+01    \n",
      "      242            320        5.3299e+00      8.19e-03       1.72e-03       1.22e+01    \n",
      "      243            321        5.3138e+00      1.61e-02       3.39e-03       1.28e+01    \n",
      "      244            324        5.3121e+00      1.64e-03       3.93e-04       1.16e+01    \n",
      "      245            325        5.3101e+00      2.07e-03       3.92e-04       1.20e+01    \n",
      "      246            326        5.3060e+00      4.04e-03       8.40e-04       1.22e+01    \n",
      "      247            327        5.2980e+00      8.06e-03       1.72e-03       1.20e+01    \n",
      "      248            328        5.2822e+00      1.58e-02       3.38e-03       1.26e+01    \n",
      "      249            331        5.2806e+00      1.54e-03       3.83e-04       1.14e+01    \n",
      "      250            332        5.2786e+00      2.04e-03       3.85e-04       1.18e+01    \n",
      "      251            333        5.2746e+00      3.98e-03       8.36e-04       1.20e+01    \n",
      "      252            334        5.2667e+00      7.93e-03       1.71e-03       1.17e+01    \n",
      "      253            335        5.2512e+00      1.54e-02       3.36e-03       1.25e+01    \n",
      "      254            338        5.2498e+00      1.40e-03       3.62e-04       1.10e+01    \n",
      "      255            339        5.2478e+00      2.03e-03       3.75e-04       1.15e+01    \n",
      "      256            340        5.2439e+00      3.91e-03       8.30e-04       1.18e+01    \n",
      "      257            341        5.2361e+00      7.80e-03       1.71e-03       1.14e+01    \n",
      "      258            342        5.2211e+00      1.50e-02       3.34e-03       1.24e+01    \n",
      "      259            345        5.2198e+00      1.29e-03       3.32e-04       1.08e+01    \n",
      "      260            346        5.2178e+00      2.01e-03       3.67e-04       1.13e+01    \n",
      "      261            347        5.2139e+00      3.85e-03       8.26e-04       1.16e+01    \n",
      "      262            348        5.2063e+00      7.67e-03       1.71e-03       1.12e+01    \n",
      "      263            349        5.1916e+00      1.46e-02       3.32e-03       1.23e+01    \n",
      "      264            352        5.1904e+00      1.28e-03       3.10e-04       1.06e+01    \n",
      "      265            353        5.1884e+00      1.98e-03       3.66e-04       1.10e+01    \n",
      "      266            354        5.1846e+00      3.79e-03       8.24e-04       1.14e+01    \n",
      "      267            355        5.1770e+00      7.56e-03       1.70e-03       1.10e+01    \n",
      "      268            356        5.1627e+00      1.43e-02       3.31e-03       1.22e+01    \n",
      "      269            359        5.1615e+00      1.27e-03       3.01e-04       1.04e+01    \n",
      "      270            360        5.1595e+00      1.95e-03       3.65e-04       1.08e+01    \n",
      "      271            361        5.1558e+00      3.73e-03       8.23e-04       1.12e+01    \n",
      "      272            362        5.1483e+00      7.44e-03       1.70e-03       1.08e+01    \n",
      "      273            363        5.1343e+00      1.40e-02       3.29e-03       1.20e+01    \n",
      "      274            366        5.1330e+00      1.27e-03       2.92e-04       1.02e+01    \n",
      "      275            367        5.1311e+00      1.92e-03       3.64e-04       1.06e+01    \n",
      "      276            368        5.1274e+00      3.68e-03       8.22e-04       1.09e+01    \n",
      "      277            369        5.1201e+00      7.33e-03       1.69e-03       1.06e+01    \n",
      "      278            370        5.1064e+00      1.37e-02       3.28e-03       1.18e+01    \n",
      "      279            373        5.1051e+00      1.27e-03       2.85e-04       9.98e+00    \n",
      "      280            374        5.1032e+00      1.89e-03       3.63e-04       1.04e+01    \n",
      "      281            375        5.0996e+00      3.62e-03       8.21e-04       1.07e+01    \n",
      "      282            376        5.0924e+00      7.22e-03       1.69e-03       1.03e+01    \n",
      "      283            377        5.0789e+00      1.35e-02       3.27e-03       1.16e+01    \n",
      "      284            380        5.0776e+00      1.28e-03       2.79e-04       9.80e+00    \n",
      "      285            381        5.0757e+00      1.87e-03       3.62e-04       1.03e+01    \n",
      "      286            382        5.0722e+00      3.57e-03       8.20e-04       1.05e+01    \n",
      "      287            383        5.0651e+00      7.11e-03       1.69e-03       1.02e+01    \n",
      "      288            384        5.0518e+00      1.32e-02       3.26e-03       1.14e+01    \n",
      "      289            387        5.0505e+00      1.29e-03       2.73e-04       9.62e+00    \n",
      "      290            388        5.0487e+00      1.84e-03       3.62e-04       1.01e+01    \n",
      "      291            389        5.0452e+00      3.52e-03       8.19e-04       1.03e+01    \n",
      "      292            390        5.0382e+00      7.01e-03       1.68e-03       9.96e+00    \n",
      "      293            391        5.0252e+00      1.30e-02       3.25e-03       1.13e+01    \n",
      "      294            394        5.0239e+00      1.30e-03       2.68e-04       9.45e+00    \n",
      "      295            395        5.0221e+00      1.81e-03       3.61e-04       9.89e+00    \n",
      "      296            396        5.0186e+00      3.47e-03       8.18e-04       1.02e+01    \n",
      "      297            397        5.0117e+00      6.91e-03       1.68e-03       9.77e+00    \n",
      "      298            398        4.9990e+00      1.27e-02       3.25e-03       1.11e+01    \n",
      "      299            401        4.9977e+00      1.30e-03       2.63e-04       9.27e+00    \n",
      "      300            402        4.9959e+00      1.78e-03       3.61e-04       9.71e+00    \n",
      "      301            403        4.9925e+00      3.42e-03       8.17e-04       9.96e+00    \n",
      "      302            404        4.9857e+00      6.81e-03       1.68e-03       9.59e+00    \n",
      "      303            405        4.9732e+00      1.25e-02       3.24e-03       1.09e+01    \n",
      "      304            408        4.9719e+00      1.32e-03       2.58e-04       9.11e+00    \n",
      "      305            409        4.9701e+00      1.76e-03       3.60e-04       9.54e+00    \n",
      "      306            410        4.9668e+00      3.37e-03       8.16e-04       9.78e+00    \n",
      "      307            411        4.9600e+00      6.71e-03       1.67e-03       9.41e+00    \n",
      "      308            412        4.9478e+00      1.23e-02       3.23e-03       1.07e+01    \n",
      "      309            415        4.9464e+00      1.32e-03       2.54e-04       8.94e+00    \n",
      "      310            416        4.9447e+00      1.73e-03       3.59e-04       9.37e+00    \n",
      "      311            417        4.9414e+00      3.32e-03       8.15e-04       9.60e+00    \n",
      "      312            418        4.9348e+00      6.61e-03       1.67e-03       9.23e+00    \n",
      "      313            419        4.9227e+00      1.20e-02       3.22e-03       1.06e+01    \n",
      "      314            422        4.9214e+00      1.34e-03       2.50e-04       8.79e+00    \n",
      "      315            423        4.9197e+00      1.70e-03       3.60e-04       9.21e+00    \n",
      "      316            424        4.9164e+00      3.28e-03       8.14e-04       9.42e+00    \n",
      "      317            425        4.9099e+00      6.52e-03       1.66e-03       9.07e+00    \n",
      "      318            426        4.8980e+00      1.19e-02       3.21e-03       1.04e+01    \n",
      "      319            429        4.8967e+00      1.33e-03       2.48e-04       8.62e+00    \n",
      "      320            430        4.8950e+00      1.68e-03       3.58e-04       9.04e+00    \n",
      "      321            431        4.8918e+00      3.23e-03       8.13e-04       9.25e+00    \n",
      "      322            432        4.8854e+00      6.43e-03       1.66e-03       8.90e+00    \n",
      "      323            433        4.8738e+00      1.16e-02       3.20e-03       1.03e+01    \n",
      "      324            436        4.8724e+00      1.39e-03       2.42e-04       8.49e+00    \n",
      "      325            437        4.8708e+00      1.65e-03       3.60e-04       8.89e+00    \n",
      "      326            438        4.8676e+00      3.19e-03       8.13e-04       9.08e+00    \n",
      "      327            439        4.8612e+00      6.35e-03       1.66e-03       8.75e+00    \n",
      "      328            440        4.8497e+00      1.15e-02       3.20e-03       1.00e+01    \n",
      "      329            443        4.8484e+00      1.27e-03       2.44e-04       8.29e+00    \n",
      "      330            444        4.8468e+00      1.64e-03       3.53e-04       8.71e+00    \n",
      "      331            445        4.8436e+00      3.14e-03       8.09e-04       8.93e+00    \n",
      "      332            446        4.8374e+00      6.25e-03       1.65e-03       8.56e+00    \n",
      "      333            447        4.8264e+00      1.10e-02       3.17e-03       1.00e+01    \n",
      "      334            450        4.8248e+00      1.59e-03       2.29e-04       8.26e+00    \n",
      "      335            451        4.8232e+00      1.59e-03       3.69e-04       8.60e+00    \n",
      "      336            452        4.8201e+00      3.11e-03       8.14e-04       8.74e+00    \n",
      "      337            453        4.8139e+00      6.19e-03       1.65e-03       8.47e+00    \n",
      "      338            454        4.8024e+00      1.16e-02       3.22e-03       9.48e+00    \n",
      "      339            457        4.8015e+00      9.16e-04       2.63e-04       7.85e+00    \n",
      "      340            458        4.7998e+00      1.64e-03       3.29e-04       8.35e+00    \n",
      "      341            459        4.7968e+00      3.04e-03       7.97e-04       8.65e+00    \n",
      "      342            460        4.7912e+00      5.56e-03       1.64e-03       7.72e+00    \n",
      "      343            461        4.7909e+00      3.57e-04       2.54e-03       2.57e+01    \n",
      "      344            462        4.7809e+00      9.99e-03       3.50e-04       8.22e+00    \n",
      "      345            463        4.7779e+00      3.01e-03       7.96e-04       8.53e+00    \n",
      "      346            464        4.7725e+00      5.39e-03       1.64e-03       7.53e+00    \n",
      "      347            466        4.7696e+00      2.82e-03       6.10e-04       8.65e+00    \n",
      "      348            467        4.7685e+00      1.16e-03       7.60e-04       6.99e+00    \n",
      "      349            468        4.7652e+00      3.24e-03       4.75e-04       8.44e+00    \n",
      "      350            469        4.7624e+00      2.89e-03       8.18e-04       7.98e+00    \n",
      "      351            470        4.7570e+00      5.40e-03       1.53e-03       8.98e+00    \n",
      "      352            473        4.7562e+00      8.05e-04       1.43e-04       8.24e+00    \n",
      "      353            474        4.7554e+00      7.50e-04       2.04e-04       8.24e+00    \n",
      "      354            475        4.7539e+00      1.50e-03       4.08e-04       8.23e+00    \n",
      "      355            476        4.7509e+00      2.99e-03       8.17e-04       8.21e+00    \n",
      "      356            477        4.7449e+00      5.97e-03       1.63e-03       8.17e+00    \n",
      "      357            478        4.7331e+00      1.19e-02       3.27e-03       8.10e+00    \n",
      "      358            479        4.7096e+00      2.35e-02       6.55e-03       7.83e+00    \n",
      "      359            480        4.6728e+00      3.67e-02       1.29e-02       2.45e+01    \n",
      "      360            484        4.6656e+00      7.25e-03       1.74e-04       1.07e+01    \n",
      "      361            485        4.6635e+00      2.04e-03       2.06e-04       7.40e+00    \n",
      "      362            486        4.6621e+00      1.42e-03       3.85e-04       7.61e+00    \n",
      "      363            487        4.6593e+00      2.83e-03       8.09e-04       7.64e+00    \n",
      "      364            488        4.6536e+00      5.64e-03       1.62e-03       7.52e+00    \n",
      "      365            489        4.6426e+00      1.11e-02       3.22e-03       7.89e+00    \n",
      "      366            492        4.6418e+00      7.48e-04       3.45e-04       6.84e+00    \n",
      "      367            493        4.6403e+00      1.50e-03       3.15e-04       7.34e+00    \n",
      "      368            494        4.6375e+00      2.76e-03       7.89e-04       7.61e+00    \n",
      "      369            495        4.6332e+00      4.37e-03       1.61e-03       6.40e+00    \n",
      "      370            497        4.6304e+00      2.73e-03       5.06e-04       7.69e+00    \n",
      "      371            498        4.6293e+00      1.12e-03       7.57e-04       6.23e+00    \n",
      "      372            499        4.6264e+00      2.92e-03       4.71e-04       7.59e+00    \n",
      "      373            500        4.6244e+00      2.03e-03       7.89e-04       6.61e+00    \n",
      "The maximum number of function evaluations is exceeded.\n",
      "Function evaluations 500, initial cost 2.9843e+04, final cost 4.6244e+00, first-order optimality 6.61e+00.\n"
     ]
    }
   ],
   "source": [
    "# Define the objective function\n",
    "def cost_function(x, strikes, mkt_prices):\n",
    "    sigm, lamb, p, eta1, eta2 = x\n",
    "    KOU = Kou_pricer(S0=S0, K=strikes, ttm=T, r=r, sigma=sigm, lambd=lamb, p=p, eta1=eta1, eta2=eta2, exercise=exercise)\n",
    "    sq_err = np.sum(p_weights*(KOU.closed_formula_put(strikes) - mkt_prices)**2)\n",
    "    return sq_err\n",
    "\n",
    "start2=time.time()\n",
    "kou2 = scpo.least_squares(cost_function, x0, args=(put_strikes, put_prices),  method='trf', bounds=bounds, verbose=2)\n",
    "end2=time.time()"
   ],
   "metadata": {
    "collapsed": false
   }
  },
  {
   "cell_type": "code",
   "execution_count": 39,
   "outputs": [],
   "source": [
    "kou_params2 = [round(p,4) for p in kou2.x[:5]]"
   ],
   "metadata": {
    "collapsed": false
   }
  },
  {
   "cell_type": "code",
   "execution_count": 40,
   "outputs": [],
   "source": [
    "# print('WEIGHTED OPT: CURVE_FIT (trf)')\n",
    "# print(f'> Calibrated Volatlity [σ] = {kou_params1[0]} \\t {kou_params1[0] * 100}%')\n",
    "# print('> Calibrated Jump intensity [λ] = ', kou_params1[1])\n",
    "# print(f'> Calibrated Upward Jump probability [p] = {kou_params1[2]}, [q] = {round(1 - kou_params1[2], 2)}')\n",
    "# print('> Calibrated Rate of Exp. 1  [η_1] = ', kou_params1[3])\n",
    "# print('> Calibrated Rate of Exp. 2  [η_2] = ', kou_params1[4])\n",
    "# print(f'TIME ELAPSED: {end1-start1} sec')"
   ],
   "metadata": {
    "collapsed": false
   }
  },
  {
   "cell_type": "code",
   "execution_count": 41,
   "outputs": [
    {
     "name": "stdout",
     "output_type": "stream",
     "text": [
      "METHOD 2: Least-squares\n",
      "> Calibrated Volatlity [σ] = 0.408 \t 40.8%\n",
      "> Calibrated Jump intensity [λ] =  0.81\n",
      "> Calibrated Upward Jump probability [p] = 0.26, [q] = 0.74\n",
      "> Calibrated Rate of Exp. 1  [η_1] =  5.97\n",
      "> Calibrated Rate of Exp. 2  [η_2] =  8.97\n",
      "TIME ELAPSED:  4263.89 sec\n"
     ]
    }
   ],
   "source": [
    "print('METHOD 2: Least-squares')\n",
    "print(f'> Calibrated Volatlity [σ] = {round(kou_params2[0],4)} \\t {round(kou_params2[0]*100,2)}%')\n",
    "print('> Calibrated Jump intensity [λ] = ', round(kou_params2[1],2))\n",
    "print(f'> Calibrated Upward Jump probability [p] = {round(kou_params2[2],2)}, [q] = {round(1-kou_params2[2],2)}')\n",
    "print('> Calibrated Rate of Exp. 1  [η_1] = ', round(kou_params2[3],2))\n",
    "print('> Calibrated Rate of Exp. 2  [η_2] = ', round(kou_params2[4],2))\n",
    "print(f'TIME ELAPSED:  {round(end2-start2,2)} sec')"
   ],
   "metadata": {
    "collapsed": false
   }
  },
  {
   "cell_type": "code",
   "execution_count": 42,
   "outputs": [
    {
     "name": "stdout",
     "output_type": "stream",
     "text": [
      "[0.408, 0.8058, 0.2636, 5.9677, 8.9657]\n"
     ]
    }
   ],
   "source": [
    "#print(kou_params1)\n",
    "print(kou_params2)"
   ],
   "metadata": {
    "collapsed": false
   }
  },
  {
   "cell_type": "markdown",
   "source": [
    "### Variance Gamma\n"
   ],
   "metadata": {
    "collapsed": false
   }
  },
  {
   "cell_type": "code",
   "execution_count": 43,
   "outputs": [],
   "source": [
    "x0 = [0.2, -0.3, 0.1]   # initial guess: [σ, θ, v]\n",
    "bounds = ( [1e-3, -5, 0], [3, 5, 10] )"
   ],
   "metadata": {
    "collapsed": false
   }
  },
  {
   "cell_type": "markdown",
   "source": [
    "##### Method 1. CURVE FIT (Bounds)"
   ],
   "metadata": {
    "collapsed": false
   }
  },
  {
   "cell_type": "code",
   "execution_count": 44,
   "outputs": [],
   "source": [
    "def f_VG(strikes, sigmax, thetax, nux):\n",
    "    VGamma = VG_pricer(S0=S0, K=None, ttm=T, r=r, q=0, sigma=sigmax, theta=thetax, nu=nux, exercise='put')\n",
    "    vg_prices = []\n",
    "    for k in strikes:\n",
    "        vg_prices.append(VGamma.closed_formula_put(k))\n",
    "    return vg_prices\n",
    "\n",
    "start1 = time.time()\n",
    "vg1 = scpo.curve_fit(f_VG, put_strikes, put_prices, p0=x0, bounds=bounds, sigma=p_weights)\n",
    "end1 = time.time()\n",
    "\n",
    "vg_params1 = [round(p,4) for p in vg1[0][:3]]"
   ],
   "metadata": {
    "collapsed": false
   }
  },
  {
   "cell_type": "markdown",
   "source": [
    "##### Method 2. LEAST-SQUARES (Trust Region Reflective, Bounds)"
   ],
   "metadata": {
    "collapsed": false
   }
  },
  {
   "cell_type": "code",
   "execution_count": 45,
   "outputs": [
    {
     "name": "stdout",
     "output_type": "stream",
     "text": [
      "   Iteration     Total nfev        Cost      Cost reduction    Step norm     Optimality   \n",
      "       0              1         1.7112e+03                                    3.57e+04    \n",
      "       1              2         6.0481e+02      1.11e+03       3.68e-01       1.99e+04    \n",
      "       2              3         7.1382e+01      5.33e+02       3.51e-01       8.36e+03    \n",
      "       3              5         5.4112e+01      1.73e+01       7.51e-02       1.93e+03    \n",
      "       4              6         3.2274e+01      2.18e+01       1.29e-02       1.40e+03    \n",
      "       5              7         7.2853e+00      2.50e+01       2.58e-02       5.59e+02    \n",
      "       6              8         4.6039e+00      2.68e+00       2.76e-02       1.31e+03    \n",
      "       7              9         3.1738e+00      1.43e+00       9.27e-03       2.62e+02    \n",
      "       8             10         2.6342e+00      5.40e-01       8.99e-03       1.77e+02    \n",
      "       9             12         2.5766e+00      5.76e-02       2.60e-03       1.96e+02    \n",
      "      10             13         2.4491e+00      1.27e-01       2.88e-03       1.75e+02    \n",
      "      11             14         2.2445e+00      2.05e-01       6.37e-03       1.49e+02    \n",
      "      12             16         2.1841e+00      6.03e-02       2.91e-03       1.73e+02    \n",
      "      13             17         2.0718e+00      1.12e-01       2.88e-03       1.55e+02    \n",
      "      14             18         1.8883e+00      1.84e-01       6.39e-03       1.34e+02    \n",
      "      15             20         1.8411e+00      4.72e-02       2.90e-03       1.54e+02    \n",
      "      16             21         1.7391e+00      1.02e-01       2.79e-03       1.38e+02    \n",
      "      17             22         1.5776e+00      1.62e-01       6.36e-03       1.18e+02    \n",
      "      18             24         1.5475e+00      3.01e-02       2.86e-03       1.36e+02    \n",
      "      19             25         1.4532e+00      9.43e-02       2.67e-03       1.21e+02    \n",
      "      20             26         1.3136e+00      1.40e-01       6.32e-03       1.03e+02    \n",
      "      21             28         1.3041e+00      9.45e-03       2.78e-03       1.19e+02    \n",
      "      22             29         1.2776e+00      2.66e-02       6.31e-04       1.16e+02    \n",
      "      23             30         1.2319e+00      4.56e-02       1.33e-03       1.09e+02    \n",
      "      24             31         1.1617e+00      7.03e-02       2.95e-03       9.90e+01    \n",
      "      25             32         1.0385e+00      1.23e-01       6.51e-03       8.77e+01    \n",
      "      26             34         1.0142e+00      2.43e-02       3.01e-03       9.34e+01    \n",
      "      27             35         9.4621e-01      6.80e-02       2.65e-03       8.40e+01    \n",
      "      28             36         8.4615e-01      1.00e-01       6.55e-03       7.20e+01    \n",
      "      29             39         8.3316e-01      1.30e-02       6.83e-04       7.36e+01    \n",
      "      30             40         8.2075e-01      1.24e-02       8.33e-04       7.23e+01    \n",
      "      31             41         7.9648e-01      2.43e-02       1.66e-03       7.00e+01    \n",
      "      32             42         7.5035e-01      4.61e-02       3.32e-03       6.63e+01    \n",
      "      33             43         6.6892e-01      8.14e-02       6.71e-03       5.65e+01    \n",
      "      34             46         6.5911e-01      9.82e-03       6.83e-04       5.70e+01    \n",
      "      35             47         6.4909e-01      1.00e-02       8.53e-04       5.59e+01    \n",
      "      36             48         6.2978e-01      1.93e-02       1.71e-03       5.36e+01    \n",
      "      37             49         5.9467e-01      3.51e-02       3.39e-03       5.01e+01    \n",
      "      38             50         5.3963e-01      5.50e-02       6.74e-03       8.40e+01    \n",
      "      39             52         5.3060e-01      9.02e-03       1.23e-03       4.27e+01    \n",
      "      40             53         5.2552e-01      5.08e-03       3.78e-04       4.14e+01    \n",
      "      41             54         5.1649e-01      9.03e-03       7.90e-04       4.05e+01    \n",
      "      42             55         5.0127e-01      1.52e-02       1.70e-03       3.87e+01    \n",
      "      43             56         4.7359e-01      2.77e-02       3.56e-03       3.50e+01    \n",
      "      44             58         4.6456e-01      9.02e-03       1.68e-03       3.80e+01    \n",
      "      45             59         4.5079e-01      1.38e-02       1.62e-03       3.18e+01    \n",
      "      46             60         4.2738e-01      2.34e-02       3.65e-03       2.85e+01    \n",
      "      47             62         4.2428e-01      3.10e-03       1.62e-03       4.01e+01    \n",
      "      48             63         4.2008e-01      4.20e-03       3.63e-04       3.77e+01    \n",
      "      49             64         4.1304e-01      7.03e-03       7.75e-04       3.32e+01    \n",
      "      50             65         4.0238e-01      1.07e-02       1.75e-03       2.66e+01    \n",
      "      51             66         3.8785e-01      1.45e-02       3.67e-03       3.66e+01    \n",
      "      52             67         3.7333e-01      1.45e-02       3.01e-03       4.34e+01    \n",
      "      53             69         3.6950e-01      3.83e-03       6.35e-04       3.00e+01    \n",
      "      54             70         3.6488e-01      4.62e-03       9.16e-04       2.69e+01    \n",
      "      55             71         3.5673e-01      8.14e-03       1.96e-03       2.37e+01    \n",
      "      56             73         3.5379e-01      2.94e-03       9.00e-04       2.90e+01    \n",
      "      57             74         3.4959e-01      4.20e-03       9.27e-04       2.58e+01    \n",
      "      58             75         3.4222e-01      7.37e-03       2.00e-03       2.28e+01    \n",
      "      59             77         3.3991e-01      2.31e-03       8.97e-04       2.86e+01    \n",
      "      60             78         3.3597e-01      3.95e-03       9.12e-04       2.50e+01    \n",
      "      61             79         3.2932e-01      6.64e-03       2.04e-03       2.16e+01    \n",
      "      62             81         3.2782e-01      1.50e-03       8.74e-04       2.84e+01    \n",
      "      63             82         3.2398e-01      3.84e-03       8.78e-04       2.45e+01    \n",
      "      64             83         3.1803e-01      5.96e-03       2.06e-03       2.04e+01    \n",
      "      65             85         3.1738e-01      6.47e-04       8.30e-04       2.84e+01    \n",
      "      66             86         3.1625e-01      1.12e-03       2.09e-04       2.73e+01    \n",
      "      67             87         3.1430e-01      1.95e-03       4.42e-04       2.54e+01    \n",
      "      68             88         3.1120e-01      3.10e-03       9.79e-04       2.22e+01    \n",
      "      69             89         3.0551e-01      5.68e-03       2.13e-03       2.10e+01    \n",
      "      70             90         3.0403e-01      1.48e-03       4.09e-03       3.38e+01    \n",
      "      71             91         2.9745e-01      6.59e-03       6.04e-04       2.87e+01    \n",
      "      72             92         2.9107e-01      6.38e-03       1.46e-03       1.95e+01    \n",
      "      73             94         2.9004e-01      1.03e-03       4.91e-04       2.21e+01    \n",
      "      74             95         2.8873e-01      1.31e-03       5.32e-04       2.08e+01    \n",
      "      75             96         2.8631e-01      2.42e-03       1.10e-03       1.94e+01    \n",
      "      76             97         2.8534e-01      9.73e-04       2.04e-03       2.78e+01    \n",
      "      77             98         2.8296e-01      2.38e-03       3.57e-04       2.55e+01    \n",
      "      78             99         2.7969e-01      3.27e-03       8.12e-04       2.12e+01    \n",
      "      79             100        2.7571e-01      3.98e-03       2.14e-03       1.81e+01    \n",
      "      80             103        2.7491e-01      7.99e-04       1.77e-04       1.87e+01    \n",
      "      81             104        2.7435e-01      5.57e-04       2.61e-04       1.96e+01    \n",
      "      82             105        2.7322e-01      1.13e-03       5.59e-04       1.89e+01    \n",
      "      83             106        2.7109e-01      2.13e-03       1.10e-03       2.04e+01    \n",
      "      84             107        2.6729e-01      3.81e-03       2.16e-03       1.79e+01    \n",
      "      85             110        2.6650e-01      7.82e-04       1.75e-04       1.81e+01    \n",
      "      86             111        2.6597e-01      5.34e-04       2.62e-04       1.90e+01    \n",
      "      87             112        2.6488e-01      1.09e-03       5.61e-04       1.83e+01    \n",
      "      88             113        2.6284e-01      2.04e-03       1.10e-03       1.99e+01    \n",
      "      89             114        2.5924e-01      3.61e-03       2.16e-03       1.85e+01    \n",
      "      90             116        2.5833e-01      9.03e-04       3.44e-04       1.99e+01    \n",
      "      91             117        2.5719e-01      1.14e-03       5.29e-04       1.86e+01    \n",
      "      92             118        2.5513e-01      2.06e-03       1.12e-03       1.71e+01    \n",
      "      93             120        2.5432e-01      8.03e-04       4.95e-04       1.96e+01    \n",
      "      94             121        2.5319e-01      1.13e-03       5.29e-04       1.83e+01    \n",
      "      95             122        2.5116e-01      2.04e-03       1.12e-03       1.69e+01    \n",
      "      96             124        2.5037e-01      7.85e-04       4.93e-04       1.94e+01    \n",
      "      97             125        2.4926e-01      1.12e-03       5.27e-04       1.81e+01    \n",
      "      98             126        2.4724e-01      2.01e-03       1.12e-03       1.66e+01    \n",
      "      99             128        2.4648e-01      7.68e-04       4.91e-04       1.92e+01    \n",
      "      100            129        2.4537e-01      1.11e-03       5.26e-04       1.79e+01    \n",
      "      101            130        2.4338e-01      1.99e-03       1.12e-03       1.64e+01    \n",
      "      102            132        2.4263e-01      7.53e-04       4.90e-04       1.90e+01    \n",
      "      103            133        2.4153e-01      1.10e-03       5.24e-04       1.77e+01    \n",
      "      104            134        2.3957e-01      1.96e-03       1.12e-03       1.62e+01    \n",
      "      105            136        2.3883e-01      7.39e-04       4.88e-04       1.88e+01    \n",
      "      106            137        2.3774e-01      1.09e-03       5.23e-04       1.75e+01    \n",
      "      107            138        2.3580e-01      1.94e-03       1.12e-03       1.60e+01    \n",
      "      108            140        2.3507e-01      7.27e-04       4.87e-04       1.86e+01    \n",
      "      109            141        2.3399e-01      1.08e-03       5.22e-04       1.73e+01    \n",
      "      110            142        2.3207e-01      1.92e-03       1.12e-03       1.58e+01    \n",
      "      111            144        2.3136e-01      7.15e-04       4.86e-04       1.84e+01    \n",
      "      112            145        2.3029e-01      1.07e-03       5.21e-04       1.71e+01    \n",
      "      113            146        2.2838e-01      1.90e-03       1.12e-03       1.56e+01    \n",
      "      114            148        2.2768e-01      7.03e-04       4.85e-04       1.82e+01    \n",
      "      115            149        2.2662e-01      1.06e-03       5.20e-04       1.69e+01    \n",
      "      116            150        2.2474e-01      1.88e-03       1.11e-03       1.55e+01    \n",
      "      117            152        2.2405e-01      6.93e-04       4.84e-04       1.81e+01    \n",
      "      118            153        2.2299e-01      1.05e-03       5.19e-04       1.67e+01    \n",
      "      119            154        2.2113e-01      1.86e-03       1.11e-03       1.53e+01    \n",
      "      120            156        2.2045e-01      6.82e-04       4.83e-04       1.79e+01    \n",
      "      121            157        2.1941e-01      1.04e-03       5.18e-04       1.66e+01    \n",
      "      122            158        2.1756e-01      1.85e-03       1.11e-03       1.51e+01    \n",
      "      123            160        2.1689e-01      6.72e-04       4.82e-04       1.77e+01    \n",
      "      124            161        2.1586e-01      1.03e-03       5.17e-04       1.64e+01    \n",
      "      125            162        2.1403e-01      1.83e-03       1.11e-03       1.50e+01    \n",
      "      126            164        2.1337e-01      6.62e-04       4.81e-04       1.76e+01    \n",
      "      127            165        2.1234e-01      1.02e-03       5.17e-04       1.62e+01    \n",
      "      128            166        2.1053e-01      1.81e-03       1.11e-03       1.48e+01    \n",
      "      129            168        2.0988e-01      6.52e-04       4.80e-04       1.74e+01    \n",
      "      130            169        2.0887e-01      1.02e-03       5.16e-04       1.61e+01    \n",
      "      131            170        2.0708e-01      1.79e-03       1.11e-03       1.47e+01    \n",
      "      132            172        2.0643e-01      6.42e-04       4.80e-04       1.72e+01    \n",
      "      133            173        2.0543e-01      1.01e-03       5.15e-04       1.59e+01    \n",
      "      134            174        2.0365e-01      1.77e-03       1.11e-03       1.45e+01    \n",
      "      135            176        2.0302e-01      6.32e-04       4.79e-04       1.71e+01    \n",
      "      136            177        2.0203e-01      9.98e-04       5.14e-04       1.58e+01    \n",
      "      137            178        2.0027e-01      1.75e-03       1.11e-03       1.43e+01    \n",
      "      138            180        1.9965e-01      6.22e-04       4.78e-04       1.69e+01    \n",
      "      139            181        1.9866e-01      9.89e-04       5.14e-04       1.56e+01    \n",
      "      140            182        1.9692e-01      1.74e-03       1.11e-03       1.42e+01    \n",
      "      141            184        1.9631e-01      6.12e-04       4.78e-04       1.67e+01    \n",
      "      142            185        1.9533e-01      9.80e-04       5.13e-04       1.54e+01    \n",
      "      143            186        1.9361e-01      1.72e-03       1.11e-03       1.40e+01    \n",
      "      144            188        1.9301e-01      6.03e-04       4.77e-04       1.66e+01    \n",
      "      145            189        1.9204e-01      9.71e-04       5.12e-04       1.53e+01    \n",
      "      146            190        1.9034e-01      1.70e-03       1.11e-03       1.39e+01    \n",
      "      147            192        1.8975e-01      5.93e-04       4.76e-04       1.64e+01    \n",
      "      148            193        1.8879e-01      9.62e-04       5.12e-04       1.51e+01    \n",
      "      149            194        1.8710e-01      1.68e-03       1.11e-03       1.37e+01    \n",
      "      150            196        1.8652e-01      5.83e-04       4.76e-04       1.63e+01    \n",
      "      151            197        1.8557e-01      9.53e-04       5.11e-04       1.50e+01    \n",
      "      152            198        1.8390e-01      1.66e-03       1.11e-03       1.36e+01    \n",
      "      153            200        1.8333e-01      5.74e-04       4.75e-04       1.61e+01    \n",
      "      154            201        1.8239e-01      9.44e-04       5.10e-04       1.48e+01    \n",
      "      155            202        1.8074e-01      1.65e-03       1.11e-03       1.34e+01    \n",
      "      156            204        1.8018e-01      5.64e-04       4.75e-04       1.59e+01    \n",
      "      157            205        1.7924e-01      9.35e-04       5.09e-04       1.47e+01    \n",
      "      158            206        1.7761e-01      1.63e-03       1.11e-03       1.33e+01    \n",
      "      159            208        1.7706e-01      5.55e-04       4.74e-04       1.58e+01    \n",
      "      160            209        1.7613e-01      9.27e-04       5.09e-04       1.45e+01    \n",
      "      161            210        1.7452e-01      1.61e-03       1.11e-03       1.31e+01    \n",
      "      162            212        1.7398e-01      5.45e-04       4.73e-04       1.56e+01    \n",
      "      163            213        1.7306e-01      9.18e-04       5.08e-04       1.44e+01    \n",
      "      164            214        1.7147e-01      1.59e-03       1.11e-03       1.30e+01    \n",
      "      165            216        1.7093e-01      5.35e-04       4.73e-04       1.55e+01    \n",
      "      166            217        1.7003e-01      9.09e-04       5.07e-04       1.42e+01    \n",
      "      167            218        1.6845e-01      1.57e-03       1.11e-03       1.28e+01    \n",
      "      168            220        1.6793e-01      5.26e-04       4.72e-04       1.53e+01    \n",
      "      169            221        1.6703e-01      9.00e-04       5.06e-04       1.41e+01    \n",
      "      170            222        1.6547e-01      1.55e-03       1.11e-03       1.27e+01    \n",
      "      171            224        1.6496e-01      5.16e-04       4.71e-04       1.52e+01    \n",
      "      172            225        1.6406e-01      8.92e-04       5.06e-04       1.39e+01    \n",
      "      173            226        1.6253e-01      1.54e-03       1.11e-03       1.26e+01    \n",
      "      174            228        1.6202e-01      5.07e-04       4.71e-04       1.50e+01    \n",
      "      175            229        1.6114e-01      8.83e-04       5.05e-04       1.38e+01    \n",
      "      176            230        1.5962e-01      1.52e-03       1.11e-03       1.24e+01    \n",
      "      177            232        1.5912e-01      4.97e-04       4.70e-04       1.49e+01    \n",
      "      178            233        1.5825e-01      8.74e-04       5.04e-04       1.36e+01    \n",
      "      179            234        1.5675e-01      1.50e-03       1.11e-03       1.23e+01    \n",
      "      180            236        1.5626e-01      4.87e-04       4.69e-04       1.47e+01    \n",
      "      181            237        1.5539e-01      8.65e-04       5.03e-04       1.35e+01    \n",
      "      182            238        1.5391e-01      1.48e-03       1.11e-03       1.21e+01    \n",
      "      183            240        1.5343e-01      4.78e-04       4.68e-04       1.46e+01    \n",
      "      184            241        1.5257e-01      8.57e-04       5.02e-04       1.33e+01    \n",
      "      185            242        1.5111e-01      1.47e-03       1.11e-03       1.20e+01    \n",
      "      186            244        1.5064e-01      4.68e-04       4.68e-04       1.44e+01    \n",
      "      187            245        1.4979e-01      8.48e-04       5.01e-04       1.32e+01    \n",
      "      188            246        1.4835e-01      1.45e-03       1.11e-03       1.18e+01    \n",
      "      189            248        1.4789e-01      4.59e-04       4.67e-04       1.42e+01    \n",
      "      190            249        1.4705e-01      8.40e-04       5.01e-04       1.30e+01    \n",
      "      191            250        1.4562e-01      1.43e-03       1.11e-03       1.17e+01    \n",
      "      192            252        1.4517e-01      4.49e-04       4.66e-04       1.41e+01    \n",
      "      193            253        1.4434e-01      8.31e-04       5.00e-04       1.29e+01    \n",
      "      194            254        1.4292e-01      1.41e-03       1.11e-03       1.15e+01    \n",
      "      195            256        1.4248e-01      4.40e-04       4.65e-04       1.39e+01    \n",
      "      196            257        1.4166e-01      8.23e-04       4.99e-04       1.27e+01    \n",
      "      197            258        1.4027e-01      1.39e-03       1.11e-03       1.14e+01    \n",
      "      198            260        1.3984e-01      4.31e-04       4.64e-04       1.38e+01    \n",
      "      199            261        1.3902e-01      8.14e-04       4.98e-04       1.26e+01    \n",
      "      200            262        1.3765e-01      1.38e-03       1.11e-03       1.13e+01    \n",
      "      201            264        1.3722e-01      4.21e-04       4.63e-04       1.36e+01    \n",
      "      202            265        1.3642e-01      8.06e-04       4.97e-04       1.24e+01    \n",
      "      203            266        1.3506e-01      1.36e-03       1.10e-03       1.11e+01    \n",
      "      204            268        1.3465e-01      4.12e-04       4.63e-04       1.35e+01    \n",
      "      205            269        1.3385e-01      7.97e-04       4.96e-04       1.23e+01    \n",
      "      206            270        1.3251e-01      1.34e-03       1.10e-03       1.10e+01    \n",
      "      207            272        1.3211e-01      4.03e-04       4.62e-04       1.33e+01    \n",
      "      208            273        1.3132e-01      7.88e-04       4.95e-04       1.21e+01    \n",
      "      209            274        1.2999e-01      1.32e-03       1.10e-03       1.08e+01    \n",
      "      210            276        1.2960e-01      3.93e-04       4.61e-04       1.32e+01    \n",
      "      211            277        1.2882e-01      7.81e-04       4.94e-04       1.20e+01    \n",
      "      212            278        1.2751e-01      1.31e-03       1.10e-03       1.07e+01    \n",
      "      213            280        1.2713e-01      3.84e-04       4.60e-04       1.30e+01    \n",
      "      214            281        1.2635e-01      7.72e-04       4.93e-04       1.19e+01    \n",
      "      215            282        1.2506e-01      1.29e-03       1.10e-03       1.05e+01    \n",
      "      216            284        1.2469e-01      3.75e-04       4.59e-04       1.29e+01    \n",
      "      217            285        1.2393e-01      7.64e-04       4.92e-04       1.17e+01    \n",
      "      218            286        1.2265e-01      1.27e-03       1.10e-03       1.04e+01    \n",
      "      219            288        1.2229e-01      3.65e-04       4.58e-04       1.27e+01    \n",
      "      220            289        1.2153e-01      7.56e-04       4.91e-04       1.16e+01    \n",
      "      221            290        1.2028e-01      1.26e-03       1.10e-03       1.03e+01    \n",
      "      222            292        1.1992e-01      3.56e-04       4.57e-04       1.26e+01    \n",
      "      223            293        1.1917e-01      7.48e-04       4.90e-04       1.14e+01    \n",
      "      224            294        1.1793e-01      1.24e-03       1.10e-03       1.01e+01    \n",
      "      225            296        1.1759e-01      3.47e-04       4.56e-04       1.24e+01    \n",
      "      226            297        1.1685e-01      7.40e-04       4.89e-04       1.13e+01    \n",
      "      227            298        1.1562e-01      1.22e-03       1.10e-03       9.99e+00    \n",
      "      228            300        1.1529e-01      3.38e-04       4.55e-04       1.23e+01    \n",
      "The maximum number of function evaluations is exceeded.\n",
      "Function evaluations 300, initial cost 1.7112e+03, final cost 1.1529e-01, first-order optimality 1.23e+01.\n"
     ]
    }
   ],
   "source": [
    "def cost_function(x, strikes, mkt_prices):\n",
    "    sigma, theta, nu = x\n",
    "    VG = VG_pricer(S0, None, T, r, q, sigma, theta, nu, exercise)\n",
    "    prices = []\n",
    "    for k in strikes:\n",
    "        prices.append(VG.closed_formula_put(k))\n",
    "    sq_err = np.sum(p_weights*(prices - mkt_prices)**2)\n",
    "    return sq_err\n",
    "\n",
    "start2=time.time()\n",
    "vg2 = scpo.least_squares(cost_function, x0, args=(put_strikes, put_prices),  method='trf', bounds=bounds, verbose=2, loss='soft_l1')\n",
    "end2=time.time()\n",
    "\n",
    "vg_params2 = [round(p,4) for p in vg2.x[:3]]"
   ],
   "metadata": {
    "collapsed": false
   }
  },
  {
   "cell_type": "code",
   "execution_count": 46,
   "outputs": [
    {
     "name": "stdout",
     "output_type": "stream",
     "text": [
      "WEIGHTED OPT: CURVE_FIT (trf)\n",
      "> Calibrated Volatlity [σ] = 0.4807, \t 48.07%\n",
      "> Calibrated mean rate gamma process [θ] =  0.1226\n",
      "> Calibrated variance rate gamma process [v]=  0.8867\n",
      "TIME ELAPSED:  6.6 sec\n",
      "METHOD 1: LEAST-SQUARES (trf)\n",
      "> Calibrated Volatlity [σ] = 0.4618, \t 46.18%\n",
      "> Calibrated mean rate gamma process [θ] =  0.1306\n",
      "> Calibrated variance rate gamma process [v]=  0.4922\n",
      "TIME ELAPSED:  105.33 sec\n"
     ]
    }
   ],
   "source": [
    "print('WEIGHTED OPT: CURVE_FIT (trf)')\n",
    "print(f'> Calibrated Volatlity [σ] = {vg_params1[0]}, \\t {round(vg_params1[0]*100,2)}%')\n",
    "print('> Calibrated mean rate gamma process [θ] = ', vg_params1[1])\n",
    "print('> Calibrated variance rate gamma process [v]= ', vg_params1[2])\n",
    "print(f'TIME ELAPSED:  {round(end1-start1,2)} sec')\n",
    "\n",
    "print('METHOD 1: LEAST-SQUARES (trf)')\n",
    "print(f'> Calibrated Volatlity [σ] = {vg_params2[0]}, \\t {round(vg_params2[0]*100,2)}%')\n",
    "print('> Calibrated mean rate gamma process [θ] = ', vg_params2[1])\n",
    "print('> Calibrated variance rate gamma process [v]= ', vg_params2[2])\n",
    "print(f'TIME ELAPSED:  {round(end2-start2,2)} sec')"
   ],
   "metadata": {
    "collapsed": false
   }
  },
  {
   "cell_type": "code",
   "execution_count": 47,
   "outputs": [
    {
     "name": "stdout",
     "output_type": "stream",
     "text": [
      "[0.4807, 0.1226, 0.8867]\n",
      "[0.4618, 0.1306, 0.4922]\n"
     ]
    }
   ],
   "source": [
    "print(vg_params1)\n",
    "print(vg_params2)"
   ],
   "metadata": {
    "collapsed": false
   }
  },
  {
   "cell_type": "markdown",
   "source": [
    "### Reprice of options using calibrated parameters\n",
    "The following code snippet aims to find the best parameters for each model, minimizing the difference between the monte carlo prices and the market prices of **call** and **put** options."
   ],
   "metadata": {
    "collapsed": false
   },
   "outputs": []
  },
  {
   "cell_type": "code",
   "execution_count": 48,
   "outputs": [
    {
     "name": "stdout",
     "output_type": "stream",
     "text": [
      "MARKET PRICES. STARTING DATE = 20-01-2016. EXPIRY = 1YEAR. \n",
      "\n",
      "   STRIKE  MKT_BID  MKT_MID  MKT_ASK\n",
      "0    22.0     1.89    1.925     1.96\n",
      "1    25.0     2.98    3.040     3.10\n",
      "2    27.0     3.90    3.950     4.00\n",
      "3    30.0     5.60    5.675     5.75\n",
      "4    35.0     9.15    9.225     9.30\n"
     ]
    }
   ],
   "source": [
    "days = 252\n",
    "paths = 5000\n",
    "\n",
    "put_calib_prices = pd.DataFrame({\n",
    "    'STRIKE': puts['STRIKE'],    # array of K for call options\n",
    "    'MKT_BID': puts['P_BID'],\n",
    "    'MKT_MID': puts['P_Midpoint'],\n",
    "    'MKT_ASK': puts['P_ASK'],\n",
    "\n",
    "})\n",
    "print(f'MARKET PRICES. STARTING DATE = 20-01-2016. EXPIRY = 1YEAR. \\n\\n{put_calib_prices}')"
   ],
   "metadata": {
    "collapsed": false
   }
  },
  {
   "cell_type": "markdown",
   "source": [
    "#### Merton Jump Diffusion model"
   ],
   "metadata": {
    "collapsed": false
   }
  },
  {
   "cell_type": "code",
   "execution_count": 49,
   "outputs": [
    {
     "name": "stdout",
     "output_type": "stream",
     "text": [
      "   STRIKE  MKT_BID  MKT_MID  MKT_ASK  MERTON MC  MERTON CF\n",
      "0    22.0     1.89    1.925     1.96   1.702437   1.694005\n",
      "1    25.0     2.98    3.040     3.10   3.027311   3.017880\n",
      "2    27.0     3.90    3.950     4.00   4.089767   4.087944\n",
      "3    30.0     5.60    5.675     5.75   5.939087   5.927443\n",
      "4    35.0     9.15    9.225     9.30   9.520221   9.479145\n"
     ]
    }
   ],
   "source": [
    "#mert_params2 = [0.1267, 0.951, -0.1182, 0.2691]\n",
    "sigma, lambd, meanJ, stdJ = mert_params2\n",
    "MertonCAL = Merton_pricer(S0, None, T, r, q, sigma, lambd, meanJ, stdJ, exercise)\n",
    "SMerton_CAL = MertonCAL.MertonPath(days, paths)\n",
    "\n",
    "avg_payoffs = []\n",
    "for K in put_strikes:\n",
    "    payoffs = []        # stores here the payoff for each path, for a specific couple K1-K2\n",
    "    for St in SMerton_CAL[-1]:\n",
    "        payoffs.append(MertonCAL.payoff_put(K, St))\n",
    "    avg_payoffs.append(np.mean(payoffs))\n",
    "\n",
    "merton_mc_prices = np.zeros(len(put_calib_prices))\n",
    "merton_cf_prices = np.zeros(len(put_calib_prices))\n",
    "\n",
    "for index in range(len(put_calib_prices)):\n",
    "    merton_mc_prices[index] = np.exp(-r*T)* avg_payoffs[index]\n",
    "    merton_cf_prices[index] = MertonCAL.closed_formula_put(put_strikes[index])\n",
    "\n",
    "put_calib_prices['MERTON MC'] = merton_mc_prices\n",
    "put_calib_prices['MERTON CF'] = merton_cf_prices\n",
    "\n",
    "print(put_calib_prices)"
   ],
   "metadata": {
    "collapsed": false
   }
  },
  {
   "cell_type": "code",
   "execution_count": 50,
   "outputs": [
    {
     "name": "stdout",
     "output_type": "stream",
     "text": [
      "   STRIKE  MKT_BID  MKT_MID  MKT_ASK  MERTON MC  MERTON CF    KOU MC    KOU CF\n",
      "0    22.0     1.89    1.925     1.96   1.702437   1.694005  1.890179  1.835860\n",
      "1    25.0     2.98    3.040     3.10   3.027311   3.017880  3.157668  3.053904\n",
      "2    27.0     3.90    3.950     4.00   4.089767   4.087944  4.191012  4.045656\n",
      "3    30.0     5.60    5.675     5.75   5.939087   5.927443  5.975966  5.775653\n",
      "4    35.0     9.15    9.225     9.30   9.520221   9.479145  9.480388  9.194754\n"
     ]
    }
   ],
   "source": [
    "#kou_params2 = [0.1278, 0.948, 0.3549, 5.7153, 4.232]\n",
    "sigma, lambd, p, eta1, eta2 = kou_params2\n",
    "KouCAL = Kou_pricer(S0, None, T, r, sigma, lambd, p, eta1, eta2, exercise)\n",
    "SKou_CAL = KouCAL.KouPath(days, paths)\n",
    "\n",
    "avg_payoffs = []\n",
    "for k in put_strikes:\n",
    "    payoffs = []        # stores here the payoff for each path, for a specific couple K1-K2\n",
    "    for St in SKou_CAL[-1]:\n",
    "        payoffs.append(KouCAL.payoff_put(k, St))\n",
    "    avg_payoffs.append(np.mean(payoffs))\n",
    "\n",
    "kou_mc_prices = np.zeros(len(put_calib_prices))\n",
    "kou_cf_prices = np.zeros(len(put_calib_prices))\n",
    "\n",
    "for index in range(len(put_calib_prices)):\n",
    "    kou_mc_prices[index] = np.exp(-r*T)* avg_payoffs[index]\n",
    "    kou_cf_prices[index] = KouCAL.closed_formula_put(put_strikes[index])\n",
    "\n",
    "put_calib_prices['KOU MC'] = kou_mc_prices\n",
    "put_calib_prices['KOU CF'] = kou_cf_prices\n",
    "\n",
    "print(put_calib_prices)"
   ],
   "metadata": {
    "collapsed": false
   }
  },
  {
   "cell_type": "code",
   "execution_count": 51,
   "outputs": [
    {
     "name": "stdout",
     "output_type": "stream",
     "text": [
      "   STRIKE  MKT_BID  MKT_MID  MKT_ASK  MERTON MC  MERTON CF    KOU MC   \n",
      "0    22.0     1.89    1.925     1.96   1.702437   1.694005  1.890179  \\\n",
      "1    25.0     2.98    3.040     3.10   3.027311   3.017880  3.157668   \n",
      "2    27.0     3.90    3.950     4.00   4.089767   4.087944  4.191012   \n",
      "3    30.0     5.60    5.675     5.75   5.939087   5.927443  5.975966   \n",
      "4    35.0     9.15    9.225     9.30   9.520221   9.479145  9.480388   \n",
      "\n",
      "     KOU CF     VG MC     VG CF  \n",
      "0  1.835860  1.933512  1.904708  \n",
      "1  3.053904  3.279350  3.045292  \n",
      "2  4.045656  4.379647  3.996516  \n",
      "3  5.775653  6.271481  5.702252  \n",
      "4  9.194754  9.909893  9.165249  \n"
     ]
    }
   ],
   "source": [
    "# vg_params2 = [0.2442, 0.1983, 0.9451]\n",
    "sigma, theta, nu = vg_params2\n",
    "VGCAL = VG_pricer(S0, None, T, r, q, sigma, theta, nu, exercise)\n",
    "SVarGamma_CAL = VGCAL.VarianceGammaPath1(days, paths)\n",
    "\n",
    "avg_payoffs = []\n",
    "for K in put_strikes:\n",
    "    payoffs = []        # stores here the payoff for each path, for a specific couple K1-K2\n",
    "    for St in SVarGamma_CAL[-1]:\n",
    "        payoffs.append(VGCAL.payoff_put(K, St))\n",
    "    avg_payoffs.append(np.mean(payoffs))\n",
    "\n",
    "vg_mc_prices = np.zeros(len(put_calib_prices))\n",
    "vg_cf_prices = np.zeros(len(put_calib_prices))\n",
    "\n",
    "for index in range(len(put_calib_prices)):\n",
    "    vg_mc_prices[index] = np.exp(-r*T)* avg_payoffs[index]\n",
    "    vg_cf_prices[index] = VGCAL.closed_formula_put(put_strikes[index])\n",
    "\n",
    "put_calib_prices['VG MC'] = vg_mc_prices\n",
    "put_calib_prices['VG CF'] = vg_cf_prices\n",
    "\n",
    "print(put_calib_prices)"
   ],
   "metadata": {
    "collapsed": false
   }
  },
  {
   "cell_type": "markdown",
   "source": [
    "### Visualize calibration results\n",
    "#### Closed Formulas Option pricing"
   ],
   "metadata": {
    "collapsed": false
   },
   "outputs": []
  },
  {
   "cell_type": "code",
   "execution_count": 52,
   "outputs": [
    {
     "data": {
      "text/plain": "<Figure size 2000x400 with 3 Axes>",
      "image/png": "[encoded data removed]"
     },
     "metadata": {},
     "output_type": "display_data"
    }
   ],
   "source": [
    "fig = plt.figure(figsize=(20, 4))\n",
    "ax1 = fig.add_subplot(131)\n",
    "ax2 = fig.add_subplot(132)\n",
    "ax3 = fig.add_subplot(133)\n",
    "ax1.plot(put_strikes, put_prices, \".\", label=\"midpoint\")\n",
    "ax2.plot(put_strikes, put_prices, \".\", label=\"midpoint\")\n",
    "ax3.plot(put_strikes, put_prices, \".\", label=\"midpoint\")\n",
    "ax1.plot(put_strikes, merton_cf_prices, label=\"Merton\")\n",
    "ax2.plot(put_strikes, kou_cf_prices, label=\"Kou\")\n",
    "ax3.plot(put_strikes, vg_cf_prices, label=\"VG\")\n",
    "ax1.set_title(\"Merton model\")\n",
    "ax2.set_title(\"Kou model\")\n",
    "ax3.set_title(\"VG model\")\n",
    "ax1.set_xlabel(\"strike\")\n",
    "ax2.set_xlabel(\"strike\")\n",
    "ax3.set_xlabel(\"strike\")\n",
    "ax1.legend()\n",
    "ax2.legend()\n",
    "ax3.legend()\n",
    "plt.show()"
   ],
   "metadata": {
    "collapsed": false
   }
  },
  {
   "cell_type": "markdown",
   "source": [
    "\n",
    "#### Monte Carlo option pricing"
   ],
   "metadata": {
    "collapsed": false
   }
  },
  {
   "cell_type": "code",
   "execution_count": 53,
   "outputs": [
    {
     "data": {
      "text/plain": "<Figure size 1700x400 with 3 Axes>",
      "image/png": "[encoded data removed]"
     },
     "metadata": {},
     "output_type": "display_data"
    }
   ],
   "source": [
    "fig = plt.figure(figsize=(17, 4))\n",
    "ax1 = fig.add_subplot(131)\n",
    "ax2 = fig.add_subplot(132)\n",
    "ax3 = fig.add_subplot(133)\n",
    "ax1.plot(put_strikes, put_prices, \".\", label=\"midpoint\")\n",
    "ax2.plot(put_strikes, put_prices, \".\", label=\"midpoint\")\n",
    "ax3.plot(put_strikes, put_prices, \".\", label=\"midpoint\")\n",
    "ax1.plot(put_strikes, merton_mc_prices, label=\"Merton\")\n",
    "ax2.plot(put_strikes, kou_mc_prices, label=\"Kou\")\n",
    "ax3.plot(put_strikes, vg_mc_prices, label=\"VG\")\n",
    "ax1.set_title(\"Merton model\")\n",
    "ax2.set_title(\"Kou model\")\n",
    "ax3.set_title(\"VG model\")\n",
    "ax1.set_xlabel(\"strike\")\n",
    "ax2.set_xlabel(\"strike\")\n",
    "ax3.set_xlabel(\"strike\")\n",
    "ax1.legend()\n",
    "ax2.legend()\n",
    "ax3.legend()\n",
    "plt.show()"
   ],
   "metadata": {
    "collapsed": false
   }
  },
  {
   "cell_type": "code",
   "execution_count": null,
   "outputs": [],
   "source": [],
   "metadata": {
    "collapsed": false
   }
  },
  {
   "cell_type": "code",
   "execution_count": null,
   "outputs": [],
   "source": [],
   "metadata": {
    "collapsed": false
   }
  }
 ],
 "metadata": {
  "kernelspec": {
   "display_name": "Python 3",
   "language": "python",
   "name": "python3"
  },
  "language_info": {
   "codemirror_mode": {
    "name": "ipython",
    "version": 2
   },
   "file_extension": ".py",
   "mimetype": "text/x-python",
   "name": "python",
   "nbconvert_exporter": "python",
   "pygments_lexer": "ipython2",
   "version": "2.7.6"
  }
 },
 "nbformat": 4,
 "nbformat_minor": 0
}
