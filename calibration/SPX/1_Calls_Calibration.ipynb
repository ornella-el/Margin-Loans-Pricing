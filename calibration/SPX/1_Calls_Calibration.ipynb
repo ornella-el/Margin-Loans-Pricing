{
 "cells": [
  {
   "cell_type": "markdown",
   "source": [
    "# Calibration of models parameters: SPX\n",
    "### based on European Call options\n",
    "This notebook aims to find the optimal parameters of **Black-Scholes**, **Merton Jump Diffusion**, **Kou Jump Diffusion** and **Variance Gamma** models. To do so, we compute the european option prices using **closed formulas**, available for all the 4 models, and the **Fast Fourier Transform** for the VG model. Given these theoretical prices, the **implied volatilities** are computed comparing them with real market prices, minimizing their difference. Then we estimate the additional parameters of each model, using the python module `scipy.optimize`.\n",
    "\n",
    "*reference: https://github.com/cantaro86/Financial-Models-Numerical-Methods/tree/master*"
   ],
   "metadata": {
    "collapsed": false
   }
  },
  {
   "cell_type": "code",
   "execution_count": 1,
   "metadata": {
    "collapsed": true,
    "ExecuteTime": {
     "end_time": "2023-09-01T11:05:46.553787300Z",
     "start_time": "2023-09-01T11:05:45.144129700Z"
    }
   },
   "outputs": [],
   "source": [
    "import numpy as np\n",
    "import pandas as pd\n",
    "import matplotlib.pyplot as plt\n",
    "import random\n",
    "import scipy as scp\n",
    "import scipy.stats as ss\n",
    "import scipy.optimize as scpo\n",
    "import sys\n",
    "sys.path.append('C:/Users\\ornel\\PycharmProjects\\Margin-Loans-Pricing/functions')\n",
    "sys.path.append('C:/Users/ornel/PycharmProjects/Margin-Loans-Pricing/calibration')\n",
    "import time\n",
    "\n",
    "from BSpricer import BS_Pricer\n",
    "from MERTONpricer import Merton_pricer\n",
    "from KOUpricer import Kou_pricer\n",
    "from VGpricer import VG_pricer\n",
    "\n",
    "random.seed(120)"
   ]
  },
  {
   "cell_type": "markdown",
   "source": [
    "Let's start retrieving historical prices for **european call** options starting from date **2016-01-20** and expiring **1 year** later. All the data have been collected from [OptionsDX](https://www.optionsdx.com/shop/) and preprocessed in `plainvanilla.py` module. The options that will be used in this notebook are all Out-Of-The-Money (OTM) options."
   ],
   "metadata": {
    "collapsed": false
   }
  },
  {
   "cell_type": "code",
   "execution_count": 3,
   "outputs": [
    {
     "name": "stdout",
     "output_type": "stream",
     "text": [
      "NUM OF CALL OPTS: 45\n",
      "   QUOTE_DATE  UNDERLYING_LAST EXPIRE_DATE   C_BID   C_ASK  STRIKE     C_IV  \\\n",
      "0  2016-01-20          1859.48  2017-01-20  470.29  474.59  1400.0  0.26759   \n",
      "1  2016-01-20          1859.48  2017-01-20  449.20  453.50  1425.0  0.26681   \n",
      "2  2016-01-20          1859.48  2017-01-20  428.40  432.60  1450.0  0.26499   \n",
      "3  2016-01-20          1859.48  2017-01-20  407.90  412.00  1475.0  0.26333   \n",
      "4  2016-01-20          1859.48  2017-01-20  387.60  391.70  1500.0  0.26134   \n",
      "\n",
      "   MONEYNESS  \n",
      "0       0.75  \n",
      "1       0.77  \n",
      "2       0.78  \n",
      "3       0.79  \n",
      "4       0.81  \n"
     ]
    }
   ],
   "source": [
    "df_call = pd.read_csv('../../data/SPX/OPT16_SPX_CALLS_restricted.csv')\n",
    "print(f'NUM OF CALL OPTS: {df_call.shape[0]}')\n",
    "print(df_call.head(5))"
   ],
   "metadata": {
    "collapsed": false,
    "ExecuteTime": {
     "end_time": "2023-09-01T11:06:01.417956300Z",
     "start_time": "2023-09-01T11:06:01.369998200Z"
    }
   }
  },
  {
   "cell_type": "markdown",
   "source": [
    "The dataframe **df_calls** contains 45 options, having a moneyness in the range $[0.75, 1.35]$. For our purpose, using the $50\\%$ of this DFs is enough and can lead to very good results. Thus, we sample the rows and then reformulate the dataframe adding **Midpoint** and **Spread** columns."
   ],
   "metadata": {
    "collapsed": false
   }
  },
  {
   "cell_type": "code",
   "execution_count": 4,
   "outputs": [],
   "source": [
    "calls = df_call.sample(frac=0.5, replace=False).sort_index().reset_index(drop=True)\n",
    "calls['C_Midpoint'] = abs(calls['C_BID'] + calls['C_ASK']) / 2\n",
    "calls['C_Spread'] = calls['C_BID'] - calls['C_ASK']\n",
    "\n",
    "q = 0           # dividend yield\n",
    "r = 0.03        # risk-free interest rate\n",
    "sigma = 0.3     #volatility (variance of diffusion process)\n",
    "S0 = calls.iloc[0]['UNDERLYING_LAST']\n",
    "T = 1           # time-to-maturity\n",
    "call_strikes = calls['STRIKE']    # array of K for call options\n",
    "exercise = 'european'\n",
    "\n",
    "call_prices = calls['C_Midpoint']"
   ],
   "metadata": {
    "collapsed": false,
    "ExecuteTime": {
     "end_time": "2023-09-01T11:07:37.904309100Z",
     "start_time": "2023-09-01T11:07:37.888379600Z"
    }
   }
  },
  {
   "cell_type": "markdown",
   "source": [
    "The following code snippet initializes objects of class *BS_pricer*, *Merton_pricer*, *Kou_pricer*, *VG_pricer* with default values as parameters. These parameters serve only as initialization. Best fitting parameters will be calibrated later and will be used to correctly price the options according to each model."
   ],
   "metadata": {
    "collapsed": false
   }
  },
  {
   "cell_type": "code",
   "execution_count": 5,
   "outputs": [],
   "source": [
    "BS = BS_Pricer(S0=S0, r=r, q = q, sigma=sigma, ttm=T, exercise=exercise, K=None)\n",
    "Merton = Merton_pricer(S0=S0, K=None, ttm=T, r=r, q = q, sigma=0.15, lambd=0.5, meanJ=-0.1, stdJ=0.1, exercise=exercise)\n",
    "Kou = Kou_pricer(S0=S0, K=None, ttm=T, r=r, sigma=0.15, lambd=0.5, p=0.6, eta1=12, eta2=5, exercise=exercise)\n",
    "VG = VG_pricer(S0, K=None, ttm=T, r=r, q=q, sigma=0.15, theta=-0.2, nu=0.3, exercise=exercise)"
   ],
   "metadata": {
    "collapsed": false,
    "ExecuteTime": {
     "end_time": "2023-09-01T11:08:20.926207400Z",
     "start_time": "2023-09-01T11:08:20.894841200Z"
    }
   }
  },
  {
   "cell_type": "markdown",
   "source": [
    "## Implied volatility\n",
    "The function belows implements $3$ methods to comcalle implied volatility: [Newton](https://en.wikipedia.org/wiki/Newton%27s_method) method, the [Bisection](https://en.wikipedia.org/wiki/Bisection_method) method and a more advanced one, named [Brent](https://en.wikipedia.org/wiki/Brent%27s_method) method. Apart from the initial guess, there is no substantial difference in the final result between **Newton** and **bisection** methods (*fsolve*). The **Implied Volatility** is that value $\\sigma$ that must be inserted into the Black-Scholes (BS) formula in order to retrieve the option price quoted in the market:\n",
    "    $$ BS(S, K, T, r, \\sigma) = P,  $$\n",
    "where $S$ is the underlying spot price, $K$ is the strike, $T$ time to maturity, $r$ risk-free interest rate and $P$ the option price quoted in the market. All these quantities are **observable**.\n",
    "   "
   ],
   "metadata": {
    "collapsed": false
   }
  },
  {
   "cell_type": "code",
   "execution_count": 8,
   "outputs": [],
   "source": [
    "def implied_volatility(price, S, strike, t, rate, q, type_o, method='fsolve', disp=True ):\n",
    "    \"\"\" Returns Implied volatility\n",
    "        methods:  fsolve (default) or brent\n",
    "    \"\"\"\n",
    "\n",
    "    def obj_fun(vol):\n",
    "        return BS.BlackScholes(type_o=type_o, S0=S, K=strike, ttm=t, r=rate, q=q, sigma=vol) - price\n",
    "\n",
    "    def vega(vol):\n",
    "        return BS.vega(S, strike, rate, q, vol, t)\n",
    "\n",
    "    if method =='fsolve':\n",
    "        X0 = [0.01, 0.2, 0.35, 7]        #initial guess points for imp.vol.\n",
    "        for x_0 in X0:\n",
    "            x, _, solved, _ = scpo.fsolve(obj_fun, x_0, full_output=True, xtol=1e-8)\n",
    "            if solved == 1:\n",
    "                return x[0]\n",
    "\n",
    "    if disp:\n",
    "        return -1"
   ],
   "metadata": {
    "collapsed": false,
    "ExecuteTime": {
     "end_time": "2023-09-01T11:11:39.509507300Z",
     "start_time": "2023-09-01T11:11:39.461890100Z"
    }
   }
  },
  {
   "cell_type": "markdown",
   "source": [
    "The following code snippet computes the implied volatility associated to each **call** contract using the Black-Scholes inversion. **BS inversion** consists of minimizing the distance between the option price estimated by Black-Scholes formula and the market price given by the dataframe. "
   ],
   "metadata": {
    "collapsed": false
   }
  },
  {
   "cell_type": "code",
   "execution_count": 9,
   "outputs": [
    {
     "name": "stdout",
     "output_type": "stream",
     "text": [
      "Implied volatilities of market prices (calls):\n",
      "S0 = 1859.48\n",
      "K = 2275.0, IV = 0.1446\n",
      "K = 2300.0, IV = 0.1418\n",
      "K = 2325.0, IV = 0.1395\n",
      "K = 2375.0, IV = 0.1359\n",
      "K = 2425.0, IV = 0.1295\n",
      "K = 2500.0, IV = 0.1344\n"
     ]
    },
    {
     "data": {
      "text/plain": "<Figure size 1000x500 with 1 Axes>",
      "image/png": "[encoded data removed]"
     },
     "metadata": {},
     "output_type": "display_data"
    }
   ],
   "source": [
    "IV_market = []\n",
    "for i in range(len(call_prices)):\n",
    "    IV_market.append(implied_volatility(call_prices[i], S=S0, strike=call_strikes[i], t = T, rate=0.03, q = 0.05, type_o='call', method='fsolve'))\n",
    "\n",
    "print(f'Implied volatilities of market prices (calls):\\nS0 = {S0}')\n",
    "for a,b in zip(call_strikes.tail(6), IV_market[-6:]):\n",
    "    print(f'K = {a}, IV = {round(b, 4)}')\n",
    "\n",
    "# Plot market implied volatilities w.r.t. log moneyness\n",
    "x = (S0/call_strikes)\n",
    "IV_filtered = [iv for iv in IV_market if iv != -1]\n",
    "x_filtered = [log_m for iv, log_m in zip(IV_market, x) if iv != -1]\n",
    "\n",
    "fig, ax1 = plt.subplots(figsize=(10,5))\n",
    "ax1.scatter(x, IV_market, marker='x', label='BS inversion', color='red')\n",
    "ax1.scatter(x, calls['C_IV'], marker='.', label='provided')\n",
    "ax1.set_xlabel('Moneyness: S0/K'); ax1.set_ylabel('Implied Volatility'); ax1.set_title('Calls volatility smile')\n",
    "ax1.legend(); plt.show()\n"
   ],
   "metadata": {
    "collapsed": false,
    "ExecuteTime": {
     "end_time": "2023-09-01T11:11:41.407767Z",
     "start_time": "2023-09-01T11:11:40.989199Z"
    }
   }
  },
  {
   "cell_type": "markdown",
   "source": [
    "##  Weighted Calibration (call options)\n",
    "Let's step now into the calibration of model parameters.\n",
    "If we define $\\Theta$ the set of parameters, the goal is to find the optimal parameters $\\Theta^*$ that minimize the following objective function:\n",
    "$$ \\sum_{i=1}^{N} w_i \\biggl( P_i - f(K_i|\\Theta) \\biggr)^2 $$\n",
    "where $w_i$ are weights, usually defined as\n",
    "$$ w_i = \\frac{1}{\\text {spread}_i^2 },$$ $P_i$ are the market prices and $f$ is the pricing function. In our case $f$ is given by **Merton** Jump Diffusion model, **Kou** Jump Diffusion model, or **Variance Gamma** process. To perform this optimization problem, many numerical methods can be used. In particular, we test two functions of `scipy.optimize`:\n",
    "1. **curve_fit**, a least-squares curve fitting method which works with bounds. The default algorithm is [Trust Region Reflective (trf)](https://en.wikipedia.org/wiki/Trust_region). The [Levemberg-Marquadt](https://en.wikipedia.org/wiki/Levenberg%E2%80%93Marquardt_algorithm) has been tried as well, to test the optimization problem without setting boundaries, but the results don't make any sense.\n",
    "2. **Least-Squares**, a constrained minimization problem which uses Trust region reflective method by default. This method is the most indicated to solve the non-linear least squares optimization problem of our purpose.\n",
    "All the optimizations are carried out by initializing a starting point as the array $x_0 = [params]$ and setting feasible bounds.\n"
   ],
   "metadata": {
    "collapsed": false
   }
  },
  {
   "cell_type": "code",
   "execution_count": 10,
   "outputs": [],
   "source": [
    "call_spreads = calls['C_Spread']\n",
    "c_weights = 1/ call_spreads**2"
   ],
   "metadata": {
    "collapsed": false,
    "ExecuteTime": {
     "end_time": "2023-09-01T11:12:00.236318Z",
     "start_time": "2023-09-01T11:12:00.205325500Z"
    }
   }
  },
  {
   "cell_type": "markdown",
   "source": [
    "### Black and Scholes model\n",
    "The only unknown parameter to calibrate in Black and Scholes model is the **implied volatility**, $\\sigma$. Thus, we minimize the difference between the computed theoretical prices and the market prices of call options."
   ],
   "metadata": {
    "collapsed": false
   }
  },
  {
   "cell_type": "code",
   "execution_count": 11,
   "outputs": [],
   "source": [
    "x0 = 0.5\n",
    "bounds = [1e-5, 2]\n",
    "\n",
    "def f_BlackScholes_calls(x, sigm):\n",
    "    BS = BS_Pricer(S0=S0, K = x, ttm=T, r=r, q=0, sigma=sigm, exercise=exercise)\n",
    "    return BS.closed_formula_call(x)\n",
    "\n",
    "res1_calls = scpo.curve_fit(f_BlackScholes_calls, call_strikes, call_prices, p0 = x0, bounds=bounds, sigma=c_weights)\n",
    "sigw_p = round(res1_calls[0][0],4)"
   ],
   "metadata": {
    "collapsed": false,
    "ExecuteTime": {
     "end_time": "2023-09-01T11:12:05.238740700Z",
     "start_time": "2023-09-01T11:12:04.884201500Z"
    }
   }
  },
  {
   "cell_type": "code",
   "execution_count": 12,
   "outputs": [
    {
     "name": "stdout",
     "output_type": "stream",
     "text": [
      "`ftol` termination condition is satisfied.\n",
      "Function evaluations 23, initial cost 1.3560e+10, final cost 3.0264e+04, first-order optimality 8.41e+00.\n"
     ]
    }
   ],
   "source": [
    "def cost_function(x, strikes, mkt_prices):\n",
    "    sigma = x\n",
    "    BS = BS_Pricer(S0=S0, K = None, ttm=T, r=r, q=0, sigma=sigma, exercise=exercise)\n",
    "    sq_err = np.sum(c_weights* (BS.closed_formula_call(strikes) - mkt_prices)**2)\n",
    "    return sq_err\n",
    "\n",
    "result_p = scpo.least_squares(cost_function, x0, args=(call_strikes, call_prices), bounds=bounds, method = 'trf', verbose=1)\n",
    "opt_sigma_p = result_p.x[0]"
   ],
   "metadata": {
    "collapsed": false,
    "ExecuteTime": {
     "end_time": "2023-09-01T11:12:07.151255500Z",
     "start_time": "2023-09-01T11:12:07.005852100Z"
    }
   }
  },
  {
   "cell_type": "code",
   "execution_count": 13,
   "outputs": [
    {
     "name": "stdout",
     "output_type": "stream",
     "text": [
      "METHOD 1: CURVE_FIT (trf)\n",
      "> Calibrated Volatility from Calls [σ] = 0.1324 \t 13.24%\n",
      "METHOD 2: LEAST-SQUARES (trf)\n",
      "> Calibrated Volatility from Calls [σ] = 0.13290630220347174 \t 13.29%\n"
     ]
    }
   ],
   "source": [
    "print('METHOD 1: CURVE_FIT (trf)')\n",
    "print(f'> Calibrated Volatility from Calls [σ] = {sigw_p} \\t {round(sigw_p*100,2)}%')\n",
    "print('METHOD 2: LEAST-SQUARES (trf)')\n",
    "print(f'> Calibrated Volatility from Calls [σ] = {opt_sigma_p} \\t {round(opt_sigma_p*100,2)}%')"
   ],
   "metadata": {
    "collapsed": false,
    "ExecuteTime": {
     "end_time": "2023-09-01T11:12:09.931691800Z",
     "start_time": "2023-09-01T11:12:09.907493100Z"
    }
   }
  },
  {
   "cell_type": "code",
   "execution_count": 18,
   "outputs": [
    {
     "name": "stdout",
     "output_type": "stream",
     "text": [
      "Stored 'calls_bs_params_spx' (float64)\n"
     ]
    }
   ],
   "source": [
    "calls_bs_params_spx = opt_sigma_p\n",
    "%store calls_bs_params_spx"
   ],
   "metadata": {
    "collapsed": false,
    "ExecuteTime": {
     "end_time": "2023-09-01T11:14:47.719873900Z",
     "start_time": "2023-09-01T11:14:47.609883300Z"
    }
   }
  },
  {
   "cell_type": "markdown",
   "source": [
    "### Merton Jump Diffusion\n",
    "The Merton Jump diffusion ones are the volatility $\\sigma$, the Poisson rate of jumps $\\lambda$, the mean rate of jump intensity $m$ and its variance rate $v$, assuming that the intensity of jumps follows a *Normal distribution*.\n"
   ],
   "metadata": {
    "collapsed": false
   }
  },
  {
   "cell_type": "code",
   "execution_count": 14,
   "outputs": [],
   "source": [
    "x0 = [0.15,  0.2, -0.05,  0.01]  # initial guess: [σ, λ, m, v]\n",
    "bounds = ( [1e-3, 1e-2, -5, 1e-5], [2, 5, 5, 2] )"
   ],
   "metadata": {
    "collapsed": false,
    "ExecuteTime": {
     "end_time": "2023-09-01T11:12:15.213808400Z",
     "start_time": "2023-09-01T11:12:15.167970900Z"
    }
   }
  },
  {
   "cell_type": "code",
   "execution_count": 15,
   "outputs": [],
   "source": [
    "def f_Mert(x, sigma, lambd, meanJ, stdJ):\n",
    "    Mert = Merton_pricer(S0=S0, K=x, ttm=T, r=r, q=0, sigma=sigma, lambd=lambd, meanJ=meanJ, stdJ=stdJ, exercise=exercise)\n",
    "    return Mert.closed_formula_call(x)\n",
    "\n",
    "start1=time.time()\n",
    "mert1 = scpo.curve_fit(f_Mert, call_strikes, call_prices, p0=x0, bounds=bounds, sigma=call_spreads)\n",
    "end1=time.time()\n",
    "\n",
    "mert_params1 = [round(p,4) for p in mert1[0][:4]]"
   ],
   "metadata": {
    "collapsed": false,
    "ExecuteTime": {
     "end_time": "2023-09-01T11:12:25.968115200Z",
     "start_time": "2023-09-01T11:12:17.206331Z"
    }
   }
  },
  {
   "cell_type": "markdown",
   "source": [
    "##### Method 2. Least-squares"
   ],
   "metadata": {
    "collapsed": false
   }
  },
  {
   "cell_type": "code",
   "execution_count": 16,
   "outputs": [
    {
     "name": "stdout",
     "output_type": "stream",
     "text": [
      "The maximum number of function evaluations is exceeded.\n",
      "Function evaluations 400, initial cost 4.4191e+05, final cost 3.0107e+04, first-order optimality 2.28e+03.\n"
     ]
    }
   ],
   "source": [
    "x0 = [0.15,  0.5, -0.05,  0.1]      # initial guess: [σ, λ, m, v]\n",
    "bounds = ( [1e-3, 1e-2, -10, 0], [2, np.inf, 10, 5] )\n",
    "\n",
    "def cost_function(x, strikes, mkt_prices):\n",
    "    sigma, lambd, meanJ, stdJ = x\n",
    "    M = Merton_pricer(S0, None, T, r, q, sigma, lambd, meanJ, stdJ, exercise)\n",
    "    sq_err = np.sum(c_weights*(M.closed_formula_call(strikes) - mkt_prices)**2)\n",
    "    return sq_err\n",
    "\n",
    "start2 = time.time()\n",
    "mert2 = scpo.least_squares(cost_function, x0, args=(call_strikes, call_prices), bounds=bounds, method = 'trf', verbose=1)\n",
    "end2 = time.time()\n",
    "\n",
    "mert_params2 = [round(p,4) for p in mert2.x[:4]]"
   ],
   "metadata": {
    "collapsed": false,
    "ExecuteTime": {
     "end_time": "2023-09-01T11:13:35.846709Z",
     "start_time": "2023-09-01T11:12:28.491619800Z"
    }
   }
  },
  {
   "cell_type": "code",
   "execution_count": 19,
   "outputs": [
    {
     "name": "stdout",
     "output_type": "stream",
     "text": [
      "WEIGHTED OPT: CURVE_FIT (trf)\n",
      "> Calibrated Volatlity [σ] = 0.0692 \t 6.92%\n",
      "> Calibrated Jump intensity [λ] =  5.0\n",
      "> Calibrated Jump Mean =  -0.05\n",
      "> Calibrated Jump St. dev.  =  1e-05\n",
      "ELAPSED TIME: 8.75 sec\n",
      "\n",
      "METHOD 1: LEAST SQUARES (trf)\n",
      "> Calibrated Volatlity [σ] = 0.1246 \t 12.46%\n",
      "> Calibrated Jump intensity [λ] =  0.49\n",
      "> Calibrated Jump Mean =  -0.049\n",
      "> Calibrated Jump St. dev.  =  0.053\n",
      "TIME ELAPSED:  67.35 sec\n"
     ]
    }
   ],
   "source": [
    "print('WEIGHTED OPT: CURVE_FIT (trf)')\n",
    "print(f'> Calibrated Volatlity [σ] = {round(mert1[0][0],4)} \\t {round(mert1[0][0]*100,2)}%')\n",
    "print('> Calibrated Jump intensity [λ] = ', round(mert1[0][1],2))\n",
    "print('> Calibrated Jump Mean = ', round(mert1[0][2],2))\n",
    "print('> Calibrated Jump St. dev.  = ', round(mert1[0][3],5))\n",
    "print(f'ELAPSED TIME: {round(end1-start1,2)} sec')\n",
    "\n",
    "print('\\nMETHOD 1: LEAST SQUARES (trf)')\n",
    "print(f'> Calibrated Volatlity [σ] = {mert_params2[0]} \\t {round(mert_params2[0]*100,2)}%')\n",
    "print('> Calibrated Jump intensity [λ] = ', round(mert_params2[1],2))\n",
    "print('> Calibrated Jump Mean = ', round(mert_params2[2],3))\n",
    "print('> Calibrated Jump St. dev.  = ', round(mert_params2[3],3))\n",
    "print(f'TIME ELAPSED:  {round(end2-start2,2)} sec')"
   ],
   "metadata": {
    "collapsed": false,
    "ExecuteTime": {
     "end_time": "2023-09-01T11:14:54.827353400Z",
     "start_time": "2023-09-01T11:14:54.792354100Z"
    }
   }
  },
  {
   "cell_type": "code",
   "execution_count": 20,
   "outputs": [
    {
     "name": "stdout",
     "output_type": "stream",
     "text": [
      "[0.0692, 5.0, -0.0529, 0.0]\n",
      "[0.1246, 0.4889, -0.0493, 0.0528]\n",
      "Stored 'calls_mert_params_spx' (list)\n"
     ]
    }
   ],
   "source": [
    "print(mert_params1)\n",
    "print(mert_params2)\n",
    "calls_mert_params_spx = mert_params2\n",
    "%store calls_mert_params_spx"
   ],
   "metadata": {
    "collapsed": false,
    "ExecuteTime": {
     "end_time": "2023-09-01T11:15:18.740931900Z",
     "start_time": "2023-09-01T11:15:18.662290200Z"
    }
   }
  },
  {
   "cell_type": "markdown",
   "source": [
    "### Kou Jump Diffusion\n"
   ],
   "metadata": {
    "collapsed": false
   }
  },
  {
   "cell_type": "code",
   "execution_count": 22,
   "outputs": [],
   "source": [
    "x0 = [0.2, 0.5, 0.5, 8, 10] # initial guess: [σ, λ, p, η_1, η_2]\n",
    "bounds = ( [1e-2, 1e-1, 0, 4, 4], [1, 4, 1, 15, 20] )"
   ],
   "metadata": {
    "collapsed": false,
    "ExecuteTime": {
     "end_time": "2023-09-01T11:15:54.410179100Z",
     "start_time": "2023-09-01T11:15:54.373755800Z"
    }
   }
  },
  {
   "cell_type": "markdown",
   "source": [
    "##### Method 1. TRF (Bounds)"
   ],
   "metadata": {
    "collapsed": false
   }
  },
  {
   "cell_type": "code",
   "execution_count": 23,
   "outputs": [],
   "source": [
    "# def f_Kou(x, sigma, lambd, p, eta1, eta2):\n",
    "#     KouJD = Kou_pricer(S0=S0, K=x, ttm=T, r=r, sigma=sigma, lambd=lambd, p=p, eta1=eta1, eta2=eta2, exercise=exercise)\n",
    "#     return KouJD.closed_formula_call(x)\n",
    "#\n",
    "# start1 = time.time()\n",
    "# kou1 = scpo.curve_fit(f_Kou, call_strikes, call_prices, p0=x0, bounds=bounds, sigma=c_weights)\n",
    "# end1 = time.time()\n",
    "#\n",
    "# kou_params1 = [round(p,4) for p in kou1[0][:5]]"
   ],
   "metadata": {
    "collapsed": false,
    "ExecuteTime": {
     "end_time": "2023-09-01T11:15:56.420388500Z",
     "start_time": "2023-09-01T11:15:56.396327Z"
    }
   }
  },
  {
   "cell_type": "markdown",
   "source": [
    "##### Method 2. LEAST SQUARES (With Bounds)"
   ],
   "metadata": {
    "collapsed": false
   }
  },
  {
   "cell_type": "code",
   "execution_count": 24,
   "outputs": [
    {
     "name": "stdout",
     "output_type": "stream",
     "text": [
      "The maximum number of function evaluations is exceeded.\n",
      "Function evaluations 500, initial cost 3.0997e+07, final cost 3.9946e+04, first-order optimality 1.54e+04.\n"
     ]
    }
   ],
   "source": [
    "# Define the objective function\n",
    "def cost_function(x, strikes, mkt_prices):\n",
    "    sigm, lamb, p, eta1, eta2 = x\n",
    "    KOU = Kou_pricer(S0=S0, K=strikes, ttm=T, r=r, sigma=sigm, lambd=lamb, p=p, eta1=eta1, eta2=eta2, exercise=exercise)\n",
    "    sq_err = np.sum(c_weights*(KOU.closed_formula_call(strikes) - mkt_prices)**2)\n",
    "    return sq_err\n",
    "\n",
    "start2=time.time()\n",
    "kou2 = scpo.least_squares(cost_function, x0, args=(call_strikes, call_prices),  method='trf', bounds=bounds, verbose=1)\n",
    "end2=time.time()"
   ],
   "metadata": {
    "collapsed": false,
    "ExecuteTime": {
     "end_time": "2023-09-01T13:27:36.207600200Z",
     "start_time": "2023-09-01T11:16:04.020879600Z"
    }
   }
  },
  {
   "cell_type": "code",
   "execution_count": 25,
   "outputs": [],
   "source": [
    "kou_params2 = [round(p,4) for p in kou2.x[:5]]"
   ],
   "metadata": {
    "collapsed": false,
    "ExecuteTime": {
     "end_time": "2023-09-01T13:27:36.231577600Z",
     "start_time": "2023-09-01T13:27:36.223328400Z"
    }
   }
  },
  {
   "cell_type": "code",
   "execution_count": 26,
   "outputs": [],
   "source": [
    "# print('WEIGHTED OPT: CURVE_FIT (trf)')\n",
    "# print(f'> Calibrated Volatlity [σ] = {kou_params1[0]} \\t {kou_params1[0] * 100}%')\n",
    "# print('> Calibrated Jump intensity [λ] = ', kou_params1[1])\n",
    "# print(f'> Calibrated Upward Jump probability [p] = {kou_params1[2]}, [q] = {round(1 - kou_params1[2], 2)}')\n",
    "# print('> Calibrated Rate of Exp. 1  [η_1] = ', kou_params1[3])\n",
    "# print('> Calibrated Rate of Exp. 2  [η_2] = ', kou_params1[4])\n",
    "# print(f'TIME ELAPSED: {end1-start1} sec')"
   ],
   "metadata": {
    "collapsed": false,
    "ExecuteTime": {
     "end_time": "2023-09-01T13:27:36.270692200Z",
     "start_time": "2023-09-01T13:27:36.231577600Z"
    }
   }
  },
  {
   "cell_type": "code",
   "execution_count": 27,
   "outputs": [
    {
     "name": "stdout",
     "output_type": "stream",
     "text": [
      "METHOD 2: Least-squares\n",
      "> Calibrated Volatlity [σ] = 0.1215 \t 12.15%\n",
      "> Calibrated Jump intensity [λ] =  0.2\n",
      "> Calibrated Upward Jump probability [p] = 0.18, [q] = 0.82\n",
      "> Calibrated Rate of Exp. 1  [η_1] =  8.71\n",
      "> Calibrated Rate of Exp. 2  [η_2] =  10.29\n",
      "TIME ELAPSED:  7892.16 sec\n"
     ]
    }
   ],
   "source": [
    "print('METHOD 2: Least-squares')\n",
    "print(f'> Calibrated Volatlity [σ] = {round(kou_params2[0],4)} \\t {round(kou_params2[0]*100,2)}%')\n",
    "print('> Calibrated Jump intensity [λ] = ', round(kou_params2[1],2))\n",
    "print(f'> Calibrated Upward Jump probability [p] = {round(kou_params2[2],2)}, [q] = {round(1-kou_params2[2],2)}')\n",
    "print('> Calibrated Rate of Exp. 1  [η_1] = ', round(kou_params2[3],2))\n",
    "print('> Calibrated Rate of Exp. 2  [η_2] = ', round(kou_params2[4],2))\n",
    "print(f'TIME ELAPSED:  {round(end2-start2,2)} sec')"
   ],
   "metadata": {
    "collapsed": false,
    "ExecuteTime": {
     "end_time": "2023-09-01T13:27:36.270692200Z",
     "start_time": "2023-09-01T13:27:36.250865600Z"
    }
   }
  },
  {
   "cell_type": "code",
   "execution_count": 22,
   "outputs": [
    {
     "name": "stdout",
     "output_type": "stream",
     "text": [
      "[0.1192, 0.3314, 0.0675, 8.8496, 10.1685]\n"
     ]
    }
   ],
   "source": [
    "calls_kou_params_spx = kou_params2\n",
    "%store calls_kou_params_spx\n",
    "print(kou_params2)"
   ],
   "metadata": {
    "collapsed": false
   }
  },
  {
   "cell_type": "markdown",
   "source": [
    "### Variance Gamma\n"
   ],
   "metadata": {
    "collapsed": false
   }
  },
  {
   "cell_type": "code",
   "execution_count": 23,
   "outputs": [],
   "source": [
    "x0 = [0.25, -0.2, 0.2]   # initial guess: [σ, θ, v]\n",
    "bounds = ( [1e-3, -5, 0], [1, 5, 5] )"
   ],
   "metadata": {
    "collapsed": false
   }
  },
  {
   "cell_type": "markdown",
   "source": [
    "##### Method 1. CURVE FIT (Bounds)"
   ],
   "metadata": {
    "collapsed": false
   }
  },
  {
   "cell_type": "code",
   "execution_count": 24,
   "outputs": [
    {
     "name": "stderr",
     "output_type": "stream",
     "text": [
      "C:\\Users\\ornel\\OneDrive\\Desktop\\TESI\\PythonProjects\\Margin-Loans-Pricing\\python-modules\\functions\\VGpricer.py:230: RuntimeWarning: overflow encountered in exp\n",
      "  f = lambda u: ss.norm.cdf(a / np.sqrt(u) + b * np.sqrt(u)) * np.exp((g - 1) * np.log(u)) * np.exp(\n",
      "C:\\Users\\ornel\\OneDrive\\Desktop\\TESI\\PythonProjects\\Margin-Loans-Pricing\\python-modules\\functions\\VGpricer.py:230: RuntimeWarning: invalid value encountered in scalar divide\n",
      "  f = lambda u: ss.norm.cdf(a / np.sqrt(u) + b * np.sqrt(u)) * np.exp((g - 1) * np.log(u)) * np.exp(\n",
      "C:\\Users\\ornel\\OneDrive\\Desktop\\TESI\\PythonProjects\\Margin-Loans-Pricing\\python-modules\\functions\\VGpricer.py:230: RuntimeWarning: invalid value encountered in scalar multiply\n",
      "  f = lambda u: ss.norm.cdf(a / np.sqrt(u) + b * np.sqrt(u)) * np.exp((g - 1) * np.log(u)) * np.exp(\n",
      "C:\\Users\\ornel\\OneDrive\\Desktop\\TESI\\PythonProjects\\Margin-Loans-Pricing\\python-modules\\functions\\VGpricer.py:232: IntegrationWarning: The maximum number of subdivisions (50) has been achieved.\n",
      "  If increasing the limit yields no improvement it is advised to analyze \n",
      "  the integrand in order to determine the difficulties.  If the position of a \n",
      "  local difficulty can be determined (singularity, discontinuity) one will \n",
      "  probably gain from splitting up the interval and calling the integrator \n",
      "  on the subranges.  Perhaps a special-purpose integrator should be used.\n",
      "  result = quad(f, 0, np.inf)\n"
     ]
    }
   ],
   "source": [
    "def f_VG(strikes, sigmax, thetax, nux):\n",
    "    VGamma = VG_pricer(S0=S0, K=None, ttm=T, r=r, q=0, sigma=sigmax, theta=thetax, nu=nux, exercise=exercise)\n",
    "    vg_prices = []\n",
    "    for k in strikes:\n",
    "        vg_prices.append(VGamma.closed_formula_call(k))\n",
    "    return vg_prices\n",
    "\n",
    "start1 = time.time()\n",
    "vg1 = scpo.curve_fit(f_VG, call_strikes, call_prices, p0=x0, bounds=bounds, sigma=c_weights)\n",
    "end1 = time.time()\n",
    "\n",
    "vg_params1 = [round(p,4) for p in vg1[0][:3]]"
   ],
   "metadata": {
    "collapsed": false
   }
  },
  {
   "cell_type": "markdown",
   "source": [
    "##### Method 2. LEAST-SQUARES (Trust Region Reflective, Bounds)"
   ],
   "metadata": {
    "collapsed": false
   }
  },
  {
   "cell_type": "code",
   "execution_count": 25,
   "outputs": [
    {
     "name": "stdout",
     "output_type": "stream",
     "text": [
      "   Iteration     Total nfev        Cost      Cost reduction    Step norm     Optimality   \n",
      "       0              1         2.0835e+04                                    3.69e+05    \n",
      "       1              3         3.0366e+03      1.78e+04       3.04e-01       2.04e+04    \n",
      "       2              4         2.6787e+02      2.77e+03       1.24e-01       1.35e+04    \n",
      "       3              7         1.7313e+02      9.47e+01       9.91e-03       3.65e+03    \n",
      "       4              9         1.6652e+02      6.61e+00       3.49e-03       4.26e+03    \n",
      "       5             10         1.6148e+02      5.04e+00       5.66e-03       4.24e+03    \n",
      "       6             11         1.5196e+02      9.52e+00       1.18e-02       3.80e+03    \n",
      "       7             12         1.3830e+02      1.37e+01       2.31e-02       2.82e+03    \n",
      "       8             13         1.2557e+02      1.27e+01       1.92e-02       2.27e+03    \n",
      "       9             14         1.1853e+02      7.04e+00       4.67e-02       1.99e+03    \n",
      "      10             16         1.1289e+02      5.65e+00       6.29e-03       1.78e+02    \n",
      "      11             17         1.1204e+02      8.45e-01       2.31e-03       1.27e+03    \n",
      "      12             19         1.1168e+02      3.57e-01       2.21e-03       4.05e+02    \n",
      "      13             20         1.1131e+02      3.69e-01       1.85e-03       4.34e+02    \n",
      "      14             21         1.1069e+02      6.30e-01       4.39e-03       3.02e+02    \n",
      "      15             22         1.0981e+02      8.76e-01       7.69e-03       2.80e+02    \n",
      "      16             24         1.0969e+02      1.24e-01       5.26e-03       3.79e+02    \n",
      "      17             26         1.0954e+02      1.45e-01       8.37e-04       5.55e+01    \n",
      "      18             27         1.0948e+02      5.84e-02       3.59e-04       1.76e+02    \n",
      "      19             28         1.0943e+02      5.54e-02       1.17e-03       4.30e+01    \n",
      "      20             29         1.0934e+02      8.32e-02       8.01e-04       2.67e+02    \n",
      "      21             31         1.0933e+02      1.64e-02       5.98e-04       3.33e+01    \n",
      "      22             32         1.0930e+02      2.61e-02       1.86e-04       8.94e+01    \n",
      "      23             33         1.0925e+02      5.04e-02       7.94e-04       6.29e+01    \n",
      "      24             34         1.0916e+02      9.32e-02       1.24e-03       1.03e+02    \n",
      "      25             35         1.0911e+02      4.58e-02       3.83e-03       4.43e+02    \n",
      "      26             36         1.0899e+02      1.18e-01       1.07e-03       8.07e+01    \n",
      "      27             37         1.0897e+02      2.43e-02       6.38e-04       1.73e+02    \n",
      "      28             39         1.0896e+02      1.16e-02       2.40e-04       4.07e+01    \n",
      "      29             40         1.0895e+02      1.04e-02       1.30e-04       3.71e+01    \n",
      "      30             41         1.0893e+02      2.07e-02       2.45e-04       3.43e+01    \n",
      "      31             42         1.0889e+02      4.12e-02       4.71e-04       3.27e+01    \n",
      "      32             43         1.0880e+02      8.14e-02       9.22e-04       2.79e+01    \n",
      "      33             44         1.0865e+02      1.58e-01       1.54e-03       8.36e+01    \n",
      "      34             47         1.0864e+02      2.43e-03       3.93e-04       1.25e+02    \n",
      "      35             48         1.0864e+02      7.87e-03       1.04e-04       8.75e+01    \n",
      "      36             49         1.0862e+02      1.22e-02       1.77e-04       2.82e+01    \n",
      "      37             50         1.0860e+02      1.91e-02       1.82e-04       4.73e+01    \n",
      "      38             51         1.0857e+02      3.75e-02       5.83e-04       3.49e+01    \n",
      "      39             52         1.0854e+02      2.92e-02       8.93e-04       2.94e+02    \n",
      "      40             54         1.0850e+02      3.99e-02       4.35e-04       2.77e+01    \n",
      "      41             55         1.0848e+02      1.96e-02       1.52e-04       4.52e+01    \n",
      "      42             56         1.0844e+02      3.87e-02       5.68e-04       2.79e+01    \n",
      "      43             57         1.0839e+02      4.80e-02       6.90e-04       2.39e+02    \n",
      "      44             59         1.0837e+02      2.13e-02       4.41e-04       5.56e+01    \n",
      "      45             60         1.0835e+02      1.91e-02       2.72e-04       5.53e+01    \n",
      "      46             61         1.0833e+02      1.97e-02       3.25e-04       2.74e+01    \n",
      "      47             62         1.0829e+02      3.90e-02       3.33e-04       6.20e+01    \n",
      "      48             63         1.0826e+02      3.34e-02       1.40e-03       2.55e+02    \n",
      "      49             65         1.0822e+02      4.08e-02       5.07e-04       8.06e+01    \n",
      "      50             66         1.0820e+02      1.95e-02       3.38e-04       4.70e+01    \n",
      "      51             67         1.0818e+02      1.96e-02       2.92e-04       2.73e+01    \n",
      "      52             68         1.0814e+02      3.88e-02       3.26e-04       5.54e+01    \n",
      "      53             69         1.0811e+02      3.05e-02       1.30e-03       2.65e+02    \n",
      "      54             71         1.0807e+02      4.22e-02       5.14e-04       9.00e+01    \n",
      "      55             72         1.0805e+02      1.98e-02       3.61e-04       4.30e+01    \n",
      "      56             73         1.0803e+02      1.95e-02       2.76e-04       2.72e+01    \n",
      "      57             74         1.0799e+02      3.87e-02       3.26e-04       5.16e+01    \n",
      "      58             75         1.0795e+02      3.78e-02       1.24e-03       2.42e+02    \n",
      "      59             77         1.0791e+02      3.82e-02       5.07e-04       6.88e+01    \n",
      "      60             78         1.0790e+02      1.86e-02       3.17e-04       4.97e+01    \n",
      "      61             79         1.0788e+02      1.87e-02       3.04e-04       2.72e+01    \n",
      "      62             80         1.0784e+02      3.63e-02       3.05e-04       8.13e+01    \n",
      "      63             82         1.0784e+02      3.93e-03       3.97e-04       1.14e+02    \n",
      "      64             83         1.0783e+02      7.48e-03       1.00e-04       7.73e+01    \n",
      "      65             84         1.0782e+02      1.16e-02       1.67e-04       2.71e+01    \n",
      "      66             85         1.0780e+02      1.89e-02       1.64e-04       4.65e+01    \n",
      "      67             86         1.0776e+02      3.70e-02       5.83e-04       3.12e+01    \n",
      "      68             87         1.0773e+02      2.98e-02       8.48e-04       2.88e+02    \n",
      "      69             89         1.0769e+02      3.77e-02       4.36e-04       2.68e+01    \n",
      "      70             90         1.0767e+02      1.90e-02       1.54e-04       4.90e+01    \n",
      "      71             91         1.0764e+02      3.73e-02       6.05e-04       2.70e+01    \n",
      "      72             92         1.0760e+02      3.36e-02       7.72e-04       2.80e+02    \n",
      "      73             94         1.0757e+02      3.35e-02       4.40e-04       2.66e+01    \n",
      "      74             95         1.0755e+02      1.88e-02       1.67e-04       5.46e+01    \n",
      "      75             96         1.0751e+02      3.67e-02       6.52e-04       3.10e+01    \n",
      "      76             97         1.0749e+02      2.37e-02       8.30e-04       3.07e+02    \n",
      "      77             99         1.0745e+02      4.18e-02       4.40e-04       2.62e+01    \n",
      "      78             100        1.0743e+02      1.95e-02       1.61e-04       4.41e+01    \n",
      "      79             101        1.0739e+02      3.85e-02       5.64e-04       2.64e+01    \n",
      "      80             102        1.0733e+02      5.89e-02       5.94e-04       1.93e+02    \n",
      "      81             104        1.0733e+02      7.05e-03       4.51e-04       9.60e+01    \n",
      "      82             105        1.0732e+02      7.13e-03       8.98e-05       6.07e+01    \n",
      "      83             106        1.0731e+02      1.13e-02       1.42e-04       2.62e+01    \n",
      "      84             107        1.0729e+02      1.91e-02       1.47e-04       4.94e+01    \n",
      "      85             108        1.0725e+02      3.75e-02       6.11e-04       2.63e+01    \n",
      "      86             109        1.0721e+02      4.02e-02       6.81e-04       2.60e+02    \n",
      "      87             111        1.0718e+02      2.62e-02       4.45e-04       3.54e+01    \n",
      "      88             112        1.0717e+02      1.84e-02       2.16e-04       5.96e+01    \n",
      "      89             113        1.0713e+02      3.57e-02       6.97e-04       3.73e+01    \n",
      "      90             114        1.0712e+02      1.25e-02       8.99e-04       3.34e+02    \n",
      "      91             115        1.0707e+02      5.00e-02       4.40e-04       3.76e+01    \n",
      "      92             116        1.0705e+02      1.96e-02       2.54e-04       2.91e+01    \n",
      "      93             117        1.0701e+02      3.90e-02       4.37e-04       3.67e+01    \n",
      "      94             118        1.0693e+02      7.62e-02       1.01e-03       2.60e+01    \n",
      "      95             119        1.0692e+02      8.47e-03       1.34e-03       5.01e+02    \n",
      "      96             120        1.0681e+02      1.12e-01       8.55e-04       1.04e+02    \n",
      "      97             121        1.0679e+02      2.19e-02       7.33e-04       1.75e+02    \n",
      "      98             123        1.0678e+02      1.15e-02       2.41e-04       4.08e+01    \n",
      "      99             124        1.0677e+02      9.84e-03       1.33e-04       3.68e+01    \n",
      "      100            125        1.0675e+02      1.96e-02       2.49e-04       3.43e+01    \n",
      "      101            126        1.0671e+02      3.90e-02       4.79e-04       3.32e+01    \n",
      "      102            127        1.0663e+02      7.70e-02       9.45e-04       2.52e+01    \n",
      "      103            128        1.0649e+02      1.48e-01       1.53e-03       9.96e+01    \n",
      "      104            132        1.0648e+02      5.34e-03       1.06e-04       4.17e+01    \n",
      "      105            133        1.0648e+02      4.77e-03       6.90e-05       3.32e+01    \n",
      "      106            134        1.0647e+02      9.44e-03       1.20e-04       2.52e+01    \n",
      "      107            135        1.0645e+02      1.89e-02       1.99e-04       2.52e+01    \n",
      "      108            136        1.0641e+02      3.76e-02       3.77e-04       2.52e+01    \n",
      "      109            137        1.0633e+02      7.49e-02       7.98e-04       2.53e+01    \n",
      "      110            138        1.0621e+02      1.21e-01       1.19e-03       2.32e+02    \n",
      "      111            141        1.0619e+02      2.19e-02       4.31e-04       6.69e+01    \n",
      "      112            142        1.0617e+02      1.76e-02       3.17e-04       5.28e+01    \n",
      "      113            143        1.0616e+02      1.70e-02       3.25e-04       2.52e+01    \n",
      "      114            144        1.0613e+02      3.08e-02       3.41e-04       1.13e+02    \n",
      "      115            147        1.0612e+02      5.81e-03       1.10e-04       5.10e+01    \n",
      "      116            148        1.0612e+02      4.76e-03       7.94e-05       3.73e+01    \n",
      "      117            149        1.0611e+02      9.37e-03       1.29e-04       2.48e+01    \n",
      "      118            150        1.0609e+02      1.87e-02       2.06e-04       2.47e+01    \n",
      "      119            151        1.0605e+02      3.73e-02       3.83e-04       2.50e+01    \n",
      "      120            152        1.0598e+02      7.41e-02       8.27e-04       2.49e+01    \n",
      "      121            153        1.0587e+02      1.02e-01       1.18e-03       2.92e+02    \n",
      "      122            156        1.0584e+02      3.40e-02       2.15e-04       1.43e+02    \n",
      "      123            157        1.0583e+02      9.92e-03       2.20e-04       2.45e+01    \n",
      "      124            158        1.0582e+02      9.30e-03       7.52e-05       2.44e+01    \n",
      "      125            159        1.0580e+02      1.85e-02       1.91e-04       2.43e+01    \n",
      "      126            160        1.0577e+02      3.70e-02       4.08e-04       2.44e+01    \n",
      "      127            161        1.0569e+02      7.34e-02       7.14e-04       4.64e+01    \n",
      "      128            163        1.0566e+02      2.73e-02       5.99e-04       9.80e+01    \n",
      "      129            164        1.0565e+02      1.70e-02       7.81e-04       1.74e+02    \n",
      "      130            166        1.0563e+02      1.41e-02       2.21e-04       3.21e+01    \n",
      "      131            167        1.0562e+02      9.23e-03       1.18e-04       2.42e+01    \n",
      "      132            168        1.0561e+02      1.84e-02       2.03e-04       2.41e+01    \n",
      "      133            169        1.0557e+02      3.68e-02       3.90e-04       2.41e+01    \n",
      "      134            170        1.0550e+02      7.33e-02       8.08e-04       2.42e+01    \n",
      "      135            171        1.0537e+02      1.30e-01       1.23e-03       1.78e+02    \n",
      "      136            174        1.0536e+02      5.81e-03       4.34e-04       1.16e+02    \n",
      "      137            175        1.0535e+02      7.25e-03       1.04e-04       7.86e+01    \n",
      "      138            176        1.0534e+02      1.10e-02       1.74e-04       2.41e+01    \n",
      "      139            177        1.0532e+02      1.75e-02       1.58e-04       4.76e+01    \n",
      "      140            178        1.0529e+02      3.34e-02       6.15e-04       4.30e+01    \n",
      "      141            179        1.0529e+02      3.34e-03       1.01e-03       3.41e+02    \n",
      "      142            180        1.0523e+02      5.57e-02       4.33e-04       4.27e+01    \n",
      "      143            181        1.0521e+02      1.82e-02       2.86e-04       2.36e+01    \n",
      "      144            182        1.0518e+02      3.59e-02       3.35e-04       5.55e+01    \n",
      "      145            183        1.0514e+02      4.06e-02       1.37e-03       2.10e+02    \n",
      "      146            185        1.0510e+02      3.26e-02       4.96e-04       3.97e+01    \n",
      "      147            186        1.0509e+02      1.66e-02       2.40e-04       5.71e+01    \n",
      "      148            187        1.0507e+02      2.11e-02       6.98e-04       1.26e+02    \n",
      "      149            188        1.0505e+02      1.87e-02       8.52e-04       1.71e+02    \n",
      "      150            190        1.0503e+02      1.26e-02       2.26e-04       3.03e+01    \n",
      "      151            191        1.0503e+02      9.12e-03       1.15e-04       2.68e+01    \n",
      "      152            192        1.0501e+02      1.82e-02       2.14e-04       2.55e+01    \n",
      "      153            193        1.0497e+02      3.63e-02       4.18e-04       2.53e+01    \n",
      "      154            194        1.0490e+02      7.23e-02       8.34e-04       2.33e+01    \n",
      "      155            195        1.0476e+02      1.41e-01       1.43e-03       8.24e+01    \n",
      "      156            199        1.0475e+02      4.64e-03       1.02e-04       2.89e+01    \n",
      "      157            200        1.0475e+02      4.49e-03       5.63e-05       2.48e+01    \n",
      "      158            201        1.0474e+02      8.95e-03       1.04e-04       2.32e+01    \n",
      "      159            202        1.0472e+02      1.79e-02       1.88e-04       2.32e+01    \n",
      "      160            203        1.0469e+02      3.57e-02       3.69e-04       2.31e+01    \n",
      "      161            204        1.0461e+02      7.13e-02       7.50e-04       2.32e+01    \n",
      "      162            205        1.0448e+02      1.38e-01       1.30e-03       9.59e+01    \n",
      "      163            209        1.0447e+02      5.27e-03       1.04e-04       3.45e+01    \n",
      "      164            210        1.0447e+02      4.47e-03       6.27e-05       2.68e+01    \n",
      "      165            211        1.0446e+02      8.86e-03       1.08e-04       2.29e+01    \n",
      "      166            212        1.0444e+02      1.77e-02       1.82e-04       2.29e+01    \n",
      "      167            213        1.0440e+02      3.54e-02       3.54e-04       2.29e+01    \n",
      "      168            214        1.0433e+02      7.06e-02       7.36e-04       2.29e+01    \n",
      "      169            215        1.0421e+02      1.29e-01       1.19e-03       1.58e+02    \n",
      "      170            218        1.0420e+02      1.07e-03       4.31e-04       1.35e+02    \n",
      "      171            219        1.0420e+02      7.73e-03       1.12e-04       9.57e+01    \n",
      "      172            220        1.0418e+02      1.14e-02       1.95e-04       2.40e+01    \n",
      "      173            221        1.0417e+02      1.63e-02       1.92e-04       5.22e+01    \n",
      "      174            222        1.0415e+02      1.73e-02       6.67e-04       1.43e+02    \n",
      "      175            223        1.0413e+02      1.96e-02       9.06e-04       1.64e+02    \n",
      "      176            225        1.0412e+02      1.21e-02       2.24e-04       2.39e+01    \n",
      "      177            226        1.0411e+02      8.83e-03       1.02e-04       2.46e+01    \n",
      "      178            227        1.0409e+02      1.76e-02       2.06e-04       2.42e+01    \n",
      "      179            228        1.0406e+02      3.52e-02       4.10e-04       2.30e+01    \n",
      "      180            229        1.0399e+02      7.02e-02       8.00e-04       2.26e+01    \n",
      "      181            230        1.0385e+02      1.40e-01       1.59e-03       2.23e+01    \n",
      "      182            231        1.0370e+02      1.51e-01       2.28e-03       4.75e+02    \n",
      "      183            234        1.0359e+02      1.06e-01       4.25e-04       1.74e+02    \n",
      "      184            235        1.0359e+02      2.61e-03       4.46e-04       1.18e+02    \n",
      "      185            236        1.0358e+02      7.29e-03       1.04e-04       7.98e+01    \n",
      "      186            237        1.0357e+02      1.08e-02       1.75e-04       2.19e+01    \n",
      "      187            238        1.0355e+02      1.64e-02       1.51e-04       5.34e+01    \n",
      "      188            239        1.0352e+02      3.06e-02       6.91e-04       5.03e+01    \n",
      "      189            241        1.0351e+02      1.56e-02       2.77e-04       6.04e+01    \n",
      "      190            242        1.0349e+02      1.29e-02       3.74e-04       4.36e+01    \n",
      "      191            243        1.0348e+02      1.56e-02       2.55e-04       6.08e+01    \n",
      "      192            244        1.0347e+02      1.29e-02       3.76e-04       4.26e+01    \n",
      "      193            245        1.0345e+02      1.55e-02       2.52e-04       6.10e+01    \n",
      "      194            246        1.0344e+02      1.31e-02       3.77e-04       4.11e+01    \n",
      "      195            247        1.0342e+02      1.55e-02       2.47e-04       6.11e+01    \n",
      "      196            248        1.0341e+02      1.31e-02       3.78e-04       3.99e+01    \n",
      "      197            249        1.0339e+02      1.55e-02       2.43e-04       6.12e+01    \n",
      "      198            250        1.0338e+02      1.32e-02       3.79e-04       3.91e+01    \n",
      "      199            251        1.0336e+02      1.55e-02       2.40e-04       6.13e+01    \n",
      "      200            252        1.0335e+02      1.33e-02       3.79e-04       3.85e+01    \n",
      "      201            253        1.0333e+02      1.72e-02       2.38e-04       6.12e+01    \n",
      "      202            254        1.0332e+02      1.43e-02       7.59e-04       1.40e+02    \n",
      "      203            255        1.0330e+02      1.91e-02       8.89e-04       1.67e+02    \n",
      "      204            257        1.0329e+02      1.16e-02       2.30e-04       2.74e+01    \n",
      "      205            258        1.0328e+02      8.65e-03       1.10e-04       2.77e+01    \n",
      "      206            259        1.0326e+02      1.73e-02       2.21e-04       2.71e+01    \n",
      "      207            260        1.0323e+02      3.45e-02       4.38e-04       2.58e+01    \n",
      "      208            261        1.0316e+02      6.86e-02       8.54e-04       2.45e+01    \n",
      "      209            262        1.0302e+02      1.36e-01       1.67e-03       2.12e+01    \n",
      "      210            263        1.0280e+02      2.24e-01       2.50e-03       2.96e+02    \n",
      "      211            267        1.0277e+02      3.50e-02       2.15e-04       1.47e+02    \n",
      "      212            268        1.0276e+02      1.02e-02       2.21e-04       2.08e+01    \n",
      "      213            269        1.0275e+02      8.40e-03       7.19e-05       2.08e+01    \n",
      "      214            270        1.0273e+02      1.68e-02       1.92e-04       2.17e+01    \n",
      "      215            271        1.0270e+02      3.35e-02       3.93e-04       2.07e+01    \n",
      "      216            272        1.0263e+02      6.68e-02       7.35e-04       3.17e+01    \n",
      "      217            273        1.0252e+02      1.15e-01       1.96e-03       1.68e+02    \n",
      "      218            276        1.0249e+02      2.43e-02       4.90e-04       2.07e+01    \n",
      "      219            277        1.0247e+02      1.62e-02       1.37e-04       3.60e+01    \n",
      "      220            278        1.0244e+02      3.05e-02       5.33e-04       4.32e+01    \n",
      "      221            280        1.0243e+02      1.47e-02       2.67e-04       5.73e+01    \n",
      "      222            281        1.0242e+02      5.47e-03       3.61e-04       1.02e+02    \n",
      "      223            282        1.0241e+02      1.70e-02       4.13e-04       4.32e+01    \n",
      "      224            283        1.0239e+02      1.51e-02       3.04e-04       2.07e+01    \n",
      "      225            284        1.0237e+02      2.55e-02       3.42e-04       1.18e+02    \n",
      "      226            286        1.0236e+02      6.69e-03       2.21e-04       2.06e+01    \n",
      "      227            287        1.0235e+02      8.36e-03       8.10e-05       2.02e+01    \n",
      "      228            288        1.0233e+02      1.66e-02       1.84e-04       2.43e+01    \n",
      "      229            289        1.0230e+02      3.30e-02       4.18e-04       2.02e+01    \n",
      "      230            290        1.0224e+02      6.39e-02       6.39e-04       7.62e+01    \n",
      "      231            293        1.0223e+02      5.09e-03       2.07e-04       2.71e+01    \n",
      "      232            294        1.0222e+02      8.43e-03       1.02e-04       2.01e+01    \n",
      "      233            295        1.0221e+02      1.64e-02       1.71e-04       2.63e+01    \n",
      "      234            296        1.0218e+02      3.27e-02       4.39e-04       2.02e+01    \n",
      "      235            297        1.0212e+02      5.83e-02       5.58e-04       1.26e+02    \n",
      "      236            300        1.0211e+02      7.40e-03       2.22e-04       2.03e+01    \n",
      "The maximum number of function evaluations is exceeded.\n",
      "Function evaluations 300, initial cost 2.0835e+04, final cost 1.0211e+02, first-order optimality 2.03e+01.\n"
     ]
    }
   ],
   "source": [
    "def cost_function(x, strikes, mkt_prices):\n",
    "    sigma, theta, nu = x\n",
    "    VG = VG_pricer(S0, None, T, r, q, sigma, theta, nu, exercise)\n",
    "    prices = []\n",
    "    for k in strikes:\n",
    "        prices.append(VG.closed_formula_call(k))\n",
    "    sq_err = np.sum(c_weights*(prices - mkt_prices)**2)\n",
    "    return sq_err\n",
    "\n",
    "start2=time.time()\n",
    "vg2 = scpo.least_squares(cost_function, x0, args=(call_strikes, call_prices),  method='trf', bounds=bounds, verbose=1, loss='soft_l1')\n",
    "end2=time.time()\n",
    "\n",
    "vg_params2 = [round(p,4) for p in vg2.x[:3]]"
   ],
   "metadata": {
    "collapsed": false
   }
  },
  {
   "cell_type": "code",
   "execution_count": 26,
   "outputs": [
    {
     "name": "stdout",
     "output_type": "stream",
     "text": [
      "WEIGHTED OPT: CURVE_FIT (trf)\n",
      "> Calibrated Volatlity [σ] = 0.0055, \t 0.55%\n",
      "> Calibrated mean rate gamma process [θ] =  -0.8304\n",
      "> Calibrated variance rate gamma process [v]=  0.0294\n",
      "TIME ELAPSED:  144.11 sec\n",
      "METHOD 1: LEAST-SQUARES (trf)\n",
      "> Calibrated Volatlity [σ] = 0.1259, \t 12.59%\n",
      "> Calibrated mean rate gamma process [θ] =  0.1715\n",
      "> Calibrated variance rate gamma process [v]=  0.1711\n",
      "TIME ELAPSED:  347.39 sec\n"
     ]
    }
   ],
   "source": [
    "print('WEIGHTED OPT: CURVE_FIT (trf)')\n",
    "print(f'> Calibrated Volatlity [σ] = {vg_params1[0]}, \\t {round(vg_params1[0]*100,2)}%')\n",
    "print('> Calibrated mean rate gamma process [θ] = ', vg_params1[1])\n",
    "print('> Calibrated variance rate gamma process [v]= ', vg_params1[2])\n",
    "print(f'TIME ELAPSED:  {round(end1-start1,2)} sec')\n",
    "\n",
    "print('METHOD 1: LEAST-SQUARES (trf)')\n",
    "print(f'> Calibrated Volatlity [σ] = {vg_params2[0]}, \\t {round(vg_params2[0]*100,2)}%')\n",
    "print('> Calibrated mean rate gamma process [θ] = ', vg_params2[1])\n",
    "print('> Calibrated variance rate gamma process [v]= ', vg_params2[2])\n",
    "print(f'TIME ELAPSED:  {round(end2-start2,2)} sec')"
   ],
   "metadata": {
    "collapsed": false
   }
  },
  {
   "cell_type": "code",
   "execution_count": 27,
   "outputs": [
    {
     "name": "stdout",
     "output_type": "stream",
     "text": [
      "[0.0055, -0.8304, 0.0294]\n",
      "[0.1259, 0.1715, 0.1711]\n"
     ]
    }
   ],
   "source": [
    "print(vg_params1)\n",
    "print(vg_params2)\n",
    "calls_vg_params_spx = vg_params2\n",
    "%store calls_vg_params_spx"
   ],
   "metadata": {
    "collapsed": false
   }
  },
  {
   "cell_type": "markdown",
   "source": [
    "### Reprice options using calibrated parameters\n",
    "Once we have calibrated all the models, we test our parameters calibration by repricing the original dataframe of options. The table contains all the **BID**, **ASK** and **MIDPOINT** prices. The calibration is well perfromed if the prices we obtain belong to the interval $[BID, ASK]$."
   ],
   "metadata": {
    "collapsed": false
   }
  },
  {
   "cell_type": "code",
   "execution_count": 35,
   "outputs": [
    {
     "name": "stdout",
     "output_type": "stream",
     "text": [
      "MARKET PRICES. STARTING DATE = 20-01-2016. EXPIRY = 1YEAR. \n",
      "\n",
      "    STRIKE  MKT_BID  MKT_MID  MKT_ASK\n",
      "0   1450.0   428.40  430.500   432.60\n",
      "1   1525.0   367.60  369.600   371.60\n",
      "2   1600.0   309.29  311.240   313.19\n",
      "3   1625.0   290.60  292.505   294.41\n",
      "4   1650.0   272.29  274.200   276.11\n",
      "5   1700.0   237.10  238.900   240.70\n",
      "6   1725.0   220.00  221.855   223.71\n",
      "7   1750.0   203.50  205.300   207.10\n",
      "8   1800.0   171.80  173.500   175.20\n",
      "9   1850.0   142.59  144.250   145.91\n",
      "10  1925.0   103.00  104.550   106.10\n",
      "11  1950.0    91.20   92.745    94.29\n",
      "12  2000.0    70.00   71.455    72.91\n",
      "13  2025.0    60.40   61.800    63.20\n",
      "14  2125.0    29.70   30.900    32.10\n",
      "15  2150.0    24.11   25.305    26.50\n",
      "16  2200.0    15.21   16.255    17.30\n",
      "17  2250.0     8.89    9.945    11.00\n",
      "18  2350.0     2.44    3.470     4.50\n",
      "19  2375.0     1.64    2.670     3.70\n",
      "20  2400.0     1.05    2.080     3.11\n",
      "21  2425.0     0.54    1.270     2.00\n"
     ]
    }
   ],
   "source": [
    "days = 252\n",
    "paths = 1000\n",
    "\n",
    "call_calib_prices = pd.DataFrame({\n",
    "    'STRIKE': calls['STRIKE'],    # array of K for call options\n",
    "    'MKT_BID': calls['C_BID'],\n",
    "    'MKT_MID': calls['C_Midpoint'],\n",
    "    'MKT_ASK': calls['C_ASK'],\n",
    "\n",
    "})\n",
    "print(f'MARKET PRICES. STARTING DATE = 20-01-2016. EXPIRY = 1YEAR. \\n\\n{call_calib_prices}')"
   ],
   "metadata": {
    "collapsed": false
   }
  },
  {
   "cell_type": "markdown",
   "source": [
    "#### Merton Jump Diffusion model"
   ],
   "metadata": {
    "collapsed": false
   }
  },
  {
   "cell_type": "code",
   "execution_count": 36,
   "outputs": [
    {
     "name": "stdout",
     "output_type": "stream",
     "text": [
      "    STRIKE  MKT_BID  MKT_MID  MKT_ASK   MERTON MC   MERTON CF\n",
      "0   1450.0   428.40  430.500   432.60  457.285283  456.517677\n",
      "1   1525.0   367.60  369.600   371.60  399.058551  387.617720\n",
      "2   1600.0   309.29  311.240   313.19  340.831819  321.425475\n",
      "3   1625.0   290.60  292.505   294.41  321.422909  300.172844\n",
      "4   1650.0   272.29  274.200   276.11  302.013998  279.411102\n",
      "5   1700.0   237.10  238.900   240.70  263.196177  239.578306\n",
      "6   1725.0   220.00  221.855   223.71  245.183910  220.617445\n",
      "7   1750.0   203.50  205.300   207.10  228.201113  202.365501\n",
      "8   1800.0   171.80  173.500   175.20  194.235519  168.187220\n",
      "9   1850.0   142.59  144.250   145.91  171.929460  137.391290\n",
      "10  1925.0   103.00  104.550   106.10  142.816094   98.029192\n",
      "11  1950.0    91.20   92.745    94.29  133.111639   86.773320\n",
      "12  2000.0    70.00   71.455    72.91  113.702728   67.012334\n",
      "13  2025.0    60.40   61.800    63.20  104.306732   58.460897\n",
      "14  2125.0    29.70   30.900    32.10   75.193366   32.246576\n",
      "15  2150.0    24.11   25.305    26.50   67.915024   27.454619\n",
      "16  2200.0    15.21   16.255    17.30   54.974386   19.618098\n",
      "17  2250.0     8.89    9.945    11.00   50.122158   13.757982\n",
      "18  2350.0     2.44    3.470     4.50   40.417703    6.409802\n",
      "19  2375.0     1.64    2.670     3.70   37.991589    5.238614\n",
      "20  2400.0     1.05    2.080     3.11   35.565475    4.263652\n",
      "21  2425.0     0.54    1.270     2.00   33.139362    3.456047\n"
     ]
    }
   ],
   "source": [
    "#mert_params2 = [0.114, 0.4987, -0.0956, 0.0733]\n",
    "sigma, lambd, meanJ, stdJ = mert_params2\n",
    "MertonCAL = Merton_pricer(S0, None, T, r, q, sigma, lambd, meanJ, stdJ, exercise)\n",
    "SMerton_CAL = MertonCAL.MertonPath(days, paths)\n",
    "\n",
    "avg_payoffs = []\n",
    "for k in call_strikes:\n",
    "    payoffs = []        # stores here the payoff for each path, for a specific couple K1-K2\n",
    "    for St in SMerton_CAL[-1]:\n",
    "        payoffs.append(MertonCAL.payoff_call(k, St))\n",
    "    avg_payoffs.append(np.mean(payoffs))\n",
    "\n",
    "merton_mc_prices = np.zeros(len(call_calib_prices))\n",
    "merton_cf_prices = np.zeros(len(call_calib_prices))\n",
    "\n",
    "for index in range(len(call_calib_prices)):\n",
    "    merton_mc_prices[index] = np.exp(-r*T)* avg_payoffs[index]\n",
    "    merton_cf_prices[index] = MertonCAL.closed_formula_call(call_strikes[index])\n",
    "\n",
    "call_calib_prices['MERTON MC'] = merton_mc_prices\n",
    "call_calib_prices['MERTON CF'] = merton_cf_prices\n",
    "\n",
    "print(call_calib_prices)"
   ],
   "metadata": {
    "collapsed": false
   }
  },
  {
   "cell_type": "code",
   "execution_count": 68,
   "outputs": [
    {
     "name": "stdout",
     "output_type": "stream",
     "text": [
      "    STRIKE  MKT_BID  MKT_MID  MKT_ASK      KOU MC      KOU CF\n",
      "0   1450.0   428.40  430.500   432.60  445.253616  455.788336\n",
      "1   1525.0   367.60  369.600   371.60  372.470201  385.921796\n",
      "2   1600.0   309.29  311.240   313.19  299.686786  318.481675\n",
      "3   1625.0   290.60  292.505   294.41  275.425647  296.797584\n",
      "4   1650.0   272.29  274.200   276.11  251.164509  275.619836\n",
      "5   1700.0   237.10  238.900   240.70  208.709124  235.061355\n",
      "6   1725.0   220.00  221.855   223.71  189.300214  215.818942\n",
      "7   1750.0   203.50  205.300   207.10  172.128167  197.355484\n",
      "8   1800.0   171.80  173.500   175.20  141.856617  162.995703\n",
      "9   1850.0   142.59  144.250   145.91  116.728751  132.359580\n",
      "10  1925.0   103.00  104.550   106.10   87.605286   93.812697\n",
      "11  1950.0    91.20   92.745    94.29   79.429777   82.945845\n",
      "12  2000.0    70.00   71.455    72.91   64.873094   64.065970\n",
      "13  2025.0    60.40   61.800    63.20   57.594753   55.980991\n",
      "14  2125.0    29.70   30.900    32.10   37.323712   31.543592\n",
      "15  2150.0    24.11   25.305    26.50   32.471485   27.131718\n",
      "16  2200.0    15.21   16.255    17.30   27.504446   19.943303\n",
      "17  2250.0     8.89    9.945    11.00   22.652219   14.572278\n",
      "18  2350.0     2.44    3.470     4.50   12.947763    7.760688\n",
      "19  2375.0     1.64    2.670     3.70   10.521650    6.647341\n",
      "20  2400.0     1.05    2.080     3.11    8.095536    5.706324\n",
      "21  2425.0     0.54    1.270     2.00    5.669422    4.912141\n"
     ]
    }
   ],
   "source": [
    "# kou_params2 = [0.1192, 0.2314, 0.1675, 8.8496, 10.1685]\n",
    "sigma, lambd, p, eta1, eta2 = kou_params2\n",
    "KouCAL = Kou_pricer(S0, None, T, r, sigma, lambd, p, eta1, eta2, exercise)\n",
    "SKou_CAL = KouCAL.KouPath(days, paths)\n",
    "\n",
    "avg_payoffs = []\n",
    "for k in call_strikes:\n",
    "    payoffs = []        # stores here the payoff for each path, for a specific couple K1-K2\n",
    "    for St in SKou_CAL[-1]:\n",
    "        payoffs.append(KouCAL.payoff_call(k, St))\n",
    "    avg_payoffs.append(np.mean(payoffs))\n",
    "\n",
    "kou_mc_prices = np.zeros(len(call_calib_prices))\n",
    "kou_cf_prices = np.zeros(len(call_calib_prices))\n",
    "\n",
    "for index in range(len(call_calib_prices)):\n",
    "    kou_mc_prices[index] = np.exp(-r*T)* avg_payoffs[index]\n",
    "    kou_cf_prices[index] = KouCAL.closed_formula_call(call_strikes[index])\n",
    "\n",
    "call_calib_prices['KOU MC'] = kou_mc_prices\n",
    "call_calib_prices['KOU CF'] = kou_cf_prices\n",
    "\n",
    "selection = [0,1,2,3,6,7]\n",
    "print(call_calib_prices.iloc[:, selection])"
   ],
   "metadata": {
    "collapsed": false
   }
  },
  {
   "cell_type": "code",
   "execution_count": 69,
   "outputs": [
    {
     "name": "stdout",
     "output_type": "stream",
     "text": [
      "    STRIKE  MKT_BID  MKT_MID  MKT_ASK       VG MC       VG CF\n",
      "0   1450.0   428.40  430.500   432.60  586.852010  457.361482\n",
      "1   1525.0   367.60  369.600   371.60  514.068595  388.858239\n",
      "2   1600.0   309.29  311.240   313.19  441.285180  323.094241\n",
      "3   1625.0   290.60  292.505   294.41  417.024041  301.973756\n",
      "4   1650.0   272.29  274.200   276.11  392.762903  281.329870\n",
      "5   1700.0   237.10  238.900   240.70  344.240626  241.664478\n",
      "6   1725.0   220.00  221.855   223.71  319.979488  222.740290\n",
      "7   1750.0   203.50  205.300   207.10  295.718350  204.485829\n",
      "8   1800.0   171.80  173.500   175.20  250.002962  170.168138\n",
      "9   1850.0   142.59  144.250   145.91  208.766195  139.043824\n",
      "10  1925.0   103.00  104.550   106.10  165.820829   98.888465\n",
      "11  1950.0    91.20   92.745    94.29  153.690260   87.318094\n",
      "12  2000.0    70.00   71.455    72.91  129.429122   66.916692\n",
      "13  2025.0    60.40   61.800    63.20  119.441828   58.062199\n",
      "14  2125.0    29.70   30.900    32.10   85.073896   30.968708\n",
      "15  2150.0    24.11   25.305    26.50   80.871691   26.067338\n",
      "16  2200.0    15.21   16.255    17.30   76.019464   18.148521\n",
      "17  2250.0     8.89    9.945    11.00   71.167236   12.360203\n",
      "18  2350.0     2.44    3.470     4.50   61.462781    5.414077\n",
      "19  2375.0     1.64    2.670     3.70   59.036667    4.360324\n",
      "20  2400.0     1.05    2.080     3.11   56.610553    3.499796\n",
      "21  2425.0     0.54    1.270     2.00   54.184439    2.800481\n"
     ]
    }
   ],
   "source": [
    "# vg_params2 =[0.1259, 0.1715, 0.1711]\n",
    "sigm, theta, nu = vg_params2\n",
    "VGCAL = VG_pricer(S0, None, T, r, q, sigm, theta, nu, exercise)\n",
    "SVarGamma_CAL = VGCAL.VarianceGammaPath2(days, paths)\n",
    "\n",
    "avg_payoffs = []\n",
    "for k in call_strikes:\n",
    "    payoffs = []        # stores here the payoff for each path, for a specific couple K1-K2\n",
    "    for St in SVarGamma_CAL[-1]:\n",
    "        payoffs.append(VGCAL.payoff_call(k, St))\n",
    "    avg_payoffs.append(np.mean(payoffs))\n",
    "\n",
    "vg_mc_prices = np.zeros(len(call_calib_prices))\n",
    "vg_cf_prices = np.zeros(len(call_calib_prices))\n",
    "\n",
    "for index in range(len(call_calib_prices)):\n",
    "    vg_mc_prices[index] = np.exp(-r*T)* avg_payoffs[index]\n",
    "    vg_cf_prices[index] = VGCAL.closed_formula_call(call_strikes[index])\n",
    "\n",
    "call_calib_prices['VG MC'] = vg_mc_prices\n",
    "call_calib_prices['VG CF'] = vg_cf_prices\n",
    "\n",
    "selection = [0,1,2,3,8,9]\n",
    "print(call_calib_prices.iloc[:, selection])"
   ],
   "metadata": {
    "collapsed": false
   }
  },
  {
   "cell_type": "code",
   "execution_count": 70,
   "outputs": [
    {
     "name": "stdout",
     "output_type": "stream",
     "text": [
      "    STRIKE  MKT_BID  MKT_MID  MKT_ASK   MERTON MC   MERTON CF      KOU MC   \n",
      "0   1450.0   428.40  430.500   432.60  457.285283  456.517677  445.253616  \\\n",
      "1   1525.0   367.60  369.600   371.60  399.058551  387.617720  372.470201   \n",
      "2   1600.0   309.29  311.240   313.19  340.831819  321.425475  299.686786   \n",
      "3   1625.0   290.60  292.505   294.41  321.422909  300.172844  275.425647   \n",
      "4   1650.0   272.29  274.200   276.11  302.013998  279.411102  251.164509   \n",
      "5   1700.0   237.10  238.900   240.70  263.196177  239.578306  208.709124   \n",
      "6   1725.0   220.00  221.855   223.71  245.183910  220.617445  189.300214   \n",
      "7   1750.0   203.50  205.300   207.10  228.201113  202.365501  172.128167   \n",
      "8   1800.0   171.80  173.500   175.20  194.235519  168.187220  141.856617   \n",
      "9   1850.0   142.59  144.250   145.91  171.929460  137.391290  116.728751   \n",
      "10  1925.0   103.00  104.550   106.10  142.816094   98.029192   87.605286   \n",
      "11  1950.0    91.20   92.745    94.29  133.111639   86.773320   79.429777   \n",
      "12  2000.0    70.00   71.455    72.91  113.702728   67.012334   64.873094   \n",
      "13  2025.0    60.40   61.800    63.20  104.306732   58.460897   57.594753   \n",
      "14  2125.0    29.70   30.900    32.10   75.193366   32.246576   37.323712   \n",
      "15  2150.0    24.11   25.305    26.50   67.915024   27.454619   32.471485   \n",
      "16  2200.0    15.21   16.255    17.30   54.974386   19.618098   27.504446   \n",
      "17  2250.0     8.89    9.945    11.00   50.122158   13.757982   22.652219   \n",
      "18  2350.0     2.44    3.470     4.50   40.417703    6.409802   12.947763   \n",
      "19  2375.0     1.64    2.670     3.70   37.991589    5.238614   10.521650   \n",
      "20  2400.0     1.05    2.080     3.11   35.565475    4.263652    8.095536   \n",
      "21  2425.0     0.54    1.270     2.00   33.139362    3.456047    5.669422   \n",
      "\n",
      "        KOU CF       VG MC       VG CF  \n",
      "0   455.788336  586.852010  457.361482  \n",
      "1   385.921796  514.068595  388.858239  \n",
      "2   318.481675  441.285180  323.094241  \n",
      "3   296.797584  417.024041  301.973756  \n",
      "4   275.619836  392.762903  281.329870  \n",
      "5   235.061355  344.240626  241.664478  \n",
      "6   215.818942  319.979488  222.740290  \n",
      "7   197.355484  295.718350  204.485829  \n",
      "8   162.995703  250.002962  170.168138  \n",
      "9   132.359580  208.766195  139.043824  \n",
      "10   93.812697  165.820829   98.888465  \n",
      "11   82.945845  153.690260   87.318094  \n",
      "12   64.065970  129.429122   66.916692  \n",
      "13   55.980991  119.441828   58.062199  \n",
      "14   31.543592   85.073896   30.968708  \n",
      "15   27.131718   80.871691   26.067338  \n",
      "16   19.943303   76.019464   18.148521  \n",
      "17   14.572278   71.167236   12.360203  \n",
      "18    7.760688   61.462781    5.414077  \n",
      "19    6.647341   59.036667    4.360324  \n",
      "20    5.706324   56.610553    3.499796  \n",
      "21    4.912141   54.184439    2.800481  \n"
     ]
    }
   ],
   "source": [
    "print(call_calib_prices.head(5))"
   ],
   "metadata": {
    "collapsed": false
   }
  },
  {
   "cell_type": "markdown",
   "source": [
    "### Visualize calibration results"
   ],
   "metadata": {
    "collapsed": false
   }
  },
  {
   "cell_type": "markdown",
   "source": [
    "#### Closed Formulas Option pricing"
   ],
   "metadata": {
    "collapsed": false
   }
  },
  {
   "cell_type": "code",
   "execution_count": 71,
   "outputs": [
    {
     "data": {
      "text/plain": "<Figure size 1700x400 with 3 Axes>",
      "image/png": "[encoded data removed]"
     },
     "metadata": {},
     "output_type": "display_data"
    }
   ],
   "source": [
    "fig, ax = plt.subplots(ncols = 1, figsize=(17, 4))\n",
    "ax[0].plot(call_strikes, merton_cf_prices, label=\"Merton\")\n",
    "ax[1].plot(call_strikes, kou_cf_prices, label=\"Kou\")\n",
    "ax[2].plot(call_strikes, vg_cf_prices, label=\"VG\")\n",
    "ax[0].set_title(\"Merton model. Closed formulas pricing\"); ax[1].set_title(\"Kou model. Closed formulas pricing\"); ax[2].set_title(\"VG model. Closed formulas pricing\")\n",
    "for i in range(3):\n",
    "    ax[i].plot(call_strikes, call_prices, \".\", label=\"midpoint\")\n",
    "    ax[i].set_xlabel(\"strike\")\n",
    "    ax[i].legend(); ax[i].grid()\n",
    "plt.show()"
   ],
   "metadata": {
    "collapsed": false
   }
  },
  {
   "cell_type": "markdown",
   "source": [
    "#### Monte Carlo option pricing"
   ],
   "metadata": {
    "collapsed": false
   }
  },
  {
   "cell_type": "code",
   "execution_count": 72,
   "outputs": [
    {
     "data": {
      "text/plain": "<Figure size 1700x400 with 3 Axes>",
      "image/png": "[encoded data removed]"
     },
     "metadata": {},
     "output_type": "display_data"
    }
   ],
   "source": [
    "fig, ax = plt.subplots(ncols=3, figsize=(17, 4))\n",
    "\n",
    "ax[0].plot(call_strikes, merton_mc_prices, label=\"Merton\")\n",
    "ax[1].plot(call_strikes, kou_mc_prices, label=\"Kou\")\n",
    "ax[2].plot(call_strikes, vg_mc_prices, label=\"VG\")\n",
    "ax[0].set_title(\"Merton model. Monte Carlo pricing\"); ax[1].set_title(\"Kou model. Monte Carlo pricing\"); ax[2].set_title(\"VG model. Monte Carlo pricing\")\n",
    "\n",
    "for i in range(3): \n",
    "    ax[i].plot(call_strikes, call_prices, \".\", label=\"midpoint\")\n",
    "    ax[i].set_xlabel(\"strike\")\n",
    "    x[i].legend(); ax[i].grid()\n",
    "\n",
    "plt.show()"
   ],
   "metadata": {
    "collapsed": false
   }
  },
  {
   "cell_type": "code",
   "execution_count": null,
   "outputs": [],
   "source": [],
   "metadata": {
    "collapsed": false
   }
  }
 ],
 "metadata": {
  "kernelspec": {
   "display_name": "Python 3",
   "language": "python",
   "name": "python3"
  },
  "language_info": {
   "codemirror_mode": {
    "name": "ipython",
    "version": 2
   },
   "file_extension": ".py",
   "mimetype": "text/x-python",
   "name": "python",
   "nbconvert_exporter": "python",
   "pygments_lexer": "ipython2",
   "version": "2.7.6"
  }
 },
 "nbformat": 4,
 "nbformat_minor": 0
}
