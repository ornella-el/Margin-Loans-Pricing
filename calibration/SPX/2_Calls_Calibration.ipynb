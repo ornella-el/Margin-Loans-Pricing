{
 "cells": [
  {
   "cell_type": "markdown",
   "source": [
    "# Calibration of the 4 models using CALL OPTIONS\n",
    "This notebook aims to find the optimal parameters of **Black-Scholes**, **Merton Jump Diffusion**, **Kou Jump Diffusion** and **Variance Gamma** models. To do so, we compute the european option prices using **closed formulas**, available for all the 4 models, and the **Fast Fourier Transform** for the VG model. Given these theoretical prices, the **implied volatilities** are computed comparing them with real market prices, minimizing their difference. Then we estimate the additional parameters of each model, using the python module `scipy.optimize`.\n",
    "\n",
    "*reference: https://github.com/cantaro86/Financial-Models-Numerical-Methods/tree/master*"
   ],
   "metadata": {
    "collapsed": false
   }
  },
  {
   "cell_type": "code",
   "execution_count": 1,
   "metadata": {
    "collapsed": true
   },
   "outputs": [],
   "source": [
    "from functions.MERTONpricer import Merton_pricer\n",
    "from functions.BSpricer import BS_Pricer\n",
    "from functions.KOUpricer import Kou_pricer\n",
    "from functions.VGpricer import VG_pricer\n",
    "\n",
    "import numpy as np\n",
    "import pandas as pd\n",
    "import matplotlib.pyplot as plt\n",
    "import random\n",
    "import scipy as scp\n",
    "import scipy.stats as ss\n",
    "import scipy.optimize as scpo\n",
    "import time\n",
    "\n",
    "random.seed(120)"
   ]
  },
  {
   "cell_type": "markdown",
   "source": [
    "Let's start retrieving historical prices for **european call** options starting from date **2016-01-20** and expiring **1 year** later. All the data have been collected from [OptionsDX](https://www.optionsdx.com/shop/) and preprocessed in `plainvanilla.py` module. The options that will be used in this notebook are all Out-Of-The-Money (OTM) options."
   ],
   "metadata": {
    "collapsed": false
   }
  },
  {
   "cell_type": "code",
   "execution_count": 2,
   "outputs": [
    {
     "name": "stdout",
     "output_type": "stream",
     "text": [
      "NUM OF CALL OPTS: 45\n",
      "    QUOTE_DATE  UNDERLYING_LAST EXPIRE_DATE   C_BID   C_ASK  STRIKE     C_IV\n",
      "0   2016-01-20          1859.48  2017-01-20  470.29  474.59  1400.0  0.26759\n",
      "1   2016-01-20          1859.48  2017-01-20  449.20  453.50  1425.0  0.26681\n",
      "2   2016-01-20          1859.48  2017-01-20  428.40  432.60  1450.0  0.26499\n",
      "3   2016-01-20          1859.48  2017-01-20  407.90  412.00  1475.0  0.26333\n",
      "4   2016-01-20          1859.48  2017-01-20  387.60  391.70  1500.0  0.26134\n",
      "5   2016-01-20          1859.48  2017-01-20  367.60  371.60  1525.0  0.25894\n",
      "6   2016-01-20          1859.48  2017-01-20  347.91  351.90  1550.0  0.25628\n",
      "7   2016-01-20          1859.48  2017-01-20  328.30  332.30  1575.0  0.25258\n",
      "8   2016-01-20          1859.48  2017-01-20  309.29  313.19  1600.0  0.25017\n",
      "9   2016-01-20          1859.48  2017-01-20  290.60  294.41  1625.0  0.24659\n",
      "10  2016-01-20          1859.48  2017-01-20  272.29  276.11  1650.0  0.24325\n",
      "11  2016-01-20          1859.48  2017-01-20  254.40  258.09  1675.0  0.23963\n",
      "12  2016-01-20          1859.48  2017-01-20  237.10  240.70  1700.0  0.23579\n",
      "13  2016-01-20          1859.48  2017-01-20  220.00  223.71  1725.0  0.23135\n",
      "14  2016-01-20          1859.48  2017-01-20  203.50  207.10  1750.0  0.22780\n",
      "15  2016-01-20          1859.48  2017-01-20  187.61  191.10  1775.0  0.22414\n",
      "16  2016-01-20          1859.48  2017-01-20  171.80  175.20  1800.0  0.21938\n",
      "17  2016-01-20          1859.48  2017-01-20  156.90  160.30  1825.0  0.21568\n",
      "18  2016-01-20          1859.48  2017-01-20  142.59  145.91  1850.0  0.21182\n",
      "19  2016-01-20          1859.48  2017-01-20  128.49  131.80  1875.0  0.20726\n",
      "20  2016-01-20          1859.48  2017-01-20  115.50  118.60  1900.0  0.20243\n",
      "21  2016-01-20          1859.48  2017-01-20  103.00  106.10  1925.0  0.19893\n",
      "22  2016-01-20          1859.48  2017-01-20   91.20   94.29  1950.0  0.19460\n",
      "23  2016-01-20          1859.48  2017-01-20   80.20   83.10  1975.0  0.18961\n",
      "24  2016-01-20          1859.48  2017-01-20   70.00   72.91  2000.0  0.18595\n",
      "25  2016-01-20          1859.48  2017-01-20   60.40   63.20  2025.0  0.18124\n",
      "26  2016-01-20          1859.48  2017-01-20   51.40   54.10  2050.0  0.17713\n",
      "27  2016-01-20          1859.48  2017-01-20   43.51   46.20  2075.0  0.17332\n",
      "28  2016-01-20          1859.48  2017-01-20   36.19   38.70  2100.0  0.16809\n",
      "29  2016-01-20          1859.48  2017-01-20   29.70   32.10  2125.0  0.16430\n",
      "30  2016-01-20          1859.48  2017-01-20   24.11   26.50  2150.0  0.15998\n",
      "31  2016-01-20          1859.48  2017-01-20   19.21   21.39  2175.0  0.15585\n",
      "32  2016-01-20          1859.48  2017-01-20   15.21   17.30  2200.0  0.15195\n",
      "33  2016-01-20          1859.48  2017-01-20   11.70   13.80  2225.0  0.14872\n",
      "34  2016-01-20          1859.48  2017-01-20    8.89   11.00  2250.0  0.14518\n",
      "35  2016-01-20          1859.48  2017-01-20    6.70    8.80  2275.0  0.14315\n",
      "36  2016-01-20          1859.48  2017-01-20    4.90    6.99  2300.0  0.14047\n",
      "37  2016-01-20          1859.48  2017-01-20    3.50    5.61  2325.0  0.13787\n",
      "38  2016-01-20          1859.48  2017-01-20    2.44    4.50  2350.0  0.13633\n",
      "39  2016-01-20          1859.48  2017-01-20    1.64    3.70  2375.0  0.13420\n",
      "40  2016-01-20          1859.48  2017-01-20    1.05    3.11  2400.0  0.13361\n",
      "41  2016-01-20          1859.48  2017-01-20    0.54    2.00  2425.0  0.12879\n",
      "42  2016-01-20          1859.48  2017-01-20    0.20    2.24  2450.0  0.13220\n",
      "43  2016-01-20          1859.48  2017-01-20    0.00    1.95  2475.0  0.13111\n",
      "44  2016-01-20          1859.48  2017-01-20    0.00    1.75  2500.0  0.13381\n"
     ]
    }
   ],
   "source": [
    "df_call = pd.read_csv('data/OPT16_SPX_CALLS_restricted.csv')\n",
    "print(f'NUM OF CALL OPTS: {df_call.shape[0]}')\n",
    "print(df_call)"
   ],
   "metadata": {
    "collapsed": false
   }
  },
  {
   "cell_type": "markdown",
   "source": [
    "The dataframes **df_calls** contains 373 options sorted by their strike price. For our purpose, using the $20\\%$ of this DFs is enough and can lead to very good results. Thus, we sample the rows and then reformulate the dataframe adding **Midpoint** and **Spread** columns."
   ],
   "metadata": {
    "collapsed": false
   }
  },
  {
   "cell_type": "code",
   "execution_count": 3,
   "outputs": [],
   "source": [
    "calls = df_call.sample(frac=0.5, replace=False).sort_index().reset_index(drop=True)\n",
    "calls['C_Midpoint'] = abs(calls['C_BID'] + calls['C_ASK']) / 2\n",
    "calls['C_Spread'] = calls['C_BID'] - calls['C_ASK']\n",
    "\n",
    "q = 0           # dividend yield\n",
    "r = 0.03        # risk-free interest rate\n",
    "sigma = 0.3     #volatility (variance of diffusion process)\n",
    "S0 = calls.iloc[0]['UNDERLYING_LAST']\n",
    "T = 1           # time-to-maturity\n",
    "call_strikes = calls['STRIKE']    # array of K for call options\n",
    "exercise = 'european'\n",
    "\n",
    "call_prices = calls['C_Midpoint']"
   ],
   "metadata": {
    "collapsed": false
   }
  },
  {
   "cell_type": "markdown",
   "source": [
    "The following code snippet initializes objects of class *BS_pricer*, *Merton_pricer*, *Kou_pricer*, *VG_pricer* with default values as parameters. These parameters serve only as initialization. Best fitting parameetrs will be calibrated consequently and used to correctly price the options according to each model."
   ],
   "metadata": {
    "collapsed": false
   }
  },
  {
   "cell_type": "code",
   "execution_count": 4,
   "outputs": [],
   "source": [
    "BS = BS_Pricer(S0=S0, r=r, q = q, sigma=sigma, ttm=T, exercise=exercise, K=None)\n",
    "Merton = Merton_pricer(S0=S0, K=None, ttm=T, r=r, q = q, sigma=0.15, lambd=0.5, meanJ=-0.1, stdJ=0.1, exercise=exercise)\n",
    "Kou = Kou_pricer(S0=S0, K=None, ttm=T, r=r, sigma=0.15, lambd=0.5, p=0.6, eta1=12, eta2=5, exercise=exercise)\n",
    "VG = VG_pricer(S0, K=None, ttm=T, r=r, q=q, sigma=0.15, theta=-0.2, nu=0.3, exercise=exercise)"
   ],
   "metadata": {
    "collapsed": false
   }
  },
  {
   "cell_type": "markdown",
   "source": [
    "## Implied volatility\n",
    "The function belows implements $3$ methods to comcalle implied volatility: [Newton](https://en.wikipedia.org/wiki/Newton%27s_method) method, the [Bisection](https://en.wikipedia.org/wiki/Bisection_method) method and a more advanced one, named [Brent](https://en.wikipedia.org/wiki/Brent%27s_method) method. Apart from the initial guess, there is no substantial difference in the final result between **Newton** and **bisection** methods (*fsolve*). The **Implied Volatility** is that value $\\sigma$ that must be inserted into the Black-Scholes (BS) formula in order to retrieve the option price quoted in the market:\n",
    "    $$ BS(S, K, T, r, \\sigma) = P,  $$\n",
    "where $S$ is the underlying spot price, $K$ is the strike, $T$ time to maturity, $r$ risk-free interest rate and $P$ the option price quoted in the market. All these quantities are **observable**.\n",
    "   "
   ],
   "metadata": {
    "collapsed": false
   }
  },
  {
   "cell_type": "code",
   "execution_count": 5,
   "outputs": [],
   "source": [
    "def implied_volatility(price, S, strike, t, rate, q, type_o, method='fsolve', disp=True ):\n",
    "    \"\"\" Returns Implied volatility\n",
    "        methods:  fsolve (default) or brent\n",
    "    \"\"\"\n",
    "\n",
    "    def obj_fun(vol):\n",
    "        return BS.BlackScholes(type_o=type_o, S0=S, K=strike, ttm=t, r=rate, q=q, sigma=vol) - price\n",
    "\n",
    "    def vega(vol):\n",
    "        return BS.vega(S, strike, rate, q, vol, t)\n",
    "\n",
    "    if method =='fsolve':\n",
    "        X0 = [0.01, 0.2, 0.35, 7]        #initial guess points for imp.vol.\n",
    "        for x_0 in X0:\n",
    "            x, _, solved, _ = scpo.fsolve(obj_fun, x_0, full_output=True, xtol=1e-8)\n",
    "            if solved == 1:\n",
    "                return x[0]\n",
    "\n",
    "    if disp:\n",
    "        return -1"
   ],
   "metadata": {
    "collapsed": false
   }
  },
  {
   "cell_type": "markdown",
   "source": [
    "The following code snippet computes the implied volatility of **call** options market prices and show a plot of the implied volatilities found by inversion method against the ones provided by the dataframe."
   ],
   "metadata": {
    "collapsed": false
   }
  },
  {
   "cell_type": "code",
   "execution_count": 6,
   "outputs": [
    {
     "name": "stdout",
     "output_type": "stream",
     "text": [
      "Implied volatilities of market prices (calls):\n",
      "S0 = 1859.48\n",
      "K = 2200.0, IV = 0.1546\n",
      "K = 2250.0, IV = 0.1474\n",
      "K = 2350.0, IV = 0.1374\n",
      "K = 2375.0, IV = 0.1359\n",
      "K = 2400.0, IV = 0.1349\n",
      "K = 2425.0, IV = 0.1295\n"
     ]
    },
    {
     "data": {
      "text/plain": "<Figure size 1000x500 with 1 Axes>",
      "image/png": "[encoded data removed]"
     },
     "metadata": {},
     "output_type": "display_data"
    }
   ],
   "source": [
    "IV_market = []\n",
    "for i in range(len(call_prices)):\n",
    "    IV_market.append(implied_volatility(call_prices[i], S=S0, strike=call_strikes[i], t = T, rate=0.03, q = 0.05, type_o='call', method='fsolve'))\n",
    "\n",
    "print(f'Implied volatilities of market prices (calls):\\nS0 = {S0}')\n",
    "for a,b in zip(call_strikes.tail(6), IV_market[-6:]):\n",
    "    print(f'K = {a}, IV = {round(b, 4)}')\n",
    "\n",
    "# Plot market implied volatilities w.r.t. log moneyness\n",
    "x = (S0/call_strikes)\n",
    "IV_filtered = [iv for iv in IV_market if iv != -1]\n",
    "x_filtered = [log_m for iv, log_m in zip(IV_market, x) if iv != -1]\n",
    "\n",
    "fig, ax1 = plt.subplots(figsize=(10,5))\n",
    "ax1.scatter(x, IV_market, marker='x', label='BS inversion', color='red')\n",
    "ax1.scatter(x, calls['C_IV'], marker='.', label='provided')\n",
    "ax1.set_xlabel('Moneyness: S0/K'); ax1.set_ylabel('Implied Volatility'); ax1.set_title('Calls volatility smile')\n",
    "ax1.legend(); plt.show()\n"
   ],
   "metadata": {
    "collapsed": false
   }
  },
  {
   "cell_type": "markdown",
   "source": [
    "##  Weighted Calibration (call options)\n",
    "Let's step now into the calibration of model parameters.\n",
    "If we define $\\Theta$ the set of parameters, the goal is to find the optimal parameters $\\Theta^*$ that minimize the following objective function:\n",
    "$$ \\sum_{i=1}^{N} w_i \\biggl( P_i - f(K_i|\\Theta) \\biggr)^2 $$\n",
    "where $w_i$ are weights, usually defined as\n",
    "$$ w_i = \\frac{1}{\\text {spread}_i },$$ $P_i$ are the market prices and $f$ is the pricing function. In our case $f$ is given by **Merton** Jump Diffusion model, **Kou** Jump Diffusion model, or **Variance Gamma** process. To perform this optimization problem, many numerical methods can be used. In particular, we test two functions of `scipy.optimize`:\n",
    "1. **curve_fit**, a least-squares curve fitting method which works with bounds. The default algorithm is [Trust Region Reflective (trf)](https://en.wikipedia.org/wiki/Trust_region). The [Levemberg-Marquadt](https://en.wikipedia.org/wiki/Levenberg%E2%80%93Marquardt_algorithm) has been tried as well, to test the optimization problem without setting boundaries, but the results don't make any sense.\n",
    "2. **Least-Squares**, a constrained minimization problem which uses Trust region reflective method by default. This method is the most indicated to solve the non-linear least squares optimization problem of our purpose.\n",
    "All the optimizations are carried out by initializing a starting point as the array $x_0 = [params]$ and setting feasible bounds.\n"
   ],
   "metadata": {
    "collapsed": false
   },
   "outputs": []
  },
  {
   "cell_type": "code",
   "execution_count": 7,
   "outputs": [],
   "source": [
    "call_spreads = calls['C_Spread']\n",
    "c_weights = 1/ call_spreads**2"
   ],
   "metadata": {
    "collapsed": false
   }
  },
  {
   "cell_type": "markdown",
   "source": [
    "### Black and Scholes model\n",
    "The only unknown parameter to calibrate in Black and Scholes model is the **implied volatility**, $\\sigma$. Thus, we minimize the difference between the computed theoretical prices and the market prices of call options."
   ],
   "metadata": {
    "collapsed": false
   }
  },
  {
   "cell_type": "code",
   "execution_count": 8,
   "outputs": [],
   "source": [
    "x0 = 0.5\n",
    "bounds = [1e-5, 2]\n",
    "\n",
    "def f_BlackScholes_calls(x, sigm):\n",
    "    BS = BS_Pricer(S0=S0, K = x, ttm=T, r=r, q=0, sigma=sigm, exercise=exercise)\n",
    "    return BS.closed_formula_call(x)\n",
    "\n",
    "res1_calls = scpo.curve_fit(f_BlackScholes_calls, call_strikes, call_prices, p0 = x0, bounds=bounds, sigma=c_weights)\n",
    "sigw_p = round(res1_calls[0][0],4)"
   ],
   "metadata": {
    "collapsed": false
   }
  },
  {
   "cell_type": "code",
   "execution_count": 9,
   "outputs": [
    {
     "name": "stdout",
     "output_type": "stream",
     "text": [
      "`ftol` termination condition is satisfied.\n",
      "Function evaluations 29, initial cost 1.5208e+10, final cost 7.6736e+03, first-order optimality 3.50e-01.\n"
     ]
    }
   ],
   "source": [
    "def cost_function(x, strikes, mkt_prices):\n",
    "    sigma = x\n",
    "    BS = BS_Pricer(S0=S0, K = None, ttm=T, r=r, q=0, sigma=sigma, exercise=exercise)\n",
    "    sq_err = np.sum(c_weights* (BS.closed_formula_call(strikes) - mkt_prices)**2)\n",
    "    return sq_err\n",
    "\n",
    "result_p = scpo.least_squares(cost_function, x0, args=(call_strikes, call_prices), bounds=bounds, method = 'trf', verbose=1)\n",
    "opt_sigma_p = result_p.x[0]"
   ],
   "metadata": {
    "collapsed": false
   }
  },
  {
   "cell_type": "code",
   "execution_count": 10,
   "outputs": [
    {
     "name": "stdout",
     "output_type": "stream",
     "text": [
      "METHOD 1: CURVE_FIT (trf)\n",
      "> Calibrated Volatility from Calls [σ] = 0.1405 \t 14.05%\n",
      "METHOD 2: LEAST-SQUARES (trf)\n",
      "> Calibrated Volatility from Calls [σ] = 0.13632740620792966 \t 13.63%\n"
     ]
    }
   ],
   "source": [
    "print('METHOD 1: CURVE_FIT (trf)')\n",
    "print(f'> Calibrated Volatility from Calls [σ] = {sigw_p} \\t {round(sigw_p*100,2)}%')\n",
    "print('METHOD 2: LEAST-SQUARES (trf)')\n",
    "print(f'> Calibrated Volatility from Calls [σ] = {opt_sigma_p} \\t {round(opt_sigma_p*100,2)}%')"
   ],
   "metadata": {
    "collapsed": false
   }
  },
  {
   "cell_type": "markdown",
   "source": [
    "### Merton Jump Diffusion\n",
    "The Merton Jump diffusion ones are the volatility $\\sigma$, the Poisson rate of jumps $\\lambda$, the mean rate of jump intensity $m$ and its variance rate $v$, assuming that the intensity of jumps follows a *Normal distribution*.\n"
   ],
   "metadata": {
    "collapsed": false
   }
  },
  {
   "cell_type": "code",
   "execution_count": 11,
   "outputs": [],
   "source": [
    "x0 = [0.15,  0.2, -0.05,  0.01]  # initial guess: [σ, λ, m, v]\n",
    "bounds = ( [1e-3, 1e-2, -5, 1e-5], [2, 5, 5, 2] )"
   ],
   "metadata": {
    "collapsed": false
   }
  },
  {
   "cell_type": "code",
   "execution_count": 12,
   "outputs": [],
   "source": [
    "def f_Mert(x, sigma, lambd, meanJ, stdJ):\n",
    "    Mert = Merton_pricer(S0=S0, K=x, ttm=T, r=r, q=0, sigma=sigma, lambd=lambd, meanJ=meanJ, stdJ=stdJ, exercise=exercise)\n",
    "    return Mert.closed_formula_call(x)\n",
    "\n",
    "start1=time.time()\n",
    "mert1 = scpo.curve_fit(f_Mert, call_strikes, call_prices, p0=x0, bounds=bounds, sigma=call_spreads)\n",
    "end1=time.time()\n",
    "\n",
    "mert_params1 = [round(p,4) for p in mert1[0][:4]]"
   ],
   "metadata": {
    "collapsed": false
   }
  },
  {
   "cell_type": "markdown",
   "source": [
    "##### Method 2. Least-squares"
   ],
   "metadata": {
    "collapsed": false
   }
  },
  {
   "cell_type": "code",
   "execution_count": 13,
   "outputs": [
    {
     "name": "stdout",
     "output_type": "stream",
     "text": [
      "   Iteration     Total nfev        Cost      Cost reduction    Step norm     Optimality   \n",
      "       0              1         3.4420e+05                                    3.27e+07    \n",
      "       1              2         9.7373e+04      2.47e+05       6.57e-02       1.72e+07    \n",
      "       2              3         3.1241e+04      6.61e+04       6.44e-02       3.93e+06    \n",
      "       3              4         1.3182e+04      1.81e+04       5.31e-02       2.12e+06    \n",
      "       4              5         1.0846e+04      2.34e+03       9.50e-02       3.35e+06    \n",
      "       5              6         6.3980e+03      4.45e+03       2.48e-02       2.18e+05    \n",
      "       6              8         6.2751e+03      1.23e+02       4.19e-03       1.05e+05    \n",
      "       7              9         6.1941e+03      8.09e+01       4.76e-03       1.44e+04    \n",
      "       8             10         6.1786e+03      1.56e+01       1.99e-03       3.50e+05    \n",
      "       9             11         6.1363e+03      4.23e+01       2.56e-03       2.52e+04    \n",
      "      10             12         6.1024e+03      3.39e+01       8.47e-04       6.07e+04    \n",
      "      11             13         6.0479e+03      5.44e+01       4.13e-03       3.74e+04    \n",
      "      12             15         6.0296e+03      1.83e+01       1.18e-03       1.02e+05    \n",
      "      13             16         6.0139e+03      1.57e+01       3.14e-03       5.42e+04    \n",
      "      14             17         6.0013e+03      1.26e+01       1.66e-03       1.12e+05    \n",
      "      15             18         5.9896e+03      1.17e+01       3.25e-03       6.96e+04    \n",
      "      16             19         5.9804e+03      9.21e+00       2.02e-03       1.17e+05    \n",
      "      17             20         5.9727e+03      7.70e+00       8.16e-04       6.37e+04    \n",
      "      18             21         5.9644e+03      8.35e+00       1.44e-03       6.95e+03    \n",
      "      19             22         5.9562e+03      8.10e+00       2.54e-04       4.39e+04    \n",
      "      20             23         5.9461e+03      1.01e+01       2.48e-03       6.80e+04    \n",
      "      21             24         5.9454e+03      6.93e-01       2.25e-03       1.35e+05    \n",
      "      22             25         5.9384e+03      7.03e+00       7.04e-04       4.47e+04    \n",
      "      23             26         5.9343e+03      4.07e+00       6.53e-04       1.35e+04    \n",
      "      24             27         5.9265e+03      7.81e+00       5.03e-04       1.80e+04    \n",
      "      25             28         5.9123e+03      1.42e+01       1.37e-03       5.28e+03    \n",
      "      26             30         5.9067e+03      5.59e+00       2.58e-04       4.36e+04    \n",
      "      27             31         5.9027e+03      3.95e+00       1.39e-03       3.85e+04    \n",
      "      28             32         5.8992e+03      3.53e+00       1.00e-03       6.03e+04    \n",
      "      29             34         5.8972e+03      1.97e+00       3.74e-04       2.62e+04    \n",
      "      30             35         5.8956e+03      1.62e+00       2.66e-04       1.32e+04    \n",
      "      31             36         5.8925e+03      3.11e+00       3.06e-04       6.83e+03    \n",
      "      32             37         5.8865e+03      6.03e+00       3.51e-04       1.53e+04    \n",
      "      33             38         5.8765e+03      9.94e+00       1.46e-03       3.81e+04    \n",
      "      34             40         5.8745e+03      1.98e+00       1.10e-03       6.62e+04    \n",
      "      35             41         5.8726e+03      1.96e+00       3.27e-04       1.75e+04    \n",
      "      36             42         5.8712e+03      1.42e+00       2.11e-04       7.78e+03    \n",
      "      37             43         5.8684e+03      2.80e+00       2.11e-04       6.56e+03    \n",
      "      38             44         5.8629e+03      5.50e+00       3.69e-04       7.81e+03    \n",
      "      39             45         5.8523e+03      1.05e+01       8.73e-04       5.74e+03    \n",
      "      40             47         5.8483e+03      4.01e+00       3.32e-04       4.05e+04    \n",
      "      41             49         5.8474e+03      8.83e-01       3.08e-04       5.51e+03    \n",
      "      42             50         5.8461e+03      1.30e+00       8.05e-05       6.11e+03    \n",
      "      43             51         5.8436e+03      2.58e+00       1.84e-04       4.34e+03    \n",
      "      44             52         5.8385e+03      5.09e+00       2.87e-04       7.90e+03    \n",
      "      45             53         5.8291e+03      9.42e+00       9.34e-04       2.29e+04    \n",
      "      46             55         5.8282e+03      8.72e-01       9.51e-04       7.02e+04    \n",
      "      47             56         5.8255e+03      2.73e+00       2.89e-04       1.62e+04    \n",
      "      48             57         5.8242e+03      1.23e+00       2.16e-04       3.37e+03    \n",
      "      49             58         5.8218e+03      2.46e+00       1.24e-04       6.21e+03    \n",
      "      50             59         5.8169e+03      4.83e+00       3.90e-04       2.92e+03    \n",
      "      51             60         5.8102e+03      6.76e+00       4.58e-04       6.42e+04    \n",
      "      52             62         5.8100e+03      1.94e-01       5.75e-04       4.57e+04    \n",
      "      53             63         5.8088e+03      1.15e+00       1.56e-04       3.07e+04    \n",
      "      54             64         5.8073e+03      1.54e+00       2.70e-04       3.64e+03    \n",
      "      55             65         5.8050e+03      2.28e+00       1.28e-04       1.66e+04    \n",
      "      56             66         5.8017e+03      3.30e+00       8.99e-04       3.83e+04    \n",
      "      57             67         5.8015e+03      1.70e-01       1.20e-03       7.58e+04    \n",
      "      58             68         5.7987e+03      2.88e+00       2.97e-04       2.13e+04    \n",
      "      59             69         5.7974e+03      1.21e+00       2.68e-04       4.07e+03    \n",
      "      60             70         5.7950e+03      2.40e+00       1.43e-04       6.34e+03    \n",
      "      61             71         5.7903e+03      4.72e+00       4.05e-04       2.56e+03    \n",
      "      62             72         5.7834e+03      6.96e+00       3.72e-04       5.96e+04    \n",
      "      63             75         5.7819e+03      1.47e+00       1.48e-04       3.24e+04    \n",
      "      64             76         5.7813e+03      6.38e-01       1.52e-04       1.02e+04    \n",
      "      65             77         5.7807e+03      5.86e-01       7.76e-05       6.43e+03    \n",
      "      66             78         5.7795e+03      1.16e+00       1.05e-04       3.63e+03    \n",
      "      67             79         5.7772e+03      2.30e+00       1.36e-04       5.19e+03    \n",
      "      68             80         5.7727e+03      4.55e+00       3.56e-04       2.47e+03    \n",
      "      69             81         5.7653e+03      7.39e+00       3.36e-04       4.97e+04    \n",
      "      70             84         5.7640e+03      1.28e+00       2.91e-04       4.84e+03    \n",
      "      71             85         5.7629e+03      1.10e+00       8.17e-05       6.67e+03    \n",
      "      72             86         5.7607e+03      2.21e+00       2.23e-04       2.42e+03    \n",
      "      73             87         5.7566e+03      4.05e+00       1.70e-04       2.53e+04    \n",
      "      74             90         5.7561e+03      5.27e-01       1.42e-04       4.44e+03    \n",
      "      75             91         5.7555e+03      5.53e-01       4.05e-05       3.91e+03    \n",
      "      76             92         5.7544e+03      1.10e+00       7.37e-05       3.54e+03    \n",
      "      77             93         5.7522e+03      2.20e+00       1.38e-04       3.66e+03    \n",
      "      78             94         5.7479e+03      4.36e+00       2.83e-04       2.48e+03    \n",
      "      79             95         5.7394e+03      8.54e+00       4.51e-04       1.10e+04    \n",
      "      80             97         5.7379e+03      1.44e+00       7.09e-04       5.89e+04    \n",
      "      81             98         5.7373e+03      5.91e-01       1.41e-03       7.39e+04    \n",
      "      82             99         5.7344e+03      2.89e+00       2.89e-04       1.67e+04    \n",
      "      83             100        5.7334e+03      1.04e+00       2.44e-04       2.29e+03    \n",
      "      84             101        5.7313e+03      2.09e+00       7.83e-05       1.08e+04    \n",
      "      85             102        5.7279e+03      3.35e+00       7.01e-04       3.11e+04    \n",
      "      86             104        5.7264e+03      1.52e+00       5.92e-04       2.80e+04    \n",
      "      87             106        5.7259e+03      5.28e-01       1.47e-04       4.82e+03    \n",
      "      88             107        5.7254e+03      5.28e-01       4.47e-05       3.84e+03    \n",
      "      89             108        5.7243e+03      1.05e+00       7.52e-05       3.30e+03    \n",
      "      90             109        5.7222e+03      2.10e+00       1.36e-04       3.66e+03    \n",
      "      91             110        5.7181e+03      4.16e+00       2.92e-04       2.22e+03    \n",
      "      92             111        5.7101e+03      7.94e+00       3.67e-04       2.20e+04    \n",
      "      93             114        5.7099e+03      2.22e-01       2.69e-04       2.30e+04    \n",
      "      94             115        5.7095e+03      3.60e-01       6.60e-05       1.61e+04    \n",
      "      95             116        5.7090e+03      5.83e-01       1.08e-04       4.29e+03    \n",
      "      96             117        5.7080e+03      9.94e-01       8.05e-05       6.90e+03    \n",
      "      97             118        5.7060e+03      1.97e+00       2.48e-04       5.24e+03    \n",
      "      98             119        5.7032e+03      2.76e+00       3.77e-04       4.40e+04    \n",
      "      99             121        5.7024e+03      8.37e-01       2.94e-04       1.23e+04    \n",
      "      100            122        5.7014e+03      9.72e-01       1.79e-04       8.41e+03    \n",
      "      101            123        5.6995e+03      1.92e+00       2.96e-04       7.42e+03    \n",
      "      102            124        5.6975e+03      2.02e+00       4.94e-04       5.44e+04    \n",
      "      103            126        5.6961e+03      1.39e+00       2.99e-04       2.86e+03    \n",
      "      104            127        5.6951e+03      9.94e-01       6.16e-05       7.22e+03    \n",
      "      105            128        5.6931e+03      1.97e+00       2.60e-04       4.19e+03    \n",
      "      106            129        5.6903e+03      2.84e+00       3.19e-04       4.27e+04    \n",
      "      107            131        5.6896e+03      6.46e-01       3.08e-04       1.25e+04    \n",
      "      108            132        5.6893e+03      2.95e-01       4.53e-05       7.13e+03    \n",
      "      109            133        5.6888e+03      5.23e-01       5.93e-05       2.10e+03    \n",
      "      110            134        5.6878e+03      1.00e+00       4.21e-05       5.51e+03    \n",
      "      111            135        5.6858e+03      1.99e+00       2.08e-04       2.10e+03    \n",
      "      112            136        5.6822e+03      3.63e+00       1.58e-04       2.47e+04    \n",
      "      113            139        5.6817e+03      4.63e-01       1.51e-04       3.82e+03    \n",
      "      114            140        5.6812e+03      4.95e-01       3.92e-05       3.52e+03    \n",
      "      115            141        5.6802e+03      9.87e-01       7.41e-05       3.37e+03    \n",
      "      116            142        5.6783e+03      1.96e+00       1.44e-04       3.35e+03    \n",
      "      117            143        5.6744e+03      3.90e+00       2.88e-04       2.54e+03    \n",
      "      118            144        5.6667e+03      7.65e+00       4.86e-04       8.77e+03    \n",
      "      119            146        5.6639e+03      2.88e+00       6.46e-04       3.38e+04    \n",
      "      120            148        5.6626e+03      1.23e+00       3.20e-04       2.01e+03    \n",
      "      121            149        5.6617e+03      9.31e-01       4.14e-05       4.88e+03    \n",
      "      122            150        5.6599e+03      1.84e+00       1.99e-04       3.99e+03    \n",
      "      123            151        5.6571e+03      2.74e+00       3.27e-04       3.95e+04    \n",
      "      124            153        5.6565e+03      5.59e-01       2.89e-04       1.86e+04    \n",
      "      125            154        5.6562e+03      3.08e-01       6.19e-05       1.18e+04    \n",
      "      126            155        5.6557e+03      5.02e-01       9.30e-05       1.98e+03    \n",
      "      127            156        5.6548e+03      9.25e-01       4.23e-05       5.64e+03    \n",
      "      128            157        5.6530e+03      1.82e+00       2.25e-04       4.70e+03    \n",
      "      129            158        5.6506e+03      2.40e+00       3.71e-04       4.55e+04    \n",
      "      130            160        5.6498e+03      8.14e-01       2.98e-04       1.32e+04    \n",
      "      131            161        5.6489e+03      8.63e-01       2.00e-04       1.01e+04    \n",
      "      132            162        5.6480e+03      8.98e-01       1.85e-04       1.96e+03    \n",
      "      133            163        5.6463e+03      1.73e+00       1.05e-04       1.54e+04    \n",
      "      134            165        5.6455e+03      7.57e-01       2.54e-04       8.06e+03    \n",
      "      135            166        5.6447e+03      8.59e-01       1.41e-04       9.76e+03    \n",
      "      136            167        5.6431e+03      1.60e+00       3.62e-04       1.43e+04    \n",
      "      137            169        5.6422e+03      8.43e-01       2.15e-04       1.01e+04    \n",
      "      138            170        5.6413e+03      8.77e-01       1.87e-04       2.69e+03    \n",
      "      139            171        5.6397e+03      1.66e+00       1.27e-04       1.67e+04    \n",
      "      140            173        5.6392e+03      4.63e-01       2.64e-04       1.70e+04    \n",
      "      141            174        5.6384e+03      8.54e-01       2.38e-04       9.71e+03    \n",
      "      142            175        5.6375e+03      8.75e-01       1.82e-04       2.51e+03    \n",
      "      143            176        5.6358e+03      1.66e+00       1.22e-04       1.65e+04    \n",
      "      144            178        5.6353e+03      4.96e-01       2.64e-04       1.60e+04    \n",
      "      145            179        5.6345e+03      8.38e-01       2.31e-04       1.01e+04    \n",
      "      146            180        5.6336e+03      8.65e-01       1.89e-04       2.86e+03    \n",
      "      147            181        5.6320e+03      1.63e+00       1.33e-04       1.75e+04    \n",
      "      148            183        5.6316e+03      4.14e-01       2.73e-04       1.78e+04    \n",
      "      149            184        5.6307e+03      8.49e-01       2.47e-04       9.74e+03    \n",
      "      150            185        5.6299e+03      8.63e-01       1.84e-04       2.69e+03    \n",
      "      151            186        5.6283e+03      1.62e+00       1.28e-04       1.73e+04    \n",
      "      152            188        5.6278e+03      4.50e-01       2.73e-04       1.68e+04    \n",
      "      153            189        5.6270e+03      8.31e-01       2.39e-04       1.02e+04    \n",
      "      154            190        5.6261e+03      8.53e-01       1.92e-04       3.07e+03    \n",
      "      155            191        5.6245e+03      1.59e+00       1.40e-04       1.84e+04    \n",
      "      156            193        5.6242e+03      3.67e-01       2.81e-04       1.86e+04    \n",
      "      157            194        5.6233e+03      8.45e-01       2.53e-04       9.76e+03    \n",
      "      158            195        5.6225e+03      8.52e-01       1.86e-04       2.83e+03    \n",
      "      159            196        5.6209e+03      1.59e+00       1.33e-04       1.81e+04    \n",
      "      160            198        5.6205e+03      4.16e-01       2.81e-04       1.74e+04    \n",
      "      161            199        5.6196e+03      8.24e-01       2.45e-04       1.03e+04    \n",
      "      162            200        5.6188e+03      8.41e-01       1.96e-04       3.29e+03    \n",
      "      163            201        5.6173e+03      1.55e+00       1.48e-04       1.93e+04    \n",
      "      164            203        5.6169e+03      3.20e-01       2.90e-04       1.94e+04    \n",
      "      165            204        5.6161e+03      8.43e-01       2.59e-04       9.76e+03    \n",
      "      166            205        5.6153e+03      8.42e-01       1.88e-04       2.95e+03    \n",
      "      167            206        5.6137e+03      1.56e+00       1.38e-04       1.88e+04    \n",
      "      168            208        5.6133e+03      3.89e-01       2.89e-04       1.77e+04    \n",
      "      169            209        5.6125e+03      8.15e-01       2.48e-04       1.05e+04    \n",
      "      170            210        5.6117e+03      8.29e-01       2.01e-04       3.55e+03    \n",
      "      171            211        5.6102e+03      1.50e+00       1.57e-04       2.04e+04    \n",
      "      172            213        5.6099e+03      2.73e-01       2.98e-04       2.01e+04    \n",
      "      173            214        5.6096e+03      3.06e-01       6.63e-05       1.26e+04    \n",
      "      174            215        5.6091e+03      4.74e-01       1.01e-04       1.80e+03    \n",
      "      175            216        5.6082e+03      8.63e-01       3.99e-05       6.03e+03    \n",
      "      176            217        5.6066e+03      1.68e+00       2.53e-04       6.52e+03    \n",
      "      177            218        5.6054e+03      1.21e+00       5.03e-04       6.03e+04    \n",
      "      178            220        5.6038e+03      1.59e+00       3.03e-04       1.78e+03    \n",
      "      179            221        5.6029e+03      8.56e-01       4.43e-05       7.12e+03    \n",
      "      180            222        5.6013e+03      1.64e+00       2.93e-04       8.70e+03    \n",
      "      181            223        5.6010e+03      2.75e-01       6.26e-04       7.13e+04    \n",
      "      182            224        5.5987e+03      2.27e+00       3.04e-04       9.53e+03    \n",
      "      183            225        5.5979e+03      8.40e-01       1.87e-04       2.13e+03    \n",
      "      184            226        5.5963e+03      1.55e+00       1.14e-04       1.88e+04    \n",
      "      185            228        5.5956e+03      7.61e-01       3.00e-04       6.04e+03    \n",
      "      186            229        5.5948e+03      7.94e-01       1.18e-04       1.08e+04    \n",
      "      187            230        5.5934e+03      1.37e+00       4.17e-04       1.86e+04    \n",
      "      188            231        5.5928e+03      5.90e-01       5.15e-04       4.01e+04    \n",
      "      189            232        5.5922e+03      6.67e-01       1.61e-04       1.12e+04    \n",
      "      190            233        5.5917e+03      4.34e-01       1.08e-04       3.66e+03    \n",
      "      191            234        5.5909e+03      8.58e-01       8.49e-05       2.54e+03    \n",
      "      192            235        5.5892e+03      1.71e+00       1.31e-04       4.63e+03    \n",
      "      193            236        5.5859e+03      3.29e+00       4.14e-04       9.65e+03    \n",
      "      194            238        5.5849e+03      9.28e-01       3.48e-04       3.38e+04    \n",
      "      195            240        5.5844e+03      5.16e-01       1.59e-04       5.46e+03    \n",
      "      196            241        5.5840e+03      4.21e-01       5.99e-05       2.76e+03    \n",
      "      197            242        5.5832e+03      8.41e-01       7.01e-05       2.90e+03    \n",
      "      198            243        5.5815e+03      1.67e+00       1.45e-04       2.36e+03    \n",
      "      199            244        5.5782e+03      3.32e+00       2.55e-04       5.00e+03    \n",
      "      200            245        5.5726e+03      5.55e+00       9.07e-04       3.96e+04    \n",
      "      201            248        5.5714e+03      1.26e+00       3.47e-04       1.81e+03    \n",
      "      202            249        5.5706e+03      7.88e-01       5.50e-05       6.78e+03    \n",
      "      203            250        5.5691e+03      1.44e+00       2.97e-04       1.36e+04    \n",
      "      204            252        5.5684e+03      6.74e-01       2.28e-04       1.31e+04    \n",
      "      205            253        5.5680e+03      4.11e-01       2.45e-04       1.85e+04    \n",
      "      206            254        5.5673e+03      7.05e-01       2.69e-04       1.22e+04    \n",
      "      207            255        5.5667e+03      5.93e-01       2.37e-04       1.24e+04    \n",
      "      208            256        5.5661e+03      6.74e-01       2.15e-04       1.32e+04    \n",
      "      209            257        5.5656e+03      5.15e-01       2.49e-04       1.49e+04    \n",
      "      210            258        5.5649e+03      6.75e-01       2.40e-04       1.32e+04    \n",
      "      211            259        5.5643e+03      5.61e-01       2.50e-04       1.33e+04    \n",
      "      212            260        5.5636e+03      6.70e-01       2.24e-04       1.34e+04    \n",
      "      213            261        5.5631e+03      5.66e-01       2.52e-04       1.30e+04    \n",
      "      214            262        5.5624e+03      6.68e-01       2.22e-04       1.34e+04    \n",
      "      215            263        5.5618e+03      5.76e-01       2.53e-04       1.26e+04    \n",
      "      216            264        5.5612e+03      6.67e-01       2.17e-04       1.35e+04    \n",
      "      217            265        5.5606e+03      5.82e-01       2.54e-04       1.24e+04    \n",
      "      218            266        5.5599e+03      6.65e-01       2.15e-04       1.35e+04    \n",
      "      219            267        5.5593e+03      5.83e-01       2.55e-04       1.23e+04    \n",
      "      220            268        5.5587e+03      6.63e-01       2.14e-04       1.36e+04    \n",
      "      221            269        5.5581e+03      5.81e-01       2.56e-04       1.23e+04    \n",
      "      222            270        5.5574e+03      6.60e-01       2.14e-04       1.36e+04    \n",
      "      223            271        5.5569e+03      5.78e-01       2.57e-04       1.24e+04    \n",
      "      224            272        5.5562e+03      6.58e-01       2.15e-04       1.37e+04    \n",
      "      225            273        5.5556e+03      5.74e-01       2.58e-04       1.25e+04    \n",
      "      226            274        5.5550e+03      6.55e-01       2.17e-04       1.38e+04    \n",
      "      227            275        5.5544e+03      5.70e-01       2.59e-04       1.25e+04    \n",
      "      228            276        5.5537e+03      6.53e-01       2.18e-04       1.38e+04    \n",
      "      229            277        5.5532e+03      5.67e-01       2.61e-04       1.26e+04    \n",
      "      230            278        5.5525e+03      6.50e-01       2.19e-04       1.39e+04    \n",
      "      231            279        5.5520e+03      5.64e-01       2.62e-04       1.27e+04    \n",
      "      232            280        5.5513e+03      6.48e-01       2.20e-04       1.39e+04    \n",
      "      233            281        5.5508e+03      5.60e-01       2.63e-04       1.28e+04    \n",
      "      234            282        5.5501e+03      6.45e-01       2.21e-04       1.40e+04    \n",
      "      235            283        5.5496e+03      5.57e-01       2.64e-04       1.29e+04    \n",
      "      236            284        5.5489e+03      6.43e-01       2.22e-04       1.41e+04    \n",
      "      237            285        5.5484e+03      5.54e-01       2.65e-04       1.30e+04    \n",
      "      238            286        5.5477e+03      6.41e-01       2.23e-04       1.41e+04    \n",
      "      239            287        5.5472e+03      5.50e-01       2.66e-04       1.30e+04    \n",
      "      240            288        5.5465e+03      6.38e-01       2.25e-04       1.42e+04    \n",
      "      241            289        5.5460e+03      5.47e-01       2.67e-04       1.31e+04    \n",
      "      242            290        5.5453e+03      6.36e-01       2.26e-04       1.42e+04    \n",
      "      243            291        5.5448e+03      5.44e-01       2.68e-04       1.32e+04    \n",
      "      244            292        5.5442e+03      6.34e-01       2.27e-04       1.43e+04    \n",
      "      245            293        5.5436e+03      5.41e-01       2.69e-04       1.33e+04    \n",
      "      246            294        5.5430e+03      6.32e-01       2.28e-04       1.43e+04    \n",
      "      247            295        5.5425e+03      5.37e-01       2.69e-04       1.33e+04    \n",
      "      248            296        5.5418e+03      6.29e-01       2.29e-04       1.44e+04    \n",
      "      249            297        5.5413e+03      5.34e-01       2.70e-04       1.34e+04    \n",
      "      250            298        5.5407e+03      6.27e-01       2.30e-04       1.44e+04    \n",
      "      251            299        5.5401e+03      5.31e-01       2.71e-04       1.35e+04    \n",
      "      252            300        5.5395e+03      6.25e-01       2.31e-04       1.45e+04    \n",
      "      253            301        5.5390e+03      5.28e-01       2.72e-04       1.36e+04    \n",
      "      254            302        5.5384e+03      6.23e-01       2.32e-04       1.45e+04    \n",
      "      255            303        5.5378e+03      5.25e-01       2.73e-04       1.36e+04    \n",
      "      256            304        5.5372e+03      6.21e-01       2.33e-04       1.46e+04    \n",
      "      257            305        5.5367e+03      5.22e-01       2.74e-04       1.37e+04    \n",
      "      258            306        5.5361e+03      6.18e-01       2.34e-04       1.47e+04    \n",
      "      259            307        5.5356e+03      5.19e-01       2.75e-04       1.38e+04    \n",
      "      260            308        5.5349e+03      6.16e-01       2.34e-04       1.47e+04    \n",
      "      261            309        5.5344e+03      5.16e-01       2.76e-04       1.39e+04    \n",
      "      262            310        5.5338e+03      6.14e-01       2.35e-04       1.48e+04    \n",
      "      263            311        5.5333e+03      5.13e-01       2.77e-04       1.39e+04    \n",
      "      264            312        5.5327e+03      6.12e-01       2.36e-04       1.48e+04    \n",
      "      265            313        5.5322e+03      5.10e-01       2.77e-04       1.40e+04    \n",
      "      266            314        5.5316e+03      6.10e-01       2.37e-04       1.49e+04    \n",
      "      267            315        5.5311e+03      5.07e-01       2.78e-04       1.41e+04    \n",
      "      268            316        5.5305e+03      6.08e-01       2.38e-04       1.49e+04    \n",
      "      269            317        5.5299e+03      5.04e-01       2.79e-04       1.41e+04    \n",
      "      270            318        5.5293e+03      6.06e-01       2.39e-04       1.50e+04    \n",
      "      271            319        5.5288e+03      5.01e-01       2.80e-04       1.42e+04    \n",
      "      272            320        5.5282e+03      6.04e-01       2.40e-04       1.50e+04    \n",
      "      273            321        5.5277e+03      4.98e-01       2.81e-04       1.43e+04    \n",
      "      274            322        5.5271e+03      6.02e-01       2.41e-04       1.50e+04    \n",
      "      275            323        5.5266e+03      4.96e-01       2.81e-04       1.44e+04    \n",
      "      276            324        5.5260e+03      6.00e-01       2.42e-04       1.51e+04    \n",
      "      277            325        5.5255e+03      4.93e-01       2.82e-04       1.44e+04    \n",
      "      278            326        5.5249e+03      5.98e-01       2.43e-04       1.51e+04    \n",
      "      279            327        5.5245e+03      4.90e-01       2.83e-04       1.45e+04    \n",
      "      280            328        5.5239e+03      5.97e-01       2.43e-04       1.52e+04    \n",
      "      281            329        5.5234e+03      4.87e-01       2.84e-04       1.46e+04    \n",
      "      282            330        5.5228e+03      5.95e-01       2.44e-04       1.52e+04    \n",
      "      283            331        5.5223e+03      4.84e-01       2.85e-04       1.46e+04    \n",
      "      284            332        5.5217e+03      5.93e-01       2.45e-04       1.53e+04    \n",
      "      285            333        5.5212e+03      4.82e-01       2.85e-04       1.47e+04    \n",
      "      286            334        5.5206e+03      5.91e-01       2.46e-04       1.53e+04    \n",
      "      287            335        5.5201e+03      4.79e-01       2.86e-04       1.48e+04    \n",
      "      288            336        5.5196e+03      5.89e-01       2.47e-04       1.54e+04    \n",
      "      289            337        5.5191e+03      4.76e-01       2.87e-04       1.48e+04    \n",
      "      290            338        5.5185e+03      5.87e-01       2.48e-04       1.54e+04    \n",
      "      291            339        5.5180e+03      4.73e-01       2.88e-04       1.49e+04    \n",
      "      292            340        5.5174e+03      5.86e-01       2.48e-04       1.55e+04    \n",
      "      293            341        5.5170e+03      4.71e-01       2.88e-04       1.50e+04    \n",
      "      294            342        5.5164e+03      5.84e-01       2.49e-04       1.55e+04    \n",
      "      295            343        5.5159e+03      4.68e-01       2.89e-04       1.50e+04    \n",
      "      296            344        5.5153e+03      5.82e-01       2.50e-04       1.55e+04    \n",
      "      297            345        5.5149e+03      4.66e-01       2.90e-04       1.51e+04    \n",
      "      298            346        5.5143e+03      5.80e-01       2.51e-04       1.56e+04    \n",
      "      299            347        5.5138e+03      4.63e-01       2.90e-04       1.51e+04    \n",
      "      300            348        5.5132e+03      5.79e-01       2.51e-04       1.56e+04    \n",
      "      301            349        5.5128e+03      4.60e-01       2.91e-04       1.52e+04    \n",
      "      302            350        5.5122e+03      5.77e-01       2.52e-04       1.57e+04    \n",
      "      303            351        5.5117e+03      4.58e-01       2.92e-04       1.53e+04    \n",
      "      304            352        5.5112e+03      5.75e-01       2.53e-04       1.57e+04    \n",
      "      305            353        5.5107e+03      4.55e-01       2.92e-04       1.53e+04    \n",
      "      306            354        5.5101e+03      5.74e-01       2.54e-04       1.58e+04    \n",
      "      307            355        5.5097e+03      4.53e-01       2.93e-04       1.54e+04    \n",
      "      308            356        5.5091e+03      5.72e-01       2.54e-04       1.58e+04    \n",
      "      309            357        5.5087e+03      4.50e-01       2.94e-04       1.55e+04    \n",
      "      310            358        5.5081e+03      5.70e-01       2.55e-04       1.58e+04    \n",
      "      311            359        5.5077e+03      4.48e-01       2.94e-04       1.55e+04    \n",
      "      312            360        5.5071e+03      5.69e-01       2.56e-04       1.59e+04    \n",
      "      313            361        5.5066e+03      4.45e-01       2.95e-04       1.56e+04    \n",
      "      314            362        5.5061e+03      5.67e-01       2.57e-04       1.59e+04    \n",
      "      315            363        5.5056e+03      4.43e-01       2.96e-04       1.56e+04    \n",
      "      316            364        5.5051e+03      5.66e-01       2.57e-04       1.60e+04    \n",
      "      317            365        5.5046e+03      4.40e-01       2.96e-04       1.57e+04    \n",
      "      318            366        5.5041e+03      5.64e-01       2.58e-04       1.60e+04    \n",
      "      319            367        5.5036e+03      4.38e-01       2.97e-04       1.58e+04    \n",
      "      320            368        5.5031e+03      5.63e-01       2.59e-04       1.60e+04    \n",
      "      321            369        5.5026e+03      4.35e-01       2.98e-04       1.58e+04    \n",
      "      322            370        5.5021e+03      5.61e-01       2.59e-04       1.61e+04    \n",
      "      323            371        5.5016e+03      4.33e-01       2.98e-04       1.59e+04    \n",
      "      324            372        5.5011e+03      5.59e-01       2.60e-04       1.61e+04    \n",
      "      325            373        5.5006e+03      4.31e-01       2.99e-04       1.60e+04    \n",
      "      326            374        5.5001e+03      5.58e-01       2.61e-04       1.61e+04    \n",
      "      327            375        5.4997e+03      4.28e-01       2.99e-04       1.60e+04    \n",
      "      328            376        5.4991e+03      5.57e-01       2.61e-04       1.62e+04    \n",
      "      329            377        5.4987e+03      4.26e-01       3.00e-04       1.61e+04    \n",
      "      330            378        5.4981e+03      5.55e-01       2.62e-04       1.62e+04    \n",
      "      331            379        5.4977e+03      4.23e-01       3.00e-04       1.61e+04    \n",
      "      332            380        5.4971e+03      5.54e-01       2.63e-04       1.63e+04    \n",
      "      333            381        5.4967e+03      4.21e-01       3.01e-04       1.62e+04    \n",
      "      334            382        5.4962e+03      5.52e-01       2.63e-04       1.63e+04    \n",
      "      335            383        5.4957e+03      4.19e-01       3.02e-04       1.62e+04    \n",
      "      336            384        5.4952e+03      5.51e-01       2.64e-04       1.63e+04    \n",
      "      337            385        5.4948e+03      4.16e-01       3.02e-04       1.63e+04    \n",
      "      338            386        5.4942e+03      5.49e-01       2.65e-04       1.64e+04    \n",
      "      339            387        5.4938e+03      4.14e-01       3.03e-04       1.64e+04    \n",
      "      340            388        5.4933e+03      5.48e-01       2.65e-04       1.64e+04    \n",
      "      341            389        5.4929e+03      4.12e-01       3.03e-04       1.64e+04    \n",
      "      342            390        5.4923e+03      5.47e-01       2.66e-04       1.64e+04    \n",
      "      343            391        5.4919e+03      4.10e-01       3.04e-04       1.65e+04    \n",
      "      344            392        5.4914e+03      5.45e-01       2.67e-04       1.65e+04    \n",
      "      345            393        5.4909e+03      4.07e-01       3.04e-04       1.65e+04    \n",
      "      346            394        5.4904e+03      5.44e-01       2.67e-04       1.65e+04    \n",
      "      347            395        5.4900e+03      4.05e-01       3.05e-04       1.66e+04    \n",
      "      348            396        5.4895e+03      5.42e-01       2.68e-04       1.65e+04    \n",
      "      349            397        5.4891e+03      4.03e-01       3.06e-04       1.66e+04    \n",
      "      350            398        5.4885e+03      5.41e-01       2.68e-04       1.66e+04    \n",
      "      351            399        5.4881e+03      4.01e-01       3.06e-04       1.67e+04    \n",
      "      352            400        5.4876e+03      5.40e-01       2.69e-04       1.66e+04    \n",
      "The maximum number of function evaluations is exceeded.\n",
      "Function evaluations 400, initial cost 3.4420e+05, final cost 5.4876e+03, first-order optimality 1.66e+04.\n"
     ]
    }
   ],
   "source": [
    "x0 = [0.15,  0.5, -0.05,  0.1]      # initial guess: [σ, λ, m, v]\n",
    "bounds = ( [1e-3, 1e-2, -10, 0], [2, np.inf, 10, 5] )\n",
    "\n",
    "def cost_function(x, strikes, mkt_prices):\n",
    "    sigma, lambd, meanJ, stdJ = x\n",
    "    M = Merton_pricer(S0, None, T, r, q, sigma, lambd, meanJ, stdJ, exercise)\n",
    "    sq_err = np.sum(c_weights*(M.closed_formula_call(strikes) - mkt_prices)**2)\n",
    "    return sq_err\n",
    "\n",
    "start2 = time.time()\n",
    "mert2 = scpo.least_squares(cost_function, x0, args=(call_strikes, call_prices), bounds=bounds, method = 'trf', verbose=2)\n",
    "end2 = time.time()\n",
    "\n",
    "mert_params2 = [round(p,4) for p in mert2.x[:4]]"
   ],
   "metadata": {
    "collapsed": false
   }
  },
  {
   "cell_type": "code",
   "execution_count": 14,
   "outputs": [
    {
     "name": "stdout",
     "output_type": "stream",
     "text": [
      "WEIGHTED OPT: CURVE_FIT (trf)\n",
      "> Calibrated Volatlity [σ] = 0.0099 \t 0.99%\n",
      "> Calibrated Jump intensity [λ] =  4.72\n",
      "> Calibrated Jump Mean =  -0.07\n",
      "> Calibrated Jump St. dev.  =  1e-05\n",
      "ELAPSED TIME: 13.517704248428345 sec\n",
      "\n",
      "METHOD 1: LEAST SQUARES (trf)\n",
      "> Calibrated Volatlity [σ] = 0.114 \t 11.4%\n",
      "> Calibrated Jump intensity [λ] =  0.5\n",
      "> Calibrated Jump Mean =  -0.096\n",
      "> Calibrated Jump St. dev.  =  0.073\n",
      "TIME ELAPSED:  82.95 sec\n"
     ]
    }
   ],
   "source": [
    "print('WEIGHTED OPT: CURVE_FIT (trf)')\n",
    "print(f'> Calibrated Volatlity [σ] = {round(mert1[0][0],4)} \\t {round(mert1[0][0]*100,2)}%')\n",
    "print('> Calibrated Jump intensity [λ] = ', round(mert1[0][1],2))\n",
    "print('> Calibrated Jump Mean = ', round(mert1[0][2],2))\n",
    "print('> Calibrated Jump St. dev.  = ', round(mert1[0][3],5))\n",
    "print(f'ELAPSED TIME: {end1-start1} sec')\n",
    "\n",
    "print('\\nMETHOD 1: LEAST SQUARES (trf)')\n",
    "print(f'> Calibrated Volatlity [σ] = {mert_params2[0]} \\t {round(mert_params2[0]*100,2)}%')\n",
    "print('> Calibrated Jump intensity [λ] = ', round(mert_params2[1],2))\n",
    "print('> Calibrated Jump Mean = ', round(mert_params2[2],3))\n",
    "print('> Calibrated Jump St. dev.  = ', round(mert_params2[3],3))\n",
    "print(f'TIME ELAPSED:  {round(end2-start2,2)} sec')"
   ],
   "metadata": {
    "collapsed": false
   }
  },
  {
   "cell_type": "code",
   "execution_count": 15,
   "outputs": [
    {
     "name": "stdout",
     "output_type": "stream",
     "text": [
      "[0.0099, 4.723, -0.0654, 0.0]\n",
      "[0.114, 0.4987, -0.0956, 0.0733]\n"
     ]
    }
   ],
   "source": [
    "print(mert_params1)\n",
    "print(mert_params2)"
   ],
   "metadata": {
    "collapsed": false
   }
  },
  {
   "cell_type": "markdown",
   "source": [
    "### Kou Jump Diffusion\n"
   ],
   "metadata": {
    "collapsed": false
   }
  },
  {
   "cell_type": "code",
   "execution_count": 16,
   "outputs": [],
   "source": [
    "x0 = [0.2, 0.7, 0.5, 8, 10] # initial guess: [σ, λ, p, η_1, η_2]\n",
    "bounds = ( [1e-2, 1e-1, 0, 0.5, 0.5], [0.5, 4, 1, 15, 20] )"
   ],
   "metadata": {
    "collapsed": false
   }
  },
  {
   "cell_type": "markdown",
   "source": [
    "##### Method 1. TRF (Bounds)"
   ],
   "metadata": {
    "collapsed": false
   }
  },
  {
   "cell_type": "code",
   "execution_count": 17,
   "outputs": [],
   "source": [
    "# def f_Kou(x, sigma, lambd, p, eta1, eta2):\n",
    "#     KouJD = Kou_pricer(S0=S0, K=x, ttm=T, r=r, sigma=sigma, lambd=lambd, p=p, eta1=eta1, eta2=eta2, exercise=exercise)\n",
    "#     return KouJD.closed_formula_call(x)\n",
    "#\n",
    "# start1 = time.time()\n",
    "# kou1 = scpo.curve_fit(f_Kou, call_strikes, call_prices, p0=x0, bounds=bounds, sigma=c_weights)\n",
    "# end1 = time.time()\n",
    "#\n",
    "# kou_params1 = [round(p,4) for p in kou1[0][:5]]"
   ],
   "metadata": {
    "collapsed": false
   }
  },
  {
   "cell_type": "markdown",
   "source": [
    "##### Method 2. LEAST SQUARES (With Bounds)"
   ],
   "metadata": {
    "collapsed": false
   }
  },
  {
   "cell_type": "code",
   "execution_count": 18,
   "outputs": [
    {
     "name": "stdout",
     "output_type": "stream",
     "text": [
      "   Iteration     Total nfev        Cost      Cost reduction    Step norm     Optimality   \n",
      "       0              1         5.9339e+07                                    3.93e+08    \n",
      "       1              2         1.0045e+07      4.93e+07       4.72e-02       6.63e+07    \n",
      "       2              3         1.8165e+06      8.23e+06       4.05e-02       1.06e+07    \n",
      "       3              4         4.1280e+05      1.40e+06       4.40e-02       3.19e+06    \n",
      "       4              5         1.9197e+05      2.21e+05       8.73e-02       1.41e+06    \n",
      "       5              7         1.7892e+05      1.31e+04       2.65e-02       1.26e+06    \n",
      "       6              8         1.6549e+05      1.34e+04       7.86e-03       1.13e+06    \n",
      "       7              9         1.4493e+05      2.06e+04       1.69e-02       9.20e+05    \n",
      "       8             10         1.1875e+05      2.62e+04       3.84e-02       6.28e+05    \n",
      "       9             12         1.1019e+05      8.56e+03       1.80e-02       6.51e+05    \n",
      "      10             13         9.9367e+04      1.08e+04       1.83e-02       5.33e+05    \n",
      "      11             14         8.2950e+04      1.64e+04       3.98e-02       3.84e+05    \n",
      "      12             16         8.0676e+04      2.27e+03       1.57e-02       4.55e+05    \n",
      "      13             17         7.7983e+04      2.69e+03       3.64e-03       4.27e+05    \n",
      "      14             18         7.3592e+04      4.39e+03       7.80e-03       3.80e+05    \n",
      "      15             19         6.7256e+04      6.34e+03       1.76e-02       3.07e+05    \n",
      "      16             20         6.1506e+04      5.75e+03       3.65e-02       3.22e+05    \n",
      "      17             21         5.2676e+04      8.83e+03       2.50e-02       3.42e+05    \n",
      "      18             23         5.0797e+04      1.88e+03       6.13e-03       2.26e+05    \n",
      "      19             24         4.8649e+04      2.15e+03       8.27e-03       2.01e+05    \n",
      "      20             25         4.5017e+04      3.63e+03       1.81e-02       1.70e+05    \n",
      "      21             27         4.4003e+04      1.01e+03       7.88e-03       1.87e+05    \n",
      "      22             28         4.2134e+04      1.87e+03       7.50e-03       1.63e+05    \n",
      "      23             29         3.9173e+04      2.96e+03       1.77e-02       1.36e+05    \n",
      "      24             31         3.8706e+04      4.68e+02       7.38e-03       1.57e+05    \n",
      "      25             32         3.6996e+04      1.71e+03       6.65e-03       1.35e+05    \n",
      "      26             33         3.4603e+04      2.39e+03       1.72e-02       1.12e+05    \n",
      "      27             36         3.4250e+04      3.53e+02       1.69e-03       1.16e+05    \n",
      "      28             37         3.3663e+04      5.87e+02       4.21e-03       1.15e+05    \n",
      "      29             38         3.2524e+04      1.14e+03       8.50e-03       1.05e+05    \n",
      "      30             39         3.1946e+04      5.79e+02       1.62e-02       1.21e+05    \n",
      "      31             40         3.0867e+04      1.08e+03       2.51e-03       1.11e+05    \n",
      "      32             41         2.9596e+04      1.27e+03       5.93e-03       9.33e+04    \n",
      "      33             42         2.8656e+04      9.41e+02       8.33e-03       8.50e+04    \n",
      "      34             44         2.8283e+04      3.73e+02       3.87e-03       8.93e+04    \n",
      "      35             45         2.7809e+04      4.74e+02       3.85e-03       8.35e+04    \n",
      "      36             46         2.6949e+04      8.60e+02       8.27e-03       7.67e+04    \n",
      "      37             48         2.6615e+04      3.34e+02       3.85e-03       8.07e+04    \n",
      "      38             49         2.6182e+04      4.32e+02       3.76e-03       7.51e+04    \n",
      "      39             50         2.5397e+04      7.85e+02       8.18e-03       6.91e+04    \n",
      "      40             52         2.5106e+04      2.92e+02       3.80e-03       7.32e+04    \n",
      "      41             53         2.4708e+04      3.98e+02       3.64e-03       6.78e+04    \n",
      "      42             54         2.3991e+04      7.17e+02       8.10e-03       6.24e+04    \n",
      "      43             56         2.3741e+04      2.50e+02       3.74e-03       6.66e+04    \n",
      "      44             57         2.3373e+04      3.68e+02       3.50e-03       6.13e+04    \n",
      "      45             58         2.2717e+04      6.56e+02       8.01e-03       5.64e+04    \n",
      "      46             60         2.2507e+04      2.10e+02       3.68e-03       6.07e+04    \n",
      "      47             61         2.2165e+04      3.42e+02       3.35e-03       5.56e+04    \n",
      "      48             62         2.1564e+04      6.01e+02       7.92e-03       5.11e+04    \n",
      "      49             64         2.1393e+04      1.71e+02       3.62e-03       5.55e+04    \n",
      "      50             65         2.1072e+04      3.21e+02       3.19e-03       5.05e+04    \n",
      "      51             66         2.0520e+04      5.51e+02       7.83e-03       4.64e+04    \n",
      "      52             68         2.0391e+04      1.29e+02       3.54e-03       5.10e+04    \n",
      "      53             69         2.0085e+04      3.07e+02       3.02e-03       4.61e+04    \n",
      "      54             70         1.9580e+04      5.05e+02       7.73e-03       4.21e+04    \n",
      "      55             72         1.9504e+04      7.54e+01       3.43e-03       4.72e+04    \n",
      "      56             73         1.9408e+04      9.64e+01       6.98e-04       4.60e+04    \n",
      "      57             74         1.9251e+04      1.57e+02       1.52e-03       4.37e+04    \n",
      "      58             75         1.9013e+04      2.38e+02       3.55e-03       4.03e+04    \n",
      "      59             76         1.8871e+04      1.42e+02       7.31e-03       4.57e+04    \n",
      "      60             77         1.8369e+04      5.02e+02       4.70e-03       4.63e+04    \n",
      "      61             79         1.8286e+04      8.34e+01       1.54e-03       3.94e+04    \n",
      "      62             80         1.8167e+04      1.18e+02       1.74e-03       3.78e+04    \n",
      "      63             81         1.7951e+04      2.17e+02       3.75e-03       3.59e+04    \n",
      "      64             82         1.7815e+04      1.36e+02       7.25e-03       4.06e+04    \n",
      "      65             83         1.7389e+04      4.27e+02       4.58e-03       5.29e+04    \n",
      "      66             85         1.7306e+04      8.29e+01       1.47e-03       3.50e+04    \n",
      "      67             86         1.7199e+04      1.06e+02       1.71e-03       3.35e+04    \n",
      "      68             87         1.7003e+04      1.96e+02       3.70e-03       3.20e+04    \n",
      "      69             88         1.6928e+04      7.54e+01       7.13e-03       3.66e+04    \n",
      "      70             89         1.6718e+04      2.10e+02       1.07e-03       3.44e+04    \n",
      "      71             90         1.6486e+04      2.32e+02       2.52e-03       3.04e+04    \n",
      "      72             91         1.6303e+04      1.83e+02       3.67e-03       2.93e+04    \n",
      "      73             92         1.6059e+04      2.44e+02       7.22e-03       3.14e+04    \n",
      "      74             93         1.5872e+04      1.88e+02       5.02e-03       8.22e+04    \n",
      "      75             95         1.5723e+04      1.49e+02       1.38e-03       2.75e+04    \n",
      "      76             96         1.5639e+04      8.40e+01       1.80e-03       2.68e+04    \n",
      "      77             97         1.5482e+04      1.57e+02       3.59e-03       2.71e+04    \n",
      "      78             98         1.5249e+04      2.33e+02       6.82e-03       6.25e+04    \n",
      "      79             100        1.5158e+04      9.03e+01       1.40e-03       2.59e+04    \n",
      "      80             101        1.5078e+04      8.01e+01       1.65e-03       2.47e+04    \n",
      "      81             102        1.4924e+04      1.54e+02       3.57e-03       2.42e+04    \n",
      "      82             103        1.4632e+04      2.92e+02       7.15e-03       2.22e+04    \n",
      "      83             106        1.4600e+04      3.21e+01       7.86e-04       2.32e+04    \n",
      "      84             107        1.4563e+04      3.71e+01       8.64e-04       2.28e+04    \n",
      "      85             108        1.4491e+04      7.18e+01       1.76e-03       2.23e+04    \n",
      "      86             109        1.4364e+04      1.27e+02       3.49e-03       2.29e+04    \n",
      "      87             110        1.4235e+04      1.28e+02       6.26e-03       7.90e+04    \n",
      "      88             112        1.4099e+04      1.36e+02       1.36e-03       2.12e+04    \n",
      "      89             113        1.4032e+04      6.70e+01       1.73e-03       2.06e+04    \n",
      "      90             114        1.3920e+04      1.12e+02       3.45e-03       2.13e+04    \n",
      "      91             115        1.3846e+04      7.36e+01       5.88e-03       8.76e+04    \n",
      "      92             116        1.3683e+04      1.63e+02       1.36e-03       1.93e+04    \n",
      "      93             117        1.3621e+04      6.14e+01       1.72e-03       1.95e+04    \n",
      "      94             118        1.3505e+04      1.17e+02       3.40e-03       1.84e+04    \n",
      "      95             120        1.3491e+04      1.35e+01       1.53e-03       2.00e+04    \n",
      "      96             121        1.3468e+04      2.36e+01       3.19e-04       1.97e+04    \n",
      "      97             122        1.3428e+04      3.91e+01       6.87e-04       1.91e+04    \n",
      "      98             123        1.3368e+04      6.03e+01       1.58e-03       1.81e+04    \n",
      "      99             124        1.3280e+04      8.78e+01       3.38e-03       1.91e+04    \n",
      "      100            125        1.3188e+04      9.24e+01       2.63e-03       3.03e+04    \n",
      "      101            127        1.3157e+04      3.11e+01       7.12e-04       1.78e+04    \n",
      "      102            128        1.3127e+04      2.94e+01       8.39e-04       1.74e+04    \n",
      "      103            129        1.3070e+04      5.75e+01       1.70e-03       1.71e+04    \n",
      "      104            130        1.2977e+04      9.33e+01       3.37e-03       1.78e+04    \n",
      "      105            131        1.2970e+04      6.65e+00       5.53e-03       9.41e+04    \n",
      "      106            132        1.2785e+04      1.85e+02       1.35e-03       1.59e+04    \n",
      "      107            133        1.2763e+04      2.19e+01       1.58e-03       1.72e+04    \n",
      "      108            134        1.2700e+04      6.25e+01       1.28e-03       1.60e+04    \n",
      "      109            135        1.2647e+04      5.33e+01       1.68e-03       1.56e+04    \n",
      "      110            136        1.2568e+04      7.89e+01       3.32e-03       1.64e+04    \n",
      "      111            137        1.2496e+04      7.27e+01       2.56e-03       3.33e+04    \n",
      "      112            139        1.2463e+04      3.22e+01       6.95e-04       1.52e+04    \n",
      "      113            140        1.2437e+04      2.58e+01       8.28e-04       1.50e+04    \n",
      "      114            141        1.2386e+04      5.10e+01       1.67e-03       1.48e+04    \n",
      "      115            142        1.2286e+04      1.00e+02       3.34e-03       1.46e+04    \n",
      "      116            143        1.2126e+04      1.61e+02       6.62e-03       3.97e+04    \n",
      "      117            146        1.2086e+04      4.00e+01       6.84e-04       1.38e+04    \n",
      "      118            147        1.2062e+04      2.39e+01       8.25e-04       1.37e+04    \n",
      "      119            148        1.2014e+04      4.74e+01       1.65e-03       1.35e+04    \n",
      "      120            149        1.1926e+04      8.82e+01       3.30e-03       1.37e+04    \n",
      "      121            150        1.1891e+04      3.48e+01       6.00e-03       7.86e+04    \n",
      "      122            151        1.1756e+04      1.36e+02       1.35e-03       1.28e+04    \n",
      "      123            152        1.1712e+04      4.40e+01       1.63e-03       1.24e+04    \n",
      "      124            153        1.1680e+04      3.23e+01       3.20e-03       1.36e+04    \n",
      "      125            154        1.1602e+04      7.76e+01       2.08e-03       2.78e+04    \n",
      "      126            156        1.1579e+04      2.28e+01       6.90e-04       1.24e+04    \n",
      "      127            157        1.1557e+04      2.20e+01       7.76e-04       1.21e+04    \n",
      "      128            158        1.1515e+04      4.25e+01       1.63e-03       1.18e+04    \n",
      "      129            159        1.1463e+04      5.21e+01       3.21e-03       1.26e+04    \n",
      "      130            160        1.1412e+04      5.06e+01       2.24e-03       3.54e+04    \n",
      "      131            162        1.1379e+04      3.25e+01       6.80e-04       1.16e+04    \n",
      "      132            163        1.1359e+04      2.06e+01       8.05e-04       1.14e+04    \n",
      "      133            164        1.1319e+04      4.02e+01       1.61e-03       1.14e+04    \n",
      "      134            165        1.1246e+04      7.25e+01       3.20e-03       1.84e+04    \n",
      "      135            168        1.1234e+04      1.23e+01       3.52e-04       1.10e+04    \n",
      "      136            169        1.1224e+04      9.94e+00       4.01e-04       1.10e+04    \n",
      "      137            170        1.1204e+04      1.98e+01       8.05e-04       1.09e+04    \n",
      "      138            171        1.1166e+04      3.82e+01       1.60e-03       1.10e+04    \n",
      "      139            172        1.1102e+04      6.39e+01       3.13e-03       2.34e+04    \n",
      "      140            175        1.1087e+04      1.50e+01       3.45e-04       1.04e+04    \n",
      "      141            176        1.1078e+04      9.11e+00       3.87e-04       1.06e+04    \n",
      "      142            177        1.1059e+04      1.92e+01       7.97e-04       1.04e+04    \n",
      "      143            178        1.1022e+04      3.71e+01       1.60e-03       1.05e+04    \n",
      "      144            179        1.0960e+04      6.21e+01       3.13e-03       2.28e+04    \n",
      "      145            182        1.0945e+04      1.45e+01       3.44e-04       1.00e+04    \n",
      "      146            183        1.0936e+04      8.82e+00       3.87e-04       1.01e+04    \n",
      "      147            184        1.0918e+04      1.85e+01       7.94e-04       9.99e+03    \n",
      "      148            185        1.0882e+04      3.55e+01       1.59e-03       1.01e+04    \n",
      "      149            186        1.0826e+04      5.66e+01       3.08e-03       2.51e+04    \n",
      "      150            188        1.0808e+04      1.71e+01       6.83e-04       9.95e+03    \n",
      "      151            189        1.0790e+04      1.86e+01       7.22e-04       9.64e+03    \n",
      "      152            190        1.0754e+04      3.55e+01       1.59e-03       9.45e+03    \n",
      "      153            191        1.0723e+04      3.12e+01       3.13e-03       1.11e+04    \n",
      "      154            192        1.0680e+04      4.34e+01       2.02e-03       3.48e+04    \n",
      "      155            194        1.0649e+04      3.04e+01       6.74e-04       9.28e+03    \n",
      "      156            195        1.0632e+04      1.72e+01       7.84e-04       9.12e+03    \n",
      "      157            196        1.0600e+04      3.23e+01       1.57e-03       9.25e+03    \n",
      "      158            197        1.0556e+04      4.35e+01       2.98e-03       3.03e+04    \n",
      "      159            199        1.0533e+04      2.36e+01       6.76e-04       9.01e+03    \n",
      "      160            200        1.0516e+04      1.68e+01       7.52e-04       8.77e+03    \n",
      "      161            201        1.0484e+04      3.17e+01       1.57e-03       8.87e+03    \n",
      "      162            202        1.0440e+04      4.41e+01       3.00e-03       2.88e+04    \n",
      "      163            204        1.0419e+04      2.11e+01       6.76e-04       8.70e+03    \n",
      "      164            205        1.0403e+04      1.63e+01       7.35e-04       8.44e+03    \n",
      "      165            206        1.0372e+04      3.08e+01       1.56e-03       8.53e+03    \n",
      "      166            207        1.0330e+04      4.24e+01       2.99e-03       2.86e+04    \n",
      "      167            209        1.0309e+04      2.07e+01       6.75e-04       8.37e+03    \n",
      "      168            210        1.0293e+04      1.58e+01       7.29e-04       8.11e+03    \n",
      "      169            211        1.0264e+04      2.92e+01       1.56e-03       8.24e+03    \n",
      "      170            212        1.0230e+04      3.37e+01       2.91e-03       3.26e+04    \n",
      "      171            214        1.0203e+04      2.65e+01       6.72e-04       7.99e+03    \n",
      "      172            215        1.0188e+04      1.52e+01       7.60e-04       7.80e+03    \n",
      "      173            216        1.0163e+04      2.57e+01       1.55e-03       8.03e+03    \n",
      "      174            217        1.0147e+04      1.55e+01       2.68e-03       4.05e+04    \n",
      "      175            218        1.0108e+04      3.89e+01       6.70e-04       7.56e+03    \n",
      "      176            219        1.0095e+04      1.34e+01       7.68e-04       7.71e+03    \n",
      "      177            220        1.0069e+04      2.57e+01       1.48e-03       1.12e+04    \n",
      "      178            222        1.0066e+04      2.95e+00       7.02e-04       7.86e+03    \n",
      "      179            223        1.0060e+04      5.60e+00       1.49e-04       7.77e+03    \n",
      "      180            224        1.0051e+04      9.32e+00       3.18e-04       7.60e+03    \n",
      "      181            225        1.0037e+04      1.45e+01       7.24e-04       7.36e+03    \n",
      "      182            226        1.0013e+04      2.40e+01       1.54e-03       7.60e+03    \n",
      "      183            227        1.0004e+04      9.09e+00       2.61e-03       4.21e+04    \n",
      "      184            228        9.9619e+03      4.16e+01       6.69e-04       7.11e+03    \n",
      "      185            229        9.9522e+03      9.73e+00       7.50e-04       7.39e+03    \n",
      "      186            230        9.9375e+03      1.47e+01       6.68e-04       7.11e+03    \n",
      "      187            231        9.9102e+03      2.73e+01       1.55e-03       7.16e+03    \n",
      "      188            232        9.8739e+03      3.62e+01       2.99e-03       2.75e+04    \n",
      "      189            234        9.8556e+03      1.83e+01       6.72e-04       7.07e+03    \n",
      "      190            235        9.8418e+03      1.38e+01       6.96e-04       6.82e+03    \n",
      "      191            236        9.8205e+03      2.13e+01       1.53e-03       7.07e+03    \n",
      "      192            238        9.8054e+03      1.51e+01       6.23e-04       6.76e+03    \n",
      "      193            239        9.7918e+03      1.35e+01       7.73e-04       6.69e+03    \n",
      "      194            240        9.7678e+03      2.40e+01       1.54e-03       6.84e+03    \n",
      "      195            241        9.7565e+03      1.13e+01       2.72e-03       3.96e+04    \n",
      "      196            242        9.7192e+03      3.74e+01       6.68e-04       6.48e+03    \n",
      "      197            243        9.7071e+03      1.21e+01       7.63e-04       6.59e+03    \n",
      "      198            244        9.6850e+03      2.21e+01       1.47e-03       1.17e+04    \n",
      "      199            246        9.6845e+03      5.10e-01       6.91e-04       6.77e+03    \n",
      "      200            247        9.6790e+03      5.48e+00       1.40e-04       6.68e+03    \n",
      "      201            248        9.6702e+03      8.82e+00       3.02e-04       6.53e+03    \n",
      "      202            249        9.6574e+03      1.27e+01       7.03e-04       6.30e+03    \n",
      "      203            250        9.6435e+03      1.39e+01       1.51e-03       6.67e+03    \n",
      "      204            251        9.6216e+03      2.19e+01       1.10e-03       1.28e+04    \n",
      "      205            253        9.6152e+03      6.45e+00       3.43e-04       6.30e+03    \n",
      "      206            254        9.6087e+03      6.50e+00       3.77e-04       6.23e+03    \n",
      "      207            255        9.5960e+03      1.27e+01       7.70e-04       6.15e+03    \n",
      "      208            256        9.5745e+03      2.15e+01       1.53e-03       6.33e+03    \n",
      "      209            258        9.5615e+03      1.30e+01       6.46e-04       6.06e+03    \n",
      "      210            259        9.5501e+03      1.14e+01       7.61e-04       6.16e+03    \n",
      "      211            260        9.5298e+03      2.03e+01       1.46e-03       1.23e+04    \n",
      "      212            262        9.5237e+03      6.04e+00       3.43e-04       6.06e+03    \n",
      "      213            263        9.5174e+03      6.32e+00       3.75e-04       5.98e+03    \n",
      "      214            264        9.5051e+03      1.23e+01       7.69e-04       5.91e+03    \n",
      "      215            265        9.4850e+03      2.01e+01       1.52e-03       6.10e+03    \n",
      "      216            267        9.4721e+03      1.28e+01       6.28e-04       5.82e+03    \n",
      "      217            268        9.4608e+03      1.13e+01       7.61e-04       5.91e+03    \n",
      "      218            269        9.4407e+03      2.01e+01       1.47e-03       1.17e+04    \n",
      "      219            272        9.4364e+03      4.31e+00       1.71e-04       5.69e+03    \n",
      "      220            273        9.4334e+03      2.95e+00       1.85e-04       5.76e+03    \n",
      "      221            274        9.4274e+03      6.01e+00       3.84e-04       5.72e+03    \n",
      "      222            275        9.4155e+03      1.19e+01       7.66e-04       5.72e+03    \n",
      "      223            276        9.3922e+03      2.33e+01       1.54e-03       5.55e+03    \n",
      "      224            278        9.3883e+03      3.86e+00       7.27e-04       5.88e+03    \n",
      "      225            279        9.3745e+03      1.39e+01       5.80e-04       5.60e+03    \n",
      "      226            280        9.3627e+03      1.17e+01       7.67e-04       5.53e+03    \n",
      "      227            281        9.3435e+03      1.92e+01       1.52e-03       5.71e+03    \n",
      "      228            283        9.3314e+03      1.21e+01       6.24e-04       5.44e+03    \n",
      "      229            284        9.3215e+03      9.87e+00       7.56e-04       5.57e+03    \n",
      "      230            285        9.3053e+03      1.63e+01       1.40e-03       1.48e+04    \n",
      "      231            287        9.2982e+03      7.05e+00       3.38e-04       5.43e+03    \n",
      "      232            288        9.2924e+03      5.77e+00       3.80e-04       5.37e+03    \n",
      "      233            289        9.2810e+03      1.14e+01       7.66e-04       5.33e+03    \n",
      "      234            290        9.2596e+03      2.14e+01       1.53e-03       5.40e+03    \n",
      "      235            291        9.2494e+03      1.02e+01       2.82e-03       3.63e+04    \n",
      "      236            292        9.2176e+03      3.18e+01       6.67e-04       5.20e+03    \n",
      "      237            293        9.2065e+03      1.10e+01       7.66e-04       5.12e+03    \n",
      "      238            294        9.1921e+03      1.44e+01       1.51e-03       5.37e+03    \n",
      "      239            295        9.1779e+03      1.42e+01       1.12e-03       1.61e+04    \n",
      "      240            297        9.1701e+03      7.77e+00       3.37e-04       5.08e+03    \n",
      "      241            298        9.1647e+03      5.48e+00       3.82e-04       5.04e+03    \n",
      "      242            299        9.1538e+03      1.09e+01       7.65e-04       5.03e+03    \n",
      "      243            300        9.1325e+03      2.13e+01       1.54e-03       4.90e+03    \n",
      "      244            302        9.1290e+03      3.47e+00       7.30e-04       5.18e+03    \n",
      "      245            303        9.1164e+03      1.26e+01       5.69e-04       4.92e+03    \n",
      "      246            304        9.1058e+03      1.07e+01       7.65e-04       4.91e+03    \n",
      "      247            305        9.0851e+03      2.06e+01       1.53e-03       5.22e+03    \n",
      "      248            307        9.0847e+03      4.90e-01       7.17e-04       5.25e+03    \n",
      "      249            308        9.0799e+03      4.78e+00       1.34e-04       5.03e+03    \n",
      "      250            309        9.0726e+03      7.28e+00       2.92e-04       4.90e+03    \n",
      "      251            310        9.0628e+03      9.82e+00       7.06e-04       4.72e+03    \n",
      "      252            312        9.0590e+03      3.82e+00       3.64e-04       4.87e+03    \n",
      "      253            313        9.0535e+03      5.50e+00       3.55e-04       4.78e+03    \n",
      "      254            314        9.0431e+03      1.04e+01       7.66e-04       4.71e+03    \n",
      "      255            315        9.0321e+03      1.10e+01       1.51e-03       5.47e+03    \n",
      "      256            316        9.0176e+03      1.44e+01       1.06e-03       1.54e+04    \n",
      "      257            318        9.0105e+03      7.11e+00       3.36e-04       4.69e+03    \n",
      "      258            319        9.0053e+03      5.16e+00       3.80e-04       4.64e+03    \n",
      "      259            320        8.9951e+03      1.02e+01       7.65e-04       4.62e+03    \n",
      "      260            321        8.9750e+03      2.01e+01       1.54e-03       4.51e+03    \n",
      "      261            323        8.9723e+03      2.75e+00       7.30e-04       4.77e+03    \n",
      "      262            324        8.9680e+03      4.23e+00       1.39e-04       4.71e+03    \n",
      "      263            325        8.9617e+03      6.39e+00       3.05e-04       4.59e+03    \n",
      "      264            326        8.9522e+03      9.48e+00       7.35e-04       4.45e+03    \n",
      "      265            328        8.9486e+03      3.56e+00       3.64e-04       4.59e+03    \n",
      "      266            329        8.9433e+03      5.29e+00       3.51e-04       4.50e+03    \n",
      "      267            330        8.9334e+03      9.91e+00       7.67e-04       4.44e+03    \n",
      "      268            331        8.9242e+03      9.24e+00       1.51e-03       5.75e+03    \n",
      "      269            332        8.9098e+03      1.44e+01       1.03e-03       1.51e+04    \n",
      "      270            334        8.9030e+03      6.77e+00       3.36e-04       4.42e+03    \n",
      "      271            335        8.8980e+03      4.95e+00       3.79e-04       4.37e+03    \n",
      "      272            336        8.8882e+03      9.81e+00       7.66e-04       4.36e+03    \n",
      "      273            337        8.8691e+03      1.91e+01       1.54e-03       4.38e+03    \n",
      "      274            339        8.8687e+03      4.16e-01       7.22e-04       5.10e+03    \n",
      "      275            340        8.8642e+03      4.53e+00       1.32e-04       4.52e+03    \n",
      "      276            341        8.8575e+03      6.72e+00       2.89e-04       4.35e+03    \n",
      "      277            342        8.8487e+03      8.82e+00       7.11e-04       4.61e+03    \n",
      "      278            344        8.8456e+03      3.01e+00       3.59e-04       4.34e+03    \n",
      "      279            345        8.8405e+03      5.17e+00       3.43e-04       4.25e+03    \n",
      "      280            346        8.8310e+03      9.47e+00       7.67e-04       4.18e+03    \n",
      "      281            347        8.8264e+03      4.66e+00       1.50e-03       6.72e+03    \n",
      "      282            348        8.8160e+03      1.03e+01       2.42e-04       4.56e+03    \n",
      "      283            349        8.8054e+03      1.06e+01       5.64e-04       4.12e+03    \n",
      "      284            350        8.7985e+03      6.94e+00       7.53e-04       4.25e+03    \n",
      "      285            351        8.7898e+03      8.70e+00       6.41e-04       4.52e+03    \n",
      "      286            353        8.7875e+03      2.22e+00       1.80e-04       4.12e+03    \n",
      "      287            354        8.7852e+03      2.37e+00       1.91e-04       4.11e+03    \n",
      "      288            355        8.7805e+03      4.69e+00       3.84e-04       4.08e+03    \n",
      "      289            356        8.7713e+03      9.20e+00       7.66e-04       4.10e+03    \n",
      "      290            357        8.7547e+03      1.66e+01       1.52e-03       8.68e+03    \n",
      "      291            360        8.7518e+03      2.91e+00       1.71e-04       4.01e+03    \n",
      "      292            361        8.7495e+03      2.30e+00       1.91e-04       4.02e+03    \n",
      "      293            362        8.7449e+03      4.62e+00       3.84e-04       4.00e+03    \n",
      "      294            363        8.7359e+03      9.05e+00       7.66e-04       4.01e+03    \n",
      "      295            364        8.7198e+03      1.61e+01       1.52e-03       9.00e+03    \n",
      "      296            367        8.7168e+03      2.98e+00       1.71e-04       3.92e+03    \n",
      "      297            368        8.7145e+03      2.26e+00       1.91e-04       3.94e+03    \n",
      "      298            369        8.7100e+03      4.55e+00       3.85e-04       3.91e+03    \n",
      "      299            370        8.7011e+03      8.90e+00       7.67e-04       3.93e+03    \n",
      "      300            371        8.6854e+03      1.57e+01       1.52e-03       9.27e+03    \n",
      "      301            374        8.6824e+03      3.03e+00       1.71e-04       3.84e+03    \n",
      "      302            375        8.6802e+03      2.21e+00       1.90e-04       3.86e+03    \n",
      "      303            376        8.6757e+03      4.48e+00       3.85e-04       3.83e+03    \n",
      "      304            377        8.6669e+03      8.75e+00       7.68e-04       3.85e+03    \n",
      "      305            378        8.6517e+03      1.52e+01       1.52e-03       9.61e+03    \n",
      "      306            381        8.6486e+03      3.11e+00       1.70e-04       3.76e+03    \n",
      "      307            382        8.6464e+03      2.16e+00       1.90e-04       3.78e+03    \n",
      "      308            383        8.6420e+03      4.41e+00       3.85e-04       3.75e+03    \n",
      "      309            384        8.6334e+03      8.60e+00       7.68e-04       3.77e+03    \n",
      "      310            385        8.6187e+03      1.47e+01       1.52e-03       1.00e+04    \n",
      "      311            388        8.6155e+03      3.22e+00       1.70e-04       3.67e+03    \n",
      "      312            389        8.6134e+03      2.10e+00       1.89e-04       3.70e+03    \n",
      "      313            390        8.6090e+03      4.35e+00       3.85e-04       3.67e+03    \n",
      "      314            391        8.6006e+03      8.45e+00       7.69e-04       3.76e+03    \n",
      "      315            392        8.5864e+03      1.42e+01       1.51e-03       1.05e+04    \n",
      "      316            395        8.5830e+03      3.36e+00       1.69e-04       3.59e+03    \n",
      "      317            396        8.5810e+03      2.03e+00       1.87e-04       3.66e+03    \n",
      "      318            397        8.5767e+03      4.28e+00       3.85e-04       3.60e+03    \n",
      "      319            398        8.5684e+03      8.30e+00       7.70e-04       3.76e+03    \n",
      "      320            399        8.5549e+03      1.36e+01       1.51e-03       1.11e+04    \n",
      "      321            401        8.5512e+03      3.71e+00       3.38e-04       3.93e+03    \n",
      "      322            402        8.5468e+03      4.40e+00       3.50e-04       3.58e+03    \n",
      "      323            403        8.5384e+03      8.40e+00       7.75e-04       3.50e+03    \n",
      "      324            404        8.5284e+03      9.97e+00       1.53e-03       4.64e+03    \n",
      "      325            405        8.5215e+03      6.88e+00       1.05e-03       1.85e+04    \n",
      "      326            406        8.5125e+03      9.00e+00       3.33e-04       3.51e+03    \n",
      "      327            407        8.5084e+03      4.09e+00       3.85e-04       3.63e+03    \n",
      "      328            408        8.5003e+03      8.09e+00       7.73e-04       3.40e+03    \n",
      "      329            410        8.4974e+03      2.93e+00       3.71e-04       3.91e+03    \n",
      "      330            411        8.4931e+03      4.30e+00       3.47e-04       3.56e+03    \n",
      "      331            412        8.4849e+03      8.20e+00       7.76e-04       3.47e+03    \n",
      "      332            413        8.4754e+03      9.53e+00       1.53e-03       4.65e+03    \n",
      "      333            414        8.4690e+03      6.41e+00       1.04e-03       1.86e+04    \n",
      "      334            415        8.4599e+03      9.07e+00       3.33e-04       3.49e+03    \n",
      "      335            416        8.4560e+03      3.94e+00       3.85e-04       3.64e+03    \n",
      "      336            417        8.4482e+03      7.77e+00       7.71e-04       3.34e+03    \n",
      "      337            419        8.4458e+03      2.41e+00       3.67e-04       3.95e+03    \n",
      "      338            420        8.4415e+03      4.33e+00       3.35e-04       3.56e+03    \n",
      "      339            421        8.4335e+03      7.95e+00       7.78e-04       3.42e+03    \n",
      "      340            422        8.4308e+03      2.73e+00       1.52e-03       6.51e+03    \n",
      "      341            423        8.4212e+03      9.53e+00       2.34e-04       4.34e+03    \n",
      "      342            424        8.4127e+03      8.55e+00       5.51e-04       3.34e+03    \n",
      "      343            426        8.4109e+03      1.76e+00       1.83e-04       3.63e+03    \n",
      "      344            427        8.4089e+03      2.01e+00       1.92e-04       3.55e+03    \n",
      "      345            428        8.4050e+03      3.95e+00       3.89e-04       3.47e+03    \n",
      "      346            429        8.3974e+03      7.54e+00       7.75e-04       3.72e+03    \n",
      "      347            430        8.3867e+03      1.08e+01       1.50e-03       1.32e+04    \n",
      "      348            432        8.3818e+03      4.85e+00       3.35e-04       3.76e+03    \n",
      "      349            433        8.3779e+03      3.92e+00       3.65e-04       3.46e+03    \n",
      "      350            434        8.3704e+03      7.49e+00       7.77e-04       3.69e+03    \n",
      "      351            435        8.3594e+03      1.10e+01       1.51e-03       1.26e+04    \n",
      "      352            437        8.3550e+03      4.42e+00       3.35e-04       3.78e+03    \n",
      "      353            438        8.3511e+03      3.89e+00       3.59e-04       3.46e+03    \n",
      "      354            439        8.3436e+03      7.47e+00       7.78e-04       3.65e+03    \n",
      "      355            440        8.3319e+03      1.17e+01       1.53e-03       1.13e+04    \n",
      "      356            442        8.3284e+03      3.51e+00       3.36e-04       3.83e+03    \n",
      "      357            443        8.3245e+03      3.93e+00       3.46e-04       3.47e+03    \n",
      "      358            444        8.3169e+03      7.57e+00       7.82e-04       3.49e+03    \n",
      "      359            445        8.3021e+03      1.48e+01       1.57e-03       3.46e+03    \n",
      "      360            448        8.3005e+03      1.62e+00       1.82e-04       3.60e+03    \n",
      "      361            449        8.2986e+03      1.91e+00       1.92e-04       3.50e+03    \n",
      "      362            450        8.2948e+03      3.73e+00       3.92e-04       3.42e+03    \n",
      "      363            451        8.2878e+03      7.01e+00       7.79e-04       3.70e+03    \n",
      "      364            452        8.2795e+03      8.31e+00       1.47e-03       1.51e+04    \n",
      "      365            454        8.2733e+03      6.18e+00       3.34e-04       3.60e+03    \n",
      "      366            455        8.2697e+03      3.66e+00       3.83e-04       3.40e+03    \n",
      "      367            456        8.2633e+03      6.41e+00       7.77e-04       3.80e+03    \n",
      "      368            457        8.2588e+03      4.49e+00       1.38e-03       1.86e+04    \n",
      "      369            458        8.2498e+03      8.96e+00       3.33e-04       3.39e+03    \n",
      "      370            459        8.2463e+03      3.49e+00       3.90e-04       3.57e+03    \n",
      "      371            460        8.2396e+03      6.77e+00       7.74e-04       3.96e+03    \n",
      "      372            462        8.2383e+03      1.27e+00       3.60e-04       3.94e+03    \n",
      "      373            463        8.2341e+03      4.20e+00       3.12e-04       3.50e+03    \n",
      "      374            464        8.2271e+03      7.03e+00       7.86e-04       3.27e+03    \n",
      "      375            466        8.2250e+03      2.08e+00       3.73e-04       3.84e+03    \n",
      "      376            467        8.2211e+03      3.86e+00       3.31e-04       3.43e+03    \n",
      "      377            468        8.2140e+03      7.15e+00       7.89e-04       3.35e+03    \n",
      "      378            469        8.2080e+03      5.98e+00       1.55e-03       5.18e+03    \n",
      "      379            470        8.2021e+03      5.90e+00       9.78e-04       1.83e+04    \n",
      "      380            471        8.1935e+03      8.63e+00       3.33e-04       3.39e+03    \n",
      "      381            472        8.1900e+03      3.50e+00       3.93e-04       3.47e+03    \n",
      "      382            473        8.1831e+03      6.86e+00       7.89e-04       3.25e+03    \n",
      "      383            475        8.1812e+03      1.92e+00       3.73e-04       3.83e+03    \n",
      "      384            476        8.1774e+03      3.81e+00       3.27e-04       3.41e+03    \n",
      "      385            477        8.1704e+03      6.98e+00       7.92e-04       3.33e+03    \n",
      "      386            478        8.1656e+03      4.75e+00       1.56e-03       5.46e+03    \n",
      "      387            479        8.1588e+03      6.80e+00       9.58e-04       1.76e+04    \n",
      "      388            480        8.1507e+03      8.11e+00       3.33e-04       3.40e+03    \n",
      "      389            481        8.1473e+03      3.45e+00       3.96e-04       3.35e+03    \n",
      "      390            482        8.1408e+03      6.53e+00       7.89e-04       3.60e+03    \n",
      "      391            483        8.1335e+03      7.29e+00       1.49e-03       1.51e+04    \n",
      "      392            485        8.1274e+03      6.04e+00       3.33e-04       3.53e+03    \n",
      "      393            486        8.1241e+03      3.36e+00       3.85e-04       3.31e+03    \n",
      "      394            487        8.1190e+03      5.07e+00       7.81e-04       3.84e+03    \n",
      "      395            488        8.1139e+03      5.11e+00       6.29e-04       6.83e+03    \n",
      "      396            490        8.1120e+03      1.90e+00       1.72e-04       3.43e+03    \n",
      "      397            491        8.1103e+03      1.70e+00       1.98e-04       3.37e+03    \n",
      "      398            492        8.1069e+03      3.37e+00       3.98e-04       3.33e+03    \n",
      "      399            493        8.1005e+03      6.38e+00       7.92e-04       3.57e+03    \n",
      "      400            494        8.0938e+03      6.71e+00       1.49e-03       1.54e+04    \n",
      "      401            496        8.0876e+03      6.27e+00       3.33e-04       3.49e+03    \n",
      "      402            497        8.0843e+03      3.28e+00       3.88e-04       3.29e+03    \n",
      "      403            498        8.0795e+03      4.75e+00       7.83e-04       3.84e+03    \n",
      "      404            499        8.0745e+03      4.99e+00       6.17e-04       6.84e+03    \n",
      "      405            500        8.0745e+03      0.00e+00       0.00e+00       6.84e+03    \n",
      "The maximum number of function evaluations is exceeded.\n",
      "Function evaluations 500, initial cost 5.9339e+07, final cost 8.0745e+03, first-order optimality 6.84e+03.\n"
     ]
    }
   ],
   "source": [
    "# Define the objective function\n",
    "def cost_function(x, strikes, mkt_prices):\n",
    "    sigm, lamb, p, eta1, eta2 = x\n",
    "    KOU = Kou_pricer(S0=S0, K=strikes, ttm=T, r=r, sigma=sigm, lambd=lamb, p=p, eta1=eta1, eta2=eta2, exercise=exercise)\n",
    "    sq_err = np.sum(c_weights*(KOU.closed_formula_call(strikes) - mkt_prices)**2)\n",
    "    return sq_err\n",
    "\n",
    "start2=time.time()\n",
    "kou2 = scpo.least_squares(cost_function, x0, args=(call_strikes, call_prices),  method='trf', bounds=bounds, verbose=2)\n",
    "end2=time.time()"
   ],
   "metadata": {
    "collapsed": false
   }
  },
  {
   "cell_type": "code",
   "execution_count": 19,
   "outputs": [],
   "source": [
    "kou_params2 = [round(p,4) for p in kou2.x[:5]]"
   ],
   "metadata": {
    "collapsed": false
   }
  },
  {
   "cell_type": "code",
   "execution_count": 20,
   "outputs": [],
   "source": [
    "# print('WEIGHTED OPT: CURVE_FIT (trf)')\n",
    "# print(f'> Calibrated Volatlity [σ] = {kou_params1[0]} \\t {kou_params1[0] * 100}%')\n",
    "# print('> Calibrated Jump intensity [λ] = ', kou_params1[1])\n",
    "# print(f'> Calibrated Upward Jump probability [p] = {kou_params1[2]}, [q] = {round(1 - kou_params1[2], 2)}')\n",
    "# print('> Calibrated Rate of Exp. 1  [η_1] = ', kou_params1[3])\n",
    "# print('> Calibrated Rate of Exp. 2  [η_2] = ', kou_params1[4])\n",
    "# print(f'TIME ELAPSED: {end1-start1} sec')"
   ],
   "metadata": {
    "collapsed": false
   }
  },
  {
   "cell_type": "code",
   "execution_count": 21,
   "outputs": [
    {
     "name": "stdout",
     "output_type": "stream",
     "text": [
      "METHOD 2: Least-squares\n",
      "> Calibrated Volatlity [σ] = 0.1192 \t 11.92%\n",
      "> Calibrated Jump intensity [λ] =  0.33\n",
      "> Calibrated Upward Jump probability [p] = 0.07, [q] = 0.93\n",
      "> Calibrated Rate of Exp. 1  [η_1] =  8.85\n",
      "> Calibrated Rate of Exp. 2  [η_2] =  10.17\n",
      "TIME ELAPSED:  4172.4 sec\n"
     ]
    }
   ],
   "source": [
    "print('METHOD 2: Least-squares')\n",
    "print(f'> Calibrated Volatlity [σ] = {round(kou_params2[0],4)} \\t {round(kou_params2[0]*100,2)}%')\n",
    "print('> Calibrated Jump intensity [λ] = ', round(kou_params2[1],2))\n",
    "print(f'> Calibrated Upward Jump probability [p] = {round(kou_params2[2],2)}, [q] = {round(1-kou_params2[2],2)}')\n",
    "print('> Calibrated Rate of Exp. 1  [η_1] = ', round(kou_params2[3],2))\n",
    "print('> Calibrated Rate of Exp. 2  [η_2] = ', round(kou_params2[4],2))\n",
    "print(f'TIME ELAPSED:  {round(end2-start2,2)} sec')"
   ],
   "metadata": {
    "collapsed": false
   }
  },
  {
   "cell_type": "code",
   "execution_count": 22,
   "outputs": [
    {
     "name": "stdout",
     "output_type": "stream",
     "text": [
      "[0.1192, 0.3314, 0.0675, 8.8496, 10.1685]\n"
     ]
    }
   ],
   "source": [
    "#print(kou_params1)\n",
    "print(kou_params2)"
   ],
   "metadata": {
    "collapsed": false
   }
  },
  {
   "cell_type": "markdown",
   "source": [
    "### Variance Gamma\n"
   ],
   "metadata": {
    "collapsed": false
   }
  },
  {
   "cell_type": "code",
   "execution_count": 23,
   "outputs": [],
   "source": [
    "x0 = [0.25, -0.2, 0.2]   # initial guess: [σ, θ, v]\n",
    "bounds = ( [1e-3, -5, 0], [1, 5, 5] )"
   ],
   "metadata": {
    "collapsed": false
   }
  },
  {
   "cell_type": "markdown",
   "source": [
    "##### Method 1. CURVE FIT (Bounds)"
   ],
   "metadata": {
    "collapsed": false
   }
  },
  {
   "cell_type": "code",
   "execution_count": 24,
   "outputs": [
    {
     "name": "stderr",
     "output_type": "stream",
     "text": [
      "C:\\Users\\ornel\\OneDrive\\Desktop\\TESI\\PythonProjects\\Margin-Loans-Pricing\\python-modules\\functions\\VGpricer.py:230: RuntimeWarning: overflow encountered in exp\n",
      "  f = lambda u: ss.norm.cdf(a / np.sqrt(u) + b * np.sqrt(u)) * np.exp((g - 1) * np.log(u)) * np.exp(\n",
      "C:\\Users\\ornel\\OneDrive\\Desktop\\TESI\\PythonProjects\\Margin-Loans-Pricing\\python-modules\\functions\\VGpricer.py:230: RuntimeWarning: invalid value encountered in scalar divide\n",
      "  f = lambda u: ss.norm.cdf(a / np.sqrt(u) + b * np.sqrt(u)) * np.exp((g - 1) * np.log(u)) * np.exp(\n",
      "C:\\Users\\ornel\\OneDrive\\Desktop\\TESI\\PythonProjects\\Margin-Loans-Pricing\\python-modules\\functions\\VGpricer.py:230: RuntimeWarning: invalid value encountered in scalar multiply\n",
      "  f = lambda u: ss.norm.cdf(a / np.sqrt(u) + b * np.sqrt(u)) * np.exp((g - 1) * np.log(u)) * np.exp(\n",
      "C:\\Users\\ornel\\OneDrive\\Desktop\\TESI\\PythonProjects\\Margin-Loans-Pricing\\python-modules\\functions\\VGpricer.py:232: IntegrationWarning: The maximum number of subdivisions (50) has been achieved.\n",
      "  If increasing the limit yields no improvement it is advised to analyze \n",
      "  the integrand in order to determine the difficulties.  If the position of a \n",
      "  local difficulty can be determined (singularity, discontinuity) one will \n",
      "  probably gain from splitting up the interval and calling the integrator \n",
      "  on the subranges.  Perhaps a special-purpose integrator should be used.\n",
      "  result = quad(f, 0, np.inf)\n"
     ]
    }
   ],
   "source": [
    "def f_VG(strikes, sigmax, thetax, nux):\n",
    "    VGamma = VG_pricer(S0=S0, K=None, ttm=T, r=r, q=0, sigma=sigmax, theta=thetax, nu=nux, exercise=exercise)\n",
    "    vg_prices = []\n",
    "    for k in strikes:\n",
    "        vg_prices.append(VGamma.closed_formula_call(k))\n",
    "    return vg_prices\n",
    "\n",
    "start1 = time.time()\n",
    "vg1 = scpo.curve_fit(f_VG, call_strikes, call_prices, p0=x0, bounds=bounds, sigma=c_weights)\n",
    "end1 = time.time()\n",
    "\n",
    "vg_params1 = [round(p,4) for p in vg1[0][:3]]"
   ],
   "metadata": {
    "collapsed": false
   }
  },
  {
   "cell_type": "markdown",
   "source": [
    "##### Method 2. LEAST-SQUARES (Trust Region Reflective, Bounds)"
   ],
   "metadata": {
    "collapsed": false
   }
  },
  {
   "cell_type": "code",
   "execution_count": 25,
   "outputs": [
    {
     "name": "stdout",
     "output_type": "stream",
     "text": [
      "   Iteration     Total nfev        Cost      Cost reduction    Step norm     Optimality   \n",
      "       0              1         2.0835e+04                                    3.69e+05    \n",
      "       1              3         3.0366e+03      1.78e+04       3.04e-01       2.04e+04    \n",
      "       2              4         2.6787e+02      2.77e+03       1.24e-01       1.35e+04    \n",
      "       3              7         1.7313e+02      9.47e+01       9.91e-03       3.65e+03    \n",
      "       4              9         1.6652e+02      6.61e+00       3.49e-03       4.26e+03    \n",
      "       5             10         1.6148e+02      5.04e+00       5.66e-03       4.24e+03    \n",
      "       6             11         1.5196e+02      9.52e+00       1.18e-02       3.80e+03    \n",
      "       7             12         1.3830e+02      1.37e+01       2.31e-02       2.82e+03    \n",
      "       8             13         1.2557e+02      1.27e+01       1.92e-02       2.27e+03    \n",
      "       9             14         1.1853e+02      7.04e+00       4.67e-02       1.99e+03    \n",
      "      10             16         1.1289e+02      5.65e+00       6.29e-03       1.78e+02    \n",
      "      11             17         1.1204e+02      8.45e-01       2.31e-03       1.27e+03    \n",
      "      12             19         1.1168e+02      3.57e-01       2.21e-03       4.05e+02    \n",
      "      13             20         1.1131e+02      3.69e-01       1.85e-03       4.34e+02    \n",
      "      14             21         1.1069e+02      6.30e-01       4.39e-03       3.02e+02    \n",
      "      15             22         1.0981e+02      8.76e-01       7.69e-03       2.80e+02    \n",
      "      16             24         1.0969e+02      1.24e-01       5.26e-03       3.79e+02    \n",
      "      17             26         1.0954e+02      1.45e-01       8.37e-04       5.55e+01    \n",
      "      18             27         1.0948e+02      5.84e-02       3.59e-04       1.76e+02    \n",
      "      19             28         1.0943e+02      5.54e-02       1.17e-03       4.30e+01    \n",
      "      20             29         1.0934e+02      8.32e-02       8.01e-04       2.67e+02    \n",
      "      21             31         1.0933e+02      1.64e-02       5.98e-04       3.33e+01    \n",
      "      22             32         1.0930e+02      2.61e-02       1.86e-04       8.94e+01    \n",
      "      23             33         1.0925e+02      5.04e-02       7.94e-04       6.29e+01    \n",
      "      24             34         1.0916e+02      9.32e-02       1.24e-03       1.03e+02    \n",
      "      25             35         1.0911e+02      4.58e-02       3.83e-03       4.43e+02    \n",
      "      26             36         1.0899e+02      1.18e-01       1.07e-03       8.07e+01    \n",
      "      27             37         1.0897e+02      2.43e-02       6.38e-04       1.73e+02    \n",
      "      28             39         1.0896e+02      1.16e-02       2.40e-04       4.07e+01    \n",
      "      29             40         1.0895e+02      1.04e-02       1.30e-04       3.71e+01    \n",
      "      30             41         1.0893e+02      2.07e-02       2.45e-04       3.43e+01    \n",
      "      31             42         1.0889e+02      4.12e-02       4.71e-04       3.27e+01    \n",
      "      32             43         1.0880e+02      8.14e-02       9.22e-04       2.79e+01    \n",
      "      33             44         1.0865e+02      1.58e-01       1.54e-03       8.36e+01    \n",
      "      34             47         1.0864e+02      2.43e-03       3.93e-04       1.25e+02    \n",
      "      35             48         1.0864e+02      7.87e-03       1.04e-04       8.75e+01    \n",
      "      36             49         1.0862e+02      1.22e-02       1.77e-04       2.82e+01    \n",
      "      37             50         1.0860e+02      1.91e-02       1.82e-04       4.73e+01    \n",
      "      38             51         1.0857e+02      3.75e-02       5.83e-04       3.49e+01    \n",
      "      39             52         1.0854e+02      2.92e-02       8.93e-04       2.94e+02    \n",
      "      40             54         1.0850e+02      3.99e-02       4.35e-04       2.77e+01    \n",
      "      41             55         1.0848e+02      1.96e-02       1.52e-04       4.52e+01    \n",
      "      42             56         1.0844e+02      3.87e-02       5.68e-04       2.79e+01    \n",
      "      43             57         1.0839e+02      4.80e-02       6.90e-04       2.39e+02    \n",
      "      44             59         1.0837e+02      2.13e-02       4.41e-04       5.56e+01    \n",
      "      45             60         1.0835e+02      1.91e-02       2.72e-04       5.53e+01    \n",
      "      46             61         1.0833e+02      1.97e-02       3.25e-04       2.74e+01    \n",
      "      47             62         1.0829e+02      3.90e-02       3.33e-04       6.20e+01    \n",
      "      48             63         1.0826e+02      3.34e-02       1.40e-03       2.55e+02    \n",
      "      49             65         1.0822e+02      4.08e-02       5.07e-04       8.06e+01    \n",
      "      50             66         1.0820e+02      1.95e-02       3.38e-04       4.70e+01    \n",
      "      51             67         1.0818e+02      1.96e-02       2.92e-04       2.73e+01    \n",
      "      52             68         1.0814e+02      3.88e-02       3.26e-04       5.54e+01    \n",
      "      53             69         1.0811e+02      3.05e-02       1.30e-03       2.65e+02    \n",
      "      54             71         1.0807e+02      4.22e-02       5.14e-04       9.00e+01    \n",
      "      55             72         1.0805e+02      1.98e-02       3.61e-04       4.30e+01    \n",
      "      56             73         1.0803e+02      1.95e-02       2.76e-04       2.72e+01    \n",
      "      57             74         1.0799e+02      3.87e-02       3.26e-04       5.16e+01    \n",
      "      58             75         1.0795e+02      3.78e-02       1.24e-03       2.42e+02    \n",
      "      59             77         1.0791e+02      3.82e-02       5.07e-04       6.88e+01    \n",
      "      60             78         1.0790e+02      1.86e-02       3.17e-04       4.97e+01    \n",
      "      61             79         1.0788e+02      1.87e-02       3.04e-04       2.72e+01    \n",
      "      62             80         1.0784e+02      3.63e-02       3.05e-04       8.13e+01    \n",
      "      63             82         1.0784e+02      3.93e-03       3.97e-04       1.14e+02    \n",
      "      64             83         1.0783e+02      7.48e-03       1.00e-04       7.73e+01    \n",
      "      65             84         1.0782e+02      1.16e-02       1.67e-04       2.71e+01    \n",
      "      66             85         1.0780e+02      1.89e-02       1.64e-04       4.65e+01    \n",
      "      67             86         1.0776e+02      3.70e-02       5.83e-04       3.12e+01    \n",
      "      68             87         1.0773e+02      2.98e-02       8.48e-04       2.88e+02    \n",
      "      69             89         1.0769e+02      3.77e-02       4.36e-04       2.68e+01    \n",
      "      70             90         1.0767e+02      1.90e-02       1.54e-04       4.90e+01    \n",
      "      71             91         1.0764e+02      3.73e-02       6.05e-04       2.70e+01    \n",
      "      72             92         1.0760e+02      3.36e-02       7.72e-04       2.80e+02    \n",
      "      73             94         1.0757e+02      3.35e-02       4.40e-04       2.66e+01    \n",
      "      74             95         1.0755e+02      1.88e-02       1.67e-04       5.46e+01    \n",
      "      75             96         1.0751e+02      3.67e-02       6.52e-04       3.10e+01    \n",
      "      76             97         1.0749e+02      2.37e-02       8.30e-04       3.07e+02    \n",
      "      77             99         1.0745e+02      4.18e-02       4.40e-04       2.62e+01    \n",
      "      78             100        1.0743e+02      1.95e-02       1.61e-04       4.41e+01    \n",
      "      79             101        1.0739e+02      3.85e-02       5.64e-04       2.64e+01    \n",
      "      80             102        1.0733e+02      5.89e-02       5.94e-04       1.93e+02    \n",
      "      81             104        1.0733e+02      7.05e-03       4.51e-04       9.60e+01    \n",
      "      82             105        1.0732e+02      7.13e-03       8.98e-05       6.07e+01    \n",
      "      83             106        1.0731e+02      1.13e-02       1.42e-04       2.62e+01    \n",
      "      84             107        1.0729e+02      1.91e-02       1.47e-04       4.94e+01    \n",
      "      85             108        1.0725e+02      3.75e-02       6.11e-04       2.63e+01    \n",
      "      86             109        1.0721e+02      4.02e-02       6.81e-04       2.60e+02    \n",
      "      87             111        1.0718e+02      2.62e-02       4.45e-04       3.54e+01    \n",
      "      88             112        1.0717e+02      1.84e-02       2.16e-04       5.96e+01    \n",
      "      89             113        1.0713e+02      3.57e-02       6.97e-04       3.73e+01    \n",
      "      90             114        1.0712e+02      1.25e-02       8.99e-04       3.34e+02    \n",
      "      91             115        1.0707e+02      5.00e-02       4.40e-04       3.76e+01    \n",
      "      92             116        1.0705e+02      1.96e-02       2.54e-04       2.91e+01    \n",
      "      93             117        1.0701e+02      3.90e-02       4.37e-04       3.67e+01    \n",
      "      94             118        1.0693e+02      7.62e-02       1.01e-03       2.60e+01    \n",
      "      95             119        1.0692e+02      8.47e-03       1.34e-03       5.01e+02    \n",
      "      96             120        1.0681e+02      1.12e-01       8.55e-04       1.04e+02    \n",
      "      97             121        1.0679e+02      2.19e-02       7.33e-04       1.75e+02    \n",
      "      98             123        1.0678e+02      1.15e-02       2.41e-04       4.08e+01    \n",
      "      99             124        1.0677e+02      9.84e-03       1.33e-04       3.68e+01    \n",
      "      100            125        1.0675e+02      1.96e-02       2.49e-04       3.43e+01    \n",
      "      101            126        1.0671e+02      3.90e-02       4.79e-04       3.32e+01    \n",
      "      102            127        1.0663e+02      7.70e-02       9.45e-04       2.52e+01    \n",
      "      103            128        1.0649e+02      1.48e-01       1.53e-03       9.96e+01    \n",
      "      104            132        1.0648e+02      5.34e-03       1.06e-04       4.17e+01    \n",
      "      105            133        1.0648e+02      4.77e-03       6.90e-05       3.32e+01    \n",
      "      106            134        1.0647e+02      9.44e-03       1.20e-04       2.52e+01    \n",
      "      107            135        1.0645e+02      1.89e-02       1.99e-04       2.52e+01    \n",
      "      108            136        1.0641e+02      3.76e-02       3.77e-04       2.52e+01    \n",
      "      109            137        1.0633e+02      7.49e-02       7.98e-04       2.53e+01    \n",
      "      110            138        1.0621e+02      1.21e-01       1.19e-03       2.32e+02    \n",
      "      111            141        1.0619e+02      2.19e-02       4.31e-04       6.69e+01    \n",
      "      112            142        1.0617e+02      1.76e-02       3.17e-04       5.28e+01    \n",
      "      113            143        1.0616e+02      1.70e-02       3.25e-04       2.52e+01    \n",
      "      114            144        1.0613e+02      3.08e-02       3.41e-04       1.13e+02    \n",
      "      115            147        1.0612e+02      5.81e-03       1.10e-04       5.10e+01    \n",
      "      116            148        1.0612e+02      4.76e-03       7.94e-05       3.73e+01    \n",
      "      117            149        1.0611e+02      9.37e-03       1.29e-04       2.48e+01    \n",
      "      118            150        1.0609e+02      1.87e-02       2.06e-04       2.47e+01    \n",
      "      119            151        1.0605e+02      3.73e-02       3.83e-04       2.50e+01    \n",
      "      120            152        1.0598e+02      7.41e-02       8.27e-04       2.49e+01    \n",
      "      121            153        1.0587e+02      1.02e-01       1.18e-03       2.92e+02    \n",
      "      122            156        1.0584e+02      3.40e-02       2.15e-04       1.43e+02    \n",
      "      123            157        1.0583e+02      9.92e-03       2.20e-04       2.45e+01    \n",
      "      124            158        1.0582e+02      9.30e-03       7.52e-05       2.44e+01    \n",
      "      125            159        1.0580e+02      1.85e-02       1.91e-04       2.43e+01    \n",
      "      126            160        1.0577e+02      3.70e-02       4.08e-04       2.44e+01    \n",
      "      127            161        1.0569e+02      7.34e-02       7.14e-04       4.64e+01    \n",
      "      128            163        1.0566e+02      2.73e-02       5.99e-04       9.80e+01    \n",
      "      129            164        1.0565e+02      1.70e-02       7.81e-04       1.74e+02    \n",
      "      130            166        1.0563e+02      1.41e-02       2.21e-04       3.21e+01    \n",
      "      131            167        1.0562e+02      9.23e-03       1.18e-04       2.42e+01    \n",
      "      132            168        1.0561e+02      1.84e-02       2.03e-04       2.41e+01    \n",
      "      133            169        1.0557e+02      3.68e-02       3.90e-04       2.41e+01    \n",
      "      134            170        1.0550e+02      7.33e-02       8.08e-04       2.42e+01    \n",
      "      135            171        1.0537e+02      1.30e-01       1.23e-03       1.78e+02    \n",
      "      136            174        1.0536e+02      5.81e-03       4.34e-04       1.16e+02    \n",
      "      137            175        1.0535e+02      7.25e-03       1.04e-04       7.86e+01    \n",
      "      138            176        1.0534e+02      1.10e-02       1.74e-04       2.41e+01    \n",
      "      139            177        1.0532e+02      1.75e-02       1.58e-04       4.76e+01    \n",
      "      140            178        1.0529e+02      3.34e-02       6.15e-04       4.30e+01    \n",
      "      141            179        1.0529e+02      3.34e-03       1.01e-03       3.41e+02    \n",
      "      142            180        1.0523e+02      5.57e-02       4.33e-04       4.27e+01    \n",
      "      143            181        1.0521e+02      1.82e-02       2.86e-04       2.36e+01    \n",
      "      144            182        1.0518e+02      3.59e-02       3.35e-04       5.55e+01    \n",
      "      145            183        1.0514e+02      4.06e-02       1.37e-03       2.10e+02    \n",
      "      146            185        1.0510e+02      3.26e-02       4.96e-04       3.97e+01    \n",
      "      147            186        1.0509e+02      1.66e-02       2.40e-04       5.71e+01    \n",
      "      148            187        1.0507e+02      2.11e-02       6.98e-04       1.26e+02    \n",
      "      149            188        1.0505e+02      1.87e-02       8.52e-04       1.71e+02    \n",
      "      150            190        1.0503e+02      1.26e-02       2.26e-04       3.03e+01    \n",
      "      151            191        1.0503e+02      9.12e-03       1.15e-04       2.68e+01    \n",
      "      152            192        1.0501e+02      1.82e-02       2.14e-04       2.55e+01    \n",
      "      153            193        1.0497e+02      3.63e-02       4.18e-04       2.53e+01    \n",
      "      154            194        1.0490e+02      7.23e-02       8.34e-04       2.33e+01    \n",
      "      155            195        1.0476e+02      1.41e-01       1.43e-03       8.24e+01    \n",
      "      156            199        1.0475e+02      4.64e-03       1.02e-04       2.89e+01    \n",
      "      157            200        1.0475e+02      4.49e-03       5.63e-05       2.48e+01    \n",
      "      158            201        1.0474e+02      8.95e-03       1.04e-04       2.32e+01    \n",
      "      159            202        1.0472e+02      1.79e-02       1.88e-04       2.32e+01    \n",
      "      160            203        1.0469e+02      3.57e-02       3.69e-04       2.31e+01    \n",
      "      161            204        1.0461e+02      7.13e-02       7.50e-04       2.32e+01    \n",
      "      162            205        1.0448e+02      1.38e-01       1.30e-03       9.59e+01    \n",
      "      163            209        1.0447e+02      5.27e-03       1.04e-04       3.45e+01    \n",
      "      164            210        1.0447e+02      4.47e-03       6.27e-05       2.68e+01    \n",
      "      165            211        1.0446e+02      8.86e-03       1.08e-04       2.29e+01    \n",
      "      166            212        1.0444e+02      1.77e-02       1.82e-04       2.29e+01    \n",
      "      167            213        1.0440e+02      3.54e-02       3.54e-04       2.29e+01    \n",
      "      168            214        1.0433e+02      7.06e-02       7.36e-04       2.29e+01    \n",
      "      169            215        1.0421e+02      1.29e-01       1.19e-03       1.58e+02    \n",
      "      170            218        1.0420e+02      1.07e-03       4.31e-04       1.35e+02    \n",
      "      171            219        1.0420e+02      7.73e-03       1.12e-04       9.57e+01    \n",
      "      172            220        1.0418e+02      1.14e-02       1.95e-04       2.40e+01    \n",
      "      173            221        1.0417e+02      1.63e-02       1.92e-04       5.22e+01    \n",
      "      174            222        1.0415e+02      1.73e-02       6.67e-04       1.43e+02    \n",
      "      175            223        1.0413e+02      1.96e-02       9.06e-04       1.64e+02    \n",
      "      176            225        1.0412e+02      1.21e-02       2.24e-04       2.39e+01    \n",
      "      177            226        1.0411e+02      8.83e-03       1.02e-04       2.46e+01    \n",
      "      178            227        1.0409e+02      1.76e-02       2.06e-04       2.42e+01    \n",
      "      179            228        1.0406e+02      3.52e-02       4.10e-04       2.30e+01    \n",
      "      180            229        1.0399e+02      7.02e-02       8.00e-04       2.26e+01    \n",
      "      181            230        1.0385e+02      1.40e-01       1.59e-03       2.23e+01    \n",
      "      182            231        1.0370e+02      1.51e-01       2.28e-03       4.75e+02    \n",
      "      183            234        1.0359e+02      1.06e-01       4.25e-04       1.74e+02    \n",
      "      184            235        1.0359e+02      2.61e-03       4.46e-04       1.18e+02    \n",
      "      185            236        1.0358e+02      7.29e-03       1.04e-04       7.98e+01    \n",
      "      186            237        1.0357e+02      1.08e-02       1.75e-04       2.19e+01    \n",
      "      187            238        1.0355e+02      1.64e-02       1.51e-04       5.34e+01    \n",
      "      188            239        1.0352e+02      3.06e-02       6.91e-04       5.03e+01    \n",
      "      189            241        1.0351e+02      1.56e-02       2.77e-04       6.04e+01    \n",
      "      190            242        1.0349e+02      1.29e-02       3.74e-04       4.36e+01    \n",
      "      191            243        1.0348e+02      1.56e-02       2.55e-04       6.08e+01    \n",
      "      192            244        1.0347e+02      1.29e-02       3.76e-04       4.26e+01    \n",
      "      193            245        1.0345e+02      1.55e-02       2.52e-04       6.10e+01    \n",
      "      194            246        1.0344e+02      1.31e-02       3.77e-04       4.11e+01    \n",
      "      195            247        1.0342e+02      1.55e-02       2.47e-04       6.11e+01    \n",
      "      196            248        1.0341e+02      1.31e-02       3.78e-04       3.99e+01    \n",
      "      197            249        1.0339e+02      1.55e-02       2.43e-04       6.12e+01    \n",
      "      198            250        1.0338e+02      1.32e-02       3.79e-04       3.91e+01    \n",
      "      199            251        1.0336e+02      1.55e-02       2.40e-04       6.13e+01    \n",
      "      200            252        1.0335e+02      1.33e-02       3.79e-04       3.85e+01    \n",
      "      201            253        1.0333e+02      1.72e-02       2.38e-04       6.12e+01    \n",
      "      202            254        1.0332e+02      1.43e-02       7.59e-04       1.40e+02    \n",
      "      203            255        1.0330e+02      1.91e-02       8.89e-04       1.67e+02    \n",
      "      204            257        1.0329e+02      1.16e-02       2.30e-04       2.74e+01    \n",
      "      205            258        1.0328e+02      8.65e-03       1.10e-04       2.77e+01    \n",
      "      206            259        1.0326e+02      1.73e-02       2.21e-04       2.71e+01    \n",
      "      207            260        1.0323e+02      3.45e-02       4.38e-04       2.58e+01    \n",
      "      208            261        1.0316e+02      6.86e-02       8.54e-04       2.45e+01    \n",
      "      209            262        1.0302e+02      1.36e-01       1.67e-03       2.12e+01    \n",
      "      210            263        1.0280e+02      2.24e-01       2.50e-03       2.96e+02    \n",
      "      211            267        1.0277e+02      3.50e-02       2.15e-04       1.47e+02    \n",
      "      212            268        1.0276e+02      1.02e-02       2.21e-04       2.08e+01    \n",
      "      213            269        1.0275e+02      8.40e-03       7.19e-05       2.08e+01    \n",
      "      214            270        1.0273e+02      1.68e-02       1.92e-04       2.17e+01    \n",
      "      215            271        1.0270e+02      3.35e-02       3.93e-04       2.07e+01    \n",
      "      216            272        1.0263e+02      6.68e-02       7.35e-04       3.17e+01    \n",
      "      217            273        1.0252e+02      1.15e-01       1.96e-03       1.68e+02    \n",
      "      218            276        1.0249e+02      2.43e-02       4.90e-04       2.07e+01    \n",
      "      219            277        1.0247e+02      1.62e-02       1.37e-04       3.60e+01    \n",
      "      220            278        1.0244e+02      3.05e-02       5.33e-04       4.32e+01    \n",
      "      221            280        1.0243e+02      1.47e-02       2.67e-04       5.73e+01    \n",
      "      222            281        1.0242e+02      5.47e-03       3.61e-04       1.02e+02    \n",
      "      223            282        1.0241e+02      1.70e-02       4.13e-04       4.32e+01    \n",
      "      224            283        1.0239e+02      1.51e-02       3.04e-04       2.07e+01    \n",
      "      225            284        1.0237e+02      2.55e-02       3.42e-04       1.18e+02    \n",
      "      226            286        1.0236e+02      6.69e-03       2.21e-04       2.06e+01    \n",
      "      227            287        1.0235e+02      8.36e-03       8.10e-05       2.02e+01    \n",
      "      228            288        1.0233e+02      1.66e-02       1.84e-04       2.43e+01    \n",
      "      229            289        1.0230e+02      3.30e-02       4.18e-04       2.02e+01    \n",
      "      230            290        1.0224e+02      6.39e-02       6.39e-04       7.62e+01    \n",
      "      231            293        1.0223e+02      5.09e-03       2.07e-04       2.71e+01    \n",
      "      232            294        1.0222e+02      8.43e-03       1.02e-04       2.01e+01    \n",
      "      233            295        1.0221e+02      1.64e-02       1.71e-04       2.63e+01    \n",
      "      234            296        1.0218e+02      3.27e-02       4.39e-04       2.02e+01    \n",
      "      235            297        1.0212e+02      5.83e-02       5.58e-04       1.26e+02    \n",
      "      236            300        1.0211e+02      7.40e-03       2.22e-04       2.03e+01    \n",
      "The maximum number of function evaluations is exceeded.\n",
      "Function evaluations 300, initial cost 2.0835e+04, final cost 1.0211e+02, first-order optimality 2.03e+01.\n"
     ]
    }
   ],
   "source": [
    "def cost_function(x, strikes, mkt_prices):\n",
    "    sigma, theta, nu = x\n",
    "    VG = VG_pricer(S0, None, T, r, q, sigma, theta, nu, exercise)\n",
    "    prices = []\n",
    "    for k in strikes:\n",
    "        prices.append(VG.closed_formula_call(k))\n",
    "    sq_err = np.sum(c_weights*(prices - mkt_prices)**2)\n",
    "    return sq_err\n",
    "\n",
    "start2=time.time()\n",
    "vg2 = scpo.least_squares(cost_function, x0, args=(call_strikes, call_prices),  method='trf', bounds=bounds, verbose=2, loss='soft_l1')\n",
    "end2=time.time()\n",
    "\n",
    "vg_params2 = [round(p,4) for p in vg2.x[:3]]"
   ],
   "metadata": {
    "collapsed": false
   }
  },
  {
   "cell_type": "code",
   "execution_count": 26,
   "outputs": [
    {
     "name": "stdout",
     "output_type": "stream",
     "text": [
      "WEIGHTED OPT: CURVE_FIT (trf)\n",
      "> Calibrated Volatlity [σ] = 0.0055, \t 0.55%\n",
      "> Calibrated mean rate gamma process [θ] =  -0.8304\n",
      "> Calibrated variance rate gamma process [v]=  0.0294\n",
      "TIME ELAPSED:  144.11 sec\n",
      "METHOD 1: LEAST-SQUARES (trf)\n",
      "> Calibrated Volatlity [σ] = 0.1259, \t 12.59%\n",
      "> Calibrated mean rate gamma process [θ] =  0.1715\n",
      "> Calibrated variance rate gamma process [v]=  0.1711\n",
      "TIME ELAPSED:  347.39 sec\n"
     ]
    }
   ],
   "source": [
    "print('WEIGHTED OPT: CURVE_FIT (trf)')\n",
    "print(f'> Calibrated Volatlity [σ] = {vg_params1[0]}, \\t {round(vg_params1[0]*100,2)}%')\n",
    "print('> Calibrated mean rate gamma process [θ] = ', vg_params1[1])\n",
    "print('> Calibrated variance rate gamma process [v]= ', vg_params1[2])\n",
    "print(f'TIME ELAPSED:  {round(end1-start1,2)} sec')\n",
    "\n",
    "print('METHOD 1: LEAST-SQUARES (trf)')\n",
    "print(f'> Calibrated Volatlity [σ] = {vg_params2[0]}, \\t {round(vg_params2[0]*100,2)}%')\n",
    "print('> Calibrated mean rate gamma process [θ] = ', vg_params2[1])\n",
    "print('> Calibrated variance rate gamma process [v]= ', vg_params2[2])\n",
    "print(f'TIME ELAPSED:  {round(end2-start2,2)} sec')"
   ],
   "metadata": {
    "collapsed": false
   }
  },
  {
   "cell_type": "code",
   "execution_count": 27,
   "outputs": [
    {
     "name": "stdout",
     "output_type": "stream",
     "text": [
      "[0.0055, -0.8304, 0.0294]\n",
      "[0.1259, 0.1715, 0.1711]\n"
     ]
    }
   ],
   "source": [
    "print(vg_params1)\n",
    "print(vg_params2)"
   ],
   "metadata": {
    "collapsed": false
   }
  },
  {
   "cell_type": "markdown",
   "source": [
    "### Reprice options using calibrated parameters\n",
    "Once we have calibrated all the models, we test our parameters calibration by repricing the original dataframe of options. The table contains all the **BID**, **ASK** and **MIDPOINT** prices. The calibration is well perfromed if the prices we obtain belong to the interval $[BID, ASK]$."
   ],
   "metadata": {
    "collapsed": false
   },
   "outputs": []
  },
  {
   "cell_type": "code",
   "execution_count": 35,
   "outputs": [
    {
     "name": "stdout",
     "output_type": "stream",
     "text": [
      "MARKET PRICES. STARTING DATE = 20-01-2016. EXPIRY = 1YEAR. \n",
      "\n",
      "    STRIKE  MKT_BID  MKT_MID  MKT_ASK\n",
      "0   1450.0   428.40  430.500   432.60\n",
      "1   1525.0   367.60  369.600   371.60\n",
      "2   1600.0   309.29  311.240   313.19\n",
      "3   1625.0   290.60  292.505   294.41\n",
      "4   1650.0   272.29  274.200   276.11\n",
      "5   1700.0   237.10  238.900   240.70\n",
      "6   1725.0   220.00  221.855   223.71\n",
      "7   1750.0   203.50  205.300   207.10\n",
      "8   1800.0   171.80  173.500   175.20\n",
      "9   1850.0   142.59  144.250   145.91\n",
      "10  1925.0   103.00  104.550   106.10\n",
      "11  1950.0    91.20   92.745    94.29\n",
      "12  2000.0    70.00   71.455    72.91\n",
      "13  2025.0    60.40   61.800    63.20\n",
      "14  2125.0    29.70   30.900    32.10\n",
      "15  2150.0    24.11   25.305    26.50\n",
      "16  2200.0    15.21   16.255    17.30\n",
      "17  2250.0     8.89    9.945    11.00\n",
      "18  2350.0     2.44    3.470     4.50\n",
      "19  2375.0     1.64    2.670     3.70\n",
      "20  2400.0     1.05    2.080     3.11\n",
      "21  2425.0     0.54    1.270     2.00\n"
     ]
    }
   ],
   "source": [
    "days = 252\n",
    "paths = 1000\n",
    "\n",
    "call_calib_prices = pd.DataFrame({\n",
    "    'STRIKE': calls['STRIKE'],    # array of K for call options\n",
    "    'MKT_BID': calls['C_BID'],\n",
    "    'MKT_MID': calls['C_Midpoint'],\n",
    "    'MKT_ASK': calls['C_ASK'],\n",
    "\n",
    "})\n",
    "print(f'MARKET PRICES. STARTING DATE = 20-01-2016. EXPIRY = 1YEAR. \\n\\n{call_calib_prices}')"
   ],
   "metadata": {
    "collapsed": false
   }
  },
  {
   "cell_type": "markdown",
   "source": [
    "#### Merton Jump Diffusion model"
   ],
   "metadata": {
    "collapsed": false
   }
  },
  {
   "cell_type": "code",
   "execution_count": 36,
   "outputs": [
    {
     "name": "stdout",
     "output_type": "stream",
     "text": [
      "    STRIKE  MKT_BID  MKT_MID  MKT_ASK   MERTON MC   MERTON CF\n",
      "0   1450.0   428.40  430.500   432.60  457.285283  456.517677\n",
      "1   1525.0   367.60  369.600   371.60  399.058551  387.617720\n",
      "2   1600.0   309.29  311.240   313.19  340.831819  321.425475\n",
      "3   1625.0   290.60  292.505   294.41  321.422909  300.172844\n",
      "4   1650.0   272.29  274.200   276.11  302.013998  279.411102\n",
      "5   1700.0   237.10  238.900   240.70  263.196177  239.578306\n",
      "6   1725.0   220.00  221.855   223.71  245.183910  220.617445\n",
      "7   1750.0   203.50  205.300   207.10  228.201113  202.365501\n",
      "8   1800.0   171.80  173.500   175.20  194.235519  168.187220\n",
      "9   1850.0   142.59  144.250   145.91  171.929460  137.391290\n",
      "10  1925.0   103.00  104.550   106.10  142.816094   98.029192\n",
      "11  1950.0    91.20   92.745    94.29  133.111639   86.773320\n",
      "12  2000.0    70.00   71.455    72.91  113.702728   67.012334\n",
      "13  2025.0    60.40   61.800    63.20  104.306732   58.460897\n",
      "14  2125.0    29.70   30.900    32.10   75.193366   32.246576\n",
      "15  2150.0    24.11   25.305    26.50   67.915024   27.454619\n",
      "16  2200.0    15.21   16.255    17.30   54.974386   19.618098\n",
      "17  2250.0     8.89    9.945    11.00   50.122158   13.757982\n",
      "18  2350.0     2.44    3.470     4.50   40.417703    6.409802\n",
      "19  2375.0     1.64    2.670     3.70   37.991589    5.238614\n",
      "20  2400.0     1.05    2.080     3.11   35.565475    4.263652\n",
      "21  2425.0     0.54    1.270     2.00   33.139362    3.456047\n"
     ]
    }
   ],
   "source": [
    "mert_params2 = [0.114, 0.4987, -0.0956, 0.0733]\n",
    "sigma, lambd, meanJ, stdJ = mert_params2\n",
    "MertonCAL = Merton_pricer(S0, None, T, r, q, sigma, lambd, meanJ, stdJ, exercise)\n",
    "SMerton_CAL = MertonCAL.MertonPath(days, paths)\n",
    "\n",
    "avg_payoffs = []\n",
    "for k in call_strikes:\n",
    "    payoffs = []        # stores here the payoff for each path, for a specific couple K1-K2\n",
    "    for St in SMerton_CAL[-1]:\n",
    "        payoffs.append(MertonCAL.payoff_call(k, St))\n",
    "    avg_payoffs.append(np.mean(payoffs))\n",
    "\n",
    "merton_mc_prices = np.zeros(len(call_calib_prices))\n",
    "merton_cf_prices = np.zeros(len(call_calib_prices))\n",
    "\n",
    "for index in range(len(call_calib_prices)):\n",
    "    merton_mc_prices[index] = np.exp(-r*T)* avg_payoffs[index]\n",
    "    merton_cf_prices[index] = MertonCAL.closed_formula_call(call_strikes[index])\n",
    "\n",
    "call_calib_prices['MERTON MC'] = merton_mc_prices\n",
    "call_calib_prices['MERTON CF'] = merton_cf_prices\n",
    "\n",
    "print(call_calib_prices)"
   ],
   "metadata": {
    "collapsed": false
   }
  },
  {
   "cell_type": "code",
   "execution_count": 68,
   "outputs": [
    {
     "name": "stdout",
     "output_type": "stream",
     "text": [
      "    STRIKE  MKT_BID  MKT_MID  MKT_ASK      KOU MC      KOU CF\n",
      "0   1450.0   428.40  430.500   432.60  445.253616  455.788336\n",
      "1   1525.0   367.60  369.600   371.60  372.470201  385.921796\n",
      "2   1600.0   309.29  311.240   313.19  299.686786  318.481675\n",
      "3   1625.0   290.60  292.505   294.41  275.425647  296.797584\n",
      "4   1650.0   272.29  274.200   276.11  251.164509  275.619836\n",
      "5   1700.0   237.10  238.900   240.70  208.709124  235.061355\n",
      "6   1725.0   220.00  221.855   223.71  189.300214  215.818942\n",
      "7   1750.0   203.50  205.300   207.10  172.128167  197.355484\n",
      "8   1800.0   171.80  173.500   175.20  141.856617  162.995703\n",
      "9   1850.0   142.59  144.250   145.91  116.728751  132.359580\n",
      "10  1925.0   103.00  104.550   106.10   87.605286   93.812697\n",
      "11  1950.0    91.20   92.745    94.29   79.429777   82.945845\n",
      "12  2000.0    70.00   71.455    72.91   64.873094   64.065970\n",
      "13  2025.0    60.40   61.800    63.20   57.594753   55.980991\n",
      "14  2125.0    29.70   30.900    32.10   37.323712   31.543592\n",
      "15  2150.0    24.11   25.305    26.50   32.471485   27.131718\n",
      "16  2200.0    15.21   16.255    17.30   27.504446   19.943303\n",
      "17  2250.0     8.89    9.945    11.00   22.652219   14.572278\n",
      "18  2350.0     2.44    3.470     4.50   12.947763    7.760688\n",
      "19  2375.0     1.64    2.670     3.70   10.521650    6.647341\n",
      "20  2400.0     1.05    2.080     3.11    8.095536    5.706324\n",
      "21  2425.0     0.54    1.270     2.00    5.669422    4.912141\n"
     ]
    }
   ],
   "source": [
    "kou_params2 = [0.1192, 0.2314, 0.1675, 8.8496, 10.1685]\n",
    "sigma, lambd, p, eta1, eta2 = kou_params2\n",
    "KouCAL = Kou_pricer(S0, None, T, r, sigma, lambd, p, eta1, eta2, exercise)\n",
    "SKou_CAL = KouCAL.KouPath(days, paths)\n",
    "\n",
    "avg_payoffs = []\n",
    "for k in call_strikes:\n",
    "    payoffs = []        # stores here the payoff for each path, for a specific couple K1-K2\n",
    "    for St in SKou_CAL[-1]:\n",
    "        payoffs.append(KouCAL.payoff_call(k, St))\n",
    "    avg_payoffs.append(np.mean(payoffs))\n",
    "\n",
    "kou_mc_prices = np.zeros(len(call_calib_prices))\n",
    "kou_cf_prices = np.zeros(len(call_calib_prices))\n",
    "\n",
    "for index in range(len(call_calib_prices)):\n",
    "    kou_mc_prices[index] = np.exp(-r*T)* avg_payoffs[index]\n",
    "    kou_cf_prices[index] = KouCAL.closed_formula_call(call_strikes[index])\n",
    "\n",
    "call_calib_prices['KOU MC'] = kou_mc_prices\n",
    "call_calib_prices['KOU CF'] = kou_cf_prices\n",
    "\n",
    "selection = [0,1,2,3,6,7]\n",
    "print(call_calib_prices.iloc[:, selection])"
   ],
   "metadata": {
    "collapsed": false
   }
  },
  {
   "cell_type": "code",
   "execution_count": 69,
   "outputs": [
    {
     "name": "stdout",
     "output_type": "stream",
     "text": [
      "    STRIKE  MKT_BID  MKT_MID  MKT_ASK       VG MC       VG CF\n",
      "0   1450.0   428.40  430.500   432.60  586.852010  457.361482\n",
      "1   1525.0   367.60  369.600   371.60  514.068595  388.858239\n",
      "2   1600.0   309.29  311.240   313.19  441.285180  323.094241\n",
      "3   1625.0   290.60  292.505   294.41  417.024041  301.973756\n",
      "4   1650.0   272.29  274.200   276.11  392.762903  281.329870\n",
      "5   1700.0   237.10  238.900   240.70  344.240626  241.664478\n",
      "6   1725.0   220.00  221.855   223.71  319.979488  222.740290\n",
      "7   1750.0   203.50  205.300   207.10  295.718350  204.485829\n",
      "8   1800.0   171.80  173.500   175.20  250.002962  170.168138\n",
      "9   1850.0   142.59  144.250   145.91  208.766195  139.043824\n",
      "10  1925.0   103.00  104.550   106.10  165.820829   98.888465\n",
      "11  1950.0    91.20   92.745    94.29  153.690260   87.318094\n",
      "12  2000.0    70.00   71.455    72.91  129.429122   66.916692\n",
      "13  2025.0    60.40   61.800    63.20  119.441828   58.062199\n",
      "14  2125.0    29.70   30.900    32.10   85.073896   30.968708\n",
      "15  2150.0    24.11   25.305    26.50   80.871691   26.067338\n",
      "16  2200.0    15.21   16.255    17.30   76.019464   18.148521\n",
      "17  2250.0     8.89    9.945    11.00   71.167236   12.360203\n",
      "18  2350.0     2.44    3.470     4.50   61.462781    5.414077\n",
      "19  2375.0     1.64    2.670     3.70   59.036667    4.360324\n",
      "20  2400.0     1.05    2.080     3.11   56.610553    3.499796\n",
      "21  2425.0     0.54    1.270     2.00   54.184439    2.800481\n"
     ]
    }
   ],
   "source": [
    "vg_params2 =[0.1259, 0.1715, 0.1711]\n",
    "sigm, theta, nu = vg_params2\n",
    "VGCAL = VG_pricer(S0, None, T, r, q, sigm, theta, nu, exercise)\n",
    "SVarGamma_CAL = VGCAL.VarianceGammaPath2(days, paths)\n",
    "\n",
    "avg_payoffs = []\n",
    "for k in call_strikes:\n",
    "    payoffs = []        # stores here the payoff for each path, for a specific couple K1-K2\n",
    "    for St in SVarGamma_CAL[-1]:\n",
    "        payoffs.append(VGCAL.payoff_call(k, St))\n",
    "    avg_payoffs.append(np.mean(payoffs))\n",
    "\n",
    "vg_mc_prices = np.zeros(len(call_calib_prices))\n",
    "vg_cf_prices = np.zeros(len(call_calib_prices))\n",
    "\n",
    "for index in range(len(call_calib_prices)):\n",
    "    vg_mc_prices[index] = np.exp(-r*T)* avg_payoffs[index]\n",
    "    vg_cf_prices[index] = VGCAL.closed_formula_call(call_strikes[index])\n",
    "\n",
    "call_calib_prices['VG MC'] = vg_mc_prices\n",
    "call_calib_prices['VG CF'] = vg_cf_prices\n",
    "\n",
    "selection = [0,1,2,3,8,9]\n",
    "print(call_calib_prices.iloc[:, selection])"
   ],
   "metadata": {
    "collapsed": false
   }
  },
  {
   "cell_type": "code",
   "execution_count": 70,
   "outputs": [
    {
     "name": "stdout",
     "output_type": "stream",
     "text": [
      "    STRIKE  MKT_BID  MKT_MID  MKT_ASK   MERTON MC   MERTON CF      KOU MC   \n",
      "0   1450.0   428.40  430.500   432.60  457.285283  456.517677  445.253616  \\\n",
      "1   1525.0   367.60  369.600   371.60  399.058551  387.617720  372.470201   \n",
      "2   1600.0   309.29  311.240   313.19  340.831819  321.425475  299.686786   \n",
      "3   1625.0   290.60  292.505   294.41  321.422909  300.172844  275.425647   \n",
      "4   1650.0   272.29  274.200   276.11  302.013998  279.411102  251.164509   \n",
      "5   1700.0   237.10  238.900   240.70  263.196177  239.578306  208.709124   \n",
      "6   1725.0   220.00  221.855   223.71  245.183910  220.617445  189.300214   \n",
      "7   1750.0   203.50  205.300   207.10  228.201113  202.365501  172.128167   \n",
      "8   1800.0   171.80  173.500   175.20  194.235519  168.187220  141.856617   \n",
      "9   1850.0   142.59  144.250   145.91  171.929460  137.391290  116.728751   \n",
      "10  1925.0   103.00  104.550   106.10  142.816094   98.029192   87.605286   \n",
      "11  1950.0    91.20   92.745    94.29  133.111639   86.773320   79.429777   \n",
      "12  2000.0    70.00   71.455    72.91  113.702728   67.012334   64.873094   \n",
      "13  2025.0    60.40   61.800    63.20  104.306732   58.460897   57.594753   \n",
      "14  2125.0    29.70   30.900    32.10   75.193366   32.246576   37.323712   \n",
      "15  2150.0    24.11   25.305    26.50   67.915024   27.454619   32.471485   \n",
      "16  2200.0    15.21   16.255    17.30   54.974386   19.618098   27.504446   \n",
      "17  2250.0     8.89    9.945    11.00   50.122158   13.757982   22.652219   \n",
      "18  2350.0     2.44    3.470     4.50   40.417703    6.409802   12.947763   \n",
      "19  2375.0     1.64    2.670     3.70   37.991589    5.238614   10.521650   \n",
      "20  2400.0     1.05    2.080     3.11   35.565475    4.263652    8.095536   \n",
      "21  2425.0     0.54    1.270     2.00   33.139362    3.456047    5.669422   \n",
      "\n",
      "        KOU CF       VG MC       VG CF  \n",
      "0   455.788336  586.852010  457.361482  \n",
      "1   385.921796  514.068595  388.858239  \n",
      "2   318.481675  441.285180  323.094241  \n",
      "3   296.797584  417.024041  301.973756  \n",
      "4   275.619836  392.762903  281.329870  \n",
      "5   235.061355  344.240626  241.664478  \n",
      "6   215.818942  319.979488  222.740290  \n",
      "7   197.355484  295.718350  204.485829  \n",
      "8   162.995703  250.002962  170.168138  \n",
      "9   132.359580  208.766195  139.043824  \n",
      "10   93.812697  165.820829   98.888465  \n",
      "11   82.945845  153.690260   87.318094  \n",
      "12   64.065970  129.429122   66.916692  \n",
      "13   55.980991  119.441828   58.062199  \n",
      "14   31.543592   85.073896   30.968708  \n",
      "15   27.131718   80.871691   26.067338  \n",
      "16   19.943303   76.019464   18.148521  \n",
      "17   14.572278   71.167236   12.360203  \n",
      "18    7.760688   61.462781    5.414077  \n",
      "19    6.647341   59.036667    4.360324  \n",
      "20    5.706324   56.610553    3.499796  \n",
      "21    4.912141   54.184439    2.800481  \n"
     ]
    }
   ],
   "source": [
    "print(call_calib_prices)"
   ],
   "metadata": {
    "collapsed": false
   }
  },
  {
   "cell_type": "markdown",
   "source": [
    "### Visualize calibration results"
   ],
   "metadata": {
    "collapsed": false
   }
  },
  {
   "cell_type": "markdown",
   "source": [
    "#### Closed Formulas Option pricing"
   ],
   "metadata": {
    "collapsed": false
   }
  },
  {
   "cell_type": "code",
   "execution_count": 71,
   "outputs": [
    {
     "data": {
      "text/plain": "<Figure size 1700x400 with 3 Axes>",
      "image/png": "[encoded data removed]"
     },
     "metadata": {},
     "output_type": "display_data"
    }
   ],
   "source": [
    "fig = plt.figure(figsize=(17, 4))\n",
    "ax1 = fig.add_subplot(131)\n",
    "ax2 = fig.add_subplot(132)\n",
    "ax3 = fig.add_subplot(133)\n",
    "ax1.plot(call_strikes, call_prices, \".\", label=\"midpoint\")\n",
    "ax2.plot(call_strikes, call_prices, \".\", label=\"midpoint\")\n",
    "ax3.plot(call_strikes, call_prices, \".\", label=\"midpoint\")\n",
    "ax1.plot(call_strikes, merton_cf_prices, label=\"Merton\")\n",
    "ax2.plot(call_strikes, kou_cf_prices, label=\"Kou\")\n",
    "ax3.plot(call_strikes, vg_cf_prices, label=\"VG\")\n",
    "ax1.set_title(\"Merton model\")\n",
    "ax2.set_title(\"Kou model\")\n",
    "ax3.set_title(\"VG model\")\n",
    "ax1.set_xlabel(\"strike\")\n",
    "ax2.set_xlabel(\"strike\")\n",
    "ax3.set_xlabel(\"strike\")\n",
    "ax1.legend()\n",
    "ax2.legend()\n",
    "ax3.legend()\n",
    "plt.show()"
   ],
   "metadata": {
    "collapsed": false
   }
  },
  {
   "cell_type": "markdown",
   "source": [
    "#### Monte Carlo option pricing"
   ],
   "metadata": {
    "collapsed": false
   }
  },
  {
   "cell_type": "code",
   "execution_count": 72,
   "outputs": [
    {
     "data": {
      "text/plain": "<Figure size 1700x400 with 3 Axes>",
      "image/png": "[encoded data removed]"
     },
     "metadata": {},
     "output_type": "display_data"
    }
   ],
   "source": [
    "fig = plt.figure(figsize=(17, 4))\n",
    "ax1 = fig.add_subplot(131)\n",
    "ax2 = fig.add_subplot(132)\n",
    "ax3 = fig.add_subplot(133)\n",
    "ax1.plot(call_strikes, call_prices, \".\", label=\"midpoint\")\n",
    "ax2.plot(call_strikes, call_prices, \".\", label=\"midpoint\")\n",
    "ax3.plot(call_strikes, call_prices, \".\", label=\"midpoint\")\n",
    "ax1.plot(call_strikes, merton_mc_prices, label=\"Merton\")\n",
    "ax2.plot(call_strikes, kou_mc_prices, label=\"Kou\")\n",
    "ax3.plot(call_strikes, vg_mc_prices, label=\"VG\")\n",
    "ax1.set_title(\"Merton model\")\n",
    "ax2.set_title(\"Kou model\")\n",
    "ax3.set_title(\"VG model\")\n",
    "ax1.set_xlabel(\"strike\")\n",
    "ax2.set_xlabel(\"strike\")\n",
    "ax3.set_xlabel(\"strike\")\n",
    "ax1.legend()\n",
    "ax2.legend()\n",
    "ax3.legend()\n",
    "plt.show()"
   ],
   "metadata": {
    "collapsed": false
   }
  },
  {
   "cell_type": "code",
   "execution_count": null,
   "outputs": [],
   "source": [],
   "metadata": {
    "collapsed": false
   }
  }
 ],
 "metadata": {
  "kernelspec": {
   "display_name": "Python 3",
   "language": "python",
   "name": "python3"
  },
  "language_info": {
   "codemirror_mode": {
    "name": "ipython",
    "version": 2
   },
   "file_extension": ".py",
   "mimetype": "text/x-python",
   "name": "python",
   "nbconvert_exporter": "python",
   "pygments_lexer": "ipython2",
   "version": "2.7.6"
  }
 },
 "nbformat": 4,
 "nbformat_minor": 0
}
