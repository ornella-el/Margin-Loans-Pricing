{
 "cells": [
  {
   "cell_type": "markdown",
   "source": [
    "# Calibration of models parameters: SPX\n",
    "### based on European Put options\n",
    "This notebook aims to find the optimal parameters of **Black-Scholes**, **Merton Jump Diffusion**, **Kou Jump Diffusion** and **Variance Gamma** models. To do so, we compute the european option prices using **closed formulas**, available for all the 4 models, and the **Fast Fourier Transform** for the VG model. Given these theoretical prices, the **implied volatilities** are computed comparing them with real market prices, minimizing their difference. Then we estimate the additional parameters of each model, using the python module `scipy.optimize`.\n",
    "\n",
    "*reference: https://github.com/cantaro86/Financial-Models-Numerical-Methods/tree/master*\n"
   ],
   "metadata": {
    "collapsed": false
   }
  },
  {
   "cell_type": "code",
   "execution_count": 1,
   "metadata": {
    "collapsed": true,
    "ExecuteTime": {
     "end_time": "2023-09-01T11:28:25.801265700Z",
     "start_time": "2023-09-01T11:28:20.854186500Z"
    }
   },
   "outputs": [],
   "source": [
    "import numpy as np\n",
    "import pandas as pd\n",
    "import matplotlib.pyplot as plt\n",
    "import random\n",
    "import scipy as scp\n",
    "import scipy.stats as ss\n",
    "import scipy.optimize as scpo\n",
    "import sys\n",
    "sys.path.append('C:/Users\\ornel\\PycharmProjects\\Margin-Loans-Pricing/functions')\n",
    "sys.path.append('C:/Users/ornel/PycharmProjects/Margin-Loans-Pricing/calibration')\n",
    "import time\n",
    "\n",
    "from BSpricer import BS_Pricer\n",
    "from MERTONpricer import Merton_pricer\n",
    "from KOUpricer import Kou_pricer\n",
    "from VGpricer import VG_pricer\n",
    "\n",
    "random.seed(110)"
   ]
  },
  {
   "cell_type": "markdown",
   "source": [
    "Let's start retrieving historical prices for **european call** and **put** options starting from date **2016-01-20** and expiring **1 year** later. All the data have been collected from [OptionsDX](https://www.optionsdx.com/shop/) and preprocessed in `plainvanilla.py` module. Only options such that the moneyness\n",
    "$$ K/S0 \\in [0.75, 1.35] $$ have been selected."
   ],
   "metadata": {
    "collapsed": false
   }
  },
  {
   "cell_type": "code",
   "execution_count": 2,
   "outputs": [
    {
     "name": "stdout",
     "output_type": "stream",
     "text": [
      "NUM OF PUT OPTS: 45\n",
      "   QUOTE_DATE  UNDERLYING_LAST EXPIRE_DATE  P_BID  P_ASK  STRIKE     P_IV  \\\n",
      "0  2016-01-20          1859.48  2017-01-20  45.50  47.89  1400.0  0.29263   \n",
      "1  2016-01-20          1859.48  2017-01-20  49.00  51.50  1425.0  0.28706   \n",
      "2  2016-01-20          1859.48  2017-01-20  53.00  55.60  1450.0  0.28334   \n",
      "3  2016-01-20          1859.48  2017-01-20  57.20  59.79  1475.0  0.27850   \n",
      "4  2016-01-20          1859.48  2017-01-20  61.61  64.30  1500.0  0.27366   \n",
      "5  2016-01-20          1859.48  2017-01-20  66.29  69.00  1525.0  0.26802   \n",
      "\n",
      "   MONEYNESS  \n",
      "0       0.75  \n",
      "1       0.77  \n",
      "2       0.78  \n",
      "3       0.79  \n",
      "4       0.81  \n",
      "5       0.82  \n"
     ]
    }
   ],
   "source": [
    "df_put = pd.read_csv('../../data/SPX/OPT16_SPX_PUTS_restricted.csv')\n",
    "print(f'NUM OF PUT OPTS: {df_put.shape[0]}')\n",
    "print(df_put.head(6))"
   ],
   "metadata": {
    "collapsed": false,
    "ExecuteTime": {
     "end_time": "2023-09-01T11:28:25.826826600Z",
     "start_time": "2023-09-01T11:28:25.808183100Z"
    }
   }
  },
  {
   "cell_type": "markdown",
   "source": [
    "The dataframe **df_put** contains 45 options sorted by strike price. For our purpose, using the $50\\%$ of these DFs is enough and can lead to very good results. Thus, we sample the rows and then reformulate the dataframes adding **Midpoint** and **Spread** columns."
   ],
   "metadata": {
    "collapsed": false
   }
  },
  {
   "cell_type": "code",
   "execution_count": 13,
   "outputs": [],
   "source": [
    "puts = df_put.sample(frac=0.5, replace=False).sort_index().reset_index(drop=True)\n",
    "\n",
    "puts['P_Midpoint'] = abs(puts['P_BID'] + puts['P_ASK']) / 2\n",
    "puts['P_Spread'] = puts['P_BID'] - puts['P_ASK']\n",
    "put_prices = puts['P_Midpoint']\n",
    "#puts.to_csv('../../data/SPX/SPX_puts.csv', index=False)\n",
    "\n",
    "q = 0           # dividend yield\n",
    "r = 0.03        # risk-free interest rate\n",
    "sigma = 0.3     #volatility (variance of diffusion process)\n",
    "S0 = puts.iloc[0]['UNDERLYING_LAST']\n",
    "T = 1           # time-to-maturity\n",
    "put_strikes = puts['STRIKE']      # array of K for put options\n",
    "exercise = 'european'\n"
   ],
   "metadata": {
    "collapsed": false,
    "ExecuteTime": {
     "end_time": "2023-09-01T15:09:02.707476Z",
     "start_time": "2023-09-01T15:09:02.602752700Z"
    }
   }
  },
  {
   "cell_type": "markdown",
   "source": [
    "The following code snippet initializes objects of class *BS_pricer*, *Merton_pricer*, *Kou_pricer*, *VG_pricer* with default values as parameters."
   ],
   "metadata": {
    "collapsed": false
   }
  },
  {
   "cell_type": "code",
   "execution_count": 4,
   "outputs": [],
   "source": [
    "BS = BS_Pricer(S0=S0, r=r, q = q, sigma=sigma, ttm=T, exercise=exercise, K=None)\n",
    "Merton = Merton_pricer(S0=S0, K=None, ttm=T, r=r, q = q, sigma=0.15, lambd=0.5, meanJ=-0.1, stdJ=0.1, exercise=exercise)\n",
    "Kou = Kou_pricer(S0=S0, K=None, ttm=T, r=r, sigma=0.15, lambd=0.5, p=0.6, eta1=12, eta2=5, exercise=exercise)\n",
    "VG = VG_pricer(S0, K=None, ttm=T, r=r, q=q, sigma=0.15, theta=-0.2, nu=0.3, exercise=exercise)"
   ],
   "metadata": {
    "collapsed": false,
    "ExecuteTime": {
     "end_time": "2023-09-01T11:32:47.978096800Z",
     "start_time": "2023-09-01T11:32:47.914664200Z"
    }
   }
  },
  {
   "cell_type": "markdown",
   "source": [
    "Then it computes the theoretical call prices using closed formulas for each model, with strike prices given by the *call_strikes* array. We use the **Midpoint** price as the option market price."
   ],
   "metadata": {
    "collapsed": false
   }
  },
  {
   "cell_type": "code",
   "execution_count": 5,
   "outputs": [
    {
     "name": "stdout",
     "output_type": "stream",
     "text": [
      "Theoretical put options prices:\n",
      "    Strike    Price BlackScholes      Merton         Kou VarianceGamma\n",
      "0   1425.0   50.250    40.785423    8.558364   15.305761      2.237046\n",
      "1   1500.0   62.955    57.281223   14.603395   21.745098      6.061753\n",
      "2   1525.0   67.645    63.628095   17.266758    24.48356      8.180387\n",
      "3   1575.0   77.855    77.644827   23.776709   31.076103     14.169185\n",
      "4   1625.0   89.850    93.464423   32.108695   39.427598      22.96569\n",
      "5   1675.0  103.090   111.115646   42.553175   49.863676     34.972637\n",
      "6   1700.0  110.055   120.631714   48.653562   55.959668     42.249112\n",
      "7   1725.0  118.100   130.607672   55.381179   62.687277     50.387165\n",
      "8   1800.0  143.950   163.273009   79.588392   86.942075     79.901228\n",
      "9   1825.0  153.710   175.061769   89.067281   96.455702     91.380433\n",
      "10  1850.0  164.140   187.292386   99.274746  106.706825    103.637866\n",
      "11  1900.0  186.700   213.053813  121.900461  129.440423    130.362596\n",
      "12  1950.0  211.850   240.499961  147.469498  155.129349    159.809339\n",
      "13  2050.0  270.945   300.173985  207.105976  214.950365    225.764077\n",
      "14  2075.0  287.600    316.03376  223.676079  231.538727    243.528779\n",
      "15  2175.0  362.495   382.934627   295.81395  303.576766    318.780051\n",
      "16  2200.0  382.890    400.47308  315.161186  322.850693    338.506266\n",
      "17  2250.0  426.145   436.452375  355.210159   362.69389    378.886382\n",
      "18  2275.0  448.695   454.872365  375.849035  383.201542    399.497802\n",
      "19  2325.0  495.295   492.521621  418.203437  425.242242    441.467086\n",
      "20  2350.0  519.050   511.730723  439.861088  446.720302    462.790175\n",
      "21  2475.0  639.845   611.233579  551.915708  557.718675     572.19469\n"
     ]
    }
   ],
   "source": [
    "put_th_prices = pd.DataFrame(columns=['Strike','Price', 'BlackScholes', 'Merton', 'Kou', 'VarianceGamma'])\n",
    "put_th_prices['Strike'] = put_strikes\n",
    "put_th_prices['Price'] = put_prices\n",
    "\n",
    "for i, K in enumerate(put_strikes):\n",
    "    bs = BS.closed_formula_put(K)\n",
    "    mert = Merton.closed_formula_put(K)\n",
    "    kou = Kou.closed_formula_put(K)\n",
    "    vg = VG.closed_formula_put(K)\n",
    "    put_th_prices.iloc[i, 2:] = [bs, mert, kou, vg]\n",
    "\n",
    "print(f'Theoretical put options prices:')\n",
    "print(put_th_prices)"
   ],
   "metadata": {
    "collapsed": false,
    "ExecuteTime": {
     "end_time": "2023-09-01T11:32:59.960589600Z",
     "start_time": "2023-09-01T11:32:49.072850800Z"
    }
   }
  },
  {
   "cell_type": "markdown",
   "source": [
    "## Implied volatility\n",
    "The function belows implements $3$ methods to compute implied volatility: [Newton](https://en.wikipedia.org/wiki/Newton%27s_method) method, the [Bisection](https://en.wikipedia.org/wiki/Bisection_method) method and a more advanced one, named [Brent](https://en.wikipedia.org/wiki/Brent%27s_method) method. Apart from the initial guess, there is no substantial difference in the final result between **Newton** and **bisection** methods (*fsolve*). The **Implied Volatility** is that value $\\sigma$ that must be inserted into the Black-Scholes (BS) formula in order to retrieve the option price quoted in the market:\n",
    "    $$ BS(S, K, T, r, \\sigma) = P,  $$\n",
    "where $S$ is the underlying spot price, $K$ is the strike, $T$ time to maturity, $r$ risk-free interest rate and $P$ the option price quoted in the market. All these quantities are **observable**.\n",
    "   "
   ],
   "metadata": {
    "collapsed": false
   }
  },
  {
   "cell_type": "code",
   "execution_count": 6,
   "outputs": [],
   "source": [
    "def implied_volatility(price, S, strike, t, rate, q, type_o, method='fsolve', disp=True ):\n",
    "    \"\"\" Returns Implied volatility\n",
    "        methods:  fsolve (default) or brent\n",
    "    \"\"\"\n",
    "\n",
    "    def obj_fun(vol):\n",
    "        return BS.BlackScholes(type_o=type_o, S0=S, K=strike, ttm=t, r=rate, q=q, sigma=vol) - price\n",
    "\n",
    "    def vega(vol):\n",
    "        return BS.vega(S, strike, rate, q, vol, t)\n",
    "\n",
    "    if method =='fsolve':\n",
    "        X0 = [0.01, 0.2, 0.35, 7]        #initial guess points for imp.vol.\n",
    "        for x_0 in X0:\n",
    "            x, _, solved, _ = scpo.fsolve(obj_fun, x_0, full_output=True, xtol=1e-8)\n",
    "            if solved == 1:\n",
    "                return x[0]\n",
    "\n",
    "    if disp:\n",
    "        return -1"
   ],
   "metadata": {
    "collapsed": false,
    "ExecuteTime": {
     "end_time": "2023-09-01T11:33:01.689391800Z",
     "start_time": "2023-09-01T11:33:01.632459300Z"
    }
   }
  },
  {
   "cell_type": "markdown",
   "source": [
    "The following code snippet computes the implied volatility associated to each **call** contract using the Black-Scholes inversion. **BS inversion** consists of minimizing the distance between the option price estimated by Black-Scholes formula and the market price given by the dataframe."
   ],
   "metadata": {
    "collapsed": false
   }
  },
  {
   "cell_type": "code",
   "execution_count": 7,
   "outputs": [
    {
     "name": "stdout",
     "output_type": "stream",
     "text": [
      "Implied volatilities of market prices (puts):\n",
      "S0 = 1859.48\n",
      "K = 1425.0, IV = 0.2874\n",
      "K = 1500.0, IV = 0.2731\n",
      "K = 1525.0, IV = 0.2681\n",
      "K = 1575.0, IV = 0.2581\n",
      "K = 1625.0, IV = 0.2488\n",
      "K = 1675.0, IV = 0.239\n"
     ]
    },
    {
     "data": {
      "text/plain": "<Figure size 1000x500 with 1 Axes>",
      "image/png": "[encoded data removed]"
     },
     "metadata": {},
     "output_type": "display_data"
    }
   ],
   "source": [
    "IV_market_p = []\n",
    "for i in range(len(put_prices)):\n",
    "    IV_market_p.append(implied_volatility(put_prices[i], S=S0, strike=put_strikes[i], t = T, rate=0.025, q = 0.05, type_o='put', method='fsolve'))\n",
    "\n",
    "print(f'Implied volatilities of market prices (puts):\\nS0 = {S0}')\n",
    "for a,b in zip(put_strikes.head(6), IV_market_p[:6]):\n",
    "    print(f'K = {a}, IV = {round(b, 4)}')\n",
    "\n",
    "# Plot market implied volatilities w.r.t. log moneyness\n",
    "x = (S0/put_strikes)\n",
    "IV_filtered = [iv for iv in IV_market_p if iv != -1]\n",
    "x_filtered = [log_m for iv, log_m in zip(IV_market_p, x) if iv != -1]\n",
    "puts_filtered = [p_iv for iv, p_iv in zip(IV_market_p, puts['P_IV']) if iv != -1 ]\n",
    "\n",
    "fig, ax1 = plt.subplots(figsize=(10,5))\n",
    "ax1.scatter(x_filtered, IV_filtered, marker='x', label='BS inversion', color='red')\n",
    "ax1.scatter(x_filtered, puts_filtered, marker='.', label='provided')\n",
    "ax1.set_xlabel('Moneyness: S0/K'); ax1.set_ylabel('Implied Volatility'); ax1.set_title('Puts volatility smile')\n",
    "ax1.legend(); plt.grid(); plt.show()\n"
   ],
   "metadata": {
    "collapsed": false,
    "ExecuteTime": {
     "end_time": "2023-09-01T11:33:04.837874300Z",
     "start_time": "2023-09-01T11:33:03.802256400Z"
    }
   }
  },
  {
   "cell_type": "markdown",
   "source": [
    "##  Weighted Calibration (call options)\n",
    "Let's step now into the calibration of model parameters.\n",
    "If we define $\\Theta$ the set of parameters, the goal is to find the optimal parameters $\\Theta^*$ that minimize the following objective function:\n",
    "$$ \\sum_{i=1}^{N} w_i \\biggl( P_i - f(K_i|\\Theta) \\biggr)^2 $$\n",
    "where $w_i$ are weights, usually defined as\n",
    "$$ w_i = \\frac{1}{\\text {spread}_i^2 },$$ $P_i$ are the market prices and $f$ is the pricing function. In our case $f$ is given by **Merton** Jump Diffusion model, **Kou** Jump Diffusion model, or **Variance Gamma** process. To perform this optimization problem, many numerical methods can be used. In particular, we test two functions of `scipy.optimize`:\n",
    "1. **curve_fit**, a least-squares curve fitting method which works with bounds. The default algorithm is [Trust Region Reflective (trf)](https://en.wikipedia.org/wiki/Trust_region). The [Levemberg-Marquadt](https://en.wikipedia.org/wiki/Levenberg%E2%80%93Marquardt_algorithm) has been tried as well, to test the optimization problem without setting boundaries, but the results don't make any sense.\n",
    "2. **Least-Squares**, a constrained minimization problem which uses Trust region reflective method by default. This method is the most indicated to solve the non-linear least squares optimization problem of our purpose.\n",
    "All the optimizations are carried out by initializing a starting point as the array $x_0 = [params]$ and setting feasible bounds.\n"
   ],
   "metadata": {
    "collapsed": false
   }
  },
  {
   "cell_type": "code",
   "execution_count": 8,
   "outputs": [],
   "source": [
    "put_spreads = puts['P_Spread']\n",
    "p_weights = 1 / put_spreads**2"
   ],
   "metadata": {
    "collapsed": false,
    "ExecuteTime": {
     "end_time": "2023-09-01T11:33:31.139799600Z",
     "start_time": "2023-09-01T11:33:31.097551700Z"
    }
   }
  },
  {
   "cell_type": "markdown",
   "source": [
    "### Black and Scholes model\n",
    "The only unknown parameter to calibrate in Black and Scholes model is the **implied volatility**, $\\sigma$. Thus, we minimize the difference between the computed theoretical prices and the market prices of call options."
   ],
   "metadata": {
    "collapsed": false
   }
  },
  {
   "cell_type": "code",
   "execution_count": 9,
   "outputs": [],
   "source": [
    "x0 = 0.5\n",
    "bounds = [1e-5, 2]\n",
    "\n",
    "def f_BlackScholes_puts(x, sigm):\n",
    "    BS = BS_Pricer(S0=S0, K = x, ttm=T, r=r, q=0, sigma=sigm, exercise=exercise)\n",
    "    return BS.closed_formula_put(x)\n",
    "\n",
    "res1_puts = scpo.curve_fit(f_BlackScholes_puts, put_strikes, put_prices, p0 = x0, bounds=bounds, sigma=p_weights)\n",
    "sigw_p = round(res1_puts[0][0],4)"
   ],
   "metadata": {
    "collapsed": false,
    "ExecuteTime": {
     "end_time": "2023-09-01T11:33:39.017682300Z",
     "start_time": "2023-09-01T11:33:38.956707600Z"
    }
   }
  },
  {
   "cell_type": "code",
   "execution_count": 10,
   "outputs": [
    {
     "name": "stdout",
     "output_type": "stream",
     "text": [
      "`ftol` termination condition is satisfied.\n",
      "Function evaluations 26, initial cost 6.1876e+08, final cost 3.5527e+04, first-order optimality 4.63e+01.\n"
     ]
    }
   ],
   "source": [
    "def cost_function(x, strikes, mkt_prices):\n",
    "    sigma = x\n",
    "    BS = BS_Pricer(S0=S0, K = None, ttm=T, r=r, q=0, sigma=sigma, exercise=exercise)\n",
    "    sq_err = np.sum( p_weights* (BS.closed_formula_put(strikes) - mkt_prices)**2)\n",
    "    return sq_err\n",
    "\n",
    "result_p = scpo.least_squares(cost_function, x0, args=(put_strikes, put_prices), bounds=bounds, method = 'trf', verbose=1)\n",
    "opt_sigma_p = result_p.x[0]"
   ],
   "metadata": {
    "collapsed": false,
    "ExecuteTime": {
     "end_time": "2023-09-01T11:33:41.138420200Z",
     "start_time": "2023-09-01T11:33:41.043458200Z"
    }
   }
  },
  {
   "cell_type": "code",
   "execution_count": 11,
   "outputs": [
    {
     "name": "stdout",
     "output_type": "stream",
     "text": [
      "METHOD 1: CURVE_FIT (trf)\n",
      "> Calibrated Volatility from Calls [σ] = 0.2894 \t 28.94%\n",
      "METHOD 2: LEAST-SQUARES (trf)\n",
      "> Calibrated Volatility from Calls [σ] = 0.2832274005770683 \t 28.32%\n"
     ]
    }
   ],
   "source": [
    "print('METHOD 1: CURVE_FIT (trf)')\n",
    "print(f'> Calibrated Volatility from Calls [σ] = {sigw_p} \\t {round(sigw_p*100,2)}%')\n",
    "print('METHOD 2: LEAST-SQUARES (trf)')\n",
    "print(f'> Calibrated Volatility from Calls [σ] = {opt_sigma_p} \\t {round(opt_sigma_p*100,2)}%')"
   ],
   "metadata": {
    "collapsed": false,
    "ExecuteTime": {
     "end_time": "2023-09-01T11:33:43.376265100Z",
     "start_time": "2023-09-01T11:33:43.246406800Z"
    }
   }
  },
  {
   "cell_type": "code",
   "execution_count": 12,
   "outputs": [
    {
     "name": "stdout",
     "output_type": "stream",
     "text": [
      "Stored 'puts_bs_params_aapl' (float64)\n"
     ]
    }
   ],
   "source": [
    "puts_bs_params_spx = opt_sigma_p\n",
    "%store puts_bs_params_spx"
   ],
   "metadata": {
    "collapsed": false,
    "ExecuteTime": {
     "end_time": "2023-09-01T11:33:53.655884500Z",
     "start_time": "2023-09-01T11:33:53.545668Z"
    }
   }
  },
  {
   "cell_type": "markdown",
   "source": [
    "### Merton Jump Diffusion\n",
    "The Merton Jump diffusion ones are the volatility $\\sigma$, the Poisson rate of jumps $\\lambda$, the mean rate of jump intensity $m$ and its variance rate $v$, assuming that the intensity of jumps follows a *Normal distribution*.\n"
   ],
   "metadata": {
    "collapsed": false
   }
  },
  {
   "cell_type": "code",
   "execution_count": 22,
   "outputs": [],
   "source": [
    "x0 = [0.15,  0.2, -0.05,  0.01]  # initial guess: [σ, λ, m, v]\n",
    "bounds = ( [1e-3, 1e-2, -5, 1e-5], [2, 5, 5, 2] )"
   ],
   "metadata": {
    "collapsed": false
   }
  },
  {
   "cell_type": "code",
   "execution_count": 23,
   "outputs": [],
   "source": [
    "def f_Mert(x, sigma, lambd, meanJ, stdJ):\n",
    "    Mert = Merton_pricer(S0=S0, K=x, ttm=T, r=r, q=0, sigma=sigma, lambd=lambd, meanJ=meanJ, stdJ=stdJ, exercise=exercise)\n",
    "    return Mert.closed_formula_put(x)\n",
    "\n",
    "start1=time.time()\n",
    "mert1 = scpo.curve_fit(f_Mert, put_strikes, put_prices, p0=x0, bounds=bounds, sigma=put_spreads)\n",
    "end1=time.time()\n",
    "\n",
    "mert_params1 = [round(p,4) for p in mert1[0][:4]]"
   ],
   "metadata": {
    "collapsed": false
   }
  },
  {
   "cell_type": "markdown",
   "source": [
    "##### Method 2. Least-squares"
   ],
   "metadata": {
    "collapsed": false
   }
  },
  {
   "cell_type": "code",
   "execution_count": 24,
   "outputs": [
    {
     "name": "stdout",
     "output_type": "stream",
     "text": [
      "   Iteration     Total nfev        Cost      Cost reduction    Step norm     Optimality   \n",
      "       0              1         1.0194e+06                                    2.66e+08    \n",
      "       1              3         6.7292e+05      3.47e+05       1.30e-01       2.44e+08    \n",
      "       2              6         4.1625e+05      2.57e+05       2.58e-02       1.32e+07    \n",
      "       3              7         3.7965e+05      3.66e+04       1.21e-02       6.82e+07    \n",
      "       4              9         3.4899e+05      3.07e+04       6.37e-03       2.58e+07    \n",
      "       5             10         3.3359e+05      1.54e+04       5.33e-03       1.10e+07    \n",
      "       6             11         3.0470e+05      2.89e+04       5.50e-03       1.75e+07    \n",
      "       7             12         2.7703e+05      2.77e+04       1.90e-02       4.04e+07    \n",
      "       8             14         2.5192e+05      2.51e+04       5.12e-03       1.26e+07    \n",
      "       9             15         2.3576e+05      1.62e+04       7.56e-03       2.83e+07    \n",
      "      10             16         2.2135e+05      1.44e+04       1.21e-02       1.64e+07    \n",
      "      11             17         2.0639e+05      1.50e+04       8.43e-03       2.53e+07    \n",
      "      12             18         1.9372e+05      1.27e+04       1.21e-02       1.46e+07    \n",
      "      13             19         1.8050e+05      1.32e+04       8.37e-03       2.31e+07    \n",
      "      14             20         1.6942e+05      1.11e+04       1.22e-02       1.30e+07    \n",
      "      15             21         1.5786e+05      1.16e+04       8.32e-03       2.10e+07    \n",
      "      16             22         1.4828e+05      9.59e+03       1.23e-02       1.17e+07    \n",
      "      17             23         1.3824e+05      1.00e+04       8.28e-03       1.91e+07    \n",
      "      18             24         1.3001e+05      8.23e+03       1.25e-02       1.05e+07    \n",
      "      19             25         1.2134e+05      8.67e+03       8.25e-03       1.74e+07    \n",
      "      20             26         1.1434e+05      7.01e+03       1.26e-02       9.41e+06    \n",
      "      21             27         1.0688e+05      7.46e+03       8.23e-03       1.59e+07    \n",
      "      22             28         1.0094e+05      5.94e+03       1.26e-02       8.48e+06    \n",
      "      23             29         9.4542e+04      6.40e+03       8.22e-03       1.44e+07    \n",
      "      24             30         8.9533e+04      5.01e+03       1.27e-02       7.67e+06    \n",
      "      25             31         8.4047e+04      5.49e+03       8.21e-03       1.31e+07    \n",
      "      26             32         7.9835e+04      4.21e+03       1.28e-02       6.95e+06    \n",
      "      27             33         7.5228e+04      4.61e+03       8.19e-03       1.21e+07    \n",
      "      28             34         7.1641e+04      3.59e+03       1.28e-02       6.27e+06    \n",
      "      29             35         6.8589e+04      3.05e+03       2.04e-03       3.16e+06    \n",
      "      30             36         6.5428e+04      3.16e+03       3.09e-03       4.63e+06    \n",
      "      31             37         6.2386e+04      3.04e+03       5.34e-03       2.28e+06    \n",
      "      32             38         5.7773e+04      4.61e+03       5.57e-03       7.28e+06    \n",
      "      33             39         5.6224e+04      1.55e+03       1.27e-02       5.51e+06    \n",
      "      34             40         5.3645e+04      2.58e+03       2.07e-03       2.55e+06    \n",
      "      35             41         5.1316e+04      2.33e+03       3.26e-03       3.72e+06    \n",
      "      36             42         4.9185e+04      2.13e+03       5.65e-03       1.75e+06    \n",
      "      37             43         4.6569e+04      2.62e+03       5.45e-03       6.78e+06    \n",
      "      38             44         4.5153e+04      1.42e+03       1.28e-02       3.95e+06    \n",
      "      39             45         4.3219e+04      1.93e+03       2.00e-03       1.89e+06    \n",
      "      40             46         4.1655e+04      1.56e+03       3.07e-03       3.29e+06    \n",
      "      41             47         4.0238e+04      1.42e+03       6.10e-03       1.43e+06    \n",
      "      42             48         3.8938e+04      1.30e+03       2.70e-03       3.21e+06    \n",
      "      43             49         3.7732e+04      1.21e+03       6.25e-03       1.34e+06    \n",
      "      44             50         3.6614e+04      1.12e+03       2.71e-03       3.06e+06    \n",
      "      45             51         3.5574e+04      1.04e+03       6.33e-03       1.26e+06    \n",
      "      46             52         3.4605e+04      9.68e+02       2.73e-03       2.90e+06    \n",
      "      47             53         3.3705e+04      9.01e+02       6.38e-03       1.18e+06    \n",
      "      48             54         3.2863e+04      8.42e+02       2.75e-03       2.74e+06    \n",
      "      49             55         3.2080e+04      7.83e+02       6.40e-03       1.11e+06    \n",
      "      50             56         3.1346e+04      7.34e+02       2.77e-03       2.59e+06    \n",
      "      51             57         3.0637e+04      7.09e+02       6.40e-03       1.03e+06    \n",
      "      52             58         3.0001e+04      6.36e+02       2.76e-03       2.46e+06    \n",
      "      53             59         2.9303e+04      6.98e+02       6.40e-03       9.26e+05    \n",
      "      54             60         2.8766e+04      5.37e+02       2.71e-03       2.33e+06    \n",
      "      55             61         2.8073e+04      6.93e+02       6.39e-03       8.19e+05    \n",
      "      56             62         2.7625e+04      4.48e+02       2.68e-03       2.21e+06    \n",
      "      57             63         2.6942e+04      6.83e+02       6.38e-03       7.19e+05    \n",
      "      58             64         2.6570e+04      3.73e+02       2.68e-03       2.07e+06    \n",
      "      59             65         2.5904e+04      6.65e+02       6.36e-03       6.27e+05    \n",
      "      60             66         2.5594e+04      3.11e+02       2.72e-03       1.92e+06    \n",
      "      61             67         2.4953e+04      6.40e+02       6.34e-03       5.43e+05    \n",
      "      62             68         2.4694e+04      2.59e+02       2.80e-03       1.77e+06    \n",
      "      63             69         2.4084e+04      6.10e+02       6.31e-03       4.66e+05    \n",
      "      64             70         2.3867e+04      2.17e+02       2.94e-03       1.61e+06    \n",
      "      65             71         2.3292e+04      5.75e+02       6.27e-03       3.97e+05    \n",
      "      66             72         2.3108e+04      1.84e+02       3.13e-03       1.46e+06    \n",
      "      67             73         2.2571e+04      5.37e+02       6.23e-03       3.34e+05    \n",
      "      68             74         2.2412e+04      1.59e+02       3.36e-03       1.30e+06    \n",
      "      69             75         2.1917e+04      4.95e+02       6.18e-03       3.17e+05    \n",
      "      70             76         2.1777e+04      1.40e+02       3.65e-03       1.15e+06    \n",
      "      71             77         2.1325e+04      4.52e+02       6.12e-03       3.23e+05    \n",
      "      72             78         2.1198e+04      1.27e+02       3.96e-03       9.99e+05    \n",
      "      73             79         2.0790e+04      4.08e+02       6.05e-03       3.23e+05    \n",
      "      74             80         2.0671e+04      1.19e+02       4.30e-03       8.60e+05    \n",
      "      75             81         2.0306e+04      3.65e+02       5.96e-03       3.18e+05    \n",
      "      76             82         2.0190e+04      1.15e+02       4.65e-03       7.31e+05    \n",
      "      77             83         1.9866e+04      3.24e+02       5.86e-03       3.09e+05    \n",
      "      78             84         1.9752e+04      1.14e+02       4.99e-03       6.15e+05    \n",
      "      79             85         1.9465e+04      2.87e+02       5.74e-03       3.00e+05    \n",
      "      80             86         1.9348e+04      1.17e+02       5.33e-03       5.12e+05    \n",
      "      81             87         1.9096e+04      2.52e+02       5.62e-03       2.90e+05    \n",
      "      82             88         1.8982e+04      1.15e+02       5.59e-03       4.33e+05    \n",
      "      83             89         1.8753e+04      2.28e+02       5.46e-03       2.86e+05    \n",
      "      84             90         1.8617e+04      1.37e+02       5.98e-03       3.56e+05    \n",
      "      85             91         1.8419e+04      1.98e+02       5.50e-03       2.78e+05    \n",
      "      86             93         1.8348e+04      7.08e+01       2.96e-03       3.09e+05    \n",
      "      87             94         1.8250e+04      9.80e+01       2.95e-03       2.90e+05    \n",
      "      88             95         1.8071e+04      1.79e+02       6.33e-03       2.80e+05    \n",
      "      89             97         1.8002e+04      6.95e+01       2.99e-03       2.84e+05    \n",
      "      90             98         1.7906e+04      9.55e+01       2.85e-03       2.81e+05    \n",
      "      91             99         1.7725e+04      1.81e+02       6.20e-03       2.81e+05    \n",
      "      92             100        1.7398e+04      3.27e+02       1.25e-02       2.21e+05    \n",
      "      93             101        1.7015e+04      3.82e+02       1.65e-02       5.28e+05    \n",
      "      94             103        1.6910e+04      1.05e+02       3.84e-03       7.83e+04    \n",
      "      95             104        1.6841e+04      6.92e+01       3.69e-04       1.16e+05    \n",
      "      96             105        1.6730e+04      1.11e+02       1.04e-03       1.83e+05    \n",
      "      97             106        1.6556e+04      1.74e+02       3.85e-03       2.65e+05    \n",
      "      98             107        1.6311e+04      2.44e+02       1.16e-02       7.91e+04    \n",
      "      99             108        1.6107e+04      2.05e+02       2.09e-03       4.59e+05    \n",
      "      100            110        1.6022e+04      8.46e+01       2.48e-03       1.81e+05    \n",
      "      101            111        1.5932e+04      9.01e+01       2.04e-03       2.07e+05    \n",
      "      102            112        1.5754e+04      1.79e+02       4.79e-03       1.65e+05    \n",
      "      103            113        1.5415e+04      3.39e+02       7.62e-03       2.75e+05    \n",
      "      104            115        1.5297e+04      1.18e+02       5.65e-03       6.40e+04    \n",
      "      105            116        1.5148e+04      1.49e+02       1.11e-03       2.87e+05    \n",
      "      106            117        1.5044e+04      1.05e+02       5.68e-03       6.78e+04    \n",
      "      107            118        1.4896e+04      1.48e+02       1.44e-03       2.88e+05    \n",
      "      108            119        1.4799e+04      9.66e+01       5.66e-03       9.73e+04    \n",
      "      109            120        1.4654e+04      1.46e+02       1.73e-03       2.90e+05    \n",
      "      110            121        1.4566e+04      8.80e+01       5.65e-03       1.26e+05    \n",
      "      111            122        1.4421e+04      1.44e+02       2.02e-03       2.90e+05    \n",
      "      112            123        1.4341e+04      7.98e+01       5.64e-03       1.51e+05    \n",
      "      113            124        1.4198e+04      1.43e+02       2.28e-03       2.89e+05    \n",
      "      114            125        1.4126e+04      7.17e+01       5.63e-03       1.75e+05    \n",
      "      115            126        1.3983e+04      1.43e+02       2.52e-03       2.87e+05    \n",
      "      116            127        1.3920e+04      6.37e+01       5.62e-03       1.98e+05    \n",
      "      117            128        1.3777e+04      1.43e+02       2.73e-03       2.85e+05    \n",
      "      118            129        1.3721e+04      5.59e+01       5.60e-03       2.18e+05    \n",
      "      119            130        1.3652e+04      6.90e+01       7.28e-04       8.88e+04    \n",
      "      120            131        1.3568e+04      8.44e+01       9.09e-04       1.27e+05    \n",
      "      121            132        1.3491e+04      7.68e+01       1.82e-03       8.12e+04    \n",
      "      122            133        1.3343e+04      1.48e+02       2.42e-03       1.70e+05    \n",
      "      123            134        1.3279e+04      6.39e+01       9.38e-03       5.09e+05    \n",
      "      124            135        1.3090e+04      1.89e+02       2.12e-03       1.87e+05    \n",
      "      125            136        1.3000e+04      9.02e+01       2.96e-03       3.44e+05    \n",
      "      126            137        1.2977e+04      2.33e+01       5.64e-03       3.12e+05    \n",
      "      127            138        1.2902e+04      7.43e+01       9.28e-04       1.61e+05    \n",
      "      128            139        1.2822e+04      8.08e+01       1.39e-03       1.04e+05    \n",
      "      129            140        1.2754e+04      6.80e+01       1.74e-03       3.91e+04    \n",
      "      130            141        1.2634e+04      1.20e+02       1.59e-03       2.14e+05    \n",
      "      131            143        1.2583e+04      5.01e+01       2.67e-03       6.10e+04    \n",
      "      132            144        1.2527e+04      5.67e+01       8.60e-04       1.64e+05    \n",
      "      133            145        1.2476e+04      5.04e+01       2.45e-03       6.19e+04    \n",
      "      134            146        1.2422e+04      5.42e+01       8.83e-04       1.66e+05    \n",
      "      135            147        1.2375e+04      4.73e+01       2.49e-03       7.48e+04    \n",
      "      136            148        1.2322e+04      5.26e+01       1.00e-03       1.64e+05    \n",
      "      137            149        1.2277e+04      4.48e+01       2.50e-03       8.53e+04    \n",
      "      138            150        1.2226e+04      5.11e+01       1.10e-03       1.63e+05    \n",
      "      139            151        1.2184e+04      4.24e+01       2.51e-03       9.52e+04    \n",
      "      140            152        1.2134e+04      4.98e+01       1.20e-03       1.61e+05    \n",
      "      141            153        1.2094e+04      4.01e+01       2.51e-03       1.04e+05    \n",
      "      142            154        1.2045e+04      4.87e+01       1.28e-03       1.59e+05    \n",
      "      143            155        1.2007e+04      3.80e+01       2.52e-03       1.13e+05    \n",
      "      144            156        1.1960e+04      4.76e+01       1.37e-03       1.57e+05    \n",
      "      145            157        1.1924e+04      3.60e+01       2.52e-03       1.21e+05    \n",
      "      146            158        1.1877e+04      4.68e+01       1.44e-03       1.54e+05    \n",
      "      147            159        1.1843e+04      3.41e+01       2.52e-03       1.28e+05    \n",
      "      148            160        1.1797e+04      4.60e+01       1.51e-03       1.52e+05    \n",
      "      149            161        1.1764e+04      3.23e+01       2.52e-03       1.35e+05    \n",
      "      150            162        1.1719e+04      4.54e+01       1.57e-03       1.48e+05    \n",
      "      151            163        1.1688e+04      3.07e+01       2.51e-03       1.41e+05    \n",
      "      152            164        1.1644e+04      4.49e+01       1.63e-03       1.45e+05    \n",
      "      153            165        1.1614e+04      2.92e+01       2.51e-03       1.47e+05    \n",
      "      154            166        1.1570e+04      4.45e+01       1.69e-03       1.42e+05    \n",
      "      155            167        1.1542e+04      2.78e+01       2.50e-03       1.52e+05    \n",
      "      156            168        1.1498e+04      4.41e+01       1.74e-03       1.38e+05    \n",
      "      157            169        1.1472e+04      2.65e+01       2.49e-03       1.57e+05    \n",
      "      158            170        1.1428e+04      4.39e+01       1.78e-03       1.34e+05    \n",
      "      159            171        1.1402e+04      2.54e+01       2.48e-03       1.61e+05    \n",
      "      160            172        1.1359e+04      4.37e+01       1.82e-03       1.30e+05    \n",
      "      161            173        1.1334e+04      2.44e+01       2.47e-03       1.65e+05    \n",
      "      162            174        1.1291e+04      4.36e+01       1.86e-03       1.26e+05    \n",
      "      163            175        1.1267e+04      2.35e+01       2.46e-03       1.68e+05    \n",
      "      164            176        1.1224e+04      4.35e+01       1.89e-03       1.23e+05    \n",
      "      165            177        1.1201e+04      2.28e+01       2.44e-03       1.71e+05    \n",
      "      166            178        1.1157e+04      4.35e+01       1.92e-03       1.23e+05    \n",
      "      167            179        1.1135e+04      2.22e+01       2.43e-03       1.73e+05    \n",
      "      168            180        1.1092e+04      4.35e+01       1.95e-03       1.24e+05    \n",
      "      169            181        1.1070e+04      2.18e+01       2.41e-03       1.75e+05    \n",
      "      170            182        1.1026e+04      4.35e+01       1.97e-03       1.25e+05    \n",
      "      171            183        1.1005e+04      2.15e+01       2.39e-03       1.77e+05    \n",
      "      172            184        1.0961e+04      4.36e+01       1.99e-03       1.25e+05    \n",
      "      173            185        1.0940e+04      2.14e+01       2.38e-03       1.78e+05    \n",
      "      174            186        1.0896e+04      4.37e+01       2.01e-03       1.26e+05    \n",
      "      175            187        1.0875e+04      2.14e+01       2.36e-03       1.78e+05    \n",
      "      176            188        1.0831e+04      4.38e+01       2.02e-03       1.26e+05    \n",
      "      177            189        1.0809e+04      2.16e+01       2.34e-03       1.79e+05    \n",
      "      178            190        1.0765e+04      4.39e+01       2.03e-03       1.27e+05    \n",
      "      179            191        1.0743e+04      2.18e+01       2.32e-03       1.78e+05    \n",
      "      180            192        1.0699e+04      4.41e+01       2.04e-03       1.28e+05    \n",
      "      181            193        1.0677e+04      2.22e+01       2.30e-03       1.78e+05    \n",
      "      182            194        1.0633e+04      4.43e+01       2.04e-03       1.28e+05    \n",
      "      183            195        1.0610e+04      2.28e+01       2.29e-03       1.76e+05    \n",
      "      184            196        1.0566e+04      4.44e+01       2.04e-03       1.29e+05    \n",
      "      185            197        1.0542e+04      2.34e+01       2.27e-03       1.75e+05    \n",
      "      186            198        1.0498e+04      4.46e+01       2.04e-03       1.29e+05    \n",
      "      187            199        1.0474e+04      2.41e+01       2.25e-03       1.73e+05    \n",
      "      188            200        1.0429e+04      4.48e+01       2.04e-03       1.30e+05    \n",
      "      189            201        1.0404e+04      2.49e+01       2.23e-03       1.71e+05    \n",
      "      190            202        1.0359e+04      4.51e+01       2.03e-03       1.30e+05    \n",
      "      191            203        1.0333e+04      2.57e+01       2.21e-03       1.68e+05    \n",
      "      192            204        1.0288e+04      4.53e+01       2.02e-03       1.30e+05    \n",
      "      193            205        1.0261e+04      2.66e+01       2.20e-03       1.66e+05    \n",
      "      194            206        1.0216e+04      4.55e+01       2.00e-03       1.30e+05    \n",
      "      195            207        1.0188e+04      2.75e+01       2.18e-03       1.63e+05    \n",
      "      196            208        1.0142e+04      4.58e+01       1.98e-03       1.30e+05    \n",
      "      197            209        1.0114e+04      2.85e+01       2.16e-03       1.59e+05    \n",
      "      198            210        1.0068e+04      4.61e+01       1.96e-03       1.30e+05    \n",
      "      199            211        1.0038e+04      2.95e+01       2.14e-03       1.56e+05    \n",
      "      200            212        9.9919e+03      4.64e+01       1.94e-03       1.30e+05    \n",
      "      201            213        9.9614e+03      3.05e+01       2.13e-03       1.52e+05    \n",
      "      202            214        9.9147e+03      4.67e+01       1.91e-03       1.29e+05    \n",
      "      203            215        9.8833e+03      3.15e+01       2.11e-03       1.48e+05    \n",
      "      204            216        9.8362e+03      4.70e+01       1.89e-03       1.29e+05    \n",
      "      205            217        9.8038e+03      3.25e+01       2.09e-03       1.44e+05    \n",
      "      206            218        9.7564e+03      4.73e+01       1.85e-03       1.28e+05    \n",
      "      207            219        9.7230e+03      3.34e+01       2.07e-03       1.40e+05    \n",
      "      208            220        9.6753e+03      4.77e+01       1.82e-03       1.27e+05    \n",
      "      209            221        9.6409e+03      3.44e+01       2.06e-03       1.36e+05    \n",
      "      210            222        9.5929e+03      4.80e+01       1.78e-03       1.26e+05    \n",
      "      211            223        9.5576e+03      3.53e+01       2.04e-03       1.31e+05    \n",
      "      212            224        9.5092e+03      4.84e+01       1.74e-03       1.25e+05    \n",
      "      213            225        9.4730e+03      3.62e+01       2.02e-03       1.27e+05    \n",
      "      214            226        9.4243e+03      4.87e+01       1.70e-03       1.23e+05    \n",
      "      215            227        9.3873e+03      3.71e+01       2.00e-03       1.22e+05    \n",
      "      216            228        9.3383e+03      4.90e+01       1.66e-03       1.22e+05    \n",
      "      217            229        9.3003e+03      3.79e+01       1.98e-03       1.17e+05    \n",
      "      218            230        9.2510e+03      4.93e+01       1.62e-03       1.21e+05    \n",
      "      219            231        9.2123e+03      3.87e+01       1.96e-03       1.13e+05    \n",
      "      220            232        9.1626e+03      4.97e+01       1.57e-03       1.19e+05    \n",
      "      221            233        9.1232e+03      3.95e+01       1.94e-03       1.08e+05    \n",
      "      222            234        9.0732e+03      5.00e+01       1.53e-03       1.18e+05    \n",
      "      223            235        9.0330e+03      4.02e+01       1.92e-03       1.04e+05    \n",
      "      224            236        8.9828e+03      5.02e+01       1.48e-03       1.16e+05    \n",
      "      225            237        8.9418e+03      4.09e+01       1.90e-03       9.97e+04    \n",
      "      226            238        8.8913e+03      5.05e+01       1.44e-03       1.15e+05    \n",
      "      227            239        8.8498e+03      4.16e+01       1.88e-03       9.55e+04    \n",
      "      228            240        8.7990e+03      5.08e+01       1.40e-03       1.13e+05    \n",
      "      229            241        8.7568e+03      4.22e+01       1.87e-03       9.15e+04    \n",
      "      230            242        8.7058e+03      5.10e+01       1.35e-03       1.12e+05    \n",
      "      231            243        8.6630e+03      4.28e+01       1.85e-03       8.76e+04    \n",
      "      232            244        8.6117e+03      5.12e+01       1.31e-03       1.10e+05    \n",
      "      233            245        8.5684e+03      4.33e+01       1.83e-03       8.39e+04    \n",
      "      234            246        8.5169e+03      5.15e+01       1.27e-03       1.09e+05    \n",
      "      235            247        8.4731e+03      4.39e+01       1.81e-03       8.04e+04    \n",
      "      236            248        8.4214e+03      5.16e+01       1.23e-03       1.07e+05    \n",
      "      237            249        8.3771e+03      4.43e+01       1.79e-03       7.70e+04    \n",
      "      238            250        8.3253e+03      5.18e+01       1.20e-03       1.06e+05    \n",
      "      239            251        8.2805e+03      4.48e+01       1.78e-03       7.38e+04    \n",
      "      240            252        8.2285e+03      5.20e+01       1.16e-03       1.04e+05    \n",
      "      241            253        8.1833e+03      4.52e+01       1.76e-03       7.08e+04    \n",
      "      242            254        8.1312e+03      5.21e+01       1.13e-03       1.03e+05    \n",
      "      243            255        8.0747e+03      5.65e+01       3.49e-03       1.60e+05    \n",
      "      244            256        7.9491e+03      1.26e+02       3.19e-03       1.29e+05    \n",
      "      245            257        7.9285e+03      2.06e+01       3.98e-03       1.84e+05    \n",
      "      246            258        7.8732e+03      5.53e+01       7.98e-04       1.30e+05    \n",
      "      247            259        7.7928e+03      8.04e+01       1.39e-03       3.25e+04    \n",
      "      248            260        7.7158e+03      7.70e+01       1.38e-03       2.18e+05    \n",
      "      249            262        7.6758e+03      4.00e+01       1.14e-03       9.53e+04    \n",
      "      250            263        7.6486e+03      2.73e+01       8.37e-04       3.29e+04    \n",
      "      251            264        7.5936e+03      5.50e+01       7.61e-04       6.51e+04    \n",
      "      252            265        7.4918e+03      1.02e+02       2.49e-03       6.12e+04    \n",
      "      253            266        7.4431e+03      4.87e+01       3.98e-03       4.55e+05    \n",
      "      254            267        7.3150e+03      1.28e+02       2.27e-03       1.19e+05    \n",
      "      255            268        7.2724e+03      4.26e+01       1.92e-03       4.80e+04    \n",
      "      256            269        7.2156e+03      5.68e+01       8.30e-04       7.00e+04    \n",
      "      257            270        7.1215e+03      9.41e+01       2.69e-03       6.89e+04    \n",
      "      258            271        7.0443e+03      7.72e+01       4.10e-03       4.16e+05    \n",
      "      259            273        6.9271e+03      1.17e+02       2.29e-03       1.02e+05    \n",
      "      260            274        6.8821e+03      4.50e+01       1.80e-03       3.22e+04    \n",
      "      261            275        6.8263e+03      5.58e+01       6.66e-04       6.77e+04    \n",
      "      262            276        6.7328e+03      9.35e+01       2.67e-03       6.03e+04    \n",
      "      263            277        6.6407e+03      9.21e+01       3.75e-03       3.91e+05    \n",
      "      264            279        6.5278e+03      1.13e+02       2.29e-03       9.71e+04    \n",
      "      265            280        6.4827e+03      4.51e+01       1.75e-03       2.82e+04    \n",
      "      266            281        6.4276e+03      5.51e+01       6.14e-04       6.42e+04    \n",
      "      267            282        6.3336e+03      9.40e+01       2.59e-03       5.20e+04    \n",
      "      268            283        6.2339e+03      9.97e+01       3.46e-03       3.73e+05    \n",
      "      269            285        6.1229e+03      1.11e+02       2.29e-03       9.63e+04    \n",
      "      270            286        6.0787e+03      4.42e+01       1.74e-03       2.74e+04    \n",
      "      271            287        6.0242e+03      5.45e+01       6.00e-04       5.90e+04    \n",
      "      272            288        5.9288e+03      9.54e+01       2.44e-03       4.22e+04    \n",
      "      273            289        5.8257e+03      1.03e+02       3.13e-03       3.58e+05    \n",
      "      274            291        5.7161e+03      1.10e+02       2.28e-03       9.63e+04    \n",
      "      275            292        5.6734e+03      4.27e+01       1.74e-03       2.66e+04    \n",
      "      276            293        5.6197e+03      5.37e+01       6.04e-04       5.37e+04    \n",
      "      277            294        5.5237e+03      9.60e+01       2.29e-03       3.35e+04    \n",
      "      278            295        5.4187e+03      1.05e+02       2.82e-03       3.44e+05    \n",
      "      279            297        5.3149e+03      1.04e+02       2.26e-03       8.76e+04    \n",
      "      280            298        5.2723e+03      4.26e+01       1.65e-03       2.53e+04    \n",
      "      281            299        5.2204e+03      5.19e+01       5.88e-04       5.31e+04    \n",
      "      282            300        5.1282e+03      9.22e+01       2.30e-03       3.34e+04    \n",
      "      283            301        5.0188e+03      1.09e+02       2.83e-03       3.24e+05    \n",
      "      284            303        4.9232e+03      9.56e+01       2.25e-03       7.33e+04    \n",
      "      285            304        4.8796e+03      4.35e+01       1.51e-03       2.36e+04    \n",
      "      286            305        4.7953e+03      8.43e+01       1.04e-03       1.41e+05    \n",
      "      287            307        4.7581e+03      3.72e+01       2.05e-03       2.61e+04    \n",
      "      288            308        4.7062e+03      5.19e+01       6.25e-04       3.61e+04    \n",
      "      289            309        4.6104e+03      9.58e+01       1.76e-03       2.07e+04    \n",
      "      290            310        4.4790e+03      1.31e+02       1.96e-03       2.64e+05    \n",
      "      291            312        4.4079e+03      7.11e+01       2.22e-03       2.82e+04    \n",
      "      292            313        4.3610e+03      4.69e+01       7.44e-04       3.32e+04    \n",
      "      293            314        4.2681e+03      9.29e+01       1.66e-03       1.93e+04    \n",
      "      294            315        4.1061e+03      1.62e+02       2.23e-03       1.68e+05    \n",
      "      295            318        4.0753e+03      3.07e+01       1.06e-03       6.46e+04    \n",
      "      296            319        4.0531e+03      2.22e+01       7.02e-04       1.89e+04    \n",
      "      297            320        4.0084e+03      4.47e+01       6.07e-04       4.32e+04    \n",
      "      298            321        3.9247e+03      8.37e+01       2.09e-03       2.25e+04    \n",
      "      299            322        3.8172e+03      1.08e+02       2.46e-03       2.71e+05    \n",
      "      300            324        3.7410e+03      7.62e+01       2.23e-03       4.34e+04    \n",
      "      301            325        3.6992e+03      4.18e+01       1.13e-03       1.87e+04    \n",
      "      302            326        3.6269e+03      7.23e+01       8.69e-04       1.28e+05    \n",
      "      303            328        3.5950e+03      3.19e+01       2.02e-03       2.16e+04    \n",
      "      304            329        3.5491e+03      4.59e+01       6.04e-04       2.29e+04    \n",
      "      305            330        3.4653e+03      8.38e+01       1.39e-03       3.10e+04    \n",
      "      306            331        3.3060e+03      1.59e+02       3.44e-03       1.92e+04    \n",
      "      307            332        3.2740e+03      3.20e+01       4.75e-03       5.25e+05    \n",
      "      308            333        3.0607e+03      2.13e+02       4.32e-03       2.70e+04    \n",
      "      309            334        2.9900e+03      7.07e+01       1.54e-03       9.44e+04    \n",
      "      310            336        2.9628e+03      2.72e+01       1.89e-03       1.85e+04    \n",
      "      311            337        2.9208e+03      4.20e+01       5.41e-04       1.50e+04    \n",
      "      312            338        2.8479e+03      7.30e+01       1.08e-03       5.92e+04    \n",
      "      313            340        2.8171e+03      3.08e+01       1.49e-03       1.71e+04    \n",
      "      314            341        2.7784e+03      3.87e+01       5.38e-04       2.58e+04    \n",
      "      315            342        2.7067e+03      7.17e+01       1.65e-03       1.51e+04    \n",
      "      316            343        2.6146e+03      9.21e+01       1.82e-03       2.17e+05    \n",
      "      317            345        2.5571e+03      5.75e+01       2.19e-03       2.02e+04    \n",
      "      318            346        2.5225e+03      3.47e+01       7.18e-04       1.59e+04    \n",
      "      319            347        2.4542e+03      6.83e+01       1.24e-03       3.10e+04    \n",
      "      320            348        2.3444e+03      1.10e+02       3.98e-03       2.63e+04    \n",
      "      321            349        2.2937e+03      5.07e+01       5.55e-03       4.07e+05    \n",
      "      322            350        2.1378e+03      1.56e+02       4.38e-03       4.63e+04    \n",
      "      323            351        2.0743e+03      6.35e+01       2.52e-03       4.86e+04    \n",
      "      324            353        2.0501e+03      2.42e+01       1.51e-03       1.37e+04    \n",
      "      325            354        2.0177e+03      3.23e+01       4.62e-04       1.35e+04    \n",
      "      326            355        1.9587e+03      5.90e+01       1.26e-03       2.27e+04    \n",
      "      327            356        1.8546e+03      1.04e+02       3.51e-03       1.41e+04    \n",
      "      328            357        1.8141e+03      4.04e+01       4.29e-03       3.64e+05    \n",
      "      329            358        1.6775e+03      1.37e+02       4.33e-03       2.51e+04    \n",
      "      330            359        1.6259e+03      5.15e+01       1.79e-03       4.93e+04    \n",
      "      331            361        1.6081e+03      1.78e+01       1.64e-03       1.18e+04    \n",
      "      332            362        1.5796e+03      2.86e+01       5.00e-04       9.72e+03    \n",
      "      333            363        1.5354e+03      4.42e+01       8.41e-04       6.89e+04    \n",
      "      334            365        1.5208e+03      1.46e+01       1.92e-03       1.16e+04    \n",
      "      335            366        1.4924e+03      2.85e+01       5.24e-04       9.56e+03    \n",
      "      336            367        1.4507e+03      4.17e+01       8.25e-04       7.02e+04    \n",
      "      337            369        1.4370e+03      1.37e+01       1.95e-03       1.11e+04    \n",
      "      338            370        1.4096e+03      2.74e+01       5.09e-04       9.16e+03    \n",
      "      339            371        1.3695e+03      4.01e+01       8.27e-04       6.71e+04    \n",
      "      340            373        1.3568e+03      1.28e+01       1.95e-03       1.06e+04    \n",
      "      341            374        1.3303e+03      2.64e+01       5.05e-04       8.77e+03    \n",
      "      342            375        1.2918e+03      3.85e+01       8.27e-04       6.41e+04    \n",
      "      343            377        1.2800e+03      1.18e+01       1.95e-03       1.02e+04    \n",
      "      344            378        1.2545e+03      2.55e+01       5.00e-04       8.39e+03    \n",
      "      345            379        1.2176e+03      3.69e+01       8.28e-04       6.11e+04    \n",
      "      346            381        1.2067e+03      1.09e+01       1.94e-03       9.73e+03    \n",
      "      347            382        1.1822e+03      2.45e+01       4.96e-04       8.02e+03    \n",
      "      348            383        1.1469e+03      3.53e+01       8.28e-04       5.84e+04    \n",
      "      349            385        1.1369e+03      1.00e+01       1.94e-03       9.30e+03    \n",
      "      350            386        1.1133e+03      2.36e+01       4.91e-04       7.65e+03    \n",
      "      351            387        1.0795e+03      3.38e+01       8.29e-04       5.57e+04    \n",
      "      352            389        1.0704e+03      9.14e+00       1.94e-03       8.87e+03    \n",
      "      353            390        1.0477e+03      2.27e+01       4.88e-04       7.30e+03    \n",
      "      354            391        1.0155e+03      3.22e+01       8.30e-04       5.31e+04    \n",
      "      355            393        1.0072e+03      8.29e+00       1.94e-03       8.46e+03    \n",
      "      356            394        9.8540e+02      2.18e+01       4.84e-04       6.95e+03    \n",
      "      357            395        9.5466e+02      3.07e+01       8.31e-04       5.07e+04    \n",
      "      358            397        9.4720e+02      7.47e+00       1.94e-03       8.05e+03    \n",
      "      359            398        9.2632e+02      2.09e+01       4.81e-04       6.61e+03    \n",
      "      360            399        8.9706e+02      2.93e+01       8.33e-04       4.83e+04    \n",
      "      361            400        8.9706e+02      0.00e+00       0.00e+00       4.83e+04    \n",
      "The maximum number of function evaluations is exceeded.\n",
      "Function evaluations 400, initial cost 1.0194e+06, final cost 8.9706e+02, first-order optimality 4.83e+04.\n"
     ]
    }
   ],
   "source": [
    "x0 = [0.1,  0.5, 0.3,  0.1]      # initial guess: [σ, λ, m, v]\n",
    "bounds = ( [1e-3, 1e-2, -10, 0], [2, np.inf, 10, 5] )\n",
    "\n",
    "def cost_function(x, strikes, mkt_prices):\n",
    "    sigma, lambd, meanJ, stdJ = x\n",
    "    M = Merton_pricer(S0, None, T, r, q, sigma, lambd, meanJ, stdJ, exercise)\n",
    "    sq_err = np.sum( p_weights*(M.closed_formula_put(strikes) - mkt_prices)**2)\n",
    "    return sq_err\n",
    "\n",
    "start2 = time.time()\n",
    "mert2 = scpo.least_squares(cost_function, x0, args=(put_strikes, put_prices), bounds=bounds, method = 'trf', verbose=1)\n",
    "end2 = time.time()\n",
    "\n",
    "mert_params2 = [round(p,4) for p in mert2.x[:4]]"
   ],
   "metadata": {
    "collapsed": false
   }
  },
  {
   "cell_type": "code",
   "execution_count": 25,
   "outputs": [
    {
     "name": "stdout",
     "output_type": "stream",
     "text": [
      "WEIGHTED OPT: CURVE_FIT (trf)\n",
      "> Calibrated Volatlity [σ] = 0.0737 \t 7.37%\n",
      "> Calibrated Jump intensity [λ] =  0.83\n",
      "> Calibrated Jump Mean =  -0.07\n",
      "> Calibrated Jump St. dev.  =  0.33694\n",
      "ELAPSED TIME: 8.492132663726807 sec\n",
      "\n",
      "METHOD 1: LEAST SQUARES (trf)\n",
      "> Calibrated Volatlity [σ] = 0.1382 \t 13.82%\n",
      "> Calibrated Jump intensity [λ] =  0.61\n",
      "> Calibrated Jump Mean =  -0.084\n",
      "> Calibrated Jump St. dev.  =  0.357\n",
      "TIME ELAPSED:  66.21 sec\n"
     ]
    }
   ],
   "source": [
    "print('WEIGHTED OPT: CURVE_FIT (trf)')\n",
    "print(f'> Calibrated Volatlity [σ] = {round(mert1[0][0],4)} \\t {round(mert1[0][0]*100,2)}%')\n",
    "print('> Calibrated Jump intensity [λ] = ', round(mert1[0][1],2))\n",
    "print('> Calibrated Jump Mean = ', round(mert1[0][2],2))\n",
    "print('> Calibrated Jump St. dev.  = ', round(mert1[0][3],5))\n",
    "print(f'ELAPSED TIME: {end1-start1} sec')\n",
    "\n",
    "print('\\nMETHOD 1: LEAST SQUARES (trf)')\n",
    "print(f'> Calibrated Volatlity [σ] = {mert_params2[0]} \\t {round(mert_params2[0]*100,2)}%')\n",
    "print('> Calibrated Jump intensity [λ] = ', round(mert_params2[1],2))\n",
    "print('> Calibrated Jump Mean = ', round(mert_params2[2],3))\n",
    "print('> Calibrated Jump St. dev.  = ', round(mert_params2[3],3))\n",
    "print(f'TIME ELAPSED:  {round(end2-start2,2)} sec')"
   ],
   "metadata": {
    "collapsed": false
   }
  },
  {
   "cell_type": "code",
   "execution_count": 26,
   "outputs": [
    {
     "name": "stdout",
     "output_type": "stream",
     "text": [
      "[0.0737, 0.8324, -0.0669, 0.3369]\n",
      "[0.1382, 0.6087, -0.0842, 0.357]\n"
     ]
    }
   ],
   "source": [
    "print(mert_params1)\n",
    "print(mert_params2)\n",
    "puts_mert_params_spx = mert_params2\n",
    "%store puts_mert_params_spx"
   ],
   "metadata": {
    "collapsed": false
   }
  },
  {
   "cell_type": "markdown",
   "source": [
    "### Kou Jump Diffusion\n"
   ],
   "metadata": {
    "collapsed": false
   }
  },
  {
   "cell_type": "code",
   "execution_count": 27,
   "outputs": [],
   "source": [
    "x0 = [0.3, 0.8, 0.5, 5, 10] # initial guess: [σ, λ, p, η_1, η_2]\n",
    "bounds = ( [1e-2, 1e-1, 0, 0.5, 0.5], [0.5, 4, 1, 15, 20] )"
   ],
   "metadata": {
    "collapsed": false
   }
  },
  {
   "cell_type": "markdown",
   "source": [
    "##### Method 1. TRF (Bounds)"
   ],
   "metadata": {
    "collapsed": false
   }
  },
  {
   "cell_type": "code",
   "execution_count": 28,
   "outputs": [],
   "source": [
    "# def f_Kou(x, sigma, lambd, p, eta1, eta2):\n",
    "#     KouJD = Kou_pricer(S0=S0, K=x, ttm=T, r=r, sigma=sigma, lambd=lambd, p=p, eta1=eta1, eta2=eta2, exercise=exercise)\n",
    "#     return KouJD.closed_formula_put(x)\n",
    "#\n",
    "# start1 = time.time()\n",
    "# kou1 = scpo.curve_fit(f_Kou, put_strikes, put_prices, p0=x0, bounds=bounds, sigma=p_weights)\n",
    "# end1 = time.time()\n",
    "#\n",
    "# kou_params1 = [round(p,4) for p in kou1[0][:5]]"
   ],
   "metadata": {
    "collapsed": false
   }
  },
  {
   "cell_type": "markdown",
   "source": [
    "##### Method 2. LEAST SQUARES (With Bounds)"
   ],
   "metadata": {
    "collapsed": false
   }
  },
  {
   "cell_type": "code",
   "execution_count": 29,
   "outputs": [
    {
     "name": "stdout",
     "output_type": "stream",
     "text": [
      "   Iteration     Total nfev        Cost      Cost reduction    Step norm     Optimality   \n",
      "       0              1         1.0134e+07                                    1.17e+08    \n",
      "       1              3         3.5070e+05      9.78e+06       2.95e+00       7.47e+06    \n",
      "       2              4         9.1771e+03      3.42e+05       5.74e+00       6.45e+04    \n",
      "       3              8         8.8378e+03      3.39e+02       4.91e-03       3.74e+04    \n",
      "       4             10         8.7941e+03      4.37e+01       1.58e-03       3.17e+03    \n",
      "       5             12         8.7929e+03      1.15e+00       2.84e-04       8.18e+03    \n",
      "       6             13         8.7925e+03      4.92e-01       6.99e-04       3.29e+03    \n",
      "       7             14         8.7917e+03      7.19e-01       6.90e-05       2.64e+03    \n",
      "       8             15         8.7909e+03      8.12e-01       2.00e-04       5.60e+03    \n",
      "       9             16         8.7901e+03      7.98e-01       4.15e-04       4.71e+03    \n",
      "      10             17         8.7886e+03      1.56e+00       7.43e-04       5.89e+03    \n",
      "      11             18         8.7868e+03      1.71e+00       1.67e-03       4.00e+03    \n",
      "      12             20         8.7854e+03      1.46e+00       1.27e-04       3.15e+03    \n",
      "      13             21         8.7847e+03      7.30e-01       2.50e-04       5.57e+03    \n",
      "      14             22         8.7839e+03      7.53e-01       4.14e-04       4.20e+03    \n",
      "      15             23         8.7825e+03      1.43e+00       6.97e-04       6.20e+03    \n",
      "      16             25         8.7818e+03      6.71e-01       3.98e-04       3.64e+03    \n",
      "      17             26         8.7811e+03      7.28e-01       3.04e-04       5.36e+03    \n",
      "      18             27         8.7797e+03      1.35e+00       8.23e-04       2.79e+03    \n",
      "      19             29         8.7790e+03      7.09e-01       2.37e-04       5.35e+03    \n",
      "      20             30         8.7783e+03      7.27e-01       4.10e-04       3.89e+03    \n",
      "      21             31         8.7769e+03      1.36e+00       6.76e-04       6.16e+03    \n",
      "      22             33         8.7763e+03      6.38e-01       3.85e-04       3.33e+03    \n",
      "      23             34         8.7756e+03      7.04e-01       2.91e-04       5.19e+03    \n",
      "      24             35         8.7743e+03      1.26e+00       8.14e-04       2.32e+03    \n",
      "      25             37         8.7736e+03      7.03e-01       2.14e-04       5.11e+03    \n",
      "      26             38         8.7729e+03      7.10e-01       4.05e-04       3.67e+03    \n",
      "      27             39         8.7716e+03      1.32e+00       6.64e-04       6.02e+03    \n",
      "      28             41         8.7710e+03      6.16e-01       3.76e-04       3.08e+03    \n",
      "      29             42         8.7703e+03      6.84e-01       2.83e-04       5.02e+03    \n",
      "      30             43         8.7691e+03      1.19e+00       8.04e-04       2.17e+03    \n",
      "      31             44         8.7684e+03      6.52e-01       4.00e-04       7.80e+03    \n",
      "      32             45         8.7680e+03      4.11e-01       6.07e-04       3.16e+03    \n",
      "      33             46         8.7673e+03      6.97e-01       6.90e-05       2.17e+03    \n",
      "      34             47         8.7666e+03      7.26e-01       1.86e-04       4.71e+03    \n",
      "      35             48         8.7659e+03      7.06e-01       3.99e-04       3.52e+03    \n",
      "      36             49         8.7646e+03      1.33e+00       6.72e-04       5.56e+03    \n",
      "      37             51         8.7640e+03      6.01e-01       3.77e-04       2.82e+03    \n",
      "      38             52         8.7633e+03      6.66e-01       2.76e-04       4.81e+03    \n",
      "      39             53         8.7622e+03      1.11e+00       7.91e-04       2.19e+03    \n",
      "      40             54         8.7616e+03      5.97e-01       3.75e-04       7.63e+03    \n",
      "      41             55         8.7612e+03      4.04e-01       5.92e-04       3.12e+03    \n",
      "      42             56         8.7605e+03      6.93e-01       6.94e-05       2.20e+03    \n",
      "      43             57         8.7598e+03      7.13e-01       1.84e-04       4.51e+03    \n",
      "      44             58         8.7591e+03      6.89e-01       3.93e-04       3.25e+03    \n",
      "      45             59         8.7578e+03      1.27e+00       6.52e-04       5.50e+03    \n",
      "      46             61         8.7572e+03      5.80e-01       3.64e-04       2.56e+03    \n",
      "      47             62         8.7566e+03      6.50e-01       2.66e-04       4.63e+03    \n",
      "      48             63         8.7555e+03      1.05e+00       7.78e-04       2.22e+03    \n",
      "      49             64         8.7550e+03      5.69e-01       3.57e-04       7.45e+03    \n",
      "      50             65         8.7544e+03      6.24e-01       1.45e-04       5.45e+03    \n",
      "      51             66         8.7538e+03      5.73e-01       3.59e-04       2.45e+03    \n",
      "      52             67         8.7531e+03      6.44e-01       2.63e-04       4.55e+03    \n",
      "      53             68         8.7521e+03      1.02e+00       7.71e-04       2.23e+03    \n",
      "      54             69         8.7516e+03      5.61e-01       3.51e-04       7.36e+03    \n",
      "      55             70         8.7509e+03      6.24e-01       1.44e-04       5.36e+03    \n",
      "      56             71         8.7504e+03      5.68e-01       3.56e-04       2.35e+03    \n",
      "      57             72         8.7497e+03      6.39e-01       2.60e-04       4.47e+03    \n",
      "      58             73         8.7487e+03      1.00e+00       7.65e-04       2.24e+03    \n",
      "      59             74         8.7482e+03      5.56e-01       3.47e-04       7.28e+03    \n",
      "      60             75         8.7475e+03      6.23e-01       1.43e-04       5.27e+03    \n",
      "      61             76         8.7470e+03      5.63e-01       3.53e-04       2.31e+03    \n",
      "      62             77         8.7463e+03      6.35e-01       2.58e-04       4.39e+03    \n",
      "      63             78         8.7454e+03      9.86e-01       7.59e-04       2.25e+03    \n",
      "      64             79         8.7448e+03      5.53e-01       3.44e-04       7.20e+03    \n",
      "      65             80         8.7442e+03      6.22e-01       1.42e-04       5.19e+03    \n",
      "      66             81         8.7436e+03      5.60e-01       3.50e-04       2.32e+03    \n",
      "      67             82         8.7430e+03      6.32e-01       2.56e-04       4.32e+03    \n",
      "      68             83         8.7420e+03      9.72e-01       7.53e-04       2.26e+03    \n",
      "      69             84         8.7415e+03      5.51e-01       3.42e-04       7.12e+03    \n",
      "      70             85         8.7408e+03      6.21e-01       1.41e-04       5.12e+03    \n",
      "      71             86         8.7403e+03      5.57e-01       3.48e-04       2.34e+03    \n",
      "      72             87         8.7397e+03      6.30e-01       2.54e-04       4.26e+03    \n",
      "      73             88         8.7387e+03      9.61e-01       7.48e-04       2.28e+03    \n",
      "      74             89         8.7381e+03      5.51e-01       3.40e-04       7.05e+03    \n",
      "      75             90         8.7375e+03      6.20e-01       1.40e-04       5.05e+03    \n",
      "      76             91         8.7370e+03      5.55e-01       3.46e-04       2.35e+03    \n",
      "      77             92         8.7363e+03      6.28e-01       2.52e-04       4.20e+03    \n",
      "      78             93         8.7354e+03      9.52e-01       7.43e-04       2.29e+03    \n",
      "      79             94         8.7348e+03      5.51e-01       3.39e-04       6.98e+03    \n",
      "      80             95         8.7342e+03      6.19e-01       1.40e-04       4.98e+03    \n",
      "      81             96         8.7337e+03      5.53e-01       3.44e-04       2.36e+03    \n",
      "      82             97         8.7330e+03      6.26e-01       2.51e-04       4.14e+03    \n",
      "      83             98         8.7324e+03      6.22e-01       3.69e-04       2.38e+03    \n",
      "      84             99         8.7314e+03      1.03e+00       5.58e-04       5.72e+03    \n",
      "      85             100        8.7313e+03      9.68e-02       6.24e-04       3.29e+03    \n",
      "      86             101        8.7305e+03      7.50e-01       6.88e-05       2.30e+03    \n",
      "      87             102        8.7298e+03      7.59e-01       1.66e-04       3.60e+03    \n",
      "      88             103        8.7291e+03      6.85e-01       3.66e-04       2.80e+03    \n",
      "      89             104        8.7278e+03      1.32e+00       6.50e-04       4.33e+03    \n",
      "      90             106        8.7272e+03      5.83e-01       3.59e-04       2.39e+03    \n",
      "      91             107        8.7266e+03      6.31e-01       2.60e-04       4.00e+03    \n",
      "      92             108        8.7256e+03      9.66e-01       7.31e-04       2.33e+03    \n",
      "      93             109        8.7251e+03      5.43e-01       3.44e-04       6.82e+03    \n",
      "      94             110        8.7244e+03      6.20e-01       1.37e-04       4.83e+03    \n",
      "      95             111        8.7239e+03      5.51e-01       3.38e-04       2.40e+03    \n",
      "      96             112        8.7233e+03      6.24e-01       2.48e-04       3.99e+03    \n",
      "      97             113        8.7226e+03      6.19e-01       3.63e-04       2.42e+03    \n",
      "      98             114        8.7216e+03      1.02e+00       5.50e-04       5.59e+03    \n",
      "      99             115        8.7215e+03      9.45e-02       6.13e-04       3.27e+03    \n",
      "      100            116        8.7208e+03      7.49e-01       6.93e-05       2.33e+03    \n",
      "      101            117        8.7200e+03      7.60e-01       1.67e-04       3.45e+03    \n",
      "      102            118        8.7193e+03      6.84e-01       3.61e-04       2.68e+03    \n",
      "      103            119        8.7180e+03      1.32e+00       6.42e-04       4.18e+03    \n",
      "      104            121        8.7174e+03      5.84e-01       3.54e-04       2.43e+03    \n",
      "      105            122        8.7168e+03      6.31e-01       2.58e-04       3.87e+03    \n",
      "      106            123        8.7158e+03      9.67e-01       7.20e-04       2.36e+03    \n",
      "      107            124        8.7153e+03      5.48e-01       3.45e-04       6.68e+03    \n",
      "      108            125        8.7147e+03      6.18e-01       1.36e-04       4.70e+03    \n",
      "      109            126        8.7141e+03      5.51e-01       3.33e-04       2.43e+03    \n",
      "      110            127        8.7135e+03      6.25e-01       2.46e-04       3.87e+03    \n",
      "      111            128        8.7129e+03      6.19e-01       3.58e-04       2.45e+03    \n",
      "      112            129        8.7119e+03      1.02e+00       5.46e-04       5.47e+03    \n",
      "      113            130        8.7118e+03      9.91e-02       6.07e-04       3.25e+03    \n",
      "      114            131        8.7110e+03      7.48e-01       6.97e-05       2.37e+03    \n",
      "      115            132        8.7103e+03      7.62e-01       1.68e-04       3.34e+03    \n",
      "      116            133        8.7096e+03      6.85e-01       3.56e-04       2.58e+03    \n",
      "      117            134        8.7082e+03      1.32e+00       6.36e-04       4.07e+03    \n",
      "      118            136        8.7077e+03      5.87e-01       3.50e-04       2.46e+03    \n",
      "      119            137        8.7070e+03      6.33e-01       2.57e-04       3.77e+03    \n",
      "      120            138        8.7060e+03      9.77e-01       7.12e-04       2.39e+03    \n",
      "      121            139        8.7055e+03      5.55e-01       3.48e-04       6.57e+03    \n",
      "      122            140        8.7049e+03      6.17e-01       1.35e-04       4.60e+03    \n",
      "      123            141        8.7043e+03      5.53e-01       3.30e-04       2.47e+03    \n",
      "      124            142        8.7037e+03      6.28e-01       2.46e-04       3.77e+03    \n",
      "      125            143        8.7027e+03      9.50e-01       7.09e-04       2.40e+03    \n",
      "      126            144        8.7022e+03      5.68e-01       3.44e-04       6.53e+03    \n",
      "      127            145        8.7016e+03      6.14e-01       1.35e-04       4.56e+03    \n",
      "      128            146        8.7010e+03      5.54e-01       3.30e-04       2.48e+03    \n",
      "      129            147        8.7004e+03      6.29e-01       2.46e-04       3.75e+03    \n",
      "      130            148        8.6994e+03      9.56e-01       7.07e-04       2.41e+03    \n",
      "      131            149        8.6989e+03      5.71e-01       3.45e-04       6.50e+03    \n",
      "      132            150        8.6982e+03      6.13e-01       1.35e-04       4.53e+03    \n",
      "      133            151        8.6977e+03      5.56e-01       3.29e-04       2.49e+03    \n",
      "      134            152        8.6971e+03      6.30e-01       2.46e-04       3.73e+03    \n",
      "      135            153        8.6961e+03      9.62e-01       7.05e-04       2.42e+03    \n",
      "      136            154        8.6955e+03      5.73e-01       3.47e-04       6.47e+03    \n",
      "      137            155        8.6949e+03      6.13e-01       1.35e-04       4.51e+03    \n",
      "      138            156        8.6943e+03      5.57e-01       3.29e-04       2.50e+03    \n",
      "      139            157        8.6937e+03      6.32e-01       2.46e-04       3.71e+03    \n",
      "      140            158        8.6927e+03      9.68e-01       7.04e-04       2.43e+03    \n",
      "      141            159        8.6922e+03      5.76e-01       3.48e-04       6.45e+03    \n",
      "      142            160        8.6916e+03      6.13e-01       1.34e-04       4.49e+03    \n",
      "      143            161        8.6910e+03      5.58e-01       3.28e-04       2.51e+03    \n",
      "      144            162        8.6904e+03      6.33e-01       2.46e-04       3.69e+03    \n",
      "      145            163        8.6894e+03      9.75e-01       7.02e-04       2.45e+03    \n",
      "      146            164        8.6888e+03      5.79e-01       3.49e-04       6.43e+03    \n",
      "      147            165        8.6882e+03      6.12e-01       1.34e-04       4.48e+03    \n",
      "      148            166        8.6876e+03      5.60e-01       3.27e-04       2.52e+03    \n",
      "      149            167        8.6870e+03      6.35e-01       2.46e-04       3.67e+03    \n",
      "      150            168        8.6860e+03      9.82e-01       7.01e-04       2.46e+03    \n",
      "      151            169        8.6854e+03      5.82e-01       3.51e-04       6.41e+03    \n",
      "      152            170        8.6848e+03      6.12e-01       1.34e-04       4.46e+03    \n",
      "      153            171        8.6843e+03      5.62e-01       3.27e-04       2.53e+03    \n",
      "      154            172        8.6836e+03      6.37e-01       2.46e-04       3.65e+03    \n",
      "      155            173        8.6826e+03      9.89e-01       7.00e-04       2.47e+03    \n",
      "      156            174        8.6821e+03      5.85e-01       3.52e-04       6.39e+03    \n",
      "      157            175        8.6814e+03      6.12e-01       1.34e-04       4.44e+03    \n",
      "      158            176        8.6809e+03      5.63e-01       3.27e-04       2.54e+03    \n",
      "      159            177        8.6802e+03      6.38e-01       2.46e-04       3.64e+03    \n",
      "      160            178        8.6792e+03      9.97e-01       6.99e-04       2.48e+03    \n",
      "      161            179        8.6787e+03      5.89e-01       3.54e-04       6.38e+03    \n",
      "      162            180        8.6783e+03      3.73e-01       5.36e-04       2.95e+03    \n",
      "      163            181        8.6776e+03      6.90e-01       7.31e-05       2.49e+03    \n",
      "      164            182        8.6769e+03      7.14e-01       1.81e-04       3.34e+03    \n",
      "      165            183        8.6762e+03      6.75e-01       3.50e-04       2.59e+03    \n",
      "      166            184        8.6750e+03      1.25e+00       5.93e-04       4.44e+03    \n",
      "      167            186        8.6744e+03      5.66e-01       3.25e-04       2.56e+03    \n",
      "      168            187        8.6737e+03      6.42e-01       2.47e-04       3.61e+03    \n",
      "      169            188        8.6727e+03      1.01e+00       6.97e-04       2.50e+03    \n",
      "      170            189        8.6721e+03      5.96e-01       3.57e-04       6.34e+03    \n",
      "      171            190        8.6718e+03      3.77e-01       5.36e-04       2.94e+03    \n",
      "      172            191        8.6711e+03      6.90e-01       7.33e-05       2.51e+03    \n",
      "      173            192        8.6704e+03      7.17e-01       1.82e-04       3.32e+03    \n",
      "      174            193        8.6697e+03      6.79e-01       3.49e-04       2.61e+03    \n",
      "      175            194        8.6684e+03      1.26e+00       5.95e-04       4.39e+03    \n",
      "      176            196        8.6678e+03      5.70e-01       3.26e-04       2.58e+03    \n",
      "      177            197        8.6672e+03      6.45e-01       2.48e-04       3.59e+03    \n",
      "      178            198        8.6662e+03      1.03e+00       6.96e-04       2.52e+03    \n",
      "      179            199        8.6656e+03      6.04e-01       3.60e-04       6.32e+03    \n",
      "      180            200        8.6652e+03      3.81e-01       5.35e-04       2.93e+03    \n",
      "      181            201        8.6645e+03      6.90e-01       7.35e-05       2.53e+03    \n",
      "      182            202        8.6638e+03      7.20e-01       1.82e-04       3.30e+03    \n",
      "      183            203        8.6631e+03      6.82e-01       3.48e-04       2.63e+03    \n",
      "      184            204        8.6618e+03      1.27e+00       5.96e-04       4.34e+03    \n",
      "      185            206        8.6612e+03      5.74e-01       3.27e-04       2.60e+03    \n",
      "      186            207        8.6606e+03      6.49e-01       2.49e-04       3.57e+03    \n",
      "      187            208        8.6596e+03      1.04e+00       6.95e-04       2.54e+03    \n",
      "      188            209        8.6589e+03      6.13e-01       3.64e-04       6.29e+03    \n",
      "      189            210        8.6586e+03      3.84e-01       5.36e-04       2.93e+03    \n",
      "      190            211        8.6579e+03      6.90e-01       7.37e-05       2.55e+03    \n",
      "      191            212        8.6571e+03      7.23e-01       1.83e-04       3.29e+03    \n",
      "      192            213        8.6565e+03      6.86e-01       3.48e-04       2.65e+03    \n",
      "      193            214        8.6552e+03      1.29e+00       5.98e-04       4.29e+03    \n",
      "      194            216        8.6546e+03      5.79e-01       3.28e-04       2.62e+03    \n",
      "      195            217        8.6539e+03      6.53e-01       2.50e-04       3.55e+03    \n",
      "      196            218        8.6529e+03      1.06e+00       6.94e-04       2.56e+03    \n",
      "      197            219        8.6523e+03      6.22e-01       3.68e-04       6.27e+03    \n",
      "      198            220        8.6519e+03      3.88e-01       5.36e-04       2.92e+03    \n",
      "      199            221        8.6512e+03      6.90e-01       7.39e-05       2.57e+03    \n",
      "      200            222        8.6505e+03      7.26e-01       1.83e-04       3.28e+03    \n",
      "      201            223        8.6498e+03      6.90e-01       3.47e-04       2.67e+03    \n",
      "      202            224        8.6485e+03      1.30e+00       6.00e-04       4.24e+03    \n",
      "      203            226        8.6479e+03      5.85e-01       3.29e-04       2.64e+03    \n",
      "      204            227        8.6472e+03      6.57e-01       2.51e-04       3.54e+03    \n",
      "      205            228        8.6461e+03      1.08e+00       6.93e-04       2.58e+03    \n",
      "      206            229        8.6455e+03      6.32e-01       3.72e-04       6.25e+03    \n",
      "      207            230        8.6451e+03      3.91e-01       5.36e-04       2.91e+03    \n",
      "      208            231        8.6444e+03      6.90e-01       7.41e-05       2.58e+03    \n",
      "      209            232        8.6437e+03      7.30e-01       1.84e-04       3.27e+03    \n",
      "      210            233        8.6430e+03      6.93e-01       3.47e-04       2.69e+03    \n",
      "      211            234        8.6417e+03      1.31e+00       6.02e-04       4.20e+03    \n",
      "      212            236        8.6411e+03      5.90e-01       3.30e-04       2.66e+03    \n",
      "      213            237        8.6404e+03      6.61e-01       2.53e-04       3.53e+03    \n",
      "      214            238        8.6394e+03      1.10e+00       6.93e-04       2.60e+03    \n",
      "      215            239        8.6387e+03      6.44e-01       3.76e-04       6.22e+03    \n",
      "      216            240        8.6383e+03      3.93e-01       5.37e-04       2.91e+03    \n",
      "      217            241        8.6376e+03      6.90e-01       7.43e-05       2.60e+03    \n",
      "      218            242        8.6369e+03      7.33e-01       1.84e-04       3.26e+03    \n",
      "      219            243        8.6362e+03      6.97e-01       3.47e-04       2.71e+03    \n",
      "      220            244        8.6349e+03      1.33e+00       6.04e-04       4.15e+03    \n",
      "      221            246        8.6343e+03      5.97e-01       3.32e-04       2.68e+03    \n",
      "      222            247        8.6336e+03      6.65e-01       2.54e-04       3.52e+03    \n",
      "      223            248        8.6325e+03      1.11e+00       6.93e-04       2.63e+03    \n",
      "      224            249        8.6318e+03      6.57e-01       3.81e-04       6.20e+03    \n",
      "      225            250        8.6314e+03      3.95e-01       5.38e-04       2.90e+03    \n",
      "      226            251        8.6308e+03      6.90e-01       7.45e-05       2.62e+03    \n",
      "      227            252        8.6300e+03      7.36e-01       1.85e-04       3.26e+03    \n",
      "      228            253        8.6293e+03      7.01e-01       3.46e-04       2.73e+03    \n",
      "      229            254        8.6280e+03      1.34e+00       6.06e-04       4.11e+03    \n",
      "      230            256        8.6274e+03      6.04e-01       3.33e-04       2.70e+03    \n",
      "      231            257        8.6267e+03      6.70e-01       2.56e-04       3.51e+03    \n",
      "      232            258        8.6256e+03      1.13e+00       6.93e-04       2.65e+03    \n",
      "      233            259        8.6249e+03      6.71e-01       3.86e-04       6.18e+03    \n",
      "      234            260        8.6245e+03      3.97e-01       5.40e-04       2.90e+03    \n",
      "      235            261        8.6238e+03      6.91e-01       7.47e-05       2.64e+03    \n",
      "      236            262        8.6231e+03      7.40e-01       1.85e-04       3.25e+03    \n",
      "      237            263        8.6224e+03      7.05e-01       3.46e-04       2.75e+03    \n",
      "      238            264        8.6210e+03      1.35e+00       6.09e-04       4.07e+03    \n",
      "      239            266        8.6204e+03      6.11e-01       3.35e-04       2.72e+03    \n",
      "      240            267        8.6197e+03      6.74e-01       2.59e-04       3.50e+03    \n",
      "      241            268        8.6186e+03      1.15e+00       6.93e-04       2.67e+03    \n",
      "      242            269        8.6179e+03      6.86e-01       3.92e-04       6.16e+03    \n",
      "      243            270        8.6175e+03      3.98e-01       5.41e-04       2.90e+03    \n",
      "      244            271        8.6168e+03      6.91e-01       7.49e-05       2.66e+03    \n",
      "      245            272        8.6161e+03      7.44e-01       1.86e-04       3.25e+03    \n",
      "      246            273        8.6153e+03      7.09e-01       3.46e-04       2.77e+03    \n",
      "      247            274        8.6140e+03      1.36e+00       6.12e-04       4.02e+03    \n",
      "      248            276        8.6134e+03      6.19e-01       3.36e-04       2.74e+03    \n",
      "      249            277        8.6127e+03      6.79e-01       2.61e-04       3.49e+03    \n",
      "      250            278        8.6115e+03      1.17e+00       6.94e-04       2.69e+03    \n",
      "      251            280        8.6108e+03      7.06e-01       1.99e-04       3.40e+03    \n",
      "      252            281        8.6101e+03      6.95e-01       3.47e-04       2.78e+03    \n",
      "      253            282        8.6088e+03      1.30e+00       5.90e-04       4.39e+03    \n",
      "      254            284        8.6082e+03      6.04e-01       3.25e-04       2.76e+03    \n",
      "      255            285        8.6075e+03      6.79e-01       2.56e-04       3.51e+03    \n",
      "      256            286        8.6064e+03      1.17e+00       6.93e-04       2.71e+03    \n",
      "      257            288        8.6056e+03      7.11e-01       1.98e-04       3.39e+03    \n",
      "      258            289        8.6049e+03      7.00e-01       3.47e-04       2.80e+03    \n",
      "      259            290        8.6036e+03      1.32e+00       5.93e-04       4.34e+03    \n",
      "      260            292        8.6030e+03      6.08e-01       3.27e-04       2.77e+03    \n",
      "      261            293        8.6023e+03      6.82e-01       2.57e-04       3.51e+03    \n",
      "      262            294        8.6011e+03      1.18e+00       6.94e-04       2.72e+03    \n",
      "      263            296        8.6004e+03      7.11e-01       2.00e-04       3.40e+03    \n",
      "      264            297        8.5997e+03      7.01e-01       3.47e-04       2.81e+03    \n",
      "      265            298        8.5984e+03      1.32e+00       5.93e-04       4.34e+03    \n",
      "      266            300        8.5978e+03      6.11e-01       3.27e-04       2.79e+03    \n",
      "      267            301        8.5971e+03      6.85e-01       2.58e-04       3.51e+03    \n",
      "      268            302        8.5959e+03      1.20e+00       6.94e-04       2.74e+03    \n",
      "      269            304        8.5952e+03      7.10e-01       2.02e-04       3.41e+03    \n",
      "      270            305        8.5945e+03      7.03e-01       3.47e-04       2.82e+03    \n",
      "      271            306        8.5932e+03      1.33e+00       5.94e-04       4.34e+03    \n",
      "      272            308        8.5926e+03      6.14e-01       3.27e-04       2.80e+03    \n",
      "      273            309        8.5919e+03      6.88e-01       2.59e-04       3.50e+03    \n",
      "      274            310        8.5907e+03      1.21e+00       6.94e-04       2.75e+03    \n",
      "      275            312        8.5900e+03      7.10e-01       2.04e-04       3.42e+03    \n",
      "      276            313        8.5893e+03      7.05e-01       3.47e-04       2.84e+03    \n",
      "      277            314        8.5879e+03      1.33e+00       5.94e-04       4.34e+03    \n",
      "      278            316        8.5873e+03      6.17e-01       3.28e-04       2.82e+03    \n",
      "      279            317        8.5866e+03      6.91e-01       2.60e-04       3.50e+03    \n",
      "      280            318        8.5854e+03      1.22e+00       6.94e-04       2.77e+03    \n",
      "      281            320        8.5847e+03      7.10e-01       2.06e-04       3.44e+03    \n",
      "      282            321        8.5840e+03      7.07e-01       3.47e-04       2.85e+03    \n",
      "      283            322        8.5826e+03      1.34e+00       5.95e-04       4.34e+03    \n",
      "      284            324        8.5820e+03      6.20e-01       3.28e-04       2.83e+03    \n",
      "      285            325        8.5813e+03      6.94e-01       2.61e-04       3.50e+03    \n",
      "      286            326        8.5801e+03      1.23e+00       6.95e-04       2.79e+03    \n",
      "      287            328        8.5794e+03      7.10e-01       2.08e-04       3.45e+03    \n",
      "      288            329        8.5787e+03      7.09e-01       3.47e-04       2.87e+03    \n",
      "      289            330        8.5773e+03      1.34e+00       5.96e-04       4.34e+03    \n",
      "      290            332        8.5767e+03      6.24e-01       3.29e-04       2.85e+03    \n",
      "      291            333        8.5760e+03      6.97e-01       2.62e-04       3.51e+03    \n",
      "      292            334        8.5748e+03      1.25e+00       6.95e-04       2.80e+03    \n",
      "      293            336        8.5741e+03      7.11e-01       2.10e-04       3.46e+03    \n",
      "      294            337        8.5733e+03      7.11e-01       3.48e-04       2.88e+03    \n",
      "      295            338        8.5720e+03      1.35e+00       5.96e-04       4.34e+03    \n",
      "      296            340        8.5714e+03      6.27e-01       3.29e-04       2.86e+03    \n",
      "      297            341        8.5707e+03      7.00e-01       2.63e-04       3.51e+03    \n",
      "      298            342        8.5694e+03      1.26e+00       6.95e-04       2.82e+03    \n",
      "      299            344        8.5687e+03      7.11e-01       2.12e-04       3.47e+03    \n",
      "      300            345        8.5680e+03      7.13e-01       3.48e-04       2.90e+03    \n",
      "      301            346        8.5666e+03      1.35e+00       5.97e-04       4.34e+03    \n",
      "      302            348        8.5660e+03      6.31e-01       3.30e-04       2.88e+03    \n",
      "      303            349        8.5653e+03      7.03e-01       2.64e-04       3.51e+03    \n",
      "      304            350        8.5640e+03      1.27e+00       6.96e-04       2.84e+03    \n",
      "      305            352        8.5633e+03      7.12e-01       2.14e-04       3.49e+03    \n",
      "      306            353        8.5626e+03      7.15e-01       3.48e-04       2.91e+03    \n",
      "      307            354        8.5612e+03      1.36e+00       5.98e-04       4.33e+03    \n",
      "      308            356        8.5606e+03      6.34e-01       3.31e-04       2.89e+03    \n",
      "      309            357        8.5599e+03      7.06e-01       2.65e-04       3.51e+03    \n",
      "      310            358        8.5586e+03      1.28e+00       6.96e-04       2.85e+03    \n",
      "      311            360        8.5579e+03      7.12e-01       2.16e-04       3.50e+03    \n",
      "      312            361        8.5572e+03      7.18e-01       3.48e-04       2.93e+03    \n",
      "      313            362        8.5558e+03      1.37e+00       5.99e-04       4.33e+03    \n",
      "      314            364        8.5552e+03      6.38e-01       3.31e-04       2.91e+03    \n",
      "      315            365        8.5545e+03      7.09e-01       2.66e-04       3.51e+03    \n",
      "      316            366        8.5532e+03      1.29e+00       6.97e-04       2.87e+03    \n",
      "      317            368        8.5525e+03      7.13e-01       2.19e-04       3.51e+03    \n",
      "      318            369        8.5518e+03      7.20e-01       3.48e-04       2.94e+03    \n",
      "      319            370        8.5504e+03      1.37e+00       6.01e-04       4.32e+03    \n",
      "      320            372        8.5497e+03      6.42e-01       3.32e-04       2.92e+03    \n",
      "      321            373        8.5490e+03      7.13e-01       2.67e-04       3.52e+03    \n",
      "      322            374        8.5477e+03      1.30e+00       6.97e-04       2.89e+03    \n",
      "      323            376        8.5470e+03      7.15e-01       2.21e-04       3.52e+03    \n",
      "      324            377        8.5463e+03      7.22e-01       3.49e-04       2.96e+03    \n",
      "      325            378        8.5449e+03      1.38e+00       6.02e-04       4.32e+03    \n",
      "      326            380        8.5443e+03      6.46e-01       3.33e-04       2.94e+03    \n",
      "      327            381        8.5435e+03      7.16e-01       2.69e-04       3.52e+03    \n",
      "      328            382        8.5422e+03      1.32e+00       6.98e-04       2.90e+03    \n",
      "      329            384        8.5415e+03      7.16e-01       2.23e-04       3.54e+03    \n",
      "      330            385        8.5408e+03      7.25e-01       3.49e-04       2.97e+03    \n",
      "      331            386        8.5394e+03      1.39e+00       6.03e-04       4.31e+03    \n",
      "      332            388        8.5387e+03      6.49e-01       3.34e-04       2.95e+03    \n",
      "      333            389        8.5380e+03      7.19e-01       2.70e-04       3.52e+03    \n",
      "      334            390        8.5367e+03      1.33e+00       6.98e-04       2.92e+03    \n",
      "      335            392        8.5360e+03      7.17e-01       2.26e-04       3.55e+03    \n",
      "      336            393        8.5353e+03      7.28e-01       3.49e-04       2.99e+03    \n",
      "      337            394        8.5339e+03      1.40e+00       6.05e-04       4.30e+03    \n",
      "      338            396        8.5332e+03      6.54e-01       3.35e-04       2.97e+03    \n",
      "      339            397        8.5325e+03      7.22e-01       2.71e-04       3.53e+03    \n",
      "      340            398        8.5311e+03      1.34e+00       6.99e-04       2.94e+03    \n",
      "      341            400        8.5304e+03      7.19e-01       2.28e-04       3.56e+03    \n",
      "      342            401        8.5297e+03      7.30e-01       3.49e-04       3.01e+03    \n",
      "      343            402        8.5283e+03      1.40e+00       6.06e-04       4.30e+03    \n",
      "      344            404        8.5276e+03      6.58e-01       3.36e-04       2.99e+03    \n",
      "      345            405        8.5269e+03      7.25e-01       2.72e-04       3.53e+03    \n",
      "      346            406        8.5256e+03      1.35e+00       6.99e-04       2.95e+03    \n",
      "      347            408        8.5248e+03      7.21e-01       2.31e-04       3.57e+03    \n",
      "      348            409        8.5241e+03      7.33e-01       3.50e-04       3.02e+03    \n",
      "      349            410        8.5227e+03      1.41e+00       6.08e-04       4.29e+03    \n",
      "      350            412        8.5220e+03      6.62e-01       3.37e-04       3.00e+03    \n",
      "      351            413        8.5213e+03      7.29e-01       2.74e-04       3.53e+03    \n",
      "      352            414        8.5199e+03      1.36e+00       7.00e-04       2.97e+03    \n",
      "      353            415        8.5199e+03      3.17e-02       9.35e-04       1.01e+04    \n",
      "      354            416        8.5177e+03      2.23e+00       2.23e-04       6.16e+03    \n",
      "      355            417        8.5168e+03      8.73e-01       2.78e-04       3.05e+03    \n",
      "      356            418        8.5160e+03      7.62e-01       3.18e-04       3.25e+03    \n",
      "      357            419        8.5145e+03      1.51e+00       6.91e-04       3.04e+03    \n",
      "      358            420        8.5121e+03      2.40e+00       1.21e-03       6.42e+03    \n",
      "      359            422        8.5112e+03      9.41e-01       2.72e-04       3.08e+03    \n",
      "      360            423        8.5104e+03      7.70e-01       3.29e-04       3.13e+03    \n",
      "      361            424        8.5089e+03      1.54e+00       6.84e-04       3.08e+03    \n",
      "      362            425        8.5059e+03      2.92e+00       1.29e-03       4.72e+03    \n",
      "      363            427        8.5054e+03      5.90e-01       6.49e-04       2.88e+03    \n",
      "      364            428        8.5042e+03      1.19e+00       3.20e-04       5.49e+03    \n",
      "      365            429        8.5037e+03      4.20e-01       5.98e-04       2.87e+03    \n",
      "      366            430        8.5030e+03      7.01e-01       7.75e-05       2.96e+03    \n",
      "      367            431        8.5022e+03      8.05e-01       1.93e-04       3.32e+03    \n",
      "      368            432        8.5015e+03      7.70e-01       3.47e-04       3.10e+03    \n",
      "      369            433        8.4999e+03      1.53e+00       6.54e-04       3.55e+03    \n",
      "      370            434        8.4975e+03      2.44e+00       1.40e-03       2.92e+03    \n",
      "      371            436        8.4964e+03      1.07e+00       3.33e-04       5.71e+03    \n",
      "      372            437        8.4960e+03      4.41e-01       5.86e-04       2.89e+03    \n",
      "      373            438        8.4953e+03      6.97e-01       7.78e-05       2.99e+03    \n",
      "      374            439        8.4945e+03      8.05e-01       1.94e-04       3.34e+03    \n",
      "      375            440        8.4937e+03      7.73e-01       3.48e-04       3.13e+03    \n",
      "      376            441        8.4922e+03      1.54e+00       6.55e-04       3.56e+03    \n",
      "      377            442        8.4897e+03      2.47e+00       1.41e-03       2.94e+03    \n",
      "      378            444        8.4886e+03      1.06e+00       3.36e-04       5.75e+03    \n",
      "      379            445        8.4882e+03      4.55e-01       5.86e-04       2.91e+03    \n",
      "      380            446        8.4875e+03      6.95e-01       7.82e-05       3.01e+03    \n",
      "      381            447        8.4867e+03      8.07e-01       1.95e-04       3.36e+03    \n",
      "      382            448        8.4859e+03      7.76e-01       3.48e-04       3.15e+03    \n",
      "      383            449        8.4844e+03      1.55e+00       6.57e-04       3.57e+03    \n",
      "      384            450        8.4818e+03      2.53e+00       1.41e-03       2.97e+03    \n",
      "      385            452        8.4808e+03      1.01e+00       3.43e-04       5.84e+03    \n",
      "      386            453        8.4803e+03      4.75e-01       5.83e-04       2.93e+03    \n",
      "      387            454        8.4796e+03      6.92e-01       7.85e-05       3.03e+03    \n",
      "      388            455        8.4788e+03      8.08e-01       1.97e-04       3.38e+03    \n",
      "      389            456        8.4781e+03      7.80e-01       3.49e-04       3.17e+03    \n",
      "      390            457        8.4765e+03      1.55e+00       6.58e-04       3.58e+03    \n",
      "      391            458        8.4739e+03      2.57e+00       1.41e-03       3.00e+03    \n",
      "      392            460        8.4729e+03      9.96e-01       3.47e-04       5.88e+03    \n",
      "      393            461        8.4724e+03      4.90e-01       5.82e-04       2.95e+03    \n",
      "      394            462        8.4718e+03      6.90e-01       7.89e-05       3.05e+03    \n",
      "      395            463        8.4709e+03      8.10e-01       1.98e-04       3.41e+03    \n",
      "      396            464        8.4702e+03      7.83e-01       3.49e-04       3.19e+03    \n",
      "      397            465        8.4686e+03      1.56e+00       6.60e-04       3.59e+03    \n",
      "      398            466        8.4660e+03      2.63e+00       1.41e-03       3.03e+03    \n",
      "      399            468        8.4650e+03      9.81e-01       3.54e-04       5.93e+03    \n",
      "      400            469        8.4645e+03      5.06e-01       5.82e-04       2.97e+03    \n",
      "      401            470        8.4638e+03      6.87e-01       7.92e-05       3.07e+03    \n",
      "      402            471        8.4630e+03      8.11e-01       2.00e-04       3.43e+03    \n",
      "      403            472        8.4622e+03      7.86e-01       3.50e-04       3.21e+03    \n",
      "      404            473        8.4606e+03      1.57e+00       6.61e-04       3.60e+03    \n",
      "      405            474        8.4580e+03      2.68e+00       1.41e-03       3.05e+03    \n",
      "      406            476        8.4570e+03      9.70e-01       3.62e-04       5.97e+03    \n",
      "      407            477        8.4565e+03      5.21e-01       5.82e-04       2.99e+03    \n",
      "      408            478        8.4558e+03      6.85e-01       7.96e-05       3.09e+03    \n",
      "      409            479        8.4550e+03      8.13e-01       2.01e-04       3.45e+03    \n",
      "      410            480        8.4542e+03      7.90e-01       3.50e-04       3.24e+03    \n",
      "      411            481        8.4526e+03      1.58e+00       6.63e-04       3.60e+03    \n",
      "      412            482        8.4499e+03      2.74e+00       1.41e-03       3.08e+03    \n",
      "      413            484        8.4489e+03      9.64e-01       3.71e-04       6.00e+03    \n",
      "      414            485        8.4484e+03      5.35e-01       5.82e-04       3.02e+03    \n",
      "      415            486        8.4477e+03      6.83e-01       7.99e-05       3.12e+03    \n",
      "      416            487        8.4469e+03      8.15e-01       2.02e-04       3.47e+03    \n",
      "      417            488        8.4461e+03      7.93e-01       3.51e-04       3.26e+03    \n",
      "      418            489        8.4445e+03      1.58e+00       6.65e-04       3.61e+03    \n",
      "      419            490        8.4417e+03      2.80e+00       1.41e-03       3.11e+03    \n",
      "      420            492        8.4407e+03      9.63e-01       3.82e-04       6.02e+03    \n",
      "      421            493        8.4402e+03      5.48e-01       5.83e-04       3.04e+03    \n",
      "      422            494        8.4395e+03      6.82e-01       8.02e-05       3.14e+03    \n",
      "      423            495        8.4387e+03      8.18e-01       2.04e-04       3.49e+03    \n",
      "      424            496        8.4379e+03      7.97e-01       3.51e-04       3.28e+03    \n",
      "      425            497        8.4363e+03      1.59e+00       6.67e-04       3.61e+03    \n",
      "      426            498        8.4334e+03      2.85e+00       1.42e-03       3.15e+03    \n",
      "      427            500        8.4325e+03      9.69e-01       3.96e-04       6.03e+03    \n",
      "The maximum number of function evaluations is exceeded.\n",
      "Function evaluations 500, initial cost 1.0134e+07, final cost 8.4325e+03, first-order optimality 6.03e+03.\n"
     ]
    }
   ],
   "source": [
    "# Define the objective function\n",
    "def cost_function(x, strikes, mkt_prices):\n",
    "    sigm, lamb, p, eta1, eta2 = x\n",
    "    KOU = Kou_pricer(S0=S0, K=strikes, ttm=T, r=r, sigma=sigm, lambd=lamb, p=p, eta1=eta1, eta2=eta2, exercise=exercise)\n",
    "    sq_err = np.sum(p_weights*(KOU.closed_formula_put(strikes) - mkt_prices)**2)\n",
    "    return sq_err\n",
    "\n",
    "start2=time.time()\n",
    "kou2 = scpo.least_squares(cost_function, x0, args=(put_strikes, put_prices),  method='trf', bounds=bounds, verbose=1)\n",
    "end2=time.time()"
   ],
   "metadata": {
    "collapsed": false
   }
  },
  {
   "cell_type": "code",
   "execution_count": 30,
   "outputs": [],
   "source": [
    "kou_params2 = [round(p,4) for p in kou2.x[:5]]"
   ],
   "metadata": {
    "collapsed": false
   }
  },
  {
   "cell_type": "code",
   "execution_count": 31,
   "outputs": [],
   "source": [
    "# print('WEIGHTED OPT: CURVE_FIT (trf)')\n",
    "# print(f'> Calibrated Volatlity [σ] = {kou_params1[0]} \\t {kou_params1[0] * 100}%')\n",
    "# print('> Calibrated Jump intensity [λ] = ', kou_params1[1])\n",
    "# print(f'> Calibrated Upward Jump probability [p] = {kou_params1[2]}, [q] = {round(1 - kou_params1[2], 2)}')\n",
    "# print('> Calibrated Rate of Exp. 1  [η_1] = ', kou_params1[3])\n",
    "# print('> Calibrated Rate of Exp. 2  [η_2] = ', kou_params1[4])\n",
    "# print(f'TIME ELAPSED: {end1-start1} sec')"
   ],
   "metadata": {
    "collapsed": false
   }
  },
  {
   "cell_type": "code",
   "execution_count": 32,
   "outputs": [
    {
     "name": "stdout",
     "output_type": "stream",
     "text": [
      "METHOD 2: Least-squares\n",
      "> Calibrated Volatlity [σ] = 0.2193 \t 21.93%\n",
      "> Calibrated Jump intensity [λ] =  0.72\n",
      "> Calibrated Upward Jump probability [p] = 0.43, [q] = 0.57\n",
      "> Calibrated Rate of Exp. 1  [η_1] =  11.27\n",
      "> Calibrated Rate of Exp. 2  [η_2] =  4.57\n",
      "TIME ELAPSED:  5964.37 sec\n"
     ]
    }
   ],
   "source": [
    "print('METHOD 2: Least-squares')\n",
    "print(f'> Calibrated Volatlity [σ] = {round(kou_params2[0],4)} \\t {round(kou_params2[0]*100,2)}%')\n",
    "print('> Calibrated Jump intensity [λ] = ', round(kou_params2[1],2))\n",
    "print(f'> Calibrated Upward Jump probability [p] = {round(kou_params2[2],2)}, [q] = {round(1-kou_params2[2],2)}')\n",
    "print('> Calibrated Rate of Exp. 1  [η_1] = ', round(kou_params2[3],2))\n",
    "print('> Calibrated Rate of Exp. 2  [η_2] = ', round(kou_params2[4],2))\n",
    "print(f'TIME ELAPSED:  {round(end2-start2,2)} sec')"
   ],
   "metadata": {
    "collapsed": false
   }
  },
  {
   "cell_type": "code",
   "execution_count": 33,
   "outputs": [
    {
     "name": "stdout",
     "output_type": "stream",
     "text": [
      "[0.2193, 0.7222, 0.4273, 11.2726, 4.5653]\n"
     ]
    }
   ],
   "source": [
    "#print(kou_params1)\n",
    "print(kou_params2)\n",
    "puts_kou_params_spx= kou_params2\n",
    "%store puts_kou_params_spx"
   ],
   "metadata": {
    "collapsed": false
   }
  },
  {
   "cell_type": "markdown",
   "source": [
    "### Variance Gamma\n"
   ],
   "metadata": {
    "collapsed": false
   }
  },
  {
   "cell_type": "code",
   "execution_count": 34,
   "outputs": [],
   "source": [
    "x0 = [0.2, -0.3, 0.1]   # initial guess: [σ, θ, v]\n",
    "bounds = ( [1e-3, -5, 0], [3, 5, 10] )"
   ],
   "metadata": {
    "collapsed": false
   }
  },
  {
   "cell_type": "markdown",
   "source": [
    "##### Method 1. CURVE FIT (Bounds)"
   ],
   "metadata": {
    "collapsed": false
   }
  },
  {
   "cell_type": "code",
   "execution_count": 35,
   "outputs": [],
   "source": [
    "def f_VG(strikes, sigmax, thetax, nux):\n",
    "    VGamma = VG_pricer(S0=S0, K=None, ttm=T, r=r, q=0, sigma=sigmax, theta=thetax, nu=nux, exercise='put')\n",
    "    vg_prices = []\n",
    "    for k in strikes:\n",
    "        vg_prices.append(VGamma.closed_formula_put(k))\n",
    "    return vg_prices\n",
    "\n",
    "start1 = time.time()\n",
    "vg1 = scpo.curve_fit(f_VG, put_strikes, put_prices, p0=x0, bounds=bounds, sigma=p_weights)\n",
    "end1 = time.time()\n",
    "\n",
    "vg_params1 = [round(p,4) for p in vg1[0][:3]]"
   ],
   "metadata": {
    "collapsed": false
   }
  },
  {
   "cell_type": "markdown",
   "source": [
    "##### Method 2. LEAST-SQUARES (Trust Region Reflective, Bounds)"
   ],
   "metadata": {
    "collapsed": false
   }
  },
  {
   "cell_type": "code",
   "execution_count": 36,
   "outputs": [
    {
     "name": "stdout",
     "output_type": "stream",
     "text": [
      "   Iteration     Total nfev        Cost      Cost reduction    Step norm     Optimality   \n",
      "       0              1         2.0755e+03                                    1.58e+05    \n",
      "       1              3         6.4388e+02      1.43e+03       9.11e-02       3.09e+04    \n",
      "       2              4         3.1663e+02      3.27e+02       7.91e-02       2.05e+04    \n",
      "       3              7         2.9320e+02      2.34e+01       4.83e-03       6.24e+03    \n",
      "       4              9         2.9115e+02      2.05e+00       1.21e-03       2.87e+03    \n",
      "       5             10         2.9015e+02      1.00e+00       1.30e-03       2.97e+03    \n",
      "       6             11         2.8918e+02      9.65e-01       1.60e-03       2.82e+03    \n",
      "       7             12         2.8726e+02      1.92e+00       3.13e-03       3.01e+03    \n",
      "       8             13         2.8388e+02      3.38e+00       6.41e-03       3.00e+03    \n",
      "       9             15         2.8283e+02      1.06e+00       2.59e-03       3.73e+03    \n",
      "      10             16         2.8057e+02      2.26e+00       3.11e-03       3.12e+03    \n",
      "      11             17         2.7715e+02      3.42e+00       6.42e-03       2.69e+03    \n",
      "      12             19         2.7614e+02      1.00e+00       2.64e-03       3.66e+03    \n",
      "      13             20         2.7391e+02      2.23e+00       3.10e-03       3.09e+03    \n",
      "      14             21         2.7051e+02      3.40e+00       6.43e-03       2.52e+03    \n",
      "      15             23         2.6955e+02      9.54e-01       2.67e-03       3.59e+03    \n",
      "      16             24         2.6735e+02      2.20e+00       3.09e-03       3.05e+03    \n",
      "      17             25         2.6398e+02      3.38e+00       6.43e-03       2.35e+03    \n",
      "      18             27         2.6307e+02      9.13e-01       2.70e-03       3.50e+03    \n",
      "      19             28         2.6091e+02      2.16e+00       3.08e-03       3.00e+03    \n",
      "      20             29         2.5757e+02      3.34e+00       6.43e-03       2.24e+03    \n",
      "      21             31         2.5669e+02      8.76e-01       2.73e-03       3.41e+03    \n",
      "      22             32         2.5458e+02      2.12e+00       3.07e-03       2.95e+03    \n",
      "      23             33         2.5129e+02      3.29e+00       6.43e-03       2.24e+03    \n",
      "      24             35         2.5044e+02      8.42e-01       2.76e-03       3.32e+03    \n",
      "      25             36         2.4838e+02      2.07e+00       3.06e-03       2.88e+03    \n",
      "      26             37         2.4514e+02      3.24e+00       6.43e-03       2.23e+03    \n",
      "      27             39         2.4433e+02      8.11e-01       2.79e-03       3.22e+03    \n",
      "      28             40         2.4231e+02      2.02e+00       3.04e-03       2.81e+03    \n",
      "      29             41         2.3914e+02      3.17e+00       6.42e-03       2.21e+03    \n",
      "      30             43         2.3836e+02      7.82e-01       2.81e-03       3.11e+03    \n",
      "      31             44         2.3640e+02      1.96e+00       3.03e-03       2.74e+03    \n",
      "      32             45         2.3329e+02      3.10e+00       6.42e-03       2.18e+03    \n",
      "      33             47         2.3254e+02      7.54e-01       2.84e-03       3.00e+03    \n",
      "      34             48         2.3063e+02      1.91e+00       3.01e-03       2.66e+03    \n",
      "      35             49         2.2760e+02      3.03e+00       6.41e-03       2.15e+03    \n",
      "      36             51         2.2688e+02      7.26e-01       2.87e-03       2.89e+03    \n",
      "      37             52         2.2503e+02      1.85e+00       2.99e-03       2.57e+03    \n",
      "      38             53         2.2208e+02      2.95e+00       6.40e-03       2.11e+03    \n",
      "      39             55         2.2139e+02      6.98e-01       2.89e-03       2.78e+03    \n",
      "      40             56         2.1960e+02      1.79e+00       2.97e-03       2.49e+03    \n",
      "      41             57         2.1674e+02      2.86e+00       6.38e-03       2.07e+03    \n",
      "      42             59         2.1607e+02      6.70e-01       2.92e-03       2.66e+03    \n",
      "      43             60         2.1434e+02      1.73e+00       2.95e-03       2.40e+03    \n",
      "      44             61         2.1157e+02      2.77e+00       6.37e-03       2.02e+03    \n",
      "      45             63         2.1093e+02      6.40e-01       2.94e-03       2.55e+03    \n",
      "      46             64         2.0927e+02      1.66e+00       2.92e-03       2.30e+03    \n",
      "      47             65         2.0659e+02      2.68e+00       6.35e-03       1.96e+03    \n",
      "      48             67         2.0598e+02      6.08e-01       2.96e-03       2.43e+03    \n",
      "      49             68         2.0438e+02      1.60e+00       2.90e-03       2.21e+03    \n",
      "      50             69         2.0180e+02      2.58e+00       6.33e-03       1.90e+03    \n",
      "      51             71         2.0123e+02      5.74e-01       2.97e-03       2.31e+03    \n",
      "      52             72         1.9969e+02      1.54e+00       2.86e-03       2.11e+03    \n",
      "      53             73         1.9721e+02      2.48e+00       6.30e-03       1.84e+03    \n",
      "      54             75         1.9667e+02      5.38e-01       2.99e-03       2.19e+03    \n",
      "      55             76         1.9519e+02      1.48e+00       2.83e-03       2.01e+03    \n",
      "      56             77         1.9282e+02      2.38e+00       6.28e-03       1.77e+03    \n",
      "      57             79         1.9232e+02      4.97e-01       3.00e-03       2.07e+03    \n",
      "      58             80         1.9090e+02      1.41e+00       2.78e-03       1.92e+03    \n",
      "      59             81         1.8863e+02      2.27e+00       6.24e-03       1.70e+03    \n",
      "      60             83         1.8818e+02      4.52e-01       3.01e-03       1.95e+03    \n",
      "      61             84         1.8682e+02      1.36e+00       2.74e-03       1.82e+03    \n",
      "      62             85         1.8464e+02      2.18e+00       6.22e-03       1.64e+03    \n",
      "      63             87         1.8425e+02      3.97e-01       3.01e-03       1.86e+03    \n",
      "      64             88         1.8291e+02      1.33e+00       2.75e-03       1.75e+03    \n",
      "      65             89         1.8077e+02      2.15e+00       6.29e-03       1.60e+03    \n",
      "      66             91         1.8037e+02      3.97e-01       3.05e-03       1.78e+03    \n",
      "      67             92         1.7904e+02      1.33e+00       2.82e-03       1.69e+03    \n",
      "      68             93         1.7687e+02      2.17e+00       6.45e-03       1.58e+03    \n",
      "      69             95         1.7639e+02      4.78e-01       3.14e-03       1.72e+03    \n",
      "      70             96         1.7507e+02      1.33e+00       2.95e-03       1.65e+03    \n",
      "      71             97         1.7284e+02      2.23e+00       6.68e-03       1.57e+03    \n",
      "      72             99         1.7224e+02      5.99e-01       3.25e-03       1.66e+03    \n",
      "      73             100        1.7092e+02      1.32e+00       3.11e-03       1.61e+03    \n",
      "      74             101        1.6862e+02      2.30e+00       6.92e-03       1.56e+03    \n",
      "      75             103        1.6789e+02      7.35e-01       3.37e-03       1.61e+03    \n",
      "      76             104        1.6657e+02      1.32e+00       3.27e-03       1.58e+03    \n",
      "      77             105        1.6420e+02      2.36e+00       7.15e-03       1.54e+03    \n",
      "      78             107        1.6334e+02      8.62e-01       3.48e-03       1.66e+03    \n",
      "      79             108        1.6203e+02      1.31e+00       3.43e-03       1.57e+03    \n",
      "      80             109        1.5962e+02      2.41e+00       7.34e-03       1.51e+03    \n",
      "      81             111        1.5865e+02      9.68e-01       3.59e-03       1.77e+03    \n",
      "      82             112        1.5619e+02      2.46e+00       7.14e-03       1.62e+03    \n",
      "      83             113        1.5354e+02      2.65e+00       1.48e-02       2.31e+03    \n",
      "      84             114        1.4860e+02      4.94e+00       1.07e-02       1.78e+03    \n",
      "      85             116        1.4856e+02      3.70e-02       2.98e-03       2.14e+03    \n",
      "      86             117        1.4815e+02      4.06e-01       7.89e-04       2.11e+03    \n",
      "      87             118        1.4740e+02      7.57e-01       1.63e-03       2.04e+03    \n",
      "      88             119        1.4606e+02      1.34e+00       3.48e-03       1.92e+03    \n",
      "      89             120        1.4370e+02      2.36e+00       7.63e-03       1.78e+03    \n",
      "      90             121        1.4046e+02      3.23e+00       1.56e-02       2.21e+03    \n",
      "      91             122        1.3669e+02      3.77e+00       1.18e-02       2.43e+03    \n",
      "      92             125        1.3625e+02      4.46e-01       6.88e-04       1.70e+03    \n",
      "      93             126        1.3598e+02      2.63e-01       8.76e-04       1.79e+03    \n",
      "      94             127        1.3546e+02      5.26e-01       2.04e-03       1.78e+03    \n",
      "      95             128        1.3442e+02      1.03e+00       4.08e-03       1.76e+03    \n",
      "      96             129        1.3243e+02      2.00e+00       8.20e-03       1.72e+03    \n",
      "      97             130        1.2875e+02      3.68e+00       1.66e-02       1.65e+03    \n",
      "      98             131        1.2279e+02      5.96e+00       3.41e-02       1.35e+03    \n",
      "      99             135        1.2265e+02      1.40e-01       9.17e-04       1.42e+03    \n",
      "      100            136        1.2248e+02      1.66e-01       1.11e-03       1.40e+03    \n",
      "      101            137        1.2216e+02      3.25e-01       2.24e-03       1.37e+03    \n",
      "      102            138        1.2152e+02      6.34e-01       4.50e-03       1.33e+03    \n",
      "      103            139        1.2072e+02      8.07e-01       8.83e-03       1.47e+03    \n",
      "      104            140        1.1956e+02      1.15e+00       6.50e-03       1.22e+03    \n",
      "      105            142        1.1950e+02      5.96e-02       1.54e-03       1.41e+03    \n",
      "      106            143        1.1940e+02      9.96e-02       4.64e-04       1.39e+03    \n",
      "      107            144        1.1922e+02      1.86e-01       9.59e-04       1.37e+03    \n",
      "      108            145        1.1889e+02      3.33e-01       2.03e-03       1.32e+03    \n",
      "      109            146        1.1829e+02      5.94e-01       4.40e-03       1.25e+03    \n",
      "      110            148        1.1806e+02      2.34e-01       2.13e-03       1.32e+03    \n",
      "      111            149        1.1774e+02      3.16e-01       2.10e-03       1.28e+03    \n",
      "      112            150        1.1716e+02      5.83e-01       4.45e-03       1.23e+03    \n",
      "      113            152        1.1695e+02      2.11e-01       2.09e-03       1.31e+03    \n",
      "      114            153        1.1663e+02      3.19e-01       2.05e-03       1.27e+03    \n",
      "      115            154        1.1605e+02      5.75e-01       4.41e-03       1.21e+03    \n",
      "      116            156        1.1586e+02      1.94e-01       2.06e-03       1.30e+03    \n",
      "      117            157        1.1554e+02      3.22e-01       2.02e-03       1.26e+03    \n",
      "      118            158        1.1497e+02      5.71e-01       4.38e-03       1.20e+03    \n",
      "      119            160        1.1478e+02      1.83e-01       2.04e-03       1.30e+03    \n",
      "      120            161        1.1446e+02      3.24e-01       2.00e-03       1.25e+03    \n",
      "      121            162        1.1389e+02      5.67e-01       4.36e-03       1.19e+03    \n",
      "      122            164        1.1372e+02      1.76e-01       2.02e-03       1.29e+03    \n",
      "      123            165        1.1339e+02      3.25e-01       1.98e-03       1.24e+03    \n",
      "      124            166        1.1283e+02      5.65e-01       4.35e-03       1.18e+03    \n",
      "      125            168        1.1266e+02      1.71e-01       2.01e-03       1.29e+03    \n",
      "      126            169        1.1233e+02      3.25e-01       1.97e-03       1.24e+03    \n",
      "      127            170        1.1177e+02      5.62e-01       4.34e-03       1.17e+03    \n",
      "      128            172        1.1160e+02      1.68e-01       2.01e-03       1.29e+03    \n",
      "      129            173        1.1128e+02      3.25e-01       1.97e-03       1.24e+03    \n",
      "      130            174        1.1072e+02      5.60e-01       4.34e-03       1.17e+03    \n",
      "      131            176        1.1055e+02      1.66e-01       2.01e-03       1.28e+03    \n",
      "      132            177        1.1023e+02      3.24e-01       1.97e-03       1.23e+03    \n",
      "      133            178        1.0967e+02      5.58e-01       4.34e-03       1.16e+03    \n",
      "      134            180        1.0950e+02      1.65e-01       2.01e-03       1.28e+03    \n",
      "      135            181        1.0918e+02      3.23e-01       1.96e-03       1.23e+03    \n",
      "      136            182        1.0863e+02      5.55e-01       4.34e-03       1.16e+03    \n",
      "      137            184        1.0846e+02      1.63e-01       2.01e-03       1.28e+03    \n",
      "      138            185        1.0814e+02      3.22e-01       1.96e-03       1.22e+03    \n",
      "      139            186        1.0759e+02      5.53e-01       4.34e-03       1.16e+03    \n",
      "      140            188        1.0742e+02      1.62e-01       2.01e-03       1.27e+03    \n",
      "      141            189        1.0710e+02      3.20e-01       1.96e-03       1.22e+03    \n",
      "      142            190        1.0655e+02      5.50e-01       4.34e-03       1.15e+03    \n",
      "      143            192        1.0639e+02      1.62e-01       2.01e-03       1.27e+03    \n",
      "      144            193        1.0607e+02      3.18e-01       1.96e-03       1.22e+03    \n",
      "      145            194        1.0553e+02      5.48e-01       4.34e-03       1.15e+03    \n",
      "      146            196        1.0537e+02      1.61e-01       2.01e-03       1.26e+03    \n",
      "      147            197        1.0505e+02      3.17e-01       1.96e-03       1.21e+03    \n",
      "      148            198        1.0450e+02      5.45e-01       4.34e-03       1.14e+03    \n",
      "      149            200        1.0434e+02      1.60e-01       2.01e-03       1.26e+03    \n",
      "      150            201        1.0403e+02      3.15e-01       1.96e-03       1.21e+03    \n",
      "      151            202        1.0349e+02      5.42e-01       4.34e-03       1.14e+03    \n",
      "      152            204        1.0333e+02      1.59e-01       2.01e-03       1.25e+03    \n",
      "      153            205        1.0301e+02      3.13e-01       1.96e-03       1.20e+03    \n",
      "      154            206        1.0248e+02      5.39e-01       4.34e-03       1.13e+03    \n",
      "      155            208        1.0232e+02      1.57e-01       2.01e-03       1.25e+03    \n",
      "      156            209        1.0201e+02      3.12e-01       1.96e-03       1.19e+03    \n",
      "      157            210        1.0147e+02      5.36e-01       4.34e-03       1.12e+03    \n",
      "      158            212        1.0131e+02      1.56e-01       2.01e-03       1.24e+03    \n",
      "      159            213        1.0100e+02      3.10e-01       1.96e-03       1.19e+03    \n",
      "      160            214        1.0047e+02      5.33e-01       4.34e-03       1.12e+03    \n",
      "      161            216        1.0032e+02      1.54e-01       2.01e-03       1.24e+03    \n",
      "      162            217        1.0001e+02      3.08e-01       1.96e-03       1.18e+03    \n",
      "      163            218        9.9479e+01      5.30e-01       4.34e-03       1.11e+03    \n",
      "      164            220        9.9327e+01      1.52e-01       2.01e-03       1.23e+03    \n",
      "      165            221        9.9020e+01      3.07e-01       1.96e-03       1.18e+03    \n",
      "      166            222        9.8494e+01      5.26e-01       4.34e-03       1.10e+03    \n",
      "      167            224        9.8343e+01      1.50e-01       2.01e-03       1.22e+03    \n",
      "      168            225        9.8038e+01      3.05e-01       1.95e-03       1.17e+03    \n",
      "      169            226        9.7516e+01      5.23e-01       4.34e-03       1.10e+03    \n",
      "      170            228        9.7367e+01      1.48e-01       2.01e-03       1.22e+03    \n",
      "      171            229        9.7064e+01      3.03e-01       1.95e-03       1.16e+03    \n",
      "      172            230        9.6545e+01      5.19e-01       4.33e-03       1.09e+03    \n",
      "      173            232        9.6399e+01      1.46e-01       2.01e-03       1.21e+03    \n",
      "      174            233        9.6097e+01      3.02e-01       1.94e-03       1.15e+03    \n",
      "      175            234        9.5581e+01      5.16e-01       4.33e-03       1.08e+03    \n",
      "      176            236        9.5438e+01      1.43e-01       2.00e-03       1.20e+03    \n",
      "      177            237        9.5137e+01      3.00e-01       1.94e-03       1.15e+03    \n",
      "      178            238        9.4625e+01      5.12e-01       4.33e-03       1.07e+03    \n",
      "      179            240        9.4485e+01      1.41e-01       2.00e-03       1.20e+03    \n",
      "      180            241        9.4186e+01      2.99e-01       1.94e-03       1.14e+03    \n",
      "      181            242        9.3677e+01      5.08e-01       4.32e-03       1.07e+03    \n",
      "      182            244        9.3539e+01      1.38e-01       2.00e-03       1.19e+03    \n",
      "      183            245        9.3242e+01      2.97e-01       1.93e-03       1.13e+03    \n",
      "      184            246        9.2737e+01      5.05e-01       4.32e-03       1.06e+03    \n",
      "      185            248        9.2602e+01      1.35e-01       2.00e-03       1.18e+03    \n",
      "      186            249        9.2307e+01      2.96e-01       1.93e-03       1.12e+03    \n",
      "      187            250        9.1806e+01      5.01e-01       4.32e-03       1.05e+03    \n",
      "      188            252        9.1674e+01      1.32e-01       1.99e-03       1.17e+03    \n",
      "      189            253        9.1379e+01      2.94e-01       1.92e-03       1.12e+03    \n",
      "      190            254        9.0882e+01      4.97e-01       4.31e-03       1.04e+03    \n",
      "      191            256        9.0753e+01      1.29e-01       1.99e-03       1.17e+03    \n",
      "      192            257        9.0460e+01      2.93e-01       1.91e-03       1.11e+03    \n",
      "      193            258        8.9967e+01      4.93e-01       4.31e-03       1.03e+03    \n",
      "      194            260        8.9842e+01      1.26e-01       1.99e-03       1.16e+03    \n",
      "      195            261        8.9550e+01      2.91e-01       1.91e-03       1.10e+03    \n",
      "      196            262        8.9061e+01      4.90e-01       4.30e-03       1.03e+03    \n",
      "      197            264        8.8938e+01      1.22e-01       1.98e-03       1.15e+03    \n",
      "      198            265        8.8648e+01      2.90e-01       1.90e-03       1.09e+03    \n",
      "      199            266        8.8163e+01      4.86e-01       4.30e-03       1.02e+03    \n",
      "      200            268        8.8044e+01      1.19e-01       1.98e-03       1.14e+03    \n",
      "      201            269        8.7755e+01      2.89e-01       1.89e-03       1.08e+03    \n",
      "      202            270        8.7273e+01      4.82e-01       4.29e-03       1.01e+03    \n",
      "      203            272        8.7158e+01      1.15e-01       1.98e-03       1.13e+03    \n",
      "      204            273        8.6871e+01      2.87e-01       1.89e-03       1.08e+03    \n",
      "      205            274        8.6393e+01      4.78e-01       4.28e-03       1.00e+03    \n",
      "      206            276        8.6282e+01      1.11e-01       1.97e-03       1.13e+03    \n",
      "      207            277        8.5995e+01      2.86e-01       1.88e-03       1.07e+03    \n",
      "      208            278        8.5522e+01      4.74e-01       4.28e-03       9.91e+02    \n",
      "      209            280        8.5414e+01      1.08e-01       1.97e-03       1.12e+03    \n",
      "      210            281        8.5129e+01      2.85e-01       1.87e-03       1.06e+03    \n",
      "      211            282        8.4659e+01      4.70e-01       4.27e-03       9.83e+02    \n",
      "      212            284        8.4555e+01      1.04e-01       1.96e-03       1.11e+03    \n",
      "      213            285        8.4272e+01      2.84e-01       1.86e-03       1.05e+03    \n",
      "      214            286        8.3806e+01      4.66e-01       4.26e-03       9.74e+02    \n",
      "      215            288        8.3706e+01      9.98e-02       1.96e-03       1.10e+03    \n",
      "      216            289        8.3423e+01      2.83e-01       1.86e-03       1.04e+03    \n",
      "      217            290        8.2961e+01      4.62e-01       4.25e-03       9.66e+02    \n",
      "      218            292        8.2865e+01      9.58e-02       1.95e-03       1.10e+03    \n",
      "      219            293        8.2584e+01      2.81e-01       1.85e-03       1.04e+03    \n",
      "      220            294        8.2126e+01      4.58e-01       4.25e-03       9.57e+02    \n",
      "      221            296        8.2034e+01      9.17e-02       1.95e-03       1.09e+03    \n",
      "      222            297        8.1754e+01      2.80e-01       1.84e-03       1.03e+03    \n",
      "      223            298        8.1300e+01      4.54e-01       4.24e-03       9.49e+02    \n",
      "      224            300        8.1212e+01      8.75e-02       1.94e-03       1.08e+03    \n",
      "The maximum number of function evaluations is exceeded.\n",
      "Function evaluations 300, initial cost 2.0755e+03, final cost 8.1212e+01, first-order optimality 1.08e+03.\n"
     ]
    }
   ],
   "source": [
    "def cost_function(x, strikes, mkt_prices):\n",
    "    sigma, theta, nu = x\n",
    "    VG = VG_pricer(S0, None, T, r, q, sigma, theta, nu, exercise)\n",
    "    prices = []\n",
    "    for k in strikes:\n",
    "        prices.append(VG.closed_formula_put(k))\n",
    "    sq_err = np.sum(p_weights*(prices - mkt_prices)**2)\n",
    "    return sq_err\n",
    "\n",
    "start2=time.time()\n",
    "vg2 = scpo.least_squares(cost_function, x0, args=(put_strikes, put_prices),  method='trf', bounds=bounds, verbose=1, loss='soft_l1')\n",
    "end2=time.time()\n",
    "\n",
    "vg_params2 = [round(p,4) for p in vg2.x[:3]]"
   ],
   "metadata": {
    "collapsed": false
   }
  },
  {
   "cell_type": "code",
   "execution_count": 38,
   "outputs": [
    {
     "name": "stdout",
     "output_type": "stream",
     "text": [
      "WEIGHTED OPT: CURVE_FIT (trf)\n",
      "> Calibrated Volatlity [σ] = 0.3612, \t 36.12%\n",
      "> Calibrated mean rate gamma process [θ] =  0.0721\n",
      "> Calibrated variance rate gamma process [v]=  3.5593\n",
      "TIME ELAPSED:  48.07 sec\n",
      "METHOD 1: LEAST-SQUARES (trf)\n",
      "> Calibrated Volatlity [σ] = 0.2962, \t 29.62%\n",
      "> Calibrated mean rate gamma process [θ] =  0.0778\n",
      "> Calibrated variance rate gamma process [v]=  0.6548\n",
      "TIME ELAPSED:  530.6 sec\n"
     ]
    }
   ],
   "source": [
    "print('WEIGHTED OPT: CURVE_FIT (trf)')\n",
    "print(f'> Calibrated Volatlity [σ] = {vg_params1[0]}, \\t {round(vg_params1[0]*100,2)}%')\n",
    "print('> Calibrated mean rate gamma process [θ] = ', vg_params1[1])\n",
    "print('> Calibrated variance rate gamma process [v]= ', vg_params1[2])\n",
    "print(f'TIME ELAPSED:  {round(end1-start1,2)} sec')\n",
    "\n",
    "print('METHOD 1: LEAST-SQUARES (trf)')\n",
    "print(f'> Calibrated Volatlity [σ] = {vg_params2[0]}, \\t {round(vg_params2[0]*100,2)}%')\n",
    "print('> Calibrated mean rate gamma process [θ] = ', vg_params2[1])\n",
    "print('> Calibrated variance rate gamma process [v]= ', vg_params2[2])\n",
    "print(f'TIME ELAPSED:  {round(end2-start2,2)} sec')"
   ],
   "metadata": {
    "collapsed": false
   }
  },
  {
   "cell_type": "code",
   "execution_count": 39,
   "outputs": [
    {
     "name": "stdout",
     "output_type": "stream",
     "text": [
      "[0.3612, 0.0721, 3.5593]\n",
      "[0.2962, 0.0778, 0.6548]\n"
     ]
    }
   ],
   "source": [
    "print(vg_params1)\n",
    "print(vg_params2)\n",
    "puts_vg_params_spx = vg_params2\n",
    "%store puts_vg_params_spx"
   ],
   "metadata": {
    "collapsed": false
   }
  },
  {
   "cell_type": "markdown",
   "source": [
    "### Reprice of options using calibrated parameters\n",
    "The following code snippet aims to find the best parameters for each model, minimizing the difference between the monte carlo prices and the market prices of **call** and **put** options."
   ],
   "metadata": {
    "collapsed": false
   }
  },
  {
   "cell_type": "code",
   "execution_count": 40,
   "outputs": [
    {
     "name": "stdout",
     "output_type": "stream",
     "text": [
      "MARKET PRICES. STARTING DATE = 20-01-2016. EXPIRY = 1YEAR. \n",
      "\n",
      "    STRIKE  MKT_BID  MKT_MID  MKT_ASK\n",
      "0   1475.0    57.20   58.495    59.79\n",
      "1   1500.0    61.61   62.955    64.30\n",
      "2   1650.0    94.79   96.245    97.70\n",
      "3   1675.0   101.59  103.090   104.59\n",
      "4   1700.0   108.51  110.055   111.60\n",
      "5   1725.0   116.50  118.100   119.70\n",
      "6   1775.0   133.01  134.655   136.30\n",
      "7   1800.0   142.29  143.950   145.61\n",
      "8   1825.0   152.01  153.710   155.41\n",
      "9   1950.0   210.00  211.850   213.70\n",
      "10  2000.0   237.90  239.850   241.80\n",
      "11  2025.0   252.99  254.995   257.00\n",
      "12  2050.0   268.89  270.945   273.00\n",
      "13  2125.0   321.20  323.350   325.50\n",
      "14  2175.0   360.29  362.495   364.70\n",
      "15  2275.0   446.30  448.695   451.09\n",
      "16  2300.0   469.20  471.700   474.20\n",
      "17  2425.0   588.81  591.410   594.01\n"
     ]
    }
   ],
   "source": [
    "days = 252\n",
    "paths = 5000\n",
    "\n",
    "put_calib_prices = pd.DataFrame({\n",
    "    'STRIKE': puts['STRIKE'],    # array of K for call options\n",
    "    'MKT_BID': puts['P_BID'],\n",
    "    'MKT_MID': puts['P_Midpoint'],\n",
    "    'MKT_ASK': puts['P_ASK'],\n",
    "\n",
    "})\n",
    "print(f'MARKET PRICES. STARTING DATE = 20-01-2016. EXPIRY = 1YEAR. \\n\\n{put_calib_prices}')"
   ],
   "metadata": {
    "collapsed": false
   }
  },
  {
   "cell_type": "markdown",
   "source": [
    "#### Merton Jump Diffusion model"
   ],
   "metadata": {
    "collapsed": false
   }
  },
  {
   "cell_type": "code",
   "execution_count": 41,
   "outputs": [
    {
     "name": "stdout",
     "output_type": "stream",
     "text": [
      "    STRIKE  MKT_BID  MKT_MID  MKT_ASK   MERTON MC   MERTON CF\n",
      "0   1475.0    57.20   58.495    59.79   55.157663   56.340191\n",
      "1   1500.0    61.61   62.955    64.30   59.502188   60.743449\n",
      "2   1650.0    94.79   96.245    97.70   92.466193   94.282978\n",
      "3   1675.0   101.59  103.090   104.59   99.361122  101.343082\n",
      "4   1700.0   108.51  110.055   111.60  106.701982  108.907087\n",
      "5   1725.0   116.50  118.100   119.70  114.613740  117.004264\n",
      "6   1775.0   133.01  134.655   136.30  132.134493  134.902165\n",
      "7   1800.0   142.29  143.950   145.61  141.731068  144.746444\n",
      "8   1825.0   152.01  153.710   155.41  151.909424  155.209946\n",
      "9   1950.0   210.00  211.850   213.70  212.128287  217.040192\n",
      "10  2000.0   237.90  239.850   241.80  240.462500  246.136527\n",
      "11  2025.0   252.99  254.995   257.00  255.482551  261.566102\n",
      "12  2050.0   268.89  270.945   273.00  271.057984  277.555124\n",
      "13  2125.0   321.20  323.350   325.50  321.136048  328.629030\n",
      "14  2175.0   360.29  362.495   364.70  356.843897  364.995192\n",
      "15  2275.0   446.30  448.695   451.09  432.719746  442.283760\n",
      "16  2300.0   469.20  471.700   474.20  452.522967  462.400011\n",
      "17  2425.0   588.81  591.410   594.01  555.385760  566.595260\n"
     ]
    }
   ],
   "source": [
    "#mert_params2 = [0.1267, 0.951, -0.1182, 0.2691]\n",
    "sigma, lambd, meanJ, stdJ = mert_params2\n",
    "MertonCAL = Merton_pricer(S0, None, T, r, q, sigma, lambd, meanJ, stdJ, exercise)\n",
    "SMerton_CAL = MertonCAL.MertonPath(days, paths)\n",
    "\n",
    "avg_payoffs = []\n",
    "for K in put_strikes:\n",
    "    payoffs = []        # stores here the payoff for each path, for a specific couple K1-K2\n",
    "    for St in SMerton_CAL[-1]:\n",
    "        payoffs.append(MertonCAL.payoff_put(K, St))\n",
    "    avg_payoffs.append(np.mean(payoffs))\n",
    "\n",
    "merton_mc_prices = np.zeros(len(put_calib_prices))\n",
    "merton_cf_prices = np.zeros(len(put_calib_prices))\n",
    "\n",
    "for index in range(len(put_calib_prices)):\n",
    "    merton_mc_prices[index] = np.exp(-r*T)* avg_payoffs[index]\n",
    "    merton_cf_prices[index] = MertonCAL.closed_formula_put(put_strikes[index])\n",
    "\n",
    "put_calib_prices['MERTON MC'] = merton_mc_prices\n",
    "put_calib_prices['MERTON CF'] = merton_cf_prices\n",
    "\n",
    "print(put_calib_prices)"
   ],
   "metadata": {
    "collapsed": false
   }
  },
  {
   "cell_type": "code",
   "execution_count": 42,
   "outputs": [
    {
     "name": "stdout",
     "output_type": "stream",
     "text": [
      "    STRIKE  MKT_BID  MKT_MID  MKT_ASK   MERTON MC   MERTON CF      KOU MC   \n",
      "0   1475.0    57.20   58.495    59.79   55.157663   56.340191   50.206798  \\\n",
      "1   1500.0    61.61   62.955    64.30   59.502188   60.743449   55.074610   \n",
      "2   1650.0    94.79   96.245    97.70   92.466193   94.282978   93.127986   \n",
      "3   1675.0   101.59  103.090   104.59   99.361122  101.343082  100.989287   \n",
      "4   1700.0   108.51  110.055   111.60  106.701982  108.907087  109.314679   \n",
      "5   1725.0   116.50  118.100   119.70  114.613740  117.004264  118.077984   \n",
      "6   1775.0   133.01  134.655   136.30  132.134493  134.902165  137.052888   \n",
      "7   1800.0   142.29  143.950   145.61  141.731068  144.746444  147.261527   \n",
      "8   1825.0   152.01  153.710   155.41  151.909424  155.209946  158.018577   \n",
      "9   1950.0   210.00  211.850   213.70  212.128287  217.040192  219.518640   \n",
      "10  2000.0   237.90  239.850   241.80  240.462500  246.136527  247.616331   \n",
      "11  2025.0   252.99  254.995   257.00  255.482551  261.566102  262.352320   \n",
      "12  2050.0   268.89  270.945   273.00  271.057984  277.555124  277.511236   \n",
      "13  2125.0   321.20  323.350   325.50  321.136048  328.629030  325.769030   \n",
      "14  2175.0   360.29  362.495   364.70  356.843897  364.995192  359.954051   \n",
      "15  2275.0   446.30  448.695   451.09  432.719746  442.283760  432.851115   \n",
      "16  2300.0   469.20  471.700   474.20  452.522967  462.400011  451.945289   \n",
      "17  2425.0   588.81  591.410   594.01  555.385760  566.595260  551.618114   \n",
      "\n",
      "        KOU CF  \n",
      "0    51.937565  \n",
      "1    56.828485  \n",
      "2    94.604948  \n",
      "3   102.440512  \n",
      "4   110.746883  \n",
      "5   119.532423  \n",
      "6   138.566548  \n",
      "7   148.823875  \n",
      "8   159.577855  \n",
      "9   220.757828  \n",
      "10  248.606945  \n",
      "11  263.226486  \n",
      "12  278.296568  \n",
      "13  326.099754  \n",
      "14  360.007861  \n",
      "15  432.243385  \n",
      "16  451.142767  \n",
      "17  549.996614  \n"
     ]
    }
   ],
   "source": [
    "#kou_params2 = [0.1278, 0.948, 0.3549, 5.7153, 4.232]\n",
    "sigma, lambd, p, eta1, eta2 = kou_params2\n",
    "KouCAL = Kou_pricer(S0, None, T, r, sigma, lambd, p, eta1, eta2, exercise)\n",
    "SKou_CAL = KouCAL.KouPath(days, paths)\n",
    "\n",
    "avg_payoffs = []\n",
    "for k in put_strikes:\n",
    "    payoffs = []        # stores here the payoff for each path, for a specific couple K1-K2\n",
    "    for St in SKou_CAL[-1]:\n",
    "        payoffs.append(KouCAL.payoff_put(k, St))\n",
    "    avg_payoffs.append(np.mean(payoffs))\n",
    "\n",
    "kou_mc_prices = np.zeros(len(put_calib_prices))\n",
    "kou_cf_prices = np.zeros(len(put_calib_prices))\n",
    "\n",
    "for index in range(len(put_calib_prices)):\n",
    "    kou_mc_prices[index] = np.exp(-r*T)* avg_payoffs[index]\n",
    "    kou_cf_prices[index] = KouCAL.closed_formula_put(put_strikes[index])\n",
    "\n",
    "put_calib_prices['KOU MC'] = kou_mc_prices\n",
    "put_calib_prices['KOU CF'] = kou_cf_prices\n",
    "\n",
    "print(put_calib_prices)"
   ],
   "metadata": {
    "collapsed": false
   }
  },
  {
   "cell_type": "code",
   "execution_count": 43,
   "outputs": [
    {
     "name": "stdout",
     "output_type": "stream",
     "text": [
      "    STRIKE  MKT_BID  MKT_MID  MKT_ASK   MERTON MC   MERTON CF      KOU MC   \n",
      "0   1475.0    57.20   58.495    59.79   55.157663   56.340191   50.206798  \\\n",
      "1   1500.0    61.61   62.955    64.30   59.502188   60.743449   55.074610   \n",
      "2   1650.0    94.79   96.245    97.70   92.466193   94.282978   93.127986   \n",
      "3   1675.0   101.59  103.090   104.59   99.361122  101.343082  100.989287   \n",
      "4   1700.0   108.51  110.055   111.60  106.701982  108.907087  109.314679   \n",
      "5   1725.0   116.50  118.100   119.70  114.613740  117.004264  118.077984   \n",
      "6   1775.0   133.01  134.655   136.30  132.134493  134.902165  137.052888   \n",
      "7   1800.0   142.29  143.950   145.61  141.731068  144.746444  147.261527   \n",
      "8   1825.0   152.01  153.710   155.41  151.909424  155.209946  158.018577   \n",
      "9   1950.0   210.00  211.850   213.70  212.128287  217.040192  219.518640   \n",
      "10  2000.0   237.90  239.850   241.80  240.462500  246.136527  247.616331   \n",
      "11  2025.0   252.99  254.995   257.00  255.482551  261.566102  262.352320   \n",
      "12  2050.0   268.89  270.945   273.00  271.057984  277.555124  277.511236   \n",
      "13  2125.0   321.20  323.350   325.50  321.136048  328.629030  325.769030   \n",
      "14  2175.0   360.29  362.495   364.70  356.843897  364.995192  359.954051   \n",
      "15  2275.0   446.30  448.695   451.09  432.719746  442.283760  432.851115   \n",
      "16  2300.0   469.20  471.700   474.20  452.522967  462.400011  451.945289   \n",
      "17  2425.0   588.81  591.410   594.01  555.385760  566.595260  551.618114   \n",
      "\n",
      "        KOU CF       VG MC       VG CF  \n",
      "0    51.937565   41.552095   51.884055  \n",
      "1    56.828485   46.680720   56.777606  \n",
      "2    94.604948   88.845797   94.076188  \n",
      "3   102.440512   98.111115  101.765914  \n",
      "4   110.746883  108.144815  109.918678  \n",
      "5   119.532423  118.835236  118.549515  \n",
      "6   138.566548  142.005988  137.302570  \n",
      "7   148.823875  154.497145  147.451420  \n",
      "8   159.577855  167.549355  158.131250  \n",
      "9   220.757828  239.685610  219.800191  \n",
      "10  248.606945  271.444877  248.390088  \n",
      "11  263.226486  287.846930  263.502502  \n",
      "12  278.296568  304.608947  279.134200  \n",
      "13  326.099754  356.862300  328.907249  \n",
      "14  360.007861  393.341273  364.242700  \n",
      "15  432.243385  469.573232  439.247608  \n",
      "16  451.142767  489.216881  458.779989  \n",
      "17  549.996614  590.341844  560.241477  \n"
     ]
    }
   ],
   "source": [
    "# vg_params2 = [0.2442, 0.1983, 0.9451]\n",
    "sigma, theta, nu = vg_params2\n",
    "VGCAL = VG_pricer(S0, None, T, r, q, sigma, theta, nu, exercise)\n",
    "SVarGamma_CAL = VGCAL.VarianceGammaPath1(days, paths)\n",
    "\n",
    "avg_payoffs = []\n",
    "for K in put_strikes:\n",
    "    payoffs = []        # stores here the payoff for each path, for a specific couple K1-K2\n",
    "    for St in SVarGamma_CAL[-1]:\n",
    "        payoffs.append(VGCAL.payoff_put(K, St))\n",
    "    avg_payoffs.append(np.mean(payoffs))\n",
    "\n",
    "vg_mc_prices = np.zeros(len(put_calib_prices))\n",
    "vg_cf_prices = np.zeros(len(put_calib_prices))\n",
    "\n",
    "for index in range(len(put_calib_prices)):\n",
    "    vg_mc_prices[index] = np.exp(-r*T)* avg_payoffs[index]\n",
    "    vg_cf_prices[index] = VGCAL.closed_formula_put(put_strikes[index])\n",
    "\n",
    "put_calib_prices['VG MC'] = vg_mc_prices\n",
    "put_calib_prices['VG CF'] = vg_cf_prices\n",
    "\n",
    "print(put_calib_prices)"
   ],
   "metadata": {
    "collapsed": false
   }
  },
  {
   "cell_type": "markdown",
   "source": [
    "### Visualize calibration results\n",
    "#### Closed Formulas Option pricing"
   ],
   "metadata": {
    "collapsed": false
   }
  },
  {
   "cell_type": "code",
   "execution_count": 46,
   "outputs": [
    {
     "data": {
      "text/plain": "<Figure size 2000x400 with 3 Axes>",
      "image/png": "[encoded data removed]"
     },
     "metadata": {},
     "output_type": "display_data"
    }
   ],
   "source": [
    "fig, ax = plt.subplots(ncols = 1, figsize=(17, 4))\n",
    "ax[0].plot(put_strikes, merton_cf_prices, label=\"Merton\")\n",
    "ax[1].plot(put_strikes, kou_cf_prices, label=\"Kou\")\n",
    "ax[2].plot(put_strikes, vg_cf_prices, label=\"VG\")\n",
    "ax[0].set_title(\"Merton model. Closed formulas pricing\"); ax[1].set_title(\"Kou model. Closed formulas pricing\"); ax[2].set_title(\"VG model. Closed formulas pricing\")\n",
    "for i in range(3):\n",
    "    ax[i].plot(put_strikes, put_prices, \".\", label=\"midpoint\")\n",
    "    ax[i].set_xlabel(\"strike\")\n",
    "    ax[i].legend(); ax[i].grid()\n",
    "plt.show()"
   ],
   "metadata": {
    "collapsed": false
   }
  },
  {
   "cell_type": "markdown",
   "source": [
    "\n",
    "#### Monte Carlo option pricing"
   ],
   "metadata": {
    "collapsed": false
   }
  },
  {
   "cell_type": "code",
   "execution_count": 45,
   "outputs": [
    {
     "data": {
      "text/plain": "<Figure size 1700x400 with 3 Axes>",
      "image/png": "[encoded data removed]"
     },
     "metadata": {},
     "output_type": "display_data"
    }
   ],
   "source": [
    "fig, ax = plt.subplots(ncols=3, figsize=(17, 4))\n",
    "\n",
    "ax[0].plot(put_strikes, merton_mc_prices, label=\"Merton\")\n",
    "ax[1].plot(put_strikes, kou_mc_prices, label=\"Kou\")\n",
    "ax[2].plot(put_strikes, vg_mc_prices, label=\"VG\")\n",
    "ax[0].set_title(\"Merton model. Monte Carlo pricing\"); ax[1].set_title(\"Kou model. Monte Carlo pricing\"); ax[2].set_title(\"VG model. Monte Carlo pricing\")\n",
    "\n",
    "for i in range(3): \n",
    "    ax[i].plot(put_strikes, put_prices, \".\", label=\"midpoint\")\n",
    "    ax[i].set_xlabel(\"strike\")\n",
    "    x[i].legend(); ax[i].grid()\n",
    "\n",
    "plt.show()"
   ],
   "metadata": {
    "collapsed": false
   }
  },
  {
   "cell_type": "code",
   "execution_count": 33,
   "outputs": [],
   "source": [],
   "metadata": {
    "collapsed": false
   }
  },
  {
   "cell_type": "code",
   "execution_count": 34,
   "outputs": [],
   "source": [],
   "metadata": {
    "collapsed": false
   }
  }
 ],
 "metadata": {
  "kernelspec": {
   "display_name": "Python 3",
   "language": "python",
   "name": "python3"
  },
  "language_info": {
   "codemirror_mode": {
    "name": "ipython",
    "version": 2
   },
   "file_extension": ".py",
   "mimetype": "text/x-python",
   "name": "python",
   "nbconvert_exporter": "python",
   "pygments_lexer": "ipython2",
   "version": "2.7.6"
  }
 },
 "nbformat": 4,
 "nbformat_minor": 0
}
