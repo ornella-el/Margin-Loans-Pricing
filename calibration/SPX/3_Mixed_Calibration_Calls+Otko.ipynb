{
 "cells": [
  {
   "cell_type": "markdown",
   "source": [
    "# Calibration of model parameters: SPX\n",
    "### based on a MIX of European calls and otko daily cliquet options"
   ],
   "metadata": {
    "collapsed": false
   }
  },
  {
   "cell_type": "code",
   "execution_count": 6,
   "outputs": [],
   "source": [
    "import numpy as np\n",
    "import pandas as pd\n",
    "import matplotlib.pyplot as plt\n",
    "import scipy.optimize as scpo\n",
    "import sys\n",
    "import time\n",
    "import warnings\n",
    "sys.path.append('C:/Users\\ornel\\PycharmProjects\\Margin-Loans-Pricing/functions')\n",
    "sys.path.append('C:/Users/ornel/PycharmProjects/Margin-Loans-Pricing/calibration')\n",
    "warnings.simplefilter(action='ignore', category=FutureWarning)\n",
    "\n",
    "from BSpricer import BS_Pricer\n",
    "from MERTONpricer import Merton_pricer\n",
    "from KOUpricer import Kou_pricer\n",
    "from VGpricer import VG_pricer"
   ],
   "metadata": {
    "collapsed": false,
    "ExecuteTime": {
     "end_time": "2023-09-01T14:48:11.235653900Z",
     "start_time": "2023-09-01T14:48:11.005541300Z"
    }
   }
  },
  {
   "cell_type": "markdown",
   "source": [
    "Let's read the dataframe of european call options. A mixed of options has been already selected in the module  `plaincalls.py`."
   ],
   "metadata": {
    "collapsed": false
   }
  },
  {
   "cell_type": "code",
   "execution_count": 7,
   "outputs": [
    {
     "name": "stdout",
     "output_type": "stream",
     "text": [
      "   QUOTE_DATE  UNDERLYING_LAST EXPIRE_DATE   C_BID   C_ASK  STRIKE     C_IV  \\\n",
      "0  2016-01-20          1859.48  2017-01-20  470.29  474.59  1400.0  0.26759   \n",
      "1  2016-01-20          1859.48  2017-01-20  328.30  332.30  1575.0  0.25258   \n",
      "2  2016-01-20          1859.48  2017-01-20  187.61  191.10  1775.0  0.22414   \n",
      "3  2016-01-20          1859.48  2017-01-20  128.49  131.80  1875.0  0.20726   \n",
      "4  2016-01-20          1859.48  2017-01-20   91.20   94.29  1950.0  0.19460   \n",
      "5  2016-01-20          1859.48  2017-01-20   29.70   32.10  2125.0  0.16430   \n",
      "6  2016-01-20          1859.48  2017-01-20    3.50    5.61  2325.0  0.13787   \n",
      "\n",
      "   MONEYNESS  \n",
      "0       0.75  \n",
      "1       0.85  \n",
      "2       0.95  \n",
      "3       1.01  \n",
      "4       1.05  \n",
      "5       1.14  \n",
      "6       1.25  \n"
     ]
    }
   ],
   "source": [
    "calls_spx = pd.read_csv('../../data/SPX/OPT16_SPX_CALLS_restricted2.csv')\n",
    "moneyness = [0.75, 0.85, 0.95, 1.01, 1.05, 1.14, 1.25]\n",
    "cond = calls_spx['MONEYNESS'].isin(moneyness)\n",
    "calls = calls_spx[cond].copy()\n",
    "calls.reset_index(drop=True, inplace=True)\n",
    "print(calls)"
   ],
   "metadata": {
    "collapsed": false,
    "ExecuteTime": {
     "end_time": "2023-09-01T14:48:11.267700600Z",
     "start_time": "2023-09-01T14:48:11.006123500Z"
    }
   }
  },
  {
   "cell_type": "markdown",
   "source": [
    "Let's initialize the values for our calibration."
   ],
   "metadata": {
    "collapsed": false
   }
  },
  {
   "cell_type": "code",
   "execution_count": 8,
   "outputs": [],
   "source": [
    "calls['C_Midpoint'] = abs(calls['C_BID'] + calls['C_ASK']) / 2\n",
    "calls['C_Spread'] = calls['C_BID'] - calls['C_ASK']\n",
    "\n",
    "q = 0           # dividend yield\n",
    "r = 0.02        # risk-free interest rate\n",
    "S0 = calls.iloc[0]['UNDERLYING_LAST']\n",
    "T = 1           # time-to-maturity\n",
    "exercise = 'european'\n",
    "\n",
    "calls_strikes = calls['STRIKE']    # array of K for call options\n",
    "calls_prices = calls['C_Midpoint']\n",
    "calls_spreads = calls['C_Spread']\n",
    "calls_weights = 1/calls_spreads**2"
   ],
   "metadata": {
    "collapsed": false,
    "ExecuteTime": {
     "end_time": "2023-09-01T14:48:11.377139900Z",
     "start_time": "2023-09-01T14:48:11.025008300Z"
    }
   }
  },
  {
   "cell_type": "markdown",
   "source": [
    "Then, we create the objects of the classes that develop the desired models."
   ],
   "metadata": {
    "collapsed": false
   }
  },
  {
   "cell_type": "code",
   "execution_count": 9,
   "outputs": [],
   "source": [
    "%store -r calls_bs_params_spx\n",
    "%store -r calls_mert_params_spx\n",
    "%store -r calls_kou_params_spx\n",
    "%store -r calls_vg_params_spx\n",
    "\n",
    "%store -r otko_mert_params_spx\n",
    "%store -r otko_kou_params_spx\n",
    "%store -r otko_vg_params_spx"
   ],
   "metadata": {
    "collapsed": false,
    "ExecuteTime": {
     "end_time": "2023-09-01T14:48:11.759694400Z",
     "start_time": "2023-09-01T14:48:11.031104600Z"
    }
   }
  },
  {
   "cell_type": "code",
   "execution_count": 10,
   "outputs": [],
   "source": [
    "bs_param = calls_bs_params_spx\n",
    "\n",
    "m_params_calls = calls_mert_params_spx\n",
    "m_params_otko = otko_mert_params_spx\n",
    "\n",
    "k_params_calls = calls_kou_params_spx\n",
    "k_params_otko = otko_kou_params_spx\n",
    "\n",
    "vg_params_calls = calls_vg_params_spx\n",
    "vg_params_otko = otko_vg_params_spx"
   ],
   "metadata": {
    "collapsed": false,
    "ExecuteTime": {
     "end_time": "2023-09-01T14:48:11.759694400Z",
     "start_time": "2023-09-01T14:48:11.038743400Z"
    }
   }
  },
  {
   "cell_type": "code",
   "execution_count": 11,
   "outputs": [],
   "source": [
    "BS = BS_Pricer(S0=S0, r=r, q = q, sigma=bs_param, ttm=T, exercise=exercise, K=None)\n",
    "\n",
    "sigma, lambd, meanJ, stdJ = m_params_calls\n",
    "Merton = Merton_pricer(S0, None, T, r, q, sigma, lambd, meanJ, stdJ, exercise=exercise)\n",
    "\n",
    "sigma, lambd, p, eta1, eta2 = k_params_calls\n",
    "Kou = Kou_pricer(S0, None, T, r, sigma, lambd, p, eta1, eta2, exercise=exercise)\n",
    "\n",
    "sigma, theta, nu = vg_params_calls\n",
    "VG = VG_pricer(S0, None, T, r, q, sigma, theta, nu, exercise=exercise)"
   ],
   "metadata": {
    "collapsed": false,
    "ExecuteTime": {
     "end_time": "2023-09-01T14:48:11.917475700Z",
     "start_time": "2023-09-01T14:48:11.049629500Z"
    }
   }
  },
  {
   "cell_type": "code",
   "execution_count": 12,
   "outputs": [],
   "source": [
    "def implied_volatility(price, S, strike, t, rate, q, type_o, method='fsolve', disp=True):\n",
    "\n",
    "    def obj_fun(vol):\n",
    "        return BS.BlackScholes(type_o=type_o, S0=S, K=strike, ttm=t, r=rate, q=q, sigma=vol) - price\n",
    "\n",
    "    def vega(vol):\n",
    "        return BS.vega(S, strike, rate, q, vol, t)\n",
    "\n",
    "    if method =='fsolve':\n",
    "        X0 = [0.01, 0.2, 0.35, 7]        #initial guess points for imp.vol.\n",
    "        for x_0 in X0:\n",
    "            x, _, solved, _ = scpo.fsolve(obj_fun, x_0, full_output=True, xtol=1e-8)\n",
    "            if solved == 1:\n",
    "                return x[0]\n",
    "\n",
    "    if method == 'newton':\n",
    "        guess = 0.2\n",
    "        result = scpo.newton(obj_fun, guess, vega, tol=1e-4)\n",
    "        return result\n",
    "\n",
    "    if disp:\n",
    "        return -1"
   ],
   "metadata": {
    "collapsed": false,
    "ExecuteTime": {
     "end_time": "2023-09-01T14:48:12.011651700Z",
     "start_time": "2023-09-01T14:48:11.056183500Z"
    }
   }
  },
  {
   "cell_type": "code",
   "execution_count": 13,
   "outputs": [
    {
     "name": "stdout",
     "output_type": "stream",
     "text": [
      "0    472.440\n",
      "1    330.300\n",
      "2    189.355\n",
      "3    130.145\n",
      "4     92.745\n",
      "5     30.900\n",
      "6      4.555\n",
      "Name: C_Midpoint, dtype: float64\n",
      "Implied volatilities of market prices (calls):\n",
      "S0 = 1859.48\n",
      "K = 1400.0, IV = 0.3101\n",
      "K = 1575.0, IV = 0.2694\n",
      "K = 1775.0, IV = 0.2287\n",
      "K = 1875.0, IV = 0.2088\n",
      "K = 1950.0, IV = 0.1948\n",
      "K = 2125.0, IV = 0.1632\n",
      "K = 2325.0, IV = 0.137\n"
     ]
    }
   ],
   "source": [
    "IV_market = []\n",
    "print(calls_prices)\n",
    "for i in range(len(calls_prices)):\n",
    "    IV_market.append(\n",
    "        implied_volatility(calls_prices[i], S=S0, strike=calls_strikes[i], t=T, rate=0.025, q=0.04, type_o='call',\n",
    "                           method='fsolve'))\n",
    "\n",
    "print(f'Implied volatilities of market prices (calls):\\nS0 = {S0}')\n",
    "for a, b in zip(calls_strikes, IV_market):\n",
    "    print(f'K = {a}, IV = {round(b, 4)}')\n"
   ],
   "metadata": {
    "collapsed": false,
    "ExecuteTime": {
     "end_time": "2023-09-01T14:48:12.058541300Z",
     "start_time": "2023-09-01T14:48:11.062199400Z"
    }
   }
  },
  {
   "cell_type": "code",
   "execution_count": 14,
   "outputs": [
    {
     "data": {
      "text/plain": "<Figure size 1000x500 with 1 Axes>",
      "image/png": "[encoded data removed]"
     },
     "metadata": {},
     "output_type": "display_data"
    }
   ],
   "source": [
    "# Plot market implied volatilities w.r.t. log moneyness\n",
    "x = (calls_strikes/S0)\n",
    "# IV_filtered = [iv for iv in IV_market_p if iv != -1]\n",
    "# x_filtered = [log_m for iv, log_m in zip(IV_market_p, x) if iv != -1]\n",
    "IV_filtered = [iv for iv in IV_market if iv != -1]\n",
    "x_filtered = [log_m for iv, log_m in zip(IV_market, x) if iv != -1]\n",
    "\n",
    "fig, ax1 = plt.subplots(figsize=(10,5))\n",
    "\n",
    "#CALLS\n",
    "ax1.scatter(x, IV_market, marker='x', label='BS inversion', color='red')\n",
    "ax1.scatter(x, calls['C_IV'], marker='.', label='provided')\n",
    "\n",
    "ax1.set_xlabel('Moneyness: K/S0'); ax1.set_ylabel('Implied Volatility'); ax1.set_title('CALLS volatility smile')\n",
    "\n",
    "ax1.legend(); ax1.grid(); plt.show()\n"
   ],
   "metadata": {
    "collapsed": false,
    "ExecuteTime": {
     "end_time": "2023-09-01T14:48:12.547618800Z",
     "start_time": "2023-09-01T14:48:11.078380Z"
    }
   }
  },
  {
   "cell_type": "code",
   "execution_count": 15,
   "metadata": {
    "collapsed": true,
    "ExecuteTime": {
     "end_time": "2023-09-01T14:48:12.547618800Z",
     "start_time": "2023-09-01T14:48:11.290569600Z"
    }
   },
   "outputs": [
    {
     "name": "stdout",
     "output_type": "stream",
     "text": [
      "  Starting date Stock Name Expiry  K1  K2  BID(%)  Midpoint(%)  ASK(%)\n",
      "0    20/01/2016        SPX     1Y  75   0    0.17        0.185    0.20\n",
      "1    20/01/2016        SPX     1Y  70   0    0.08        0.090    0.10\n",
      "2    20/01/2016        SPX     1Y  85  75    0.34        0.370    0.40\n",
      "3    20/01/2016        SPX     1Y  80  70    0.24        0.260    0.28\n",
      "4    20/01/2016        SPX     1Y  90  80    0.48        0.510    0.54\n"
     ]
    }
   ],
   "source": [
    "otko_spx = pd.read_csv('../../data/SPX/otko_spx_1year.csv')\n",
    "\n",
    "th_prices = pd.DataFrame({\n",
    "    'K1': otko_spx['K1'],\n",
    "    'K2': otko_spx['K2'],\n",
    "    'Midpoint (%)': otko_spx['Midpoint(%)']\n",
    "})\n",
    "print(otko_spx)\n",
    "th_mc_prices = pd.DataFrame({})\n",
    "th_cf_prices = pd.DataFrame({})\n",
    "\n",
    "otko_strikes = otko_spx[['K1', 'K2']].values / 100\n",
    "otko_spreads =  otko_spx['ASK(%)'] - otko_spx['BID(%)']\n",
    "otko_weights = 1/otko_spreads**2\n",
    "otko_mkt_prices = otko_spx['Midpoint(%)'].values"
   ]
  },
  {
   "cell_type": "markdown",
   "source": [
    "### Option pricing calibration on the full set of options"
   ],
   "metadata": {
    "collapsed": false
   }
  },
  {
   "cell_type": "markdown",
   "source": [
    "#### Merton Jump Diffusion model"
   ],
   "metadata": {
    "collapsed": false
   }
  },
  {
   "cell_type": "code",
   "execution_count": 16,
   "outputs": [
    {
     "name": "stdout",
     "output_type": "stream",
     "text": [
      "The maximum number of function evaluations is exceeded.\n",
      "Function evaluations 400, initial cost 4.2837e+04, final cost 2.9357e+03, first-order optimality 4.36e+03.\n"
     ]
    }
   ],
   "source": [
    "x0 = m_params_calls     # initial guess: [σ, λ, m, v]\n",
    "bounds = ( [1e-3, 0, -2, 0], [2, 2, 0, 5] )\n",
    "\n",
    "def cost_function(x, c_strikes, c_mkt_prices, o_strikes, o_mkt_prices):\n",
    "    sigma, lambd, meanJ, stdJ = x\n",
    "    M = Merton_pricer(S0, None, T, r, q, sigma, lambd, meanJ, stdJ, exercise)\n",
    "    sq_err = np.sum( calls_weights*(M.closed_formula_call(c_strikes) - c_mkt_prices)**2)\n",
    "    for k in range(len(o_strikes)):\n",
    "        sq_err +=  otko_weights[k]*(M.closed_formula_otko(o_strikes[k][0], o_strikes[k][1]) - o_mkt_prices[k])**2\n",
    "    return sq_err\n",
    "\n",
    "start = time.time()\n",
    "mert = scpo.least_squares(cost_function, x0, args=(calls_strikes, calls_prices, otko_strikes, otko_mkt_prices), bounds=bounds, method = 'trf', verbose=1)\n",
    "end = time.time()"
   ],
   "metadata": {
    "collapsed": false,
    "ExecuteTime": {
     "end_time": "2023-09-01T14:49:04.635677100Z",
     "start_time": "2023-09-01T14:48:11.305610200Z"
    }
   }
  },
  {
   "cell_type": "code",
   "execution_count": 17,
   "outputs": [],
   "source": [
    "mert_params_calibrated = [round(p,4) for p in mert.x[:4]]"
   ],
   "metadata": {
    "collapsed": false,
    "ExecuteTime": {
     "end_time": "2023-09-01T14:49:04.642329600Z",
     "start_time": "2023-09-01T14:49:04.630810300Z"
    }
   }
  },
  {
   "cell_type": "code",
   "execution_count": 18,
   "outputs": [
    {
     "name": "stdout",
     "output_type": "stream",
     "text": [
      "\n",
      "METHOD: LEAST SQUARES (trf)\n",
      "> Calibrated Volatlity [σ] = 0.128 \t 12.8%\n",
      "> Calibrated Jump intensity [λ] =  0.25\n",
      "> Calibrated Jump Mean =  -0.063\n",
      "> Calibrated Jump St. dev.  =  0.174\n",
      "TIME ELAPSED:  53.32 sec\n"
     ]
    }
   ],
   "source": [
    "print('\\nMETHOD: LEAST SQUARES (trf)')\n",
    "print(f'> Calibrated Volatlity [σ] = {mert_params_calibrated[0]} \\t {round(mert_params_calibrated[0]*100,2)}%')\n",
    "print('> Calibrated Jump intensity [λ] = ', round(mert_params_calibrated[1],2))\n",
    "print('> Calibrated Jump Mean = ', round(mert_params_calibrated[2],3))\n",
    "print('> Calibrated Jump St. dev.  = ', round(mert_params_calibrated[3],3))\n",
    "print(f'TIME ELAPSED:  {round(end-start,2)} sec')"
   ],
   "metadata": {
    "collapsed": false,
    "ExecuteTime": {
     "end_time": "2023-09-01T14:49:04.654266800Z",
     "start_time": "2023-09-01T14:49:04.641771100Z"
    }
   }
  },
  {
   "cell_type": "code",
   "execution_count": 19,
   "outputs": [
    {
     "name": "stdout",
     "output_type": "stream",
     "text": [
      "[0.128, 0.2528, -0.0626, 0.1739]\n",
      "Stored 'calls_otko_mert_params_spx' (list)\n"
     ]
    }
   ],
   "source": [
    "print(mert_params_calibrated)\n",
    "calls_otko_mert_params_spx = mert_params_calibrated\n",
    "m_params_mixed = mert_params_calibrated\n",
    "%store calls_otko_mert_params_spx"
   ],
   "metadata": {
    "collapsed": false,
    "ExecuteTime": {
     "end_time": "2023-09-01T14:49:04.654266800Z",
     "start_time": "2023-09-01T14:49:04.642329600Z"
    }
   }
  },
  {
   "cell_type": "markdown",
   "source": [
    "#### Kou Jump Diffusion Model"
   ],
   "metadata": {
    "collapsed": false
   }
  },
  {
   "cell_type": "code",
   "execution_count": null,
   "outputs": [
    {
     "name": "stdout",
     "output_type": "stream",
     "text": [
      "   Iteration     Total nfev        Cost      Cost reduction    Step norm     Optimality   \n",
      "       0              1         8.2741e+03                                    7.93e+04    \n",
      "       1              3         6.7477e+03      1.53e+03       9.57e-02       1.64e+05    \n",
      "       2              6         6.3281e+03      4.20e+02       3.92e-03       5.60e+04    \n",
      "       3              7         6.3159e+03      1.21e+01       5.10e-03       2.49e+04    \n",
      "       4              8         6.2873e+03      2.86e+01       9.43e-04       2.50e+04    \n",
      "       5              9         6.2355e+03      5.18e+01       2.08e-03       2.52e+04    \n",
      "       6             10         6.1453e+03      9.02e+01       4.95e-03       2.81e+04    \n",
      "       7             11         5.9820e+03      1.63e+02       1.22e-02       2.73e+04    \n",
      "       8             12         5.6966e+03      2.85e+02       2.61e-02       2.23e+04    \n",
      "       9             13         5.3328e+03      3.64e+02       4.47e-02       6.64e+04    \n",
      "      10             16         5.2500e+03      8.28e+01       1.90e-03       1.99e+04    \n",
      "      11             17         5.2397e+03      1.03e+01       2.49e-03       1.86e+04    \n",
      "      12             18         5.2108e+03      2.89e+01       2.31e-03       1.88e+04    \n",
      "      13             19         5.1599e+03      5.09e+01       5.25e-03       1.90e+04    \n",
      "      14             20         5.0609e+03      9.90e+01       1.16e-02       1.82e+04    \n",
      "      15             21         4.8765e+03      1.84e+02       2.29e-02       1.74e+04    \n",
      "      16             24         4.8693e+03      7.29e+00       2.46e-03       1.62e+04    \n",
      "      17             25         4.8623e+03      6.95e+00       5.55e-04       1.63e+04    \n",
      "      18             26         4.8493e+03      1.31e+01       1.16e-03       1.64e+04    \n",
      "      19             27         4.8256e+03      2.37e+01       2.50e-03       1.66e+04    \n",
      "      20             28         4.7820e+03      4.36e+01       5.50e-03       1.66e+04    \n",
      "      21             29         4.7142e+03      6.77e+01       1.14e-02       1.52e+04    \n",
      "      22             30         4.6773e+03      3.69e+01       1.63e-02       7.16e+04    \n",
      "      23             31         4.5876e+03      8.98e+01       3.63e-03       1.45e+04    \n",
      "      24             32         4.5437e+03      4.39e+01       4.05e-03       1.51e+04    \n",
      "      25             33         4.4667e+03      7.70e+01       1.14e-02       1.49e+04    \n",
      "      26             36         4.4586e+03      8.07e+00       1.33e-03       1.45e+04    \n",
      "      27             37         4.4489e+03      9.72e+00       1.38e-03       1.45e+04    \n",
      "      28             38         4.4299e+03      1.90e+01       2.82e-03       1.45e+04    \n",
      "      29             39         4.3926e+03      3.73e+01       5.75e-03       1.43e+04    \n",
      "      30             40         4.3316e+03      6.10e+01       1.15e-02       1.31e+04    \n",
      "      31             41         4.3178e+03      1.38e+01       1.68e-02       7.13e+04    \n",
      "      32             42         4.2248e+03      9.30e+01       3.58e-03       1.24e+04    \n",
      "      33             43         4.1882e+03      3.66e+01       3.97e-03       1.31e+04    \n",
      "      34             44         4.1548e+03      3.34e+01       5.79e-03       1.28e+04    \n",
      "      35             45         4.0899e+03      6.49e+01       1.16e-02       1.26e+04    \n",
      "      36             47         4.0889e+03      9.84e-01       5.46e-03       1.11e+04    \n",
      "      37             48         4.0746e+03      1.43e+01       7.55e-04       1.13e+04    \n",
      "      38             49         4.0520e+03      2.26e+01       1.73e-03       1.17e+04    \n",
      "      39             50         4.0216e+03      3.05e+01       4.63e-03       1.22e+04    \n",
      "      40             52         4.0141e+03      7.43e+00       2.69e-03       1.14e+04    \n",
      "      41             53         3.9965e+03      1.76e+01       2.20e-03       1.17e+04    \n",
      "      42             54         3.9669e+03      2.96e+01       5.44e-03       1.19e+04    \n",
      "      43             56         3.9599e+03      7.00e+00       2.70e-03       1.11e+04    \n",
      "      44             57         3.9427e+03      1.72e+01       2.17e-03       1.14e+04    \n",
      "      45             58         3.9140e+03      2.87e+01       5.44e-03       1.15e+04    \n",
      "      46             60         3.9083e+03      5.72e+00       2.67e-03       1.07e+04    \n",
      "      47             61         3.8912e+03      1.71e+01       2.10e-03       1.10e+04    \n",
      "      48             62         3.8635e+03      2.77e+01       5.38e-03       1.13e+04    \n",
      "      49             64         3.8596e+03      3.86e+00       2.63e-03       1.04e+04    \n",
      "      50             65         3.8547e+03      4.89e+00       5.01e-04       1.05e+04    \n",
      "      51             66         3.8459e+03      8.77e+00       1.08e-03       1.06e+04    \n",
      "      52             67         3.8311e+03      1.49e+01       2.45e-03       1.08e+04    \n",
      "      53             68         3.8036e+03      2.75e+01       5.69e-03       1.08e+04    \n",
      "      54             70         3.7953e+03      8.28e+00       2.77e-03       1.02e+04    \n",
      "      55             71         3.7802e+03      1.51e+01       2.26e-03       1.05e+04    \n",
      "      56             72         3.7538e+03      2.64e+01       5.59e-03       1.06e+04    \n",
      "      57             74         3.7494e+03      4.44e+00       2.67e-03       9.76e+03    \n",
      "      58             75         3.7334e+03      1.60e+01       2.01e-03       1.01e+04    \n",
      "      59             76         3.7083e+03      2.51e+01       5.35e-03       1.03e+04    \n",
      "      60             79         3.7052e+03      3.09e+00       6.32e-04       1.01e+04    \n",
      "      61             80         3.7019e+03      3.26e+00       7.16e-04       1.01e+04    \n",
      "      62             81         3.6954e+03      6.49e+00       1.44e-03       1.01e+04    \n"
     ]
    }
   ],
   "source": [
    "x0 = [0.132, 0.3314, 0.3675, 8.8496, 10.1685]    # initial guess: [σ, λ, p, η_1, η_2]\n",
    "bounds = ( [1e-2, 1e-2, 0, 0, 0], [1, 5, 0.999,  15, 20] )\n",
    "\n",
    "# Define the objective function\n",
    "def cost_function(x, c_strikes, c_mkt_prices, o_strikes, o_mkt_prices):\n",
    "    sigm, lamb, p, eta1, eta2 = x\n",
    "    KOU = Kou_pricer(S0=S0, K=c_strikes, ttm=T, r=r, sigma=sigm, lambd=lamb, p=p, eta1=eta1, eta2=eta2, exercise=exercise)\n",
    "    sq_err = np.sum(calls_weights*(KOU.closed_formula_call(c_strikes) - c_mkt_prices) ** 2)\n",
    "    for k in range(len(o_strikes)):\n",
    "        sq_err += otko_weights[k]*(KOU.closed_formula_otko(o_strikes[k][0], o_strikes[k][1]) - o_mkt_prices[k]) ** 2\n",
    "    return sq_err\n",
    "\n",
    "start2=time.time()\n",
    "kou = scpo.least_squares(cost_function, x0, args=(calls_strikes, calls_prices, otko_strikes, otko_mkt_prices),  method='trf', bounds=bounds, ftol=1e-7, verbose=2)\n",
    "end2 =time.time()"
   ],
   "metadata": {
    "collapsed": false,
    "is_executing": true,
    "ExecuteTime": {
     "start_time": "2023-09-01T14:49:04.648244900Z"
    }
   }
  },
  {
   "cell_type": "code",
   "execution_count": null,
   "outputs": [],
   "source": [
    "kou_params_calibrated = [round(p,4) for p in kou.x[:5]]"
   ],
   "metadata": {
    "collapsed": false,
    "is_executing": true
   }
  },
  {
   "cell_type": "code",
   "execution_count": null,
   "outputs": [],
   "source": [
    "print('METHOD 2: Least-squares')\n",
    "print(f'> Calibrated Volatlity [σ] = {round(kou_params_calibrated[0],4)} \\t {round(kou_params_calibrated[0]*100,2)}%')\n",
    "#print(f'> Calibrated Volatlity [σ] = 0.132 \\t 13.2%')\n",
    "print('> Calibrated Jump intensity [λ] = ', round(kou_params_calibrated[1],2))\n",
    "print(f'> Calibrated Upward Jump probability [p] = {round(kou_params_calibrated[2],2)}, [q] = {round(1-kou_params_calibrated[2],2)}')\n",
    "print('> Calibrated Rate of Exp. 1  [η_1] = ', round(kou_params_calibrated[3],2))\n",
    "print('> Calibrated Rate of Exp. 2  [η_2] = ', round(kou_params_calibrated[4],2))\n",
    "print(f'TIME ELAPSED:  {round(end2-start2,2)} sec')"
   ],
   "metadata": {
    "collapsed": false,
    "is_executing": true
   }
  },
  {
   "cell_type": "code",
   "execution_count": null,
   "outputs": [],
   "source": [
    "print(kou_params_calibrated)\n",
    "calls_otko_kou_params_spx = kou_params_calibrated\n",
    "k_params_mixed = kou_params_calibrated\n",
    "%store calls_otko_kou_params_spx"
   ],
   "metadata": {
    "collapsed": false,
    "is_executing": true
   }
  },
  {
   "cell_type": "markdown",
   "source": [
    "#### Variance gamma model"
   ],
   "metadata": {
    "collapsed": false
   }
  },
  {
   "cell_type": "code",
   "execution_count": null,
   "outputs": [],
   "source": [
    "x0 = vg_params_calls\n",
    "bounds = ( [1e-3, -3, 0], [3, 2, 10] )\n",
    "\n",
    "def cost_function(x, c_strikes, c_mkt_prices, o_strikes, o_mkt_prices):\n",
    "    sigma, theta, nu = x\n",
    "    VG = VG_pricer(S0, None, T, r, q, sigma, theta, nu, exercise)\n",
    "    prices = []\n",
    "    for k in c_strikes:\n",
    "        prices.append(VG.closed_formula_call(k))\n",
    "    sq_err = np.sum(calls_weights*(prices - c_mkt_prices)**2)\n",
    "    for k in range(len(o_strikes)):\n",
    "        sq_err += otko_weights[k]* (VG.closed_formula_otko5(o_strikes[k][0], o_strikes[k][1]) - o_mkt_prices[k]) ** 2\n",
    "    return sq_err\n",
    "\n",
    "start3=time.time()\n",
    "vg = scpo.least_squares(cost_function, x0, args=(calls_strikes, calls_prices, otko_strikes, otko_mkt_prices),  method='trf', bounds=bounds, verbose=1)\n",
    "end3=time.time()\n",
    "\n",
    "vg_params_calibrated = [round(p,4) for p in vg.x[:3]]"
   ],
   "metadata": {
    "collapsed": false,
    "is_executing": true
   }
  },
  {
   "cell_type": "code",
   "execution_count": null,
   "outputs": [],
   "source": [
    "print('METHOD: LEAST-SQUARES (trf)')\n",
    "print(f'> Calibrated Volatility [σ] = {vg_params_calibrated[0]}, \\t {round(vg_params_calibrated[0]*100,2)}%')\n",
    "print('> Calibrated mean rate gamma process [θ] = ', vg_params_calibrated[1])\n",
    "print('> Calibrated variance rate gamma process [v]= ', vg_params_calibrated[2])\n",
    "print(f'TIME ELAPSED:  {round(end3-start3,2)} sec')"
   ],
   "metadata": {
    "collapsed": false,
    "is_executing": true
   }
  },
  {
   "cell_type": "code",
   "execution_count": null,
   "outputs": [],
   "source": [
    "print(vg_params_calibrated)\n",
    "calls_otko_vg_params_spx = vg_params_calibrated\n",
    "vg_params_mixed = vg_params_calibrated\n",
    "%store calls_otko_vg_params_spx"
   ],
   "metadata": {
    "collapsed": false,
    "is_executing": true
   }
  },
  {
   "cell_type": "markdown",
   "source": [
    "### RESULTS FROM CALIBRATION\n",
    "This section aims to reprice the options used for calibration. On this purpose, both calls and otko prices obtained by each model are compared to the original market prices, starting point of our calibration process."
   ],
   "metadata": {
    "collapsed": false
   }
  },
  {
   "cell_type": "code",
   "execution_count": null,
   "outputs": [],
   "source": [
    "days = 252\n",
    "paths = 5000\n",
    "\n",
    "#CALLS PRICES\n",
    "calls_calib_prices = pd.DataFrame({\n",
    "    'STRIKE': calls['STRIKE'],    # array of K for call options\n",
    "    'MKT_BID': calls['C_BID'],\n",
    "    'MKT_MID': calls['C_Midpoint'],\n",
    "    'MKT_ASK': calls['C_ASK'],\n",
    "\n",
    "})\n",
    "print(f'MARKET PRICES. STARTING DATE = 20-01-2016. EXPIRY = 1YEAR. \\n{calls_calib_prices}\\n')\n",
    "\n",
    "# OTKO PRICES\n",
    "otko_calib_prices = pd.DataFrame({\n",
    "    'K1': otko_spx['K1'],\n",
    "    'K2': otko_spx['K2'],\n",
    "    'MKT_BID (%)': otko_spx['BID(%)'],\n",
    "    'MKT_MID (%)': otko_spx['Midpoint(%)'],\n",
    "    'MKT_ASK (%)': otko_spx['ASK(%)']\n",
    "})\n",
    "print(f'MARKET PRICES. STARTING DATE = 20-01-2016. EXPIRY = 1YEAR. \\n{otko_calib_prices}')"
   ],
   "metadata": {
    "collapsed": false,
    "is_executing": true
   }
  },
  {
   "cell_type": "markdown",
   "source": [
    "\n",
    "#### Merton Jump Diffusion"
   ],
   "metadata": {
    "collapsed": false
   }
  },
  {
   "cell_type": "code",
   "execution_count": null,
   "outputs": [],
   "source": [
    "print(f'CALIBRATED PARAMETERS [σ\\t\\tλ\\t\\tm\\t\\tv]')\n",
    "print(f'> European CALLS:\\t {m_params_calls}')\n",
    "print(f'> OTKO DC:\\t\\t\\t {m_params_otko}')\n",
    "print(f'> CALLS + OTKO:\\t\\t {m_params_mixed}')\n",
    "\n",
    "\n",
    "Merton1 = Merton_pricer(S0, None, T, r, q, m_params_calls[0], m_params_calls[1], m_params_calls[2], m_params_calls[3], exercise)\n",
    "Merton2 = Merton_pricer(S0, None, T, r, q, m_params_otko[0], m_params_otko[1], m_params_otko[2], m_params_otko[3], exercise)\n",
    "Merton3 = Merton_pricer(S0, None, T, r, q, m_params_mixed[0], m_params_mixed[1], m_params_mixed[2], m_params_mixed[3], exercise)\n",
    "\n",
    "SMerton1 = Merton1.MertonPath(days, paths)\n",
    "SMerton2 = Merton2.MertonPath(days, paths)\n",
    "SMerton3 = Merton3.MertonPath(days, paths)\n",
    "\n",
    "# PLOT MONTE CARLO PATHS\n",
    "fig1, axes = plt.subplots(nrows=1, ncols=3, figsize=(18,4))\n",
    "Merton1.plotMertonPath(SMerton1, 'SPX', ax=axes[0])\n",
    "Merton2.plotMertonPath(SMerton2, 'SPX', ax=axes[1])\n",
    "Merton3.plotMertonPath(SMerton3, 'SPX', ax=axes[2])\n",
    "plt.show()\n",
    "\n",
    "# PLOT FINAL PRICE DISTRIBUTIONS\n",
    "fig2, axes = plt.subplots(nrows=1, ncols=3, figsize=(20, 6))\n",
    "Merton1.plotMertonAtFixedTime(SMerton1, days-1, 'SPX', ax = axes[0])\n",
    "Merton2.plotMertonAtFixedTime(SMerton2, days-1, 'SPX', ax = axes[1])\n",
    "Merton3.plotMertonAtFixedTime(SMerton3, days-1, 'SPX', ax = axes[2])"
   ],
   "metadata": {
    "collapsed": false,
    "is_executing": true
   }
  },
  {
   "cell_type": "markdown",
   "source": [
    "Then we show our options priced by the Merton model, using the parameters calibrated on the full set of European calls and One Touch Knockout Daily Cliquets."
   ],
   "metadata": {
    "collapsed": false
   }
  },
  {
   "cell_type": "code",
   "execution_count": null,
   "outputs": [],
   "source": [
    "avg_payoffs = []\n",
    "for k in calls_strikes:\n",
    "    payoffs = []        # stores here the payoff for each path, for a specific couple K1-K2\n",
    "    for St in SMerton3[-1]:\n",
    "        payoffs.append(Merton3.payoff_call(k, St))\n",
    "    avg_payoffs.append(np.mean(payoffs))\n",
    "\n",
    "merton_mc_prices = np.zeros(len(calls_calib_prices))\n",
    "merton_cf_prices = np.zeros(len(calls_calib_prices))\n",
    "\n",
    "for index in range(len(calls_calib_prices)):\n",
    "    merton_mc_prices[index] = np.exp(-r*T)* avg_payoffs[index]\n",
    "    merton_cf_prices[index] = Merton3.closed_formula_call(calls_strikes[index])\n",
    "\n",
    "calls_calib_prices['MERTON MC (%)'] = merton_mc_prices\n",
    "calls_calib_prices['MERTON CF (%)'] = merton_cf_prices\n",
    "\n",
    "avg_payoffs = []\n",
    "for K1, K2 in otko_strikes:\n",
    "    payoffs = []        # stores here the payoff for each path, for a specific couple K1-K2\n",
    "    for path in SMerton3.T:\n",
    "        payoffs.append(Merton3.payoff_otko(path, K1, K2))\n",
    "    avg_payoffs.append(np.mean(payoffs))\n",
    "\n",
    "merton_mc_prices = np.zeros(len(otko_calib_prices))\n",
    "merton_cf_prices = np.zeros(len(otko_calib_prices))\n",
    "\n",
    "for index in range(len(otko_calib_prices)):\n",
    "    merton_mc_prices[index] = np.exp(-r*T)* avg_payoffs[index] * 100\n",
    "    merton_cf_prices[index] = Merton3.closed_formula_otko(otko_strikes[index][0], otko_strikes[index][1])\n",
    "\n",
    "otko_calib_prices['MERTON MC (%)'] = merton_mc_prices\n",
    "otko_calib_prices['MERTON CF (%)'] = merton_cf_prices\n",
    "\n",
    "print(calls_calib_prices)\n",
    "print('\\n')\n",
    "print(otko_calib_prices)"
   ],
   "metadata": {
    "collapsed": false,
    "is_executing": true
   }
  },
  {
   "cell_type": "markdown",
   "source": [
    "### Kou Jump Diffusion"
   ],
   "metadata": {
    "collapsed": false
   }
  },
  {
   "cell_type": "code",
   "execution_count": null,
   "outputs": [],
   "source": [
    "print(f'CALIBRATED PARAMETERS: [σ\\t\\tλ\\t\\tp\\t\\tη1\\t\\tη2]')\n",
    "print(f'> European CALLS:\\t {k_params_calls}')\n",
    "print(f'> OTKO DC:\\t\\t\\t {k_params_otko}')\n",
    "print(f'> CALLS + OTKO:\\t\\t {k_params_mixed}')\n",
    "\n",
    "Kou1 = Kou_pricer(S0, None, T, r, k_params_calls[0], k_params_calls[1], k_params_calls[2], k_params_calls[3], k_params_calls[4], exercise)\n",
    "Kou2 = Kou_pricer(S0, None, T, r, k_params_otko[0], k_params_otko[1], k_params_otko[2], k_params_otko[3], k_params_otko[4], exercise)\n",
    "Kou3 = Kou_pricer(S0, None, T, r, k_params_mixed[0], k_params_mixed[1], k_params_mixed[2], k_params_mixed[3], k_params_mixed[4], exercise)\n",
    "\n",
    "SKou1 = Kou1.KouPath(days, paths)\n",
    "SKou2 = Kou2.KouPath(days, paths)\n",
    "SKou3 = Kou3.KouPath(days, paths)\n",
    "\n",
    "# PLOT MONTE CARLO PATHS\n",
    "fig1, axes = plt.subplots(nrows=1, ncols=3, figsize=(18,4))\n",
    "Kou1.plotKouPath(SKou1, 'SPX', ax=axes[0])\n",
    "Kou2.plotKouPath(SKou2, 'SPX', ax=axes[1])\n",
    "Kou3.plotKouPath(SKou3, 'SPX', ax=axes[2])\n",
    "plt.show()\n",
    "\n",
    "# PLOT FINAL PRICE DISTRIBUTIONS\n",
    "fig2, axes = plt.subplots(nrows=1, ncols=3, figsize=(20, 6))\n",
    "Kou1.plotKouAtFixedTime(SKou1, 251, 'SPX', ax = axes[0])\n",
    "Kou2.plotKouAtFixedTime(SKou2, 251, 'SPX', ax = axes[1])\n",
    "Kou3.plotKouAtFixedTime(SKou3, 251, 'SPX', ax = axes[2])"
   ],
   "metadata": {
    "collapsed": false,
    "is_executing": true
   }
  },
  {
   "cell_type": "markdown",
   "source": [
    "Compute the otko final prices for Kou model"
   ],
   "metadata": {
    "collapsed": false
   }
  },
  {
   "cell_type": "code",
   "execution_count": null,
   "outputs": [],
   "source": [
    "avg_payoffs = []\n",
    "for k in calls_strikes:\n",
    "    payoffs = []        # stores here the payoff for each path, for a specific couple K1-K2\n",
    "    for St in SKou3[-1]:\n",
    "        payoffs.append(Kou3.payoff_call(k, St))\n",
    "    avg_payoffs.append(np.mean(payoffs))\n",
    "\n",
    "kou_mc_prices = np.zeros(len(calls_calib_prices))\n",
    "kou_cf_prices = np.zeros(len(calls_calib_prices))\n",
    "\n",
    "for index in range(len(calls_calib_prices)):\n",
    "    kou_mc_prices[index] = np.exp(-r*T)* avg_payoffs[index]\n",
    "    kou_cf_prices[index] = Kou3.closed_formula_call(calls_strikes[index])\n",
    "\n",
    "calls_calib_prices['KOU MC (%)'] = kou_mc_prices\n",
    "calls_calib_prices['KOU CF (%)'] = kou_cf_prices\n",
    "\n",
    "avg_payoffs = []\n",
    "for K1, K2 in otko_strikes:\n",
    "    payoffs = []        # stores here the payoff for each path, for a specific couple K1-K2\n",
    "    for path in SKou3.T:\n",
    "        payoffs.append(Kou3.payoff_otko(path, K1, K2))\n",
    "    avg_payoffs.append(np.mean(payoffs))\n",
    "\n",
    "kou_mc_prices = np.zeros(len(otko_calib_prices))\n",
    "kou_cf_prices = np.zeros(len(otko_calib_prices))\n",
    "\n",
    "for index in range(len(otko_calib_prices)):\n",
    "    kou_mc_prices[index] = np.exp(-r*T)* avg_payoffs[index] * 100\n",
    "    kou_cf_prices[index] = Kou3.closed_formula_otko(otko_strikes[index][0], otko_strikes[index][1])\n",
    "\n",
    "otko_calib_prices['KOU MC (%)'] = kou_mc_prices\n",
    "otko_calib_prices['KOU CF (%)'] = kou_cf_prices"
   ],
   "metadata": {
    "collapsed": false,
    "is_executing": true
   }
  },
  {
   "cell_type": "code",
   "execution_count": null,
   "outputs": [],
   "source": [
    "selection1 = [0,1,2,3,6,7]\n",
    "print(f'>> CALLS\\n{calls_calib_prices.iloc[:, selection1]}')\n",
    "selection2 = [0,1,2,3,4,7,8]\n",
    "print(f'\\n>> OTKO\\n{otko_calib_prices.iloc[:, selection2]}')"
   ],
   "metadata": {
    "collapsed": false,
    "is_executing": true
   }
  },
  {
   "cell_type": "markdown",
   "source": [
    "#### Variance Gamma model"
   ],
   "metadata": {
    "collapsed": false
   }
  },
  {
   "cell_type": "code",
   "execution_count": null,
   "outputs": [],
   "source": [
    "VG1 = VG_pricer(S0, None, T, r, q, vg_params_calls[0], vg_params_calls[1], vg_params_calls[2],  exercise)\n",
    "VG2 = VG_pricer(S0, None, T, r, q, vg_params_otko[0], vg_params_otko[1], vg_params_otko[2], exercise)\n",
    "VG3 = VG_pricer(S0, None, T, r, q, vg_params_mixed[0], vg_params_mixed[1], vg_params_mixed[2], exercise)\n",
    "\n",
    "print(f'CALIBRATED PARAMETERS: [σ \\t\\tθ\\t\\t v]')\n",
    "print(f'> European CALLS:\\t {vg_params_calls}')\n",
    "print(f'> OTKO DC:\\t\\t\\t {vg_params_otko}')\n",
    "print(f'> CALLS + OTKO:\\t\\t {vg_params_mixed}')\n",
    "\n",
    "vg_params_calls2 = [VG1.get_mu_p, VG1.get_mu_n, VG1.get_nu_p, VG1.get_nu_n]\n",
    "vg_params_otko2 = [VG2.get_mu_p, VG2.get_mu_n, VG2.get_nu_p, VG2.get_nu_n]\n",
    "vg_params_mixed2 = [VG3.get_mu_p, VG3.get_mu_n, VG3.get_nu_p, VG3.get_nu_n]\n",
    "\n",
    "for i in range(len(vg_params_calls2)):\n",
    "    vg_params_calls2[i] = round(vg_params_calls2[i], 3)\n",
    "    vg_params_otko2[i] = round(vg_params_otko2[i], 3)\n",
    "    vg_params_mixed2[i] = round(vg_params_mixed2[i], 3)\n",
    "\n",
    "print(f'CALIBRATED PARAMETERS: [μ_p\\t μ_n\\tv_p\\tv_n]')\n",
    "print(f'> European CALLS:\\t {vg_params_calls2}')\n",
    "print(f'> OTKO DC:\\t\\t\\t {vg_params_otko2}')\n",
    "print(f'> CALLS + OTKO:\\t\\t {vg_params_mixed2}')\n",
    "\n",
    "SVG1 = VG1.VarianceGammaPath2(days, paths)\n",
    "SVG2 = VG2.VarianceGammaPath2(days, paths)\n",
    "SVG3 = VG3.VarianceGammaPath2(days, paths)\n",
    "\n",
    "# PLOT MONTE CARLO PATHS\n",
    "fig1, axes = plt.subplots(nrows=1, ncols=3, figsize=(18,4))\n",
    "VG1.plotVGPath(SVG1, 'SPX', method='Diff of Gammas', ax=axes[0])\n",
    "VG2.plotVGPath(SVG2, 'SPX',method='Diff of Gammas', ax=axes[1])\n",
    "VG3.plotVGPath(SVG3, 'SPX', method='Diff of Gammas', ax=axes[2])\n",
    "plt.tight_layout()\n",
    "plt.show()\n",
    "\n",
    "\n",
    "# PLOT FINAL PRICE DISTRIBUTIONS\n",
    "fig2, axes = plt.subplots(nrows=1, ncols=3, figsize=(20, 6))\n",
    "VG1.plotVGAtFixedTime(SVG1, 251, 'SPX', ax = axes[0])\n",
    "VG2.plotVGAtFixedTime(SVG2, 251, 'SPX', ax = axes[1])\n",
    "VG3.plotVGAtFixedTime(SVG3, 251, 'SPX', ax = axes[2])"
   ],
   "metadata": {
    "collapsed": false,
    "is_executing": true
   }
  },
  {
   "cell_type": "code",
   "execution_count": null,
   "outputs": [],
   "source": [
    "avg_payoffs = []\n",
    "for k in calls_strikes:\n",
    "    payoffs = []        # stores here the payoff for each path, for a specific couple K1-K2\n",
    "    for St in SVG3[-1]:\n",
    "        payoffs.append(VG3.payoff_call(k, St))\n",
    "    avg_payoffs.append(np.mean(payoffs))\n",
    "\n",
    "vg_mc_prices = np.zeros(len(calls_calib_prices))\n",
    "vg_cf_prices = np.zeros(len(calls_calib_prices))\n",
    "\n",
    "for index in range(len(calls_calib_prices)):\n",
    "    vg_mc_prices[index] = np.exp(-r*T)* avg_payoffs[index]\n",
    "    vg_cf_prices[index] = VG3.closed_formula_call(calls_strikes[index])\n",
    "\n",
    "calls_calib_prices['VG MC (%)'] = vg_mc_prices\n",
    "calls_calib_prices['VG CF (%)'] = vg_cf_prices\n",
    "\n",
    "avg_payoffs = []\n",
    "for K1, K2 in otko_strikes:\n",
    "    payoffs = []        # stores here the payoff for each path, for a specific couple K1-K2\n",
    "    for path in SVG3.T:\n",
    "        payoffs.append(VG3.payoff_otko(path, K1, K2))\n",
    "    avg_payoffs.append(np.mean(payoffs))\n",
    "\n",
    "vg_mc_prices = np.zeros(len(otko_calib_prices))\n",
    "vg_cf_prices = np.zeros(len(otko_calib_prices))\n",
    "\n",
    "for index in range(len(otko_calib_prices)):\n",
    "    vg_mc_prices[index] = np.exp(-r*T)* avg_payoffs[index] * 100\n",
    "    vg_cf_prices[index] = VG3.closed_formula_otko6(otko_strikes[index][0], otko_strikes[index][1])\n",
    "\n",
    "otko_calib_prices['VG MC (%)'] = vg_mc_prices\n",
    "otko_calib_prices['VG CF (%)'] = vg_cf_prices"
   ],
   "metadata": {
    "collapsed": false,
    "is_executing": true
   }
  },
  {
   "cell_type": "code",
   "execution_count": null,
   "outputs": [],
   "source": [
    "selection1 = [0,1,2,3,8,9]\n",
    "print(f'>> CALLS\\n{calls_calib_prices.iloc[:, selection1]}')\n",
    "selection2 = [0,1,2,3,4,9,10]\n",
    "print(f'\\n>> OTKO\\n{otko_calib_prices.iloc[:, selection2]}')"
   ],
   "metadata": {
    "collapsed": false,
    "is_executing": true
   }
  },
  {
   "cell_type": "code",
   "execution_count": null,
   "outputs": [],
   "source": [],
   "metadata": {
    "collapsed": false,
    "pycharm": {
     "is_executing": true
    },
    "is_executing": true
   }
  },
  {
   "cell_type": "code",
   "execution_count": null,
   "outputs": [],
   "source": [],
   "metadata": {
    "collapsed": false,
    "is_executing": true
   }
  }
 ],
 "metadata": {
  "kernelspec": {
   "display_name": "Python 3",
   "language": "python",
   "name": "python3"
  },
  "language_info": {
   "codemirror_mode": {
    "name": "ipython",
    "version": 2
   },
   "file_extension": ".py",
   "mimetype": "text/x-python",
   "name": "python",
   "nbconvert_exporter": "python",
   "pygments_lexer": "ipython2",
   "version": "2.7.6"
  }
 },
 "nbformat": 4,
 "nbformat_minor": 0
}
