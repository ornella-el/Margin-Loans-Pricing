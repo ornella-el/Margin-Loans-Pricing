{
 "cells": [
  {
   "cell_type": "markdown",
   "source": [
    "# Calibration of model parameters\n",
    "## European puts and calls and otko daily cliquet options"
   ],
   "metadata": {
    "collapsed": false
   }
  },
  {
   "cell_type": "code",
   "execution_count": 1,
   "outputs": [],
   "source": [
    "import numpy as np\n",
    "import pandas as pd\n",
    "from datetime import datetime\n",
    "import matplotlib.pyplot as plt\n",
    "import scipy.stats as ss\n",
    "import scipy.optimize as scpo\n",
    "import sys\n",
    "sys.path.append('C:/Users\\ornel\\PycharmProjects\\Margin-Loans-Pricing/functions')\n",
    "sys.path.append('C:/Users/ornel/PycharmProjects/Margin-Loans-Pricing/calibration')\n",
    "import time\n",
    "\n",
    "from BSpricer import BS_Pricer\n",
    "from MERTONpricer import Merton_pricer\n",
    "from KOUpricer import Kou_pricer\n",
    "from VGpricer import VG_pricer"
   ],
   "metadata": {
    "collapsed": false,
    "ExecuteTime": {
     "end_time": "2023-08-31T11:08:13.702026600Z",
     "start_time": "2023-08-31T11:08:13.037336200Z"
    }
   }
  },
  {
   "cell_type": "markdown",
   "source": [
    "Let's read the dataframe of european call options. A mixed of options has been already selected in the module  `plaincalls.py`."
   ],
   "metadata": {
    "collapsed": false
   }
  },
  {
   "cell_type": "code",
   "execution_count": 2,
   "outputs": [
    {
     "name": "stdout",
     "output_type": "stream",
     "text": [
      "   QUOTE_DATE  UNDERLYING_LAST EXPIRE_DATE  C_BID  C_ASK  STRIKE     C_IV  \\\n",
      "0  2016-01-20            96.79  2017-01-20  25.10  25.50    75.0  0.32883   \n",
      "1  2016-01-20            96.79  2017-01-20  16.75  17.05    87.5  0.31782   \n",
      "2  2016-01-20            96.79  2017-01-20  11.55  11.70    97.5  0.30928   \n",
      "3  2016-01-20            96.79  2017-01-20   8.45   8.61   105.0  0.30361   \n",
      "4  2016-01-20            96.79  2017-01-20   4.15   4.24   120.0  0.29087   \n",
      "\n",
      "   MONEYNESS  \n",
      "0       0.77  \n",
      "1       0.90  \n",
      "2       1.01  \n",
      "3       1.08  \n",
      "4       1.24  \n"
     ]
    }
   ],
   "source": [
    "calls_spx = pd.read_csv('../../data/AAPL/OPT16_AAPL_CALLS_50_150.csv')\n",
    "moneyness = [0.77, 0.90, 1.01, 1.08, 1.24]\n",
    "cond = calls_spx['MONEYNESS'].isin(moneyness)\n",
    "calls = calls_spx[cond].copy()\n",
    "calls.reset_index(drop=True, inplace=True)\n",
    "print(calls)"
   ],
   "metadata": {
    "collapsed": false,
    "ExecuteTime": {
     "end_time": "2023-08-31T11:08:13.742784700Z",
     "start_time": "2023-08-31T11:08:13.709645500Z"
    }
   }
  },
  {
   "cell_type": "markdown",
   "source": [
    "Let's initialize the values for our calibration."
   ],
   "metadata": {
    "collapsed": false
   }
  },
  {
   "cell_type": "code",
   "execution_count": 3,
   "outputs": [
    {
     "name": "stdout",
     "output_type": "stream",
     "text": [
      "0      6.250000\n",
      "1     11.111111\n",
      "2     44.444444\n",
      "3     39.062500\n",
      "4    123.456790\n",
      "Name: C_Spread, dtype: float64\n"
     ]
    }
   ],
   "source": [
    "calls['C_Midpoint'] = abs(calls['C_BID'] + calls['C_ASK']) / 2\n",
    "calls['C_Spread'] = calls['C_BID'] - calls['C_ASK']\n",
    "\n",
    "q = 0           # dividend yield\n",
    "r = 0.03        # risk-free interest rate\n",
    "S0 = calls.iloc[0]['UNDERLYING_LAST']\n",
    "T = 1           # time-to-maturity\n",
    "exercise = 'european'\n",
    "\n",
    "calls_strikes = calls['STRIKE']    # array of K for call options\n",
    "calls_prices = calls['C_Midpoint']\n",
    "calls_spreads = calls['C_Spread']\n",
    "calls_weights = 1/calls_spreads**2\n",
    "print(calls_weights)"
   ],
   "metadata": {
    "collapsed": false,
    "ExecuteTime": {
     "end_time": "2023-08-31T11:08:13.773422500Z",
     "start_time": "2023-08-31T11:08:13.734320300Z"
    }
   }
  },
  {
   "cell_type": "markdown",
   "source": [
    "Then, we create the objects of the classes that develop the desired models. We initialize them with the parameters calibrated on calls prices."
   ],
   "metadata": {
    "collapsed": false
   }
  },
  {
   "cell_type": "code",
   "execution_count": 4,
   "outputs": [
    {
     "name": "stdout",
     "output_type": "stream",
     "text": [
      "no stored variable or alias calls_kou_params_aapl\n",
      "no stored variable or alias calls_vg_params_aapl\n"
     ]
    }
   ],
   "source": [
    "%store -r calls_bs_params_aapl\n",
    "%store -r calls_mert_params_aapl\n",
    "%store -r calls_kou_params_aapl\n",
    "%store -r calls_vg_params_aapl\n",
    "\n",
    "%store -r otko_mert_params_aapl\n",
    "%store -r otko_kou_params_aapl\n",
    "%store -r otko_vg_params_aapl"
   ],
   "metadata": {
    "collapsed": false,
    "ExecuteTime": {
     "end_time": "2023-08-31T11:08:13.773422500Z",
     "start_time": "2023-08-31T11:08:13.758812700Z"
    }
   }
  },
  {
   "cell_type": "code",
   "execution_count": 5,
   "outputs": [
    {
     "ename": "NameError",
     "evalue": "name 'calls_kou_params_aapl' is not defined",
     "output_type": "error",
     "traceback": [
      "\u001B[1;31m---------------------------------------------------------------------------\u001B[0m",
      "\u001B[1;31mNameError\u001B[0m                                 Traceback (most recent call last)",
      "Cell \u001B[1;32mIn[5], line 6\u001B[0m\n\u001B[0;32m      3\u001B[0m m_params_calls \u001B[38;5;241m=\u001B[39m calls_mert_params_aapl\n\u001B[0;32m      4\u001B[0m m_params_otko \u001B[38;5;241m=\u001B[39m otko_mert_params_aapl\n\u001B[1;32m----> 6\u001B[0m k_params_calls \u001B[38;5;241m=\u001B[39m \u001B[43mcalls_kou_params_aapl\u001B[49m\n\u001B[0;32m      7\u001B[0m k_params_otko \u001B[38;5;241m=\u001B[39m otko_kou_params_aapl\n\u001B[0;32m      9\u001B[0m vg_params_calls \u001B[38;5;241m=\u001B[39m calls_vg_params_aapl\n",
      "\u001B[1;31mNameError\u001B[0m: name 'calls_kou_params_aapl' is not defined"
     ]
    }
   ],
   "source": [
    "bs_param = calls_bs_params_aapl\n",
    "\n",
    "m_params_calls = calls_mert_params_aapl\n",
    "m_params_otko = otko_mert_params_aapl\n",
    "\n",
    "k_params_calls = calls_kou_params_aapl\n",
    "k_params_otko = otko_kou_params_aapl\n",
    "\n",
    "vg_params_calls = calls_vg_params_aapl\n",
    "vg_params_otko = otko_vg_params_aapl"
   ],
   "metadata": {
    "collapsed": false,
    "ExecuteTime": {
     "end_time": "2023-08-31T11:08:14.909262400Z",
     "start_time": "2023-08-31T11:08:13.771493400Z"
    }
   }
  },
  {
   "cell_type": "code",
   "execution_count": null,
   "outputs": [],
   "source": [
    "\n",
    "BS = BS_Pricer(S0=S0, r=r, q = q, sigma=bs_param, ttm=T, exercise=exercise, K=None)\n",
    "\n",
    "sigma, lambd, meanJ, stdJ = m_params_calls\n",
    "Merton = Merton_pricer(S0, None, T, r, q, sigma, lambd, meanJ, stdJ, exercise=exercise)\n",
    "\n",
    "sigma, lambd, p, eta1, eta2 = k_params_calls\n",
    "Kou = Kou_pricer(S0, None, T, r, sigma, lambd, p, eta1, eta2, exercise=exercise)\n",
    "\n",
    "sigma, theta, nu = vg_params_calls\n",
    "VG = VG_pricer(S0, None, T, r, q, sigma, theta, nu, exercise=exercise)"
   ],
   "metadata": {
    "collapsed": false,
    "ExecuteTime": {
     "end_time": "2023-08-31T11:08:14.915322900Z",
     "start_time": "2023-08-31T11:08:14.915322900Z"
    }
   }
  },
  {
   "cell_type": "code",
   "execution_count": null,
   "outputs": [],
   "source": [
    "def implied_volatility(price, S, strike, t, rate, q, type_o, method='fsolve', disp=True):\n",
    "\n",
    "    def obj_fun(vol):\n",
    "        return BS.BlackScholes(type_o=type_o, S0=S, K=strike, ttm=t, r=rate, q=q, sigma=vol) - price\n",
    "\n",
    "    def vega(vol):\n",
    "        return BS.vega(S, strike, rate, q, vol, t)\n",
    "\n",
    "    if method =='fsolve':\n",
    "        X0 = [0.01, 0.2, 0.35, 7]        #initial guess points for imp.vol.\n",
    "        for x_0 in X0:\n",
    "            x, _, solved, _ = scpo.fsolve(obj_fun, x_0, full_output=True, xtol=1e-8)\n",
    "            if solved == 1:\n",
    "                return x[0]\n",
    "\n",
    "    if method == 'newton':\n",
    "        guess = 0.2\n",
    "        result = scpo.newton(obj_fun, guess, vega, tol=1e-4)\n",
    "        return result\n",
    "\n",
    "    if disp:\n",
    "        return -1"
   ],
   "metadata": {
    "collapsed": false,
    "ExecuteTime": {
     "start_time": "2023-08-31T11:08:14.915322900Z"
    }
   }
  },
  {
   "cell_type": "code",
   "execution_count": null,
   "outputs": [],
   "source": [
    "IV_market = []\n",
    "print(calls_prices)\n",
    "for i in range(len(calls_prices)):\n",
    "    IV_market.append(\n",
    "        implied_volatility(calls_prices[i], S=S0, strike=calls_strikes[i], t=T, rate=0.026, q=0.02, type_o='call',\n",
    "                           method='fsolve'))\n",
    "\n",
    "print(f'Implied volatilities of market prices (calls):\\nS0 = {S0}')\n",
    "for a, b in zip(calls_strikes, IV_market):\n",
    "    print(f'K = {a}, IV = {round(b, 4)}')\n"
   ],
   "metadata": {
    "collapsed": false,
    "ExecuteTime": {
     "end_time": "2023-08-31T11:08:14.925337Z",
     "start_time": "2023-08-31T11:08:14.915322900Z"
    }
   }
  },
  {
   "cell_type": "code",
   "execution_count": null,
   "outputs": [],
   "source": [
    "# Plot market implied volatilities w.r.t. log moneyness\n",
    "x = (calls_strikes/S0)\n",
    "# IV_filtered = [iv for iv in IV_market_p if iv != -1]\n",
    "# x_filtered = [log_m for iv, log_m in zip(IV_market_p, x) if iv != -1]\n",
    "IV_filtered = [iv for iv in IV_market if iv != -1]\n",
    "x_filtered = [log_m for iv, log_m in zip(IV_market, x) if iv != -1]\n",
    "\n",
    "fig, ax1 = plt.subplots(figsize=(10,5))\n",
    "\n",
    "#CALLS\n",
    "ax1.scatter(x, IV_market, marker='x', label='BS inversion', color='red')\n",
    "ax1.scatter(x, calls['C_IV'], marker='.', label='provided')\n",
    "\n",
    "ax1.set_xlabel('Moneyness: K/S0'); ax1.set_ylabel('Implied Volatility'); ax1.set_title('CALLS volatility smile')\n",
    "\n",
    "ax1.legend(); plt.show()\n"
   ],
   "metadata": {
    "collapsed": false,
    "ExecuteTime": {
     "start_time": "2023-08-31T11:08:14.925337Z"
    }
   }
  },
  {
   "cell_type": "code",
   "execution_count": null,
   "metadata": {
    "collapsed": true,
    "ExecuteTime": {
     "start_time": "2023-08-31T11:08:14.925337Z"
    }
   },
   "outputs": [],
   "source": [
    "otko_aapl = pd.read_csv('../../data/AAPL/aapl_otko_1year.csv')\n",
    "scale_factors = {\n",
    "    'AAPL': 7.84,\n",
    "    'META': 6.23,\n",
    "    'TSLA': 10.35,\n",
    "    'NVDA': 10.7\n",
    "}\n",
    "\n",
    "th_prices = pd.DataFrame({\n",
    "    'K1': otko_aapl['K1'],\n",
    "    'K2': otko_aapl['K2'],\n",
    "    'Midpoint (%)': otko_aapl['Midpoint(%)']\n",
    "})\n",
    "print(otko_aapl)\n",
    "th_mc_prices = pd.DataFrame({})\n",
    "th_cf_prices = pd.DataFrame({})\n",
    "\n",
    "otko_strikes = otko_aapl[['K1', 'K2']].values / 100\n",
    "otko_spreads =  otko_aapl['ASK(%)'] - otko_aapl['BID(%)']\n",
    "otko_weights = 1/(otko_spreads) **2\n",
    "otko_mkt_prices = otko_aapl['Midpoint(%)'].values"
   ]
  },
  {
   "cell_type": "markdown",
   "source": [
    "### Option pricing calibration on the full set of options"
   ],
   "metadata": {
    "collapsed": false
   }
  },
  {
   "cell_type": "markdown",
   "source": [
    "#### Merton Jump Diffusion model"
   ],
   "metadata": {
    "collapsed": false
   }
  },
  {
   "cell_type": "code",
   "execution_count": null,
   "outputs": [],
   "source": [
    "x0 = [0.25, 1, -0.05, 1.2]    # initial guess: [σ, λ, m, v]\n",
    "bounds = ( [1e-3, 0, -2, 0], [1, 5, 4, 5] )\n",
    "\n",
    "def cost_function(x, c_strikes, c_mkt_prices, o_strikes, o_mkt_prices):\n",
    "    sigma, lambd, meanJ, stdJ = x\n",
    "    M = Merton_pricer(S0, None, T, r, q, sigma, lambd, meanJ, stdJ, exercise)\n",
    "    #sq_err = np.sum( calls_weights*(M.closed_formula_call(c_strikes) - c_mkt_prices)**2)\n",
    "    sq_err = np.sum( (M.closed_formula_call(c_strikes) - c_mkt_prices)**2)\n",
    "\n",
    "    for k in range(len(o_strikes)):\n",
    "        #sq_err +=  otko_weights[k]*(M.closed_formula_otko(o_strikes[k][0], o_strikes[k][1]) - o_mkt_prices[k])**2\n",
    "        sq_err +=  (M.closed_formula_otko(o_strikes[k][0], o_strikes[k][1]) - o_mkt_prices[k])**2\n",
    "    return sq_err\n",
    "\n",
    "start = time.time()\n",
    "mert = scpo.least_squares(cost_function, x0, args=(calls_strikes, calls_prices, otko_strikes, otko_mkt_prices), bounds=bounds, method = 'trf', verbose=2)\n",
    "end = time.time()\n",
    "\n",
    "mert_params_calibrated = [round(p,4) for p in mert.x[:4]]"
   ],
   "metadata": {
    "collapsed": false,
    "ExecuteTime": {
     "start_time": "2023-08-31T11:08:14.925337Z"
    }
   }
  },
  {
   "cell_type": "code",
   "execution_count": null,
   "outputs": [],
   "source": [
    "print('\\nMETHOD: LEAST SQUARES (trf)')\n",
    "print(f'> Calibrated Volatlity [σ] = {mert_params_calibrated[0]} \\t {round(mert_params_calibrated[0]*100,2)}%')\n",
    "print('> Calibrated Jump intensity [λ] = ', round(mert_params_calibrated[1],2))\n",
    "print('> Calibrated Jump Mean = ', round(mert_params_calibrated[2],3))\n",
    "print('> Calibrated Jump St. dev.  = ', round(mert_params_calibrated[3],3))\n",
    "print(f'TIME ELAPSED:  {round(end-start,2)} sec')"
   ],
   "metadata": {
    "collapsed": false,
    "ExecuteTime": {
     "end_time": "2023-08-31T11:08:14.940979100Z",
     "start_time": "2023-08-31T11:08:14.925337Z"
    }
   }
  },
  {
   "cell_type": "code",
   "execution_count": null,
   "outputs": [],
   "source": [
    "print(mert_params_calibrated)\n",
    "calls_otko_mert_params_aapl = mert_params_calibrated\n",
    "m_params_mixed = mert_params_calibrated\n",
    "%store calls_otko_mert_params_aapl"
   ],
   "metadata": {
    "collapsed": false,
    "ExecuteTime": {
     "start_time": "2023-08-31T11:08:14.940979100Z"
    }
   }
  },
  {
   "cell_type": "markdown",
   "source": [
    "#### Kou Jump Diffusion Model"
   ],
   "metadata": {
    "collapsed": false
   }
  },
  {
   "cell_type": "code",
   "execution_count": null,
   "outputs": [],
   "source": [
    "x0 = [0.24, 1.5, 0.5, 7.5, 5]   # initial guess: [σ, λ, p, η_1, η_2]\n",
    "# x0 =[0.1447, 0.9, 0.7, 2.5685, 7.75]\n",
    "bounds = ( [1e-2, 1e-2, 0, 0, 0], [1, 5, 0.999,  15, 20] )\n",
    "\n",
    "# Define the objective function\n",
    "def cost_function(x, c_strikes, c_mkt_prices, o_strikes, o_mkt_prices):\n",
    "    sigm, lamb, p, eta1, eta2 = x\n",
    "    KOU = Kou_pricer(S0=S0, K=c_strikes, ttm=T, r=r, sigma=sigm, lambd=lamb, p=p, eta1=eta1, eta2=eta2, exercise=exercise)\n",
    "    #sq_err = np.sum(calls_weights*(KOU.closed_formula_call(c_strikes) - c_mkt_prices) ** 2)\n",
    "    sq_err = np.sum((KOU.closed_formula_call(c_strikes) - c_mkt_prices) ** 2)\n",
    "    for k in range(len(o_strikes)):\n",
    "        sq_err += (KOU.closed_formula_otko(o_strikes[k][0], o_strikes[k][1]) - o_mkt_prices[k]) ** 2\n",
    "    return sq_err\n",
    "\n",
    "start2=time.time()\n",
    "kou = scpo.least_squares(cost_function, x0, args=(calls_strikes, calls_prices, otko_strikes, otko_mkt_prices),  method='trf', bounds=bounds, ftol=1e-7, verbose=2)\n",
    "end2 =time.time()"
   ],
   "metadata": {
    "collapsed": false,
    "ExecuteTime": {
     "start_time": "2023-08-31T11:08:14.940979100Z"
    }
   }
  },
  {
   "cell_type": "code",
   "execution_count": null,
   "outputs": [],
   "source": [
    "kou_params_calibrated = [round(p,4) for p in kou.x[:5]]"
   ],
   "metadata": {
    "collapsed": false,
    "ExecuteTime": {
     "start_time": "2023-08-31T11:08:14.940979100Z"
    }
   }
  },
  {
   "cell_type": "code",
   "execution_count": null,
   "outputs": [],
   "source": [
    "print('METHOD 2: Least-squares')\n",
    "print(f'> Calibrated Volatlity [σ] = {round(kou_params_calibrated[0],4)} \\t {round(kou_params_calibrated[0]*100,2)}%')\n",
    "#print(f'> Calibrated Volatlity [σ] = 0.132 \\t 13.2%')\n",
    "print('> Calibrated Jump intensity [λ] = ', round(kou_params_calibrated[1],2))\n",
    "print(f'> Calibrated Upward Jump probability [p] = {round(kou_params_calibrated[2],2)}, [q] = {round(1-kou_params_calibrated[2],2)}')\n",
    "print('> Calibrated Rate of Exp. 1  [η_1] = ', round(kou_params_calibrated[3],2))\n",
    "print('> Calibrated Rate of Exp. 2  [η_2] = ', round(kou_params_calibrated[4],2))\n",
    "print(f'TIME ELAPSED:  {round(end2-start2,2)} sec')"
   ],
   "metadata": {
    "collapsed": false,
    "ExecuteTime": {
     "start_time": "2023-08-31T11:08:14.940979100Z"
    }
   }
  },
  {
   "cell_type": "code",
   "execution_count": null,
   "outputs": [],
   "source": [
    "print(kou_params_calibrated)\n",
    "calls_otko_kou_params_aapl = kou_params_calibrated\n",
    "k_params_mixed = kou_params_calibrated\n",
    "%store calls_otko_kou_params_aapl"
   ],
   "metadata": {
    "collapsed": false,
    "ExecuteTime": {
     "start_time": "2023-08-31T11:08:14.956600200Z"
    }
   }
  },
  {
   "cell_type": "markdown",
   "source": [
    "#### Variance gamma model"
   ],
   "metadata": {
    "collapsed": false
   }
  },
  {
   "cell_type": "code",
   "execution_count": null,
   "outputs": [],
   "source": [
    "x0 = [0.25, -0.05, 1.2]\n",
    "bounds = ( [1e-3, -3, 0], [3, 2, 10] )\n",
    "\n",
    "def cost_function(x, c_strikes, c_mkt_prices, o_strikes, o_mkt_prices):\n",
    "    sigma, theta, nu = x\n",
    "    VG = VG_pricer(S0, None, T, r, q, sigma, theta, nu, exercise)\n",
    "    prices = []\n",
    "    for k in c_strikes:\n",
    "        prices.append(VG.closed_formula_call(k))\n",
    "    #sq_err = np.sum(calls_weights*(prices - c_mkt_prices)**2)\n",
    "    sq_err = np.sum((prices - c_mkt_prices)**2)\n",
    "    for k in range(len(o_strikes)):\n",
    "        sq_err += (VG.closed_formula_otko8(o_strikes[k][0], o_strikes[k][1]) - o_mkt_prices[k]) ** 2\n",
    "        #sq_err += otko_weights[k]* (VG.closed_formula_otko5(o_strikes[k][0], o_strikes[k][1]) - o_mkt_prices[k]) ** 2\n",
    "    return sq_err\n",
    "\n",
    "start3=time.time()\n",
    "vg = scpo.least_squares(cost_function, x0, args=(calls_strikes, calls_prices, otko_strikes, otko_mkt_prices),  method='trf', bounds=bounds, verbose=2, tr_solver='exact', max_nfev=400)\n",
    "end3=time.time()\n",
    "\n",
    "vg_params_calibrated = [round(p,4) for p in vg.x[:3]]"
   ],
   "metadata": {
    "collapsed": false,
    "ExecuteTime": {
     "end_time": "2023-08-31T11:08:14.968097500Z",
     "start_time": "2023-08-31T11:08:14.956600200Z"
    }
   }
  },
  {
   "cell_type": "code",
   "execution_count": null,
   "outputs": [],
   "source": [
    "print('METHOD: LEAST-SQUARES (trf)')\n",
    "print(f'> Calibrated Volatility [σ] = {vg_params_calibrated[0]}, \\t {round(vg_params_calibrated[0]*100,2)}%')\n",
    "print('> Calibrated mean rate gamma process [θ] = ', vg_params_calibrated[1])\n",
    "print('> Calibrated variance rate gamma process [v]= ', vg_params_calibrated[2])\n",
    "print(f'TIME ELAPSED:  {round(end3-start3,2)} sec')"
   ],
   "metadata": {
    "collapsed": false,
    "ExecuteTime": {
     "start_time": "2023-08-31T11:08:14.956600200Z"
    }
   }
  },
  {
   "cell_type": "code",
   "execution_count": null,
   "outputs": [],
   "source": [
    "print(vg_params_calibrated)\n",
    "calls_otko_vg_params_aapl = vg_params_calibrated\n",
    "vg_params_mixed = vg_params_calibrated\n",
    "%store calls_otko_vg_params_aapl"
   ],
   "metadata": {
    "collapsed": false,
    "ExecuteTime": {
     "start_time": "2023-08-31T11:08:14.956600200Z"
    }
   }
  },
  {
   "cell_type": "markdown",
   "source": [
    "### RESULTS FROM CALIBRATION\n",
    "This section aims to reprice the options used for calibration. On this purpose, both calls and otko prices obtained by each model are compared to the original market prices, starting point of our calibration process."
   ],
   "metadata": {
    "collapsed": false
   }
  },
  {
   "cell_type": "code",
   "execution_count": null,
   "outputs": [],
   "source": [
    "days = 252\n",
    "paths = 5000\n",
    "\n",
    "#CALLS PRICES\n",
    "calls_calib_prices = pd.DataFrame({\n",
    "    'STRIKE': calls['STRIKE'],    # array of K for call options\n",
    "    'MKT_BID': calls['C_BID'],\n",
    "    'MKT_MID': calls['C_Midpoint'],\n",
    "    'MKT_ASK': calls['C_ASK'],\n",
    "\n",
    "})\n",
    "print(f'MARKET PRICES. STARTING DATE = 20-01-2016. EXPIRY = 1YEAR. \\n{calls_calib_prices}\\n')\n",
    "\n",
    "# OTKO PRICES\n",
    "otko_calib_prices = pd.DataFrame({\n",
    "    'K1': otko_aapl['K1'],\n",
    "    'K2': otko_aapl['K2'],\n",
    "    'MKT_BID (%)': otko_aapl['BID(%)'],\n",
    "    'MKT_MID (%)': otko_aapl['Midpoint(%)'],\n",
    "    'MKT_ASK (%)': otko_aapl['ASK(%)']\n",
    "})\n",
    "print(f'MARKET PRICES. STARTING DATE = 20-01-2016. EXPIRY = 1YEAR. \\n{otko_calib_prices}')"
   ],
   "metadata": {
    "collapsed": false,
    "ExecuteTime": {
     "start_time": "2023-08-31T11:08:14.956600200Z"
    }
   }
  },
  {
   "cell_type": "markdown",
   "source": [
    "\n",
    "#### Merton Jump Diffusion"
   ],
   "metadata": {
    "collapsed": false
   }
  },
  {
   "cell_type": "code",
   "execution_count": null,
   "outputs": [],
   "source": [
    "print(f'CALIBRATED PARAMETERS [σ\\t\\tλ\\t\\tm\\t\\tv]')\n",
    "print(f'> European CALLS:\\t {m_params_calls}')\n",
    "print(f'> OTKO DC:\\t\\t\\t {m_params_otko}')\n",
    "print(f'> CALLS + OTKO:\\t\\t {m_params_mixed}')\n",
    "\n",
    "\n",
    "Merton1 = Merton_pricer(S0, None, T, r, q, m_params_calls[0], m_params_calls[1], m_params_calls[2], m_params_calls[3], exercise)\n",
    "Merton2 = Merton_pricer(S0, None, T, r, q, m_params_otko[0], m_params_otko[1], m_params_otko[2], m_params_otko[3], exercise)\n",
    "Merton3 = Merton_pricer(S0, None, T, r, q, m_params_mixed[0], m_params_mixed[1], m_params_mixed[2], m_params_mixed[3], exercise)\n",
    "\n",
    "SMerton1 = Merton1.MertonPath(days, paths)\n",
    "SMerton2 = Merton2.MertonPath(days, paths)\n",
    "SMerton3 = Merton3.MertonPath(days, paths)\n",
    "\n",
    "# PLOT MONTE CARLO PATHS\n",
    "fig1, axes = plt.subplots(nrows=1, ncols=3, figsize=(18,4))\n",
    "Merton1.plotMertonPath(SMerton1, 'SPX', ax=axes[0])\n",
    "Merton2.plotMertonPath(SMerton2, 'SPX', ax=axes[1])\n",
    "Merton3.plotMertonPath(SMerton3, 'SPX', ax=axes[2])\n",
    "plt.show()\n",
    "\n",
    "# PLOT FINAL PRICE DISTRIBUTIONS\n",
    "fig2, axes = plt.subplots(nrows=1, ncols=3, figsize=(20, 6))\n",
    "Merton1.plotMertonAtFixedTime(SMerton1, days-1, 'SPX', ax = axes[0])\n",
    "Merton2.plotMertonAtFixedTime(SMerton2, days-1, 'SPX', ax = axes[1])\n",
    "Merton3.plotMertonAtFixedTime(SMerton3, days-1, 'SPX', ax = axes[2])"
   ],
   "metadata": {
    "collapsed": false,
    "ExecuteTime": {
     "end_time": "2023-08-31T11:08:15.015358400Z",
     "start_time": "2023-08-31T11:08:14.968097500Z"
    }
   }
  },
  {
   "cell_type": "markdown",
   "source": [
    "Then we show our options priced by the Merton model, using the parameters calibrated on the full set of European calls and One Touch Knockout Daily Cliquets."
   ],
   "metadata": {
    "collapsed": false
   }
  },
  {
   "cell_type": "code",
   "execution_count": null,
   "outputs": [],
   "source": [
    "avg_payoffs = []\n",
    "for k in calls_strikes:\n",
    "    payoffs = []        # stores here the payoff for each path, for a specific couple K1-K2\n",
    "    for St in SMerton3[-1]:\n",
    "        payoffs.append(Merton3.payoff_call(k, St))\n",
    "    avg_payoffs.append(np.mean(payoffs))\n",
    "\n",
    "merton_mc_prices = np.zeros(len(calls_calib_prices))\n",
    "merton_cf_prices = np.zeros(len(calls_calib_prices))\n",
    "\n",
    "for index in range(len(calls_calib_prices)):\n",
    "    merton_mc_prices[index] = np.exp(-r*T)* avg_payoffs[index]\n",
    "    merton_cf_prices[index] = Merton3.closed_formula_call(calls_strikes[index])\n",
    "\n",
    "calls_calib_prices['MERTON MC (%)'] = merton_mc_prices\n",
    "calls_calib_prices['MERTON CF (%)'] = merton_cf_prices\n",
    "\n",
    "avg_payoffs = []\n",
    "for K1, K2 in otko_strikes:\n",
    "    payoffs = []        # stores here the payoff for each path, for a specific couple K1-K2\n",
    "    for path in SMerton3.T:\n",
    "        payoffs.append(Merton3.payoff_otko(path, K1, K2))\n",
    "    avg_payoffs.append(np.mean(payoffs))\n",
    "\n",
    "merton_mc_prices = np.zeros(len(otko_calib_prices))\n",
    "merton_cf_prices = np.zeros(len(otko_calib_prices))\n",
    "\n",
    "for index in range(len(otko_calib_prices)):\n",
    "    merton_mc_prices[index] = np.exp(-r*T)* avg_payoffs[index] * 100\n",
    "    merton_cf_prices[index] = Merton3.closed_formula_otko(otko_strikes[index][0], otko_strikes[index][1])\n",
    "\n",
    "otko_calib_prices['MERTON MC (%)'] = merton_mc_prices\n",
    "otko_calib_prices['MERTON CF (%)'] = merton_cf_prices\n",
    "\n",
    "print(calls_calib_prices)\n",
    "print('\\n')\n",
    "print(otko_calib_prices)"
   ],
   "metadata": {
    "collapsed": false,
    "ExecuteTime": {
     "start_time": "2023-08-31T11:08:14.968097500Z"
    }
   }
  },
  {
   "cell_type": "markdown",
   "source": [
    "### Kou Jump Diffusion"
   ],
   "metadata": {
    "collapsed": false
   }
  },
  {
   "cell_type": "code",
   "execution_count": null,
   "outputs": [],
   "source": [
    "print(f'CALIBRATED PARAMETERS: [σ\\t\\tλ\\t\\tp\\t\\tη1\\t\\tη2]')\n",
    "print(f'> European CALLS:\\t {k_params_calls}')\n",
    "print(f'> OTKO DC:\\t\\t\\t {k_params_otko}')\n",
    "print(f'> CALLS + OTKO:\\t\\t {k_params_mixed}')\n",
    "\n",
    "Kou1 = Kou_pricer(S0, None, T, r, k_params_calls[0], k_params_calls[1], k_params_calls[2], k_params_calls[3], k_params_calls[4], exercise)\n",
    "Kou2 = Kou_pricer(S0, None, T, r, k_params_otko[0], k_params_otko[1], k_params_otko[2], k_params_otko[3], k_params_otko[4], exercise)\n",
    "Kou3 = Kou_pricer(S0, None, T, r, k_params_mixed[0], k_params_mixed[1], k_params_mixed[2], k_params_mixed[3], k_params_mixed[4], exercise)\n",
    "\n",
    "SKou1 = Kou1.KouPath(days, paths)\n",
    "SKou2 = Kou2.KouPath(days, paths)\n",
    "SKou3 = Kou3.KouPath(days, paths)\n",
    "\n",
    "# PLOT MONTE CARLO PATHS\n",
    "fig1, axes = plt.subplots(nrows=1, ncols=3, figsize=(18,4))\n",
    "Kou1.plotKouPath(SKou1, 'SPX', ax=axes[0])\n",
    "Kou2.plotKouPath(SKou2, 'SPX', ax=axes[1])\n",
    "Kou3.plotKouPath(SKou3, 'SPX', ax=axes[2])\n",
    "plt.show()\n",
    "\n",
    "# PLOT FINAL PRICE DISTRIBUTIONS\n",
    "fig2, axes = plt.subplots(nrows=1, ncols=3, figsize=(20, 6))\n",
    "Kou1.plotKouAtFixedTime(SKou1, -1, 'SPX', ax = axes[0])\n",
    "Kou2.plotKouAtFixedTime(SKou2, -1, 'SPX', ax = axes[1])\n",
    "Kou3.plotKouAtFixedTime(SKou3, -1, 'SPX', ax = axes[2])"
   ],
   "metadata": {
    "collapsed": false,
    "ExecuteTime": {
     "start_time": "2023-08-31T11:08:14.968097500Z"
    }
   }
  },
  {
   "cell_type": "markdown",
   "source": [
    "Compute the otko final prices for Kou model"
   ],
   "metadata": {
    "collapsed": false
   }
  },
  {
   "cell_type": "code",
   "execution_count": null,
   "outputs": [],
   "source": [
    "avg_payoffs = []\n",
    "for k in calls_strikes:\n",
    "    payoffs = []        # stores here the payoff for each path, for a specific couple K1-K2\n",
    "    for St in SKou3[-1]:\n",
    "        payoffs.append(Kou3.payoff_call(k, St))\n",
    "    avg_payoffs.append(np.mean(payoffs))\n",
    "\n",
    "kou_mc_prices = np.zeros(len(calls_calib_prices))\n",
    "kou_cf_prices = np.zeros(len(calls_calib_prices))\n",
    "\n",
    "for index in range(len(calls_calib_prices)):\n",
    "    kou_mc_prices[index] = np.exp(-r*T)* avg_payoffs[index]\n",
    "    kou_cf_prices[index] = Kou3.closed_formula_call(calls_strikes[index])\n",
    "\n",
    "calls_calib_prices['KOU MC (%)'] = kou_mc_prices\n",
    "calls_calib_prices['KOU CF (%)'] = kou_cf_prices\n",
    "\n",
    "avg_payoffs = []\n",
    "for K1, K2 in otko_strikes:\n",
    "    payoffs = []        # stores here the payoff for each path, for a specific couple K1-K2\n",
    "    for path in SKou3.T:\n",
    "        payoffs.append(Kou3.payoff_otko(path, K1, K2))\n",
    "    avg_payoffs.append(np.mean(payoffs))\n",
    "\n",
    "kou_mc_prices = np.zeros(len(otko_calib_prices))\n",
    "kou_cf_prices = np.zeros(len(otko_calib_prices))\n",
    "\n",
    "for index in range(len(otko_calib_prices)):\n",
    "    kou_mc_prices[index] = np.exp(-r*T)* avg_payoffs[index] * 100\n",
    "    kou_cf_prices[index] = Kou3.closed_formula_otko(otko_strikes[index][0], otko_strikes[index][1])\n",
    "\n",
    "otko_calib_prices['KOU MC (%)'] = kou_mc_prices\n",
    "otko_calib_prices['KOU CF (%)'] = kou_cf_prices"
   ],
   "metadata": {
    "collapsed": false,
    "ExecuteTime": {
     "start_time": "2023-08-31T11:08:15.005845700Z"
    }
   }
  },
  {
   "cell_type": "code",
   "execution_count": null,
   "outputs": [],
   "source": [
    "selection1 = [0,1,2,3,6,7]\n",
    "print(f'>> CALLS\\n{calls_calib_prices.iloc[:, selection1]}')\n",
    "selection2 = [0,1,2,3,4,7,8]\n",
    "print(f'\\n>> OTKO\\n{otko_calib_prices.iloc[:, selection2]}')"
   ],
   "metadata": {
    "collapsed": false,
    "ExecuteTime": {
     "start_time": "2023-08-31T11:08:15.005845700Z"
    }
   }
  },
  {
   "cell_type": "markdown",
   "source": [
    "#### Variance Gamma model"
   ],
   "metadata": {
    "collapsed": false
   }
  },
  {
   "cell_type": "code",
   "execution_count": null,
   "outputs": [],
   "source": [
    "VG1 = VG_pricer(S0, None, T, r, q, vg_params_calls[0], vg_params_calls[1], vg_params_calls[2],  exercise)\n",
    "VG2 = VG_pricer(S0, None, T, r, q, vg_params_otko[0], vg_params_otko[1], vg_params_otko[2], exercise)\n",
    "VG3 = VG_pricer(S0, None, T, r, q, vg_params_mixed[0], vg_params_mixed[1], vg_params_mixed[2], exercise)\n",
    "\n",
    "print(f'CALIBRATED PARAMETERS: [σ \\t\\tθ\\t\\t v]')\n",
    "print(f'> European CALLS:\\t {vg_params_calls}')\n",
    "print(f'> OTKO DC:\\t\\t\\t {vg_params_otko}')\n",
    "print(f'> CALLS + OTKO:\\t\\t {vg_params_mixed}')\n",
    "\n",
    "vg_params_calls2 = [VG1.get_mu_p, VG1.get_mu_n, VG1.get_nu_p, VG1.get_nu_n]\n",
    "vg_params_otko2 = [VG2.get_mu_p, VG2.get_mu_n, VG2.get_nu_p, VG2.get_nu_n]\n",
    "vg_params_mixed2 = [VG3.get_mu_p, VG3.get_mu_n, VG3.get_nu_p, VG3.get_nu_n]\n",
    "\n",
    "for i in range(len(vg_params_calls2)):\n",
    "    vg_params_calls2[i] = round(vg_params_calls2[i], 3)\n",
    "    vg_params_otko2[i] = round(vg_params_otko2[i], 3)\n",
    "    vg_params_mixed2[i] = round(vg_params_mixed2[i], 3)\n",
    "\n",
    "print(f'CALIBRATED PARAMETERS: [μ_p\\t μ_n\\tv_p\\tv_n]')\n",
    "print(f'> European CALLS:\\t {vg_params_calls2}')\n",
    "print(f'> OTKO DC:\\t\\t\\t {vg_params_otko2}')\n",
    "print(f'> CALLS + OTKO:\\t\\t {vg_params_mixed2}')\n",
    "\n",
    "SVG1 = VG1.VarianceGammaPath2(days, paths)\n",
    "SVG2 = VG2.VarianceGammaPath2(days, paths)\n",
    "SVG3 = VG3.VarianceGammaPath2(days, paths)\n",
    "\n",
    "# PLOT MONTE CARLO PATHS\n",
    "fig1, axes = plt.subplots(nrows=1, ncols=3, figsize=(18,4))\n",
    "VG1.plotVGPath(SVG1, 'SPX', method='Diff of Gammas', ax=axes[0])\n",
    "VG2.plotVGPath(SVG2, 'SPX',method='Diff of Gammas', ax=axes[1])\n",
    "VG3.plotVGPath(SVG3, 'SPX', method='Diff of Gammas', ax=axes[2])\n",
    "plt.tight_layout()\n",
    "plt.show()\n",
    "\n",
    "\n",
    "# PLOT FINAL PRICE DISTRIBUTIONS\n",
    "fig2, axes = plt.subplots(nrows=1, ncols=3, figsize=(20, 6))\n",
    "VG1.plotVGAtFixedTime(SVG1, 251, 'SPX', ax = axes[0])\n",
    "VG2.plotVGAtFixedTime(SVG2, 251, 'SPX', ax = axes[1])\n",
    "VG3.plotVGAtFixedTime(SVG3, 251, 'SPX', ax = axes[2])"
   ],
   "metadata": {
    "collapsed": false,
    "ExecuteTime": {
     "start_time": "2023-08-31T11:08:15.005845700Z"
    }
   }
  },
  {
   "cell_type": "code",
   "execution_count": null,
   "outputs": [],
   "source": [
    "avg_payoffs = []\n",
    "for k in calls_strikes:\n",
    "    payoffs = []        # stores here the payoff for each path, for a specific couple K1-K2\n",
    "    for St in SVG3[-1]:\n",
    "        payoffs.append(VG3.payoff_call(k, St))\n",
    "    avg_payoffs.append(np.mean(payoffs))\n",
    "\n",
    "vg_mc_prices = np.zeros(len(calls_calib_prices))\n",
    "vg_cf_prices = np.zeros(len(calls_calib_prices))\n",
    "\n",
    "for index in range(len(calls_calib_prices)):\n",
    "    vg_mc_prices[index] = np.exp(-r*T)* avg_payoffs[index]\n",
    "    vg_cf_prices[index] = VG3.closed_formula_call(calls_strikes[index])\n",
    "\n",
    "calls_calib_prices['VG MC (%)'] = vg_mc_prices\n",
    "calls_calib_prices['VG CF (%)'] = vg_cf_prices\n",
    "\n",
    "avg_payoffs = []\n",
    "for K1, K2 in otko_strikes:\n",
    "    payoffs = []        # stores here the payoff for each path, for a specific couple K1-K2\n",
    "    for path in SVG3.T:\n",
    "        payoffs.append(VG3.payoff_otko(path, K1, K2))\n",
    "    avg_payoffs.append(np.mean(payoffs))\n",
    "\n",
    "vg_mc_prices = np.zeros(len(otko_calib_prices))\n",
    "vg_cf_prices = np.zeros(len(otko_calib_prices))\n",
    "\n",
    "for index in range(len(otko_calib_prices)):\n",
    "    vg_mc_prices[index] = np.exp(-r*T)* avg_payoffs[index] * 100\n",
    "    vg_cf_prices[index] = VG3.closed_formula_otko8(otko_strikes[index][0], otko_strikes[index][1])\n",
    "\n",
    "otko_calib_prices['VG MC (%)'] = vg_mc_prices\n",
    "otko_calib_prices['VG CF (%)'] = vg_cf_prices"
   ],
   "metadata": {
    "collapsed": false,
    "ExecuteTime": {
     "start_time": "2023-08-31T11:08:15.005845700Z"
    }
   }
  },
  {
   "cell_type": "code",
   "execution_count": null,
   "outputs": [],
   "source": [
    "selection1 = [0,1,2,3,8,9]\n",
    "print(f'>> CALLS\\n{calls_calib_prices.iloc[:, selection1]}')\n",
    "selection2 = [0,1,2,3,4,9,10]\n",
    "print(f'\\n>> OTKO\\n{otko_calib_prices.iloc[:, selection2]}')"
   ],
   "metadata": {
    "collapsed": false,
    "ExecuteTime": {
     "start_time": "2023-08-31T11:08:15.015358400Z"
    }
   }
  },
  {
   "cell_type": "code",
   "execution_count": null,
   "outputs": [],
   "source": [
    "print(calls_calib_prices)\n",
    "print(otko_calib_prices)"
   ],
   "metadata": {
    "collapsed": false,
    "ExecuteTime": {
     "start_time": "2023-08-31T11:08:15.015358400Z"
    }
   }
  },
  {
   "cell_type": "code",
   "execution_count": null,
   "outputs": [],
   "source": [],
   "metadata": {
    "collapsed": false,
    "ExecuteTime": {
     "start_time": "2023-08-31T11:08:15.015358400Z"
    }
   }
  }
 ],
 "metadata": {
  "kernelspec": {
   "display_name": "Python 3",
   "language": "python",
   "name": "python3"
  },
  "language_info": {
   "codemirror_mode": {
    "name": "ipython",
    "version": 2
   },
   "file_extension": ".py",
   "mimetype": "text/x-python",
   "name": "python",
   "nbconvert_exporter": "python",
   "pygments_lexer": "ipython2",
   "version": "2.7.6"
  }
 },
 "nbformat": 4,
 "nbformat_minor": 0
}
