{
 "cells": [
  {
   "cell_type": "markdown",
   "source": [
    "# Calibration of the 4 models using CALL OPTIONS\n",
    "This notebook aims to find the optimal parameters of **Black-Scholes**, **Merton Jump Diffusion**, **Kou Jump Diffusion** and **Variance Gamma** models. To do so, we compute the european option prices using **closed formulas**, available for all the 4 models, and the **Fast Fourier Transform** for the VG model. Given these theoretical prices, the **implied volatilities** are computed comparing them with real market prices, minimizing their difference. Then we estimate the additional parameters of each model, using the python module `scipy.optimize`.\n",
    "\n",
    "*reference: https://github.com/cantaro86/Financial-Models-Numerical-Methods/tree/master*"
   ],
   "metadata": {
    "collapsed": false
   }
  },
  {
   "cell_type": "code",
   "execution_count": 1,
   "metadata": {
    "collapsed": true,
    "ExecuteTime": {
     "end_time": "2023-08-31T10:59:50.396362100Z",
     "start_time": "2023-08-31T10:59:50.253592800Z"
    }
   },
   "outputs": [],
   "source": [
    "import numpy as np\n",
    "import pandas as pd\n",
    "import matplotlib.pyplot as plt\n",
    "import random\n",
    "import scipy.optimize as scpo\n",
    "import sys\n",
    "sys.path.append('C:/Users\\ornel\\PycharmProjects\\Margin-Loans-Pricing/functions')\n",
    "sys.path.append('C:/Users/ornel/PycharmProjects/Margin-Loans-Pricing/calibration')\n",
    "import time\n",
    "\n",
    "from MERTONpricer import Merton_pricer\n",
    "from BSpricer import BS_Pricer\n",
    "from KOUpricer import Kou_pricer\n",
    "from VGpricer import VG_pricer\n",
    "random.seed(120)"
   ]
  },
  {
   "cell_type": "markdown",
   "source": [
    "Let's start retrieving historical prices for **european call** options starting from date **2016-01-20** and expiring **1 year** later. All the data have been collected from [OptionsDX](https://www.optionsdx.com/shop/) and preprocessed in `plainvanilla.py` module. The options that will be used in this notebook are all Out-Of-The-Money (OTM) options."
   ],
   "metadata": {
    "collapsed": false
   }
  },
  {
   "cell_type": "code",
   "execution_count": 2,
   "outputs": [
    {
     "name": "stdout",
     "output_type": "stream",
     "text": [
      "NUM OF CALL OPTS: 15\n",
      "    QUOTE_DATE  UNDERLYING_LAST EXPIRE_DATE  C_BID  C_ASK  STRIKE     C_IV  \\\n",
      "0   2016-01-20            96.79  2017-01-20  25.10  25.50    75.0  0.32883   \n",
      "1   2016-01-20            96.79  2017-01-20  21.51  21.84    80.0  0.32319   \n",
      "2   2016-01-20            96.79  2017-01-20  18.25  18.56    85.0  0.32009   \n",
      "3   2016-01-20            96.79  2017-01-20  16.75  17.05    87.5  0.31782   \n",
      "4   2016-01-20            96.79  2017-01-20  15.30  15.59    90.0  0.31582   \n",
      "5   2016-01-20            96.79  2017-01-20  13.95  14.21    92.5  0.31267   \n",
      "6   2016-01-20            96.79  2017-01-20  12.75  12.95    95.0  0.31286   \n",
      "7   2016-01-20            96.79  2017-01-20  11.55  11.70    97.5  0.30928   \n",
      "8   2016-01-20            96.79  2017-01-20  10.46  10.59   100.0  0.30723   \n",
      "9   2016-01-20            96.79  2017-01-20   8.45   8.61   105.0  0.30361   \n",
      "10  2016-01-20            96.79  2017-01-20   6.74   6.86   110.0  0.29915   \n",
      "11  2016-01-20            96.79  2017-01-20   5.30   5.45   115.0  0.29502   \n",
      "12  2016-01-20            96.79  2017-01-20   4.15   4.24   120.0  0.29087   \n",
      "13  2016-01-20            96.79  2017-01-20   3.20   3.29   125.0  0.28770   \n",
      "14  2016-01-20            96.79  2017-01-20   2.44   2.55   130.0  0.28491   \n",
      "\n",
      "    MONEYNESS  \n",
      "0        0.77  \n",
      "1        0.83  \n",
      "2        0.88  \n",
      "3        0.90  \n",
      "4        0.93  \n",
      "5        0.96  \n",
      "6        0.98  \n",
      "7        1.01  \n",
      "8        1.03  \n",
      "9        1.08  \n",
      "10       1.14  \n",
      "11       1.19  \n",
      "12       1.24  \n",
      "13       1.29  \n",
      "14       1.34  \n"
     ]
    }
   ],
   "source": [
    "df_call = pd.read_csv('../../data/AAPL/OPT16_AAPL_CALLS_75_135.csv')\n",
    "print(f'NUM OF CALL OPTS: {df_call.shape[0]}')\n",
    "print(df_call)"
   ],
   "metadata": {
    "collapsed": false,
    "ExecuteTime": {
     "end_time": "2023-08-31T10:59:50.427842600Z",
     "start_time": "2023-08-31T10:59:50.399048200Z"
    }
   }
  },
  {
   "cell_type": "markdown",
   "source": [
    "The dataframes **df_calls** contains 15 options sorted by their strike price, with the moneyness in range [0.75, 1.35]. For our purpose, using the $100\\%$ of this DFs is enough and can lead to very good results. Thus, we sample the rows and then reformulate the dataframe adding **Midpoint** and **Spread** columns."
   ],
   "metadata": {
    "collapsed": false
   }
  },
  {
   "cell_type": "code",
   "execution_count": 3,
   "outputs": [],
   "source": [
    "calls = df_call.sample(frac=1, replace=False).sort_index().reset_index(drop=True)\n",
    "calls['C_Midpoint'] = abs(calls['C_BID'] + calls['C_ASK']) / 2\n",
    "calls['C_Spread'] = calls['C_BID'] - calls['C_ASK']\n",
    "\n",
    "q = 0           # dividend yield\n",
    "r = 0.03        # risk-free interest rate\n",
    "sigma = 0.3     #volatility (variance of diffusion process)\n",
    "S0 = calls.iloc[0]['UNDERLYING_LAST']\n",
    "T = 1           # time-to-maturity\n",
    "call_strikes = calls['STRIKE']    # array of K for call options\n",
    "exercise = 'european'\n",
    "\n",
    "call_prices = calls['C_Midpoint']"
   ],
   "metadata": {
    "collapsed": false,
    "ExecuteTime": {
     "end_time": "2023-08-31T10:59:50.491233Z",
     "start_time": "2023-08-31T10:59:50.429722600Z"
    }
   }
  },
  {
   "cell_type": "markdown",
   "source": [
    "The following code snippet initializes objects of class *BS_pricer*, *Merton_pricer*, *Kou_pricer*, *VG_pricer* with default values as parameters. These parameters serve only as initialization. Best fitting parameetrs will be calibrated consequently and used to correctly price the options according to each model."
   ],
   "metadata": {
    "collapsed": false
   }
  },
  {
   "cell_type": "code",
   "execution_count": 4,
   "outputs": [],
   "source": [
    "BS = BS_Pricer(S0=S0, r=r, q = q, sigma=sigma, ttm=T, exercise=exercise, K=None)\n",
    "Merton = Merton_pricer(S0=S0, K=None, ttm=T, r=r, q = q, sigma=0.15, lambd=0.5, meanJ=-0.1, stdJ=0.1, exercise=exercise)\n",
    "Kou = Kou_pricer(S0=S0, K=None, ttm=T, r=r, sigma=0.15, lambd=0.5, p=0.6, eta1=12, eta2=5, exercise=exercise)\n",
    "VG = VG_pricer(S0, K=None, ttm=T, r=r, q=q, sigma=0.15, theta=-0.2, nu=0.3, exercise=exercise)"
   ],
   "metadata": {
    "collapsed": false,
    "ExecuteTime": {
     "end_time": "2023-08-31T10:59:50.513277200Z",
     "start_time": "2023-08-31T10:59:50.444784300Z"
    }
   }
  },
  {
   "cell_type": "markdown",
   "source": [
    "## Implied volatility\n",
    "The function belows implements $3$ methods to comcalle implied volatility: [Newton](https://en.wikipedia.org/wiki/Newton%27s_method) method, the [Bisection](https://en.wikipedia.org/wiki/Bisection_method) method and a more advanced one, named [Brent](https://en.wikipedia.org/wiki/Brent%27s_method) method. Apart from the initial guess, there is no substantial difference in the final result between **Newton** and **bisection** methods (*fsolve*). The **Implied Volatility** is that value $\\sigma$ that must be inserted into the Black-Scholes (BS) formula in order to retrieve the option price quoted in the market:\n",
    "    $$ BS(S, K, T, r, \\sigma) = P,  $$\n",
    "where $S$ is the underlying spot price, $K$ is the strike, $T$ time to maturity, $r$ risk-free interest rate and $P$ the option price quoted in the market. All these quantities are **observable**.\n",
    "   "
   ],
   "metadata": {
    "collapsed": false
   }
  },
  {
   "cell_type": "code",
   "execution_count": 5,
   "outputs": [],
   "source": [
    "def implied_volatility(price, S, strike, t, rate, q, type_o, method='fsolve', disp=True ):\n",
    "    \"\"\" Returns Implied volatility\n",
    "        methods:  fsolve (default) or brent\n",
    "    \"\"\"\n",
    "\n",
    "    def obj_fun(vol):\n",
    "        return BS.BlackScholes(type_o=type_o, S0=S, K=strike, ttm=t, r=rate, q=q, sigma=vol) - price\n",
    "\n",
    "    def vega(vol):\n",
    "        return BS.vega(S, strike, rate, q, vol, t)\n",
    "\n",
    "    if method =='fsolve':\n",
    "        X0 = [0.01, 0.2, 0.35, 7]        #initial guess points for imp.vol.\n",
    "        for x_0 in X0:\n",
    "            x, _, solved, _ = scpo.fsolve(obj_fun, x_0, full_output=True, xtol=1e-8)\n",
    "            if solved == 1:\n",
    "                return x[0]\n",
    "\n",
    "    if disp:\n",
    "        return -1"
   ],
   "metadata": {
    "collapsed": false,
    "ExecuteTime": {
     "end_time": "2023-08-31T10:59:50.514480600Z",
     "start_time": "2023-08-31T10:59:50.459775300Z"
    }
   }
  },
  {
   "cell_type": "markdown",
   "source": [
    "The following code snippet computes the implied volatility of **call** options market prices and show a plot of the implied volatilities found by inversion method against the ones provided by the dataframe."
   ],
   "metadata": {
    "collapsed": false
   }
  },
  {
   "cell_type": "code",
   "execution_count": 6,
   "outputs": [
    {
     "name": "stdout",
     "output_type": "stream",
     "text": [
      "Implied volatilities of market prices (calls):\n",
      "S0 = 96.79\n",
      "K = 105.0, IV = 0.3033\n",
      "K = 110.0, IV = 0.2982\n",
      "K = 115.0, IV = 0.2941\n",
      "K = 120.0, IV = 0.2902\n",
      "K = 125.0, IV = 0.2868\n",
      "K = 130.0, IV = 0.2841\n"
     ]
    },
    {
     "data": {
      "text/plain": "<Figure size 1000x500 with 1 Axes>",
      "image/png": "[encoded data removed]"
     },
     "metadata": {},
     "output_type": "display_data"
    }
   ],
   "source": [
    "IV_market = []\n",
    "for i in range(len(call_prices)):\n",
    "    IV_market.append(implied_volatility(call_prices[i], S=S0, strike=call_strikes[i], t = T, rate=0.026, q = 0.02, type_o='call', method='fsolve'))\n",
    "\n",
    "print(f'Implied volatilities of market prices (calls):\\nS0 = {S0}')\n",
    "for a,b in zip(call_strikes.tail(6), IV_market[-6:]):\n",
    "    print(f'K = {a}, IV = {round(b, 4)}')\n",
    "\n",
    "# Plot market implied volatilities w.r.t. log moneyness\n",
    "x = (S0/call_strikes)\n",
    "IV_filtered = [iv for iv in IV_market if iv != -1]\n",
    "x_filtered = [log_m for iv, log_m in zip(IV_market, x) if iv != -1]\n",
    "\n",
    "fig, ax1 = plt.subplots(figsize=(10,5))\n",
    "ax1.scatter(x, IV_market, marker='x', label='BS inversion', color='red')\n",
    "ax1.scatter(x, calls['C_IV'], marker='.', label='provided')\n",
    "ax1.set_xlabel('Moneyness: S0/K'); ax1.set_ylabel('Implied Volatility'); ax1.set_title('Calls volatility smile')\n",
    "ax1.legend(); plt.show()\n"
   ],
   "metadata": {
    "collapsed": false,
    "ExecuteTime": {
     "end_time": "2023-08-31T10:59:50.963042600Z",
     "start_time": "2023-08-31T10:59:50.461053800Z"
    }
   }
  },
  {
   "cell_type": "markdown",
   "source": [
    "##  Weighted Calibration (call options)\n",
    "Let's step now into the calibration of model parameters.\n",
    "If we define $\\Theta$ the set of parameters, the goal is to find the optimal parameters $\\Theta^*$ that minimize the following objective function:\n",
    "$$ \\sum_{i=1}^{N} w_i \\biggl( P_i - f(K_i|\\Theta) \\biggr)^2 $$\n",
    "where $w_i$ are weights, usually defined as\n",
    "$$ w_i = \\frac{1}{\\text {spread}_i },$$ $P_i$ are the market prices and $f$ is the pricing function. In our case $f$ is given by **Merton** Jump Diffusion model, **Kou** Jump Diffusion model, or **Variance Gamma** process. To perform this optimization problem, many numerical methods can be used. In particular, we test two functions of `scipy.optimize`:\n",
    "1. **curve_fit**, a least-squares curve fitting method which works with bounds. The default algorithm is [Trust Region Reflective (trf)](https://en.wikipedia.org/wiki/Trust_region). The [Levemberg-Marquadt](https://en.wikipedia.org/wiki/Levenberg%E2%80%93Marquardt_algorithm) has been tried as well, to test the optimization problem without setting boundaries, but the results don't make any sense.\n",
    "2. **Least-Squares**, a constrained minimization problem which uses Trust region reflective method by default. This method is the most indicated to solve the non-linear least squares optimization problem of our purpose.\n",
    "All the optimizations are carried out by initializing a starting point as the array $x_0 = [params]$ and setting feasible bounds.\n"
   ],
   "metadata": {
    "collapsed": false
   }
  },
  {
   "cell_type": "code",
   "execution_count": 7,
   "outputs": [],
   "source": [
    "call_spreads = calls['C_Spread']\n",
    "c_weights = 1/ call_spreads**2"
   ],
   "metadata": {
    "collapsed": false,
    "ExecuteTime": {
     "end_time": "2023-08-31T10:59:50.963042600Z",
     "start_time": "2023-08-31T10:59:50.955592200Z"
    }
   }
  },
  {
   "cell_type": "markdown",
   "source": [
    "### Black and Scholes model\n",
    "The only unknown parameter to calibrate in Black and Scholes model is the **implied volatility**, $\\sigma$. Thus, we minimize the difference between the computed theoretical prices and the market prices of call options."
   ],
   "metadata": {
    "collapsed": false
   }
  },
  {
   "cell_type": "code",
   "execution_count": 8,
   "outputs": [],
   "source": [
    "x0 = 0.5\n",
    "bounds = [1e-5, 2]\n",
    "\n",
    "def f_BlackScholes_calls(x, sigm):\n",
    "    BS = BS_Pricer(S0=S0, K = x, ttm=T, r=r, q=0, sigma=sigm, exercise=exercise)\n",
    "    return BS.closed_formula_call(x)\n",
    "\n",
    "res1_calls = scpo.curve_fit(f_BlackScholes_calls, call_strikes, call_prices, p0 = x0, bounds=bounds, sigma=c_weights)\n",
    "sigw_p = round(res1_calls[0][0],4)"
   ],
   "metadata": {
    "collapsed": false,
    "ExecuteTime": {
     "end_time": "2023-08-31T10:59:51.196227300Z",
     "start_time": "2023-08-31T10:59:50.968067800Z"
    }
   }
  },
  {
   "cell_type": "code",
   "execution_count": 9,
   "outputs": [
    {
     "name": "stdout",
     "output_type": "stream",
     "text": [
      "`ftol` termination condition is satisfied.\n",
      "Function evaluations 26, initial cost 1.0523e+09, final cost 4.0104e+01, first-order optimality 1.07e-01.\n"
     ]
    }
   ],
   "source": [
    "def cost_function(x, strikes, mkt_prices):\n",
    "    sigma = x\n",
    "    BS = BS_Pricer(S0=S0, K = None, ttm=T, r=r, q=0, sigma=sigma, exercise=exercise)\n",
    "    sq_err = np.sum(c_weights* (BS.closed_formula_call(strikes) - mkt_prices)**2)\n",
    "    return sq_err\n",
    "\n",
    "result_p = scpo.least_squares(cost_function, x0, args=(call_strikes, call_prices), bounds=bounds, method = 'trf', verbose=1)\n",
    "calls_bs_params_aapl = result_p.x[0]"
   ],
   "metadata": {
    "collapsed": false,
    "ExecuteTime": {
     "end_time": "2023-08-31T10:59:51.219594300Z",
     "start_time": "2023-08-31T10:59:51.032682400Z"
    }
   }
  },
  {
   "cell_type": "code",
   "execution_count": 10,
   "outputs": [
    {
     "name": "stdout",
     "output_type": "stream",
     "text": [
      "METHOD 1: CURVE_FIT (trf)\n",
      "> Calibrated Volatility from Calls [σ] = 0.2674 \t 26.74%\n",
      "METHOD 2: LEAST-SQUARES (trf)\n",
      "> Calibrated Volatility from Calls [σ] = 0.2724253089915217 \t 27.24%\n"
     ]
    }
   ],
   "source": [
    "print('METHOD 1: CURVE_FIT (trf)')\n",
    "print(f'> Calibrated Volatility from Calls [σ] = {sigw_p} \\t {round(sigw_p*100,2)}%')\n",
    "print('METHOD 2: LEAST-SQUARES (trf)')\n",
    "print(f'> Calibrated Volatility from Calls [σ] = {calls_bs_params_aapl} \\t {round(calls_bs_params_aapl*100,2)}%')"
   ],
   "metadata": {
    "collapsed": false,
    "ExecuteTime": {
     "end_time": "2023-08-31T10:59:51.219594300Z",
     "start_time": "2023-08-31T10:59:51.161644100Z"
    }
   }
  },
  {
   "cell_type": "markdown",
   "source": [
    "Save parameters to use them in other notebooks"
   ],
   "metadata": {
    "collapsed": false
   }
  },
  {
   "cell_type": "code",
   "execution_count": 11,
   "outputs": [
    {
     "name": "stdout",
     "output_type": "stream",
     "text": [
      "Stored 'calls_bs_params_aapl' (float64)\n"
     ]
    }
   ],
   "source": [
    "%store calls_bs_params_aapl"
   ],
   "metadata": {
    "collapsed": false,
    "ExecuteTime": {
     "end_time": "2023-08-31T10:59:51.219594300Z",
     "start_time": "2023-08-31T10:59:51.173818100Z"
    }
   }
  },
  {
   "cell_type": "markdown",
   "source": [
    "### Merton Jump Diffusion\n",
    "The Merton Jump diffusion ones are the volatility $\\sigma$, the Poisson rate of jumps $\\lambda$, the mean rate of jump intensity $m$ and its variance rate $v$, assuming that the intensity of jumps follows a *Normal distribution*.\n"
   ],
   "metadata": {
    "collapsed": false
   }
  },
  {
   "cell_type": "code",
   "execution_count": 12,
   "outputs": [],
   "source": [
    "x0 = [0.15,  0.2, -0.05,  0.01]  # initial guess: [σ, λ, m, v]\n",
    "bounds = ( [1e-3, 1e-2, -5, 1e-5], [2, 5, 5, 2] )"
   ],
   "metadata": {
    "collapsed": false,
    "ExecuteTime": {
     "end_time": "2023-08-31T10:59:51.219594300Z",
     "start_time": "2023-08-31T10:59:51.186103900Z"
    }
   }
  },
  {
   "cell_type": "code",
   "execution_count": 13,
   "outputs": [],
   "source": [
    "def f_Mert(x, sigma, lambd, meanJ, stdJ):\n",
    "    Mert = Merton_pricer(S0=S0, K=x, ttm=T, r=r, q=0, sigma=sigma, lambd=lambd, meanJ=meanJ, stdJ=stdJ, exercise=exercise)\n",
    "    return Mert.closed_formula_call(x)\n",
    "\n",
    "start1=time.time()\n",
    "mert1 = scpo.curve_fit(f_Mert, call_strikes, call_prices, p0=x0, bounds=bounds, sigma=call_spreads)\n",
    "end1=time.time()\n",
    "\n",
    "mert_params1 = [round(p,4) for p in mert1[0][:4]]"
   ],
   "metadata": {
    "collapsed": false,
    "ExecuteTime": {
     "end_time": "2023-08-31T11:00:23.292871100Z",
     "start_time": "2023-08-31T10:59:51.196227300Z"
    }
   }
  },
  {
   "cell_type": "markdown",
   "source": [
    "##### Method 2. Least-squares"
   ],
   "metadata": {
    "collapsed": false
   }
  },
  {
   "cell_type": "code",
   "execution_count": 14,
   "outputs": [
    {
     "name": "stdout",
     "output_type": "stream",
     "text": [
      "   Iteration     Total nfev        Cost      Cost reduction    Step norm     Optimality   \n",
      "       0              1         2.7193e+07                                    1.52e+09    \n",
      "       1              2         1.4070e+06      2.58e+07       6.24e-01       1.43e+08    \n",
      "       2              3         1.9138e+05      1.22e+06       8.58e-02       1.79e+07    \n",
      "       3              4         1.6650e+05      2.49e+04       8.87e-01       4.25e+07    \n",
      "       4              6         1.1042e+05      5.61e+04       7.62e-02       2.54e+07    \n",
      "       5              8         4.9326e+04      6.11e+04       1.30e-02       5.83e+06    \n",
      "       6             10         3.9195e+04      1.01e+04       5.19e-03       2.98e+06    \n",
      "       7             11         3.2691e+04      6.50e+03       5.33e-03       4.23e+06    \n",
      "       8             12         2.2481e+04      1.02e+04       1.52e-02       2.72e+06    \n",
      "       9             13         1.0728e+04      1.18e+04       2.86e-02       2.70e+06    \n",
      "      10             15         8.7533e+03      1.98e+03       1.99e-02       1.44e+06    \n",
      "      11             16         8.1660e+03      5.87e+02       9.37e-03       3.39e+06    \n",
      "      12             17         6.7033e+03      1.46e+03       4.86e-03       2.38e+06    \n",
      "      13             18         5.0718e+03      1.63e+03       9.81e-03       9.85e+05    \n",
      "      14             19         4.1535e+03      9.18e+02       9.31e-03       5.45e+05    \n",
      "      15             20         3.1487e+03      1.00e+03       1.37e-02       1.15e+06    \n",
      "      16             21         2.2402e+03      9.08e+02       1.93e-02       4.28e+05    \n",
      "      17             23         1.9305e+03      3.10e+02       2.19e-03       3.11e+05    \n",
      "      18             24         1.7433e+03      1.87e+02       3.97e-03       3.61e+05    \n",
      "      19             25         1.4359e+03      3.07e+02       9.65e-03       1.73e+05    \n",
      "      20             27         1.3155e+03      1.20e+02       2.97e-03       3.20e+05    \n",
      "      21             28         1.1918e+03      1.24e+02       4.94e-03       1.81e+05    \n",
      "      22             29         1.0371e+03      1.55e+02       7.36e-03       3.32e+05    \n",
      "      23             30         8.3473e+02      2.02e+02       9.53e-03       1.01e+05    \n",
      "      24             32         7.9214e+02      4.26e+01       1.44e-03       1.56e+05    \n",
      "      25             33         7.1513e+02      7.70e+01       4.78e-03       1.27e+05    \n",
      "      26             34         5.9545e+02      1.20e+02       8.74e-03       1.57e+05    \n",
      "      27             35         5.4310e+02      5.24e+01       1.93e-02       2.07e+05    \n",
      "      28             36         4.0573e+02      1.37e+02       2.30e-03       5.95e+04    \n",
      "      29             37         3.8771e+02      1.80e+01       3.39e-03       1.12e+05    \n",
      "      30             38         3.4237e+02      4.53e+01       4.59e-03       6.73e+04    \n",
      "      31             39         2.8677e+02      5.56e+01       9.83e-03       3.58e+04    \n",
      "      32             42         2.7823e+02      8.54e+00       6.75e-04       4.79e+04    \n",
      "      33             43         2.7166e+02      6.56e+00       1.10e-03       5.15e+04    \n",
      "      34             44         2.5898e+02      1.27e+01       2.44e-03       4.63e+04    \n",
      "      35             45         2.3649e+02      2.25e+01       4.67e-03       5.01e+04    \n",
      "      36             46         2.0794e+02      2.85e+01       9.76e-03       4.62e+04    \n",
      "      37             48         1.9480e+02      1.31e+01       1.12e-03       3.81e+04    \n",
      "      38             49         1.8618e+02      8.62e+00       2.46e-03       3.11e+04    \n",
      "      39             50         1.7533e+02      1.09e+01       4.38e-03       4.26e+04    \n",
      "      40             51         1.5828e+02      1.71e+01       4.38e-03       2.60e+04    \n",
      "      41             52         1.5012e+02      8.16e+00       4.40e-03       3.59e+04    \n",
      "      42             53         1.3547e+02      1.46e+01       4.22e-03       2.22e+04    \n",
      "      43             54         1.2795e+02      7.52e+00       4.53e-03       2.87e+04    \n",
      "      44             55         1.1643e+02      1.15e+01       4.19e-03       1.80e+04    \n",
      "      45             57         1.1431e+02      2.12e+00       1.03e-03       2.06e+04    \n",
      "      46             58         1.0961e+02      4.69e+00       2.44e-03       1.73e+04    \n",
      "      47             59         1.0502e+02      4.59e+00       4.53e-03       2.28e+04    \n",
      "      48             60         9.5378e+01      9.64e+00       3.84e-03       1.46e+04    \n",
      "      49             61         9.3735e+01      1.64e+00       4.43e-03       2.02e+04    \n",
      "      50             62         9.0322e+01      3.41e+00       8.47e-04       1.82e+04    \n",
      "      51             63         8.5377e+01      4.94e+00       1.86e-03       1.48e+04    \n",
      "      52             64         7.9693e+01      5.68e+00       4.60e-03       1.05e+04    \n",
      "      53             66         7.8597e+01      1.10e+00       7.45e-04       1.30e+04    \n",
      "      54             67         7.6976e+01      1.62e+00       1.16e-03       1.20e+04    \n",
      "      55             68         7.4160e+01      2.82e+00       2.45e-03       1.07e+04    \n",
      "      56             70         7.3019e+01      1.14e+00       1.12e-03       1.15e+04    \n",
      "      57             71         7.0358e+01      2.66e+00       2.37e-03       1.00e+04    \n",
      "      58             72         6.8868e+01      1.49e+00       4.63e-03       1.21e+04    \n",
      "      59             73         6.3036e+01      5.83e+00       3.03e-03       8.51e+03    \n",
      "      60             75         6.2338e+01      6.98e-01       1.05e-03       9.29e+03    \n",
      "      61             76         6.1146e+01      1.19e+00       1.11e-03       8.68e+03    \n",
      "      62             77         5.9104e+01      2.04e+00       2.42e-03       7.86e+03    \n",
      "      63             79         5.8339e+01      7.65e-01       1.14e-03       8.25e+03    \n",
      "      64             80         5.7296e+01      1.04e+00       1.14e-03       7.78e+03    \n",
      "      65             81         5.5442e+01      1.85e+00       2.45e-03       7.16e+03    \n",
      "      66             83         5.4756e+01      6.86e-01       1.15e-03       7.42e+03    \n",
      "      67             84         5.3811e+01      9.45e-01       1.12e-03       7.03e+03    \n",
      "      68             85         5.2130e+01      1.68e+00       2.44e-03       6.52e+03    \n",
      "      69             87         5.1521e+01      6.09e-01       1.15e-03       6.67e+03    \n",
      "      70             88         5.0664e+01      8.57e-01       1.10e-03       6.35e+03    \n",
      "      71             89         4.9141e+01      1.52e+00       2.44e-03       5.92e+03    \n",
      "      72             91         4.8604e+01      5.37e-01       1.16e-03       5.97e+03    \n",
      "      73             92         4.7827e+01      7.77e-01       1.08e-03       5.73e+03    \n",
      "      74             93         4.6450e+01      1.38e+00       2.43e-03       5.38e+03    \n",
      "      75             95         4.5980e+01      4.70e-01       1.16e-03       5.34e+03    \n",
      "      76             96         4.5276e+01      7.04e-01       1.05e-03       5.16e+03    \n",
      "      77             97         4.4032e+01      1.24e+00       2.43e-03       4.87e+03    \n",
      "      78             99         4.3624e+01      4.08e-01       1.17e-03       4.75e+03    \n",
      "      79             100        4.2986e+01      6.37e-01       1.02e-03       4.64e+03    \n",
      "      80             101        4.1864e+01      1.12e+00       2.43e-03       4.41e+03    \n",
      "      81             103        4.1512e+01      3.52e-01       1.17e-03       4.21e+03    \n",
      "      82             104        4.0936e+01      5.76e-01       9.80e-04       4.16e+03    \n",
      "      83             105        3.9926e+01      1.01e+00       2.42e-03       3.98e+03    \n",
      "      84             107        3.9616e+01      3.10e-01       1.18e-03       3.71e+03    \n",
      "      85             108        3.9100e+01      5.15e-01       9.45e-04       3.73e+03    \n",
      "      86             109        3.8191e+01      9.10e-01       2.43e-03       3.57e+03    \n",
      "      87             111        3.7885e+01      3.06e-01       1.20e-03       3.27e+03    \n",
      "      88             112        3.7438e+01      4.47e-01       9.53e-04       3.34e+03    \n",
      "      89             113        3.6619e+01      8.18e-01       2.45e-03       3.16e+03    \n",
      "      90             114        3.5214e+01      1.40e+00       4.94e-03       2.53e+03    \n",
      "      91             116        3.4698e+01      5.16e-01       1.83e-03       2.88e+03    \n",
      "      92             118        3.4633e+01      6.53e-02       3.72e-04       2.36e+03    \n",
      "      93             119        3.4582e+01      5.07e-02       1.11e-04       2.38e+03    \n",
      "      94             120        3.4488e+01      9.38e-02       2.36e-04       2.42e+03    \n",
      "      95             121        3.4320e+01      1.68e-01       5.26e-04       2.47e+03    \n",
      "      96             122        3.4008e+01      3.13e-01       1.19e-03       2.45e+03    \n",
      "      97             123        3.3416e+01      5.91e-01       2.46e-03       2.20e+03    \n",
      "      98             124        3.2437e+01      9.80e-01       4.70e-03       2.24e+03    \n",
      "      99             128        3.2376e+01      6.05e-02       9.12e-05       2.07e+03    \n",
      "      100            129        3.2345e+01      3.11e-02       1.25e-04       1.93e+03    \n",
      "      101            130        3.2315e+01      3.05e-02       1.53e-04       1.91e+03    \n",
      "      102            131        3.2254e+01      6.05e-02       3.06e-04       1.89e+03    \n",
      "      103            132        3.2135e+01      1.19e-01       6.10e-04       1.84e+03    \n",
      "      104            133        3.1905e+01      2.31e-01       1.21e-03       1.76e+03    \n",
      "      105            134        3.1473e+01      4.31e-01       2.42e-03       1.60e+03    \n",
      "      106            135        3.0727e+01      7.46e-01       4.83e-03       1.28e+03    \n",
      "      107            136        2.9683e+01      1.04e+00       9.48e-03       9.12e+02    \n",
      "      108            141        2.9673e+01      1.03e-02       4.66e-05       7.88e+02    \n",
      "      109            142        2.9667e+01      5.75e-03       7.00e-05       7.23e+02    \n",
      "      110            143        2.9655e+01      1.21e-02       1.45e-04       7.12e+02    \n",
      "      111            144        2.9631e+01      2.38e-02       2.88e-04       6.93e+02    \n",
      "      112            145        2.9585e+01      4.61e-02       5.73e-04       6.61e+02    \n",
      "      113            146        2.9499e+01      8.62e-02       1.14e-03       5.92e+02    \n",
      "      114            147        2.9349e+01      1.49e-01       2.24e-03       4.90e+02    \n",
      "      115            148        2.9235e+01      1.15e-01       4.47e-03       3.71e+02    \n",
      "      116            150        2.9154e+01      8.11e-02       2.25e-04       1.22e+03    \n",
      "      117            152        2.9153e+01      7.57e-04       1.42e-04       1.79e+02    \n",
      "      118            153        2.9145e+01      8.42e-03       1.25e-05       1.45e+02    \n",
      "      119            154        2.9132e+01      1.21e-02       2.45e-05       9.67e+01    \n",
      "      120            155        2.9124e+01      8.61e-03       6.99e-05       2.92e+02    \n",
      "      121            157        2.9123e+01      1.04e-03       4.29e-05       1.56e+02    \n",
      "      122            158        2.9122e+01      7.77e-04       7.93e-06       1.65e+02    \n",
      "      123            159        2.9121e+01      1.45e-03       1.73e-05       1.80e+02    \n",
      "      124            160        2.9118e+01      2.66e-03       4.01e-05       2.02e+02    \n",
      "      125            161        2.9113e+01      5.07e-03       9.63e-05       2.16e+02    \n",
      "      126            162        2.9103e+01      9.97e-03       2.09e-04       1.89e+02    \n",
      "      127            163        2.9084e+01      1.87e-02       3.77e-04       2.26e+02    \n",
      "      128            166        2.9084e+01      2.93e-04       4.35e-05       1.02e+02    \n",
      "      129            167        2.9083e+01      7.86e-04       5.55e-06       1.12e+02    \n",
      "      130            168        2.9082e+01      1.43e-03       1.25e-05       1.31e+02    \n",
      "      131            169        2.9079e+01      2.49e-03       3.11e-05       1.60e+02    \n",
      "      132            170        2.9075e+01      4.63e-03       8.32e-05       1.79e+02    \n",
      "      133            171        2.9066e+01      8.24e-03       1.89e-04       1.02e+02    \n",
      "      134            172        2.9065e+01      1.77e-03       1.95e-04       9.19e+02    \n",
      "      135            173        2.9052e+01      1.21e-02       6.97e-05       7.86e+01    \n",
      "      136            174        2.9048e+01      4.44e-03       3.87e-05       1.61e+02    \n",
      "      137            175        2.9045e+01      2.65e-03       8.78e-05       6.50e+01    \n",
      "      138            176        2.9041e+01      4.51e-03       3.39e-05       1.53e+02    \n",
      "      139            177        2.9038e+01      3.29e-03       8.54e-05       7.68e+01    \n",
      "      140            178        2.9033e+01      4.20e-03       4.00e-05       1.54e+02    \n",
      "      141            179        2.9033e+01      4.75e-04       8.38e-05       6.93e+01    \n",
      "      142            180        2.9031e+01      1.89e-03       6.09e-06       5.43e+01    \n",
      "      143            181        2.9028e+01      2.92e-03       1.38e-05       8.82e+01    \n",
      "      144            182        2.9024e+01      4.07e-03       4.79e-05       1.50e+02    \n",
      "      145            184        2.9023e+01      1.02e-03       4.07e-05       6.88e+01    \n",
      "      146            185        2.9021e+01      2.40e-03       1.89e-05       1.07e+02    \n",
      "      147            186        2.9016e+01      4.16e-03       6.21e-05       1.38e+02    \n",
      "      148            188        2.9015e+01      1.52e-03       3.95e-05       7.89e+01    \n",
      "      149            189        2.9013e+01      2.23e-03       2.23e-05       1.10e+02    \n",
      "      150            190        2.9008e+01      4.18e-03       6.57e-05       1.27e+02    \n",
      "      151            191        2.9005e+01      3.45e-03       1.51e-04       8.02e+01    \n",
      "      152            192        2.8998e+01      7.02e-03       4.89e-05       3.05e+02    \n",
      "      153            194        2.8997e+01      1.04e-03       3.60e-05       4.31e+01    \n",
      "      154            195        2.8996e+01      6.89e-04       3.69e-06       5.37e+01    \n",
      "      155            196        2.8995e+01      1.24e-03       8.39e-06       7.29e+01    \n",
      "      156            197        2.8993e+01      2.15e-03       2.19e-05       1.01e+02    \n",
      "      157            198        2.8989e+01      4.10e-03       6.24e-05       1.13e+02    \n",
      "      158            199        2.8984e+01      4.44e-03       1.39e-04       7.00e+01    \n",
      "      159            200        2.8979e+01      5.74e-03       4.86e-05       3.54e+02    \n",
      "      160            202        2.8977e+01      1.73e-03       3.53e-05       4.10e+01    \n",
      "      161            203        2.8976e+01      6.40e-04       3.71e-06       5.09e+01    \n",
      "      162            204        2.8975e+01      1.16e-03       8.43e-06       6.85e+01    \n",
      "      163            205        2.8973e+01      2.07e-03       2.17e-05       9.29e+01    \n",
      "      164            206        2.8969e+01      4.04e-03       5.91e-05       1.00e+02    \n",
      "      165            207        2.8963e+01      5.51e-03       1.28e-04       5.75e+01    \n",
      "      166            208        2.8959e+01      4.50e-03       4.79e-05       4.03e+02    \n",
      "      167            210        2.8956e+01      2.48e-03       3.48e-05       4.06e+01    \n",
      "      168            211        2.8954e+01      2.15e-03       1.52e-05       7.64e+01    \n",
      "      169            212        2.8950e+01      3.94e-03       5.03e-05       9.70e+01    \n",
      "      170            214        2.8949e+01      1.37e-03       3.15e-05       3.74e+01    \n",
      "      171            215        2.8947e+01      2.13e-03       1.47e-05       7.29e+01    \n",
      "      172            216        2.8943e+01      3.91e-03       4.88e-05       9.27e+01    \n",
      "      173            218        2.8942e+01      1.35e-03       3.06e-05       3.57e+01    \n",
      "      174            219        2.8940e+01      2.12e-03       1.41e-05       6.90e+01    \n",
      "      175            220        2.8936e+01      3.89e-03       4.69e-05       8.92e+01    \n",
      "      176            222        2.8934e+01      1.30e-03       3.00e-05       3.58e+01    \n",
      "      177            223        2.8932e+01      2.12e-03       1.33e-05       6.45e+01    \n",
      "      178            224        2.8928e+01      3.86e-03       4.47e-05       8.66e+01    \n",
      "      179            226        2.8927e+01      1.18e-03       2.96e-05       3.60e+01    \n",
      "      180            227        2.8925e+01      2.15e-03       1.25e-05       5.92e+01    \n",
      "      181            228        2.8921e+01      3.83e-03       4.19e-05       8.51e+01    \n",
      "      182            230        2.8920e+01      9.78e-04       2.95e-05       3.63e+01    \n",
      "      183            231        2.8918e+01      2.21e-03       1.18e-05       5.26e+01    \n",
      "      184            232        2.8914e+01      3.78e-03       3.84e-05       8.51e+01    \n",
      "      185            234        2.8914e+01      6.80e-04       2.99e-05       3.73e+01    \n",
      "      186            235        2.8911e+01      2.32e-03       1.17e-05       4.47e+01    \n",
      "      187            236        2.8908e+01      3.70e-03       3.43e-05       8.64e+01    \n",
      "      188            238        2.8907e+01      3.40e-04       3.05e-05       4.19e+01    \n",
      "      189            239        2.8906e+01      7.05e-04       2.95e-06       3.65e+01    \n",
      "      190            240        2.8905e+01      1.24e-03       5.81e-06       3.53e+01    \n",
      "      191            241        2.8903e+01      2.04e-03       1.28e-05       5.72e+01    \n",
      "      192            242        2.8899e+01      3.83e-03       4.16e-05       7.33e+01    \n",
      "      193            244        2.8898e+01      1.32e-03       2.66e-05       3.55e+01    \n",
      "      194            245        2.8896e+01      2.07e-03       1.20e-05       5.18e+01    \n",
      "      195            246        2.8892e+01      3.79e-03       3.87e-05       7.28e+01    \n",
      "      196            248        2.8891e+01      1.07e-03       2.70e-05       3.60e+01    \n",
      "      197            249        2.8889e+01      2.15e-03       1.16e-05       4.45e+01    \n",
      "      198            250        2.8885e+01      3.74e-03       3.50e-05       7.44e+01    \n",
      "      199            252        2.8885e+01      6.61e-04       2.81e-05       3.72e+01    \n",
      "      200            253        2.8882e+01      2.30e-03       1.17e-05       3.47e+01    \n",
      "      201            254        2.8879e+01      3.64e-03       3.03e-05       8.54e+01    \n",
      "      202            256        2.8878e+01      1.79e-04       2.95e-05       4.36e+01    \n",
      "      203            257        2.8878e+01      7.20e-04       3.00e-06       3.69e+01    \n",
      "      204            258        2.8876e+01      1.26e-03       5.86e-06       3.53e+01    \n",
      "      205            259        2.8874e+01      2.04e-03       1.17e-05       4.72e+01    \n",
      "      206            260        2.8871e+01      3.77e-03       3.67e-05       6.58e+01    \n",
      "      207            262        2.8870e+01      1.11e-03       2.55e-05       3.58e+01    \n",
      "      208            263        2.8867e+01      2.12e-03       1.15e-05       3.97e+01    \n",
      "      209            264        2.8864e+01      3.72e-03       3.30e-05       6.82e+01    \n",
      "      210            266        2.8863e+01      6.48e-04       2.71e-05       3.72e+01    \n",
      "      211            267        2.8861e+01      2.30e-03       1.18e-05       3.40e+01    \n",
      "      212            268        2.8857e+01      3.61e-03       2.81e-05       8.86e+01    \n",
      "      213            270        2.8857e+01      8.85e-05       2.90e-05       4.45e+01    \n",
      "      214            271        2.8856e+01      7.28e-04       3.05e-06       3.77e+01    \n",
      "      215            272        2.8855e+01      1.27e-03       5.93e-06       3.53e+01    \n",
      "      216            273        2.8853e+01      2.03e-03       1.15e-05       4.13e+01    \n",
      "      217            274        2.8849e+01      3.74e-03       3.40e-05       6.16e+01    \n",
      "      218            276        2.8848e+01      9.84e-04       2.51e-05       3.59e+01    \n",
      "      219            277        2.8846e+01      2.16e-03       1.16e-05       3.36e+01    \n",
      "      220            278        2.8842e+01      3.66e-03       2.97e-05       7.42e+01    \n",
      "      221            280        2.8842e+01      3.97e-04       2.73e-05       4.05e+01    \n",
      "      222            281        2.8841e+01      6.91e-04       3.02e-06       3.61e+01    \n",
      "      223            282        2.8840e+01      1.21e-03       5.88e-06       3.49e+01    \n",
      "      224            283        2.8838e+01      1.98e-03       1.15e-05       4.09e+01    \n",
      "      225            284        2.8834e+01      3.74e-03       3.40e-05       5.61e+01    \n",
      "      226            286        2.8833e+01      1.18e-03       2.35e-05       3.54e+01    \n",
      "      227            287        2.8831e+01      2.08e-03       1.15e-05       3.33e+01    \n",
      "      228            288        2.8828e+01      3.69e-03       3.04e-05       6.37e+01    \n",
      "      229            290        2.8827e+01      6.56e-04       2.56e-05       3.68e+01    \n",
      "      230            291        2.8825e+01      2.28e-03       1.20e-05       3.38e+01    \n",
      "      231            292        2.8821e+01      3.56e-03       2.57e-05       9.19e+01    \n",
      "      232            295        2.8821e+01      4.72e-04       7.09e-06       3.90e+01    \n",
      "      233            296        2.8820e+01      4.71e-04       4.15e-06       4.05e+01    \n",
      "      234            297        2.8819e+01      9.40e-04       8.50e-06       4.27e+01    \n",
      "      235            298        2.8817e+01      1.87e-03       1.76e-05       3.61e+01    \n",
      "      236            299        2.8814e+01      3.72e-03       3.18e-05       5.16e+01    \n",
      "      237            301        2.8812e+01      1.12e-03       2.28e-05       3.55e+01    \n",
      "      238            302        2.8810e+01      2.09e-03       1.16e-05       3.33e+01    \n",
      "      239            303        2.8807e+01      3.65e-03       2.81e-05       6.91e+01    \n",
      "      240            305        2.8806e+01      4.97e-04       2.56e-05       3.89e+01    \n",
      "      241            306        2.8805e+01      6.76e-04       3.06e-06       3.58e+01    \n",
      "      242            307        2.8804e+01      1.19e-03       5.93e-06       3.46e+01    \n",
      "      243            308        2.8802e+01      1.95e-03       1.13e-05       3.46e+01    \n",
      "      244            309        2.8799e+01      3.71e-03       3.12e-05       4.83e+01    \n",
      "      245            311        2.8797e+01      1.19e-03       2.20e-05       3.53e+01    \n",
      "      246            312        2.8795e+01      2.06e-03       1.16e-05       3.31e+01    \n",
      "      247            313        2.8792e+01      3.65e-03       2.77e-05       6.59e+01    \n",
      "      248            315        2.8791e+01      5.72e-04       2.49e-05       3.78e+01    \n",
      "      249            316        2.8789e+01      2.30e-03       1.23e-05       3.37e+01    \n",
      "      250            317        2.8785e+01      3.51e-03       2.36e-05       9.84e+01    \n",
      "      251            320        2.8785e+01      4.76e-04       7.05e-06       3.29e+01    \n",
      "      252            321        2.8784e+01      4.67e-04       3.82e-06       3.44e+01    \n",
      "      253            322        2.8783e+01      9.31e-04       7.82e-06       3.66e+01    \n",
      "      254            323        2.8782e+01      1.85e-03       1.63e-05       3.29e+01    \n",
      "      255            324        2.8778e+01      3.66e-03       2.80e-05       5.83e+01    \n",
      "      256            326        2.8777e+01      7.74e-04       2.35e-05       3.59e+01    \n",
      "      257            327        2.8775e+01      2.21e-03       1.21e-05       3.35e+01    \n",
      "      258            328        2.8771e+01      3.54e-03       2.40e-05       9.06e+01    \n",
      "      259            331        2.8771e+01      4.65e-04       6.82e-06       3.27e+01    \n",
      "      260            332        2.8771e+01      4.66e-04       3.65e-06       3.26e+01    \n",
      "      261            333        2.8770e+01      9.29e-04       7.49e-06       3.41e+01    \n",
      "      262            334        2.8768e+01      1.85e-03       1.57e-05       3.28e+01    \n",
      "      263            335        2.8764e+01      3.66e-03       2.77e-05       5.55e+01    \n",
      "      264            337        2.8763e+01      8.46e-04       2.28e-05       3.57e+01    \n",
      "      265            338        2.8761e+01      2.18e-03       1.21e-05       3.33e+01    \n",
      "      266            339        2.8758e+01      3.55e-03       2.39e-05       8.79e+01    \n",
      "      267            341        2.8757e+01      2.01e-05       2.68e-05       4.48e+01    \n",
      "      268            342        2.8757e+01      7.29e-04       3.22e-06       3.79e+01    \n",
      "      269            343        2.8755e+01      1.27e-03       6.23e-06       3.48e+01    \n",
      "      270            344        2.8753e+01      2.00e-03       1.16e-05       3.28e+01    \n",
      "      271            345        2.8750e+01      3.64e-03       2.67e-05       6.09e+01    \n",
      "      272            347        2.8749e+01      6.86e-04       2.34e-05       3.58e+01    \n",
      "      273            348        2.8747e+01      2.24e-03       1.24e-05       3.34e+01    \n",
      "      274            349        2.8743e+01      3.50e-03       2.31e-05       9.61e+01    \n",
      "      275            352        2.8743e+01      4.68e-04       6.87e-06       3.25e+01    \n",
      "      276            353        2.8742e+01      4.63e-04       3.52e-06       3.24e+01    \n",
      "      277            354        2.8742e+01      9.24e-04       7.22e-06       3.23e+01    \n",
      "      278            355        2.8740e+01      1.83e-03       1.52e-05       3.27e+01    \n",
      "      279            356        2.8736e+01      3.63e-03       2.60e-05       6.25e+01    \n",
      "      280            358        2.8735e+01      6.34e-04       2.35e-05       3.66e+01    \n",
      "      281            359        2.8733e+01      2.25e-03       1.25e-05       3.34e+01    \n",
      "      282            360        2.8730e+01      3.48e-03       2.27e-05       9.91e+01    \n",
      "      283            363        2.8729e+01      4.71e-04       6.91e-06       3.24e+01    \n",
      "      284            364        2.8729e+01      4.62e-04       3.46e-06       3.23e+01    \n",
      "      285            365        2.8728e+01      9.22e-04       7.09e-06       3.22e+01    \n",
      "      286            366        2.8726e+01      1.82e-03       1.50e-05       3.27e+01    \n",
      "      287            367        2.8722e+01      3.61e-03       2.52e-05       6.63e+01    \n",
      "      288            369        2.8722e+01      5.21e-04       2.38e-05       3.81e+01    \n",
      "      289            370        2.8721e+01      6.66e-04       3.16e-06       3.53e+01    \n",
      "      290            371        2.8720e+01      1.17e-03       6.09e-06       3.42e+01    \n",
      "      291            372        2.8718e+01      1.92e-03       1.14e-05       3.24e+01    \n",
      "      292            373        2.8715e+01      3.65e-03       2.72e-05       4.64e+01    \n",
      "      293            375        2.8713e+01      1.08e-03       2.06e-05       3.50e+01    \n",
      "      294            376        2.8711e+01      2.07e-03       1.20e-05       3.28e+01    \n",
      "      295            377        2.8708e+01      3.57e-03       2.40e-05       7.56e+01    \n",
      "      296            379        2.8708e+01      2.69e-04       2.50e-05       4.15e+01    \n",
      "      297            380        2.8707e+01      6.96e-04       3.23e-06       3.55e+01    \n",
      "      298            381        2.8706e+01      1.22e-03       6.23e-06       3.43e+01    \n",
      "      299            382        2.8704e+01      1.95e-03       1.16e-05       3.24e+01    \n",
      "      300            383        2.8700e+01      3.63e-03       2.60e-05       5.44e+01    \n",
      "      301            385        2.8699e+01      8.48e-04       2.19e-05       3.53e+01    \n",
      "      302            386        2.8697e+01      2.15e-03       1.24e-05       3.30e+01    \n",
      "      303            387        2.8694e+01      3.50e-03       2.29e-05       8.99e+01    \n",
      "      304            390        2.8693e+01      4.57e-04       6.63e-06       3.23e+01    \n",
      "      305            391        2.8693e+01      4.60e-04       3.27e-06       3.22e+01    \n",
      "      306            392        2.8692e+01      9.16e-04       6.73e-06       3.20e+01    \n",
      "      307            393        2.8690e+01      1.82e-03       1.43e-05       3.25e+01    \n",
      "      308            394        2.8686e+01      3.60e-03       2.48e-05       6.32e+01    \n",
      "      309            396        2.8686e+01      5.87e-04       2.31e-05       3.70e+01    \n",
      "      310            397        2.8683e+01      2.25e-03       1.27e-05       3.32e+01    \n",
      "      311            398        2.8680e+01      3.43e-03       2.23e-05       1.03e+02    \n",
      "      312            400        2.8680e+01      0.00e+00       0.00e+00       1.03e+02    \n",
      "The maximum number of function evaluations is exceeded.\n",
      "Function evaluations 400, initial cost 2.7193e+07, final cost 2.8680e+01, first-order optimality 1.03e+02.\n"
     ]
    }
   ],
   "source": [
    "x0 = [0.15,  0.5, -0.05,  0.1]      # initial guess: [σ, λ, m, v]\n",
    "bounds = ( [1e-3, 1e-2, -10, 0], [2, 10, 5, 5] )\n",
    "\n",
    "def cost_function(x, strikes, mkt_prices):\n",
    "    sigma, lambd, meanJ, stdJ = x\n",
    "    M = Merton_pricer(S0, None, T, r, q, sigma, lambd, meanJ, stdJ, exercise)\n",
    "    sq_err = np.sum(c_weights*(M.closed_formula_call(strikes) - mkt_prices)**2)\n",
    "    return sq_err\n",
    "\n",
    "start2 = time.time()\n",
    "mert2 = scpo.least_squares(cost_function, x0, args=(call_strikes, call_prices), bounds=bounds, method = 'trf', verbose=2)\n",
    "end2 = time.time()\n",
    "\n",
    "mert_params2 = [round(p,4) for p in mert2.x[:4]]"
   ],
   "metadata": {
    "collapsed": false,
    "ExecuteTime": {
     "end_time": "2023-08-31T11:01:59.670581100Z",
     "start_time": "2023-08-31T11:00:23.297382700Z"
    }
   }
  },
  {
   "cell_type": "code",
   "execution_count": 15,
   "outputs": [
    {
     "name": "stdout",
     "output_type": "stream",
     "text": [
      "WEIGHTED OPT: CURVE_FIT (trf)\n",
      "> Calibrated Volatlity [σ] = 0.2168 \t 21.68%\n",
      "> Calibrated Jump intensity [λ] =  5.0\n",
      "> Calibrated Jump Mean =  -0.08\n",
      "> Calibrated Jump St. dev.  =  1e-05\n",
      "ELAPSED TIME: 32.08518719673157 sec\n",
      "\n",
      "METHOD 1: LEAST SQUARES (trf)\n",
      "> Calibrated Volatlity [σ] = 0.2548 \t 25.48%\n",
      "> Calibrated Jump intensity [λ] =  0.24\n",
      "> Calibrated Jump Mean =  -0.122\n",
      "> Calibrated Jump St. dev.  =  0.197\n",
      "TIME ELAPSED:  81.89 sec\n"
     ]
    }
   ],
   "source": [
    "print('WEIGHTED OPT: CURVE_FIT (trf)')\n",
    "print(f'> Calibrated Volatlity [σ] = {round(mert1[0][0],4)} \\t {round(mert1[0][0]*100,2)}%')\n",
    "print('> Calibrated Jump intensity [λ] = ', round(mert1[0][1],2))\n",
    "print('> Calibrated Jump Mean = ', round(mert1[0][2],2))\n",
    "print('> Calibrated Jump St. dev.  = ', round(mert1[0][3],5))\n",
    "print(f'ELAPSED TIME: {end1-start1} sec')\n",
    "\n",
    "print('\\nMETHOD 1: LEAST SQUARES (trf)')\n",
    "print(f'> Calibrated Volatlity [σ] = {mert_params2[0]} \\t {round(mert_params2[0]*100,2)}%')\n",
    "print('> Calibrated Jump intensity [λ] = ', round(mert_params2[1],2))\n",
    "print('> Calibrated Jump Mean = ', round(mert_params2[2],3))\n",
    "print('> Calibrated Jump St. dev.  = ', round(mert_params2[3],3))\n",
    "print(f'TIME ELAPSED:  {round(end2-start2,2)} sec')"
   ],
   "metadata": {
    "collapsed": false,
    "ExecuteTime": {
     "end_time": "2023-08-31T11:01:59.671597400Z",
     "start_time": "2023-08-31T11:01:45.190105800Z"
    }
   }
  },
  {
   "cell_type": "code",
   "execution_count": 1,
   "outputs": [
    {
     "ename": "NameError",
     "evalue": "name 'mert_params2' is not defined",
     "output_type": "error",
     "traceback": [
      "\u001B[1;31m---------------------------------------------------------------------------\u001B[0m",
      "\u001B[1;31mNameError\u001B[0m                                 Traceback (most recent call last)",
      "Cell \u001B[1;32mIn[1], line 1\u001B[0m\n\u001B[1;32m----> 1\u001B[0m \u001B[38;5;28mprint\u001B[39m(\u001B[43mmert_params2\u001B[49m)\n\u001B[0;32m      2\u001B[0m calls_mert_params_aapl \u001B[38;5;241m=\u001B[39m mert_params2\n\u001B[0;32m      3\u001B[0m get_ipython()\u001B[38;5;241m.\u001B[39mrun_line_magic(\u001B[38;5;124m'\u001B[39m\u001B[38;5;124mstore\u001B[39m\u001B[38;5;124m'\u001B[39m, \u001B[38;5;124m'\u001B[39m\u001B[38;5;124mcalls_mert_params_aapl\u001B[39m\u001B[38;5;124m'\u001B[39m)\n",
      "\u001B[1;31mNameError\u001B[0m: name 'mert_params2' is not defined"
     ]
    }
   ],
   "source": [
    "print(mert_params2)\n",
    "calls_mert_params_aapl = mert_params2\n",
    "%store calls_mert_params_aapl"
   ],
   "metadata": {
    "collapsed": false,
    "ExecuteTime": {
     "end_time": "2023-08-31T13:47:51.905245700Z",
     "start_time": "2023-08-31T13:47:51.390801600Z"
    }
   }
  },
  {
   "cell_type": "markdown",
   "source": [
    "### Kou Jump Diffusion\n"
   ],
   "metadata": {
    "collapsed": false
   }
  },
  {
   "cell_type": "code",
   "execution_count": 17,
   "outputs": [],
   "source": [
    "x0 = [0.2, 0.7, 0.5, 8, 10] # initial guess: [σ, λ, p, η_1, η_2]\n",
    "bounds = ( [1e-2, 1e-1, 0, 0.5, 0.5], [0.5, 4, 1, 15, 20] )"
   ],
   "metadata": {
    "collapsed": false,
    "ExecuteTime": {
     "end_time": "2023-08-31T11:01:59.671597400Z",
     "start_time": "2023-08-31T11:01:45.208929400Z"
    }
   }
  },
  {
   "cell_type": "markdown",
   "source": [
    "##### Method 1. TRF (Bounds)"
   ],
   "metadata": {
    "collapsed": false
   }
  },
  {
   "cell_type": "code",
   "execution_count": 18,
   "outputs": [],
   "source": [
    "# def f_Kou(x, sigma, lambd, p, eta1, eta2):\n",
    "#     KouJD = Kou_pricer(S0=S0, K=x, ttm=T, r=r, sigma=sigma, lambd=lambd, p=p, eta1=eta1, eta2=eta2, exercise=exercise)\n",
    "#     return KouJD.closed_formula_call(x)\n",
    "#\n",
    "# start1 = time.time()\n",
    "# kou1 = scpo.curve_fit(f_Kou, call_strikes, call_prices, p0=x0, bounds=bounds, sigma=c_weights)\n",
    "# end1 = time.time()\n",
    "#\n",
    "# kou_params1 = [round(p,4) for p in kou1[0][:5]]"
   ],
   "metadata": {
    "collapsed": false,
    "ExecuteTime": {
     "end_time": "2023-08-31T11:01:59.671597400Z",
     "start_time": "2023-08-31T11:01:45.219297800Z"
    }
   }
  },
  {
   "cell_type": "markdown",
   "source": [
    "##### Method 2. LEAST SQUARES (With Bounds)"
   ],
   "metadata": {
    "collapsed": false
   }
  },
  {
   "cell_type": "code",
   "execution_count": null,
   "outputs": [],
   "source": [
    "kou_params2 = [round(p,4) for p in kou2.x[:5]]"
   ],
   "metadata": {
    "collapsed": false,
    "is_executing": true
   }
  },
  {
   "cell_type": "code",
   "execution_count": null,
   "outputs": [],
   "source": [
    "# print('WEIGHTED OPT: CURVE_FIT (trf)')\n",
    "# print(f'> Calibrated Volatlity [σ] = {kou_params1[0]} \\t {kou_params1[0] * 100}%')\n",
    "# print('> Calibrated Jump intensity [λ] = ', kou_params1[1])\n",
    "# print(f'> Calibrated Upward Jump probability [p] = {kou_params1[2]}, [q] = {round(1 - kou_params1[2], 2)}')\n",
    "# print('> Calibrated Rate of Exp. 1  [η_1] = ', kou_params1[3])\n",
    "# print('> Calibrated Rate of Exp. 2  [η_2] = ', kou_params1[4])\n",
    "# print(f'TIME ELAPSED: {end1-start1} sec')"
   ],
   "metadata": {
    "collapsed": false,
    "is_executing": true
   }
  },
  {
   "cell_type": "code",
   "execution_count": 2,
   "outputs": [
    {
     "name": "stdout",
     "output_type": "stream",
     "text": [
      "METHOD 2: Least-squares\n"
     ]
    },
    {
     "ename": "NameError",
     "evalue": "name 'kou_params2' is not defined",
     "output_type": "error",
     "traceback": [
      "\u001B[1;31m---------------------------------------------------------------------------\u001B[0m",
      "\u001B[1;31mNameError\u001B[0m                                 Traceback (most recent call last)",
      "Cell \u001B[1;32mIn[2], line 2\u001B[0m\n\u001B[0;32m      1\u001B[0m \u001B[38;5;28mprint\u001B[39m(\u001B[38;5;124m'\u001B[39m\u001B[38;5;124mMETHOD 2: Least-squares\u001B[39m\u001B[38;5;124m'\u001B[39m)\n\u001B[1;32m----> 2\u001B[0m \u001B[38;5;28mprint\u001B[39m(\u001B[38;5;124mf\u001B[39m\u001B[38;5;124m'\u001B[39m\u001B[38;5;124m> Calibrated Volatlity [σ] = \u001B[39m\u001B[38;5;132;01m{\u001B[39;00m\u001B[38;5;28mround\u001B[39m(\u001B[43mkou_params2\u001B[49m[\u001B[38;5;241m0\u001B[39m],\u001B[38;5;241m4\u001B[39m)\u001B[38;5;132;01m}\u001B[39;00m\u001B[38;5;124m \u001B[39m\u001B[38;5;130;01m\\t\u001B[39;00m\u001B[38;5;124m \u001B[39m\u001B[38;5;132;01m{\u001B[39;00m\u001B[38;5;28mround\u001B[39m(kou_params2[\u001B[38;5;241m0\u001B[39m]\u001B[38;5;241m*\u001B[39m\u001B[38;5;241m100\u001B[39m,\u001B[38;5;241m2\u001B[39m)\u001B[38;5;132;01m}\u001B[39;00m\u001B[38;5;124m%\u001B[39m\u001B[38;5;124m'\u001B[39m)\n\u001B[0;32m      3\u001B[0m \u001B[38;5;28mprint\u001B[39m(\u001B[38;5;124m'\u001B[39m\u001B[38;5;124m> Calibrated Jump intensity [λ] = \u001B[39m\u001B[38;5;124m'\u001B[39m, \u001B[38;5;28mround\u001B[39m(kou_params2[\u001B[38;5;241m1\u001B[39m],\u001B[38;5;241m2\u001B[39m))\n\u001B[0;32m      4\u001B[0m \u001B[38;5;28mprint\u001B[39m(\u001B[38;5;124mf\u001B[39m\u001B[38;5;124m'\u001B[39m\u001B[38;5;124m> Calibrated Upward Jump probability [p] = \u001B[39m\u001B[38;5;132;01m{\u001B[39;00m\u001B[38;5;28mround\u001B[39m(kou_params2[\u001B[38;5;241m2\u001B[39m],\u001B[38;5;241m2\u001B[39m)\u001B[38;5;132;01m}\u001B[39;00m\u001B[38;5;124m, [q] = \u001B[39m\u001B[38;5;132;01m{\u001B[39;00m\u001B[38;5;28mround\u001B[39m(\u001B[38;5;241m1\u001B[39m\u001B[38;5;241m-\u001B[39mkou_params2[\u001B[38;5;241m2\u001B[39m],\u001B[38;5;241m2\u001B[39m)\u001B[38;5;132;01m}\u001B[39;00m\u001B[38;5;124m'\u001B[39m)\n",
      "\u001B[1;31mNameError\u001B[0m: name 'kou_params2' is not defined"
     ]
    }
   ],
   "source": [
    "print('METHOD 2: Least-squares')\n",
    "print(f'> Calibrated Volatlity [σ] = {round(kou_params2[0],4)} \\t {round(kou_params2[0]*100,2)}%')\n",
    "print('> Calibrated Jump intensity [λ] = ', round(kou_params2[1],2))\n",
    "print(f'> Calibrated Upward Jump probability [p] = {round(kou_params2[2],2)}, [q] = {round(1-kou_params2[2],2)}')\n",
    "print('> Calibrated Rate of Exp. 1  [η_1] = ', round(kou_params2[3],2))\n",
    "print('> Calibrated Rate of Exp. 2  [η_2] = ', round(kou_params2[4],2))\n",
    "print(f'TIME ELAPSED:  {round(end2-start2,2)} sec')"
   ],
   "metadata": {
    "collapsed": false,
    "ExecuteTime": {
     "end_time": "2023-08-31T13:49:57.214671200Z",
     "start_time": "2023-08-31T13:49:57.179126800Z"
    }
   }
  },
  {
   "cell_type": "code",
   "execution_count": null,
   "outputs": [],
   "source": [
    "calls_kou_params_aapl = kou_params2\n",
    "%store calls_kou_params_aapl\n",
    "print(kou_params2)"
   ],
   "metadata": {
    "collapsed": false,
    "is_executing": true
   }
  },
  {
   "cell_type": "markdown",
   "source": [
    "### Variance Gamma\n"
   ],
   "metadata": {
    "collapsed": false
   }
  },
  {
   "cell_type": "code",
   "execution_count": null,
   "outputs": [],
   "source": [
    "x0 = [0.25, -0.2, 0.2]   # initial guess: [σ, θ, v]\n",
    "bounds = ( [1e-3, -5, 0], [1, 5, 5] )"
   ],
   "metadata": {
    "collapsed": false,
    "is_executing": true
   }
  },
  {
   "cell_type": "markdown",
   "source": [
    "##### Method 1. CURVE FIT (Bounds)"
   ],
   "metadata": {
    "collapsed": false
   }
  },
  {
   "cell_type": "code",
   "execution_count": null,
   "outputs": [],
   "source": [
    "def f_VG(strikes, sigmax, thetax, nux):\n",
    "    VGamma = VG_pricer(S0=S0, K=None, ttm=T, r=r, q=0, sigma=sigmax, theta=thetax, nu=nux, exercise=exercise)\n",
    "    vg_prices = []\n",
    "    for k in strikes:\n",
    "        vg_prices.append(VGamma.closed_formula_call(k))\n",
    "    return vg_prices\n",
    "\n",
    "start1 = time.time()\n",
    "vg1 = scpo.curve_fit(f_VG, call_strikes, call_prices, p0=x0, bounds=bounds, sigma=c_weights)\n",
    "end1 = time.time()\n",
    "\n",
    "vg_params1 = [round(p,4) for p in vg1[0][:3]]"
   ],
   "metadata": {
    "collapsed": false,
    "is_executing": true
   }
  },
  {
   "cell_type": "markdown",
   "source": [
    "##### Method 2. LEAST-SQUARES (Trust Region Reflective, Bounds)"
   ],
   "metadata": {
    "collapsed": false
   }
  },
  {
   "cell_type": "code",
   "execution_count": null,
   "outputs": [],
   "source": [
    "def cost_function(x, strikes, mkt_prices):\n",
    "    sigma, theta, nu = x\n",
    "    VG = VG_pricer(S0, None, T, r, q, sigma, theta, nu, exercise)\n",
    "    prices = []\n",
    "    for k in strikes:\n",
    "        prices.append(VG.closed_formula_call(k))\n",
    "    sq_err = np.sum(c_weights*(prices - mkt_prices)**2)\n",
    "    return sq_err\n",
    "\n",
    "start2=time.time()\n",
    "vg2 = scpo.least_squares(cost_function, x0, args=(call_strikes, call_prices),  method='trf', bounds=bounds, verbose=2, loss='soft_l1')\n",
    "end2=time.time()\n",
    "\n",
    "vg_params2 = [round(p,4) for p in vg2.x[:3]]"
   ],
   "metadata": {
    "collapsed": false,
    "is_executing": true
   }
  },
  {
   "cell_type": "code",
   "execution_count": null,
   "outputs": [],
   "source": [
    "print('WEIGHTED OPT: CURVE_FIT (trf)')\n",
    "print(f'> Calibrated Volatlity [σ] = {vg_params1[0]}, \\t {round(vg_params1[0]*100,2)}%')\n",
    "print('> Calibrated mean rate gamma process [θ] = ', vg_params1[1])\n",
    "print('> Calibrated variance rate gamma process [v]= ', vg_params1[2])\n",
    "print(f'TIME ELAPSED:  {round(end1-start1,2)} sec')\n",
    "\n",
    "print('METHOD 1: LEAST-SQUARES (trf)')\n",
    "print(f'> Calibrated Volatlity [σ] = {vg_params2[0]}, \\t {round(vg_params2[0]*100,2)}%')\n",
    "print('> Calibrated mean rate gamma process [θ] = ', vg_params2[1])\n",
    "print('> Calibrated variance rate gamma process [v]= ', vg_params2[2])\n",
    "print(f'TIME ELAPSED:  {round(end2-start2,2)} sec')"
   ],
   "metadata": {
    "collapsed": false,
    "is_executing": true
   }
  },
  {
   "cell_type": "code",
   "execution_count": null,
   "outputs": [],
   "source": [
    "print(vg_params1)\n",
    "print(vg_params2)\n",
    "calls_vg_params_aapl = vg_params2\n",
    "%store calls_vg_params_aapl"
   ],
   "metadata": {
    "collapsed": false,
    "is_executing": true
   }
  },
  {
   "cell_type": "markdown",
   "source": [
    "### Reprice options using calibrated parameters\n",
    "Once we have calibrated all the models, we test our parameters calibration by repricing the original dataframe of options. The table contains all the **BID**, **ASK** and **MIDPOINT** prices. The calibration is well perfromed if the prices we obtain belong to the interval $[BID, ASK]$."
   ],
   "metadata": {
    "collapsed": false
   }
  },
  {
   "cell_type": "code",
   "execution_count": null,
   "outputs": [],
   "source": [
    "days = 252\n",
    "paths = 1000\n",
    "\n",
    "call_calib_prices = pd.DataFrame({\n",
    "    'STRIKE': calls['STRIKE'],    # array of K for call options\n",
    "    'MKT_BID': calls['C_BID'],\n",
    "    'MKT_MID': calls['C_Midpoint'],\n",
    "    'MKT_ASK': calls['C_ASK'],\n",
    "})\n",
    "print(f'MARKET PRICES. STARTING DATE = 20-01-2016. EXPIRY = 1YEAR. \\n\\n{call_calib_prices}')"
   ],
   "metadata": {
    "collapsed": false,
    "is_executing": true
   }
  },
  {
   "cell_type": "markdown",
   "source": [
    "#### Merton Jump Diffusion model"
   ],
   "metadata": {
    "collapsed": false
   }
  },
  {
   "cell_type": "code",
   "execution_count": null,
   "outputs": [],
   "source": [
    "sigma, lambd, meanJ, stdJ = mert_params2\n",
    "MertonCAL = Merton_pricer(S0, None, T, r, q, sigma, lambd, meanJ, stdJ, exercise)\n",
    "SMerton_CAL = MertonCAL.MertonPath(days, paths)\n",
    "\n",
    "avg_payoffs = []\n",
    "for k in call_strikes:\n",
    "    payoffs = []        # stores here the payoff for each path, for a specific couple K1-K2\n",
    "    for St in SMerton_CAL[-1]:\n",
    "        payoffs.append(MertonCAL.payoff_call(k, St))\n",
    "    avg_payoffs.append(np.mean(payoffs))\n",
    "\n",
    "merton_mc_prices = np.zeros(len(call_calib_prices))\n",
    "merton_cf_prices = np.zeros(len(call_calib_prices))\n",
    "\n",
    "for index in range(len(call_calib_prices)):\n",
    "    merton_mc_prices[index] = np.exp(-r*T)* avg_payoffs[index]\n",
    "    merton_cf_prices[index] = MertonCAL.closed_formula_call(call_strikes[index])\n",
    "\n",
    "call_calib_prices['MERTON MC'] = merton_mc_prices\n",
    "call_calib_prices['MERTON CF'] = merton_cf_prices\n",
    "\n",
    "print(call_calib_prices)"
   ],
   "metadata": {
    "collapsed": false,
    "is_executing": true
   }
  },
  {
   "cell_type": "code",
   "execution_count": null,
   "outputs": [],
   "source": [
    "sigma, lambd, p, eta1, eta2 = kou_params2\n",
    "KouCAL = Kou_pricer(S0, None, T, r, sigma, lambd, p, eta1, eta2, exercise)\n",
    "SKou_CAL = KouCAL.KouPath(days, paths)\n",
    "\n",
    "avg_payoffs = []\n",
    "for k in call_strikes:\n",
    "    payoffs = []        # stores here the payoff for each path, for a specific couple K1-K2\n",
    "    for St in SKou_CAL[-1]:\n",
    "        payoffs.append(KouCAL.payoff_call(k, St))\n",
    "    avg_payoffs.append(np.mean(payoffs))\n",
    "\n",
    "kou_mc_prices = np.zeros(len(call_calib_prices))\n",
    "kou_cf_prices = np.zeros(len(call_calib_prices))\n",
    "\n",
    "for index in range(len(call_calib_prices)):\n",
    "    kou_mc_prices[index] = np.exp(-r*T)* avg_payoffs[index]\n",
    "    kou_cf_prices[index] = KouCAL.closed_formula_call(call_strikes[index])\n",
    "\n",
    "call_calib_prices['KOU MC'] = kou_mc_prices\n",
    "call_calib_prices['KOU CF'] = kou_cf_prices\n",
    "\n",
    "selection = [0,1,2,3,6,7]\n",
    "print(call_calib_prices.iloc[:, selection])"
   ],
   "metadata": {
    "collapsed": false,
    "is_executing": true
   }
  },
  {
   "cell_type": "code",
   "execution_count": null,
   "outputs": [],
   "source": [
    "sigm, theta, nu = vg_params2\n",
    "VGCAL = VG_pricer(S0, None, T, r, q, sigm, theta, nu, exercise)\n",
    "SVarGamma_CAL = VGCAL.VarianceGammaPath2(days, paths)\n",
    "\n",
    "avg_payoffs = []\n",
    "for k in call_strikes:\n",
    "    payoffs = []        # stores here the payoff for each path, for a specific couple K1-K2\n",
    "    for St in SVarGamma_CAL[-1]:\n",
    "        payoffs.append(VGCAL.payoff_call(k, St))\n",
    "    avg_payoffs.append(np.mean(payoffs))\n",
    "\n",
    "vg_mc_prices = np.zeros(len(call_calib_prices))\n",
    "vg_cf_prices = np.zeros(len(call_calib_prices))\n",
    "\n",
    "for index in range(len(call_calib_prices)):\n",
    "    vg_mc_prices[index] = np.exp(-r*T)* avg_payoffs[index]\n",
    "    vg_cf_prices[index] = VGCAL.closed_formula_call(call_strikes[index])\n",
    "\n",
    "call_calib_prices['VG MC'] = vg_mc_prices\n",
    "call_calib_prices['VG CF'] = vg_cf_prices\n",
    "\n",
    "selection = [0,1,2,3,8,9]\n",
    "print(call_calib_prices.iloc[:, selection])"
   ],
   "metadata": {
    "collapsed": false,
    "is_executing": true
   }
  },
  {
   "cell_type": "code",
   "execution_count": null,
   "outputs": [],
   "source": [
    "print(call_calib_prices)"
   ],
   "metadata": {
    "collapsed": false,
    "is_executing": true
   }
  },
  {
   "cell_type": "markdown",
   "source": [
    "### Visualize calibration results"
   ],
   "metadata": {
    "collapsed": false
   }
  },
  {
   "cell_type": "markdown",
   "source": [
    "#### Closed Formulas Option pricing"
   ],
   "metadata": {
    "collapsed": false
   }
  },
  {
   "cell_type": "code",
   "execution_count": null,
   "outputs": [],
   "source": [
    "fig = plt.figure(figsize=(17, 4))\n",
    "ax1 = fig.add_subplot(131)\n",
    "ax2 = fig.add_subplot(132)\n",
    "ax3 = fig.add_subplot(133)\n",
    "ax1.plot(call_strikes, call_prices, \".\", label=\"midpoint\")\n",
    "ax2.plot(call_strikes, call_prices, \".\", label=\"midpoint\")\n",
    "ax3.plot(call_strikes, call_prices, \".\", label=\"midpoint\")\n",
    "ax1.plot(call_strikes, merton_cf_prices, label=\"Merton\")\n",
    "ax2.plot(call_strikes, kou_cf_prices, label=\"Kou\")\n",
    "ax3.plot(call_strikes, vg_cf_prices, label=\"VG\")\n",
    "ax1.set_title(\"Merton model\")\n",
    "ax2.set_title(\"Kou model\")\n",
    "ax3.set_title(\"VG model\")\n",
    "ax1.set_xlabel(\"strike\")\n",
    "ax2.set_xlabel(\"strike\")\n",
    "ax3.set_xlabel(\"strike\")\n",
    "ax1.legend()\n",
    "ax2.legend()\n",
    "ax3.legend()\n",
    "plt.show()"
   ],
   "metadata": {
    "collapsed": false,
    "is_executing": true
   }
  },
  {
   "cell_type": "markdown",
   "source": [
    "#### Monte Carlo option pricing"
   ],
   "metadata": {
    "collapsed": false
   }
  },
  {
   "cell_type": "code",
   "execution_count": null,
   "outputs": [],
   "source": [
    "fig = plt.figure(figsize=(17, 4))\n",
    "ax1 = fig.add_subplot(131)\n",
    "ax2 = fig.add_subplot(132)\n",
    "ax3 = fig.add_subplot(133)\n",
    "ax1.plot(call_strikes, call_prices, \".\", label=\"midpoint\")\n",
    "ax2.plot(call_strikes, call_prices, \".\", label=\"midpoint\")\n",
    "ax3.plot(call_strikes, call_prices, \".\", label=\"midpoint\")\n",
    "ax1.plot(call_strikes, merton_mc_prices, label=\"Merton\")\n",
    "ax2.plot(call_strikes, kou_mc_prices, label=\"Kou\")\n",
    "ax3.plot(call_strikes, vg_mc_prices, label=\"VG\")\n",
    "ax1.set_title(\"Merton model\")\n",
    "ax2.set_title(\"Kou model\")\n",
    "ax3.set_title(\"VG model\")\n",
    "ax1.set_xlabel(\"strike\")\n",
    "ax2.set_xlabel(\"strike\")\n",
    "ax3.set_xlabel(\"strike\")\n",
    "ax1.legend()\n",
    "ax2.legend()\n",
    "ax3.legend()\n",
    "plt.show()"
   ],
   "metadata": {
    "collapsed": false,
    "is_executing": true
   }
  },
  {
   "cell_type": "code",
   "execution_count": null,
   "outputs": [],
   "source": [],
   "metadata": {
    "collapsed": false,
    "is_executing": true
   }
  }
 ],
 "metadata": {
  "kernelspec": {
   "display_name": "Python 3",
   "language": "python",
   "name": "python3"
  },
  "language_info": {
   "codemirror_mode": {
    "name": "ipython",
    "version": 2
   },
   "file_extension": ".py",
   "mimetype": "text/x-python",
   "name": "python",
   "nbconvert_exporter": "python",
   "pygments_lexer": "ipython2",
   "version": "2.7.6"
  }
 },
 "nbformat": 4,
 "nbformat_minor": 0
}
