{
 "cells": [
  {
   "cell_type": "markdown",
   "source": [
    "# Calibration of the 4 models using CALL OPTIONS\n",
    "This notebook aims to find the optimal parameters of **Black-Scholes**, **Merton Jump Diffusion**, **Kou Jump Diffusion** and **Variance Gamma** models. To do so, we compute the european option prices using **closed formulas**, available for all the 4 models, and the **Fast Fourier Transform** for the VG model. Given these theoretical prices, the **implied volatilities** are computed comparing them with real market prices, minimizing their difference. Then we estimate the additional parameters of each model, using the python module `scipy.optimize`.\n",
    "\n",
    "*reference: https://github.com/cantaro86/Financial-Models-Numerical-Methods/tree/master*"
   ],
   "metadata": {
    "collapsed": false
   }
  },
  {
   "cell_type": "code",
   "execution_count": 1,
   "metadata": {
    "collapsed": true
   },
   "outputs": [],
   "source": [
    "import numpy as np\n",
    "import pandas as pd\n",
    "import matplotlib.pyplot as plt\n",
    "import random\n",
    "import scipy.optimize as scpo\n",
    "import sys\n",
    "sys.path.append('C:/Users\\ornel\\OneDrive\\Desktop\\TESI\\PythonProjects\\Margin-Loans-Pricing\\python-modules/functions')\n",
    "sys.path.append('C:/Users\\ornel\\OneDrive\\Desktop\\TESI\\PythonProjects\\Margin-Loans-Pricing\\python-modules/calibration')\n",
    "import time\n",
    "\n",
    "from MERTONpricer import Merton_pricer\n",
    "from BSpricer import BS_Pricer\n",
    "from KOUpricer import Kou_pricer\n",
    "from VGpricer import VG_pricer\n",
    "random.seed(120)"
   ]
  },
  {
   "cell_type": "markdown",
   "source": [
    "Let's start retrieving historical prices for **european call** options starting from date **2016-01-20** and expiring **1 year** later. All the data have been collected from [OptionsDX](https://www.optionsdx.com/shop/) and preprocessed in `plainvanilla.py` module. The options that will be used in this notebook are all Out-Of-The-Money (OTM) options."
   ],
   "metadata": {
    "collapsed": false
   }
  },
  {
   "cell_type": "code",
   "execution_count": 2,
   "outputs": [
    {
     "name": "stdout",
     "output_type": "stream",
     "text": [
      "NUM OF CALL OPTS: 15\n",
      "    QUOTE_DATE  UNDERLYING_LAST EXPIRE_DATE  C_BID  C_ASK  STRIKE     C_IV   \n",
      "0   2016-01-20            96.79  2017-01-20  25.10  25.50    75.0  0.32883  \\\n",
      "1   2016-01-20            96.79  2017-01-20  21.51  21.84    80.0  0.32319   \n",
      "2   2016-01-20            96.79  2017-01-20  18.25  18.56    85.0  0.32009   \n",
      "3   2016-01-20            96.79  2017-01-20  16.75  17.05    87.5  0.31782   \n",
      "4   2016-01-20            96.79  2017-01-20  15.30  15.59    90.0  0.31582   \n",
      "5   2016-01-20            96.79  2017-01-20  13.95  14.21    92.5  0.31267   \n",
      "6   2016-01-20            96.79  2017-01-20  12.75  12.95    95.0  0.31286   \n",
      "7   2016-01-20            96.79  2017-01-20  11.55  11.70    97.5  0.30928   \n",
      "8   2016-01-20            96.79  2017-01-20  10.46  10.59   100.0  0.30723   \n",
      "9   2016-01-20            96.79  2017-01-20   8.45   8.61   105.0  0.30361   \n",
      "10  2016-01-20            96.79  2017-01-20   6.74   6.86   110.0  0.29915   \n",
      "11  2016-01-20            96.79  2017-01-20   5.30   5.45   115.0  0.29502   \n",
      "12  2016-01-20            96.79  2017-01-20   4.15   4.24   120.0  0.29087   \n",
      "13  2016-01-20            96.79  2017-01-20   3.20   3.29   125.0  0.28770   \n",
      "14  2016-01-20            96.79  2017-01-20   2.44   2.55   130.0  0.28491   \n",
      "\n",
      "    MONEYNESS  \n",
      "0        0.77  \n",
      "1        0.83  \n",
      "2        0.88  \n",
      "3        0.90  \n",
      "4        0.93  \n",
      "5        0.96  \n",
      "6        0.98  \n",
      "7        1.01  \n",
      "8        1.03  \n",
      "9        1.08  \n",
      "10       1.14  \n",
      "11       1.19  \n",
      "12       1.24  \n",
      "13       1.29  \n",
      "14       1.34  \n"
     ]
    }
   ],
   "source": [
    "df_call = pd.read_csv('../../data/AAPL/OPT16_AAPL_CALLS_75_135.csv')\n",
    "print(f'NUM OF CALL OPTS: {df_call.shape[0]}')\n",
    "print(df_call)"
   ],
   "metadata": {
    "collapsed": false
   }
  },
  {
   "cell_type": "markdown",
   "source": [
    "The dataframes **df_calls** contains 15 options sorted by their strike price, with the moneyness in range [0.75, 1.35]. For our purpose, using the $100\\%$ of this DFs is enough and can lead to very good results. Thus, we sample the rows and then reformulate the dataframe adding **Midpoint** and **Spread** columns."
   ],
   "metadata": {
    "collapsed": false
   }
  },
  {
   "cell_type": "code",
   "execution_count": 4,
   "outputs": [],
   "source": [
    "calls = df_call.sample(frac=1, replace=False).sort_index().reset_index(drop=True)\n",
    "calls['C_Midpoint'] = abs(calls['C_BID'] + calls['C_ASK']) / 2\n",
    "calls['C_Spread'] = calls['C_BID'] - calls['C_ASK']\n",
    "\n",
    "q = 0           # dividend yield\n",
    "r = 0.03        # risk-free interest rate\n",
    "sigma = 0.3     #volatility (variance of diffusion process)\n",
    "S0 = calls.iloc[0]['UNDERLYING_LAST']\n",
    "T = 1           # time-to-maturity\n",
    "call_strikes = calls['STRIKE']    # array of K for call options\n",
    "exercise = 'european'\n",
    "\n",
    "call_prices = calls['C_Midpoint']"
   ],
   "metadata": {
    "collapsed": false
   }
  },
  {
   "cell_type": "markdown",
   "source": [
    "The following code snippet initializes objects of class *BS_pricer*, *Merton_pricer*, *Kou_pricer*, *VG_pricer* with default values as parameters. These parameters serve only as initialization. Best fitting parameetrs will be calibrated consequently and used to correctly price the options according to each model."
   ],
   "metadata": {
    "collapsed": false
   }
  },
  {
   "cell_type": "code",
   "execution_count": 5,
   "outputs": [],
   "source": [
    "BS = BS_Pricer(S0=S0, r=r, q = q, sigma=sigma, ttm=T, exercise=exercise, K=None)\n",
    "Merton = Merton_pricer(S0=S0, K=None, ttm=T, r=r, q = q, sigma=0.15, lambd=0.5, meanJ=-0.1, stdJ=0.1, exercise=exercise)\n",
    "Kou = Kou_pricer(S0=S0, K=None, ttm=T, r=r, sigma=0.15, lambd=0.5, p=0.6, eta1=12, eta2=5, exercise=exercise)\n",
    "VG = VG_pricer(S0, K=None, ttm=T, r=r, q=q, sigma=0.15, theta=-0.2, nu=0.3, exercise=exercise)"
   ],
   "metadata": {
    "collapsed": false
   }
  },
  {
   "cell_type": "markdown",
   "source": [
    "## Implied volatility\n",
    "The function belows implements $3$ methods to comcalle implied volatility: [Newton](https://en.wikipedia.org/wiki/Newton%27s_method) method, the [Bisection](https://en.wikipedia.org/wiki/Bisection_method) method and a more advanced one, named [Brent](https://en.wikipedia.org/wiki/Brent%27s_method) method. Apart from the initial guess, there is no substantial difference in the final result between **Newton** and **bisection** methods (*fsolve*). The **Implied Volatility** is that value $\\sigma$ that must be inserted into the Black-Scholes (BS) formula in order to retrieve the option price quoted in the market:\n",
    "    $$ BS(S, K, T, r, \\sigma) = P,  $$\n",
    "where $S$ is the underlying spot price, $K$ is the strike, $T$ time to maturity, $r$ risk-free interest rate and $P$ the option price quoted in the market. All these quantities are **observable**.\n",
    "   "
   ],
   "metadata": {
    "collapsed": false
   }
  },
  {
   "cell_type": "code",
   "execution_count": 6,
   "outputs": [],
   "source": [
    "def implied_volatility(price, S, strike, t, rate, q, type_o, method='fsolve', disp=True ):\n",
    "    \"\"\" Returns Implied volatility\n",
    "        methods:  fsolve (default) or brent\n",
    "    \"\"\"\n",
    "\n",
    "    def obj_fun(vol):\n",
    "        return BS.BlackScholes(type_o=type_o, S0=S, K=strike, ttm=t, r=rate, q=q, sigma=vol) - price\n",
    "\n",
    "    def vega(vol):\n",
    "        return BS.vega(S, strike, rate, q, vol, t)\n",
    "\n",
    "    if method =='fsolve':\n",
    "        X0 = [0.01, 0.2, 0.35, 7]        #initial guess points for imp.vol.\n",
    "        for x_0 in X0:\n",
    "            x, _, solved, _ = scpo.fsolve(obj_fun, x_0, full_output=True, xtol=1e-8)\n",
    "            if solved == 1:\n",
    "                return x[0]\n",
    "\n",
    "    if disp:\n",
    "        return -1"
   ],
   "metadata": {
    "collapsed": false
   }
  },
  {
   "cell_type": "markdown",
   "source": [
    "The following code snippet computes the implied volatility of **call** options market prices and show a plot of the implied volatilities found by inversion method against the ones provided by the dataframe."
   ],
   "metadata": {
    "collapsed": false
   }
  },
  {
   "cell_type": "code",
   "execution_count": 7,
   "outputs": [
    {
     "name": "stdout",
     "output_type": "stream",
     "text": [
      "Implied volatilities of market prices (calls):\n",
      "S0 = 96.79\n",
      "K = 105.0, IV = 0.3033\n",
      "K = 110.0, IV = 0.2982\n",
      "K = 115.0, IV = 0.2941\n",
      "K = 120.0, IV = 0.2902\n",
      "K = 125.0, IV = 0.2868\n",
      "K = 130.0, IV = 0.2841\n"
     ]
    },
    {
     "data": {
      "text/plain": "<Figure size 1000x500 with 1 Axes>",
      "image/png": "[encoded data removed]"
     },
     "metadata": {},
     "output_type": "display_data"
    }
   ],
   "source": [
    "IV_market = []\n",
    "for i in range(len(call_prices)):\n",
    "    IV_market.append(implied_volatility(call_prices[i], S=S0, strike=call_strikes[i], t = T, rate=0.026, q = 0.02, type_o='call', method='fsolve'))\n",
    "\n",
    "print(f'Implied volatilities of market prices (calls):\\nS0 = {S0}')\n",
    "for a,b in zip(call_strikes.tail(6), IV_market[-6:]):\n",
    "    print(f'K = {a}, IV = {round(b, 4)}')\n",
    "\n",
    "# Plot market implied volatilities w.r.t. log moneyness\n",
    "x = (S0/call_strikes)\n",
    "IV_filtered = [iv for iv in IV_market if iv != -1]\n",
    "x_filtered = [log_m for iv, log_m in zip(IV_market, x) if iv != -1]\n",
    "\n",
    "fig, ax1 = plt.subplots(figsize=(10,5))\n",
    "ax1.scatter(x, IV_market, marker='x', label='BS inversion', color='red')\n",
    "ax1.scatter(x, calls['C_IV'], marker='.', label='provided')\n",
    "ax1.set_xlabel('Moneyness: S0/K'); ax1.set_ylabel('Implied Volatility'); ax1.set_title('Calls volatility smile')\n",
    "ax1.legend(); plt.show()\n"
   ],
   "metadata": {
    "collapsed": false
   }
  },
  {
   "cell_type": "markdown",
   "source": [
    "##  Weighted Calibration (call options)\n",
    "Let's step now into the calibration of model parameters.\n",
    "If we define $\\Theta$ the set of parameters, the goal is to find the optimal parameters $\\Theta^*$ that minimize the following objective function:\n",
    "$$ \\sum_{i=1}^{N} w_i \\biggl( P_i - f(K_i|\\Theta) \\biggr)^2 $$\n",
    "where $w_i$ are weights, usually defined as\n",
    "$$ w_i = \\frac{1}{\\text {spread}_i },$$ $P_i$ are the market prices and $f$ is the pricing function. In our case $f$ is given by **Merton** Jump Diffusion model, **Kou** Jump Diffusion model, or **Variance Gamma** process. To perform this optimization problem, many numerical methods can be used. In particular, we test two functions of `scipy.optimize`:\n",
    "1. **curve_fit**, a least-squares curve fitting method which works with bounds. The default algorithm is [Trust Region Reflective (trf)](https://en.wikipedia.org/wiki/Trust_region). The [Levemberg-Marquadt](https://en.wikipedia.org/wiki/Levenberg%E2%80%93Marquardt_algorithm) has been tried as well, to test the optimization problem without setting boundaries, but the results don't make any sense.\n",
    "2. **Least-Squares**, a constrained minimization problem which uses Trust region reflective method by default. This method is the most indicated to solve the non-linear least squares optimization problem of our purpose.\n",
    "All the optimizations are carried out by initializing a starting point as the array $x_0 = [params]$ and setting feasible bounds.\n"
   ],
   "metadata": {
    "collapsed": false
   },
   "outputs": []
  },
  {
   "cell_type": "code",
   "execution_count": 8,
   "outputs": [],
   "source": [
    "call_spreads = calls['C_Spread']\n",
    "c_weights = 1/ call_spreads**2"
   ],
   "metadata": {
    "collapsed": false
   }
  },
  {
   "cell_type": "markdown",
   "source": [
    "### Black and Scholes model\n",
    "The only unknown parameter to calibrate in Black and Scholes model is the **implied volatility**, $\\sigma$. Thus, we minimize the difference between the computed theoretical prices and the market prices of call options."
   ],
   "metadata": {
    "collapsed": false
   }
  },
  {
   "cell_type": "code",
   "execution_count": 9,
   "outputs": [],
   "source": [
    "x0 = 0.5\n",
    "bounds = [1e-5, 2]\n",
    "\n",
    "def f_BlackScholes_calls(x, sigm):\n",
    "    BS = BS_Pricer(S0=S0, K = x, ttm=T, r=r, q=0, sigma=sigm, exercise=exercise)\n",
    "    return BS.closed_formula_call(x)\n",
    "\n",
    "res1_calls = scpo.curve_fit(f_BlackScholes_calls, call_strikes, call_prices, p0 = x0, bounds=bounds, sigma=c_weights)\n",
    "sigw_p = round(res1_calls[0][0],4)"
   ],
   "metadata": {
    "collapsed": false
   }
  },
  {
   "cell_type": "code",
   "execution_count": 10,
   "outputs": [
    {
     "name": "stdout",
     "output_type": "stream",
     "text": [
      "`ftol` termination condition is satisfied.\n",
      "Function evaluations 26, initial cost 1.0523e+09, final cost 4.0104e+01, first-order optimality 1.07e-01.\n"
     ]
    }
   ],
   "source": [
    "def cost_function(x, strikes, mkt_prices):\n",
    "    sigma = x\n",
    "    BS = BS_Pricer(S0=S0, K = None, ttm=T, r=r, q=0, sigma=sigma, exercise=exercise)\n",
    "    sq_err = np.sum(c_weights* (BS.closed_formula_call(strikes) - mkt_prices)**2)\n",
    "    return sq_err\n",
    "\n",
    "result_p = scpo.least_squares(cost_function, x0, args=(call_strikes, call_prices), bounds=bounds, method = 'trf', verbose=1)\n",
    "calls_bs_params_aapl = result_p.x[0]"
   ],
   "metadata": {
    "collapsed": false
   }
  },
  {
   "cell_type": "code",
   "execution_count": 11,
   "outputs": [
    {
     "name": "stdout",
     "output_type": "stream",
     "text": [
      "METHOD 1: CURVE_FIT (trf)\n",
      "> Calibrated Volatility from Calls [σ] = 0.2674 \t 26.74%\n",
      "METHOD 2: LEAST-SQUARES (trf)\n",
      "> Calibrated Volatility from Calls [σ] = 0.2724253089915217 \t 27.24%\n"
     ]
    }
   ],
   "source": [
    "print('METHOD 1: CURVE_FIT (trf)')\n",
    "print(f'> Calibrated Volatility from Calls [σ] = {sigw_p} \\t {round(sigw_p*100,2)}%')\n",
    "print('METHOD 2: LEAST-SQUARES (trf)')\n",
    "print(f'> Calibrated Volatility from Calls [σ] = {calls_bs_params_aapl} \\t {round(calls_bs_params_aapl*100,2)}%')"
   ],
   "metadata": {
    "collapsed": false
   }
  },
  {
   "cell_type": "markdown",
   "source": [
    "Save parameters to use them in other notebooks"
   ],
   "metadata": {
    "collapsed": false
   }
  },
  {
   "cell_type": "code",
   "execution_count": 12,
   "outputs": [
    {
     "name": "stdout",
     "output_type": "stream",
     "text": [
      "Stored 'calls_bs_params_aapl' (float64)\n"
     ]
    }
   ],
   "source": [
    "%store calls_bs_params_aapl"
   ],
   "metadata": {
    "collapsed": false
   }
  },
  {
   "cell_type": "markdown",
   "source": [
    "### Merton Jump Diffusion\n",
    "The Merton Jump diffusion ones are the volatility $\\sigma$, the Poisson rate of jumps $\\lambda$, the mean rate of jump intensity $m$ and its variance rate $v$, assuming that the intensity of jumps follows a *Normal distribution*.\n"
   ],
   "metadata": {
    "collapsed": false
   }
  },
  {
   "cell_type": "code",
   "execution_count": 13,
   "outputs": [],
   "source": [
    "x0 = [0.15,  0.2, -0.05,  0.01]  # initial guess: [σ, λ, m, v]\n",
    "bounds = ( [1e-3, 1e-2, -5, 1e-5], [2, 5, 5, 2] )"
   ],
   "metadata": {
    "collapsed": false
   }
  },
  {
   "cell_type": "code",
   "execution_count": 14,
   "outputs": [],
   "source": [
    "def f_Mert(x, sigma, lambd, meanJ, stdJ):\n",
    "    Mert = Merton_pricer(S0=S0, K=x, ttm=T, r=r, q=0, sigma=sigma, lambd=lambd, meanJ=meanJ, stdJ=stdJ, exercise=exercise)\n",
    "    return Mert.closed_formula_call(x)\n",
    "\n",
    "start1=time.time()\n",
    "mert1 = scpo.curve_fit(f_Mert, call_strikes, call_prices, p0=x0, bounds=bounds, sigma=call_spreads)\n",
    "end1=time.time()\n",
    "\n",
    "mert_params1 = [round(p,4) for p in mert1[0][:4]]"
   ],
   "metadata": {
    "collapsed": false
   }
  },
  {
   "cell_type": "markdown",
   "source": [
    "##### Method 2. Least-squares"
   ],
   "metadata": {
    "collapsed": false
   }
  },
  {
   "cell_type": "code",
   "execution_count": 17,
   "outputs": [
    {
     "name": "stdout",
     "output_type": "stream",
     "text": [
      "   Iteration     Total nfev        Cost      Cost reduction    Step norm     Optimality   \n",
      "       0              1         2.7193e+07                                    1.52e+09    \n",
      "       1              2         1.4070e+06      2.58e+07       6.24e-01       1.43e+08    \n",
      "       2              3         1.9138e+05      1.22e+06       8.58e-02       1.79e+07    \n",
      "       3              4         1.6650e+05      2.49e+04       8.87e-01       4.25e+07    \n",
      "       4              6         1.1041e+05      5.61e+04       7.62e-02       2.54e+07    \n",
      "       5              8         4.9325e+04      6.11e+04       1.30e-02       5.83e+06    \n",
      "       6             10         3.9194e+04      1.01e+04       5.19e-03       2.98e+06    \n",
      "       7             11         3.2690e+04      6.50e+03       5.33e-03       4.23e+06    \n",
      "       8             12         2.2481e+04      1.02e+04       1.52e-02       2.72e+06    \n",
      "       9             13         1.0728e+04      1.18e+04       2.86e-02       2.70e+06    \n",
      "      10             15         8.7531e+03      1.98e+03       1.99e-02       1.44e+06    \n",
      "      11             16         8.1658e+03      5.87e+02       9.37e-03       3.39e+06    \n",
      "      12             17         6.7032e+03      1.46e+03       4.86e-03       2.38e+06    \n",
      "      13             18         5.0717e+03      1.63e+03       9.81e-03       9.85e+05    \n",
      "      14             19         4.1534e+03      9.18e+02       9.31e-03       5.45e+05    \n",
      "      15             20         3.1487e+03      1.00e+03       1.37e-02       1.15e+06    \n",
      "      16             21         2.2401e+03      9.09e+02       1.93e-02       4.28e+05    \n",
      "      17             23         1.9305e+03      3.10e+02       2.19e-03       3.11e+05    \n",
      "      18             24         1.7433e+03      1.87e+02       3.97e-03       3.61e+05    \n",
      "      19             25         1.4359e+03      3.07e+02       9.65e-03       1.73e+05    \n",
      "      20             27         1.3155e+03      1.20e+02       2.97e-03       3.20e+05    \n",
      "      21             28         1.1917e+03      1.24e+02       4.94e-03       1.81e+05    \n",
      "      22             29         1.0370e+03      1.55e+02       7.36e-03       3.32e+05    \n",
      "      23             30         8.3471e+02      2.02e+02       9.53e-03       1.01e+05    \n",
      "      24             32         7.9212e+02      4.26e+01       1.44e-03       1.56e+05    \n",
      "      25             33         7.1511e+02      7.70e+01       4.78e-03       1.27e+05    \n",
      "      26             34         5.9545e+02      1.20e+02       8.74e-03       1.57e+05    \n",
      "      27             35         5.4309e+02      5.24e+01       1.93e-02       2.07e+05    \n",
      "      28             36         4.0573e+02      1.37e+02       2.30e-03       5.95e+04    \n",
      "      29             37         3.8770e+02      1.80e+01       3.39e-03       1.12e+05    \n",
      "      30             38         3.4237e+02      4.53e+01       4.59e-03       6.73e+04    \n",
      "      31             39         2.8676e+02      5.56e+01       9.83e-03       3.58e+04    \n",
      "      32             42         2.7822e+02      8.54e+00       6.75e-04       4.79e+04    \n",
      "      33             43         2.7166e+02      6.56e+00       1.10e-03       5.15e+04    \n",
      "      34             44         2.5897e+02      1.27e+01       2.44e-03       4.63e+04    \n",
      "      35             45         2.3648e+02      2.25e+01       4.67e-03       5.01e+04    \n",
      "      36             46         2.0793e+02      2.85e+01       9.76e-03       4.62e+04    \n",
      "      37             48         1.9479e+02      1.31e+01       1.12e-03       3.81e+04    \n",
      "      38             49         1.8617e+02      8.62e+00       2.46e-03       3.11e+04    \n",
      "      39             50         1.7532e+02      1.09e+01       4.38e-03       4.26e+04    \n",
      "      40             51         1.5827e+02      1.70e+01       4.38e-03       2.60e+04    \n",
      "      41             52         1.5013e+02      8.15e+00       4.40e-03       3.59e+04    \n",
      "      42             53         1.3547e+02      1.47e+01       4.22e-03       2.22e+04    \n",
      "      43             54         1.2791e+02      7.56e+00       4.54e-03       2.87e+04    \n",
      "      44             55         1.1642e+02      1.15e+01       4.20e-03       1.80e+04    \n",
      "      45             57         1.1430e+02      2.12e+00       1.03e-03       2.06e+04    \n",
      "      46             58         1.1181e+02      2.48e+00       1.22e-03       1.89e+04    \n",
      "      47             59         1.0735e+02      4.47e+00       2.47e-03       1.66e+04    \n",
      "      48             60         1.0596e+02      1.39e+00       4.31e-03       2.44e+04    \n",
      "      49             61         1.0194e+02      4.02e+00       8.72e-04       2.19e+04    \n",
      "      50             62         9.5998e+01      5.94e+00       1.89e-03       1.77e+04    \n",
      "      51             63         8.9258e+01      6.74e+00       4.55e-03       1.20e+04    \n",
      "      52             65         8.7914e+01      1.34e+00       7.67e-04       1.51e+04    \n",
      "      53             66         8.6062e+01      1.85e+00       1.18e-03       1.39e+04    \n",
      "      54             67         8.2813e+01      3.25e+00       2.46e-03       1.23e+04    \n",
      "      55             68         8.2617e+01      1.96e-01       4.42e-03       1.69e+04    \n",
      "      56             69         7.9454e+01      3.16e+00       7.64e-04       1.53e+04    \n",
      "      57             70         7.4959e+01      4.49e+00       1.70e-03       1.25e+04    \n",
      "      58             71         7.0286e+01      4.67e+00       4.39e-03       9.00e+03    \n",
      "      59             73         6.9427e+01      8.59e-01       7.23e-04       1.10e+04    \n",
      "      60             74         6.8036e+01      1.39e+00       1.13e-03       1.02e+04    \n",
      "      61             75         6.5653e+01      2.38e+00       2.43e-03       9.11e+03    \n",
      "      62             77         6.4716e+01      9.37e-01       1.13e-03       9.69e+03    \n",
      "      63             78         6.3509e+01      1.21e+00       1.16e-03       9.08e+03    \n",
      "      64             79         6.1349e+01      2.16e+00       2.46e-03       8.29e+03    \n",
      "      65             81         6.0523e+01      8.26e-01       1.14e-03       8.75e+03    \n",
      "      66             82         5.9424e+01      1.10e+00       1.15e-03       8.23e+03    \n",
      "      67             83         5.7464e+01      1.96e+00       2.45e-03       7.56e+03    \n",
      "      68             85         5.6728e+01      7.36e-01       1.14e-03       7.88e+03    \n",
      "      69             86         5.5730e+01      9.98e-01       1.13e-03       7.45e+03    \n",
      "      70             87         5.3953e+01      1.78e+00       2.45e-03       6.88e+03    \n",
      "      71             89         5.3299e+01      6.54e-01       1.15e-03       7.08e+03    \n",
      "      72             90         5.2393e+01      9.06e-01       1.11e-03       6.73e+03    \n",
      "      73             91         5.0783e+01      1.61e+00       2.44e-03       6.25e+03    \n",
      "      74             93         5.0205e+01      5.78e-01       1.15e-03       6.36e+03    \n",
      "      75             94         4.9384e+01      8.21e-01       1.09e-03       6.07e+03    \n",
      "      76             95         4.7926e+01      1.46e+00       2.44e-03       5.68e+03    \n",
      "      77             97         4.7417e+01      5.09e-01       1.16e-03       5.69e+03    \n",
      "      78             98         4.6673e+01      7.44e-01       1.07e-03       5.47e+03    \n",
      "      79             99         4.5356e+01      1.32e+00       2.43e-03       5.15e+03    \n",
      "      80             101        4.4912e+01      4.44e-01       1.16e-03       5.07e+03    \n",
      "      81             102        4.4238e+01      6.74e-01       1.04e-03       4.92e+03    \n",
      "      82             103        4.3049e+01      1.19e+00       2.43e-03       4.67e+03    \n",
      "      83             105        4.2664e+01      3.85e-01       1.17e-03       4.51e+03    \n",
      "      84             106        4.2055e+01      6.09e-01       1.00e-03       4.42e+03    \n",
      "      85             107        4.0983e+01      1.07e+00       2.42e-03       4.22e+03    \n",
      "      86             109        4.0648e+01      3.35e-01       1.17e-03       3.99e+03    \n",
      "      87             110        4.0100e+01      5.48e-01       9.67e-04       3.97e+03    \n",
      "      88             111        3.9135e+01      9.65e-01       2.43e-03       3.80e+03    \n",
      "      89             113        3.8827e+01      3.08e-01       1.19e-03       3.51e+03    \n",
      "      90             114        3.8342e+01      4.85e-01       9.47e-04       3.55e+03    \n",
      "      91             115        3.7473e+01      8.69e-01       2.44e-03       3.39e+03    \n",
      "      92             116        3.7097e+01      3.76e-01       4.87e-03       2.23e+03    \n",
      "      93             117        3.6196e+01      9.00e-01       3.63e-04       2.51e+03    \n",
      "      94             118        3.5503e+01      6.93e-01       1.18e-03       3.02e+03    \n",
      "      95             120        3.5464e+01      3.91e-02       4.28e-04       2.58e+03    \n",
      "      96             121        3.5408e+01      5.59e-02       1.11e-04       2.60e+03    \n",
      "      97             122        3.5304e+01      1.04e-01       2.34e-04       2.64e+03    \n",
      "      98             123        3.5120e+01      1.85e-01       5.19e-04       2.68e+03    \n",
      "      99             124        3.4780e+01      3.40e-01       1.18e-03       2.67e+03    \n",
      "      100            125        3.4134e+01      6.46e-01       2.47e-03       2.42e+03    \n",
      "      101            126        3.3027e+01      1.11e+00       4.76e-03       2.37e+03    \n",
      "      102            130        3.2976e+01      5.14e-02       1.00e-04       2.21e+03    \n",
      "      103            131        3.2943e+01      3.29e-02       1.43e-04       2.12e+03    \n",
      "      104            132        3.2876e+01      6.69e-02       3.07e-04       2.09e+03    \n",
      "      105            133        3.2744e+01      1.32e-01       6.12e-04       2.04e+03    \n",
      "      106            134        3.2489e+01      2.56e-01       1.22e-03       1.96e+03    \n",
      "      107            135        3.2008e+01      4.80e-01       2.43e-03       1.79e+03    \n",
      "      108            136        3.1168e+01      8.40e-01       4.85e-03       1.45e+03    \n",
      "      109            137        2.9996e+01      1.17e+00       9.45e-03       1.74e+03    \n",
      "      110            141        2.9949e+01      4.66e-02       1.59e-04       7.86e+02    \n",
      "      111            142        2.9919e+01      3.01e-02       2.32e-04       8.63e+02    \n",
      "      112            143        2.9862e+01      5.72e-02       5.74e-04       8.58e+02    \n",
      "      113            144        2.9754e+01      1.07e-01       1.18e-03       7.29e+02    \n",
      "      114            145        2.9604e+01      1.50e-01       2.13e-03       1.44e+03    \n",
      "      115            148        2.9571e+01      3.36e-02       7.78e-05       7.29e+02    \n",
      "      116            149        2.9565e+01      5.41e-03       1.28e-04       5.53e+02    \n",
      "      117            150        2.9554e+01      1.17e-02       1.08e-04       5.98e+02    \n",
      "      118            151        2.9532e+01      2.15e-02       2.60e-04       6.32e+02    \n",
      "      119            152        2.9491e+01      4.16e-02       5.75e-04       5.70e+02    \n",
      "      120            153        2.9415e+01      7.54e-02       1.08e-03       6.11e+02    \n",
      "      121            156        2.9414e+01      1.51e-03       1.17e-04       4.00e+02    \n",
      "      122            157        2.9411e+01      2.93e-03       2.07e-05       4.17e+02    \n",
      "      123            158        2.9405e+01      5.37e-03       4.56e-05       4.47e+02    \n",
      "      124            159        2.9396e+01      9.48e-03       1.07e-04       4.90e+02    \n",
      "      125            160        2.9378e+01      1.78e-02       2.61e-04       5.09e+02    \n",
      "      126            161        2.9344e+01      3.42e-02       5.59e-04       4.38e+02    \n",
      "      127            162        2.9288e+01      5.60e-02       1.00e-03       5.73e+02    \n",
      "      128            165        2.9285e+01      2.82e-03       8.40e-05       2.89e+02    \n",
      "      129            166        2.9283e+01      2.53e-03       1.75e-05       3.08e+02    \n",
      "      130            167        2.9278e+01      4.50e-03       3.99e-05       3.42e+02    \n",
      "      131            168        2.9270e+01      7.67e-03       9.99e-05       3.89e+02    \n",
      "      132            169        2.9256e+01      1.46e-02       2.55e-04       3.93e+02    \n",
      "      133            170        2.9228e+01      2.79e-02       5.28e-04       3.29e+02    \n",
      "      134            171        2.9186e+01      4.15e-02       9.17e-04       7.13e+02    \n",
      "      135            174        2.9178e+01      8.43e-03       3.79e-05       3.46e+02    \n",
      "      136            175        2.9176e+01      1.80e-03       5.72e-05       2.53e+02    \n",
      "      137            176        2.9173e+01      3.22e-03       4.63e-05       2.76e+02    \n",
      "      138            177        2.9167e+01      6.04e-03       1.08e-04       2.95e+02    \n",
      "      139            178        2.9155e+01      1.19e-02       2.40e-04       2.74e+02    \n",
      "      140            179        2.9132e+01      2.27e-02       4.59e-04       2.72e+02    \n",
      "      141            181        2.9126e+01      6.41e-03       2.33e-04       1.19e+02    \n",
      "      142            182        2.9117e+01      8.93e-03       7.87e-05       3.09e+02    \n",
      "      143            184        2.9116e+01      1.10e-03       4.43e-05       1.75e+02    \n",
      "      144            185        2.9115e+01      7.92e-04       8.63e-06       1.83e+02    \n",
      "      145            186        2.9114e+01      1.49e-03       1.87e-05       1.98e+02    \n",
      "      146            187        2.9111e+01      2.75e-03       4.26e-05       2.19e+02    \n",
      "      147            188        2.9106e+01      5.25e-03       1.00e-04       2.32e+02    \n",
      "      148            189        2.9095e+01      1.03e-02       2.17e-04       2.07e+02    \n",
      "      149            190        2.9076e+01      1.95e-02       3.98e-04       2.33e+02    \n",
      "      150            193        2.9075e+01      5.96e-04       4.69e-05       1.22e+02    \n",
      "      151            194        2.9074e+01      7.75e-04       6.46e-06       1.32e+02    \n",
      "      152            195        2.9073e+01      1.43e-03       1.44e-05       1.49e+02    \n",
      "      153            196        2.9070e+01      2.54e-03       3.48e-05       1.75e+02    \n",
      "      154            197        2.9066e+01      4.78e-03       8.87e-05       1.92e+02    \n",
      "      155            198        2.9056e+01      9.34e-03       1.97e-04       1.56e+02    \n",
      "      156            199        2.9040e+01      1.58e-02       3.23e-04       3.57e+02    \n",
      "      157            202        2.9038e+01      1.99e-03       3.74e-05       1.05e+02    \n",
      "      158            203        2.9036e+01      2.44e-03       2.59e-05       1.38e+02    \n",
      "      159            204        2.9032e+01      4.42e-03       7.53e-05       1.62e+02    \n",
      "      160            205        2.9027e+01      5.10e-03       1.77e-04       7.04e+01    \n",
      "      161            206        2.9020e+01      6.22e-03       4.98e-05       3.36e+02    \n",
      "      162            208        2.9019e+01      1.60e-03       3.70e-05       8.29e+01    \n",
      "      163            209        2.9018e+01      6.71e-04       5.35e-06       9.22e+01    \n",
      "      164            210        2.9017e+01      1.24e-03       1.21e-05       1.08e+02    \n",
      "      165            211        2.9015e+01      2.23e-03       2.97e-05       1.31e+02    \n",
      "      166            212        2.9010e+01      4.33e-03       7.54e-05       1.40e+02    \n",
      "      167            213        2.9002e+01      7.87e-03       1.62e-04       7.47e+01    \n",
      "      168            214        2.9001e+01      1.40e-03       1.65e-04       9.12e+02    \n",
      "      169            215        2.8989e+01      1.18e-02       6.91e-05       4.42e+01    \n",
      "      170            216        2.8985e+01      4.21e-03       2.87e-05       1.32e+02    \n",
      "      171            217        2.8984e+01      8.81e-04       7.66e-05       6.40e+01    \n",
      "      172            218        2.8982e+01      1.77e-03       5.99e-06       4.92e+01    \n",
      "      173            219        2.8980e+01      2.72e-03       1.29e-05       7.58e+01    \n",
      "      174            220        2.8976e+01      3.91e-03       4.48e-05       1.33e+02    \n",
      "      175            222        2.8975e+01      6.83e-04       3.77e-05       4.19e+01    \n",
      "      176            223        2.8973e+01      2.43e-03       1.46e-05       8.47e+01    \n",
      "      177            224        2.8969e+01      3.97e-03       5.16e-05       1.24e+02    \n",
      "      178            226        2.8968e+01      9.84e-04       3.67e-05       4.53e+01    \n",
      "      179            227        2.8965e+01      2.32e-03       1.54e-05       8.55e+01    \n",
      "      180            228        2.8961e+01      3.98e-03       5.32e-05       1.17e+02    \n",
      "      181            230        2.8960e+01      1.16e-03       3.56e-05       4.61e+01    \n",
      "      182            231        2.8958e+01      2.24e-03       1.57e-05       8.43e+01    \n",
      "      183            232        2.8954e+01      3.98e-03       5.34e-05       1.11e+02    \n",
      "      184            234        2.8953e+01      1.28e-03       3.44e-05       4.57e+01    \n",
      "      185            235        2.8950e+01      2.19e-03       1.59e-05       8.22e+01    \n",
      "      186            236        2.8947e+01      3.97e-03       5.29e-05       1.05e+02    \n",
      "      187            238        2.8945e+01      1.37e-03       3.32e-05       4.43e+01    \n",
      "      188            239        2.8943e+01      2.15e-03       1.58e-05       7.96e+01    \n",
      "      189            240        2.8939e+01      3.95e-03       5.20e-05       9.96e+01    \n",
      "      190            242        2.8938e+01      1.42e-03       3.21e-05       4.23e+01    \n",
      "      191            243        2.8936e+01      2.11e-03       1.56e-05       7.66e+01    \n",
      "      192            244        2.8932e+01      3.93e-03       5.08e-05       9.46e+01    \n",
      "      193            246        2.8930e+01      1.45e-03       3.10e-05       3.95e+01    \n",
      "      194            247        2.8928e+01      2.09e-03       1.52e-05       7.33e+01    \n",
      "      195            248        2.8924e+01      3.91e-03       4.93e-05       9.02e+01    \n",
      "      196            250        2.8923e+01      1.46e-03       3.00e-05       3.58e+01    \n",
      "      197            251        2.8921e+01      2.08e-03       1.46e-05       6.97e+01    \n",
      "      198            252        2.8917e+01      3.89e-03       4.76e-05       8.63e+01    \n",
      "      199            254        2.8915e+01      1.43e-03       2.92e-05       3.54e+01    \n",
      "      200            255        2.8913e+01      2.07e-03       1.39e-05       6.57e+01    \n",
      "      201            256        2.8909e+01      3.87e-03       4.56e-05       8.31e+01    \n",
      "      202            258        2.8908e+01      1.35e-03       2.86e-05       3.55e+01    \n",
      "      203            259        2.8906e+01      2.09e-03       1.30e-05       6.11e+01    \n",
      "      204            260        2.8902e+01      3.84e-03       4.33e-05       8.10e+01    \n",
      "      205            262        2.8901e+01      1.22e-03       2.84e-05       3.58e+01    \n",
      "      206            263        2.8899e+01      2.12e-03       1.22e-05       5.56e+01    \n",
      "      207            264        2.8895e+01      3.80e-03       4.03e-05       8.01e+01    \n",
      "      208            266        2.8894e+01      9.77e-04       2.86e-05       3.61e+01    \n",
      "      209            267        2.8892e+01      2.20e-03       1.17e-05       4.84e+01    \n",
      "      210            268        2.8888e+01      3.75e-03       3.66e-05       8.10e+01    \n",
      "      211            270        2.8887e+01      6.17e-04       2.93e-05       3.80e+01    \n",
      "      212            271        2.8885e+01      2.33e-03       1.17e-05       3.94e+01    \n",
      "      213            272        2.8881e+01      3.66e-03       3.21e-05       8.43e+01    \n",
      "      214            274        2.8881e+01      2.19e-04       3.02e-05       4.33e+01    \n",
      "      215            275        2.8880e+01      7.17e-04       2.97e-06       3.66e+01    \n",
      "      216            276        2.8879e+01      1.26e-03       5.83e-06       3.53e+01    \n",
      "      217            277        2.8877e+01      2.04e-03       1.22e-05       5.26e+01    \n",
      "      218            278        2.8873e+01      3.80e-03       3.93e-05       7.04e+01    \n",
      "      219            280        2.8872e+01      1.20e-03       2.63e-05       3.56e+01    \n",
      "      220            281        2.8870e+01      2.10e-03       1.16e-05       4.61e+01    \n",
      "      221            282        2.8866e+01      3.75e-03       3.60e-05       7.14e+01    \n",
      "      222            284        2.8865e+01      8.38e-04       2.72e-05       3.62e+01    \n",
      "      223            285        2.8863e+01      2.23e-03       1.16e-05       3.70e+01    \n",
      "      224            286        2.8860e+01      3.67e-03       3.14e-05       7.82e+01    \n",
      "      225            288        2.8859e+01      3.27e-04       2.88e-05       4.17e+01    \n",
      "      226            289        2.8859e+01      7.02e-04       2.99e-06       3.62e+01    \n",
      "      227            290        2.8857e+01      1.23e-03       5.84e-06       3.50e+01    \n",
      "      228            291        2.8855e+01      2.01e-03       1.18e-05       4.73e+01    \n",
      "      229            292        2.8852e+01      3.77e-03       3.69e-05       6.35e+01    \n",
      "      230            294        2.8850e+01      1.20e-03       2.49e-05       3.55e+01    \n",
      "      231            295        2.8848e+01      2.08e-03       1.15e-05       4.05e+01    \n",
      "      232            296        2.8845e+01      3.72e-03       3.35e-05       6.54e+01    \n",
      "      233            298        2.8844e+01      7.84e-04       2.63e-05       3.62e+01    \n",
      "      234            299        2.8842e+01      2.24e-03       1.17e-05       3.38e+01    \n",
      "      235            300        2.8838e+01      3.62e-03       2.87e-05       8.33e+01    \n",
      "      236            302        2.8838e+01      1.88e-04       2.84e-05       4.33e+01    \n",
      "      237            303        2.8837e+01      7.16e-04       3.05e-06       3.65e+01    \n",
      "      238            304        2.8836e+01      1.25e-03       5.92e-06       3.51e+01    \n",
      "      239            305        2.8834e+01      2.01e-03       1.14e-05       4.10e+01    \n",
      "      240            306        2.8830e+01      3.73e-03       3.39e-05       5.95e+01    \n",
      "      241            308        2.8829e+01      1.05e-03       2.45e-05       3.57e+01    \n",
      "      242            309        2.8827e+01      2.13e-03       1.16e-05       3.34e+01    \n",
      "      243            310        2.8823e+01      3.66e-03       2.98e-05       7.11e+01    \n",
      "      244            312        2.8823e+01      4.63e-04       2.68e-05       3.96e+01    \n",
      "      245            313        2.8822e+01      6.82e-04       3.02e-06       3.59e+01    \n",
      "      246            314        2.8821e+01      1.20e-03       5.87e-06       3.47e+01    \n",
      "      247            315        2.8819e+01      1.97e-03       1.14e-05       4.02e+01    \n",
      "      248            316        2.8815e+01      3.73e-03       3.37e-05       5.44e+01    \n",
      "      249            318        2.8814e+01      1.22e-03       2.30e-05       3.53e+01    \n",
      "      250            319        2.8812e+01      2.06e-03       1.15e-05       3.32e+01    \n",
      "      251            320        2.8808e+01      3.68e-03       3.03e-05       6.15e+01    \n",
      "      252            322        2.8807e+01      7.06e-04       2.52e-05       3.61e+01    \n",
      "      253            323        2.8805e+01      2.25e-03       1.20e-05       3.37e+01    \n",
      "      254            324        2.8802e+01      3.56e-03       2.56e-05       9.03e+01    \n",
      "      255            326        2.8802e+01      9.04e-06       2.81e-05       4.52e+01    \n",
      "      256            327        2.8801e+01      7.33e-04       3.13e-06       3.83e+01    \n",
      "      257            328        2.8800e+01      1.28e-03       6.07e-06       3.51e+01    \n",
      "      258            329        2.8798e+01      2.02e-03       1.15e-05       3.30e+01    \n",
      "      259            330        2.8794e+01      3.68e-03       3.01e-05       5.76e+01    \n",
      "      260            332        2.8793e+01      8.07e-04       2.43e-05       3.59e+01    \n",
      "      261            333        2.8791e+01      2.21e-03       1.19e-05       3.35e+01    \n",
      "      262            334        2.8787e+01      3.57e-03       2.57e-05       8.65e+01    \n",
      "      263            336        2.8787e+01      7.51e-05       2.75e-05       4.43e+01    \n",
      "      264            337        2.8786e+01      7.25e-04       3.14e-06       3.75e+01    \n",
      "      265            338        2.8785e+01      1.26e-03       6.08e-06       3.49e+01    \n",
      "      266            339        2.8783e+01      2.01e-03       1.15e-05       3.29e+01    \n",
      "      267            340        2.8780e+01      3.68e-03       2.96e-05       5.63e+01    \n",
      "      268            342        2.8779e+01      8.34e-04       2.39e-05       3.58e+01    \n",
      "      269            343        2.8777e+01      2.19e-03       1.20e-05       3.34e+01    \n",
      "      270            344        2.8773e+01      3.57e-03       2.53e-05       8.60e+01    \n",
      "      271            346        2.8773e+01      7.58e-05       2.72e-05       4.43e+01    \n",
      "      272            347        2.8772e+01      7.24e-04       3.16e-06       3.74e+01    \n",
      "      273            348        2.8771e+01      1.26e-03       6.11e-06       3.49e+01    \n",
      "      274            349        2.8769e+01      2.00e-03       1.15e-05       3.29e+01    \n",
      "      275            350        2.8765e+01      3.67e-03       2.89e-05       5.69e+01    \n",
      "      276            352        2.8764e+01      8.09e-04       2.37e-05       3.57e+01    \n",
      "      277            353        2.8762e+01      2.19e-03       1.20e-05       3.34e+01    \n",
      "      278            354        2.8759e+01      3.55e-03       2.47e-05       8.80e+01    \n",
      "      279            356        2.8759e+01      2.43e-05       2.73e-05       4.48e+01    \n",
      "      280            357        2.8758e+01      7.28e-04       3.19e-06       3.79e+01    \n",
      "      281            358        2.8757e+01      1.27e-03       6.16e-06       3.48e+01    \n",
      "      282            359        2.8755e+01      2.01e-03       1.15e-05       3.28e+01    \n",
      "      283            360        2.8751e+01      3.65e-03       2.81e-05       5.90e+01    \n",
      "      284            362        2.8750e+01      7.41e-04       2.37e-05       3.58e+01    \n",
      "      285            363        2.8748e+01      2.22e-03       1.22e-05       3.34e+01    \n",
      "      286            364        2.8745e+01      3.52e-03       2.40e-05       9.19e+01    \n",
      "      287            367        2.8744e+01      4.64e-04       6.87e-06       3.25e+01    \n",
      "      288            368        2.8744e+01      4.64e-04       3.67e-06       3.24e+01    \n",
      "      289            369        2.8743e+01      9.26e-04       7.54e-06       3.44e+01    \n",
      "      290            370        2.8741e+01      1.84e-03       1.58e-05       3.27e+01    \n",
      "      291            371        2.8737e+01      3.65e-03       2.78e-05       5.56e+01    \n",
      "      292            373        2.8736e+01      8.31e-04       2.29e-05       3.56e+01    \n",
      "      293            374        2.8734e+01      2.18e-03       1.21e-05       3.32e+01    \n",
      "      294            375        2.8731e+01      3.53e-03       2.39e-05       8.83e+01    \n",
      "      295            378        2.8730e+01      4.59e-04       6.73e-06       3.25e+01    \n",
      "      296            379        2.8729e+01      9.25e-04       7.08e-06       3.23e+01    \n",
      "      297            380        2.8727e+01      1.85e-03       1.50e-05       3.23e+01    \n",
      "      298            381        2.8724e+01      3.67e-03       2.94e-05       3.85e+01    \n",
      "      299            383        2.8722e+01      1.39e-03       1.93e-05       3.44e+01    \n",
      "      300            384        2.8720e+01      1.96e-03       1.15e-05       3.25e+01    \n",
      "      301            385        2.8717e+01      3.64e-03       2.71e-05       5.34e+01    \n",
      "      302            387        2.8716e+01      8.83e-04       2.21e-05       3.54e+01    \n",
      "      303            388        2.8714e+01      2.15e-03       1.22e-05       3.30e+01    \n",
      "      304            389        2.8710e+01      3.53e-03       2.35e-05       8.67e+01    \n",
      "      305            391        2.8710e+01      1.81e-05       2.65e-05       4.47e+01    \n",
      "      306            392        2.8709e+01      7.26e-04       3.26e-06       3.78e+01    \n",
      "      307            393        2.8708e+01      1.26e-03       6.29e-06       3.46e+01    \n",
      "      308            394        2.8706e+01      1.99e-03       1.17e-05       3.26e+01    \n",
      "      309            395        2.8703e+01      3.61e-03       2.59e-05       6.14e+01    \n",
      "      310            397        2.8702e+01      6.49e-04       2.32e-05       3.62e+01    \n",
      "      311            398        2.8700e+01      2.24e-03       1.25e-05       3.32e+01    \n",
      "      312            399        2.8696e+01      3.46e-03       2.27e-05       9.86e+01    \n",
      "      313            400        2.8696e+01      0.00e+00       0.00e+00       9.86e+01    \n",
      "The maximum number of function evaluations is exceeded.\n",
      "Function evaluations 400, initial cost 2.7193e+07, final cost 2.8696e+01, first-order optimality 9.86e+01.\n"
     ]
    }
   ],
   "source": [
    "x0 = [0.15,  0.5, -0.05,  0.1]      # initial guess: [σ, λ, m, v]\n",
    "bounds = ( [1e-3, 1e-2, -10, 0], [2, 10, 5, 5] )\n",
    "\n",
    "def cost_function(x, strikes, mkt_prices):\n",
    "    sigma, lambd, meanJ, stdJ = x\n",
    "    M = Merton_pricer(S0, None, T, r, q, sigma, lambd, meanJ, stdJ, exercise)\n",
    "    sq_err = np.sum(c_weights*(M.closed_formula_call(strikes) - mkt_prices)**2)\n",
    "    return sq_err\n",
    "\n",
    "start2 = time.time()\n",
    "mert2 = scpo.least_squares(cost_function, x0, args=(call_strikes, call_prices), bounds=bounds, method = 'trf', verbose=2)\n",
    "end2 = time.time()\n",
    "\n",
    "mert_params2 = [round(p,4) for p in mert2.x[:4]]"
   ],
   "metadata": {
    "collapsed": false
   }
  },
  {
   "cell_type": "code",
   "execution_count": 18,
   "outputs": [
    {
     "name": "stdout",
     "output_type": "stream",
     "text": [
      "WEIGHTED OPT: CURVE_FIT (trf)\n",
      "> Calibrated Volatlity [σ] = 0.2168 \t 21.68%\n",
      "> Calibrated Jump intensity [λ] =  5.0\n",
      "> Calibrated Jump Mean =  -0.08\n",
      "> Calibrated Jump St. dev.  =  1e-05\n",
      "ELAPSED TIME: 15.838241815567017 sec\n",
      "\n",
      "METHOD 1: LEAST SQUARES (trf)\n",
      "> Calibrated Volatlity [σ] = 0.2548 \t 25.48%\n",
      "> Calibrated Jump intensity [λ] =  0.24\n",
      "> Calibrated Jump Mean =  -0.122\n",
      "> Calibrated Jump St. dev.  =  0.198\n",
      "TIME ELAPSED:  46.51 sec\n"
     ]
    }
   ],
   "source": [
    "print('WEIGHTED OPT: CURVE_FIT (trf)')\n",
    "print(f'> Calibrated Volatlity [σ] = {round(mert1[0][0],4)} \\t {round(mert1[0][0]*100,2)}%')\n",
    "print('> Calibrated Jump intensity [λ] = ', round(mert1[0][1],2))\n",
    "print('> Calibrated Jump Mean = ', round(mert1[0][2],2))\n",
    "print('> Calibrated Jump St. dev.  = ', round(mert1[0][3],5))\n",
    "print(f'ELAPSED TIME: {end1-start1} sec')\n",
    "\n",
    "print('\\nMETHOD 1: LEAST SQUARES (trf)')\n",
    "print(f'> Calibrated Volatlity [σ] = {mert_params2[0]} \\t {round(mert_params2[0]*100,2)}%')\n",
    "print('> Calibrated Jump intensity [λ] = ', round(mert_params2[1],2))\n",
    "print('> Calibrated Jump Mean = ', round(mert_params2[2],3))\n",
    "print('> Calibrated Jump St. dev.  = ', round(mert_params2[3],3))\n",
    "print(f'TIME ELAPSED:  {round(end2-start2,2)} sec')"
   ],
   "metadata": {
    "collapsed": false
   }
  },
  {
   "cell_type": "code",
   "execution_count": 20,
   "outputs": [
    {
     "name": "stdout",
     "output_type": "stream",
     "text": [
      "Stored 'calls_mert_params_aapl' (list)\n"
     ]
    }
   ],
   "source": [
    "calls_mert_params_aapl = mert_params2\n",
    "%store calls_mert_params_aapl"
   ],
   "metadata": {
    "collapsed": false
   }
  },
  {
   "cell_type": "markdown",
   "source": [
    "### Kou Jump Diffusion\n"
   ],
   "metadata": {
    "collapsed": false
   }
  },
  {
   "cell_type": "code",
   "execution_count": 21,
   "outputs": [],
   "source": [
    "x0 = [0.2, 0.7, 0.5, 8, 10] # initial guess: [σ, λ, p, η_1, η_2]\n",
    "bounds = ( [1e-2, 1e-1, 0, 0.5, 0.5], [0.5, 4, 1, 15, 20] )"
   ],
   "metadata": {
    "collapsed": false
   }
  },
  {
   "cell_type": "markdown",
   "source": [
    "##### Method 1. TRF (Bounds)"
   ],
   "metadata": {
    "collapsed": false
   }
  },
  {
   "cell_type": "code",
   "execution_count": 28,
   "outputs": [],
   "source": [
    "# def f_Kou(x, sigma, lambd, p, eta1, eta2):\n",
    "#     KouJD = Kou_pricer(S0=S0, K=x, ttm=T, r=r, sigma=sigma, lambd=lambd, p=p, eta1=eta1, eta2=eta2, exercise=exercise)\n",
    "#     return KouJD.closed_formula_call(x)\n",
    "#\n",
    "# start1 = time.time()\n",
    "# kou1 = scpo.curve_fit(f_Kou, call_strikes, call_prices, p0=x0, bounds=bounds, sigma=c_weights)\n",
    "# end1 = time.time()\n",
    "#\n",
    "# kou_params1 = [round(p,4) for p in kou1[0][:5]]"
   ],
   "metadata": {
    "collapsed": false
   }
  },
  {
   "cell_type": "markdown",
   "source": [
    "##### Method 2. LEAST SQUARES (With Bounds)"
   ],
   "metadata": {
    "collapsed": false
   }
  },
  {
   "cell_type": "code",
   "execution_count": 23,
   "outputs": [
    {
     "name": "stdout",
     "output_type": "stream",
     "text": [
      "   Iteration     Total nfev        Cost      Cost reduction    Step norm     Optimality   \n",
      "       0              1         2.8030e+05                                    8.49e+06    \n",
      "       1              2         2.1916e+04      2.58e+05       2.21e-02       1.16e+06    \n",
      "       2              3         2.0577e+03      1.99e+04       1.21e-02       1.48e+05    \n",
      "       3              4         5.3604e+02      1.52e+03       8.51e-03       3.64e+03    \n",
      "       4              6         3.8601e+02      1.50e+02       9.25e-02       8.57e+03    \n",
      "       5             10         3.6475e+02      2.13e+01       1.11e-03       2.45e+03    \n",
      "       6             12         3.6374e+02      1.00e+00       5.26e-04       2.17e+03    \n",
      "       7             13         3.6277e+02      9.78e-01       6.26e-04       2.30e+03    \n",
      "       8             14         3.6104e+02      1.73e+00       1.31e-03       2.03e+03    \n",
      "       9             16         3.6013e+02      9.03e-01       4.74e-04       2.31e+03    \n",
      "      10             17         3.5918e+02      9.50e-01       6.28e-04       2.13e+03    \n",
      "      11             18         3.5762e+02      1.56e+00       1.23e-03       2.41e+03    \n",
      "      12             19         3.5678e+02      8.48e-01       1.00e-03       2.02e+03    \n",
      "      13             20         3.5594e+02      8.42e-01       7.24e-04       2.53e+03    \n",
      "      14             21         3.5503e+02      9.06e-01       2.08e-04       2.36e+03    \n",
      "      15             22         3.5408e+02      9.53e-01       5.29e-04       2.09e+03    \n",
      "      16             23         3.5314e+02      9.33e-01       6.17e-04       2.23e+03    \n",
      "      17             24         3.5155e+02      1.59e+00       1.29e-03       1.94e+03    \n",
      "      18             25         3.5108e+02      4.66e-01       9.01e-04       2.52e+03    \n",
      "      19             26         3.5011e+02      9.77e-01       1.99e-04       2.35e+03    \n",
      "      20             27         3.4911e+02      9.92e-01       4.97e-04       2.07e+03    \n",
      "      21             28         3.4818e+02      9.37e-01       6.30e-04       2.18e+03    \n",
      "      22             29         3.4654e+02      1.64e+00       1.30e-03       1.92e+03    \n",
      "      23             31         3.4568e+02      8.51e-01       4.67e-04       2.20e+03    \n",
      "      24             32         3.4479e+02      8.94e-01       6.19e-04       2.02e+03    \n",
      "      25             33         3.4341e+02      1.38e+00       1.21e-03       2.32e+03    \n",
      "      26             34         3.4265e+02      7.54e-01       9.56e-04       2.01e+03    \n",
      "      27             35         3.4178e+02      8.72e-01       1.77e-04       1.91e+03    \n",
      "      28             36         3.4097e+02      8.14e-01       4.86e-04       2.16e+03    \n",
      "      29             37         3.4010e+02      8.71e-01       6.12e-04       1.98e+03    \n",
      "      30             38         3.3879e+02      1.31e+00       1.20e-03       2.29e+03    \n",
      "      31             39         3.3805e+02      7.38e-01       9.35e-04       1.99e+03    \n",
      "      32             40         3.3719e+02      8.64e-01       1.77e-04       1.87e+03    \n",
      "      33             41         3.3639e+02      7.97e-01       4.84e-04       2.13e+03    \n",
      "      34             42         3.3554e+02      8.53e-01       6.08e-04       1.94e+03    \n",
      "      35             43         3.3429e+02      1.25e+00       1.19e-03       2.26e+03    \n",
      "      36             44         3.3357e+02      7.21e-01       9.20e-04       1.98e+03    \n",
      "      37             45         3.3271e+02      8.56e-01       1.76e-04       1.84e+03    \n",
      "      38             46         3.3193e+02      7.81e-01       4.82e-04       2.09e+03    \n",
      "      39             47         3.3110e+02      8.35e-01       6.05e-04       1.91e+03    \n",
      "      40             48         3.2990e+02      1.19e+00       1.18e-03       2.22e+03    \n",
      "      41             49         3.2920e+02      7.08e-01       9.06e-04       1.97e+03    \n",
      "      42             50         3.2835e+02      8.48e-01       1.75e-04       1.81e+03    \n",
      "      43             51         3.2758e+02      7.64e-01       4.81e-04       2.06e+03    \n",
      "      44             52         3.2677e+02      8.18e-01       6.02e-04       1.87e+03    \n",
      "      45             53         3.2596e+02      8.05e-01       5.86e-04       2.03e+03    \n",
      "      46             54         3.2476e+02      1.20e+00       1.24e-03       1.70e+03    \n",
      "      47             55         3.2446e+02      3.04e-01       7.89e-04       2.30e+03    \n",
      "      48             56         3.2351e+02      9.48e-01       1.91e-04       2.14e+03    \n",
      "      49             57         3.2260e+02      9.12e-01       4.77e-04       1.87e+03    \n",
      "      50             58         3.2176e+02      8.36e-01       6.19e-04       1.98e+03    \n",
      "      51             59         3.2041e+02      1.35e+00       1.27e-03       1.70e+03    \n",
      "      52             60         3.2019e+02      2.24e-01       8.42e-04       2.27e+03    \n",
      "      53             61         3.1923e+02      9.57e-01       1.89e-04       2.11e+03    \n",
      "      54             62         3.1832e+02      9.13e-01       4.69e-04       1.84e+03    \n",
      "      55             63         3.1749e+02      8.26e-01       6.21e-04       1.95e+03    \n",
      "      56             64         3.1617e+02      1.33e+00       1.27e-03       1.67e+03    \n",
      "      57             65         3.1597e+02      1.94e-01       8.40e-04       2.23e+03    \n",
      "      58             66         3.1502e+02      9.54e-01       1.87e-04       2.08e+03    \n",
      "      59             67         3.1412e+02      9.02e-01       4.65e-04       1.80e+03    \n",
      "      60             68         3.1331e+02      8.11e-01       6.19e-04       1.92e+03    \n",
      "      61             69         3.1202e+02      1.28e+00       1.27e-03       1.64e+03    \n",
      "      62             70         3.1186e+02      1.67e-01       8.27e-04       2.20e+03    \n",
      "      63             71         3.1091e+02      9.50e-01       1.86e-04       2.04e+03    \n",
      "      64             72         3.1002e+02      8.91e-01       4.62e-04       1.77e+03    \n",
      "      65             73         3.0922e+02      7.96e-01       6.18e-04       1.89e+03    \n",
      "      66             74         3.0799e+02      1.24e+00       1.26e-03       1.60e+03    \n",
      "      67             75         3.0784e+02      1.44e-01       8.14e-04       2.16e+03    \n",
      "      68             76         3.0690e+02      9.46e-01       1.85e-04       2.01e+03    \n",
      "      69             77         3.0602e+02      8.80e-01       4.59e-04       1.74e+03    \n",
      "      70             78         3.0524e+02      7.80e-01       6.16e-04       1.86e+03    \n",
      "      71             79         3.0405e+02      1.19e+00       1.25e-03       1.57e+03    \n",
      "      72             80         3.0392e+02      1.25e-01       8.01e-04       2.13e+03    \n",
      "      73             81         3.0298e+02      9.40e-01       1.84e-04       1.98e+03    \n",
      "      74             82         3.0211e+02      8.68e-01       4.56e-04       1.71e+03    \n",
      "      75             83         3.0135e+02      7.65e-01       6.14e-04       1.83e+03    \n",
      "      76             84         3.0021e+02      1.14e+00       1.25e-03       1.54e+03    \n",
      "      77             85         3.0010e+02      1.12e-01       7.88e-04       2.10e+03    \n",
      "      78             86         2.9916e+02      9.34e-01       1.83e-04       1.95e+03    \n",
      "      79             87         2.9831e+02      8.55e-01       4.53e-04       1.68e+03    \n",
      "      80             88         2.9756e+02      7.50e-01       6.11e-04       1.80e+03    \n",
      "      81             89         2.9647e+02      1.09e+00       1.24e-03       1.51e+03    \n",
      "      82             90         2.9637e+02      1.04e-01       7.75e-04       2.06e+03    \n",
      "      83             91         2.9544e+02      9.27e-01       1.82e-04       1.92e+03    \n",
      "      84             92         2.9460e+02      8.41e-01       4.51e-04       1.66e+03    \n",
      "      85             93         2.9387e+02      7.34e-01       6.08e-04       1.77e+03    \n",
      "      86             94         2.9283e+02      1.03e+00       1.23e-03       1.48e+03    \n",
      "      87             95         2.9273e+02      1.03e-01       7.61e-04       2.03e+03    \n",
      "      88             96         2.9181e+02      9.18e-01       1.81e-04       1.89e+03    \n",
      "      89             97         2.9099e+02      8.26e-01       4.50e-04       1.63e+03    \n",
      "      90             98         2.9027e+02      7.17e-01       6.05e-04       1.75e+03    \n",
      "      91             99         2.8929e+02      9.76e-01       1.22e-03       1.45e+03    \n",
      "      92             100        2.8918e+02      1.09e-01       7.48e-04       2.00e+03    \n",
      "      93             101        2.8828e+02      9.08e-01       1.81e-04       1.86e+03    \n",
      "      94             102        2.8747e+02      8.10e-01       4.49e-04       1.60e+03    \n",
      "      95             103        2.8677e+02      7.00e-01       6.01e-04       1.72e+03    \n",
      "      96             104        2.8585e+02      9.15e-01       1.21e-03       1.48e+03    \n",
      "      97             105        2.8573e+02      1.22e-01       7.34e-04       1.97e+03    \n",
      "      98             106        2.8483e+02      8.97e-01       1.80e-04       1.83e+03    \n",
      "      99             107        2.8404e+02      7.92e-01       4.48e-04       1.57e+03    \n",
      "      100            108        2.8336e+02      6.83e-01       5.96e-04       1.70e+03    \n",
      "      101            109        2.8251e+02      8.50e-01       1.20e-03       1.52e+03    \n",
      "      102            110        2.8236e+02      1.44e-01       7.21e-04       1.94e+03    \n",
      "      103            111        2.8148e+02      8.83e-01       1.80e-04       1.80e+03    \n",
      "      104            112        2.8071e+02      7.72e-01       4.49e-04       1.55e+03    \n",
      "      105            113        2.8004e+02      6.64e-01       5.91e-04       1.68e+03    \n",
      "      106            114        2.7926e+02      7.84e-01       1.19e-03       1.56e+03    \n",
      "      107            115        2.7909e+02      1.73e-01       7.08e-04       1.91e+03    \n",
      "      108            116        2.7822e+02      8.69e-01       1.80e-04       1.77e+03    \n",
      "      109            117        2.7747e+02      7.51e-01       4.50e-04       1.52e+03    \n",
      "      110            118        2.7682e+02      6.45e-01       5.85e-04       1.65e+03    \n",
      "      111            119        2.7611e+02      7.16e-01       1.17e-03       1.60e+03    \n",
      "      112            120        2.7590e+02      2.07e-01       6.96e-04       1.88e+03    \n",
      "      113            121        2.7505e+02      8.53e-01       1.80e-04       1.74e+03    \n",
      "      114            122        2.7432e+02      7.30e-01       4.51e-04       1.49e+03    \n",
      "      115            123        2.7369e+02      6.26e-01       5.78e-04       1.63e+03    \n",
      "      116            124        2.7307e+02      6.18e-01       5.80e-04       1.46e+03    \n",
      "      117            125        2.7250e+02      5.74e-01       5.35e-04       1.64e+03    \n",
      "      118            126        2.7190e+02      6.02e-01       5.57e-04       1.45e+03    \n",
      "      119            127        2.7133e+02      5.64e-01       5.28e-04       1.63e+03    \n",
      "      120            128        2.7073e+02      5.97e-01       5.53e-04       1.44e+03    \n",
      "      121            129        2.7018e+02      5.59e-01       5.26e-04       1.62e+03    \n",
      "      122            130        2.6958e+02      5.93e-01       5.51e-04       1.43e+03    \n",
      "      123            131        2.6903e+02      5.54e-01       5.25e-04       1.61e+03    \n",
      "      124            132        2.6844e+02      5.88e-01       5.50e-04       1.43e+03    \n",
      "      125            133        2.6789e+02      5.49e-01       5.24e-04       1.61e+03    \n",
      "      126            134        2.6731e+02      5.84e-01       5.48e-04       1.42e+03    \n",
      "      127            135        2.6676e+02      5.44e-01       5.22e-04       1.60e+03    \n",
      "      128            136        2.6619e+02      5.79e-01       5.47e-04       1.41e+03    \n",
      "      129            137        2.6565e+02      5.39e-01       5.21e-04       1.59e+03    \n",
      "      130            138        2.6507e+02      5.75e-01       5.45e-04       1.40e+03    \n",
      "      131            139        2.6454e+02      5.34e-01       5.19e-04       1.58e+03    \n",
      "      132            140        2.6397e+02      5.71e-01       5.44e-04       1.39e+03    \n",
      "      133            141        2.6344e+02      5.30e-01       5.18e-04       1.57e+03    \n",
      "      134            142        2.6287e+02      5.66e-01       5.42e-04       1.38e+03    \n",
      "      135            143        2.6234e+02      5.25e-01       5.17e-04       1.57e+03    \n",
      "      136            144        2.6178e+02      5.62e-01       5.41e-04       1.38e+03    \n",
      "      137            145        2.6126e+02      5.21e-01       5.15e-04       1.56e+03    \n",
      "      138            146        2.6070e+02      5.58e-01       5.39e-04       1.37e+03    \n",
      "      139            147        2.6019e+02      5.16e-01       5.14e-04       1.55e+03    \n",
      "      140            148        2.5963e+02      5.54e-01       5.38e-04       1.36e+03    \n",
      "      141            149        2.5912e+02      5.11e-01       5.13e-04       1.54e+03    \n",
      "      142            150        2.5857e+02      5.50e-01       5.36e-04       1.35e+03    \n",
      "      143            151        2.5807e+02      5.07e-01       5.11e-04       1.53e+03    \n",
      "      144            152        2.5752e+02      5.46e-01       5.35e-04       1.35e+03    \n",
      "      145            153        2.5702e+02      5.03e-01       5.10e-04       1.53e+03    \n",
      "      146            154        2.5647e+02      5.42e-01       5.34e-04       1.34e+03    \n",
      "      147            155        2.5598e+02      4.98e-01       5.09e-04       1.52e+03    \n",
      "      148            156        2.5544e+02      5.38e-01       5.32e-04       1.33e+03    \n",
      "      149            157        2.5494e+02      4.94e-01       5.07e-04       1.51e+03    \n",
      "      150            158        2.5441e+02      5.34e-01       5.31e-04       1.32e+03    \n",
      "      151            159        2.5392e+02      4.90e-01       5.06e-04       1.50e+03    \n",
      "      152            160        2.5339e+02      5.31e-01       5.29e-04       1.32e+03    \n",
      "      153            161        2.5290e+02      4.85e-01       5.05e-04       1.50e+03    \n",
      "      154            162        2.5238e+02      5.27e-01       5.28e-04       1.31e+03    \n",
      "      155            163        2.5190e+02      4.81e-01       5.04e-04       1.49e+03    \n",
      "      156            164        2.5137e+02      5.23e-01       5.26e-04       1.30e+03    \n",
      "      157            165        2.5090e+02      4.77e-01       5.02e-04       1.48e+03    \n",
      "      158            166        2.5038e+02      5.19e-01       5.25e-04       1.29e+03    \n",
      "      159            167        2.4990e+02      4.73e-01       5.01e-04       1.47e+03    \n",
      "      160            168        2.4939e+02      5.16e-01       5.24e-04       1.29e+03    \n",
      "      161            169        2.4892e+02      4.69e-01       5.00e-04       1.47e+03    \n",
      "      162            170        2.4841e+02      5.12e-01       5.22e-04       1.28e+03    \n",
      "      163            171        2.4794e+02      4.65e-01       4.99e-04       1.46e+03    \n",
      "      164            172        2.4743e+02      5.09e-01       5.21e-04       1.27e+03    \n",
      "      165            173        2.4697e+02      4.61e-01       4.97e-04       1.45e+03    \n",
      "      166            174        2.4647e+02      5.05e-01       5.20e-04       1.26e+03    \n",
      "      167            175        2.4601e+02      4.57e-01       4.96e-04       1.45e+03    \n",
      "      168            176        2.4551e+02      5.02e-01       5.18e-04       1.26e+03    \n",
      "      169            177        2.4505e+02      4.53e-01       4.95e-04       1.44e+03    \n",
      "      170            178        2.4456e+02      4.98e-01       5.17e-04       1.25e+03    \n",
      "      171            179        2.4411e+02      4.50e-01       4.94e-04       1.43e+03    \n",
      "      172            180        2.4361e+02      4.95e-01       5.16e-04       1.24e+03    \n",
      "      173            181        2.4317e+02      4.46e-01       4.93e-04       1.43e+03    \n",
      "      174            182        2.4268e+02      4.91e-01       5.14e-04       1.24e+03    \n",
      "      175            183        2.4223e+02      4.42e-01       4.92e-04       1.42e+03    \n",
      "      176            184        2.4175e+02      4.88e-01       5.13e-04       1.23e+03    \n",
      "      177            185        2.4131e+02      4.38e-01       4.90e-04       1.41e+03    \n",
      "      178            186        2.4082e+02      4.85e-01       5.12e-04       1.22e+03    \n",
      "      179            187        2.4039e+02      4.35e-01       4.89e-04       1.41e+03    \n",
      "      180            188        2.3991e+02      4.81e-01       5.10e-04       1.22e+03    \n",
      "      181            189        2.3948e+02      4.31e-01       4.88e-04       1.40e+03    \n",
      "      182            190        2.3900e+02      4.78e-01       5.09e-04       1.21e+03    \n",
      "      183            191        2.3857e+02      4.27e-01       4.87e-04       1.39e+03    \n",
      "      184            192        2.3809e+02      4.75e-01       5.08e-04       1.20e+03    \n",
      "      185            193        2.3767e+02      4.24e-01       4.86e-04       1.39e+03    \n",
      "      186            194        2.3720e+02      4.72e-01       5.07e-04       1.20e+03    \n",
      "      187            195        2.3678e+02      4.20e-01       4.85e-04       1.38e+03    \n",
      "      188            196        2.3631e+02      4.69e-01       5.05e-04       1.19e+03    \n",
      "      189            197        2.3589e+02      4.17e-01       4.84e-04       1.37e+03    \n",
      "      190            198        2.3543e+02      4.66e-01       5.04e-04       1.19e+03    \n",
      "      191            199        2.3501e+02      4.13e-01       4.83e-04       1.37e+03    \n",
      "      192            200        2.3455e+02      4.63e-01       5.03e-04       1.18e+03    \n",
      "      193            201        2.3414e+02      4.10e-01       4.81e-04       1.36e+03    \n",
      "      194            202        2.3368e+02      4.60e-01       5.02e-04       1.17e+03    \n",
      "      195            203        2.3328e+02      4.07e-01       4.80e-04       1.35e+03    \n",
      "      196            204        2.3282e+02      4.57e-01       5.00e-04       1.17e+03    \n",
      "      197            205        2.3242e+02      4.03e-01       4.79e-04       1.35e+03    \n",
      "      198            206        2.3196e+02      4.54e-01       4.99e-04       1.16e+03    \n",
      "      199            207        2.3156e+02      4.00e-01       4.78e-04       1.34e+03    \n",
      "      200            208        2.3111e+02      4.51e-01       4.98e-04       1.15e+03    \n",
      "      201            209        2.3071e+02      3.97e-01       4.77e-04       1.34e+03    \n",
      "      202            210        2.3027e+02      4.48e-01       4.97e-04       1.15e+03    \n",
      "      203            211        2.2987e+02      3.93e-01       4.76e-04       1.33e+03    \n",
      "      204            212        2.2943e+02      4.45e-01       4.96e-04       1.14e+03    \n",
      "      205            213        2.2904e+02      3.90e-01       4.75e-04       1.32e+03    \n",
      "      206            214        2.2860e+02      4.42e-01       4.95e-04       1.14e+03    \n",
      "      207            215        2.2821e+02      3.87e-01       4.74e-04       1.32e+03    \n",
      "      208            216        2.2777e+02      4.40e-01       4.93e-04       1.13e+03    \n",
      "      209            217        2.2739e+02      3.84e-01       4.73e-04       1.31e+03    \n",
      "      210            218        2.2695e+02      4.37e-01       4.92e-04       1.13e+03    \n",
      "      211            219        2.2657e+02      3.81e-01       4.72e-04       1.31e+03    \n",
      "      212            220        2.2613e+02      4.34e-01       4.91e-04       1.12e+03    \n",
      "      213            221        2.2576e+02      3.78e-01       4.71e-04       1.30e+03    \n",
      "      214            222        2.2532e+02      4.31e-01       4.90e-04       1.11e+03    \n",
      "      215            223        2.2495e+02      3.74e-01       4.70e-04       1.29e+03    \n",
      "      216            224        2.2452e+02      4.29e-01       4.89e-04       1.11e+03    \n",
      "      217            225        2.2415e+02      3.71e-01       4.69e-04       1.29e+03    \n",
      "      218            226        2.2372e+02      4.26e-01       4.88e-04       1.10e+03    \n",
      "      219            227        2.2336e+02      3.68e-01       4.68e-04       1.28e+03    \n",
      "      220            228        2.2293e+02      4.23e-01       4.86e-04       1.10e+03    \n",
      "      221            229        2.2257e+02      3.65e-01       4.67e-04       1.28e+03    \n",
      "      222            230        2.2215e+02      4.21e-01       4.85e-04       1.09e+03    \n",
      "      223            231        2.2178e+02      3.62e-01       4.66e-04       1.27e+03    \n",
      "      224            232        2.2137e+02      4.18e-01       4.84e-04       1.09e+03    \n",
      "      225            233        2.2101e+02      3.60e-01       4.65e-04       1.26e+03    \n",
      "      226            234        2.2059e+02      4.16e-01       4.83e-04       1.08e+03    \n",
      "      227            235        2.2023e+02      3.57e-01       4.64e-04       1.26e+03    \n",
      "      228            236        2.1982e+02      4.13e-01       4.82e-04       1.08e+03    \n",
      "      229            237        2.1947e+02      3.54e-01       4.63e-04       1.25e+03    \n",
      "      230            238        2.1906e+02      4.11e-01       4.81e-04       1.07e+03    \n",
      "      231            239        2.1870e+02      3.51e-01       4.62e-04       1.25e+03    \n",
      "      232            240        2.1830e+02      4.08e-01       4.80e-04       1.06e+03    \n",
      "      233            241        2.1795e+02      3.48e-01       4.62e-04       1.24e+03    \n",
      "      234            242        2.1754e+02      4.06e-01       4.79e-04       1.06e+03    \n",
      "      235            243        2.1720e+02      3.45e-01       4.61e-04       1.24e+03    \n",
      "      236            244        2.1679e+02      4.03e-01       4.78e-04       1.05e+03    \n",
      "      237            245        2.1645e+02      3.43e-01       4.60e-04       1.23e+03    \n",
      "      238            246        2.1605e+02      4.01e-01       4.77e-04       1.05e+03    \n",
      "      239            247        2.1571e+02      3.40e-01       4.59e-04       1.23e+03    \n",
      "      240            248        2.1531e+02      3.99e-01       4.76e-04       1.04e+03    \n",
      "      241            249        2.1497e+02      3.37e-01       4.58e-04       1.22e+03    \n",
      "      242            250        2.1458e+02      3.96e-01       4.74e-04       1.04e+03    \n",
      "      243            251        2.1424e+02      3.34e-01       4.57e-04       1.22e+03    \n",
      "      244            252        2.1385e+02      3.94e-01       4.73e-04       1.03e+03    \n",
      "      245            253        2.1352e+02      3.32e-01       4.56e-04       1.21e+03    \n",
      "      246            254        2.1313e+02      3.92e-01       4.72e-04       1.03e+03    \n",
      "      247            255        2.1280e+02      3.29e-01       4.55e-04       1.21e+03    \n",
      "      248            256        2.1241e+02      3.90e-01       4.71e-04       1.02e+03    \n",
      "      249            257        2.1208e+02      3.27e-01       4.54e-04       1.20e+03    \n",
      "      250            258        2.1169e+02      3.87e-01       4.70e-04       1.02e+03    \n",
      "      251            259        2.1137e+02      3.24e-01       4.53e-04       1.20e+03    \n",
      "      252            260        2.1098e+02      3.85e-01       4.69e-04       1.01e+03    \n",
      "      253            261        2.1066e+02      3.21e-01       4.53e-04       1.19e+03    \n",
      "      254            262        2.1028e+02      3.83e-01       4.68e-04       1.01e+03    \n",
      "      255            263        2.0996e+02      3.19e-01       4.52e-04       1.19e+03    \n",
      "      256            264        2.0958e+02      3.81e-01       4.67e-04       1.00e+03    \n",
      "      257            265        2.0926e+02      3.16e-01       4.51e-04       1.18e+03    \n",
      "      258            266        2.0889e+02      3.79e-01       4.66e-04       9.99e+02    \n",
      "      259            267        2.0857e+02      3.14e-01       4.50e-04       1.18e+03    \n",
      "      260            268        2.0820e+02      3.76e-01       4.65e-04       9.95e+02    \n",
      "      261            269        2.0788e+02      3.11e-01       4.49e-04       1.17e+03    \n",
      "      262            270        2.0751e+02      3.74e-01       4.64e-04       9.90e+02    \n",
      "      263            271        2.0720e+02      3.09e-01       4.48e-04       1.17e+03    \n",
      "      264            272        2.0683e+02      3.72e-01       4.63e-04       9.85e+02    \n",
      "      265            273        2.0652e+02      3.07e-01       4.48e-04       1.16e+03    \n",
      "      266            274        2.0615e+02      3.70e-01       4.62e-04       9.81e+02    \n",
      "      267            275        2.0585e+02      3.04e-01       4.47e-04       1.16e+03    \n",
      "      268            276        2.0548e+02      3.68e-01       4.61e-04       9.76e+02    \n",
      "      269            277        2.0518e+02      3.02e-01       4.46e-04       1.15e+03    \n",
      "      270            278        2.0481e+02      3.66e-01       4.60e-04       9.71e+02    \n",
      "      271            279        2.0451e+02      2.99e-01       4.45e-04       1.15e+03    \n",
      "      272            280        2.0415e+02      3.64e-01       4.59e-04       9.67e+02    \n",
      "      273            281        2.0385e+02      2.97e-01       4.44e-04       1.14e+03    \n",
      "      274            282        2.0349e+02      3.62e-01       4.59e-04       9.62e+02    \n",
      "      275            283        2.0319e+02      2.95e-01       4.43e-04       1.14e+03    \n",
      "      276            284        2.0283e+02      3.60e-01       4.58e-04       9.58e+02    \n",
      "      277            285        2.0254e+02      2.92e-01       4.43e-04       1.13e+03    \n",
      "      278            286        2.0218e+02      3.58e-01       4.57e-04       9.53e+02    \n",
      "      279            287        2.0189e+02      2.90e-01       4.42e-04       1.13e+03    \n",
      "      280            288        2.0154e+02      3.56e-01       4.56e-04       9.49e+02    \n",
      "      281            289        2.0125e+02      2.88e-01       4.41e-04       1.12e+03    \n",
      "      282            290        2.0090e+02      3.54e-01       4.55e-04       9.45e+02    \n",
      "      283            291        2.0061e+02      2.86e-01       4.40e-04       1.12e+03    \n",
      "      284            292        2.0026e+02      3.52e-01       4.54e-04       9.40e+02    \n",
      "      285            293        1.9997e+02      2.83e-01       4.40e-04       1.11e+03    \n",
      "      286            294        1.9962e+02      3.51e-01       4.53e-04       9.36e+02    \n",
      "      287            295        1.9934e+02      2.81e-01       4.39e-04       1.11e+03    \n",
      "      288            296        1.9899e+02      3.49e-01       4.52e-04       9.32e+02    \n",
      "      289            297        1.9871e+02      2.79e-01       4.38e-04       1.10e+03    \n",
      "      290            298        1.9837e+02      3.47e-01       4.51e-04       9.28e+02    \n",
      "      291            299        1.9809e+02      2.77e-01       4.37e-04       1.10e+03    \n",
      "      292            300        1.9775e+02      3.45e-01       4.50e-04       9.23e+02    \n",
      "      293            301        1.9747e+02      2.75e-01       4.36e-04       1.10e+03    \n",
      "      294            302        1.9713e+02      3.43e-01       4.49e-04       9.19e+02    \n",
      "      295            303        1.9686e+02      2.73e-01       4.36e-04       1.09e+03    \n",
      "      296            304        1.9651e+02      3.42e-01       4.48e-04       9.15e+02    \n",
      "      297            305        1.9624e+02      2.70e-01       4.35e-04       1.09e+03    \n",
      "      298            306        1.9590e+02      3.40e-01       4.48e-04       9.11e+02    \n",
      "      299            307        1.9564e+02      2.68e-01       4.34e-04       1.08e+03    \n",
      "      300            308        1.9530e+02      3.38e-01       4.47e-04       9.07e+02    \n",
      "      301            309        1.9503e+02      2.66e-01       4.34e-04       1.08e+03    \n",
      "      302            310        1.9469e+02      3.36e-01       4.46e-04       9.03e+02    \n",
      "      303            311        1.9443e+02      2.64e-01       4.33e-04       1.07e+03    \n",
      "      304            312        1.9410e+02      3.35e-01       4.45e-04       8.99e+02    \n",
      "      305            313        1.9383e+02      2.62e-01       4.32e-04       1.07e+03    \n",
      "      306            314        1.9350e+02      3.33e-01       4.44e-04       8.95e+02    \n",
      "      307            315        1.9324e+02      2.60e-01       4.31e-04       1.07e+03    \n",
      "      308            316        1.9291e+02      3.31e-01       4.43e-04       8.91e+02    \n",
      "      309            317        1.9265e+02      2.58e-01       4.31e-04       1.06e+03    \n",
      "      310            318        1.9232e+02      3.30e-01       4.42e-04       8.87e+02    \n",
      "      311            319        1.9207e+02      2.56e-01       4.30e-04       1.06e+03    \n",
      "      312            320        1.9174e+02      3.28e-01       4.41e-04       8.83e+02    \n",
      "      313            321        1.9148e+02      2.54e-01       4.29e-04       1.05e+03    \n",
      "      314            322        1.9116e+02      3.26e-01       4.41e-04       8.79e+02    \n",
      "      315            323        1.9091e+02      2.52e-01       4.29e-04       1.05e+03    \n",
      "      316            324        1.9058e+02      3.25e-01       4.40e-04       8.75e+02    \n",
      "      317            325        1.9033e+02      2.50e-01       4.28e-04       1.04e+03    \n",
      "      318            326        1.9001e+02      3.23e-01       4.39e-04       8.72e+02    \n",
      "      319            327        1.8976e+02      2.48e-01       4.27e-04       1.04e+03    \n",
      "      320            328        1.8944e+02      3.21e-01       4.38e-04       8.68e+02    \n",
      "      321            329        1.8919e+02      2.46e-01       4.26e-04       1.04e+03    \n",
      "      322            330        1.8887e+02      3.20e-01       4.37e-04       8.64e+02    \n",
      "      323            331        1.8863e+02      2.45e-01       4.26e-04       1.03e+03    \n",
      "      324            332        1.8831e+02      3.18e-01       4.36e-04       8.60e+02    \n",
      "      325            333        1.8807e+02      2.43e-01       4.25e-04       1.03e+03    \n",
      "      326            334        1.8775e+02      3.17e-01       4.36e-04       8.57e+02    \n",
      "      327            335        1.8751e+02      2.41e-01       4.24e-04       1.02e+03    \n",
      "      328            336        1.8719e+02      3.15e-01       4.35e-04       8.53e+02    \n",
      "      329            337        1.8695e+02      2.39e-01       4.24e-04       1.02e+03    \n",
      "      330            338        1.8664e+02      3.14e-01       4.34e-04       8.49e+02    \n",
      "      331            339        1.8640e+02      2.37e-01       4.23e-04       1.02e+03    \n",
      "      332            340        1.8609e+02      3.12e-01       4.33e-04       8.46e+02    \n",
      "      333            341        1.8586e+02      2.35e-01       4.22e-04       1.01e+03    \n",
      "      334            342        1.8554e+02      3.11e-01       4.32e-04       8.42e+02    \n",
      "      335            343        1.8531e+02      2.34e-01       4.22e-04       1.01e+03    \n",
      "      336            344        1.8500e+02      3.09e-01       4.32e-04       8.38e+02    \n",
      "      337            345        1.8477e+02      2.32e-01       4.21e-04       1.01e+03    \n",
      "      338            346        1.8446e+02      3.08e-01       4.31e-04       8.35e+02    \n",
      "      339            347        1.8423e+02      2.30e-01       4.20e-04       1.00e+03    \n",
      "      340            348        1.8393e+02      3.06e-01       4.30e-04       8.31e+02    \n",
      "      341            349        1.8370e+02      2.28e-01       4.20e-04       9.97e+02    \n",
      "      342            350        1.8339e+02      3.05e-01       4.29e-04       8.28e+02    \n",
      "      343            351        1.8317e+02      2.26e-01       4.19e-04       9.94e+02    \n",
      "      344            352        1.8286e+02      3.03e-01       4.29e-04       8.24e+02    \n",
      "      345            353        1.8264e+02      2.25e-01       4.19e-04       9.90e+02    \n",
      "      346            354        1.8234e+02      3.02e-01       4.28e-04       8.21e+02    \n",
      "      347            355        1.8211e+02      2.23e-01       4.18e-04       9.86e+02    \n",
      "      348            356        1.8181e+02      3.01e-01       4.27e-04       8.17e+02    \n",
      "      349            357        1.8159e+02      2.21e-01       4.17e-04       9.83e+02    \n",
      "      350            358        1.8129e+02      2.99e-01       4.26e-04       8.14e+02    \n",
      "      351            359        1.8107e+02      2.20e-01       4.17e-04       9.79e+02    \n",
      "      352            360        1.8077e+02      2.98e-01       4.25e-04       8.10e+02    \n",
      "      353            361        1.8056e+02      2.18e-01       4.16e-04       9.75e+02    \n",
      "      354            362        1.8026e+02      2.97e-01       4.25e-04       8.07e+02    \n",
      "      355            363        1.8004e+02      2.16e-01       4.15e-04       9.72e+02    \n",
      "      356            364        1.7975e+02      2.95e-01       4.24e-04       8.04e+02    \n",
      "      357            365        1.7953e+02      2.15e-01       4.15e-04       9.68e+02    \n",
      "      358            366        1.7924e+02      2.94e-01       4.23e-04       8.00e+02    \n",
      "      359            367        1.7903e+02      2.13e-01       4.14e-04       9.64e+02    \n",
      "      360            368        1.7873e+02      2.93e-01       4.22e-04       7.97e+02    \n",
      "      361            369        1.7852e+02      2.11e-01       4.14e-04       9.61e+02    \n",
      "      362            370        1.7823e+02      2.91e-01       4.22e-04       7.94e+02    \n",
      "      363            371        1.7802e+02      2.10e-01       4.13e-04       9.57e+02    \n",
      "      364            372        1.7773e+02      2.90e-01       4.21e-04       7.91e+02    \n",
      "      365            373        1.7752e+02      2.08e-01       4.12e-04       9.54e+02    \n",
      "      366            374        1.7723e+02      2.89e-01       4.20e-04       7.87e+02    \n",
      "      367            375        1.7703e+02      2.07e-01       4.12e-04       9.50e+02    \n",
      "      368            376        1.7674e+02      2.87e-01       4.20e-04       7.84e+02    \n",
      "      369            377        1.7654e+02      2.05e-01       4.11e-04       9.47e+02    \n",
      "      370            378        1.7625e+02      2.86e-01       4.19e-04       7.81e+02    \n",
      "      371            379        1.7605e+02      2.03e-01       4.11e-04       9.43e+02    \n",
      "      372            380        1.7576e+02      2.85e-01       4.18e-04       7.78e+02    \n",
      "      373            381        1.7556e+02      2.02e-01       4.10e-04       9.40e+02    \n",
      "      374            382        1.7528e+02      2.84e-01       4.17e-04       7.75e+02    \n",
      "      375            383        1.7508e+02      2.00e-01       4.10e-04       9.37e+02    \n",
      "      376            384        1.7479e+02      2.82e-01       4.17e-04       7.71e+02    \n",
      "      377            385        1.7459e+02      1.99e-01       4.09e-04       9.33e+02    \n",
      "      378            386        1.7431e+02      2.81e-01       4.16e-04       7.68e+02    \n",
      "      379            387        1.7412e+02      1.97e-01       4.08e-04       9.30e+02    \n",
      "      380            388        1.7384e+02      2.80e-01       4.15e-04       7.65e+02    \n",
      "      381            389        1.7364e+02      1.96e-01       4.08e-04       9.26e+02    \n",
      "      382            390        1.7336e+02      2.79e-01       4.15e-04       7.62e+02    \n",
      "      383            391        1.7317e+02      1.94e-01       4.07e-04       9.23e+02    \n",
      "      384            392        1.7289e+02      2.78e-01       4.14e-04       7.59e+02    \n",
      "      385            393        1.7270e+02      1.93e-01       4.07e-04       9.20e+02    \n",
      "      386            394        1.7242e+02      2.76e-01       4.13e-04       7.56e+02    \n",
      "      387            395        1.7223e+02      1.91e-01       4.06e-04       9.17e+02    \n",
      "      388            396        1.7195e+02      2.75e-01       4.13e-04       7.53e+02    \n",
      "      389            397        1.7176e+02      1.90e-01       4.06e-04       9.13e+02    \n",
      "      390            398        1.7149e+02      2.74e-01       4.12e-04       7.50e+02    \n",
      "      391            399        1.7130e+02      1.88e-01       4.05e-04       9.10e+02    \n",
      "      392            400        1.7103e+02      2.73e-01       4.11e-04       7.47e+02    \n",
      "      393            401        1.7084e+02      1.87e-01       4.05e-04       9.07e+02    \n",
      "      394            402        1.7057e+02      2.72e-01       4.11e-04       7.44e+02    \n",
      "      395            403        1.7038e+02      1.86e-01       4.04e-04       9.04e+02    \n",
      "      396            404        1.7011e+02      2.71e-01       4.10e-04       7.41e+02    \n",
      "      397            405        1.6993e+02      1.84e-01       4.03e-04       9.00e+02    \n",
      "      398            406        1.6966e+02      2.70e-01       4.09e-04       7.38e+02    \n",
      "      399            407        1.6948e+02      1.83e-01       4.03e-04       8.97e+02    \n",
      "      400            408        1.6921e+02      2.69e-01       4.09e-04       7.35e+02    \n",
      "      401            409        1.6903e+02      1.81e-01       4.02e-04       8.94e+02    \n",
      "      402            410        1.6876e+02      2.67e-01       4.08e-04       7.33e+02    \n",
      "      403            411        1.6858e+02      1.80e-01       4.02e-04       8.91e+02    \n",
      "      404            412        1.6841e+02      1.68e-01       1.02e-04       8.50e+02    \n",
      "      405            413        1.6821e+02      1.96e-01       2.55e-04       7.86e+02    \n",
      "      406            414        1.6802e+02      1.98e-01       3.00e-04       8.13e+02    \n",
      "      407            415        1.6764e+02      3.78e-01       6.19e-04       7.64e+02    \n",
      "      408            417        1.6746e+02      1.84e-01       2.65e-04       8.17e+02    \n",
      "      409            418        1.6726e+02      1.94e-01       3.00e-04       7.81e+02    \n",
      "      410            419        1.6690e+02      3.63e-01       6.01e-04       8.31e+02    \n",
      "      411            421        1.6671e+02      1.89e-01       2.69e-04       7.74e+02    \n",
      "      412            422        1.6652e+02      1.93e-01       2.96e-04       8.04e+02    \n",
      "      413            423        1.6615e+02      3.65e-01       6.15e-04       7.51e+02    \n",
      "      414            425        1.6597e+02      1.81e-01       2.56e-04       8.07e+02    \n",
      "      415            426        1.6578e+02      1.91e-01       2.99e-04       7.70e+02    \n",
      "      416            427        1.6542e+02      3.55e-01       5.99e-04       8.22e+02    \n",
      "      417            429        1.6524e+02      1.86e-01       2.66e-04       7.64e+02    \n",
      "      418            430        1.6505e+02      1.91e-01       2.95e-04       7.95e+02    \n",
      "      419            431        1.6469e+02      3.59e-01       6.13e-04       7.40e+02    \n",
      "      420            433        1.6451e+02      1.78e-01       2.53e-04       7.97e+02    \n",
      "      421            434        1.6432e+02      1.89e-01       2.98e-04       7.61e+02    \n",
      "      422            435        1.6397e+02      3.48e-01       5.97e-04       8.13e+02    \n",
      "      423            437        1.6379e+02      1.84e-01       2.63e-04       7.55e+02    \n",
      "      424            438        1.6360e+02      1.88e-01       2.95e-04       7.85e+02    \n",
      "      425            439        1.6325e+02      3.53e-01       6.12e-04       7.30e+02    \n",
      "      426            441        1.6307e+02      1.76e-01       2.51e-04       7.88e+02    \n",
      "      427            442        1.6288e+02      1.86e-01       2.97e-04       7.51e+02    \n",
      "      428            443        1.6254e+02      3.42e-01       5.96e-04       8.05e+02    \n",
      "      429            445        1.6236e+02      1.82e-01       2.60e-04       7.45e+02    \n",
      "      430            446        1.6217e+02      1.86e-01       2.94e-04       7.76e+02    \n",
      "      431            447        1.6183e+02      3.46e-01       6.11e-04       7.20e+02    \n",
      "      432            449        1.6165e+02      1.73e-01       2.48e-04       7.79e+02    \n",
      "      433            450        1.6147e+02      1.84e-01       2.96e-04       7.41e+02    \n",
      "      434            451        1.6114e+02      3.35e-01       5.94e-04       7.96e+02    \n",
      "      435            453        1.6096e+02      1.81e-01       2.57e-04       7.36e+02    \n",
      "      436            454        1.6077e+02      1.84e-01       2.94e-04       7.66e+02    \n",
      "      437            455        1.6043e+02      3.40e-01       6.09e-04       7.10e+02    \n",
      "      438            457        1.6026e+02      1.71e-01       2.46e-04       7.69e+02    \n",
      "      439            458        1.6008e+02      1.81e-01       2.95e-04       7.32e+02    \n",
      "      440            459        1.5975e+02      3.28e-01       5.92e-04       7.88e+02    \n",
      "      441            461        1.5957e+02      1.79e-01       2.54e-04       7.27e+02    \n",
      "      442            462        1.5939e+02      1.81e-01       2.93e-04       7.57e+02    \n",
      "      443            463        1.5906e+02      3.35e-01       6.08e-04       7.01e+02    \n",
      "      444            465        1.5889e+02      1.69e-01       2.44e-04       7.60e+02    \n",
      "      445            466        1.5871e+02      1.79e-01       2.94e-04       7.23e+02    \n",
      "      446            467        1.5839e+02      3.21e-01       5.90e-04       7.79e+02    \n",
      "      447            469        1.5821e+02      1.77e-01       2.52e-04       7.18e+02    \n",
      "      448            470        1.5803e+02      1.79e-01       2.93e-04       7.48e+02    \n",
      "      449            471        1.5770e+02      3.29e-01       6.07e-04       6.91e+02    \n",
      "      450            473        1.5753e+02      1.67e-01       2.42e-04       7.51e+02    \n",
      "      451            474        1.5736e+02      1.77e-01       2.94e-04       7.13e+02    \n",
      "      452            475        1.5704e+02      3.14e-01       5.88e-04       7.71e+02    \n",
      "      453            477        1.5687e+02      1.76e-01       2.49e-04       7.10e+02    \n",
      "      454            478        1.5669e+02      1.77e-01       2.93e-04       7.40e+02    \n",
      "      455            479        1.5637e+02      3.24e-01       6.06e-04       6.82e+02    \n",
      "      456            481        1.5620e+02      1.65e-01       2.39e-04       7.42e+02    \n",
      "      457            482        1.5603e+02      1.74e-01       2.93e-04       7.05e+02    \n",
      "      458            483        1.5572e+02      3.08e-01       5.86e-04       7.63e+02    \n",
      "      459            485        1.5555e+02      1.75e-01       2.46e-04       7.01e+02    \n",
      "      460            486        1.5537e+02      1.75e-01       2.92e-04       7.31e+02    \n",
      "      461            487        1.5505e+02      3.18e-01       6.04e-04       6.73e+02    \n",
      "      462            489        1.5489e+02      1.63e-01       2.37e-04       7.34e+02    \n",
      "      463            490        1.5472e+02      1.72e-01       2.92e-04       6.96e+02    \n",
      "      464            491        1.5442e+02      3.01e-01       5.84e-04       7.55e+02    \n",
      "      465            493        1.5424e+02      1.73e-01       2.44e-04       6.93e+02    \n",
      "      466            494        1.5407e+02      1.73e-01       2.92e-04       7.22e+02    \n",
      "      467            495        1.5376e+02      3.13e-01       6.03e-04       6.65e+02    \n",
      "      468            497        1.5360e+02      1.61e-01       2.36e-04       7.25e+02    \n",
      "      469            498        1.5343e+02      1.70e-01       2.91e-04       6.87e+02    \n",
      "      470            499        1.5313e+02      2.95e-01       5.82e-04       7.47e+02    \n",
      "      471            500        1.5313e+02      0.00e+00       0.00e+00       7.47e+02    \n",
      "The maximum number of function evaluations is exceeded.\n",
      "Function evaluations 500, initial cost 2.8030e+05, final cost 1.5313e+02, first-order optimality 7.47e+02.\n"
     ]
    }
   ],
   "source": [
    "# Define the objective function\n",
    "def cost_function(x, strikes, mkt_prices):\n",
    "    sigm, lamb, p, eta1, eta2 = x\n",
    "    KOU = Kou_pricer(S0=S0, K=strikes, ttm=T, r=r, sigma=sigm, lambd=lamb, p=p, eta1=eta1, eta2=eta2, exercise=exercise)\n",
    "    sq_err = np.sum(c_weights*(KOU.closed_formula_call(strikes) - mkt_prices)**2)\n",
    "    return sq_err\n",
    "\n",
    "start2=time.time()\n",
    "kou2 = scpo.least_squares(cost_function, x0, args=(call_strikes, call_prices),  method='trf', bounds=bounds, verbose=2)\n",
    "end2=time.time()"
   ],
   "metadata": {
    "collapsed": false
   }
  },
  {
   "cell_type": "code",
   "execution_count": 24,
   "outputs": [],
   "source": [
    "kou_params2 = [round(p,4) for p in kou2.x[:5]]"
   ],
   "metadata": {
    "collapsed": false
   }
  },
  {
   "cell_type": "code",
   "execution_count": 25,
   "outputs": [],
   "source": [
    "# print('WEIGHTED OPT: CURVE_FIT (trf)')\n",
    "# print(f'> Calibrated Volatlity [σ] = {kou_params1[0]} \\t {kou_params1[0] * 100}%')\n",
    "# print('> Calibrated Jump intensity [λ] = ', kou_params1[1])\n",
    "# print(f'> Calibrated Upward Jump probability [p] = {kou_params1[2]}, [q] = {round(1 - kou_params1[2], 2)}')\n",
    "# print('> Calibrated Rate of Exp. 1  [η_1] = ', kou_params1[3])\n",
    "# print('> Calibrated Rate of Exp. 2  [η_2] = ', kou_params1[4])\n",
    "# print(f'TIME ELAPSED: {end1-start1} sec')"
   ],
   "metadata": {
    "collapsed": false
   }
  },
  {
   "cell_type": "code",
   "execution_count": 26,
   "outputs": [
    {
     "name": "stdout",
     "output_type": "stream",
     "text": [
      "METHOD 2: Least-squares\n",
      "> Calibrated Volatlity [σ] = 0.2441 \t 24.41%\n",
      "> Calibrated Jump intensity [λ] =  0.66\n",
      "> Calibrated Upward Jump probability [p] = 0.37, [q] = 0.63\n",
      "> Calibrated Rate of Exp. 1  [η_1] =  8.26\n",
      "> Calibrated Rate of Exp. 2  [η_2] =  9.94\n",
      "TIME ELAPSED:  4719.26 sec\n"
     ]
    }
   ],
   "source": [
    "print('METHOD 2: Least-squares')\n",
    "print(f'> Calibrated Volatlity [σ] = {round(kou_params2[0],4)} \\t {round(kou_params2[0]*100,2)}%')\n",
    "print('> Calibrated Jump intensity [λ] = ', round(kou_params2[1],2))\n",
    "print(f'> Calibrated Upward Jump probability [p] = {round(kou_params2[2],2)}, [q] = {round(1-kou_params2[2],2)}')\n",
    "print('> Calibrated Rate of Exp. 1  [η_1] = ', round(kou_params2[3],2))\n",
    "print('> Calibrated Rate of Exp. 2  [η_2] = ', round(kou_params2[4],2))\n",
    "print(f'TIME ELAPSED:  {round(end2-start2,2)} sec')"
   ],
   "metadata": {
    "collapsed": false
   }
  },
  {
   "cell_type": "code",
   "execution_count": 27,
   "outputs": [
    {
     "name": "stdout",
     "output_type": "stream",
     "text": [
      "Stored 'calls_kou_params_aapl' (list)\n",
      "[0.2441, 0.6554, 0.3733, 8.2551, 9.9373]\n"
     ]
    }
   ],
   "source": [
    "calls_kou_params_aapl = kou_params2\n",
    "%store calls_kou_params_aapl\n",
    "print(kou_params2)"
   ],
   "metadata": {
    "collapsed": false
   }
  },
  {
   "cell_type": "markdown",
   "source": [
    "### Variance Gamma\n"
   ],
   "metadata": {
    "collapsed": false
   }
  },
  {
   "cell_type": "code",
   "execution_count": 28,
   "outputs": [],
   "source": [
    "x0 = [0.25, -0.2, 0.2]   # initial guess: [σ, θ, v]\n",
    "bounds = ( [1e-3, -5, 0], [1, 5, 5] )"
   ],
   "metadata": {
    "collapsed": false
   }
  },
  {
   "cell_type": "markdown",
   "source": [
    "##### Method 1. CURVE FIT (Bounds)"
   ],
   "metadata": {
    "collapsed": false
   }
  },
  {
   "cell_type": "code",
   "execution_count": 29,
   "outputs": [],
   "source": [
    "def f_VG(strikes, sigmax, thetax, nux):\n",
    "    VGamma = VG_pricer(S0=S0, K=None, ttm=T, r=r, q=0, sigma=sigmax, theta=thetax, nu=nux, exercise=exercise)\n",
    "    vg_prices = []\n",
    "    for k in strikes:\n",
    "        vg_prices.append(VGamma.closed_formula_call(k))\n",
    "    return vg_prices\n",
    "\n",
    "start1 = time.time()\n",
    "vg1 = scpo.curve_fit(f_VG, call_strikes, call_prices, p0=x0, bounds=bounds, sigma=c_weights)\n",
    "end1 = time.time()\n",
    "\n",
    "vg_params1 = [round(p,4) for p in vg1[0][:3]]"
   ],
   "metadata": {
    "collapsed": false
   }
  },
  {
   "cell_type": "markdown",
   "source": [
    "##### Method 2. LEAST-SQUARES (Trust Region Reflective, Bounds)"
   ],
   "metadata": {
    "collapsed": false
   }
  },
  {
   "cell_type": "code",
   "execution_count": 30,
   "outputs": [
    {
     "name": "stdout",
     "output_type": "stream",
     "text": [
      "   Iteration     Total nfev        Cost      Cost reduction    Step norm     Optimality   \n",
      "       0              1         1.4899e+02                                    1.22e+04    \n",
      "       1              5         1.1866e+02      3.03e+01       1.96e-02       2.04e+03    \n",
      "       2              7         1.1614e+02      2.52e+00       2.29e-03       3.49e+03    \n",
      "       3              8         1.1345e+02      2.69e+00       5.76e-03       1.21e+03    \n",
      "       4              9         1.1144e+02      2.01e+00       3.03e-03       3.67e+03    \n",
      "       5             10         1.0855e+02      2.90e+00       5.72e-03       1.42e+03    \n",
      "       6             11         1.0637e+02      2.17e+00       3.41e-03       3.49e+03    \n",
      "       7             12         1.0359e+02      2.79e+00       5.74e-03       1.40e+03    \n",
      "       8             13         1.0149e+02      2.10e+00       3.37e-03       3.48e+03    \n",
      "       9             14         9.8675e+01      2.81e+00       5.72e-03       1.48e+03    \n",
      "      10             15         9.6539e+01      2.14e+00       3.54e-03       3.38e+03    \n",
      "      11             16         9.3772e+01      2.77e+00       5.73e-03       1.51e+03    \n",
      "      12             17         9.1666e+01      2.11e+00       3.60e-03       3.32e+03    \n",
      "      13             18         8.8916e+01      2.75e+00       5.72e-03       1.55e+03    \n",
      "      14             19         8.6815e+01      2.10e+00       3.72e-03       3.23e+03    \n",
      "      15             20         8.4105e+01      2.71e+00       5.71e-03       1.57e+03    \n",
      "      16             21         8.2034e+01      2.07e+00       3.81e-03       3.16e+03    \n",
      "      17             22         7.9359e+01      2.68e+00       5.70e-03       1.60e+03    \n",
      "      18             23         7.7317e+01      2.04e+00       3.91e-03       3.07e+03    \n",
      "      19             24         7.4687e+01      2.63e+00       5.68e-03       1.61e+03    \n",
      "      20             25         7.2688e+01      2.00e+00       4.00e-03       2.99e+03    \n",
      "      21             26         7.0106e+01      2.58e+00       5.66e-03       1.62e+03    \n",
      "      22             27         6.8154e+01      1.95e+00       4.09e-03       2.90e+03    \n",
      "      23             28         6.5627e+01      2.53e+00       5.64e-03       1.61e+03    \n",
      "      24             29         6.3732e+01      1.90e+00       4.17e-03       2.82e+03    \n",
      "      25             30         6.1266e+01      2.47e+00       5.61e-03       1.61e+03    \n",
      "      26             31         5.9436e+01      1.83e+00       4.25e-03       2.72e+03    \n",
      "      27             32         5.7035e+01      2.40e+00       5.58e-03       1.59e+03    \n",
      "      28             33         5.5279e+01      1.76e+00       4.32e-03       2.63e+03    \n",
      "      29             34         5.2950e+01      2.33e+00       5.54e-03       1.57e+03    \n",
      "      30             35         5.1276e+01      1.67e+00       4.39e-03       2.53e+03    \n",
      "      31             36         4.9022e+01      2.25e+00       5.49e-03       1.53e+03    \n",
      "      32             37         4.7440e+01      1.58e+00       4.45e-03       2.43e+03    \n",
      "      33             38         4.5267e+01      2.17e+00       5.42e-03       1.50e+03    \n",
      "      34             39         4.3785e+01      1.48e+00       4.50e-03       2.32e+03    \n",
      "      35             40         4.1697e+01      2.09e+00       5.34e-03       1.45e+03    \n",
      "      36             41         4.0325e+01      1.37e+00       4.55e-03       2.22e+03    \n",
      "      37             42         3.8324e+01      2.00e+00       5.25e-03       1.40e+03    \n",
      "      38             43         3.7070e+01      1.25e+00       4.58e-03       2.11e+03    \n",
      "      39             44         3.5159e+01      1.91e+00       5.14e-03       1.34e+03    \n",
      "      40             45         3.4033e+01      1.13e+00       4.61e-03       2.00e+03    \n",
      "      41             46         3.2211e+01      1.82e+00       5.01e-03       1.28e+03    \n",
      "      42             47         3.1220e+01      9.91e-01       4.64e-03       1.89e+03    \n",
      "      43             48         2.9486e+01      1.73e+00       4.85e-03       1.22e+03    \n",
      "      44             49         2.8638e+01      8.48e-01       4.65e-03       1.77e+03    \n",
      "      45             50         2.6989e+01      1.65e+00       4.67e-03       1.15e+03    \n",
      "      46             51         2.6290e+01      7.00e-01       4.66e-03       1.66e+03    \n",
      "      47             52         2.4721e+01      1.57e+00       4.46e-03       1.08e+03    \n",
      "      48             53         2.4174e+01      5.47e-01       4.66e-03       1.54e+03    \n",
      "      49             54         2.2679e+01      1.50e+00       4.23e-03       1.01e+03    \n",
      "      50             55         2.2285e+01      3.93e-01       4.66e-03       1.42e+03    \n",
      "      51             56         2.1709e+01      5.77e-01       9.94e-04       1.30e+03    \n",
      "      52             57         2.0933e+01      7.76e-01       2.28e-03       1.07e+03    \n",
      "      53             58         1.9826e+01      1.11e+00       5.83e-03       8.67e+02    \n",
      "      54             60         1.9481e+01      3.45e-01       2.10e-03       1.08e+03    \n",
      "      55             61         1.8889e+01      5.92e-01       2.48e-03       9.09e+02    \n",
      "      56             62         1.7867e+01      1.02e+00       5.75e-03       9.15e+02    \n",
      "      57             63         1.6960e+01      9.07e-01       1.11e-02       1.19e+03    \n",
      "      58             65         1.5971e+01      9.90e-01       1.21e-03       7.28e+02    \n",
      "      59             66         1.5544e+01      4.26e-01       2.92e-03       6.95e+02    \n",
      "      60             67         1.4751e+01      7.93e-01       5.85e-03       6.31e+02    \n",
      "      61             68         1.3426e+01      1.33e+00       1.17e-02       4.76e+02    \n",
      "      62             71         1.3333e+01      9.35e-02       1.10e-03       5.04e+02    \n",
      "      63             72         1.3184e+01      1.48e-01       1.21e-03       4.68e+02    \n",
      "      64             73         1.2914e+01      2.70e-01       2.92e-03       4.35e+02    \n",
      "      65             74         1.2439e+01      4.75e-01       5.84e-03       3.62e+02    \n",
      "      66             77         1.2391e+01      4.81e-02       6.23e-04       3.63e+02    \n",
      "      67             78         1.2337e+01      5.40e-02       7.01e-04       3.52e+02    \n",
      "      68             79         1.2234e+01      1.03e-01       1.46e-03       3.34e+02    \n",
      "      69             80         1.2052e+01      1.82e-01       2.89e-03       3.03e+02    \n",
      "      70             81         1.2020e+01      3.23e-02       5.09e-03       6.23e+02    \n",
      "      71             82         1.1752e+01      2.68e-01       5.96e-04       2.39e+02    \n",
      "      72             83         1.1717e+01      3.44e-02       1.32e-03       2.23e+02    \n",
      "      73             84         1.1656e+01      6.10e-02       8.48e-04       2.15e+02    \n",
      "      74             86         1.1640e+01      1.62e-02       2.67e-04       2.12e+02    \n",
      "      75             87         1.1624e+01      1.59e-02       3.58e-04       2.07e+02    \n",
      "      76             88         1.1593e+01      3.09e-02       7.20e-04       1.99e+02    \n",
      "      77             89         1.1535e+01      5.80e-02       1.44e-03       1.82e+02    \n",
      "      78             90         1.1434e+01      1.01e-01       2.87e-03       1.50e+02    \n",
      "      79             92         1.1421e+01      1.32e-02       1.33e-03       1.26e+02    \n",
      "      80             93         1.1390e+01      3.16e-02       6.15e-04       1.33e+02    \n",
      "      81             95         1.1375e+01      1.48e-02       1.87e-04       1.26e+02    \n",
      "      82             96         1.1365e+01      9.69e-03       3.50e-04       1.22e+02    \n",
      "      83             97         1.1347e+01      1.85e-02       7.01e-04       1.14e+02    \n",
      "      84             98         1.1313e+01      3.36e-02       1.39e-03       9.81e+01    \n",
      "      85             99         1.1259e+01      5.38e-02       2.74e-03       6.52e+01    \n",
      "      86             101        1.1251e+01      8.21e-03       1.13e-03       1.29e+02    \n",
      "      87             103        1.1239e+01      1.22e-02       1.53e-04       5.25e+01    \n",
      "      88             104        1.1234e+01      4.67e-03       2.84e-04       5.10e+01    \n",
      "      89             105        1.1233e+01      8.01e-04       5.51e-04       4.13e+01    \n",
      "      90             106        1.1228e+01      5.54e-03       5.60e-05       3.89e+01    \n",
      "      91             107        1.1223e+01      4.74e-03       1.45e-04       4.35e+01    \n",
      "      92             108        1.1222e+01      1.32e-03       2.49e-04       3.52e+01    \n",
      "      93             109        1.1217e+01      4.27e-03       1.41e-04       3.99e+01    \n",
      "      94             111        1.1217e+01      9.78e-04       5.67e-05       3.76e+01    \n",
      "      95             112        1.1215e+01      1.03e-03       6.34e-05       3.71e+01    \n",
      "      96             113        1.1213e+01      2.02e-03       1.27e-04       3.59e+01    \n",
      "      97             114        1.1210e+01      3.94e-03       2.51e-04       3.31e+01    \n",
      "      98             115        1.1202e+01      7.51e-03       4.80e-04       2.84e+01    \n",
      "      99             116        1.1193e+01      8.59e-03       8.73e-04       3.38e+01    \n",
      "      100            118        1.1187e+01      6.07e-03       9.07e-05       1.87e+01    \n",
      "      101            119        1.1184e+01      3.30e-03       1.66e-04       1.74e+01    \n",
      "      102            120        1.1178e+01      5.67e-03       3.18e-04       1.32e+01    \n",
      "      103            122        1.1177e+01      1.84e-03       1.01e-04       3.55e+01    \n",
      "      104            124        1.1175e+01      1.20e-03       3.57e-05       1.39e+01    \n",
      "      105            125        1.1175e+01      7.82e-04       3.40e-05       1.30e+01    \n",
      "      106            126        1.1173e+01      1.59e-03       6.51e-05       1.29e+01    \n",
      "      107            127        1.1170e+01      3.09e-03       1.30e-04       1.07e+01    \n",
      "      108            128        1.1166e+01      4.04e-03       2.26e-04       5.22e+01    \n",
      "      109            130        1.1164e+01      2.14e-03       7.01e-05       8.38e+00    \n",
      "      110            131        1.1162e+01      1.46e-03       4.91e-05       1.02e+01    \n",
      "      111            132        1.1161e+01      1.21e-03       1.17e-04       1.94e+01    \n",
      "      112            133        1.1159e+01      2.48e-03       8.62e-05       2.90e+01    \n",
      "      113            135        1.1158e+01      9.51e-04       3.38e-05       8.39e+00    \n",
      "      114            136        1.1157e+01      7.78e-04       2.55e-05       8.36e+00    \n",
      "      115            137        1.1155e+01      1.55e-03       5.09e-05       8.08e+00    \n",
      "      116            138        1.1152e+01      3.10e-03       1.00e-04       7.98e+00    \n",
      "      117            139        1.1146e+01      6.18e-03       1.93e-04       8.00e+00    \n",
      "      118            140        1.1137e+01      9.09e-03       3.69e-04       2.63e+01    \n",
      "      119            142        1.1133e+01      3.99e-03       8.58e-05       1.53e+01    \n",
      "      120            144        1.1132e+01      6.46e-04       2.91e-05       7.90e+00    \n",
      "      121            145        1.1131e+01      7.77e-04       2.00e-05       7.97e+00    \n",
      "      122            146        1.1130e+01      1.53e-03       4.07e-05       7.99e+00    \n",
      "      123            147        1.1127e+01      3.04e-03       8.18e-05       7.93e+00    \n",
      "      124            148        1.1122e+01      5.38e-03       1.58e-04       3.00e+01    \n",
      "      125            151        1.1121e+01      9.73e-04       3.27e-05       7.96e+00    \n",
      "      126            152        1.1120e+01      7.65e-04       1.96e-05       7.97e+00    \n",
      "      127            153        1.1118e+01      1.53e-03       3.93e-05       7.97e+00    \n",
      "      128            154        1.1115e+01      3.06e-03       7.84e-05       7.96e+00    \n",
      "      129            155        1.1109e+01      6.11e-03       1.55e-04       7.97e+00    \n",
      "      130            156        1.1098e+01      1.11e-02       3.10e-04       1.58e+01    \n",
      "      131            159        1.1096e+01      1.90e-03       4.18e-05       7.93e+00    \n",
      "      132            160        1.1095e+01      1.52e-03       3.75e-05       7.96e+00    \n",
      "      133            161        1.1092e+01      2.96e-03       7.62e-05       7.85e+00    \n",
      "      134            162        1.1088e+01      3.33e-03       1.51e-04       5.83e+01    \n",
      "      135            164        1.1086e+01      2.63e-03       6.88e-05       7.85e+00    \n",
      "      136            165        1.1084e+01      1.45e-03       3.77e-05       7.99e+00    \n",
      "      137            166        1.1083e+01      1.34e-03       8.75e-05       1.83e+01    \n",
      "      138            167        1.1081e+01      2.23e-03       8.45e-05       3.12e+01    \n",
      "      139            169        1.1080e+01      1.01e-03       3.27e-05       7.92e+00    \n",
      "      140            170        1.1079e+01      7.61e-04       1.88e-05       7.92e+00    \n",
      "      141            171        1.1077e+01      1.52e-03       3.76e-05       7.92e+00    \n",
      "      142            172        1.1074e+01      3.04e-03       7.50e-05       7.92e+00    \n",
      "      143            173        1.1068e+01      6.08e-03       1.50e-04       7.91e+00    \n",
      "      144            174        1.1056e+01      1.21e-02       2.99e-04       7.85e+00    \n",
      "      145            175        1.1049e+01      7.42e-03       5.91e-04       1.54e+02    \n",
      "      146            177        1.1044e+01      4.94e-03       2.81e-04       5.10e+01    \n",
      "      147            178        1.1037e+01      6.81e-03       4.43e-05       3.41e+01    \n",
      "      148            179        1.1031e+01      6.04e-03       8.75e-05       7.84e+00    \n",
      "      149            180        1.1028e+01      3.01e-03       7.44e-05       7.89e+00    \n",
      "      150            181        1.1025e+01      2.53e-03       1.62e-04       2.71e+01    \n",
      "      151            183        1.1022e+01      3.28e-03       4.34e-05       1.09e+01    \n",
      "      152            184        1.1021e+01      1.51e-03       4.03e-05       7.89e+00    \n",
      "      153            185        1.1019e+01      1.25e-03       4.18e-05       7.70e+00    \n",
      "      154            186        1.1017e+01      1.95e-03       7.72e-05       3.25e+01    \n",
      "      155            188        1.1016e+01      1.05e-03       3.29e-05       7.84e+00    \n",
      "      156            189        1.1016e+01      7.55e-04       1.87e-05       7.83e+00    \n",
      "      157            190        1.1014e+01      1.51e-03       3.73e-05       7.83e+00    \n",
      "      158            191        1.1011e+01      3.02e-03       7.44e-05       7.83e+00    \n",
      "      159            192        1.1005e+01      6.04e-03       1.49e-04       7.81e+00    \n",
      "      160            193        1.0993e+01      1.20e-02       2.96e-04       1.16e+01    \n",
      "      161            196        1.0992e+01      5.98e-04       5.20e-05       1.24e+01    \n",
      "      162            197        1.0991e+01      1.60e-03       4.09e-05       7.83e+00    \n",
      "      163            198        1.0989e+01      1.40e-03       3.89e-05       7.71e+00    \n",
      "      164            199        1.0987e+01      2.44e-03       7.47e-05       2.38e+01    \n",
      "      165            201        1.0986e+01      7.72e-04       3.13e-05       7.75e+00    \n",
      "      166            202        1.0985e+01      7.55e-04       1.84e-05       7.79e+00    \n",
      "      167            203        1.0984e+01      1.50e-03       3.69e-05       7.80e+00    \n",
      "      168            204        1.0981e+01      3.01e-03       7.40e-05       7.77e+00    \n",
      "      169            205        1.0975e+01      5.95e-03       1.47e-04       8.58e+00    \n",
      "      170            208        1.0974e+01      6.50e-04       2.38e-05       7.71e+00    \n",
      "      171            209        1.0974e+01      7.59e-04       1.85e-05       7.77e+00    \n",
      "      172            210        1.0972e+01      1.50e-03       3.67e-05       7.78e+00    \n",
      "      173            211        1.0969e+01      2.99e-03       7.39e-05       7.73e+00    \n",
      "      174            212        1.0964e+01      5.43e-03       1.47e-04       2.65e+01    \n",
      "      175            215        1.0963e+01      8.44e-04       3.19e-05       7.73e+00    \n",
      "      176            216        1.0962e+01      7.52e-04       1.83e-05       7.76e+00    \n",
      "      177            217        1.0961e+01      1.50e-03       3.68e-05       7.76e+00    \n",
      "      178            218        1.0958e+01      3.00e-03       7.37e-05       7.75e+00    \n",
      "      179            219        1.0952e+01      5.97e-03       1.47e-04       7.79e+00    \n",
      "      180            221        1.0950e+01      1.64e-03       8.37e-05       1.63e+01    \n",
      "      181            222        1.0948e+01      1.87e-03       8.40e-05       3.45e+01    \n",
      "      182            224        1.0947e+01      1.12e-03       3.31e-05       7.76e+00    \n",
      "      183            225        1.0946e+01      7.43e-04       1.88e-05       7.72e+00    \n",
      "      184            226        1.0945e+01      1.49e-03       3.67e-05       7.75e+00    \n",
      "      185            227        1.0942e+01      2.93e-03       7.43e-05       7.66e+00    \n",
      "      186            228        1.0938e+01      4.02e-03       1.48e-04       4.93e+01    \n",
      "      187            230        1.0936e+01      1.85e-03       6.83e-05       7.57e+00    \n",
      "      188            231        1.0935e+01      1.38e-03       3.88e-05       7.79e+00    \n",
      "      189            232        1.0934e+01      9.57e-04       4.60e-05       9.67e+00    \n",
      "      190            233        1.0932e+01      1.43e-03       3.98e-05       7.77e+00    \n",
      "      191            234        1.0931e+01      1.08e-03       4.39e-05       8.47e+00    \n",
      "      192            235        1.0930e+01      1.40e-03       3.93e-05       7.78e+00    \n",
      "      193            236        1.0929e+01      9.93e-04       4.54e-05       9.34e+00    \n",
      "      194            237        1.0927e+01      1.42e-03       3.97e-05       7.77e+00    \n",
      "      195            238        1.0926e+01      1.05e-03       4.45e-05       8.77e+00    \n",
      "      196            239        1.0925e+01      1.40e-03       3.94e-05       7.77e+00    \n",
      "      197            240        1.0924e+01      1.01e-03       4.52e-05       9.18e+00    \n",
      "      198            241        1.0922e+01      1.42e-03       3.96e-05       7.76e+00    \n",
      "      199            242        1.0921e+01      1.04e-03       4.47e-05       8.91e+00    \n",
      "      200            243        1.0920e+01      1.41e-03       3.95e-05       7.76e+00    \n",
      "      201            244        1.0919e+01      1.02e-03       4.51e-05       9.11e+00    \n",
      "      202            245        1.0918e+01      1.41e-03       3.96e-05       7.75e+00    \n",
      "      203            246        1.0916e+01      1.03e-03       4.49e-05       8.98e+00    \n",
      "      204            247        1.0915e+01      1.41e-03       3.95e-05       7.75e+00    \n",
      "      205            248        1.0914e+01      1.02e-03       4.50e-05       9.08e+00    \n",
      "      206            249        1.0913e+01      1.41e-03       3.96e-05       7.75e+00    \n",
      "      207            250        1.0912e+01      1.03e-03       4.49e-05       9.02e+00    \n",
      "      208            251        1.0910e+01      1.41e-03       3.95e-05       7.74e+00    \n",
      "      209            252        1.0909e+01      1.02e-03       4.51e-05       9.07e+00    \n",
      "      210            253        1.0908e+01      1.41e-03       3.95e-05       7.74e+00    \n",
      "      211            254        1.0907e+01      1.02e-03       4.50e-05       9.04e+00    \n",
      "      212            255        1.0905e+01      1.41e-03       3.95e-05       7.74e+00    \n",
      "      213            256        1.0904e+01      1.02e-03       4.51e-05       9.07e+00    \n",
      "      214            257        1.0903e+01      1.41e-03       3.95e-05       7.73e+00    \n",
      "      215            258        1.0902e+01      1.02e-03       4.51e-05       9.05e+00    \n",
      "      216            259        1.0901e+01      1.41e-03       3.95e-05       7.73e+00    \n",
      "      217            260        1.0900e+01      1.02e-03       4.51e-05       9.07e+00    \n",
      "      218            261        1.0898e+01      1.41e-03       3.95e-05       7.73e+00    \n",
      "      219            262        1.0897e+01      1.02e-03       4.51e-05       9.07e+00    \n",
      "      220            263        1.0896e+01      1.41e-03       3.95e-05       7.72e+00    \n",
      "      221            264        1.0895e+01      1.02e-03       4.51e-05       9.08e+00    \n",
      "      222            265        1.0893e+01      1.41e-03       3.95e-05       7.72e+00    \n",
      "      223            266        1.0892e+01      1.02e-03       4.51e-05       9.08e+00    \n",
      "      224            267        1.0891e+01      1.41e-03       3.95e-05       7.72e+00    \n",
      "      225            268        1.0890e+01      1.01e-03       4.51e-05       9.09e+00    \n",
      "      226            269        1.0888e+01      1.40e-03       3.95e-05       7.71e+00    \n",
      "      227            270        1.0887e+01      1.01e-03       4.51e-05       9.09e+00    \n",
      "      228            271        1.0886e+01      1.40e-03       3.95e-05       7.71e+00    \n",
      "      229            272        1.0885e+01      1.01e-03       4.52e-05       9.09e+00    \n",
      "      230            273        1.0884e+01      1.40e-03       3.96e-05       7.70e+00    \n",
      "      231            274        1.0883e+01      1.01e-03       4.52e-05       9.10e+00    \n",
      "      232            275        1.0881e+01      1.40e-03       3.96e-05       7.70e+00    \n",
      "      233            276        1.0880e+01      1.01e-03       4.52e-05       9.10e+00    \n",
      "      234            277        1.0879e+01      1.40e-03       3.96e-05       7.70e+00    \n",
      "      235            278        1.0878e+01      1.01e-03       4.52e-05       9.11e+00    \n",
      "      236            279        1.0876e+01      1.40e-03       3.96e-05       7.69e+00    \n",
      "      237            280        1.0875e+01      1.01e-03       4.52e-05       9.11e+00    \n",
      "      238            281        1.0874e+01      1.40e-03       3.96e-05       7.69e+00    \n",
      "      239            282        1.0873e+01      1.01e-03       4.52e-05       9.12e+00    \n",
      "      240            283        1.0872e+01      1.40e-03       3.96e-05       7.69e+00    \n",
      "      241            284        1.0871e+01      1.01e-03       4.52e-05       9.12e+00    \n",
      "      242            285        1.0869e+01      1.40e-03       3.96e-05       7.68e+00    \n",
      "      243            286        1.0868e+01      1.01e-03       4.52e-05       9.12e+00    \n",
      "      244            287        1.0867e+01      1.40e-03       3.96e-05       7.68e+00    \n",
      "      245            288        1.0866e+01      1.01e-03       4.52e-05       9.13e+00    \n",
      "      246            289        1.0864e+01      1.40e-03       3.96e-05       7.68e+00    \n",
      "      247            290        1.0863e+01      1.01e-03       4.52e-05       9.13e+00    \n",
      "      248            291        1.0862e+01      1.40e-03       3.96e-05       7.67e+00    \n",
      "      249            292        1.0861e+01      1.00e-03       4.52e-05       9.14e+00    \n",
      "      250            293        1.0859e+01      1.40e-03       3.96e-05       7.67e+00    \n",
      "      251            294        1.0858e+01      1.00e-03       4.52e-05       9.14e+00    \n",
      "      252            295        1.0857e+01      1.40e-03       3.96e-05       7.67e+00    \n",
      "      253            296        1.0856e+01      1.00e-03       4.53e-05       9.15e+00    \n",
      "      254            297        1.0855e+01      1.40e-03       3.96e-05       7.66e+00    \n",
      "      255            298        1.0854e+01      1.00e-03       4.53e-05       9.15e+00    \n",
      "      256            299        1.0852e+01      1.40e-03       3.96e-05       7.66e+00    \n",
      "      257            300        1.0851e+01      1.00e-03       4.53e-05       9.16e+00    \n",
      "The maximum number of function evaluations is exceeded.\n",
      "Function evaluations 300, initial cost 1.4899e+02, final cost 1.0851e+01, first-order optimality 9.16e+00.\n"
     ]
    }
   ],
   "source": [
    "def cost_function(x, strikes, mkt_prices):\n",
    "    sigma, theta, nu = x\n",
    "    VG = VG_pricer(S0, None, T, r, q, sigma, theta, nu, exercise)\n",
    "    prices = []\n",
    "    for k in strikes:\n",
    "        prices.append(VG.closed_formula_call(k))\n",
    "    sq_err = np.sum(c_weights*(prices - mkt_prices)**2)\n",
    "    return sq_err\n",
    "\n",
    "start2=time.time()\n",
    "vg2 = scpo.least_squares(cost_function, x0, args=(call_strikes, call_prices),  method='trf', bounds=bounds, verbose=2, loss='soft_l1')\n",
    "end2=time.time()\n",
    "\n",
    "vg_params2 = [round(p,4) for p in vg2.x[:3]]"
   ],
   "metadata": {
    "collapsed": false
   }
  },
  {
   "cell_type": "code",
   "execution_count": 31,
   "outputs": [
    {
     "name": "stdout",
     "output_type": "stream",
     "text": [
      "WEIGHTED OPT: CURVE_FIT (trf)\n",
      "> Calibrated Volatlity [σ] = 0.0129, \t 1.29%\n",
      "> Calibrated mean rate gamma process [θ] =  -1.0965\n",
      "> Calibrated variance rate gamma process [v]=  0.0614\n",
      "TIME ELAPSED:  198.13 sec\n",
      "METHOD 1: LEAST-SQUARES (trf)\n",
      "> Calibrated Volatlity [σ] = 0.2781, \t 27.81%\n",
      "> Calibrated mean rate gamma process [θ] =  0.1335\n",
      "> Calibrated variance rate gamma process [v]=  0.1808\n",
      "TIME ELAPSED:  222.53 sec\n"
     ]
    }
   ],
   "source": [
    "print('WEIGHTED OPT: CURVE_FIT (trf)')\n",
    "print(f'> Calibrated Volatlity [σ] = {vg_params1[0]}, \\t {round(vg_params1[0]*100,2)}%')\n",
    "print('> Calibrated mean rate gamma process [θ] = ', vg_params1[1])\n",
    "print('> Calibrated variance rate gamma process [v]= ', vg_params1[2])\n",
    "print(f'TIME ELAPSED:  {round(end1-start1,2)} sec')\n",
    "\n",
    "print('METHOD 1: LEAST-SQUARES (trf)')\n",
    "print(f'> Calibrated Volatlity [σ] = {vg_params2[0]}, \\t {round(vg_params2[0]*100,2)}%')\n",
    "print('> Calibrated mean rate gamma process [θ] = ', vg_params2[1])\n",
    "print('> Calibrated variance rate gamma process [v]= ', vg_params2[2])\n",
    "print(f'TIME ELAPSED:  {round(end2-start2,2)} sec')"
   ],
   "metadata": {
    "collapsed": false
   }
  },
  {
   "cell_type": "code",
   "execution_count": 32,
   "outputs": [
    {
     "name": "stdout",
     "output_type": "stream",
     "text": [
      "[0.0129, -1.0965, 0.0614]\n",
      "[0.2781, 0.1335, 0.1808]\n",
      "Stored 'calls_vg_params_aapl' (list)\n"
     ]
    }
   ],
   "source": [
    "print(vg_params1)\n",
    "print(vg_params2)\n",
    "calls_vg_params_aapl = vg_params2\n",
    "%store calls_vg_params_aapl"
   ],
   "metadata": {
    "collapsed": false
   }
  },
  {
   "cell_type": "markdown",
   "source": [
    "### Reprice options using calibrated parameters\n",
    "Once we have calibrated all the models, we test our parameters calibration by repricing the original dataframe of options. The table contains all the **BID**, **ASK** and **MIDPOINT** prices. The calibration is well perfromed if the prices we obtain belong to the interval $[BID, ASK]$."
   ],
   "metadata": {
    "collapsed": false
   },
   "outputs": []
  },
  {
   "cell_type": "code",
   "execution_count": 33,
   "outputs": [
    {
     "name": "stdout",
     "output_type": "stream",
     "text": [
      "MARKET PRICES. STARTING DATE = 20-01-2016. EXPIRY = 1YEAR. \n",
      "\n",
      "    STRIKE  MKT_BID  MKT_MID  MKT_ASK\n",
      "0     75.0    25.10   25.300    25.50\n",
      "1     80.0    21.51   21.675    21.84\n",
      "2     85.0    18.25   18.405    18.56\n",
      "3     87.5    16.75   16.900    17.05\n",
      "4     90.0    15.30   15.445    15.59\n",
      "5     92.5    13.95   14.080    14.21\n",
      "6     95.0    12.75   12.850    12.95\n",
      "7     97.5    11.55   11.625    11.70\n",
      "8    100.0    10.46   10.525    10.59\n",
      "9    105.0     8.45    8.530     8.61\n",
      "10   110.0     6.74    6.800     6.86\n",
      "11   115.0     5.30    5.375     5.45\n",
      "12   120.0     4.15    4.195     4.24\n",
      "13   125.0     3.20    3.245     3.29\n",
      "14   130.0     2.44    2.495     2.55\n"
     ]
    }
   ],
   "source": [
    "days = 252\n",
    "paths = 1000\n",
    "\n",
    "call_calib_prices = pd.DataFrame({\n",
    "    'STRIKE': calls['STRIKE'],    # array of K for call options\n",
    "    'MKT_BID': calls['C_BID'],\n",
    "    'MKT_MID': calls['C_Midpoint'],\n",
    "    'MKT_ASK': calls['C_ASK'],\n",
    "})\n",
    "print(f'MARKET PRICES. STARTING DATE = 20-01-2016. EXPIRY = 1YEAR. \\n\\n{call_calib_prices}')"
   ],
   "metadata": {
    "collapsed": false
   }
  },
  {
   "cell_type": "markdown",
   "source": [
    "#### Merton Jump Diffusion model"
   ],
   "metadata": {
    "collapsed": false
   }
  },
  {
   "cell_type": "code",
   "execution_count": 34,
   "outputs": [
    {
     "name": "stdout",
     "output_type": "stream",
     "text": [
      "    STRIKE  MKT_BID  MKT_MID  MKT_ASK  MERTON MC  MERTON CF\n",
      "0     75.0    25.10   25.300    25.50  26.900060  25.915467\n",
      "1     80.0    21.51   21.675    21.84  22.977854  22.098922\n",
      "2     85.0    18.25   18.405    18.56  19.369881  18.621576\n",
      "3     87.5    16.75   16.900    17.05  17.686210  17.019429\n",
      "4     90.0    15.30   15.445    15.59  16.102875  15.511177\n",
      "5     92.5    13.95   14.080    14.21  14.637769  14.097649\n",
      "6     95.0    12.75   12.850    12.95  13.264807  12.778661\n",
      "7     97.5    11.55   11.625    11.70  12.004898  11.553094\n",
      "8    100.0    10.46   10.525    10.59  10.868453  10.418986\n",
      "9    105.0     8.45    8.530     8.61   8.887827   8.413767\n",
      "10   110.0     6.74    6.800     6.86   7.211903   6.734846\n",
      "11   115.0     5.30    5.375     5.45   5.837980   5.348020\n",
      "12   120.0     4.15    4.195     4.24   4.717083   4.216402\n",
      "13   125.0     3.20    3.245     3.29   3.780387   3.303106\n",
      "14   130.0     2.44    2.495     2.55   3.048838   2.573180\n"
     ]
    }
   ],
   "source": [
    "sigma, lambd, meanJ, stdJ = mert_params2\n",
    "MertonCAL = Merton_pricer(S0, None, T, r, q, sigma, lambd, meanJ, stdJ, exercise)\n",
    "SMerton_CAL = MertonCAL.MertonPath(days, paths)\n",
    "\n",
    "avg_payoffs = []\n",
    "for k in call_strikes:\n",
    "    payoffs = []        # stores here the payoff for each path, for a specific couple K1-K2\n",
    "    for St in SMerton_CAL[-1]:\n",
    "        payoffs.append(MertonCAL.payoff_call(k, St))\n",
    "    avg_payoffs.append(np.mean(payoffs))\n",
    "\n",
    "merton_mc_prices = np.zeros(len(call_calib_prices))\n",
    "merton_cf_prices = np.zeros(len(call_calib_prices))\n",
    "\n",
    "for index in range(len(call_calib_prices)):\n",
    "    merton_mc_prices[index] = np.exp(-r*T)* avg_payoffs[index]\n",
    "    merton_cf_prices[index] = MertonCAL.closed_formula_call(call_strikes[index])\n",
    "\n",
    "call_calib_prices['MERTON MC'] = merton_mc_prices\n",
    "call_calib_prices['MERTON CF'] = merton_cf_prices\n",
    "\n",
    "print(call_calib_prices)"
   ],
   "metadata": {
    "collapsed": false
   }
  },
  {
   "cell_type": "code",
   "execution_count": 35,
   "outputs": [
    {
     "name": "stdout",
     "output_type": "stream",
     "text": [
      "    STRIKE  MKT_BID  MKT_MID  MKT_ASK     KOU MC     KOU CF\n",
      "0     75.0    25.10   25.300    25.50  25.706322  25.742058\n",
      "1     80.0    21.51   21.675    21.84  21.829761  21.912847\n",
      "2     85.0    18.25   18.405    18.56  18.323737  18.437558\n",
      "3     87.5    16.75   16.900    17.05  16.727060  16.842138\n",
      "4     90.0    15.30   15.445    15.59  15.230535  15.344211\n",
      "5     92.5    13.95   14.080    14.21  13.841523  13.944301\n",
      "6     95.0    12.75   12.850    12.95  12.549633  12.641824\n",
      "7     97.5    11.55   11.625    11.70  11.356668  11.435189\n",
      "8    100.0    10.46   10.525    10.59  10.255266  10.321920\n",
      "9    105.0     8.45    8.530     8.61   8.350752   8.361977\n",
      "10   110.0     6.74    6.800     6.86   6.736954   6.729738\n",
      "11   115.0     5.30    5.375     5.45   5.423090   5.387486\n",
      "12   120.0     4.15    4.195     4.24   4.339381   4.295690\n",
      "13   125.0     3.20    3.245     3.29   3.468486   3.415784\n",
      "14   130.0     2.44    2.495     2.55   2.772060   2.712023\n"
     ]
    }
   ],
   "source": [
    "sigma, lambd, p, eta1, eta2 = kou_params2\n",
    "KouCAL = Kou_pricer(S0, None, T, r, sigma, lambd, p, eta1, eta2, exercise)\n",
    "SKou_CAL = KouCAL.KouPath(days, paths)\n",
    "\n",
    "avg_payoffs = []\n",
    "for k in call_strikes:\n",
    "    payoffs = []        # stores here the payoff for each path, for a specific couple K1-K2\n",
    "    for St in SKou_CAL[-1]:\n",
    "        payoffs.append(KouCAL.payoff_call(k, St))\n",
    "    avg_payoffs.append(np.mean(payoffs))\n",
    "\n",
    "kou_mc_prices = np.zeros(len(call_calib_prices))\n",
    "kou_cf_prices = np.zeros(len(call_calib_prices))\n",
    "\n",
    "for index in range(len(call_calib_prices)):\n",
    "    kou_mc_prices[index] = np.exp(-r*T)* avg_payoffs[index]\n",
    "    kou_cf_prices[index] = KouCAL.closed_formula_call(call_strikes[index])\n",
    "\n",
    "call_calib_prices['KOU MC'] = kou_mc_prices\n",
    "call_calib_prices['KOU CF'] = kou_cf_prices\n",
    "\n",
    "selection = [0,1,2,3,6,7]\n",
    "print(call_calib_prices.iloc[:, selection])"
   ],
   "metadata": {
    "collapsed": false
   }
  },
  {
   "cell_type": "code",
   "execution_count": 36,
   "outputs": [
    {
     "name": "stdout",
     "output_type": "stream",
     "text": [
      "    STRIKE  MKT_BID  MKT_MID  MKT_ASK      VG MC      VG CF\n",
      "0     75.0    25.10   25.300    25.50  26.322686  26.045789\n",
      "1     80.0    21.51   21.675    21.84  22.561747  22.220398\n",
      "2     85.0    18.25   18.405    18.56  19.196481  18.718838\n",
      "3     87.5    16.75   16.900    17.05  17.679600  17.100362\n",
      "4     90.0    15.30   15.445    15.59  16.302055  15.574183\n",
      "5     92.5    13.95   14.080    14.21  15.022361  14.142161\n",
      "6     95.0    12.75   12.850    12.95  13.824351  12.805132\n",
      "7     97.5    11.55   11.625    11.70  12.722654  11.562912\n",
      "8    100.0    10.46   10.525    10.59  11.714250  10.414327\n",
      "9    105.0     8.45    8.530     8.61   9.947980   8.388831\n",
      "10   110.0     6.74    6.800     6.86   8.462670   6.702621\n",
      "11   115.0     5.30    5.375     5.45   7.181632   5.320481\n",
      "12   120.0     4.15    4.195     4.24   6.093920   4.202406\n",
      "13   125.0     3.20    3.245     3.29   5.162586   3.307603\n",
      "14   130.0     2.44    2.495     2.55   4.358809   2.597482\n"
     ]
    }
   ],
   "source": [
    "sigm, theta, nu = vg_params2\n",
    "VGCAL = VG_pricer(S0, None, T, r, q, sigm, theta, nu, exercise)\n",
    "SVarGamma_CAL = VGCAL.VarianceGammaPath2(days, paths)\n",
    "\n",
    "avg_payoffs = []\n",
    "for k in call_strikes:\n",
    "    payoffs = []        # stores here the payoff for each path, for a specific couple K1-K2\n",
    "    for St in SVarGamma_CAL[-1]:\n",
    "        payoffs.append(VGCAL.payoff_call(k, St))\n",
    "    avg_payoffs.append(np.mean(payoffs))\n",
    "\n",
    "vg_mc_prices = np.zeros(len(call_calib_prices))\n",
    "vg_cf_prices = np.zeros(len(call_calib_prices))\n",
    "\n",
    "for index in range(len(call_calib_prices)):\n",
    "    vg_mc_prices[index] = np.exp(-r*T)* avg_payoffs[index]\n",
    "    vg_cf_prices[index] = VGCAL.closed_formula_call(call_strikes[index])\n",
    "\n",
    "call_calib_prices['VG MC'] = vg_mc_prices\n",
    "call_calib_prices['VG CF'] = vg_cf_prices\n",
    "\n",
    "selection = [0,1,2,3,8,9]\n",
    "print(call_calib_prices.iloc[:, selection])"
   ],
   "metadata": {
    "collapsed": false
   }
  },
  {
   "cell_type": "code",
   "execution_count": 37,
   "outputs": [
    {
     "name": "stdout",
     "output_type": "stream",
     "text": [
      "    STRIKE  MKT_BID  MKT_MID  MKT_ASK  MERTON MC  MERTON CF     KOU MC   \n",
      "0     75.0    25.10   25.300    25.50  26.900060  25.915467  25.706322  \\\n",
      "1     80.0    21.51   21.675    21.84  22.977854  22.098922  21.829761   \n",
      "2     85.0    18.25   18.405    18.56  19.369881  18.621576  18.323737   \n",
      "3     87.5    16.75   16.900    17.05  17.686210  17.019429  16.727060   \n",
      "4     90.0    15.30   15.445    15.59  16.102875  15.511177  15.230535   \n",
      "5     92.5    13.95   14.080    14.21  14.637769  14.097649  13.841523   \n",
      "6     95.0    12.75   12.850    12.95  13.264807  12.778661  12.549633   \n",
      "7     97.5    11.55   11.625    11.70  12.004898  11.553094  11.356668   \n",
      "8    100.0    10.46   10.525    10.59  10.868453  10.418986  10.255266   \n",
      "9    105.0     8.45    8.530     8.61   8.887827   8.413767   8.350752   \n",
      "10   110.0     6.74    6.800     6.86   7.211903   6.734846   6.736954   \n",
      "11   115.0     5.30    5.375     5.45   5.837980   5.348020   5.423090   \n",
      "12   120.0     4.15    4.195     4.24   4.717083   4.216402   4.339381   \n",
      "13   125.0     3.20    3.245     3.29   3.780387   3.303106   3.468486   \n",
      "14   130.0     2.44    2.495     2.55   3.048838   2.573180   2.772060   \n",
      "\n",
      "       KOU CF      VG MC      VG CF  \n",
      "0   25.742058  26.322686  26.045789  \n",
      "1   21.912847  22.561747  22.220398  \n",
      "2   18.437558  19.196481  18.718838  \n",
      "3   16.842138  17.679600  17.100362  \n",
      "4   15.344211  16.302055  15.574183  \n",
      "5   13.944301  15.022361  14.142161  \n",
      "6   12.641824  13.824351  12.805132  \n",
      "7   11.435189  12.722654  11.562912  \n",
      "8   10.321920  11.714250  10.414327  \n",
      "9    8.361977   9.947980   8.388831  \n",
      "10   6.729738   8.462670   6.702621  \n",
      "11   5.387486   7.181632   5.320481  \n",
      "12   4.295690   6.093920   4.202406  \n",
      "13   3.415784   5.162586   3.307603  \n",
      "14   2.712023   4.358809   2.597482  \n"
     ]
    }
   ],
   "source": [
    "print(call_calib_prices)"
   ],
   "metadata": {
    "collapsed": false
   }
  },
  {
   "cell_type": "markdown",
   "source": [
    "### Visualize calibration results"
   ],
   "metadata": {
    "collapsed": false
   }
  },
  {
   "cell_type": "markdown",
   "source": [
    "#### Closed Formulas Option pricing"
   ],
   "metadata": {
    "collapsed": false
   }
  },
  {
   "cell_type": "code",
   "execution_count": 38,
   "outputs": [
    {
     "data": {
      "text/plain": "<Figure size 1700x400 with 3 Axes>",
      "image/png": "[encoded data removed]"
     },
     "metadata": {},
     "output_type": "display_data"
    }
   ],
   "source": [
    "fig = plt.figure(figsize=(17, 4))\n",
    "ax1 = fig.add_subplot(131)\n",
    "ax2 = fig.add_subplot(132)\n",
    "ax3 = fig.add_subplot(133)\n",
    "ax1.plot(call_strikes, call_prices, \".\", label=\"midpoint\")\n",
    "ax2.plot(call_strikes, call_prices, \".\", label=\"midpoint\")\n",
    "ax3.plot(call_strikes, call_prices, \".\", label=\"midpoint\")\n",
    "ax1.plot(call_strikes, merton_cf_prices, label=\"Merton\")\n",
    "ax2.plot(call_strikes, kou_cf_prices, label=\"Kou\")\n",
    "ax3.plot(call_strikes, vg_cf_prices, label=\"VG\")\n",
    "ax1.set_title(\"Merton model\")\n",
    "ax2.set_title(\"Kou model\")\n",
    "ax3.set_title(\"VG model\")\n",
    "ax1.set_xlabel(\"strike\")\n",
    "ax2.set_xlabel(\"strike\")\n",
    "ax3.set_xlabel(\"strike\")\n",
    "ax1.legend()\n",
    "ax2.legend()\n",
    "ax3.legend()\n",
    "plt.show()"
   ],
   "metadata": {
    "collapsed": false
   }
  },
  {
   "cell_type": "markdown",
   "source": [
    "#### Monte Carlo option pricing"
   ],
   "metadata": {
    "collapsed": false
   }
  },
  {
   "cell_type": "code",
   "execution_count": 39,
   "outputs": [
    {
     "data": {
      "text/plain": "<Figure size 1700x400 with 3 Axes>",
      "image/png": "[encoded data removed]"
     },
     "metadata": {},
     "output_type": "display_data"
    }
   ],
   "source": [
    "fig = plt.figure(figsize=(17, 4))\n",
    "ax1 = fig.add_subplot(131)\n",
    "ax2 = fig.add_subplot(132)\n",
    "ax3 = fig.add_subplot(133)\n",
    "ax1.plot(call_strikes, call_prices, \".\", label=\"midpoint\")\n",
    "ax2.plot(call_strikes, call_prices, \".\", label=\"midpoint\")\n",
    "ax3.plot(call_strikes, call_prices, \".\", label=\"midpoint\")\n",
    "ax1.plot(call_strikes, merton_mc_prices, label=\"Merton\")\n",
    "ax2.plot(call_strikes, kou_mc_prices, label=\"Kou\")\n",
    "ax3.plot(call_strikes, vg_mc_prices, label=\"VG\")\n",
    "ax1.set_title(\"Merton model\")\n",
    "ax2.set_title(\"Kou model\")\n",
    "ax3.set_title(\"VG model\")\n",
    "ax1.set_xlabel(\"strike\")\n",
    "ax2.set_xlabel(\"strike\")\n",
    "ax3.set_xlabel(\"strike\")\n",
    "ax1.legend()\n",
    "ax2.legend()\n",
    "ax3.legend()\n",
    "plt.show()"
   ],
   "metadata": {
    "collapsed": false
   }
  },
  {
   "cell_type": "code",
   "execution_count": null,
   "outputs": [],
   "source": [],
   "metadata": {
    "collapsed": false
   }
  }
 ],
 "metadata": {
  "kernelspec": {
   "display_name": "Python 3",
   "language": "python",
   "name": "python3"
  },
  "language_info": {
   "codemirror_mode": {
    "name": "ipython",
    "version": 2
   },
   "file_extension": ".py",
   "mimetype": "text/x-python",
   "name": "python",
   "nbconvert_exporter": "python",
   "pygments_lexer": "ipython2",
   "version": "2.7.6"
  }
 },
 "nbformat": 4,
 "nbformat_minor": 0
}
