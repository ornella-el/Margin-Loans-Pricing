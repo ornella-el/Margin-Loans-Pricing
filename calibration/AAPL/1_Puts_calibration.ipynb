{
 "cells": [
  {
   "cell_type": "markdown",
   "source": [
    "# Calibration of Black and Scholes, Merton, Kou, Variance Gamma parameters\n",
    "This notebook aims to find the optimal parameters of **Black-Scholes**, **Merton Jump Diffusion**, **Kou Jump Diffusion** and **Variance Gamma** models. To do so, we compute the european option prices using **closed formulas**, available for all the 4 models, and the **Fast Fourier Transform** for the VG model. Given these theoretical prices, the **implied volatilities** are computed comparing them with real market prices, minimizing their difference. Then we estimate the additional parameters of each model, using the python module `scipy.optimize`.\n",
    "\n",
    "*reference: https://github.com/cantaro86/Financial-Models-Numerical-Methods/tree/master*\n"
   ],
   "metadata": {
    "collapsed": false
   }
  },
  {
   "cell_type": "code",
   "execution_count": 38,
   "metadata": {
    "collapsed": true
   },
   "outputs": [],
   "source": [
    "import numpy as np\n",
    "import pandas as pd\n",
    "import matplotlib.pyplot as plt\n",
    "import random\n",
    "import scipy.optimize as scpo\n",
    "import sys\n",
    "sys.path.append('C:/Users\\ornel\\OneDrive\\Desktop\\TESI\\PythonProjects\\Margin-Loans-Pricing\\python-modules/functions')\n",
    "sys.path.append('C:/Users\\ornel\\OneDrive\\Desktop\\TESI\\PythonProjects\\Margin-Loans-Pricing\\python-modules/calibration')\n",
    "import time\n",
    "\n",
    "from MERTONpricer import Merton_pricer\n",
    "from BSpricer import BS_Pricer\n",
    "from KOUpricer import Kou_pricer\n",
    "from VGpricer import VG_pricer\n",
    "\n",
    "random.seed(110)"
   ]
  },
  {
   "cell_type": "markdown",
   "source": [
    "Let's start retrieving historical prices for **european call** and **put** options starting from date **2016-01-20** and expiring **1 year** later. All the data have been collected from [OptionsDX](https://www.optionsdx.com/shop/) and preprocessed in `plainvanilla.py` module. Only options such that the moneyness\n",
    "$$ K/S0 \\in [0.75, 1.35] $$ have been selected."
   ],
   "metadata": {
    "collapsed": false
   }
  },
  {
   "cell_type": "code",
   "execution_count": 39,
   "outputs": [
    {
     "name": "stdout",
     "output_type": "stream",
     "text": [
      "NUM OF PUT OPTS: 15\n",
      "    QUOTE_DATE  UNDERLYING_LAST EXPIRE_DATE  P_BID  P_ASK  STRIKE     P_IV   \n",
      "0   2016-01-20            96.79  2017-01-20   4.40   4.49    75.0  0.36617  \\\n",
      "1   2016-01-20            96.79  2017-01-20   5.80   5.95    80.0  0.35755   \n",
      "2   2016-01-20            96.79  2017-01-20   7.50   7.65    85.0  0.34912   \n",
      "3   2016-01-20            96.79  2017-01-20   8.44   8.60    87.5  0.34493   \n",
      "4   2016-01-20            96.79  2017-01-20   9.55   9.65    90.0  0.34241   \n",
      "5   2016-01-20            96.79  2017-01-20  10.70  10.81    92.5  0.33994   \n",
      "6   2016-01-20            96.79  2017-01-20  11.90  12.04    95.0  0.33684   \n",
      "7   2016-01-20            96.79  2017-01-20  13.15  13.36    97.5  0.33399   \n",
      "8   2016-01-20            96.79  2017-01-20  14.51  14.76   100.0  0.33138   \n",
      "9   2016-01-20            96.79  2017-01-20  17.50  17.71   105.0  0.32641   \n",
      "10  2016-01-20            96.79  2017-01-20  20.75  20.99   110.0  0.32280   \n",
      "11  2016-01-20            96.79  2017-01-20  24.29  24.60   115.0  0.32109   \n",
      "12  2016-01-20            96.79  2017-01-20  28.04  28.35   120.0  0.31789   \n",
      "13  2016-01-20            96.79  2017-01-20  32.06  32.40   125.0  0.31712   \n",
      "14  2016-01-20            96.79  2017-01-20  36.35  36.69   130.0  0.32156   \n",
      "\n",
      "    MONEYNESS  \n",
      "0        0.77  \n",
      "1        0.83  \n",
      "2        0.88  \n",
      "3        0.90  \n",
      "4        0.93  \n",
      "5        0.96  \n",
      "6        0.98  \n",
      "7        1.01  \n",
      "8        1.03  \n",
      "9        1.08  \n",
      "10       1.14  \n",
      "11       1.19  \n",
      "12       1.24  \n",
      "13       1.29  \n",
      "14       1.34  \n"
     ]
    }
   ],
   "source": [
    "df_put = pd.read_csv('../../data/AAPL/OPT16_AAPL_PUTS_75_135.csv')\n",
    "print(f'NUM OF PUT OPTS: {df_put.shape[0]}')\n",
    "print(df_put)"
   ],
   "metadata": {
    "collapsed": false
   }
  },
  {
   "cell_type": "markdown",
   "source": [
    "The dataframes **df_calls** and **df_put** contain both 83 options sorted by strike price. For our purpose, using the $25\\%$ of these DFs is enough and can lead to very good results. Thus, we sample the rows and then reformulate the dataframes adding **Midpoint** and **Spread** columns."
   ],
   "metadata": {
    "collapsed": false
   }
  },
  {
   "cell_type": "code",
   "execution_count": 40,
   "outputs": [],
   "source": [
    "puts = df_put.sample(frac=1, replace=False).sort_index().reset_index(drop=True)\n",
    "\n",
    "puts['P_Midpoint'] = abs(puts['P_BID'] + puts['P_ASK']) / 2\n",
    "puts['P_Spread'] = puts['P_BID'] - puts['P_ASK']\n",
    "put_prices = puts['P_Midpoint']\n",
    "\n",
    "\n",
    "q = 0           # dividend yield\n",
    "r = 0.03        # risk-free interest rate\n",
    "sigma = 0.3     #volatility (variance of diffusion process)\n",
    "S0 = puts.iloc[0]['UNDERLYING_LAST']\n",
    "T = 1           # time-to-maturity\n",
    "put_strikes = puts['STRIKE']      # array of K for put options\n",
    "exercise = 'european'\n"
   ],
   "metadata": {
    "collapsed": false
   }
  },
  {
   "cell_type": "markdown",
   "source": [
    "The following code snippet initializes objects of class *BS_pricer*, *Merton_pricer*, *Kou_pricer*, *VG_pricer* with default values as parameters. Then it computes the theoretical call prices using closed formulas of each 4 models, with strike prices given by the *call_strikes* array. Additionally, we use the **Midpoint** price as the option market prices.P"
   ],
   "metadata": {
    "collapsed": false
   }
  },
  {
   "cell_type": "code",
   "execution_count": 41,
   "outputs": [],
   "source": [
    "BS = BS_Pricer(S0=S0, r=r, q = q, sigma=sigma, ttm=T, exercise=exercise, K=None)\n",
    "Merton = Merton_pricer(S0=S0, K=None, ttm=T, r=r, q = q, sigma=0.15, lambd=0.5, meanJ=-0.1, stdJ=0.1, exercise=exercise)\n",
    "Kou = Kou_pricer(S0=S0, K=None, ttm=T, r=r, sigma=0.15, lambd=0.5, p=0.6, eta1=12, eta2=5, exercise=exercise)\n",
    "VG = VG_pricer(S0, K=None, ttm=T, r=r, q=q, sigma=0.15, theta=-0.2, nu=0.3, exercise=exercise)"
   ],
   "metadata": {
    "collapsed": false
   }
  },
  {
   "cell_type": "markdown",
   "source": [
    "Same for put prices."
   ],
   "metadata": {
    "collapsed": false
   }
  },
  {
   "cell_type": "code",
   "execution_count": 42,
   "outputs": [
    {
     "name": "stdout",
     "output_type": "stream",
     "text": [
      "Theoretical put options prices:\n",
      "    Strike   Price BlackScholes     Merton        Kou VarianceGamma\n",
      "0     75.0   4.445     2.288441   0.500824   0.857554      0.145503\n",
      "1     80.0   5.875     3.477505   0.971757   1.348824      0.488348\n",
      "2     85.0   7.575     5.005186   1.750304   2.131249      1.283526\n",
      "3     87.5   8.520     5.900609   2.288366   2.668826      1.907301\n",
      "4     90.0   9.600     6.884442   2.942377   3.322706      2.695313\n",
      "5     92.5  10.755     7.956189   3.722891   4.104448      3.647683\n",
      "6     95.0  11.970     9.114635   4.638021   5.022612      4.758812\n",
      "7     97.5  13.255     10.35793    5.69293   6.082238      6.019299\n",
      "8    100.0  14.635    11.683685   6.889561   7.284661      7.417527\n",
      "9    105.0  17.605     14.57084   9.699762  10.105769     10.576544\n",
      "10   110.0  20.870     17.74953  13.024429  13.433526     14.136094\n",
      "11   115.0  24.445    21.189961  16.786556  17.185123     18.007109\n",
      "12   120.0  28.195    24.861268  20.894875  21.268068     22.116187\n",
      "13   125.0  32.230    28.733142  25.260127  25.595912     26.405446\n",
      "14   130.0  36.520     32.77697  29.805496  30.096777     30.830403\n"
     ]
    }
   ],
   "source": [
    "put_th_prices = pd.DataFrame(columns=['Strike','Price', 'BlackScholes', 'Merton', 'Kou', 'VarianceGamma'])\n",
    "put_th_prices['Strike'] = put_strikes\n",
    "put_th_prices['Price'] = put_prices\n",
    "\n",
    "for i, K in enumerate(put_strikes):\n",
    "    bs = BS.closed_formula_put(K)\n",
    "    mert = Merton.closed_formula_put(K)\n",
    "    kou = Kou.closed_formula_put(K)\n",
    "    vg = VG.closed_formula_put(K)\n",
    "    put_th_prices.iloc[i, 2:] = [bs, mert, kou, vg]\n",
    "\n",
    "print(f'Theoretical put options prices:')\n",
    "print(put_th_prices)"
   ],
   "metadata": {
    "collapsed": false
   }
  },
  {
   "cell_type": "markdown",
   "source": [
    "## Implied volatility\n",
    "The function belows implements $3$ methods to compute implied volatility: [Newton](https://en.wikipedia.org/wiki/Newton%27s_method) method, the [Bisection](https://en.wikipedia.org/wiki/Bisection_method) method and a more advanced one, named [Brent](https://en.wikipedia.org/wiki/Brent%27s_method) method. Apart from the initial guess, there is no substantial difference in the final result between **Newton** and **bisection** methods (*fsolve*). The **Implied Volatility** is that value $\\sigma$ that must be inserted into the Black-Scholes (BS) formula in order to retrieve the option price quoted in the market:\n",
    "    $$ BS(S, K, T, r, \\sigma) = P,  $$\n",
    "where $S$ is the underlying spot price, $K$ is the strike, $T$ time to maturity, $r$ risk-free interest rate and $P$ the option price quoted in the market. All these quantities are **observable**.\n",
    "   "
   ],
   "metadata": {
    "collapsed": false
   }
  },
  {
   "cell_type": "code",
   "execution_count": 43,
   "outputs": [],
   "source": [
    "def implied_volatility(price, S, strike, t, rate, q, type_o, method='fsolve', disp=True ):\n",
    "    \"\"\" Returns Implied volatility\n",
    "        methods:  fsolve (default) or brent\n",
    "    \"\"\"\n",
    "\n",
    "    def obj_fun(vol):\n",
    "        return BS.BlackScholes(type_o=type_o, S0=S, K=strike, ttm=t, r=rate, q=q, sigma=vol) - price\n",
    "\n",
    "    def vega(vol):\n",
    "        return BS.vega(S, strike, rate, q, vol, t)\n",
    "\n",
    "    if method =='fsolve':\n",
    "        X0 = [0.01, 0.2, 0.35, 7]        #initial guess points for imp.vol.\n",
    "        for x_0 in X0:\n",
    "            x, _, solved, _ = scpo.fsolve(obj_fun, x_0, full_output=True, xtol=1e-8)\n",
    "            if solved == 1:\n",
    "                return x[0]\n",
    "\n",
    "    if disp:\n",
    "        return -1"
   ],
   "metadata": {
    "collapsed": false
   }
  },
  {
   "cell_type": "markdown",
   "source": [
    "The following code snippet computes the implied volatility of **call** and **put** options market prices."
   ],
   "metadata": {
    "collapsed": false
   }
  },
  {
   "cell_type": "code",
   "execution_count": 44,
   "outputs": [
    {
     "name": "stdout",
     "output_type": "stream",
     "text": [
      "Implied volatilities of market prices (puts):\n",
      "S0 = 96.79\n",
      "K = 75.0, IV = 0.3648\n",
      "K = 80.0, IV = 0.3565\n",
      "K = 85.0, IV = 0.3484\n",
      "K = 87.5, IV = 0.3441\n",
      "K = 90.0, IV = 0.3416\n",
      "K = 92.5, IV = 0.3392\n"
     ]
    },
    {
     "data": {
      "text/plain": "<Figure size 1000x500 with 1 Axes>",
      "image/png": "[encoded data removed]"
     },
     "metadata": {},
     "output_type": "display_data"
    }
   ],
   "source": [
    "IV_market_p = []\n",
    "for i in range(len(put_prices)):\n",
    "    IV_market_p.append(implied_volatility(put_prices[i], S=S0, strike=put_strikes[i], t = T, rate=0.02, q = 0.027, type_o='put', method='fsolve'))\n",
    "\n",
    "print(f'Implied volatilities of market prices (puts):\\nS0 = {S0}')\n",
    "for a,b in zip(put_strikes.head(6), IV_market_p[:6]):\n",
    "    print(f'K = {a}, IV = {round(b, 4)}')\n",
    "\n",
    "# Plot market implied volatilities w.r.t. log moneyness\n",
    "x = (S0/put_strikes)\n",
    "IV_filtered = [iv for iv in IV_market_p if iv != -1]\n",
    "x_filtered = [log_m for iv, log_m in zip(IV_market_p, x) if iv != -1]\n",
    "puts_filtered = [p_iv for iv, p_iv in zip(IV_market_p, puts['P_IV']) if iv != -1 ]\n",
    "\n",
    "fig, ax1 = plt.subplots(figsize=(10,5))\n",
    "ax1.scatter(x_filtered, IV_filtered, marker='x', label='BS inversion', color='red')\n",
    "ax1.scatter(x_filtered, puts_filtered, marker='.', label='provided')\n",
    "ax1.set_xlabel('Moneyness: S0/K'); ax1.set_ylabel('Implied Volatility'); ax1.set_title('Puts volatility smile')\n",
    "ax1.legend(); plt.show()\n"
   ],
   "metadata": {
    "collapsed": false
   }
  },
  {
   "cell_type": "markdown",
   "source": [
    "##  Weighted Calibration (call options)\n",
    "Let's step now into the calibration of model parameters.\n",
    "If we define $\\Theta$ the set of parameters, the goal is to find the optimal parameters $\\Theta^*$ that minimize the following objective function:\n",
    "$$ \\sum_{i=1}^{N} w_i \\biggl( P_i - f(K_i|\\Theta) \\biggr)^2 $$\n",
    "where $w_i$ are weights, usually defined as\n",
    "$$ w_i = \\frac{1}{\\text {spread}_i },$$ $P_i$ are the market prices and $f$ is the pricing function. In our case $f$ is given by **Merton** Jump Diffusion model, **Kou** Jump Diffusion model, or **Variance Gamma** process. To perform this optimization problem, many numerical methods can be used. In particular, we test two functions of `scipy.optimize`:\n",
    "1. **curve_fit**, a least-squares curve fitting method which works with bounds. The default algorithm is [Trust Region Reflective (trf)](https://en.wikipedia.org/wiki/Trust_region). The [Levemberg-Marquadt](https://en.wikipedia.org/wiki/Levenberg%E2%80%93Marquardt_algorithm) has been tried as well, to test the optimization problem without setting boundaries, but the results don't make any sense.\n",
    "2. **Least-Squares**, a constrained minimization problem which uses Trust region reflective method by default. This method is the most indicated to solve the non-linear least squares optimization problem of our purpose.\n",
    "All the optimizations are carried out by initializing a starting point as the array $x_0 = [params]$ and setting feasible bounds.\n"
   ],
   "metadata": {
    "collapsed": false
   },
   "outputs": []
  },
  {
   "cell_type": "code",
   "execution_count": 45,
   "outputs": [],
   "source": [
    "put_spreads = puts['P_Spread']\n",
    "p_weights = 1 / put_spreads**2"
   ],
   "metadata": {
    "collapsed": false
   }
  },
  {
   "cell_type": "markdown",
   "source": [
    "### Black and Scholes model\n",
    "The only unknown parameter to calibrate in Black and Scholes model is the **implied volatility**, $\\sigma$. Thus, we minimize the difference between the computed theoretical prices and the market prices of call options."
   ],
   "metadata": {
    "collapsed": false
   }
  },
  {
   "cell_type": "code",
   "execution_count": 46,
   "outputs": [],
   "source": [
    "x0 = 0.5\n",
    "bounds = [1e-5, 2]\n",
    "\n",
    "def f_BlackScholes_puts(x, sigm):\n",
    "    BS = BS_Pricer(S0=S0, K = x, ttm=T, r=r, q=0, sigma=sigm, exercise=exercise)\n",
    "    return BS.closed_formula_put(x)\n",
    "\n",
    "res1_puts = scpo.curve_fit(f_BlackScholes_puts, put_strikes, put_prices, p0 = x0, bounds=bounds, sigma=p_weights)\n",
    "sigw_p = round(res1_puts[0][0],4)"
   ],
   "metadata": {
    "collapsed": false
   }
  },
  {
   "cell_type": "code",
   "execution_count": 47,
   "outputs": [
    {
     "name": "stdout",
     "output_type": "stream",
     "text": [
      "`ftol` termination condition is satisfied.\n",
      "Function evaluations 21, initial cost 4.4478e+07, final cost 5.0860e+02, first-order optimality 1.33e+00.\n"
     ]
    }
   ],
   "source": [
    "def cost_function(x, strikes, mkt_prices):\n",
    "    sigma = x\n",
    "    BS = BS_Pricer(S0=S0, K = None, ttm=T, r=r, q=0, sigma=sigma, exercise=exercise)\n",
    "    sq_err = np.sum( p_weights* (BS.closed_formula_put(strikes) - mkt_prices)**2)\n",
    "    return sq_err\n",
    "\n",
    "result_p = scpo.least_squares(cost_function, x0, args=(put_strikes, put_prices), bounds=bounds, method = 'trf', verbose=1)\n",
    "opt_sigma_p = result_p.x[0]"
   ],
   "metadata": {
    "collapsed": false
   }
  },
  {
   "cell_type": "code",
   "execution_count": 48,
   "outputs": [
    {
     "name": "stdout",
     "output_type": "stream",
     "text": [
      "METHOD 1: CURVE_FIT (trf)\n",
      "> Calibrated Volatility from Calls [σ] = 0.3948 \t 39.48%\n",
      "METHOD 2: LEAST-SQUARES (trf)\n",
      "> Calibrated Volatility from Calls [σ] = 0.38217918075217366 \t 38.22%\n"
     ]
    }
   ],
   "source": [
    "print('METHOD 1: CURVE_FIT (trf)')\n",
    "print(f'> Calibrated Volatility from Calls [σ] = {sigw_p} \\t {round(sigw_p*100,2)}%')\n",
    "print('METHOD 2: LEAST-SQUARES (trf)')\n",
    "print(f'> Calibrated Volatility from Calls [σ] = {opt_sigma_p} \\t {round(opt_sigma_p*100,2)}%')"
   ],
   "metadata": {
    "collapsed": false
   }
  },
  {
   "cell_type": "markdown",
   "source": [
    "### Merton Jump Diffusion\n",
    "The Merton Jump diffusion ones are the volatility $\\sigma$, the Poisson rate of jumps $\\lambda$, the mean rate of jump intensity $m$ and its variance rate $v$, assuming that the intensity of jumps follows a *Normal distribution*.\n"
   ],
   "metadata": {
    "collapsed": false
   }
  },
  {
   "cell_type": "code",
   "execution_count": 49,
   "outputs": [],
   "source": [
    "x0 = [0.15,  0.2, -0.05,  0.01]  # initial guess: [σ, λ, m, v]\n",
    "bounds = ( [1e-3, 1e-2, -5, 1e-5], [2, 5, 5, 2] )"
   ],
   "metadata": {
    "collapsed": false
   }
  },
  {
   "cell_type": "code",
   "execution_count": 50,
   "outputs": [],
   "source": [
    "def f_Mert(x, sigma, lambd, meanJ, stdJ):\n",
    "    Mert = Merton_pricer(S0=S0, K=x, ttm=T, r=r, q=0, sigma=sigma, lambd=lambd, meanJ=meanJ, stdJ=stdJ, exercise=exercise)\n",
    "    return Mert.closed_formula_put(x)\n",
    "\n",
    "start1=time.time()\n",
    "mert1 = scpo.curve_fit(f_Mert, put_strikes, put_prices, p0=x0, bounds=bounds, sigma=put_spreads)\n",
    "end1=time.time()\n",
    "\n",
    "mert_params1 = [round(p,4) for p in mert1[0][:4]]"
   ],
   "metadata": {
    "collapsed": false
   }
  },
  {
   "cell_type": "markdown",
   "source": [
    "##### Method 2. Least-squares"
   ],
   "metadata": {
    "collapsed": false
   }
  },
  {
   "cell_type": "code",
   "execution_count": 51,
   "outputs": [
    {
     "name": "stdout",
     "output_type": "stream",
     "text": [
      "   Iteration     Total nfev        Cost      Cost reduction    Step norm     Optimality   \n",
      "       0              1         8.0565e+07                                    1.38e+10    \n",
      "       1              2         3.1858e+07      4.87e+07       5.20e-01       1.08e+10    \n",
      "       2              3         3.3002e+06      2.86e+07       5.16e-01       2.51e+09    \n",
      "       3              5         2.5005e+05      3.05e+06       2.58e-01       3.54e+08    \n",
      "       4              6         6.0572e+04      1.89e+05       5.17e-01       1.21e+08    \n",
      "       5              8         1.1454e+04      4.91e+04       2.58e-01       9.20e+06    \n",
      "       6             14         1.0707e+04      7.47e+02       1.57e-03       1.78e+05    \n",
      "       7             17         1.0705e+04      2.04e+00       6.66e-05       1.63e+05    \n",
      "       8             18         1.0703e+04      2.06e+00       6.62e-05       1.33e+05    \n",
      "       9             19         1.0701e+04      2.10e+00       5.93e-05       1.52e+05    \n",
      "      10             20         1.0699e+04      2.09e+00       6.41e-05       1.27e+05    \n",
      "      11             21         1.0697e+04      2.12e+00       5.83e-05       1.49e+05    \n",
      "      12             22         1.0694e+04      2.85e+00       1.27e-04       3.94e+05    \n",
      "      13             23         1.0692e+04      1.48e+00       1.71e-04       5.55e+05    \n",
      "      14             24         1.0690e+04      2.36e+00       4.74e-05       2.94e+05    \n",
      "      15             25         1.0688e+04      2.08e+00       8.29e-05       1.33e+05    \n",
      "      16             26         1.0686e+04      2.11e+00       5.93e-05       1.51e+05    \n",
      "      17             27         1.0684e+04      2.10e+00       6.40e-05       1.26e+05    \n",
      "      18             28         1.0681e+04      2.91e+00       1.16e-04       4.27e+05    \n",
      "      19             29         1.0680e+04      1.15e+00       1.82e-04       5.36e+05    \n",
      "      20             30         1.0677e+04      2.45e+00       4.51e-05       2.90e+05    \n",
      "      21             31         1.0675e+04      2.24e+00       7.89e-05       1.36e+05    \n",
      "      22             32         1.0673e+04      2.15e+00       6.11e-05       1.17e+05    \n",
      "      23             33         1.0670e+04      3.11e+00       1.13e-04       4.07e+05    \n",
      "      24             34         1.0669e+04      1.05e+00       1.80e-04       5.41e+05    \n",
      "      25             35         1.0666e+04      2.48e+00       4.51e-05       2.95e+05    \n",
      "      26             36         1.0664e+04      2.27e+00       7.93e-05       1.33e+05    \n",
      "      27             37         1.0662e+04      2.16e+00       6.04e-05       1.14e+05    \n",
      "      28             38         1.0659e+04      3.18e+00       1.12e-04       4.00e+05    \n",
      "      29             39         1.0658e+04      1.03e+00       1.79e-04       5.42e+05    \n",
      "      30             40         1.0655e+04      2.48e+00       4.51e-05       2.96e+05    \n",
      "      31             41         1.0653e+04      2.28e+00       7.93e-05       1.31e+05    \n",
      "      32             42         1.0651e+04      2.17e+00       6.02e-05       1.13e+05    \n",
      "      33             43         1.0647e+04      3.22e+00       1.11e-04       3.96e+05    \n",
      "      34             44         1.0646e+04      1.03e+00       1.79e-04       5.42e+05    \n",
      "      35             45         1.0644e+04      2.48e+00       4.51e-05       2.96e+05    \n",
      "      36             46         1.0642e+04      2.28e+00       7.93e-05       1.31e+05    \n",
      "      37             47         1.0639e+04      2.18e+00       6.00e-05       1.12e+05    \n",
      "      38             48         1.0636e+04      3.25e+00       1.11e-04       3.93e+05    \n",
      "      39             49         1.0635e+04      1.04e+00       1.79e-04       5.41e+05    \n",
      "      40             50         1.0633e+04      2.48e+00       4.51e-05       2.96e+05    \n",
      "      41             51         1.0630e+04      2.29e+00       7.92e-05       1.30e+05    \n",
      "      42             52         1.0628e+04      2.19e+00       5.99e-05       1.11e+05    \n",
      "      43             53         1.0625e+04      3.28e+00       1.10e-04       3.90e+05    \n",
      "      44             54         1.0624e+04      1.04e+00       1.78e-04       5.41e+05    \n",
      "      45             55         1.0621e+04      2.48e+00       4.50e-05       2.96e+05    \n",
      "      46             56         1.0619e+04      2.29e+00       7.91e-05       1.30e+05    \n",
      "      47             57         1.0617e+04      2.20e+00       5.98e-05       1.10e+05    \n",
      "      48             58         1.0614e+04      3.32e+00       1.10e-04       3.87e+05    \n",
      "      49             59         1.0613e+04      1.05e+00       1.78e-04       5.40e+05    \n",
      "      50             60         1.0610e+04      2.48e+00       4.50e-05       2.95e+05    \n",
      "      51             61         1.0608e+04      2.30e+00       7.91e-05       1.29e+05    \n",
      "      52             62         1.0606e+04      2.20e+00       5.96e-05       1.09e+05    \n",
      "      53             63         1.0602e+04      3.35e+00       1.10e-04       3.84e+05    \n",
      "      54             64         1.0601e+04      1.06e+00       1.78e-04       5.39e+05    \n",
      "      55             65         1.0599e+04      2.48e+00       4.50e-05       2.95e+05    \n",
      "      56             66         1.0596e+04      2.31e+00       7.90e-05       1.29e+05    \n",
      "      57             67         1.0594e+04      2.21e+00       5.95e-05       1.08e+05    \n",
      "      58             68         1.0591e+04      3.38e+00       1.09e-04       3.81e+05    \n",
      "      59             69         1.0590e+04      1.07e+00       1.77e-04       5.39e+05    \n",
      "      60             70         1.0587e+04      2.48e+00       4.50e-05       2.95e+05    \n",
      "      61             71         1.0585e+04      2.31e+00       7.89e-05       1.28e+05    \n",
      "      62             72         1.0583e+04      2.22e+00       5.94e-05       1.07e+05    \n",
      "      63             73         1.0579e+04      3.41e+00       1.09e-04       3.78e+05    \n",
      "      64             74         1.0578e+04      1.08e+00       1.77e-04       5.38e+05    \n",
      "      65             75         1.0576e+04      2.48e+00       4.50e-05       2.94e+05    \n",
      "      66             76         1.0573e+04      2.31e+00       7.89e-05       1.28e+05    \n",
      "      67             77         1.0571e+04      2.23e+00       5.93e-05       1.06e+05    \n",
      "      68             78         1.0568e+04      3.44e+00       1.08e-04       3.75e+05    \n",
      "      69             79         1.0567e+04      1.09e+00       1.76e-04       5.37e+05    \n",
      "      70             80         1.0564e+04      2.48e+00       4.49e-05       2.94e+05    \n",
      "      71             81         1.0562e+04      2.32e+00       7.88e-05       1.28e+05    \n",
      "      72             82         1.0560e+04      2.23e+00       5.92e-05       1.06e+05    \n",
      "      73             83         1.0556e+04      3.47e+00       1.08e-04       3.72e+05    \n",
      "      74             84         1.0555e+04      1.10e+00       1.76e-04       5.36e+05    \n",
      "      75             85         1.0553e+04      2.48e+00       4.49e-05       2.93e+05    \n",
      "      76             86         1.0550e+04      2.32e+00       7.87e-05       1.27e+05    \n",
      "      77             87         1.0548e+04      2.24e+00       5.91e-05       1.06e+05    \n",
      "      78             88         1.0544e+04      3.50e+00       1.08e-04       3.69e+05    \n",
      "      79             89         1.0543e+04      1.12e+00       1.76e-04       5.35e+05    \n",
      "      80             90         1.0541e+04      2.47e+00       4.49e-05       2.93e+05    \n",
      "      81             91         1.0539e+04      2.33e+00       7.86e-05       1.27e+05    \n",
      "      82             92         1.0536e+04      2.25e+00       5.90e-05       1.06e+05    \n",
      "      83             93         1.0533e+04      3.53e+00       1.07e-04       3.66e+05    \n",
      "      84             94         1.0532e+04      1.13e+00       1.75e-04       5.34e+05    \n",
      "      85             95         1.0529e+04      2.47e+00       4.49e-05       2.92e+05    \n",
      "      86             96         1.0527e+04      2.33e+00       7.85e-05       1.27e+05    \n",
      "      87             97         1.0525e+04      2.25e+00       5.89e-05       1.06e+05    \n",
      "      88             98         1.0521e+04      3.56e+00       1.07e-04       3.64e+05    \n",
      "      89             99         1.0520e+04      1.15e+00       1.75e-04       5.33e+05    \n",
      "      90             100        1.0517e+04      2.47e+00       4.48e-05       2.91e+05    \n",
      "      91             101        1.0515e+04      2.34e+00       7.84e-05       1.26e+05    \n",
      "      92             102        1.0513e+04      2.26e+00       5.88e-05       1.07e+05    \n",
      "      93             103        1.0509e+04      3.59e+00       1.07e-04       3.61e+05    \n",
      "      94             104        1.0508e+04      1.16e+00       1.75e-04       5.32e+05    \n",
      "      95             105        1.0506e+04      2.47e+00       4.48e-05       2.91e+05    \n",
      "      96             106        1.0503e+04      2.34e+00       7.83e-05       1.26e+05    \n",
      "      97             107        1.0501e+04      2.27e+00       5.87e-05       1.07e+05    \n",
      "      98             108        1.0497e+04      3.62e+00       1.06e-04       3.58e+05    \n",
      "      99             109        1.0496e+04      1.18e+00       1.74e-04       5.31e+05    \n",
      "      100            110        1.0494e+04      2.46e+00       4.48e-05       2.90e+05    \n",
      "      101            111        1.0491e+04      2.34e+00       7.82e-05       1.26e+05    \n",
      "      102            112        1.0489e+04      2.27e+00       5.86e-05       1.07e+05    \n",
      "      103            113        1.0485e+04      3.65e+00       1.06e-04       3.56e+05    \n",
      "      104            114        1.0484e+04      1.19e+00       1.74e-04       5.30e+05    \n",
      "      105            115        1.0482e+04      2.46e+00       4.48e-05       2.89e+05    \n",
      "      106            116        1.0479e+04      2.35e+00       7.81e-05       1.26e+05    \n",
      "      107            117        1.0477e+04      2.28e+00       5.86e-05       1.07e+05    \n",
      "      108            118        1.0473e+04      3.68e+00       1.06e-04       3.53e+05    \n",
      "      109            119        1.0472e+04      1.21e+00       1.73e-04       5.29e+05    \n",
      "      110            120        1.0470e+04      2.46e+00       4.47e-05       2.88e+05    \n",
      "      111            121        1.0467e+04      2.35e+00       7.80e-05       1.25e+05    \n",
      "      112            122        1.0465e+04      2.29e+00       5.85e-05       1.07e+05    \n",
      "      113            123        1.0461e+04      3.70e+00       1.05e-04       3.50e+05    \n",
      "      114            124        1.0460e+04      1.23e+00       1.73e-04       5.28e+05    \n",
      "      115            125        1.0458e+04      2.45e+00       4.47e-05       2.87e+05    \n",
      "      116            126        1.0455e+04      2.36e+00       7.79e-05       1.25e+05    \n",
      "      117            127        1.0453e+04      2.29e+00       5.84e-05       1.08e+05    \n",
      "      118            128        1.0449e+04      3.73e+00       1.05e-04       3.48e+05    \n",
      "      119            129        1.0448e+04      1.25e+00       1.73e-04       5.26e+05    \n",
      "      120            130        1.0446e+04      2.45e+00       4.47e-05       2.86e+05    \n",
      "      121            131        1.0443e+04      2.36e+00       7.77e-05       1.25e+05    \n",
      "      122            132        1.0441e+04      2.30e+00       5.83e-05       1.08e+05    \n",
      "      123            133        1.0437e+04      3.76e+00       1.05e-04       3.45e+05    \n",
      "      124            134        1.0436e+04      1.27e+00       1.72e-04       5.25e+05    \n",
      "      125            135        1.0434e+04      2.45e+00       4.46e-05       2.86e+05    \n",
      "      126            136        1.0431e+04      2.36e+00       7.76e-05       1.25e+05    \n",
      "      127            137        1.0429e+04      2.30e+00       5.83e-05       1.08e+05    \n",
      "      128            138        1.0425e+04      3.78e+00       1.05e-04       3.43e+05    \n",
      "      129            139        1.0424e+04      1.29e+00       1.72e-04       5.24e+05    \n",
      "      130            140        1.0421e+04      2.44e+00       4.46e-05       2.85e+05    \n",
      "      131            141        1.0419e+04      2.36e+00       7.75e-05       1.25e+05    \n",
      "      132            142        1.0417e+04      2.31e+00       5.82e-05       1.08e+05    \n",
      "      133            143        1.0413e+04      3.81e+00       1.04e-04       3.40e+05    \n",
      "      134            144        1.0412e+04      1.31e+00       1.71e-04       5.22e+05    \n",
      "      135            145        1.0409e+04      2.44e+00       4.46e-05       2.84e+05    \n",
      "      136            146        1.0407e+04      2.37e+00       7.74e-05       1.24e+05    \n",
      "      137            147        1.0404e+04      2.32e+00       5.82e-05       1.08e+05    \n",
      "      138            148        1.0401e+04      3.83e+00       1.04e-04       3.38e+05    \n",
      "      139            149        1.0399e+04      1.33e+00       1.71e-04       5.21e+05    \n",
      "      140            150        1.0397e+04      2.44e+00       4.45e-05       2.82e+05    \n",
      "      141            151        1.0395e+04      2.37e+00       7.72e-05       1.24e+05    \n",
      "      142            152        1.0392e+04      2.32e+00       5.81e-05       1.09e+05    \n",
      "      143            153        1.0388e+04      3.86e+00       1.04e-04       3.36e+05    \n",
      "      144            154        1.0387e+04      1.35e+00       1.71e-04       5.19e+05    \n",
      "      145            155        1.0385e+04      2.43e+00       4.45e-05       2.81e+05    \n",
      "      146            156        1.0382e+04      2.37e+00       7.71e-05       1.24e+05    \n",
      "      147            157        1.0380e+04      2.33e+00       5.80e-05       1.09e+05    \n",
      "      148            158        1.0376e+04      3.88e+00       1.03e-04       3.33e+05    \n",
      "      149            159        1.0375e+04      1.38e+00       1.70e-04       5.18e+05    \n",
      "      150            160        1.0372e+04      2.43e+00       4.45e-05       2.80e+05    \n",
      "      151            161        1.0370e+04      2.38e+00       7.70e-05       1.24e+05    \n",
      "      152            162        1.0367e+04      2.33e+00       5.80e-05       1.09e+05    \n",
      "      153            163        1.0364e+04      3.91e+00       1.03e-04       3.31e+05    \n",
      "      154            164        1.0362e+04      1.40e+00       1.70e-04       5.16e+05    \n",
      "      155            165        1.0360e+04      2.42e+00       4.44e-05       2.79e+05    \n",
      "      156            166        1.0357e+04      2.38e+00       7.68e-05       1.24e+05    \n",
      "      157            167        1.0355e+04      2.34e+00       5.79e-05       1.09e+05    \n",
      "      158            168        1.0351e+04      3.93e+00       1.03e-04       3.28e+05    \n",
      "      159            169        1.0350e+04      1.42e+00       1.69e-04       5.15e+05    \n",
      "      160            170        1.0347e+04      2.42e+00       4.44e-05       2.78e+05    \n",
      "      161            171        1.0345e+04      2.38e+00       7.67e-05       1.24e+05    \n",
      "      162            172        1.0343e+04      2.35e+00       5.79e-05       1.09e+05    \n",
      "      163            173        1.0339e+04      3.96e+00       1.03e-04       3.26e+05    \n",
      "      164            174        1.0337e+04      1.45e+00       1.69e-04       5.13e+05    \n",
      "      165            175        1.0335e+04      2.41e+00       4.44e-05       2.77e+05    \n",
      "      166            176        1.0332e+04      2.38e+00       7.65e-05       1.24e+05    \n",
      "      167            177        1.0330e+04      2.35e+00       5.78e-05       1.10e+05    \n",
      "      168            178        1.0326e+04      3.98e+00       1.02e-04       3.24e+05    \n",
      "      169            179        1.0325e+04      1.47e+00       1.69e-04       5.11e+05    \n",
      "      170            180        1.0322e+04      2.41e+00       4.43e-05       2.76e+05    \n",
      "      171            181        1.0320e+04      2.39e+00       7.64e-05       1.24e+05    \n",
      "      172            182        1.0317e+04      2.36e+00       5.78e-05       1.10e+05    \n",
      "      173            183        1.0313e+04      4.00e+00       1.02e-04       3.22e+05    \n",
      "      174            184        1.0312e+04      1.50e+00       1.68e-04       5.10e+05    \n",
      "      175            185        1.0309e+04      2.40e+00       4.43e-05       2.74e+05    \n",
      "      176            186        1.0307e+04      2.39e+00       7.62e-05       1.24e+05    \n",
      "      177            187        1.0305e+04      2.36e+00       5.77e-05       1.10e+05    \n",
      "      178            188        1.0301e+04      4.03e+00       1.02e-04       3.19e+05    \n",
      "      179            189        1.0299e+04      1.52e+00       1.68e-04       5.08e+05    \n",
      "      180            190        1.0297e+04      2.40e+00       4.42e-05       2.73e+05    \n",
      "      181            191        1.0294e+04      2.39e+00       7.60e-05       1.24e+05    \n",
      "      182            192        1.0292e+04      2.37e+00       5.77e-05       1.10e+05    \n",
      "      183            193        1.0288e+04      4.05e+00       1.02e-04       3.17e+05    \n",
      "      184            194        1.0286e+04      1.55e+00       1.67e-04       5.06e+05    \n",
      "      185            195        1.0284e+04      2.39e+00       4.42e-05       2.72e+05    \n",
      "      186            196        1.0282e+04      2.39e+00       7.59e-05       1.23e+05    \n",
      "      187            197        1.0279e+04      2.38e+00       5.77e-05       1.10e+05    \n",
      "      188            198        1.0275e+04      4.07e+00       1.01e-04       3.15e+05    \n",
      "      189            199        1.0274e+04      1.57e+00       1.67e-04       5.04e+05    \n",
      "      190            200        1.0271e+04      2.39e+00       4.42e-05       2.70e+05    \n",
      "      191            201        1.0269e+04      2.40e+00       7.57e-05       1.23e+05    \n",
      "      192            202        1.0266e+04      2.38e+00       5.76e-05       1.10e+05    \n",
      "      193            203        1.0262e+04      4.10e+00       1.01e-04       3.13e+05    \n",
      "      194            204        1.0261e+04      1.60e+00       1.66e-04       5.03e+05    \n",
      "      195            205        1.0258e+04      2.38e+00       4.41e-05       2.69e+05    \n",
      "      196            206        1.0256e+04      2.40e+00       7.55e-05       1.23e+05    \n",
      "      197            207        1.0254e+04      2.39e+00       5.76e-05       1.11e+05    \n",
      "      198            208        1.0249e+04      4.12e+00       1.01e-04       3.10e+05    \n",
      "      199            209        1.0248e+04      1.63e+00       1.66e-04       5.01e+05    \n",
      "      200            210        1.0245e+04      2.38e+00       4.41e-05       2.68e+05    \n",
      "      201            211        1.0243e+04      2.40e+00       7.54e-05       1.23e+05    \n",
      "      202            212        1.0241e+04      2.39e+00       5.75e-05       1.11e+05    \n",
      "      203            213        1.0236e+04      4.14e+00       1.01e-04       3.08e+05    \n",
      "      204            214        1.0235e+04      1.66e+00       1.66e-04       4.99e+05    \n",
      "      205            215        1.0232e+04      2.37e+00       4.40e-05       2.66e+05    \n",
      "      206            216        1.0230e+04      2.40e+00       7.52e-05       1.23e+05    \n",
      "      207            217        1.0228e+04      2.40e+00       5.75e-05       1.11e+05    \n",
      "      208            218        1.0224e+04      4.16e+00       1.01e-04       3.06e+05    \n",
      "      209            219        1.0222e+04      1.68e+00       1.65e-04       4.97e+05    \n",
      "      210            220        1.0219e+04      2.36e+00       4.40e-05       2.65e+05    \n",
      "      211            221        1.0217e+04      2.41e+00       7.50e-05       1.23e+05    \n",
      "      212            222        1.0215e+04      2.40e+00       5.75e-05       1.11e+05    \n",
      "      213            223        1.0210e+04      4.18e+00       1.00e-04       3.04e+05    \n",
      "      214            225        1.0208e+04      2.36e+00       8.24e-05       1.12e+05    \n",
      "      215            226        1.0206e+04      2.40e+00       5.28e-05       1.17e+05    \n",
      "      216            227        1.0202e+04      4.12e+00       1.13e-04       2.75e+05    \n",
      "      217            228        1.0200e+04      1.96e+00       1.52e-04       5.23e+05    \n",
      "      218            229        1.0197e+04      2.68e+00       1.87e-04       4.41e+05    \n",
      "      219            230        1.0195e+04      2.14e+00       4.30e-05       2.15e+05    \n",
      "      220            231        1.0192e+04      2.32e+00       6.96e-05       1.36e+05    \n",
      "      221            232        1.0190e+04      2.38e+00       5.98e-05       1.12e+05    \n",
      "      222            233        1.0186e+04      4.10e+00       1.02e-04       3.18e+05    \n",
      "      223            234        1.0184e+04      1.70e+00       1.67e-04       4.95e+05    \n",
      "      224            235        1.0182e+04      2.36e+00       4.39e-05       2.64e+05    \n",
      "      225            236        1.0180e+04      2.42e+00       7.49e-05       1.22e+05    \n",
      "      226            237        1.0177e+04      2.42e+00       5.71e-05       1.12e+05    \n",
      "      227            238        1.0173e+04      4.26e+00       9.94e-05       2.96e+05    \n",
      "      228            240        1.0170e+04      2.36e+00       8.16e-05       1.12e+05    \n",
      "      229            241        1.0168e+04      2.41e+00       5.29e-05       1.17e+05    \n",
      "      230            242        1.0164e+04      4.17e+00       1.12e-04       2.70e+05    \n",
      "      231            243        1.0162e+04      2.03e+00       1.51e-04       5.19e+05    \n",
      "      232            244        1.0159e+04      2.68e+00       1.86e-04       4.40e+05    \n",
      "      233            245        1.0157e+04      2.15e+00       4.29e-05       2.15e+05    \n",
      "      234            246        1.0155e+04      2.34e+00       6.95e-05       1.34e+05    \n",
      "      235            247        1.0152e+04      2.40e+00       5.94e-05       1.12e+05    \n",
      "      236            248        1.0148e+04      4.17e+00       1.01e-04       3.10e+05    \n",
      "      237            249        1.0146e+04      1.78e+00       1.65e-04       4.90e+05    \n",
      "      238            250        1.0144e+04      2.35e+00       4.38e-05       2.60e+05    \n",
      "      239            251        1.0142e+04      2.43e+00       7.43e-05       1.21e+05    \n",
      "      240            252        1.0139e+04      2.44e+00       5.70e-05       1.12e+05    \n",
      "      241            253        1.0135e+04      4.32e+00       9.88e-05       2.90e+05    \n",
      "      242            255        1.0132e+04      2.36e+00       8.09e-05       1.13e+05    \n",
      "      243            256        1.0130e+04      2.43e+00       5.28e-05       1.15e+05    \n",
      "      244            257        1.0126e+04      4.23e+00       1.12e-04       2.64e+05    \n",
      "      245            259        1.0123e+04      2.45e+00       7.46e-05       1.19e+05    \n",
      "      246            260        1.0121e+04      2.45e+00       5.65e-05       1.12e+05    \n",
      "      247            261        1.0117e+04      4.37e+00       9.80e-05       2.84e+05    \n",
      "      248            263        1.0114e+04      2.35e+00       8.03e-05       1.13e+05    \n",
      "      249            264        1.0112e+04      2.43e+00       5.29e-05       1.15e+05    \n",
      "      250            265        1.0107e+04      4.25e+00       1.12e-04       2.62e+05    \n",
      "      251            267        1.0105e+04      2.45e+00       7.44e-05       1.19e+05    \n",
      "      252            268        1.0103e+04      2.46e+00       5.65e-05       1.13e+05    \n",
      "      253            269        1.0098e+04      4.40e+00       9.77e-05       2.81e+05    \n",
      "      254            271        1.0096e+04      2.36e+00       8.00e-05       1.14e+05    \n",
      "      255            272        1.0093e+04      2.44e+00       5.28e-05       1.15e+05    \n",
      "      256            273        1.0089e+04      4.28e+00       1.11e-04       2.59e+05    \n",
      "      257            275        1.0087e+04      2.45e+00       7.41e-05       1.19e+05    \n",
      "      258            276        1.0084e+04      2.46e+00       5.65e-05       1.13e+05    \n",
      "      259            277        1.0080e+04      4.42e+00       9.75e-05       2.79e+05    \n",
      "      260            279        1.0077e+04      2.36e+00       7.97e-05       1.14e+05    \n",
      "      261            280        1.0075e+04      2.45e+00       5.28e-05       1.14e+05    \n",
      "      262            281        1.0071e+04      4.31e+00       1.11e-04       2.56e+05    \n",
      "      263            283        1.0068e+04      2.45e+00       7.37e-05       1.19e+05    \n",
      "      264            284        1.0066e+04      2.47e+00       5.65e-05       1.13e+05    \n",
      "      265            285        1.0061e+04      4.44e+00       9.73e-05       2.76e+05    \n",
      "      266            287        1.0059e+04      2.37e+00       7.94e-05       1.14e+05    \n",
      "      267            288        1.0056e+04      2.46e+00       5.27e-05       1.13e+05    \n",
      "      268            289        1.0052e+04      4.34e+00       1.11e-04       2.53e+05    \n",
      "      269            291        1.0050e+04      2.45e+00       7.33e-05       1.20e+05    \n",
      "      270            292        1.0047e+04      2.48e+00       5.65e-05       1.13e+05    \n",
      "      271            293        1.0043e+04      4.47e+00       9.71e-05       2.74e+05    \n",
      "      272            295        1.0040e+04      2.37e+00       7.92e-05       1.14e+05    \n",
      "      273            296        1.0038e+04      2.46e+00       5.26e-05       1.13e+05    \n",
      "      274            297        1.0034e+04      4.37e+00       1.10e-04       2.50e+05    \n",
      "      275            299        1.0031e+04      2.45e+00       7.30e-05       1.20e+05    \n",
      "      276            300        1.0029e+04      2.48e+00       5.65e-05       1.14e+05    \n",
      "      277            301        1.0024e+04      4.49e+00       9.69e-05       2.72e+05    \n",
      "      278            303        1.0022e+04      2.37e+00       7.89e-05       1.15e+05    \n",
      "      279            304        1.0019e+04      2.47e+00       5.25e-05       1.12e+05    \n",
      "      280            305        1.0015e+04      4.40e+00       1.10e-04       2.46e+05    \n",
      "      281            307        1.0012e+04      2.46e+00       7.26e-05       1.20e+05    \n",
      "      282            308        1.0010e+04      2.49e+00       5.65e-05       1.14e+05    \n",
      "      283            309        1.0005e+04      4.51e+00       9.67e-05       2.70e+05    \n",
      "      284            311        1.0003e+04      2.38e+00       7.86e-05       1.15e+05    \n",
      "      285            312        1.0001e+04      2.48e+00       5.24e-05       1.11e+05    \n",
      "      286            313        9.9961e+03      4.43e+00       1.10e-04       2.43e+05    \n",
      "      287            315        9.9937e+03      2.46e+00       7.22e-05       1.20e+05    \n",
      "      288            316        9.9912e+03      2.50e+00       5.65e-05       1.14e+05    \n",
      "      289            317        9.9866e+03      4.54e+00       9.65e-05       2.67e+05    \n",
      "      290            319        9.9842e+03      2.38e+00       7.83e-05       1.15e+05    \n",
      "      291            320        9.9817e+03      2.49e+00       5.23e-05       1.10e+05    \n",
      "      292            321        9.9773e+03      4.45e+00       1.09e-04       2.40e+05    \n",
      "      293            323        9.9748e+03      2.46e+00       7.18e-05       1.20e+05    \n",
      "      294            324        9.9723e+03      2.50e+00       5.65e-05       1.14e+05    \n",
      "      295            325        9.9678e+03      4.56e+00       9.63e-05       2.65e+05    \n",
      "      296            327        9.9654e+03      2.39e+00       7.80e-05       1.15e+05    \n",
      "      297            328        9.9629e+03      2.49e+00       5.22e-05       1.10e+05    \n",
      "      298            329        9.9584e+03      4.48e+00       1.09e-04       2.37e+05    \n",
      "      299            331        9.9559e+03      2.46e+00       7.15e-05       1.21e+05    \n",
      "      300            332        9.9534e+03      2.51e+00       5.65e-05       1.15e+05    \n",
      "      301            333        9.9489e+03      4.58e+00       9.61e-05       2.63e+05    \n",
      "      302            335        9.9465e+03      2.39e+00       7.77e-05       1.16e+05    \n",
      "      303            336        9.9440e+03      2.50e+00       5.21e-05       1.09e+05    \n",
      "      304            337        9.9395e+03      4.51e+00       1.09e-04       2.34e+05    \n",
      "      305            339        9.9370e+03      2.46e+00       7.11e-05       1.21e+05    \n",
      "      306            340        9.9345e+03      2.51e+00       5.65e-05       1.15e+05    \n",
      "      307            341        9.9299e+03      4.61e+00       9.58e-05       2.60e+05    \n",
      "      308            343        9.9275e+03      2.40e+00       7.74e-05       1.16e+05    \n",
      "      309            344        9.9250e+03      2.51e+00       5.19e-05       1.10e+05    \n",
      "      310            345        9.9204e+03      4.54e+00       1.08e-04       2.31e+05    \n",
      "      311            347        9.9180e+03      2.47e+00       7.07e-05       1.21e+05    \n",
      "      312            348        9.9154e+03      2.52e+00       5.64e-05       1.15e+05    \n",
      "      313            349        9.9108e+03      4.63e+00       9.56e-05       2.58e+05    \n",
      "      314            351        9.9084e+03      2.40e+00       7.71e-05       1.16e+05    \n",
      "      315            352        9.9059e+03      2.52e+00       5.18e-05       1.10e+05    \n",
      "      316            353        9.9013e+03      4.57e+00       1.08e-04       2.28e+05    \n",
      "      317            355        9.8989e+03      2.47e+00       7.03e-05       1.21e+05    \n",
      "      318            356        9.8963e+03      2.53e+00       5.64e-05       1.15e+05    \n",
      "      319            357        9.8917e+03      4.65e+00       9.54e-05       2.56e+05    \n",
      "      320            359        9.8893e+03      2.41e+00       7.68e-05       1.16e+05    \n",
      "      321            360        9.8867e+03      2.52e+00       5.17e-05       1.10e+05    \n",
      "      322            361        9.8821e+03      4.59e+00       1.08e-04       2.25e+05    \n",
      "      323            363        9.8797e+03      2.47e+00       6.99e-05       1.21e+05    \n",
      "      324            364        9.8771e+03      2.53e+00       5.64e-05       1.16e+05    \n",
      "      325            365        9.8725e+03      4.68e+00       9.52e-05       2.53e+05    \n",
      "      326            367        9.8701e+03      2.41e+00       7.65e-05       1.16e+05    \n",
      "      327            368        9.8675e+03      2.53e+00       5.16e-05       1.11e+05    \n",
      "      328            369        9.8629e+03      4.62e+00       1.07e-04       2.22e+05    \n",
      "      329            371        9.8604e+03      2.47e+00       6.95e-05       1.20e+05    \n",
      "      330            372        9.8579e+03      2.54e+00       5.63e-05       1.16e+05    \n",
      "      331            373        9.8532e+03      4.70e+00       9.49e-05       2.51e+05    \n",
      "      332            375        9.8508e+03      2.42e+00       7.62e-05       1.17e+05    \n",
      "      333            376        9.8482e+03      2.54e+00       5.15e-05       1.11e+05    \n",
      "      334            377        9.8436e+03      4.65e+00       1.07e-04       2.19e+05    \n",
      "      335            379        9.8411e+03      2.48e+00       6.91e-05       1.20e+05    \n",
      "      336            380        9.8386e+03      2.55e+00       5.63e-05       1.16e+05    \n",
      "      337            381        9.8338e+03      4.72e+00       9.47e-05       2.48e+05    \n",
      "      338            383        9.8314e+03      2.42e+00       7.58e-05       1.17e+05    \n",
      "      339            384        9.8289e+03      2.54e+00       5.14e-05       1.11e+05    \n",
      "      340            385        9.8242e+03      4.67e+00       1.07e-04       2.16e+05    \n",
      "      341            387        9.8217e+03      2.48e+00       6.87e-05       1.20e+05    \n",
      "      342            388        9.8192e+03      2.55e+00       5.62e-05       1.16e+05    \n",
      "      343            389        9.8144e+03      4.75e+00       9.45e-05       2.45e+05    \n",
      "      344            391        9.8120e+03      2.43e+00       7.55e-05       1.17e+05    \n",
      "      345            392        9.8094e+03      2.55e+00       5.13e-05       1.11e+05    \n",
      "      346            393        9.8047e+03      4.70e+00       1.07e-04       2.13e+05    \n",
      "      347            395        9.8023e+03      2.48e+00       6.82e-05       1.20e+05    \n",
      "      348            396        9.7997e+03      2.56e+00       5.61e-05       1.16e+05    \n",
      "      349            397        9.7949e+03      4.77e+00       9.42e-05       2.43e+05    \n",
      "      350            399        9.7925e+03      2.44e+00       7.51e-05       1.17e+05    \n",
      "      351            400        9.7899e+03      2.56e+00       5.12e-05       1.11e+05    \n",
      "The maximum number of function evaluations is exceeded.\n",
      "Function evaluations 400, initial cost 8.0565e+07, final cost 9.7899e+03, first-order optimality 1.11e+05.\n"
     ]
    }
   ],
   "source": [
    "x0 = [0.1,  0.5, 0.3,  0.1]      # initial guess: [σ, λ, m, v]\n",
    "bounds = ( [1e-3, 1e-2, -10, 0], [2, np.inf, 10, 5] )\n",
    "\n",
    "def cost_function(x, strikes, mkt_prices):\n",
    "    sigma, lambd, meanJ, stdJ = x\n",
    "    M = Merton_pricer(S0, None, T, r, q, sigma, lambd, meanJ, stdJ, exercise)\n",
    "    sq_err = np.sum( p_weights*(M.closed_formula_put(strikes) - mkt_prices)**2)\n",
    "    return sq_err\n",
    "\n",
    "start2 = time.time()\n",
    "mert2 = scpo.least_squares(cost_function, x0, args=(put_strikes, put_prices), bounds=bounds, method = 'trf', verbose=2)\n",
    "end2 = time.time()\n",
    "\n",
    "mert_params2 = [round(p,4) for p in mert2.x[:4]]"
   ],
   "metadata": {
    "collapsed": false
   }
  },
  {
   "cell_type": "code",
   "execution_count": 52,
   "outputs": [
    {
     "name": "stdout",
     "output_type": "stream",
     "text": [
      "WEIGHTED OPT: CURVE_FIT (trf)\n",
      "> Calibrated Volatlity [σ] = 0.2981 \t 29.81%\n",
      "> Calibrated Jump intensity [λ] =  0.05\n",
      "> Calibrated Jump Mean =  -1.79\n",
      "> Calibrated Jump St. dev.  =  2.0\n",
      "ELAPSED TIME: 42.315531730651855 sec\n",
      "\n",
      "METHOD 1: LEAST SQUARES (trf)\n",
      "> Calibrated Volatlity [σ] = 0.0983 \t 9.83%\n",
      "> Calibrated Jump intensity [λ] =  2.57\n",
      "> Calibrated Jump Mean =  0.215\n",
      "> Calibrated Jump St. dev.  =  0.056\n",
      "TIME ELAPSED:  79.74 sec\n"
     ]
    }
   ],
   "source": [
    "print('WEIGHTED OPT: CURVE_FIT (trf)')\n",
    "print(f'> Calibrated Volatlity [σ] = {round(mert1[0][0],4)} \\t {round(mert1[0][0]*100,2)}%')\n",
    "print('> Calibrated Jump intensity [λ] = ', round(mert1[0][1],2))\n",
    "print('> Calibrated Jump Mean = ', round(mert1[0][2],2))\n",
    "print('> Calibrated Jump St. dev.  = ', round(mert1[0][3],5))\n",
    "print(f'ELAPSED TIME: {end1-start1} sec')\n",
    "\n",
    "print('\\nMETHOD 1: LEAST SQUARES (trf)')\n",
    "print(f'> Calibrated Volatlity [σ] = {mert_params2[0]} \\t {round(mert_params2[0]*100,2)}%')\n",
    "print('> Calibrated Jump intensity [λ] = ', round(mert_params2[1],2))\n",
    "print('> Calibrated Jump Mean = ', round(mert_params2[2],3))\n",
    "print('> Calibrated Jump St. dev.  = ', round(mert_params2[3],3))\n",
    "print(f'TIME ELAPSED:  {round(end2-start2,2)} sec')"
   ],
   "metadata": {
    "collapsed": false
   }
  },
  {
   "cell_type": "code",
   "execution_count": 53,
   "outputs": [
    {
     "name": "stdout",
     "output_type": "stream",
     "text": [
      "[0.2981, 0.0502, -1.7882, 2.0]\n",
      "[0.0983, 2.5653, 0.2151, 0.0562]\n"
     ]
    }
   ],
   "source": [
    "print(mert_params1)\n",
    "print(mert_params2)"
   ],
   "metadata": {
    "collapsed": false
   }
  },
  {
   "cell_type": "markdown",
   "source": [
    "### Kou Jump Diffusion\n"
   ],
   "metadata": {
    "collapsed": false
   }
  },
  {
   "cell_type": "code",
   "execution_count": 54,
   "outputs": [],
   "source": [
    "x0 = [0.3, 0.8, 0.5, 5, 10] # initial guess: [σ, λ, p, η_1, η_2]\n",
    "bounds = ( [1e-2, 1e-1, 0, 0.5, 0.5], [0.5, 4, 1, 15, 20] )"
   ],
   "metadata": {
    "collapsed": false
   }
  },
  {
   "cell_type": "markdown",
   "source": [
    "##### Method 1. TRF (Bounds)"
   ],
   "metadata": {
    "collapsed": false
   }
  },
  {
   "cell_type": "code",
   "execution_count": 55,
   "outputs": [],
   "source": [
    "# def f_Kou(x, sigma, lambd, p, eta1, eta2):\n",
    "#     KouJD = Kou_pricer(S0=S0, K=x, ttm=T, r=r, sigma=sigma, lambd=lambd, p=p, eta1=eta1, eta2=eta2, exercise=exercise)\n",
    "#     return KouJD.closed_formula_put(x)\n",
    "#\n",
    "# start1 = time.time()\n",
    "# kou1 = scpo.curve_fit(f_Kou, put_strikes, put_prices, p0=x0, bounds=bounds, sigma=p_weights)\n",
    "# end1 = time.time()\n",
    "#\n",
    "# kou_params1 = [round(p,4) for p in kou1[0][:5]]"
   ],
   "metadata": {
    "collapsed": false
   }
  },
  {
   "cell_type": "markdown",
   "source": [
    "##### Method 2. LEAST SQUARES (With Bounds)"
   ],
   "metadata": {
    "collapsed": false
   }
  },
  {
   "cell_type": "code",
   "execution_count": 56,
   "outputs": [
    {
     "name": "stdout",
     "output_type": "stream",
     "text": [
      "   Iteration     Total nfev        Cost      Cost reduction    Step norm     Optimality   \n",
      "       0              1         6.5533e+04                                    2.36e+06    \n",
      "       1              2         6.2025e+03      5.93e+04       2.05e-02       3.18e+05    \n",
      "       2              3         1.1139e+03      5.09e+03       1.39e-02       2.07e+04    \n",
      "       3              6         1.0213e+03      9.26e+01       1.55e-03       9.77e+03    \n",
      "       4              7         1.0194e+03      1.86e+00       2.58e-03       2.23e+04    \n",
      "       5              8         9.9291e+02      2.65e+01       1.19e-03       1.47e+04    \n",
      "       6              9         9.8769e+02      5.22e+00       1.77e-03       8.16e+03    \n",
      "       7             10         9.8196e+02      5.73e+00       1.64e-03       1.17e+04    \n",
      "       8             11         9.7725e+02      4.72e+00       2.61e-03       8.06e+03    \n",
      "       9             12         9.7166e+02      5.59e+00       1.66e-03       1.15e+04    \n",
      "      10             13         9.6718e+02      4.48e+00       2.59e-03       7.80e+03    \n",
      "      11             14         9.6171e+02      5.46e+00       1.61e-03       1.14e+04    \n",
      "      12             15         9.5745e+02      4.27e+00       2.57e-03       7.57e+03    \n",
      "      13             16         9.5209e+02      5.35e+00       1.56e-03       1.12e+04    \n",
      "      14             17         9.4802e+02      4.07e+00       2.55e-03       7.34e+03    \n",
      "      15             18         9.4278e+02      5.25e+00       1.52e-03       1.10e+04    \n",
      "      16             19         9.3889e+02      3.88e+00       2.54e-03       7.13e+03    \n",
      "      17             20         9.3374e+02      5.15e+00       1.48e-03       1.08e+04    \n",
      "      18             21         9.3004e+02      3.71e+00       2.52e-03       6.93e+03    \n",
      "      19             22         9.2498e+02      5.06e+00       1.44e-03       1.06e+04    \n",
      "      20             23         9.2145e+02      3.53e+00       2.51e-03       6.74e+03    \n",
      "      21             24         9.1647e+02      4.97e+00       1.41e-03       1.05e+04    \n",
      "      22             25         9.1310e+02      3.37e+00       2.50e-03       6.55e+03    \n",
      "      23             26         9.0820e+02      4.90e+00       1.37e-03       1.03e+04    \n",
      "      24             27         9.0499e+02      3.22e+00       2.48e-03       6.38e+03    \n",
      "      25             28         9.0017e+02      4.82e+00       1.34e-03       1.01e+04    \n",
      "      26             29         8.9710e+02      3.07e+00       2.47e-03       6.21e+03    \n",
      "      27             30         8.9235e+02      4.75e+00       1.31e-03       9.98e+03    \n",
      "      28             31         8.8943e+02      2.92e+00       2.46e-03       6.04e+03    \n",
      "      29             32         8.8474e+02      4.69e+00       1.28e-03       9.82e+03    \n",
      "      30             33         8.8196e+02      2.78e+00       2.45e-03       5.89e+03    \n",
      "      31             34         8.7733e+02      4.63e+00       1.26e-03       9.67e+03    \n",
      "      32             35         8.7468e+02      2.65e+00       2.44e-03       5.73e+03    \n",
      "      33             36         8.7011e+02      4.57e+00       1.23e-03       9.52e+03    \n",
      "      34             37         8.6759e+02      2.52e+00       2.42e-03       5.59e+03    \n",
      "      35             38         8.6307e+02      4.52e+00       1.20e-03       9.38e+03    \n",
      "      36             39         8.6068e+02      2.39e+00       2.41e-03       5.45e+03    \n",
      "      37             40         8.5621e+02      4.47e+00       1.18e-03       9.24e+03    \n",
      "      38             41         8.5394e+02      2.27e+00       2.40e-03       5.31e+03    \n",
      "      39             42         8.4952e+02      4.42e+00       1.16e-03       9.10e+03    \n",
      "      40             43         8.4736e+02      2.16e+00       2.39e-03       5.18e+03    \n",
      "      41             44         8.4298e+02      4.38e+00       1.13e-03       8.96e+03    \n",
      "      42             45         8.4094e+02      2.04e+00       2.38e-03       5.05e+03    \n",
      "      43             46         8.3660e+02      4.34e+00       1.11e-03       8.83e+03    \n",
      "      44             47         8.3467e+02      1.93e+00       2.38e-03       4.92e+03    \n",
      "      45             48         8.3037e+02      4.30e+00       1.09e-03       8.70e+03    \n",
      "      46             49         8.2855e+02      1.83e+00       2.37e-03       4.80e+03    \n",
      "      47             50         8.2429e+02      4.26e+00       1.07e-03       8.57e+03    \n",
      "      48             51         8.2256e+02      1.72e+00       2.36e-03       4.69e+03    \n",
      "      49             52         8.1834e+02      4.23e+00       1.05e-03       8.45e+03    \n",
      "      50             53         8.1671e+02      1.62e+00       2.35e-03       4.57e+03    \n",
      "      51             54         8.1252e+02      4.19e+00       1.03e-03       8.33e+03    \n",
      "      52             55         8.1099e+02      1.53e+00       2.34e-03       4.46e+03    \n",
      "      53             56         8.0909e+02      1.91e+00       2.54e-04       5.40e+03    \n",
      "      54             57         8.0660e+02      2.49e+00       7.38e-04       6.96e+03    \n",
      "      55             58         8.0201e+02      4.59e+00       2.58e-03       7.03e+03    \n",
      "      56             59         7.9304e+02      8.96e+00       5.27e-03       6.33e+03    \n",
      "      57             60         7.8231e+02      1.07e+01       9.41e-03       1.07e+04    \n",
      "      58             62         7.7614e+02      6.17e+00       1.29e-03       5.18e+03    \n",
      "      59             63         7.7317e+02      2.97e+00       1.63e-03       7.92e+03    \n",
      "      60             64         7.7310e+02      6.72e-02       2.03e-03       3.45e+03    \n",
      "      61             65         7.7103e+02      2.07e+00       2.05e-04       4.39e+03    \n",
      "      62             66         7.6847e+02      2.55e+00       5.85e-04       6.07e+03    \n",
      "      63             67         7.6640e+02      2.08e+00       1.23e-03       6.40e+03    \n",
      "      64             68         7.6227e+02      4.12e+00       2.62e-03       5.98e+03    \n",
      "      65             69         7.5462e+02      7.66e+00       4.93e-03       7.15e+03    \n",
      "      66             71         7.5414e+02      4.75e-01       2.24e-03       3.36e+03    \n",
      "      67             72         7.5223e+02      1.92e+00       2.10e-04       4.27e+03    \n",
      "      68             73         7.4991e+02      2.32e+00       6.13e-04       5.87e+03    \n",
      "      69             74         7.4793e+02      1.98e+00       1.26e-03       6.01e+03    \n",
      "      70             75         7.4399e+02      3.94e+00       2.60e-03       5.75e+03    \n",
      "      71             76         7.3641e+02      7.58e+00       5.02e-03       6.37e+03    \n",
      "      72             78         7.3441e+02      2.00e+00       2.50e-03       3.81e+03    \n",
      "      73             79         7.3175e+02      2.66e+00       1.09e-03       7.08e+03    \n",
      "      74             81         7.3056e+02      1.19e+00       4.79e-04       5.98e+03    \n",
      "      75             82         7.2962e+02      9.43e-01       6.54e-04       5.66e+03    \n",
      "      76             83         7.2774e+02      1.88e+00       1.29e-03       5.56e+03    \n",
      "      77             84         7.2402e+02      3.72e+00       2.55e-03       5.57e+03    \n",
      "      78             85         7.1673e+02      7.29e+00       5.17e-03       5.11e+03    \n",
      "      79             86         7.0707e+02      9.65e+00       9.50e-03       8.35e+03    \n",
      "      80             88         7.0368e+02      3.40e+00       1.25e-03       3.39e+03    \n",
      "      81             89         7.0142e+02      2.26e+00       1.04e-03       6.54e+03    \n",
      "      82             91         7.0025e+02      1.16e+00       4.47e-04       5.45e+03    \n",
      "      83             92         6.9940e+02      8.52e-01       6.45e-04       5.07e+03    \n",
      "      84             93         6.9769e+02      1.71e+00       1.27e-03       5.05e+03    \n",
      "      85             94         6.9430e+02      3.39e+00       2.55e-03       4.98e+03    \n",
      "      86             95         6.8762e+02      6.68e+00       5.08e-03       4.94e+03    \n",
      "      87             96         6.7508e+02      1.25e+01       1.03e-02       3.74e+03    \n",
      "      88             99         6.7359e+02      1.49e+00       7.84e-04       4.93e+03    \n",
      "      89             100        6.7214e+02      1.45e+00       1.28e-03       4.24e+03    \n",
      "      90             101        6.6950e+02      2.64e+00       2.20e-03       5.42e+03    \n",
      "      91             103        6.6862e+02      8.84e-01       1.03e-03       3.63e+03    \n",
      "      92             104        6.6717e+02      1.45e+00       7.72e-04       4.82e+03    \n",
      "      93             105        6.6577e+02      1.40e+00       1.27e-03       4.09e+03    \n",
      "      94             106        6.6330e+02      2.47e+00       2.15e-03       5.38e+03    \n",
      "      95             108        6.6248e+02      8.19e-01       4.90e-04       4.45e+03    \n",
      "      96             109        6.6172e+02      7.56e-01       6.32e-04       4.42e+03    \n",
      "      97             110        6.6022e+02      1.51e+00       1.26e-03       4.39e+03    \n",
      "      98             111        6.5723e+02      2.99e+00       2.52e-03       4.34e+03    \n",
      "      99             112        6.5135e+02      5.88e+00       5.04e-03       4.21e+03    \n",
      "      100            113        6.4002e+02      1.13e+01       1.00e-02       4.35e+03    \n",
      "      101            115        6.3911e+02      9.04e-01       5.00e-03       3.17e+03    \n",
      "      102            116        6.3546e+02      3.66e+00       3.06e-04       2.72e+03    \n",
      "      103            117        6.3395e+02      1.51e+00       5.41e-04       4.08e+03    \n",
      "      104            118        6.3262e+02      1.33e+00       1.27e-03       3.76e+03    \n",
      "      105            119        6.3006e+02      2.55e+00       2.37e-03       4.31e+03    \n",
      "      106            121        6.2920e+02      8.60e-01       1.17e-03       3.10e+03    \n",
      "      107            122        6.2802e+02      1.18e+00       7.65e-04       4.20e+03    \n",
      "      108            123        6.2705e+02      9.66e-01       1.21e-03       3.16e+03    \n",
      "      109            124        6.2590e+02      1.15e+00       8.28e-04       4.18e+03    \n",
      "      110            125        6.2498e+02      9.19e-01       1.20e-03       3.10e+03    \n",
      "      111            126        6.2384e+02      1.14e+00       8.01e-04       4.14e+03    \n",
      "      112            127        6.2294e+02      8.99e-01       1.19e-03       3.05e+03    \n",
      "      113            128        6.2180e+02      1.13e+00       7.91e-04       4.11e+03    \n",
      "      114            129        6.2093e+02      8.77e-01       1.19e-03       3.01e+03    \n",
      "      115            130        6.1981e+02      1.12e+00       7.79e-04       4.07e+03    \n",
      "      116            131        6.1895e+02      8.56e-01       1.18e-03       2.97e+03    \n",
      "      117            132        6.1784e+02      1.11e+00       7.69e-04       4.04e+03    \n",
      "      118            133        6.1700e+02      8.36e-01       1.18e-03       2.93e+03    \n",
      "      119            134        6.1590e+02      1.10e+00       7.59e-04       4.01e+03    \n",
      "      120            135        6.1508e+02      8.16e-01       1.18e-03       2.89e+03    \n",
      "      121            136        6.1399e+02      1.09e+00       7.49e-04       3.97e+03    \n",
      "      122            137        6.1319e+02      7.97e-01       1.17e-03       2.85e+03    \n",
      "      123            138        6.1211e+02      1.08e+00       7.39e-04       3.94e+03    \n",
      "      124            139        6.1133e+02      7.78e-01       1.17e-03       2.81e+03    \n",
      "      125            140        6.1026e+02      1.07e+00       7.30e-04       3.91e+03    \n",
      "      126            141        6.0950e+02      7.59e-01       1.17e-03       2.77e+03    \n",
      "      127            142        6.0844e+02      1.07e+00       7.21e-04       3.88e+03    \n",
      "      128            143        6.0770e+02      7.41e-01       1.16e-03       2.74e+03    \n",
      "      129            144        6.0664e+02      1.06e+00       7.12e-04       3.85e+03    \n",
      "      130            145        6.0591e+02      7.24e-01       1.16e-03       2.70e+03    \n",
      "      131            146        6.0487e+02      1.05e+00       7.03e-04       3.82e+03    \n",
      "      132            147        6.0416e+02      7.06e-01       1.16e-03       2.66e+03    \n",
      "      133            148        6.0312e+02      1.04e+00       6.95e-04       3.79e+03    \n",
      "      134            149        6.0243e+02      6.89e-01       1.15e-03       2.63e+03    \n",
      "      135            150        6.0140e+02      1.03e+00       6.87e-04       3.76e+03    \n",
      "      136            151        6.0072e+02      6.73e-01       1.15e-03       2.60e+03    \n",
      "      137            152        5.9970e+02      1.03e+00       6.79e-04       3.73e+03    \n",
      "      138            153        5.9904e+02      6.56e-01       1.15e-03       2.56e+03    \n",
      "      139            154        5.9802e+02      1.02e+00       6.71e-04       3.70e+03    \n",
      "      140            155        5.9738e+02      6.40e-01       1.14e-03       2.53e+03    \n",
      "      141            156        5.9637e+02      1.01e+00       6.63e-04       3.67e+03    \n",
      "      142            157        5.9574e+02      6.25e-01       1.14e-03       2.50e+03    \n",
      "      143            158        5.9474e+02      1.01e+00       6.56e-04       3.64e+03    \n",
      "      144            159        5.9413e+02      6.09e-01       1.14e-03       2.47e+03    \n",
      "      145            160        5.9313e+02      1.00e+00       6.49e-04       3.61e+03    \n",
      "      146            161        5.9253e+02      5.94e-01       1.13e-03       2.44e+03    \n",
      "      147            162        5.9154e+02      9.94e-01       6.41e-04       3.58e+03    \n",
      "      148            163        5.9096e+02      5.79e-01       1.13e-03       2.41e+03    \n",
      "      149            164        5.8997e+02      9.88e-01       6.35e-04       3.55e+03    \n",
      "      150            165        5.8941e+02      5.65e-01       1.13e-03       2.38e+03    \n",
      "      151            166        5.8842e+02      9.82e-01       6.28e-04       3.52e+03    \n",
      "      152            167        5.8787e+02      5.51e-01       1.13e-03       2.35e+03    \n",
      "      153            168        5.8690e+02      9.77e-01       6.21e-04       3.50e+03    \n",
      "      154            169        5.8636e+02      5.36e-01       1.12e-03       2.32e+03    \n",
      "      155            170        5.8539e+02      9.72e-01       6.15e-04       3.47e+03    \n",
      "      156            171        5.8487e+02      5.23e-01       1.12e-03       2.29e+03    \n",
      "      157            172        5.8390e+02      9.67e-01       6.08e-04       3.44e+03    \n",
      "      158            173        5.8339e+02      5.09e-01       1.12e-03       2.26e+03    \n",
      "      159            174        5.8243e+02      9.62e-01       6.02e-04       3.42e+03    \n",
      "      160            175        5.8193e+02      4.96e-01       1.11e-03       2.23e+03    \n",
      "      161            176        5.8098e+02      9.57e-01       5.96e-04       3.39e+03    \n",
      "      162            177        5.8049e+02      4.82e-01       1.11e-03       2.21e+03    \n",
      "      163            178        5.7954e+02      9.52e-01       5.90e-04       3.36e+03    \n",
      "      164            179        5.7907e+02      4.69e-01       1.11e-03       2.18e+03    \n",
      "      165            180        5.7812e+02      9.48e-01       5.84e-04       3.34e+03    \n",
      "      166            181        5.7767e+02      4.57e-01       1.11e-03       2.15e+03    \n",
      "      167            182        5.7672e+02      9.44e-01       5.78e-04       3.31e+03    \n",
      "      168            183        5.7628e+02      4.44e-01       1.11e-03       2.13e+03    \n",
      "      169            184        5.7534e+02      9.40e-01       5.73e-04       3.29e+03    \n",
      "      170            185        5.7491e+02      4.32e-01       1.10e-03       2.10e+03    \n",
      "      171            186        5.7397e+02      9.36e-01       5.67e-04       3.26e+03    \n",
      "      172            187        5.7355e+02      4.19e-01       1.10e-03       2.08e+03    \n",
      "      173            188        5.7262e+02      9.32e-01       5.62e-04       3.24e+03    \n",
      "      174            189        5.7221e+02      4.07e-01       1.10e-03       2.05e+03    \n",
      "      175            190        5.7129e+02      9.28e-01       5.57e-04       3.21e+03    \n",
      "      176            191        5.7089e+02      3.96e-01       1.10e-03       2.03e+03    \n",
      "      177            192        5.6997e+02      9.24e-01       5.51e-04       3.19e+03    \n",
      "      178            193        5.6958e+02      3.84e-01       1.09e-03       2.01e+03    \n",
      "      179            194        5.6866e+02      9.21e-01       5.46e-04       3.17e+03    \n",
      "      180            195        5.6829e+02      3.72e-01       1.09e-03       1.98e+03    \n",
      "      181            196        5.6737e+02      9.17e-01       5.41e-04       3.14e+03    \n",
      "      182            197        5.6701e+02      3.61e-01       1.09e-03       1.96e+03    \n",
      "      183            198        5.6610e+02      9.14e-01       5.36e-04       3.12e+03    \n",
      "      184            199        5.6575e+02      3.50e-01       1.09e-03       1.94e+03    \n",
      "      185            200        5.6484e+02      9.11e-01       5.32e-04       3.10e+03    \n",
      "      186            201        5.6450e+02      3.39e-01       1.08e-03       1.91e+03    \n",
      "      187            202        5.6359e+02      9.08e-01       5.27e-04       3.07e+03    \n",
      "      188            203        5.6326e+02      3.28e-01       1.08e-03       1.89e+03    \n",
      "      189            204        5.6236e+02      9.05e-01       5.22e-04       3.05e+03    \n",
      "      190            205        5.6204e+02      3.17e-01       1.08e-03       1.87e+03    \n",
      "      191            206        5.6114e+02      9.02e-01       5.18e-04       3.03e+03    \n",
      "      192            207        5.6083e+02      3.07e-01       1.08e-03       1.85e+03    \n",
      "      193            208        5.6043e+02      3.98e-01       1.28e-04       2.14e+03    \n",
      "      194            209        5.5990e+02      5.28e-01       3.55e-04       2.63e+03    \n",
      "      195            210        5.5895e+02      9.53e-01       1.19e-03       2.72e+03    \n",
      "      196            211        5.5712e+02      1.83e+00       2.45e-03       2.32e+03    \n",
      "      197            213        5.5636e+02      7.67e-01       9.39e-04       3.00e+03    \n",
      "      198            214        5.5622e+02      1.32e-01       1.01e-03       1.68e+03    \n",
      "      199            215        5.5580e+02      4.28e-01       1.15e-04       1.98e+03    \n",
      "      200            216        5.5524e+02      5.52e-01       3.16e-04       2.50e+03    \n",
      "      201            217        5.5478e+02      4.65e-01       5.75e-04       2.61e+03    \n",
      "      202            218        5.5385e+02      9.29e-01       1.21e-03       2.52e+03    \n",
      "      203            219        5.5205e+02      1.80e+00       2.35e-03       2.77e+03    \n",
      "      204            221        5.5153e+02      5.15e-01       1.15e-03       1.89e+03    \n",
      "      205            222        5.5082e+02      7.09e-01       5.99e-04       2.95e+03    \n",
      "      206            223        5.5081e+02      1.63e-02       9.59e-04       1.55e+03    \n",
      "      207            224        5.5036e+02      4.43e-01       1.07e-04       1.85e+03    \n",
      "      208            225        5.4980e+02      5.63e-01       2.92e-04       2.39e+03    \n",
      "      209            226        5.4935e+02      4.49e-01       5.60e-04       2.54e+03    \n",
      "      210            227        5.4846e+02      8.97e-01       1.21e-03       2.41e+03    \n",
      "      211            228        5.4676e+02      1.69e+00       2.31e-03       2.78e+03    \n",
      "      212            230        5.4662e+02      1.41e-01       1.04e-03       1.57e+03    \n",
      "      213            231        5.4621e+02      4.09e-01       1.13e-04       1.86e+03    \n",
      "      214            232        5.4569e+02      5.16e-01       3.13e-04       2.37e+03    \n",
      "      215            233        5.4525e+02      4.40e-01       5.79e-04       2.45e+03    \n",
      "      216            234        5.4438e+02      8.78e-01       1.21e-03       2.36e+03    \n",
      "      217            235        5.4267e+02      1.70e+00       2.34e-03       2.61e+03    \n",
      "      218            237        5.4226e+02      4.17e-01       1.13e-03       1.70e+03    \n",
      "      219            238        5.4157e+02      6.86e-01       5.46e-04       2.78e+03    \n",
      "      220            240        5.4133e+02      2.45e-01       2.34e-04       2.43e+03    \n",
      "      221            241        5.4111e+02      2.16e-01       3.03e-04       2.38e+03    \n",
      "      222            242        5.4068e+02      4.30e-01       6.01e-04       2.34e+03    \n",
      "      223            243        5.3982e+02      8.56e-01       1.19e-03       2.35e+03    \n",
      "      224            244        5.3813e+02      1.69e+00       2.40e-03       2.23e+03    \n",
      "      225            245        5.3540e+02      2.73e+00       4.54e-03       3.12e+03    \n",
      "      226            248        5.3474e+02      6.64e-01       3.24e-04       2.27e+03    \n",
      "      227            249        5.3433e+02      4.12e-01       5.99e-04       2.23e+03    \n",
      "      228            250        5.3351e+02      8.22e-01       1.18e-03       2.25e+03    \n",
      "      229            251        5.3189e+02      1.62e+00       2.40e-03       2.08e+03    \n",
      "      230            252        5.3011e+02      1.78e+00       4.34e-03       3.45e+03    \n",
      "      231            254        5.2885e+02      1.27e+00       5.40e-04       1.73e+03    \n",
      "      232            255        5.2834e+02      5.04e-01       7.06e-04       2.63e+03    \n",
      "      233            257        5.2808e+02      2.61e-01       2.05e-04       2.25e+03    \n",
      "      234            258        5.2789e+02      1.96e-01       2.97e-04       2.13e+03    \n",
      "      235            259        5.2749e+02      3.95e-01       5.91e-04       2.13e+03    \n",
      "      236            260        5.2671e+02      7.86e-01       1.18e-03       2.11e+03    \n",
      "      237            261        5.2515e+02      1.56e+00       2.36e-03       2.11e+03    \n",
      "      238            262        5.2210e+02      3.05e+00       4.75e-03       1.88e+03    \n",
      "      239            264        5.2122e+02      8.76e-01       2.02e-03       2.82e+03    \n",
      "      240            266        5.2061e+02      6.14e-01       3.12e-04       2.01e+03    \n",
      "      241            267        5.2023e+02      3.75e-01       5.87e-04       2.01e+03    \n",
      "      242            268        5.1949e+02      7.47e-01       1.18e-03       1.99e+03    \n",
      "      243            269        5.1801e+02      1.48e+00       2.34e-03       2.01e+03    \n",
      "      244            270        5.1525e+02      2.76e+00       4.75e-03       1.51e+03    \n",
      "      245            273        5.1487e+02      3.81e-01       3.22e-04       1.96e+03    \n",
      "      246            274        5.1451e+02      3.58e-01       5.92e-04       1.89e+03    \n",
      "      247            275        5.1380e+02      7.12e-01       1.15e-03       1.96e+03    \n",
      "      248            276        5.1249e+02      1.31e+00       2.37e-03       1.55e+03    \n",
      "      249            278        5.1209e+02      3.98e-01       7.33e-04       2.36e+03    \n",
      "      250            280        5.1183e+02      2.59e-01       1.86e-04       1.99e+03    \n",
      "      251            281        5.1166e+02      1.71e-01       2.89e-04       1.84e+03    \n",
      "      252            282        5.1131e+02      3.50e-01       5.75e-04       1.88e+03    \n",
      "      253            283        5.1061e+02      6.97e-01       1.18e-03       1.81e+03    \n",
      "      254            284        5.0929e+02      1.32e+00       2.27e-03       2.08e+03    \n",
      "      255            287        5.0912e+02      1.68e-01       2.45e-04       1.80e+03    \n",
      "      256            288        5.0895e+02      1.72e-01       2.86e-04       1.82e+03    \n",
      "      257            289        5.0861e+02      3.44e-01       5.81e-04       1.82e+03    \n",
      "      258            290        5.0792e+02      6.85e-01       1.17e-03       1.80e+03    \n",
      "      259            291        5.0656e+02      1.36e+00       2.32e-03       1.83e+03    \n",
      "      260            292        5.0421e+02      2.36e+00       4.71e-03       1.17e+03    \n",
      "      261            295        5.0375e+02      4.51e-01       2.33e-04       1.67e+03    \n",
      "      262            296        5.0343e+02      3.24e-01       5.48e-04       1.79e+03    \n",
      "      263            297        5.0280e+02      6.34e-01       1.17e-03       1.59e+03    \n",
      "      264            298        5.0212e+02      6.77e-01       1.99e-03       2.47e+03    \n",
      "      265            300        5.0152e+02      5.95e-01       2.88e-04       1.70e+03    \n",
      "      266            301        5.0120e+02      3.24e-01       5.76e-04       1.70e+03    \n",
      "      267            302        5.0055e+02      6.45e-01       1.16e-03       1.67e+03    \n",
      "      268            303        4.9928e+02      1.27e+00       2.29e-03       1.76e+03    \n",
      "      269            305        4.9885e+02      4.38e-01       1.15e-03       1.25e+03    \n",
      "      270            306        4.9855e+02      2.96e-01       5.81e-04       2.15e+03    \n",
      "      271            308        4.9829e+02      2.65e-01       1.70e-04       1.78e+03    \n",
      "      272            309        4.9814e+02      1.47e-01       2.74e-04       1.60e+03    \n",
      "      273            310        4.9783e+02      3.11e-01       5.54e-04       1.68e+03    \n",
      "      274            311        4.9722e+02      6.10e-01       1.17e-03       1.52e+03    \n",
      "      275            312        4.9651e+02      7.10e-01       2.02e-03       2.31e+03    \n",
      "      276            314        4.9599e+02      5.16e-01       2.90e-04       1.55e+03    \n",
      "      277            315        4.9569e+02      3.04e-01       5.46e-04       1.66e+03    \n",
      "      278            316        4.9510e+02      5.84e-01       1.16e-03       1.44e+03    \n",
      "      279            317        4.9480e+02      3.07e-01       1.86e-03       2.48e+03    \n",
      "      280            318        4.9399e+02      8.05e-01       2.62e-04       1.72e+03    \n",
      "      281            319        4.9379e+02      2.05e-01       5.39e-04       1.32e+03    \n",
      "      282            320        4.9351e+02      2.75e-01       3.80e-04       1.69e+03    \n",
      "      283            321        4.9328e+02      2.32e-01       5.55e-04       1.36e+03    \n",
      "      284            322        4.9301e+02      2.71e-01       4.13e-04       1.68e+03    \n",
      "      285            323        4.9278e+02      2.25e-01       5.52e-04       1.34e+03    \n",
      "      286            324        4.9251e+02      2.69e-01       4.04e-04       1.67e+03    \n",
      "      287            325        4.9229e+02      2.22e-01       5.51e-04       1.33e+03    \n",
      "      288            326        4.9202e+02      2.68e-01       4.01e-04       1.67e+03    \n",
      "      289            327        4.9181e+02      2.19e-01       5.49e-04       1.32e+03    \n",
      "      290            328        4.9154e+02      2.67e-01       3.98e-04       1.66e+03    \n",
      "      291            329        4.9132e+02      2.16e-01       5.48e-04       1.31e+03    \n",
      "      292            330        4.9106e+02      2.65e-01       3.95e-04       1.65e+03    \n",
      "      293            331        4.9084e+02      2.13e-01       5.47e-04       1.30e+03    \n",
      "      294            332        4.9058e+02      2.64e-01       3.91e-04       1.64e+03    \n",
      "      295            333        4.9037e+02      2.11e-01       5.46e-04       1.29e+03    \n",
      "      296            334        4.9011e+02      2.62e-01       3.89e-04       1.64e+03    \n",
      "      297            335        4.8990e+02      2.08e-01       5.45e-04       1.28e+03    \n",
      "      298            336        4.8964e+02      2.61e-01       3.86e-04       1.63e+03    \n",
      "      299            337        4.8943e+02      2.05e-01       5.44e-04       1.27e+03    \n",
      "      300            338        4.8917e+02      2.60e-01       3.83e-04       1.62e+03    \n",
      "      301            339        4.8897e+02      2.03e-01       5.43e-04       1.26e+03    \n",
      "      302            340        4.8871e+02      2.58e-01       3.80e-04       1.61e+03    \n",
      "      303            341        4.8851e+02      2.00e-01       5.42e-04       1.25e+03    \n",
      "      304            342        4.8826e+02      2.57e-01       3.77e-04       1.61e+03    \n",
      "      305            343        4.8806e+02      1.97e-01       5.41e-04       1.24e+03    \n",
      "      306            344        4.8780e+02      2.56e-01       3.75e-04       1.60e+03    \n",
      "      307            345        4.8761e+02      1.95e-01       5.40e-04       1.23e+03    \n",
      "      308            346        4.8735e+02      2.55e-01       3.72e-04       1.59e+03    \n",
      "      309            347        4.8716e+02      1.93e-01       5.39e-04       1.22e+03    \n",
      "      310            348        4.8691e+02      2.54e-01       3.69e-04       1.58e+03    \n",
      "      311            349        4.8672e+02      1.90e-01       5.38e-04       1.21e+03    \n",
      "      312            350        4.8646e+02      2.53e-01       3.67e-04       1.58e+03    \n",
      "      313            351        4.8628e+02      1.88e-01       5.37e-04       1.20e+03    \n",
      "      314            352        4.8602e+02      2.51e-01       3.64e-04       1.57e+03    \n",
      "      315            353        4.8584e+02      1.85e-01       5.36e-04       1.20e+03    \n",
      "      316            354        4.8559e+02      2.50e-01       3.62e-04       1.56e+03    \n",
      "      317            355        4.8541e+02      1.83e-01       5.35e-04       1.19e+03    \n",
      "      318            356        4.8516e+02      2.49e-01       3.59e-04       1.56e+03    \n",
      "      319            357        4.8498e+02      1.81e-01       5.34e-04       1.18e+03    \n",
      "      320            358        4.8473e+02      2.48e-01       3.57e-04       1.55e+03    \n",
      "      321            359        4.8455e+02      1.78e-01       5.33e-04       1.17e+03    \n",
      "      322            360        4.8430e+02      2.47e-01       3.55e-04       1.54e+03    \n",
      "      323            361        4.8413e+02      1.76e-01       5.32e-04       1.16e+03    \n",
      "      324            362        4.8388e+02      2.46e-01       3.52e-04       1.54e+03    \n",
      "      325            363        4.8371e+02      1.74e-01       5.31e-04       1.15e+03    \n",
      "      326            364        4.8346e+02      2.45e-01       3.50e-04       1.53e+03    \n",
      "      327            365        4.8329e+02      1.72e-01       5.30e-04       1.15e+03    \n",
      "      328            366        4.8305e+02      2.44e-01       3.48e-04       1.52e+03    \n",
      "      329            367        4.8288e+02      1.69e-01       5.30e-04       1.14e+03    \n",
      "      330            368        4.8263e+02      2.43e-01       3.45e-04       1.51e+03    \n",
      "      331            369        4.8247e+02      1.67e-01       5.29e-04       1.13e+03    \n",
      "      332            370        4.8222e+02      2.42e-01       3.43e-04       1.51e+03    \n",
      "      333            371        4.8206e+02      1.65e-01       5.28e-04       1.12e+03    \n",
      "      334            372        4.8182e+02      2.41e-01       3.41e-04       1.50e+03    \n",
      "      335            373        4.8165e+02      1.63e-01       5.27e-04       1.11e+03    \n",
      "      336            374        4.8141e+02      2.41e-01       3.39e-04       1.49e+03    \n",
      "      337            375        4.8125e+02      1.61e-01       5.26e-04       1.11e+03    \n",
      "      338            376        4.8101e+02      2.40e-01       3.37e-04       1.49e+03    \n",
      "      339            377        4.8085e+02      1.59e-01       5.25e-04       1.10e+03    \n",
      "      340            378        4.8061e+02      2.39e-01       3.35e-04       1.48e+03    \n",
      "      341            379        4.8046e+02      1.57e-01       5.24e-04       1.09e+03    \n",
      "      342            380        4.8022e+02      2.38e-01       3.33e-04       1.47e+03    \n",
      "      343            381        4.8006e+02      1.55e-01       5.24e-04       1.08e+03    \n",
      "      344            382        4.7983e+02      2.37e-01       3.31e-04       1.47e+03    \n",
      "      345            383        4.7967e+02      1.53e-01       5.23e-04       1.08e+03    \n",
      "      346            384        4.7944e+02      2.36e-01       3.29e-04       1.46e+03    \n",
      "      347            385        4.7929e+02      1.51e-01       5.22e-04       1.07e+03    \n",
      "      348            386        4.7905e+02      2.36e-01       3.27e-04       1.46e+03    \n",
      "      349            387        4.7890e+02      1.49e-01       5.21e-04       1.06e+03    \n",
      "      350            388        4.7867e+02      2.35e-01       3.25e-04       1.45e+03    \n",
      "      351            389        4.7852e+02      1.47e-01       5.20e-04       1.06e+03    \n",
      "      352            390        4.7829e+02      2.34e-01       3.23e-04       1.44e+03    \n",
      "      353            391        4.7814e+02      1.45e-01       5.20e-04       1.05e+03    \n",
      "      354            392        4.7791e+02      2.33e-01       3.21e-04       1.44e+03    \n",
      "      355            393        4.7777e+02      1.43e-01       5.19e-04       1.04e+03    \n",
      "      356            394        4.7753e+02      2.33e-01       3.19e-04       1.43e+03    \n",
      "      357            395        4.7739e+02      1.41e-01       5.18e-04       1.03e+03    \n",
      "      358            396        4.7716e+02      2.32e-01       3.17e-04       1.42e+03    \n",
      "      359            397        4.7702e+02      1.39e-01       5.17e-04       1.03e+03    \n",
      "      360            398        4.7679e+02      2.31e-01       3.15e-04       1.42e+03    \n",
      "      361            399        4.7665e+02      1.37e-01       5.16e-04       1.02e+03    \n",
      "      362            400        4.7642e+02      2.30e-01       3.14e-04       1.41e+03    \n",
      "      363            401        4.7629e+02      1.36e-01       5.16e-04       1.01e+03    \n",
      "      364            402        4.7606e+02      2.30e-01       3.12e-04       1.41e+03    \n",
      "      365            403        4.7592e+02      1.34e-01       5.15e-04       1.01e+03    \n",
      "      366            404        4.7569e+02      2.29e-01       3.10e-04       1.40e+03    \n",
      "      367            405        4.7556e+02      1.32e-01       5.14e-04       1.00e+03    \n",
      "      368            406        4.7533e+02      2.28e-01       3.08e-04       1.39e+03    \n",
      "      369            407        4.7520e+02      1.30e-01       5.14e-04       9.93e+02    \n",
      "      370            408        4.7498e+02      2.28e-01       3.07e-04       1.39e+03    \n",
      "      371            409        4.7485e+02      1.28e-01       5.13e-04       9.86e+02    \n",
      "      372            410        4.7462e+02      2.27e-01       3.05e-04       1.38e+03    \n",
      "      373            411        4.7449e+02      1.27e-01       5.12e-04       9.80e+02    \n",
      "      374            412        4.7427e+02      2.26e-01       3.03e-04       1.37e+03    \n",
      "      375            413        4.7414e+02      1.25e-01       5.11e-04       9.73e+02    \n",
      "      376            414        4.7392e+02      2.26e-01       3.02e-04       1.37e+03    \n",
      "      377            415        4.7379e+02      1.23e-01       5.11e-04       9.67e+02    \n",
      "      378            416        4.7357e+02      2.25e-01       3.00e-04       1.36e+03    \n",
      "      379            417        4.7345e+02      1.21e-01       5.10e-04       9.60e+02    \n",
      "      380            418        4.7322e+02      2.25e-01       2.98e-04       1.36e+03    \n",
      "      381            419        4.7310e+02      1.20e-01       5.09e-04       9.54e+02    \n",
      "      382            420        4.7288e+02      2.24e-01       2.97e-04       1.35e+03    \n",
      "      383            421        4.7276e+02      1.18e-01       5.09e-04       9.48e+02    \n",
      "      384            422        4.7254e+02      2.24e-01       2.95e-04       1.35e+03    \n",
      "      385            423        4.7242e+02      1.16e-01       5.08e-04       9.41e+02    \n",
      "      386            424        4.7220e+02      2.23e-01       2.94e-04       1.34e+03    \n",
      "      387            425        4.7208e+02      1.15e-01       5.07e-04       9.35e+02    \n",
      "      388            426        4.7186e+02      2.22e-01       2.92e-04       1.33e+03    \n",
      "      389            427        4.7175e+02      1.13e-01       5.06e-04       9.29e+02    \n",
      "      390            428        4.7153e+02      2.22e-01       2.91e-04       1.33e+03    \n",
      "      391            429        4.7142e+02      1.11e-01       5.06e-04       9.23e+02    \n",
      "      392            430        4.7119e+02      2.21e-01       2.89e-04       1.32e+03    \n",
      "      393            431        4.7108e+02      1.10e-01       5.05e-04       9.17e+02    \n",
      "      394            432        4.7086e+02      2.21e-01       2.87e-04       1.32e+03    \n",
      "      395            433        4.7076e+02      1.08e-01       5.05e-04       9.11e+02    \n",
      "      396            434        4.7054e+02      2.20e-01       2.86e-04       1.31e+03    \n",
      "      397            435        4.7043e+02      1.07e-01       5.04e-04       9.05e+02    \n",
      "      398            436        4.7021e+02      2.20e-01       2.85e-04       1.31e+03    \n",
      "      399            437        4.7010e+02      1.05e-01       5.03e-04       8.99e+02    \n",
      "      400            438        4.6988e+02      2.19e-01       2.83e-04       1.30e+03    \n",
      "      401            439        4.6978e+02      1.03e-01       5.03e-04       8.93e+02    \n",
      "      402            440        4.6956e+02      2.19e-01       2.82e-04       1.29e+03    \n",
      "      403            441        4.6946e+02      1.02e-01       5.02e-04       8.87e+02    \n",
      "      404            442        4.6924e+02      2.18e-01       2.80e-04       1.29e+03    \n",
      "      405            443        4.6914e+02      1.00e-01       5.01e-04       8.81e+02    \n",
      "      406            444        4.6892e+02      2.18e-01       2.79e-04       1.28e+03    \n",
      "      407            445        4.6882e+02      9.87e-02       5.01e-04       8.76e+02    \n",
      "      408            446        4.6861e+02      2.18e-01       2.77e-04       1.28e+03    \n",
      "      409            447        4.6851e+02      9.72e-02       5.00e-04       8.70e+02    \n",
      "      410            448        4.6829e+02      2.17e-01       2.76e-04       1.27e+03    \n",
      "      411            449        4.6820e+02      9.57e-02       4.99e-04       8.64e+02    \n",
      "      412            450        4.6798e+02      2.17e-01       2.75e-04       1.27e+03    \n",
      "      413            451        4.6789e+02      9.42e-02       4.99e-04       8.59e+02    \n",
      "      414            452        4.6767e+02      2.16e-01       2.73e-04       1.26e+03    \n",
      "      415            453        4.6758e+02      9.27e-02       4.98e-04       8.53e+02    \n",
      "      416            454        4.6736e+02      2.16e-01       2.72e-04       1.26e+03    \n",
      "      417            455        4.6727e+02      9.12e-02       4.98e-04       8.48e+02    \n",
      "      418            456        4.6706e+02      2.15e-01       2.71e-04       1.25e+03    \n",
      "      419            457        4.6697e+02      8.97e-02       4.97e-04       8.42e+02    \n",
      "      420            458        4.6675e+02      2.15e-01       2.69e-04       1.25e+03    \n",
      "      421            459        4.6666e+02      8.83e-02       4.96e-04       8.37e+02    \n",
      "      422            460        4.6645e+02      2.15e-01       2.68e-04       1.24e+03    \n",
      "      423            461        4.6636e+02      8.68e-02       4.96e-04       8.31e+02    \n",
      "      424            462        4.6615e+02      2.14e-01       2.67e-04       1.24e+03    \n",
      "      425            463        4.6606e+02      8.54e-02       4.95e-04       8.26e+02    \n",
      "      426            464        4.6585e+02      2.14e-01       2.66e-04       1.23e+03    \n",
      "      427            465        4.6576e+02      8.40e-02       4.95e-04       8.20e+02    \n",
      "      428            466        4.6555e+02      2.14e-01       2.64e-04       1.23e+03    \n",
      "      429            467        4.6547e+02      8.26e-02       4.94e-04       8.15e+02    \n",
      "      430            468        4.6525e+02      2.13e-01       2.63e-04       1.22e+03    \n",
      "      431            469        4.6517e+02      8.11e-02       4.93e-04       8.10e+02    \n",
      "      432            470        4.6496e+02      2.13e-01       2.62e-04       1.22e+03    \n",
      "      433            471        4.6488e+02      7.98e-02       4.93e-04       8.05e+02    \n",
      "      434            472        4.6467e+02      2.12e-01       2.61e-04       1.21e+03    \n",
      "      435            473        4.6459e+02      7.84e-02       4.92e-04       7.99e+02    \n",
      "      436            474        4.6438e+02      2.12e-01       2.59e-04       1.21e+03    \n",
      "      437            475        4.6430e+02      7.70e-02       4.92e-04       7.94e+02    \n",
      "      438            476        4.6409e+02      2.12e-01       2.58e-04       1.20e+03    \n",
      "      439            477        4.6401e+02      7.56e-02       4.91e-04       7.89e+02    \n",
      "      440            478        4.6380e+02      2.11e-01       2.57e-04       1.20e+03    \n",
      "      441            479        4.6373e+02      7.43e-02       4.91e-04       7.84e+02    \n",
      "      442            480        4.6352e+02      2.11e-01       2.56e-04       1.19e+03    \n",
      "      443            481        4.6344e+02      7.29e-02       4.90e-04       7.79e+02    \n",
      "      444            482        4.6323e+02      2.11e-01       2.55e-04       1.19e+03    \n",
      "      445            483        4.6316e+02      7.16e-02       4.90e-04       7.74e+02    \n",
      "      446            484        4.6295e+02      2.10e-01       2.54e-04       1.18e+03    \n",
      "      447            485        4.6288e+02      7.03e-02       4.89e-04       7.69e+02    \n",
      "      448            486        4.6267e+02      2.10e-01       2.52e-04       1.18e+03    \n",
      "      449            487        4.6260e+02      6.90e-02       4.88e-04       7.64e+02    \n",
      "      450            488        4.6239e+02      2.10e-01       2.51e-04       1.17e+03    \n",
      "      451            489        4.6232e+02      6.76e-02       4.88e-04       7.59e+02    \n",
      "      452            490        4.6223e+02      9.08e-02       6.25e-05       8.61e+02    \n",
      "      453            491        4.6211e+02      1.22e-01       1.67e-04       1.03e+03    \n",
      "      454            492        4.6190e+02      2.15e-01       5.36e-04       1.09e+03    \n",
      "      455            493        4.6151e+02      3.83e-01       1.11e-03       8.63e+02    \n",
      "      456            495        4.6135e+02      1.64e-01       3.46e-04       1.20e+03    \n",
      "      457            496        4.6135e+02      2.44e-03       4.30e-04       6.87e+02    \n",
      "      458            497        4.6124e+02      1.04e-01       5.44e-05       7.94e+02    \n",
      "      459            498        4.6111e+02      1.36e-01       1.42e-04       9.85e+02    \n",
      "      460            499        4.6100e+02      1.06e-01       2.52e-04       1.05e+03    \n",
      "      461            500        4.6079e+02      2.13e-01       5.52e-04       1.01e+03    \n",
      "The maximum number of function evaluations is exceeded.\n",
      "Function evaluations 500, initial cost 6.5533e+04, final cost 4.6079e+02, first-order optimality 1.01e+03.\n"
     ]
    }
   ],
   "source": [
    "# Define the objective function\n",
    "def cost_function(x, strikes, mkt_prices):\n",
    "    sigm, lamb, p, eta1, eta2 = x\n",
    "    KOU = Kou_pricer(S0=S0, K=strikes, ttm=T, r=r, sigma=sigm, lambd=lamb, p=p, eta1=eta1, eta2=eta2, exercise=exercise)\n",
    "    sq_err = np.sum(p_weights*(KOU.closed_formula_put(strikes) - mkt_prices)**2)\n",
    "    return sq_err\n",
    "\n",
    "start2=time.time()\n",
    "kou2 = scpo.least_squares(cost_function, x0, args=(put_strikes, put_prices),  method='trf', bounds=bounds, verbose=2)\n",
    "end2=time.time()"
   ],
   "metadata": {
    "collapsed": false
   }
  },
  {
   "cell_type": "code",
   "execution_count": 57,
   "outputs": [],
   "source": [
    "kou_params2 = [round(p,4) for p in kou2.x[:5]]"
   ],
   "metadata": {
    "collapsed": false
   }
  },
  {
   "cell_type": "code",
   "execution_count": 58,
   "outputs": [],
   "source": [
    "# print('WEIGHTED OPT: CURVE_FIT (trf)')\n",
    "# print(f'> Calibrated Volatlity [σ] = {kou_params1[0]} \\t {kou_params1[0] * 100}%')\n",
    "# print('> Calibrated Jump intensity [λ] = ', kou_params1[1])\n",
    "# print(f'> Calibrated Upward Jump probability [p] = {kou_params1[2]}, [q] = {round(1 - kou_params1[2], 2)}')\n",
    "# print('> Calibrated Rate of Exp. 1  [η_1] = ', kou_params1[3])\n",
    "# print('> Calibrated Rate of Exp. 2  [η_2] = ', kou_params1[4])\n",
    "# print(f'TIME ELAPSED: {end1-start1} sec')"
   ],
   "metadata": {
    "collapsed": false
   }
  },
  {
   "cell_type": "code",
   "execution_count": 59,
   "outputs": [
    {
     "name": "stdout",
     "output_type": "stream",
     "text": [
      "METHOD 2: Least-squares\n",
      "> Calibrated Volatlity [σ] = 0.3414 \t 34.14%\n",
      "> Calibrated Jump intensity [λ] =  0.77\n",
      "> Calibrated Upward Jump probability [p] = 0.39, [q] = 0.61\n",
      "> Calibrated Rate of Exp. 1  [η_1] =  5.43\n",
      "> Calibrated Rate of Exp. 2  [η_2] =  9.93\n",
      "TIME ELAPSED:  4885.7 sec\n"
     ]
    }
   ],
   "source": [
    "print('METHOD 2: Least-squares')\n",
    "print(f'> Calibrated Volatlity [σ] = {round(kou_params2[0],4)} \\t {round(kou_params2[0]*100,2)}%')\n",
    "print('> Calibrated Jump intensity [λ] = ', round(kou_params2[1],2))\n",
    "print(f'> Calibrated Upward Jump probability [p] = {round(kou_params2[2],2)}, [q] = {round(1-kou_params2[2],2)}')\n",
    "print('> Calibrated Rate of Exp. 1  [η_1] = ', round(kou_params2[3],2))\n",
    "print('> Calibrated Rate of Exp. 2  [η_2] = ', round(kou_params2[4],2))\n",
    "print(f'TIME ELAPSED:  {round(end2-start2,2)} sec')"
   ],
   "metadata": {
    "collapsed": false
   }
  },
  {
   "cell_type": "code",
   "execution_count": 60,
   "outputs": [
    {
     "name": "stdout",
     "output_type": "stream",
     "text": [
      "[0.3414, 0.7704, 0.387, 5.4276, 9.9265]\n"
     ]
    }
   ],
   "source": [
    "#print(kou_params1)\n",
    "print(kou_params2)"
   ],
   "metadata": {
    "collapsed": false
   }
  },
  {
   "cell_type": "markdown",
   "source": [
    "### Variance Gamma\n"
   ],
   "metadata": {
    "collapsed": false
   }
  },
  {
   "cell_type": "code",
   "execution_count": 61,
   "outputs": [],
   "source": [
    "x0 = [0.2, -0.3, 0.1]   # initial guess: [σ, θ, v]\n",
    "bounds = ( [1e-3, -5, 0], [3, 5, 10] )"
   ],
   "metadata": {
    "collapsed": false
   }
  },
  {
   "cell_type": "markdown",
   "source": [
    "##### Method 1. CURVE FIT (Bounds)"
   ],
   "metadata": {
    "collapsed": false
   }
  },
  {
   "cell_type": "code",
   "execution_count": 62,
   "outputs": [],
   "source": [
    "def f_VG(strikes, sigmax, thetax, nux):\n",
    "    VGamma = VG_pricer(S0=S0, K=None, ttm=T, r=r, q=0, sigma=sigmax, theta=thetax, nu=nux, exercise='put')\n",
    "    vg_prices = []\n",
    "    for k in strikes:\n",
    "        vg_prices.append(VGamma.closed_formula_put(k))\n",
    "    return vg_prices\n",
    "\n",
    "start1 = time.time()\n",
    "vg1 = scpo.curve_fit(f_VG, put_strikes, put_prices, p0=x0, bounds=bounds, sigma=p_weights)\n",
    "end1 = time.time()\n",
    "\n",
    "vg_params1 = [round(p,4) for p in vg1[0][:3]]"
   ],
   "metadata": {
    "collapsed": false
   }
  },
  {
   "cell_type": "markdown",
   "source": [
    "##### Method 2. LEAST-SQUARES (Trust Region Reflective, Bounds)"
   ],
   "metadata": {
    "collapsed": false
   }
  },
  {
   "cell_type": "code",
   "execution_count": 63,
   "outputs": [
    {
     "name": "stdout",
     "output_type": "stream",
     "text": [
      "   Iteration     Total nfev        Cost      Cost reduction    Step norm     Optimality   \n",
      "       0              1         1.6025e+04                                    4.73e+05    \n",
      "       1              3         4.5316e+03      1.15e+04       9.03e-02       2.69e+05    \n",
      "       2              5         1.3320e+03      3.20e+03       4.39e-02       1.45e+05    \n",
      "       3              6         1.1301e+03      2.02e+02       8.75e-02       7.27e+04    \n",
      "       4              7         6.8422e+02      4.46e+02       1.97e-02       5.26e+04    \n",
      "       5              8         1.8113e+02      5.03e+02       3.92e-02       1.83e+04    \n",
      "       6              9         1.3361e+02      4.75e+01       3.93e-02       2.63e+04    \n",
      "       7             10         1.0043e+02      3.32e+01       9.69e-03       5.50e+03    \n",
      "       8             11         9.4686e+01      5.75e+00       1.10e-02       6.85e+03    \n",
      "       9             13         9.2201e+01      2.49e+00       2.36e-03       2.91e+03    \n",
      "      10             14         9.0703e+01      1.50e+00       3.16e-03       1.80e+03    \n",
      "      11             16         9.0091e+01      6.12e-01       1.37e-03       2.70e+03    \n",
      "      12             17         8.9297e+01      7.94e-01       1.60e-03       2.19e+03    \n",
      "      13             18         8.7802e+01      1.49e+00       3.14e-03       2.32e+03    \n",
      "      14             19         8.5305e+01      2.50e+00       6.42e-03       3.19e+03    \n",
      "      15             21         8.5266e+01      3.89e-02       2.41e-03       3.81e+03    \n",
      "      16             22         8.4601e+01      6.64e-01       7.22e-04       3.50e+03    \n",
      "      17             23         8.3489e+01      1.11e+00       1.48e-03       2.91e+03    \n",
      "      18             24         8.1978e+01      1.51e+00       3.12e-03       1.86e+03    \n",
      "      19             25         8.1870e+01      1.08e-01       5.74e-03       4.48e+03    \n",
      "      20             26         8.0248e+01      1.62e+00       1.34e-03       3.86e+03    \n",
      "      21             27         7.7936e+01      2.31e+00       2.81e-03       2.67e+03    \n",
      "      22             28         7.5942e+01      1.99e+00       6.31e-03       3.99e+03    \n",
      "      23             30         7.4957e+01      9.85e-01       1.19e-03       2.13e+03    \n",
      "      24             31         7.4285e+01      6.72e-01       1.61e-03       1.90e+03    \n",
      "      25             32         7.3148e+01      1.14e+00       3.04e-03       2.63e+03    \n",
      "      26             33         7.1192e+01      1.96e+00       6.26e-03       3.85e+03    \n",
      "      27             35         7.0269e+01      9.24e-01       1.19e-03       2.10e+03    \n",
      "      28             36         6.9636e+01      6.33e-01       1.62e-03       1.79e+03    \n",
      "      29             37         6.8765e+01      8.71e-01       2.96e-03       2.77e+03    \n",
      "      30             38         6.7280e+01      1.49e+00       3.02e-03       1.85e+03    \n",
      "      31             39         6.5341e+01      1.94e+00       6.19e-03       2.88e+03    \n",
      "      32             40         6.3115e+01      2.23e+00       5.83e-03       3.04e+03    \n",
      "      33             42         6.2482e+01      6.33e-01       1.20e-03       2.16e+03    \n",
      "      34             43         6.1841e+01      6.40e-01       1.60e-03       1.82e+03    \n",
      "      35             44         6.0641e+01      1.20e+00       3.18e-03       2.00e+03    \n",
      "      36             45         5.8862e+01      1.78e+00       6.47e-03       3.48e+03    \n",
      "      37             47         5.8094e+01      7.67e-01       1.19e-03       1.97e+03    \n",
      "      38             48         5.7508e+01      5.87e-01       1.62e-03       1.68e+03    \n",
      "      39             49         5.6534e+01      9.73e-01       3.10e-03       2.23e+03    \n",
      "      40             50         5.4894e+01      1.64e+00       6.19e-03       3.53e+03    \n",
      "      41             52         5.4122e+01      7.72e-01       1.19e-03       1.87e+03    \n",
      "      42             53         5.3563e+01      5.59e-01       1.62e-03       1.61e+03    \n",
      "      43             54         5.2663e+01      9.00e-01       3.10e-03       2.15e+03    \n",
      "      44             55         5.1108e+01      1.56e+00       6.12e-03       3.44e+03    \n",
      "      45             57         5.0377e+01      7.30e-01       1.19e-03       1.80e+03    \n",
      "      46             58         4.9840e+01      5.38e-01       1.61e-03       1.55e+03    \n",
      "      47             59         4.8939e+01      9.01e-01       3.13e-03       1.98e+03    \n",
      "      48             60         4.7501e+01      1.44e+00       6.17e-03       3.41e+03    \n",
      "      49             62         4.6792e+01      7.09e-01       1.19e-03       1.72e+03    \n",
      "      50             63         4.6280e+01      5.12e-01       1.61e-03       1.48e+03    \n",
      "      51             64         4.5414e+01      8.66e-01       3.15e-03       1.86e+03    \n",
      "      52             65         4.4082e+01      1.33e+00       6.16e-03       3.36e+03    \n",
      "      53             67         4.3404e+01      6.78e-01       1.19e-03       1.63e+03    \n",
      "      54             68         4.2917e+01      4.87e-01       1.61e-03       1.41e+03    \n",
      "      55             69         4.2077e+01      8.40e-01       3.17e-03       1.71e+03    \n",
      "      56             70         4.0845e+01      1.23e+00       6.20e-03       3.29e+03    \n",
      "      57             72         4.0202e+01      6.43e-01       1.19e-03       1.55e+03    \n",
      "      58             73         3.9741e+01      4.61e-01       1.60e-03       1.34e+03    \n",
      "      59             74         3.8926e+01      8.15e-01       3.19e-03       1.56e+03    \n",
      "      60             75         3.7777e+01      1.15e+00       6.26e-03       3.18e+03    \n",
      "      61             77         3.7186e+01      5.91e-01       1.19e-03       1.47e+03    \n",
      "      62             78         3.6749e+01      4.37e-01       1.58e-03       1.26e+03    \n",
      "      63             79         3.5950e+01      7.98e-01       3.22e-03       1.38e+03    \n",
      "      64             80         3.4807e+01      1.14e+00       6.40e-03       2.86e+03    \n",
      "      65             82         3.4346e+01      4.60e-01       1.19e-03       1.41e+03    \n",
      "      66             83         3.3922e+01      4.25e-01       1.53e-03       1.20e+03    \n",
      "      67             84         3.3193e+01      7.29e-01       3.26e-03       1.02e+03    \n",
      "      68             86         3.3101e+01      9.19e-02       1.38e-03       1.51e+03    \n",
      "      69             87         3.2961e+01      1.40e-01       3.45e-04       1.45e+03    \n",
      "      70             88         3.2714e+01      2.47e-01       7.17e-04       1.33e+03    \n",
      "      71             89         3.2317e+01      3.97e-01       1.53e-03       1.13e+03    \n",
      "      72             90         3.1592e+01      7.24e-01       3.25e-03       1.07e+03    \n",
      "      73             91         3.0822e+01      7.70e-01       6.35e-03       1.60e+03    \n",
      "      74             92         2.9711e+01      1.11e+00       4.65e-03       2.62e+03    \n",
      "      75             94         2.9368e+01      3.43e-01       1.19e-03       1.23e+03    \n",
      "      76             95         2.8989e+01      3.79e-01       1.44e-03       1.04e+03    \n",
      "      77             96         2.8398e+01      5.91e-01       3.25e-03       9.80e+02    \n",
      "      78             99         2.8305e+01      9.31e-02       3.28e-04       9.57e+02    \n",
      "      79             100        2.8226e+01      7.84e-02       4.01e-04       9.76e+02    \n",
      "      80             101        2.8070e+01      1.56e-01       8.14e-04       9.49e+02    \n",
      "      81             102        2.7771e+01      2.99e-01       1.61e-03       1.01e+03    \n",
      "      82             103        2.7225e+01      5.46e-01       3.22e-03       1.05e+03    \n",
      "      83             106        2.7131e+01      9.42e-02       3.22e-04       8.99e+02    \n",
      "      84             107        2.7057e+01      7.37e-02       3.98e-04       9.27e+02    \n",
      "      85             108        2.6911e+01      1.46e-01       8.15e-04       8.89e+02    \n",
      "      86             109        2.6652e+01      2.59e-01       1.59e-03       1.00e+03    \n",
      "      87             110        2.6157e+01      4.96e-01       3.09e-03       1.14e+03    \n",
      "      88             112        2.6046e+01      1.11e-01       6.31e-04       9.62e+02    \n",
      "      89             113        2.5894e+01      1.52e-01       7.76e-04       8.94e+02    \n",
      "      90             114        2.5623e+01      2.70e-01       1.62e-03       8.03e+02    \n",
      "      91             116        2.5518e+01      1.05e-01       7.52e-04       9.27e+02    \n",
      "      92             117        2.5371e+01      1.47e-01       7.78e-04       8.62e+02    \n",
      "      93             118        2.5110e+01      2.62e-01       1.62e-03       7.78e+02    \n",
      "      94             120        2.5011e+01      9.89e-02       7.49e-04       9.02e+02    \n",
      "      95             121        2.4868e+01      1.43e-01       7.73e-04       8.37e+02    \n",
      "      96             122        2.4614e+01      2.54e-01       1.62e-03       7.54e+02    \n",
      "      97             124        2.4521e+01      9.33e-02       7.48e-04       8.76e+02    \n",
      "      98             125        2.4382e+01      1.39e-01       7.67e-04       8.12e+02    \n",
      "      99             126        2.4136e+01      2.45e-01       1.62e-03       7.29e+02    \n",
      "      100            128        2.4049e+01      8.73e-02       7.46e-04       8.50e+02    \n",
      "      101            129        2.3913e+01      1.36e-01       7.61e-04       7.86e+02    \n",
      "      102            130        2.3677e+01      2.37e-01       1.62e-03       7.04e+02    \n",
      "      103            132        2.3596e+01      8.11e-02       7.44e-04       8.25e+02    \n",
      "      104            133        2.3463e+01      1.32e-01       7.54e-04       7.61e+02    \n",
      "      105            134        2.3235e+01      2.28e-01       1.61e-03       6.80e+02    \n",
      "      106            136        2.3160e+01      7.46e-02       7.42e-04       8.00e+02    \n",
      "      107            137        2.3032e+01      1.29e-01       7.46e-04       7.36e+02    \n",
      "      108            138        2.2812e+01      2.20e-01       1.61e-03       6.55e+02    \n",
      "      109            140        2.2744e+01      6.76e-02       7.38e-04       7.75e+02    \n",
      "      110            141        2.2618e+01      1.26e-01       7.39e-04       7.11e+02    \n",
      "      111            142        2.2406e+01      2.12e-01       1.61e-03       6.31e+02    \n",
      "      112            144        2.2346e+01      5.97e-02       7.32e-04       7.53e+02    \n",
      "      113            145        2.2223e+01      1.24e-01       7.31e-04       6.89e+02    \n",
      "      114            146        2.2018e+01      2.04e-01       1.61e-03       6.07e+02    \n",
      "      115            148        2.1966e+01      5.23e-02       7.27e-04       7.32e+02    \n",
      "      116            149        2.1844e+01      1.22e-01       7.24e-04       6.67e+02    \n",
      "      117            150        2.1647e+01      1.98e-01       1.61e-03       5.85e+02    \n",
      "      118            152        2.1601e+01      4.53e-02       7.22e-04       7.11e+02    \n",
      "      119            153        2.1481e+01      1.21e-01       7.19e-04       6.47e+02    \n",
      "      120            154        2.1289e+01      1.91e-01       1.61e-03       5.64e+02    \n",
      "      121            156        2.1251e+01      3.88e-02       7.18e-04       6.91e+02    \n",
      "      122            157        2.1131e+01      1.19e-01       7.14e-04       6.28e+02    \n",
      "      123            158        2.0946e+01      1.86e-01       1.62e-03       5.44e+02    \n",
      "      124            160        2.0913e+01      3.28e-02       7.15e-04       6.72e+02    \n",
      "      125            161        2.0794e+01      1.18e-01       7.11e-04       6.09e+02    \n",
      "      126            162        2.0614e+01      1.80e-01       1.62e-03       5.25e+02    \n",
      "      127            164        2.0587e+01      2.74e-02       7.13e-04       6.53e+02    \n",
      "      128            165        2.0554e+01      3.30e-02       1.77e-04       6.38e+02    \n",
      "      129            166        2.0494e+01      5.95e-02       3.68e-04       6.08e+02    \n",
      "      130            167        2.0394e+01      1.00e-01       7.88e-04       5.59e+02    \n",
      "      131            168        2.0215e+01      1.78e-01       1.68e-03       5.09e+02    \n",
      "      132            170        2.0184e+01      3.16e-02       7.33e-04       6.23e+02    \n",
      "      133            171        2.0071e+01      1.13e-01       7.20e-04       5.63e+02    \n",
      "      134            172        1.9900e+01      1.71e-01       1.66e-03       4.86e+02    \n",
      "      135            174        1.9883e+01      1.71e-02       7.10e-04       6.12e+02    \n",
      "      136            175        1.9850e+01      3.29e-02       1.77e-04       5.97e+02    \n",
      "      137            176        1.9791e+01      5.87e-02       3.68e-04       5.68e+02    \n",
      "      138            177        1.9694e+01      9.69e-02       7.95e-04       5.19e+02    \n",
      "      139            178        1.9524e+01      1.70e-01       1.72e-03       4.71e+02    \n",
      "      140            180        1.9502e+01      2.26e-02       7.35e-04       5.84e+02    \n",
      "      141            181        1.9470e+01      3.17e-02       1.80e-04       5.69e+02    \n",
      "      142            182        1.9414e+01      5.65e-02       3.76e-04       5.42e+02    \n",
      "      143            183        1.9320e+01      9.35e-02       8.11e-04       4.96e+02    \n",
      "      144            184        1.9154e+01      1.67e-01       1.74e-03       4.52e+02    \n",
      "      145            186        1.9132e+01      2.11e-02       7.44e-04       5.61e+02    \n",
      "      146            187        1.9101e+01      3.13e-02       1.81e-04       5.46e+02    \n",
      "      147            188        1.9046e+01      5.57e-02       3.79e-04       5.19e+02    \n",
      "      148            189        1.8954e+01      9.15e-02       8.20e-04       4.74e+02    \n",
      "      149            190        1.8791e+01      1.63e-01       1.77e-03       4.33e+02    \n",
      "      150            192        1.8773e+01      1.79e-02       7.49e-04       5.39e+02    \n",
      "      151            193        1.8742e+01      3.11e-02       1.82e-04       5.25e+02    \n",
      "      152            194        1.8687e+01      5.52e-02       3.81e-04       4.99e+02    \n",
      "      153            195        1.8597e+01      9.00e-02       8.27e-04       4.54e+02    \n",
      "      154            196        1.8437e+01      1.60e-01       1.79e-03       4.14e+02    \n",
      "      155            198        1.8423e+01      1.44e-02       7.52e-04       5.18e+02    \n",
      "      156            199        1.8392e+01      3.11e-02       1.83e-04       5.04e+02    \n",
      "      157            200        1.8337e+01      5.49e-02       3.83e-04       4.79e+02    \n",
      "      158            201        1.8248e+01      8.86e-02       8.34e-04       4.35e+02    \n",
      "      159            202        1.8092e+01      1.56e-01       1.82e-03       3.95e+02    \n",
      "      160            204        1.8081e+01      1.09e-02       7.56e-04       5.03e+02    \n",
      "      161            205        1.8050e+01      3.10e-02       1.83e-04       4.84e+02    \n",
      "      162            206        1.7995e+01      5.46e-02       3.84e-04       4.59e+02    \n",
      "      163            207        1.7908e+01      8.74e-02       8.40e-04       4.16e+02    \n",
      "      164            208        1.7754e+01      1.53e-01       1.84e-03       3.77e+02    \n",
      "      165            210        1.7747e+01      7.50e-03       7.59e-04       5.23e+02    \n",
      "      166            211        1.7716e+01      3.10e-02       1.84e-04       5.03e+02    \n",
      "      167            212        1.7662e+01      5.44e-02       3.85e-04       4.66e+02    \n",
      "      168            213        1.7575e+01      8.63e-02       8.46e-04       4.04e+02    \n",
      "      169            214        1.7425e+01      1.50e-01       1.87e-03       3.60e+02    \n",
      "      170            216        1.7421e+01      4.18e-03       7.61e-04       5.42e+02    \n",
      "      171            217        1.7390e+01      3.09e-02       1.84e-04       5.21e+02    \n",
      "      172            218        1.7336e+01      5.42e-02       3.87e-04       4.83e+02    \n",
      "      173            219        1.7250e+01      8.52e-02       8.52e-04       4.19e+02    \n",
      "      174            220        1.7103e+01      1.48e-01       1.89e-03       3.73e+02    \n",
      "      175            222        1.7102e+01      9.41e-04       7.64e-04       5.58e+02    \n",
      "      176            223        1.7071e+01      3.09e-02       1.84e-04       5.37e+02    \n",
      "      177            224        1.7017e+01      5.40e-02       3.87e-04       4.98e+02    \n",
      "      178            225        1.6933e+01      8.42e-02       8.56e-04       4.32e+02    \n",
      "      179            226        1.6788e+01      1.45e-01       1.92e-03       3.84e+02    \n",
      "      180            229        1.6768e+01      1.97e-02       1.91e-04       4.31e+02    \n",
      "      181            230        1.6749e+01      1.89e-02       2.41e-04       4.29e+02    \n",
      "      182            231        1.6712e+01      3.77e-02       4.81e-04       4.33e+02    \n",
      "      183            232        1.6637e+01      7.49e-02       9.66e-04       4.27e+02    \n",
      "      184            233        1.6507e+01      1.30e-01       1.90e-03       5.16e+02    \n",
      "      185            234        1.6358e+01      1.49e-01       3.49e-03       1.49e+03    \n",
      "      186            236        1.6230e+01      1.28e-01       5.94e-04       5.09e+02    \n",
      "      187            237        1.6154e+01      7.68e-02       9.13e-04       4.47e+02    \n",
      "      188            238        1.6010e+01      1.43e-01       1.97e-03       4.77e+02    \n",
      "      189            239        1.5784e+01      2.27e-01       3.94e-03       1.00e+03    \n",
      "      190            241        1.5751e+01      3.31e-02       6.12e-04       5.84e+02    \n",
      "      191            242        1.5723e+01      2.72e-02       1.98e-04       5.63e+02    \n",
      "      192            243        1.5676e+01      4.71e-02       4.19e-04       5.23e+02    \n",
      "      193            244        1.5602e+01      7.41e-02       9.29e-04       4.60e+02    \n",
      "      194            245        1.5467e+01      1.35e-01       2.00e-03       5.06e+02    \n",
      "      195            246        1.5284e+01      1.83e-01       3.92e-03       1.22e+03    \n",
      "      196            248        1.5209e+01      7.41e-02       6.01e-04       5.68e+02    \n",
      "      197            249        1.5129e+01      8.06e-02       8.58e-04       4.89e+02    \n",
      "      198            250        1.5002e+01      1.27e-01       2.05e-03       4.21e+02    \n",
      "      199            253        1.4983e+01      1.88e-02       1.88e-04       4.75e+02    \n",
      "      200            254        1.4966e+01      1.69e-02       2.58e-04       4.75e+02    \n",
      "      201            255        1.4932e+01      3.38e-02       5.16e-04       4.75e+02    \n",
      "      202            256        1.4865e+01      6.74e-02       1.03e-03       4.76e+02    \n",
      "      203            257        1.4731e+01      1.34e-01       2.07e-03       4.85e+02    \n",
      "      204            258        1.4497e+01      2.34e-01       4.18e-03       7.33e+02    \n",
      "      205            261        1.4457e+01      3.99e-02       3.21e-04       5.07e+02    \n",
      "      206            262        1.4424e+01      3.36e-02       5.18e-04       4.85e+02    \n",
      "      207            263        1.4360e+01      6.39e-02       1.06e-03       4.61e+02    \n",
      "      208            265        1.4334e+01      2.59e-02       4.79e-04       5.22e+02    \n",
      "      209            266        1.4300e+01      3.46e-02       5.06e-04       4.95e+02    \n",
      "      210            267        1.4236e+01      6.34e-02       1.06e-03       4.62e+02    \n",
      "      211            269        1.4210e+01      2.57e-02       4.81e-04       5.23e+02    \n",
      "      212            270        1.4176e+01      3.43e-02       5.08e-04       4.95e+02    \n",
      "      213            271        1.4113e+01      6.29e-02       1.06e-03       4.63e+02    \n",
      "      214            273        1.4088e+01      2.53e-02       4.82e-04       5.24e+02    \n",
      "      215            274        1.4054e+01      3.41e-02       5.09e-04       4.96e+02    \n",
      "      216            275        1.3992e+01      6.24e-02       1.06e-03       4.63e+02    \n",
      "      217            277        1.3967e+01      2.49e-02       4.83e-04       5.24e+02    \n",
      "      218            278        1.3933e+01      3.39e-02       5.10e-04       4.96e+02    \n",
      "      219            279        1.3871e+01      6.18e-02       1.07e-03       4.63e+02    \n",
      "      220            281        1.3846e+01      2.46e-02       4.84e-04       5.25e+02    \n",
      "      221            282        1.3813e+01      3.37e-02       5.11e-04       4.97e+02    \n",
      "      222            283        1.3751e+01      6.14e-02       1.07e-03       4.63e+02    \n",
      "      223            285        1.3727e+01      2.42e-02       4.85e-04       5.26e+02    \n",
      "      224            286        1.3694e+01      3.35e-02       5.11e-04       4.97e+02    \n",
      "      225            287        1.3633e+01      6.09e-02       1.07e-03       4.63e+02    \n",
      "      226            289        1.3609e+01      2.39e-02       4.85e-04       5.26e+02    \n",
      "      227            290        1.3576e+01      3.33e-02       5.12e-04       4.97e+02    \n",
      "      228            291        1.3515e+01      6.04e-02       1.08e-03       4.63e+02    \n",
      "      229            293        1.3492e+01      2.35e-02       4.86e-04       5.26e+02    \n",
      "      230            294        1.3459e+01      3.31e-02       5.13e-04       4.97e+02    \n",
      "      231            295        1.3399e+01      5.99e-02       1.08e-03       4.63e+02    \n",
      "      232            297        1.3375e+01      2.32e-02       4.87e-04       5.26e+02    \n",
      "      233            298        1.3342e+01      3.29e-02       5.13e-04       4.97e+02    \n",
      "      234            299        1.3283e+01      5.95e-02       1.08e-03       4.62e+02    \n",
      "      235            300        1.3283e+01      0.00e+00       0.00e+00       4.62e+02    \n",
      "The maximum number of function evaluations is exceeded.\n",
      "Function evaluations 300, initial cost 1.6025e+04, final cost 1.3283e+01, first-order optimality 4.62e+02.\n"
     ]
    }
   ],
   "source": [
    "def cost_function(x, strikes, mkt_prices):\n",
    "    sigma, theta, nu = x\n",
    "    VG = VG_pricer(S0, None, T, r, q, sigma, theta, nu, exercise)\n",
    "    prices = []\n",
    "    for k in strikes:\n",
    "        prices.append(VG.closed_formula_put(k))\n",
    "    sq_err = np.sum(p_weights*(prices - mkt_prices)**2)\n",
    "    return sq_err\n",
    "\n",
    "start2=time.time()\n",
    "vg2 = scpo.least_squares(cost_function, x0, args=(put_strikes, put_prices),  method='trf', bounds=bounds, verbose=2, loss='soft_l1')\n",
    "end2=time.time()\n",
    "\n",
    "vg_params2 = [round(p,4) for p in vg2.x[:3]]"
   ],
   "metadata": {
    "collapsed": false
   }
  },
  {
   "cell_type": "code",
   "execution_count": 64,
   "outputs": [
    {
     "name": "stdout",
     "output_type": "stream",
     "text": [
      "WEIGHTED OPT: CURVE_FIT (trf)\n",
      "> Calibrated Volatlity [σ] = 0.4335, \t 43.35%\n",
      "> Calibrated mean rate gamma process [θ] =  0.0852\n",
      "> Calibrated variance rate gamma process [v]=  1.2185\n",
      "TIME ELAPSED:  27.63 sec\n",
      "METHOD 1: LEAST-SQUARES (trf)\n",
      "> Calibrated Volatlity [σ] = 0.3938, \t 39.38%\n",
      "> Calibrated mean rate gamma process [θ] =  0.0371\n",
      "> Calibrated variance rate gamma process [v]=  0.2901\n",
      "TIME ELAPSED:  208.89 sec\n"
     ]
    }
   ],
   "source": [
    "print('WEIGHTED OPT: CURVE_FIT (trf)')\n",
    "print(f'> Calibrated Volatlity [σ] = {vg_params1[0]}, \\t {round(vg_params1[0]*100,2)}%')\n",
    "print('> Calibrated mean rate gamma process [θ] = ', vg_params1[1])\n",
    "print('> Calibrated variance rate gamma process [v]= ', vg_params1[2])\n",
    "print(f'TIME ELAPSED:  {round(end1-start1,2)} sec')\n",
    "\n",
    "print('METHOD 1: LEAST-SQUARES (trf)')\n",
    "print(f'> Calibrated Volatlity [σ] = {vg_params2[0]}, \\t {round(vg_params2[0]*100,2)}%')\n",
    "print('> Calibrated mean rate gamma process [θ] = ', vg_params2[1])\n",
    "print('> Calibrated variance rate gamma process [v]= ', vg_params2[2])\n",
    "print(f'TIME ELAPSED:  {round(end2-start2,2)} sec')"
   ],
   "metadata": {
    "collapsed": false
   }
  },
  {
   "cell_type": "code",
   "execution_count": 65,
   "outputs": [
    {
     "name": "stdout",
     "output_type": "stream",
     "text": [
      "[0.4335, 0.0852, 1.2185]\n",
      "[0.3938, 0.0371, 0.2901]\n"
     ]
    }
   ],
   "source": [
    "print(vg_params1)\n",
    "print(vg_params2)"
   ],
   "metadata": {
    "collapsed": false
   }
  },
  {
   "cell_type": "markdown",
   "source": [
    "### Reprice of options using calibrated parameters\n",
    "The following code snippet aims to find the best parameters for each model, minimizing the difference between the monte carlo prices and the market prices of **call** and **put** options."
   ],
   "metadata": {
    "collapsed": false
   },
   "outputs": []
  },
  {
   "cell_type": "code",
   "execution_count": 66,
   "outputs": [
    {
     "name": "stdout",
     "output_type": "stream",
     "text": [
      "MARKET PRICES. STARTING DATE = 20-01-2016. EXPIRY = 1YEAR. \n",
      "\n",
      "    STRIKE  MKT_BID  MKT_MID  MKT_ASK\n",
      "0     75.0     4.40    4.445     4.49\n",
      "1     80.0     5.80    5.875     5.95\n",
      "2     85.0     7.50    7.575     7.65\n",
      "3     87.5     8.44    8.520     8.60\n",
      "4     90.0     9.55    9.600     9.65\n",
      "5     92.5    10.70   10.755    10.81\n",
      "6     95.0    11.90   11.970    12.04\n",
      "7     97.5    13.15   13.255    13.36\n",
      "8    100.0    14.51   14.635    14.76\n",
      "9    105.0    17.50   17.605    17.71\n",
      "10   110.0    20.75   20.870    20.99\n",
      "11   115.0    24.29   24.445    24.60\n",
      "12   120.0    28.04   28.195    28.35\n",
      "13   125.0    32.06   32.230    32.40\n",
      "14   130.0    36.35   36.520    36.69\n"
     ]
    }
   ],
   "source": [
    "days = 252\n",
    "paths = 5000\n",
    "\n",
    "put_calib_prices = pd.DataFrame({\n",
    "    'STRIKE': puts['STRIKE'],    # array of K for call options\n",
    "    'MKT_BID': puts['P_BID'],\n",
    "    'MKT_MID': puts['P_Midpoint'],\n",
    "    'MKT_ASK': puts['P_ASK'],\n",
    "\n",
    "})\n",
    "print(f'MARKET PRICES. STARTING DATE = 20-01-2016. EXPIRY = 1YEAR. \\n\\n{put_calib_prices}')"
   ],
   "metadata": {
    "collapsed": false
   }
  },
  {
   "cell_type": "markdown",
   "source": [
    "#### Merton Jump Diffusion model"
   ],
   "metadata": {
    "collapsed": false
   }
  },
  {
   "cell_type": "code",
   "execution_count": 67,
   "outputs": [
    {
     "name": "stdout",
     "output_type": "stream",
     "text": [
      "    STRIKE  MKT_BID  MKT_MID  MKT_ASK  MERTON MC  MERTON CF\n",
      "0     75.0     4.40    4.445     4.49   3.702611   3.639028\n",
      "1     80.0     5.80    5.875     5.95   5.399722   5.317692\n",
      "2     85.0     7.50    7.575     7.65   7.421279   7.327747\n",
      "3     87.5     8.44    8.520     8.60   8.549330   8.452407\n",
      "4     90.0     9.55    9.600     9.65   9.761701   9.653123\n",
      "5     92.5    10.70   10.755    10.81  11.049478  10.926520\n",
      "6     95.0    11.90   11.970    12.04  12.398533  12.269021\n",
      "7     97.5    13.15   13.255    13.36  13.804829  13.677046\n",
      "8    100.0    14.51   14.635    14.76  15.275636  15.147135\n",
      "9    105.0    17.50   17.605    17.71  18.376938  18.260404\n",
      "10   110.0    20.75   20.870    20.99  21.682730  21.583834\n",
      "11   115.0    24.29   24.445    24.60  25.183083  25.093831\n",
      "12   120.0    28.04   28.195    28.35  28.858255  28.768161\n",
      "13   125.0    32.06   32.230    32.40  32.660533  32.586485\n",
      "14   130.0    36.35   36.520    36.69  36.593032  36.530749\n"
     ]
    }
   ],
   "source": [
    "#mert_params2 = [0.1267, 0.951, -0.1182, 0.2691]\n",
    "sigma, lambd, meanJ, stdJ = mert_params2\n",
    "MertonCAL = Merton_pricer(S0, None, T, r, q, sigma, lambd, meanJ, stdJ, exercise)\n",
    "SMerton_CAL = MertonCAL.MertonPath(days, paths)\n",
    "\n",
    "avg_payoffs = []\n",
    "for K in put_strikes:\n",
    "    payoffs = []        # stores here the payoff for each path, for a specific couple K1-K2\n",
    "    for St in SMerton_CAL[-1]:\n",
    "        payoffs.append(MertonCAL.payoff_put(K, St))\n",
    "    avg_payoffs.append(np.mean(payoffs))\n",
    "\n",
    "merton_mc_prices = np.zeros(len(put_calib_prices))\n",
    "merton_cf_prices = np.zeros(len(put_calib_prices))\n",
    "\n",
    "for index in range(len(put_calib_prices)):\n",
    "    merton_mc_prices[index] = np.exp(-r*T)* avg_payoffs[index]\n",
    "    merton_cf_prices[index] = MertonCAL.closed_formula_put(put_strikes[index])\n",
    "\n",
    "put_calib_prices['MERTON MC'] = merton_mc_prices\n",
    "put_calib_prices['MERTON CF'] = merton_cf_prices\n",
    "\n",
    "print(put_calib_prices)"
   ],
   "metadata": {
    "collapsed": false
   }
  },
  {
   "cell_type": "code",
   "execution_count": 68,
   "outputs": [
    {
     "name": "stdout",
     "output_type": "stream",
     "text": [
      "    STRIKE  MKT_BID  MKT_MID  MKT_ASK  MERTON MC  MERTON CF     KOU MC   \n",
      "0     75.0     4.40    4.445     4.49   3.702611   3.639028   4.165545  \\\n",
      "1     80.0     5.80    5.875     5.95   5.399722   5.317692   5.778289   \n",
      "2     85.0     7.50    7.575     7.65   7.421279   7.327747   7.713803   \n",
      "3     87.5     8.44    8.520     8.60   8.549330   8.452407   8.796307   \n",
      "4     90.0     9.55    9.600     9.65   9.761701   9.653123   9.945225   \n",
      "5     92.5    10.70   10.755    10.81  11.049478  10.926520  11.165854   \n",
      "6     95.0    11.90   11.970    12.04  12.398533  12.269021  12.448996   \n",
      "7     97.5    13.15   13.255    13.36  13.804829  13.677046  13.798767   \n",
      "8    100.0    14.51   14.635    14.76  15.275636  15.147135  15.215654   \n",
      "9    105.0    17.50   17.605    17.71  18.376938  18.260404  18.234737   \n",
      "10   110.0    20.75   20.870    20.99  21.682730  21.583834  21.484824   \n",
      "11   115.0    24.29   24.445    24.60  25.183083  25.093831  24.924925   \n",
      "12   120.0    28.04   28.195    28.35  28.858255  28.768161  28.556401   \n",
      "13   125.0    32.06   32.230    32.40  32.660533  32.586485  32.361365   \n",
      "14   130.0    36.35   36.520    36.69  36.593032  36.530749  36.311913   \n",
      "\n",
      "       KOU CF  \n",
      "0    4.103291  \n",
      "1    5.661919  \n",
      "2    7.525227  \n",
      "3    8.570230  \n",
      "4    9.689339  \n",
      "5   10.880949  \n",
      "6   12.143126  \n",
      "7   13.473659  \n",
      "8   14.870123  \n",
      "9   17.850342  \n",
      "10  21.061844  \n",
      "11  24.482002  \n",
      "12  28.088472  \n",
      "13  31.859867  \n",
      "14  35.776208  \n"
     ]
    }
   ],
   "source": [
    "#kou_params2 = [0.1278, 0.948, 0.3549, 5.7153, 4.232]\n",
    "sigma, lambd, p, eta1, eta2 = kou_params2\n",
    "KouCAL = Kou_pricer(S0, None, T, r, sigma, lambd, p, eta1, eta2, exercise)\n",
    "SKou_CAL = KouCAL.KouPath(days, paths)\n",
    "\n",
    "avg_payoffs = []\n",
    "for k in put_strikes:\n",
    "    payoffs = []        # stores here the payoff for each path, for a specific couple K1-K2\n",
    "    for St in SKou_CAL[-1]:\n",
    "        payoffs.append(KouCAL.payoff_put(k, St))\n",
    "    avg_payoffs.append(np.mean(payoffs))\n",
    "\n",
    "kou_mc_prices = np.zeros(len(put_calib_prices))\n",
    "kou_cf_prices = np.zeros(len(put_calib_prices))\n",
    "\n",
    "for index in range(len(put_calib_prices)):\n",
    "    kou_mc_prices[index] = np.exp(-r*T)* avg_payoffs[index]\n",
    "    kou_cf_prices[index] = KouCAL.closed_formula_put(put_strikes[index])\n",
    "\n",
    "put_calib_prices['KOU MC'] = kou_mc_prices\n",
    "put_calib_prices['KOU CF'] = kou_cf_prices\n",
    "\n",
    "print(put_calib_prices)"
   ],
   "metadata": {
    "collapsed": false
   }
  },
  {
   "cell_type": "code",
   "execution_count": 69,
   "outputs": [
    {
     "name": "stdout",
     "output_type": "stream",
     "text": [
      "    STRIKE  MKT_BID  MKT_MID  MKT_ASK  MERTON MC  MERTON CF     KOU MC   \n",
      "0     75.0     4.40    4.445     4.49   3.702611   3.639028   4.165545  \\\n",
      "1     80.0     5.80    5.875     5.95   5.399722   5.317692   5.778289   \n",
      "2     85.0     7.50    7.575     7.65   7.421279   7.327747   7.713803   \n",
      "3     87.5     8.44    8.520     8.60   8.549330   8.452407   8.796307   \n",
      "4     90.0     9.55    9.600     9.65   9.761701   9.653123   9.945225   \n",
      "5     92.5    10.70   10.755    10.81  11.049478  10.926520  11.165854   \n",
      "6     95.0    11.90   11.970    12.04  12.398533  12.269021  12.448996   \n",
      "7     97.5    13.15   13.255    13.36  13.804829  13.677046  13.798767   \n",
      "8    100.0    14.51   14.635    14.76  15.275636  15.147135  15.215654   \n",
      "9    105.0    17.50   17.605    17.71  18.376938  18.260404  18.234737   \n",
      "10   110.0    20.75   20.870    20.99  21.682730  21.583834  21.484824   \n",
      "11   115.0    24.29   24.445    24.60  25.183083  25.093831  24.924925   \n",
      "12   120.0    28.04   28.195    28.35  28.858255  28.768161  28.556401   \n",
      "13   125.0    32.06   32.230    32.40  32.660533  32.586485  32.361365   \n",
      "14   130.0    36.35   36.520    36.69  36.593032  36.530749  36.311913   \n",
      "\n",
      "       KOU CF      VG MC      VG CF  \n",
      "0    4.103291   4.149160   4.267560  \n",
      "1    5.661919   5.659726   5.762119  \n",
      "2    7.525227   7.506321   7.559142  \n",
      "3    8.570230   8.549927   8.573294  \n",
      "4    9.689339   9.671869   9.664446  \n",
      "5   10.880949  10.863151  10.831749  \n",
      "6   12.143126  12.129907  12.073771  \n",
      "7   13.473659  13.461148  13.388560  \n",
      "8   14.870123  14.865514  14.773711  \n",
      "9   17.850342  17.868327  17.743770  \n",
      "10  21.061844  21.104704  20.959113  \n",
      "11  24.482002  24.540181  24.393186  \n",
      "12  28.088472  28.175714  28.019696  \n",
      "13  31.859867  31.981973  31.813866  \n",
      "14  35.776208  35.938536  35.753108  \n"
     ]
    }
   ],
   "source": [
    "# vg_params2 = [0.2442, 0.1983, 0.9451]\n",
    "sigma, theta, nu = vg_params2\n",
    "VGCAL = VG_pricer(S0, None, T, r, q, sigma, theta, nu, exercise)\n",
    "SVarGamma_CAL = VGCAL.VarianceGammaPath1(days, paths)\n",
    "\n",
    "avg_payoffs = []\n",
    "for K in put_strikes:\n",
    "    payoffs = []        # stores here the payoff for each path, for a specific couple K1-K2\n",
    "    for St in SVarGamma_CAL[-1]:\n",
    "        payoffs.append(VGCAL.payoff_put(K, St))\n",
    "    avg_payoffs.append(np.mean(payoffs))\n",
    "\n",
    "vg_mc_prices = np.zeros(len(put_calib_prices))\n",
    "vg_cf_prices = np.zeros(len(put_calib_prices))\n",
    "\n",
    "for index in range(len(put_calib_prices)):\n",
    "    vg_mc_prices[index] = np.exp(-r*T)* avg_payoffs[index]\n",
    "    vg_cf_prices[index] = VGCAL.closed_formula_put(put_strikes[index])\n",
    "\n",
    "put_calib_prices['VG MC'] = vg_mc_prices\n",
    "put_calib_prices['VG CF'] = vg_cf_prices\n",
    "\n",
    "print(put_calib_prices)"
   ],
   "metadata": {
    "collapsed": false
   }
  },
  {
   "cell_type": "markdown",
   "source": [
    "### Visualize calibration results\n",
    "#### Closed Formulas Option pricing"
   ],
   "metadata": {
    "collapsed": false
   },
   "outputs": []
  },
  {
   "cell_type": "code",
   "execution_count": 70,
   "outputs": [
    {
     "data": {
      "text/plain": "<Figure size 2000x400 with 3 Axes>",
      "image/png": "[encoded data removed]"
     },
     "metadata": {},
     "output_type": "display_data"
    }
   ],
   "source": [
    "fig = plt.figure(figsize=(20, 4))\n",
    "ax1 = fig.add_subplot(131)\n",
    "ax2 = fig.add_subplot(132)\n",
    "ax3 = fig.add_subplot(133)\n",
    "ax1.plot(put_strikes, put_prices, \".\", label=\"midpoint\")\n",
    "ax2.plot(put_strikes, put_prices, \".\", label=\"midpoint\")\n",
    "ax3.plot(put_strikes, put_prices, \".\", label=\"midpoint\")\n",
    "ax1.plot(put_strikes, merton_cf_prices, label=\"Merton\")\n",
    "ax2.plot(put_strikes, kou_cf_prices, label=\"Kou\")\n",
    "ax3.plot(put_strikes, vg_cf_prices, label=\"VG\")\n",
    "ax1.set_title(\"Merton model\")\n",
    "ax2.set_title(\"Kou model\")\n",
    "ax3.set_title(\"VG model\")\n",
    "ax1.set_xlabel(\"strike\")\n",
    "ax2.set_xlabel(\"strike\")\n",
    "ax3.set_xlabel(\"strike\")\n",
    "ax1.legend()\n",
    "ax2.legend()\n",
    "ax3.legend()\n",
    "plt.show()"
   ],
   "metadata": {
    "collapsed": false
   }
  },
  {
   "cell_type": "markdown",
   "source": [
    "\n",
    "#### Monte Carlo option pricing"
   ],
   "metadata": {
    "collapsed": false
   }
  },
  {
   "cell_type": "code",
   "execution_count": 71,
   "outputs": [
    {
     "data": {
      "text/plain": "<Figure size 1700x400 with 3 Axes>",
      "image/png": "[encoded data removed]"
     },
     "metadata": {},
     "output_type": "display_data"
    }
   ],
   "source": [
    "fig = plt.figure(figsize=(17, 4))\n",
    "ax1 = fig.add_subplot(131)\n",
    "ax2 = fig.add_subplot(132)\n",
    "ax3 = fig.add_subplot(133)\n",
    "ax1.plot(put_strikes, put_prices, \".\", label=\"midpoint\")\n",
    "ax2.plot(put_strikes, put_prices, \".\", label=\"midpoint\")\n",
    "ax3.plot(put_strikes, put_prices, \".\", label=\"midpoint\")\n",
    "ax1.plot(put_strikes, merton_mc_prices, label=\"Merton\")\n",
    "ax2.plot(put_strikes, kou_mc_prices, label=\"Kou\")\n",
    "ax3.plot(put_strikes, vg_mc_prices, label=\"VG\")\n",
    "ax1.set_title(\"Merton model\")\n",
    "ax2.set_title(\"Kou model\")\n",
    "ax3.set_title(\"VG model\")\n",
    "ax1.set_xlabel(\"strike\")\n",
    "ax2.set_xlabel(\"strike\")\n",
    "ax3.set_xlabel(\"strike\")\n",
    "ax1.legend()\n",
    "ax2.legend()\n",
    "ax3.legend()\n",
    "plt.show()"
   ],
   "metadata": {
    "collapsed": false
   }
  },
  {
   "cell_type": "code",
   "execution_count": null,
   "outputs": [],
   "source": [],
   "metadata": {
    "collapsed": false
   }
  },
  {
   "cell_type": "code",
   "execution_count": null,
   "outputs": [],
   "source": [],
   "metadata": {
    "collapsed": false
   }
  }
 ],
 "metadata": {
  "kernelspec": {
   "display_name": "Python 3",
   "language": "python",
   "name": "python3"
  },
  "language_info": {
   "codemirror_mode": {
    "name": "ipython",
    "version": 2
   },
   "file_extension": ".py",
   "mimetype": "text/x-python",
   "name": "python",
   "nbconvert_exporter": "python",
   "pygments_lexer": "ipython2",
   "version": "2.7.6"
  }
 },
 "nbformat": 4,
 "nbformat_minor": 0
}
