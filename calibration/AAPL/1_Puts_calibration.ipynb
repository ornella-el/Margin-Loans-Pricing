{
 "cells": [
  {
   "cell_type": "markdown",
   "source": [
    "# Calibration of Black and Scholes, Merton, Kou, Variance Gamma parameters\n",
    "This notebook aims to find the optimal parameters of **Black-Scholes**, **Merton Jump Diffusion**, **Kou Jump Diffusion** and **Variance Gamma** models. To do so, we compute the european option prices using **closed formulas**, available for all the 4 models, and the **Fast Fourier Transform** for the VG model. Given these theoretical prices, the **implied volatilities** are computed comparing them with real market prices, minimizing their difference. Then we estimate the additional parameters of each model, using the python module `scipy.optimize`.\n",
    "\n",
    "*reference: https://github.com/cantaro86/Financial-Models-Numerical-Methods/tree/master*\n"
   ],
   "metadata": {
    "collapsed": false
   }
  },
  {
   "cell_type": "code",
   "execution_count": 1,
   "metadata": {
    "collapsed": true,
    "ExecuteTime": {
     "end_time": "2023-09-16T22:52:17.309379500Z",
     "start_time": "2023-09-16T22:52:16.760998400Z"
    }
   },
   "outputs": [],
   "source": [
    "import numpy as np\n",
    "import pandas as pd\n",
    "import matplotlib.pyplot as plt\n",
    "import random\n",
    "import scipy.optimize as scpo\n",
    "import sys\n",
    "sys.path.append('C:/Users\\ornel\\PycharmProjects\\Margin-Loans-Pricing/functions')\n",
    "sys.path.append('C:/Users/ornel/PycharmProjects/Margin-Loans-Pricing/calibration')\n",
    "import time\n",
    "\n",
    "from MERTONpricer import Merton_pricer\n",
    "from BSpricer import BS_Pricer\n",
    "from KOUpricer import Kou_pricer\n",
    "from VGpricer import VG_pricer\n",
    "\n",
    "random.seed(110)"
   ]
  },
  {
   "cell_type": "markdown",
   "source": [
    "Let's start retrieving historical prices for **european call** and **put** options starting from date **2016-01-20** and expiring **1 year** later. All the data have been collected from [OptionsDX](https://www.optionsdx.com/shop/) and preprocessed in `plainvanilla.py` module. Only options such that the moneyness\n",
    "$$ K/S0 \\in [0.75, 1.35] $$ have been selected."
   ],
   "metadata": {
    "collapsed": false
   }
  },
  {
   "cell_type": "code",
   "execution_count": 2,
   "outputs": [
    {
     "name": "stdout",
     "output_type": "stream",
     "text": [
      "NUM OF PUT OPTS: 15\n",
      "    QUOTE_DATE  UNDERLYING_LAST EXPIRE_DATE  P_BID  P_ASK  STRIKE     P_IV  \\\n",
      "0   2016-01-20            96.79  2017-01-20   4.40   4.49    75.0  0.36617   \n",
      "1   2016-01-20            96.79  2017-01-20   5.80   5.95    80.0  0.35755   \n",
      "2   2016-01-20            96.79  2017-01-20   7.50   7.65    85.0  0.34912   \n",
      "3   2016-01-20            96.79  2017-01-20   8.44   8.60    87.5  0.34493   \n",
      "4   2016-01-20            96.79  2017-01-20   9.55   9.65    90.0  0.34241   \n",
      "5   2016-01-20            96.79  2017-01-20  10.70  10.81    92.5  0.33994   \n",
      "6   2016-01-20            96.79  2017-01-20  11.90  12.04    95.0  0.33684   \n",
      "7   2016-01-20            96.79  2017-01-20  13.15  13.36    97.5  0.33399   \n",
      "8   2016-01-20            96.79  2017-01-20  14.51  14.76   100.0  0.33138   \n",
      "9   2016-01-20            96.79  2017-01-20  17.50  17.71   105.0  0.32641   \n",
      "10  2016-01-20            96.79  2017-01-20  20.75  20.99   110.0  0.32280   \n",
      "11  2016-01-20            96.79  2017-01-20  24.29  24.60   115.0  0.32109   \n",
      "12  2016-01-20            96.79  2017-01-20  28.04  28.35   120.0  0.31789   \n",
      "13  2016-01-20            96.79  2017-01-20  32.06  32.40   125.0  0.31712   \n",
      "14  2016-01-20            96.79  2017-01-20  36.35  36.69   130.0  0.32156   \n",
      "\n",
      "    MONEYNESS  \n",
      "0        0.77  \n",
      "1        0.83  \n",
      "2        0.88  \n",
      "3        0.90  \n",
      "4        0.93  \n",
      "5        0.96  \n",
      "6        0.98  \n",
      "7        1.01  \n",
      "8        1.03  \n",
      "9        1.08  \n",
      "10       1.14  \n",
      "11       1.19  \n",
      "12       1.24  \n",
      "13       1.29  \n",
      "14       1.34  \n"
     ]
    }
   ],
   "source": [
    "df_put = pd.read_csv('../../data/AAPL/OPT16_AAPL_PUTS_75_135.csv')\n",
    "print(f'NUM OF PUT OPTS: {df_put.shape[0]}')\n",
    "print(df_put)"
   ],
   "metadata": {
    "collapsed": false,
    "ExecuteTime": {
     "end_time": "2023-09-16T22:52:31.034095100Z",
     "start_time": "2023-09-16T22:52:30.954799900Z"
    }
   }
  },
  {
   "cell_type": "markdown",
   "source": [
    "The dataframe **df_put** contains 45 options sorted by strike price. We'll use the full range of options for parameters calibration purposes. Then, we reformulate the dataframe adding **Midpoint** and **Spread** columns."
   ],
   "metadata": {
    "collapsed": false
   }
  },
  {
   "cell_type": "code",
   "execution_count": 3,
   "outputs": [],
   "source": [
    "puts = df_put.sample(frac=1, replace=False).sort_index().reset_index(drop=True)\n",
    "\n",
    "puts['P_Midpoint'] = abs(puts['P_BID'] + puts['P_ASK']) / 2\n",
    "puts['P_Spread'] = puts['P_BID'] - puts['P_ASK']\n",
    "put_prices = puts['P_Midpoint']\n",
    "\n",
    "\n",
    "q = 0           # dividend yield\n",
    "r = 0.03        # risk-free interest rate\n",
    "sigma = 0.3     #volatility (variance of diffusion process)\n",
    "S0 = puts.iloc[0]['UNDERLYING_LAST']\n",
    "T = 1           # time-to-maturity\n",
    "put_strikes = puts['STRIKE']      # array of K for put options\n",
    "exercise = 'european'\n"
   ],
   "metadata": {
    "collapsed": false,
    "ExecuteTime": {
     "end_time": "2023-09-16T22:52:32.938943800Z",
     "start_time": "2023-09-16T22:52:32.907005500Z"
    }
   }
  },
  {
   "cell_type": "markdown",
   "source": [
    "The following code snippet initializes objects of class *BS_pricer*, *Merton_pricer*, *Kou_pricer*, *VG_pricer* with default values as parameters. "
   ],
   "metadata": {
    "collapsed": false
   }
  },
  {
   "cell_type": "code",
   "execution_count": 4,
   "outputs": [],
   "source": [
    "BS = BS_Pricer(S0=S0, r=r, q = q, sigma=sigma, ttm=T, exercise=exercise, K=None)\n",
    "Merton = Merton_pricer(S0=S0, K=None, ttm=T, r=r, q = q, sigma=0.15, lambd=0.5, meanJ=-0.1, stdJ=0.1, exercise=exercise)\n",
    "Kou = Kou_pricer(S0=S0, K=None, ttm=T, r=r, sigma=0.15, lambd=0.5, p=0.6, eta1=12, eta2=5, exercise=exercise)\n",
    "VG = VG_pricer(S0, K=None, ttm=T, r=r, q=q, sigma=0.15, theta=-0.2, nu=0.3, exercise=exercise)"
   ],
   "metadata": {
    "collapsed": false,
    "ExecuteTime": {
     "end_time": "2023-09-16T22:52:34.418214400Z",
     "start_time": "2023-09-16T22:52:34.397350600Z"
    }
   }
  },
  {
   "cell_type": "markdown",
   "source": [
    "Then it computes the theoretical call prices using closed formulas for each model, with strike prices given by the *call_strikes* array. We use the **Midpoint** price as the option market price."
   ],
   "metadata": {
    "collapsed": false
   }
  },
  {
   "cell_type": "code",
   "execution_count": 5,
   "outputs": [
    {
     "name": "stdout",
     "output_type": "stream",
     "text": [
      "Theoretical put options prices:\n",
      "    Strike   Price BlackScholes     Merton        Kou VarianceGamma\n",
      "0     75.0   4.445     2.288441   0.500824   0.857554      0.145527\n",
      "1     80.0   5.875     3.477505   0.971757   1.348824      0.488368\n",
      "2     85.0   7.575     5.005186   1.750304   2.131249      1.283541\n",
      "3     87.5   8.520     5.900609   2.288366   2.668826      1.907315\n",
      "4     90.0   9.600     6.884442   2.942377   3.322706      2.695325\n",
      "5     92.5  10.755     7.956189   3.722891   4.104448      3.647693\n",
      "6     95.0  11.970     9.114635   4.638021   5.022612      4.758821\n",
      "7     97.5  13.255     10.35793    5.69293   6.082238      6.019307\n",
      "8    100.0  14.635    11.683685   6.889561   7.284661      7.417534\n",
      "9    105.0  17.605     14.57084   9.699762  10.105769      10.57655\n",
      "10   110.0  20.870     17.74953  13.024429  13.433526     14.136098\n",
      "11   115.0  24.445    21.189961  16.786556  17.185123     18.007112\n",
      "12   120.0  28.195    24.861268  20.894875  21.268068     22.116189\n",
      "13   125.0  32.230    28.733142  25.260127  25.595912     26.405448\n",
      "14   130.0  36.520     32.77697  29.805496  30.096777     30.830405\n"
     ]
    }
   ],
   "source": [
    "put_th_prices = pd.DataFrame(columns=['Strike','Price', 'BlackScholes', 'Merton', 'Kou', 'VarianceGamma'])\n",
    "put_th_prices['Strike'] = put_strikes\n",
    "put_th_prices['Price'] = put_prices\n",
    "\n",
    "for i, K in enumerate(put_strikes):\n",
    "    bs = BS.closed_formula_put(K)\n",
    "    mert = Merton.closed_formula_put(K)\n",
    "    kou = Kou.closed_formula_put(K)\n",
    "    vg = VG.closed_formula_put(K)\n",
    "    put_th_prices.iloc[i, 2:] = [bs, mert, kou, vg]\n",
    "\n",
    "print(f'Theoretical put options prices:')\n",
    "print(put_th_prices)"
   ],
   "metadata": {
    "collapsed": false,
    "ExecuteTime": {
     "end_time": "2023-09-16T22:52:42.622921500Z",
     "start_time": "2023-09-16T22:52:36.148955Z"
    }
   }
  },
  {
   "cell_type": "markdown",
   "source": [
    "## Implied volatility\n",
    "The function belows implements $3$ methods to compute implied volatility: [Newton](https://en.wikipedia.org/wiki/Newton%27s_method) method, the [Bisection](https://en.wikipedia.org/wiki/Bisection_method) method and a more advanced one, named [Brent](https://en.wikipedia.org/wiki/Brent%27s_method) method. Apart from the initial guess, there is no substantial difference in the final result between **Newton** and **bisection** methods (*fsolve*). The **Implied Volatility** is that value $\\sigma$ that must be inserted into the Black-Scholes (BS) formula in order to retrieve the option price quoted in the market:\n",
    "    $$ BS(S, K, T, r, \\sigma) = P,  $$\n",
    "where $S$ is the underlying spot price, $K$ is the strike, $T$ time to maturity, $r$ risk-free interest rate and $P$ the option price quoted in the market. All these quantities are **observable**.\n",
    "   "
   ],
   "metadata": {
    "collapsed": false
   }
  },
  {
   "cell_type": "code",
   "execution_count": 6,
   "outputs": [],
   "source": [
    "def implied_volatility(price, S, strike, t, rate, q, type_o, method='fsolve', disp=True ):\n",
    "    \"\"\" Returns Implied volatility\n",
    "        methods:  fsolve (default) or brent\n",
    "    \"\"\"\n",
    "\n",
    "    def obj_fun(vol):\n",
    "        return BS.BlackScholes(type_o=type_o, S0=S, K=strike, ttm=t, r=rate, q=q, sigma=vol) - price\n",
    "\n",
    "    def vega(vol):\n",
    "        return BS.vega(S, strike, rate, q, vol, t)\n",
    "\n",
    "    if method =='fsolve':\n",
    "        X0 = [0.01, 0.2, 0.35, 7]        #initial guess points for imp.vol.\n",
    "        for x_0 in X0:\n",
    "            x, _, solved, _ = scpo.fsolve(obj_fun, x_0, full_output=True, xtol=1e-8)\n",
    "            if solved == 1:\n",
    "                return x[0]\n",
    "\n",
    "    if disp:\n",
    "        return -1"
   ],
   "metadata": {
    "collapsed": false,
    "ExecuteTime": {
     "end_time": "2023-09-16T22:53:29.073482700Z",
     "start_time": "2023-09-16T22:53:29.041009800Z"
    }
   }
  },
  {
   "cell_type": "markdown",
   "source": [
    "The following code snippet computes the implied volatility associated to each **call** contract using the Black-Scholes inversion. **BS inversion** consists of minimizing the distance between the option price estimated by Black-Scholes formula and the market price given by the dataframe."
   ],
   "metadata": {
    "collapsed": false
   }
  },
  {
   "cell_type": "code",
   "execution_count": 11,
   "outputs": [
    {
     "name": "stdout",
     "output_type": "stream",
     "text": [
      "Implied volatilities of market prices (puts):\n",
      "S0 = 96.79\n",
      "K = 75.0, IV = 0.3648\n",
      "K = 80.0, IV = 0.3565\n",
      "K = 85.0, IV = 0.3484\n",
      "K = 87.5, IV = 0.3441\n",
      "K = 90.0, IV = 0.3416\n",
      "K = 92.5, IV = 0.3392\n"
     ]
    },
    {
     "data": {
      "text/plain": "<Figure size 1000x500 with 1 Axes>",
      "image/png": "[encoded data removed]"
     },
     "metadata": {},
     "output_type": "display_data"
    }
   ],
   "source": [
    "IV_market_p = []\n",
    "for i in range(len(put_prices)):\n",
    "    IV_market_p.append(implied_volatility(put_prices[i], S=S0, strike=put_strikes[i], t = T, rate=0.02, q = 0.027, type_o='put', method='fsolve'))\n",
    "\n",
    "print(f'Implied volatilities of market prices (puts):\\nS0 = {S0}')\n",
    "for a,b in zip(put_strikes.head(6), IV_market_p[:6]):\n",
    "    print(f'K = {a}, IV = {round(b, 4)}')\n",
    "\n",
    "# Plot market implied volatilities w.r.t. log moneyness\n",
    "x = (S0/put_strikes)\n",
    "IV_filtered = [iv for iv in IV_market_p if iv != -1]\n",
    "x_filtered = [log_m for iv, log_m in zip(IV_market_p, x) if iv != -1]\n",
    "puts_filtered = [p_iv for iv, p_iv in zip(IV_market_p, puts['P_IV']) if iv != -1 ]\n",
    "\n",
    "fig, ax1 = plt.subplots(figsize=(10,5))\n",
    "ax1.plot(x_filtered, IV_filtered, label='BS inversion', alpha = 0.8, color = 'green')\n",
    "ax1.scatter(x_filtered, puts_filtered, marker='x', s=40, label='provided', color='red')\n",
    "\n",
    "ax1.set_xlabel('Moneyness: S0/K'); ax1.set_ylabel('Implied Volatility'); ax1.set_title('Puts volatility smile')\n",
    "ax1.legend(); plt.show()\n"
   ],
   "metadata": {
    "collapsed": false,
    "ExecuteTime": {
     "end_time": "2023-09-16T22:55:43.513223Z",
     "start_time": "2023-09-16T22:55:43.221091300Z"
    }
   }
  },
  {
   "cell_type": "markdown",
   "source": [
    "##  Weighted Calibration (call options)\n",
    "Let's step now into the calibration of model parameters.\n",
    "If we define $\\Theta$ the set of parameters, the goal is to find the optimal parameters $\\Theta^*$ that minimize the following objective function:\n",
    "$$ \\sum_{i=1}^{N} w_i \\biggl( P_i - f(K_i|\\Theta) \\biggr)^2 $$\n",
    "where $w_i$ are weights, usually defined as\n",
    "$$ w_i = \\frac{1}{\\text {spread}_i ^2},$$ $P_i$ are the market prices and $f$ is the pricing function. In our case $f$ is given by **Merton** Jump Diffusion model, **Kou** Jump Diffusion model, or **Variance Gamma** process. To perform this optimization problem, many numerical methods can be used. In particular, we test two functions of `scipy.optimize`:\n",
    "1. **curve_fit**, a least-squares curve fitting method which works with bounds. The default algorithm is [Trust Region Reflective (trf)](https://en.wikipedia.org/wiki/Trust_region). The [Levemberg-Marquadt](https://en.wikipedia.org/wiki/Levenberg%E2%80%93Marquardt_algorithm) has been tried as well, to test the optimization problem without setting boundaries, but the results don't make any sense.\n",
    "2. **Least-Squares**, a constrained minimization problem which uses Trust region reflective method by default. This method is the most indicated to solve the non-linear least squares optimization problem of our purpose.\n",
    "All the optimizations are carried out by initializing a starting point as the array $x_0 = [params]$ and setting feasible bounds.\n"
   ],
   "metadata": {
    "collapsed": false
   }
  },
  {
   "cell_type": "code",
   "execution_count": 12,
   "outputs": [],
   "source": [
    "put_spreads = puts['P_Spread']\n",
    "p_weights = 1 / put_spreads**2"
   ],
   "metadata": {
    "collapsed": false,
    "ExecuteTime": {
     "end_time": "2023-09-16T22:56:23.470935300Z",
     "start_time": "2023-09-16T22:56:23.460526400Z"
    }
   }
  },
  {
   "cell_type": "markdown",
   "source": [
    "### Black and Scholes model\n",
    "The only unknown parameter to calibrate in Black and Scholes model is the **implied volatility**, $\\sigma$. Thus, we minimize the difference between the computed theoretical prices and the market prices of call options."
   ],
   "metadata": {
    "collapsed": false
   }
  },
  {
   "cell_type": "code",
   "execution_count": 13,
   "outputs": [],
   "source": [
    "x0 = 0.5\n",
    "bounds = [1e-5, 2]\n",
    "\n",
    "def f_BlackScholes_puts(x, sigm):\n",
    "    BS = BS_Pricer(S0=S0, K = x, ttm=T, r=r, q=0, sigma=sigm, exercise=exercise)\n",
    "    return BS.closed_formula_put(x)\n",
    "\n",
    "res1_puts = scpo.curve_fit(f_BlackScholes_puts, put_strikes, put_prices, p0 = x0, bounds=bounds, sigma=p_weights)\n",
    "sigw_p = round(res1_puts[0][0],4)"
   ],
   "metadata": {
    "collapsed": false,
    "ExecuteTime": {
     "end_time": "2023-09-16T22:56:24.528936500Z",
     "start_time": "2023-09-16T22:56:24.444826800Z"
    }
   }
  },
  {
   "cell_type": "code",
   "execution_count": 14,
   "outputs": [
    {
     "name": "stdout",
     "output_type": "stream",
     "text": [
      "`ftol` termination condition is satisfied.\n",
      "Function evaluations 21, initial cost 4.4478e+07, final cost 5.0860e+02, first-order optimality 1.33e+00.\n"
     ]
    }
   ],
   "source": [
    "def cost_function(x, strikes, mkt_prices):\n",
    "    sigma = x\n",
    "    BS = BS_Pricer(S0=S0, K = None, ttm=T, r=r, q=0, sigma=sigma, exercise=exercise)\n",
    "    sq_err = np.sum( p_weights* (BS.closed_formula_put(strikes) - mkt_prices)**2)\n",
    "    return sq_err\n",
    "\n",
    "result_p = scpo.least_squares(cost_function, x0, args=(put_strikes, put_prices), bounds=bounds, method = 'trf', verbose=1)\n",
    "opt_sigma_p = result_p.x[0]"
   ],
   "metadata": {
    "collapsed": false,
    "ExecuteTime": {
     "end_time": "2023-09-16T22:56:25.251191Z",
     "start_time": "2023-09-16T22:56:25.172594200Z"
    }
   }
  },
  {
   "cell_type": "code",
   "execution_count": 15,
   "outputs": [
    {
     "name": "stdout",
     "output_type": "stream",
     "text": [
      "METHOD 1: CURVE_FIT (trf)\n",
      "> Calibrated Volatility from Calls [σ] = 0.3948 \t 39.48%\n",
      "METHOD 2: LEAST-SQUARES (trf)\n",
      "> Calibrated Volatility from Calls [σ] = 0.38217918075217366 \t 38.22%\n"
     ]
    }
   ],
   "source": [
    "print('METHOD 1: CURVE_FIT (trf)')\n",
    "print(f'> Calibrated Volatility from Calls [σ] = {sigw_p} \\t {round(sigw_p*100,2)}%')\n",
    "print('METHOD 2: LEAST-SQUARES (trf)')\n",
    "print(f'> Calibrated Volatility from Calls [σ] = {opt_sigma_p} \\t {round(opt_sigma_p*100,2)}%')"
   ],
   "metadata": {
    "collapsed": false,
    "ExecuteTime": {
     "end_time": "2023-09-16T22:56:26.010654500Z",
     "start_time": "2023-09-16T22:56:25.979274500Z"
    }
   }
  },
  {
   "cell_type": "code",
   "execution_count": 16,
   "outputs": [
    {
     "name": "stdout",
     "output_type": "stream",
     "text": [
      "Stored 'puts_bs_params_aapl' (float64)\n"
     ]
    }
   ],
   "source": [
    "puts_bs_params_aapl = opt_sigma_p\n",
    "%store puts_bs_params_aapl"
   ],
   "metadata": {
    "collapsed": false,
    "ExecuteTime": {
     "end_time": "2023-09-16T22:56:27.633452800Z",
     "start_time": "2023-09-16T22:56:27.603574100Z"
    }
   }
  },
  {
   "cell_type": "markdown",
   "source": [
    "### Merton Jump Diffusion\n",
    "The Merton Jump diffusion ones are the volatility $\\sigma$, the Poisson rate of jumps $\\lambda$, the mean rate of jump intensity $m$ and its variance rate $v$, assuming that the intensity of jumps follows a *Normal distribution*.\n"
   ],
   "metadata": {
    "collapsed": false
   }
  },
  {
   "cell_type": "code",
   "execution_count": 19,
   "outputs": [],
   "source": [
    "x0 = [0.15,  0.2, -0.05,  0.4]  # initial guess: [σ, λ, m, v]\n",
    "bounds = ( [1e-2, 0.1, -2, 1e-3], [0.5, 5, 2, 2] )"
   ],
   "metadata": {
    "collapsed": false,
    "ExecuteTime": {
     "end_time": "2023-09-16T22:57:14.473766300Z",
     "start_time": "2023-09-16T22:57:14.440400500Z"
    }
   }
  },
  {
   "cell_type": "code",
   "execution_count": 20,
   "outputs": [],
   "source": [
    "def f_Mert(x, sigma, lambd, meanJ, stdJ):\n",
    "    Mert = Merton_pricer(S0=S0, K=x, ttm=T, r=r, q=0, sigma=sigma, lambd=lambd, meanJ=meanJ, stdJ=stdJ, exercise=exercise)\n",
    "    return Mert.closed_formula_put(x)\n",
    "\n",
    "start1=time.time()\n",
    "mert1 = scpo.curve_fit(f_Mert, put_strikes, put_prices, p0=x0, bounds=bounds, sigma=put_spreads)\n",
    "end1=time.time()\n",
    "\n",
    "mert_params1 = [round(p,4) for p in mert1[0][:4]]"
   ],
   "metadata": {
    "collapsed": false,
    "ExecuteTime": {
     "end_time": "2023-09-16T22:57:48.581552600Z",
     "start_time": "2023-09-16T22:57:16.304309500Z"
    }
   }
  },
  {
   "cell_type": "markdown",
   "source": [
    "##### Method 2. Least-squares"
   ],
   "metadata": {
    "collapsed": false
   }
  },
  {
   "cell_type": "code",
   "execution_count": 21,
   "outputs": [
    {
     "name": "stdout",
     "output_type": "stream",
     "text": [
      "   Iteration     Total nfev        Cost      Cost reduction    Step norm     Optimality   \n",
      "       0              1         2.5766e+06                                    1.68e+08    \n",
      "       1              4         2.3854e+05      2.34e+06       4.24e-02       2.29e+07    \n",
      "       2              6         8.2222e+04      1.56e+05       2.02e-02       2.91e+06    \n",
      "       3              8         7.4842e+04      7.38e+03       4.18e-03       1.19e+06    \n",
      "       4              9         6.9916e+04      4.93e+03       2.87e-03       1.27e+06    \n",
      "       5             10         6.0894e+04      9.02e+03       7.20e-03       9.97e+05    \n",
      "       6             11         5.0642e+04      1.03e+04       1.14e-02       3.36e+06    \n",
      "       7             13         4.5130e+04      5.51e+03       4.98e-03       1.43e+06    \n",
      "       8             14         4.2034e+04      3.10e+03       4.47e-03       6.58e+05    \n",
      "       9             15         3.6499e+04      5.53e+03       5.78e-03       1.06e+06    \n",
      "      10             16         3.1124e+04      5.37e+03       1.73e-02       1.46e+06    \n",
      "      11             18         2.7256e+04      3.87e+03       4.24e-03       5.12e+05    \n",
      "      12             19         2.5427e+04      1.83e+03       2.76e-03       7.05e+05    \n",
      "      13             20         2.2283e+04      3.14e+03       8.41e-03       4.91e+05    \n",
      "      14             22         2.0771e+04      1.51e+03       3.02e-03       6.11e+05    \n",
      "      15             23         1.9284e+04      1.49e+03       4.30e-03       3.25e+05    \n",
      "      16             24         1.6810e+04      2.47e+03       5.62e-03       7.13e+05    \n",
      "      17             26         1.5646e+04      1.16e+03       4.80e-03       2.82e+05    \n",
      "      18             27         1.4545e+04      1.10e+03       2.70e-03       4.43e+05    \n",
      "      19             28         1.2802e+04      1.74e+03       8.68e-03       3.21e+05    \n",
      "      20             29         1.2611e+04      1.91e+02       6.16e-03       1.04e+06    \n",
      "      21             30         1.1580e+04      1.03e+03       2.43e-03       6.97e+05    \n",
      "      22             31         1.0621e+04      9.59e+02       4.91e-03       1.77e+05    \n",
      "      23             32         9.8297e+03      7.92e+02       2.91e-03       2.88e+05    \n",
      "      24             33         8.5673e+03      1.26e+03       8.51e-03       2.12e+05    \n",
      "      25             35         8.0711e+03      4.96e+02       2.88e-03       3.49e+05    \n",
      "      26             36         7.5553e+03      5.16e+02       4.82e-03       1.58e+05    \n",
      "      27             37         7.1004e+03      4.55e+02       2.61e-03       3.06e+05    \n",
      "      28             38         6.6566e+03      4.44e+02       4.82e-03       1.44e+05    \n",
      "      29             39         6.2742e+03      3.82e+02       2.61e-03       2.85e+05    \n",
      "      30             40         5.8960e+03      3.78e+02       4.85e-03       1.32e+05    \n",
      "      31             41         5.5758e+03      3.20e+02       2.63e-03       2.66e+05    \n",
      "      32             42         5.2514e+03      3.24e+02       4.87e-03       1.21e+05    \n",
      "      33             43         4.9805e+03      2.71e+02       2.64e-03       2.47e+05    \n",
      "      34             44         4.7006e+03      2.80e+02       4.87e-03       1.12e+05    \n",
      "      35             45         4.4854e+03      2.15e+02       2.67e-03       2.37e+05    \n",
      "      36             46         4.2255e+03      2.60e+02       4.86e-03       1.00e+05    \n",
      "      37             47         4.0472e+03      1.78e+02       2.65e-03       2.21e+05    \n",
      "      38             48         3.8078e+03      2.39e+02       4.84e-03       9.02e+04    \n",
      "      39             49         3.6639e+03      1.44e+02       2.64e-03       2.08e+05    \n",
      "      40             50         3.4408e+03      2.23e+02       4.82e-03       8.11e+04    \n",
      "      41             51         3.3252e+03      1.16e+02       2.63e-03       1.96e+05    \n",
      "      42             52         3.1172e+03      2.08e+02       4.79e-03       7.31e+04    \n",
      "      43             53         3.0270e+03      9.02e+01       2.62e-03       1.84e+05    \n",
      "      44             54         2.8316e+03      1.95e+02       4.75e-03       6.59e+04    \n",
      "      45             55         2.7621e+03      6.95e+01       2.61e-03       1.72e+05    \n",
      "      46             56         2.6713e+03      9.09e+01       1.18e-03       1.27e+05    \n",
      "      47             57         2.5675e+03      1.04e+02       2.42e-03       5.05e+04    \n",
      "      48             58         2.4717e+03      9.58e+01       1.75e-03       6.61e+04    \n",
      "      49             59         2.2941e+03      1.78e+02       4.23e-03       3.60e+04    \n",
      "      50             60         2.1082e+03      1.86e+02       6.20e-03       1.52e+05    \n",
      "      51             62         1.9668e+03      1.41e+02       2.26e-03       7.85e+04    \n",
      "      52             63         1.9038e+03      6.30e+01       2.42e-03       2.93e+04    \n",
      "      53             64         1.8411e+03      6.27e+01       1.48e-03       5.81e+04    \n",
      "      54             65         1.7415e+03      9.96e+01       4.68e-03       4.10e+04    \n",
      "      55             67         1.7053e+03      3.63e+01       6.84e-04       3.20e+04    \n",
      "      56             68         1.6750e+03      3.02e+01       8.77e-04       3.93e+04    \n",
      "      57             69         1.6165e+03      5.86e+01       2.05e-03       3.68e+04    \n",
      "      58             70         1.5069e+03      1.10e+02       4.04e-03       3.65e+04    \n",
      "      59             71         1.3185e+03      1.88e+02       8.50e-03       1.95e+04    \n",
      "      60             73         1.2796e+03      3.88e+01       2.87e-03       7.06e+04    \n",
      "      61             74         1.2336e+03      4.60e+01       4.44e-03       3.98e+04    \n",
      "      62             76         1.2001e+03      3.35e+01       8.50e-04       1.69e+04    \n",
      "      63             77         1.1812e+03      1.88e+01       7.30e-04       2.75e+04    \n",
      "      64             78         1.1445e+03      3.67e+01       2.19e-03       2.19e+04    \n",
      "      65             79         1.0801e+03      6.44e+01       3.85e-03       3.54e+04    \n",
      "      66             81         1.0560e+03      2.42e+01       2.40e-03       1.79e+04    \n",
      "      67             82         1.0418e+03      1.42e+01       1.33e-03       4.20e+04    \n",
      "      68             83         1.0143e+03      2.75e+01       2.30e-03       1.50e+04    \n",
      "      69             84         9.9619e+02      1.81e+01       1.37e-03       3.67e+04    \n",
      "      70             85         9.7325e+02      2.29e+01       2.33e-03       1.56e+04    \n",
      "      71             86         9.6260e+02      1.06e+01       1.35e-03       3.89e+04    \n",
      "      72             87         9.3751e+02      2.51e+01       2.25e-03       1.34e+04    \n",
      "      73             88         9.2439e+02      1.31e+01       1.38e-03       3.51e+04    \n",
      "      74             89         9.0290e+02      2.15e+01       2.27e-03       1.39e+04    \n",
      "      75             90         8.9596e+02      6.94e+00       1.37e-03       3.66e+04    \n",
      "      76             91         8.8530e+02      1.07e+01       5.50e-04       2.94e+04    \n",
      "      77             92         8.7193e+02      1.34e+01       1.17e-03       1.69e+04    \n",
      "      78             93         8.6013e+02      1.18e+01       1.07e-03       1.69e+04    \n",
      "      79             94         8.3731e+02      2.28e+01       2.18e-03       1.58e+04    \n",
      "      80             95         7.9488e+02      4.24e+01       4.30e-03       1.68e+04    \n",
      "      81             96         7.4809e+02      4.68e+01       9.41e-03       3.99e+04    \n",
      "      82             98         7.2739e+02      2.07e+01       1.93e-03       2.33e+04    \n",
      "      83             99         7.1613e+02      1.13e+01       2.19e-03       1.25e+04    \n",
      "      84             101        7.1043e+02      5.70e+00       4.01e-04       9.96e+03    \n",
      "      85             102        7.0628e+02      4.14e+00       4.61e-04       1.22e+04    \n",
      "      86             103        6.9816e+02      8.12e+00       1.11e-03       1.20e+04    \n",
      "      87             104        6.8248e+02      1.57e+01       2.23e-03       1.15e+04    \n",
      "      88             105        6.5323e+02      2.93e+01       4.47e-03       1.09e+04    \n",
      "      89             106        6.0338e+02      4.98e+01       9.18e-03       6.00e+03    \n",
      "      90             109        6.0135e+02      2.04e+00       8.12e-04       1.44e+04    \n",
      "      91             110        5.9914e+02      2.21e+00       2.71e-04       1.25e+04    \n",
      "      92             111        5.9596e+02      3.18e+00       5.78e-04       9.22e+03    \n",
      "      93             112        5.9048e+02      5.48e+00       1.18e-03       7.63e+03    \n",
      "      94             113        5.8116e+02      9.32e+00       2.07e-03       1.20e+04    \n",
      "      95             115        5.7670e+02      4.45e+00       1.13e-03       5.51e+03    \n",
      "      96             116        5.7469e+02      2.02e+00       8.52e-04       1.29e+04    \n",
      "      97             117        5.6969e+02      4.99e+00       1.07e-03       5.94e+03    \n",
      "      98             118        5.6688e+02      2.81e+00       8.94e-04       1.18e+04    \n",
      "      99             119        5.6254e+02      4.34e+00       1.10e-03       5.31e+03    \n",
      "      100            120        5.6095e+02      1.60e+00       8.71e-04       1.25e+04    \n",
      "      101            121        5.5609e+02      4.85e+00       1.04e-03       5.69e+03    \n",
      "      102            122        5.5372e+02      2.37e+00       9.10e-04       1.15e+04    \n",
      "      103            123        5.4953e+02      4.19e+00       1.07e-03       5.07e+03    \n",
      "      104            124        5.4840e+02      1.13e+00       8.89e-04       1.21e+04    \n",
      "      105            125        5.4642e+02      1.99e+00       2.54e-04       1.05e+04    \n",
      "      106            126        5.4376e+02      2.66e+00       5.52e-04       7.48e+03    \n",
      "      107            127        5.3947e+02      4.29e+00       1.20e-03       5.94e+03    \n",
      "      108            128        5.3554e+02      3.93e+00       2.01e-03       1.28e+04    \n",
      "      109            129        5.3271e+02      2.83e+00       1.88e-03       1.78e+04    \n",
      "      110            130        5.2760e+02      5.11e+00       4.94e-04       4.62e+03    \n",
      "      111            131        5.2612e+02      1.48e+00       4.62e-04       8.08e+03    \n",
      "      112            132        5.2412e+02      1.99e+00       5.95e-04       5.98e+03    \n",
      "      113            133        5.2036e+02      3.76e+00       1.09e-03       7.47e+03    \n",
      "      114            134        5.1696e+02      3.40e+00       2.42e-03       1.53e+04    \n",
      "      115            136        5.1294e+02      4.02e+00       4.96e-04       5.16e+03    \n",
      "      116            137        5.1137e+02      1.57e+00       5.09e-04       7.20e+03    \n",
      "      117            138        5.0958e+02      1.79e+00       6.01e-04       5.41e+03    \n",
      "      118            139        5.0660e+02      2.98e+00       1.08e-03       7.88e+03    \n",
      "      119            141        5.0470e+02      1.90e+00       5.63e-04       5.54e+03    \n",
      "      120            142        5.0294e+02      1.76e+00       5.67e-04       6.04e+03    \n",
      "      121            143        4.9958e+02      3.36e+00       1.21e-03       4.66e+03    \n",
      "      122            145        4.9830e+02      1.27e+00       5.12e-04       7.00e+03    \n",
      "      123            146        4.9663e+02      1.67e+00       5.83e-04       5.02e+03    \n",
      "      124            147        4.9413e+02      2.50e+00       1.09e-03       7.66e+03    \n",
      "      125            148        4.9194e+02      2.19e+00       1.07e-03       7.56e+03    \n",
      "      126            150        4.9076e+02      1.18e+00       2.49e-04       4.83e+03    \n",
      "      127            151        4.8996e+02      7.95e-01       2.75e-04       5.55e+03    \n",
      "      128            152        4.8836e+02      1.60e+00       6.06e-04       4.93e+03    \n",
      "      129            153        4.8566e+02      2.70e+00       1.13e-03       6.82e+03    \n",
      "      130            155        4.8406e+02      1.60e+00       5.56e-04       4.72e+03    \n",
      "      131            156        4.8267e+02      1.39e+00       5.62e-04       5.94e+03    \n",
      "      132            157        4.8048e+02      2.19e+00       1.20e-03       7.18e+03    \n",
      "      133            159        4.7943e+02      1.05e+00       2.55e-04       4.68e+03    \n",
      "      134            160        4.7868e+02      7.44e-01       2.87e-04       5.16e+03    \n",
      "      135            161        4.7721e+02      1.47e+00       6.08e-04       4.53e+03    \n",
      "      136            162        4.7515e+02      2.06e+00       1.14e-03       6.97e+03    \n",
      "      137            163        4.7333e+02      1.82e+00       1.02e-03       8.23e+03    \n",
      "      138            165        4.7216e+02      1.16e+00       2.60e-04       4.27e+03    \n",
      "      139            166        4.7148e+02      6.83e-01       2.82e-04       5.08e+03    \n",
      "      140            167        4.7012e+02      1.36e+00       6.10e-04       4.15e+03    \n",
      "      141            168        4.6925e+02      8.71e-01       1.13e-03       7.69e+03    \n",
      "      142            169        4.6652e+02      2.73e+00       8.99e-04       6.35e+03    \n",
      "      143            171        4.6566e+02      8.57e-01       2.65e-04       4.58e+03    \n",
      "      144            172        4.6497e+02      6.98e-01       3.02e-04       4.62e+03    \n",
      "      145            173        4.6358e+02      1.38e+00       6.07e-04       4.48e+03    \n",
      "      146            174        4.6089e+02      2.69e+00       1.21e-03       4.90e+03    \n",
      "      147            175        4.5887e+02      2.02e+00       2.41e-03       1.49e+04    \n",
      "      148            177        4.5556e+02      3.32e+00       5.33e-04       3.90e+03    \n",
      "      149            178        4.5456e+02      9.98e-01       5.92e-04       5.29e+03    \n",
      "      150            179        4.5337e+02      1.18e+00       5.48e-04       3.59e+03    \n",
      "      151            180        4.5268e+02      6.90e-01       5.80e-04       5.62e+03    \n",
      "      152            181        4.5136e+02      1.32e+00       5.10e-04       3.74e+03    \n",
      "      153            182        4.5049e+02      8.78e-01       5.94e-04       5.30e+03    \n",
      "      154            183        4.4929e+02      1.20e+00       5.29e-04       3.55e+03    \n",
      "      155            184        4.4860e+02      6.92e-01       5.89e-04       5.45e+03    \n",
      "      156            185        4.4732e+02      1.28e+00       5.06e-04       3.62e+03    \n",
      "      157            186        4.4652e+02      8.05e-01       5.99e-04       5.24e+03    \n",
      "      158            187        4.4532e+02      1.19e+00       5.16e-04       3.49e+03    \n",
      "      159            188        4.4464e+02      6.78e-01       5.97e-04       5.32e+03    \n",
      "      160            189        4.4339e+02      1.25e+00       5.00e-04       3.52e+03    \n",
      "      161            190        4.4264e+02      7.53e-01       6.04e-04       5.16e+03    \n",
      "      162            191        4.4145e+02      1.19e+00       5.06e-04       3.42e+03    \n",
      "      163            192        4.4079e+02      6.58e-01       6.04e-04       5.19e+03    \n",
      "      164            193        4.3957e+02      1.23e+00       4.94e-04       3.44e+03    \n",
      "      165            194        4.3885e+02      7.12e-01       6.10e-04       5.06e+03    \n",
      "      166            195        4.3767e+02      1.18e+00       4.97e-04       3.44e+03    \n",
      "      167            196        4.3704e+02      6.37e-01       6.10e-04       5.08e+03    \n",
      "      168            197        4.3582e+02      1.21e+00       4.87e-04       3.36e+03    \n",
      "      169            198        4.3514e+02      6.79e-01       6.15e-04       4.97e+03    \n",
      "      170            199        4.3397e+02      1.17e+00       4.89e-04       3.50e+03    \n",
      "      171            200        4.3336e+02      6.16e-01       6.16e-04       4.97e+03    \n",
      "      172            201        4.3216e+02      1.20e+00       4.80e-04       3.39e+03    \n",
      "      173            202        4.3151e+02      6.52e-01       6.21e-04       4.87e+03    \n",
      "      174            203        4.3035e+02      1.16e+00       4.82e-04       3.56e+03    \n",
      "      175            204        4.2975e+02      5.97e-01       6.22e-04       4.87e+03    \n",
      "      176            205        4.2856e+02      1.19e+00       4.74e-04       3.46e+03    \n",
      "      177            206        4.2793e+02      6.30e-01       6.26e-04       4.78e+03    \n",
      "      178            207        4.2678e+02      1.15e+00       4.75e-04       3.62e+03    \n",
      "      179            208        4.2620e+02      5.80e-01       6.27e-04       4.77e+03    \n",
      "      180            209        4.2502e+02      1.18e+00       4.67e-04       3.53e+03    \n",
      "      181            210        4.2441e+02      6.11e-01       6.31e-04       4.68e+03    \n",
      "      182            211        4.2327e+02      1.14e+00       4.68e-04       3.68e+03    \n",
      "      183            212        4.2271e+02      5.65e-01       6.32e-04       4.67e+03    \n",
      "      184            213        4.2154e+02      1.17e+00       4.61e-04       3.60e+03    \n",
      "      185            214        4.2094e+02      5.95e-01       6.36e-04       4.59e+03    \n",
      "      186            215        4.1981e+02      1.14e+00       4.61e-04       3.74e+03    \n",
      "      187            216        4.1926e+02      5.52e-01       6.37e-04       4.57e+03    \n",
      "      188            217        4.1810e+02      1.16e+00       4.55e-04       3.66e+03    \n",
      "      189            218        4.1752e+02      5.82e-01       6.40e-04       4.49e+03    \n",
      "      190            219        4.1639e+02      1.13e+00       4.55e-04       3.81e+03    \n",
      "      191            220        4.1585e+02      5.40e-01       6.42e-04       4.48e+03    \n",
      "      192            221        4.1470e+02      1.15e+00       4.49e-04       3.72e+03    \n",
      "      193            222        4.1413e+02      5.72e-01       6.45e-04       4.40e+03    \n",
      "      194            223        4.1301e+02      1.12e+00       4.49e-04       3.87e+03    \n",
      "      195            224        4.1248e+02      5.30e-01       6.46e-04       4.39e+03    \n",
      "      196            225        4.1134e+02      1.14e+00       4.43e-04       3.78e+03    \n",
      "      197            226        4.1077e+02      5.64e-01       6.49e-04       4.31e+03    \n",
      "      198            227        4.0966e+02      1.11e+00       4.44e-04       3.93e+03    \n",
      "      199            228        4.0914e+02      5.22e-01       6.50e-04       4.30e+03    \n",
      "      200            229        4.0800e+02      1.14e+00       4.37e-04       3.83e+03    \n",
      "      201            230        4.0745e+02      5.58e-01       6.53e-04       4.23e+03    \n",
      "      202            231        4.0634e+02      1.10e+00       4.38e-04       3.99e+03    \n",
      "      203            232        4.0583e+02      5.14e-01       6.54e-04       4.22e+03    \n",
      "      204            233        4.0470e+02      1.13e+00       4.32e-04       3.88e+03    \n",
      "      205            234        4.0414e+02      5.54e-01       6.56e-04       4.14e+03    \n",
      "      206            235        4.0305e+02      1.10e+00       4.33e-04       4.05e+03    \n",
      "      207            236        4.0254e+02      5.08e-01       6.57e-04       4.14e+03    \n",
      "      208            237        4.0141e+02      1.13e+00       4.27e-04       3.93e+03    \n",
      "      209            238        4.0086e+02      5.51e-01       6.60e-04       4.06e+03    \n",
      "      210            239        3.9977e+02      1.09e+00       4.28e-04       4.11e+03    \n",
      "      211            240        3.9927e+02      5.03e-01       6.61e-04       4.05e+03    \n",
      "      212            241        3.9815e+02      1.12e+00       4.21e-04       3.98e+03    \n",
      "      213            242        3.9760e+02      5.51e-01       6.63e-04       3.97e+03    \n",
      "      214            243        3.9652e+02      1.08e+00       4.23e-04       4.17e+03    \n",
      "      215            244        3.9602e+02      4.99e-01       6.64e-04       3.98e+03    \n",
      "      216            245        3.9490e+02      1.12e+00       4.16e-04       4.02e+03    \n",
      "      217            246        3.9435e+02      5.51e-01       6.66e-04       3.89e+03    \n",
      "      218            247        3.9328e+02      1.07e+00       4.19e-04       4.23e+03    \n",
      "      219            248        3.9278e+02      4.96e-01       6.67e-04       3.90e+03    \n",
      "      220            249        3.9167e+02      1.11e+00       4.11e-04       4.06e+03    \n",
      "      221            250        3.9111e+02      5.53e-01       6.68e-04       3.81e+03    \n",
      "      222            251        3.9005e+02      1.07e+00       4.14e-04       4.29e+03    \n",
      "      223            252        3.8955e+02      4.93e-01       6.69e-04       3.82e+03    \n",
      "      224            253        3.8844e+02      1.11e+00       4.07e-04       4.10e+03    \n",
      "      225            254        3.8789e+02      5.57e-01       6.71e-04       3.74e+03    \n",
      "      226            255        3.8683e+02      1.06e+00       4.10e-04       4.35e+03    \n",
      "      227            256        3.8634e+02      4.91e-01       6.72e-04       3.75e+03    \n",
      "      228            257        3.8523e+02      1.11e+00       4.02e-04       4.14e+03    \n",
      "      229            258        3.8467e+02      5.61e-01       6.73e-04       3.66e+03    \n",
      "      230            259        3.8362e+02      1.05e+00       4.06e-04       4.40e+03    \n",
      "      231            260        3.8313e+02      4.89e-01       6.74e-04       3.67e+03    \n",
      "      232            261        3.8203e+02      1.11e+00       3.97e-04       4.17e+03    \n",
      "      233            262        3.8146e+02      5.67e-01       6.75e-04       3.58e+03    \n",
      "      234            263        3.8042e+02      1.04e+00       4.02e-04       4.46e+03    \n",
      "      235            264        3.7993e+02      4.88e-01       6.76e-04       3.60e+03    \n",
      "      236            265        3.7883e+02      1.10e+00       3.93e-04       4.20e+03    \n",
      "      237            266        3.7825e+02      5.73e-01       6.77e-04       3.51e+03    \n",
      "      238            267        3.7722e+02      1.03e+00       3.98e-04       4.52e+03    \n",
      "      239            268        3.7673e+02      4.87e-01       6.78e-04       3.53e+03    \n",
      "      240            269        3.7563e+02      1.10e+00       3.89e-04       4.23e+03    \n",
      "      241            270        3.7505e+02      5.81e-01       6.79e-04       3.43e+03    \n",
      "      242            271        3.7403e+02      1.02e+00       3.94e-04       4.58e+03    \n",
      "      243            272        3.7354e+02      4.86e-01       6.80e-04       3.47e+03    \n",
      "      244            273        3.7244e+02      1.10e+00       3.84e-04       4.26e+03    \n",
      "      245            274        3.7185e+02      5.89e-01       6.80e-04       3.36e+03    \n",
      "      246            275        3.7084e+02      1.02e+00       3.90e-04       4.64e+03    \n",
      "      247            276        3.7035e+02      4.86e-01       6.82e-04       3.40e+03    \n",
      "      248            277        3.6925e+02      1.10e+00       3.80e-04       4.29e+03    \n",
      "      249            278        3.6866e+02      5.97e-01       6.81e-04       3.29e+03    \n",
      "      250            279        3.6765e+02      1.01e+00       3.87e-04       4.70e+03    \n",
      "      251            280        3.6716e+02      4.86e-01       6.84e-04       3.33e+03    \n",
      "      252            281        3.6607e+02      1.10e+00       3.76e-04       4.31e+03    \n",
      "      253            282        3.6546e+02      6.06e-01       6.83e-04       3.22e+03    \n",
      "      254            283        3.6446e+02      9.98e-01       3.83e-04       4.76e+03    \n",
      "      255            284        3.6397e+02      4.87e-01       6.85e-04       3.27e+03    \n",
      "      256            285        3.6288e+02      1.10e+00       3.72e-04       4.33e+03    \n",
      "      257            286        3.6226e+02      6.16e-01       6.84e-04       3.15e+03    \n",
      "      258            287        3.6127e+02      9.89e-01       3.80e-04       4.81e+03    \n",
      "      259            288        3.6078e+02      4.88e-01       6.87e-04       3.20e+03    \n",
      "      260            289        3.5969e+02      1.10e+00       3.68e-04       4.35e+03    \n",
      "      261            290        3.5906e+02      6.25e-01       6.84e-04       3.09e+03    \n",
      "      262            291        3.5808e+02      9.81e-01       3.77e-04       4.87e+03    \n",
      "      263            292        3.5759e+02      4.90e-01       6.88e-04       3.14e+03    \n",
      "      264            293        3.5650e+02      1.09e+00       3.65e-04       4.38e+03    \n",
      "      265            294        3.5587e+02      6.29e-01       6.85e-04       3.03e+03    \n",
      "      266            295        3.5489e+02      9.78e-01       3.73e-04       4.90e+03    \n",
      "      267            296        3.5439e+02      4.97e-01       6.89e-04       3.08e+03    \n",
      "      268            297        3.5331e+02      1.09e+00       3.61e-04       4.42e+03    \n",
      "      269            298        3.5268e+02      6.27e-01       6.86e-04       2.97e+03    \n",
      "      270            299        3.5170e+02      9.80e-01       3.69e-04       4.90e+03    \n",
      "      271            300        3.5119e+02      5.10e-01       6.90e-04       3.01e+03    \n",
      "      272            301        3.5011e+02      1.08e+00       3.59e-04       4.47e+03    \n",
      "      273            302        3.4949e+02      6.22e-01       6.87e-04       2.92e+03    \n",
      "      274            303        3.4850e+02      9.85e-01       3.64e-04       4.89e+03    \n",
      "      275            304        3.4798e+02      5.27e-01       6.91e-04       2.94e+03    \n",
      "      276            305        3.4691e+02      1.07e+00       3.56e-04       4.54e+03    \n",
      "      277            306        3.4630e+02      6.15e-01       6.88e-04       2.86e+03    \n",
      "      278            307        3.4530e+02      9.92e-01       3.60e-04       4.87e+03    \n",
      "      279            308        3.4476e+02      5.46e-01       6.92e-04       2.88e+03    \n",
      "      280            309        3.4371e+02      1.05e+00       3.54e-04       4.62e+03    \n",
      "      281            310        3.4310e+02      6.07e-01       6.90e-04       2.81e+03    \n",
      "      282            311        3.4210e+02      1.00e+00       3.56e-04       4.85e+03    \n",
      "      283            312        3.4153e+02      5.67e-01       6.92e-04       2.81e+03    \n",
      "      284            313        3.4050e+02      1.04e+00       3.51e-04       4.70e+03    \n",
      "      285            314        3.3990e+02      5.99e-01       6.91e-04       2.76e+03    \n",
      "      286            315        3.3889e+02      1.01e+00       3.52e-04       4.82e+03    \n",
      "      287            316        3.3831e+02      5.83e-01       6.92e-04       2.75e+03    \n",
      "      288            317        3.3728e+02      1.02e+00       3.49e-04       4.76e+03    \n",
      "      289            318        3.3669e+02      5.95e-01       6.92e-04       2.71e+03    \n",
      "      290            319        3.3568e+02      1.01e+00       3.48e-04       4.81e+03    \n",
      "      291            320        3.3509e+02      5.90e-01       6.92e-04       2.69e+03    \n",
      "      292            321        3.3407e+02      1.02e+00       3.46e-04       4.79e+03    \n",
      "      293            322        3.3347e+02      5.95e-01       6.92e-04       2.66e+03    \n",
      "      294            323        3.3246e+02      1.01e+00       3.44e-04       4.81e+03    \n",
      "      295            324        3.3186e+02      5.95e-01       6.93e-04       2.63e+03    \n",
      "      296            325        3.3085e+02      1.02e+00       3.43e-04       4.81e+03    \n",
      "      297            326        3.3025e+02      5.97e-01       6.93e-04       2.61e+03    \n",
      "      298            327        3.2924e+02      1.01e+00       3.41e-04       4.82e+03    \n",
      "      299            328        3.2864e+02      5.98e-01       6.93e-04       2.58e+03    \n",
      "      300            329        3.2762e+02      1.01e+00       3.40e-04       4.82e+03    \n",
      "      301            330        3.2702e+02      6.00e-01       6.93e-04       2.55e+03    \n",
      "      302            331        3.2601e+02      1.01e+00       3.38e-04       4.82e+03    \n",
      "      303            332        3.2541e+02      6.02e-01       6.93e-04       2.53e+03    \n",
      "      304            333        3.2439e+02      1.01e+00       3.37e-04       4.83e+03    \n",
      "      305            334        3.2379e+02      6.04e-01       6.93e-04       2.50e+03    \n",
      "      306            335        3.2278e+02      1.01e+00       3.35e-04       4.83e+03    \n",
      "      307            336        3.2217e+02      6.05e-01       6.93e-04       2.47e+03    \n",
      "      308            337        3.2116e+02      1.01e+00       3.34e-04       4.84e+03    \n",
      "      309            338        3.2056e+02      6.07e-01       6.93e-04       2.45e+03    \n",
      "      310            339        3.1954e+02      1.01e+00       3.32e-04       4.84e+03    \n",
      "      311            340        3.1894e+02      6.08e-01       6.93e-04       2.42e+03    \n",
      "      312            341        3.1793e+02      1.01e+00       3.31e-04       4.84e+03    \n",
      "      313            342        3.1732e+02      6.10e-01       6.93e-04       2.40e+03    \n",
      "      314            343        3.1631e+02      1.01e+00       3.29e-04       4.85e+03    \n",
      "      315            344        3.1569e+02      6.12e-01       6.93e-04       2.37e+03    \n",
      "      316            345        3.1469e+02      1.01e+00       3.28e-04       4.85e+03    \n",
      "      317            346        3.1407e+02      6.13e-01       6.93e-04       2.35e+03    \n",
      "      318            347        3.1306e+02      1.01e+00       3.26e-04       4.85e+03    \n",
      "      319            348        3.1245e+02      6.15e-01       6.93e-04       2.32e+03    \n",
      "      320            349        3.1144e+02      1.01e+00       3.25e-04       4.85e+03    \n",
      "      321            350        3.1082e+02      6.17e-01       6.93e-04       2.30e+03    \n",
      "      322            351        3.0982e+02      1.01e+00       3.24e-04       4.86e+03    \n",
      "      323            352        3.0920e+02      6.18e-01       6.93e-04       2.27e+03    \n",
      "      324            353        3.0819e+02      1.01e+00       3.22e-04       4.86e+03    \n",
      "      325            354        3.0757e+02      6.20e-01       6.93e-04       2.25e+03    \n",
      "      326            355        3.0657e+02      1.01e+00       3.21e-04       4.86e+03    \n",
      "      327            356        3.0594e+02      6.21e-01       6.93e-04       2.23e+03    \n",
      "      328            357        3.0494e+02      1.01e+00       3.20e-04       4.86e+03    \n",
      "      329            358        3.0432e+02      6.23e-01       6.93e-04       2.20e+03    \n",
      "      330            359        3.0331e+02      1.00e+00       3.18e-04       4.86e+03    \n",
      "      331            360        3.0269e+02      6.25e-01       6.93e-04       2.18e+03    \n",
      "      332            361        3.0168e+02      1.00e+00       3.17e-04       4.86e+03    \n",
      "      333            362        3.0106e+02      6.26e-01       6.92e-04       2.16e+03    \n",
      "      334            363        3.0005e+02      1.00e+00       3.16e-04       4.86e+03    \n",
      "      335            364        2.9942e+02      6.28e-01       6.92e-04       2.13e+03    \n",
      "      336            365        2.9842e+02      1.00e+00       3.14e-04       4.86e+03    \n",
      "      337            366        2.9779e+02      6.29e-01       6.92e-04       2.11e+03    \n",
      "      338            367        2.9679e+02      1.00e+00       3.13e-04       4.86e+03    \n",
      "      339            368        2.9616e+02      6.31e-01       6.92e-04       2.10e+03    \n",
      "      340            369        2.9516e+02      1.00e+00       3.12e-04       4.86e+03    \n",
      "      341            370        2.9452e+02      6.33e-01       6.92e-04       2.10e+03    \n",
      "      342            371        2.9352e+02      1.00e+00       3.11e-04       4.86e+03    \n",
      "      343            372        2.9289e+02      6.34e-01       6.92e-04       2.10e+03    \n",
      "      344            373        2.9189e+02      1.00e+00       3.10e-04       4.86e+03    \n",
      "      345            374        2.9125e+02      6.36e-01       6.91e-04       2.10e+03    \n",
      "      346            375        2.9025e+02      9.99e-01       3.08e-04       4.85e+03    \n",
      "      347            376        2.8962e+02      6.37e-01       6.91e-04       2.10e+03    \n",
      "      348            377        2.8862e+02      9.99e-01       3.07e-04       4.85e+03    \n",
      "      349            378        2.8798e+02      6.39e-01       6.91e-04       2.09e+03    \n",
      "      350            379        2.8698e+02      9.98e-01       3.06e-04       4.85e+03    \n",
      "      351            380        2.8634e+02      6.40e-01       6.91e-04       2.09e+03    \n",
      "      352            381        2.8534e+02      9.97e-01       3.05e-04       4.85e+03    \n",
      "      353            382        2.8470e+02      6.42e-01       6.90e-04       2.09e+03    \n",
      "      354            383        2.8371e+02      9.97e-01       3.04e-04       4.84e+03    \n",
      "      355            384        2.8306e+02      6.43e-01       6.90e-04       2.09e+03    \n",
      "      356            385        2.8207e+02      9.96e-01       3.03e-04       4.84e+03    \n",
      "      357            386        2.8142e+02      6.44e-01       6.90e-04       2.08e+03    \n",
      "      358            387        2.8043e+02      9.95e-01       3.02e-04       4.84e+03    \n",
      "      359            388        2.7978e+02      6.46e-01       6.90e-04       2.08e+03    \n",
      "      360            389        2.7879e+02      9.94e-01       3.01e-04       4.83e+03    \n",
      "      361            390        2.7814e+02      6.47e-01       6.89e-04       2.08e+03    \n",
      "      362            391        2.7715e+02      9.94e-01       2.99e-04       4.83e+03    \n",
      "      363            392        2.7650e+02      6.49e-01       6.89e-04       2.07e+03    \n",
      "      364            393        2.7551e+02      9.93e-01       2.98e-04       4.83e+03    \n",
      "      365            394        2.7486e+02      6.50e-01       6.89e-04       2.07e+03    \n",
      "      366            395        2.7386e+02      9.92e-01       2.97e-04       4.82e+03    \n",
      "      367            396        2.7321e+02      6.51e-01       6.88e-04       2.07e+03    \n",
      "      368            397        2.7222e+02      9.91e-01       2.96e-04       4.82e+03    \n",
      "      369            398        2.7157e+02      6.52e-01       6.88e-04       2.06e+03    \n",
      "      370            399        2.7058e+02      9.90e-01       2.95e-04       4.81e+03    \n",
      "      371            400        2.6993e+02      6.54e-01       6.88e-04       2.06e+03    \n",
      "The maximum number of function evaluations is exceeded.\n",
      "Function evaluations 400, initial cost 2.5766e+06, final cost 2.6993e+02, first-order optimality 2.06e+03.\n"
     ]
    }
   ],
   "source": [
    "x0 = [0.2,  0.5, 0.3,  0.2]      # initial guess: [σ, λ, m, v]\n",
    "bounds = ( [1e-2, 1e-1, -2, 1e-3], [0.8, 5, 2, 3] )\n",
    "\n",
    "def cost_function(x, strikes, mkt_prices):\n",
    "    sigma, lambd, meanJ, stdJ = x\n",
    "    M = Merton_pricer(S0, None, T, r, q, sigma, lambd, meanJ, stdJ, exercise)\n",
    "    sq_err = np.sum( p_weights*(M.closed_formula_put(strikes) - mkt_prices)**2)\n",
    "    return sq_err\n",
    "\n",
    "start2 = time.time()\n",
    "mert2 = scpo.least_squares(cost_function, x0, args=(put_strikes, put_prices), bounds=bounds, method = 'trf', verbose=2)\n",
    "end2 = time.time()\n",
    "\n",
    "mert_params2 = [round(p,4) for p in mert2.x[:4]]"
   ],
   "metadata": {
    "collapsed": false,
    "ExecuteTime": {
     "end_time": "2023-09-16T22:59:53.971527300Z",
     "start_time": "2023-09-16T22:58:10.502770600Z"
    }
   }
  },
  {
   "cell_type": "code",
   "execution_count": 22,
   "outputs": [
    {
     "name": "stdout",
     "output_type": "stream",
     "text": [
      "WEIGHTED OPT: CURVE_FIT (trf)\n",
      "> Calibrated Volatlity [σ] = 0.2874 \t 28.74%\n",
      "> Calibrated Jump intensity [λ] =  0.1\n",
      "> Calibrated Jump Mean =  -0.58\n",
      "> Calibrated Jump St. dev.  =  1.18388\n",
      "ELAPSED TIME: 32.259525299072266 sec\n",
      "\n",
      "METHOD 1: LEAST SQUARES (trf)\n",
      "> Calibrated Volatlity [σ] = 0.3207 \t 32.07%\n",
      "> Calibrated Jump intensity [λ] =  0.58\n",
      "> Calibrated Jump Mean =  -0.011\n",
      "> Calibrated Jump St. dev.  =  0.289\n",
      "TIME ELAPSED:  103.45 sec\n"
     ]
    }
   ],
   "source": [
    "print('WEIGHTED OPT: CURVE_FIT (trf)')\n",
    "print(f'> Calibrated Volatlity [σ] = {round(mert1[0][0],4)} \\t {round(mert1[0][0]*100,2)}%')\n",
    "print('> Calibrated Jump intensity [λ] = ', round(mert1[0][1],2))\n",
    "print('> Calibrated Jump Mean = ', round(mert1[0][2],2))\n",
    "print('> Calibrated Jump St. dev.  = ', round(mert1[0][3],5))\n",
    "print(f'ELAPSED TIME: {end1-start1} sec')\n",
    "\n",
    "print('\\nMETHOD 1: LEAST SQUARES (trf)')\n",
    "print(f'> Calibrated Volatlity [σ] = {mert_params2[0]} \\t {round(mert_params2[0]*100,2)}%')\n",
    "print('> Calibrated Jump intensity [λ] = ', round(mert_params2[1],2))\n",
    "print('> Calibrated Jump Mean = ', round(mert_params2[2],3))\n",
    "print('> Calibrated Jump St. dev.  = ', round(mert_params2[3],3))\n",
    "print(f'TIME ELAPSED:  {round(end2-start2,2)} sec')"
   ],
   "metadata": {
    "collapsed": false,
    "ExecuteTime": {
     "end_time": "2023-09-16T22:59:58.990088600Z",
     "start_time": "2023-09-16T22:59:58.936104600Z"
    }
   }
  },
  {
   "cell_type": "code",
   "execution_count": 23,
   "outputs": [
    {
     "name": "stdout",
     "output_type": "stream",
     "text": [
      "[0.2874, 0.1, -0.5776, 1.1839]\n",
      "[0.3207, 0.5767, -0.0107, 0.2886]\n",
      "Stored 'puts_mert_params_aapl' (list)\n"
     ]
    }
   ],
   "source": [
    "print(mert_params1)\n",
    "print(mert_params2)\n",
    "puts_mert_params_aapl = mert_params2\n",
    "%store puts_mert_params_aapl"
   ],
   "metadata": {
    "collapsed": false,
    "ExecuteTime": {
     "end_time": "2023-09-16T23:01:05.738348400Z",
     "start_time": "2023-09-16T23:01:05.672542500Z"
    }
   }
  },
  {
   "cell_type": "markdown",
   "source": [
    "### Kou Jump Diffusion\n"
   ],
   "metadata": {
    "collapsed": false
   }
  },
  {
   "cell_type": "code",
   "execution_count": 26,
   "outputs": [],
   "source": [
    "x0 = [0.3, 0.8, 0.5, 5, 10] # initial guess: [σ, λ, p, η_1, η_2]\n",
    "bounds = ( [1e-2, 1e-1, 0, 0.5, 0.5], [0.5, 4, 1, 15, 20] )"
   ],
   "metadata": {
    "collapsed": false,
    "ExecuteTime": {
     "end_time": "2023-09-16T23:24:58.218996400Z",
     "start_time": "2023-09-16T23:24:58.199746900Z"
    }
   }
  },
  {
   "cell_type": "markdown",
   "source": [
    "##### Method 1. TRF (Bounds)"
   ],
   "metadata": {
    "collapsed": false
   }
  },
  {
   "cell_type": "code",
   "execution_count": 25,
   "outputs": [
    {
     "ename": "KeyboardInterrupt",
     "evalue": "",
     "output_type": "error",
     "traceback": [
      "\u001B[1;31m---------------------------------------------------------------------------\u001B[0m",
      "\u001B[1;31mKeyboardInterrupt\u001B[0m                         Traceback (most recent call last)",
      "Cell \u001B[1;32mIn[25], line 6\u001B[0m\n\u001B[0;32m      3\u001B[0m  \u001B[38;5;28;01mreturn\u001B[39;00m KouJD\u001B[38;5;241m.\u001B[39mclosed_formula_put(x)\n\u001B[0;32m      5\u001B[0m start1 \u001B[38;5;241m=\u001B[39m time\u001B[38;5;241m.\u001B[39mtime()\n\u001B[1;32m----> 6\u001B[0m kou1 \u001B[38;5;241m=\u001B[39m \u001B[43mscpo\u001B[49m\u001B[38;5;241;43m.\u001B[39;49m\u001B[43mcurve_fit\u001B[49m\u001B[43m(\u001B[49m\u001B[43mf_Kou\u001B[49m\u001B[43m,\u001B[49m\u001B[43m \u001B[49m\u001B[43mput_strikes\u001B[49m\u001B[43m,\u001B[49m\u001B[43m \u001B[49m\u001B[43mput_prices\u001B[49m\u001B[43m,\u001B[49m\u001B[43m \u001B[49m\u001B[43mp0\u001B[49m\u001B[38;5;241;43m=\u001B[39;49m\u001B[43mx0\u001B[49m\u001B[43m,\u001B[49m\u001B[43m \u001B[49m\u001B[43mbounds\u001B[49m\u001B[38;5;241;43m=\u001B[39;49m\u001B[43mbounds\u001B[49m\u001B[43m,\u001B[49m\u001B[43m \u001B[49m\u001B[43msigma\u001B[49m\u001B[38;5;241;43m=\u001B[39;49m\u001B[43mp_weights\u001B[49m\u001B[43m)\u001B[49m\n\u001B[0;32m      7\u001B[0m end1 \u001B[38;5;241m=\u001B[39m time\u001B[38;5;241m.\u001B[39mtime()\n\u001B[0;32m      9\u001B[0m kou_params1 \u001B[38;5;241m=\u001B[39m [\u001B[38;5;28mround\u001B[39m(p,\u001B[38;5;241m4\u001B[39m) \u001B[38;5;28;01mfor\u001B[39;00m p \u001B[38;5;129;01min\u001B[39;00m kou1[\u001B[38;5;241m0\u001B[39m][:\u001B[38;5;241m5\u001B[39m]]\n",
      "File \u001B[1;32m~\\PycharmProjects\\Margin-Loans-Pricing\\venv\\Lib\\site-packages\\scipy\\optimize\\_minpack_py.py:974\u001B[0m, in \u001B[0;36mcurve_fit\u001B[1;34m(f, xdata, ydata, p0, sigma, absolute_sigma, check_finite, bounds, method, jac, full_output, nan_policy, **kwargs)\u001B[0m\n\u001B[0;32m    971\u001B[0m \u001B[38;5;28;01mif\u001B[39;00m \u001B[38;5;124m'\u001B[39m\u001B[38;5;124mmax_nfev\u001B[39m\u001B[38;5;124m'\u001B[39m \u001B[38;5;129;01mnot\u001B[39;00m \u001B[38;5;129;01min\u001B[39;00m kwargs:\n\u001B[0;32m    972\u001B[0m     kwargs[\u001B[38;5;124m'\u001B[39m\u001B[38;5;124mmax_nfev\u001B[39m\u001B[38;5;124m'\u001B[39m] \u001B[38;5;241m=\u001B[39m kwargs\u001B[38;5;241m.\u001B[39mpop(\u001B[38;5;124m'\u001B[39m\u001B[38;5;124mmaxfev\u001B[39m\u001B[38;5;124m'\u001B[39m, \u001B[38;5;28;01mNone\u001B[39;00m)\n\u001B[1;32m--> 974\u001B[0m res \u001B[38;5;241m=\u001B[39m \u001B[43mleast_squares\u001B[49m\u001B[43m(\u001B[49m\u001B[43mfunc\u001B[49m\u001B[43m,\u001B[49m\u001B[43m \u001B[49m\u001B[43mp0\u001B[49m\u001B[43m,\u001B[49m\u001B[43m \u001B[49m\u001B[43mjac\u001B[49m\u001B[38;5;241;43m=\u001B[39;49m\u001B[43mjac\u001B[49m\u001B[43m,\u001B[49m\u001B[43m \u001B[49m\u001B[43mbounds\u001B[49m\u001B[38;5;241;43m=\u001B[39;49m\u001B[43mbounds\u001B[49m\u001B[43m,\u001B[49m\u001B[43m \u001B[49m\u001B[43mmethod\u001B[49m\u001B[38;5;241;43m=\u001B[39;49m\u001B[43mmethod\u001B[49m\u001B[43m,\u001B[49m\n\u001B[0;32m    975\u001B[0m \u001B[43m                    \u001B[49m\u001B[38;5;241;43m*\u001B[39;49m\u001B[38;5;241;43m*\u001B[39;49m\u001B[43mkwargs\u001B[49m\u001B[43m)\u001B[49m\n\u001B[0;32m    977\u001B[0m \u001B[38;5;28;01mif\u001B[39;00m \u001B[38;5;129;01mnot\u001B[39;00m res\u001B[38;5;241m.\u001B[39msuccess:\n\u001B[0;32m    978\u001B[0m     \u001B[38;5;28;01mraise\u001B[39;00m \u001B[38;5;167;01mRuntimeError\u001B[39;00m(\u001B[38;5;124m\"\u001B[39m\u001B[38;5;124mOptimal parameters not found: \u001B[39m\u001B[38;5;124m\"\u001B[39m \u001B[38;5;241m+\u001B[39m res\u001B[38;5;241m.\u001B[39mmessage)\n",
      "File \u001B[1;32m~\\PycharmProjects\\Margin-Loans-Pricing\\venv\\Lib\\site-packages\\scipy\\optimize\\_lsq\\least_squares.py:935\u001B[0m, in \u001B[0;36mleast_squares\u001B[1;34m(fun, x0, jac, bounds, method, ftol, xtol, gtol, x_scale, loss, f_scale, diff_step, tr_solver, tr_options, jac_sparsity, max_nfev, verbose, args, kwargs)\u001B[0m\n\u001B[0;32m    931\u001B[0m     result \u001B[38;5;241m=\u001B[39m call_minpack(fun_wrapped, x0, jac_wrapped, ftol, xtol, gtol,\n\u001B[0;32m    932\u001B[0m                           max_nfev, x_scale, diff_step)\n\u001B[0;32m    934\u001B[0m \u001B[38;5;28;01melif\u001B[39;00m method \u001B[38;5;241m==\u001B[39m \u001B[38;5;124m'\u001B[39m\u001B[38;5;124mtrf\u001B[39m\u001B[38;5;124m'\u001B[39m:\n\u001B[1;32m--> 935\u001B[0m     result \u001B[38;5;241m=\u001B[39m \u001B[43mtrf\u001B[49m\u001B[43m(\u001B[49m\u001B[43mfun_wrapped\u001B[49m\u001B[43m,\u001B[49m\u001B[43m \u001B[49m\u001B[43mjac_wrapped\u001B[49m\u001B[43m,\u001B[49m\u001B[43m \u001B[49m\u001B[43mx0\u001B[49m\u001B[43m,\u001B[49m\u001B[43m \u001B[49m\u001B[43mf0\u001B[49m\u001B[43m,\u001B[49m\u001B[43m \u001B[49m\u001B[43mJ0\u001B[49m\u001B[43m,\u001B[49m\u001B[43m \u001B[49m\u001B[43mlb\u001B[49m\u001B[43m,\u001B[49m\u001B[43m \u001B[49m\u001B[43mub\u001B[49m\u001B[43m,\u001B[49m\u001B[43m \u001B[49m\u001B[43mftol\u001B[49m\u001B[43m,\u001B[49m\u001B[43m \u001B[49m\u001B[43mxtol\u001B[49m\u001B[43m,\u001B[49m\n\u001B[0;32m    936\u001B[0m \u001B[43m                 \u001B[49m\u001B[43mgtol\u001B[49m\u001B[43m,\u001B[49m\u001B[43m \u001B[49m\u001B[43mmax_nfev\u001B[49m\u001B[43m,\u001B[49m\u001B[43m \u001B[49m\u001B[43mx_scale\u001B[49m\u001B[43m,\u001B[49m\u001B[43m \u001B[49m\u001B[43mloss_function\u001B[49m\u001B[43m,\u001B[49m\u001B[43m \u001B[49m\u001B[43mtr_solver\u001B[49m\u001B[43m,\u001B[49m\n\u001B[0;32m    937\u001B[0m \u001B[43m                 \u001B[49m\u001B[43mtr_options\u001B[49m\u001B[38;5;241;43m.\u001B[39;49m\u001B[43mcopy\u001B[49m\u001B[43m(\u001B[49m\u001B[43m)\u001B[49m\u001B[43m,\u001B[49m\u001B[43m \u001B[49m\u001B[43mverbose\u001B[49m\u001B[43m)\u001B[49m\n\u001B[0;32m    939\u001B[0m \u001B[38;5;28;01melif\u001B[39;00m method \u001B[38;5;241m==\u001B[39m \u001B[38;5;124m'\u001B[39m\u001B[38;5;124mdogbox\u001B[39m\u001B[38;5;124m'\u001B[39m:\n\u001B[0;32m    940\u001B[0m     \u001B[38;5;28;01mif\u001B[39;00m tr_solver \u001B[38;5;241m==\u001B[39m \u001B[38;5;124m'\u001B[39m\u001B[38;5;124mlsmr\u001B[39m\u001B[38;5;124m'\u001B[39m \u001B[38;5;129;01mand\u001B[39;00m \u001B[38;5;124m'\u001B[39m\u001B[38;5;124mregularize\u001B[39m\u001B[38;5;124m'\u001B[39m \u001B[38;5;129;01min\u001B[39;00m tr_options:\n",
      "File \u001B[1;32m~\\PycharmProjects\\Margin-Loans-Pricing\\venv\\Lib\\site-packages\\scipy\\optimize\\_lsq\\trf.py:123\u001B[0m, in \u001B[0;36mtrf\u001B[1;34m(fun, jac, x0, f0, J0, lb, ub, ftol, xtol, gtol, max_nfev, x_scale, loss_function, tr_solver, tr_options, verbose)\u001B[0m\n\u001B[0;32m    119\u001B[0m     \u001B[38;5;28;01mreturn\u001B[39;00m trf_no_bounds(\n\u001B[0;32m    120\u001B[0m         fun, jac, x0, f0, J0, ftol, xtol, gtol, max_nfev, x_scale,\n\u001B[0;32m    121\u001B[0m         loss_function, tr_solver, tr_options, verbose)\n\u001B[0;32m    122\u001B[0m \u001B[38;5;28;01melse\u001B[39;00m:\n\u001B[1;32m--> 123\u001B[0m     \u001B[38;5;28;01mreturn\u001B[39;00m \u001B[43mtrf_bounds\u001B[49m\u001B[43m(\u001B[49m\n\u001B[0;32m    124\u001B[0m \u001B[43m        \u001B[49m\u001B[43mfun\u001B[49m\u001B[43m,\u001B[49m\u001B[43m \u001B[49m\u001B[43mjac\u001B[49m\u001B[43m,\u001B[49m\u001B[43m \u001B[49m\u001B[43mx0\u001B[49m\u001B[43m,\u001B[49m\u001B[43m \u001B[49m\u001B[43mf0\u001B[49m\u001B[43m,\u001B[49m\u001B[43m \u001B[49m\u001B[43mJ0\u001B[49m\u001B[43m,\u001B[49m\u001B[43m \u001B[49m\u001B[43mlb\u001B[49m\u001B[43m,\u001B[49m\u001B[43m \u001B[49m\u001B[43mub\u001B[49m\u001B[43m,\u001B[49m\u001B[43m \u001B[49m\u001B[43mftol\u001B[49m\u001B[43m,\u001B[49m\u001B[43m \u001B[49m\u001B[43mxtol\u001B[49m\u001B[43m,\u001B[49m\u001B[43m \u001B[49m\u001B[43mgtol\u001B[49m\u001B[43m,\u001B[49m\u001B[43m \u001B[49m\u001B[43mmax_nfev\u001B[49m\u001B[43m,\u001B[49m\u001B[43m \u001B[49m\u001B[43mx_scale\u001B[49m\u001B[43m,\u001B[49m\n\u001B[0;32m    125\u001B[0m \u001B[43m        \u001B[49m\u001B[43mloss_function\u001B[49m\u001B[43m,\u001B[49m\u001B[43m \u001B[49m\u001B[43mtr_solver\u001B[49m\u001B[43m,\u001B[49m\u001B[43m \u001B[49m\u001B[43mtr_options\u001B[49m\u001B[43m,\u001B[49m\u001B[43m \u001B[49m\u001B[43mverbose\u001B[49m\u001B[43m)\u001B[49m\n",
      "File \u001B[1;32m~\\PycharmProjects\\Margin-Loans-Pricing\\venv\\Lib\\site-packages\\scipy\\optimize\\_lsq\\trf.py:374\u001B[0m, in \u001B[0;36mtrf_bounds\u001B[1;34m(fun, jac, x0, f0, J0, lb, ub, ftol, xtol, gtol, max_nfev, x_scale, loss_function, tr_solver, tr_options, verbose)\u001B[0m\n\u001B[0;32m    370\u001B[0m f_true \u001B[38;5;241m=\u001B[39m f\u001B[38;5;241m.\u001B[39mcopy()\n\u001B[0;32m    372\u001B[0m cost \u001B[38;5;241m=\u001B[39m cost_new\n\u001B[1;32m--> 374\u001B[0m J \u001B[38;5;241m=\u001B[39m \u001B[43mjac\u001B[49m\u001B[43m(\u001B[49m\u001B[43mx\u001B[49m\u001B[43m,\u001B[49m\u001B[43m \u001B[49m\u001B[43mf\u001B[49m\u001B[43m)\u001B[49m\n\u001B[0;32m    375\u001B[0m njev \u001B[38;5;241m+\u001B[39m\u001B[38;5;241m=\u001B[39m \u001B[38;5;241m1\u001B[39m\n\u001B[0;32m    377\u001B[0m \u001B[38;5;28;01mif\u001B[39;00m loss_function \u001B[38;5;129;01mis\u001B[39;00m \u001B[38;5;129;01mnot\u001B[39;00m \u001B[38;5;28;01mNone\u001B[39;00m:\n",
      "File \u001B[1;32m~\\PycharmProjects\\Margin-Loans-Pricing\\venv\\Lib\\site-packages\\scipy\\optimize\\_lsq\\least_squares.py:893\u001B[0m, in \u001B[0;36mleast_squares.<locals>.jac_wrapped\u001B[1;34m(x, f)\u001B[0m\n\u001B[0;32m    892\u001B[0m \u001B[38;5;28;01mdef\u001B[39;00m \u001B[38;5;21mjac_wrapped\u001B[39m(x, f):\n\u001B[1;32m--> 893\u001B[0m     J \u001B[38;5;241m=\u001B[39m \u001B[43mapprox_derivative\u001B[49m\u001B[43m(\u001B[49m\u001B[43mfun\u001B[49m\u001B[43m,\u001B[49m\u001B[43m \u001B[49m\u001B[43mx\u001B[49m\u001B[43m,\u001B[49m\u001B[43m \u001B[49m\u001B[43mrel_step\u001B[49m\u001B[38;5;241;43m=\u001B[39;49m\u001B[43mdiff_step\u001B[49m\u001B[43m,\u001B[49m\u001B[43m \u001B[49m\u001B[43mmethod\u001B[49m\u001B[38;5;241;43m=\u001B[39;49m\u001B[43mjac\u001B[49m\u001B[43m,\u001B[49m\n\u001B[0;32m    894\u001B[0m \u001B[43m                          \u001B[49m\u001B[43mf0\u001B[49m\u001B[38;5;241;43m=\u001B[39;49m\u001B[43mf\u001B[49m\u001B[43m,\u001B[49m\u001B[43m \u001B[49m\u001B[43mbounds\u001B[49m\u001B[38;5;241;43m=\u001B[39;49m\u001B[43mbounds\u001B[49m\u001B[43m,\u001B[49m\u001B[43m \u001B[49m\u001B[43margs\u001B[49m\u001B[38;5;241;43m=\u001B[39;49m\u001B[43margs\u001B[49m\u001B[43m,\u001B[49m\n\u001B[0;32m    895\u001B[0m \u001B[43m                          \u001B[49m\u001B[43mkwargs\u001B[49m\u001B[38;5;241;43m=\u001B[39;49m\u001B[43mkwargs\u001B[49m\u001B[43m,\u001B[49m\u001B[43m \u001B[49m\u001B[43msparsity\u001B[49m\u001B[38;5;241;43m=\u001B[39;49m\u001B[43mjac_sparsity\u001B[49m\u001B[43m)\u001B[49m\n\u001B[0;32m    896\u001B[0m     \u001B[38;5;28;01mif\u001B[39;00m J\u001B[38;5;241m.\u001B[39mndim \u001B[38;5;241m!=\u001B[39m \u001B[38;5;241m2\u001B[39m:  \u001B[38;5;66;03m# J is guaranteed not sparse.\u001B[39;00m\n\u001B[0;32m    897\u001B[0m         J \u001B[38;5;241m=\u001B[39m np\u001B[38;5;241m.\u001B[39matleast_2d(J)\n",
      "File \u001B[1;32m~\\PycharmProjects\\Margin-Loans-Pricing\\venv\\Lib\\site-packages\\scipy\\optimize\\_numdiff.py:505\u001B[0m, in \u001B[0;36mapprox_derivative\u001B[1;34m(fun, x0, method, rel_step, abs_step, f0, bounds, sparsity, as_linear_operator, args, kwargs)\u001B[0m\n\u001B[0;32m    502\u001B[0m     use_one_sided \u001B[38;5;241m=\u001B[39m \u001B[38;5;28;01mFalse\u001B[39;00m\n\u001B[0;32m    504\u001B[0m \u001B[38;5;28;01mif\u001B[39;00m sparsity \u001B[38;5;129;01mis\u001B[39;00m \u001B[38;5;28;01mNone\u001B[39;00m:\n\u001B[1;32m--> 505\u001B[0m     \u001B[38;5;28;01mreturn\u001B[39;00m \u001B[43m_dense_difference\u001B[49m\u001B[43m(\u001B[49m\u001B[43mfun_wrapped\u001B[49m\u001B[43m,\u001B[49m\u001B[43m \u001B[49m\u001B[43mx0\u001B[49m\u001B[43m,\u001B[49m\u001B[43m \u001B[49m\u001B[43mf0\u001B[49m\u001B[43m,\u001B[49m\u001B[43m \u001B[49m\u001B[43mh\u001B[49m\u001B[43m,\u001B[49m\n\u001B[0;32m    506\u001B[0m \u001B[43m                             \u001B[49m\u001B[43muse_one_sided\u001B[49m\u001B[43m,\u001B[49m\u001B[43m \u001B[49m\u001B[43mmethod\u001B[49m\u001B[43m)\u001B[49m\n\u001B[0;32m    507\u001B[0m \u001B[38;5;28;01melse\u001B[39;00m:\n\u001B[0;32m    508\u001B[0m     \u001B[38;5;28;01mif\u001B[39;00m \u001B[38;5;129;01mnot\u001B[39;00m issparse(sparsity) \u001B[38;5;129;01mand\u001B[39;00m \u001B[38;5;28mlen\u001B[39m(sparsity) \u001B[38;5;241m==\u001B[39m \u001B[38;5;241m2\u001B[39m:\n",
      "File \u001B[1;32m~\\PycharmProjects\\Margin-Loans-Pricing\\venv\\Lib\\site-packages\\scipy\\optimize\\_numdiff.py:576\u001B[0m, in \u001B[0;36m_dense_difference\u001B[1;34m(fun, x0, f0, h, use_one_sided, method)\u001B[0m\n\u001B[0;32m    574\u001B[0m     x \u001B[38;5;241m=\u001B[39m x0 \u001B[38;5;241m+\u001B[39m h_vecs[i]\n\u001B[0;32m    575\u001B[0m     dx \u001B[38;5;241m=\u001B[39m x[i] \u001B[38;5;241m-\u001B[39m x0[i]  \u001B[38;5;66;03m# Recompute dx as exactly representable number.\u001B[39;00m\n\u001B[1;32m--> 576\u001B[0m     df \u001B[38;5;241m=\u001B[39m \u001B[43mfun\u001B[49m\u001B[43m(\u001B[49m\u001B[43mx\u001B[49m\u001B[43m)\u001B[49m \u001B[38;5;241m-\u001B[39m f0\n\u001B[0;32m    577\u001B[0m \u001B[38;5;28;01melif\u001B[39;00m method \u001B[38;5;241m==\u001B[39m \u001B[38;5;124m'\u001B[39m\u001B[38;5;124m3-point\u001B[39m\u001B[38;5;124m'\u001B[39m \u001B[38;5;129;01mand\u001B[39;00m use_one_sided[i]:\n\u001B[0;32m    578\u001B[0m     x1 \u001B[38;5;241m=\u001B[39m x0 \u001B[38;5;241m+\u001B[39m h_vecs[i]\n",
      "File \u001B[1;32m~\\PycharmProjects\\Margin-Loans-Pricing\\venv\\Lib\\site-packages\\scipy\\optimize\\_numdiff.py:456\u001B[0m, in \u001B[0;36mapprox_derivative.<locals>.fun_wrapped\u001B[1;34m(x)\u001B[0m\n\u001B[0;32m    455\u001B[0m \u001B[38;5;28;01mdef\u001B[39;00m \u001B[38;5;21mfun_wrapped\u001B[39m(x):\n\u001B[1;32m--> 456\u001B[0m     f \u001B[38;5;241m=\u001B[39m np\u001B[38;5;241m.\u001B[39matleast_1d(\u001B[43mfun\u001B[49m\u001B[43m(\u001B[49m\u001B[43mx\u001B[49m\u001B[43m,\u001B[49m\u001B[43m \u001B[49m\u001B[38;5;241;43m*\u001B[39;49m\u001B[43margs\u001B[49m\u001B[43m,\u001B[49m\u001B[43m \u001B[49m\u001B[38;5;241;43m*\u001B[39;49m\u001B[38;5;241;43m*\u001B[39;49m\u001B[43mkwargs\u001B[49m\u001B[43m)\u001B[49m)\n\u001B[0;32m    457\u001B[0m     \u001B[38;5;28;01mif\u001B[39;00m f\u001B[38;5;241m.\u001B[39mndim \u001B[38;5;241m>\u001B[39m \u001B[38;5;241m1\u001B[39m:\n\u001B[0;32m    458\u001B[0m         \u001B[38;5;28;01mraise\u001B[39;00m \u001B[38;5;167;01mRuntimeError\u001B[39;00m(\u001B[38;5;124m\"\u001B[39m\u001B[38;5;124m`fun` return value has \u001B[39m\u001B[38;5;124m\"\u001B[39m\n\u001B[0;32m    459\u001B[0m                            \u001B[38;5;124m\"\u001B[39m\u001B[38;5;124mmore than 1 dimension.\u001B[39m\u001B[38;5;124m\"\u001B[39m)\n",
      "File \u001B[1;32m~\\PycharmProjects\\Margin-Loans-Pricing\\venv\\Lib\\site-packages\\scipy\\optimize\\_minpack_py.py:507\u001B[0m, in \u001B[0;36m_lightweight_memoizer.<locals>._memoized_func\u001B[1;34m(params)\u001B[0m\n\u001B[0;32m    504\u001B[0m \u001B[38;5;28;01mif\u001B[39;00m np\u001B[38;5;241m.\u001B[39mall(_memoized_func\u001B[38;5;241m.\u001B[39mlast_params \u001B[38;5;241m==\u001B[39m params):\n\u001B[0;32m    505\u001B[0m     \u001B[38;5;28;01mreturn\u001B[39;00m _memoized_func\u001B[38;5;241m.\u001B[39mlast_val\n\u001B[1;32m--> 507\u001B[0m val \u001B[38;5;241m=\u001B[39m \u001B[43mf\u001B[49m\u001B[43m(\u001B[49m\u001B[43mparams\u001B[49m\u001B[43m)\u001B[49m\n\u001B[0;32m    509\u001B[0m \u001B[38;5;28;01mif\u001B[39;00m _memoized_func\u001B[38;5;241m.\u001B[39mlast_params \u001B[38;5;129;01mis\u001B[39;00m \u001B[38;5;28;01mNone\u001B[39;00m:\n\u001B[0;32m    510\u001B[0m     _memoized_func\u001B[38;5;241m.\u001B[39mlast_params \u001B[38;5;241m=\u001B[39m np\u001B[38;5;241m.\u001B[39mcopy(params)\n",
      "File \u001B[1;32m~\\PycharmProjects\\Margin-Loans-Pricing\\venv\\Lib\\site-packages\\scipy\\optimize\\_minpack_py.py:526\u001B[0m, in \u001B[0;36m_wrap_func.<locals>.func_wrapped\u001B[1;34m(params)\u001B[0m\n\u001B[0;32m    525\u001B[0m \u001B[38;5;28;01mdef\u001B[39;00m \u001B[38;5;21mfunc_wrapped\u001B[39m(params):\n\u001B[1;32m--> 526\u001B[0m     \u001B[38;5;28;01mreturn\u001B[39;00m transform \u001B[38;5;241m*\u001B[39m (\u001B[43mfunc\u001B[49m\u001B[43m(\u001B[49m\u001B[43mxdata\u001B[49m\u001B[43m,\u001B[49m\u001B[43m \u001B[49m\u001B[38;5;241;43m*\u001B[39;49m\u001B[43mparams\u001B[49m\u001B[43m)\u001B[49m \u001B[38;5;241m-\u001B[39m ydata)\n",
      "Cell \u001B[1;32mIn[25], line 3\u001B[0m, in \u001B[0;36mf_Kou\u001B[1;34m(x, sigma, lambd, p, eta1, eta2)\u001B[0m\n\u001B[0;32m      1\u001B[0m \u001B[38;5;28;01mdef\u001B[39;00m \u001B[38;5;21mf_Kou\u001B[39m(x, sigma, lambd, p, eta1, eta2):\n\u001B[0;32m      2\u001B[0m  KouJD \u001B[38;5;241m=\u001B[39m Kou_pricer(S0\u001B[38;5;241m=\u001B[39mS0, K\u001B[38;5;241m=\u001B[39mx, ttm\u001B[38;5;241m=\u001B[39mT, r\u001B[38;5;241m=\u001B[39mr, sigma\u001B[38;5;241m=\u001B[39msigma, lambd\u001B[38;5;241m=\u001B[39mlambd, p\u001B[38;5;241m=\u001B[39mp, eta1\u001B[38;5;241m=\u001B[39meta1, eta2\u001B[38;5;241m=\u001B[39meta2, exercise\u001B[38;5;241m=\u001B[39mexercise)\n\u001B[1;32m----> 3\u001B[0m  \u001B[38;5;28;01mreturn\u001B[39;00m \u001B[43mKouJD\u001B[49m\u001B[38;5;241;43m.\u001B[39;49m\u001B[43mclosed_formula_put\u001B[49m\u001B[43m(\u001B[49m\u001B[43mx\u001B[49m\u001B[43m)\u001B[49m\n",
      "File \u001B[1;32m~\\PycharmProjects\\Margin-Loans-Pricing/functions\\KOUpricer.py:323\u001B[0m, in \u001B[0;36mKou_pricer.closed_formula_put\u001B[1;34m(self, K)\u001B[0m\n\u001B[0;32m    321\u001B[0m \u001B[38;5;28;01mdef\u001B[39;00m \u001B[38;5;21mclosed_formula_put\u001B[39m(\u001B[38;5;28mself\u001B[39m, K):\n\u001B[0;32m    322\u001B[0m     \u001B[38;5;28mself\u001B[39m\u001B[38;5;241m.\u001B[39mK \u001B[38;5;241m=\u001B[39m K\n\u001B[1;32m--> 323\u001B[0m     \u001B[38;5;28;01mreturn\u001B[39;00m \u001B[38;5;28;43mself\u001B[39;49m\u001B[38;5;241;43m.\u001B[39;49m\u001B[43mclosed_formula_call\u001B[49m\u001B[43m(\u001B[49m\u001B[38;5;28;43mself\u001B[39;49m\u001B[38;5;241;43m.\u001B[39;49m\u001B[43mK\u001B[49m\u001B[43m)\u001B[49m \u001B[38;5;241m+\u001B[39m (\u001B[38;5;28mself\u001B[39m\u001B[38;5;241m.\u001B[39mK \u001B[38;5;241m*\u001B[39m np\u001B[38;5;241m.\u001B[39mexp(\u001B[38;5;241m-\u001B[39m\u001B[38;5;28mself\u001B[39m\u001B[38;5;241m.\u001B[39mr \u001B[38;5;241m*\u001B[39m \u001B[38;5;28mself\u001B[39m\u001B[38;5;241m.\u001B[39mT) \u001B[38;5;241m-\u001B[39m \u001B[38;5;28mself\u001B[39m\u001B[38;5;241m.\u001B[39mS0)\n",
      "File \u001B[1;32m~\\PycharmProjects\\Margin-Loans-Pricing/functions\\KOUpricer.py:314\u001B[0m, in \u001B[0;36mKou_pricer.closed_formula_call\u001B[1;34m(self, K)\u001B[0m\n\u001B[0;32m    311\u001B[0m p2 \u001B[38;5;241m=\u001B[39m \u001B[38;5;28mself\u001B[39m\u001B[38;5;241m.\u001B[39mp \u001B[38;5;241m/\u001B[39m (\u001B[38;5;241m1\u001B[39m \u001B[38;5;241m+\u001B[39m zeta) \u001B[38;5;241m*\u001B[39m \u001B[38;5;28mself\u001B[39m\u001B[38;5;241m.\u001B[39meta1 \u001B[38;5;241m/\u001B[39m (\u001B[38;5;28mself\u001B[39m\u001B[38;5;241m.\u001B[39meta1 \u001B[38;5;241m-\u001B[39m \u001B[38;5;241m1\u001B[39m)\n\u001B[0;32m    312\u001B[0m vkjd_1 \u001B[38;5;241m=\u001B[39m \u001B[38;5;28mself\u001B[39m\u001B[38;5;241m.\u001B[39mS0 \u001B[38;5;241m*\u001B[39m \u001B[38;5;28mself\u001B[39m\u001B[38;5;241m.\u001B[39mYfunction(\u001B[38;5;28mself\u001B[39m\u001B[38;5;241m.\u001B[39mr \u001B[38;5;241m+\u001B[39m \u001B[38;5;241m1\u001B[39m \u001B[38;5;241m/\u001B[39m \u001B[38;5;241m2\u001B[39m \u001B[38;5;241m*\u001B[39m \u001B[38;5;28mself\u001B[39m\u001B[38;5;241m.\u001B[39msigma \u001B[38;5;241m*\u001B[39m\u001B[38;5;241m*\u001B[39m \u001B[38;5;241m2\u001B[39m \u001B[38;5;241m-\u001B[39m \u001B[38;5;28mself\u001B[39m\u001B[38;5;241m.\u001B[39mlambd \u001B[38;5;241m*\u001B[39m zeta, \u001B[38;5;28mself\u001B[39m\u001B[38;5;241m.\u001B[39msigma, lambd2, p2,\n\u001B[0;32m    313\u001B[0m                                   eta1_2, eta2_2, np\u001B[38;5;241m.\u001B[39mlog(\u001B[38;5;28mself\u001B[39m\u001B[38;5;241m.\u001B[39mK \u001B[38;5;241m/\u001B[39m \u001B[38;5;28mself\u001B[39m\u001B[38;5;241m.\u001B[39mS0), \u001B[38;5;28mself\u001B[39m\u001B[38;5;241m.\u001B[39mT)\n\u001B[1;32m--> 314\u001B[0m vkjd_2 \u001B[38;5;241m=\u001B[39m \u001B[38;5;28mself\u001B[39m\u001B[38;5;241m.\u001B[39mK \u001B[38;5;241m*\u001B[39m np\u001B[38;5;241m.\u001B[39mexp(\u001B[38;5;241m-\u001B[39m\u001B[38;5;28mself\u001B[39m\u001B[38;5;241m.\u001B[39mr \u001B[38;5;241m*\u001B[39m \u001B[38;5;28mself\u001B[39m\u001B[38;5;241m.\u001B[39mT) \u001B[38;5;241m*\u001B[39m \u001B[38;5;28;43mself\u001B[39;49m\u001B[38;5;241;43m.\u001B[39;49m\u001B[43mYfunction\u001B[49m\u001B[43m(\u001B[49m\n\u001B[0;32m    315\u001B[0m \u001B[43m    \u001B[49m\u001B[38;5;28;43mself\u001B[39;49m\u001B[38;5;241;43m.\u001B[39;49m\u001B[43mr\u001B[49m\u001B[43m \u001B[49m\u001B[38;5;241;43m-\u001B[39;49m\u001B[43m \u001B[49m\u001B[38;5;241;43m1\u001B[39;49m\u001B[43m \u001B[49m\u001B[38;5;241;43m/\u001B[39;49m\u001B[43m \u001B[49m\u001B[38;5;241;43m2\u001B[39;49m\u001B[43m \u001B[49m\u001B[38;5;241;43m*\u001B[39;49m\u001B[43m \u001B[49m\u001B[38;5;28;43mself\u001B[39;49m\u001B[38;5;241;43m.\u001B[39;49m\u001B[43msigma\u001B[49m\u001B[43m \u001B[49m\u001B[38;5;241;43m*\u001B[39;49m\u001B[38;5;241;43m*\u001B[39;49m\u001B[43m \u001B[49m\u001B[38;5;241;43m2\u001B[39;49m\u001B[43m \u001B[49m\u001B[38;5;241;43m-\u001B[39;49m\u001B[43m \u001B[49m\u001B[38;5;28;43mself\u001B[39;49m\u001B[38;5;241;43m.\u001B[39;49m\u001B[43mlambd\u001B[49m\u001B[43m \u001B[49m\u001B[38;5;241;43m*\u001B[39;49m\u001B[43m \u001B[49m\u001B[43mzeta\u001B[49m\u001B[43m,\u001B[49m\n\u001B[0;32m    316\u001B[0m \u001B[43m    \u001B[49m\u001B[38;5;28;43mself\u001B[39;49m\u001B[38;5;241;43m.\u001B[39;49m\u001B[43msigma\u001B[49m\u001B[43m,\u001B[49m\u001B[43m \u001B[49m\u001B[38;5;28;43mself\u001B[39;49m\u001B[38;5;241;43m.\u001B[39;49m\u001B[43mlambd\u001B[49m\u001B[43m,\u001B[49m\u001B[43m \u001B[49m\u001B[38;5;28;43mself\u001B[39;49m\u001B[38;5;241;43m.\u001B[39;49m\u001B[43mp\u001B[49m\u001B[43m,\u001B[49m\u001B[43m \u001B[49m\u001B[38;5;28;43mself\u001B[39;49m\u001B[38;5;241;43m.\u001B[39;49m\u001B[43meta1\u001B[49m\u001B[43m,\u001B[49m\u001B[43m \u001B[49m\u001B[38;5;28;43mself\u001B[39;49m\u001B[38;5;241;43m.\u001B[39;49m\u001B[43meta2\u001B[49m\u001B[43m,\u001B[49m\n\u001B[0;32m    317\u001B[0m \u001B[43m    \u001B[49m\u001B[43mnp\u001B[49m\u001B[38;5;241;43m.\u001B[39;49m\u001B[43mlog\u001B[49m\u001B[43m(\u001B[49m\u001B[38;5;28;43mself\u001B[39;49m\u001B[38;5;241;43m.\u001B[39;49m\u001B[43mK\u001B[49m\u001B[43m \u001B[49m\u001B[38;5;241;43m/\u001B[39;49m\u001B[43m \u001B[49m\u001B[38;5;28;43mself\u001B[39;49m\u001B[38;5;241;43m.\u001B[39;49m\u001B[43mS0\u001B[49m\u001B[43m)\u001B[49m\u001B[43m,\u001B[49m\u001B[43m \u001B[49m\u001B[38;5;28;43mself\u001B[39;49m\u001B[38;5;241;43m.\u001B[39;49m\u001B[43mT\u001B[49m\u001B[43m)\u001B[49m\n\u001B[0;32m    319\u001B[0m \u001B[38;5;28;01mreturn\u001B[39;00m vkjd_1 \u001B[38;5;241m-\u001B[39m vkjd_2\n",
      "File \u001B[1;32m~\\PycharmProjects\\Margin-Loans-Pricing/functions\\KOUpricer.py:291\u001B[0m, in \u001B[0;36mKou_pricer.Yfunction\u001B[1;34m(self, mu, sigma, lambd, p, eta1, eta2, a, T)\u001B[0m\n\u001B[0;32m    286\u001B[0m \u001B[38;5;28;01mfor\u001B[39;00m k \u001B[38;5;129;01min\u001B[39;00m \u001B[38;5;28mrange\u001B[39m(\u001B[38;5;241m1\u001B[39m, n \u001B[38;5;241m+\u001B[39m \u001B[38;5;241m1\u001B[39m):\n\u001B[0;32m    287\u001B[0m     sump2_k \u001B[38;5;241m=\u001B[39m \u001B[38;5;28mself\u001B[39m\u001B[38;5;241m.\u001B[39mP(n, k, eta1, eta2, p) \u001B[38;5;241m*\u001B[39m (sigma \u001B[38;5;241m*\u001B[39m np\u001B[38;5;241m.\u001B[39msqrt(T) \u001B[38;5;241m*\u001B[39m eta1) \u001B[38;5;241m*\u001B[39m\u001B[38;5;241m*\u001B[39m k \u001B[38;5;241m*\u001B[39m \\\n\u001B[0;32m    288\u001B[0m               \u001B[38;5;28mself\u001B[39m\u001B[38;5;241m.\u001B[39mI(k \u001B[38;5;241m-\u001B[39m \u001B[38;5;241m1\u001B[39m, a \u001B[38;5;241m-\u001B[39m mu \u001B[38;5;241m*\u001B[39m T, \u001B[38;5;241m-\u001B[39meta1, \u001B[38;5;241m-\u001B[39m\u001B[38;5;241m1\u001B[39m \u001B[38;5;241m/\u001B[39m (sigma \u001B[38;5;241m*\u001B[39m np\u001B[38;5;241m.\u001B[39msqrt(T)), \u001B[38;5;241m-\u001B[39msigma \u001B[38;5;241m*\u001B[39m eta1 \u001B[38;5;241m*\u001B[39m np\u001B[38;5;241m.\u001B[39msqrt(T))\n\u001B[0;32m    290\u001B[0m     sumq2_k \u001B[38;5;241m=\u001B[39m \u001B[38;5;28mself\u001B[39m\u001B[38;5;241m.\u001B[39mQ(n, k, eta1, eta2, p) \u001B[38;5;241m*\u001B[39m (sigma \u001B[38;5;241m*\u001B[39m np\u001B[38;5;241m.\u001B[39msqrt(T) \u001B[38;5;241m*\u001B[39m eta2) \u001B[38;5;241m*\u001B[39m\u001B[38;5;241m*\u001B[39m k \u001B[38;5;241m*\u001B[39m \\\n\u001B[1;32m--> 291\u001B[0m               \u001B[38;5;28;43mself\u001B[39;49m\u001B[38;5;241;43m.\u001B[39;49m\u001B[43mI\u001B[49m\u001B[43m(\u001B[49m\u001B[43mk\u001B[49m\u001B[43m \u001B[49m\u001B[38;5;241;43m-\u001B[39;49m\u001B[43m \u001B[49m\u001B[38;5;241;43m1\u001B[39;49m\u001B[43m,\u001B[49m\u001B[43m \u001B[49m\u001B[43ma\u001B[49m\u001B[43m \u001B[49m\u001B[38;5;241;43m-\u001B[39;49m\u001B[43m \u001B[49m\u001B[43mmu\u001B[49m\u001B[43m \u001B[49m\u001B[38;5;241;43m*\u001B[39;49m\u001B[43m \u001B[49m\u001B[43mT\u001B[49m\u001B[43m,\u001B[49m\u001B[43m \u001B[49m\u001B[43meta2\u001B[49m\u001B[43m,\u001B[49m\u001B[43m \u001B[49m\u001B[38;5;241;43m1\u001B[39;49m\u001B[43m \u001B[49m\u001B[38;5;241;43m/\u001B[39;49m\u001B[43m \u001B[49m\u001B[43m(\u001B[49m\u001B[43msigma\u001B[49m\u001B[43m \u001B[49m\u001B[38;5;241;43m*\u001B[39;49m\u001B[43m \u001B[49m\u001B[43mnp\u001B[49m\u001B[38;5;241;43m.\u001B[39;49m\u001B[43msqrt\u001B[49m\u001B[43m(\u001B[49m\u001B[43mT\u001B[49m\u001B[43m)\u001B[49m\u001B[43m)\u001B[49m\u001B[43m,\u001B[49m\u001B[43m \u001B[49m\u001B[38;5;241;43m-\u001B[39;49m\u001B[43msigma\u001B[49m\u001B[43m \u001B[49m\u001B[38;5;241;43m*\u001B[39;49m\u001B[43m \u001B[49m\u001B[43meta2\u001B[49m\u001B[43m \u001B[49m\u001B[38;5;241;43m*\u001B[39;49m\u001B[43m \u001B[49m\u001B[43mnp\u001B[49m\u001B[38;5;241;43m.\u001B[39;49m\u001B[43msqrt\u001B[49m\u001B[43m(\u001B[49m\u001B[43mT\u001B[49m\u001B[43m)\u001B[49m\u001B[43m)\u001B[49m\n\u001B[0;32m    293\u001B[0m     sump1_n \u001B[38;5;241m+\u001B[39m\u001B[38;5;241m=\u001B[39m sump2_k\n\u001B[0;32m    294\u001B[0m     sumq1_n \u001B[38;5;241m+\u001B[39m\u001B[38;5;241m=\u001B[39m sumq2_k\n",
      "File \u001B[1;32m~\\PycharmProjects\\Margin-Loans-Pricing/functions\\KOUpricer.py:267\u001B[0m, in \u001B[0;36mKou_pricer.I\u001B[1;34m(self, n, c, alpha, beta, delta)\u001B[0m\n\u001B[0;32m    265\u001B[0m i \u001B[38;5;241m=\u001B[39m \u001B[38;5;241m0\u001B[39m\n\u001B[0;32m    266\u001B[0m \u001B[38;5;28;01mwhile\u001B[39;00m i \u001B[38;5;241m<\u001B[39m\u001B[38;5;241m=\u001B[39m n:\n\u001B[1;32m--> 267\u001B[0m     sum_i \u001B[38;5;241m=\u001B[39m sum_i \u001B[38;5;241m+\u001B[39m (beta \u001B[38;5;241m/\u001B[39m alpha) \u001B[38;5;241m*\u001B[39m\u001B[38;5;241m*\u001B[39m (n \u001B[38;5;241m-\u001B[39m i) \u001B[38;5;241m*\u001B[39m \u001B[38;5;28;43mself\u001B[39;49m\u001B[38;5;241;43m.\u001B[39;49m\u001B[43mHh\u001B[49m\u001B[43m(\u001B[49m\u001B[43mi\u001B[49m\u001B[43m,\u001B[49m\u001B[43m \u001B[49m\u001B[43mbeta\u001B[49m\u001B[43m \u001B[49m\u001B[38;5;241;43m*\u001B[39;49m\u001B[43m \u001B[49m\u001B[43mc\u001B[49m\u001B[43m \u001B[49m\u001B[38;5;241;43m-\u001B[39;49m\u001B[43m \u001B[49m\u001B[43mdelta\u001B[49m\u001B[43m)\u001B[49m\n\u001B[0;32m    268\u001B[0m     i \u001B[38;5;241m+\u001B[39m\u001B[38;5;241m=\u001B[39m \u001B[38;5;241m1\u001B[39m\n\u001B[0;32m    269\u001B[0m \u001B[38;5;28;01mreturn\u001B[39;00m \u001B[38;5;241m-\u001B[39mnp\u001B[38;5;241m.\u001B[39mexp(alpha \u001B[38;5;241m*\u001B[39m c) \u001B[38;5;241m/\u001B[39m alpha \u001B[38;5;241m*\u001B[39m sum_i \u001B[38;5;241m+\u001B[39m (beta \u001B[38;5;241m/\u001B[39m alpha) \u001B[38;5;241m*\u001B[39m\u001B[38;5;241m*\u001B[39m (n \u001B[38;5;241m+\u001B[39m \u001B[38;5;241m1\u001B[39m) \u001B[38;5;241m*\u001B[39m (np\u001B[38;5;241m.\u001B[39msqrt(\u001B[38;5;241m2\u001B[39m \u001B[38;5;241m*\u001B[39m np\u001B[38;5;241m.\u001B[39mpi) \u001B[38;5;241m/\u001B[39m beta) \\\n\u001B[0;32m    270\u001B[0m        \u001B[38;5;241m*\u001B[39m np\u001B[38;5;241m.\u001B[39mexp((alpha \u001B[38;5;241m*\u001B[39m delta \u001B[38;5;241m/\u001B[39m beta) \u001B[38;5;241m+\u001B[39m (alpha \u001B[38;5;241m*\u001B[39m\u001B[38;5;241m*\u001B[39m \u001B[38;5;241m2\u001B[39m \u001B[38;5;241m/\u001B[39m (\u001B[38;5;241m2\u001B[39m \u001B[38;5;241m*\u001B[39m beta \u001B[38;5;241m*\u001B[39m\u001B[38;5;241m*\u001B[39m \u001B[38;5;241m2\u001B[39m))) \u001B[38;5;241m*\u001B[39m scs\u001B[38;5;241m.\u001B[39mnorm\u001B[38;5;241m.\u001B[39mcdf(\n\u001B[0;32m    271\u001B[0m     \u001B[38;5;241m-\u001B[39mbeta \u001B[38;5;241m*\u001B[39m c \u001B[38;5;241m+\u001B[39m delta \u001B[38;5;241m+\u001B[39m alpha \u001B[38;5;241m/\u001B[39m beta)\n",
      "File \u001B[1;32m~\\PycharmProjects\\Margin-Loans-Pricing/functions\\KOUpricer.py:219\u001B[0m, in \u001B[0;36mKou_pricer.Hh\u001B[1;34m(self, n, x)\u001B[0m\n\u001B[0;32m    217\u001B[0m     \u001B[38;5;28;01mreturn\u001B[39;00m np\u001B[38;5;241m.\u001B[39msqrt(\u001B[38;5;241m2\u001B[39m \u001B[38;5;241m*\u001B[39m np\u001B[38;5;241m.\u001B[39mpi) \u001B[38;5;241m*\u001B[39m scs\u001B[38;5;241m.\u001B[39mnorm\u001B[38;5;241m.\u001B[39mcdf(\u001B[38;5;241m-\u001B[39mx)\n\u001B[0;32m    218\u001B[0m \u001B[38;5;28;01melse\u001B[39;00m:\n\u001B[1;32m--> 219\u001B[0m     \u001B[38;5;28;01mreturn\u001B[39;00m (\u001B[38;5;28mself\u001B[39m\u001B[38;5;241m.\u001B[39mHh(n \u001B[38;5;241m-\u001B[39m \u001B[38;5;241m2\u001B[39m, x) \u001B[38;5;241m-\u001B[39m x \u001B[38;5;241m*\u001B[39m \u001B[38;5;28;43mself\u001B[39;49m\u001B[38;5;241;43m.\u001B[39;49m\u001B[43mHh\u001B[49m\u001B[43m(\u001B[49m\u001B[43mn\u001B[49m\u001B[43m \u001B[49m\u001B[38;5;241;43m-\u001B[39;49m\u001B[43m \u001B[49m\u001B[38;5;241;43m1\u001B[39;49m\u001B[43m,\u001B[49m\u001B[43m \u001B[49m\u001B[43mx\u001B[49m\u001B[43m)\u001B[49m) \u001B[38;5;241m/\u001B[39m n\n",
      "File \u001B[1;32m~\\PycharmProjects\\Margin-Loans-Pricing/functions\\KOUpricer.py:219\u001B[0m, in \u001B[0;36mKou_pricer.Hh\u001B[1;34m(self, n, x)\u001B[0m\n\u001B[0;32m    217\u001B[0m     \u001B[38;5;28;01mreturn\u001B[39;00m np\u001B[38;5;241m.\u001B[39msqrt(\u001B[38;5;241m2\u001B[39m \u001B[38;5;241m*\u001B[39m np\u001B[38;5;241m.\u001B[39mpi) \u001B[38;5;241m*\u001B[39m scs\u001B[38;5;241m.\u001B[39mnorm\u001B[38;5;241m.\u001B[39mcdf(\u001B[38;5;241m-\u001B[39mx)\n\u001B[0;32m    218\u001B[0m \u001B[38;5;28;01melse\u001B[39;00m:\n\u001B[1;32m--> 219\u001B[0m     \u001B[38;5;28;01mreturn\u001B[39;00m (\u001B[38;5;28mself\u001B[39m\u001B[38;5;241m.\u001B[39mHh(n \u001B[38;5;241m-\u001B[39m \u001B[38;5;241m2\u001B[39m, x) \u001B[38;5;241m-\u001B[39m x \u001B[38;5;241m*\u001B[39m \u001B[38;5;28;43mself\u001B[39;49m\u001B[38;5;241;43m.\u001B[39;49m\u001B[43mHh\u001B[49m\u001B[43m(\u001B[49m\u001B[43mn\u001B[49m\u001B[43m \u001B[49m\u001B[38;5;241;43m-\u001B[39;49m\u001B[43m \u001B[49m\u001B[38;5;241;43m1\u001B[39;49m\u001B[43m,\u001B[49m\u001B[43m \u001B[49m\u001B[43mx\u001B[49m\u001B[43m)\u001B[49m) \u001B[38;5;241m/\u001B[39m n\n",
      "    \u001B[1;31m[... skipping similar frames: Kou_pricer.Hh at line 219 (3 times)]\u001B[0m\n",
      "File \u001B[1;32m~\\PycharmProjects\\Margin-Loans-Pricing/functions\\KOUpricer.py:219\u001B[0m, in \u001B[0;36mKou_pricer.Hh\u001B[1;34m(self, n, x)\u001B[0m\n\u001B[0;32m    217\u001B[0m     \u001B[38;5;28;01mreturn\u001B[39;00m np\u001B[38;5;241m.\u001B[39msqrt(\u001B[38;5;241m2\u001B[39m \u001B[38;5;241m*\u001B[39m np\u001B[38;5;241m.\u001B[39mpi) \u001B[38;5;241m*\u001B[39m scs\u001B[38;5;241m.\u001B[39mnorm\u001B[38;5;241m.\u001B[39mcdf(\u001B[38;5;241m-\u001B[39mx)\n\u001B[0;32m    218\u001B[0m \u001B[38;5;28;01melse\u001B[39;00m:\n\u001B[1;32m--> 219\u001B[0m     \u001B[38;5;28;01mreturn\u001B[39;00m (\u001B[38;5;28mself\u001B[39m\u001B[38;5;241m.\u001B[39mHh(n \u001B[38;5;241m-\u001B[39m \u001B[38;5;241m2\u001B[39m, x) \u001B[38;5;241m-\u001B[39m x \u001B[38;5;241m*\u001B[39m \u001B[38;5;28;43mself\u001B[39;49m\u001B[38;5;241;43m.\u001B[39;49m\u001B[43mHh\u001B[49m\u001B[43m(\u001B[49m\u001B[43mn\u001B[49m\u001B[43m \u001B[49m\u001B[38;5;241;43m-\u001B[39;49m\u001B[43m \u001B[49m\u001B[38;5;241;43m1\u001B[39;49m\u001B[43m,\u001B[49m\u001B[43m \u001B[49m\u001B[43mx\u001B[49m\u001B[43m)\u001B[49m) \u001B[38;5;241m/\u001B[39m n\n",
      "File \u001B[1;32m~\\PycharmProjects\\Margin-Loans-Pricing/functions\\KOUpricer.py:217\u001B[0m, in \u001B[0;36mKou_pricer.Hh\u001B[1;34m(self, n, x)\u001B[0m\n\u001B[0;32m    215\u001B[0m     \u001B[38;5;28;01mreturn\u001B[39;00m np\u001B[38;5;241m.\u001B[39mexp(\u001B[38;5;241m-\u001B[39mx \u001B[38;5;241m*\u001B[39m\u001B[38;5;241m*\u001B[39m \u001B[38;5;241m2\u001B[39m \u001B[38;5;241m/\u001B[39m \u001B[38;5;241m2\u001B[39m)\n\u001B[0;32m    216\u001B[0m \u001B[38;5;28;01melif\u001B[39;00m n \u001B[38;5;241m==\u001B[39m \u001B[38;5;241m0\u001B[39m:\n\u001B[1;32m--> 217\u001B[0m     \u001B[38;5;28;01mreturn\u001B[39;00m np\u001B[38;5;241m.\u001B[39msqrt(\u001B[38;5;241m2\u001B[39m \u001B[38;5;241m*\u001B[39m np\u001B[38;5;241m.\u001B[39mpi) \u001B[38;5;241m*\u001B[39m \u001B[43mscs\u001B[49m\u001B[38;5;241;43m.\u001B[39;49m\u001B[43mnorm\u001B[49m\u001B[38;5;241;43m.\u001B[39;49m\u001B[43mcdf\u001B[49m\u001B[43m(\u001B[49m\u001B[38;5;241;43m-\u001B[39;49m\u001B[43mx\u001B[49m\u001B[43m)\u001B[49m\n\u001B[0;32m    218\u001B[0m \u001B[38;5;28;01melse\u001B[39;00m:\n\u001B[0;32m    219\u001B[0m     \u001B[38;5;28;01mreturn\u001B[39;00m (\u001B[38;5;28mself\u001B[39m\u001B[38;5;241m.\u001B[39mHh(n \u001B[38;5;241m-\u001B[39m \u001B[38;5;241m2\u001B[39m, x) \u001B[38;5;241m-\u001B[39m x \u001B[38;5;241m*\u001B[39m \u001B[38;5;28mself\u001B[39m\u001B[38;5;241m.\u001B[39mHh(n \u001B[38;5;241m-\u001B[39m \u001B[38;5;241m1\u001B[39m, x)) \u001B[38;5;241m/\u001B[39m n\n",
      "File \u001B[1;32m~\\PycharmProjects\\Margin-Loans-Pricing\\venv\\Lib\\site-packages\\scipy\\stats\\_distn_infrastructure.py:2072\u001B[0m, in \u001B[0;36mrv_continuous.cdf\u001B[1;34m(self, x, *args, **kwds)\u001B[0m\n\u001B[0;32m   2070\u001B[0m cond \u001B[38;5;241m=\u001B[39m cond0 \u001B[38;5;241m&\u001B[39m cond1\n\u001B[0;32m   2071\u001B[0m output \u001B[38;5;241m=\u001B[39m zeros(shape(cond), dtyp)\n\u001B[1;32m-> 2072\u001B[0m \u001B[43mplace\u001B[49m\u001B[43m(\u001B[49m\u001B[43moutput\u001B[49m\u001B[43m,\u001B[49m\u001B[43m \u001B[49m\u001B[43m(\u001B[49m\u001B[38;5;241;43m1\u001B[39;49m\u001B[38;5;241;43m-\u001B[39;49m\u001B[43mcond0\u001B[49m\u001B[43m)\u001B[49m\u001B[38;5;241;43m+\u001B[39;49m\u001B[43mnp\u001B[49m\u001B[38;5;241;43m.\u001B[39;49m\u001B[43misnan\u001B[49m\u001B[43m(\u001B[49m\u001B[43mx\u001B[49m\u001B[43m)\u001B[49m\u001B[43m,\u001B[49m\u001B[43m \u001B[49m\u001B[38;5;28;43mself\u001B[39;49m\u001B[38;5;241;43m.\u001B[39;49m\u001B[43mbadvalue\u001B[49m\u001B[43m)\u001B[49m\n\u001B[0;32m   2073\u001B[0m place(output, cond2, \u001B[38;5;241m1.0\u001B[39m)\n\u001B[0;32m   2074\u001B[0m \u001B[38;5;28;01mif\u001B[39;00m np\u001B[38;5;241m.\u001B[39many(cond):  \u001B[38;5;66;03m# call only if at least 1 entry\u001B[39;00m\n",
      "File \u001B[1;32m~\\PycharmProjects\\Margin-Loans-Pricing\\venv\\Lib\\site-packages\\numpy\\lib\\function_base.py:1954\u001B[0m, in \u001B[0;36mplace\u001B[1;34m(arr, mask, vals)\u001B[0m\n\u001B[0;32m   1917\u001B[0m \u001B[38;5;129m@array_function_dispatch\u001B[39m(_place_dispatcher)\n\u001B[0;32m   1918\u001B[0m \u001B[38;5;28;01mdef\u001B[39;00m \u001B[38;5;21mplace\u001B[39m(arr, mask, vals):\n\u001B[0;32m   1919\u001B[0m \u001B[38;5;250m    \u001B[39m\u001B[38;5;124;03m\"\"\"\u001B[39;00m\n\u001B[0;32m   1920\u001B[0m \u001B[38;5;124;03m    Change elements of an array based on conditional and input values.\u001B[39;00m\n\u001B[0;32m   1921\u001B[0m \n\u001B[1;32m   (...)\u001B[0m\n\u001B[0;32m   1952\u001B[0m \n\u001B[0;32m   1953\u001B[0m \u001B[38;5;124;03m    \"\"\"\u001B[39;00m\n\u001B[1;32m-> 1954\u001B[0m     \u001B[38;5;28;01mreturn\u001B[39;00m \u001B[43m_place\u001B[49m\u001B[43m(\u001B[49m\u001B[43marr\u001B[49m\u001B[43m,\u001B[49m\u001B[43m \u001B[49m\u001B[43mmask\u001B[49m\u001B[43m,\u001B[49m\u001B[43m \u001B[49m\u001B[43mvals\u001B[49m\u001B[43m)\u001B[49m\n",
      "\u001B[1;31mKeyboardInterrupt\u001B[0m: "
     ]
    }
   ],
   "source": [
    "def f_Kou(x, sigma, lambd, p, eta1, eta2):\n",
    " KouJD = Kou_pricer(S0=S0, K=x, ttm=T, r=r, sigma=sigma, lambd=lambd, p=p, eta1=eta1, eta2=eta2, exercise=exercise)\n",
    " return KouJD.closed_formula_put(x)\n",
    "\n",
    "start1 = time.time()\n",
    "kou1 = scpo.curve_fit(f_Kou, put_strikes, put_prices, p0=x0, bounds=bounds, sigma=p_weights)\n",
    "end1 = time.time()\n",
    "\n",
    "kou_params1 = [round(p,4) for p in kou1[0][:5]]"
   ],
   "metadata": {
    "collapsed": false,
    "ExecuteTime": {
     "end_time": "2023-09-16T23:24:37.394158300Z",
     "start_time": "2023-09-16T23:01:39.807624100Z"
    }
   }
  },
  {
   "cell_type": "markdown",
   "source": [
    "##### Method 2. LEAST SQUARES (With Bounds)"
   ],
   "metadata": {
    "collapsed": false
   }
  },
  {
   "cell_type": "code",
   "execution_count": null,
   "outputs": [
    {
     "name": "stdout",
     "output_type": "stream",
     "text": [
      "   Iteration     Total nfev        Cost      Cost reduction    Step norm     Optimality   \n",
      "       0              1         6.5533e+04                                    2.36e+06    \n",
      "       1              2         6.2025e+03      5.93e+04       2.05e-02       3.18e+05    \n",
      "       2              3         1.1139e+03      5.09e+03       1.39e-02       2.07e+04    \n",
      "       3              6         1.0213e+03      9.26e+01       1.55e-03       9.77e+03    \n",
      "       4              7         1.0194e+03      1.86e+00       2.58e-03       2.23e+04    \n",
      "       5              8         9.9291e+02      2.65e+01       1.19e-03       1.47e+04    \n",
      "       6              9         9.8769e+02      5.22e+00       1.77e-03       8.16e+03    \n",
      "       7             10         9.8196e+02      5.73e+00       1.64e-03       1.17e+04    \n",
      "       8             11         9.7725e+02      4.72e+00       2.61e-03       8.06e+03    \n",
      "       9             12         9.7166e+02      5.59e+00       1.66e-03       1.15e+04    \n",
      "      10             13         9.6718e+02      4.48e+00       2.59e-03       7.80e+03    \n",
      "      11             14         9.6171e+02      5.46e+00       1.61e-03       1.14e+04    \n",
      "      12             15         9.5745e+02      4.27e+00       2.57e-03       7.57e+03    \n",
      "      13             16         9.5209e+02      5.35e+00       1.56e-03       1.12e+04    \n",
      "      14             17         9.4802e+02      4.07e+00       2.55e-03       7.34e+03    \n",
      "      15             18         9.4278e+02      5.25e+00       1.52e-03       1.10e+04    \n",
      "      16             19         9.3889e+02      3.88e+00       2.54e-03       7.13e+03    \n",
      "      17             20         9.3374e+02      5.15e+00       1.48e-03       1.08e+04    \n",
      "      18             21         9.3004e+02      3.71e+00       2.52e-03       6.93e+03    \n",
      "      19             22         9.2498e+02      5.06e+00       1.44e-03       1.06e+04    \n",
      "      20             23         9.2145e+02      3.53e+00       2.51e-03       6.74e+03    \n",
      "      21             24         9.1647e+02      4.97e+00       1.41e-03       1.05e+04    \n",
      "      22             25         9.1310e+02      3.37e+00       2.50e-03       6.55e+03    \n",
      "      23             26         9.0820e+02      4.90e+00       1.37e-03       1.03e+04    \n",
      "      24             27         9.0499e+02      3.22e+00       2.48e-03       6.38e+03    \n",
      "      25             28         9.0017e+02      4.82e+00       1.34e-03       1.01e+04    \n",
      "      26             29         8.9710e+02      3.07e+00       2.47e-03       6.21e+03    \n",
      "      27             30         8.9235e+02      4.75e+00       1.31e-03       9.98e+03    \n",
      "      28             31         8.8943e+02      2.92e+00       2.46e-03       6.04e+03    \n",
      "      29             32         8.8474e+02      4.69e+00       1.28e-03       9.82e+03    \n",
      "      30             33         8.8196e+02      2.78e+00       2.45e-03       5.89e+03    \n",
      "      31             34         8.7733e+02      4.63e+00       1.26e-03       9.67e+03    \n",
      "      32             35         8.7468e+02      2.65e+00       2.44e-03       5.73e+03    \n",
      "      33             36         8.7011e+02      4.57e+00       1.23e-03       9.52e+03    \n",
      "      34             37         8.6759e+02      2.52e+00       2.42e-03       5.59e+03    \n",
      "      35             38         8.6307e+02      4.52e+00       1.20e-03       9.38e+03    \n",
      "      36             39         8.6068e+02      2.39e+00       2.41e-03       5.45e+03    \n",
      "      37             40         8.5621e+02      4.47e+00       1.18e-03       9.24e+03    \n",
      "      38             41         8.5394e+02      2.27e+00       2.40e-03       5.31e+03    \n",
      "      39             42         8.4952e+02      4.42e+00       1.16e-03       9.10e+03    \n",
      "      40             43         8.4736e+02      2.16e+00       2.39e-03       5.18e+03    \n",
      "      41             44         8.4298e+02      4.38e+00       1.13e-03       8.96e+03    \n",
      "      42             45         8.4094e+02      2.04e+00       2.38e-03       5.05e+03    \n",
      "      43             46         8.3660e+02      4.34e+00       1.11e-03       8.83e+03    \n",
      "      44             47         8.3467e+02      1.93e+00       2.38e-03       4.92e+03    \n",
      "      45             48         8.3037e+02      4.30e+00       1.09e-03       8.70e+03    \n",
      "      46             49         8.2855e+02      1.83e+00       2.37e-03       4.80e+03    \n",
      "      47             50         8.2429e+02      4.26e+00       1.07e-03       8.57e+03    \n",
      "      48             51         8.2256e+02      1.72e+00       2.36e-03       4.69e+03    \n",
      "      49             52         8.1834e+02      4.23e+00       1.05e-03       8.45e+03    \n",
      "      50             53         8.1671e+02      1.62e+00       2.35e-03       4.57e+03    \n",
      "      51             54         8.1252e+02      4.19e+00       1.03e-03       8.33e+03    \n",
      "      52             55         8.1099e+02      1.53e+00       2.34e-03       4.46e+03    \n",
      "      53             56         8.0909e+02      1.91e+00       2.54e-04       5.40e+03    \n",
      "      54             57         8.0660e+02      2.49e+00       7.38e-04       6.96e+03    \n",
      "      55             58         8.0201e+02      4.59e+00       2.58e-03       7.03e+03    \n",
      "      56             59         7.9304e+02      8.96e+00       5.27e-03       6.33e+03    \n",
      "      57             60         7.8231e+02      1.07e+01       9.41e-03       1.07e+04    \n",
      "      58             62         7.7614e+02      6.17e+00       1.29e-03       5.18e+03    \n",
      "      59             63         7.7317e+02      2.97e+00       1.63e-03       7.92e+03    \n",
      "      60             64         7.7310e+02      6.72e-02       2.03e-03       3.45e+03    \n",
      "      61             65         7.7103e+02      2.07e+00       2.05e-04       4.39e+03    \n",
      "      62             66         7.6847e+02      2.55e+00       5.85e-04       6.07e+03    \n",
      "      63             67         7.6640e+02      2.08e+00       1.23e-03       6.40e+03    \n",
      "      64             68         7.6227e+02      4.12e+00       2.62e-03       5.98e+03    \n",
      "      65             69         7.5462e+02      7.66e+00       4.93e-03       7.15e+03    \n",
      "      66             71         7.5414e+02      4.75e-01       2.24e-03       3.36e+03    \n",
      "      67             72         7.5223e+02      1.92e+00       2.10e-04       4.27e+03    \n",
      "      68             73         7.4991e+02      2.32e+00       6.13e-04       5.87e+03    \n",
      "      69             74         7.4793e+02      1.98e+00       1.26e-03       6.01e+03    \n",
      "      70             75         7.4399e+02      3.94e+00       2.60e-03       5.75e+03    \n",
      "      71             76         7.3641e+02      7.58e+00       5.02e-03       6.37e+03    \n",
      "      72             78         7.3441e+02      2.00e+00       2.50e-03       3.81e+03    \n",
      "      73             79         7.3175e+02      2.66e+00       1.09e-03       7.08e+03    \n",
      "      74             81         7.3056e+02      1.19e+00       4.79e-04       5.98e+03    \n",
      "      75             82         7.2962e+02      9.43e-01       6.54e-04       5.66e+03    \n",
      "      76             83         7.2774e+02      1.88e+00       1.29e-03       5.56e+03    \n",
      "      77             84         7.2402e+02      3.72e+00       2.55e-03       5.57e+03    \n",
      "      78             85         7.1673e+02      7.29e+00       5.17e-03       5.11e+03    \n",
      "      79             86         7.0707e+02      9.65e+00       9.50e-03       8.35e+03    \n",
      "      80             88         7.0368e+02      3.40e+00       1.25e-03       3.39e+03    \n",
      "      81             89         7.0142e+02      2.26e+00       1.04e-03       6.54e+03    \n",
      "      82             91         7.0025e+02      1.16e+00       4.47e-04       5.45e+03    \n",
      "      83             92         6.9940e+02      8.52e-01       6.45e-04       5.07e+03    \n",
      "      84             93         6.9769e+02      1.71e+00       1.27e-03       5.05e+03    \n",
      "      85             94         6.9430e+02      3.39e+00       2.55e-03       4.98e+03    \n",
      "      86             95         6.8762e+02      6.68e+00       5.08e-03       4.94e+03    \n",
      "      87             96         6.7508e+02      1.25e+01       1.03e-02       3.74e+03    \n",
      "      88             99         6.7359e+02      1.49e+00       7.84e-04       4.93e+03    \n",
      "      89             100        6.7214e+02      1.45e+00       1.28e-03       4.24e+03    \n",
      "      90             101        6.6950e+02      2.64e+00       2.20e-03       5.42e+03    \n",
      "      91             103        6.6862e+02      8.84e-01       1.03e-03       3.63e+03    \n",
      "      92             104        6.6717e+02      1.45e+00       7.72e-04       4.82e+03    \n",
      "      93             105        6.6577e+02      1.40e+00       1.27e-03       4.09e+03    \n",
      "      94             106        6.6330e+02      2.47e+00       2.15e-03       5.38e+03    \n",
      "      95             108        6.6248e+02      8.19e-01       4.90e-04       4.45e+03    \n",
      "      96             109        6.6172e+02      7.56e-01       6.32e-04       4.42e+03    \n",
      "      97             110        6.6022e+02      1.51e+00       1.26e-03       4.39e+03    \n",
      "      98             111        6.5723e+02      2.99e+00       2.52e-03       4.34e+03    \n",
      "      99             112        6.5135e+02      5.88e+00       5.04e-03       4.21e+03    \n",
      "      100            113        6.4002e+02      1.13e+01       1.00e-02       4.35e+03    \n",
      "      101            115        6.3911e+02      9.04e-01       5.00e-03       3.17e+03    \n",
      "      102            116        6.3546e+02      3.66e+00       3.06e-04       2.72e+03    \n",
      "      103            117        6.3395e+02      1.51e+00       5.41e-04       4.08e+03    \n",
      "      104            118        6.3262e+02      1.33e+00       1.27e-03       3.76e+03    \n",
      "      105            119        6.3006e+02      2.55e+00       2.37e-03       4.31e+03    \n",
      "      106            121        6.2920e+02      8.60e-01       1.17e-03       3.10e+03    \n",
      "      107            122        6.2802e+02      1.18e+00       7.65e-04       4.20e+03    \n",
      "      108            123        6.2705e+02      9.66e-01       1.21e-03       3.16e+03    \n",
      "      109            124        6.2590e+02      1.15e+00       8.28e-04       4.18e+03    \n",
      "      110            125        6.2498e+02      9.19e-01       1.20e-03       3.10e+03    \n",
      "      111            126        6.2384e+02      1.14e+00       8.01e-04       4.14e+03    \n",
      "      112            127        6.2294e+02      8.99e-01       1.19e-03       3.05e+03    \n",
      "      113            128        6.2180e+02      1.13e+00       7.91e-04       4.11e+03    \n",
      "      114            129        6.2093e+02      8.77e-01       1.19e-03       3.01e+03    \n",
      "      115            130        6.1981e+02      1.12e+00       7.79e-04       4.07e+03    \n",
      "      116            131        6.1895e+02      8.56e-01       1.18e-03       2.97e+03    \n",
      "      117            132        6.1784e+02      1.11e+00       7.69e-04       4.04e+03    \n",
      "      118            133        6.1700e+02      8.36e-01       1.18e-03       2.93e+03    \n",
      "      119            134        6.1590e+02      1.10e+00       7.59e-04       4.01e+03    \n",
      "      120            135        6.1508e+02      8.16e-01       1.18e-03       2.89e+03    \n",
      "      121            136        6.1399e+02      1.09e+00       7.49e-04       3.97e+03    \n",
      "      122            137        6.1319e+02      7.97e-01       1.17e-03       2.85e+03    \n",
      "      123            138        6.1211e+02      1.08e+00       7.39e-04       3.94e+03    \n",
      "      124            139        6.1133e+02      7.78e-01       1.17e-03       2.81e+03    \n",
      "      125            140        6.1026e+02      1.07e+00       7.30e-04       3.91e+03    \n",
      "      126            141        6.0950e+02      7.59e-01       1.17e-03       2.77e+03    \n",
      "      127            142        6.0844e+02      1.07e+00       7.21e-04       3.88e+03    \n",
      "      128            143        6.0770e+02      7.41e-01       1.16e-03       2.74e+03    \n",
      "      129            144        6.0664e+02      1.06e+00       7.12e-04       3.85e+03    \n",
      "      130            145        6.0591e+02      7.24e-01       1.16e-03       2.70e+03    \n",
      "      131            146        6.0487e+02      1.05e+00       7.03e-04       3.82e+03    \n",
      "      132            147        6.0416e+02      7.06e-01       1.16e-03       2.66e+03    \n",
      "      133            148        6.0312e+02      1.04e+00       6.95e-04       3.79e+03    \n",
      "      134            149        6.0243e+02      6.89e-01       1.15e-03       2.63e+03    \n",
      "      135            150        6.0140e+02      1.03e+00       6.87e-04       3.76e+03    \n",
      "      136            151        6.0072e+02      6.73e-01       1.15e-03       2.60e+03    \n",
      "      137            152        5.9970e+02      1.03e+00       6.79e-04       3.73e+03    \n",
      "      138            153        5.9904e+02      6.56e-01       1.15e-03       2.56e+03    \n",
      "      139            154        5.9802e+02      1.02e+00       6.71e-04       3.70e+03    \n",
      "      140            155        5.9738e+02      6.40e-01       1.14e-03       2.53e+03    \n",
      "      141            156        5.9637e+02      1.01e+00       6.63e-04       3.67e+03    \n",
      "      142            157        5.9574e+02      6.25e-01       1.14e-03       2.50e+03    \n",
      "      143            158        5.9474e+02      1.01e+00       6.56e-04       3.64e+03    \n",
      "      144            159        5.9413e+02      6.09e-01       1.14e-03       2.47e+03    \n",
      "      145            160        5.9313e+02      1.00e+00       6.49e-04       3.61e+03    \n",
      "      146            161        5.9253e+02      5.94e-01       1.13e-03       2.44e+03    \n",
      "      147            162        5.9154e+02      9.94e-01       6.41e-04       3.58e+03    \n",
      "      148            163        5.9096e+02      5.79e-01       1.13e-03       2.41e+03    \n",
      "      149            164        5.8997e+02      9.88e-01       6.35e-04       3.55e+03    \n",
      "      150            165        5.8941e+02      5.65e-01       1.13e-03       2.38e+03    \n",
      "      151            166        5.8842e+02      9.82e-01       6.28e-04       3.52e+03    \n",
      "      152            167        5.8787e+02      5.51e-01       1.13e-03       2.35e+03    \n",
      "      153            168        5.8690e+02      9.77e-01       6.21e-04       3.50e+03    \n",
      "      154            169        5.8636e+02      5.36e-01       1.12e-03       2.32e+03    \n",
      "      155            170        5.8539e+02      9.72e-01       6.15e-04       3.47e+03    \n",
      "      156            171        5.8487e+02      5.23e-01       1.12e-03       2.29e+03    \n",
      "      157            172        5.8390e+02      9.67e-01       6.08e-04       3.44e+03    \n",
      "      158            173        5.8339e+02      5.09e-01       1.12e-03       2.26e+03    \n",
      "      159            174        5.8243e+02      9.62e-01       6.02e-04       3.42e+03    \n",
      "      160            175        5.8193e+02      4.96e-01       1.11e-03       2.23e+03    \n",
      "      161            176        5.8098e+02      9.57e-01       5.96e-04       3.39e+03    \n",
      "      162            177        5.8049e+02      4.82e-01       1.11e-03       2.21e+03    \n",
      "      163            178        5.7954e+02      9.52e-01       5.90e-04       3.36e+03    \n",
      "      164            179        5.7907e+02      4.69e-01       1.11e-03       2.18e+03    \n",
      "      165            180        5.7812e+02      9.48e-01       5.84e-04       3.34e+03    \n",
      "      166            181        5.7767e+02      4.57e-01       1.11e-03       2.15e+03    \n",
      "      167            182        5.7672e+02      9.44e-01       5.78e-04       3.31e+03    \n",
      "      168            183        5.7628e+02      4.44e-01       1.11e-03       2.13e+03    \n",
      "      169            184        5.7534e+02      9.40e-01       5.73e-04       3.29e+03    \n",
      "      170            185        5.7491e+02      4.32e-01       1.10e-03       2.10e+03    \n",
      "      171            186        5.7397e+02      9.36e-01       5.67e-04       3.26e+03    \n",
      "      172            187        5.7355e+02      4.19e-01       1.10e-03       2.08e+03    \n",
      "      173            188        5.7262e+02      9.32e-01       5.62e-04       3.24e+03    \n",
      "      174            189        5.7221e+02      4.07e-01       1.10e-03       2.05e+03    \n",
      "      175            190        5.7129e+02      9.28e-01       5.57e-04       3.21e+03    \n",
      "      176            191        5.7089e+02      3.96e-01       1.10e-03       2.03e+03    \n",
      "      177            192        5.6997e+02      9.24e-01       5.51e-04       3.19e+03    \n",
      "      178            193        5.6958e+02      3.84e-01       1.09e-03       2.01e+03    \n",
      "      179            194        5.6866e+02      9.21e-01       5.46e-04       3.17e+03    \n",
      "      180            195        5.6829e+02      3.72e-01       1.09e-03       1.98e+03    \n",
      "      181            196        5.6737e+02      9.17e-01       5.41e-04       3.14e+03    \n",
      "      182            197        5.6701e+02      3.61e-01       1.09e-03       1.96e+03    \n",
      "      183            198        5.6610e+02      9.14e-01       5.36e-04       3.12e+03    \n",
      "      184            199        5.6575e+02      3.50e-01       1.09e-03       1.94e+03    \n",
      "      185            200        5.6484e+02      9.11e-01       5.32e-04       3.10e+03    \n",
      "      186            201        5.6450e+02      3.39e-01       1.08e-03       1.91e+03    \n",
      "      187            202        5.6359e+02      9.08e-01       5.27e-04       3.07e+03    \n",
      "      188            203        5.6326e+02      3.28e-01       1.08e-03       1.89e+03    \n",
      "      189            204        5.6236e+02      9.05e-01       5.22e-04       3.05e+03    \n",
      "      190            205        5.6204e+02      3.17e-01       1.08e-03       1.87e+03    \n",
      "      191            206        5.6114e+02      9.02e-01       5.18e-04       3.03e+03    \n",
      "      192            207        5.6083e+02      3.07e-01       1.08e-03       1.85e+03    \n",
      "      193            208        5.6043e+02      3.98e-01       1.28e-04       2.14e+03    \n",
      "      194            209        5.5990e+02      5.28e-01       3.55e-04       2.63e+03    \n",
      "      195            210        5.5895e+02      9.53e-01       1.19e-03       2.72e+03    \n",
      "      196            211        5.5712e+02      1.83e+00       2.45e-03       2.32e+03    \n",
      "      197            213        5.5636e+02      7.67e-01       9.39e-04       3.00e+03    \n",
      "      198            214        5.5622e+02      1.32e-01       1.01e-03       1.68e+03    \n",
      "      199            215        5.5580e+02      4.28e-01       1.15e-04       1.98e+03    \n",
      "      200            216        5.5524e+02      5.52e-01       3.16e-04       2.50e+03    \n",
      "      201            217        5.5478e+02      4.65e-01       5.75e-04       2.61e+03    \n",
      "      202            218        5.5385e+02      9.29e-01       1.21e-03       2.52e+03    \n",
      "      203            219        5.5205e+02      1.80e+00       2.35e-03       2.77e+03    \n",
      "      204            221        5.5153e+02      5.14e-01       1.15e-03       1.89e+03    \n",
      "      205            222        5.5082e+02      7.09e-01       5.99e-04       2.95e+03    \n",
      "      206            223        5.5081e+02      1.63e-02       9.59e-04       1.55e+03    \n",
      "      207            224        5.5036e+02      4.43e-01       1.07e-04       1.85e+03    \n",
      "      208            225        5.4980e+02      5.63e-01       2.92e-04       2.39e+03    \n",
      "      209            226        5.4935e+02      4.49e-01       5.60e-04       2.54e+03    \n",
      "      210            227        5.4846e+02      8.97e-01       1.21e-03       2.41e+03    \n",
      "      211            228        5.4676e+02      1.69e+00       2.31e-03       2.78e+03    \n",
      "      212            230        5.4662e+02      1.41e-01       1.04e-03       1.57e+03    \n",
      "      213            231        5.4621e+02      4.09e-01       1.13e-04       1.86e+03    \n",
      "      214            232        5.4569e+02      5.16e-01       3.13e-04       2.37e+03    \n",
      "      215            233        5.4525e+02      4.40e-01       5.79e-04       2.45e+03    \n",
      "      216            234        5.4438e+02      8.78e-01       1.21e-03       2.36e+03    \n",
      "      217            235        5.4267e+02      1.70e+00       2.34e-03       2.61e+03    \n",
      "      218            237        5.4226e+02      4.17e-01       1.13e-03       1.70e+03    \n",
      "      219            238        5.4157e+02      6.86e-01       5.46e-04       2.78e+03    \n",
      "      220            240        5.4133e+02      2.45e-01       2.34e-04       2.43e+03    \n",
      "      221            241        5.4111e+02      2.16e-01       3.03e-04       2.38e+03    \n",
      "      222            242        5.4068e+02      4.30e-01       6.01e-04       2.34e+03    \n",
      "      223            243        5.3982e+02      8.56e-01       1.19e-03       2.35e+03    \n",
      "      224            244        5.3813e+02      1.69e+00       2.40e-03       2.22e+03    \n",
      "      225            245        5.3541e+02      2.72e+00       4.54e-03       3.12e+03    \n",
      "      226            248        5.3474e+02      6.64e-01       3.24e-04       2.28e+03    \n",
      "      227            249        5.3433e+02      4.12e-01       5.99e-04       2.23e+03    \n",
      "      228            250        5.3351e+02      8.22e-01       1.18e-03       2.26e+03    \n",
      "      229            251        5.3189e+02      1.62e+00       2.40e-03       2.08e+03    \n",
      "      230            252        5.3017e+02      1.71e+00       4.33e-03       3.48e+03    \n",
      "      231            254        5.2884e+02      1.33e+00       5.37e-04       1.76e+03    \n",
      "      232            255        5.2833e+02      5.07e-01       7.34e-04       2.62e+03    \n",
      "      233            257        5.2807e+02      2.60e-01       2.06e-04       2.25e+03    \n",
      "      234            258        5.2788e+02      1.96e-01       2.97e-04       2.14e+03    \n",
      "      235            259        5.2748e+02      3.94e-01       5.91e-04       2.13e+03    \n",
      "      236            260        5.2670e+02      7.86e-01       1.18e-03       2.12e+03    \n",
      "      237            261        5.2514e+02      1.56e+00       2.36e-03       2.10e+03    \n",
      "      238            262        5.2208e+02      3.06e+00       4.75e-03       1.92e+03    \n",
      "      239            264        5.2093e+02      1.15e+00       2.14e-03       2.62e+03    \n",
      "      240            266        5.2053e+02      3.97e-01       3.54e-04       1.84e+03    \n",
      "      241            267        5.2017e+02      3.59e-01       4.97e-04       2.09e+03    \n",
      "      242            268        5.1949e+02      6.84e-01       1.19e-03       1.76e+03    \n",
      "      243            269        5.1912e+02      3.72e-01       1.81e-03       3.04e+03    \n",
      "      244            270        5.1818e+02      9.34e-01       2.77e-04       2.21e+03    \n",
      "      245            271        5.1794e+02      2.45e-01       5.22e-04       1.69e+03    \n",
      "      246            272        5.1759e+02      3.51e-01       4.12e-04       2.05e+03    \n",
      "      247            273        5.1694e+02      6.50e-01       1.19e-03       1.69e+03    \n",
      "      248            274        5.1684e+02      9.30e-02       1.69e-03       3.10e+03    \n",
      "      249            275        5.1576e+02      1.08e+00       2.66e-04       2.27e+03    \n",
      "      250            276        5.1555e+02      2.15e-01       4.52e-04       1.62e+03    \n",
      "      251            277        5.1520e+02      3.48e-01       3.89e-04       2.01e+03    \n",
      "      252            278        5.1485e+02      3.46e-01       5.92e-04       1.83e+03    \n",
      "      253            279        5.1418e+02      6.71e-01       1.09e-03       2.11e+03    \n",
      "      254            281        5.1393e+02      2.48e-01       5.36e-04       1.64e+03    \n",
      "      255            282        5.1360e+02      3.38e-01       4.15e-04       1.99e+03    \n",
      "      256            283        5.1300e+02      5.94e-01       1.18e-03       1.57e+03    \n",
      "      257            285        5.1266e+02      3.43e-01       3.78e-04       1.97e+03    \n",
      "      258            286        5.1232e+02      3.38e-01       5.90e-04       1.79e+03    \n",
      "      259            287        5.1167e+02      6.50e-01       1.08e-03       2.08e+03    \n",
      "      260            289        5.1144e+02      2.27e-01       5.22e-04       1.58e+03    \n",
      "      261            290        5.1111e+02      3.32e-01       3.97e-04       1.95e+03    \n",
      "      262            291        5.1079e+02      3.26e-01       5.87e-04       1.74e+03    \n",
      "      263            292        5.1018e+02      6.09e-01       1.04e-03       2.11e+03    \n",
      "      264            294        5.0998e+02      1.96e-01       4.82e-04       1.53e+03    \n",
      "      265            295        5.0965e+02      3.34e-01       3.74e-04       1.92e+03    \n",
      "      266            296        5.0932e+02      3.26e-01       5.87e-04       1.72e+03    \n",
      "      267            297        5.0871e+02      6.13e-01       1.06e-03       2.07e+03    \n",
      "      268            299        5.0851e+02      1.95e-01       4.91e-04       1.50e+03    \n",
      "      269            300        5.0818e+02      3.29e-01       3.72e-04       1.90e+03    \n",
      "      270            301        5.0787e+02      3.19e-01       5.85e-04       1.69e+03    \n",
      "      271            302        5.0727e+02      5.92e-01       1.04e-03       2.06e+03    \n",
      "      272            304        5.0709e+02      1.83e-01       4.75e-04       1.47e+03    \n",
      "      273            305        5.0676e+02      3.27e-01       3.64e-04       1.87e+03    \n",
      "      274            306        5.0645e+02      3.15e-01       5.85e-04       1.67e+03    \n",
      "      275            307        5.0587e+02      5.82e-01       1.04e-03       2.04e+03    \n",
      "      276            309        5.0569e+02      1.77e-01       4.69e-04       1.45e+03    \n",
      "      277            310        5.0536e+02      3.24e-01       3.58e-04       1.85e+03    \n",
      "      278            311        5.0505e+02      3.10e-01       5.83e-04       1.64e+03    \n",
      "      279            312        5.0449e+02      5.68e-01       1.03e-03       2.03e+03    \n",
      "      280            314        5.0432e+02      1.70e-01       4.59e-04       1.42e+03    \n",
      "      281            315        5.0400e+02      3.21e-01       3.53e-04       1.83e+03    \n",
      "      282            316        5.0369e+02      3.06e-01       5.82e-04       1.62e+03    \n",
      "      283            317        5.0314e+02      5.54e-01       1.02e-03       2.01e+03    \n",
      "      284            319        5.0297e+02      1.64e-01       4.50e-04       1.40e+03    \n",
      "      285            320        5.0265e+02      3.18e-01       3.48e-04       1.81e+03    \n",
      "      286            321        5.0235e+02      3.01e-01       5.81e-04       1.59e+03    \n",
      "      287            322        5.0182e+02      5.39e-01       1.01e-03       2.00e+03    \n",
      "      288            324        5.0166e+02      1.59e-01       4.41e-04       1.38e+03    \n",
      "      289            325        5.0134e+02      3.14e-01       3.44e-04       1.79e+03    \n",
      "      290            326        5.0105e+02      2.96e-01       5.80e-04       1.57e+03    \n",
      "      291            327        5.0052e+02      5.23e-01       1.00e-03       1.99e+03    \n",
      "      292            329        5.0035e+02      1.72e-01       2.15e-04       1.67e+03    \n",
      "      293            330        5.0019e+02      1.61e-01       2.87e-04       1.68e+03    \n",
      "      294            331        4.9987e+02      3.20e-01       5.77e-04       1.68e+03    \n",
      "      295            332        4.9923e+02      6.38e-01       1.15e-03       1.66e+03    \n",
      "      296            333        4.9797e+02      1.27e+00       2.31e-03       1.65e+03    \n",
      "      297            334        4.9550e+02      2.47e+00       4.64e-03       1.46e+03    \n",
      "      298            336        4.9508e+02      4.20e-01       1.91e-03       2.44e+03    \n",
      "      299            338        4.9435e+02      7.28e-01       2.68e-04       1.67e+03    \n",
      "      300            339        4.9408e+02      2.68e-01       5.72e-04       1.43e+03    \n",
      "      301            340        4.9365e+02      4.31e-01       9.41e-04       1.93e+03    \n",
      "      302            342        4.9346e+02      1.90e-01       1.91e-04       1.60e+03    \n",
      "      303            343        4.9331e+02      1.51e-01       2.90e-04       1.57e+03    \n",
      "      304            344        4.9301e+02      3.02e-01       5.73e-04       1.56e+03    \n",
      "      305            345        4.9240e+02      6.01e-01       1.15e-03       1.55e+03    \n",
      "      306            346        4.9121e+02      1.19e+00       2.29e-03       1.52e+03    \n",
      "      307            347        4.8891e+02      2.30e+00       4.54e-03       1.70e+03    \n",
      "      308            350        4.8879e+02      1.18e-01       4.69e-04       1.16e+03    \n",
      "      309            351        4.8851e+02      2.83e-01       3.08e-04       1.58e+03    \n",
      "      310            352        4.8827e+02      2.40e-01       5.63e-04       1.31e+03    \n",
      "      311            353        4.8793e+02      3.40e-01       8.73e-04       1.89e+03    \n",
      "      312            355        4.8771e+02      2.16e-01       1.72e-04       1.54e+03    \n",
      "      313            356        4.8757e+02      1.40e-01       2.86e-04       1.45e+03    \n",
      "      314            357        4.8729e+02      2.85e-01       5.58e-04       1.49e+03    \n",
      "      315            358        4.8672e+02      5.62e-01       1.15e-03       1.38e+03    \n",
      "      316            359        4.8594e+02      7.81e-01       2.08e-03       1.99e+03    \n",
      "      317            361        4.8560e+02      3.40e-01       3.00e-04       1.27e+03    \n",
      "      318            362        4.8535e+02      2.48e-01       4.32e-04       1.56e+03    \n",
      "      319            363        4.8517e+02      1.80e-01       5.33e-04       1.18e+03    \n",
      "      320            364        4.8493e+02      2.49e-01       3.56e-04       1.55e+03    \n",
      "      321            365        4.8474e+02      1.80e-01       5.34e-04       1.18e+03    \n",
      "      322            366        4.8450e+02      2.47e-01       3.57e-04       1.55e+03    \n",
      "      323            367        4.8432e+02      1.77e-01       5.32e-04       1.17e+03    \n",
      "      324            368        4.8407e+02      2.47e-01       3.53e-04       1.54e+03    \n",
      "      325            369        4.8390e+02      1.75e-01       5.32e-04       1.16e+03    \n",
      "      326            370        4.8365e+02      2.46e-01       3.51e-04       1.53e+03    \n",
      "      327            371        4.8348e+02      1.73e-01       5.31e-04       1.15e+03    \n",
      "      328            372        4.8324e+02      2.45e-01       3.49e-04       1.52e+03    \n",
      "      329            373        4.8307e+02      1.71e-01       5.30e-04       1.14e+03    \n",
      "      330            374        4.8282e+02      2.44e-01       3.47e-04       1.52e+03    \n",
      "      331            375        4.8265e+02      1.68e-01       5.29e-04       1.13e+03    \n",
      "      332            376        4.8241e+02      2.43e-01       3.44e-04       1.51e+03    \n",
      "      333            377        4.8224e+02      1.66e-01       5.28e-04       1.13e+03    \n",
      "      334            378        4.8200e+02      2.42e-01       3.42e-04       1.50e+03    \n",
      "      335            379        4.8184e+02      1.64e-01       5.27e-04       1.12e+03    \n",
      "      336            380        4.8160e+02      2.41e-01       3.40e-04       1.50e+03    \n",
      "      337            381        4.8144e+02      1.62e-01       5.26e-04       1.11e+03    \n",
      "      338            382        4.8119e+02      2.40e-01       3.38e-04       1.49e+03    \n",
      "      339            383        4.8104e+02      1.60e-01       5.26e-04       1.10e+03    \n",
      "      340            384        4.8080e+02      2.39e-01       3.36e-04       1.48e+03    \n",
      "      341            385        4.8064e+02      1.58e-01       5.25e-04       1.10e+03    \n",
      "      342            386        4.8040e+02      2.38e-01       3.34e-04       1.48e+03    \n",
      "      343            387        4.8024e+02      1.56e-01       5.24e-04       1.09e+03    \n",
      "      344            388        4.8001e+02      2.38e-01       3.32e-04       1.47e+03    \n",
      "      345            389        4.7985e+02      1.54e-01       5.23e-04       1.08e+03    \n",
      "      346            390        4.7962e+02      2.37e-01       3.30e-04       1.46e+03    \n",
      "      347            391        4.7946e+02      1.52e-01       5.22e-04       1.07e+03    \n",
      "      348            392        4.7923e+02      2.36e-01       3.28e-04       1.46e+03    \n",
      "      349            393        4.7908e+02      1.50e-01       5.22e-04       1.07e+03    \n",
      "      350            394        4.7884e+02      2.35e-01       3.26e-04       1.45e+03    \n",
      "      351            395        4.7870e+02      1.48e-01       5.21e-04       1.06e+03    \n",
      "      352            396        4.7846e+02      2.34e-01       3.24e-04       1.45e+03    \n",
      "      353            397        4.7832e+02      1.46e-01       5.20e-04       1.05e+03    \n",
      "      354            398        4.7808e+02      2.34e-01       3.22e-04       1.44e+03    \n",
      "      355            399        4.7794e+02      1.44e-01       5.19e-04       1.04e+03    \n",
      "      356            400        4.7770e+02      2.33e-01       3.20e-04       1.43e+03    \n",
      "      357            401        4.7756e+02      1.42e-01       5.18e-04       1.04e+03    \n",
      "      358            402        4.7733e+02      2.32e-01       3.18e-04       1.43e+03    \n",
      "      359            403        4.7719e+02      1.40e-01       5.18e-04       1.03e+03    \n",
      "      360            404        4.7696e+02      2.31e-01       3.16e-04       1.42e+03    \n",
      "      361            405        4.7682e+02      1.38e-01       5.17e-04       1.02e+03    \n",
      "      362            406        4.7659e+02      2.31e-01       3.15e-04       1.41e+03    \n",
      "      363            407        4.7645e+02      1.36e-01       5.16e-04       1.02e+03    \n",
      "      364            408        4.7622e+02      2.30e-01       3.13e-04       1.41e+03    \n",
      "      365            409        4.7609e+02      1.35e-01       5.15e-04       1.01e+03    \n",
      "      366            410        4.7586e+02      2.29e-01       3.11e-04       1.40e+03    \n",
      "      367            411        4.7573e+02      1.33e-01       5.15e-04       1.00e+03    \n",
      "      368            412        4.7550e+02      2.29e-01       3.09e-04       1.40e+03    \n",
      "      369            413        4.7537e+02      1.31e-01       5.14e-04       9.96e+02    \n",
      "      370            414        4.7514e+02      2.28e-01       3.07e-04       1.39e+03    \n",
      "      371            415        4.7501e+02      1.29e-01       5.13e-04       9.89e+02    \n",
      "      372            416        4.7478e+02      2.27e-01       3.06e-04       1.38e+03    \n",
      "      373            417        4.7466e+02      1.27e-01       5.12e-04       9.83e+02    \n",
      "      374            418        4.7443e+02      2.27e-01       3.04e-04       1.38e+03    \n",
      "      375            419        4.7430e+02      1.26e-01       5.12e-04       9.76e+02    \n",
      "      376            420        4.7408e+02      2.26e-01       3.02e-04       1.37e+03    \n",
      "      377            421        4.7395e+02      1.24e-01       5.11e-04       9.70e+02    \n",
      "      378            422        4.7373e+02      2.26e-01       3.01e-04       1.37e+03    \n",
      "      379            423        4.7361e+02      1.22e-01       5.10e-04       9.63e+02    \n",
      "      380            424        4.7338e+02      2.25e-01       2.99e-04       1.36e+03    \n",
      "      381            425        4.7326e+02      1.20e-01       5.10e-04       9.57e+02    \n",
      "      382            426        4.7304e+02      2.24e-01       2.98e-04       1.35e+03    \n",
      "      383            427        4.7292e+02      1.19e-01       5.09e-04       9.51e+02    \n",
      "      384            428        4.7269e+02      2.24e-01       2.96e-04       1.35e+03    \n",
      "      385            429        4.7258e+02      1.17e-01       5.08e-04       9.44e+02    \n",
      "      386            430        4.7235e+02      2.23e-01       2.94e-04       1.34e+03    \n",
      "      387            431        4.7224e+02      1.15e-01       5.07e-04       9.38e+02    \n",
      "      388            432        4.7201e+02      2.23e-01       2.93e-04       1.34e+03    \n",
      "      389            433        4.7190e+02      1.14e-01       5.07e-04       9.32e+02    \n",
      "      390            434        4.7168e+02      2.22e-01       2.91e-04       1.33e+03    \n",
      "      391            435        4.7157e+02      1.12e-01       5.06e-04       9.26e+02    \n",
      "      392            436        4.7134e+02      2.22e-01       2.90e-04       1.33e+03    \n",
      "      393            437        4.7123e+02      1.10e-01       5.05e-04       9.20e+02    \n",
      "      394            438        4.7101e+02      2.21e-01       2.88e-04       1.32e+03    \n",
      "      395            439        4.7090e+02      1.09e-01       5.05e-04       9.14e+02    \n",
      "      396            440        4.7068e+02      2.21e-01       2.87e-04       1.31e+03    \n",
      "      397            441        4.7058e+02      1.07e-01       5.04e-04       9.08e+02    \n",
      "      398            442        4.7036e+02      2.20e-01       2.85e-04       1.31e+03    \n",
      "      399            443        4.7025e+02      1.06e-01       5.04e-04       9.02e+02    \n",
      "      400            444        4.7003e+02      2.20e-01       2.84e-04       1.30e+03    \n",
      "      401            445        4.6993e+02      1.04e-01       5.03e-04       8.96e+02    \n",
      "      402            446        4.6971e+02      2.19e-01       2.82e-04       1.30e+03    \n",
      "      403            447        4.6960e+02      1.03e-01       5.02e-04       8.90e+02    \n",
      "      404            448        4.6939e+02      2.19e-01       2.81e-04       1.29e+03    \n",
      "      405            449        4.6929e+02      1.01e-01       5.02e-04       8.84e+02    \n",
      "      406            450        4.6907e+02      2.18e-01       2.79e-04       1.29e+03    \n",
      "      407            451        4.6897e+02      9.94e-02       5.01e-04       8.78e+02    \n",
      "      408            452        4.6875e+02      2.18e-01       2.78e-04       1.28e+03    \n",
      "      409            453        4.6865e+02      9.79e-02       5.00e-04       8.73e+02    \n",
      "      410            454        4.6843e+02      2.17e-01       2.77e-04       1.28e+03    \n",
      "      411            455        4.6834e+02      9.64e-02       5.00e-04       8.67e+02    \n",
      "      412            456        4.6812e+02      2.17e-01       2.75e-04       1.27e+03    \n",
      "      413            457        4.6803e+02      9.49e-02       4.99e-04       8.61e+02    \n",
      "      414            458        4.6781e+02      2.16e-01       2.74e-04       1.26e+03    \n",
      "      415            459        4.6772e+02      9.34e-02       4.98e-04       8.56e+02    \n",
      "      416            460        4.6750e+02      2.16e-01       2.73e-04       1.26e+03    \n",
      "      417            461        4.6741e+02      9.19e-02       4.98e-04       8.50e+02    \n",
      "      418            462        4.6719e+02      2.16e-01       2.71e-04       1.25e+03    \n",
      "      419            463        4.6710e+02      9.04e-02       4.97e-04       8.45e+02    \n"
     ]
    }
   ],
   "source": [
    "# Define the objective function\n",
    "def cost_function(x, strikes, mkt_prices):\n",
    "    sigm, lamb, p, eta1, eta2 = x\n",
    "    KOU = Kou_pricer(S0=S0, K=strikes, ttm=T, r=r, sigma=sigm, lambd=lamb, p=p, eta1=eta1, eta2=eta2, exercise=exercise)\n",
    "    sq_err = np.sum(p_weights*(KOU.closed_formula_put(strikes) - mkt_prices)**2)\n",
    "    return sq_err\n",
    "\n",
    "start2=time.time()\n",
    "kou2 = scpo.least_squares(cost_function, x0, args=(put_strikes, put_prices),  method='trf', bounds=bounds, verbose=2)\n",
    "end2=time.time()"
   ],
   "metadata": {
    "collapsed": false,
    "is_executing": true,
    "ExecuteTime": {
     "start_time": "2023-09-16T23:25:01.812487600Z"
    }
   }
  },
  {
   "cell_type": "code",
   "execution_count": null,
   "outputs": [],
   "source": [
    "kou_params2 = [round(p,4) for p in kou2.x[:5]]"
   ],
   "metadata": {
    "collapsed": false,
    "is_executing": true
   }
  },
  {
   "cell_type": "code",
   "execution_count": null,
   "outputs": [],
   "source": [
    "# print('WEIGHTED OPT: CURVE_FIT (trf)')\n",
    "# print(f'> Calibrated Volatlity [σ] = {kou_params1[0]} \\t {kou_params1[0] * 100}%')\n",
    "# print('> Calibrated Jump intensity [λ] = ', kou_params1[1])\n",
    "# print(f'> Calibrated Upward Jump probability [p] = {kou_params1[2]}, [q] = {round(1 - kou_params1[2], 2)}')\n",
    "# print('> Calibrated Rate of Exp. 1  [η_1] = ', kou_params1[3])\n",
    "# print('> Calibrated Rate of Exp. 2  [η_2] = ', kou_params1[4])\n",
    "# print(f'TIME ELAPSED: {end1-start1} sec')"
   ],
   "metadata": {
    "collapsed": false,
    "is_executing": true
   }
  },
  {
   "cell_type": "code",
   "execution_count": null,
   "outputs": [],
   "source": [
    "print('METHOD 2: Least-squares')\n",
    "print(f'> Calibrated Volatlity [σ] = {round(kou_params2[0],4)} \\t {round(kou_params2[0]*100,2)}%')\n",
    "print('> Calibrated Jump intensity [λ] = ', round(kou_params2[1],2))\n",
    "print(f'> Calibrated Upward Jump probability [p] = {round(kou_params2[2],2)}, [q] = {round(1-kou_params2[2],2)}')\n",
    "print('> Calibrated Rate of Exp. 1  [η_1] = ', round(kou_params2[3],2))\n",
    "print('> Calibrated Rate of Exp. 2  [η_2] = ', round(kou_params2[4],2))\n",
    "print(f'TIME ELAPSED:  {round(end2-start2,2)} sec')"
   ],
   "metadata": {
    "collapsed": false,
    "is_executing": true
   }
  },
  {
   "cell_type": "code",
   "execution_count": null,
   "outputs": [],
   "source": [
    "#print(kou_params1)\n",
    "print(kou_params2)\n",
    "puts_kou_params_aapl = kou_params2\n",
    "%store puts_kou_params_aapl"
   ],
   "metadata": {
    "collapsed": false,
    "is_executing": true
   }
  },
  {
   "cell_type": "markdown",
   "source": [
    "### Variance Gamma\n"
   ],
   "metadata": {
    "collapsed": false
   }
  },
  {
   "cell_type": "code",
   "execution_count": null,
   "outputs": [],
   "source": [
    "x0 = [0.2, -0.3, 0.1]   # initial guess: [σ, θ, v]\n",
    "bounds = ( [1e-3, -5, 0], [3, 5, 10] )"
   ],
   "metadata": {
    "collapsed": false,
    "is_executing": true
   }
  },
  {
   "cell_type": "markdown",
   "source": [
    "##### Method 1. CURVE FIT (Bounds)"
   ],
   "metadata": {
    "collapsed": false
   }
  },
  {
   "cell_type": "code",
   "execution_count": null,
   "outputs": [],
   "source": [
    "def f_VG(strikes, sigmax, thetax, nux):\n",
    "    VGamma = VG_pricer(S0=S0, K=None, ttm=T, r=r, q=0, sigma=sigmax, theta=thetax, nu=nux, exercise='put')\n",
    "    vg_prices = []\n",
    "    for k in strikes:\n",
    "        vg_prices.append(VGamma.closed_formula_put(k))\n",
    "    return vg_prices\n",
    "\n",
    "start1 = time.time()\n",
    "vg1 = scpo.curve_fit(f_VG, put_strikes, put_prices, p0=x0, bounds=bounds, sigma=p_weights)\n",
    "end1 = time.time()\n",
    "\n",
    "vg_params1 = [round(p,4) for p in vg1[0][:3]]"
   ],
   "metadata": {
    "collapsed": false,
    "is_executing": true
   }
  },
  {
   "cell_type": "markdown",
   "source": [
    "##### Method 2. LEAST-SQUARES (Trust Region Reflective, Bounds)"
   ],
   "metadata": {
    "collapsed": false
   }
  },
  {
   "cell_type": "code",
   "execution_count": null,
   "outputs": [],
   "source": [
    "def cost_function(x, strikes, mkt_prices):\n",
    "    sigma, theta, nu = x\n",
    "    VG = VG_pricer(S0, None, T, r, q, sigma, theta, nu, exercise)\n",
    "    prices = []\n",
    "    for k in strikes:\n",
    "        prices.append(VG.closed_formula_put(k))\n",
    "    sq_err = np.sum(p_weights*(prices - mkt_prices)**2)\n",
    "    return sq_err\n",
    "\n",
    "start2=time.time()\n",
    "vg2 = scpo.least_squares(cost_function, x0, args=(put_strikes, put_prices),  method='trf', bounds=bounds, verbose=2, loss='soft_l1')\n",
    "end2=time.time()\n",
    "\n",
    "vg_params2 = [round(p,4) for p in vg2.x[:3]]"
   ],
   "metadata": {
    "collapsed": false,
    "is_executing": true
   }
  },
  {
   "cell_type": "code",
   "execution_count": null,
   "outputs": [],
   "source": [
    "print('WEIGHTED OPT: CURVE_FIT (trf)')\n",
    "print(f'> Calibrated Volatlity [σ] = {vg_params1[0]}, \\t {round(vg_params1[0]*100,2)}%')\n",
    "print('> Calibrated mean rate gamma process [θ] = ', vg_params1[1])\n",
    "print('> Calibrated variance rate gamma process [v]= ', vg_params1[2])\n",
    "print(f'TIME ELAPSED:  {round(end1-start1,2)} sec')\n",
    "\n",
    "print('METHOD 1: LEAST-SQUARES (trf)')\n",
    "print(f'> Calibrated Volatlity [σ] = {vg_params2[0]}, \\t {round(vg_params2[0]*100,2)}%')\n",
    "print('> Calibrated mean rate gamma process [θ] = ', vg_params2[1])\n",
    "print('> Calibrated variance rate gamma process [v]= ', vg_params2[2])\n",
    "print(f'TIME ELAPSED:  {round(end2-start2,2)} sec')"
   ],
   "metadata": {
    "collapsed": false,
    "is_executing": true
   }
  },
  {
   "cell_type": "code",
   "execution_count": null,
   "outputs": [],
   "source": [
    "print(vg_params1)\n",
    "print(vg_params2)\n",
    "puts_vg_params_aapl = vg_params2\n",
    "%store puts_vg_params_aapl"
   ],
   "metadata": {
    "collapsed": false,
    "is_executing": true
   }
  },
  {
   "cell_type": "markdown",
   "source": [
    "### Reprice of options using calibrated parameters\n",
    "The following code snippet aims to find the best parameters for each model, minimizing the difference between the monte carlo prices and the market prices of **call** and **put** options."
   ],
   "metadata": {
    "collapsed": false
   }
  },
  {
   "cell_type": "code",
   "execution_count": null,
   "outputs": [],
   "source": [
    "days = 252\n",
    "paths = 5000\n",
    "\n",
    "put_calib_prices = pd.DataFrame({\n",
    "    'STRIKE': puts['STRIKE'],    # array of K for call options\n",
    "    'MKT_BID': puts['P_BID'],\n",
    "    'MKT_MID': puts['P_Midpoint'],\n",
    "    'MKT_ASK': puts['P_ASK'],\n",
    "\n",
    "})\n",
    "print(f'MARKET PRICES. STARTING DATE = 20-01-2016. EXPIRY = 1YEAR. \\n\\n{put_calib_prices}')"
   ],
   "metadata": {
    "collapsed": false,
    "is_executing": true
   }
  },
  {
   "cell_type": "markdown",
   "source": [
    "#### Merton Jump Diffusion model"
   ],
   "metadata": {
    "collapsed": false
   }
  },
  {
   "cell_type": "code",
   "execution_count": null,
   "outputs": [],
   "source": [
    "#mert_params2 = [0.1267, 0.951, -0.1182, 0.2691]\n",
    "sigma, lambd, meanJ, stdJ = mert_params2\n",
    "MertonCAL = Merton_pricer(S0, None, T, r, q, sigma, lambd, meanJ, stdJ, exercise)\n",
    "SMerton_CAL = MertonCAL.MertonPath(days, paths)\n",
    "\n",
    "avg_payoffs = []\n",
    "for K in put_strikes:\n",
    "    payoffs = []        # stores here the payoff for each path, for a specific couple K1-K2\n",
    "    for St in SMerton_CAL[-1]:\n",
    "        payoffs.append(MertonCAL.payoff_put(K, St))\n",
    "    avg_payoffs.append(np.mean(payoffs))\n",
    "\n",
    "merton_mc_prices = np.zeros(len(put_calib_prices))\n",
    "merton_cf_prices = np.zeros(len(put_calib_prices))\n",
    "\n",
    "for index in range(len(put_calib_prices)):\n",
    "    merton_mc_prices[index] = np.exp(-r*T)* avg_payoffs[index]\n",
    "    merton_cf_prices[index] = MertonCAL.closed_formula_put(put_strikes[index])\n",
    "\n",
    "put_calib_prices['MERTON MC'] = merton_mc_prices\n",
    "put_calib_prices['MERTON CF'] = merton_cf_prices\n",
    "\n",
    "print(put_calib_prices)"
   ],
   "metadata": {
    "collapsed": false,
    "is_executing": true
   }
  },
  {
   "cell_type": "code",
   "execution_count": null,
   "outputs": [],
   "source": [
    "#kou_params2 = [0.1278, 0.948, 0.3549, 5.7153, 4.232]\n",
    "sigma, lambd, p, eta1, eta2 = kou_params2\n",
    "KouCAL = Kou_pricer(S0, None, T, r, sigma, lambd, p, eta1, eta2, exercise)\n",
    "SKou_CAL = KouCAL.KouPath(days, paths)\n",
    "\n",
    "avg_payoffs = []\n",
    "for k in put_strikes:\n",
    "    payoffs = []        # stores here the payoff for each path, for a specific couple K1-K2\n",
    "    for St in SKou_CAL[-1]:\n",
    "        payoffs.append(KouCAL.payoff_put(k, St))\n",
    "    avg_payoffs.append(np.mean(payoffs))\n",
    "\n",
    "kou_mc_prices = np.zeros(len(put_calib_prices))\n",
    "kou_cf_prices = np.zeros(len(put_calib_prices))\n",
    "\n",
    "for index in range(len(put_calib_prices)):\n",
    "    kou_mc_prices[index] = np.exp(-r*T)* avg_payoffs[index]\n",
    "    kou_cf_prices[index] = KouCAL.closed_formula_put(put_strikes[index])\n",
    "\n",
    "put_calib_prices['KOU MC'] = kou_mc_prices\n",
    "put_calib_prices['KOU CF'] = kou_cf_prices\n",
    "\n",
    "print(put_calib_prices)"
   ],
   "metadata": {
    "collapsed": false,
    "is_executing": true
   }
  },
  {
   "cell_type": "code",
   "execution_count": null,
   "outputs": [],
   "source": [
    "# vg_params2 = [0.2442, 0.1983, 0.9451]\n",
    "sigma, theta, nu = vg_params2\n",
    "VGCAL = VG_pricer(S0, None, T, r, q, sigma, theta, nu, exercise)\n",
    "SVarGamma_CAL = VGCAL.VarianceGammaPath1(days, paths)\n",
    "\n",
    "avg_payoffs = []\n",
    "for K in put_strikes:\n",
    "    payoffs = []        # stores here the payoff for each path, for a specific couple K1-K2\n",
    "    for St in SVarGamma_CAL[-1]:\n",
    "        payoffs.append(VGCAL.payoff_put(K, St))\n",
    "    avg_payoffs.append(np.mean(payoffs))\n",
    "\n",
    "vg_mc_prices = np.zeros(len(put_calib_prices))\n",
    "vg_cf_prices = np.zeros(len(put_calib_prices))\n",
    "\n",
    "for index in range(len(put_calib_prices)):\n",
    "    vg_mc_prices[index] = np.exp(-r*T)* avg_payoffs[index]\n",
    "    vg_cf_prices[index] = VGCAL.closed_formula_put(put_strikes[index])\n",
    "\n",
    "put_calib_prices['VG MC'] = vg_mc_prices\n",
    "put_calib_prices['VG CF'] = vg_cf_prices\n",
    "\n",
    "print(put_calib_prices)"
   ],
   "metadata": {
    "collapsed": false,
    "is_executing": true
   }
  },
  {
   "cell_type": "markdown",
   "source": [
    "### Visualize calibration results\n",
    "#### Closed Formulas Option pricing"
   ],
   "metadata": {
    "collapsed": false
   }
  },
  {
   "cell_type": "code",
   "execution_count": null,
   "outputs": [],
   "source": [
    "fig = plt.figure(figsize=(20, 4))\n",
    "ax1 = fig.add_subplot(131)\n",
    "ax2 = fig.add_subplot(132)\n",
    "ax3 = fig.add_subplot(133)\n",
    "ax1.plot(put_strikes, put_prices, \".\", label=\"midpoint\")\n",
    "ax2.plot(put_strikes, put_prices, \".\", label=\"midpoint\")\n",
    "ax3.plot(put_strikes, put_prices, \".\", label=\"midpoint\")\n",
    "ax1.plot(put_strikes, merton_cf_prices, label=\"Merton\")\n",
    "ax2.plot(put_strikes, kou_cf_prices, label=\"Kou\")\n",
    "ax3.plot(put_strikes, vg_cf_prices, label=\"VG\")\n",
    "ax1.set_title(\"Merton model\")\n",
    "ax2.set_title(\"Kou model\")\n",
    "ax3.set_title(\"VG model\")\n",
    "ax1.set_xlabel(\"strike\")\n",
    "ax2.set_xlabel(\"strike\")\n",
    "ax3.set_xlabel(\"strike\")\n",
    "ax1.legend()\n",
    "ax2.legend()\n",
    "ax3.legend()\n",
    "plt.show()"
   ],
   "metadata": {
    "collapsed": false,
    "is_executing": true
   }
  },
  {
   "cell_type": "markdown",
   "source": [
    "\n",
    "#### Monte Carlo option pricing"
   ],
   "metadata": {
    "collapsed": false
   }
  },
  {
   "cell_type": "code",
   "execution_count": null,
   "outputs": [],
   "source": [
    "fig = plt.figure(figsize=(17, 4))\n",
    "ax1 = fig.add_subplot(131)\n",
    "ax2 = fig.add_subplot(132)\n",
    "ax3 = fig.add_subplot(133)\n",
    "ax1.plot(put_strikes, put_prices, \".\", label=\"midpoint\")\n",
    "ax2.plot(put_strikes, put_prices, \".\", label=\"midpoint\")\n",
    "ax3.plot(put_strikes, put_prices, \".\", label=\"midpoint\")\n",
    "ax1.plot(put_strikes, merton_mc_prices, label=\"Merton\")\n",
    "ax2.plot(put_strikes, kou_mc_prices, label=\"Kou\")\n",
    "ax3.plot(put_strikes, vg_mc_prices, label=\"VG\")\n",
    "ax1.set_title(\"Merton model\")\n",
    "ax2.set_title(\"Kou model\")\n",
    "ax3.set_title(\"VG model\")\n",
    "ax1.set_xlabel(\"strike\")\n",
    "ax2.set_xlabel(\"strike\")\n",
    "ax3.set_xlabel(\"strike\")\n",
    "ax1.legend()\n",
    "ax2.legend()\n",
    "ax3.legend()\n",
    "plt.show()"
   ],
   "metadata": {
    "collapsed": false,
    "is_executing": true
   }
  },
  {
   "cell_type": "code",
   "execution_count": null,
   "outputs": [],
   "source": [],
   "metadata": {
    "collapsed": false,
    "is_executing": true
   }
  },
  {
   "cell_type": "code",
   "execution_count": null,
   "outputs": [],
   "source": [],
   "metadata": {
    "collapsed": false,
    "is_executing": true
   }
  }
 ],
 "metadata": {
  "kernelspec": {
   "display_name": "Python 3",
   "language": "python",
   "name": "python3"
  },
  "language_info": {
   "codemirror_mode": {
    "name": "ipython",
    "version": 2
   },
   "file_extension": ".py",
   "mimetype": "text/x-python",
   "name": "python",
   "nbconvert_exporter": "python",
   "pygments_lexer": "ipython2",
   "version": "2.7.6"
  }
 },
 "nbformat": 4,
 "nbformat_minor": 0
}
