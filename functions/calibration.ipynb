{
 "cells": [
  {
   "cell_type": "markdown",
   "source": [
    "# Calibration based on One Touch Knock Out Daily Cliquet Options"
   ],
   "metadata": {
    "collapsed": false
   }
  },
  {
   "cell_type": "code",
   "execution_count": 1,
   "metadata": {
    "collapsed": true
   },
   "outputs": [],
   "source": [
    "import numpy as np\n",
    "import pandas as pd\n",
    "from datetime import datetime"
   ]
  },
  {
   "cell_type": "markdown",
   "source": [
    "Let's initialize the values found in StockAnalysis module: scale factors for otko option prices and spx values."
   ],
   "metadata": {
    "collapsed": false
   }
  },
  {
   "cell_type": "code",
   "execution_count": 2,
   "outputs": [
    {
     "name": "stdout",
     "output_type": "stream",
     "text": [
      "           Date         Open         High          Low        Close   \n",
      "0    2016-01-20  1876.180054  1876.180054  1812.290039  1859.329956  \\\n",
      "1    2016-01-21  1861.459961  1889.849976  1848.979980  1868.989990   \n",
      "2    2016-01-22  1877.400024  1908.849976  1877.400024  1906.900024   \n",
      "3    2016-01-25  1906.280029  1906.280029  1875.969971  1877.079956   \n",
      "4    2016-01-26  1878.790039  1906.729980  1878.790039  1903.630005   \n",
      "..          ...          ...          ...          ...          ...   \n",
      "500  2018-01-12  2770.179932  2787.850098  2769.639893  2786.239990   \n",
      "501  2018-01-16  2798.959961  2807.540039  2768.639893  2776.419922   \n",
      "502  2018-01-17  2784.989990  2807.040039  2778.379883  2802.560059   \n",
      "503  2018-01-18  2802.399902  2805.830078  2792.560059  2798.030029   \n",
      "504  2018-01-19  2802.600098  2810.330078  2798.080078  2810.300049   \n",
      "\n",
      "         Volume  \n",
      "0    6416070000  \n",
      "1    5078810000  \n",
      "2    4901760000  \n",
      "3    4401380000  \n",
      "4    4357940000  \n",
      "..          ...  \n",
      "500  3587220000  \n",
      "501  4362880000  \n",
      "502  3790340000  \n",
      "503  3703300000  \n",
      "504  3724230000  \n",
      "\n",
      "[505 rows x 6 columns]\n"
     ]
    }
   ],
   "source": [
    "scale_factors = {\n",
    "    'TSLA': 10.35,\n",
    "    'META': 6.23,\n",
    "    'AAPL': 7.84\n",
    "}\n",
    "\n",
    "spx_data = pd.read_csv('data/SPX_data.csv')\n",
    "print(spx_data)"
   ],
   "metadata": {
    "collapsed": false
   }
  },
  {
   "cell_type": "markdown",
   "source": [
    "Let's retrieve the prices for One Touch Knock Out options on the SPX."
   ],
   "metadata": {
    "collapsed": false
   }
  },
  {
   "cell_type": "code",
   "execution_count": 3,
   "outputs": [
    {
     "name": "stdout",
     "output_type": "stream",
     "text": [
      "Otko Prices: \n",
      "\n",
      "  Starting date Stock Name Expiry  K1  K2      BID      ASK\n",
      "0    20/01/2016        SPX     6M  75   0  0.0850%  0.1000%\n",
      "1    20/01/2016        SPX     6M  70   0  0.0400%  0.0500%\n",
      "2    20/01/2016        SPX     6M  85  75  0.1700%  0.2000%\n",
      "3    20/01/2016        SPX     6M  80  70  0.1200%  0.1400%\n",
      "4    20/01/2016        SPX     6M  90  80  0.2400%  0.2700%\n",
      "\n",
      " SPX Closing Value on 20/01/2016: 1859.33\n"
     ]
    }
   ],
   "source": [
    "otko_spx = pd.read_csv('data\\otko_prices_spx.csv')\n",
    "print(f'Otko Prices: \\n')\n",
    "print(otko_spx.head())\n",
    "SPX_S0 = spx_data.loc[spx_data['Date'] == '2016-01-20', 'Close'].values[0]\n",
    "print(f'\\n SPX Closing Value on 20/01/2016:', round(SPX_S0, 2))"
   ],
   "metadata": {
    "collapsed": false
   }
  },
  {
   "cell_type": "markdown",
   "source": [
    "The BID(%) and ASK(%) prices are in percentages. This means that it will be $BID*S(0)$ and $ASK*S(0)$ where S(0) is the SPX market value at the starting date."
   ],
   "metadata": {
    "collapsed": false
   }
  },
  {
   "cell_type": "markdown",
   "source": [
    "## Refactoring dataset"
   ],
   "metadata": {
    "collapsed": false
   }
  },
  {
   "cell_type": "code",
   "execution_count": 4,
   "outputs": [
    {
     "name": "stdout",
     "output_type": "stream",
     "text": [
      "  Starting date Stock Name Expiry  K1  K2  BID(%)  ASK(%)       BID   \n",
      "0    20/01/2016        SPX     1Y  75   0    0.17    0.20  3.160861  \\\n",
      "1    20/01/2016        SPX     1Y  70   0    0.08    0.10  1.487464   \n",
      "2    20/01/2016        SPX     1Y  85  75    0.34    0.40  6.321722   \n",
      "3    20/01/2016        SPX     1Y  80  70    0.24    0.28  4.462392   \n",
      "4    20/01/2016        SPX     1Y  90  80    0.48    0.54  8.924784   \n",
      "\n",
      "         ASK  Midpoint  \n",
      "0   3.718660  3.439760  \n",
      "1   1.859330  1.673397  \n",
      "2   7.437320  6.879521  \n",
      "3   5.206124  4.834258  \n",
      "4  10.040382  9.482583  \n"
     ]
    }
   ],
   "source": [
    "# Remove the percentage symbol and convert the columns to float\n",
    "otko_spx['BID'] = otko_spx['BID'].str.rstrip('%').astype(float)\n",
    "otko_spx['ASK'] = otko_spx['ASK'].str.rstrip('%').astype(float)\n",
    "\n",
    "# Refactor to 1YEAR expiry\n",
    "otko_spx['Expiry'] = '1Y'\n",
    "otko_spx['BID'] = 2 * otko_spx['BID']\n",
    "otko_spx['ASK'] = 2 * otko_spx['ASK']\n",
    "\n",
    "# Rename the columns\n",
    "otko_spx.rename(columns={'BID': 'BID(%)', 'ASK': 'ASK(%)'}, inplace=True)\n",
    "\n",
    "otko_spx['BID'] = otko_spx['BID(%)'] * SPX_S0 / 100\n",
    "otko_spx['ASK'] = otko_spx['ASK(%)'] * SPX_S0 / 100\n",
    "\n",
    "otko_spx['Midpoint'] = otko_spx['BID'] + (abs(otko_spx['BID'] - otko_spx['ASK']) / 2)\n",
    "\n",
    "otko_spx.to_csv('data/otko_spx_1year.csv')\n",
    "print(otko_spx)"
   ],
   "metadata": {
    "collapsed": false
   }
  },
  {
   "cell_type": "code",
   "execution_count": null,
   "outputs": [],
   "source": [],
   "metadata": {
    "collapsed": false
   }
  }
 ],
 "metadata": {
  "kernelspec": {
   "display_name": "Python 3",
   "language": "python",
   "name": "python3"
  },
  "language_info": {
   "codemirror_mode": {
    "name": "ipython",
    "version": 2
   },
   "file_extension": ".py",
   "mimetype": "text/x-python",
   "name": "python",
   "nbconvert_exporter": "python",
   "pygments_lexer": "ipython2",
   "version": "2.7.6"
  }
 },
 "nbformat": 4,
 "nbformat_minor": 0
}
