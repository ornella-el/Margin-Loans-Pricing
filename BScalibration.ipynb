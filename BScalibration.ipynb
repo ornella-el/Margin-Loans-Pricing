{
 "cells": [
  {
   "cell_type": "markdown",
   "source": [
    "#### Black and Scholes parameters calibration\n",
    "The **Implied Volatility** is that value $\\\\sigma$ that must be inserted into the Black-Scholes (BS) formula in order to retrieve the option price quoted in the market:\n",
    "$$ BS(S, K, T, r, \\sigma) = P  $$\n",
    "where $S$ is the underlying spot price, $K$ is the strike, $T$ time to maturity, $r$ risk-free interest rate and $P$ the option price quoted in the market. All these quantities are **observable**.,\n"
   ],
   "metadata": {
    "collapsed": false
   }
  },
  {
   "cell_type": "code",
   "execution_count": 38,
   "metadata": {
    "collapsed": true
   },
   "outputs": [],
   "source": [
    "from functions.BSpricer import BS_pricer\n",
    "\n",
    "import numpy as np\n",
    "import pandas as pd\n",
    "import scipy as scp\n",
    "import scipy.stats as ss\n",
    "import scipy.optimize as scpo\n"
   ]
  },
  {
   "cell_type": "markdown",
   "source": [
    "Let's retrieve the historic prices for european call and put options starting from 2016-01-20 and expiring 1 year later."
   ],
   "metadata": {
    "collapsed": false
   }
  },
  {
   "cell_type": "code",
   "execution_count": 39,
   "outputs": [],
   "source": [
    "df_call = pd.read_csv('data/options_spx_call_2016.csv')\n",
    "df_put = pd.read_csv('data/options_spx_put_2016.csv')\n",
    "\n",
    "df_call['C_Midpoint'] = abs(df_call['C_BID'] + df_call['C_ASK'] )/ 2\n",
    "df_put['P_Midpoint'] = abs(df_put['P_BID'] + df_put['P_ASK'] )/ 2\n",
    "\n",
    "r = 0.1\n",
    "sigma = 0.5\n",
    "S0 = df_call.iloc[0]['UNDERLYING_LAST']\n",
    "T = 1\n",
    "call_strikes = df_call['STRIKE']    # array of K\n",
    "put_strikes = df_put['STRIKE']\n",
    "exercise = 'european'\n",
    "\n",
    "call_prices = df_call['C_Midpoint']\n",
    "put_prices = df_put['P_Midpoint']\n",
    "\n",
    "#print(df_call)"
   ],
   "metadata": {
    "collapsed": false
   }
  },
  {
   "cell_type": "markdown",
   "source": [
    "Now let's initialize an object of class BS_pricer which is able to find the theoretical price of the options, given the parameters."
   ],
   "metadata": {
    "collapsed": false
   }
  },
  {
   "cell_type": "code",
   "execution_count": 40,
   "outputs": [
    {
     "name": "stdout",
     "output_type": "stream",
     "text": [
      "[519.26777644 506.92447997 494.84144177 483.01557869 471.44368111\n",
      " 460.12242595 449.04838896 438.21805656 427.62783697 417.27407075\n",
      " 407.15304077 397.26098163 387.5940885  378.14852541]\n"
     ]
    }
   ],
   "source": [
    "BS = BS_pricer(S0=S0, r=r, sigma=sigma, ttm=T, exercise=exercise, K=None, type_o='call')\n",
    "\n",
    "BS_call_prices = np.zeros_like(call_strikes, dtype=float)\n",
    "for i, K in enumerate(call_strikes):\n",
    "    BS_call_prices[i] = BS.closed_formula(K)\n",
    "\n",
    "print(BS_call_prices)\n"
   ],
   "metadata": {
    "collapsed": false
   }
  },
  {
   "cell_type": "markdown",
   "source": [
    "PUT PRICES:"
   ],
   "metadata": {
    "collapsed": false
   }
  },
  {
   "cell_type": "code",
   "execution_count": 41,
   "outputs": [
    {
     "name": "stdout",
     "output_type": "stream",
     "text": [
      "    QUOTE_DATE  UNDERLYING_LAST EXPIRE_DATE   P_BID   P_ASK  STRIKE   \n",
      "0   2016-01-20          1859.48  2017-01-20  108.51  111.60  1700.0  \\\n",
      "1   2016-01-20          1859.48  2017-01-20  116.50  119.70  1725.0   \n",
      "2   2016-01-20          1859.48  2017-01-20  124.40  127.61  1750.0   \n",
      "3   2016-01-20          1859.48  2017-01-20  133.01  136.30  1775.0   \n",
      "4   2016-01-20          1859.48  2017-01-20  142.29  145.61  1800.0   \n",
      "5   2016-01-20          1859.48  2017-01-20  152.01  155.41  1825.0   \n",
      "6   2016-01-20          1859.48  2017-01-20  162.39  165.89  1850.0   \n",
      "7   2016-01-20          1859.48  2017-01-20  173.29  176.81  1875.0   \n",
      "8   2016-01-20          1859.48  2017-01-20  184.89  188.51  1900.0   \n",
      "9   2016-01-20          1859.48  2017-01-20  197.10  200.70  1925.0   \n",
      "10  2016-01-20          1859.48  2017-01-20  210.00  213.70  1950.0   \n",
      "11  2016-01-20          1859.48  2017-01-20  223.59  227.39  1975.0   \n",
      "12  2016-01-20          1859.48  2017-01-20  237.90  241.80  2000.0   \n",
      "13  2016-01-20          1859.48  2017-01-20  252.99  257.00  2025.0   \n",
      "\n",
      "    P_Midpoint  \n",
      "0      110.055  \n",
      "1      118.100  \n",
      "2      126.005  \n",
      "3      134.655  \n",
      "4      143.950  \n",
      "5      153.710  \n",
      "6      164.140  \n",
      "7      175.050  \n",
      "8      186.700  \n",
      "9      198.900  \n",
      "10     211.850  \n",
      "11     225.490  \n",
      "12     239.850  \n",
      "13     254.995  \n",
      "[198.0113871  208.28902609 218.82692333 229.6219957  240.67103358\n",
      " 251.97071386 263.51761232 275.30821538 287.33893124 299.60610047\n",
      " 312.10600594 324.83488225 337.78892457 350.96429694]\n"
     ]
    }
   ],
   "source": [
    "print(df_put)\n",
    "\n",
    "BS = BS_pricer(S0=S0, r=r, sigma=sigma, ttm=T, exercise=exercise, K=None, type_o='put')\n",
    "\n",
    "BS_put_prices = np.zeros_like(put_strikes, dtype=float)\n",
    "for i, K in enumerate(put_strikes):\n",
    "    BS_put_prices[i] = BS.closed_formula(K)\n",
    "\n",
    "print(BS_put_prices)"
   ],
   "metadata": {
    "collapsed": false
   }
  },
  {
   "cell_type": "markdown",
   "source": [],
   "metadata": {
    "collapsed": false
   }
  },
  {
   "cell_type": "code",
   "execution_count": 42,
   "outputs": [],
   "source": [
    "def implied_volatility(price, S0, K, T, r, type_o, method, disp=True ):\n",
    "    \"\"\" Returns Implied volatility\n",
    "        methods:  fsolve (default) or brent\n",
    "    \"\"\"\n",
    "\n",
    "    def obj_fun(vol):\n",
    "        return price - BS.BlackScholes(type_o=type_o, S0=S0, K=K, ttm=T, r=r, sigma=vol)\n",
    "\n",
    "    if method == 'brent':\n",
    "        x, r = scpo.brentq( obj_fun, a=1e-15, b=500, full_output=True)\n",
    "        if r.converged:\n",
    "            return x\n",
    "\n",
    "    if method =='fsolve':\n",
    "        X0 = [0.03, 0.08, 0.1, 0.15, 0.2, 0.3, 0.5, 1, 2]   # set of initial guess points for imp.vol.\n",
    "        for x0 in X0:\n",
    "            x, _, solved, _ = scpo.fsolve(obj_fun, x0, full_output=True, xtol=1e-8)\n",
    "            if solved == 1:\n",
    "                return x[0]\n",
    "\n",
    "    if method == 'newton':\n",
    "        x0 = 0.3\n",
    "\n",
    "        def obj_fun_squared(vol):\n",
    "            return obj_fun(vol)**2\n",
    "\n",
    "        # print('[σ] = ', x0, \"Objective Function value: \", obj_fun_squared(x0))\n",
    "        result = scpo.fmin(obj_fun_squared, x0, ftol=1e-10, full_output=0, disp=0)\n",
    "        return result[0]\n",
    "\n",
    "\n",
    "    if disp:\n",
    "        return -1"
   ],
   "metadata": {
    "collapsed": false
   }
  },
  {
   "cell_type": "markdown",
   "source": [
    "Let's now compute the implied volatilities from the true market prices *call_prices*."
   ],
   "metadata": {
    "collapsed": false
   }
  },
  {
   "cell_type": "code",
   "execution_count": 43,
   "outputs": [
    {
     "name": "stdout",
     "output_type": "stream",
     "text": [
      "[0.014999999999999208, 0.014999999999999208, 0.014999999999999208, 0.014999999999999208, 0.014999999999999208, 0.014765624999999208, 0.007499999999999188, 0.007499999999999188, 0.007499999999999188, 0.007499999999999188, 0.0037499999999991776, 0.04645385742187429, 0.057302570343016904, 0.0637830448150628]\n"
     ]
    }
   ],
   "source": [
    "IVs = []\n",
    "for i in range(len(call_prices)):\n",
    "    IVs.append(implied_volatility(call_prices[i], S0=S0, K=call_strikes[i], T=T, r=r, type_o='call', method='newton') )\n",
    "\n",
    "print(IVs)\n"
   ],
   "metadata": {
    "collapsed": false
   }
  },
  {
   "cell_type": "code",
   "execution_count": 44,
   "outputs": [
    {
     "name": "stdout",
     "output_type": "stream",
     "text": [
      "[0.35229363616294335, 0.35188275048143236, 0.3506820060204052, 0.35017099337544816, 0.35014355407871467, 0.3502933001043605, 0.35092279692388245, 0.3517300535108708, 0.3530935523924029, 0.3547251036727889, 0.35691040121733497, 0.3595598971892729, 0.3627175829845052, 0.36647819300704754]\n"
     ]
    }
   ],
   "source": [
    "IVs = []\n",
    "for i in range(len(put_prices)):\n",
    "    IVs.append(implied_volatility(put_prices[i], S0=S0, K=put_strikes[i], T=T, r=r, type_o='put', method='fsolve') )\n",
    "\n",
    "print(IVs)\n"
   ],
   "metadata": {
    "collapsed": false
   }
  },
  {
   "cell_type": "code",
   "execution_count": null,
   "outputs": [],
   "source": [],
   "metadata": {
    "collapsed": false
   }
  }
 ],
 "metadata": {
  "kernelspec": {
   "display_name": "Python 3",
   "language": "python",
   "name": "python3"
  },
  "language_info": {
   "codemirror_mode": {
    "name": "ipython",
    "version": 2
   },
   "file_extension": ".py",
   "mimetype": "text/x-python",
   "name": "python",
   "nbconvert_exporter": "python",
   "pygments_lexer": "ipython2",
   "version": "2.7.6"
  }
 },
 "nbformat": 4,
 "nbformat_minor": 0
}
