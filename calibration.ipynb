{
 "cells": [
  {
   "cell_type": "markdown",
   "source": [
    "# Calibration based on One Touch KnockOut Daily Cliquet Options"
   ],
   "metadata": {
    "collapsed": false
   }
  },
  {
   "cell_type": "code",
   "execution_count": 6,
   "metadata": {
    "collapsed": true
   },
   "outputs": [],
   "source": [
    "import numpy as np\n",
    "import pandas as pd\n",
    "from datetime import datetime"
   ]
  },
  {
   "cell_type": "code",
   "execution_count": 10,
   "outputs": [
    {
     "name": "stdout",
     "output_type": "stream",
     "text": [
      "Otko Prices Dataframe: \n",
      "\n",
      "  Starting date Stock Name Expiry  Unnamed: 3  Unnamed: 4      BID      ASK\n",
      "0    20/01/2016        SPX     6M          75           0  0.0850%  0.1000%\n",
      "1    20/01/2016        SPX     6M          70           0  0.0400%  0.0500%\n",
      "2    20/01/2016        SPX     6M          85          75  0.1700%  0.2000%\n",
      "3    20/01/2016        SPX     6M          80          70  0.1200%  0.1400%\n",
      "4    20/01/2016        SPX     6M          90          80  0.2400%  0.2700%\n"
     ]
    }
   ],
   "source": [
    "otko_spx = pd.read_csv('data\\otko_prices_spx.csv')\n",
    "print(f'Otko Prices Dataframe: \\n')\n",
    "print(otko_spx.head())"
   ],
   "metadata": {
    "collapsed": false
   }
  },
  {
   "cell_type": "code",
   "execution_count": 11,
   "outputs": [
    {
     "name": "stdout",
     "output_type": "stream",
     "text": [
      "0    20/01/2016\n",
      "1    20/01/2016\n",
      "2    20/01/2016\n",
      "3    20/01/2016\n",
      "4    20/01/2016\n",
      "Name: Starting date, dtype: object\n"
     ]
    }
   ],
   "source": [
    "print(otko_spx['Starting date'])"
   ],
   "metadata": {
    "collapsed": false
   }
  },
  {
   "cell_type": "markdown",
   "source": [
    "## Mid price calibration"
   ],
   "metadata": {
    "collapsed": false
   }
  },
  {
   "cell_type": "code",
   "execution_count": 12,
   "outputs": [
    {
     "name": "stdout",
     "output_type": "stream",
     "text": [
      "  Starting date Stock Name Expiry  Unnamed: 3  Unnamed: 4  BID(%)  ASK(%)   \n",
      "0    20/01/2016        SPX     6M          75           0   0.085    0.10  \\\n",
      "1    20/01/2016        SPX     6M          70           0   0.040    0.05   \n",
      "2    20/01/2016        SPX     6M          85          75   0.170    0.20   \n",
      "3    20/01/2016        SPX     6M          80          70   0.120    0.14   \n",
      "4    20/01/2016        SPX     6M          90          80   0.240    0.27   \n",
      "\n",
      "      MID  \n",
      "0  0.0925  \n",
      "1  0.0450  \n",
      "2  0.1850  \n",
      "3  0.1300  \n",
      "4  0.2550  \n"
     ]
    }
   ],
   "source": [
    "# Remove the percentage symbol and convert the columns to float\n",
    "otko_spx['BID'] = otko_spx['BID'].str.rstrip('%').astype(float)\n",
    "otko_spx['ASK'] = otko_spx['ASK'].str.rstrip('%').astype(float)\n",
    "\n",
    "# Rename the columns\n",
    "otko_spx.rename(columns={'BID': 'BID(%)', 'ASK': 'ASK(%)'}, inplace=True)\n",
    "\n",
    "otko_spx['MID'] = abs(otko_spx['BID(%)'] + otko_spx['ASK(%)']) / 2\n",
    "\n",
    "print(otko_spx)"
   ],
   "metadata": {
    "collapsed": false
   }
  },
  {
   "cell_type": "code",
   "execution_count": null,
   "outputs": [],
   "source": [],
   "metadata": {
    "collapsed": false
   }
  },
  {
   "cell_type": "code",
   "execution_count": null,
   "outputs": [],
   "source": [],
   "metadata": {
    "collapsed": false
   }
  }
 ],
 "metadata": {
  "kernelspec": {
   "display_name": "Python 3",
   "language": "python",
   "name": "python3"
  },
  "language_info": {
   "codemirror_mode": {
    "name": "ipython",
    "version": 2
   },
   "file_extension": ".py",
   "mimetype": "text/x-python",
   "name": "python",
   "nbconvert_exporter": "python",
   "pygments_lexer": "ipython2",
   "version": "2.7.6"
  }
 },
 "nbformat": 4,
 "nbformat_minor": 0
}
